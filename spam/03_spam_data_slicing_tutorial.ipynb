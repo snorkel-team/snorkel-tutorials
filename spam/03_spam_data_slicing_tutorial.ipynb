{
 "cells": [
  {
   "cell_type": "markdown",
   "metadata": {},
   "source": [
    "# ✂️ Snorkel Intro Tutorial: _Data Slicing_\n",
    "\n",
    "In real-world applications, some model outcomes are often more important than others — e.g. vulnerable cyclist detections in an autonomous driving task, or, in our running **spam** application, potentially malicious link redirects to external websites.\n",
    "\n",
    "Traditional machine learning systems optimize for overall quality, which may be too coarse-grained.\n",
    "Models that achieve high overall performance might produce unacceptable failure rates on critical slices of the data — data subsets that might correspond to vulnerable cyclist detection in an autonomous driving task, or in our running spam detection application, external links to potentially malicious websites.\n",
    "\n",
    "In this tutorial, we introduce _Slicing Functions (SFs)_ as a programming interface to:\n",
    "1. **Monitor** application-critical data slices\n",
    "2. **Improve model performance** on slices"
   ]
  },
  {
   "cell_type": "markdown",
   "metadata": {},
   "source": [
    "First, we'll set up our notebook for reproducibility and proper logging."
   ]
  },
  {
   "cell_type": "code",
   "execution_count": 1,
   "metadata": {},
   "outputs": [],
   "source": [
    "import logging\n",
    "import os\n",
    "import pandas as pd\n",
    "from snorkel.utils import set_seed\n",
    "\n",
    "# For reproducibility\n",
    "os.environ[\"PYTHONHASHSEED\"] = \"0\"\n",
    "set_seed(111)\n",
    "\n",
    "# Make sure we're running from the spam/ directory\n",
    "if os.path.basename(os.getcwd()) == \"snorkel-tutorials\":\n",
    "    os.chdir(\"spam\")\n",
    "\n",
    "# To visualize logs\n",
    "logger = logging.getLogger()\n",
    "logger.setLevel(logging.WARNING)\n",
    "\n",
    "# Show full columns for viewing data\n",
    "pd.set_option(\"display.max_colwidth\", -1)"
   ]
  },
  {
   "cell_type": "markdown",
   "metadata": {},
   "source": [
    "_Note:_ this tutorial differs from the labeling tutorial in that we use ground truth labels in the train split for demo purposes.\n",
    "SFs are intended to be used *after the training set has already been labeled* by LFs (or by hand) in the trainind data pipeline."
   ]
  },
  {
   "cell_type": "code",
   "execution_count": 2,
   "metadata": {
    "lines_to_next_cell": 2
   },
   "outputs": [
    {
     "data": {
      "text/html": [
       "<div>\n",
       "<style scoped>\n",
       "    .dataframe tbody tr th:only-of-type {\n",
       "        vertical-align: middle;\n",
       "    }\n",
       "\n",
       "    .dataframe tbody tr th {\n",
       "        vertical-align: top;\n",
       "    }\n",
       "\n",
       "    .dataframe thead th {\n",
       "        text-align: right;\n",
       "    }\n",
       "</style>\n",
       "<table border=\"1\" class=\"dataframe\">\n",
       "  <thead>\n",
       "    <tr style=\"text-align: right;\">\n",
       "      <th></th>\n",
       "      <th>author</th>\n",
       "      <th>date</th>\n",
       "      <th>text</th>\n",
       "      <th>label</th>\n",
       "      <th>video</th>\n",
       "    </tr>\n",
       "  </thead>\n",
       "  <tbody>\n",
       "    <tr>\n",
       "      <th>0</th>\n",
       "      <td>Alessandro leite</td>\n",
       "      <td>2014-11-05T22:21:36</td>\n",
       "      <td>pls http://www10.vakinha.com.br/VaquinhaE.aspx?e=313327 help me get vip gun  cross fire al﻿</td>\n",
       "      <td>1</td>\n",
       "      <td>1</td>\n",
       "    </tr>\n",
       "    <tr>\n",
       "      <th>1</th>\n",
       "      <td>Salim Tayara</td>\n",
       "      <td>2014-11-02T14:33:30</td>\n",
       "      <td>if your like drones, plz subscribe to Kamal Tayara. He takes videos with  his drone that are absolutely beautiful.﻿</td>\n",
       "      <td>1</td>\n",
       "      <td>1</td>\n",
       "    </tr>\n",
       "    <tr>\n",
       "      <th>2</th>\n",
       "      <td>Phuc Ly</td>\n",
       "      <td>2014-01-20T15:27:47</td>\n",
       "      <td>go here to check the views :3﻿</td>\n",
       "      <td>0</td>\n",
       "      <td>1</td>\n",
       "    </tr>\n",
       "    <tr>\n",
       "      <th>3</th>\n",
       "      <td>DropShotSk8r</td>\n",
       "      <td>2014-01-19T04:27:18</td>\n",
       "      <td>Came here to check the views, goodbye.﻿</td>\n",
       "      <td>0</td>\n",
       "      <td>1</td>\n",
       "    </tr>\n",
       "    <tr>\n",
       "      <th>4</th>\n",
       "      <td>css403</td>\n",
       "      <td>2014-11-07T14:25:48</td>\n",
       "      <td>i am 2,126,492,636 viewer :D﻿</td>\n",
       "      <td>0</td>\n",
       "      <td>1</td>\n",
       "    </tr>\n",
       "  </tbody>\n",
       "</table>\n",
       "</div>"
      ],
      "text/plain": [
       "             author                 date  \\\n",
       "0  Alessandro leite  2014-11-05T22:21:36   \n",
       "1  Salim Tayara      2014-11-02T14:33:30   \n",
       "2  Phuc Ly           2014-01-20T15:27:47   \n",
       "3  DropShotSk8r      2014-01-19T04:27:18   \n",
       "4  css403            2014-11-07T14:25:48   \n",
       "\n",
       "                                                                                                                  text  \\\n",
       "0  pls http://www10.vakinha.com.br/VaquinhaE.aspx?e=313327 help me get vip gun  cross fire al﻿                           \n",
       "1  if your like drones, plz subscribe to Kamal Tayara. He takes videos with  his drone that are absolutely beautiful.﻿   \n",
       "2  go here to check the views :3﻿                                                                                        \n",
       "3  Came here to check the views, goodbye.﻿                                                                               \n",
       "4  i am 2,126,492,636 viewer :D﻿                                                                                         \n",
       "\n",
       "   label  video  \n",
       "0  1      1      \n",
       "1  1      1      \n",
       "2  0      1      \n",
       "3  0      1      \n",
       "4  0      1      "
      ]
     },
     "execution_count": 2,
     "metadata": {},
     "output_type": "execute_result"
    }
   ],
   "source": [
    "from utils import load_spam_dataset\n",
    "\n",
    "df_train, df_valid, df_test = load_spam_dataset(\n",
    "    load_train_labels=True, include_dev=False\n",
    ")\n",
    "\n",
    "df_train.head()"
   ]
  },
  {
   "cell_type": "markdown",
   "metadata": {},
   "source": [
    "## 1. Write slicing functions\n",
    "\n",
    "We leverage *slicing functions* (SFs) — an abstraction that shares syntax with *labeling functions*, which you should already be familiar with.\n",
    "If not, please see the [intro tutorial](https://github.com/snorkel-team/snorkel-tutorials/blob/master/spam/01_spam_tutorial.ipynb).\n",
    "A key difference: whereas labeling functions output labels, slicing functions output binary _masks_ indicating whether an example is in the slice or not."
   ]
  },
  {
   "cell_type": "markdown",
   "metadata": {},
   "source": [
    "In the following cells, we use the [`@slicing_function()`](https://snorkel.readthedocs.io/en/redux/packages/_autosummary/slicing/snorkel.slicing.slicing_function.html#snorkel.slicing.slicing_function) decorator to initialize an SF that identifies shortened links the spam dataset.\n",
    "These links could redirect us to potentially dangerous websites, and we don't want our users to click them!\n",
    "To select the subset of shortened links in our dataset, we write a regex that checks for the commonly-used `.ly` extension.\n",
    "\n",
    "You'll notice that the slicing function is noisily defined — it doesn't represent the ground truth for all short links.\n",
    "Instead, SFs are often heuristics to quickly measure performance over important subsets of the data."
   ]
  },
  {
   "cell_type": "code",
   "execution_count": 3,
   "metadata": {},
   "outputs": [],
   "source": [
    "import re\n",
    "from snorkel.slicing import slicing_function\n",
    "\n",
    "\n",
    "@slicing_function()\n",
    "def short_link(x):\n",
    "    \"\"\"Returns whether text matches common pattern for shortened \".ly\" links.\"\"\"\n",
    "    return bool(re.search(r\"\\w+\\.ly\", x.text))\n",
    "\n",
    "\n",
    "sfs = [short_link]"
   ]
  },
  {
   "cell_type": "markdown",
   "metadata": {},
   "source": [
    "### Visualize slices"
   ]
  },
  {
   "cell_type": "markdown",
   "metadata": {},
   "source": [
    "With a utility function, [`slice_dataframe`](https://snorkel.readthedocs.io/en/redux/packages/_autosummary/slicing/snorkel.slicing.slice_dataframe.html#snorkel.slicing.slice_dataframe), we can visualize examples belonging to this slice in a `pandas.DataFrame`."
   ]
  },
  {
   "cell_type": "code",
   "execution_count": 4,
   "metadata": {},
   "outputs": [
    {
     "name": "stderr",
     "output_type": "stream",
     "text": [
      "\r",
      "  0%|          | 0/120 [00:00<?, ?it/s]"
     ]
    },
    {
     "name": "stderr",
     "output_type": "stream",
     "text": [
      "\r",
      "100%|██████████| 120/120 [00:00<00:00, 17270.58it/s]"
     ]
    },
    {
     "name": "stderr",
     "output_type": "stream",
     "text": [
      "\n"
     ]
    },
    {
     "data": {
      "text/html": [
       "<div>\n",
       "<style scoped>\n",
       "    .dataframe tbody tr th:only-of-type {\n",
       "        vertical-align: middle;\n",
       "    }\n",
       "\n",
       "    .dataframe tbody tr th {\n",
       "        vertical-align: top;\n",
       "    }\n",
       "\n",
       "    .dataframe thead th {\n",
       "        text-align: right;\n",
       "    }\n",
       "</style>\n",
       "<table border=\"1\" class=\"dataframe\">\n",
       "  <thead>\n",
       "    <tr style=\"text-align: right;\">\n",
       "      <th></th>\n",
       "      <th>text</th>\n",
       "      <th>label</th>\n",
       "    </tr>\n",
       "  </thead>\n",
       "  <tbody>\n",
       "    <tr>\n",
       "      <th>280</th>\n",
       "      <td>Being paid to respond to fast paid surveys from home has enabled me to give up working and make more than 4500 bucks monthly.  To read more go to this web site bit.ly\\1bSefQe</td>\n",
       "      <td>1</td>\n",
       "    </tr>\n",
       "    <tr>\n",
       "      <th>192</th>\n",
       "      <td>Meet The Richest Online Marketer  NOW CLICK : bit.ly/make-money-without-adroid</td>\n",
       "      <td>1</td>\n",
       "    </tr>\n",
       "    <tr>\n",
       "      <th>301</th>\n",
       "      <td>coby this USL and past :&lt;br /&gt;&lt;a href=\"http://adf.ly\"&gt;http://adf.ly&lt;/a&gt; /1HmVtX&lt;br /&gt;delete space after y﻿</td>\n",
       "      <td>1</td>\n",
       "    </tr>\n",
       "    <tr>\n",
       "      <th>350</th>\n",
       "      <td>adf.ly / KlD3Y</td>\n",
       "      <td>1</td>\n",
       "    </tr>\n",
       "    <tr>\n",
       "      <th>18</th>\n",
       "      <td>Earn money for being online with 0 efforts!    bit.ly\\14gKvDo</td>\n",
       "      <td>1</td>\n",
       "    </tr>\n",
       "  </tbody>\n",
       "</table>\n",
       "</div>"
      ],
      "text/plain": [
       "                                                                                                                                                                               text  \\\n",
       "280  Being paid to respond to fast paid surveys from home has enabled me to give up working and make more than 4500 bucks monthly.  To read more go to this web site bit.ly\\1bSefQe   \n",
       "192  Meet The Richest Online Marketer  NOW CLICK : bit.ly/make-money-without-adroid                                                                                                   \n",
       "301  coby this USL and past :<br /><a href=\"http://adf.ly\">http://adf.ly</a> /1HmVtX<br />delete space after y﻿                                                                       \n",
       "350  adf.ly / KlD3Y                                                                                                                                                                   \n",
       "18   Earn money for being online with 0 efforts!    bit.ly\\14gKvDo                                                                                                                    \n",
       "\n",
       "     label  \n",
       "280  1      \n",
       "192  1      \n",
       "301  1      \n",
       "350  1      \n",
       "18   1      "
      ]
     },
     "execution_count": 4,
     "metadata": {},
     "output_type": "execute_result"
    }
   ],
   "source": [
    "from snorkel.slicing import slice_dataframe\n",
    "\n",
    "short_link_df = slice_dataframe(df_valid, short_link)\n",
    "short_link_df[[\"text\", \"label\"]]"
   ]
  },
  {
   "cell_type": "markdown",
   "metadata": {},
   "source": [
    "## 2. Train a discriminative model\n",
    "\n",
    "To start, we'll initialize a discriminative model using our [`MultitaskClassifier`](https://snorkel.readthedocs.io/en/redux/packages/_autosummary/classification/snorkel.classification.MultitaskClassifier.html#snorkel.classification.MultitaskClassifier).\n",
    "We'll assume that you are familiar with Snorkel's multitask model — if not, we'd recommend you check out our [Multitask Tutorial](https://github.com/snorkel-team/snorkel-tutorials/blob/master/multitask/multitask_tutorial.ipynb).\n",
    "\n",
    "In this section, we're ignoring slice information for modeling purposes; slices are used solely for monitoring fine-grained performance."
   ]
  },
  {
   "cell_type": "markdown",
   "metadata": {},
   "source": [
    "### Featurize Data\n",
    "\n",
    "First, we'll featurize the data—as you saw in the introductory Spam tutorial, we can extract simple bag of words features and store them as numpy arrays."
   ]
  },
  {
   "cell_type": "code",
   "execution_count": 5,
   "metadata": {},
   "outputs": [],
   "source": [
    "from sklearn.feature_extraction.text import CountVectorizer\n",
    "from utils import df_to_torch_features\n",
    "\n",
    "vectorizer = CountVectorizer(ngram_range=(1, 1))\n",
    "X_train, Y_train = df_to_torch_features(vectorizer, df_train, fit_train=True)\n",
    "X_valid, Y_valid = df_to_torch_features(vectorizer, df_valid, fit_train=False)\n",
    "X_test, Y_test = df_to_torch_features(vectorizer, df_test, fit_train=False)"
   ]
  },
  {
   "cell_type": "markdown",
   "metadata": {},
   "source": [
    "### Create DataLoaders\n",
    "\n",
    "Next, we'll use the extracted Tensors to initialize a [`DictDataLoader`](https://snorkel.readthedocs.io/en/redux/packages/_autosummary/classification/snorkel.classification.DictDataLoader.html) — as a quick recap, this is a Snorkel-specific class that inherits from the common PyTorch class and supports multiple data fields in the `X_dict` and labels in the `Y_dict`.\n",
    "\n",
    "In this task, we'd like to store the bag-of-words `bow_features` in our `X_dict`, and we have one set of labels (for now) correpsonding to the `spam_task`."
   ]
  },
  {
   "cell_type": "code",
   "execution_count": 6,
   "metadata": {},
   "outputs": [],
   "source": [
    "from utils import create_dict_dataloader\n",
    "\n",
    "BATCH_SIZE = 32\n",
    "\n",
    "\n",
    "dl_train = create_dict_dataloader(\n",
    "    X_train, Y_train, split=\"train\", batch_size=BATCH_SIZE, shuffle=True\n",
    ")\n",
    "dl_valid = create_dict_dataloader(\n",
    "    X_valid, Y_valid, split=\"valid\", batch_size=BATCH_SIZE, shuffle=False\n",
    ")\n",
    "dl_test = create_dict_dataloader(\n",
    "    X_test, Y_test, split=\"test\", batch_size=BATCH_SIZE, shuffle=False\n",
    ")"
   ]
  },
  {
   "cell_type": "markdown",
   "metadata": {},
   "source": [
    "We can inspect our datasets to confirm that they have the appropriate fields."
   ]
  },
  {
   "cell_type": "code",
   "execution_count": 7,
   "metadata": {},
   "outputs": [
    {
     "data": {
      "text/plain": [
       "DictDataset(name=spam_dataset, X_keys=['bow_features'], Y_keys=['spam_task'])"
      ]
     },
     "execution_count": 7,
     "metadata": {},
     "output_type": "execute_result"
    }
   ],
   "source": [
    "dl_valid.dataset"
   ]
  },
  {
   "cell_type": "markdown",
   "metadata": {},
   "source": [
    "### Define [`MultitaskClassifier`](https://snorkel.readthedocs.io/en/redux/packages/_autosummary/classification/snorkel.classification.MultitaskClassifier.html)\n",
    "\n",
    "We define a simple Multi-Layer Perceptron (MLP) architecture to learn from the `bow_features`.\n",
    "We do so by initializing a `spam_task` using Snorkel's [`Task`](https://snorkel.readthedocs.io/en/redux/packages/_autosummary/classification/snorkel.classification.Task.html) API.\n",
    "\n",
    "*We note that it's certainly possible to define an MLP in a simple framework (e.g. `sklearn`'s [`MLPClassifier`](https://scikit-learn.org/stable/modules/generated/sklearn.neural_network.MLPClassifier.html)), but the multitask API will lend us additional flexibility later in the pipeline!*"
   ]
  },
  {
   "cell_type": "code",
   "execution_count": 8,
   "metadata": {},
   "outputs": [],
   "source": [
    "from utils import create_spam_task\n",
    "\n",
    "bow_dim = X_train.shape[1]\n",
    "spam_task = create_spam_task(bow_dim)"
   ]
  },
  {
   "cell_type": "markdown",
   "metadata": {},
   "source": [
    "We'll initialize a  [`MultitaskClassifier`](https://snorkel.readthedocs.io/en/redux/packages/_autosummary/classification/snorkel.classification.MultitaskClassifier.html) with the `spam_task` we've created, initialize a corresponding [`Trainer`](https://snorkel.readthedocs.io/en/redux/packages/_autosummary/classification/snorkel.classification.Trainer.html), and `fit` to our dataloaders!"
   ]
  },
  {
   "cell_type": "code",
   "execution_count": 9,
   "metadata": {},
   "outputs": [
    {
     "name": "stderr",
     "output_type": "stream",
     "text": [
      "\r",
      "Epoch 0::   0%|          | 0/50 [00:00<?, ?it/s]"
     ]
    },
    {
     "name": "stderr",
     "output_type": "stream",
     "text": [
      "\r",
      "Epoch 0::   0%|          | 0/50 [00:00<?, ?it/s, model/all/train/loss=0.691, model/all/train/lr=0.0001]"
     ]
    },
    {
     "name": "stderr",
     "output_type": "stream",
     "text": [
      "\r",
      "Epoch 0::   2%|▏         | 1/50 [00:00<00:17,  2.87it/s, model/all/train/loss=0.691, model/all/train/lr=0.0001]"
     ]
    },
    {
     "name": "stderr",
     "output_type": "stream",
     "text": [
      "\r",
      "Epoch 0::   2%|▏         | 1/50 [00:00<00:17,  2.87it/s, model/all/train/loss=0.691, model/all/train/lr=0.0001]"
     ]
    },
    {
     "name": "stderr",
     "output_type": "stream",
     "text": [
      "\r",
      "Epoch 0::   4%|▍         | 2/50 [00:00<00:14,  3.23it/s, model/all/train/loss=0.691, model/all/train/lr=0.0001]"
     ]
    },
    {
     "name": "stderr",
     "output_type": "stream",
     "text": [
      "\r",
      "Epoch 0::   4%|▍         | 2/50 [00:00<00:14,  3.23it/s, model/all/train/loss=0.69, model/all/train/lr=0.0001] "
     ]
    },
    {
     "name": "stderr",
     "output_type": "stream",
     "text": [
      "\r",
      "Epoch 0::   6%|▌         | 3/50 [00:00<00:13,  3.55it/s, model/all/train/loss=0.69, model/all/train/lr=0.0001]"
     ]
    },
    {
     "name": "stderr",
     "output_type": "stream",
     "text": [
      "\r",
      "Epoch 0::   6%|▌         | 3/50 [00:01<00:13,  3.55it/s, model/all/train/loss=0.689, model/all/train/lr=0.0001]"
     ]
    },
    {
     "name": "stderr",
     "output_type": "stream",
     "text": [
      "\r",
      "Epoch 0::   8%|▊         | 4/50 [00:01<00:12,  3.81it/s, model/all/train/loss=0.689, model/all/train/lr=0.0001]"
     ]
    },
    {
     "name": "stderr",
     "output_type": "stream",
     "text": [
      "\r",
      "Epoch 0::   8%|▊         | 4/50 [00:01<00:12,  3.81it/s, model/all/train/loss=0.688, model/all/train/lr=0.0001]"
     ]
    },
    {
     "name": "stderr",
     "output_type": "stream",
     "text": [
      "\r",
      "Epoch 0::  10%|█         | 5/50 [00:01<00:11,  4.05it/s, model/all/train/loss=0.688, model/all/train/lr=0.0001]"
     ]
    },
    {
     "name": "stderr",
     "output_type": "stream",
     "text": [
      "\r",
      "Epoch 0::  10%|█         | 5/50 [00:01<00:11,  4.05it/s, model/all/train/loss=0.684, model/all/train/lr=0.0001]"
     ]
    },
    {
     "name": "stderr",
     "output_type": "stream",
     "text": [
      "\r",
      "Epoch 0::  12%|█▏        | 6/50 [00:01<00:10,  4.12it/s, model/all/train/loss=0.684, model/all/train/lr=0.0001]"
     ]
    },
    {
     "name": "stderr",
     "output_type": "stream",
     "text": [
      "\r",
      "Epoch 0::  12%|█▏        | 6/50 [00:01<00:10,  4.12it/s, model/all/train/loss=0.684, model/all/train/lr=0.0001]"
     ]
    },
    {
     "name": "stderr",
     "output_type": "stream",
     "text": [
      "\r",
      "Epoch 0::  14%|█▍        | 7/50 [00:01<00:10,  4.26it/s, model/all/train/loss=0.684, model/all/train/lr=0.0001]"
     ]
    },
    {
     "name": "stderr",
     "output_type": "stream",
     "text": [
      "\r",
      "Epoch 0::  14%|█▍        | 7/50 [00:01<00:10,  4.26it/s, model/all/train/loss=0.683, model/all/train/lr=0.0001]"
     ]
    },
    {
     "name": "stderr",
     "output_type": "stream",
     "text": [
      "\r",
      "Epoch 0::  16%|█▌        | 8/50 [00:01<00:09,  4.41it/s, model/all/train/loss=0.683, model/all/train/lr=0.0001]"
     ]
    },
    {
     "name": "stderr",
     "output_type": "stream",
     "text": [
      "\r",
      "Epoch 0::  16%|█▌        | 8/50 [00:02<00:09,  4.41it/s, model/all/train/loss=0.681, model/all/train/lr=0.0001]"
     ]
    },
    {
     "name": "stderr",
     "output_type": "stream",
     "text": [
      "\r",
      "Epoch 0::  18%|█▊        | 9/50 [00:02<00:09,  4.53it/s, model/all/train/loss=0.681, model/all/train/lr=0.0001]"
     ]
    },
    {
     "name": "stderr",
     "output_type": "stream",
     "text": [
      "\r",
      "Epoch 0::  18%|█▊        | 9/50 [00:02<00:09,  4.53it/s, model/all/train/loss=0.679, model/all/train/lr=0.0001]"
     ]
    },
    {
     "name": "stderr",
     "output_type": "stream",
     "text": [
      "\r",
      "Epoch 0::  20%|██        | 10/50 [00:02<00:08,  4.62it/s, model/all/train/loss=0.679, model/all/train/lr=0.0001]"
     ]
    },
    {
     "name": "stderr",
     "output_type": "stream",
     "text": [
      "\r",
      "Epoch 0::  20%|██        | 10/50 [00:02<00:08,  4.62it/s, model/all/train/loss=0.676, model/all/train/lr=0.0001]"
     ]
    },
    {
     "name": "stderr",
     "output_type": "stream",
     "text": [
      "\r",
      "Epoch 0::  22%|██▏       | 11/50 [00:02<00:08,  4.60it/s, model/all/train/loss=0.676, model/all/train/lr=0.0001]"
     ]
    },
    {
     "name": "stderr",
     "output_type": "stream",
     "text": [
      "\r",
      "Epoch 0::  22%|██▏       | 11/50 [00:02<00:08,  4.60it/s, model/all/train/loss=0.673, model/all/train/lr=0.0001]"
     ]
    },
    {
     "name": "stderr",
     "output_type": "stream",
     "text": [
      "\r",
      "Epoch 0::  24%|██▍       | 12/50 [00:02<00:08,  4.64it/s, model/all/train/loss=0.673, model/all/train/lr=0.0001]"
     ]
    },
    {
     "name": "stderr",
     "output_type": "stream",
     "text": [
      "\r",
      "Epoch 0::  24%|██▍       | 12/50 [00:02<00:08,  4.64it/s, model/all/train/loss=0.671, model/all/train/lr=0.0001]"
     ]
    },
    {
     "name": "stderr",
     "output_type": "stream",
     "text": [
      "\r",
      "Epoch 0::  26%|██▌       | 13/50 [00:02<00:07,  4.68it/s, model/all/train/loss=0.671, model/all/train/lr=0.0001]"
     ]
    },
    {
     "name": "stderr",
     "output_type": "stream",
     "text": [
      "\r",
      "Epoch 0::  26%|██▌       | 13/50 [00:03<00:07,  4.68it/s, model/all/train/loss=0.667, model/all/train/lr=0.0001]"
     ]
    },
    {
     "name": "stderr",
     "output_type": "stream",
     "text": [
      "\r",
      "Epoch 0::  28%|██▊       | 14/50 [00:03<00:07,  4.69it/s, model/all/train/loss=0.667, model/all/train/lr=0.0001]"
     ]
    },
    {
     "name": "stderr",
     "output_type": "stream",
     "text": [
      "\r",
      "Epoch 0::  28%|██▊       | 14/50 [00:03<00:07,  4.69it/s, model/all/train/loss=0.665, model/all/train/lr=0.0001]"
     ]
    },
    {
     "name": "stderr",
     "output_type": "stream",
     "text": [
      "\r",
      "Epoch 0::  30%|███       | 15/50 [00:03<00:07,  4.71it/s, model/all/train/loss=0.665, model/all/train/lr=0.0001]"
     ]
    },
    {
     "name": "stderr",
     "output_type": "stream",
     "text": [
      "\r",
      "Epoch 0::  30%|███       | 15/50 [00:03<00:07,  4.71it/s, model/all/train/loss=0.663, model/all/train/lr=0.0001]"
     ]
    },
    {
     "name": "stderr",
     "output_type": "stream",
     "text": [
      "\r",
      "Epoch 0::  32%|███▏      | 16/50 [00:03<00:07,  4.72it/s, model/all/train/loss=0.663, model/all/train/lr=0.0001]"
     ]
    },
    {
     "name": "stderr",
     "output_type": "stream",
     "text": [
      "\r",
      "Epoch 0::  32%|███▏      | 16/50 [00:03<00:07,  4.72it/s, model/all/train/loss=0.66, model/all/train/lr=0.0001] "
     ]
    },
    {
     "name": "stderr",
     "output_type": "stream",
     "text": [
      "\r",
      "Epoch 0::  34%|███▍      | 17/50 [00:03<00:06,  4.74it/s, model/all/train/loss=0.66, model/all/train/lr=0.0001]"
     ]
    },
    {
     "name": "stderr",
     "output_type": "stream",
     "text": [
      "\r",
      "Epoch 0::  34%|███▍      | 17/50 [00:03<00:06,  4.74it/s, model/all/train/loss=0.657, model/all/train/lr=0.0001]"
     ]
    },
    {
     "name": "stderr",
     "output_type": "stream",
     "text": [
      "\r",
      "Epoch 0::  36%|███▌      | 18/50 [00:03<00:06,  4.75it/s, model/all/train/loss=0.657, model/all/train/lr=0.0001]"
     ]
    },
    {
     "name": "stderr",
     "output_type": "stream",
     "text": [
      "\r",
      "Epoch 0::  36%|███▌      | 18/50 [00:04<00:06,  4.75it/s, model/all/train/loss=0.657, model/all/train/lr=0.0001]"
     ]
    },
    {
     "name": "stderr",
     "output_type": "stream",
     "text": [
      "\r",
      "Epoch 0::  38%|███▊      | 19/50 [00:04<00:06,  4.74it/s, model/all/train/loss=0.657, model/all/train/lr=0.0001]"
     ]
    },
    {
     "name": "stderr",
     "output_type": "stream",
     "text": [
      "\r",
      "Epoch 0::  38%|███▊      | 19/50 [00:04<00:06,  4.74it/s, model/all/train/loss=0.656, model/all/train/lr=0.0001]"
     ]
    },
    {
     "name": "stderr",
     "output_type": "stream",
     "text": [
      "\r",
      "Epoch 0::  40%|████      | 20/50 [00:04<00:06,  4.70it/s, model/all/train/loss=0.656, model/all/train/lr=0.0001]"
     ]
    },
    {
     "name": "stderr",
     "output_type": "stream",
     "text": [
      "\r",
      "Epoch 0::  40%|████      | 20/50 [00:04<00:06,  4.70it/s, model/all/train/loss=0.654, model/all/train/lr=0.0001]"
     ]
    },
    {
     "name": "stderr",
     "output_type": "stream",
     "text": [
      "\r",
      "Epoch 0::  42%|████▏     | 21/50 [00:04<00:06,  4.66it/s, model/all/train/loss=0.654, model/all/train/lr=0.0001]"
     ]
    },
    {
     "name": "stderr",
     "output_type": "stream",
     "text": [
      "\r",
      "Epoch 0::  42%|████▏     | 21/50 [00:04<00:06,  4.66it/s, model/all/train/loss=0.651, model/all/train/lr=0.0001]"
     ]
    },
    {
     "name": "stderr",
     "output_type": "stream",
     "text": [
      "\r",
      "Epoch 0::  44%|████▍     | 22/50 [00:04<00:05,  4.70it/s, model/all/train/loss=0.651, model/all/train/lr=0.0001]"
     ]
    },
    {
     "name": "stderr",
     "output_type": "stream",
     "text": [
      "\r",
      "Epoch 0::  44%|████▍     | 22/50 [00:05<00:05,  4.70it/s, model/all/train/loss=0.648, model/all/train/lr=0.0001]"
     ]
    },
    {
     "name": "stderr",
     "output_type": "stream",
     "text": [
      "\r",
      "Epoch 0::  46%|████▌     | 23/50 [00:05<00:05,  4.73it/s, model/all/train/loss=0.648, model/all/train/lr=0.0001]"
     ]
    },
    {
     "name": "stderr",
     "output_type": "stream",
     "text": [
      "\r",
      "Epoch 0::  46%|████▌     | 23/50 [00:05<00:05,  4.73it/s, model/all/train/loss=0.646, model/all/train/lr=0.0001]"
     ]
    },
    {
     "name": "stderr",
     "output_type": "stream",
     "text": [
      "\r",
      "Epoch 0::  48%|████▊     | 24/50 [00:05<00:05,  4.75it/s, model/all/train/loss=0.646, model/all/train/lr=0.0001]"
     ]
    },
    {
     "name": "stderr",
     "output_type": "stream",
     "text": [
      "\r",
      "Epoch 0::  48%|████▊     | 24/50 [00:05<00:05,  4.75it/s, model/all/train/loss=0.643, model/all/train/lr=0.0001]"
     ]
    },
    {
     "name": "stderr",
     "output_type": "stream",
     "text": [
      "\r",
      "Epoch 0::  50%|█████     | 25/50 [00:05<00:05,  4.75it/s, model/all/train/loss=0.643, model/all/train/lr=0.0001]"
     ]
    },
    {
     "name": "stderr",
     "output_type": "stream",
     "text": [
      "\r",
      "Epoch 0::  50%|█████     | 25/50 [00:05<00:05,  4.75it/s, model/all/train/loss=0.641, model/all/train/lr=0.0001]"
     ]
    },
    {
     "name": "stderr",
     "output_type": "stream",
     "text": [
      "\r",
      "Epoch 0::  52%|█████▏    | 26/50 [00:05<00:05,  4.75it/s, model/all/train/loss=0.641, model/all/train/lr=0.0001]"
     ]
    },
    {
     "name": "stderr",
     "output_type": "stream",
     "text": [
      "\r",
      "Epoch 0::  52%|█████▏    | 26/50 [00:05<00:05,  4.75it/s, model/all/train/loss=0.64, model/all/train/lr=0.0001] "
     ]
    },
    {
     "name": "stderr",
     "output_type": "stream",
     "text": [
      "\r",
      "Epoch 0::  54%|█████▍    | 27/50 [00:05<00:04,  4.78it/s, model/all/train/loss=0.64, model/all/train/lr=0.0001]"
     ]
    },
    {
     "name": "stderr",
     "output_type": "stream",
     "text": [
      "\r",
      "Epoch 0::  54%|█████▍    | 27/50 [00:06<00:04,  4.78it/s, model/all/train/loss=0.639, model/all/train/lr=0.0001]"
     ]
    },
    {
     "name": "stderr",
     "output_type": "stream",
     "text": [
      "\r",
      "Epoch 0::  56%|█████▌    | 28/50 [00:06<00:04,  4.79it/s, model/all/train/loss=0.639, model/all/train/lr=0.0001]"
     ]
    },
    {
     "name": "stderr",
     "output_type": "stream",
     "text": [
      "\r",
      "Epoch 0::  56%|█████▌    | 28/50 [00:06<00:04,  4.79it/s, model/all/train/loss=0.639, model/all/train/lr=0.0001]"
     ]
    },
    {
     "name": "stderr",
     "output_type": "stream",
     "text": [
      "\r",
      "Epoch 0::  58%|█████▊    | 29/50 [00:06<00:04,  4.83it/s, model/all/train/loss=0.639, model/all/train/lr=0.0001]"
     ]
    },
    {
     "name": "stderr",
     "output_type": "stream",
     "text": [
      "\r",
      "Epoch 0::  58%|█████▊    | 29/50 [00:06<00:04,  4.83it/s, model/all/train/loss=0.636, model/all/train/lr=0.0001]"
     ]
    },
    {
     "name": "stderr",
     "output_type": "stream",
     "text": [
      "\r",
      "Epoch 0::  60%|██████    | 30/50 [00:06<00:04,  4.76it/s, model/all/train/loss=0.636, model/all/train/lr=0.0001]"
     ]
    },
    {
     "name": "stderr",
     "output_type": "stream",
     "text": [
      "\r",
      "Epoch 0::  60%|██████    | 30/50 [00:06<00:04,  4.76it/s, model/all/train/loss=0.634, model/all/train/lr=0.0001]"
     ]
    },
    {
     "name": "stderr",
     "output_type": "stream",
     "text": [
      "\r",
      "Epoch 0::  62%|██████▏   | 31/50 [00:06<00:04,  4.70it/s, model/all/train/loss=0.634, model/all/train/lr=0.0001]"
     ]
    },
    {
     "name": "stderr",
     "output_type": "stream",
     "text": [
      "\r",
      "Epoch 0::  62%|██████▏   | 31/50 [00:06<00:04,  4.70it/s, model/all/train/loss=0.633, model/all/train/lr=0.0001]"
     ]
    },
    {
     "name": "stderr",
     "output_type": "stream",
     "text": [
      "\r",
      "Epoch 0::  64%|██████▍   | 32/50 [00:06<00:03,  4.73it/s, model/all/train/loss=0.633, model/all/train/lr=0.0001]"
     ]
    },
    {
     "name": "stderr",
     "output_type": "stream",
     "text": [
      "\r",
      "Epoch 0::  64%|██████▍   | 32/50 [00:07<00:03,  4.73it/s, model/all/train/loss=0.632, model/all/train/lr=0.0001]"
     ]
    },
    {
     "name": "stderr",
     "output_type": "stream",
     "text": [
      "\r",
      "Epoch 0::  66%|██████▌   | 33/50 [00:07<00:03,  4.73it/s, model/all/train/loss=0.632, model/all/train/lr=0.0001]"
     ]
    },
    {
     "name": "stderr",
     "output_type": "stream",
     "text": [
      "\r",
      "Epoch 0::  66%|██████▌   | 33/50 [00:07<00:03,  4.73it/s, model/all/train/loss=0.632, model/all/train/lr=0.0001]"
     ]
    },
    {
     "name": "stderr",
     "output_type": "stream",
     "text": [
      "\r",
      "Epoch 0::  68%|██████▊   | 34/50 [00:07<00:03,  4.78it/s, model/all/train/loss=0.632, model/all/train/lr=0.0001]"
     ]
    },
    {
     "name": "stderr",
     "output_type": "stream",
     "text": [
      "\r",
      "Epoch 0::  68%|██████▊   | 34/50 [00:07<00:03,  4.78it/s, model/all/train/loss=0.631, model/all/train/lr=0.0001]"
     ]
    },
    {
     "name": "stderr",
     "output_type": "stream",
     "text": [
      "\r",
      "Epoch 0::  70%|███████   | 35/50 [00:07<00:03,  4.76it/s, model/all/train/loss=0.631, model/all/train/lr=0.0001]"
     ]
    },
    {
     "name": "stderr",
     "output_type": "stream",
     "text": [
      "\r",
      "Epoch 0::  70%|███████   | 35/50 [00:07<00:03,  4.76it/s, model/all/train/loss=0.63, model/all/train/lr=0.0001] "
     ]
    },
    {
     "name": "stderr",
     "output_type": "stream",
     "text": [
      "\r",
      "Epoch 0::  72%|███████▏  | 36/50 [00:07<00:02,  4.70it/s, model/all/train/loss=0.63, model/all/train/lr=0.0001]"
     ]
    },
    {
     "name": "stderr",
     "output_type": "stream",
     "text": [
      "\r",
      "Epoch 0::  72%|███████▏  | 36/50 [00:07<00:02,  4.70it/s, model/all/train/loss=0.627, model/all/train/lr=0.0001]"
     ]
    },
    {
     "name": "stderr",
     "output_type": "stream",
     "text": [
      "\r",
      "Epoch 0::  74%|███████▍  | 37/50 [00:07<00:02,  4.74it/s, model/all/train/loss=0.627, model/all/train/lr=0.0001]"
     ]
    },
    {
     "name": "stderr",
     "output_type": "stream",
     "text": [
      "\r",
      "Epoch 0::  74%|███████▍  | 37/50 [00:08<00:02,  4.74it/s, model/all/train/loss=0.624, model/all/train/lr=0.0001]"
     ]
    },
    {
     "name": "stderr",
     "output_type": "stream",
     "text": [
      "\r",
      "Epoch 0::  76%|███████▌  | 38/50 [00:08<00:02,  4.73it/s, model/all/train/loss=0.624, model/all/train/lr=0.0001]"
     ]
    },
    {
     "name": "stderr",
     "output_type": "stream",
     "text": [
      "\r",
      "Epoch 0::  76%|███████▌  | 38/50 [00:08<00:02,  4.73it/s, model/all/train/loss=0.621, model/all/train/lr=0.0001]"
     ]
    },
    {
     "name": "stderr",
     "output_type": "stream",
     "text": [
      "\r",
      "Epoch 0::  78%|███████▊  | 39/50 [00:08<00:02,  4.74it/s, model/all/train/loss=0.621, model/all/train/lr=0.0001]"
     ]
    },
    {
     "name": "stderr",
     "output_type": "stream",
     "text": [
      "\r",
      "Epoch 0::  78%|███████▊  | 39/50 [00:08<00:02,  4.74it/s, model/all/train/loss=0.621, model/all/train/lr=0.0001]"
     ]
    },
    {
     "name": "stderr",
     "output_type": "stream",
     "text": [
      "\r",
      "Epoch 0::  80%|████████  | 40/50 [00:08<00:02,  4.75it/s, model/all/train/loss=0.621, model/all/train/lr=0.0001]"
     ]
    },
    {
     "name": "stderr",
     "output_type": "stream",
     "text": [
      "\r",
      "Epoch 0::  80%|████████  | 40/50 [00:08<00:02,  4.75it/s, model/all/train/loss=0.62, model/all/train/lr=0.0001] "
     ]
    },
    {
     "name": "stderr",
     "output_type": "stream",
     "text": [
      "\r",
      "Epoch 0::  82%|████████▏ | 41/50 [00:08<00:01,  4.79it/s, model/all/train/loss=0.62, model/all/train/lr=0.0001]"
     ]
    },
    {
     "name": "stderr",
     "output_type": "stream",
     "text": [
      "\r",
      "Epoch 0::  82%|████████▏ | 41/50 [00:09<00:01,  4.79it/s, model/all/train/loss=0.619, model/all/train/lr=0.0001]"
     ]
    },
    {
     "name": "stderr",
     "output_type": "stream",
     "text": [
      "\r",
      "Epoch 0::  84%|████████▍ | 42/50 [00:09<00:01,  4.80it/s, model/all/train/loss=0.619, model/all/train/lr=0.0001]"
     ]
    },
    {
     "name": "stderr",
     "output_type": "stream",
     "text": [
      "\r",
      "Epoch 0::  84%|████████▍ | 42/50 [00:09<00:01,  4.80it/s, model/all/train/loss=0.617, model/all/train/lr=0.0001]"
     ]
    },
    {
     "name": "stderr",
     "output_type": "stream",
     "text": [
      "\r",
      "Epoch 0::  86%|████████▌ | 43/50 [00:09<00:01,  4.82it/s, model/all/train/loss=0.617, model/all/train/lr=0.0001]"
     ]
    },
    {
     "name": "stderr",
     "output_type": "stream",
     "text": [
      "\r",
      "Epoch 0::  86%|████████▌ | 43/50 [00:09<00:01,  4.82it/s, model/all/train/loss=0.617, model/all/train/lr=0.0001]"
     ]
    },
    {
     "name": "stderr",
     "output_type": "stream",
     "text": [
      "\r",
      "Epoch 0::  88%|████████▊ | 44/50 [00:09<00:01,  4.74it/s, model/all/train/loss=0.617, model/all/train/lr=0.0001]"
     ]
    },
    {
     "name": "stderr",
     "output_type": "stream",
     "text": [
      "\r",
      "Epoch 0::  88%|████████▊ | 44/50 [00:09<00:01,  4.74it/s, model/all/train/loss=0.615, model/all/train/lr=0.0001]"
     ]
    },
    {
     "name": "stderr",
     "output_type": "stream",
     "text": [
      "\r",
      "Epoch 0::  90%|█████████ | 45/50 [00:09<00:01,  4.75it/s, model/all/train/loss=0.615, model/all/train/lr=0.0001]"
     ]
    },
    {
     "name": "stderr",
     "output_type": "stream",
     "text": [
      "\r",
      "Epoch 0::  90%|█████████ | 45/50 [00:09<00:01,  4.75it/s, model/all/train/loss=0.614, model/all/train/lr=0.0001]"
     ]
    },
    {
     "name": "stderr",
     "output_type": "stream",
     "text": [
      "\r",
      "Epoch 0::  92%|█████████▏| 46/50 [00:09<00:00,  4.76it/s, model/all/train/loss=0.614, model/all/train/lr=0.0001]"
     ]
    },
    {
     "name": "stderr",
     "output_type": "stream",
     "text": [
      "\r",
      "Epoch 0::  92%|█████████▏| 46/50 [00:10<00:00,  4.76it/s, model/all/train/loss=0.614, model/all/train/lr=0.0001]"
     ]
    },
    {
     "name": "stderr",
     "output_type": "stream",
     "text": [
      "\r",
      "Epoch 0::  94%|█████████▍| 47/50 [00:10<00:00,  4.80it/s, model/all/train/loss=0.614, model/all/train/lr=0.0001]"
     ]
    },
    {
     "name": "stderr",
     "output_type": "stream",
     "text": [
      "\r",
      "Epoch 0::  94%|█████████▍| 47/50 [00:10<00:00,  4.80it/s, model/all/train/loss=0.613, model/all/train/lr=0.0001]"
     ]
    },
    {
     "name": "stderr",
     "output_type": "stream",
     "text": [
      "\r",
      "Epoch 0::  96%|█████████▌| 48/50 [00:10<00:00,  4.82it/s, model/all/train/loss=0.613, model/all/train/lr=0.0001]"
     ]
    },
    {
     "name": "stderr",
     "output_type": "stream",
     "text": [
      "\r",
      "Epoch 0::  96%|█████████▌| 48/50 [00:10<00:00,  4.82it/s, model/all/train/loss=0.611, model/all/train/lr=0.0001]"
     ]
    },
    {
     "name": "stderr",
     "output_type": "stream",
     "text": [
      "\r",
      "Epoch 0::  98%|█████████▊| 49/50 [00:10<00:00,  4.76it/s, model/all/train/loss=0.611, model/all/train/lr=0.0001]"
     ]
    },
    {
     "name": "stderr",
     "output_type": "stream",
     "text": [
      "\r",
      "Epoch 0::  98%|█████████▊| 49/50 [00:10<00:00,  4.76it/s, model/all/train/loss=0.61, model/all/train/lr=0.0001, spam_task/spam_dataset/valid/accuracy=0.9, spam_task/spam_dataset/valid/f1=0.898]"
     ]
    },
    {
     "name": "stderr",
     "output_type": "stream",
     "text": [
      "\r",
      "Epoch 0:: 100%|██████████| 50/50 [00:10<00:00,  4.61it/s, model/all/train/loss=0.61, model/all/train/lr=0.0001, spam_task/spam_dataset/valid/accuracy=0.9, spam_task/spam_dataset/valid/f1=0.898]"
     ]
    },
    {
     "name": "stderr",
     "output_type": "stream",
     "text": [
      "\n",
      "\r",
      "Epoch 1::   0%|          | 0/50 [00:00<?, ?it/s]"
     ]
    },
    {
     "name": "stderr",
     "output_type": "stream",
     "text": [
      "\r",
      "Epoch 1::   0%|          | 0/50 [00:00<?, ?it/s, model/all/train/loss=0.523, model/all/train/lr=0.0001, spam_task/spam_dataset/valid/accuracy=0.9, spam_task/spam_dataset/valid/f1=0.898]"
     ]
    },
    {
     "name": "stderr",
     "output_type": "stream",
     "text": [
      "\r",
      "Epoch 1::   2%|▏         | 1/50 [00:00<00:11,  4.18it/s, model/all/train/loss=0.523, model/all/train/lr=0.0001, spam_task/spam_dataset/valid/accuracy=0.9, spam_task/spam_dataset/valid/f1=0.898]"
     ]
    },
    {
     "name": "stderr",
     "output_type": "stream",
     "text": [
      "\r",
      "Epoch 1::   2%|▏         | 1/50 [00:00<00:11,  4.18it/s, model/all/train/loss=0.514, model/all/train/lr=0.0001, spam_task/spam_dataset/valid/accuracy=0.9, spam_task/spam_dataset/valid/f1=0.898]"
     ]
    },
    {
     "name": "stderr",
     "output_type": "stream",
     "text": [
      "\r",
      "Epoch 1::   4%|▍         | 2/50 [00:00<00:11,  4.28it/s, model/all/train/loss=0.514, model/all/train/lr=0.0001, spam_task/spam_dataset/valid/accuracy=0.9, spam_task/spam_dataset/valid/f1=0.898]"
     ]
    },
    {
     "name": "stderr",
     "output_type": "stream",
     "text": [
      "\r",
      "Epoch 1::   4%|▍         | 2/50 [00:00<00:11,  4.28it/s, model/all/train/loss=0.501, model/all/train/lr=0.0001, spam_task/spam_dataset/valid/accuracy=0.9, spam_task/spam_dataset/valid/f1=0.898]"
     ]
    },
    {
     "name": "stderr",
     "output_type": "stream",
     "text": [
      "\r",
      "Epoch 1::   6%|▌         | 3/50 [00:00<00:10,  4.39it/s, model/all/train/loss=0.501, model/all/train/lr=0.0001, spam_task/spam_dataset/valid/accuracy=0.9, spam_task/spam_dataset/valid/f1=0.898]"
     ]
    },
    {
     "name": "stderr",
     "output_type": "stream",
     "text": [
      "\r",
      "Epoch 1::   6%|▌         | 3/50 [00:00<00:10,  4.39it/s, model/all/train/loss=0.501, model/all/train/lr=0.0001, spam_task/spam_dataset/valid/accuracy=0.9, spam_task/spam_dataset/valid/f1=0.898]"
     ]
    },
    {
     "name": "stderr",
     "output_type": "stream",
     "text": [
      "\r",
      "Epoch 1::   8%|▊         | 4/50 [00:00<00:10,  4.48it/s, model/all/train/loss=0.501, model/all/train/lr=0.0001, spam_task/spam_dataset/valid/accuracy=0.9, spam_task/spam_dataset/valid/f1=0.898]"
     ]
    },
    {
     "name": "stderr",
     "output_type": "stream",
     "text": [
      "\r",
      "Epoch 1::   8%|▊         | 4/50 [00:01<00:10,  4.48it/s, model/all/train/loss=0.507, model/all/train/lr=0.0001, spam_task/spam_dataset/valid/accuracy=0.9, spam_task/spam_dataset/valid/f1=0.898]"
     ]
    },
    {
     "name": "stderr",
     "output_type": "stream",
     "text": [
      "\r",
      "Epoch 1::  10%|█         | 5/50 [00:01<00:09,  4.52it/s, model/all/train/loss=0.507, model/all/train/lr=0.0001, spam_task/spam_dataset/valid/accuracy=0.9, spam_task/spam_dataset/valid/f1=0.898]"
     ]
    },
    {
     "name": "stderr",
     "output_type": "stream",
     "text": [
      "\r",
      "Epoch 1::  10%|█         | 5/50 [00:01<00:09,  4.52it/s, model/all/train/loss=0.509, model/all/train/lr=0.0001, spam_task/spam_dataset/valid/accuracy=0.9, spam_task/spam_dataset/valid/f1=0.898]"
     ]
    },
    {
     "name": "stderr",
     "output_type": "stream",
     "text": [
      "\r",
      "Epoch 1::  12%|█▏        | 6/50 [00:01<00:09,  4.60it/s, model/all/train/loss=0.509, model/all/train/lr=0.0001, spam_task/spam_dataset/valid/accuracy=0.9, spam_task/spam_dataset/valid/f1=0.898]"
     ]
    },
    {
     "name": "stderr",
     "output_type": "stream",
     "text": [
      "\r",
      "Epoch 1::  12%|█▏        | 6/50 [00:01<00:09,  4.60it/s, model/all/train/loss=0.506, model/all/train/lr=0.0001, spam_task/spam_dataset/valid/accuracy=0.9, spam_task/spam_dataset/valid/f1=0.898]"
     ]
    },
    {
     "name": "stderr",
     "output_type": "stream",
     "text": [
      "\r",
      "Epoch 1::  14%|█▍        | 7/50 [00:01<00:09,  4.66it/s, model/all/train/loss=0.506, model/all/train/lr=0.0001, spam_task/spam_dataset/valid/accuracy=0.9, spam_task/spam_dataset/valid/f1=0.898]"
     ]
    },
    {
     "name": "stderr",
     "output_type": "stream",
     "text": [
      "\r",
      "Epoch 1::  14%|█▍        | 7/50 [00:01<00:09,  4.66it/s, model/all/train/loss=0.491, model/all/train/lr=0.0001, spam_task/spam_dataset/valid/accuracy=0.9, spam_task/spam_dataset/valid/f1=0.898]"
     ]
    },
    {
     "name": "stderr",
     "output_type": "stream",
     "text": [
      "\r",
      "Epoch 1::  16%|█▌        | 8/50 [00:01<00:08,  4.67it/s, model/all/train/loss=0.491, model/all/train/lr=0.0001, spam_task/spam_dataset/valid/accuracy=0.9, spam_task/spam_dataset/valid/f1=0.898]"
     ]
    },
    {
     "name": "stderr",
     "output_type": "stream",
     "text": [
      "\r",
      "Epoch 1::  16%|█▌        | 8/50 [00:01<00:08,  4.67it/s, model/all/train/loss=0.489, model/all/train/lr=0.0001, spam_task/spam_dataset/valid/accuracy=0.9, spam_task/spam_dataset/valid/f1=0.898]"
     ]
    },
    {
     "name": "stderr",
     "output_type": "stream",
     "text": [
      "\r",
      "Epoch 1::  18%|█▊        | 9/50 [00:01<00:08,  4.68it/s, model/all/train/loss=0.489, model/all/train/lr=0.0001, spam_task/spam_dataset/valid/accuracy=0.9, spam_task/spam_dataset/valid/f1=0.898]"
     ]
    },
    {
     "name": "stderr",
     "output_type": "stream",
     "text": [
      "\r",
      "Epoch 1::  18%|█▊        | 9/50 [00:02<00:08,  4.68it/s, model/all/train/loss=0.485, model/all/train/lr=0.0001, spam_task/spam_dataset/valid/accuracy=0.9, spam_task/spam_dataset/valid/f1=0.898]"
     ]
    },
    {
     "name": "stderr",
     "output_type": "stream",
     "text": [
      "\r",
      "Epoch 1::  20%|██        | 10/50 [00:02<00:08,  4.65it/s, model/all/train/loss=0.485, model/all/train/lr=0.0001, spam_task/spam_dataset/valid/accuracy=0.9, spam_task/spam_dataset/valid/f1=0.898]"
     ]
    },
    {
     "name": "stderr",
     "output_type": "stream",
     "text": [
      "\r",
      "Epoch 1::  20%|██        | 10/50 [00:02<00:08,  4.65it/s, model/all/train/loss=0.482, model/all/train/lr=0.0001, spam_task/spam_dataset/valid/accuracy=0.9, spam_task/spam_dataset/valid/f1=0.898]"
     ]
    },
    {
     "name": "stderr",
     "output_type": "stream",
     "text": [
      "\r",
      "Epoch 1::  22%|██▏       | 11/50 [00:02<00:08,  4.66it/s, model/all/train/loss=0.482, model/all/train/lr=0.0001, spam_task/spam_dataset/valid/accuracy=0.9, spam_task/spam_dataset/valid/f1=0.898]"
     ]
    },
    {
     "name": "stderr",
     "output_type": "stream",
     "text": [
      "\r",
      "Epoch 1::  22%|██▏       | 11/50 [00:02<00:08,  4.66it/s, model/all/train/loss=0.48, model/all/train/lr=0.0001, spam_task/spam_dataset/valid/accuracy=0.9, spam_task/spam_dataset/valid/f1=0.898] "
     ]
    },
    {
     "name": "stderr",
     "output_type": "stream",
     "text": [
      "\r",
      "Epoch 1::  24%|██▍       | 12/50 [00:02<00:08,  4.69it/s, model/all/train/loss=0.48, model/all/train/lr=0.0001, spam_task/spam_dataset/valid/accuracy=0.9, spam_task/spam_dataset/valid/f1=0.898]"
     ]
    },
    {
     "name": "stderr",
     "output_type": "stream",
     "text": [
      "\r",
      "Epoch 1::  24%|██▍       | 12/50 [00:02<00:08,  4.69it/s, model/all/train/loss=0.477, model/all/train/lr=0.0001, spam_task/spam_dataset/valid/accuracy=0.9, spam_task/spam_dataset/valid/f1=0.898]"
     ]
    },
    {
     "name": "stderr",
     "output_type": "stream",
     "text": [
      "\r",
      "Epoch 1::  26%|██▌       | 13/50 [00:02<00:07,  4.71it/s, model/all/train/loss=0.477, model/all/train/lr=0.0001, spam_task/spam_dataset/valid/accuracy=0.9, spam_task/spam_dataset/valid/f1=0.898]"
     ]
    },
    {
     "name": "stderr",
     "output_type": "stream",
     "text": [
      "\r",
      "Epoch 1::  26%|██▌       | 13/50 [00:03<00:07,  4.71it/s, model/all/train/loss=0.478, model/all/train/lr=0.0001, spam_task/spam_dataset/valid/accuracy=0.9, spam_task/spam_dataset/valid/f1=0.898]"
     ]
    },
    {
     "name": "stderr",
     "output_type": "stream",
     "text": [
      "\r",
      "Epoch 1::  28%|██▊       | 14/50 [00:03<00:07,  4.74it/s, model/all/train/loss=0.478, model/all/train/lr=0.0001, spam_task/spam_dataset/valid/accuracy=0.9, spam_task/spam_dataset/valid/f1=0.898]"
     ]
    },
    {
     "name": "stderr",
     "output_type": "stream",
     "text": [
      "\r",
      "Epoch 1::  28%|██▊       | 14/50 [00:03<00:07,  4.74it/s, model/all/train/loss=0.473, model/all/train/lr=0.0001, spam_task/spam_dataset/valid/accuracy=0.9, spam_task/spam_dataset/valid/f1=0.898]"
     ]
    },
    {
     "name": "stderr",
     "output_type": "stream",
     "text": [
      "\r",
      "Epoch 1::  30%|███       | 15/50 [00:03<00:07,  4.74it/s, model/all/train/loss=0.473, model/all/train/lr=0.0001, spam_task/spam_dataset/valid/accuracy=0.9, spam_task/spam_dataset/valid/f1=0.898]"
     ]
    },
    {
     "name": "stderr",
     "output_type": "stream",
     "text": [
      "\r",
      "Epoch 1::  30%|███       | 15/50 [00:03<00:07,  4.74it/s, model/all/train/loss=0.475, model/all/train/lr=0.0001, spam_task/spam_dataset/valid/accuracy=0.9, spam_task/spam_dataset/valid/f1=0.898]"
     ]
    },
    {
     "name": "stderr",
     "output_type": "stream",
     "text": [
      "\r",
      "Epoch 1::  32%|███▏      | 16/50 [00:03<00:07,  4.75it/s, model/all/train/loss=0.475, model/all/train/lr=0.0001, spam_task/spam_dataset/valid/accuracy=0.9, spam_task/spam_dataset/valid/f1=0.898]"
     ]
    },
    {
     "name": "stderr",
     "output_type": "stream",
     "text": [
      "\r",
      "Epoch 1::  32%|███▏      | 16/50 [00:03<00:07,  4.75it/s, model/all/train/loss=0.473, model/all/train/lr=0.0001, spam_task/spam_dataset/valid/accuracy=0.9, spam_task/spam_dataset/valid/f1=0.898]"
     ]
    },
    {
     "name": "stderr",
     "output_type": "stream",
     "text": [
      "\r",
      "Epoch 1::  34%|███▍      | 17/50 [00:03<00:06,  4.73it/s, model/all/train/loss=0.473, model/all/train/lr=0.0001, spam_task/spam_dataset/valid/accuracy=0.9, spam_task/spam_dataset/valid/f1=0.898]"
     ]
    },
    {
     "name": "stderr",
     "output_type": "stream",
     "text": [
      "\r",
      "Epoch 1::  34%|███▍      | 17/50 [00:03<00:06,  4.73it/s, model/all/train/loss=0.47, model/all/train/lr=0.0001, spam_task/spam_dataset/valid/accuracy=0.9, spam_task/spam_dataset/valid/f1=0.898] "
     ]
    },
    {
     "name": "stderr",
     "output_type": "stream",
     "text": [
      "\r",
      "Epoch 1::  36%|███▌      | 18/50 [00:03<00:06,  4.65it/s, model/all/train/loss=0.47, model/all/train/lr=0.0001, spam_task/spam_dataset/valid/accuracy=0.9, spam_task/spam_dataset/valid/f1=0.898]"
     ]
    },
    {
     "name": "stderr",
     "output_type": "stream",
     "text": [
      "\r",
      "Epoch 1::  36%|███▌      | 18/50 [00:04<00:06,  4.65it/s, model/all/train/loss=0.466, model/all/train/lr=0.0001, spam_task/spam_dataset/valid/accuracy=0.9, spam_task/spam_dataset/valid/f1=0.898]"
     ]
    },
    {
     "name": "stderr",
     "output_type": "stream",
     "text": [
      "\r",
      "Epoch 1::  38%|███▊      | 19/50 [00:04<00:06,  4.68it/s, model/all/train/loss=0.466, model/all/train/lr=0.0001, spam_task/spam_dataset/valid/accuracy=0.9, spam_task/spam_dataset/valid/f1=0.898]"
     ]
    },
    {
     "name": "stderr",
     "output_type": "stream",
     "text": [
      "\r",
      "Epoch 1::  38%|███▊      | 19/50 [00:04<00:06,  4.68it/s, model/all/train/loss=0.464, model/all/train/lr=0.0001, spam_task/spam_dataset/valid/accuracy=0.9, spam_task/spam_dataset/valid/f1=0.898]"
     ]
    },
    {
     "name": "stderr",
     "output_type": "stream",
     "text": [
      "\r",
      "Epoch 1::  40%|████      | 20/50 [00:04<00:06,  4.69it/s, model/all/train/loss=0.464, model/all/train/lr=0.0001, spam_task/spam_dataset/valid/accuracy=0.9, spam_task/spam_dataset/valid/f1=0.898]"
     ]
    },
    {
     "name": "stderr",
     "output_type": "stream",
     "text": [
      "\r",
      "Epoch 1::  40%|████      | 20/50 [00:04<00:06,  4.69it/s, model/all/train/loss=0.462, model/all/train/lr=0.0001, spam_task/spam_dataset/valid/accuracy=0.9, spam_task/spam_dataset/valid/f1=0.898]"
     ]
    },
    {
     "name": "stderr",
     "output_type": "stream",
     "text": [
      "\r",
      "Epoch 1::  42%|████▏     | 21/50 [00:04<00:06,  4.72it/s, model/all/train/loss=0.462, model/all/train/lr=0.0001, spam_task/spam_dataset/valid/accuracy=0.9, spam_task/spam_dataset/valid/f1=0.898]"
     ]
    },
    {
     "name": "stderr",
     "output_type": "stream",
     "text": [
      "\r",
      "Epoch 1::  42%|████▏     | 21/50 [00:04<00:06,  4.72it/s, model/all/train/loss=0.461, model/all/train/lr=0.0001, spam_task/spam_dataset/valid/accuracy=0.9, spam_task/spam_dataset/valid/f1=0.898]"
     ]
    },
    {
     "name": "stderr",
     "output_type": "stream",
     "text": [
      "\r",
      "Epoch 1::  44%|████▍     | 22/50 [00:04<00:05,  4.73it/s, model/all/train/loss=0.461, model/all/train/lr=0.0001, spam_task/spam_dataset/valid/accuracy=0.9, spam_task/spam_dataset/valid/f1=0.898]"
     ]
    },
    {
     "name": "stderr",
     "output_type": "stream",
     "text": [
      "\r",
      "Epoch 1::  44%|████▍     | 22/50 [00:04<00:05,  4.73it/s, model/all/train/loss=0.459, model/all/train/lr=0.0001, spam_task/spam_dataset/valid/accuracy=0.9, spam_task/spam_dataset/valid/f1=0.898]"
     ]
    },
    {
     "name": "stderr",
     "output_type": "stream",
     "text": [
      "\r",
      "Epoch 1::  46%|████▌     | 23/50 [00:04<00:05,  4.75it/s, model/all/train/loss=0.459, model/all/train/lr=0.0001, spam_task/spam_dataset/valid/accuracy=0.9, spam_task/spam_dataset/valid/f1=0.898]"
     ]
    },
    {
     "name": "stderr",
     "output_type": "stream",
     "text": [
      "\r",
      "Epoch 1::  46%|████▌     | 23/50 [00:05<00:05,  4.75it/s, model/all/train/loss=0.456, model/all/train/lr=0.0001, spam_task/spam_dataset/valid/accuracy=0.9, spam_task/spam_dataset/valid/f1=0.898]"
     ]
    },
    {
     "name": "stderr",
     "output_type": "stream",
     "text": [
      "\r",
      "Epoch 1::  48%|████▊     | 24/50 [00:05<00:05,  4.77it/s, model/all/train/loss=0.456, model/all/train/lr=0.0001, spam_task/spam_dataset/valid/accuracy=0.9, spam_task/spam_dataset/valid/f1=0.898]"
     ]
    },
    {
     "name": "stderr",
     "output_type": "stream",
     "text": [
      "\r",
      "Epoch 1::  48%|████▊     | 24/50 [00:05<00:05,  4.77it/s, model/all/train/loss=0.456, model/all/train/lr=0.0001, spam_task/spam_dataset/valid/accuracy=0.9, spam_task/spam_dataset/valid/f1=0.898]"
     ]
    },
    {
     "name": "stderr",
     "output_type": "stream",
     "text": [
      "\r",
      "Epoch 1::  50%|█████     | 25/50 [00:05<00:05,  4.76it/s, model/all/train/loss=0.456, model/all/train/lr=0.0001, spam_task/spam_dataset/valid/accuracy=0.9, spam_task/spam_dataset/valid/f1=0.898]"
     ]
    },
    {
     "name": "stderr",
     "output_type": "stream",
     "text": [
      "\r",
      "Epoch 1::  50%|█████     | 25/50 [00:05<00:05,  4.76it/s, model/all/train/loss=0.454, model/all/train/lr=0.0001, spam_task/spam_dataset/valid/accuracy=0.9, spam_task/spam_dataset/valid/f1=0.898]"
     ]
    },
    {
     "name": "stderr",
     "output_type": "stream",
     "text": [
      "\r",
      "Epoch 1::  52%|█████▏    | 26/50 [00:05<00:05,  4.77it/s, model/all/train/loss=0.454, model/all/train/lr=0.0001, spam_task/spam_dataset/valid/accuracy=0.9, spam_task/spam_dataset/valid/f1=0.898]"
     ]
    },
    {
     "name": "stderr",
     "output_type": "stream",
     "text": [
      "\r",
      "Epoch 1::  52%|█████▏    | 26/50 [00:05<00:05,  4.77it/s, model/all/train/loss=0.451, model/all/train/lr=0.0001, spam_task/spam_dataset/valid/accuracy=0.9, spam_task/spam_dataset/valid/f1=0.898]"
     ]
    },
    {
     "name": "stderr",
     "output_type": "stream",
     "text": [
      "\r",
      "Epoch 1::  54%|█████▍    | 27/50 [00:05<00:04,  4.72it/s, model/all/train/loss=0.451, model/all/train/lr=0.0001, spam_task/spam_dataset/valid/accuracy=0.9, spam_task/spam_dataset/valid/f1=0.898]"
     ]
    },
    {
     "name": "stderr",
     "output_type": "stream",
     "text": [
      "\r",
      "Epoch 1::  54%|█████▍    | 27/50 [00:05<00:04,  4.72it/s, model/all/train/loss=0.449, model/all/train/lr=0.0001, spam_task/spam_dataset/valid/accuracy=0.9, spam_task/spam_dataset/valid/f1=0.898]"
     ]
    },
    {
     "name": "stderr",
     "output_type": "stream",
     "text": [
      "\r",
      "Epoch 1::  56%|█████▌    | 28/50 [00:05<00:04,  4.58it/s, model/all/train/loss=0.449, model/all/train/lr=0.0001, spam_task/spam_dataset/valid/accuracy=0.9, spam_task/spam_dataset/valid/f1=0.898]"
     ]
    },
    {
     "name": "stderr",
     "output_type": "stream",
     "text": [
      "\r",
      "Epoch 1::  56%|█████▌    | 28/50 [00:06<00:04,  4.58it/s, model/all/train/loss=0.447, model/all/train/lr=0.0001, spam_task/spam_dataset/valid/accuracy=0.9, spam_task/spam_dataset/valid/f1=0.898]"
     ]
    },
    {
     "name": "stderr",
     "output_type": "stream",
     "text": [
      "\r",
      "Epoch 1::  58%|█████▊    | 29/50 [00:06<00:04,  4.65it/s, model/all/train/loss=0.447, model/all/train/lr=0.0001, spam_task/spam_dataset/valid/accuracy=0.9, spam_task/spam_dataset/valid/f1=0.898]"
     ]
    },
    {
     "name": "stderr",
     "output_type": "stream",
     "text": [
      "\r",
      "Epoch 1::  58%|█████▊    | 29/50 [00:06<00:04,  4.65it/s, model/all/train/loss=0.445, model/all/train/lr=0.0001, spam_task/spam_dataset/valid/accuracy=0.9, spam_task/spam_dataset/valid/f1=0.898]"
     ]
    },
    {
     "name": "stderr",
     "output_type": "stream",
     "text": [
      "\r",
      "Epoch 1::  60%|██████    | 30/50 [00:06<00:04,  4.67it/s, model/all/train/loss=0.445, model/all/train/lr=0.0001, spam_task/spam_dataset/valid/accuracy=0.9, spam_task/spam_dataset/valid/f1=0.898]"
     ]
    },
    {
     "name": "stderr",
     "output_type": "stream",
     "text": [
      "\r",
      "Epoch 1::  60%|██████    | 30/50 [00:06<00:04,  4.67it/s, model/all/train/loss=0.444, model/all/train/lr=0.0001, spam_task/spam_dataset/valid/accuracy=0.9, spam_task/spam_dataset/valid/f1=0.898]"
     ]
    },
    {
     "name": "stderr",
     "output_type": "stream",
     "text": [
      "\r",
      "Epoch 1::  62%|██████▏   | 31/50 [00:06<00:04,  4.71it/s, model/all/train/loss=0.444, model/all/train/lr=0.0001, spam_task/spam_dataset/valid/accuracy=0.9, spam_task/spam_dataset/valid/f1=0.898]"
     ]
    },
    {
     "name": "stderr",
     "output_type": "stream",
     "text": [
      "\r",
      "Epoch 1::  62%|██████▏   | 31/50 [00:06<00:04,  4.71it/s, model/all/train/loss=0.445, model/all/train/lr=0.0001, spam_task/spam_dataset/valid/accuracy=0.9, spam_task/spam_dataset/valid/f1=0.898]"
     ]
    },
    {
     "name": "stderr",
     "output_type": "stream",
     "text": [
      "\r",
      "Epoch 1::  64%|██████▍   | 32/50 [00:06<00:03,  4.58it/s, model/all/train/loss=0.445, model/all/train/lr=0.0001, spam_task/spam_dataset/valid/accuracy=0.9, spam_task/spam_dataset/valid/f1=0.898]"
     ]
    },
    {
     "name": "stderr",
     "output_type": "stream",
     "text": [
      "\r",
      "Epoch 1::  64%|██████▍   | 32/50 [00:07<00:03,  4.58it/s, model/all/train/loss=0.445, model/all/train/lr=0.0001, spam_task/spam_dataset/valid/accuracy=0.9, spam_task/spam_dataset/valid/f1=0.898]"
     ]
    },
    {
     "name": "stderr",
     "output_type": "stream",
     "text": [
      "\r",
      "Epoch 1::  66%|██████▌   | 33/50 [00:07<00:03,  4.54it/s, model/all/train/loss=0.445, model/all/train/lr=0.0001, spam_task/spam_dataset/valid/accuracy=0.9, spam_task/spam_dataset/valid/f1=0.898]"
     ]
    },
    {
     "name": "stderr",
     "output_type": "stream",
     "text": [
      "\r",
      "Epoch 1::  66%|██████▌   | 33/50 [00:07<00:03,  4.54it/s, model/all/train/loss=0.443, model/all/train/lr=0.0001, spam_task/spam_dataset/valid/accuracy=0.9, spam_task/spam_dataset/valid/f1=0.898]"
     ]
    },
    {
     "name": "stderr",
     "output_type": "stream",
     "text": [
      "\r",
      "Epoch 1::  68%|██████▊   | 34/50 [00:07<00:03,  4.59it/s, model/all/train/loss=0.443, model/all/train/lr=0.0001, spam_task/spam_dataset/valid/accuracy=0.9, spam_task/spam_dataset/valid/f1=0.898]"
     ]
    },
    {
     "name": "stderr",
     "output_type": "stream",
     "text": [
      "\r",
      "Epoch 1::  68%|██████▊   | 34/50 [00:07<00:03,  4.59it/s, model/all/train/loss=0.441, model/all/train/lr=0.0001, spam_task/spam_dataset/valid/accuracy=0.9, spam_task/spam_dataset/valid/f1=0.898]"
     ]
    },
    {
     "name": "stderr",
     "output_type": "stream",
     "text": [
      "\r",
      "Epoch 1::  70%|███████   | 35/50 [00:07<00:03,  4.64it/s, model/all/train/loss=0.441, model/all/train/lr=0.0001, spam_task/spam_dataset/valid/accuracy=0.9, spam_task/spam_dataset/valid/f1=0.898]"
     ]
    },
    {
     "name": "stderr",
     "output_type": "stream",
     "text": [
      "\r",
      "Epoch 1::  70%|███████   | 35/50 [00:07<00:03,  4.64it/s, model/all/train/loss=0.441, model/all/train/lr=0.0001, spam_task/spam_dataset/valid/accuracy=0.9, spam_task/spam_dataset/valid/f1=0.898]"
     ]
    },
    {
     "name": "stderr",
     "output_type": "stream",
     "text": [
      "\r",
      "Epoch 1::  72%|███████▏  | 36/50 [00:07<00:03,  4.66it/s, model/all/train/loss=0.441, model/all/train/lr=0.0001, spam_task/spam_dataset/valid/accuracy=0.9, spam_task/spam_dataset/valid/f1=0.898]"
     ]
    },
    {
     "name": "stderr",
     "output_type": "stream",
     "text": [
      "\r",
      "Epoch 1::  72%|███████▏  | 36/50 [00:07<00:03,  4.66it/s, model/all/train/loss=0.44, model/all/train/lr=0.0001, spam_task/spam_dataset/valid/accuracy=0.9, spam_task/spam_dataset/valid/f1=0.898] "
     ]
    },
    {
     "name": "stderr",
     "output_type": "stream",
     "text": [
      "\r",
      "Epoch 1::  74%|███████▍  | 37/50 [00:07<00:02,  4.67it/s, model/all/train/loss=0.44, model/all/train/lr=0.0001, spam_task/spam_dataset/valid/accuracy=0.9, spam_task/spam_dataset/valid/f1=0.898]"
     ]
    },
    {
     "name": "stderr",
     "output_type": "stream",
     "text": [
      "\r",
      "Epoch 1::  74%|███████▍  | 37/50 [00:08<00:02,  4.67it/s, model/all/train/loss=0.438, model/all/train/lr=0.0001, spam_task/spam_dataset/valid/accuracy=0.9, spam_task/spam_dataset/valid/f1=0.898]"
     ]
    },
    {
     "name": "stderr",
     "output_type": "stream",
     "text": [
      "\r",
      "Epoch 1::  76%|███████▌  | 38/50 [00:08<00:02,  4.69it/s, model/all/train/loss=0.438, model/all/train/lr=0.0001, spam_task/spam_dataset/valid/accuracy=0.9, spam_task/spam_dataset/valid/f1=0.898]"
     ]
    },
    {
     "name": "stderr",
     "output_type": "stream",
     "text": [
      "\r",
      "Epoch 1::  76%|███████▌  | 38/50 [00:08<00:02,  4.69it/s, model/all/train/loss=0.436, model/all/train/lr=0.0001, spam_task/spam_dataset/valid/accuracy=0.9, spam_task/spam_dataset/valid/f1=0.898]"
     ]
    },
    {
     "name": "stderr",
     "output_type": "stream",
     "text": [
      "\r",
      "Epoch 1::  78%|███████▊  | 39/50 [00:08<00:02,  4.72it/s, model/all/train/loss=0.436, model/all/train/lr=0.0001, spam_task/spam_dataset/valid/accuracy=0.9, spam_task/spam_dataset/valid/f1=0.898]"
     ]
    },
    {
     "name": "stderr",
     "output_type": "stream",
     "text": [
      "\r",
      "Epoch 1::  78%|███████▊  | 39/50 [00:08<00:02,  4.72it/s, model/all/train/loss=0.435, model/all/train/lr=0.0001, spam_task/spam_dataset/valid/accuracy=0.9, spam_task/spam_dataset/valid/f1=0.898]"
     ]
    },
    {
     "name": "stderr",
     "output_type": "stream",
     "text": [
      "\r",
      "Epoch 1::  80%|████████  | 40/50 [00:08<00:02,  4.72it/s, model/all/train/loss=0.435, model/all/train/lr=0.0001, spam_task/spam_dataset/valid/accuracy=0.9, spam_task/spam_dataset/valid/f1=0.898]"
     ]
    },
    {
     "name": "stderr",
     "output_type": "stream",
     "text": [
      "\r",
      "Epoch 1::  80%|████████  | 40/50 [00:08<00:02,  4.72it/s, model/all/train/loss=0.433, model/all/train/lr=0.0001, spam_task/spam_dataset/valid/accuracy=0.9, spam_task/spam_dataset/valid/f1=0.898]"
     ]
    },
    {
     "name": "stderr",
     "output_type": "stream",
     "text": [
      "\r",
      "Epoch 1::  82%|████████▏ | 41/50 [00:08<00:01,  4.62it/s, model/all/train/loss=0.433, model/all/train/lr=0.0001, spam_task/spam_dataset/valid/accuracy=0.9, spam_task/spam_dataset/valid/f1=0.898]"
     ]
    },
    {
     "name": "stderr",
     "output_type": "stream",
     "text": [
      "\r",
      "Epoch 1::  82%|████████▏ | 41/50 [00:08<00:01,  4.62it/s, model/all/train/loss=0.431, model/all/train/lr=0.0001, spam_task/spam_dataset/valid/accuracy=0.9, spam_task/spam_dataset/valid/f1=0.898]"
     ]
    },
    {
     "name": "stderr",
     "output_type": "stream",
     "text": [
      "\r",
      "Epoch 1::  84%|████████▍ | 42/50 [00:08<00:01,  4.65it/s, model/all/train/loss=0.431, model/all/train/lr=0.0001, spam_task/spam_dataset/valid/accuracy=0.9, spam_task/spam_dataset/valid/f1=0.898]"
     ]
    },
    {
     "name": "stderr",
     "output_type": "stream",
     "text": [
      "\r",
      "Epoch 1::  84%|████████▍ | 42/50 [00:09<00:01,  4.65it/s, model/all/train/loss=0.431, model/all/train/lr=0.0001, spam_task/spam_dataset/valid/accuracy=0.9, spam_task/spam_dataset/valid/f1=0.898]"
     ]
    },
    {
     "name": "stderr",
     "output_type": "stream",
     "text": [
      "\r",
      "Epoch 1::  86%|████████▌ | 43/50 [00:09<00:01,  4.69it/s, model/all/train/loss=0.431, model/all/train/lr=0.0001, spam_task/spam_dataset/valid/accuracy=0.9, spam_task/spam_dataset/valid/f1=0.898]"
     ]
    },
    {
     "name": "stderr",
     "output_type": "stream",
     "text": [
      "\r",
      "Epoch 1::  86%|████████▌ | 43/50 [00:09<00:01,  4.69it/s, model/all/train/loss=0.429, model/all/train/lr=0.0001, spam_task/spam_dataset/valid/accuracy=0.9, spam_task/spam_dataset/valid/f1=0.898]"
     ]
    },
    {
     "name": "stderr",
     "output_type": "stream",
     "text": [
      "\r",
      "Epoch 1::  88%|████████▊ | 44/50 [00:09<00:01,  4.73it/s, model/all/train/loss=0.429, model/all/train/lr=0.0001, spam_task/spam_dataset/valid/accuracy=0.9, spam_task/spam_dataset/valid/f1=0.898]"
     ]
    },
    {
     "name": "stderr",
     "output_type": "stream",
     "text": [
      "\r",
      "Epoch 1::  88%|████████▊ | 44/50 [00:09<00:01,  4.73it/s, model/all/train/loss=0.427, model/all/train/lr=0.0001, spam_task/spam_dataset/valid/accuracy=0.9, spam_task/spam_dataset/valid/f1=0.898]"
     ]
    },
    {
     "name": "stderr",
     "output_type": "stream",
     "text": [
      "\r",
      "Epoch 1::  90%|█████████ | 45/50 [00:09<00:01,  4.74it/s, model/all/train/loss=0.427, model/all/train/lr=0.0001, spam_task/spam_dataset/valid/accuracy=0.9, spam_task/spam_dataset/valid/f1=0.898]"
     ]
    },
    {
     "name": "stderr",
     "output_type": "stream",
     "text": [
      "\r",
      "Epoch 1::  90%|█████████ | 45/50 [00:09<00:01,  4.74it/s, model/all/train/loss=0.425, model/all/train/lr=0.0001, spam_task/spam_dataset/valid/accuracy=0.9, spam_task/spam_dataset/valid/f1=0.898]"
     ]
    },
    {
     "name": "stderr",
     "output_type": "stream",
     "text": [
      "\r",
      "Epoch 1::  92%|█████████▏| 46/50 [00:09<00:00,  4.73it/s, model/all/train/loss=0.425, model/all/train/lr=0.0001, spam_task/spam_dataset/valid/accuracy=0.9, spam_task/spam_dataset/valid/f1=0.898]"
     ]
    },
    {
     "name": "stderr",
     "output_type": "stream",
     "text": [
      "\r",
      "Epoch 1::  92%|█████████▏| 46/50 [00:10<00:00,  4.73it/s, model/all/train/loss=0.423, model/all/train/lr=0.0001, spam_task/spam_dataset/valid/accuracy=0.9, spam_task/spam_dataset/valid/f1=0.898]"
     ]
    },
    {
     "name": "stderr",
     "output_type": "stream",
     "text": [
      "\r",
      "Epoch 1::  94%|█████████▍| 47/50 [00:10<00:00,  4.71it/s, model/all/train/loss=0.423, model/all/train/lr=0.0001, spam_task/spam_dataset/valid/accuracy=0.9, spam_task/spam_dataset/valid/f1=0.898]"
     ]
    },
    {
     "name": "stderr",
     "output_type": "stream",
     "text": [
      "\r",
      "Epoch 1::  94%|█████████▍| 47/50 [00:10<00:00,  4.71it/s, model/all/train/loss=0.42, model/all/train/lr=0.0001, spam_task/spam_dataset/valid/accuracy=0.9, spam_task/spam_dataset/valid/f1=0.898] "
     ]
    },
    {
     "name": "stderr",
     "output_type": "stream",
     "text": [
      "\r",
      "Epoch 1::  96%|█████████▌| 48/50 [00:10<00:00,  4.71it/s, model/all/train/loss=0.42, model/all/train/lr=0.0001, spam_task/spam_dataset/valid/accuracy=0.9, spam_task/spam_dataset/valid/f1=0.898]"
     ]
    },
    {
     "name": "stderr",
     "output_type": "stream",
     "text": [
      "\r",
      "Epoch 1::  96%|█████████▌| 48/50 [00:10<00:00,  4.71it/s, model/all/train/loss=0.417, model/all/train/lr=0.0001, spam_task/spam_dataset/valid/accuracy=0.9, spam_task/spam_dataset/valid/f1=0.898]"
     ]
    },
    {
     "name": "stderr",
     "output_type": "stream",
     "text": [
      "\r",
      "Epoch 1::  98%|█████████▊| 49/50 [00:10<00:00,  4.69it/s, model/all/train/loss=0.417, model/all/train/lr=0.0001, spam_task/spam_dataset/valid/accuracy=0.9, spam_task/spam_dataset/valid/f1=0.898]"
     ]
    },
    {
     "name": "stderr",
     "output_type": "stream",
     "text": [
      "\r",
      "Epoch 1::  98%|█████████▊| 49/50 [00:10<00:00,  4.69it/s, model/all/train/loss=0.416, model/all/train/lr=0.0001, spam_task/spam_dataset/valid/accuracy=0.942, spam_task/spam_dataset/valid/f1=0.933]"
     ]
    },
    {
     "name": "stderr",
     "output_type": "stream",
     "text": [
      "\r",
      "Epoch 1:: 100%|██████████| 50/50 [00:10<00:00,  4.57it/s, model/all/train/loss=0.416, model/all/train/lr=0.0001, spam_task/spam_dataset/valid/accuracy=0.942, spam_task/spam_dataset/valid/f1=0.933]"
     ]
    },
    {
     "name": "stderr",
     "output_type": "stream",
     "text": [
      "\n",
      "\r",
      "Epoch 2::   0%|          | 0/50 [00:00<?, ?it/s]"
     ]
    },
    {
     "name": "stderr",
     "output_type": "stream",
     "text": [
      "\r",
      "Epoch 2::   0%|          | 0/50 [00:00<?, ?it/s, model/all/train/loss=0.33, model/all/train/lr=0.0001, spam_task/spam_dataset/valid/accuracy=0.942, spam_task/spam_dataset/valid/f1=0.933]"
     ]
    },
    {
     "name": "stderr",
     "output_type": "stream",
     "text": [
      "\r",
      "Epoch 2::   2%|▏         | 1/50 [00:00<00:12,  3.97it/s, model/all/train/loss=0.33, model/all/train/lr=0.0001, spam_task/spam_dataset/valid/accuracy=0.942, spam_task/spam_dataset/valid/f1=0.933]"
     ]
    },
    {
     "name": "stderr",
     "output_type": "stream",
     "text": [
      "\r",
      "Epoch 2::   2%|▏         | 1/50 [00:00<00:12,  3.97it/s, model/all/train/loss=0.327, model/all/train/lr=0.0001, spam_task/spam_dataset/valid/accuracy=0.942, spam_task/spam_dataset/valid/f1=0.933]"
     ]
    },
    {
     "name": "stderr",
     "output_type": "stream",
     "text": [
      "\r",
      "Epoch 2::   4%|▍         | 2/50 [00:00<00:11,  4.19it/s, model/all/train/loss=0.327, model/all/train/lr=0.0001, spam_task/spam_dataset/valid/accuracy=0.942, spam_task/spam_dataset/valid/f1=0.933]"
     ]
    },
    {
     "name": "stderr",
     "output_type": "stream",
     "text": [
      "\r",
      "Epoch 2::   4%|▍         | 2/50 [00:00<00:11,  4.19it/s, model/all/train/loss=0.298, model/all/train/lr=0.0001, spam_task/spam_dataset/valid/accuracy=0.942, spam_task/spam_dataset/valid/f1=0.933]"
     ]
    },
    {
     "name": "stderr",
     "output_type": "stream",
     "text": [
      "\r",
      "Epoch 2::   6%|▌         | 3/50 [00:00<00:10,  4.35it/s, model/all/train/loss=0.298, model/all/train/lr=0.0001, spam_task/spam_dataset/valid/accuracy=0.942, spam_task/spam_dataset/valid/f1=0.933]"
     ]
    },
    {
     "name": "stderr",
     "output_type": "stream",
     "text": [
      "\r",
      "Epoch 2::   6%|▌         | 3/50 [00:00<00:10,  4.35it/s, model/all/train/loss=0.298, model/all/train/lr=0.0001, spam_task/spam_dataset/valid/accuracy=0.942, spam_task/spam_dataset/valid/f1=0.933]"
     ]
    },
    {
     "name": "stderr",
     "output_type": "stream",
     "text": [
      "\r",
      "Epoch 2::   8%|▊         | 4/50 [00:00<00:10,  4.45it/s, model/all/train/loss=0.298, model/all/train/lr=0.0001, spam_task/spam_dataset/valid/accuracy=0.942, spam_task/spam_dataset/valid/f1=0.933]"
     ]
    },
    {
     "name": "stderr",
     "output_type": "stream",
     "text": [
      "\r",
      "Epoch 2::   8%|▊         | 4/50 [00:01<00:10,  4.45it/s, model/all/train/loss=0.312, model/all/train/lr=0.0001, spam_task/spam_dataset/valid/accuracy=0.942, spam_task/spam_dataset/valid/f1=0.933]"
     ]
    },
    {
     "name": "stderr",
     "output_type": "stream",
     "text": [
      "\r",
      "Epoch 2::  10%|█         | 5/50 [00:01<00:10,  4.41it/s, model/all/train/loss=0.312, model/all/train/lr=0.0001, spam_task/spam_dataset/valid/accuracy=0.942, spam_task/spam_dataset/valid/f1=0.933]"
     ]
    },
    {
     "name": "stderr",
     "output_type": "stream",
     "text": [
      "\r",
      "Epoch 2::  10%|█         | 5/50 [00:01<00:10,  4.41it/s, model/all/train/loss=0.313, model/all/train/lr=0.0001, spam_task/spam_dataset/valid/accuracy=0.942, spam_task/spam_dataset/valid/f1=0.933]"
     ]
    },
    {
     "name": "stderr",
     "output_type": "stream",
     "text": [
      "\r",
      "Epoch 2::  12%|█▏        | 6/50 [00:01<00:10,  4.35it/s, model/all/train/loss=0.313, model/all/train/lr=0.0001, spam_task/spam_dataset/valid/accuracy=0.942, spam_task/spam_dataset/valid/f1=0.933]"
     ]
    },
    {
     "name": "stderr",
     "output_type": "stream",
     "text": [
      "\r",
      "Epoch 2::  12%|█▏        | 6/50 [00:01<00:10,  4.35it/s, model/all/train/loss=0.309, model/all/train/lr=0.0001, spam_task/spam_dataset/valid/accuracy=0.942, spam_task/spam_dataset/valid/f1=0.933]"
     ]
    },
    {
     "name": "stderr",
     "output_type": "stream",
     "text": [
      "\r",
      "Epoch 2::  14%|█▍        | 7/50 [00:01<00:09,  4.34it/s, model/all/train/loss=0.309, model/all/train/lr=0.0001, spam_task/spam_dataset/valid/accuracy=0.942, spam_task/spam_dataset/valid/f1=0.933]"
     ]
    },
    {
     "name": "stderr",
     "output_type": "stream",
     "text": [
      "\r",
      "Epoch 2::  14%|█▍        | 7/50 [00:01<00:09,  4.34it/s, model/all/train/loss=0.304, model/all/train/lr=0.0001, spam_task/spam_dataset/valid/accuracy=0.942, spam_task/spam_dataset/valid/f1=0.933]"
     ]
    },
    {
     "name": "stderr",
     "output_type": "stream",
     "text": [
      "\r",
      "Epoch 2::  16%|█▌        | 8/50 [00:01<00:09,  4.34it/s, model/all/train/loss=0.304, model/all/train/lr=0.0001, spam_task/spam_dataset/valid/accuracy=0.942, spam_task/spam_dataset/valid/f1=0.933]"
     ]
    },
    {
     "name": "stderr",
     "output_type": "stream",
     "text": [
      "\r",
      "Epoch 2::  16%|█▌        | 8/50 [00:02<00:09,  4.34it/s, model/all/train/loss=0.308, model/all/train/lr=0.0001, spam_task/spam_dataset/valid/accuracy=0.942, spam_task/spam_dataset/valid/f1=0.933]"
     ]
    },
    {
     "name": "stderr",
     "output_type": "stream",
     "text": [
      "\r",
      "Epoch 2::  18%|█▊        | 9/50 [00:02<00:09,  4.37it/s, model/all/train/loss=0.308, model/all/train/lr=0.0001, spam_task/spam_dataset/valid/accuracy=0.942, spam_task/spam_dataset/valid/f1=0.933]"
     ]
    },
    {
     "name": "stderr",
     "output_type": "stream",
     "text": [
      "\r",
      "Epoch 2::  18%|█▊        | 9/50 [00:02<00:09,  4.37it/s, model/all/train/loss=0.306, model/all/train/lr=0.0001, spam_task/spam_dataset/valid/accuracy=0.942, spam_task/spam_dataset/valid/f1=0.933]"
     ]
    },
    {
     "name": "stderr",
     "output_type": "stream",
     "text": [
      "\r",
      "Epoch 2::  20%|██        | 10/50 [00:02<00:09,  4.36it/s, model/all/train/loss=0.306, model/all/train/lr=0.0001, spam_task/spam_dataset/valid/accuracy=0.942, spam_task/spam_dataset/valid/f1=0.933]"
     ]
    },
    {
     "name": "stderr",
     "output_type": "stream",
     "text": [
      "\r",
      "Epoch 2::  20%|██        | 10/50 [00:02<00:09,  4.36it/s, model/all/train/loss=0.301, model/all/train/lr=0.0001, spam_task/spam_dataset/valid/accuracy=0.942, spam_task/spam_dataset/valid/f1=0.933]"
     ]
    },
    {
     "name": "stderr",
     "output_type": "stream",
     "text": [
      "\r",
      "Epoch 2::  22%|██▏       | 11/50 [00:02<00:08,  4.45it/s, model/all/train/loss=0.301, model/all/train/lr=0.0001, spam_task/spam_dataset/valid/accuracy=0.942, spam_task/spam_dataset/valid/f1=0.933]"
     ]
    },
    {
     "name": "stderr",
     "output_type": "stream",
     "text": [
      "\r",
      "Epoch 2::  22%|██▏       | 11/50 [00:02<00:08,  4.45it/s, model/all/train/loss=0.305, model/all/train/lr=0.0001, spam_task/spam_dataset/valid/accuracy=0.942, spam_task/spam_dataset/valid/f1=0.933]"
     ]
    },
    {
     "name": "stderr",
     "output_type": "stream",
     "text": [
      "\r",
      "Epoch 2::  24%|██▍       | 12/50 [00:02<00:08,  4.53it/s, model/all/train/loss=0.305, model/all/train/lr=0.0001, spam_task/spam_dataset/valid/accuracy=0.942, spam_task/spam_dataset/valid/f1=0.933]"
     ]
    },
    {
     "name": "stderr",
     "output_type": "stream",
     "text": [
      "\r",
      "Epoch 2::  24%|██▍       | 12/50 [00:02<00:08,  4.53it/s, model/all/train/loss=0.304, model/all/train/lr=0.0001, spam_task/spam_dataset/valid/accuracy=0.942, spam_task/spam_dataset/valid/f1=0.933]"
     ]
    },
    {
     "name": "stderr",
     "output_type": "stream",
     "text": [
      "\r",
      "Epoch 2::  26%|██▌       | 13/50 [00:02<00:08,  4.52it/s, model/all/train/loss=0.304, model/all/train/lr=0.0001, spam_task/spam_dataset/valid/accuracy=0.942, spam_task/spam_dataset/valid/f1=0.933]"
     ]
    },
    {
     "name": "stderr",
     "output_type": "stream",
     "text": [
      "\r",
      "Epoch 2::  26%|██▌       | 13/50 [00:03<00:08,  4.52it/s, model/all/train/loss=0.296, model/all/train/lr=0.0001, spam_task/spam_dataset/valid/accuracy=0.942, spam_task/spam_dataset/valid/f1=0.933]"
     ]
    },
    {
     "name": "stderr",
     "output_type": "stream",
     "text": [
      "\r",
      "Epoch 2::  28%|██▊       | 14/50 [00:03<00:07,  4.51it/s, model/all/train/loss=0.296, model/all/train/lr=0.0001, spam_task/spam_dataset/valid/accuracy=0.942, spam_task/spam_dataset/valid/f1=0.933]"
     ]
    },
    {
     "name": "stderr",
     "output_type": "stream",
     "text": [
      "\r",
      "Epoch 2::  28%|██▊       | 14/50 [00:03<00:07,  4.51it/s, model/all/train/loss=0.295, model/all/train/lr=0.0001, spam_task/spam_dataset/valid/accuracy=0.942, spam_task/spam_dataset/valid/f1=0.933]"
     ]
    },
    {
     "name": "stderr",
     "output_type": "stream",
     "text": [
      "\r",
      "Epoch 2::  30%|███       | 15/50 [00:03<00:07,  4.50it/s, model/all/train/loss=0.295, model/all/train/lr=0.0001, spam_task/spam_dataset/valid/accuracy=0.942, spam_task/spam_dataset/valid/f1=0.933]"
     ]
    },
    {
     "name": "stderr",
     "output_type": "stream",
     "text": [
      "\r",
      "Epoch 2::  30%|███       | 15/50 [00:03<00:07,  4.50it/s, model/all/train/loss=0.29, model/all/train/lr=0.0001, spam_task/spam_dataset/valid/accuracy=0.942, spam_task/spam_dataset/valid/f1=0.933] "
     ]
    },
    {
     "name": "stderr",
     "output_type": "stream",
     "text": [
      "\r",
      "Epoch 2::  32%|███▏      | 16/50 [00:03<00:07,  4.42it/s, model/all/train/loss=0.29, model/all/train/lr=0.0001, spam_task/spam_dataset/valid/accuracy=0.942, spam_task/spam_dataset/valid/f1=0.933]"
     ]
    },
    {
     "name": "stderr",
     "output_type": "stream",
     "text": [
      "\r",
      "Epoch 2::  32%|███▏      | 16/50 [00:03<00:07,  4.42it/s, model/all/train/loss=0.295, model/all/train/lr=0.0001, spam_task/spam_dataset/valid/accuracy=0.942, spam_task/spam_dataset/valid/f1=0.933]"
     ]
    },
    {
     "name": "stderr",
     "output_type": "stream",
     "text": [
      "\r",
      "Epoch 2::  34%|███▍      | 17/50 [00:03<00:07,  4.36it/s, model/all/train/loss=0.295, model/all/train/lr=0.0001, spam_task/spam_dataset/valid/accuracy=0.942, spam_task/spam_dataset/valid/f1=0.933]"
     ]
    },
    {
     "name": "stderr",
     "output_type": "stream",
     "text": [
      "\r",
      "Epoch 2::  34%|███▍      | 17/50 [00:04<00:07,  4.36it/s, model/all/train/loss=0.294, model/all/train/lr=0.0001, spam_task/spam_dataset/valid/accuracy=0.942, spam_task/spam_dataset/valid/f1=0.933]"
     ]
    },
    {
     "name": "stderr",
     "output_type": "stream",
     "text": [
      "\r",
      "Epoch 2::  36%|███▌      | 18/50 [00:04<00:07,  4.39it/s, model/all/train/loss=0.294, model/all/train/lr=0.0001, spam_task/spam_dataset/valid/accuracy=0.942, spam_task/spam_dataset/valid/f1=0.933]"
     ]
    },
    {
     "name": "stderr",
     "output_type": "stream",
     "text": [
      "\r",
      "Epoch 2::  36%|███▌      | 18/50 [00:04<00:07,  4.39it/s, model/all/train/loss=0.289, model/all/train/lr=0.0001, spam_task/spam_dataset/valid/accuracy=0.942, spam_task/spam_dataset/valid/f1=0.933]"
     ]
    },
    {
     "name": "stderr",
     "output_type": "stream",
     "text": [
      "\r",
      "Epoch 2::  38%|███▊      | 19/50 [00:04<00:07,  4.42it/s, model/all/train/loss=0.289, model/all/train/lr=0.0001, spam_task/spam_dataset/valid/accuracy=0.942, spam_task/spam_dataset/valid/f1=0.933]"
     ]
    },
    {
     "name": "stderr",
     "output_type": "stream",
     "text": [
      "\r",
      "Epoch 2::  38%|███▊      | 19/50 [00:04<00:07,  4.42it/s, model/all/train/loss=0.286, model/all/train/lr=0.0001, spam_task/spam_dataset/valid/accuracy=0.942, spam_task/spam_dataset/valid/f1=0.933]"
     ]
    },
    {
     "name": "stderr",
     "output_type": "stream",
     "text": [
      "\r",
      "Epoch 2::  40%|████      | 20/50 [00:04<00:06,  4.45it/s, model/all/train/loss=0.286, model/all/train/lr=0.0001, spam_task/spam_dataset/valid/accuracy=0.942, spam_task/spam_dataset/valid/f1=0.933]"
     ]
    },
    {
     "name": "stderr",
     "output_type": "stream",
     "text": [
      "\r",
      "Epoch 2::  40%|████      | 20/50 [00:04<00:06,  4.45it/s, model/all/train/loss=0.284, model/all/train/lr=0.0001, spam_task/spam_dataset/valid/accuracy=0.942, spam_task/spam_dataset/valid/f1=0.933]"
     ]
    },
    {
     "name": "stderr",
     "output_type": "stream",
     "text": [
      "\r",
      "Epoch 2::  42%|████▏     | 21/50 [00:04<00:06,  4.45it/s, model/all/train/loss=0.284, model/all/train/lr=0.0001, spam_task/spam_dataset/valid/accuracy=0.942, spam_task/spam_dataset/valid/f1=0.933]"
     ]
    },
    {
     "name": "stderr",
     "output_type": "stream",
     "text": [
      "\r",
      "Epoch 2::  42%|████▏     | 21/50 [00:04<00:06,  4.45it/s, model/all/train/loss=0.286, model/all/train/lr=0.0001, spam_task/spam_dataset/valid/accuracy=0.942, spam_task/spam_dataset/valid/f1=0.933]"
     ]
    },
    {
     "name": "stderr",
     "output_type": "stream",
     "text": [
      "\r",
      "Epoch 2::  44%|████▍     | 22/50 [00:04<00:06,  4.49it/s, model/all/train/loss=0.286, model/all/train/lr=0.0001, spam_task/spam_dataset/valid/accuracy=0.942, spam_task/spam_dataset/valid/f1=0.933]"
     ]
    },
    {
     "name": "stderr",
     "output_type": "stream",
     "text": [
      "\r",
      "Epoch 2::  44%|████▍     | 22/50 [00:05<00:06,  4.49it/s, model/all/train/loss=0.283, model/all/train/lr=0.0001, spam_task/spam_dataset/valid/accuracy=0.942, spam_task/spam_dataset/valid/f1=0.933]"
     ]
    },
    {
     "name": "stderr",
     "output_type": "stream",
     "text": [
      "\r",
      "Epoch 2::  46%|████▌     | 23/50 [00:05<00:06,  4.47it/s, model/all/train/loss=0.283, model/all/train/lr=0.0001, spam_task/spam_dataset/valid/accuracy=0.942, spam_task/spam_dataset/valid/f1=0.933]"
     ]
    },
    {
     "name": "stderr",
     "output_type": "stream",
     "text": [
      "\r",
      "Epoch 2::  46%|████▌     | 23/50 [00:05<00:06,  4.47it/s, model/all/train/loss=0.279, model/all/train/lr=0.0001, spam_task/spam_dataset/valid/accuracy=0.942, spam_task/spam_dataset/valid/f1=0.933]"
     ]
    },
    {
     "name": "stderr",
     "output_type": "stream",
     "text": [
      "\r",
      "Epoch 2::  48%|████▊     | 24/50 [00:05<00:05,  4.48it/s, model/all/train/loss=0.279, model/all/train/lr=0.0001, spam_task/spam_dataset/valid/accuracy=0.942, spam_task/spam_dataset/valid/f1=0.933]"
     ]
    },
    {
     "name": "stderr",
     "output_type": "stream",
     "text": [
      "\r",
      "Epoch 2::  48%|████▊     | 24/50 [00:05<00:05,  4.48it/s, model/all/train/loss=0.277, model/all/train/lr=0.0001, spam_task/spam_dataset/valid/accuracy=0.942, spam_task/spam_dataset/valid/f1=0.933]"
     ]
    },
    {
     "name": "stderr",
     "output_type": "stream",
     "text": [
      "\r",
      "Epoch 2::  50%|█████     | 25/50 [00:05<00:05,  4.46it/s, model/all/train/loss=0.277, model/all/train/lr=0.0001, spam_task/spam_dataset/valid/accuracy=0.942, spam_task/spam_dataset/valid/f1=0.933]"
     ]
    },
    {
     "name": "stderr",
     "output_type": "stream",
     "text": [
      "\r",
      "Epoch 2::  50%|█████     | 25/50 [00:05<00:05,  4.46it/s, model/all/train/loss=0.276, model/all/train/lr=0.0001, spam_task/spam_dataset/valid/accuracy=0.942, spam_task/spam_dataset/valid/f1=0.933]"
     ]
    },
    {
     "name": "stderr",
     "output_type": "stream",
     "text": [
      "\r",
      "Epoch 2::  52%|█████▏    | 26/50 [00:05<00:05,  4.40it/s, model/all/train/loss=0.276, model/all/train/lr=0.0001, spam_task/spam_dataset/valid/accuracy=0.942, spam_task/spam_dataset/valid/f1=0.933]"
     ]
    },
    {
     "name": "stderr",
     "output_type": "stream",
     "text": [
      "\r",
      "Epoch 2::  52%|█████▏    | 26/50 [00:06<00:05,  4.40it/s, model/all/train/loss=0.276, model/all/train/lr=0.0001, spam_task/spam_dataset/valid/accuracy=0.942, spam_task/spam_dataset/valid/f1=0.933]"
     ]
    },
    {
     "name": "stderr",
     "output_type": "stream",
     "text": [
      "\r",
      "Epoch 2::  54%|█████▍    | 27/50 [00:06<00:05,  4.40it/s, model/all/train/loss=0.276, model/all/train/lr=0.0001, spam_task/spam_dataset/valid/accuracy=0.942, spam_task/spam_dataset/valid/f1=0.933]"
     ]
    },
    {
     "name": "stderr",
     "output_type": "stream",
     "text": [
      "\r",
      "Epoch 2::  54%|█████▍    | 27/50 [00:06<00:05,  4.40it/s, model/all/train/loss=0.273, model/all/train/lr=0.0001, spam_task/spam_dataset/valid/accuracy=0.942, spam_task/spam_dataset/valid/f1=0.933]"
     ]
    },
    {
     "name": "stderr",
     "output_type": "stream",
     "text": [
      "\r",
      "Epoch 2::  56%|█████▌    | 28/50 [00:06<00:05,  4.35it/s, model/all/train/loss=0.273, model/all/train/lr=0.0001, spam_task/spam_dataset/valid/accuracy=0.942, spam_task/spam_dataset/valid/f1=0.933]"
     ]
    },
    {
     "name": "stderr",
     "output_type": "stream",
     "text": [
      "\r",
      "Epoch 2::  56%|█████▌    | 28/50 [00:06<00:05,  4.35it/s, model/all/train/loss=0.27, model/all/train/lr=0.0001, spam_task/spam_dataset/valid/accuracy=0.942, spam_task/spam_dataset/valid/f1=0.933] "
     ]
    },
    {
     "name": "stderr",
     "output_type": "stream",
     "text": [
      "\r",
      "Epoch 2::  58%|█████▊    | 29/50 [00:06<00:04,  4.29it/s, model/all/train/loss=0.27, model/all/train/lr=0.0001, spam_task/spam_dataset/valid/accuracy=0.942, spam_task/spam_dataset/valid/f1=0.933]"
     ]
    },
    {
     "name": "stderr",
     "output_type": "stream",
     "text": [
      "\r",
      "Epoch 2::  58%|█████▊    | 29/50 [00:06<00:04,  4.29it/s, model/all/train/loss=0.269, model/all/train/lr=0.0001, spam_task/spam_dataset/valid/accuracy=0.942, spam_task/spam_dataset/valid/f1=0.933]"
     ]
    },
    {
     "name": "stderr",
     "output_type": "stream",
     "text": [
      "\r",
      "Epoch 2::  60%|██████    | 30/50 [00:06<00:04,  4.40it/s, model/all/train/loss=0.269, model/all/train/lr=0.0001, spam_task/spam_dataset/valid/accuracy=0.942, spam_task/spam_dataset/valid/f1=0.933]"
     ]
    },
    {
     "name": "stderr",
     "output_type": "stream",
     "text": [
      "\r",
      "Epoch 2::  60%|██████    | 30/50 [00:06<00:04,  4.40it/s, model/all/train/loss=0.266, model/all/train/lr=0.0001, spam_task/spam_dataset/valid/accuracy=0.942, spam_task/spam_dataset/valid/f1=0.933]"
     ]
    },
    {
     "name": "stderr",
     "output_type": "stream",
     "text": [
      "\r",
      "Epoch 2::  62%|██████▏   | 31/50 [00:06<00:04,  4.48it/s, model/all/train/loss=0.266, model/all/train/lr=0.0001, spam_task/spam_dataset/valid/accuracy=0.942, spam_task/spam_dataset/valid/f1=0.933]"
     ]
    },
    {
     "name": "stderr",
     "output_type": "stream",
     "text": [
      "\r",
      "Epoch 2::  62%|██████▏   | 31/50 [00:07<00:04,  4.48it/s, model/all/train/loss=0.264, model/all/train/lr=0.0001, spam_task/spam_dataset/valid/accuracy=0.942, spam_task/spam_dataset/valid/f1=0.933]"
     ]
    },
    {
     "name": "stderr",
     "output_type": "stream",
     "text": [
      "\r",
      "Epoch 2::  64%|██████▍   | 32/50 [00:07<00:03,  4.53it/s, model/all/train/loss=0.264, model/all/train/lr=0.0001, spam_task/spam_dataset/valid/accuracy=0.942, spam_task/spam_dataset/valid/f1=0.933]"
     ]
    },
    {
     "name": "stderr",
     "output_type": "stream",
     "text": [
      "\r",
      "Epoch 2::  64%|██████▍   | 32/50 [00:07<00:03,  4.53it/s, model/all/train/loss=0.263, model/all/train/lr=0.0001, spam_task/spam_dataset/valid/accuracy=0.942, spam_task/spam_dataset/valid/f1=0.933]"
     ]
    },
    {
     "name": "stderr",
     "output_type": "stream",
     "text": [
      "\r",
      "Epoch 2::  66%|██████▌   | 33/50 [00:07<00:03,  4.49it/s, model/all/train/loss=0.263, model/all/train/lr=0.0001, spam_task/spam_dataset/valid/accuracy=0.942, spam_task/spam_dataset/valid/f1=0.933]"
     ]
    },
    {
     "name": "stderr",
     "output_type": "stream",
     "text": [
      "\r",
      "Epoch 2::  66%|██████▌   | 33/50 [00:07<00:03,  4.49it/s, model/all/train/loss=0.261, model/all/train/lr=0.0001, spam_task/spam_dataset/valid/accuracy=0.942, spam_task/spam_dataset/valid/f1=0.933]"
     ]
    },
    {
     "name": "stderr",
     "output_type": "stream",
     "text": [
      "\r",
      "Epoch 2::  68%|██████▊   | 34/50 [00:07<00:03,  4.40it/s, model/all/train/loss=0.261, model/all/train/lr=0.0001, spam_task/spam_dataset/valid/accuracy=0.942, spam_task/spam_dataset/valid/f1=0.933]"
     ]
    },
    {
     "name": "stderr",
     "output_type": "stream",
     "text": [
      "\r",
      "Epoch 2::  68%|██████▊   | 34/50 [00:07<00:03,  4.40it/s, model/all/train/loss=0.26, model/all/train/lr=0.0001, spam_task/spam_dataset/valid/accuracy=0.942, spam_task/spam_dataset/valid/f1=0.933] "
     ]
    },
    {
     "name": "stderr",
     "output_type": "stream",
     "text": [
      "\r",
      "Epoch 2::  70%|███████   | 35/50 [00:07<00:03,  4.41it/s, model/all/train/loss=0.26, model/all/train/lr=0.0001, spam_task/spam_dataset/valid/accuracy=0.942, spam_task/spam_dataset/valid/f1=0.933]"
     ]
    },
    {
     "name": "stderr",
     "output_type": "stream",
     "text": [
      "\r",
      "Epoch 2::  70%|███████   | 35/50 [00:08<00:03,  4.41it/s, model/all/train/loss=0.257, model/all/train/lr=0.0001, spam_task/spam_dataset/valid/accuracy=0.942, spam_task/spam_dataset/valid/f1=0.933]"
     ]
    },
    {
     "name": "stderr",
     "output_type": "stream",
     "text": [
      "\r",
      "Epoch 2::  72%|███████▏  | 36/50 [00:08<00:03,  4.26it/s, model/all/train/loss=0.257, model/all/train/lr=0.0001, spam_task/spam_dataset/valid/accuracy=0.942, spam_task/spam_dataset/valid/f1=0.933]"
     ]
    },
    {
     "name": "stderr",
     "output_type": "stream",
     "text": [
      "\r",
      "Epoch 2::  72%|███████▏  | 36/50 [00:08<00:03,  4.26it/s, model/all/train/loss=0.257, model/all/train/lr=0.0001, spam_task/spam_dataset/valid/accuracy=0.942, spam_task/spam_dataset/valid/f1=0.933]"
     ]
    },
    {
     "name": "stderr",
     "output_type": "stream",
     "text": [
      "\r",
      "Epoch 2::  74%|███████▍  | 37/50 [00:08<00:02,  4.35it/s, model/all/train/loss=0.257, model/all/train/lr=0.0001, spam_task/spam_dataset/valid/accuracy=0.942, spam_task/spam_dataset/valid/f1=0.933]"
     ]
    },
    {
     "name": "stderr",
     "output_type": "stream",
     "text": [
      "\r",
      "Epoch 2::  74%|███████▍  | 37/50 [00:08<00:02,  4.35it/s, model/all/train/loss=0.254, model/all/train/lr=0.0001, spam_task/spam_dataset/valid/accuracy=0.942, spam_task/spam_dataset/valid/f1=0.933]"
     ]
    },
    {
     "name": "stderr",
     "output_type": "stream",
     "text": [
      "\r",
      "Epoch 2::  76%|███████▌  | 38/50 [00:08<00:02,  4.41it/s, model/all/train/loss=0.254, model/all/train/lr=0.0001, spam_task/spam_dataset/valid/accuracy=0.942, spam_task/spam_dataset/valid/f1=0.933]"
     ]
    },
    {
     "name": "stderr",
     "output_type": "stream",
     "text": [
      "\r",
      "Epoch 2::  76%|███████▌  | 38/50 [00:08<00:02,  4.41it/s, model/all/train/loss=0.253, model/all/train/lr=0.0001, spam_task/spam_dataset/valid/accuracy=0.942, spam_task/spam_dataset/valid/f1=0.933]"
     ]
    },
    {
     "name": "stderr",
     "output_type": "stream",
     "text": [
      "\r",
      "Epoch 2::  78%|███████▊  | 39/50 [00:08<00:02,  4.46it/s, model/all/train/loss=0.253, model/all/train/lr=0.0001, spam_task/spam_dataset/valid/accuracy=0.942, spam_task/spam_dataset/valid/f1=0.933]"
     ]
    },
    {
     "name": "stderr",
     "output_type": "stream",
     "text": [
      "\r",
      "Epoch 2::  78%|███████▊  | 39/50 [00:09<00:02,  4.46it/s, model/all/train/loss=0.253, model/all/train/lr=0.0001, spam_task/spam_dataset/valid/accuracy=0.942, spam_task/spam_dataset/valid/f1=0.933]"
     ]
    },
    {
     "name": "stderr",
     "output_type": "stream",
     "text": [
      "\r",
      "Epoch 2::  80%|████████  | 40/50 [00:09<00:02,  4.40it/s, model/all/train/loss=0.253, model/all/train/lr=0.0001, spam_task/spam_dataset/valid/accuracy=0.942, spam_task/spam_dataset/valid/f1=0.933]"
     ]
    },
    {
     "name": "stderr",
     "output_type": "stream",
     "text": [
      "\r",
      "Epoch 2::  80%|████████  | 40/50 [00:09<00:02,  4.40it/s, model/all/train/loss=0.254, model/all/train/lr=0.0001, spam_task/spam_dataset/valid/accuracy=0.942, spam_task/spam_dataset/valid/f1=0.933]"
     ]
    },
    {
     "name": "stderr",
     "output_type": "stream",
     "text": [
      "\r",
      "Epoch 2::  82%|████████▏ | 41/50 [00:09<00:02,  4.37it/s, model/all/train/loss=0.254, model/all/train/lr=0.0001, spam_task/spam_dataset/valid/accuracy=0.942, spam_task/spam_dataset/valid/f1=0.933]"
     ]
    },
    {
     "name": "stderr",
     "output_type": "stream",
     "text": [
      "\r",
      "Epoch 2::  82%|████████▏ | 41/50 [00:09<00:02,  4.37it/s, model/all/train/loss=0.252, model/all/train/lr=0.0001, spam_task/spam_dataset/valid/accuracy=0.942, spam_task/spam_dataset/valid/f1=0.933]"
     ]
    },
    {
     "name": "stderr",
     "output_type": "stream",
     "text": [
      "\r",
      "Epoch 2::  84%|████████▍ | 42/50 [00:09<00:01,  4.36it/s, model/all/train/loss=0.252, model/all/train/lr=0.0001, spam_task/spam_dataset/valid/accuracy=0.942, spam_task/spam_dataset/valid/f1=0.933]"
     ]
    },
    {
     "name": "stderr",
     "output_type": "stream",
     "text": [
      "\r",
      "Epoch 2::  84%|████████▍ | 42/50 [00:09<00:01,  4.36it/s, model/all/train/loss=0.252, model/all/train/lr=0.0001, spam_task/spam_dataset/valid/accuracy=0.942, spam_task/spam_dataset/valid/f1=0.933]"
     ]
    },
    {
     "name": "stderr",
     "output_type": "stream",
     "text": [
      "\r",
      "Epoch 2::  86%|████████▌ | 43/50 [00:09<00:01,  4.40it/s, model/all/train/loss=0.252, model/all/train/lr=0.0001, spam_task/spam_dataset/valid/accuracy=0.942, spam_task/spam_dataset/valid/f1=0.933]"
     ]
    },
    {
     "name": "stderr",
     "output_type": "stream",
     "text": [
      "\r",
      "Epoch 2::  86%|████████▌ | 43/50 [00:09<00:01,  4.40it/s, model/all/train/loss=0.25, model/all/train/lr=0.0001, spam_task/spam_dataset/valid/accuracy=0.942, spam_task/spam_dataset/valid/f1=0.933] "
     ]
    },
    {
     "name": "stderr",
     "output_type": "stream",
     "text": [
      "\r",
      "Epoch 2::  88%|████████▊ | 44/50 [00:09<00:01,  4.25it/s, model/all/train/loss=0.25, model/all/train/lr=0.0001, spam_task/spam_dataset/valid/accuracy=0.942, spam_task/spam_dataset/valid/f1=0.933]"
     ]
    },
    {
     "name": "stderr",
     "output_type": "stream",
     "text": [
      "\r",
      "Epoch 2::  88%|████████▊ | 44/50 [00:10<00:01,  4.25it/s, model/all/train/loss=0.248, model/all/train/lr=0.0001, spam_task/spam_dataset/valid/accuracy=0.942, spam_task/spam_dataset/valid/f1=0.933]"
     ]
    },
    {
     "name": "stderr",
     "output_type": "stream",
     "text": [
      "\r",
      "Epoch 2::  90%|█████████ | 45/50 [00:10<00:01,  4.26it/s, model/all/train/loss=0.248, model/all/train/lr=0.0001, spam_task/spam_dataset/valid/accuracy=0.942, spam_task/spam_dataset/valid/f1=0.933]"
     ]
    },
    {
     "name": "stderr",
     "output_type": "stream",
     "text": [
      "\r",
      "Epoch 2::  90%|█████████ | 45/50 [00:10<00:01,  4.26it/s, model/all/train/loss=0.247, model/all/train/lr=0.0001, spam_task/spam_dataset/valid/accuracy=0.942, spam_task/spam_dataset/valid/f1=0.933]"
     ]
    },
    {
     "name": "stderr",
     "output_type": "stream",
     "text": [
      "\r",
      "Epoch 2::  92%|█████████▏| 46/50 [00:10<00:00,  4.38it/s, model/all/train/loss=0.247, model/all/train/lr=0.0001, spam_task/spam_dataset/valid/accuracy=0.942, spam_task/spam_dataset/valid/f1=0.933]"
     ]
    },
    {
     "name": "stderr",
     "output_type": "stream",
     "text": [
      "\r",
      "Epoch 2::  92%|█████████▏| 46/50 [00:10<00:00,  4.38it/s, model/all/train/loss=0.247, model/all/train/lr=0.0001, spam_task/spam_dataset/valid/accuracy=0.942, spam_task/spam_dataset/valid/f1=0.933]"
     ]
    },
    {
     "name": "stderr",
     "output_type": "stream",
     "text": [
      "\r",
      "Epoch 2::  94%|█████████▍| 47/50 [00:10<00:00,  4.49it/s, model/all/train/loss=0.247, model/all/train/lr=0.0001, spam_task/spam_dataset/valid/accuracy=0.942, spam_task/spam_dataset/valid/f1=0.933]"
     ]
    },
    {
     "name": "stderr",
     "output_type": "stream",
     "text": [
      "\r",
      "Epoch 2::  94%|█████████▍| 47/50 [00:10<00:00,  4.49it/s, model/all/train/loss=0.246, model/all/train/lr=0.0001, spam_task/spam_dataset/valid/accuracy=0.942, spam_task/spam_dataset/valid/f1=0.933]"
     ]
    },
    {
     "name": "stderr",
     "output_type": "stream",
     "text": [
      "\r",
      "Epoch 2::  96%|█████████▌| 48/50 [00:10<00:00,  4.57it/s, model/all/train/loss=0.246, model/all/train/lr=0.0001, spam_task/spam_dataset/valid/accuracy=0.942, spam_task/spam_dataset/valid/f1=0.933]"
     ]
    },
    {
     "name": "stderr",
     "output_type": "stream",
     "text": [
      "\r",
      "Epoch 2::  96%|█████████▌| 48/50 [00:11<00:00,  4.57it/s, model/all/train/loss=0.244, model/all/train/lr=0.0001, spam_task/spam_dataset/valid/accuracy=0.942, spam_task/spam_dataset/valid/f1=0.933]"
     ]
    },
    {
     "name": "stderr",
     "output_type": "stream",
     "text": [
      "\r",
      "Epoch 2::  98%|█████████▊| 49/50 [00:11<00:00,  4.50it/s, model/all/train/loss=0.244, model/all/train/lr=0.0001, spam_task/spam_dataset/valid/accuracy=0.942, spam_task/spam_dataset/valid/f1=0.933]"
     ]
    },
    {
     "name": "stderr",
     "output_type": "stream",
     "text": [
      "\r",
      "Epoch 2::  98%|█████████▊| 49/50 [00:11<00:00,  4.50it/s, model/all/train/loss=0.242, model/all/train/lr=0.0001, spam_task/spam_dataset/valid/accuracy=0.933, spam_task/spam_dataset/valid/f1=0.923]"
     ]
    },
    {
     "name": "stderr",
     "output_type": "stream",
     "text": [
      "\r",
      "Epoch 2:: 100%|██████████| 50/50 [00:11<00:00,  4.22it/s, model/all/train/loss=0.242, model/all/train/lr=0.0001, spam_task/spam_dataset/valid/accuracy=0.933, spam_task/spam_dataset/valid/f1=0.923]"
     ]
    },
    {
     "name": "stderr",
     "output_type": "stream",
     "text": [
      "\n",
      "\r",
      "Epoch 3::   0%|          | 0/50 [00:00<?, ?it/s]"
     ]
    },
    {
     "name": "stderr",
     "output_type": "stream",
     "text": [
      "\r",
      "Epoch 3::   0%|          | 0/50 [00:00<?, ?it/s, model/all/train/loss=0.115, model/all/train/lr=0.0001, spam_task/spam_dataset/valid/accuracy=0.933, spam_task/spam_dataset/valid/f1=0.923]"
     ]
    },
    {
     "name": "stderr",
     "output_type": "stream",
     "text": [
      "\r",
      "Epoch 3::   2%|▏         | 1/50 [00:00<00:11,  4.23it/s, model/all/train/loss=0.115, model/all/train/lr=0.0001, spam_task/spam_dataset/valid/accuracy=0.933, spam_task/spam_dataset/valid/f1=0.923]"
     ]
    },
    {
     "name": "stderr",
     "output_type": "stream",
     "text": [
      "\r",
      "Epoch 3::   2%|▏         | 1/50 [00:00<00:11,  4.23it/s, model/all/train/loss=0.11, model/all/train/lr=0.0001, spam_task/spam_dataset/valid/accuracy=0.933, spam_task/spam_dataset/valid/f1=0.923] "
     ]
    },
    {
     "name": "stderr",
     "output_type": "stream",
     "text": [
      "\r",
      "Epoch 3::   4%|▍         | 2/50 [00:00<00:11,  4.31it/s, model/all/train/loss=0.11, model/all/train/lr=0.0001, spam_task/spam_dataset/valid/accuracy=0.933, spam_task/spam_dataset/valid/f1=0.923]"
     ]
    },
    {
     "name": "stderr",
     "output_type": "stream",
     "text": [
      "\r",
      "Epoch 3::   4%|▍         | 2/50 [00:00<00:11,  4.31it/s, model/all/train/loss=0.143, model/all/train/lr=0.0001, spam_task/spam_dataset/valid/accuracy=0.933, spam_task/spam_dataset/valid/f1=0.923]"
     ]
    },
    {
     "name": "stderr",
     "output_type": "stream",
     "text": [
      "\r",
      "Epoch 3::   6%|▌         | 3/50 [00:00<00:10,  4.31it/s, model/all/train/loss=0.143, model/all/train/lr=0.0001, spam_task/spam_dataset/valid/accuracy=0.933, spam_task/spam_dataset/valid/f1=0.923]"
     ]
    },
    {
     "name": "stderr",
     "output_type": "stream",
     "text": [
      "\r",
      "Epoch 3::   6%|▌         | 3/50 [00:00<00:10,  4.31it/s, model/all/train/loss=0.149, model/all/train/lr=0.0001, spam_task/spam_dataset/valid/accuracy=0.933, spam_task/spam_dataset/valid/f1=0.923]"
     ]
    },
    {
     "name": "stderr",
     "output_type": "stream",
     "text": [
      "\r",
      "Epoch 3::   8%|▊         | 4/50 [00:00<00:10,  4.30it/s, model/all/train/loss=0.149, model/all/train/lr=0.0001, spam_task/spam_dataset/valid/accuracy=0.933, spam_task/spam_dataset/valid/f1=0.923]"
     ]
    },
    {
     "name": "stderr",
     "output_type": "stream",
     "text": [
      "\r",
      "Epoch 3::   8%|▊         | 4/50 [00:01<00:10,  4.30it/s, model/all/train/loss=0.153, model/all/train/lr=0.0001, spam_task/spam_dataset/valid/accuracy=0.933, spam_task/spam_dataset/valid/f1=0.923]"
     ]
    },
    {
     "name": "stderr",
     "output_type": "stream",
     "text": [
      "\r",
      "Epoch 3::  10%|█         | 5/50 [00:01<00:10,  4.33it/s, model/all/train/loss=0.153, model/all/train/lr=0.0001, spam_task/spam_dataset/valid/accuracy=0.933, spam_task/spam_dataset/valid/f1=0.923]"
     ]
    },
    {
     "name": "stderr",
     "output_type": "stream",
     "text": [
      "\r",
      "Epoch 3::  10%|█         | 5/50 [00:01<00:10,  4.33it/s, model/all/train/loss=0.162, model/all/train/lr=0.0001, spam_task/spam_dataset/valid/accuracy=0.933, spam_task/spam_dataset/valid/f1=0.923]"
     ]
    },
    {
     "name": "stderr",
     "output_type": "stream",
     "text": [
      "\r",
      "Epoch 3::  12%|█▏        | 6/50 [00:01<00:09,  4.44it/s, model/all/train/loss=0.162, model/all/train/lr=0.0001, spam_task/spam_dataset/valid/accuracy=0.933, spam_task/spam_dataset/valid/f1=0.923]"
     ]
    },
    {
     "name": "stderr",
     "output_type": "stream",
     "text": [
      "\r",
      "Epoch 3::  12%|█▏        | 6/50 [00:01<00:09,  4.44it/s, model/all/train/loss=0.156, model/all/train/lr=0.0001, spam_task/spam_dataset/valid/accuracy=0.933, spam_task/spam_dataset/valid/f1=0.923]"
     ]
    },
    {
     "name": "stderr",
     "output_type": "stream",
     "text": [
      "\r",
      "Epoch 3::  14%|█▍        | 7/50 [00:01<00:09,  4.50it/s, model/all/train/loss=0.156, model/all/train/lr=0.0001, spam_task/spam_dataset/valid/accuracy=0.933, spam_task/spam_dataset/valid/f1=0.923]"
     ]
    },
    {
     "name": "stderr",
     "output_type": "stream",
     "text": [
      "\r",
      "Epoch 3::  14%|█▍        | 7/50 [00:01<00:09,  4.50it/s, model/all/train/loss=0.151, model/all/train/lr=0.0001, spam_task/spam_dataset/valid/accuracy=0.933, spam_task/spam_dataset/valid/f1=0.923]"
     ]
    },
    {
     "name": "stderr",
     "output_type": "stream",
     "text": [
      "\r",
      "Epoch 3::  16%|█▌        | 8/50 [00:01<00:09,  4.43it/s, model/all/train/loss=0.151, model/all/train/lr=0.0001, spam_task/spam_dataset/valid/accuracy=0.933, spam_task/spam_dataset/valid/f1=0.923]"
     ]
    },
    {
     "name": "stderr",
     "output_type": "stream",
     "text": [
      "\r",
      "Epoch 3::  16%|█▌        | 8/50 [00:02<00:09,  4.43it/s, model/all/train/loss=0.152, model/all/train/lr=0.0001, spam_task/spam_dataset/valid/accuracy=0.933, spam_task/spam_dataset/valid/f1=0.923]"
     ]
    },
    {
     "name": "stderr",
     "output_type": "stream",
     "text": [
      "\r",
      "Epoch 3::  18%|█▊        | 9/50 [00:02<00:09,  4.47it/s, model/all/train/loss=0.152, model/all/train/lr=0.0001, spam_task/spam_dataset/valid/accuracy=0.933, spam_task/spam_dataset/valid/f1=0.923]"
     ]
    },
    {
     "name": "stderr",
     "output_type": "stream",
     "text": [
      "\r",
      "Epoch 3::  18%|█▊        | 9/50 [00:02<00:09,  4.47it/s, model/all/train/loss=0.153, model/all/train/lr=0.0001, spam_task/spam_dataset/valid/accuracy=0.933, spam_task/spam_dataset/valid/f1=0.923]"
     ]
    },
    {
     "name": "stderr",
     "output_type": "stream",
     "text": [
      "\r",
      "Epoch 3::  20%|██        | 10/50 [00:02<00:08,  4.47it/s, model/all/train/loss=0.153, model/all/train/lr=0.0001, spam_task/spam_dataset/valid/accuracy=0.933, spam_task/spam_dataset/valid/f1=0.923]"
     ]
    },
    {
     "name": "stderr",
     "output_type": "stream",
     "text": [
      "\r",
      "Epoch 3::  20%|██        | 10/50 [00:02<00:08,  4.47it/s, model/all/train/loss=0.158, model/all/train/lr=0.0001, spam_task/spam_dataset/valid/accuracy=0.933, spam_task/spam_dataset/valid/f1=0.923]"
     ]
    },
    {
     "name": "stderr",
     "output_type": "stream",
     "text": [
      "\r",
      "Epoch 3::  22%|██▏       | 11/50 [00:02<00:08,  4.44it/s, model/all/train/loss=0.158, model/all/train/lr=0.0001, spam_task/spam_dataset/valid/accuracy=0.933, spam_task/spam_dataset/valid/f1=0.923]"
     ]
    },
    {
     "name": "stderr",
     "output_type": "stream",
     "text": [
      "\r",
      "Epoch 3::  22%|██▏       | 11/50 [00:02<00:08,  4.44it/s, model/all/train/loss=0.162, model/all/train/lr=0.0001, spam_task/spam_dataset/valid/accuracy=0.933, spam_task/spam_dataset/valid/f1=0.923]"
     ]
    },
    {
     "name": "stderr",
     "output_type": "stream",
     "text": [
      "\r",
      "Epoch 3::  24%|██▍       | 12/50 [00:02<00:08,  4.44it/s, model/all/train/loss=0.162, model/all/train/lr=0.0001, spam_task/spam_dataset/valid/accuracy=0.933, spam_task/spam_dataset/valid/f1=0.923]"
     ]
    },
    {
     "name": "stderr",
     "output_type": "stream",
     "text": [
      "\r",
      "Epoch 3::  24%|██▍       | 12/50 [00:02<00:08,  4.44it/s, model/all/train/loss=0.163, model/all/train/lr=0.0001, spam_task/spam_dataset/valid/accuracy=0.933, spam_task/spam_dataset/valid/f1=0.923]"
     ]
    },
    {
     "name": "stderr",
     "output_type": "stream",
     "text": [
      "\r",
      "Epoch 3::  26%|██▌       | 13/50 [00:02<00:08,  4.52it/s, model/all/train/loss=0.163, model/all/train/lr=0.0001, spam_task/spam_dataset/valid/accuracy=0.933, spam_task/spam_dataset/valid/f1=0.923]"
     ]
    },
    {
     "name": "stderr",
     "output_type": "stream",
     "text": [
      "\r",
      "Epoch 3::  26%|██▌       | 13/50 [00:03<00:08,  4.52it/s, model/all/train/loss=0.164, model/all/train/lr=0.0001, spam_task/spam_dataset/valid/accuracy=0.933, spam_task/spam_dataset/valid/f1=0.923]"
     ]
    },
    {
     "name": "stderr",
     "output_type": "stream",
     "text": [
      "\r",
      "Epoch 3::  28%|██▊       | 14/50 [00:03<00:07,  4.57it/s, model/all/train/loss=0.164, model/all/train/lr=0.0001, spam_task/spam_dataset/valid/accuracy=0.933, spam_task/spam_dataset/valid/f1=0.923]"
     ]
    },
    {
     "name": "stderr",
     "output_type": "stream",
     "text": [
      "\r",
      "Epoch 3::  28%|██▊       | 14/50 [00:03<00:07,  4.57it/s, model/all/train/loss=0.166, model/all/train/lr=0.0001, spam_task/spam_dataset/valid/accuracy=0.933, spam_task/spam_dataset/valid/f1=0.923]"
     ]
    },
    {
     "name": "stderr",
     "output_type": "stream",
     "text": [
      "\r",
      "Epoch 3::  30%|███       | 15/50 [00:03<00:07,  4.60it/s, model/all/train/loss=0.166, model/all/train/lr=0.0001, spam_task/spam_dataset/valid/accuracy=0.933, spam_task/spam_dataset/valid/f1=0.923]"
     ]
    },
    {
     "name": "stderr",
     "output_type": "stream",
     "text": [
      "\r",
      "Epoch 3::  30%|███       | 15/50 [00:03<00:07,  4.60it/s, model/all/train/loss=0.168, model/all/train/lr=0.0001, spam_task/spam_dataset/valid/accuracy=0.933, spam_task/spam_dataset/valid/f1=0.923]"
     ]
    },
    {
     "name": "stderr",
     "output_type": "stream",
     "text": [
      "\r",
      "Epoch 3::  32%|███▏      | 16/50 [00:03<00:07,  4.66it/s, model/all/train/loss=0.168, model/all/train/lr=0.0001, spam_task/spam_dataset/valid/accuracy=0.933, spam_task/spam_dataset/valid/f1=0.923]"
     ]
    },
    {
     "name": "stderr",
     "output_type": "stream",
     "text": [
      "\r",
      "Epoch 3::  32%|███▏      | 16/50 [00:03<00:07,  4.66it/s, model/all/train/loss=0.168, model/all/train/lr=0.0001, spam_task/spam_dataset/valid/accuracy=0.933, spam_task/spam_dataset/valid/f1=0.923]"
     ]
    },
    {
     "name": "stderr",
     "output_type": "stream",
     "text": [
      "\r",
      "Epoch 3::  34%|███▍      | 17/50 [00:03<00:07,  4.65it/s, model/all/train/loss=0.168, model/all/train/lr=0.0001, spam_task/spam_dataset/valid/accuracy=0.933, spam_task/spam_dataset/valid/f1=0.923]"
     ]
    },
    {
     "name": "stderr",
     "output_type": "stream",
     "text": [
      "\r",
      "Epoch 3::  34%|███▍      | 17/50 [00:04<00:07,  4.65it/s, model/all/train/loss=0.165, model/all/train/lr=0.0001, spam_task/spam_dataset/valid/accuracy=0.933, spam_task/spam_dataset/valid/f1=0.923]"
     ]
    },
    {
     "name": "stderr",
     "output_type": "stream",
     "text": [
      "\r",
      "Epoch 3::  36%|███▌      | 18/50 [00:04<00:07,  4.50it/s, model/all/train/loss=0.165, model/all/train/lr=0.0001, spam_task/spam_dataset/valid/accuracy=0.933, spam_task/spam_dataset/valid/f1=0.923]"
     ]
    },
    {
     "name": "stderr",
     "output_type": "stream",
     "text": [
      "\r",
      "Epoch 3::  36%|███▌      | 18/50 [00:04<00:07,  4.50it/s, model/all/train/loss=0.163, model/all/train/lr=0.0001, spam_task/spam_dataset/valid/accuracy=0.933, spam_task/spam_dataset/valid/f1=0.923]"
     ]
    },
    {
     "name": "stderr",
     "output_type": "stream",
     "text": [
      "\r",
      "Epoch 3::  38%|███▊      | 19/50 [00:04<00:07,  4.42it/s, model/all/train/loss=0.163, model/all/train/lr=0.0001, spam_task/spam_dataset/valid/accuracy=0.933, spam_task/spam_dataset/valid/f1=0.923]"
     ]
    },
    {
     "name": "stderr",
     "output_type": "stream",
     "text": [
      "\r",
      "Epoch 3::  38%|███▊      | 19/50 [00:04<00:07,  4.42it/s, model/all/train/loss=0.16, model/all/train/lr=0.0001, spam_task/spam_dataset/valid/accuracy=0.933, spam_task/spam_dataset/valid/f1=0.923] "
     ]
    },
    {
     "name": "stderr",
     "output_type": "stream",
     "text": [
      "\r",
      "Epoch 3::  40%|████      | 20/50 [00:04<00:06,  4.38it/s, model/all/train/loss=0.16, model/all/train/lr=0.0001, spam_task/spam_dataset/valid/accuracy=0.933, spam_task/spam_dataset/valid/f1=0.923]"
     ]
    },
    {
     "name": "stderr",
     "output_type": "stream",
     "text": [
      "\r",
      "Epoch 3::  40%|████      | 20/50 [00:04<00:06,  4.38it/s, model/all/train/loss=0.159, model/all/train/lr=0.0001, spam_task/spam_dataset/valid/accuracy=0.933, spam_task/spam_dataset/valid/f1=0.923]"
     ]
    },
    {
     "name": "stderr",
     "output_type": "stream",
     "text": [
      "\r",
      "Epoch 3::  42%|████▏     | 21/50 [00:04<00:06,  4.38it/s, model/all/train/loss=0.159, model/all/train/lr=0.0001, spam_task/spam_dataset/valid/accuracy=0.933, spam_task/spam_dataset/valid/f1=0.923]"
     ]
    },
    {
     "name": "stderr",
     "output_type": "stream",
     "text": [
      "\r",
      "Epoch 3::  42%|████▏     | 21/50 [00:04<00:06,  4.38it/s, model/all/train/loss=0.158, model/all/train/lr=0.0001, spam_task/spam_dataset/valid/accuracy=0.933, spam_task/spam_dataset/valid/f1=0.923]"
     ]
    },
    {
     "name": "stderr",
     "output_type": "stream",
     "text": [
      "\r",
      "Epoch 3::  44%|████▍     | 22/50 [00:04<00:06,  4.44it/s, model/all/train/loss=0.158, model/all/train/lr=0.0001, spam_task/spam_dataset/valid/accuracy=0.933, spam_task/spam_dataset/valid/f1=0.923]"
     ]
    },
    {
     "name": "stderr",
     "output_type": "stream",
     "text": [
      "\r",
      "Epoch 3::  44%|████▍     | 22/50 [00:05<00:06,  4.44it/s, model/all/train/loss=0.157, model/all/train/lr=0.0001, spam_task/spam_dataset/valid/accuracy=0.933, spam_task/spam_dataset/valid/f1=0.923]"
     ]
    },
    {
     "name": "stderr",
     "output_type": "stream",
     "text": [
      "\r",
      "Epoch 3::  46%|████▌     | 23/50 [00:05<00:06,  4.41it/s, model/all/train/loss=0.157, model/all/train/lr=0.0001, spam_task/spam_dataset/valid/accuracy=0.933, spam_task/spam_dataset/valid/f1=0.923]"
     ]
    },
    {
     "name": "stderr",
     "output_type": "stream",
     "text": [
      "\r",
      "Epoch 3::  46%|████▌     | 23/50 [00:05<00:06,  4.41it/s, model/all/train/loss=0.157, model/all/train/lr=0.0001, spam_task/spam_dataset/valid/accuracy=0.933, spam_task/spam_dataset/valid/f1=0.923]"
     ]
    },
    {
     "name": "stderr",
     "output_type": "stream",
     "text": [
      "\r",
      "Epoch 3::  48%|████▊     | 24/50 [00:05<00:05,  4.37it/s, model/all/train/loss=0.157, model/all/train/lr=0.0001, spam_task/spam_dataset/valid/accuracy=0.933, spam_task/spam_dataset/valid/f1=0.923]"
     ]
    },
    {
     "name": "stderr",
     "output_type": "stream",
     "text": [
      "\r",
      "Epoch 3::  48%|████▊     | 24/50 [00:05<00:05,  4.37it/s, model/all/train/loss=0.153, model/all/train/lr=0.0001, spam_task/spam_dataset/valid/accuracy=0.933, spam_task/spam_dataset/valid/f1=0.923]"
     ]
    },
    {
     "name": "stderr",
     "output_type": "stream",
     "text": [
      "\r",
      "Epoch 3::  50%|█████     | 25/50 [00:05<00:05,  4.41it/s, model/all/train/loss=0.153, model/all/train/lr=0.0001, spam_task/spam_dataset/valid/accuracy=0.933, spam_task/spam_dataset/valid/f1=0.923]"
     ]
    },
    {
     "name": "stderr",
     "output_type": "stream",
     "text": [
      "\r",
      "Epoch 3::  50%|█████     | 25/50 [00:05<00:05,  4.41it/s, model/all/train/loss=0.153, model/all/train/lr=0.0001, spam_task/spam_dataset/valid/accuracy=0.933, spam_task/spam_dataset/valid/f1=0.923]"
     ]
    },
    {
     "name": "stderr",
     "output_type": "stream",
     "text": [
      "\r",
      "Epoch 3::  52%|█████▏    | 26/50 [00:05<00:05,  4.39it/s, model/all/train/loss=0.153, model/all/train/lr=0.0001, spam_task/spam_dataset/valid/accuracy=0.933, spam_task/spam_dataset/valid/f1=0.923]"
     ]
    },
    {
     "name": "stderr",
     "output_type": "stream",
     "text": [
      "\r",
      "Epoch 3::  52%|█████▏    | 26/50 [00:06<00:05,  4.39it/s, model/all/train/loss=0.153, model/all/train/lr=0.0001, spam_task/spam_dataset/valid/accuracy=0.933, spam_task/spam_dataset/valid/f1=0.923]"
     ]
    },
    {
     "name": "stderr",
     "output_type": "stream",
     "text": [
      "\r",
      "Epoch 3::  54%|█████▍    | 27/50 [00:06<00:05,  4.46it/s, model/all/train/loss=0.153, model/all/train/lr=0.0001, spam_task/spam_dataset/valid/accuracy=0.933, spam_task/spam_dataset/valid/f1=0.923]"
     ]
    },
    {
     "name": "stderr",
     "output_type": "stream",
     "text": [
      "\r",
      "Epoch 3::  54%|█████▍    | 27/50 [00:06<00:05,  4.46it/s, model/all/train/loss=0.15, model/all/train/lr=0.0001, spam_task/spam_dataset/valid/accuracy=0.933, spam_task/spam_dataset/valid/f1=0.923] "
     ]
    },
    {
     "name": "stderr",
     "output_type": "stream",
     "text": [
      "\r",
      "Epoch 3::  56%|█████▌    | 28/50 [00:06<00:05,  4.39it/s, model/all/train/loss=0.15, model/all/train/lr=0.0001, spam_task/spam_dataset/valid/accuracy=0.933, spam_task/spam_dataset/valid/f1=0.923]"
     ]
    },
    {
     "name": "stderr",
     "output_type": "stream",
     "text": [
      "\r",
      "Epoch 3::  56%|█████▌    | 28/50 [00:06<00:05,  4.39it/s, model/all/train/loss=0.148, model/all/train/lr=0.0001, spam_task/spam_dataset/valid/accuracy=0.933, spam_task/spam_dataset/valid/f1=0.923]"
     ]
    },
    {
     "name": "stderr",
     "output_type": "stream",
     "text": [
      "\r",
      "Epoch 3::  58%|█████▊    | 29/50 [00:06<00:04,  4.38it/s, model/all/train/loss=0.148, model/all/train/lr=0.0001, spam_task/spam_dataset/valid/accuracy=0.933, spam_task/spam_dataset/valid/f1=0.923]"
     ]
    },
    {
     "name": "stderr",
     "output_type": "stream",
     "text": [
      "\r",
      "Epoch 3::  58%|█████▊    | 29/50 [00:06<00:04,  4.38it/s, model/all/train/loss=0.147, model/all/train/lr=0.0001, spam_task/spam_dataset/valid/accuracy=0.933, spam_task/spam_dataset/valid/f1=0.923]"
     ]
    },
    {
     "name": "stderr",
     "output_type": "stream",
     "text": [
      "\r",
      "Epoch 3::  60%|██████    | 30/50 [00:06<00:04,  4.27it/s, model/all/train/loss=0.147, model/all/train/lr=0.0001, spam_task/spam_dataset/valid/accuracy=0.933, spam_task/spam_dataset/valid/f1=0.923]"
     ]
    },
    {
     "name": "stderr",
     "output_type": "stream",
     "text": [
      "\r",
      "Epoch 3::  60%|██████    | 30/50 [00:06<00:04,  4.27it/s, model/all/train/loss=0.148, model/all/train/lr=0.0001, spam_task/spam_dataset/valid/accuracy=0.933, spam_task/spam_dataset/valid/f1=0.923]"
     ]
    },
    {
     "name": "stderr",
     "output_type": "stream",
     "text": [
      "\r",
      "Epoch 3::  62%|██████▏   | 31/50 [00:06<00:04,  4.36it/s, model/all/train/loss=0.148, model/all/train/lr=0.0001, spam_task/spam_dataset/valid/accuracy=0.933, spam_task/spam_dataset/valid/f1=0.923]"
     ]
    },
    {
     "name": "stderr",
     "output_type": "stream",
     "text": [
      "\r",
      "Epoch 3::  62%|██████▏   | 31/50 [00:07<00:04,  4.36it/s, model/all/train/loss=0.148, model/all/train/lr=0.0001, spam_task/spam_dataset/valid/accuracy=0.933, spam_task/spam_dataset/valid/f1=0.923]"
     ]
    },
    {
     "name": "stderr",
     "output_type": "stream",
     "text": [
      "\r",
      "Epoch 3::  64%|██████▍   | 32/50 [00:07<00:04,  4.37it/s, model/all/train/loss=0.148, model/all/train/lr=0.0001, spam_task/spam_dataset/valid/accuracy=0.933, spam_task/spam_dataset/valid/f1=0.923]"
     ]
    },
    {
     "name": "stderr",
     "output_type": "stream",
     "text": [
      "\r",
      "Epoch 3::  64%|██████▍   | 32/50 [00:07<00:04,  4.37it/s, model/all/train/loss=0.145, model/all/train/lr=0.0001, spam_task/spam_dataset/valid/accuracy=0.933, spam_task/spam_dataset/valid/f1=0.923]"
     ]
    },
    {
     "name": "stderr",
     "output_type": "stream",
     "text": [
      "\r",
      "Epoch 3::  66%|██████▌   | 33/50 [00:07<00:03,  4.33it/s, model/all/train/loss=0.145, model/all/train/lr=0.0001, spam_task/spam_dataset/valid/accuracy=0.933, spam_task/spam_dataset/valid/f1=0.923]"
     ]
    },
    {
     "name": "stderr",
     "output_type": "stream",
     "text": [
      "\r",
      "Epoch 3::  66%|██████▌   | 33/50 [00:07<00:03,  4.33it/s, model/all/train/loss=0.147, model/all/train/lr=0.0001, spam_task/spam_dataset/valid/accuracy=0.933, spam_task/spam_dataset/valid/f1=0.923]"
     ]
    },
    {
     "name": "stderr",
     "output_type": "stream",
     "text": [
      "\r",
      "Epoch 3::  68%|██████▊   | 34/50 [00:07<00:03,  4.42it/s, model/all/train/loss=0.147, model/all/train/lr=0.0001, spam_task/spam_dataset/valid/accuracy=0.933, spam_task/spam_dataset/valid/f1=0.923]"
     ]
    },
    {
     "name": "stderr",
     "output_type": "stream",
     "text": [
      "\r",
      "Epoch 3::  68%|██████▊   | 34/50 [00:07<00:03,  4.42it/s, model/all/train/loss=0.146, model/all/train/lr=0.0001, spam_task/spam_dataset/valid/accuracy=0.933, spam_task/spam_dataset/valid/f1=0.923]"
     ]
    },
    {
     "name": "stderr",
     "output_type": "stream",
     "text": [
      "\r",
      "Epoch 3::  70%|███████   | 35/50 [00:07<00:03,  4.47it/s, model/all/train/loss=0.146, model/all/train/lr=0.0001, spam_task/spam_dataset/valid/accuracy=0.933, spam_task/spam_dataset/valid/f1=0.923]"
     ]
    },
    {
     "name": "stderr",
     "output_type": "stream",
     "text": [
      "\r",
      "Epoch 3::  70%|███████   | 35/50 [00:08<00:03,  4.47it/s, model/all/train/loss=0.144, model/all/train/lr=0.0001, spam_task/spam_dataset/valid/accuracy=0.933, spam_task/spam_dataset/valid/f1=0.923]"
     ]
    },
    {
     "name": "stderr",
     "output_type": "stream",
     "text": [
      "\r",
      "Epoch 3::  72%|███████▏  | 36/50 [00:08<00:03,  4.51it/s, model/all/train/loss=0.144, model/all/train/lr=0.0001, spam_task/spam_dataset/valid/accuracy=0.933, spam_task/spam_dataset/valid/f1=0.923]"
     ]
    },
    {
     "name": "stderr",
     "output_type": "stream",
     "text": [
      "\r",
      "Epoch 3::  72%|███████▏  | 36/50 [00:08<00:03,  4.51it/s, model/all/train/loss=0.144, model/all/train/lr=0.0001, spam_task/spam_dataset/valid/accuracy=0.933, spam_task/spam_dataset/valid/f1=0.923]"
     ]
    },
    {
     "name": "stderr",
     "output_type": "stream",
     "text": [
      "\r",
      "Epoch 3::  74%|███████▍  | 37/50 [00:08<00:02,  4.52it/s, model/all/train/loss=0.144, model/all/train/lr=0.0001, spam_task/spam_dataset/valid/accuracy=0.933, spam_task/spam_dataset/valid/f1=0.923]"
     ]
    },
    {
     "name": "stderr",
     "output_type": "stream",
     "text": [
      "\r",
      "Epoch 3::  74%|███████▍  | 37/50 [00:08<00:02,  4.52it/s, model/all/train/loss=0.143, model/all/train/lr=0.0001, spam_task/spam_dataset/valid/accuracy=0.933, spam_task/spam_dataset/valid/f1=0.923]"
     ]
    },
    {
     "name": "stderr",
     "output_type": "stream",
     "text": [
      "\r",
      "Epoch 3::  76%|███████▌  | 38/50 [00:08<00:02,  4.54it/s, model/all/train/loss=0.143, model/all/train/lr=0.0001, spam_task/spam_dataset/valid/accuracy=0.933, spam_task/spam_dataset/valid/f1=0.923]"
     ]
    },
    {
     "name": "stderr",
     "output_type": "stream",
     "text": [
      "\r",
      "Epoch 3::  76%|███████▌  | 38/50 [00:08<00:02,  4.54it/s, model/all/train/loss=0.143, model/all/train/lr=0.0001, spam_task/spam_dataset/valid/accuracy=0.933, spam_task/spam_dataset/valid/f1=0.923]"
     ]
    },
    {
     "name": "stderr",
     "output_type": "stream",
     "text": [
      "\r",
      "Epoch 3::  78%|███████▊  | 39/50 [00:08<00:02,  4.49it/s, model/all/train/loss=0.143, model/all/train/lr=0.0001, spam_task/spam_dataset/valid/accuracy=0.933, spam_task/spam_dataset/valid/f1=0.923]"
     ]
    },
    {
     "name": "stderr",
     "output_type": "stream",
     "text": [
      "\r",
      "Epoch 3::  78%|███████▊  | 39/50 [00:08<00:02,  4.49it/s, model/all/train/loss=0.142, model/all/train/lr=0.0001, spam_task/spam_dataset/valid/accuracy=0.933, spam_task/spam_dataset/valid/f1=0.923]"
     ]
    },
    {
     "name": "stderr",
     "output_type": "stream",
     "text": [
      "\r",
      "Epoch 3::  80%|████████  | 40/50 [00:08<00:02,  4.46it/s, model/all/train/loss=0.142, model/all/train/lr=0.0001, spam_task/spam_dataset/valid/accuracy=0.933, spam_task/spam_dataset/valid/f1=0.923]"
     ]
    },
    {
     "name": "stderr",
     "output_type": "stream",
     "text": [
      "\r",
      "Epoch 3::  80%|████████  | 40/50 [00:09<00:02,  4.46it/s, model/all/train/loss=0.143, model/all/train/lr=0.0001, spam_task/spam_dataset/valid/accuracy=0.933, spam_task/spam_dataset/valid/f1=0.923]"
     ]
    },
    {
     "name": "stderr",
     "output_type": "stream",
     "text": [
      "\r",
      "Epoch 3::  82%|████████▏ | 41/50 [00:09<00:01,  4.51it/s, model/all/train/loss=0.143, model/all/train/lr=0.0001, spam_task/spam_dataset/valid/accuracy=0.933, spam_task/spam_dataset/valid/f1=0.923]"
     ]
    },
    {
     "name": "stderr",
     "output_type": "stream",
     "text": [
      "\r",
      "Epoch 3::  82%|████████▏ | 41/50 [00:09<00:01,  4.51it/s, model/all/train/loss=0.142, model/all/train/lr=0.0001, spam_task/spam_dataset/valid/accuracy=0.933, spam_task/spam_dataset/valid/f1=0.923]"
     ]
    },
    {
     "name": "stderr",
     "output_type": "stream",
     "text": [
      "\r",
      "Epoch 3::  84%|████████▍ | 42/50 [00:09<00:01,  4.56it/s, model/all/train/loss=0.142, model/all/train/lr=0.0001, spam_task/spam_dataset/valid/accuracy=0.933, spam_task/spam_dataset/valid/f1=0.923]"
     ]
    },
    {
     "name": "stderr",
     "output_type": "stream",
     "text": [
      "\r",
      "Epoch 3::  84%|████████▍ | 42/50 [00:09<00:01,  4.56it/s, model/all/train/loss=0.147, model/all/train/lr=0.0001, spam_task/spam_dataset/valid/accuracy=0.933, spam_task/spam_dataset/valid/f1=0.923]"
     ]
    },
    {
     "name": "stderr",
     "output_type": "stream",
     "text": [
      "\r",
      "Epoch 3::  86%|████████▌ | 43/50 [00:09<00:01,  4.59it/s, model/all/train/loss=0.147, model/all/train/lr=0.0001, spam_task/spam_dataset/valid/accuracy=0.933, spam_task/spam_dataset/valid/f1=0.923]"
     ]
    },
    {
     "name": "stderr",
     "output_type": "stream",
     "text": [
      "\r",
      "Epoch 3::  86%|████████▌ | 43/50 [00:09<00:01,  4.59it/s, model/all/train/loss=0.146, model/all/train/lr=0.0001, spam_task/spam_dataset/valid/accuracy=0.933, spam_task/spam_dataset/valid/f1=0.923]"
     ]
    },
    {
     "name": "stderr",
     "output_type": "stream",
     "text": [
      "\r",
      "Epoch 3::  88%|████████▊ | 44/50 [00:09<00:01,  4.60it/s, model/all/train/loss=0.146, model/all/train/lr=0.0001, spam_task/spam_dataset/valid/accuracy=0.933, spam_task/spam_dataset/valid/f1=0.923]"
     ]
    },
    {
     "name": "stderr",
     "output_type": "stream",
     "text": [
      "\r",
      "Epoch 3::  88%|████████▊ | 44/50 [00:10<00:01,  4.60it/s, model/all/train/loss=0.145, model/all/train/lr=0.0001, spam_task/spam_dataset/valid/accuracy=0.933, spam_task/spam_dataset/valid/f1=0.923]"
     ]
    },
    {
     "name": "stderr",
     "output_type": "stream",
     "text": [
      "\r",
      "Epoch 3::  90%|█████████ | 45/50 [00:10<00:01,  4.59it/s, model/all/train/loss=0.145, model/all/train/lr=0.0001, spam_task/spam_dataset/valid/accuracy=0.933, spam_task/spam_dataset/valid/f1=0.923]"
     ]
    },
    {
     "name": "stderr",
     "output_type": "stream",
     "text": [
      "\r",
      "Epoch 3::  90%|█████████ | 45/50 [00:10<00:01,  4.59it/s, model/all/train/loss=0.145, model/all/train/lr=0.0001, spam_task/spam_dataset/valid/accuracy=0.933, spam_task/spam_dataset/valid/f1=0.923]"
     ]
    },
    {
     "name": "stderr",
     "output_type": "stream",
     "text": [
      "\r",
      "Epoch 3::  92%|█████████▏| 46/50 [00:10<00:00,  4.59it/s, model/all/train/loss=0.145, model/all/train/lr=0.0001, spam_task/spam_dataset/valid/accuracy=0.933, spam_task/spam_dataset/valid/f1=0.923]"
     ]
    },
    {
     "name": "stderr",
     "output_type": "stream",
     "text": [
      "\r",
      "Epoch 3::  92%|█████████▏| 46/50 [00:10<00:00,  4.59it/s, model/all/train/loss=0.145, model/all/train/lr=0.0001, spam_task/spam_dataset/valid/accuracy=0.933, spam_task/spam_dataset/valid/f1=0.923]"
     ]
    },
    {
     "name": "stderr",
     "output_type": "stream",
     "text": [
      "\r",
      "Epoch 3::  94%|█████████▍| 47/50 [00:10<00:00,  4.64it/s, model/all/train/loss=0.145, model/all/train/lr=0.0001, spam_task/spam_dataset/valid/accuracy=0.933, spam_task/spam_dataset/valid/f1=0.923]"
     ]
    },
    {
     "name": "stderr",
     "output_type": "stream",
     "text": [
      "\r",
      "Epoch 3::  94%|█████████▍| 47/50 [00:10<00:00,  4.64it/s, model/all/train/loss=0.144, model/all/train/lr=0.0001, spam_task/spam_dataset/valid/accuracy=0.933, spam_task/spam_dataset/valid/f1=0.923]"
     ]
    },
    {
     "name": "stderr",
     "output_type": "stream",
     "text": [
      "\r",
      "Epoch 3::  96%|█████████▌| 48/50 [00:10<00:00,  4.67it/s, model/all/train/loss=0.144, model/all/train/lr=0.0001, spam_task/spam_dataset/valid/accuracy=0.933, spam_task/spam_dataset/valid/f1=0.923]"
     ]
    },
    {
     "name": "stderr",
     "output_type": "stream",
     "text": [
      "\r",
      "Epoch 3::  96%|█████████▌| 48/50 [00:10<00:00,  4.67it/s, model/all/train/loss=0.144, model/all/train/lr=0.0001, spam_task/spam_dataset/valid/accuracy=0.933, spam_task/spam_dataset/valid/f1=0.923]"
     ]
    },
    {
     "name": "stderr",
     "output_type": "stream",
     "text": [
      "\r",
      "Epoch 3::  98%|█████████▊| 49/50 [00:10<00:00,  4.64it/s, model/all/train/loss=0.144, model/all/train/lr=0.0001, spam_task/spam_dataset/valid/accuracy=0.933, spam_task/spam_dataset/valid/f1=0.923]"
     ]
    },
    {
     "name": "stderr",
     "output_type": "stream",
     "text": [
      "\r",
      "Epoch 3::  98%|█████████▊| 49/50 [00:11<00:00,  4.64it/s, model/all/train/loss=0.144, model/all/train/lr=0.0001, spam_task/spam_dataset/valid/accuracy=0.925, spam_task/spam_dataset/valid/f1=0.913]"
     ]
    },
    {
     "name": "stderr",
     "output_type": "stream",
     "text": [
      "\r",
      "Epoch 3:: 100%|██████████| 50/50 [00:11<00:00,  4.53it/s, model/all/train/loss=0.144, model/all/train/lr=0.0001, spam_task/spam_dataset/valid/accuracy=0.925, spam_task/spam_dataset/valid/f1=0.913]"
     ]
    },
    {
     "name": "stderr",
     "output_type": "stream",
     "text": [
      "\n",
      "\r",
      "Epoch 4::   0%|          | 0/50 [00:00<?, ?it/s]"
     ]
    },
    {
     "name": "stderr",
     "output_type": "stream",
     "text": [
      "\r",
      "Epoch 4::   0%|          | 0/50 [00:00<?, ?it/s, model/all/train/loss=0.112, model/all/train/lr=0.0001, spam_task/spam_dataset/valid/accuracy=0.925, spam_task/spam_dataset/valid/f1=0.913]"
     ]
    },
    {
     "name": "stderr",
     "output_type": "stream",
     "text": [
      "\r",
      "Epoch 4::   2%|▏         | 1/50 [00:00<00:11,  4.16it/s, model/all/train/loss=0.112, model/all/train/lr=0.0001, spam_task/spam_dataset/valid/accuracy=0.925, spam_task/spam_dataset/valid/f1=0.913]"
     ]
    },
    {
     "name": "stderr",
     "output_type": "stream",
     "text": [
      "\r",
      "Epoch 4::   2%|▏         | 1/50 [00:00<00:11,  4.16it/s, model/all/train/loss=0.106, model/all/train/lr=0.0001, spam_task/spam_dataset/valid/accuracy=0.925, spam_task/spam_dataset/valid/f1=0.913]"
     ]
    },
    {
     "name": "stderr",
     "output_type": "stream",
     "text": [
      "\r",
      "Epoch 4::   4%|▍         | 2/50 [00:00<00:11,  4.25it/s, model/all/train/loss=0.106, model/all/train/lr=0.0001, spam_task/spam_dataset/valid/accuracy=0.925, spam_task/spam_dataset/valid/f1=0.913]"
     ]
    },
    {
     "name": "stderr",
     "output_type": "stream",
     "text": [
      "\r",
      "Epoch 4::   4%|▍         | 2/50 [00:00<00:11,  4.25it/s, model/all/train/loss=0.103, model/all/train/lr=0.0001, spam_task/spam_dataset/valid/accuracy=0.925, spam_task/spam_dataset/valid/f1=0.913]"
     ]
    },
    {
     "name": "stderr",
     "output_type": "stream",
     "text": [
      "\r",
      "Epoch 4::   6%|▌         | 3/50 [00:00<00:10,  4.32it/s, model/all/train/loss=0.103, model/all/train/lr=0.0001, spam_task/spam_dataset/valid/accuracy=0.925, spam_task/spam_dataset/valid/f1=0.913]"
     ]
    },
    {
     "name": "stderr",
     "output_type": "stream",
     "text": [
      "\r",
      "Epoch 4::   6%|▌         | 3/50 [00:00<00:10,  4.32it/s, model/all/train/loss=0.114, model/all/train/lr=0.0001, spam_task/spam_dataset/valid/accuracy=0.925, spam_task/spam_dataset/valid/f1=0.913]"
     ]
    },
    {
     "name": "stderr",
     "output_type": "stream",
     "text": [
      "\r",
      "Epoch 4::   8%|▊         | 4/50 [00:00<00:10,  4.42it/s, model/all/train/loss=0.114, model/all/train/lr=0.0001, spam_task/spam_dataset/valid/accuracy=0.925, spam_task/spam_dataset/valid/f1=0.913]"
     ]
    },
    {
     "name": "stderr",
     "output_type": "stream",
     "text": [
      "\r",
      "Epoch 4::   8%|▊         | 4/50 [00:01<00:10,  4.42it/s, model/all/train/loss=0.109, model/all/train/lr=0.0001, spam_task/spam_dataset/valid/accuracy=0.925, spam_task/spam_dataset/valid/f1=0.913]"
     ]
    },
    {
     "name": "stderr",
     "output_type": "stream",
     "text": [
      "\r",
      "Epoch 4::  10%|█         | 5/50 [00:01<00:10,  4.46it/s, model/all/train/loss=0.109, model/all/train/lr=0.0001, spam_task/spam_dataset/valid/accuracy=0.925, spam_task/spam_dataset/valid/f1=0.913]"
     ]
    },
    {
     "name": "stderr",
     "output_type": "stream",
     "text": [
      "\r",
      "Epoch 4::  10%|█         | 5/50 [00:01<00:10,  4.46it/s, model/all/train/loss=0.101, model/all/train/lr=0.0001, spam_task/spam_dataset/valid/accuracy=0.925, spam_task/spam_dataset/valid/f1=0.913]"
     ]
    },
    {
     "name": "stderr",
     "output_type": "stream",
     "text": [
      "\r",
      "Epoch 4::  12%|█▏        | 6/50 [00:01<00:09,  4.52it/s, model/all/train/loss=0.101, model/all/train/lr=0.0001, spam_task/spam_dataset/valid/accuracy=0.925, spam_task/spam_dataset/valid/f1=0.913]"
     ]
    },
    {
     "name": "stderr",
     "output_type": "stream",
     "text": [
      "\r",
      "Epoch 4::  12%|█▏        | 6/50 [00:01<00:09,  4.52it/s, model/all/train/loss=0.101, model/all/train/lr=0.0001, spam_task/spam_dataset/valid/accuracy=0.925, spam_task/spam_dataset/valid/f1=0.913]"
     ]
    },
    {
     "name": "stderr",
     "output_type": "stream",
     "text": [
      "\r",
      "Epoch 4::  14%|█▍        | 7/50 [00:01<00:09,  4.57it/s, model/all/train/loss=0.101, model/all/train/lr=0.0001, spam_task/spam_dataset/valid/accuracy=0.925, spam_task/spam_dataset/valid/f1=0.913]"
     ]
    },
    {
     "name": "stderr",
     "output_type": "stream",
     "text": [
      "\r",
      "Epoch 4::  14%|█▍        | 7/50 [00:01<00:09,  4.57it/s, model/all/train/loss=0.102, model/all/train/lr=0.0001, spam_task/spam_dataset/valid/accuracy=0.925, spam_task/spam_dataset/valid/f1=0.913]"
     ]
    },
    {
     "name": "stderr",
     "output_type": "stream",
     "text": [
      "\r",
      "Epoch 4::  16%|█▌        | 8/50 [00:01<00:09,  4.62it/s, model/all/train/loss=0.102, model/all/train/lr=0.0001, spam_task/spam_dataset/valid/accuracy=0.925, spam_task/spam_dataset/valid/f1=0.913]"
     ]
    },
    {
     "name": "stderr",
     "output_type": "stream",
     "text": [
      "\r",
      "Epoch 4::  16%|█▌        | 8/50 [00:01<00:09,  4.62it/s, model/all/train/loss=0.0999, model/all/train/lr=0.0001, spam_task/spam_dataset/valid/accuracy=0.925, spam_task/spam_dataset/valid/f1=0.913]"
     ]
    },
    {
     "name": "stderr",
     "output_type": "stream",
     "text": [
      "\r",
      "Epoch 4::  18%|█▊        | 9/50 [00:01<00:08,  4.63it/s, model/all/train/loss=0.0999, model/all/train/lr=0.0001, spam_task/spam_dataset/valid/accuracy=0.925, spam_task/spam_dataset/valid/f1=0.913]"
     ]
    },
    {
     "name": "stderr",
     "output_type": "stream",
     "text": [
      "\r",
      "Epoch 4::  18%|█▊        | 9/50 [00:02<00:08,  4.63it/s, model/all/train/loss=0.105, model/all/train/lr=0.0001, spam_task/spam_dataset/valid/accuracy=0.925, spam_task/spam_dataset/valid/f1=0.913] "
     ]
    },
    {
     "name": "stderr",
     "output_type": "stream",
     "text": [
      "\r",
      "Epoch 4::  20%|██        | 10/50 [00:02<00:08,  4.68it/s, model/all/train/loss=0.105, model/all/train/lr=0.0001, spam_task/spam_dataset/valid/accuracy=0.925, spam_task/spam_dataset/valid/f1=0.913]"
     ]
    },
    {
     "name": "stderr",
     "output_type": "stream",
     "text": [
      "\r",
      "Epoch 4::  20%|██        | 10/50 [00:02<00:08,  4.68it/s, model/all/train/loss=0.103, model/all/train/lr=0.0001, spam_task/spam_dataset/valid/accuracy=0.925, spam_task/spam_dataset/valid/f1=0.913]"
     ]
    },
    {
     "name": "stderr",
     "output_type": "stream",
     "text": [
      "\r",
      "Epoch 4::  22%|██▏       | 11/50 [00:02<00:08,  4.70it/s, model/all/train/loss=0.103, model/all/train/lr=0.0001, spam_task/spam_dataset/valid/accuracy=0.925, spam_task/spam_dataset/valid/f1=0.913]"
     ]
    },
    {
     "name": "stderr",
     "output_type": "stream",
     "text": [
      "\r",
      "Epoch 4::  22%|██▏       | 11/50 [00:02<00:08,  4.70it/s, model/all/train/loss=0.106, model/all/train/lr=0.0001, spam_task/spam_dataset/valid/accuracy=0.925, spam_task/spam_dataset/valid/f1=0.913]"
     ]
    },
    {
     "name": "stderr",
     "output_type": "stream",
     "text": [
      "\r",
      "Epoch 4::  24%|██▍       | 12/50 [00:02<00:08,  4.69it/s, model/all/train/loss=0.106, model/all/train/lr=0.0001, spam_task/spam_dataset/valid/accuracy=0.925, spam_task/spam_dataset/valid/f1=0.913]"
     ]
    },
    {
     "name": "stderr",
     "output_type": "stream",
     "text": [
      "\r",
      "Epoch 4::  24%|██▍       | 12/50 [00:02<00:08,  4.69it/s, model/all/train/loss=0.105, model/all/train/lr=0.0001, spam_task/spam_dataset/valid/accuracy=0.925, spam_task/spam_dataset/valid/f1=0.913]"
     ]
    },
    {
     "name": "stderr",
     "output_type": "stream",
     "text": [
      "\r",
      "Epoch 4::  26%|██▌       | 13/50 [00:02<00:08,  4.58it/s, model/all/train/loss=0.105, model/all/train/lr=0.0001, spam_task/spam_dataset/valid/accuracy=0.925, spam_task/spam_dataset/valid/f1=0.913]"
     ]
    },
    {
     "name": "stderr",
     "output_type": "stream",
     "text": [
      "\r",
      "Epoch 4::  26%|██▌       | 13/50 [00:03<00:08,  4.58it/s, model/all/train/loss=0.109, model/all/train/lr=0.0001, spam_task/spam_dataset/valid/accuracy=0.925, spam_task/spam_dataset/valid/f1=0.913]"
     ]
    },
    {
     "name": "stderr",
     "output_type": "stream",
     "text": [
      "\r",
      "Epoch 4::  28%|██▊       | 14/50 [00:03<00:07,  4.62it/s, model/all/train/loss=0.109, model/all/train/lr=0.0001, spam_task/spam_dataset/valid/accuracy=0.925, spam_task/spam_dataset/valid/f1=0.913]"
     ]
    },
    {
     "name": "stderr",
     "output_type": "stream",
     "text": [
      "\r",
      "Epoch 4::  28%|██▊       | 14/50 [00:03<00:07,  4.62it/s, model/all/train/loss=0.109, model/all/train/lr=0.0001, spam_task/spam_dataset/valid/accuracy=0.925, spam_task/spam_dataset/valid/f1=0.913]"
     ]
    },
    {
     "name": "stderr",
     "output_type": "stream",
     "text": [
      "\r",
      "Epoch 4::  30%|███       | 15/50 [00:03<00:07,  4.64it/s, model/all/train/loss=0.109, model/all/train/lr=0.0001, spam_task/spam_dataset/valid/accuracy=0.925, spam_task/spam_dataset/valid/f1=0.913]"
     ]
    },
    {
     "name": "stderr",
     "output_type": "stream",
     "text": [
      "\r",
      "Epoch 4::  30%|███       | 15/50 [00:03<00:07,  4.64it/s, model/all/train/loss=0.107, model/all/train/lr=0.0001, spam_task/spam_dataset/valid/accuracy=0.925, spam_task/spam_dataset/valid/f1=0.913]"
     ]
    },
    {
     "name": "stderr",
     "output_type": "stream",
     "text": [
      "\r",
      "Epoch 4::  32%|███▏      | 16/50 [00:03<00:07,  4.67it/s, model/all/train/loss=0.107, model/all/train/lr=0.0001, spam_task/spam_dataset/valid/accuracy=0.925, spam_task/spam_dataset/valid/f1=0.913]"
     ]
    },
    {
     "name": "stderr",
     "output_type": "stream",
     "text": [
      "\r",
      "Epoch 4::  32%|███▏      | 16/50 [00:03<00:07,  4.67it/s, model/all/train/loss=0.109, model/all/train/lr=0.0001, spam_task/spam_dataset/valid/accuracy=0.925, spam_task/spam_dataset/valid/f1=0.913]"
     ]
    },
    {
     "name": "stderr",
     "output_type": "stream",
     "text": [
      "\r",
      "Epoch 4::  34%|███▍      | 17/50 [00:03<00:07,  4.68it/s, model/all/train/loss=0.109, model/all/train/lr=0.0001, spam_task/spam_dataset/valid/accuracy=0.925, spam_task/spam_dataset/valid/f1=0.913]"
     ]
    },
    {
     "name": "stderr",
     "output_type": "stream",
     "text": [
      "\r",
      "Epoch 4::  34%|███▍      | 17/50 [00:03<00:07,  4.68it/s, model/all/train/loss=0.107, model/all/train/lr=0.0001, spam_task/spam_dataset/valid/accuracy=0.925, spam_task/spam_dataset/valid/f1=0.913]"
     ]
    },
    {
     "name": "stderr",
     "output_type": "stream",
     "text": [
      "\r",
      "Epoch 4::  36%|███▌      | 18/50 [00:03<00:06,  4.62it/s, model/all/train/loss=0.107, model/all/train/lr=0.0001, spam_task/spam_dataset/valid/accuracy=0.925, spam_task/spam_dataset/valid/f1=0.913]"
     ]
    },
    {
     "name": "stderr",
     "output_type": "stream",
     "text": [
      "\r",
      "Epoch 4::  36%|███▌      | 18/50 [00:04<00:06,  4.62it/s, model/all/train/loss=0.105, model/all/train/lr=0.0001, spam_task/spam_dataset/valid/accuracy=0.925, spam_task/spam_dataset/valid/f1=0.913]"
     ]
    },
    {
     "name": "stderr",
     "output_type": "stream",
     "text": [
      "\r",
      "Epoch 4::  38%|███▊      | 19/50 [00:04<00:06,  4.66it/s, model/all/train/loss=0.105, model/all/train/lr=0.0001, spam_task/spam_dataset/valid/accuracy=0.925, spam_task/spam_dataset/valid/f1=0.913]"
     ]
    },
    {
     "name": "stderr",
     "output_type": "stream",
     "text": [
      "\r",
      "Epoch 4::  38%|███▊      | 19/50 [00:04<00:06,  4.66it/s, model/all/train/loss=0.107, model/all/train/lr=0.0001, spam_task/spam_dataset/valid/accuracy=0.925, spam_task/spam_dataset/valid/f1=0.913]"
     ]
    },
    {
     "name": "stderr",
     "output_type": "stream",
     "text": [
      "\r",
      "Epoch 4::  40%|████      | 20/50 [00:04<00:06,  4.70it/s, model/all/train/loss=0.107, model/all/train/lr=0.0001, spam_task/spam_dataset/valid/accuracy=0.925, spam_task/spam_dataset/valid/f1=0.913]"
     ]
    },
    {
     "name": "stderr",
     "output_type": "stream",
     "text": [
      "\r",
      "Epoch 4::  40%|████      | 20/50 [00:04<00:06,  4.70it/s, model/all/train/loss=0.106, model/all/train/lr=0.0001, spam_task/spam_dataset/valid/accuracy=0.925, spam_task/spam_dataset/valid/f1=0.913]"
     ]
    },
    {
     "name": "stderr",
     "output_type": "stream",
     "text": [
      "\r",
      "Epoch 4::  42%|████▏     | 21/50 [00:04<00:06,  4.68it/s, model/all/train/loss=0.106, model/all/train/lr=0.0001, spam_task/spam_dataset/valid/accuracy=0.925, spam_task/spam_dataset/valid/f1=0.913]"
     ]
    },
    {
     "name": "stderr",
     "output_type": "stream",
     "text": [
      "\r",
      "Epoch 4::  42%|████▏     | 21/50 [00:04<00:06,  4.68it/s, model/all/train/loss=0.106, model/all/train/lr=0.0001, spam_task/spam_dataset/valid/accuracy=0.925, spam_task/spam_dataset/valid/f1=0.913]"
     ]
    },
    {
     "name": "stderr",
     "output_type": "stream",
     "text": [
      "\r",
      "Epoch 4::  44%|████▍     | 22/50 [00:04<00:06,  4.65it/s, model/all/train/loss=0.106, model/all/train/lr=0.0001, spam_task/spam_dataset/valid/accuracy=0.925, spam_task/spam_dataset/valid/f1=0.913]"
     ]
    },
    {
     "name": "stderr",
     "output_type": "stream",
     "text": [
      "\r",
      "Epoch 4::  44%|████▍     | 22/50 [00:04<00:06,  4.65it/s, model/all/train/loss=0.106, model/all/train/lr=0.0001, spam_task/spam_dataset/valid/accuracy=0.925, spam_task/spam_dataset/valid/f1=0.913]"
     ]
    },
    {
     "name": "stderr",
     "output_type": "stream",
     "text": [
      "\r",
      "Epoch 4::  46%|████▌     | 23/50 [00:04<00:05,  4.55it/s, model/all/train/loss=0.106, model/all/train/lr=0.0001, spam_task/spam_dataset/valid/accuracy=0.925, spam_task/spam_dataset/valid/f1=0.913]"
     ]
    },
    {
     "name": "stderr",
     "output_type": "stream",
     "text": [
      "\r",
      "Epoch 4::  46%|████▌     | 23/50 [00:05<00:05,  4.55it/s, model/all/train/loss=0.104, model/all/train/lr=0.0001, spam_task/spam_dataset/valid/accuracy=0.925, spam_task/spam_dataset/valid/f1=0.913]"
     ]
    },
    {
     "name": "stderr",
     "output_type": "stream",
     "text": [
      "\r",
      "Epoch 4::  48%|████▊     | 24/50 [00:05<00:05,  4.58it/s, model/all/train/loss=0.104, model/all/train/lr=0.0001, spam_task/spam_dataset/valid/accuracy=0.925, spam_task/spam_dataset/valid/f1=0.913]"
     ]
    },
    {
     "name": "stderr",
     "output_type": "stream",
     "text": [
      "\r",
      "Epoch 4::  48%|████▊     | 24/50 [00:05<00:05,  4.58it/s, model/all/train/loss=0.102, model/all/train/lr=0.0001, spam_task/spam_dataset/valid/accuracy=0.925, spam_task/spam_dataset/valid/f1=0.913]"
     ]
    },
    {
     "name": "stderr",
     "output_type": "stream",
     "text": [
      "\r",
      "Epoch 4::  50%|█████     | 25/50 [00:05<00:05,  4.55it/s, model/all/train/loss=0.102, model/all/train/lr=0.0001, spam_task/spam_dataset/valid/accuracy=0.925, spam_task/spam_dataset/valid/f1=0.913]"
     ]
    },
    {
     "name": "stderr",
     "output_type": "stream",
     "text": [
      "\r",
      "Epoch 4::  50%|█████     | 25/50 [00:05<00:05,  4.55it/s, model/all/train/loss=0.1, model/all/train/lr=0.0001, spam_task/spam_dataset/valid/accuracy=0.925, spam_task/spam_dataset/valid/f1=0.913]  "
     ]
    },
    {
     "name": "stderr",
     "output_type": "stream",
     "text": [
      "\r",
      "Epoch 4::  52%|█████▏    | 26/50 [00:05<00:05,  4.38it/s, model/all/train/loss=0.1, model/all/train/lr=0.0001, spam_task/spam_dataset/valid/accuracy=0.925, spam_task/spam_dataset/valid/f1=0.913]"
     ]
    },
    {
     "name": "stderr",
     "output_type": "stream",
     "text": [
      "\r",
      "Epoch 4::  52%|█████▏    | 26/50 [00:05<00:05,  4.38it/s, model/all/train/loss=0.103, model/all/train/lr=0.0001, spam_task/spam_dataset/valid/accuracy=0.925, spam_task/spam_dataset/valid/f1=0.913]"
     ]
    },
    {
     "name": "stderr",
     "output_type": "stream",
     "text": [
      "\r",
      "Epoch 4::  54%|█████▍    | 27/50 [00:05<00:05,  4.48it/s, model/all/train/loss=0.103, model/all/train/lr=0.0001, spam_task/spam_dataset/valid/accuracy=0.925, spam_task/spam_dataset/valid/f1=0.913]"
     ]
    },
    {
     "name": "stderr",
     "output_type": "stream",
     "text": [
      "\r",
      "Epoch 4::  54%|█████▍    | 27/50 [00:06<00:05,  4.48it/s, model/all/train/loss=0.102, model/all/train/lr=0.0001, spam_task/spam_dataset/valid/accuracy=0.925, spam_task/spam_dataset/valid/f1=0.913]"
     ]
    },
    {
     "name": "stderr",
     "output_type": "stream",
     "text": [
      "\r",
      "Epoch 4::  56%|█████▌    | 28/50 [00:06<00:04,  4.51it/s, model/all/train/loss=0.102, model/all/train/lr=0.0001, spam_task/spam_dataset/valid/accuracy=0.925, spam_task/spam_dataset/valid/f1=0.913]"
     ]
    },
    {
     "name": "stderr",
     "output_type": "stream",
     "text": [
      "\r",
      "Epoch 4::  56%|█████▌    | 28/50 [00:06<00:04,  4.51it/s, model/all/train/loss=0.101, model/all/train/lr=0.0001, spam_task/spam_dataset/valid/accuracy=0.925, spam_task/spam_dataset/valid/f1=0.913]"
     ]
    },
    {
     "name": "stderr",
     "output_type": "stream",
     "text": [
      "\r",
      "Epoch 4::  58%|█████▊    | 29/50 [00:06<00:04,  4.56it/s, model/all/train/loss=0.101, model/all/train/lr=0.0001, spam_task/spam_dataset/valid/accuracy=0.925, spam_task/spam_dataset/valid/f1=0.913]"
     ]
    },
    {
     "name": "stderr",
     "output_type": "stream",
     "text": [
      "\r",
      "Epoch 4::  58%|█████▊    | 29/50 [00:06<00:04,  4.56it/s, model/all/train/loss=0.1, model/all/train/lr=0.0001, spam_task/spam_dataset/valid/accuracy=0.925, spam_task/spam_dataset/valid/f1=0.913]  "
     ]
    },
    {
     "name": "stderr",
     "output_type": "stream",
     "text": [
      "\r",
      "Epoch 4::  60%|██████    | 30/50 [00:06<00:04,  4.59it/s, model/all/train/loss=0.1, model/all/train/lr=0.0001, spam_task/spam_dataset/valid/accuracy=0.925, spam_task/spam_dataset/valid/f1=0.913]"
     ]
    },
    {
     "name": "stderr",
     "output_type": "stream",
     "text": [
      "\r",
      "Epoch 4::  60%|██████    | 30/50 [00:06<00:04,  4.59it/s, model/all/train/loss=0.1, model/all/train/lr=0.0001, spam_task/spam_dataset/valid/accuracy=0.925, spam_task/spam_dataset/valid/f1=0.913]"
     ]
    },
    {
     "name": "stderr",
     "output_type": "stream",
     "text": [
      "\r",
      "Epoch 4::  62%|██████▏   | 31/50 [00:06<00:04,  4.63it/s, model/all/train/loss=0.1, model/all/train/lr=0.0001, spam_task/spam_dataset/valid/accuracy=0.925, spam_task/spam_dataset/valid/f1=0.913]"
     ]
    },
    {
     "name": "stderr",
     "output_type": "stream",
     "text": [
      "\r",
      "Epoch 4::  62%|██████▏   | 31/50 [00:06<00:04,  4.63it/s, model/all/train/loss=0.0998, model/all/train/lr=0.0001, spam_task/spam_dataset/valid/accuracy=0.925, spam_task/spam_dataset/valid/f1=0.913]"
     ]
    },
    {
     "name": "stderr",
     "output_type": "stream",
     "text": [
      "\r",
      "Epoch 4::  64%|██████▍   | 32/50 [00:06<00:03,  4.65it/s, model/all/train/loss=0.0998, model/all/train/lr=0.0001, spam_task/spam_dataset/valid/accuracy=0.925, spam_task/spam_dataset/valid/f1=0.913]"
     ]
    },
    {
     "name": "stderr",
     "output_type": "stream",
     "text": [
      "\r",
      "Epoch 4::  64%|██████▍   | 32/50 [00:07<00:03,  4.65it/s, model/all/train/loss=0.0988, model/all/train/lr=0.0001, spam_task/spam_dataset/valid/accuracy=0.925, spam_task/spam_dataset/valid/f1=0.913]"
     ]
    },
    {
     "name": "stderr",
     "output_type": "stream",
     "text": [
      "\r",
      "Epoch 4::  66%|██████▌   | 33/50 [00:07<00:03,  4.65it/s, model/all/train/loss=0.0988, model/all/train/lr=0.0001, spam_task/spam_dataset/valid/accuracy=0.925, spam_task/spam_dataset/valid/f1=0.913]"
     ]
    },
    {
     "name": "stderr",
     "output_type": "stream",
     "text": [
      "\r",
      "Epoch 4::  66%|██████▌   | 33/50 [00:07<00:03,  4.65it/s, model/all/train/loss=0.0982, model/all/train/lr=0.0001, spam_task/spam_dataset/valid/accuracy=0.925, spam_task/spam_dataset/valid/f1=0.913]"
     ]
    },
    {
     "name": "stderr",
     "output_type": "stream",
     "text": [
      "\r",
      "Epoch 4::  68%|██████▊   | 34/50 [00:07<00:03,  4.62it/s, model/all/train/loss=0.0982, model/all/train/lr=0.0001, spam_task/spam_dataset/valid/accuracy=0.925, spam_task/spam_dataset/valid/f1=0.913]"
     ]
    },
    {
     "name": "stderr",
     "output_type": "stream",
     "text": [
      "\r",
      "Epoch 4::  68%|██████▊   | 34/50 [00:07<00:03,  4.62it/s, model/all/train/loss=0.0973, model/all/train/lr=0.0001, spam_task/spam_dataset/valid/accuracy=0.925, spam_task/spam_dataset/valid/f1=0.913]"
     ]
    },
    {
     "name": "stderr",
     "output_type": "stream",
     "text": [
      "\r",
      "Epoch 4::  70%|███████   | 35/50 [00:07<00:03,  4.59it/s, model/all/train/loss=0.0973, model/all/train/lr=0.0001, spam_task/spam_dataset/valid/accuracy=0.925, spam_task/spam_dataset/valid/f1=0.913]"
     ]
    },
    {
     "name": "stderr",
     "output_type": "stream",
     "text": [
      "\r",
      "Epoch 4::  70%|███████   | 35/50 [00:07<00:03,  4.59it/s, model/all/train/loss=0.0974, model/all/train/lr=0.0001, spam_task/spam_dataset/valid/accuracy=0.925, spam_task/spam_dataset/valid/f1=0.913]"
     ]
    },
    {
     "name": "stderr",
     "output_type": "stream",
     "text": [
      "\r",
      "Epoch 4::  72%|███████▏  | 36/50 [00:07<00:03,  4.51it/s, model/all/train/loss=0.0974, model/all/train/lr=0.0001, spam_task/spam_dataset/valid/accuracy=0.925, spam_task/spam_dataset/valid/f1=0.913]"
     ]
    },
    {
     "name": "stderr",
     "output_type": "stream",
     "text": [
      "\r",
      "Epoch 4::  72%|███████▏  | 36/50 [00:08<00:03,  4.51it/s, model/all/train/loss=0.0965, model/all/train/lr=0.0001, spam_task/spam_dataset/valid/accuracy=0.925, spam_task/spam_dataset/valid/f1=0.913]"
     ]
    },
    {
     "name": "stderr",
     "output_type": "stream",
     "text": [
      "\r",
      "Epoch 4::  74%|███████▍  | 37/50 [00:08<00:02,  4.57it/s, model/all/train/loss=0.0965, model/all/train/lr=0.0001, spam_task/spam_dataset/valid/accuracy=0.925, spam_task/spam_dataset/valid/f1=0.913]"
     ]
    },
    {
     "name": "stderr",
     "output_type": "stream",
     "text": [
      "\r",
      "Epoch 4::  74%|███████▍  | 37/50 [00:08<00:02,  4.57it/s, model/all/train/loss=0.0953, model/all/train/lr=0.0001, spam_task/spam_dataset/valid/accuracy=0.925, spam_task/spam_dataset/valid/f1=0.913]"
     ]
    },
    {
     "name": "stderr",
     "output_type": "stream",
     "text": [
      "\r",
      "Epoch 4::  76%|███████▌  | 38/50 [00:08<00:02,  4.58it/s, model/all/train/loss=0.0953, model/all/train/lr=0.0001, spam_task/spam_dataset/valid/accuracy=0.925, spam_task/spam_dataset/valid/f1=0.913]"
     ]
    },
    {
     "name": "stderr",
     "output_type": "stream",
     "text": [
      "\r",
      "Epoch 4::  76%|███████▌  | 38/50 [00:08<00:02,  4.58it/s, model/all/train/loss=0.0947, model/all/train/lr=0.0001, spam_task/spam_dataset/valid/accuracy=0.925, spam_task/spam_dataset/valid/f1=0.913]"
     ]
    },
    {
     "name": "stderr",
     "output_type": "stream",
     "text": [
      "\r",
      "Epoch 4::  78%|███████▊  | 39/50 [00:08<00:02,  4.62it/s, model/all/train/loss=0.0947, model/all/train/lr=0.0001, spam_task/spam_dataset/valid/accuracy=0.925, spam_task/spam_dataset/valid/f1=0.913]"
     ]
    },
    {
     "name": "stderr",
     "output_type": "stream",
     "text": [
      "\r",
      "Epoch 4::  78%|███████▊  | 39/50 [00:08<00:02,  4.62it/s, model/all/train/loss=0.0942, model/all/train/lr=0.0001, spam_task/spam_dataset/valid/accuracy=0.925, spam_task/spam_dataset/valid/f1=0.913]"
     ]
    },
    {
     "name": "stderr",
     "output_type": "stream",
     "text": [
      "\r",
      "Epoch 4::  80%|████████  | 40/50 [00:08<00:02,  4.55it/s, model/all/train/loss=0.0942, model/all/train/lr=0.0001, spam_task/spam_dataset/valid/accuracy=0.925, spam_task/spam_dataset/valid/f1=0.913]"
     ]
    },
    {
     "name": "stderr",
     "output_type": "stream",
     "text": [
      "\r",
      "Epoch 4::  80%|████████  | 40/50 [00:08<00:02,  4.55it/s, model/all/train/loss=0.0946, model/all/train/lr=0.0001, spam_task/spam_dataset/valid/accuracy=0.925, spam_task/spam_dataset/valid/f1=0.913]"
     ]
    },
    {
     "name": "stderr",
     "output_type": "stream",
     "text": [
      "\r",
      "Epoch 4::  82%|████████▏ | 41/50 [00:08<00:02,  4.42it/s, model/all/train/loss=0.0946, model/all/train/lr=0.0001, spam_task/spam_dataset/valid/accuracy=0.925, spam_task/spam_dataset/valid/f1=0.913]"
     ]
    },
    {
     "name": "stderr",
     "output_type": "stream",
     "text": [
      "\r",
      "Epoch 4::  82%|████████▏ | 41/50 [00:09<00:02,  4.42it/s, model/all/train/loss=0.0948, model/all/train/lr=0.0001, spam_task/spam_dataset/valid/accuracy=0.925, spam_task/spam_dataset/valid/f1=0.913]"
     ]
    },
    {
     "name": "stderr",
     "output_type": "stream",
     "text": [
      "\r",
      "Epoch 4::  84%|████████▍ | 42/50 [00:09<00:01,  4.36it/s, model/all/train/loss=0.0948, model/all/train/lr=0.0001, spam_task/spam_dataset/valid/accuracy=0.925, spam_task/spam_dataset/valid/f1=0.913]"
     ]
    },
    {
     "name": "stderr",
     "output_type": "stream",
     "text": [
      "\r",
      "Epoch 4::  84%|████████▍ | 42/50 [00:09<00:01,  4.36it/s, model/all/train/loss=0.0953, model/all/train/lr=0.0001, spam_task/spam_dataset/valid/accuracy=0.925, spam_task/spam_dataset/valid/f1=0.913]"
     ]
    },
    {
     "name": "stderr",
     "output_type": "stream",
     "text": [
      "\r",
      "Epoch 4::  86%|████████▌ | 43/50 [00:09<00:01,  4.40it/s, model/all/train/loss=0.0953, model/all/train/lr=0.0001, spam_task/spam_dataset/valid/accuracy=0.925, spam_task/spam_dataset/valid/f1=0.913]"
     ]
    },
    {
     "name": "stderr",
     "output_type": "stream",
     "text": [
      "\r",
      "Epoch 4::  86%|████████▌ | 43/50 [00:09<00:01,  4.40it/s, model/all/train/loss=0.0954, model/all/train/lr=0.0001, spam_task/spam_dataset/valid/accuracy=0.925, spam_task/spam_dataset/valid/f1=0.913]"
     ]
    },
    {
     "name": "stderr",
     "output_type": "stream",
     "text": [
      "\r",
      "Epoch 4::  88%|████████▊ | 44/50 [00:09<00:01,  4.38it/s, model/all/train/loss=0.0954, model/all/train/lr=0.0001, spam_task/spam_dataset/valid/accuracy=0.925, spam_task/spam_dataset/valid/f1=0.913]"
     ]
    },
    {
     "name": "stderr",
     "output_type": "stream",
     "text": [
      "\r",
      "Epoch 4::  88%|████████▊ | 44/50 [00:09<00:01,  4.38it/s, model/all/train/loss=0.0947, model/all/train/lr=0.0001, spam_task/spam_dataset/valid/accuracy=0.925, spam_task/spam_dataset/valid/f1=0.913]"
     ]
    },
    {
     "name": "stderr",
     "output_type": "stream",
     "text": [
      "\r",
      "Epoch 4::  90%|█████████ | 45/50 [00:09<00:01,  4.43it/s, model/all/train/loss=0.0947, model/all/train/lr=0.0001, spam_task/spam_dataset/valid/accuracy=0.925, spam_task/spam_dataset/valid/f1=0.913]"
     ]
    },
    {
     "name": "stderr",
     "output_type": "stream",
     "text": [
      "\r",
      "Epoch 4::  90%|█████████ | 45/50 [00:10<00:01,  4.43it/s, model/all/train/loss=0.0942, model/all/train/lr=0.0001, spam_task/spam_dataset/valid/accuracy=0.925, spam_task/spam_dataset/valid/f1=0.913]"
     ]
    },
    {
     "name": "stderr",
     "output_type": "stream",
     "text": [
      "\r",
      "Epoch 4::  92%|█████████▏| 46/50 [00:10<00:00,  4.39it/s, model/all/train/loss=0.0942, model/all/train/lr=0.0001, spam_task/spam_dataset/valid/accuracy=0.925, spam_task/spam_dataset/valid/f1=0.913]"
     ]
    },
    {
     "name": "stderr",
     "output_type": "stream",
     "text": [
      "\r",
      "Epoch 4::  92%|█████████▏| 46/50 [00:10<00:00,  4.39it/s, model/all/train/loss=0.0933, model/all/train/lr=0.0001, spam_task/spam_dataset/valid/accuracy=0.925, spam_task/spam_dataset/valid/f1=0.913]"
     ]
    },
    {
     "name": "stderr",
     "output_type": "stream",
     "text": [
      "\r",
      "Epoch 4::  94%|█████████▍| 47/50 [00:10<00:00,  4.36it/s, model/all/train/loss=0.0933, model/all/train/lr=0.0001, spam_task/spam_dataset/valid/accuracy=0.925, spam_task/spam_dataset/valid/f1=0.913]"
     ]
    },
    {
     "name": "stderr",
     "output_type": "stream",
     "text": [
      "\r",
      "Epoch 4::  94%|█████████▍| 47/50 [00:10<00:00,  4.36it/s, model/all/train/loss=0.0932, model/all/train/lr=0.0001, spam_task/spam_dataset/valid/accuracy=0.925, spam_task/spam_dataset/valid/f1=0.913]"
     ]
    },
    {
     "name": "stderr",
     "output_type": "stream",
     "text": [
      "\r",
      "Epoch 4::  96%|█████████▌| 48/50 [00:10<00:00,  4.17it/s, model/all/train/loss=0.0932, model/all/train/lr=0.0001, spam_task/spam_dataset/valid/accuracy=0.925, spam_task/spam_dataset/valid/f1=0.913]"
     ]
    },
    {
     "name": "stderr",
     "output_type": "stream",
     "text": [
      "\r",
      "Epoch 4::  96%|█████████▌| 48/50 [00:10<00:00,  4.17it/s, model/all/train/loss=0.0922, model/all/train/lr=0.0001, spam_task/spam_dataset/valid/accuracy=0.925, spam_task/spam_dataset/valid/f1=0.913]"
     ]
    },
    {
     "name": "stderr",
     "output_type": "stream",
     "text": [
      "\r",
      "Epoch 4::  98%|█████████▊| 49/50 [00:10<00:00,  4.28it/s, model/all/train/loss=0.0922, model/all/train/lr=0.0001, spam_task/spam_dataset/valid/accuracy=0.925, spam_task/spam_dataset/valid/f1=0.913]"
     ]
    },
    {
     "name": "stderr",
     "output_type": "stream",
     "text": [
      "\r",
      "Epoch 4::  98%|█████████▊| 49/50 [00:11<00:00,  4.28it/s, model/all/train/loss=0.0923, model/all/train/lr=0.0001, spam_task/spam_dataset/valid/accuracy=0.917, spam_task/spam_dataset/valid/f1=0.902]"
     ]
    },
    {
     "name": "stderr",
     "output_type": "stream",
     "text": [
      "\r",
      "Epoch 4:: 100%|██████████| 50/50 [00:11<00:00,  4.25it/s, model/all/train/loss=0.0923, model/all/train/lr=0.0001, spam_task/spam_dataset/valid/accuracy=0.917, spam_task/spam_dataset/valid/f1=0.902]"
     ]
    },
    {
     "name": "stderr",
     "output_type": "stream",
     "text": [
      "\n"
     ]
    }
   ],
   "source": [
    "from snorkel.classification import MultitaskClassifier, Trainer\n",
    "\n",
    "model = MultitaskClassifier([spam_task])\n",
    "trainer = Trainer(n_epochs=5, lr=1e-4, progress_bar=True)\n",
    "trainer.fit(model, [dl_train, dl_valid])"
   ]
  },
  {
   "cell_type": "markdown",
   "metadata": {},
   "source": [
    "How well does our model do?"
   ]
  },
  {
   "cell_type": "code",
   "execution_count": 10,
   "metadata": {},
   "outputs": [
    {
     "data": {
      "text/html": [
       "<div>\n",
       "<style scoped>\n",
       "    .dataframe tbody tr th:only-of-type {\n",
       "        vertical-align: middle;\n",
       "    }\n",
       "\n",
       "    .dataframe tbody tr th {\n",
       "        vertical-align: top;\n",
       "    }\n",
       "\n",
       "    .dataframe thead th {\n",
       "        text-align: right;\n",
       "    }\n",
       "</style>\n",
       "<table border=\"1\" class=\"dataframe\">\n",
       "  <thead>\n",
       "    <tr style=\"text-align: right;\">\n",
       "      <th></th>\n",
       "      <th>label</th>\n",
       "      <th>dataset</th>\n",
       "      <th>split</th>\n",
       "      <th>metric</th>\n",
       "      <th>score</th>\n",
       "    </tr>\n",
       "  </thead>\n",
       "  <tbody>\n",
       "    <tr>\n",
       "      <th>0</th>\n",
       "      <td>spam_task</td>\n",
       "      <td>spam_dataset</td>\n",
       "      <td>train</td>\n",
       "      <td>accuracy</td>\n",
       "      <td>0.990542</td>\n",
       "    </tr>\n",
       "    <tr>\n",
       "      <th>1</th>\n",
       "      <td>spam_task</td>\n",
       "      <td>spam_dataset</td>\n",
       "      <td>train</td>\n",
       "      <td>f1</td>\n",
       "      <td>0.990937</td>\n",
       "    </tr>\n",
       "    <tr>\n",
       "      <th>2</th>\n",
       "      <td>spam_task</td>\n",
       "      <td>spam_dataset</td>\n",
       "      <td>valid</td>\n",
       "      <td>accuracy</td>\n",
       "      <td>0.916667</td>\n",
       "    </tr>\n",
       "    <tr>\n",
       "      <th>3</th>\n",
       "      <td>spam_task</td>\n",
       "      <td>spam_dataset</td>\n",
       "      <td>valid</td>\n",
       "      <td>f1</td>\n",
       "      <td>0.901961</td>\n",
       "    </tr>\n",
       "  </tbody>\n",
       "</table>\n",
       "</div>"
      ],
      "text/plain": [
       "       label       dataset  split    metric     score\n",
       "0  spam_task  spam_dataset  train  accuracy  0.990542\n",
       "1  spam_task  spam_dataset  train  f1        0.990937\n",
       "2  spam_task  spam_dataset  valid  accuracy  0.916667\n",
       "3  spam_task  spam_dataset  valid  f1        0.901961"
      ]
     },
     "execution_count": 10,
     "metadata": {},
     "output_type": "execute_result"
    }
   ],
   "source": [
    "model.score([dl_train, dl_valid], as_dataframe=True)"
   ]
  },
  {
   "cell_type": "markdown",
   "metadata": {},
   "source": [
    "## 3. Perform error analysis\n",
    "\n",
    "In overall metrics (e.g. `f1`, `accuracy`) our model appears to perform well!\n",
    "However, we emphasize we might actually be **more interested in performance for application-critical subsets,** or _slices_.\n",
    "\n",
    "Let's perform an error analysis, using [`get_label_buckets`](https://snorkel.readthedocs.io/en/redux/packages/_autosummary/analysis/snorkel.analysis.get_label_buckets.html), to see where our model makes mistakes.\n",
    "We collect the predictions from the model and visualize examples in specific error buckets."
   ]
  },
  {
   "cell_type": "code",
   "execution_count": 11,
   "metadata": {},
   "outputs": [],
   "source": [
    "from snorkel.analysis import get_label_buckets\n",
    "\n",
    "outputs = model.predict(dl_valid, return_preds=True)\n",
    "error_buckets = get_label_buckets(\n",
    "    outputs[\"golds\"][\"spam_task\"], outputs[\"preds\"][\"spam_task\"]\n",
    ")"
   ]
  },
  {
   "cell_type": "markdown",
   "metadata": {},
   "source": [
    "For application purposes, we might care especially about false negatives (i.e. true label was $1$, but model predicted $0$) — for the spam task, this error mode might expose users to external redirects to malware!"
   ]
  },
  {
   "cell_type": "code",
   "execution_count": 12,
   "metadata": {},
   "outputs": [
    {
     "data": {
      "text/html": [
       "<div>\n",
       "<style scoped>\n",
       "    .dataframe tbody tr th:only-of-type {\n",
       "        vertical-align: middle;\n",
       "    }\n",
       "\n",
       "    .dataframe tbody tr th {\n",
       "        vertical-align: top;\n",
       "    }\n",
       "\n",
       "    .dataframe thead th {\n",
       "        text-align: right;\n",
       "    }\n",
       "</style>\n",
       "<table border=\"1\" class=\"dataframe\">\n",
       "  <thead>\n",
       "    <tr style=\"text-align: right;\">\n",
       "      <th></th>\n",
       "      <th>text</th>\n",
       "      <th>label</th>\n",
       "    </tr>\n",
       "  </thead>\n",
       "  <tbody>\n",
       "    <tr>\n",
       "      <th>218</th>\n",
       "      <td>WOW muslims are really egoistic..... 23% of the World population and not in this video or donating 1 dollar to the poor ones in Africa :( shame on those terrorist muslims</td>\n",
       "      <td>1</td>\n",
       "    </tr>\n",
       "    <tr>\n",
       "      <th>157</th>\n",
       "      <td>Fuck it was the best ever 0687119038 nummber of patrik kluivert his son share !﻿</td>\n",
       "      <td>1</td>\n",
       "    </tr>\n",
       "    <tr>\n",
       "      <th>154</th>\n",
       "      <td>1 753 682 421 GANGNAM STYLE ^^</td>\n",
       "      <td>1</td>\n",
       "    </tr>\n",
       "    <tr>\n",
       "      <th>31</th>\n",
       "      <td>Part 5. Comforter of the afflicted, pray for us Help of Christians, pray for us Queen of Angels, pray for us Queen of Patriarchs, pray for us Queen of Prophets, pray for us Queen of Apostles, pray for us Queen of Martyrs, pray for us Queen of Confessors, pray for us Queen of Virgins, pray for us Queen of all Saints, pray for us Queen conceived without original sin, pray for us Queen of the most holy Rosary, pray for us Queen of the family, pray for us Queen of peace, pray for us</td>\n",
       "      <td>1</td>\n",
       "    </tr>\n",
       "    <tr>\n",
       "      <th>142</th>\n",
       "      <td>I WILL NEVER FORGET THIS SONG IN MY LIFE LIKE THIS COMMENT OF YOUR HEARING THIS SONG FOR LIKE A YEAR!!!!!</td>\n",
       "      <td>1</td>\n",
       "    </tr>\n",
       "  </tbody>\n",
       "</table>\n",
       "</div>"
      ],
      "text/plain": [
       "                                                                                                                                                                                                                                                                                                                                                                                                                                                                                                     text  \\\n",
       "218  WOW muslims are really egoistic..... 23% of the World population and not in this video or donating 1 dollar to the poor ones in Africa :( shame on those terrorist muslims                                                                                                                                                                                                                                                                                                                             \n",
       "157  Fuck it was the best ever 0687119038 nummber of patrik kluivert his son share !﻿                                                                                                                                                                                                                                                                                                                                                                                                                       \n",
       "154  1 753 682 421 GANGNAM STYLE ^^                                                                                                                                                                                                                                                                                                                                                                                                                                                                         \n",
       "31   Part 5. Comforter of the afflicted, pray for us Help of Christians, pray for us Queen of Angels, pray for us Queen of Patriarchs, pray for us Queen of Prophets, pray for us Queen of Apostles, pray for us Queen of Martyrs, pray for us Queen of Confessors, pray for us Queen of Virgins, pray for us Queen of all Saints, pray for us Queen conceived without original sin, pray for us Queen of the most holy Rosary, pray for us Queen of the family, pray for us Queen of peace, pray for us    \n",
       "142  I WILL NEVER FORGET THIS SONG IN MY LIFE LIKE THIS COMMENT OF YOUR HEARING THIS SONG FOR LIKE A YEAR!!!!!                                                                                                                                                                                                                                                                                                                                                                                              \n",
       "\n",
       "     label  \n",
       "218  1      \n",
       "157  1      \n",
       "154  1      \n",
       "31   1      \n",
       "142  1      "
      ]
     },
     "execution_count": 12,
     "metadata": {},
     "output_type": "execute_result"
    }
   ],
   "source": [
    "df_valid[[\"text\", \"label\"]].iloc[error_buckets[(1, 0)]].head()"
   ]
  },
  {
   "cell_type": "markdown",
   "metadata": {},
   "source": [
    "In the next sections, we'll explore how we can programmatically monitor these error modes with built-in helpers from Snorkel."
   ]
  },
  {
   "cell_type": "markdown",
   "metadata": {},
   "source": [
    "## 4. Monitor slice performance"
   ]
  },
  {
   "cell_type": "markdown",
   "metadata": {},
   "source": [
    "In order to monitor performance on our `short_link` slice, we add labels to an existing dataloader.\n",
    "First, for our $n$ examples and $k$ slices in each split, we apply the SF to our data to create an $n \\times k$ matrix. (So far, $k=1$)."
   ]
  },
  {
   "cell_type": "code",
   "execution_count": 13,
   "metadata": {},
   "outputs": [
    {
     "name": "stderr",
     "output_type": "stream",
     "text": [
      "\r",
      "  0%|          | 0/1586 [00:00<?, ?it/s]"
     ]
    },
    {
     "name": "stderr",
     "output_type": "stream",
     "text": [
      "\r",
      "100%|██████████| 1586/1586 [00:00<00:00, 27651.80it/s]"
     ]
    },
    {
     "name": "stderr",
     "output_type": "stream",
     "text": [
      "\n",
      "\r",
      "  0%|          | 0/120 [00:00<?, ?it/s]"
     ]
    },
    {
     "name": "stderr",
     "output_type": "stream",
     "text": [
      "\r",
      "100%|██████████| 120/120 [00:00<00:00, 26390.34it/s]"
     ]
    },
    {
     "name": "stderr",
     "output_type": "stream",
     "text": [
      "\n",
      "\r",
      "  0%|          | 0/250 [00:00<?, ?it/s]"
     ]
    },
    {
     "name": "stderr",
     "output_type": "stream",
     "text": [
      "\r",
      "100%|██████████| 250/250 [00:00<00:00, 31047.76it/s]"
     ]
    },
    {
     "name": "stderr",
     "output_type": "stream",
     "text": [
      "\n"
     ]
    }
   ],
   "source": [
    "from snorkel.slicing import PandasSFApplier\n",
    "\n",
    "applier = PandasSFApplier(sfs)\n",
    "S_train = applier.apply(df_train)\n",
    "S_valid = applier.apply(df_valid)\n",
    "S_test = applier.apply(df_test)"
   ]
  },
  {
   "cell_type": "markdown",
   "metadata": {},
   "source": [
    "Specifically, [`add_slice_labels`](https://snorkel.readthedocs.io/en/redux/packages/_autosummary/slicing/snorkel.slicing.add_slice_labels.html#snorkel.slicing.add_slice_labels) will add two sets of labels for each slice:\n",
    "* `spam_task_slice:{slice_name}_ind`: an indicator label, which corresponds to the outputs of the slicing functions.\n",
    "These indicate whether each example is in the slice (`label=1`)or not (`label=0`).\n",
    "* `spam_task_slice:{slice_name}_pred`: a _masked_ set of the original task labels (in this case, labeled `spam_task`) for each slice. Examples that are masked (with `label=-1`) will not contribute to loss or scoring."
   ]
  },
  {
   "cell_type": "code",
   "execution_count": 14,
   "metadata": {},
   "outputs": [],
   "source": [
    "from snorkel.slicing import add_slice_labels\n",
    "\n",
    "slice_names = [sf.name for sf in sfs]\n",
    "add_slice_labels(dl_train, spam_task, S_train, slice_names)\n",
    "add_slice_labels(dl_valid, spam_task, S_valid, slice_names)\n",
    "add_slice_labels(dl_test, spam_task, S_test, slice_names)"
   ]
  },
  {
   "cell_type": "code",
   "execution_count": 15,
   "metadata": {},
   "outputs": [
    {
     "data": {
      "text/plain": [
       "DictDataset(name=spam_dataset, X_keys=['bow_features'], Y_keys=['spam_task', 'spam_task_slice:short_link_ind', 'spam_task_slice:short_link_pred', 'spam_task_slice:base_ind', 'spam_task_slice:base_pred'])"
      ]
     },
     "execution_count": 15,
     "metadata": {},
     "output_type": "execute_result"
    }
   ],
   "source": [
    "dl_valid.dataset"
   ]
  },
  {
   "cell_type": "markdown",
   "metadata": {},
   "source": [
    "With our updated dataloader, we want to evaluate our model on the defined slice.\n",
    "In the  [`MultitaskClassifier`](https://snorkel.readthedocs.io/en/redux/packages/_autosummary/classification/snorkel.classification.MultitaskClassifier.html), we can call [`score`](https://snorkel.readthedocs.io/en/redux/packages/_autosummary/classification/snorkel.classification.MultitaskClassifier.html#snorkel.classification.MultitaskClassifier.score) with an additional argument, `remap_labels`, to specify that the slice's prediction labels, `spam_task_slice:short_link_pred`, should be mapped to the `spam_task` for evaluation."
   ]
  },
  {
   "cell_type": "code",
   "execution_count": 16,
   "metadata": {},
   "outputs": [
    {
     "name": "stderr",
     "output_type": "stream",
     "text": [
      "WARNING:root:Ignoring extra labels in dataloader (valid): {'spam_task_slice:short_link_ind', 'spam_task_slice:base_ind', 'spam_task_slice:base_pred'}\n"
     ]
    },
    {
     "name": "stderr",
     "output_type": "stream",
     "text": [
      "WARNING:root:Ignoring extra labels in dataloader (test): {'spam_task_slice:short_link_ind', 'spam_task_slice:base_ind', 'spam_task_slice:base_pred'}\n"
     ]
    },
    {
     "data": {
      "text/html": [
       "<div>\n",
       "<style scoped>\n",
       "    .dataframe tbody tr th:only-of-type {\n",
       "        vertical-align: middle;\n",
       "    }\n",
       "\n",
       "    .dataframe tbody tr th {\n",
       "        vertical-align: top;\n",
       "    }\n",
       "\n",
       "    .dataframe thead th {\n",
       "        text-align: right;\n",
       "    }\n",
       "</style>\n",
       "<table border=\"1\" class=\"dataframe\">\n",
       "  <thead>\n",
       "    <tr style=\"text-align: right;\">\n",
       "      <th></th>\n",
       "      <th>label</th>\n",
       "      <th>dataset</th>\n",
       "      <th>split</th>\n",
       "      <th>metric</th>\n",
       "      <th>score</th>\n",
       "    </tr>\n",
       "  </thead>\n",
       "  <tbody>\n",
       "    <tr>\n",
       "      <th>0</th>\n",
       "      <td>spam_task</td>\n",
       "      <td>spam_dataset</td>\n",
       "      <td>valid</td>\n",
       "      <td>accuracy</td>\n",
       "      <td>0.916667</td>\n",
       "    </tr>\n",
       "    <tr>\n",
       "      <th>1</th>\n",
       "      <td>spam_task</td>\n",
       "      <td>spam_dataset</td>\n",
       "      <td>valid</td>\n",
       "      <td>f1</td>\n",
       "      <td>0.901961</td>\n",
       "    </tr>\n",
       "    <tr>\n",
       "      <th>2</th>\n",
       "      <td>spam_task_slice:short_link_pred</td>\n",
       "      <td>spam_dataset</td>\n",
       "      <td>valid</td>\n",
       "      <td>accuracy</td>\n",
       "      <td>0.400000</td>\n",
       "    </tr>\n",
       "    <tr>\n",
       "      <th>3</th>\n",
       "      <td>spam_task_slice:short_link_pred</td>\n",
       "      <td>spam_dataset</td>\n",
       "      <td>valid</td>\n",
       "      <td>f1</td>\n",
       "      <td>0.571429</td>\n",
       "    </tr>\n",
       "    <tr>\n",
       "      <th>4</th>\n",
       "      <td>spam_task</td>\n",
       "      <td>spam_dataset</td>\n",
       "      <td>test</td>\n",
       "      <td>accuracy</td>\n",
       "      <td>0.928000</td>\n",
       "    </tr>\n",
       "    <tr>\n",
       "      <th>5</th>\n",
       "      <td>spam_task</td>\n",
       "      <td>spam_dataset</td>\n",
       "      <td>test</td>\n",
       "      <td>f1</td>\n",
       "      <td>0.918182</td>\n",
       "    </tr>\n",
       "    <tr>\n",
       "      <th>6</th>\n",
       "      <td>spam_task_slice:short_link_pred</td>\n",
       "      <td>spam_dataset</td>\n",
       "      <td>test</td>\n",
       "      <td>accuracy</td>\n",
       "      <td>0.333333</td>\n",
       "    </tr>\n",
       "    <tr>\n",
       "      <th>7</th>\n",
       "      <td>spam_task_slice:short_link_pred</td>\n",
       "      <td>spam_dataset</td>\n",
       "      <td>test</td>\n",
       "      <td>f1</td>\n",
       "      <td>0.500000</td>\n",
       "    </tr>\n",
       "  </tbody>\n",
       "</table>\n",
       "</div>"
      ],
      "text/plain": [
       "                             label       dataset  split    metric     score\n",
       "0  spam_task                        spam_dataset  valid  accuracy  0.916667\n",
       "1  spam_task                        spam_dataset  valid  f1        0.901961\n",
       "2  spam_task_slice:short_link_pred  spam_dataset  valid  accuracy  0.400000\n",
       "3  spam_task_slice:short_link_pred  spam_dataset  valid  f1        0.571429\n",
       "4  spam_task                        spam_dataset  test   accuracy  0.928000\n",
       "5  spam_task                        spam_dataset  test   f1        0.918182\n",
       "6  spam_task_slice:short_link_pred  spam_dataset  test   accuracy  0.333333\n",
       "7  spam_task_slice:short_link_pred  spam_dataset  test   f1        0.500000"
      ]
     },
     "execution_count": 16,
     "metadata": {},
     "output_type": "execute_result"
    }
   ],
   "source": [
    "model.score(\n",
    "    dataloaders=[dl_valid, dl_test],\n",
    "    remap_labels={\"spam_task_slice:short_link_pred\": \"spam_task\"},\n",
    "    as_dataframe=True,\n",
    ")"
   ]
  },
  {
   "cell_type": "markdown",
   "metadata": {},
   "source": [
    "### Performance monitoring with [`SliceScorer`](https://snorkel.readthedocs.io/en/redux/packages/_autosummary/slicing/snorkel.slicing.SliceScorer.html#snorkel.slicing.SliceScorer)"
   ]
  },
  {
   "cell_type": "markdown",
   "metadata": {},
   "source": [
    "If you're using a model other than [`MultitaskClassifier`](https://snorkel.readthedocs.io/en/redux/packages/_autosummary/classification/snorkel.classification.MultitaskClassifier.html#snorkel-classification-multitaskclassifier), you can still evaluate on slices using the more general `SliceScorer` class.\n",
    "\n",
    "We define a `LogisticRegression` model from sklearn and show how we might visualize these slice-specific scores."
   ]
  },
  {
   "cell_type": "code",
   "execution_count": 17,
   "metadata": {},
   "outputs": [
    {
     "data": {
      "text/plain": [
       "0.928"
      ]
     },
     "execution_count": 17,
     "metadata": {},
     "output_type": "execute_result"
    }
   ],
   "source": [
    "from sklearn.linear_model import LogisticRegression\n",
    "\n",
    "sklearn_model = LogisticRegression(C=0.001, solver=\"liblinear\")\n",
    "sklearn_model.fit(X=X_train, y=Y_train)\n",
    "sklearn_model.score(X_test, Y_test)"
   ]
  },
  {
   "cell_type": "markdown",
   "metadata": {},
   "source": [
    "Now, we initialize the [`SliceScorer`](https://snorkel.readthedocs.io/en/redux/packages/_autosummary/slicing/snorkel.slicing.SliceScorer.html#snorkel.slicing.SliceScorer) using 1) an existing [`Scorer`](https://snorkel.readthedocs.io/en/redux/packages/_autosummary/slicing/snorkel.slicing.SliceScorer.html) and 2) desired `slice_names` to see slice-specific performance."
   ]
  },
  {
   "cell_type": "code",
   "execution_count": 18,
   "metadata": {},
   "outputs": [],
   "source": [
    "from snorkel.utils import preds_to_probs\n",
    "\n",
    "preds_test = sklearn_model.predict(X_test)\n",
    "probs_test = preds_to_probs(preds_test, 2)"
   ]
  },
  {
   "cell_type": "code",
   "execution_count": 19,
   "metadata": {},
   "outputs": [
    {
     "data": {
      "text/html": [
       "<div>\n",
       "<style scoped>\n",
       "    .dataframe tbody tr th:only-of-type {\n",
       "        vertical-align: middle;\n",
       "    }\n",
       "\n",
       "    .dataframe tbody tr th {\n",
       "        vertical-align: top;\n",
       "    }\n",
       "\n",
       "    .dataframe thead th {\n",
       "        text-align: right;\n",
       "    }\n",
       "</style>\n",
       "<table border=\"1\" class=\"dataframe\">\n",
       "  <thead>\n",
       "    <tr style=\"text-align: right;\">\n",
       "      <th></th>\n",
       "      <th>accuracy</th>\n",
       "      <th>f1</th>\n",
       "    </tr>\n",
       "  </thead>\n",
       "  <tbody>\n",
       "    <tr>\n",
       "      <th>overall</th>\n",
       "      <td>0.928000</td>\n",
       "      <td>0.925</td>\n",
       "    </tr>\n",
       "    <tr>\n",
       "      <th>short_link</th>\n",
       "      <td>0.333333</td>\n",
       "      <td>0.500</td>\n",
       "    </tr>\n",
       "  </tbody>\n",
       "</table>\n",
       "</div>"
      ],
      "text/plain": [
       "            accuracy     f1\n",
       "overall     0.928000  0.925\n",
       "short_link  0.333333  0.500"
      ]
     },
     "execution_count": 19,
     "metadata": {},
     "output_type": "execute_result"
    }
   ],
   "source": [
    "from snorkel.analysis import Scorer\n",
    "from snorkel.slicing import SliceScorer\n",
    "\n",
    "scorer = Scorer(metrics=[\"accuracy\", \"f1\"])\n",
    "slice_scorer = SliceScorer(scorer, slice_names)\n",
    "slice_scorer.score(\n",
    "    S=S_test, golds=Y_test, preds=preds_test, probs=probs_test, as_dataframe=True\n",
    ")"
   ]
  },
  {
   "cell_type": "markdown",
   "metadata": {},
   "source": [
    "### Write additional slicing functions (SFs)\n",
    "\n",
    "We'll take inspiration from the labeling tutorial to write additional slicing functions."
   ]
  },
  {
   "cell_type": "code",
   "execution_count": 20,
   "metadata": {},
   "outputs": [],
   "source": [
    "from snorkel.slicing import SlicingFunction, slicing_function\n",
    "from snorkel.preprocess import preprocessor\n",
    "\n",
    "\n",
    "# Keyword-based SFs\n",
    "def keyword_lookup(x, keywords):\n",
    "    return any(word in x.text.lower() for word in keywords)\n",
    "\n",
    "\n",
    "def make_keyword_sf(keywords):\n",
    "    return SlicingFunction(\n",
    "        name=f\"keyword_{keywords[0]}\",\n",
    "        f=keyword_lookup,\n",
    "        resources=dict(keywords=keywords),\n",
    "    )\n",
    "\n",
    "\n",
    "keyword_subscribe = make_keyword_sf(keywords=[\"subscribe\"])\n",
    "keyword_please = make_keyword_sf(keywords=[\"please\", \"plz\"])\n",
    "\n",
    "\n",
    "# Regex-based SF\n",
    "@slicing_function()\n",
    "def regex_check_out(x):\n",
    "    return bool(re.search(r\"check.*out\", x.text, flags=re.I))\n",
    "\n",
    "\n",
    "# Heuristic-based SF\n",
    "@slicing_function()\n",
    "def short_comment(x):\n",
    "    \"\"\"Ham comments are often short, such as 'cool video!'\"\"\"\n",
    "    return len(x.text.split()) < 5\n",
    "\n",
    "\n",
    "# Leverage preprocessor in SF\n",
    "from textblob import TextBlob\n",
    "\n",
    "\n",
    "@preprocessor(memoize=True)\n",
    "def textblob_sentiment(x):\n",
    "    scores = TextBlob(x.text)\n",
    "    x.polarity = scores.sentiment.polarity\n",
    "    return x\n",
    "\n",
    "\n",
    "@slicing_function(pre=[textblob_sentiment])\n",
    "def textblob_polarity(x):\n",
    "    return x.polarity > 0.9"
   ]
  },
  {
   "cell_type": "markdown",
   "metadata": {},
   "source": [
    "Like we saw above, we'd like to visualize examples in the slice.\n",
    "In this case, most examples with high-polarity sentiments are strong opinions about the video — hence, they are usually relevant to the video, and the corresponding labels are $0$."
   ]
  },
  {
   "cell_type": "code",
   "execution_count": 21,
   "metadata": {},
   "outputs": [
    {
     "name": "stderr",
     "output_type": "stream",
     "text": [
      "\r",
      "  0%|          | 0/120 [00:00<?, ?it/s]"
     ]
    },
    {
     "name": "stderr",
     "output_type": "stream",
     "text": [
      "\r",
      " 42%|████▎     | 51/120 [00:00<00:00, 508.77it/s]"
     ]
    },
    {
     "name": "stderr",
     "output_type": "stream",
     "text": [
      "\r",
      "100%|██████████| 120/120 [00:00<00:00, 753.58it/s]"
     ]
    },
    {
     "name": "stderr",
     "output_type": "stream",
     "text": [
      "\n"
     ]
    },
    {
     "data": {
      "text/html": [
       "<div>\n",
       "<style scoped>\n",
       "    .dataframe tbody tr th:only-of-type {\n",
       "        vertical-align: middle;\n",
       "    }\n",
       "\n",
       "    .dataframe tbody tr th {\n",
       "        vertical-align: top;\n",
       "    }\n",
       "\n",
       "    .dataframe thead th {\n",
       "        text-align: right;\n",
       "    }\n",
       "</style>\n",
       "<table border=\"1\" class=\"dataframe\">\n",
       "  <thead>\n",
       "    <tr style=\"text-align: right;\">\n",
       "      <th></th>\n",
       "      <th>text</th>\n",
       "      <th>label</th>\n",
       "    </tr>\n",
       "  </thead>\n",
       "  <tbody>\n",
       "    <tr>\n",
       "      <th>16</th>\n",
       "      <td>Love this song !!!!!!</td>\n",
       "      <td>0</td>\n",
       "    </tr>\n",
       "    <tr>\n",
       "      <th>309</th>\n",
       "      <td>One of the best song of all the time﻿</td>\n",
       "      <td>0</td>\n",
       "    </tr>\n",
       "    <tr>\n",
       "      <th>164</th>\n",
       "      <td>She is perfect</td>\n",
       "      <td>0</td>\n",
       "    </tr>\n",
       "    <tr>\n",
       "      <th>310</th>\n",
       "      <td>Best world cup offical song﻿</td>\n",
       "      <td>0</td>\n",
       "    </tr>\n",
       "    <tr>\n",
       "      <th>352</th>\n",
       "      <td>I remember this :D</td>\n",
       "      <td>0</td>\n",
       "    </tr>\n",
       "  </tbody>\n",
       "</table>\n",
       "</div>"
      ],
      "text/plain": [
       "                                      text  label\n",
       "16   Love this song !!!!!!                  0    \n",
       "309  One of the best song of all the time﻿  0    \n",
       "164  She is perfect                         0    \n",
       "310  Best world cup offical song﻿           0    \n",
       "352  I remember this :D                     0    "
      ]
     },
     "execution_count": 21,
     "metadata": {},
     "output_type": "execute_result"
    }
   ],
   "source": [
    "polarity_df = slice_dataframe(df_valid, textblob_polarity)\n",
    "polarity_df[[\"text\", \"label\"]].head()"
   ]
  },
  {
   "cell_type": "markdown",
   "metadata": {},
   "source": [
    "Like we did above, we can evaluate model performance on _all SFs_ using the `SliceScorer`."
   ]
  },
  {
   "cell_type": "code",
   "execution_count": 22,
   "metadata": {},
   "outputs": [],
   "source": [
    "extra_sfs = [\n",
    "    keyword_subscribe,\n",
    "    keyword_please,\n",
    "    regex_check_out,\n",
    "    short_comment,\n",
    "    textblob_polarity,\n",
    "]\n",
    "\n",
    "sfs = [short_link] + extra_sfs\n",
    "slice_names = [sf.name for sf in sfs]"
   ]
  },
  {
   "cell_type": "code",
   "execution_count": 23,
   "metadata": {},
   "outputs": [
    {
     "name": "stderr",
     "output_type": "stream",
     "text": [
      "\r",
      "  0%|          | 0/250 [00:00<?, ?it/s]"
     ]
    },
    {
     "name": "stderr",
     "output_type": "stream",
     "text": [
      "\r",
      " 54%|█████▎    | 134/250 [00:00<00:00, 1336.84it/s]"
     ]
    },
    {
     "name": "stderr",
     "output_type": "stream",
     "text": [
      "\r",
      "100%|██████████| 250/250 [00:00<00:00, 1323.13it/s]"
     ]
    },
    {
     "name": "stderr",
     "output_type": "stream",
     "text": [
      "\n"
     ]
    },
    {
     "data": {
      "text/html": [
       "<div>\n",
       "<style scoped>\n",
       "    .dataframe tbody tr th:only-of-type {\n",
       "        vertical-align: middle;\n",
       "    }\n",
       "\n",
       "    .dataframe tbody tr th {\n",
       "        vertical-align: top;\n",
       "    }\n",
       "\n",
       "    .dataframe thead th {\n",
       "        text-align: right;\n",
       "    }\n",
       "</style>\n",
       "<table border=\"1\" class=\"dataframe\">\n",
       "  <thead>\n",
       "    <tr style=\"text-align: right;\">\n",
       "      <th></th>\n",
       "      <th>accuracy</th>\n",
       "      <th>f1</th>\n",
       "    </tr>\n",
       "  </thead>\n",
       "  <tbody>\n",
       "    <tr>\n",
       "      <th>overall</th>\n",
       "      <td>0.928000</td>\n",
       "      <td>0.925000</td>\n",
       "    </tr>\n",
       "    <tr>\n",
       "      <th>short_link</th>\n",
       "      <td>0.333333</td>\n",
       "      <td>0.500000</td>\n",
       "    </tr>\n",
       "    <tr>\n",
       "      <th>keyword_subscribe</th>\n",
       "      <td>0.944444</td>\n",
       "      <td>0.971429</td>\n",
       "    </tr>\n",
       "    <tr>\n",
       "      <th>keyword_please</th>\n",
       "      <td>1.000000</td>\n",
       "      <td>1.000000</td>\n",
       "    </tr>\n",
       "    <tr>\n",
       "      <th>regex_check_out</th>\n",
       "      <td>1.000000</td>\n",
       "      <td>1.000000</td>\n",
       "    </tr>\n",
       "    <tr>\n",
       "      <th>short_comment</th>\n",
       "      <td>0.945652</td>\n",
       "      <td>0.666667</td>\n",
       "    </tr>\n",
       "    <tr>\n",
       "      <th>textblob_polarity</th>\n",
       "      <td>0.875000</td>\n",
       "      <td>0.727273</td>\n",
       "    </tr>\n",
       "  </tbody>\n",
       "</table>\n",
       "</div>"
      ],
      "text/plain": [
       "                   accuracy        f1\n",
       "overall            0.928000  0.925000\n",
       "short_link         0.333333  0.500000\n",
       "keyword_subscribe  0.944444  0.971429\n",
       "keyword_please     1.000000  1.000000\n",
       "regex_check_out    1.000000  1.000000\n",
       "short_comment      0.945652  0.666667\n",
       "textblob_polarity  0.875000  0.727273"
      ]
     },
     "execution_count": 23,
     "metadata": {},
     "output_type": "execute_result"
    }
   ],
   "source": [
    "applier = PandasSFApplier(sfs)\n",
    "S_test = applier.apply(df_test)\n",
    "\n",
    "slice_scorer = SliceScorer(scorer, slice_names)\n",
    "slice_scorer.score(\n",
    "    S=S_test, golds=Y_test, preds=preds_test, probs=probs_test, as_dataframe=True\n",
    ")"
   ]
  },
  {
   "cell_type": "markdown",
   "metadata": {},
   "source": [
    "## 5. Improve slice performance\n",
    "\n",
    "In classification tasks, we might attempt to increase slice performance with techniques like _oversampling_ (i.e. with PyTorch's [`WeightedRandomSampler`](https://pytorch.org/docs/stable/data.html#torch.utils.data.WeightedRandomSampler)).\n",
    "This would shift the training distribution to over-represent certain minority populations.\n",
    "Intuitively, we'd like to show the model more `short_link` examples so that the representation is better suited to handle them.\n",
    "\n",
    "A technique like upsampling might work with a small number of slices, but with hundreds or thousands or production slices, it could quickly become intractable to tune upsampling weights per slice.\n",
    "In the following section, we show a modeling approach that we call _Slice-based Learning,_ which handles numerous slices using with slice-specific representation learning."
   ]
  },
  {
   "cell_type": "markdown",
   "metadata": {},
   "source": [
    "### Representation learning with slices"
   ]
  },
  {
   "cell_type": "markdown",
   "metadata": {},
   "source": [
    "To cope with scale, we will attempt to learn and combine many slice-specific representations with an attention mechanism.\n",
    "(For details, please see our technical report — coming soon!)"
   ]
  },
  {
   "cell_type": "markdown",
   "metadata": {},
   "source": [
    "First, we update our existing dataloader with our new slices."
   ]
  },
  {
   "cell_type": "code",
   "execution_count": 24,
   "metadata": {},
   "outputs": [
    {
     "name": "stderr",
     "output_type": "stream",
     "text": [
      "\r",
      "  0%|          | 0/1586 [00:00<?, ?it/s]"
     ]
    },
    {
     "name": "stderr",
     "output_type": "stream",
     "text": [
      "\r",
      "  8%|▊         | 133/1586 [00:00<00:01, 1322.96it/s]"
     ]
    },
    {
     "name": "stderr",
     "output_type": "stream",
     "text": [
      "\r",
      " 17%|█▋        | 270/1586 [00:00<00:00, 1336.45it/s]"
     ]
    },
    {
     "name": "stderr",
     "output_type": "stream",
     "text": [
      "\r",
      " 26%|██▌       | 410/1586 [00:00<00:00, 1353.47it/s]"
     ]
    },
    {
     "name": "stderr",
     "output_type": "stream",
     "text": [
      "\r",
      " 34%|███▍      | 546/1586 [00:00<00:00, 1354.04it/s]"
     ]
    },
    {
     "name": "stderr",
     "output_type": "stream",
     "text": [
      "\r",
      " 42%|████▏     | 664/1586 [00:00<00:00, 1296.17it/s]"
     ]
    },
    {
     "name": "stderr",
     "output_type": "stream",
     "text": [
      "\r",
      " 49%|████▉     | 785/1586 [00:00<00:00, 1266.78it/s]"
     ]
    },
    {
     "name": "stderr",
     "output_type": "stream",
     "text": [
      "\r",
      " 58%|█████▊    | 917/1586 [00:00<00:00, 1280.66it/s]"
     ]
    },
    {
     "name": "stderr",
     "output_type": "stream",
     "text": [
      "\r",
      " 65%|██████▌   | 1035/1586 [00:00<00:00, 1073.04it/s]"
     ]
    },
    {
     "name": "stderr",
     "output_type": "stream",
     "text": [
      "\r",
      " 72%|███████▏  | 1148/1586 [00:00<00:00, 1087.79it/s]"
     ]
    },
    {
     "name": "stderr",
     "output_type": "stream",
     "text": [
      "\r",
      " 81%|████████  | 1288/1586 [00:01<00:00, 1164.82it/s]"
     ]
    },
    {
     "name": "stderr",
     "output_type": "stream",
     "text": [
      "\r",
      " 90%|█████████ | 1430/1586 [00:01<00:00, 1229.30it/s]"
     ]
    },
    {
     "name": "stderr",
     "output_type": "stream",
     "text": [
      "\r",
      " 99%|█████████▉| 1571/1586 [00:01<00:00, 1276.25it/s]"
     ]
    },
    {
     "name": "stderr",
     "output_type": "stream",
     "text": [
      "\r",
      "100%|██████████| 1586/1586 [00:01<00:00, 1249.80it/s]"
     ]
    },
    {
     "name": "stderr",
     "output_type": "stream",
     "text": [
      "\n",
      "\r",
      "  0%|          | 0/120 [00:00<?, ?it/s]"
     ]
    },
    {
     "name": "stderr",
     "output_type": "stream",
     "text": [
      "\r",
      "100%|██████████| 120/120 [00:00<00:00, 5948.66it/s]"
     ]
    },
    {
     "name": "stderr",
     "output_type": "stream",
     "text": [
      "\n"
     ]
    }
   ],
   "source": [
    "applier = PandasSFApplier(sfs)\n",
    "S_train = applier.apply(df_train)\n",
    "S_valid = applier.apply(df_valid)"
   ]
  },
  {
   "cell_type": "code",
   "execution_count": 25,
   "metadata": {},
   "outputs": [],
   "source": [
    "slice_names = [sf.name for sf in sfs]\n",
    "add_slice_labels(dl_train, spam_task, S_train, slice_names)\n",
    "add_slice_labels(dl_valid, spam_task, S_valid, slice_names)\n",
    "add_slice_labels(dl_test, spam_task, S_test, slice_names)"
   ]
  },
  {
   "cell_type": "markdown",
   "metadata": {},
   "source": [
    "Using the helper, [`convert_to_slice_tasks`](https://snorkel.readthedocs.io/en/redux/packages/_autosummary/slicing/snorkel.slicing.convert_to_slice_tasks.html), we can convert our original `spam_task` into slice-specific tasks.\n",
    "These will be used to learn \"expert task heads\" for each slice, in the style of multi-task learning.\n",
    "The original `spam_task` now contains the attention mechanism to then combine these slice experts."
   ]
  },
  {
   "cell_type": "code",
   "execution_count": 26,
   "metadata": {},
   "outputs": [
    {
     "data": {
      "text/plain": [
       "[Task(name=spam_task_slice:short_link_ind),\n",
       " Task(name=spam_task_slice:keyword_subscribe_ind),\n",
       " Task(name=spam_task_slice:keyword_please_ind),\n",
       " Task(name=spam_task_slice:regex_check_out_ind),\n",
       " Task(name=spam_task_slice:short_comment_ind),\n",
       " Task(name=spam_task_slice:textblob_polarity_ind),\n",
       " Task(name=spam_task_slice:base_ind),\n",
       " Task(name=spam_task_slice:short_link_pred),\n",
       " Task(name=spam_task_slice:keyword_subscribe_pred),\n",
       " Task(name=spam_task_slice:keyword_please_pred),\n",
       " Task(name=spam_task_slice:regex_check_out_pred),\n",
       " Task(name=spam_task_slice:short_comment_pred),\n",
       " Task(name=spam_task_slice:textblob_polarity_pred),\n",
       " Task(name=spam_task_slice:base_pred),\n",
       " Task(name=spam_task)]"
      ]
     },
     "execution_count": 26,
     "metadata": {},
     "output_type": "execute_result"
    }
   ],
   "source": [
    "from snorkel.slicing import convert_to_slice_tasks\n",
    "\n",
    "slice_tasks = convert_to_slice_tasks(spam_task, slice_names)\n",
    "slice_tasks"
   ]
  },
  {
   "cell_type": "code",
   "execution_count": 27,
   "metadata": {},
   "outputs": [],
   "source": [
    "slice_model = MultitaskClassifier(slice_tasks)"
   ]
  },
  {
   "cell_type": "markdown",
   "metadata": {},
   "source": [
    "We train a single model initialized with all slice tasks.\n",
    "We note that we can monitor slice-specific performance during training — this is a powerful way to track especially critical subsets of the data.\n",
    "\n",
    "*Note: This model includes more parameters (corresponding to additional slices), and therefore requires more time to train.\n",
    "We set `num_epochs=1` for demonstration purposes.*"
   ]
  },
  {
   "cell_type": "code",
   "execution_count": 28,
   "metadata": {},
   "outputs": [
    {
     "name": "stderr",
     "output_type": "stream",
     "text": [
      "\r",
      "Epoch 0::   0%|          | 0/50 [00:00<?, ?it/s]"
     ]
    },
    {
     "name": "stderr",
     "output_type": "stream",
     "text": [
      "\r",
      "Epoch 0::   0%|          | 0/50 [00:03<?, ?it/s, model/all/train/loss=0.689, model/all/train/lr=0.0001]"
     ]
    },
    {
     "name": "stderr",
     "output_type": "stream",
     "text": [
      "\r",
      "Epoch 0::   2%|▏         | 1/50 [00:03<02:44,  3.35s/it, model/all/train/loss=0.689, model/all/train/lr=0.0001]"
     ]
    },
    {
     "name": "stderr",
     "output_type": "stream",
     "text": [
      "\r",
      "Epoch 0::   2%|▏         | 1/50 [00:06<02:44,  3.35s/it, model/all/train/loss=0.646, model/all/train/lr=0.0001]"
     ]
    },
    {
     "name": "stderr",
     "output_type": "stream",
     "text": [
      "\r",
      "Epoch 0::   4%|▍         | 2/50 [00:06<02:31,  3.16s/it, model/all/train/loss=0.646, model/all/train/lr=0.0001]"
     ]
    },
    {
     "name": "stderr",
     "output_type": "stream",
     "text": [
      "\r",
      "Epoch 0::   4%|▍         | 2/50 [00:08<02:31,  3.16s/it, model/all/train/loss=0.626, model/all/train/lr=0.0001]"
     ]
    },
    {
     "name": "stderr",
     "output_type": "stream",
     "text": [
      "\r",
      "Epoch 0::   6%|▌         | 3/50 [00:08<02:18,  2.95s/it, model/all/train/loss=0.626, model/all/train/lr=0.0001]"
     ]
    },
    {
     "name": "stderr",
     "output_type": "stream",
     "text": [
      "\r",
      "Epoch 0::   6%|▌         | 3/50 [00:10<02:18,  2.95s/it, model/all/train/loss=0.603, model/all/train/lr=0.0001]"
     ]
    },
    {
     "name": "stderr",
     "output_type": "stream",
     "text": [
      "\r",
      "Epoch 0::   8%|▊         | 4/50 [00:10<02:08,  2.80s/it, model/all/train/loss=0.603, model/all/train/lr=0.0001]"
     ]
    },
    {
     "name": "stderr",
     "output_type": "stream",
     "text": [
      "\r",
      "Epoch 0::   8%|▊         | 4/50 [00:13<02:08,  2.80s/it, model/all/train/loss=0.58, model/all/train/lr=0.0001] "
     ]
    },
    {
     "name": "stderr",
     "output_type": "stream",
     "text": [
      "\r",
      "Epoch 0::  10%|█         | 5/50 [00:13<02:00,  2.69s/it, model/all/train/loss=0.58, model/all/train/lr=0.0001]"
     ]
    },
    {
     "name": "stderr",
     "output_type": "stream",
     "text": [
      "\r",
      "Epoch 0::  10%|█         | 5/50 [00:15<02:00,  2.69s/it, model/all/train/loss=0.566, model/all/train/lr=0.0001]"
     ]
    },
    {
     "name": "stderr",
     "output_type": "stream",
     "text": [
      "\r",
      "Epoch 0::  12%|█▏        | 6/50 [00:15<01:56,  2.65s/it, model/all/train/loss=0.566, model/all/train/lr=0.0001]"
     ]
    },
    {
     "name": "stderr",
     "output_type": "stream",
     "text": [
      "\r",
      "Epoch 0::  12%|█▏        | 6/50 [00:18<01:56,  2.65s/it, model/all/train/loss=0.554, model/all/train/lr=0.0001]"
     ]
    },
    {
     "name": "stderr",
     "output_type": "stream",
     "text": [
      "\r",
      "Epoch 0::  14%|█▍        | 7/50 [00:18<01:53,  2.65s/it, model/all/train/loss=0.554, model/all/train/lr=0.0001]"
     ]
    },
    {
     "name": "stderr",
     "output_type": "stream",
     "text": [
      "\r",
      "Epoch 0::  14%|█▍        | 7/50 [00:21<01:53,  2.65s/it, model/all/train/loss=0.543, model/all/train/lr=0.0001]"
     ]
    },
    {
     "name": "stderr",
     "output_type": "stream",
     "text": [
      "\r",
      "Epoch 0::  16%|█▌        | 8/50 [00:21<01:49,  2.60s/it, model/all/train/loss=0.543, model/all/train/lr=0.0001]"
     ]
    },
    {
     "name": "stderr",
     "output_type": "stream",
     "text": [
      "\r",
      "Epoch 0::  16%|█▌        | 8/50 [00:23<01:49,  2.60s/it, model/all/train/loss=0.533, model/all/train/lr=0.0001]"
     ]
    },
    {
     "name": "stderr",
     "output_type": "stream",
     "text": [
      "\r",
      "Epoch 0::  18%|█▊        | 9/50 [00:23<01:44,  2.55s/it, model/all/train/loss=0.533, model/all/train/lr=0.0001]"
     ]
    },
    {
     "name": "stderr",
     "output_type": "stream",
     "text": [
      "\r",
      "Epoch 0::  18%|█▊        | 9/50 [00:25<01:44,  2.55s/it, model/all/train/loss=0.523, model/all/train/lr=0.0001]"
     ]
    },
    {
     "name": "stderr",
     "output_type": "stream",
     "text": [
      "\r",
      "Epoch 0::  20%|██        | 10/50 [00:25<01:40,  2.52s/it, model/all/train/loss=0.523, model/all/train/lr=0.0001]"
     ]
    },
    {
     "name": "stderr",
     "output_type": "stream",
     "text": [
      "\r",
      "Epoch 0::  20%|██        | 10/50 [00:28<01:40,  2.52s/it, model/all/train/loss=0.514, model/all/train/lr=0.0001]"
     ]
    },
    {
     "name": "stderr",
     "output_type": "stream",
     "text": [
      "\r",
      "Epoch 0::  22%|██▏       | 11/50 [00:28<01:36,  2.49s/it, model/all/train/loss=0.514, model/all/train/lr=0.0001]"
     ]
    },
    {
     "name": "stderr",
     "output_type": "stream",
     "text": [
      "\r",
      "Epoch 0::  22%|██▏       | 11/50 [00:30<01:36,  2.49s/it, model/all/train/loss=0.504, model/all/train/lr=0.0001]"
     ]
    },
    {
     "name": "stderr",
     "output_type": "stream",
     "text": [
      "\r",
      "Epoch 0::  24%|██▍       | 12/50 [00:30<01:34,  2.48s/it, model/all/train/loss=0.504, model/all/train/lr=0.0001]"
     ]
    },
    {
     "name": "stderr",
     "output_type": "stream",
     "text": [
      "\r",
      "Epoch 0::  24%|██▍       | 12/50 [00:33<01:34,  2.48s/it, model/all/train/loss=0.497, model/all/train/lr=0.0001]"
     ]
    },
    {
     "name": "stderr",
     "output_type": "stream",
     "text": [
      "\r",
      "Epoch 0::  26%|██▌       | 13/50 [00:33<01:32,  2.49s/it, model/all/train/loss=0.497, model/all/train/lr=0.0001]"
     ]
    },
    {
     "name": "stderr",
     "output_type": "stream",
     "text": [
      "\r",
      "Epoch 0::  26%|██▌       | 13/50 [00:35<01:32,  2.49s/it, model/all/train/loss=0.49, model/all/train/lr=0.0001] "
     ]
    },
    {
     "name": "stderr",
     "output_type": "stream",
     "text": [
      "\r",
      "Epoch 0::  28%|██▊       | 14/50 [00:35<01:29,  2.49s/it, model/all/train/loss=0.49, model/all/train/lr=0.0001]"
     ]
    },
    {
     "name": "stderr",
     "output_type": "stream",
     "text": [
      "\r",
      "Epoch 0::  28%|██▊       | 14/50 [00:38<01:29,  2.49s/it, model/all/train/loss=0.483, model/all/train/lr=0.0001]"
     ]
    },
    {
     "name": "stderr",
     "output_type": "stream",
     "text": [
      "\r",
      "Epoch 0::  30%|███       | 15/50 [00:38<01:27,  2.49s/it, model/all/train/loss=0.483, model/all/train/lr=0.0001]"
     ]
    },
    {
     "name": "stderr",
     "output_type": "stream",
     "text": [
      "\r",
      "Epoch 0::  30%|███       | 15/50 [00:40<01:27,  2.49s/it, model/all/train/loss=0.477, model/all/train/lr=0.0001]"
     ]
    },
    {
     "name": "stderr",
     "output_type": "stream",
     "text": [
      "\r",
      "Epoch 0::  32%|███▏      | 16/50 [00:40<01:24,  2.48s/it, model/all/train/loss=0.477, model/all/train/lr=0.0001]"
     ]
    },
    {
     "name": "stderr",
     "output_type": "stream",
     "text": [
      "\r",
      "Epoch 0::  32%|███▏      | 16/50 [00:43<01:24,  2.48s/it, model/all/train/loss=0.472, model/all/train/lr=0.0001]"
     ]
    },
    {
     "name": "stderr",
     "output_type": "stream",
     "text": [
      "\r",
      "Epoch 0::  34%|███▍      | 17/50 [00:43<01:21,  2.46s/it, model/all/train/loss=0.472, model/all/train/lr=0.0001]"
     ]
    },
    {
     "name": "stderr",
     "output_type": "stream",
     "text": [
      "\r",
      "Epoch 0::  34%|███▍      | 17/50 [00:45<01:21,  2.46s/it, model/all/train/loss=0.465, model/all/train/lr=0.0001]"
     ]
    },
    {
     "name": "stderr",
     "output_type": "stream",
     "text": [
      "\r",
      "Epoch 0::  36%|███▌      | 18/50 [00:45<01:18,  2.46s/it, model/all/train/loss=0.465, model/all/train/lr=0.0001]"
     ]
    },
    {
     "name": "stderr",
     "output_type": "stream",
     "text": [
      "\r",
      "Epoch 0::  36%|███▌      | 18/50 [00:48<01:18,  2.46s/it, model/all/train/loss=0.459, model/all/train/lr=0.0001]"
     ]
    },
    {
     "name": "stderr",
     "output_type": "stream",
     "text": [
      "\r",
      "Epoch 0::  38%|███▊      | 19/50 [00:48<01:16,  2.46s/it, model/all/train/loss=0.459, model/all/train/lr=0.0001]"
     ]
    },
    {
     "name": "stderr",
     "output_type": "stream",
     "text": [
      "\r",
      "Epoch 0::  38%|███▊      | 19/50 [00:50<01:16,  2.46s/it, model/all/train/loss=0.453, model/all/train/lr=0.0001]"
     ]
    },
    {
     "name": "stderr",
     "output_type": "stream",
     "text": [
      "\r",
      "Epoch 0::  40%|████      | 20/50 [00:50<01:15,  2.50s/it, model/all/train/loss=0.453, model/all/train/lr=0.0001]"
     ]
    },
    {
     "name": "stderr",
     "output_type": "stream",
     "text": [
      "\r",
      "Epoch 0::  40%|████      | 20/50 [00:53<01:15,  2.50s/it, model/all/train/loss=0.449, model/all/train/lr=0.0001]"
     ]
    },
    {
     "name": "stderr",
     "output_type": "stream",
     "text": [
      "\r",
      "Epoch 0::  42%|████▏     | 21/50 [00:53<01:11,  2.48s/it, model/all/train/loss=0.449, model/all/train/lr=0.0001]"
     ]
    },
    {
     "name": "stderr",
     "output_type": "stream",
     "text": [
      "\r",
      "Epoch 0::  42%|████▏     | 21/50 [00:55<01:11,  2.48s/it, model/all/train/loss=0.445, model/all/train/lr=0.0001]"
     ]
    },
    {
     "name": "stderr",
     "output_type": "stream",
     "text": [
      "\r",
      "Epoch 0::  44%|████▍     | 22/50 [00:55<01:10,  2.51s/it, model/all/train/loss=0.445, model/all/train/lr=0.0001]"
     ]
    },
    {
     "name": "stderr",
     "output_type": "stream",
     "text": [
      "\r",
      "Epoch 0::  44%|████▍     | 22/50 [00:58<01:10,  2.51s/it, model/all/train/loss=0.441, model/all/train/lr=0.0001]"
     ]
    },
    {
     "name": "stderr",
     "output_type": "stream",
     "text": [
      "\r",
      "Epoch 0::  46%|████▌     | 23/50 [00:58<01:06,  2.48s/it, model/all/train/loss=0.441, model/all/train/lr=0.0001]"
     ]
    },
    {
     "name": "stderr",
     "output_type": "stream",
     "text": [
      "\r",
      "Epoch 0::  46%|████▌     | 23/50 [01:00<01:06,  2.48s/it, model/all/train/loss=0.436, model/all/train/lr=0.0001]"
     ]
    },
    {
     "name": "stderr",
     "output_type": "stream",
     "text": [
      "\r",
      "Epoch 0::  48%|████▊     | 24/50 [01:00<01:04,  2.47s/it, model/all/train/loss=0.436, model/all/train/lr=0.0001]"
     ]
    },
    {
     "name": "stderr",
     "output_type": "stream",
     "text": [
      "\r",
      "Epoch 0::  48%|████▊     | 24/50 [01:03<01:04,  2.47s/it, model/all/train/loss=0.432, model/all/train/lr=0.0001]"
     ]
    },
    {
     "name": "stderr",
     "output_type": "stream",
     "text": [
      "\r",
      "Epoch 0::  50%|█████     | 25/50 [01:03<01:01,  2.47s/it, model/all/train/loss=0.432, model/all/train/lr=0.0001]"
     ]
    },
    {
     "name": "stderr",
     "output_type": "stream",
     "text": [
      "\r",
      "Epoch 0::  50%|█████     | 25/50 [01:05<01:01,  2.47s/it, model/all/train/loss=0.429, model/all/train/lr=0.0001]"
     ]
    },
    {
     "name": "stderr",
     "output_type": "stream",
     "text": [
      "\r",
      "Epoch 0::  52%|█████▏    | 26/50 [01:05<00:58,  2.46s/it, model/all/train/loss=0.429, model/all/train/lr=0.0001]"
     ]
    },
    {
     "name": "stderr",
     "output_type": "stream",
     "text": [
      "\r",
      "Epoch 0::  52%|█████▏    | 26/50 [01:07<00:58,  2.46s/it, model/all/train/loss=0.425, model/all/train/lr=0.0001]"
     ]
    },
    {
     "name": "stderr",
     "output_type": "stream",
     "text": [
      "\r",
      "Epoch 0::  54%|█████▍    | 27/50 [01:07<00:56,  2.45s/it, model/all/train/loss=0.425, model/all/train/lr=0.0001]"
     ]
    },
    {
     "name": "stderr",
     "output_type": "stream",
     "text": [
      "\r",
      "Epoch 0::  54%|█████▍    | 27/50 [01:10<00:56,  2.45s/it, model/all/train/loss=0.422, model/all/train/lr=0.0001]"
     ]
    },
    {
     "name": "stderr",
     "output_type": "stream",
     "text": [
      "\r",
      "Epoch 0::  56%|█████▌    | 28/50 [01:10<00:53,  2.45s/it, model/all/train/loss=0.422, model/all/train/lr=0.0001]"
     ]
    },
    {
     "name": "stderr",
     "output_type": "stream",
     "text": [
      "\r",
      "Epoch 0::  56%|█████▌    | 28/50 [01:12<00:53,  2.45s/it, model/all/train/loss=0.418, model/all/train/lr=0.0001]"
     ]
    },
    {
     "name": "stderr",
     "output_type": "stream",
     "text": [
      "\r",
      "Epoch 0::  58%|█████▊    | 29/50 [01:12<00:51,  2.45s/it, model/all/train/loss=0.418, model/all/train/lr=0.0001]"
     ]
    },
    {
     "name": "stderr",
     "output_type": "stream",
     "text": [
      "\r",
      "Epoch 0::  58%|█████▊    | 29/50 [01:15<00:51,  2.45s/it, model/all/train/loss=0.414, model/all/train/lr=0.0001]"
     ]
    },
    {
     "name": "stderr",
     "output_type": "stream",
     "text": [
      "\r",
      "Epoch 0::  60%|██████    | 30/50 [01:15<00:49,  2.46s/it, model/all/train/loss=0.414, model/all/train/lr=0.0001]"
     ]
    },
    {
     "name": "stderr",
     "output_type": "stream",
     "text": [
      "\r",
      "Epoch 0::  60%|██████    | 30/50 [01:18<00:49,  2.46s/it, model/all/train/loss=0.41, model/all/train/lr=0.0001] "
     ]
    },
    {
     "name": "stderr",
     "output_type": "stream",
     "text": [
      "\r",
      "Epoch 0::  62%|██████▏   | 31/50 [01:18<00:48,  2.55s/it, model/all/train/loss=0.41, model/all/train/lr=0.0001]"
     ]
    },
    {
     "name": "stderr",
     "output_type": "stream",
     "text": [
      "\r",
      "Epoch 0::  62%|██████▏   | 31/50 [01:20<00:48,  2.55s/it, model/all/train/loss=0.406, model/all/train/lr=0.0001]"
     ]
    },
    {
     "name": "stderr",
     "output_type": "stream",
     "text": [
      "\r",
      "Epoch 0::  64%|██████▍   | 32/50 [01:20<00:45,  2.55s/it, model/all/train/loss=0.406, model/all/train/lr=0.0001]"
     ]
    },
    {
     "name": "stderr",
     "output_type": "stream",
     "text": [
      "\r",
      "Epoch 0::  64%|██████▍   | 32/50 [01:23<00:45,  2.55s/it, model/all/train/loss=0.403, model/all/train/lr=0.0001]"
     ]
    },
    {
     "name": "stderr",
     "output_type": "stream",
     "text": [
      "\r",
      "Epoch 0::  66%|██████▌   | 33/50 [01:23<00:43,  2.54s/it, model/all/train/loss=0.403, model/all/train/lr=0.0001]"
     ]
    },
    {
     "name": "stderr",
     "output_type": "stream",
     "text": [
      "\r",
      "Epoch 0::  66%|██████▌   | 33/50 [01:25<00:43,  2.54s/it, model/all/train/loss=0.398, model/all/train/lr=0.0001]"
     ]
    },
    {
     "name": "stderr",
     "output_type": "stream",
     "text": [
      "\r",
      "Epoch 0::  68%|██████▊   | 34/50 [01:25<00:40,  2.53s/it, model/all/train/loss=0.398, model/all/train/lr=0.0001]"
     ]
    },
    {
     "name": "stderr",
     "output_type": "stream",
     "text": [
      "\r",
      "Epoch 0::  68%|██████▊   | 34/50 [01:28<00:40,  2.53s/it, model/all/train/loss=0.394, model/all/train/lr=0.0001]"
     ]
    },
    {
     "name": "stderr",
     "output_type": "stream",
     "text": [
      "\r",
      "Epoch 0::  70%|███████   | 35/50 [01:28<00:37,  2.53s/it, model/all/train/loss=0.394, model/all/train/lr=0.0001]"
     ]
    },
    {
     "name": "stderr",
     "output_type": "stream",
     "text": [
      "\r",
      "Epoch 0::  70%|███████   | 35/50 [01:30<00:37,  2.53s/it, model/all/train/loss=0.391, model/all/train/lr=0.0001]"
     ]
    },
    {
     "name": "stderr",
     "output_type": "stream",
     "text": [
      "\r",
      "Epoch 0::  72%|███████▏  | 36/50 [01:30<00:35,  2.51s/it, model/all/train/loss=0.391, model/all/train/lr=0.0001]"
     ]
    },
    {
     "name": "stderr",
     "output_type": "stream",
     "text": [
      "\r",
      "Epoch 0::  72%|███████▏  | 36/50 [01:33<00:35,  2.51s/it, model/all/train/loss=0.388, model/all/train/lr=0.0001]"
     ]
    },
    {
     "name": "stderr",
     "output_type": "stream",
     "text": [
      "\r",
      "Epoch 0::  74%|███████▍  | 37/50 [01:33<00:32,  2.53s/it, model/all/train/loss=0.388, model/all/train/lr=0.0001]"
     ]
    },
    {
     "name": "stderr",
     "output_type": "stream",
     "text": [
      "\r",
      "Epoch 0::  74%|███████▍  | 37/50 [01:36<00:32,  2.53s/it, model/all/train/loss=0.385, model/all/train/lr=0.0001]"
     ]
    },
    {
     "name": "stderr",
     "output_type": "stream",
     "text": [
      "\r",
      "Epoch 0::  76%|███████▌  | 38/50 [01:36<00:31,  2.60s/it, model/all/train/loss=0.385, model/all/train/lr=0.0001]"
     ]
    },
    {
     "name": "stderr",
     "output_type": "stream",
     "text": [
      "\r",
      "Epoch 0::  76%|███████▌  | 38/50 [01:38<00:31,  2.60s/it, model/all/train/loss=0.382, model/all/train/lr=0.0001]"
     ]
    },
    {
     "name": "stderr",
     "output_type": "stream",
     "text": [
      "\r",
      "Epoch 0::  78%|███████▊  | 39/50 [01:38<00:28,  2.55s/it, model/all/train/loss=0.382, model/all/train/lr=0.0001]"
     ]
    },
    {
     "name": "stderr",
     "output_type": "stream",
     "text": [
      "\r",
      "Epoch 0::  78%|███████▊  | 39/50 [01:40<00:28,  2.55s/it, model/all/train/loss=0.38, model/all/train/lr=0.0001] "
     ]
    },
    {
     "name": "stderr",
     "output_type": "stream",
     "text": [
      "\r",
      "Epoch 0::  80%|████████  | 40/50 [01:40<00:25,  2.54s/it, model/all/train/loss=0.38, model/all/train/lr=0.0001]"
     ]
    },
    {
     "name": "stderr",
     "output_type": "stream",
     "text": [
      "\r",
      "Epoch 0::  80%|████████  | 40/50 [01:43<00:25,  2.54s/it, model/all/train/loss=0.378, model/all/train/lr=0.0001]"
     ]
    },
    {
     "name": "stderr",
     "output_type": "stream",
     "text": [
      "\r",
      "Epoch 0::  82%|████████▏ | 41/50 [01:43<00:22,  2.54s/it, model/all/train/loss=0.378, model/all/train/lr=0.0001]"
     ]
    },
    {
     "name": "stderr",
     "output_type": "stream",
     "text": [
      "\r",
      "Epoch 0::  82%|████████▏ | 41/50 [01:45<00:22,  2.54s/it, model/all/train/loss=0.375, model/all/train/lr=0.0001]"
     ]
    },
    {
     "name": "stderr",
     "output_type": "stream",
     "text": [
      "\r",
      "Epoch 0::  84%|████████▍ | 42/50 [01:45<00:20,  2.52s/it, model/all/train/loss=0.375, model/all/train/lr=0.0001]"
     ]
    },
    {
     "name": "stderr",
     "output_type": "stream",
     "text": [
      "\r",
      "Epoch 0::  84%|████████▍ | 42/50 [01:48<00:20,  2.52s/it, model/all/train/loss=0.372, model/all/train/lr=0.0001]"
     ]
    },
    {
     "name": "stderr",
     "output_type": "stream",
     "text": [
      "\r",
      "Epoch 0::  86%|████████▌ | 43/50 [01:48<00:17,  2.50s/it, model/all/train/loss=0.372, model/all/train/lr=0.0001]"
     ]
    },
    {
     "name": "stderr",
     "output_type": "stream",
     "text": [
      "\r",
      "Epoch 0::  86%|████████▌ | 43/50 [01:50<00:17,  2.50s/it, model/all/train/loss=0.37, model/all/train/lr=0.0001] "
     ]
    },
    {
     "name": "stderr",
     "output_type": "stream",
     "text": [
      "\r",
      "Epoch 0::  88%|████████▊ | 44/50 [01:50<00:14,  2.49s/it, model/all/train/loss=0.37, model/all/train/lr=0.0001]"
     ]
    },
    {
     "name": "stderr",
     "output_type": "stream",
     "text": [
      "\r",
      "Epoch 0::  88%|████████▊ | 44/50 [01:53<00:14,  2.49s/it, model/all/train/loss=0.367, model/all/train/lr=0.0001]"
     ]
    },
    {
     "name": "stderr",
     "output_type": "stream",
     "text": [
      "\r",
      "Epoch 0::  90%|█████████ | 45/50 [01:53<00:12,  2.50s/it, model/all/train/loss=0.367, model/all/train/lr=0.0001]"
     ]
    },
    {
     "name": "stderr",
     "output_type": "stream",
     "text": [
      "\r",
      "Epoch 0::  90%|█████████ | 45/50 [01:55<00:12,  2.50s/it, model/all/train/loss=0.365, model/all/train/lr=0.0001]"
     ]
    },
    {
     "name": "stderr",
     "output_type": "stream",
     "text": [
      "\r",
      "Epoch 0::  92%|█████████▏| 46/50 [01:55<00:09,  2.49s/it, model/all/train/loss=0.365, model/all/train/lr=0.0001]"
     ]
    },
    {
     "name": "stderr",
     "output_type": "stream",
     "text": [
      "\r",
      "Epoch 0::  92%|█████████▏| 46/50 [01:58<00:09,  2.49s/it, model/all/train/loss=0.362, model/all/train/lr=0.0001]"
     ]
    },
    {
     "name": "stderr",
     "output_type": "stream",
     "text": [
      "\r",
      "Epoch 0::  94%|█████████▍| 47/50 [01:58<00:07,  2.48s/it, model/all/train/loss=0.362, model/all/train/lr=0.0001]"
     ]
    },
    {
     "name": "stderr",
     "output_type": "stream",
     "text": [
      "\r",
      "Epoch 0::  94%|█████████▍| 47/50 [02:00<00:07,  2.48s/it, model/all/train/loss=0.36, model/all/train/lr=0.0001] "
     ]
    },
    {
     "name": "stderr",
     "output_type": "stream",
     "text": [
      "\r",
      "Epoch 0::  96%|█████████▌| 48/50 [02:00<00:04,  2.48s/it, model/all/train/loss=0.36, model/all/train/lr=0.0001]"
     ]
    },
    {
     "name": "stderr",
     "output_type": "stream",
     "text": [
      "\r",
      "Epoch 0::  96%|█████████▌| 48/50 [02:03<00:04,  2.48s/it, model/all/train/loss=0.357, model/all/train/lr=0.0001]"
     ]
    },
    {
     "name": "stderr",
     "output_type": "stream",
     "text": [
      "\r",
      "Epoch 0::  98%|█████████▊| 49/50 [02:03<00:02,  2.50s/it, model/all/train/loss=0.357, model/all/train/lr=0.0001]"
     ]
    },
    {
     "name": "stderr",
     "output_type": "stream",
     "text": [
      "/Users/braden/repos/snorkel-tutorials/.tox/spam/lib/python3.7/site-packages/sklearn/metrics/classification.py:1437: UndefinedMetricWarning: F-score is ill-defined and being set to 0.0 due to no predicted samples.\n",
      "  'precision', 'predicted', average, warn_for)\n",
      "\r",
      "Epoch 0::  98%|█████████▊| 49/50 [02:06<00:02,  2.50s/it, model/all/train/loss=0.356, model/all/train/lr=0.0001, spam_task/spam_dataset/valid/accuracy=0.942, spam_task/spam_dataset/valid/f1=0.935, spam_task_slice:short_link_ind/spam_dataset/valid/f1=0, spam_task_slice:short_link_pred/spam_dataset/valid/accuracy=1, spam_task_slice:short_link_pred/spam_dataset/valid/f1=1, spam_task_slice:base_ind/spam_dataset/valid/f1=1, spam_task_slice:base_pred/spam_dataset/valid/accuracy=0.933, spam_task_slice:base_pred/spam_dataset/valid/f1=0.926, spam_task_slice:keyword_subscribe_ind/spam_dataset/valid/f1=0, spam_task_slice:keyword_subscribe_pred/spam_dataset/valid/accuracy=1, spam_task_slice:keyword_subscribe_pred/spam_dataset/valid/f1=1, spam_task_slice:keyword_please_ind/spam_dataset/valid/f1=0, spam_task_slice:keyword_please_pred/spam_dataset/valid/accuracy=1, spam_task_slice:keyword_please_pred/spam_dataset/valid/f1=1, spam_task_slice:regex_check_out_ind/spam_dataset/valid/f1=0.762, spam_task_slice:regex_check_out_pred/spam_dataset/valid/accuracy=1, spam_task_slice:regex_check_out_pred/spam_dataset/valid/f1=1, spam_task_slice:short_comment_ind/spam_dataset/valid/f1=0, spam_task_slice:short_comment_pred/spam_dataset/valid/accuracy=0.947, spam_task_slice:short_comment_pred/spam_dataset/valid/f1=0.5, spam_task_slice:textblob_polarity_ind/spam_dataset/valid/f1=0, spam_task_slice:textblob_polarity_pred/spam_dataset/valid/accuracy=1, spam_task_slice:textblob_polarity_pred/spam_dataset/valid/f1=1]"
     ]
    },
    {
     "name": "stderr",
     "output_type": "stream",
     "text": [
      "\r",
      "Epoch 0:: 100%|██████████| 50/50 [02:06<00:00,  2.55s/it, model/all/train/loss=0.356, model/all/train/lr=0.0001, spam_task/spam_dataset/valid/accuracy=0.942, spam_task/spam_dataset/valid/f1=0.935, spam_task_slice:short_link_ind/spam_dataset/valid/f1=0, spam_task_slice:short_link_pred/spam_dataset/valid/accuracy=1, spam_task_slice:short_link_pred/spam_dataset/valid/f1=1, spam_task_slice:base_ind/spam_dataset/valid/f1=1, spam_task_slice:base_pred/spam_dataset/valid/accuracy=0.933, spam_task_slice:base_pred/spam_dataset/valid/f1=0.926, spam_task_slice:keyword_subscribe_ind/spam_dataset/valid/f1=0, spam_task_slice:keyword_subscribe_pred/spam_dataset/valid/accuracy=1, spam_task_slice:keyword_subscribe_pred/spam_dataset/valid/f1=1, spam_task_slice:keyword_please_ind/spam_dataset/valid/f1=0, spam_task_slice:keyword_please_pred/spam_dataset/valid/accuracy=1, spam_task_slice:keyword_please_pred/spam_dataset/valid/f1=1, spam_task_slice:regex_check_out_ind/spam_dataset/valid/f1=0.762, spam_task_slice:regex_check_out_pred/spam_dataset/valid/accuracy=1, spam_task_slice:regex_check_out_pred/spam_dataset/valid/f1=1, spam_task_slice:short_comment_ind/spam_dataset/valid/f1=0, spam_task_slice:short_comment_pred/spam_dataset/valid/accuracy=0.947, spam_task_slice:short_comment_pred/spam_dataset/valid/f1=0.5, spam_task_slice:textblob_polarity_ind/spam_dataset/valid/f1=0, spam_task_slice:textblob_polarity_pred/spam_dataset/valid/accuracy=1, spam_task_slice:textblob_polarity_pred/spam_dataset/valid/f1=1]"
     ]
    },
    {
     "name": "stderr",
     "output_type": "stream",
     "text": [
      "\n"
     ]
    }
   ],
   "source": [
    "trainer = Trainer(n_epochs=1, lr=1e-4, progress_bar=True)\n",
    "trainer.fit(slice_model, [dl_train, dl_valid])"
   ]
  },
  {
   "cell_type": "markdown",
   "metadata": {},
   "source": [
    "At inference time, the primary task head (`spam_task`) will make all final predictions.\n",
    "We'd like to evaluate all the slice heads on the original task head.\n",
    "To do this, we use our `remap_labels` API, as we did earlier.\n",
    "Note that this time, we map each `ind` head to `None` — it doesn't make sense to evaluate these labels on the base task head."
   ]
  },
  {
   "cell_type": "code",
   "execution_count": 29,
   "metadata": {},
   "outputs": [],
   "source": [
    "Y_dict = dl_valid.dataset.Y_dict\n",
    "eval_mapping = {label: \"spam_task\" for label in Y_dict.keys() if \"pred\" in label}\n",
    "eval_mapping.update({label: None for label in Y_dict.keys() if \"ind\" in label})"
   ]
  },
  {
   "cell_type": "markdown",
   "metadata": {},
   "source": [
    "*Note: in this toy dataset, we might not see significant gains because our dataset is so small that (i) there are few examples the train split, giving little signal to learn over, and (ii) there are few examples in the test split, making our evaluation metrics very noisy.\n",
    "For a demonstration of data slicing deployed in state-of-the-art models, please see our [SuperGLUE](https://github.com/HazyResearch/snorkel-superglue/tree/master/tutorials) tutorials.*"
   ]
  },
  {
   "cell_type": "code",
   "execution_count": 30,
   "metadata": {},
   "outputs": [
    {
     "name": "stderr",
     "output_type": "stream",
     "text": [
      "WARNING:root:Ignoring extra labels in dataloader (valid): {'spam_task_slice:regex_check_out_ind', 'spam_task_slice:base_ind', 'spam_task_slice:keyword_please_ind', 'spam_task_slice:short_link_ind', 'spam_task_slice:keyword_subscribe_ind', 'spam_task_slice:short_comment_ind', 'spam_task_slice:textblob_polarity_ind'}\n"
     ]
    },
    {
     "name": "stderr",
     "output_type": "stream",
     "text": [
      "WARNING:root:Ignoring extra labels in dataloader (test): {'spam_task_slice:regex_check_out_ind', 'spam_task_slice:base_ind', 'spam_task_slice:keyword_please_ind', 'spam_task_slice:short_link_ind', 'spam_task_slice:keyword_subscribe_ind', 'spam_task_slice:short_comment_ind', 'spam_task_slice:textblob_polarity_ind'}\n"
     ]
    },
    {
     "data": {
      "text/html": [
       "<div>\n",
       "<style scoped>\n",
       "    .dataframe tbody tr th:only-of-type {\n",
       "        vertical-align: middle;\n",
       "    }\n",
       "\n",
       "    .dataframe tbody tr th {\n",
       "        vertical-align: top;\n",
       "    }\n",
       "\n",
       "    .dataframe thead th {\n",
       "        text-align: right;\n",
       "    }\n",
       "</style>\n",
       "<table border=\"1\" class=\"dataframe\">\n",
       "  <thead>\n",
       "    <tr style=\"text-align: right;\">\n",
       "      <th></th>\n",
       "      <th>label</th>\n",
       "      <th>dataset</th>\n",
       "      <th>split</th>\n",
       "      <th>metric</th>\n",
       "      <th>score</th>\n",
       "    </tr>\n",
       "  </thead>\n",
       "  <tbody>\n",
       "    <tr>\n",
       "      <th>0</th>\n",
       "      <td>spam_task</td>\n",
       "      <td>spam_dataset</td>\n",
       "      <td>valid</td>\n",
       "      <td>accuracy</td>\n",
       "      <td>0.941667</td>\n",
       "    </tr>\n",
       "    <tr>\n",
       "      <th>1</th>\n",
       "      <td>spam_task</td>\n",
       "      <td>spam_dataset</td>\n",
       "      <td>valid</td>\n",
       "      <td>f1</td>\n",
       "      <td>0.934579</td>\n",
       "    </tr>\n",
       "    <tr>\n",
       "      <th>2</th>\n",
       "      <td>spam_task_slice:short_link_pred</td>\n",
       "      <td>spam_dataset</td>\n",
       "      <td>valid</td>\n",
       "      <td>accuracy</td>\n",
       "      <td>0.800000</td>\n",
       "    </tr>\n",
       "    <tr>\n",
       "      <th>3</th>\n",
       "      <td>spam_task_slice:short_link_pred</td>\n",
       "      <td>spam_dataset</td>\n",
       "      <td>valid</td>\n",
       "      <td>f1</td>\n",
       "      <td>0.888889</td>\n",
       "    </tr>\n",
       "    <tr>\n",
       "      <th>4</th>\n",
       "      <td>spam_task_slice:base_pred</td>\n",
       "      <td>spam_dataset</td>\n",
       "      <td>valid</td>\n",
       "      <td>accuracy</td>\n",
       "      <td>0.941667</td>\n",
       "    </tr>\n",
       "    <tr>\n",
       "      <th>5</th>\n",
       "      <td>spam_task_slice:base_pred</td>\n",
       "      <td>spam_dataset</td>\n",
       "      <td>valid</td>\n",
       "      <td>f1</td>\n",
       "      <td>0.934579</td>\n",
       "    </tr>\n",
       "    <tr>\n",
       "      <th>6</th>\n",
       "      <td>spam_task_slice:keyword_subscribe_pred</td>\n",
       "      <td>spam_dataset</td>\n",
       "      <td>valid</td>\n",
       "      <td>accuracy</td>\n",
       "      <td>1.000000</td>\n",
       "    </tr>\n",
       "    <tr>\n",
       "      <th>7</th>\n",
       "      <td>spam_task_slice:keyword_subscribe_pred</td>\n",
       "      <td>spam_dataset</td>\n",
       "      <td>valid</td>\n",
       "      <td>f1</td>\n",
       "      <td>1.000000</td>\n",
       "    </tr>\n",
       "    <tr>\n",
       "      <th>8</th>\n",
       "      <td>spam_task_slice:keyword_please_pred</td>\n",
       "      <td>spam_dataset</td>\n",
       "      <td>valid</td>\n",
       "      <td>accuracy</td>\n",
       "      <td>1.000000</td>\n",
       "    </tr>\n",
       "    <tr>\n",
       "      <th>9</th>\n",
       "      <td>spam_task_slice:keyword_please_pred</td>\n",
       "      <td>spam_dataset</td>\n",
       "      <td>valid</td>\n",
       "      <td>f1</td>\n",
       "      <td>1.000000</td>\n",
       "    </tr>\n",
       "    <tr>\n",
       "      <th>10</th>\n",
       "      <td>spam_task_slice:regex_check_out_pred</td>\n",
       "      <td>spam_dataset</td>\n",
       "      <td>valid</td>\n",
       "      <td>accuracy</td>\n",
       "      <td>1.000000</td>\n",
       "    </tr>\n",
       "    <tr>\n",
       "      <th>11</th>\n",
       "      <td>spam_task_slice:regex_check_out_pred</td>\n",
       "      <td>spam_dataset</td>\n",
       "      <td>valid</td>\n",
       "      <td>f1</td>\n",
       "      <td>1.000000</td>\n",
       "    </tr>\n",
       "    <tr>\n",
       "      <th>12</th>\n",
       "      <td>spam_task_slice:short_comment_pred</td>\n",
       "      <td>spam_dataset</td>\n",
       "      <td>valid</td>\n",
       "      <td>accuracy</td>\n",
       "      <td>0.947368</td>\n",
       "    </tr>\n",
       "    <tr>\n",
       "      <th>13</th>\n",
       "      <td>spam_task_slice:short_comment_pred</td>\n",
       "      <td>spam_dataset</td>\n",
       "      <td>valid</td>\n",
       "      <td>f1</td>\n",
       "      <td>0.500000</td>\n",
       "    </tr>\n",
       "    <tr>\n",
       "      <th>14</th>\n",
       "      <td>spam_task_slice:textblob_polarity_pred</td>\n",
       "      <td>spam_dataset</td>\n",
       "      <td>valid</td>\n",
       "      <td>accuracy</td>\n",
       "      <td>1.000000</td>\n",
       "    </tr>\n",
       "    <tr>\n",
       "      <th>15</th>\n",
       "      <td>spam_task_slice:textblob_polarity_pred</td>\n",
       "      <td>spam_dataset</td>\n",
       "      <td>valid</td>\n",
       "      <td>f1</td>\n",
       "      <td>1.000000</td>\n",
       "    </tr>\n",
       "    <tr>\n",
       "      <th>16</th>\n",
       "      <td>spam_task</td>\n",
       "      <td>spam_dataset</td>\n",
       "      <td>test</td>\n",
       "      <td>accuracy</td>\n",
       "      <td>0.936000</td>\n",
       "    </tr>\n",
       "    <tr>\n",
       "      <th>17</th>\n",
       "      <td>spam_task</td>\n",
       "      <td>spam_dataset</td>\n",
       "      <td>test</td>\n",
       "      <td>f1</td>\n",
       "      <td>0.927928</td>\n",
       "    </tr>\n",
       "    <tr>\n",
       "      <th>18</th>\n",
       "      <td>spam_task_slice:short_link_pred</td>\n",
       "      <td>spam_dataset</td>\n",
       "      <td>test</td>\n",
       "      <td>accuracy</td>\n",
       "      <td>0.333333</td>\n",
       "    </tr>\n",
       "    <tr>\n",
       "      <th>19</th>\n",
       "      <td>spam_task_slice:short_link_pred</td>\n",
       "      <td>spam_dataset</td>\n",
       "      <td>test</td>\n",
       "      <td>f1</td>\n",
       "      <td>0.500000</td>\n",
       "    </tr>\n",
       "    <tr>\n",
       "      <th>20</th>\n",
       "      <td>spam_task_slice:base_pred</td>\n",
       "      <td>spam_dataset</td>\n",
       "      <td>test</td>\n",
       "      <td>accuracy</td>\n",
       "      <td>0.936000</td>\n",
       "    </tr>\n",
       "    <tr>\n",
       "      <th>21</th>\n",
       "      <td>spam_task_slice:base_pred</td>\n",
       "      <td>spam_dataset</td>\n",
       "      <td>test</td>\n",
       "      <td>f1</td>\n",
       "      <td>0.927928</td>\n",
       "    </tr>\n",
       "    <tr>\n",
       "      <th>22</th>\n",
       "      <td>spam_task_slice:keyword_subscribe_pred</td>\n",
       "      <td>spam_dataset</td>\n",
       "      <td>test</td>\n",
       "      <td>accuracy</td>\n",
       "      <td>0.861111</td>\n",
       "    </tr>\n",
       "    <tr>\n",
       "      <th>23</th>\n",
       "      <td>spam_task_slice:keyword_subscribe_pred</td>\n",
       "      <td>spam_dataset</td>\n",
       "      <td>test</td>\n",
       "      <td>f1</td>\n",
       "      <td>0.925373</td>\n",
       "    </tr>\n",
       "    <tr>\n",
       "      <th>24</th>\n",
       "      <td>spam_task_slice:keyword_please_pred</td>\n",
       "      <td>spam_dataset</td>\n",
       "      <td>test</td>\n",
       "      <td>accuracy</td>\n",
       "      <td>0.956522</td>\n",
       "    </tr>\n",
       "    <tr>\n",
       "      <th>25</th>\n",
       "      <td>spam_task_slice:keyword_please_pred</td>\n",
       "      <td>spam_dataset</td>\n",
       "      <td>test</td>\n",
       "      <td>f1</td>\n",
       "      <td>0.977778</td>\n",
       "    </tr>\n",
       "    <tr>\n",
       "      <th>26</th>\n",
       "      <td>spam_task_slice:regex_check_out_pred</td>\n",
       "      <td>spam_dataset</td>\n",
       "      <td>test</td>\n",
       "      <td>accuracy</td>\n",
       "      <td>1.000000</td>\n",
       "    </tr>\n",
       "    <tr>\n",
       "      <th>27</th>\n",
       "      <td>spam_task_slice:regex_check_out_pred</td>\n",
       "      <td>spam_dataset</td>\n",
       "      <td>test</td>\n",
       "      <td>f1</td>\n",
       "      <td>1.000000</td>\n",
       "    </tr>\n",
       "    <tr>\n",
       "      <th>28</th>\n",
       "      <td>spam_task_slice:short_comment_pred</td>\n",
       "      <td>spam_dataset</td>\n",
       "      <td>test</td>\n",
       "      <td>accuracy</td>\n",
       "      <td>0.956522</td>\n",
       "    </tr>\n",
       "    <tr>\n",
       "      <th>29</th>\n",
       "      <td>spam_task_slice:short_comment_pred</td>\n",
       "      <td>spam_dataset</td>\n",
       "      <td>test</td>\n",
       "      <td>f1</td>\n",
       "      <td>0.714286</td>\n",
       "    </tr>\n",
       "    <tr>\n",
       "      <th>30</th>\n",
       "      <td>spam_task_slice:textblob_polarity_pred</td>\n",
       "      <td>spam_dataset</td>\n",
       "      <td>test</td>\n",
       "      <td>accuracy</td>\n",
       "      <td>0.916667</td>\n",
       "    </tr>\n",
       "    <tr>\n",
       "      <th>31</th>\n",
       "      <td>spam_task_slice:textblob_polarity_pred</td>\n",
       "      <td>spam_dataset</td>\n",
       "      <td>test</td>\n",
       "      <td>f1</td>\n",
       "      <td>0.800000</td>\n",
       "    </tr>\n",
       "  </tbody>\n",
       "</table>\n",
       "</div>"
      ],
      "text/plain": [
       "                                     label       dataset  split    metric  \\\n",
       "0   spam_task                               spam_dataset  valid  accuracy   \n",
       "1   spam_task                               spam_dataset  valid  f1         \n",
       "2   spam_task_slice:short_link_pred         spam_dataset  valid  accuracy   \n",
       "3   spam_task_slice:short_link_pred         spam_dataset  valid  f1         \n",
       "4   spam_task_slice:base_pred               spam_dataset  valid  accuracy   \n",
       "5   spam_task_slice:base_pred               spam_dataset  valid  f1         \n",
       "6   spam_task_slice:keyword_subscribe_pred  spam_dataset  valid  accuracy   \n",
       "7   spam_task_slice:keyword_subscribe_pred  spam_dataset  valid  f1         \n",
       "8   spam_task_slice:keyword_please_pred     spam_dataset  valid  accuracy   \n",
       "9   spam_task_slice:keyword_please_pred     spam_dataset  valid  f1         \n",
       "10  spam_task_slice:regex_check_out_pred    spam_dataset  valid  accuracy   \n",
       "11  spam_task_slice:regex_check_out_pred    spam_dataset  valid  f1         \n",
       "12  spam_task_slice:short_comment_pred      spam_dataset  valid  accuracy   \n",
       "13  spam_task_slice:short_comment_pred      spam_dataset  valid  f1         \n",
       "14  spam_task_slice:textblob_polarity_pred  spam_dataset  valid  accuracy   \n",
       "15  spam_task_slice:textblob_polarity_pred  spam_dataset  valid  f1         \n",
       "16  spam_task                               spam_dataset  test   accuracy   \n",
       "17  spam_task                               spam_dataset  test   f1         \n",
       "18  spam_task_slice:short_link_pred         spam_dataset  test   accuracy   \n",
       "19  spam_task_slice:short_link_pred         spam_dataset  test   f1         \n",
       "20  spam_task_slice:base_pred               spam_dataset  test   accuracy   \n",
       "21  spam_task_slice:base_pred               spam_dataset  test   f1         \n",
       "22  spam_task_slice:keyword_subscribe_pred  spam_dataset  test   accuracy   \n",
       "23  spam_task_slice:keyword_subscribe_pred  spam_dataset  test   f1         \n",
       "24  spam_task_slice:keyword_please_pred     spam_dataset  test   accuracy   \n",
       "25  spam_task_slice:keyword_please_pred     spam_dataset  test   f1         \n",
       "26  spam_task_slice:regex_check_out_pred    spam_dataset  test   accuracy   \n",
       "27  spam_task_slice:regex_check_out_pred    spam_dataset  test   f1         \n",
       "28  spam_task_slice:short_comment_pred      spam_dataset  test   accuracy   \n",
       "29  spam_task_slice:short_comment_pred      spam_dataset  test   f1         \n",
       "30  spam_task_slice:textblob_polarity_pred  spam_dataset  test   accuracy   \n",
       "31  spam_task_slice:textblob_polarity_pred  spam_dataset  test   f1         \n",
       "\n",
       "       score  \n",
       "0   0.941667  \n",
       "1   0.934579  \n",
       "2   0.800000  \n",
       "3   0.888889  \n",
       "4   0.941667  \n",
       "5   0.934579  \n",
       "6   1.000000  \n",
       "7   1.000000  \n",
       "8   1.000000  \n",
       "9   1.000000  \n",
       "10  1.000000  \n",
       "11  1.000000  \n",
       "12  0.947368  \n",
       "13  0.500000  \n",
       "14  1.000000  \n",
       "15  1.000000  \n",
       "16  0.936000  \n",
       "17  0.927928  \n",
       "18  0.333333  \n",
       "19  0.500000  \n",
       "20  0.936000  \n",
       "21  0.927928  \n",
       "22  0.861111  \n",
       "23  0.925373  \n",
       "24  0.956522  \n",
       "25  0.977778  \n",
       "26  1.000000  \n",
       "27  1.000000  \n",
       "28  0.956522  \n",
       "29  0.714286  \n",
       "30  0.916667  \n",
       "31  0.800000  "
      ]
     },
     "execution_count": 30,
     "metadata": {},
     "output_type": "execute_result"
    }
   ],
   "source": [
    "slice_model.score([dl_valid, dl_test], remap_labels=eval_mapping, as_dataframe=True)"
   ]
  },
  {
   "cell_type": "markdown",
   "metadata": {},
   "source": [
    "## Recap"
   ]
  },
  {
   "cell_type": "markdown",
   "metadata": {},
   "source": [
    "This tutorial walked through the process authoring slices, monitoring model performance on specific slices, and improving model performance using slice information.\n",
    "This programming abstraction provides a mechanism to heuristically identify critical data subsets.\n",
    "For more technical details about _Slice-based Learning,_ stay tuned — our technical report is coming soon!"
   ]
  }
 ],
 "metadata": {
  "jupytext": {
   "cell_metadata_filter": "-all",
   "encoding": "# -*- coding: utf-8 -*-"
  },
  "kernelspec": {
   "display_name": "Python 3",
   "language": "python",
   "name": "python3"
  },
  "language_info": {
   "codemirror_mode": {
    "name": "ipython",
    "version": 3
   },
   "file_extension": ".py",
   "mimetype": "text/x-python",
   "name": "python",
   "nbconvert_exporter": "python",
   "pygments_lexer": "ipython3",
   "version": "3.7.3"
  }
 },
 "nbformat": 4,
 "nbformat_minor": 2
}
