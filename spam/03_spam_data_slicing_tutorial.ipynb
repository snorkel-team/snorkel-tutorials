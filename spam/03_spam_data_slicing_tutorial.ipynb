{
 "cells": [
  {
   "cell_type": "markdown",
   "metadata": {},
   "source": [
    "# ✂️ Snorkel Intro Tutorial: _Data Slicing_\n",
    "\n",
    "In real-world applications, some model outcomes are often more important than others — e.g. vulnerable cyclist detections in an autonomous driving task, or, in our running **spam** application, potentially malicious link redirects to external websites.\n",
    "\n",
    "Traditional machine learning systems optimize for overall quality, which may be too coarse-grained.\n",
    "Models that achieve high overall performance might produce unacceptable failure rates on critical slices of the data — data subsets that might correspond to vulnerable cyclist detection in an autonomous driving task, or in our running spam detection application, external links to potentially malicious websites.\n",
    "\n",
    "In this tutorial, we:\n",
    "1. **Introduce _Slicing Functions (SFs)_** as a programming interface\n",
    "1. **Monitor** application-critical data subsets\n",
    "2. **Improve model performance** on slices"
   ]
  },
  {
   "cell_type": "markdown",
   "metadata": {},
   "source": [
    "First, we'll set up our notebook for reproducibility and proper logging."
   ]
  },
  {
   "cell_type": "code",
   "execution_count": 1,
   "metadata": {},
   "outputs": [],
   "source": [
    "import logging\n",
    "import os\n",
    "import pandas as pd\n",
    "from snorkel.utils import set_seed\n",
    "\n",
    "# For reproducibility\n",
    "os.environ[\"PYTHONHASHSEED\"] = \"0\"\n",
    "set_seed(111)\n",
    "\n",
    "# Make sure we're running from the spam/ directory\n",
    "if os.path.basename(os.getcwd()) == \"snorkel-tutorials\":\n",
    "    os.chdir(\"spam\")\n",
    "\n",
    "# To visualize logs\n",
    "logger = logging.getLogger()\n",
    "logger.setLevel(logging.WARNING)\n",
    "\n",
    "# Show full columns for viewing data\n",
    "pd.set_option(\"display.max_colwidth\", -1)"
   ]
  },
  {
   "cell_type": "markdown",
   "metadata": {},
   "source": [
    "_Note:_ this tutorial differs from the labeling tutorial in that we use ground truth labels in the train split for demo purposes.\n",
    "SFs are intended to be used *after the training set has already been labeled* by LFs (or by hand) in the training data pipeline."
   ]
  },
  {
   "cell_type": "code",
   "execution_count": 2,
   "metadata": {
    "lines_to_next_cell": 2
   },
   "outputs": [],
   "source": [
    "from utils import load_spam_dataset\n",
    "\n",
    "df_train, df_valid, df_test = load_spam_dataset(load_train_labels=True, split_dev=False)"
   ]
  },
  {
   "cell_type": "markdown",
   "metadata": {},
   "source": [
    "## 1. Write slicing functions\n",
    "\n",
    "We leverage *slicing functions* (SFs), which output binary _masks_ indicating whether an example is in the slice or not.\n",
    "Each slice represents some noisily-defined subset of the data (corresponding to an SF) that we'd like to programmatically monitor."
   ]
  },
  {
   "cell_type": "markdown",
   "metadata": {},
   "source": [
    "In the following cells, we use the [`@slicing_function()`](https://snorkel.readthedocs.io/en/master/packages/_autosummary/slicing/snorkel.slicing.slicing_function.html#snorkel.slicing.slicing_function) decorator to initialize an SF that identifies shortened links the spam dataset.\n",
    "These links could redirect us to potentially dangerous websites, and we don't want our users to click them!\n",
    "To select the subset of shortened links in our dataset, we write a regex that checks for the commonly-used `.ly` extension.\n",
    "\n",
    "You'll notice that the `short_link` SF is a heuristic, like the other programmatic ops we've defined, and may not fully cover the slice of interest.\n",
    "That's okay — in last section, we'll show how a model can handle this in Snorkel."
   ]
  },
  {
   "cell_type": "code",
   "execution_count": 3,
   "metadata": {},
   "outputs": [],
   "source": [
    "import re\n",
    "from snorkel.slicing import slicing_function\n",
    "\n",
    "\n",
    "@slicing_function()\n",
    "def short_link(x):\n",
    "    \"\"\"Returns whether text matches common pattern for shortened \".ly\" links.\"\"\"\n",
    "    return bool(re.search(r\"\\w+\\.ly\", x.text))\n",
    "\n",
    "\n",
    "sfs = [short_link]"
   ]
  },
  {
   "cell_type": "markdown",
   "metadata": {},
   "source": [
    "### Visualize slices"
   ]
  },
  {
   "cell_type": "markdown",
   "metadata": {},
   "source": [
    "With a utility function, [`slice_dataframe`](https://snorkel.readthedocs.io/en/master/packages/_autosummary/slicing/snorkel.slicing.slice_dataframe.html#snorkel.slicing.slice_dataframe), we can visualize examples belonging to this slice in a `pandas.DataFrame`."
   ]
  },
  {
   "cell_type": "code",
   "execution_count": 4,
   "metadata": {},
   "outputs": [
    {
     "name": "stderr",
     "output_type": "stream",
     "text": [
      "\r",
      "  0%|          | 0/120 [00:00<?, ?it/s]"
     ]
    },
    {
     "name": "stderr",
     "output_type": "stream",
     "text": [
      "\r",
<<<<<<< HEAD
      "100%|██████████| 120/120 [00:00<00:00, 21675.99it/s]"
=======
      "100%|██████████| 120/120 [00:00<00:00, 19693.88it/s]"
>>>>>>> Update
     ]
    },
    {
     "name": "stderr",
     "output_type": "stream",
     "text": [
      "\n"
     ]
    },
    {
     "data": {
      "text/html": [
       "<div>\n",
       "<style scoped>\n",
       "    .dataframe tbody tr th:only-of-type {\n",
       "        vertical-align: middle;\n",
       "    }\n",
       "\n",
       "    .dataframe tbody tr th {\n",
       "        vertical-align: top;\n",
       "    }\n",
       "\n",
       "    .dataframe thead th {\n",
       "        text-align: right;\n",
       "    }\n",
       "</style>\n",
       "<table border=\"1\" class=\"dataframe\">\n",
       "  <thead>\n",
       "    <tr style=\"text-align: right;\">\n",
       "      <th></th>\n",
       "      <th>text</th>\n",
       "      <th>label</th>\n",
       "    </tr>\n",
       "  </thead>\n",
       "  <tbody>\n",
       "    <tr>\n",
       "      <th>280</th>\n",
       "      <td>Being paid to respond to fast paid surveys from home has enabled me to give up working and make more than 4500 bucks monthly.  To read more go to this web site bit.ly\\1bSefQe</td>\n",
       "      <td>1</td>\n",
       "    </tr>\n",
       "    <tr>\n",
       "      <th>192</th>\n",
       "      <td>Meet The Richest Online Marketer  NOW CLICK : bit.ly/make-money-without-adroid</td>\n",
       "      <td>1</td>\n",
       "    </tr>\n",
       "    <tr>\n",
       "      <th>301</th>\n",
       "      <td>coby this USL and past :&lt;br /&gt;&lt;a href=\"http://adf.ly\"&gt;http://adf.ly&lt;/a&gt; /1HmVtX&lt;br /&gt;delete space after y﻿</td>\n",
       "      <td>1</td>\n",
       "    </tr>\n",
       "    <tr>\n",
       "      <th>350</th>\n",
       "      <td>adf.ly / KlD3Y</td>\n",
       "      <td>1</td>\n",
       "    </tr>\n",
       "    <tr>\n",
       "      <th>18</th>\n",
       "      <td>Earn money for being online with 0 efforts!    bit.ly\\14gKvDo</td>\n",
       "      <td>1</td>\n",
       "    </tr>\n",
       "  </tbody>\n",
       "</table>\n",
       "</div>"
      ],
      "text/plain": [
       "                                                                                                                                                                               text  \\\n",
       "280  Being paid to respond to fast paid surveys from home has enabled me to give up working and make more than 4500 bucks monthly.  To read more go to this web site bit.ly\\1bSefQe   \n",
       "192  Meet The Richest Online Marketer  NOW CLICK : bit.ly/make-money-without-adroid                                                                                                   \n",
       "301  coby this USL and past :<br /><a href=\"http://adf.ly\">http://adf.ly</a> /1HmVtX<br />delete space after y﻿                                                                       \n",
       "350  adf.ly / KlD3Y                                                                                                                                                                   \n",
       "18   Earn money for being online with 0 efforts!    bit.ly\\14gKvDo                                                                                                                    \n",
       "\n",
       "     label  \n",
       "280  1      \n",
       "192  1      \n",
       "301  1      \n",
       "350  1      \n",
       "18   1      "
      ]
     },
     "execution_count": 4,
     "metadata": {},
     "output_type": "execute_result"
    }
   ],
   "source": [
    "from snorkel.slicing import slice_dataframe\n",
    "\n",
    "short_link_df = slice_dataframe(df_valid, short_link)\n",
    "short_link_df[[\"text\", \"label\"]]"
   ]
  },
  {
   "cell_type": "markdown",
   "metadata": {},
   "source": [
    "## 2. Monitor slice performance with [`Scorer.score_slices`](https://snorkel.readthedocs.io/en/master/packages/_autosummary/analysis/snorkel.analysis.Scorer.html#snorkel.analysis.Scorer.score_slices)"
   ]
  },
  {
   "cell_type": "markdown",
   "metadata": {},
   "source": [
    "In this section, we'll demonstrate how we might monitor slice performance on the `short_link` slice — this approach is compatible with _any modeling framework_."
   ]
  },
  {
   "cell_type": "markdown",
   "metadata": {},
   "source": [
    "### Train a simple classifier\n",
    "First, we featurize the data — as you saw in the introductory Spam tutorial, we can extract simple bag-of-words features and store them as numpy arrays."
   ]
  },
  {
   "cell_type": "code",
   "execution_count": 5,
   "metadata": {},
   "outputs": [],
   "source": [
    "from sklearn.feature_extraction.text import CountVectorizer\n",
    "from utils import df_to_features\n",
    "\n",
    "vectorizer = CountVectorizer(ngram_range=(1, 1))\n",
    "X_train, Y_train = df_to_features(vectorizer, df_train, \"train\")\n",
    "X_valid, Y_valid = df_to_features(vectorizer, df_valid, \"valid\")\n",
    "X_test, Y_test = df_to_features(vectorizer, df_test, \"test\")"
   ]
  },
  {
   "cell_type": "markdown",
   "metadata": {},
   "source": [
    "We define a `LogisticRegression` model from `sklearn` and show how we might visualize these slice-specific scores."
   ]
  },
  {
   "cell_type": "code",
   "execution_count": 6,
   "metadata": {},
   "outputs": [
    {
     "data": {
      "text/plain": [
       "0.928"
      ]
     },
     "execution_count": 6,
     "metadata": {},
     "output_type": "execute_result"
    }
   ],
   "source": [
    "from sklearn.linear_model import LogisticRegression\n",
    "\n",
    "sklearn_model = LogisticRegression(C=0.001, solver=\"liblinear\")\n",
    "sklearn_model.fit(X=X_train, y=Y_train)\n",
    "sklearn_model.score(X_test, Y_test)"
   ]
  },
  {
   "cell_type": "code",
   "execution_count": 7,
   "metadata": {},
   "outputs": [],
   "source": [
    "from snorkel.utils import preds_to_probs\n",
    "\n",
    "preds_test = sklearn_model.predict(X_test)\n",
    "probs_test = preds_to_probs(preds_test, 2)"
   ]
  },
  {
   "cell_type": "markdown",
   "metadata": {},
   "source": [
    "### Store slice metadata in `S`"
   ]
  },
  {
   "cell_type": "markdown",
   "metadata": {},
   "source": [
    "We apply our list of `sfs` to the data using an SF applier.\n",
    "For our data format, we leverage the [`PandasSFApplier`](https://snorkel.readthedocs.io/en/master/packages/_autosummary/slicing/snorkel.slicing.PandasSFApplier.html#snorkel.slicing.PandasSFApplier).\n",
    "The output of the `applier` is an [`np.recarray`](https://docs.scipy.org/doc/numpy/reference/generated/numpy.recarray.html) which stores vectors in named fields indicating whether each of $n$ examples belongs to the corresponding slice."
   ]
  },
  {
   "cell_type": "code",
   "execution_count": 8,
   "metadata": {},
   "outputs": [
    {
     "name": "stderr",
     "output_type": "stream",
     "text": [
      "\r",
<<<<<<< HEAD
      "  0%|          | 0/250 [00:00<?, ?it/s]"
=======
      "Epoch 0::   0%|          | 0/50 [00:00<?, ?it/s]"
     ]
    },
    {
     "name": "stderr",
     "output_type": "stream",
     "text": [
      "\r",
      "Epoch 0::   0%|          | 0/50 [00:00<?, ?it/s, model/all/train/loss=0.691, model/all/train/lr=0.0001]"
     ]
    },
    {
     "name": "stderr",
     "output_type": "stream",
     "text": [
      "\r",
      "Epoch 0::   2%|▏         | 1/50 [00:00<00:07,  6.71it/s, model/all/train/loss=0.691, model/all/train/lr=0.0001]"
     ]
    },
    {
     "name": "stderr",
     "output_type": "stream",
     "text": [
      "\r",
      "Epoch 0::   2%|▏         | 1/50 [00:00<00:07,  6.71it/s, model/all/train/loss=0.691, model/all/train/lr=0.0001]"
     ]
    },
    {
     "name": "stderr",
     "output_type": "stream",
     "text": [
      "\r",
      "Epoch 0::   4%|▍         | 2/50 [00:00<00:06,  7.03it/s, model/all/train/loss=0.691, model/all/train/lr=0.0001]"
     ]
    },
    {
     "name": "stderr",
     "output_type": "stream",
     "text": [
      "\r",
      "Epoch 0::   4%|▍         | 2/50 [00:00<00:06,  7.03it/s, model/all/train/loss=0.69, model/all/train/lr=0.0001] "
     ]
    },
    {
     "name": "stderr",
     "output_type": "stream",
     "text": [
      "\r",
      "Epoch 0::   6%|▌         | 3/50 [00:00<00:06,  7.10it/s, model/all/train/loss=0.69, model/all/train/lr=0.0001]"
     ]
    },
    {
     "name": "stderr",
     "output_type": "stream",
     "text": [
      "\r",
      "Epoch 0::   6%|▌         | 3/50 [00:00<00:06,  7.10it/s, model/all/train/loss=0.689, model/all/train/lr=0.0001]"
     ]
    },
    {
     "name": "stderr",
     "output_type": "stream",
     "text": [
      "\r",
      "Epoch 0::   8%|▊         | 4/50 [00:00<00:06,  7.26it/s, model/all/train/loss=0.689, model/all/train/lr=0.0001]"
     ]
    },
    {
     "name": "stderr",
     "output_type": "stream",
     "text": [
      "\r",
      "Epoch 0::   8%|▊         | 4/50 [00:00<00:06,  7.26it/s, model/all/train/loss=0.688, model/all/train/lr=0.0001]"
     ]
    },
    {
     "name": "stderr",
     "output_type": "stream",
     "text": [
      "\r",
      "Epoch 0::  10%|█         | 5/50 [00:00<00:06,  7.45it/s, model/all/train/loss=0.688, model/all/train/lr=0.0001]"
     ]
    },
    {
     "name": "stderr",
     "output_type": "stream",
     "text": [
      "\r",
      "Epoch 0::  10%|█         | 5/50 [00:00<00:06,  7.45it/s, model/all/train/loss=0.684, model/all/train/lr=0.0001]"
     ]
    },
    {
     "name": "stderr",
     "output_type": "stream",
     "text": [
      "\r",
      "Epoch 0::  12%|█▏        | 6/50 [00:00<00:05,  7.50it/s, model/all/train/loss=0.684, model/all/train/lr=0.0001]"
     ]
    },
    {
     "name": "stderr",
     "output_type": "stream",
     "text": [
      "\r",
      "Epoch 0::  12%|█▏        | 6/50 [00:00<00:05,  7.50it/s, model/all/train/loss=0.684, model/all/train/lr=0.0001]"
     ]
    },
    {
     "name": "stderr",
     "output_type": "stream",
     "text": [
      "\r",
      "Epoch 0::  14%|█▍        | 7/50 [00:00<00:05,  7.53it/s, model/all/train/loss=0.684, model/all/train/lr=0.0001]"
>>>>>>> Update
     ]
    },
    {
     "name": "stderr",
     "output_type": "stream",
     "text": [
      "\r",
<<<<<<< HEAD
      "100%|██████████| 250/250 [00:00<00:00, 23182.17it/s]"
=======
      "Epoch 0::  14%|█▍        | 7/50 [00:01<00:05,  7.53it/s, model/all/train/loss=0.683, model/all/train/lr=0.0001]"
>>>>>>> Update
     ]
    },
    {
     "name": "stderr",
     "output_type": "stream",
     "text": [
<<<<<<< HEAD
      "\n"
=======
      "\r",
      "Epoch 0::  16%|█▌        | 8/50 [00:01<00:05,  7.16it/s, model/all/train/loss=0.683, model/all/train/lr=0.0001]"
>>>>>>> Update
     ]
    }
   ],
   "source": [
    "from snorkel.slicing import PandasSFApplier\n",
    "\n",
    "applier = PandasSFApplier(sfs)\n",
    "S_test = applier.apply(df_test)"
   ]
  },
  {
   "cell_type": "markdown",
   "metadata": {},
   "source": [
    "Now, we initialize a [`Scorer`](https://snorkel.readthedocs.io/en/master/packages/_autosummary/analysis/snorkel.analysis.Scorer.html#snorkel.analysis.Scorer) using the desired `metrics`."
   ]
  },
  {
   "cell_type": "code",
   "execution_count": 9,
   "metadata": {},
   "outputs": [],
   "source": [
    "from snorkel.analysis import Scorer\n",
    "\n",
    "scorer = Scorer(metrics=[\"accuracy\", \"f1\"])"
   ]
  },
  {
   "cell_type": "markdown",
   "metadata": {},
   "source": [
    "Using the [`score_slices`](https://snorkel.readthedocs.io/en/master/packages/_autosummary/analysis/snorkel.analysis.Scorer.html#snorkel.analysis.Scorer.score_slices) method, we can see both `overall` and slice-specific performance."
   ]
  },
  {
   "cell_type": "code",
   "execution_count": 10,
   "metadata": {},
   "outputs": [
    {
<<<<<<< HEAD
     "data": {
      "text/html": [
       "<div>\n",
       "<style scoped>\n",
       "    .dataframe tbody tr th:only-of-type {\n",
       "        vertical-align: middle;\n",
       "    }\n",
       "\n",
       "    .dataframe tbody tr th {\n",
       "        vertical-align: top;\n",
       "    }\n",
       "\n",
       "    .dataframe thead th {\n",
       "        text-align: right;\n",
       "    }\n",
       "</style>\n",
       "<table border=\"1\" class=\"dataframe\">\n",
       "  <thead>\n",
       "    <tr style=\"text-align: right;\">\n",
       "      <th></th>\n",
       "      <th>accuracy</th>\n",
       "      <th>f1</th>\n",
       "    </tr>\n",
       "  </thead>\n",
       "  <tbody>\n",
       "    <tr>\n",
       "      <th>overall</th>\n",
       "      <td>0.928000</td>\n",
       "      <td>0.925</td>\n",
       "    </tr>\n",
       "    <tr>\n",
       "      <th>short_link</th>\n",
       "      <td>0.333333</td>\n",
       "      <td>0.500</td>\n",
       "    </tr>\n",
       "  </tbody>\n",
       "</table>\n",
       "</div>"
      ],
      "text/plain": [
       "            accuracy     f1\n",
       "overall     0.928000  0.925\n",
       "short_link  0.333333  0.500"
      ]
     },
     "execution_count": 10,
     "metadata": {},
     "output_type": "execute_result"
    }
   ],
   "source": [
    "scorer.score_slices(\n",
    "    S=S_test, golds=Y_test, preds=preds_test, probs=probs_test, as_dataframe=True\n",
    ")"
   ]
  },
  {
   "cell_type": "markdown",
   "metadata": {},
   "source": [
    "Despite high overall performance, the `short_link` slice performs poorly here!"
   ]
  },
  {
   "cell_type": "markdown",
   "metadata": {},
   "source": [
    "### Write additional slicing functions (SFs)\n",
    "\n",
    "Slices are dynamic — as monitoring needs grow or change with new data distributions or application needs, an ML pipeline might require dozens, or even hundreds, of slices.\n",
    "\n",
    "We'll take inspiration from the labeling tutorial to write additional slicing functions.\n",
    "We demonstrate how the same powerful preprocessors and utilities available for labeling functions can be leveraged for slicing functions."
   ]
  },
  {
   "cell_type": "code",
   "execution_count": 11,
   "metadata": {},
   "outputs": [],
   "source": [
    "from snorkel.slicing import SlicingFunction, slicing_function\n",
    "from snorkel.preprocess import preprocessor\n",
    "\n",
    "\n",
    "# Keyword-based SFs\n",
    "def keyword_lookup(x, keywords):\n",
    "    return any(word in x.text.lower() for word in keywords)\n",
    "\n",
    "\n",
    "def make_keyword_sf(keywords):\n",
    "    return SlicingFunction(\n",
    "        name=f\"keyword_{keywords[0]}\",\n",
    "        f=keyword_lookup,\n",
    "        resources=dict(keywords=keywords),\n",
    "    )\n",
    "\n",
    "\n",
    "keyword_subscribe = make_keyword_sf(keywords=[\"subscribe\"])\n",
    "keyword_please = make_keyword_sf(keywords=[\"please\", \"plz\"])\n",
    "\n",
    "\n",
    "# Regex-based SF\n",
    "@slicing_function()\n",
    "def regex_check_out(x):\n",
    "    return bool(re.search(r\"check.*out\", x.text, flags=re.I))\n",
    "\n",
    "\n",
    "# Heuristic-based SF\n",
    "@slicing_function()\n",
    "def short_comment(x):\n",
    "    \"\"\"Ham comments are often short, such as 'cool video!'\"\"\"\n",
    "    return len(x.text.split()) < 5\n",
    "\n",
    "\n",
    "# Leverage preprocessor in SF\n",
    "from textblob import TextBlob\n",
    "\n",
    "\n",
    "@preprocessor(memoize=True)\n",
    "def textblob_sentiment(x):\n",
    "    scores = TextBlob(x.text)\n",
    "    x.polarity = scores.sentiment.polarity\n",
    "    return x\n",
    "\n",
    "\n",
    "@slicing_function(pre=[textblob_sentiment])\n",
    "def textblob_polarity(x):\n",
    "    return x.polarity > 0.9"
   ]
  },
  {
   "cell_type": "markdown",
   "metadata": {},
   "source": [
    "Again, we'd like to visualize examples in a particular slice. This time, we'll inspect the `textblob_polarity` slice.\n",
    "\n",
    "Most examples with high-polarity sentiments are strong opinions about the video — hence, they are usually relevant to the video, and the corresponding labels are $0$.\n",
    "We might define a slice here for *product and marketing reasons*, it's important to make sure that we don't misclassify very positive comments from good users."
   ]
  },
  {
   "cell_type": "code",
   "execution_count": 12,
   "metadata": {},
   "outputs": [
=======
     "name": "stderr",
     "output_type": "stream",
     "text": [
      "\r",
      "Epoch 0::  16%|█▌        | 8/50 [00:01<00:05,  7.16it/s, model/all/train/loss=0.681, model/all/train/lr=0.0001]"
     ]
    },
>>>>>>> Update
    {
     "name": "stderr",
     "output_type": "stream",
     "text": [
      "\r",
<<<<<<< HEAD
      "  0%|          | 0/120 [00:00<?, ?it/s]"
=======
      "Epoch 0::  18%|█▊        | 9/50 [00:01<00:05,  7.25it/s, model/all/train/loss=0.681, model/all/train/lr=0.0001]"
>>>>>>> Update
     ]
    },
    {
     "name": "stderr",
     "output_type": "stream",
     "text": [
      "\r",
<<<<<<< HEAD
      " 59%|█████▉    | 71/120 [00:00<00:00, 704.48it/s]"
=======
      "Epoch 0::  18%|█▊        | 9/50 [00:01<00:05,  7.25it/s, model/all/train/loss=0.679, model/all/train/lr=0.0001]"
>>>>>>> Update
     ]
    },
    {
     "name": "stderr",
     "output_type": "stream",
     "text": [
      "\r",
<<<<<<< HEAD
      "100%|██████████| 120/120 [00:00<00:00, 830.93it/s]"
=======
      "Epoch 0::  20%|██        | 10/50 [00:01<00:05,  7.33it/s, model/all/train/loss=0.679, model/all/train/lr=0.0001]"
>>>>>>> Update
     ]
    },
    {
     "name": "stderr",
     "output_type": "stream",
     "text": [
<<<<<<< HEAD
      "\n"
=======
      "\r",
      "Epoch 0::  20%|██        | 10/50 [00:01<00:05,  7.33it/s, model/all/train/loss=0.676, model/all/train/lr=0.0001]"
>>>>>>> Update
     ]
    },
    {
     "data": {
      "text/html": [
       "<div>\n",
       "<style scoped>\n",
       "    .dataframe tbody tr th:only-of-type {\n",
       "        vertical-align: middle;\n",
       "    }\n",
       "\n",
       "    .dataframe tbody tr th {\n",
       "        vertical-align: top;\n",
       "    }\n",
       "\n",
       "    .dataframe thead th {\n",
       "        text-align: right;\n",
       "    }\n",
       "</style>\n",
       "<table border=\"1\" class=\"dataframe\">\n",
       "  <thead>\n",
       "    <tr style=\"text-align: right;\">\n",
       "      <th></th>\n",
       "      <th>text</th>\n",
       "      <th>label</th>\n",
       "    </tr>\n",
       "  </thead>\n",
       "  <tbody>\n",
       "    <tr>\n",
       "      <th>16</th>\n",
       "      <td>Love this song !!!!!!</td>\n",
       "      <td>0</td>\n",
       "    </tr>\n",
       "    <tr>\n",
       "      <th>309</th>\n",
       "      <td>One of the best song of all the time﻿</td>\n",
       "      <td>0</td>\n",
       "    </tr>\n",
       "    <tr>\n",
       "      <th>164</th>\n",
       "      <td>She is perfect</td>\n",
       "      <td>0</td>\n",
       "    </tr>\n",
       "    <tr>\n",
       "      <th>310</th>\n",
       "      <td>Best world cup offical song﻿</td>\n",
       "      <td>0</td>\n",
       "    </tr>\n",
       "    <tr>\n",
       "      <th>352</th>\n",
       "      <td>I remember this :D</td>\n",
       "      <td>0</td>\n",
       "    </tr>\n",
       "  </tbody>\n",
       "</table>\n",
       "</div>"
      ],
      "text/plain": [
       "                                      text  label\n",
       "16   Love this song !!!!!!                  0    \n",
       "309  One of the best song of all the time﻿  0    \n",
       "164  She is perfect                         0    \n",
       "310  Best world cup offical song﻿           0    \n",
       "352  I remember this :D                     0    "
      ]
     },
     "execution_count": 12,
     "metadata": {},
     "output_type": "execute_result"
    }
   ],
   "source": [
    "polarity_df = slice_dataframe(df_valid, textblob_polarity)\n",
    "polarity_df[[\"text\", \"label\"]].head()"
   ]
  },
  {
   "cell_type": "markdown",
   "metadata": {},
   "source": [
    "We can evaluate performance on _all SFs_ using the model-agnostic [`Scorer`](https://snorkel.readthedocs.io/en/master/packages/_autosummary/analysis/snorkel.analysis.Scorer.html#snorkel-analysis-scorer)."
   ]
  },
  {
   "cell_type": "code",
   "execution_count": 13,
   "metadata": {},
   "outputs": [],
   "source": [
    "extra_sfs = [\n",
    "    keyword_subscribe,\n",
    "    keyword_please,\n",
    "    regex_check_out,\n",
    "    short_comment,\n",
    "    textblob_polarity,\n",
    "]\n",
    "\n",
    "sfs = [short_link] + extra_sfs\n",
    "slice_names = [sf.name for sf in sfs]"
   ]
  },
  {
   "cell_type": "markdown",
   "metadata": {},
   "source": [
    "Let's see how the `sklearn` model we learned before performs on these new slices!"
   ]
  },
  {
   "cell_type": "code",
   "execution_count": 14,
   "metadata": {},
   "outputs": [
    {
     "name": "stderr",
     "output_type": "stream",
     "text": [
      "\r",
<<<<<<< HEAD
      "  0%|          | 0/250 [00:00<?, ?it/s]"
=======
      "Epoch 0::  22%|██▏       | 11/50 [00:01<00:05,  7.39it/s, model/all/train/loss=0.676, model/all/train/lr=0.0001]"
>>>>>>> Update
     ]
    },
    {
     "name": "stderr",
     "output_type": "stream",
     "text": [
      "\r",
<<<<<<< HEAD
      " 42%|████▏     | 105/250 [00:00<00:00, 1049.02it/s]"
=======
      "Epoch 0::  22%|██▏       | 11/50 [00:01<00:05,  7.39it/s, model/all/train/loss=0.673, model/all/train/lr=0.0001]"
>>>>>>> Update
     ]
    },
    {
     "name": "stderr",
     "output_type": "stream",
     "text": [
      "\r",
<<<<<<< HEAD
      " 82%|████████▏ | 206/250 [00:00<00:00, 1033.14it/s]"
=======
      "Epoch 0::  24%|██▍       | 12/50 [00:01<00:05,  7.39it/s, model/all/train/loss=0.673, model/all/train/lr=0.0001]"
>>>>>>> Update
     ]
    },
    {
     "name": "stderr",
     "output_type": "stream",
     "text": [
      "\r",
<<<<<<< HEAD
      "100%|██████████| 250/250 [00:00<00:00, 1020.12it/s]"
=======
      "Epoch 0::  24%|██▍       | 12/50 [00:01<00:05,  7.39it/s, model/all/train/loss=0.671, model/all/train/lr=0.0001]"
>>>>>>> Update
     ]
    },
    {
     "name": "stderr",
     "output_type": "stream",
     "text": [
<<<<<<< HEAD
      "\n"
     ]
    },
    {
     "data": {
      "text/html": [
       "<div>\n",
       "<style scoped>\n",
       "    .dataframe tbody tr th:only-of-type {\n",
       "        vertical-align: middle;\n",
       "    }\n",
       "\n",
       "    .dataframe tbody tr th {\n",
       "        vertical-align: top;\n",
       "    }\n",
       "\n",
       "    .dataframe thead th {\n",
       "        text-align: right;\n",
       "    }\n",
       "</style>\n",
       "<table border=\"1\" class=\"dataframe\">\n",
       "  <thead>\n",
       "    <tr style=\"text-align: right;\">\n",
       "      <th></th>\n",
       "      <th>accuracy</th>\n",
       "      <th>f1</th>\n",
       "    </tr>\n",
       "  </thead>\n",
       "  <tbody>\n",
       "    <tr>\n",
       "      <th>overall</th>\n",
       "      <td>0.928000</td>\n",
       "      <td>0.925000</td>\n",
       "    </tr>\n",
       "    <tr>\n",
       "      <th>short_link</th>\n",
       "      <td>0.333333</td>\n",
       "      <td>0.500000</td>\n",
       "    </tr>\n",
       "    <tr>\n",
       "      <th>keyword_subscribe</th>\n",
       "      <td>0.944444</td>\n",
       "      <td>0.971429</td>\n",
       "    </tr>\n",
       "    <tr>\n",
       "      <th>keyword_please</th>\n",
       "      <td>1.000000</td>\n",
       "      <td>1.000000</td>\n",
       "    </tr>\n",
       "    <tr>\n",
       "      <th>regex_check_out</th>\n",
       "      <td>1.000000</td>\n",
       "      <td>1.000000</td>\n",
       "    </tr>\n",
       "    <tr>\n",
       "      <th>short_comment</th>\n",
       "      <td>0.945652</td>\n",
       "      <td>0.666667</td>\n",
       "    </tr>\n",
       "    <tr>\n",
       "      <th>textblob_polarity</th>\n",
       "      <td>0.875000</td>\n",
       "      <td>0.727273</td>\n",
       "    </tr>\n",
       "  </tbody>\n",
       "</table>\n",
       "</div>"
      ],
      "text/plain": [
       "                   accuracy        f1\n",
       "overall            0.928000  0.925000\n",
       "short_link         0.333333  0.500000\n",
       "keyword_subscribe  0.944444  0.971429\n",
       "keyword_please     1.000000  1.000000\n",
       "regex_check_out    1.000000  1.000000\n",
       "short_comment      0.945652  0.666667\n",
       "textblob_polarity  0.875000  0.727273"
      ]
     },
     "execution_count": 14,
     "metadata": {},
     "output_type": "execute_result"
    }
   ],
   "source": [
    "applier = PandasSFApplier(sfs)\n",
    "S_test = applier.apply(df_test)\n",
    "\n",
    "scorer.score_slices(\n",
    "    S=S_test, golds=Y_test, preds=preds_test, probs=probs_test, as_dataframe=True\n",
    ")"
   ]
  },
  {
   "cell_type": "markdown",
   "metadata": {},
   "source": [
    "Looks like some do extremely well on our small test set, while others do decently.\n",
    "At the very least, we may want to monitor these to make sure that as we iterate to improve certain slices like `short_link`, we don't hurt the performance of others.\n",
    "Next, we'll introduce a model that helps us to do this balancing act automatically!"
   ]
  },
  {
   "cell_type": "markdown",
   "metadata": {},
   "source": [
    "## 3. Improve slice performance\n",
    "\n",
    "In the following section, we demonstrate a modeling approach that we call _Slice-based Learning,_ which improves performance by adding extra slice-specific representational capacity to whichever model we're using.\n",
    "Intuitively, we'd like to model to learn *representations that are better suited to handle examples in this slice*.\n",
    "In our approach, we model each slice as a separate \"expert task\" in the style of [multi-task learning](https://github.com/snorkel-team/snorkel-tutorials/blob/master/multitask/multitask_tutorial.ipynb); for further details of how slice-based learning works under the hood, check out the [code](https://github.com/snorkel-team/snorkel/blob/master/snorkel/slicing/utils.py) (with paper coming soon)!\n",
    "\n",
    "In other approaches, one might attempt to increase slice performance with techniques like _oversampling_ (i.e. with PyTorch's [`WeightedRandomSampler`](https://pytorch.org/docs/stable/data.html#torch.utils.data.WeightedRandomSampler)), effectively shifting the training distribution towards certain populations.\n",
    "\n",
    "This might work with small number of slices, but with hundreds or thousands or production slices at scale, it could quickly become intractable to tune upsampling weights per slice."
   ]
  },
  {
   "cell_type": "markdown",
   "metadata": {},
   "source": [
    "### Set up modeling pipeline with [`SlicingClassifier`](https://snorkel.readthedocs.io/en/master/packages/_autosummary/slicing/snorkel.slicing.SlicingClassifier.html)\n",
    "\n",
    "Snorkel supports performance monitoring on slices using discriminative models from [`snorkel.slicing`](https://snorkel.readthedocs.io/en/master/packages/slicing.html).\n",
    "To demonstrate this functionality, we'll first set up a the datasets + modeling pipeline in the PyTorch-based [`snorkel.classification`](https://snorkel.readthedocs.io/en/master/packages/classification.html) package."
   ]
  },
  {
   "cell_type": "markdown",
   "metadata": {},
   "source": [
    "First, we initialize a dataloaders for each split."
   ]
  },
  {
   "cell_type": "code",
   "execution_count": 15,
   "metadata": {},
   "outputs": [],
   "source": [
    "from utils import create_dict_dataloader\n",
    "\n",
    "BATCH_SIZE = 64\n",
    "\n",
    "\n",
    "train_dl = create_dict_dataloader(\n",
    "    X_train, Y_train, \"train\", batch_size=BATCH_SIZE, shuffle=True\n",
    ")\n",
    "valid_dl = create_dict_dataloader(\n",
    "    X_valid, Y_valid, \"valid\", batch_size=BATCH_SIZE, shuffle=False\n",
    ")\n",
    "test_dl = create_dict_dataloader(\n",
    "    X_test, Y_test, \"test\", batch_size=BATCH_SIZE, shuffle=True\n",
    ")"
   ]
  },
  {
   "cell_type": "markdown",
   "metadata": {},
   "source": [
    "We'll now initialize a [`SlicingClassifier`](https://snorkel.readthedocs.io/en/master/packages/_autosummary/slicing/snorkel.slicing.SlicingClassifier.html):\n",
    "* `base_architecture`: We define a simple Multi-Layer Perceptron (MLP) in Pytorch to serve as the primary representation architecture. We note that the `BinarySlicingClassifier` is **agnostic to the base architecture** — you might leverage a Transformer model for text, or a ResNet for images.\n",
    "* `head_dim`: identifies the final output feature dimension of the `base_architecture`\n",
    "* `slice_names`: Specify the slices that we plan to train on with this classifier."
   ]
  },
  {
   "cell_type": "code",
   "execution_count": 16,
   "metadata": {},
   "outputs": [],
   "source": [
    "from snorkel.slicing import SlicingClassifier\n",
    "from utils import get_pytorch_mlp\n",
    "\n",
    "\n",
    "# Define model architecture\n",
    "bow_dim = X_train.shape[1]\n",
    "hidden_dim = bow_dim\n",
    "mlp = get_pytorch_mlp(hidden_dim=hidden_dim, num_layers=2)\n",
    "\n",
    "# Init slice model\n",
    "slice_model = SlicingClassifier(\n",
    "    base_architecture=mlp, head_dim=hidden_dim, slice_names=[sf.name for sf in sfs]\n",
    ")"
   ]
  },
  {
   "cell_type": "markdown",
   "metadata": {},
   "source": [
    "### Monitor slice performance _during training_\n",
    "\n",
    "Using Snorkel's [`Trainer`](https://snorkel.readthedocs.io/en/master/packages/_autosummary/classification/snorkel.classification.Trainer.html), we fit to `train_dl`, and validate on `valid_dl`.\n",
    "\n",
    "We note that we can monitor slice-specific performance during training — this is a powerful way to track especially critical subsets of the data.\n",
    "If logging in `Tensorboard` (i.e. [`snorkel.classification.TensorboardWritier`](https://snorkel.readthedocs.io/en/master/packages/_autosummary/classification/snorkel.classification.TensorBoardWriter.html)), we would visualize individual loss curves and validation metrics to debug convegence for specific slices."
   ]
  },
  {
   "cell_type": "code",
   "execution_count": 17,
   "metadata": {},
   "outputs": [
=======
      "\r",
      "Epoch 0::  26%|██▌       | 13/50 [00:01<00:05,  7.20it/s, model/all/train/loss=0.671, model/all/train/lr=0.0001]"
     ]
    },
    {
     "name": "stderr",
     "output_type": "stream",
     "text": [
      "\r",
      "Epoch 0::  26%|██▌       | 13/50 [00:01<00:05,  7.20it/s, model/all/train/loss=0.667, model/all/train/lr=0.0001]"
     ]
    },
    {
     "name": "stderr",
     "output_type": "stream",
     "text": [
      "\r",
      "Epoch 0::  28%|██▊       | 14/50 [00:01<00:05,  7.17it/s, model/all/train/loss=0.667, model/all/train/lr=0.0001]"
     ]
    },
    {
     "name": "stderr",
     "output_type": "stream",
     "text": [
      "\r",
      "Epoch 0::  28%|██▊       | 14/50 [00:02<00:05,  7.17it/s, model/all/train/loss=0.665, model/all/train/lr=0.0001]"
     ]
    },
    {
     "name": "stderr",
     "output_type": "stream",
     "text": [
      "\r",
      "Epoch 0::  30%|███       | 15/50 [00:02<00:04,  7.15it/s, model/all/train/loss=0.665, model/all/train/lr=0.0001]"
     ]
    },
    {
     "name": "stderr",
     "output_type": "stream",
     "text": [
      "\r",
      "Epoch 0::  30%|███       | 15/50 [00:02<00:04,  7.15it/s, model/all/train/loss=0.663, model/all/train/lr=0.0001]"
     ]
    },
    {
     "name": "stderr",
     "output_type": "stream",
     "text": [
      "\r",
      "Epoch 0::  32%|███▏      | 16/50 [00:02<00:04,  7.24it/s, model/all/train/loss=0.663, model/all/train/lr=0.0001]"
     ]
    },
    {
     "name": "stderr",
     "output_type": "stream",
     "text": [
      "\r",
      "Epoch 0::  32%|███▏      | 16/50 [00:02<00:04,  7.24it/s, model/all/train/loss=0.66, model/all/train/lr=0.0001] "
     ]
    },
    {
     "name": "stderr",
     "output_type": "stream",
     "text": [
      "\r",
      "Epoch 0::  34%|███▍      | 17/50 [00:02<00:04,  7.16it/s, model/all/train/loss=0.66, model/all/train/lr=0.0001]"
     ]
    },
    {
     "name": "stderr",
     "output_type": "stream",
     "text": [
      "\r",
      "Epoch 0::  34%|███▍      | 17/50 [00:02<00:04,  7.16it/s, model/all/train/loss=0.657, model/all/train/lr=0.0001]"
     ]
    },
    {
     "name": "stderr",
     "output_type": "stream",
     "text": [
      "\r",
      "Epoch 0::  36%|███▌      | 18/50 [00:02<00:04,  7.21it/s, model/all/train/loss=0.657, model/all/train/lr=0.0001]"
     ]
    },
    {
     "name": "stderr",
     "output_type": "stream",
     "text": [
      "\r",
      "Epoch 0::  36%|███▌      | 18/50 [00:02<00:04,  7.21it/s, model/all/train/loss=0.657, model/all/train/lr=0.0001]"
     ]
    },
    {
     "name": "stderr",
     "output_type": "stream",
     "text": [
      "\r",
      "Epoch 0::  38%|███▊      | 19/50 [00:02<00:04,  7.11it/s, model/all/train/loss=0.657, model/all/train/lr=0.0001]"
     ]
    },
    {
     "name": "stderr",
     "output_type": "stream",
     "text": [
      "\r",
      "Epoch 0::  38%|███▊      | 19/50 [00:02<00:04,  7.11it/s, model/all/train/loss=0.656, model/all/train/lr=0.0001]"
     ]
    },
    {
     "name": "stderr",
     "output_type": "stream",
     "text": [
      "\r",
      "Epoch 0::  40%|████      | 20/50 [00:02<00:04,  7.19it/s, model/all/train/loss=0.656, model/all/train/lr=0.0001]"
     ]
    },
    {
     "name": "stderr",
     "output_type": "stream",
     "text": [
      "\r",
      "Epoch 0::  40%|████      | 20/50 [00:02<00:04,  7.19it/s, model/all/train/loss=0.654, model/all/train/lr=0.0001]"
     ]
    },
>>>>>>> Update
    {
     "name": "stderr",
     "output_type": "stream",
     "text": [
      "\r",
<<<<<<< HEAD
      "Epoch 0::   0%|          | 0/25 [00:00<?, ?it/s]"
=======
      "Epoch 0::  42%|████▏     | 21/50 [00:02<00:03,  7.26it/s, model/all/train/loss=0.654, model/all/train/lr=0.0001]"
>>>>>>> Update
     ]
    },
    {
     "name": "stderr",
     "output_type": "stream",
     "text": [
      "\r",
<<<<<<< HEAD
      "Epoch 0::   0%|          | 0/25 [00:01<?, ?it/s, model/all/train/loss=0.693, model/all/train/lr=0.0001]"
=======
      "Epoch 0::  42%|████▏     | 21/50 [00:03<00:03,  7.26it/s, model/all/train/loss=0.651, model/all/train/lr=0.0001]"
>>>>>>> Update
     ]
    },
    {
     "name": "stderr",
     "output_type": "stream",
     "text": [
      "\r",
<<<<<<< HEAD
      "Epoch 0::   4%|▍         | 1/25 [00:01<00:28,  1.17s/it, model/all/train/loss=0.693, model/all/train/lr=0.0001]"
=======
      "Epoch 0::  44%|████▍     | 22/50 [00:03<00:03,  7.29it/s, model/all/train/loss=0.651, model/all/train/lr=0.0001]"
>>>>>>> Update
     ]
    },
    {
     "name": "stderr",
     "output_type": "stream",
     "text": [
      "\r",
<<<<<<< HEAD
      "Epoch 0::   4%|▍         | 1/25 [00:02<00:28,  1.17s/it, model/all/train/loss=0.686, model/all/train/lr=0.0001]"
=======
      "Epoch 0::  44%|████▍     | 22/50 [00:03<00:03,  7.29it/s, model/all/train/loss=0.648, model/all/train/lr=0.0001]"
>>>>>>> Update
     ]
    },
    {
     "name": "stderr",
     "output_type": "stream",
     "text": [
      "\r",
<<<<<<< HEAD
      "Epoch 0::   8%|▊         | 2/25 [00:02<00:26,  1.14s/it, model/all/train/loss=0.686, model/all/train/lr=0.0001]"
=======
      "Epoch 0::  46%|████▌     | 23/50 [00:03<00:03,  7.11it/s, model/all/train/loss=0.648, model/all/train/lr=0.0001]"
>>>>>>> Update
     ]
    },
    {
     "name": "stderr",
     "output_type": "stream",
     "text": [
      "\r",
<<<<<<< HEAD
      "Epoch 0::   8%|▊         | 2/25 [00:03<00:26,  1.14s/it, model/all/train/loss=0.677, model/all/train/lr=0.0001]"
=======
      "Epoch 0::  46%|████▌     | 23/50 [00:03<00:03,  7.11it/s, model/all/train/loss=0.646, model/all/train/lr=0.0001]"
>>>>>>> Update
     ]
    },
    {
     "name": "stderr",
     "output_type": "stream",
     "text": [
      "\r",
<<<<<<< HEAD
      "Epoch 0::  12%|█▏        | 3/25 [00:03<00:24,  1.11s/it, model/all/train/loss=0.677, model/all/train/lr=0.0001]"
=======
      "Epoch 0::  48%|████▊     | 24/50 [00:03<00:03,  7.13it/s, model/all/train/loss=0.646, model/all/train/lr=0.0001]"
>>>>>>> Update
     ]
    },
    {
     "name": "stderr",
     "output_type": "stream",
     "text": [
      "\r",
<<<<<<< HEAD
      "Epoch 0::  12%|█▏        | 3/25 [00:04<00:24,  1.11s/it, model/all/train/loss=0.671, model/all/train/lr=0.0001]"
=======
      "Epoch 0::  48%|████▊     | 24/50 [00:03<00:03,  7.13it/s, model/all/train/loss=0.643, model/all/train/lr=0.0001]"
>>>>>>> Update
     ]
    },
    {
     "name": "stderr",
     "output_type": "stream",
     "text": [
      "\r",
<<<<<<< HEAD
      "Epoch 0::  16%|█▌        | 4/25 [00:04<00:23,  1.10s/it, model/all/train/loss=0.671, model/all/train/lr=0.0001]"
=======
      "Epoch 0::  50%|█████     | 25/50 [00:03<00:03,  7.15it/s, model/all/train/loss=0.643, model/all/train/lr=0.0001]"
>>>>>>> Update
     ]
    },
    {
     "name": "stderr",
     "output_type": "stream",
     "text": [
      "\r",
<<<<<<< HEAD
      "Epoch 0::  16%|█▌        | 4/25 [00:05<00:23,  1.10s/it, model/all/train/loss=0.663, model/all/train/lr=0.0001]"
=======
      "Epoch 0::  50%|█████     | 25/50 [00:03<00:03,  7.15it/s, model/all/train/loss=0.641, model/all/train/lr=0.0001]"
>>>>>>> Update
     ]
    },
    {
     "name": "stderr",
     "output_type": "stream",
     "text": [
      "\r",
<<<<<<< HEAD
      "Epoch 0::  20%|██        | 5/25 [00:05<00:21,  1.08s/it, model/all/train/loss=0.663, model/all/train/lr=0.0001]"
=======
      "Epoch 0::  52%|█████▏    | 26/50 [00:03<00:03,  7.00it/s, model/all/train/loss=0.641, model/all/train/lr=0.0001]"
>>>>>>> Update
     ]
    },
    {
     "name": "stderr",
     "output_type": "stream",
     "text": [
      "\r",
<<<<<<< HEAD
      "Epoch 0::  20%|██        | 5/25 [00:06<00:21,  1.08s/it, model/all/train/loss=0.653, model/all/train/lr=0.0001]"
=======
      "Epoch 0::  52%|█████▏    | 26/50 [00:03<00:03,  7.00it/s, model/all/train/loss=0.64, model/all/train/lr=0.0001] "
>>>>>>> Update
     ]
    },
    {
     "name": "stderr",
     "output_type": "stream",
     "text": [
      "\r",
<<<<<<< HEAD
      "Epoch 0::  24%|██▍       | 6/25 [00:06<00:20,  1.07s/it, model/all/train/loss=0.653, model/all/train/lr=0.0001]"
=======
      "Epoch 0::  54%|█████▍    | 27/50 [00:03<00:03,  7.08it/s, model/all/train/loss=0.64, model/all/train/lr=0.0001]"
>>>>>>> Update
     ]
    },
    {
     "name": "stderr",
     "output_type": "stream",
     "text": [
      "\r",
<<<<<<< HEAD
      "Epoch 0::  24%|██▍       | 6/25 [00:07<00:20,  1.07s/it, model/all/train/loss=0.654, model/all/train/lr=0.0001]"
=======
      "Epoch 0::  54%|█████▍    | 27/50 [00:03<00:03,  7.08it/s, model/all/train/loss=0.639, model/all/train/lr=0.0001]"
>>>>>>> Update
     ]
    },
    {
     "name": "stderr",
     "output_type": "stream",
     "text": [
      "\r",
<<<<<<< HEAD
      "Epoch 0::  28%|██▊       | 7/25 [00:07<00:19,  1.07s/it, model/all/train/loss=0.654, model/all/train/lr=0.0001]"
=======
      "Epoch 0::  56%|█████▌    | 28/50 [00:03<00:03,  7.10it/s, model/all/train/loss=0.639, model/all/train/lr=0.0001]"
>>>>>>> Update
     ]
    },
    {
     "name": "stderr",
     "output_type": "stream",
     "text": [
      "\r",
<<<<<<< HEAD
      "Epoch 0::  28%|██▊       | 7/25 [00:08<00:19,  1.07s/it, model/all/train/loss=0.649, model/all/train/lr=0.0001]"
=======
      "Epoch 0::  56%|█████▌    | 28/50 [00:04<00:03,  7.10it/s, model/all/train/loss=0.639, model/all/train/lr=0.0001]"
>>>>>>> Update
     ]
    },
    {
     "name": "stderr",
     "output_type": "stream",
     "text": [
      "\r",
<<<<<<< HEAD
      "Epoch 0::  32%|███▏      | 8/25 [00:08<00:18,  1.06s/it, model/all/train/loss=0.649, model/all/train/lr=0.0001]"
=======
      "Epoch 0::  58%|█████▊    | 29/50 [00:04<00:02,  7.12it/s, model/all/train/loss=0.639, model/all/train/lr=0.0001]"
>>>>>>> Update
     ]
    },
    {
     "name": "stderr",
     "output_type": "stream",
     "text": [
      "\r",
<<<<<<< HEAD
      "Epoch 0::  32%|███▏      | 8/25 [00:09<00:18,  1.06s/it, model/all/train/loss=0.639, model/all/train/lr=0.0001]"
=======
      "Epoch 0::  58%|█████▊    | 29/50 [00:04<00:02,  7.12it/s, model/all/train/loss=0.636, model/all/train/lr=0.0001]"
>>>>>>> Update
     ]
    },
    {
     "name": "stderr",
     "output_type": "stream",
     "text": [
      "\r",
<<<<<<< HEAD
      "Epoch 0::  36%|███▌      | 9/25 [00:09<00:16,  1.06s/it, model/all/train/loss=0.639, model/all/train/lr=0.0001]"
=======
      "Epoch 0::  60%|██████    | 30/50 [00:04<00:02,  7.16it/s, model/all/train/loss=0.636, model/all/train/lr=0.0001]"
>>>>>>> Update
     ]
    },
    {
     "name": "stderr",
     "output_type": "stream",
     "text": [
      "\r",
<<<<<<< HEAD
      "Epoch 0::  36%|███▌      | 9/25 [00:10<00:16,  1.06s/it, model/all/train/loss=0.634, model/all/train/lr=0.0001]"
=======
      "Epoch 0::  60%|██████    | 30/50 [00:04<00:02,  7.16it/s, model/all/train/loss=0.634, model/all/train/lr=0.0001]"
>>>>>>> Update
     ]
    },
    {
     "name": "stderr",
     "output_type": "stream",
     "text": [
      "\r",
<<<<<<< HEAD
      "Epoch 0::  40%|████      | 10/25 [00:10<00:15,  1.06s/it, model/all/train/loss=0.634, model/all/train/lr=0.0001]"
=======
      "Epoch 0::  62%|██████▏   | 31/50 [00:04<00:02,  6.89it/s, model/all/train/loss=0.634, model/all/train/lr=0.0001]"
>>>>>>> Update
     ]
    },
    {
     "name": "stderr",
     "output_type": "stream",
     "text": [
      "\r",
<<<<<<< HEAD
      "Epoch 0::  40%|████      | 10/25 [00:11<00:15,  1.06s/it, model/all/train/loss=0.627, model/all/train/lr=0.0001]"
=======
      "Epoch 0::  62%|██████▏   | 31/50 [00:04<00:02,  6.89it/s, model/all/train/loss=0.633, model/all/train/lr=0.0001]"
>>>>>>> Update
     ]
    },
    {
     "name": "stderr",
     "output_type": "stream",
     "text": [
      "\r",
<<<<<<< HEAD
      "Epoch 0::  44%|████▍     | 11/25 [00:11<00:14,  1.06s/it, model/all/train/loss=0.627, model/all/train/lr=0.0001]"
=======
      "Epoch 0::  64%|██████▍   | 32/50 [00:04<00:02,  6.80it/s, model/all/train/loss=0.633, model/all/train/lr=0.0001]"
>>>>>>> Update
     ]
    },
    {
     "name": "stderr",
     "output_type": "stream",
     "text": [
      "\r",
<<<<<<< HEAD
      "Epoch 0::  44%|████▍     | 11/25 [00:12<00:14,  1.06s/it, model/all/train/loss=0.618, model/all/train/lr=0.0001]"
=======
      "Epoch 0::  64%|██████▍   | 32/50 [00:04<00:02,  6.80it/s, model/all/train/loss=0.632, model/all/train/lr=0.0001]"
>>>>>>> Update
     ]
    },
    {
     "name": "stderr",
     "output_type": "stream",
     "text": [
      "\r",
<<<<<<< HEAD
      "Epoch 0::  48%|████▊     | 12/25 [00:12<00:13,  1.06s/it, model/all/train/loss=0.618, model/all/train/lr=0.0001]"
=======
      "Epoch 0::  66%|██████▌   | 33/50 [00:04<00:02,  6.91it/s, model/all/train/loss=0.632, model/all/train/lr=0.0001]"
>>>>>>> Update
     ]
    },
    {
     "name": "stderr",
     "output_type": "stream",
     "text": [
      "\r",
<<<<<<< HEAD
      "Epoch 0::  48%|████▊     | 12/25 [00:13<00:13,  1.06s/it, model/all/train/loss=0.612, model/all/train/lr=0.0001]"
=======
      "Epoch 0::  66%|██████▌   | 33/50 [00:04<00:02,  6.91it/s, model/all/train/loss=0.632, model/all/train/lr=0.0001]"
>>>>>>> Update
     ]
    },
    {
     "name": "stderr",
     "output_type": "stream",
     "text": [
      "\r",
<<<<<<< HEAD
      "Epoch 0::  52%|█████▏    | 13/25 [00:13<00:12,  1.06s/it, model/all/train/loss=0.612, model/all/train/lr=0.0001]"
=======
      "Epoch 0::  68%|██████▊   | 34/50 [00:04<00:02,  6.85it/s, model/all/train/loss=0.632, model/all/train/lr=0.0001]"
>>>>>>> Update
     ]
    },
    {
     "name": "stderr",
     "output_type": "stream",
     "text": [
      "\r",
<<<<<<< HEAD
      "Epoch 0::  52%|█████▏    | 13/25 [00:14<00:12,  1.06s/it, model/all/train/loss=0.602, model/all/train/lr=0.0001]"
=======
      "Epoch 0::  68%|██████▊   | 34/50 [00:04<00:02,  6.85it/s, model/all/train/loss=0.631, model/all/train/lr=0.0001]"
>>>>>>> Update
     ]
    },
    {
     "name": "stderr",
     "output_type": "stream",
     "text": [
      "\r",
<<<<<<< HEAD
      "Epoch 0::  56%|█████▌    | 14/25 [00:14<00:11,  1.06s/it, model/all/train/loss=0.602, model/all/train/lr=0.0001]"
=======
      "Epoch 0::  70%|███████   | 35/50 [00:04<00:02,  6.96it/s, model/all/train/loss=0.631, model/all/train/lr=0.0001]"
>>>>>>> Update
     ]
    },
    {
     "name": "stderr",
     "output_type": "stream",
     "text": [
      "\r",
<<<<<<< HEAD
      "Epoch 0::  56%|█████▌    | 14/25 [00:15<00:11,  1.06s/it, model/all/train/loss=0.592, model/all/train/lr=0.0001]"
=======
      "Epoch 0::  70%|███████   | 35/50 [00:05<00:02,  6.96it/s, model/all/train/loss=0.63, model/all/train/lr=0.0001] "
>>>>>>> Update
     ]
    },
    {
     "name": "stderr",
     "output_type": "stream",
     "text": [
      "\r",
<<<<<<< HEAD
      "Epoch 0::  60%|██████    | 15/25 [00:15<00:10,  1.06s/it, model/all/train/loss=0.592, model/all/train/lr=0.0001]"
=======
      "Epoch 0::  72%|███████▏  | 36/50 [00:05<00:02,  6.84it/s, model/all/train/loss=0.63, model/all/train/lr=0.0001]"
>>>>>>> Update
     ]
    },
    {
     "name": "stderr",
     "output_type": "stream",
     "text": [
      "\r",
<<<<<<< HEAD
      "Epoch 0::  60%|██████    | 15/25 [00:17<00:10,  1.06s/it, model/all/train/loss=0.581, model/all/train/lr=0.0001]"
=======
      "Epoch 0::  72%|███████▏  | 36/50 [00:05<00:02,  6.84it/s, model/all/train/loss=0.627, model/all/train/lr=0.0001]"
>>>>>>> Update
     ]
    },
    {
     "name": "stderr",
     "output_type": "stream",
     "text": [
      "\r",
<<<<<<< HEAD
      "Epoch 0::  64%|██████▍   | 16/25 [00:17<00:09,  1.06s/it, model/all/train/loss=0.581, model/all/train/lr=0.0001]"
=======
      "Epoch 0::  74%|███████▍  | 37/50 [00:05<00:01,  6.79it/s, model/all/train/loss=0.627, model/all/train/lr=0.0001]"
>>>>>>> Update
     ]
    },
    {
     "name": "stderr",
     "output_type": "stream",
     "text": [
      "\r",
<<<<<<< HEAD
      "Epoch 0::  64%|██████▍   | 16/25 [00:18<00:09,  1.06s/it, model/all/train/loss=0.572, model/all/train/lr=0.0001]"
=======
      "Epoch 0::  74%|███████▍  | 37/50 [00:05<00:01,  6.79it/s, model/all/train/loss=0.624, model/all/train/lr=0.0001]"
>>>>>>> Update
     ]
    },
    {
     "name": "stderr",
     "output_type": "stream",
     "text": [
      "\r",
<<<<<<< HEAD
      "Epoch 0::  68%|██████▊   | 17/25 [00:18<00:08,  1.05s/it, model/all/train/loss=0.572, model/all/train/lr=0.0001]"
=======
      "Epoch 0::  76%|███████▌  | 38/50 [00:05<00:01,  6.82it/s, model/all/train/loss=0.624, model/all/train/lr=0.0001]"
>>>>>>> Update
     ]
    },
    {
     "name": "stderr",
     "output_type": "stream",
     "text": [
      "\r",
<<<<<<< HEAD
      "Epoch 0::  68%|██████▊   | 17/25 [00:19<00:08,  1.05s/it, model/all/train/loss=0.557, model/all/train/lr=0.0001]"
=======
      "Epoch 0::  76%|███████▌  | 38/50 [00:05<00:01,  6.82it/s, model/all/train/loss=0.621, model/all/train/lr=0.0001]"
>>>>>>> Update
     ]
    },
    {
     "name": "stderr",
     "output_type": "stream",
     "text": [
      "\r",
<<<<<<< HEAD
      "Epoch 0::  72%|███████▏  | 18/25 [00:19<00:07,  1.05s/it, model/all/train/loss=0.557, model/all/train/lr=0.0001]"
=======
      "Epoch 0::  78%|███████▊  | 39/50 [00:05<00:01,  6.62it/s, model/all/train/loss=0.621, model/all/train/lr=0.0001]"
>>>>>>> Update
     ]
    },
    {
     "name": "stderr",
     "output_type": "stream",
     "text": [
      "\r",
<<<<<<< HEAD
      "Epoch 0::  72%|███████▏  | 18/25 [00:20<00:07,  1.05s/it, model/all/train/loss=0.545, model/all/train/lr=0.0001]"
=======
      "Epoch 0::  78%|███████▊  | 39/50 [00:05<00:01,  6.62it/s, model/all/train/loss=0.621, model/all/train/lr=0.0001]"
>>>>>>> Update
     ]
    },
    {
     "name": "stderr",
     "output_type": "stream",
     "text": [
      "\r",
<<<<<<< HEAD
      "Epoch 0::  76%|███████▌  | 19/25 [00:20<00:06,  1.05s/it, model/all/train/loss=0.545, model/all/train/lr=0.0001]"
=======
      "Epoch 0::  80%|████████  | 40/50 [00:05<00:01,  6.83it/s, model/all/train/loss=0.621, model/all/train/lr=0.0001]"
>>>>>>> Update
     ]
    },
    {
     "name": "stderr",
     "output_type": "stream",
     "text": [
      "\r",
<<<<<<< HEAD
      "Epoch 0::  76%|███████▌  | 19/25 [00:21<00:06,  1.05s/it, model/all/train/loss=0.53, model/all/train/lr=0.0001] "
=======
      "Epoch 0::  80%|████████  | 40/50 [00:05<00:01,  6.83it/s, model/all/train/loss=0.62, model/all/train/lr=0.0001] "
>>>>>>> Update
     ]
    },
    {
     "name": "stderr",
     "output_type": "stream",
     "text": [
      "\r",
<<<<<<< HEAD
      "Epoch 0::  80%|████████  | 20/25 [00:21<00:05,  1.07s/it, model/all/train/loss=0.53, model/all/train/lr=0.0001]"
=======
      "Epoch 0::  82%|████████▏ | 41/50 [00:05<00:01,  6.89it/s, model/all/train/loss=0.62, model/all/train/lr=0.0001]"
>>>>>>> Update
     ]
    },
    {
     "name": "stderr",
     "output_type": "stream",
     "text": [
      "\r",
<<<<<<< HEAD
      "Epoch 0::  80%|████████  | 20/25 [00:22<00:05,  1.07s/it, model/all/train/loss=0.517, model/all/train/lr=0.0001]"
=======
      "Epoch 0::  82%|████████▏ | 41/50 [00:05<00:01,  6.89it/s, model/all/train/loss=0.619, model/all/train/lr=0.0001]"
>>>>>>> Update
     ]
    },
    {
     "name": "stderr",
     "output_type": "stream",
     "text": [
      "\r",
<<<<<<< HEAD
      "Epoch 0::  84%|████████▍ | 21/25 [00:22<00:04,  1.07s/it, model/all/train/loss=0.517, model/all/train/lr=0.0001]"
=======
      "Epoch 0::  84%|████████▍ | 42/50 [00:05<00:01,  7.01it/s, model/all/train/loss=0.619, model/all/train/lr=0.0001]"
>>>>>>> Update
     ]
    },
    {
     "name": "stderr",
     "output_type": "stream",
     "text": [
      "\r",
<<<<<<< HEAD
      "Epoch 0::  84%|████████▍ | 21/25 [00:23<00:04,  1.07s/it, model/all/train/loss=0.503, model/all/train/lr=0.0001]"
=======
      "Epoch 0::  84%|████████▍ | 42/50 [00:06<00:01,  7.01it/s, model/all/train/loss=0.617, model/all/train/lr=0.0001]"
>>>>>>> Update
     ]
    },
    {
     "name": "stderr",
     "output_type": "stream",
     "text": [
      "\r",
<<<<<<< HEAD
      "Epoch 0::  88%|████████▊ | 22/25 [00:23<00:03,  1.10s/it, model/all/train/loss=0.503, model/all/train/lr=0.0001]"
=======
      "Epoch 0::  86%|████████▌ | 43/50 [00:06<00:01,  6.82it/s, model/all/train/loss=0.617, model/all/train/lr=0.0001]"
>>>>>>> Update
     ]
    },
    {
     "name": "stderr",
     "output_type": "stream",
     "text": [
      "\r",
<<<<<<< HEAD
      "Epoch 0::  88%|████████▊ | 22/25 [00:24<00:03,  1.10s/it, model/all/train/loss=0.492, model/all/train/lr=0.0001]"
=======
      "Epoch 0::  86%|████████▌ | 43/50 [00:06<00:01,  6.82it/s, model/all/train/loss=0.617, model/all/train/lr=0.0001]"
>>>>>>> Update
     ]
    },
    {
     "name": "stderr",
     "output_type": "stream",
     "text": [
      "\r",
<<<<<<< HEAD
      "Epoch 0::  92%|█████████▏| 23/25 [00:24<00:02,  1.08s/it, model/all/train/loss=0.492, model/all/train/lr=0.0001]"
=======
      "Epoch 0::  88%|████████▊ | 44/50 [00:06<00:00,  6.98it/s, model/all/train/loss=0.617, model/all/train/lr=0.0001]"
>>>>>>> Update
     ]
    },
    {
     "name": "stderr",
     "output_type": "stream",
     "text": [
      "\r",
<<<<<<< HEAD
      "Epoch 0::  92%|█████████▏| 23/25 [00:25<00:02,  1.08s/it, model/all/train/loss=0.477, model/all/train/lr=0.0001]"
=======
      "Epoch 0::  88%|████████▊ | 44/50 [00:06<00:00,  6.98it/s, model/all/train/loss=0.615, model/all/train/lr=0.0001]"
>>>>>>> Update
     ]
    },
    {
     "name": "stderr",
     "output_type": "stream",
     "text": [
      "\r",
<<<<<<< HEAD
      "Epoch 0::  96%|█████████▌| 24/25 [00:25<00:01,  1.08s/it, model/all/train/loss=0.477, model/all/train/lr=0.0001]"
=======
      "Epoch 0::  90%|█████████ | 45/50 [00:06<00:00,  6.85it/s, model/all/train/loss=0.615, model/all/train/lr=0.0001]"
>>>>>>> Update
     ]
    },
    {
     "name": "stderr",
     "output_type": "stream",
     "text": [
      "\r",
<<<<<<< HEAD
      "Epoch 0::  96%|█████████▌| 24/25 [00:26<00:01,  1.08s/it, model/all/train/loss=0.472, model/all/train/lr=0.0001, task/SnorkelDataset/valid/accuracy=0.908, task/SnorkelDataset/valid/f1=0.893]"
=======
      "Epoch 0::  90%|█████████ | 45/50 [00:06<00:00,  6.85it/s, model/all/train/loss=0.614, model/all/train/lr=0.0001]"
>>>>>>> Update
     ]
    },
    {
     "name": "stderr",
     "output_type": "stream",
     "text": [
      "\r",
<<<<<<< HEAD
      "Epoch 0:: 100%|██████████| 25/25 [00:26<00:00,  1.11s/it, model/all/train/loss=0.472, model/all/train/lr=0.0001, task/SnorkelDataset/valid/accuracy=0.908, task/SnorkelDataset/valid/f1=0.893]"
=======
      "Epoch 0::  92%|█████████▏| 46/50 [00:06<00:00,  6.66it/s, model/all/train/loss=0.614, model/all/train/lr=0.0001]"
>>>>>>> Update
     ]
    },
    {
     "name": "stderr",
     "output_type": "stream",
     "text": [
      "\n",
      "\r",
<<<<<<< HEAD
      "Epoch 1::   0%|          | 0/25 [00:00<?, ?it/s]"
=======
      "Epoch 0::  92%|█████████▏| 46/50 [00:06<00:00,  6.66it/s, model/all/train/loss=0.614, model/all/train/lr=0.0001]"
>>>>>>> Update
     ]
    },
    {
     "name": "stderr",
     "output_type": "stream",
     "text": [
      "\r",
<<<<<<< HEAD
      "Epoch 1::   0%|          | 0/25 [00:01<?, ?it/s, model/all/train/loss=0.102, model/all/train/lr=0.0001, task/SnorkelDataset/valid/accuracy=0.908, task/SnorkelDataset/valid/f1=0.893]"
=======
      "Epoch 0::  94%|█████████▍| 47/50 [00:06<00:00,  6.77it/s, model/all/train/loss=0.614, model/all/train/lr=0.0001]"
>>>>>>> Update
     ]
    },
    {
     "name": "stderr",
     "output_type": "stream",
     "text": [
      "\r",
<<<<<<< HEAD
      "Epoch 1::   4%|▍         | 1/25 [00:01<00:25,  1.04s/it, model/all/train/loss=0.102, model/all/train/lr=0.0001, task/SnorkelDataset/valid/accuracy=0.908, task/SnorkelDataset/valid/f1=0.893]"
=======
      "Epoch 0::  94%|█████████▍| 47/50 [00:06<00:00,  6.77it/s, model/all/train/loss=0.613, model/all/train/lr=0.0001]"
>>>>>>> Update
     ]
    },
    {
     "name": "stderr",
     "output_type": "stream",
     "text": [
      "\r",
<<<<<<< HEAD
      "Epoch 1::   4%|▍         | 1/25 [00:02<00:25,  1.04s/it, model/all/train/loss=0.114, model/all/train/lr=0.0001, task/SnorkelDataset/valid/accuracy=0.908, task/SnorkelDataset/valid/f1=0.893]"
=======
      "Epoch 0::  96%|█████████▌| 48/50 [00:06<00:00,  6.78it/s, model/all/train/loss=0.613, model/all/train/lr=0.0001]"
>>>>>>> Update
     ]
    },
    {
     "name": "stderr",
     "output_type": "stream",
     "text": [
      "\r",
<<<<<<< HEAD
      "Epoch 1::   8%|▊         | 2/25 [00:02<00:24,  1.05s/it, model/all/train/loss=0.114, model/all/train/lr=0.0001, task/SnorkelDataset/valid/accuracy=0.908, task/SnorkelDataset/valid/f1=0.893]"
=======
      "Epoch 0::  96%|█████████▌| 48/50 [00:06<00:00,  6.78it/s, model/all/train/loss=0.611, model/all/train/lr=0.0001]"
>>>>>>> Update
     ]
    },
    {
     "name": "stderr",
     "output_type": "stream",
     "text": [
      "\r",
<<<<<<< HEAD
      "Epoch 1::   8%|▊         | 2/25 [00:03<00:24,  1.05s/it, model/all/train/loss=0.137, model/all/train/lr=0.0001, task/SnorkelDataset/valid/accuracy=0.908, task/SnorkelDataset/valid/f1=0.893]"
=======
      "Epoch 0::  98%|█████████▊| 49/50 [00:06<00:00,  6.88it/s, model/all/train/loss=0.611, model/all/train/lr=0.0001]"
>>>>>>> Update
     ]
    },
    {
     "name": "stderr",
     "output_type": "stream",
     "text": [
      "\r",
<<<<<<< HEAD
      "Epoch 1::  12%|█▏        | 3/25 [00:03<00:23,  1.06s/it, model/all/train/loss=0.137, model/all/train/lr=0.0001, task/SnorkelDataset/valid/accuracy=0.908, task/SnorkelDataset/valid/f1=0.893]"
=======
      "Epoch 0::  98%|█████████▊| 49/50 [00:07<00:00,  6.88it/s, model/all/train/loss=0.61, model/all/train/lr=0.0001, spam_task/spam_dataset/valid/accuracy=0.9, spam_task/spam_dataset/valid/f1=0.898]"
>>>>>>> Update
     ]
    },
    {
     "name": "stderr",
     "output_type": "stream",
     "text": [
      "\r",
<<<<<<< HEAD
      "Epoch 1::  12%|█▏        | 3/25 [00:04<00:23,  1.06s/it, model/all/train/loss=0.176, model/all/train/lr=0.0001, task/SnorkelDataset/valid/accuracy=0.908, task/SnorkelDataset/valid/f1=0.893]"
=======
      "Epoch 0:: 100%|██████████| 50/50 [00:07<00:00,  6.45it/s, model/all/train/loss=0.61, model/all/train/lr=0.0001, spam_task/spam_dataset/valid/accuracy=0.9, spam_task/spam_dataset/valid/f1=0.898]"
>>>>>>> Update
     ]
    },
    {
     "name": "stderr",
     "output_type": "stream",
     "text": [
      "\r",
      "Epoch 1::  16%|█▌        | 4/25 [00:04<00:22,  1.07s/it, model/all/train/loss=0.176, model/all/train/lr=0.0001, task/SnorkelDataset/valid/accuracy=0.908, task/SnorkelDataset/valid/f1=0.893]"
     ]
    },
    {
     "name": "stderr",
     "output_type": "stream",
     "text": [
      "\r",
      "Epoch 1::  16%|█▌        | 4/25 [00:05<00:22,  1.07s/it, model/all/train/loss=0.163, model/all/train/lr=0.0001, task/SnorkelDataset/valid/accuracy=0.908, task/SnorkelDataset/valid/f1=0.893]"
     ]
    },
    {
     "name": "stderr",
     "output_type": "stream",
     "text": [
      "\r",
<<<<<<< HEAD
      "Epoch 1::  20%|██        | 5/25 [00:05<00:21,  1.07s/it, model/all/train/loss=0.163, model/all/train/lr=0.0001, task/SnorkelDataset/valid/accuracy=0.908, task/SnorkelDataset/valid/f1=0.893]"
=======
      "Epoch 1::   2%|▏         | 1/50 [00:00<00:07,  6.87it/s, model/all/train/loss=0.523, model/all/train/lr=0.0001, spam_task/spam_dataset/valid/accuracy=0.9, spam_task/spam_dataset/valid/f1=0.898]"
>>>>>>> Update
     ]
    },
    {
     "name": "stderr",
     "output_type": "stream",
     "text": [
      "\r",
<<<<<<< HEAD
      "Epoch 1::  20%|██        | 5/25 [00:06<00:21,  1.07s/it, model/all/train/loss=0.147, model/all/train/lr=0.0001, task/SnorkelDataset/valid/accuracy=0.908, task/SnorkelDataset/valid/f1=0.893]"
=======
      "Epoch 1::   2%|▏         | 1/50 [00:00<00:07,  6.87it/s, model/all/train/loss=0.514, model/all/train/lr=0.0001, spam_task/spam_dataset/valid/accuracy=0.9, spam_task/spam_dataset/valid/f1=0.898]"
>>>>>>> Update
     ]
    },
    {
     "name": "stderr",
     "output_type": "stream",
     "text": [
      "\r",
<<<<<<< HEAD
      "Epoch 1::  24%|██▍       | 6/25 [00:06<00:20,  1.08s/it, model/all/train/loss=0.147, model/all/train/lr=0.0001, task/SnorkelDataset/valid/accuracy=0.908, task/SnorkelDataset/valid/f1=0.893]"
=======
      "Epoch 1::   4%|▍         | 2/50 [00:00<00:06,  7.03it/s, model/all/train/loss=0.514, model/all/train/lr=0.0001, spam_task/spam_dataset/valid/accuracy=0.9, spam_task/spam_dataset/valid/f1=0.898]"
>>>>>>> Update
     ]
    },
    {
     "name": "stderr",
     "output_type": "stream",
     "text": [
      "\r",
<<<<<<< HEAD
      "Epoch 1::  24%|██▍       | 6/25 [00:07<00:20,  1.08s/it, model/all/train/loss=0.136, model/all/train/lr=0.0001, task/SnorkelDataset/valid/accuracy=0.908, task/SnorkelDataset/valid/f1=0.893]"
=======
      "Epoch 1::   4%|▍         | 2/50 [00:00<00:06,  7.03it/s, model/all/train/loss=0.501, model/all/train/lr=0.0001, spam_task/spam_dataset/valid/accuracy=0.9, spam_task/spam_dataset/valid/f1=0.898]"
>>>>>>> Update
     ]
    },
    {
     "name": "stderr",
     "output_type": "stream",
     "text": [
      "\r",
<<<<<<< HEAD
      "Epoch 1::  28%|██▊       | 7/25 [00:07<00:19,  1.10s/it, model/all/train/loss=0.136, model/all/train/lr=0.0001, task/SnorkelDataset/valid/accuracy=0.908, task/SnorkelDataset/valid/f1=0.893]"
=======
      "Epoch 1::   6%|▌         | 3/50 [00:00<00:06,  7.16it/s, model/all/train/loss=0.501, model/all/train/lr=0.0001, spam_task/spam_dataset/valid/accuracy=0.9, spam_task/spam_dataset/valid/f1=0.898]"
>>>>>>> Update
     ]
    },
    {
     "name": "stderr",
     "output_type": "stream",
     "text": [
      "\r",
<<<<<<< HEAD
      "Epoch 1::  28%|██▊       | 7/25 [00:08<00:19,  1.10s/it, model/all/train/loss=0.149, model/all/train/lr=0.0001, task/SnorkelDataset/valid/accuracy=0.908, task/SnorkelDataset/valid/f1=0.893]"
=======
      "Epoch 1::   6%|▌         | 3/50 [00:00<00:06,  7.16it/s, model/all/train/loss=0.501, model/all/train/lr=0.0001, spam_task/spam_dataset/valid/accuracy=0.9, spam_task/spam_dataset/valid/f1=0.898]"
>>>>>>> Update
     ]
    },
    {
     "name": "stderr",
     "output_type": "stream",
     "text": [
      "\r",
<<<<<<< HEAD
      "Epoch 1::  32%|███▏      | 8/25 [00:08<00:18,  1.09s/it, model/all/train/loss=0.149, model/all/train/lr=0.0001, task/SnorkelDataset/valid/accuracy=0.908, task/SnorkelDataset/valid/f1=0.893]"
=======
      "Epoch 1::   8%|▊         | 4/50 [00:00<00:06,  7.23it/s, model/all/train/loss=0.501, model/all/train/lr=0.0001, spam_task/spam_dataset/valid/accuracy=0.9, spam_task/spam_dataset/valid/f1=0.898]"
>>>>>>> Update
     ]
    },
    {
     "name": "stderr",
     "output_type": "stream",
     "text": [
      "\r",
<<<<<<< HEAD
      "Epoch 1::  32%|███▏      | 8/25 [00:09<00:18,  1.09s/it, model/all/train/loss=0.143, model/all/train/lr=0.0001, task/SnorkelDataset/valid/accuracy=0.908, task/SnorkelDataset/valid/f1=0.893]"
=======
      "Epoch 1::   8%|▊         | 4/50 [00:00<00:06,  7.23it/s, model/all/train/loss=0.507, model/all/train/lr=0.0001, spam_task/spam_dataset/valid/accuracy=0.9, spam_task/spam_dataset/valid/f1=0.898]"
>>>>>>> Update
     ]
    },
    {
     "name": "stderr",
     "output_type": "stream",
     "text": [
      "\r",
<<<<<<< HEAD
      "Epoch 1::  36%|███▌      | 9/25 [00:09<00:17,  1.08s/it, model/all/train/loss=0.143, model/all/train/lr=0.0001, task/SnorkelDataset/valid/accuracy=0.908, task/SnorkelDataset/valid/f1=0.893]"
=======
      "Epoch 1::  10%|█         | 5/50 [00:00<00:06,  7.19it/s, model/all/train/loss=0.507, model/all/train/lr=0.0001, spam_task/spam_dataset/valid/accuracy=0.9, spam_task/spam_dataset/valid/f1=0.898]"
>>>>>>> Update
     ]
    },
    {
     "name": "stderr",
     "output_type": "stream",
     "text": [
      "\r",
<<<<<<< HEAD
      "Epoch 1::  36%|███▌      | 9/25 [00:10<00:17,  1.08s/it, model/all/train/loss=0.134, model/all/train/lr=0.0001, task/SnorkelDataset/valid/accuracy=0.908, task/SnorkelDataset/valid/f1=0.893]"
=======
      "Epoch 1::  10%|█         | 5/50 [00:00<00:06,  7.19it/s, model/all/train/loss=0.509, model/all/train/lr=0.0001, spam_task/spam_dataset/valid/accuracy=0.9, spam_task/spam_dataset/valid/f1=0.898]"
>>>>>>> Update
     ]
    },
    {
     "name": "stderr",
     "output_type": "stream",
     "text": [
      "\r",
<<<<<<< HEAD
      "Epoch 1::  40%|████      | 10/25 [00:10<00:16,  1.08s/it, model/all/train/loss=0.134, model/all/train/lr=0.0001, task/SnorkelDataset/valid/accuracy=0.908, task/SnorkelDataset/valid/f1=0.893]"
=======
      "Epoch 1::  12%|█▏        | 6/50 [00:00<00:06,  7.30it/s, model/all/train/loss=0.509, model/all/train/lr=0.0001, spam_task/spam_dataset/valid/accuracy=0.9, spam_task/spam_dataset/valid/f1=0.898]"
>>>>>>> Update
     ]
    },
    {
     "name": "stderr",
     "output_type": "stream",
     "text": [
      "\r",
<<<<<<< HEAD
      "Epoch 1::  40%|████      | 10/25 [00:11<00:16,  1.08s/it, model/all/train/loss=0.136, model/all/train/lr=0.0001, task/SnorkelDataset/valid/accuracy=0.908, task/SnorkelDataset/valid/f1=0.893]"
=======
      "Epoch 1::  12%|█▏        | 6/50 [00:00<00:06,  7.30it/s, model/all/train/loss=0.506, model/all/train/lr=0.0001, spam_task/spam_dataset/valid/accuracy=0.9, spam_task/spam_dataset/valid/f1=0.898]"
>>>>>>> Update
     ]
    },
    {
     "name": "stderr",
     "output_type": "stream",
     "text": [
      "\r",
<<<<<<< HEAD
      "Epoch 1::  44%|████▍     | 11/25 [00:11<00:15,  1.07s/it, model/all/train/loss=0.136, model/all/train/lr=0.0001, task/SnorkelDataset/valid/accuracy=0.908, task/SnorkelDataset/valid/f1=0.893]"
=======
      "Epoch 1::  14%|█▍        | 7/50 [00:00<00:06,  7.06it/s, model/all/train/loss=0.506, model/all/train/lr=0.0001, spam_task/spam_dataset/valid/accuracy=0.9, spam_task/spam_dataset/valid/f1=0.898]"
>>>>>>> Update
     ]
    },
    {
     "name": "stderr",
     "output_type": "stream",
     "text": [
      "\r",
<<<<<<< HEAD
      "Epoch 1::  44%|████▍     | 11/25 [00:12<00:15,  1.07s/it, model/all/train/loss=0.131, model/all/train/lr=0.0001, task/SnorkelDataset/valid/accuracy=0.908, task/SnorkelDataset/valid/f1=0.893]"
=======
      "Epoch 1::  14%|█▍        | 7/50 [00:01<00:06,  7.06it/s, model/all/train/loss=0.491, model/all/train/lr=0.0001, spam_task/spam_dataset/valid/accuracy=0.9, spam_task/spam_dataset/valid/f1=0.898]"
>>>>>>> Update
     ]
    },
    {
     "name": "stderr",
     "output_type": "stream",
     "text": [
      "\r",
<<<<<<< HEAD
      "Epoch 1::  48%|████▊     | 12/25 [00:12<00:13,  1.08s/it, model/all/train/loss=0.131, model/all/train/lr=0.0001, task/SnorkelDataset/valid/accuracy=0.908, task/SnorkelDataset/valid/f1=0.893]"
=======
      "Epoch 1::  16%|█▌        | 8/50 [00:01<00:06,  6.89it/s, model/all/train/loss=0.491, model/all/train/lr=0.0001, spam_task/spam_dataset/valid/accuracy=0.9, spam_task/spam_dataset/valid/f1=0.898]"
>>>>>>> Update
     ]
    },
    {
     "name": "stderr",
     "output_type": "stream",
     "text": [
      "\r",
<<<<<<< HEAD
      "Epoch 1::  48%|████▊     | 12/25 [00:14<00:13,  1.08s/it, model/all/train/loss=0.128, model/all/train/lr=0.0001, task/SnorkelDataset/valid/accuracy=0.908, task/SnorkelDataset/valid/f1=0.893]"
=======
      "Epoch 1::  16%|█▌        | 8/50 [00:01<00:06,  6.89it/s, model/all/train/loss=0.489, model/all/train/lr=0.0001, spam_task/spam_dataset/valid/accuracy=0.9, spam_task/spam_dataset/valid/f1=0.898]"
>>>>>>> Update
     ]
    },
    {
     "name": "stderr",
     "output_type": "stream",
     "text": [
      "\r",
<<<<<<< HEAD
      "Epoch 1::  52%|█████▏    | 13/25 [00:14<00:12,  1.08s/it, model/all/train/loss=0.128, model/all/train/lr=0.0001, task/SnorkelDataset/valid/accuracy=0.908, task/SnorkelDataset/valid/f1=0.893]"
=======
      "Epoch 1::  18%|█▊        | 9/50 [00:01<00:05,  6.97it/s, model/all/train/loss=0.489, model/all/train/lr=0.0001, spam_task/spam_dataset/valid/accuracy=0.9, spam_task/spam_dataset/valid/f1=0.898]"
>>>>>>> Update
     ]
    },
    {
     "name": "stderr",
     "output_type": "stream",
     "text": [
      "\r",
<<<<<<< HEAD
      "Epoch 1::  52%|█████▏    | 13/25 [00:15<00:12,  1.08s/it, model/all/train/loss=0.125, model/all/train/lr=0.0001, task/SnorkelDataset/valid/accuracy=0.908, task/SnorkelDataset/valid/f1=0.893]"
=======
      "Epoch 1::  18%|█▊        | 9/50 [00:01<00:05,  6.97it/s, model/all/train/loss=0.485, model/all/train/lr=0.0001, spam_task/spam_dataset/valid/accuracy=0.9, spam_task/spam_dataset/valid/f1=0.898]"
>>>>>>> Update
     ]
    },
    {
     "name": "stderr",
     "output_type": "stream",
     "text": [
      "\r",
<<<<<<< HEAD
      "Epoch 1::  56%|█████▌    | 14/25 [00:15<00:11,  1.08s/it, model/all/train/loss=0.125, model/all/train/lr=0.0001, task/SnorkelDataset/valid/accuracy=0.908, task/SnorkelDataset/valid/f1=0.893]"
=======
      "Epoch 1::  20%|██        | 10/50 [00:01<00:05,  7.05it/s, model/all/train/loss=0.485, model/all/train/lr=0.0001, spam_task/spam_dataset/valid/accuracy=0.9, spam_task/spam_dataset/valid/f1=0.898]"
>>>>>>> Update
     ]
    },
    {
     "name": "stderr",
     "output_type": "stream",
     "text": [
      "\r",
<<<<<<< HEAD
      "Epoch 1::  56%|█████▌    | 14/25 [00:16<00:11,  1.08s/it, model/all/train/loss=0.121, model/all/train/lr=0.0001, task/SnorkelDataset/valid/accuracy=0.908, task/SnorkelDataset/valid/f1=0.893]"
=======
      "Epoch 1::  20%|██        | 10/50 [00:01<00:05,  7.05it/s, model/all/train/loss=0.482, model/all/train/lr=0.0001, spam_task/spam_dataset/valid/accuracy=0.9, spam_task/spam_dataset/valid/f1=0.898]"
>>>>>>> Update
     ]
    },
    {
     "name": "stderr",
     "output_type": "stream",
     "text": [
      "\r",
<<<<<<< HEAD
      "Epoch 1::  60%|██████    | 15/25 [00:16<00:11,  1.13s/it, model/all/train/loss=0.121, model/all/train/lr=0.0001, task/SnorkelDataset/valid/accuracy=0.908, task/SnorkelDataset/valid/f1=0.893]"
=======
      "Epoch 1::  22%|██▏       | 11/50 [00:01<00:05,  6.85it/s, model/all/train/loss=0.482, model/all/train/lr=0.0001, spam_task/spam_dataset/valid/accuracy=0.9, spam_task/spam_dataset/valid/f1=0.898]"
>>>>>>> Update
     ]
    },
    {
     "name": "stderr",
     "output_type": "stream",
     "text": [
      "\r",
<<<<<<< HEAD
      "Epoch 1::  60%|██████    | 15/25 [00:17<00:11,  1.13s/it, model/all/train/loss=0.114, model/all/train/lr=0.0001, task/SnorkelDataset/valid/accuracy=0.908, task/SnorkelDataset/valid/f1=0.893]"
=======
      "Epoch 1::  22%|██▏       | 11/50 [00:01<00:05,  6.85it/s, model/all/train/loss=0.48, model/all/train/lr=0.0001, spam_task/spam_dataset/valid/accuracy=0.9, spam_task/spam_dataset/valid/f1=0.898] "
>>>>>>> Update
     ]
    },
    {
     "name": "stderr",
     "output_type": "stream",
     "text": [
      "\r",
<<<<<<< HEAD
      "Epoch 1::  64%|██████▍   | 16/25 [00:17<00:09,  1.10s/it, model/all/train/loss=0.114, model/all/train/lr=0.0001, task/SnorkelDataset/valid/accuracy=0.908, task/SnorkelDataset/valid/f1=0.893]"
=======
      "Epoch 1::  24%|██▍       | 12/50 [00:01<00:05,  6.79it/s, model/all/train/loss=0.48, model/all/train/lr=0.0001, spam_task/spam_dataset/valid/accuracy=0.9, spam_task/spam_dataset/valid/f1=0.898]"
>>>>>>> Update
     ]
    },
    {
     "name": "stderr",
     "output_type": "stream",
     "text": [
      "\r",
<<<<<<< HEAD
      "Epoch 1::  64%|██████▍   | 16/25 [00:18<00:09,  1.10s/it, model/all/train/loss=0.109, model/all/train/lr=0.0001, task/SnorkelDataset/valid/accuracy=0.908, task/SnorkelDataset/valid/f1=0.893]"
=======
      "Epoch 1::  24%|██▍       | 12/50 [00:01<00:05,  6.79it/s, model/all/train/loss=0.477, model/all/train/lr=0.0001, spam_task/spam_dataset/valid/accuracy=0.9, spam_task/spam_dataset/valid/f1=0.898]"
>>>>>>> Update
     ]
    },
    {
     "name": "stderr",
     "output_type": "stream",
     "text": [
      "\r",
<<<<<<< HEAD
      "Epoch 1::  68%|██████▊   | 17/25 [00:18<00:08,  1.09s/it, model/all/train/loss=0.109, model/all/train/lr=0.0001, task/SnorkelDataset/valid/accuracy=0.908, task/SnorkelDataset/valid/f1=0.893]"
=======
      "Epoch 1::  26%|██▌       | 13/50 [00:01<00:05,  6.72it/s, model/all/train/loss=0.477, model/all/train/lr=0.0001, spam_task/spam_dataset/valid/accuracy=0.9, spam_task/spam_dataset/valid/f1=0.898]"
>>>>>>> Update
     ]
    },
    {
     "name": "stderr",
     "output_type": "stream",
     "text": [
      "\r",
<<<<<<< HEAD
      "Epoch 1::  68%|██████▊   | 17/25 [00:19<00:08,  1.09s/it, model/all/train/loss=0.108, model/all/train/lr=0.0001, task/SnorkelDataset/valid/accuracy=0.908, task/SnorkelDataset/valid/f1=0.893]"
=======
      "Epoch 1::  26%|██▌       | 13/50 [00:02<00:05,  6.72it/s, model/all/train/loss=0.478, model/all/train/lr=0.0001, spam_task/spam_dataset/valid/accuracy=0.9, spam_task/spam_dataset/valid/f1=0.898]"
>>>>>>> Update
     ]
    },
    {
     "name": "stderr",
     "output_type": "stream",
     "text": [
      "\r",
<<<<<<< HEAD
      "Epoch 1::  72%|███████▏  | 18/25 [00:19<00:07,  1.09s/it, model/all/train/loss=0.108, model/all/train/lr=0.0001, task/SnorkelDataset/valid/accuracy=0.908, task/SnorkelDataset/valid/f1=0.893]"
     ]
    },
=======
      "Epoch 1::  28%|██▊       | 14/50 [00:02<00:05,  6.70it/s, model/all/train/loss=0.478, model/all/train/lr=0.0001, spam_task/spam_dataset/valid/accuracy=0.9, spam_task/spam_dataset/valid/f1=0.898]"
     ]
    },
    {
     "name": "stderr",
     "output_type": "stream",
     "text": [
      "\r",
      "Epoch 1::  28%|██▊       | 14/50 [00:02<00:05,  6.70it/s, model/all/train/loss=0.473, model/all/train/lr=0.0001, spam_task/spam_dataset/valid/accuracy=0.9, spam_task/spam_dataset/valid/f1=0.898]"
     ]
    },
    {
     "name": "stderr",
     "output_type": "stream",
     "text": [
      "\r",
      "Epoch 1::  30%|███       | 15/50 [00:02<00:05,  6.65it/s, model/all/train/loss=0.473, model/all/train/lr=0.0001, spam_task/spam_dataset/valid/accuracy=0.9, spam_task/spam_dataset/valid/f1=0.898]"
     ]
    },
    {
     "name": "stderr",
     "output_type": "stream",
     "text": [
      "\r",
      "Epoch 1::  30%|███       | 15/50 [00:02<00:05,  6.65it/s, model/all/train/loss=0.475, model/all/train/lr=0.0001, spam_task/spam_dataset/valid/accuracy=0.9, spam_task/spam_dataset/valid/f1=0.898]"
     ]
    },
    {
     "name": "stderr",
     "output_type": "stream",
     "text": [
      "\r",
      "Epoch 1::  32%|███▏      | 16/50 [00:02<00:05,  6.61it/s, model/all/train/loss=0.475, model/all/train/lr=0.0001, spam_task/spam_dataset/valid/accuracy=0.9, spam_task/spam_dataset/valid/f1=0.898]"
     ]
    },
    {
     "name": "stderr",
     "output_type": "stream",
     "text": [
      "\r",
      "Epoch 1::  32%|███▏      | 16/50 [00:02<00:05,  6.61it/s, model/all/train/loss=0.473, model/all/train/lr=0.0001, spam_task/spam_dataset/valid/accuracy=0.9, spam_task/spam_dataset/valid/f1=0.898]"
     ]
    },
    {
     "name": "stderr",
     "output_type": "stream",
     "text": [
      "\r",
      "Epoch 1::  34%|███▍      | 17/50 [00:02<00:04,  6.62it/s, model/all/train/loss=0.473, model/all/train/lr=0.0001, spam_task/spam_dataset/valid/accuracy=0.9, spam_task/spam_dataset/valid/f1=0.898]"
     ]
    },
    {
     "name": "stderr",
     "output_type": "stream",
     "text": [
      "\r",
      "Epoch 1::  34%|███▍      | 17/50 [00:02<00:04,  6.62it/s, model/all/train/loss=0.47, model/all/train/lr=0.0001, spam_task/spam_dataset/valid/accuracy=0.9, spam_task/spam_dataset/valid/f1=0.898] "
     ]
    },
    {
     "name": "stderr",
     "output_type": "stream",
     "text": [
      "\r",
      "Epoch 1::  36%|███▌      | 18/50 [00:02<00:04,  6.75it/s, model/all/train/loss=0.47, model/all/train/lr=0.0001, spam_task/spam_dataset/valid/accuracy=0.9, spam_task/spam_dataset/valid/f1=0.898]"
     ]
    },
    {
     "name": "stderr",
     "output_type": "stream",
     "text": [
      "\r",
      "Epoch 1::  36%|███▌      | 18/50 [00:02<00:04,  6.75it/s, model/all/train/loss=0.466, model/all/train/lr=0.0001, spam_task/spam_dataset/valid/accuracy=0.9, spam_task/spam_dataset/valid/f1=0.898]"
     ]
    },
    {
     "name": "stderr",
     "output_type": "stream",
     "text": [
      "\r",
      "Epoch 1::  38%|███▊      | 19/50 [00:02<00:04,  6.96it/s, model/all/train/loss=0.466, model/all/train/lr=0.0001, spam_task/spam_dataset/valid/accuracy=0.9, spam_task/spam_dataset/valid/f1=0.898]"
     ]
    },
    {
     "name": "stderr",
     "output_type": "stream",
     "text": [
      "\r",
      "Epoch 1::  38%|███▊      | 19/50 [00:02<00:04,  6.96it/s, model/all/train/loss=0.464, model/all/train/lr=0.0001, spam_task/spam_dataset/valid/accuracy=0.9, spam_task/spam_dataset/valid/f1=0.898]"
     ]
    },
    {
     "name": "stderr",
     "output_type": "stream",
     "text": [
      "\r",
      "Epoch 1::  40%|████      | 20/50 [00:02<00:04,  7.02it/s, model/all/train/loss=0.464, model/all/train/lr=0.0001, spam_task/spam_dataset/valid/accuracy=0.9, spam_task/spam_dataset/valid/f1=0.898]"
     ]
    },
    {
     "name": "stderr",
     "output_type": "stream",
     "text": [
      "\r",
      "Epoch 1::  40%|████      | 20/50 [00:03<00:04,  7.02it/s, model/all/train/loss=0.462, model/all/train/lr=0.0001, spam_task/spam_dataset/valid/accuracy=0.9, spam_task/spam_dataset/valid/f1=0.898]"
     ]
    },
    {
     "name": "stderr",
     "output_type": "stream",
     "text": [
      "\r",
      "Epoch 1::  42%|████▏     | 21/50 [00:03<00:04,  7.07it/s, model/all/train/loss=0.462, model/all/train/lr=0.0001, spam_task/spam_dataset/valid/accuracy=0.9, spam_task/spam_dataset/valid/f1=0.898]"
     ]
    },
    {
     "name": "stderr",
     "output_type": "stream",
     "text": [
      "\r",
      "Epoch 1::  42%|████▏     | 21/50 [00:03<00:04,  7.07it/s, model/all/train/loss=0.461, model/all/train/lr=0.0001, spam_task/spam_dataset/valid/accuracy=0.9, spam_task/spam_dataset/valid/f1=0.898]"
     ]
    },
    {
     "name": "stderr",
     "output_type": "stream",
     "text": [
      "\r",
      "Epoch 1::  44%|████▍     | 22/50 [00:03<00:04,  6.99it/s, model/all/train/loss=0.461, model/all/train/lr=0.0001, spam_task/spam_dataset/valid/accuracy=0.9, spam_task/spam_dataset/valid/f1=0.898]"
     ]
    },
    {
     "name": "stderr",
     "output_type": "stream",
     "text": [
      "\r",
      "Epoch 1::  44%|████▍     | 22/50 [00:03<00:04,  6.99it/s, model/all/train/loss=0.459, model/all/train/lr=0.0001, spam_task/spam_dataset/valid/accuracy=0.9, spam_task/spam_dataset/valid/f1=0.898]"
     ]
    },
    {
     "name": "stderr",
     "output_type": "stream",
     "text": [
      "\r",
      "Epoch 1::  46%|████▌     | 23/50 [00:03<00:03,  6.95it/s, model/all/train/loss=0.459, model/all/train/lr=0.0001, spam_task/spam_dataset/valid/accuracy=0.9, spam_task/spam_dataset/valid/f1=0.898]"
     ]
    },
    {
     "name": "stderr",
     "output_type": "stream",
     "text": [
      "\r",
      "Epoch 1::  46%|████▌     | 23/50 [00:03<00:03,  6.95it/s, model/all/train/loss=0.456, model/all/train/lr=0.0001, spam_task/spam_dataset/valid/accuracy=0.9, spam_task/spam_dataset/valid/f1=0.898]"
     ]
    },
    {
     "name": "stderr",
     "output_type": "stream",
     "text": [
      "\r",
      "Epoch 1::  48%|████▊     | 24/50 [00:03<00:03,  7.09it/s, model/all/train/loss=0.456, model/all/train/lr=0.0001, spam_task/spam_dataset/valid/accuracy=0.9, spam_task/spam_dataset/valid/f1=0.898]"
     ]
    },
    {
     "name": "stderr",
     "output_type": "stream",
     "text": [
      "\r",
      "Epoch 1::  48%|████▊     | 24/50 [00:03<00:03,  7.09it/s, model/all/train/loss=0.456, model/all/train/lr=0.0001, spam_task/spam_dataset/valid/accuracy=0.9, spam_task/spam_dataset/valid/f1=0.898]"
     ]
    },
    {
     "name": "stderr",
     "output_type": "stream",
     "text": [
      "\r",
      "Epoch 1::  50%|█████     | 25/50 [00:03<00:03,  7.17it/s, model/all/train/loss=0.456, model/all/train/lr=0.0001, spam_task/spam_dataset/valid/accuracy=0.9, spam_task/spam_dataset/valid/f1=0.898]"
     ]
    },
    {
     "name": "stderr",
     "output_type": "stream",
     "text": [
      "\r",
      "Epoch 1::  50%|█████     | 25/50 [00:03<00:03,  7.17it/s, model/all/train/loss=0.454, model/all/train/lr=0.0001, spam_task/spam_dataset/valid/accuracy=0.9, spam_task/spam_dataset/valid/f1=0.898]"
     ]
    },
    {
     "name": "stderr",
     "output_type": "stream",
     "text": [
      "\r",
      "Epoch 1::  52%|█████▏    | 26/50 [00:03<00:03,  7.27it/s, model/all/train/loss=0.454, model/all/train/lr=0.0001, spam_task/spam_dataset/valid/accuracy=0.9, spam_task/spam_dataset/valid/f1=0.898]"
     ]
    },
    {
     "name": "stderr",
     "output_type": "stream",
     "text": [
      "\r",
      "Epoch 1::  52%|█████▏    | 26/50 [00:03<00:03,  7.27it/s, model/all/train/loss=0.451, model/all/train/lr=0.0001, spam_task/spam_dataset/valid/accuracy=0.9, spam_task/spam_dataset/valid/f1=0.898]"
     ]
    },
    {
     "name": "stderr",
     "output_type": "stream",
     "text": [
      "\r",
      "Epoch 1::  54%|█████▍    | 27/50 [00:03<00:03,  7.11it/s, model/all/train/loss=0.451, model/all/train/lr=0.0001, spam_task/spam_dataset/valid/accuracy=0.9, spam_task/spam_dataset/valid/f1=0.898]"
     ]
    },
    {
     "name": "stderr",
     "output_type": "stream",
     "text": [
      "\r",
      "Epoch 1::  54%|█████▍    | 27/50 [00:04<00:03,  7.11it/s, model/all/train/loss=0.449, model/all/train/lr=0.0001, spam_task/spam_dataset/valid/accuracy=0.9, spam_task/spam_dataset/valid/f1=0.898]"
     ]
    },
    {
     "name": "stderr",
     "output_type": "stream",
     "text": [
      "\r",
      "Epoch 1::  56%|█████▌    | 28/50 [00:04<00:03,  7.23it/s, model/all/train/loss=0.449, model/all/train/lr=0.0001, spam_task/spam_dataset/valid/accuracy=0.9, spam_task/spam_dataset/valid/f1=0.898]"
     ]
    },
    {
     "name": "stderr",
     "output_type": "stream",
     "text": [
      "\r",
      "Epoch 1::  56%|█████▌    | 28/50 [00:04<00:03,  7.23it/s, model/all/train/loss=0.447, model/all/train/lr=0.0001, spam_task/spam_dataset/valid/accuracy=0.9, spam_task/spam_dataset/valid/f1=0.898]"
     ]
    },
    {
     "name": "stderr",
     "output_type": "stream",
     "text": [
      "\r",
      "Epoch 1::  58%|█████▊    | 29/50 [00:04<00:02,  7.30it/s, model/all/train/loss=0.447, model/all/train/lr=0.0001, spam_task/spam_dataset/valid/accuracy=0.9, spam_task/spam_dataset/valid/f1=0.898]"
     ]
    },
    {
     "name": "stderr",
     "output_type": "stream",
     "text": [
      "\r",
      "Epoch 1::  58%|█████▊    | 29/50 [00:04<00:02,  7.30it/s, model/all/train/loss=0.445, model/all/train/lr=0.0001, spam_task/spam_dataset/valid/accuracy=0.9, spam_task/spam_dataset/valid/f1=0.898]"
     ]
    },
    {
     "name": "stderr",
     "output_type": "stream",
     "text": [
      "\r",
      "Epoch 1::  60%|██████    | 30/50 [00:04<00:02,  7.32it/s, model/all/train/loss=0.445, model/all/train/lr=0.0001, spam_task/spam_dataset/valid/accuracy=0.9, spam_task/spam_dataset/valid/f1=0.898]"
     ]
    },
    {
     "name": "stderr",
     "output_type": "stream",
     "text": [
      "\r",
      "Epoch 1::  60%|██████    | 30/50 [00:04<00:02,  7.32it/s, model/all/train/loss=0.444, model/all/train/lr=0.0001, spam_task/spam_dataset/valid/accuracy=0.9, spam_task/spam_dataset/valid/f1=0.898]"
     ]
    },
    {
     "name": "stderr",
     "output_type": "stream",
     "text": [
      "\r",
      "Epoch 1::  62%|██████▏   | 31/50 [00:04<00:02,  7.17it/s, model/all/train/loss=0.444, model/all/train/lr=0.0001, spam_task/spam_dataset/valid/accuracy=0.9, spam_task/spam_dataset/valid/f1=0.898]"
     ]
    },
    {
     "name": "stderr",
     "output_type": "stream",
     "text": [
      "\r",
      "Epoch 1::  62%|██████▏   | 31/50 [00:04<00:02,  7.17it/s, model/all/train/loss=0.445, model/all/train/lr=0.0001, spam_task/spam_dataset/valid/accuracy=0.9, spam_task/spam_dataset/valid/f1=0.898]"
     ]
    },
    {
     "name": "stderr",
     "output_type": "stream",
     "text": [
      "\r",
      "Epoch 1::  64%|██████▍   | 32/50 [00:04<00:02,  7.06it/s, model/all/train/loss=0.445, model/all/train/lr=0.0001, spam_task/spam_dataset/valid/accuracy=0.9, spam_task/spam_dataset/valid/f1=0.898]"
     ]
    },
    {
     "name": "stderr",
     "output_type": "stream",
     "text": [
      "\r",
      "Epoch 1::  64%|██████▍   | 32/50 [00:04<00:02,  7.06it/s, model/all/train/loss=0.445, model/all/train/lr=0.0001, spam_task/spam_dataset/valid/accuracy=0.9, spam_task/spam_dataset/valid/f1=0.898]"
     ]
    },
    {
     "name": "stderr",
     "output_type": "stream",
     "text": [
      "\r",
      "Epoch 1::  66%|██████▌   | 33/50 [00:04<00:02,  7.19it/s, model/all/train/loss=0.445, model/all/train/lr=0.0001, spam_task/spam_dataset/valid/accuracy=0.9, spam_task/spam_dataset/valid/f1=0.898]"
     ]
    },
    {
     "name": "stderr",
     "output_type": "stream",
     "text": [
      "\r",
      "Epoch 1::  66%|██████▌   | 33/50 [00:04<00:02,  7.19it/s, model/all/train/loss=0.443, model/all/train/lr=0.0001, spam_task/spam_dataset/valid/accuracy=0.9, spam_task/spam_dataset/valid/f1=0.898]"
     ]
    },
    {
     "name": "stderr",
     "output_type": "stream",
     "text": [
      "\r",
      "Epoch 1::  68%|██████▊   | 34/50 [00:04<00:02,  7.12it/s, model/all/train/loss=0.443, model/all/train/lr=0.0001, spam_task/spam_dataset/valid/accuracy=0.9, spam_task/spam_dataset/valid/f1=0.898]"
     ]
    },
    {
     "name": "stderr",
     "output_type": "stream",
     "text": [
      "\r",
      "Epoch 1::  68%|██████▊   | 34/50 [00:04<00:02,  7.12it/s, model/all/train/loss=0.441, model/all/train/lr=0.0001, spam_task/spam_dataset/valid/accuracy=0.9, spam_task/spam_dataset/valid/f1=0.898]"
     ]
    },
    {
     "name": "stderr",
     "output_type": "stream",
     "text": [
      "\r",
      "Epoch 1::  70%|███████   | 35/50 [00:04<00:02,  7.22it/s, model/all/train/loss=0.441, model/all/train/lr=0.0001, spam_task/spam_dataset/valid/accuracy=0.9, spam_task/spam_dataset/valid/f1=0.898]"
     ]
    },
    {
     "name": "stderr",
     "output_type": "stream",
     "text": [
      "\r",
      "Epoch 1::  70%|███████   | 35/50 [00:05<00:02,  7.22it/s, model/all/train/loss=0.441, model/all/train/lr=0.0001, spam_task/spam_dataset/valid/accuracy=0.9, spam_task/spam_dataset/valid/f1=0.898]"
     ]
    },
    {
     "name": "stderr",
     "output_type": "stream",
     "text": [
      "\r",
      "Epoch 1::  72%|███████▏  | 36/50 [00:05<00:01,  7.12it/s, model/all/train/loss=0.441, model/all/train/lr=0.0001, spam_task/spam_dataset/valid/accuracy=0.9, spam_task/spam_dataset/valid/f1=0.898]"
     ]
    },
    {
     "name": "stderr",
     "output_type": "stream",
     "text": [
      "\r",
      "Epoch 1::  72%|███████▏  | 36/50 [00:05<00:01,  7.12it/s, model/all/train/loss=0.44, model/all/train/lr=0.0001, spam_task/spam_dataset/valid/accuracy=0.9, spam_task/spam_dataset/valid/f1=0.898] "
     ]
    },
    {
     "name": "stderr",
     "output_type": "stream",
     "text": [
      "\r",
      "Epoch 1::  74%|███████▍  | 37/50 [00:05<00:01,  7.24it/s, model/all/train/loss=0.44, model/all/train/lr=0.0001, spam_task/spam_dataset/valid/accuracy=0.9, spam_task/spam_dataset/valid/f1=0.898]"
     ]
    },
    {
     "name": "stderr",
     "output_type": "stream",
     "text": [
      "\r",
      "Epoch 1::  74%|███████▍  | 37/50 [00:05<00:01,  7.24it/s, model/all/train/loss=0.438, model/all/train/lr=0.0001, spam_task/spam_dataset/valid/accuracy=0.9, spam_task/spam_dataset/valid/f1=0.898]"
     ]
    },
    {
     "name": "stderr",
     "output_type": "stream",
     "text": [
      "\r",
      "Epoch 1::  76%|███████▌  | 38/50 [00:05<00:01,  7.22it/s, model/all/train/loss=0.438, model/all/train/lr=0.0001, spam_task/spam_dataset/valid/accuracy=0.9, spam_task/spam_dataset/valid/f1=0.898]"
     ]
    },
    {
     "name": "stderr",
     "output_type": "stream",
     "text": [
      "\r",
      "Epoch 1::  76%|███████▌  | 38/50 [00:05<00:01,  7.22it/s, model/all/train/loss=0.436, model/all/train/lr=0.0001, spam_task/spam_dataset/valid/accuracy=0.9, spam_task/spam_dataset/valid/f1=0.898]"
     ]
    },
    {
     "name": "stderr",
     "output_type": "stream",
     "text": [
      "\r",
      "Epoch 1::  78%|███████▊  | 39/50 [00:05<00:01,  7.11it/s, model/all/train/loss=0.436, model/all/train/lr=0.0001, spam_task/spam_dataset/valid/accuracy=0.9, spam_task/spam_dataset/valid/f1=0.898]"
     ]
    },
    {
     "name": "stderr",
     "output_type": "stream",
     "text": [
      "\r",
      "Epoch 1::  78%|███████▊  | 39/50 [00:05<00:01,  7.11it/s, model/all/train/loss=0.435, model/all/train/lr=0.0001, spam_task/spam_dataset/valid/accuracy=0.9, spam_task/spam_dataset/valid/f1=0.898]"
     ]
    },
    {
     "name": "stderr",
     "output_type": "stream",
     "text": [
      "\r",
      "Epoch 1::  80%|████████  | 40/50 [00:05<00:01,  7.21it/s, model/all/train/loss=0.435, model/all/train/lr=0.0001, spam_task/spam_dataset/valid/accuracy=0.9, spam_task/spam_dataset/valid/f1=0.898]"
     ]
    },
    {
     "name": "stderr",
     "output_type": "stream",
     "text": [
      "\r",
      "Epoch 1::  80%|████████  | 40/50 [00:05<00:01,  7.21it/s, model/all/train/loss=0.433, model/all/train/lr=0.0001, spam_task/spam_dataset/valid/accuracy=0.9, spam_task/spam_dataset/valid/f1=0.898]"
     ]
    },
    {
     "name": "stderr",
     "output_type": "stream",
     "text": [
      "\r",
      "Epoch 1::  82%|████████▏ | 41/50 [00:05<00:01,  7.15it/s, model/all/train/loss=0.433, model/all/train/lr=0.0001, spam_task/spam_dataset/valid/accuracy=0.9, spam_task/spam_dataset/valid/f1=0.898]"
     ]
    },
    {
     "name": "stderr",
     "output_type": "stream",
     "text": [
      "\r",
      "Epoch 1::  82%|████████▏ | 41/50 [00:05<00:01,  7.15it/s, model/all/train/loss=0.431, model/all/train/lr=0.0001, spam_task/spam_dataset/valid/accuracy=0.9, spam_task/spam_dataset/valid/f1=0.898]"
     ]
    },
    {
     "name": "stderr",
     "output_type": "stream",
     "text": [
      "\r",
      "Epoch 1::  84%|████████▍ | 42/50 [00:05<00:01,  6.88it/s, model/all/train/loss=0.431, model/all/train/lr=0.0001, spam_task/spam_dataset/valid/accuracy=0.9, spam_task/spam_dataset/valid/f1=0.898]"
     ]
    },
    {
     "name": "stderr",
     "output_type": "stream",
     "text": [
      "\r",
      "Epoch 1::  84%|████████▍ | 42/50 [00:06<00:01,  6.88it/s, model/all/train/loss=0.431, model/all/train/lr=0.0001, spam_task/spam_dataset/valid/accuracy=0.9, spam_task/spam_dataset/valid/f1=0.898]"
     ]
    },
    {
     "name": "stderr",
     "output_type": "stream",
     "text": [
      "\r",
      "Epoch 1::  86%|████████▌ | 43/50 [00:06<00:01,  6.87it/s, model/all/train/loss=0.431, model/all/train/lr=0.0001, spam_task/spam_dataset/valid/accuracy=0.9, spam_task/spam_dataset/valid/f1=0.898]"
     ]
    },
    {
     "name": "stderr",
     "output_type": "stream",
     "text": [
      "\r",
      "Epoch 1::  86%|████████▌ | 43/50 [00:06<00:01,  6.87it/s, model/all/train/loss=0.429, model/all/train/lr=0.0001, spam_task/spam_dataset/valid/accuracy=0.9, spam_task/spam_dataset/valid/f1=0.898]"
     ]
    },
    {
     "name": "stderr",
     "output_type": "stream",
     "text": [
      "\r",
      "Epoch 1::  88%|████████▊ | 44/50 [00:06<00:00,  6.86it/s, model/all/train/loss=0.429, model/all/train/lr=0.0001, spam_task/spam_dataset/valid/accuracy=0.9, spam_task/spam_dataset/valid/f1=0.898]"
     ]
    },
    {
     "name": "stderr",
     "output_type": "stream",
     "text": [
      "\r",
      "Epoch 1::  88%|████████▊ | 44/50 [00:06<00:00,  6.86it/s, model/all/train/loss=0.427, model/all/train/lr=0.0001, spam_task/spam_dataset/valid/accuracy=0.9, spam_task/spam_dataset/valid/f1=0.898]"
     ]
    },
    {
     "name": "stderr",
     "output_type": "stream",
     "text": [
      "\r",
      "Epoch 1::  90%|█████████ | 45/50 [00:06<00:00,  6.85it/s, model/all/train/loss=0.427, model/all/train/lr=0.0001, spam_task/spam_dataset/valid/accuracy=0.9, spam_task/spam_dataset/valid/f1=0.898]"
     ]
    },
    {
     "name": "stderr",
     "output_type": "stream",
     "text": [
      "\r",
      "Epoch 1::  90%|█████████ | 45/50 [00:06<00:00,  6.85it/s, model/all/train/loss=0.425, model/all/train/lr=0.0001, spam_task/spam_dataset/valid/accuracy=0.9, spam_task/spam_dataset/valid/f1=0.898]"
     ]
    },
    {
     "name": "stderr",
     "output_type": "stream",
     "text": [
      "\r",
      "Epoch 1::  92%|█████████▏| 46/50 [00:06<00:00,  7.05it/s, model/all/train/loss=0.425, model/all/train/lr=0.0001, spam_task/spam_dataset/valid/accuracy=0.9, spam_task/spam_dataset/valid/f1=0.898]"
     ]
    },
    {
     "name": "stderr",
     "output_type": "stream",
     "text": [
      "\r",
      "Epoch 1::  92%|█████████▏| 46/50 [00:06<00:00,  7.05it/s, model/all/train/loss=0.423, model/all/train/lr=0.0001, spam_task/spam_dataset/valid/accuracy=0.9, spam_task/spam_dataset/valid/f1=0.898]"
     ]
    },
    {
     "name": "stderr",
     "output_type": "stream",
     "text": [
      "\r",
      "Epoch 1::  94%|█████████▍| 47/50 [00:06<00:00,  7.20it/s, model/all/train/loss=0.423, model/all/train/lr=0.0001, spam_task/spam_dataset/valid/accuracy=0.9, spam_task/spam_dataset/valid/f1=0.898]"
     ]
    },
    {
     "name": "stderr",
     "output_type": "stream",
     "text": [
      "\r",
      "Epoch 1::  94%|█████████▍| 47/50 [00:06<00:00,  7.20it/s, model/all/train/loss=0.42, model/all/train/lr=0.0001, spam_task/spam_dataset/valid/accuracy=0.9, spam_task/spam_dataset/valid/f1=0.898] "
     ]
    },
    {
     "name": "stderr",
     "output_type": "stream",
     "text": [
      "\r",
      "Epoch 1::  96%|█████████▌| 48/50 [00:06<00:00,  7.30it/s, model/all/train/loss=0.42, model/all/train/lr=0.0001, spam_task/spam_dataset/valid/accuracy=0.9, spam_task/spam_dataset/valid/f1=0.898]"
     ]
    },
    {
     "name": "stderr",
     "output_type": "stream",
     "text": [
      "\r",
      "Epoch 1::  96%|█████████▌| 48/50 [00:06<00:00,  7.30it/s, model/all/train/loss=0.417, model/all/train/lr=0.0001, spam_task/spam_dataset/valid/accuracy=0.9, spam_task/spam_dataset/valid/f1=0.898]"
     ]
    },
    {
     "name": "stderr",
     "output_type": "stream",
     "text": [
      "\r",
      "Epoch 1::  98%|█████████▊| 49/50 [00:06<00:00,  7.02it/s, model/all/train/loss=0.417, model/all/train/lr=0.0001, spam_task/spam_dataset/valid/accuracy=0.9, spam_task/spam_dataset/valid/f1=0.898]"
     ]
    },
    {
     "name": "stderr",
     "output_type": "stream",
     "text": [
      "\r",
      "Epoch 1::  98%|█████████▊| 49/50 [00:07<00:00,  7.02it/s, model/all/train/loss=0.416, model/all/train/lr=0.0001, spam_task/spam_dataset/valid/accuracy=0.942, spam_task/spam_dataset/valid/f1=0.933]"
     ]
    },
    {
     "name": "stderr",
     "output_type": "stream",
     "text": [
      "\r",
      "Epoch 1:: 100%|██████████| 50/50 [00:07<00:00,  6.65it/s, model/all/train/loss=0.416, model/all/train/lr=0.0001, spam_task/spam_dataset/valid/accuracy=0.942, spam_task/spam_dataset/valid/f1=0.933]"
     ]
    },
    {
     "name": "stderr",
     "output_type": "stream",
     "text": [
      "\n",
      "\r",
      "Epoch 2::   0%|          | 0/50 [00:00<?, ?it/s]"
     ]
    },
    {
     "name": "stderr",
     "output_type": "stream",
     "text": [
      "\r",
      "Epoch 2::   0%|          | 0/50 [00:00<?, ?it/s, model/all/train/loss=0.33, model/all/train/lr=0.0001, spam_task/spam_dataset/valid/accuracy=0.942, spam_task/spam_dataset/valid/f1=0.933]"
     ]
    },
    {
     "name": "stderr",
     "output_type": "stream",
     "text": [
      "\r",
      "Epoch 2::   2%|▏         | 1/50 [00:00<00:06,  7.24it/s, model/all/train/loss=0.33, model/all/train/lr=0.0001, spam_task/spam_dataset/valid/accuracy=0.942, spam_task/spam_dataset/valid/f1=0.933]"
     ]
    },
    {
     "name": "stderr",
     "output_type": "stream",
     "text": [
      "\r",
      "Epoch 2::   2%|▏         | 1/50 [00:00<00:06,  7.24it/s, model/all/train/loss=0.327, model/all/train/lr=0.0001, spam_task/spam_dataset/valid/accuracy=0.942, spam_task/spam_dataset/valid/f1=0.933]"
     ]
    },
    {
     "name": "stderr",
     "output_type": "stream",
     "text": [
      "\r",
      "Epoch 2::   4%|▍         | 2/50 [00:00<00:06,  7.34it/s, model/all/train/loss=0.327, model/all/train/lr=0.0001, spam_task/spam_dataset/valid/accuracy=0.942, spam_task/spam_dataset/valid/f1=0.933]"
     ]
    },
    {
     "name": "stderr",
     "output_type": "stream",
     "text": [
      "\r",
      "Epoch 2::   4%|▍         | 2/50 [00:00<00:06,  7.34it/s, model/all/train/loss=0.298, model/all/train/lr=0.0001, spam_task/spam_dataset/valid/accuracy=0.942, spam_task/spam_dataset/valid/f1=0.933]"
     ]
    },
    {
     "name": "stderr",
     "output_type": "stream",
     "text": [
      "\r",
      "Epoch 2::   6%|▌         | 3/50 [00:00<00:06,  7.21it/s, model/all/train/loss=0.298, model/all/train/lr=0.0001, spam_task/spam_dataset/valid/accuracy=0.942, spam_task/spam_dataset/valid/f1=0.933]"
     ]
    },
    {
     "name": "stderr",
     "output_type": "stream",
     "text": [
      "\r",
      "Epoch 2::   6%|▌         | 3/50 [00:00<00:06,  7.21it/s, model/all/train/loss=0.298, model/all/train/lr=0.0001, spam_task/spam_dataset/valid/accuracy=0.942, spam_task/spam_dataset/valid/f1=0.933]"
     ]
    },
    {
     "name": "stderr",
     "output_type": "stream",
     "text": [
      "\r",
      "Epoch 2::   8%|▊         | 4/50 [00:00<00:06,  7.38it/s, model/all/train/loss=0.298, model/all/train/lr=0.0001, spam_task/spam_dataset/valid/accuracy=0.942, spam_task/spam_dataset/valid/f1=0.933]"
     ]
    },
    {
     "name": "stderr",
     "output_type": "stream",
     "text": [
      "\r",
      "Epoch 2::   8%|▊         | 4/50 [00:00<00:06,  7.38it/s, model/all/train/loss=0.312, model/all/train/lr=0.0001, spam_task/spam_dataset/valid/accuracy=0.942, spam_task/spam_dataset/valid/f1=0.933]"
     ]
    },
    {
     "name": "stderr",
     "output_type": "stream",
     "text": [
      "\r",
      "Epoch 2::  10%|█         | 5/50 [00:00<00:06,  7.34it/s, model/all/train/loss=0.312, model/all/train/lr=0.0001, spam_task/spam_dataset/valid/accuracy=0.942, spam_task/spam_dataset/valid/f1=0.933]"
     ]
    },
    {
     "name": "stderr",
     "output_type": "stream",
     "text": [
      "\r",
      "Epoch 2::  10%|█         | 5/50 [00:00<00:06,  7.34it/s, model/all/train/loss=0.313, model/all/train/lr=0.0001, spam_task/spam_dataset/valid/accuracy=0.942, spam_task/spam_dataset/valid/f1=0.933]"
     ]
    },
    {
     "name": "stderr",
     "output_type": "stream",
     "text": [
      "\r",
      "Epoch 2::  12%|█▏        | 6/50 [00:00<00:05,  7.39it/s, model/all/train/loss=0.313, model/all/train/lr=0.0001, spam_task/spam_dataset/valid/accuracy=0.942, spam_task/spam_dataset/valid/f1=0.933]"
     ]
    },
    {
     "name": "stderr",
     "output_type": "stream",
     "text": [
      "\r",
      "Epoch 2::  12%|█▏        | 6/50 [00:00<00:05,  7.39it/s, model/all/train/loss=0.309, model/all/train/lr=0.0001, spam_task/spam_dataset/valid/accuracy=0.942, spam_task/spam_dataset/valid/f1=0.933]"
     ]
    },
    {
     "name": "stderr",
     "output_type": "stream",
     "text": [
      "\r",
      "Epoch 2::  14%|█▍        | 7/50 [00:00<00:05,  7.44it/s, model/all/train/loss=0.309, model/all/train/lr=0.0001, spam_task/spam_dataset/valid/accuracy=0.942, spam_task/spam_dataset/valid/f1=0.933]"
     ]
    },
    {
     "name": "stderr",
     "output_type": "stream",
     "text": [
      "\r",
      "Epoch 2::  14%|█▍        | 7/50 [00:01<00:05,  7.44it/s, model/all/train/loss=0.304, model/all/train/lr=0.0001, spam_task/spam_dataset/valid/accuracy=0.942, spam_task/spam_dataset/valid/f1=0.933]"
     ]
    },
    {
     "name": "stderr",
     "output_type": "stream",
     "text": [
      "\r",
      "Epoch 2::  16%|█▌        | 8/50 [00:01<00:05,  7.38it/s, model/all/train/loss=0.304, model/all/train/lr=0.0001, spam_task/spam_dataset/valid/accuracy=0.942, spam_task/spam_dataset/valid/f1=0.933]"
     ]
    },
    {
     "name": "stderr",
     "output_type": "stream",
     "text": [
      "\r",
      "Epoch 2::  16%|█▌        | 8/50 [00:01<00:05,  7.38it/s, model/all/train/loss=0.308, model/all/train/lr=0.0001, spam_task/spam_dataset/valid/accuracy=0.942, spam_task/spam_dataset/valid/f1=0.933]"
     ]
    },
    {
     "name": "stderr",
     "output_type": "stream",
     "text": [
      "\r",
      "Epoch 2::  18%|█▊        | 9/50 [00:01<00:05,  7.67it/s, model/all/train/loss=0.308, model/all/train/lr=0.0001, spam_task/spam_dataset/valid/accuracy=0.942, spam_task/spam_dataset/valid/f1=0.933]"
     ]
    },
    {
     "name": "stderr",
     "output_type": "stream",
     "text": [
      "\r",
      "Epoch 2::  18%|█▊        | 9/50 [00:01<00:05,  7.67it/s, model/all/train/loss=0.306, model/all/train/lr=0.0001, spam_task/spam_dataset/valid/accuracy=0.942, spam_task/spam_dataset/valid/f1=0.933]"
     ]
    },
    {
     "name": "stderr",
     "output_type": "stream",
     "text": [
      "\r",
      "Epoch 2::  20%|██        | 10/50 [00:01<00:04,  8.05it/s, model/all/train/loss=0.306, model/all/train/lr=0.0001, spam_task/spam_dataset/valid/accuracy=0.942, spam_task/spam_dataset/valid/f1=0.933]"
     ]
    },
    {
     "name": "stderr",
     "output_type": "stream",
     "text": [
      "\r",
      "Epoch 2::  20%|██        | 10/50 [00:01<00:04,  8.05it/s, model/all/train/loss=0.301, model/all/train/lr=0.0001, spam_task/spam_dataset/valid/accuracy=0.942, spam_task/spam_dataset/valid/f1=0.933]"
     ]
    },
    {
     "name": "stderr",
     "output_type": "stream",
     "text": [
      "\r",
      "Epoch 2::  22%|██▏       | 11/50 [00:01<00:04,  8.30it/s, model/all/train/loss=0.301, model/all/train/lr=0.0001, spam_task/spam_dataset/valid/accuracy=0.942, spam_task/spam_dataset/valid/f1=0.933]"
     ]
    },
    {
     "name": "stderr",
     "output_type": "stream",
     "text": [
      "\r",
      "Epoch 2::  22%|██▏       | 11/50 [00:01<00:04,  8.30it/s, model/all/train/loss=0.305, model/all/train/lr=0.0001, spam_task/spam_dataset/valid/accuracy=0.942, spam_task/spam_dataset/valid/f1=0.933]"
     ]
    },
    {
     "name": "stderr",
     "output_type": "stream",
     "text": [
      "\r",
      "Epoch 2::  24%|██▍       | 12/50 [00:01<00:04,  8.53it/s, model/all/train/loss=0.305, model/all/train/lr=0.0001, spam_task/spam_dataset/valid/accuracy=0.942, spam_task/spam_dataset/valid/f1=0.933]"
     ]
    },
    {
     "name": "stderr",
     "output_type": "stream",
     "text": [
      "\r",
      "Epoch 2::  24%|██▍       | 12/50 [00:01<00:04,  8.53it/s, model/all/train/loss=0.304, model/all/train/lr=0.0001, spam_task/spam_dataset/valid/accuracy=0.942, spam_task/spam_dataset/valid/f1=0.933]"
     ]
    },
    {
     "name": "stderr",
     "output_type": "stream",
     "text": [
      "\r",
      "Epoch 2::  26%|██▌       | 13/50 [00:01<00:04,  8.69it/s, model/all/train/loss=0.304, model/all/train/lr=0.0001, spam_task/spam_dataset/valid/accuracy=0.942, spam_task/spam_dataset/valid/f1=0.933]"
     ]
    },
    {
     "name": "stderr",
     "output_type": "stream",
     "text": [
      "\r",
      "Epoch 2::  26%|██▌       | 13/50 [00:01<00:04,  8.69it/s, model/all/train/loss=0.296, model/all/train/lr=0.0001, spam_task/spam_dataset/valid/accuracy=0.942, spam_task/spam_dataset/valid/f1=0.933]"
     ]
    },
    {
     "name": "stderr",
     "output_type": "stream",
     "text": [
      "\r",
      "Epoch 2::  28%|██▊       | 14/50 [00:01<00:04,  8.81it/s, model/all/train/loss=0.296, model/all/train/lr=0.0001, spam_task/spam_dataset/valid/accuracy=0.942, spam_task/spam_dataset/valid/f1=0.933]"
     ]
    },
    {
     "name": "stderr",
     "output_type": "stream",
     "text": [
      "\r",
      "Epoch 2::  28%|██▊       | 14/50 [00:01<00:04,  8.81it/s, model/all/train/loss=0.295, model/all/train/lr=0.0001, spam_task/spam_dataset/valid/accuracy=0.942, spam_task/spam_dataset/valid/f1=0.933]"
     ]
    },
    {
     "name": "stderr",
     "output_type": "stream",
     "text": [
      "\r",
      "Epoch 2::  30%|███       | 15/50 [00:01<00:03,  8.88it/s, model/all/train/loss=0.295, model/all/train/lr=0.0001, spam_task/spam_dataset/valid/accuracy=0.942, spam_task/spam_dataset/valid/f1=0.933]"
     ]
    },
    {
     "name": "stderr",
     "output_type": "stream",
     "text": [
      "\r",
      "Epoch 2::  30%|███       | 15/50 [00:01<00:03,  8.88it/s, model/all/train/loss=0.29, model/all/train/lr=0.0001, spam_task/spam_dataset/valid/accuracy=0.942, spam_task/spam_dataset/valid/f1=0.933] "
     ]
    },
    {
     "name": "stderr",
     "output_type": "stream",
     "text": [
      "\r",
      "Epoch 2::  32%|███▏      | 16/50 [00:01<00:03,  8.91it/s, model/all/train/loss=0.29, model/all/train/lr=0.0001, spam_task/spam_dataset/valid/accuracy=0.942, spam_task/spam_dataset/valid/f1=0.933]"
     ]
    },
    {
     "name": "stderr",
     "output_type": "stream",
     "text": [
      "\r",
      "Epoch 2::  32%|███▏      | 16/50 [00:02<00:03,  8.91it/s, model/all/train/loss=0.295, model/all/train/lr=0.0001, spam_task/spam_dataset/valid/accuracy=0.942, spam_task/spam_dataset/valid/f1=0.933]"
     ]
    },
    {
     "name": "stderr",
     "output_type": "stream",
     "text": [
      "\r",
      "Epoch 2::  34%|███▍      | 17/50 [00:02<00:03,  8.93it/s, model/all/train/loss=0.295, model/all/train/lr=0.0001, spam_task/spam_dataset/valid/accuracy=0.942, spam_task/spam_dataset/valid/f1=0.933]"
     ]
    },
    {
     "name": "stderr",
     "output_type": "stream",
     "text": [
      "\r",
      "Epoch 2::  34%|███▍      | 17/50 [00:02<00:03,  8.93it/s, model/all/train/loss=0.294, model/all/train/lr=0.0001, spam_task/spam_dataset/valid/accuracy=0.942, spam_task/spam_dataset/valid/f1=0.933]"
     ]
    },
    {
     "name": "stderr",
     "output_type": "stream",
     "text": [
      "\r",
      "Epoch 2::  36%|███▌      | 18/50 [00:02<00:03,  8.99it/s, model/all/train/loss=0.294, model/all/train/lr=0.0001, spam_task/spam_dataset/valid/accuracy=0.942, spam_task/spam_dataset/valid/f1=0.933]"
     ]
    },
    {
     "name": "stderr",
     "output_type": "stream",
     "text": [
      "\r",
      "Epoch 2::  36%|███▌      | 18/50 [00:02<00:03,  8.99it/s, model/all/train/loss=0.289, model/all/train/lr=0.0001, spam_task/spam_dataset/valid/accuracy=0.942, spam_task/spam_dataset/valid/f1=0.933]"
     ]
    },
    {
     "name": "stderr",
     "output_type": "stream",
     "text": [
      "\r",
      "Epoch 2::  38%|███▊      | 19/50 [00:02<00:03,  9.02it/s, model/all/train/loss=0.289, model/all/train/lr=0.0001, spam_task/spam_dataset/valid/accuracy=0.942, spam_task/spam_dataset/valid/f1=0.933]"
     ]
    },
    {
     "name": "stderr",
     "output_type": "stream",
     "text": [
      "\r",
      "Epoch 2::  38%|███▊      | 19/50 [00:02<00:03,  9.02it/s, model/all/train/loss=0.286, model/all/train/lr=0.0001, spam_task/spam_dataset/valid/accuracy=0.942, spam_task/spam_dataset/valid/f1=0.933]"
     ]
    },
    {
     "name": "stderr",
     "output_type": "stream",
     "text": [
      "\r",
      "Epoch 2::  40%|████      | 20/50 [00:02<00:03,  9.02it/s, model/all/train/loss=0.286, model/all/train/lr=0.0001, spam_task/spam_dataset/valid/accuracy=0.942, spam_task/spam_dataset/valid/f1=0.933]"
     ]
    },
    {
     "name": "stderr",
     "output_type": "stream",
     "text": [
      "\r",
      "Epoch 2::  40%|████      | 20/50 [00:02<00:03,  9.02it/s, model/all/train/loss=0.284, model/all/train/lr=0.0001, spam_task/spam_dataset/valid/accuracy=0.942, spam_task/spam_dataset/valid/f1=0.933]"
     ]
    },
    {
     "name": "stderr",
     "output_type": "stream",
     "text": [
      "\r",
      "Epoch 2::  42%|████▏     | 21/50 [00:02<00:03,  9.05it/s, model/all/train/loss=0.284, model/all/train/lr=0.0001, spam_task/spam_dataset/valid/accuracy=0.942, spam_task/spam_dataset/valid/f1=0.933]"
     ]
    },
    {
     "name": "stderr",
     "output_type": "stream",
     "text": [
      "\r",
      "Epoch 2::  42%|████▏     | 21/50 [00:02<00:03,  9.05it/s, model/all/train/loss=0.286, model/all/train/lr=0.0001, spam_task/spam_dataset/valid/accuracy=0.942, spam_task/spam_dataset/valid/f1=0.933]"
     ]
    },
    {
     "name": "stderr",
     "output_type": "stream",
     "text": [
      "\r",
      "Epoch 2::  44%|████▍     | 22/50 [00:02<00:03,  9.07it/s, model/all/train/loss=0.286, model/all/train/lr=0.0001, spam_task/spam_dataset/valid/accuracy=0.942, spam_task/spam_dataset/valid/f1=0.933]"
     ]
    },
    {
     "name": "stderr",
     "output_type": "stream",
     "text": [
      "\r",
      "Epoch 2::  44%|████▍     | 22/50 [00:02<00:03,  9.07it/s, model/all/train/loss=0.283, model/all/train/lr=0.0001, spam_task/spam_dataset/valid/accuracy=0.942, spam_task/spam_dataset/valid/f1=0.933]"
     ]
    },
    {
     "name": "stderr",
     "output_type": "stream",
     "text": [
      "\r",
      "Epoch 2::  46%|████▌     | 23/50 [00:02<00:02,  9.05it/s, model/all/train/loss=0.283, model/all/train/lr=0.0001, spam_task/spam_dataset/valid/accuracy=0.942, spam_task/spam_dataset/valid/f1=0.933]"
     ]
    },
    {
     "name": "stderr",
     "output_type": "stream",
     "text": [
      "\r",
      "Epoch 2::  46%|████▌     | 23/50 [00:02<00:02,  9.05it/s, model/all/train/loss=0.279, model/all/train/lr=0.0001, spam_task/spam_dataset/valid/accuracy=0.942, spam_task/spam_dataset/valid/f1=0.933]"
     ]
    },
    {
     "name": "stderr",
     "output_type": "stream",
     "text": [
      "\r",
      "Epoch 2::  48%|████▊     | 24/50 [00:02<00:02,  9.04it/s, model/all/train/loss=0.279, model/all/train/lr=0.0001, spam_task/spam_dataset/valid/accuracy=0.942, spam_task/spam_dataset/valid/f1=0.933]"
     ]
    },
    {
     "name": "stderr",
     "output_type": "stream",
     "text": [
      "\r",
      "Epoch 2::  48%|████▊     | 24/50 [00:02<00:02,  9.04it/s, model/all/train/loss=0.277, model/all/train/lr=0.0001, spam_task/spam_dataset/valid/accuracy=0.942, spam_task/spam_dataset/valid/f1=0.933]"
     ]
    },
    {
     "name": "stderr",
     "output_type": "stream",
     "text": [
      "\r",
      "Epoch 2::  50%|█████     | 25/50 [00:02<00:02,  9.04it/s, model/all/train/loss=0.277, model/all/train/lr=0.0001, spam_task/spam_dataset/valid/accuracy=0.942, spam_task/spam_dataset/valid/f1=0.933]"
     ]
    },
    {
     "name": "stderr",
     "output_type": "stream",
     "text": [
      "\r",
      "Epoch 2::  50%|█████     | 25/50 [00:03<00:02,  9.04it/s, model/all/train/loss=0.276, model/all/train/lr=0.0001, spam_task/spam_dataset/valid/accuracy=0.942, spam_task/spam_dataset/valid/f1=0.933]"
     ]
    },
    {
     "name": "stderr",
     "output_type": "stream",
     "text": [
      "\r",
      "Epoch 2::  52%|█████▏    | 26/50 [00:03<00:02,  9.04it/s, model/all/train/loss=0.276, model/all/train/lr=0.0001, spam_task/spam_dataset/valid/accuracy=0.942, spam_task/spam_dataset/valid/f1=0.933]"
     ]
    },
    {
     "name": "stderr",
     "output_type": "stream",
     "text": [
      "\r",
      "Epoch 2::  52%|█████▏    | 26/50 [00:03<00:02,  9.04it/s, model/all/train/loss=0.276, model/all/train/lr=0.0001, spam_task/spam_dataset/valid/accuracy=0.942, spam_task/spam_dataset/valid/f1=0.933]"
     ]
    },
    {
     "name": "stderr",
     "output_type": "stream",
     "text": [
      "\r",
      "Epoch 2::  54%|█████▍    | 27/50 [00:03<00:02,  9.08it/s, model/all/train/loss=0.276, model/all/train/lr=0.0001, spam_task/spam_dataset/valid/accuracy=0.942, spam_task/spam_dataset/valid/f1=0.933]"
     ]
    },
    {
     "name": "stderr",
     "output_type": "stream",
     "text": [
      "\r",
      "Epoch 2::  54%|█████▍    | 27/50 [00:03<00:02,  9.08it/s, model/all/train/loss=0.273, model/all/train/lr=0.0001, spam_task/spam_dataset/valid/accuracy=0.942, spam_task/spam_dataset/valid/f1=0.933]"
     ]
    },
    {
     "name": "stderr",
     "output_type": "stream",
     "text": [
      "\r",
      "Epoch 2::  56%|█████▌    | 28/50 [00:03<00:02,  9.09it/s, model/all/train/loss=0.273, model/all/train/lr=0.0001, spam_task/spam_dataset/valid/accuracy=0.942, spam_task/spam_dataset/valid/f1=0.933]"
     ]
    },
    {
     "name": "stderr",
     "output_type": "stream",
     "text": [
      "\r",
      "Epoch 2::  56%|█████▌    | 28/50 [00:03<00:02,  9.09it/s, model/all/train/loss=0.27, model/all/train/lr=0.0001, spam_task/spam_dataset/valid/accuracy=0.942, spam_task/spam_dataset/valid/f1=0.933] "
     ]
    },
    {
     "name": "stderr",
     "output_type": "stream",
     "text": [
      "\r",
      "Epoch 2::  58%|█████▊    | 29/50 [00:03<00:02,  9.08it/s, model/all/train/loss=0.27, model/all/train/lr=0.0001, spam_task/spam_dataset/valid/accuracy=0.942, spam_task/spam_dataset/valid/f1=0.933]"
     ]
    },
    {
     "name": "stderr",
     "output_type": "stream",
     "text": [
      "\r",
      "Epoch 2::  58%|█████▊    | 29/50 [00:03<00:02,  9.08it/s, model/all/train/loss=0.269, model/all/train/lr=0.0001, spam_task/spam_dataset/valid/accuracy=0.942, spam_task/spam_dataset/valid/f1=0.933]"
     ]
    },
    {
     "name": "stderr",
     "output_type": "stream",
     "text": [
      "\r",
      "Epoch 2::  60%|██████    | 30/50 [00:03<00:02,  9.07it/s, model/all/train/loss=0.269, model/all/train/lr=0.0001, spam_task/spam_dataset/valid/accuracy=0.942, spam_task/spam_dataset/valid/f1=0.933]"
     ]
    },
    {
     "name": "stderr",
     "output_type": "stream",
     "text": [
      "\r",
      "Epoch 2::  60%|██████    | 30/50 [00:03<00:02,  9.07it/s, model/all/train/loss=0.266, model/all/train/lr=0.0001, spam_task/spam_dataset/valid/accuracy=0.942, spam_task/spam_dataset/valid/f1=0.933]"
     ]
    },
    {
     "name": "stderr",
     "output_type": "stream",
     "text": [
      "\r",
      "Epoch 2::  62%|██████▏   | 31/50 [00:03<00:02,  9.07it/s, model/all/train/loss=0.266, model/all/train/lr=0.0001, spam_task/spam_dataset/valid/accuracy=0.942, spam_task/spam_dataset/valid/f1=0.933]"
     ]
    },
    {
     "name": "stderr",
     "output_type": "stream",
     "text": [
      "\r",
      "Epoch 2::  62%|██████▏   | 31/50 [00:03<00:02,  9.07it/s, model/all/train/loss=0.264, model/all/train/lr=0.0001, spam_task/spam_dataset/valid/accuracy=0.942, spam_task/spam_dataset/valid/f1=0.933]"
     ]
    },
    {
     "name": "stderr",
     "output_type": "stream",
     "text": [
      "\r",
      "Epoch 2::  64%|██████▍   | 32/50 [00:03<00:02,  8.28it/s, model/all/train/loss=0.264, model/all/train/lr=0.0001, spam_task/spam_dataset/valid/accuracy=0.942, spam_task/spam_dataset/valid/f1=0.933]"
     ]
    },
    {
     "name": "stderr",
     "output_type": "stream",
     "text": [
      "\r",
      "Epoch 2::  64%|██████▍   | 32/50 [00:03<00:02,  8.28it/s, model/all/train/loss=0.263, model/all/train/lr=0.0001, spam_task/spam_dataset/valid/accuracy=0.942, spam_task/spam_dataset/valid/f1=0.933]"
     ]
    },
    {
     "name": "stderr",
     "output_type": "stream",
     "text": [
      "\r",
      "Epoch 2::  66%|██████▌   | 33/50 [00:03<00:02,  8.11it/s, model/all/train/loss=0.263, model/all/train/lr=0.0001, spam_task/spam_dataset/valid/accuracy=0.942, spam_task/spam_dataset/valid/f1=0.933]"
     ]
    },
    {
     "name": "stderr",
     "output_type": "stream",
     "text": [
      "\r",
      "Epoch 2::  66%|██████▌   | 33/50 [00:04<00:02,  8.11it/s, model/all/train/loss=0.261, model/all/train/lr=0.0001, spam_task/spam_dataset/valid/accuracy=0.942, spam_task/spam_dataset/valid/f1=0.933]"
     ]
    },
    {
     "name": "stderr",
     "output_type": "stream",
     "text": [
      "\r",
      "Epoch 2::  68%|██████▊   | 34/50 [00:04<00:02,  7.93it/s, model/all/train/loss=0.261, model/all/train/lr=0.0001, spam_task/spam_dataset/valid/accuracy=0.942, spam_task/spam_dataset/valid/f1=0.933]"
     ]
    },
    {
     "name": "stderr",
     "output_type": "stream",
     "text": [
      "\r",
      "Epoch 2::  68%|██████▊   | 34/50 [00:04<00:02,  7.93it/s, model/all/train/loss=0.26, model/all/train/lr=0.0001, spam_task/spam_dataset/valid/accuracy=0.942, spam_task/spam_dataset/valid/f1=0.933] "
     ]
    },
    {
     "name": "stderr",
     "output_type": "stream",
     "text": [
      "\r",
      "Epoch 2::  70%|███████   | 35/50 [00:04<00:01,  7.85it/s, model/all/train/loss=0.26, model/all/train/lr=0.0001, spam_task/spam_dataset/valid/accuracy=0.942, spam_task/spam_dataset/valid/f1=0.933]"
     ]
    },
    {
     "name": "stderr",
     "output_type": "stream",
     "text": [
      "\r",
      "Epoch 2::  70%|███████   | 35/50 [00:04<00:01,  7.85it/s, model/all/train/loss=0.257, model/all/train/lr=0.0001, spam_task/spam_dataset/valid/accuracy=0.942, spam_task/spam_dataset/valid/f1=0.933]"
     ]
    },
    {
     "name": "stderr",
     "output_type": "stream",
     "text": [
      "\r",
      "Epoch 2::  72%|███████▏  | 36/50 [00:04<00:01,  7.42it/s, model/all/train/loss=0.257, model/all/train/lr=0.0001, spam_task/spam_dataset/valid/accuracy=0.942, spam_task/spam_dataset/valid/f1=0.933]"
     ]
    },
    {
     "name": "stderr",
     "output_type": "stream",
     "text": [
      "\r",
      "Epoch 2::  72%|███████▏  | 36/50 [00:04<00:01,  7.42it/s, model/all/train/loss=0.257, model/all/train/lr=0.0001, spam_task/spam_dataset/valid/accuracy=0.942, spam_task/spam_dataset/valid/f1=0.933]"
     ]
    },
    {
     "name": "stderr",
     "output_type": "stream",
     "text": [
      "\r",
      "Epoch 2::  74%|███████▍  | 37/50 [00:04<00:01,  7.70it/s, model/all/train/loss=0.257, model/all/train/lr=0.0001, spam_task/spam_dataset/valid/accuracy=0.942, spam_task/spam_dataset/valid/f1=0.933]"
     ]
    },
    {
     "name": "stderr",
     "output_type": "stream",
     "text": [
      "\r",
      "Epoch 2::  74%|███████▍  | 37/50 [00:04<00:01,  7.70it/s, model/all/train/loss=0.254, model/all/train/lr=0.0001, spam_task/spam_dataset/valid/accuracy=0.942, spam_task/spam_dataset/valid/f1=0.933]"
     ]
    },
    {
     "name": "stderr",
     "output_type": "stream",
     "text": [
      "\r",
      "Epoch 2::  76%|███████▌  | 38/50 [00:04<00:01,  8.08it/s, model/all/train/loss=0.254, model/all/train/lr=0.0001, spam_task/spam_dataset/valid/accuracy=0.942, spam_task/spam_dataset/valid/f1=0.933]"
     ]
    },
    {
     "name": "stderr",
     "output_type": "stream",
     "text": [
      "\r",
      "Epoch 2::  76%|███████▌  | 38/50 [00:04<00:01,  8.08it/s, model/all/train/loss=0.253, model/all/train/lr=0.0001, spam_task/spam_dataset/valid/accuracy=0.942, spam_task/spam_dataset/valid/f1=0.933]"
     ]
    },
    {
     "name": "stderr",
     "output_type": "stream",
     "text": [
      "\r",
      "Epoch 2::  78%|███████▊  | 39/50 [00:04<00:01,  8.39it/s, model/all/train/loss=0.253, model/all/train/lr=0.0001, spam_task/spam_dataset/valid/accuracy=0.942, spam_task/spam_dataset/valid/f1=0.933]"
     ]
    },
    {
     "name": "stderr",
     "output_type": "stream",
     "text": [
      "\r",
      "Epoch 2::  78%|███████▊  | 39/50 [00:04<00:01,  8.39it/s, model/all/train/loss=0.253, model/all/train/lr=0.0001, spam_task/spam_dataset/valid/accuracy=0.942, spam_task/spam_dataset/valid/f1=0.933]"
     ]
    },
    {
     "name": "stderr",
     "output_type": "stream",
     "text": [
      "\r",
      "Epoch 2::  80%|████████  | 40/50 [00:04<00:01,  8.62it/s, model/all/train/loss=0.253, model/all/train/lr=0.0001, spam_task/spam_dataset/valid/accuracy=0.942, spam_task/spam_dataset/valid/f1=0.933]"
     ]
    },
    {
     "name": "stderr",
     "output_type": "stream",
     "text": [
      "\r",
      "Epoch 2::  80%|████████  | 40/50 [00:04<00:01,  8.62it/s, model/all/train/loss=0.254, model/all/train/lr=0.0001, spam_task/spam_dataset/valid/accuracy=0.942, spam_task/spam_dataset/valid/f1=0.933]"
     ]
    },
    {
     "name": "stderr",
     "output_type": "stream",
     "text": [
      "\r",
      "Epoch 2::  82%|████████▏ | 41/50 [00:04<00:01,  8.66it/s, model/all/train/loss=0.254, model/all/train/lr=0.0001, spam_task/spam_dataset/valid/accuracy=0.942, spam_task/spam_dataset/valid/f1=0.933]"
     ]
    },
    {
     "name": "stderr",
     "output_type": "stream",
     "text": [
      "\r",
      "Epoch 2::  82%|████████▏ | 41/50 [00:04<00:01,  8.66it/s, model/all/train/loss=0.252, model/all/train/lr=0.0001, spam_task/spam_dataset/valid/accuracy=0.942, spam_task/spam_dataset/valid/f1=0.933]"
     ]
    },
    {
     "name": "stderr",
     "output_type": "stream",
     "text": [
      "\r",
      "Epoch 2::  84%|████████▍ | 42/50 [00:04<00:00,  8.82it/s, model/all/train/loss=0.252, model/all/train/lr=0.0001, spam_task/spam_dataset/valid/accuracy=0.942, spam_task/spam_dataset/valid/f1=0.933]"
     ]
    },
    {
     "name": "stderr",
     "output_type": "stream",
     "text": [
      "\r",
      "Epoch 2::  84%|████████▍ | 42/50 [00:05<00:00,  8.82it/s, model/all/train/loss=0.252, model/all/train/lr=0.0001, spam_task/spam_dataset/valid/accuracy=0.942, spam_task/spam_dataset/valid/f1=0.933]"
     ]
    },
    {
     "name": "stderr",
     "output_type": "stream",
     "text": [
      "\r",
      "Epoch 2::  86%|████████▌ | 43/50 [00:05<00:00,  8.93it/s, model/all/train/loss=0.252, model/all/train/lr=0.0001, spam_task/spam_dataset/valid/accuracy=0.942, spam_task/spam_dataset/valid/f1=0.933]"
     ]
    },
    {
     "name": "stderr",
     "output_type": "stream",
     "text": [
      "\r",
      "Epoch 2::  86%|████████▌ | 43/50 [00:05<00:00,  8.93it/s, model/all/train/loss=0.25, model/all/train/lr=0.0001, spam_task/spam_dataset/valid/accuracy=0.942, spam_task/spam_dataset/valid/f1=0.933] "
     ]
    },
    {
     "name": "stderr",
     "output_type": "stream",
     "text": [
      "\r",
      "Epoch 2::  88%|████████▊ | 44/50 [00:05<00:00,  9.00it/s, model/all/train/loss=0.25, model/all/train/lr=0.0001, spam_task/spam_dataset/valid/accuracy=0.942, spam_task/spam_dataset/valid/f1=0.933]"
     ]
    },
    {
     "name": "stderr",
     "output_type": "stream",
     "text": [
      "\r",
      "Epoch 2::  88%|████████▊ | 44/50 [00:05<00:00,  9.00it/s, model/all/train/loss=0.248, model/all/train/lr=0.0001, spam_task/spam_dataset/valid/accuracy=0.942, spam_task/spam_dataset/valid/f1=0.933]"
     ]
    },
    {
     "name": "stderr",
     "output_type": "stream",
     "text": [
      "\r",
      "Epoch 2::  90%|█████████ | 45/50 [00:05<00:00,  9.08it/s, model/all/train/loss=0.248, model/all/train/lr=0.0001, spam_task/spam_dataset/valid/accuracy=0.942, spam_task/spam_dataset/valid/f1=0.933]"
     ]
    },
    {
     "name": "stderr",
     "output_type": "stream",
     "text": [
      "\r",
      "Epoch 2::  90%|█████████ | 45/50 [00:05<00:00,  9.08it/s, model/all/train/loss=0.247, model/all/train/lr=0.0001, spam_task/spam_dataset/valid/accuracy=0.942, spam_task/spam_dataset/valid/f1=0.933]"
     ]
    },
    {
     "name": "stderr",
     "output_type": "stream",
     "text": [
      "\r",
      "Epoch 2::  92%|█████████▏| 46/50 [00:05<00:00,  9.11it/s, model/all/train/loss=0.247, model/all/train/lr=0.0001, spam_task/spam_dataset/valid/accuracy=0.942, spam_task/spam_dataset/valid/f1=0.933]"
     ]
    },
    {
     "name": "stderr",
     "output_type": "stream",
     "text": [
      "\r",
      "Epoch 2::  92%|█████████▏| 46/50 [00:05<00:00,  9.11it/s, model/all/train/loss=0.247, model/all/train/lr=0.0001, spam_task/spam_dataset/valid/accuracy=0.942, spam_task/spam_dataset/valid/f1=0.933]"
     ]
    },
    {
     "name": "stderr",
     "output_type": "stream",
     "text": [
      "\r",
      "Epoch 2::  94%|█████████▍| 47/50 [00:05<00:00,  9.14it/s, model/all/train/loss=0.247, model/all/train/lr=0.0001, spam_task/spam_dataset/valid/accuracy=0.942, spam_task/spam_dataset/valid/f1=0.933]"
     ]
    },
    {
     "name": "stderr",
     "output_type": "stream",
     "text": [
      "\r",
      "Epoch 2::  94%|█████████▍| 47/50 [00:05<00:00,  9.14it/s, model/all/train/loss=0.246, model/all/train/lr=0.0001, spam_task/spam_dataset/valid/accuracy=0.942, spam_task/spam_dataset/valid/f1=0.933]"
     ]
    },
    {
     "name": "stderr",
     "output_type": "stream",
     "text": [
      "\r",
      "Epoch 2::  96%|█████████▌| 48/50 [00:05<00:00,  9.18it/s, model/all/train/loss=0.246, model/all/train/lr=0.0001, spam_task/spam_dataset/valid/accuracy=0.942, spam_task/spam_dataset/valid/f1=0.933]"
     ]
    },
    {
     "name": "stderr",
     "output_type": "stream",
     "text": [
      "\r",
      "Epoch 2::  96%|█████████▌| 48/50 [00:05<00:00,  9.18it/s, model/all/train/loss=0.244, model/all/train/lr=0.0001, spam_task/spam_dataset/valid/accuracy=0.942, spam_task/spam_dataset/valid/f1=0.933]"
     ]
    },
    {
     "name": "stderr",
     "output_type": "stream",
     "text": [
      "\r",
      "Epoch 2::  98%|█████████▊| 49/50 [00:05<00:00,  9.06it/s, model/all/train/loss=0.244, model/all/train/lr=0.0001, spam_task/spam_dataset/valid/accuracy=0.942, spam_task/spam_dataset/valid/f1=0.933]"
     ]
    },
    {
     "name": "stderr",
     "output_type": "stream",
     "text": [
      "\r",
      "Epoch 2::  98%|█████████▊| 49/50 [00:05<00:00,  9.06it/s, model/all/train/loss=0.242, model/all/train/lr=0.0001, spam_task/spam_dataset/valid/accuracy=0.933, spam_task/spam_dataset/valid/f1=0.923]"
     ]
    },
    {
     "name": "stderr",
     "output_type": "stream",
     "text": [
      "\r",
      "Epoch 2:: 100%|██████████| 50/50 [00:05<00:00,  8.57it/s, model/all/train/loss=0.242, model/all/train/lr=0.0001, spam_task/spam_dataset/valid/accuracy=0.933, spam_task/spam_dataset/valid/f1=0.923]"
     ]
    },
    {
     "name": "stderr",
     "output_type": "stream",
     "text": [
      "\n",
      "\r",
      "Epoch 3::   0%|          | 0/50 [00:00<?, ?it/s]"
     ]
    },
    {
     "name": "stderr",
     "output_type": "stream",
     "text": [
      "\r",
      "Epoch 3::   0%|          | 0/50 [00:00<?, ?it/s, model/all/train/loss=0.115, model/all/train/lr=0.0001, spam_task/spam_dataset/valid/accuracy=0.933, spam_task/spam_dataset/valid/f1=0.923]"
     ]
    },
    {
     "name": "stderr",
     "output_type": "stream",
     "text": [
      "\r",
      "Epoch 3::   2%|▏         | 1/50 [00:00<00:05,  9.26it/s, model/all/train/loss=0.115, model/all/train/lr=0.0001, spam_task/spam_dataset/valid/accuracy=0.933, spam_task/spam_dataset/valid/f1=0.923]"
     ]
    },
    {
     "name": "stderr",
     "output_type": "stream",
     "text": [
      "\r",
      "Epoch 3::   2%|▏         | 1/50 [00:00<00:05,  9.26it/s, model/all/train/loss=0.11, model/all/train/lr=0.0001, spam_task/spam_dataset/valid/accuracy=0.933, spam_task/spam_dataset/valid/f1=0.923] "
     ]
    },
    {
     "name": "stderr",
     "output_type": "stream",
     "text": [
      "\r",
      "Epoch 3::   4%|▍         | 2/50 [00:00<00:05,  9.25it/s, model/all/train/loss=0.11, model/all/train/lr=0.0001, spam_task/spam_dataset/valid/accuracy=0.933, spam_task/spam_dataset/valid/f1=0.923]"
     ]
    },
    {
     "name": "stderr",
     "output_type": "stream",
     "text": [
      "\r",
      "Epoch 3::   4%|▍         | 2/50 [00:00<00:05,  9.25it/s, model/all/train/loss=0.143, model/all/train/lr=0.0001, spam_task/spam_dataset/valid/accuracy=0.933, spam_task/spam_dataset/valid/f1=0.923]"
     ]
    },
    {
     "name": "stderr",
     "output_type": "stream",
     "text": [
      "\r",
      "Epoch 3::   6%|▌         | 3/50 [00:00<00:05,  9.27it/s, model/all/train/loss=0.143, model/all/train/lr=0.0001, spam_task/spam_dataset/valid/accuracy=0.933, spam_task/spam_dataset/valid/f1=0.923]"
     ]
    },
    {
     "name": "stderr",
     "output_type": "stream",
     "text": [
      "\r",
      "Epoch 3::   6%|▌         | 3/50 [00:00<00:05,  9.27it/s, model/all/train/loss=0.149, model/all/train/lr=0.0001, spam_task/spam_dataset/valid/accuracy=0.933, spam_task/spam_dataset/valid/f1=0.923]"
     ]
    },
    {
     "name": "stderr",
     "output_type": "stream",
     "text": [
      "\r",
      "Epoch 3::   8%|▊         | 4/50 [00:00<00:04,  9.28it/s, model/all/train/loss=0.149, model/all/train/lr=0.0001, spam_task/spam_dataset/valid/accuracy=0.933, spam_task/spam_dataset/valid/f1=0.923]"
     ]
    },
    {
     "name": "stderr",
     "output_type": "stream",
     "text": [
      "\r",
      "Epoch 3::   8%|▊         | 4/50 [00:00<00:04,  9.28it/s, model/all/train/loss=0.153, model/all/train/lr=0.0001, spam_task/spam_dataset/valid/accuracy=0.933, spam_task/spam_dataset/valid/f1=0.923]"
     ]
    },
    {
     "name": "stderr",
     "output_type": "stream",
     "text": [
      "\r",
      "Epoch 3::  10%|█         | 5/50 [00:00<00:04,  9.29it/s, model/all/train/loss=0.153, model/all/train/lr=0.0001, spam_task/spam_dataset/valid/accuracy=0.933, spam_task/spam_dataset/valid/f1=0.923]"
     ]
    },
    {
     "name": "stderr",
     "output_type": "stream",
     "text": [
      "\r",
      "Epoch 3::  10%|█         | 5/50 [00:00<00:04,  9.29it/s, model/all/train/loss=0.162, model/all/train/lr=0.0001, spam_task/spam_dataset/valid/accuracy=0.933, spam_task/spam_dataset/valid/f1=0.923]"
     ]
    },
    {
     "name": "stderr",
     "output_type": "stream",
     "text": [
      "\r",
      "Epoch 3::  12%|█▏        | 6/50 [00:00<00:04,  9.29it/s, model/all/train/loss=0.162, model/all/train/lr=0.0001, spam_task/spam_dataset/valid/accuracy=0.933, spam_task/spam_dataset/valid/f1=0.923]"
     ]
    },
    {
     "name": "stderr",
     "output_type": "stream",
     "text": [
      "\r",
      "Epoch 3::  12%|█▏        | 6/50 [00:00<00:04,  9.29it/s, model/all/train/loss=0.156, model/all/train/lr=0.0001, spam_task/spam_dataset/valid/accuracy=0.933, spam_task/spam_dataset/valid/f1=0.923]"
     ]
    },
    {
     "name": "stderr",
     "output_type": "stream",
     "text": [
      "\r",
      "Epoch 3::  14%|█▍        | 7/50 [00:00<00:04,  9.27it/s, model/all/train/loss=0.156, model/all/train/lr=0.0001, spam_task/spam_dataset/valid/accuracy=0.933, spam_task/spam_dataset/valid/f1=0.923]"
     ]
    },
    {
     "name": "stderr",
     "output_type": "stream",
     "text": [
      "\r",
      "Epoch 3::  14%|█▍        | 7/50 [00:00<00:04,  9.27it/s, model/all/train/loss=0.151, model/all/train/lr=0.0001, spam_task/spam_dataset/valid/accuracy=0.933, spam_task/spam_dataset/valid/f1=0.923]"
     ]
    },
    {
     "name": "stderr",
     "output_type": "stream",
     "text": [
      "\r",
      "Epoch 3::  16%|█▌        | 8/50 [00:00<00:04,  9.10it/s, model/all/train/loss=0.151, model/all/train/lr=0.0001, spam_task/spam_dataset/valid/accuracy=0.933, spam_task/spam_dataset/valid/f1=0.923]"
     ]
    },
    {
     "name": "stderr",
     "output_type": "stream",
     "text": [
      "\r",
      "Epoch 3::  16%|█▌        | 8/50 [00:00<00:04,  9.10it/s, model/all/train/loss=0.152, model/all/train/lr=0.0001, spam_task/spam_dataset/valid/accuracy=0.933, spam_task/spam_dataset/valid/f1=0.923]"
     ]
    },
    {
     "name": "stderr",
     "output_type": "stream",
     "text": [
      "\r",
      "Epoch 3::  18%|█▊        | 9/50 [00:00<00:04,  9.13it/s, model/all/train/loss=0.152, model/all/train/lr=0.0001, spam_task/spam_dataset/valid/accuracy=0.933, spam_task/spam_dataset/valid/f1=0.923]"
     ]
    },
    {
     "name": "stderr",
     "output_type": "stream",
     "text": [
      "\r",
      "Epoch 3::  18%|█▊        | 9/50 [00:01<00:04,  9.13it/s, model/all/train/loss=0.153, model/all/train/lr=0.0001, spam_task/spam_dataset/valid/accuracy=0.933, spam_task/spam_dataset/valid/f1=0.923]"
     ]
    },
    {
     "name": "stderr",
     "output_type": "stream",
     "text": [
      "\r",
      "Epoch 3::  20%|██        | 10/50 [00:01<00:04,  9.17it/s, model/all/train/loss=0.153, model/all/train/lr=0.0001, spam_task/spam_dataset/valid/accuracy=0.933, spam_task/spam_dataset/valid/f1=0.923]"
     ]
    },
    {
     "name": "stderr",
     "output_type": "stream",
     "text": [
      "\r",
      "Epoch 3::  20%|██        | 10/50 [00:01<00:04,  9.17it/s, model/all/train/loss=0.158, model/all/train/lr=0.0001, spam_task/spam_dataset/valid/accuracy=0.933, spam_task/spam_dataset/valid/f1=0.923]"
     ]
    },
    {
     "name": "stderr",
     "output_type": "stream",
     "text": [
      "\r",
      "Epoch 3::  22%|██▏       | 11/50 [00:01<00:04,  9.21it/s, model/all/train/loss=0.158, model/all/train/lr=0.0001, spam_task/spam_dataset/valid/accuracy=0.933, spam_task/spam_dataset/valid/f1=0.923]"
     ]
    },
    {
     "name": "stderr",
     "output_type": "stream",
     "text": [
      "\r",
      "Epoch 3::  22%|██▏       | 11/50 [00:01<00:04,  9.21it/s, model/all/train/loss=0.162, model/all/train/lr=0.0001, spam_task/spam_dataset/valid/accuracy=0.933, spam_task/spam_dataset/valid/f1=0.923]"
     ]
    },
    {
     "name": "stderr",
     "output_type": "stream",
     "text": [
      "\r",
      "Epoch 3::  24%|██▍       | 12/50 [00:01<00:04,  9.21it/s, model/all/train/loss=0.162, model/all/train/lr=0.0001, spam_task/spam_dataset/valid/accuracy=0.933, spam_task/spam_dataset/valid/f1=0.923]"
     ]
    },
    {
     "name": "stderr",
     "output_type": "stream",
     "text": [
      "\r",
      "Epoch 3::  24%|██▍       | 12/50 [00:01<00:04,  9.21it/s, model/all/train/loss=0.163, model/all/train/lr=0.0001, spam_task/spam_dataset/valid/accuracy=0.933, spam_task/spam_dataset/valid/f1=0.923]"
     ]
    },
    {
     "name": "stderr",
     "output_type": "stream",
     "text": [
      "\r",
      "Epoch 3::  26%|██▌       | 13/50 [00:01<00:04,  9.22it/s, model/all/train/loss=0.163, model/all/train/lr=0.0001, spam_task/spam_dataset/valid/accuracy=0.933, spam_task/spam_dataset/valid/f1=0.923]"
     ]
    },
    {
     "name": "stderr",
     "output_type": "stream",
     "text": [
      "\r",
      "Epoch 3::  26%|██▌       | 13/50 [00:01<00:04,  9.22it/s, model/all/train/loss=0.164, model/all/train/lr=0.0001, spam_task/spam_dataset/valid/accuracy=0.933, spam_task/spam_dataset/valid/f1=0.923]"
     ]
    },
    {
     "name": "stderr",
     "output_type": "stream",
     "text": [
      "\r",
      "Epoch 3::  28%|██▊       | 14/50 [00:01<00:03,  9.24it/s, model/all/train/loss=0.164, model/all/train/lr=0.0001, spam_task/spam_dataset/valid/accuracy=0.933, spam_task/spam_dataset/valid/f1=0.923]"
     ]
    },
    {
     "name": "stderr",
     "output_type": "stream",
     "text": [
      "\r",
      "Epoch 3::  28%|██▊       | 14/50 [00:01<00:03,  9.24it/s, model/all/train/loss=0.166, model/all/train/lr=0.0001, spam_task/spam_dataset/valid/accuracy=0.933, spam_task/spam_dataset/valid/f1=0.923]"
     ]
    },
    {
     "name": "stderr",
     "output_type": "stream",
     "text": [
      "\r",
      "Epoch 3::  30%|███       | 15/50 [00:01<00:03,  9.25it/s, model/all/train/loss=0.166, model/all/train/lr=0.0001, spam_task/spam_dataset/valid/accuracy=0.933, spam_task/spam_dataset/valid/f1=0.923]"
     ]
    },
    {
     "name": "stderr",
     "output_type": "stream",
     "text": [
      "\r",
      "Epoch 3::  30%|███       | 15/50 [00:01<00:03,  9.25it/s, model/all/train/loss=0.168, model/all/train/lr=0.0001, spam_task/spam_dataset/valid/accuracy=0.933, spam_task/spam_dataset/valid/f1=0.923]"
     ]
    },
    {
     "name": "stderr",
     "output_type": "stream",
     "text": [
      "\r",
      "Epoch 3::  32%|███▏      | 16/50 [00:01<00:03,  9.27it/s, model/all/train/loss=0.168, model/all/train/lr=0.0001, spam_task/spam_dataset/valid/accuracy=0.933, spam_task/spam_dataset/valid/f1=0.923]"
     ]
    },
    {
     "name": "stderr",
     "output_type": "stream",
     "text": [
      "\r",
      "Epoch 3::  32%|███▏      | 16/50 [00:01<00:03,  9.27it/s, model/all/train/loss=0.168, model/all/train/lr=0.0001, spam_task/spam_dataset/valid/accuracy=0.933, spam_task/spam_dataset/valid/f1=0.923]"
     ]
    },
    {
     "name": "stderr",
     "output_type": "stream",
     "text": [
      "\r",
      "Epoch 3::  34%|███▍      | 17/50 [00:01<00:03,  9.31it/s, model/all/train/loss=0.168, model/all/train/lr=0.0001, spam_task/spam_dataset/valid/accuracy=0.933, spam_task/spam_dataset/valid/f1=0.923]"
     ]
    },
    {
     "name": "stderr",
     "output_type": "stream",
     "text": [
      "\r",
      "Epoch 3::  34%|███▍      | 17/50 [00:01<00:03,  9.31it/s, model/all/train/loss=0.165, model/all/train/lr=0.0001, spam_task/spam_dataset/valid/accuracy=0.933, spam_task/spam_dataset/valid/f1=0.923]"
     ]
    },
    {
     "name": "stderr",
     "output_type": "stream",
     "text": [
      "\r",
      "Epoch 3::  36%|███▌      | 18/50 [00:01<00:03,  9.28it/s, model/all/train/loss=0.165, model/all/train/lr=0.0001, spam_task/spam_dataset/valid/accuracy=0.933, spam_task/spam_dataset/valid/f1=0.923]"
     ]
    },
    {
     "name": "stderr",
     "output_type": "stream",
     "text": [
      "\r",
      "Epoch 3::  36%|███▌      | 18/50 [00:02<00:03,  9.28it/s, model/all/train/loss=0.163, model/all/train/lr=0.0001, spam_task/spam_dataset/valid/accuracy=0.933, spam_task/spam_dataset/valid/f1=0.923]"
     ]
    },
    {
     "name": "stderr",
     "output_type": "stream",
     "text": [
      "\r",
      "Epoch 3::  38%|███▊      | 19/50 [00:02<00:03,  9.27it/s, model/all/train/loss=0.163, model/all/train/lr=0.0001, spam_task/spam_dataset/valid/accuracy=0.933, spam_task/spam_dataset/valid/f1=0.923]"
     ]
    },
    {
     "name": "stderr",
     "output_type": "stream",
     "text": [
      "\r",
      "Epoch 3::  38%|███▊      | 19/50 [00:02<00:03,  9.27it/s, model/all/train/loss=0.16, model/all/train/lr=0.0001, spam_task/spam_dataset/valid/accuracy=0.933, spam_task/spam_dataset/valid/f1=0.923] "
     ]
    },
    {
     "name": "stderr",
     "output_type": "stream",
     "text": [
      "\r",
      "Epoch 3::  40%|████      | 20/50 [00:02<00:03,  9.27it/s, model/all/train/loss=0.16, model/all/train/lr=0.0001, spam_task/spam_dataset/valid/accuracy=0.933, spam_task/spam_dataset/valid/f1=0.923]"
     ]
    },
    {
     "name": "stderr",
     "output_type": "stream",
     "text": [
      "\r",
      "Epoch 3::  40%|████      | 20/50 [00:02<00:03,  9.27it/s, model/all/train/loss=0.159, model/all/train/lr=0.0001, spam_task/spam_dataset/valid/accuracy=0.933, spam_task/spam_dataset/valid/f1=0.923]"
     ]
    },
    {
     "name": "stderr",
     "output_type": "stream",
     "text": [
      "\r",
      "Epoch 3::  42%|████▏     | 21/50 [00:02<00:03,  9.27it/s, model/all/train/loss=0.159, model/all/train/lr=0.0001, spam_task/spam_dataset/valid/accuracy=0.933, spam_task/spam_dataset/valid/f1=0.923]"
     ]
    },
    {
     "name": "stderr",
     "output_type": "stream",
     "text": [
      "\r",
      "Epoch 3::  42%|████▏     | 21/50 [00:02<00:03,  9.27it/s, model/all/train/loss=0.158, model/all/train/lr=0.0001, spam_task/spam_dataset/valid/accuracy=0.933, spam_task/spam_dataset/valid/f1=0.923]"
     ]
    },
    {
     "name": "stderr",
     "output_type": "stream",
     "text": [
      "\r",
      "Epoch 3::  44%|████▍     | 22/50 [00:02<00:03,  9.27it/s, model/all/train/loss=0.158, model/all/train/lr=0.0001, spam_task/spam_dataset/valid/accuracy=0.933, spam_task/spam_dataset/valid/f1=0.923]"
     ]
    },
    {
     "name": "stderr",
     "output_type": "stream",
     "text": [
      "\r",
      "Epoch 3::  44%|████▍     | 22/50 [00:02<00:03,  9.27it/s, model/all/train/loss=0.157, model/all/train/lr=0.0001, spam_task/spam_dataset/valid/accuracy=0.933, spam_task/spam_dataset/valid/f1=0.923]"
     ]
    },
    {
     "name": "stderr",
     "output_type": "stream",
     "text": [
      "\r",
      "Epoch 3::  46%|████▌     | 23/50 [00:02<00:02,  9.26it/s, model/all/train/loss=0.157, model/all/train/lr=0.0001, spam_task/spam_dataset/valid/accuracy=0.933, spam_task/spam_dataset/valid/f1=0.923]"
     ]
    },
    {
     "name": "stderr",
     "output_type": "stream",
     "text": [
      "\r",
      "Epoch 3::  46%|████▌     | 23/50 [00:02<00:02,  9.26it/s, model/all/train/loss=0.157, model/all/train/lr=0.0001, spam_task/spam_dataset/valid/accuracy=0.933, spam_task/spam_dataset/valid/f1=0.923]"
     ]
    },
    {
     "name": "stderr",
     "output_type": "stream",
     "text": [
      "\r",
      "Epoch 3::  48%|████▊     | 24/50 [00:02<00:02,  9.26it/s, model/all/train/loss=0.157, model/all/train/lr=0.0001, spam_task/spam_dataset/valid/accuracy=0.933, spam_task/spam_dataset/valid/f1=0.923]"
     ]
    },
    {
     "name": "stderr",
     "output_type": "stream",
     "text": [
      "\r",
      "Epoch 3::  48%|████▊     | 24/50 [00:02<00:02,  9.26it/s, model/all/train/loss=0.153, model/all/train/lr=0.0001, spam_task/spam_dataset/valid/accuracy=0.933, spam_task/spam_dataset/valid/f1=0.923]"
     ]
    },
    {
     "name": "stderr",
     "output_type": "stream",
     "text": [
      "\r",
      "Epoch 3::  50%|█████     | 25/50 [00:02<00:02,  9.26it/s, model/all/train/loss=0.153, model/all/train/lr=0.0001, spam_task/spam_dataset/valid/accuracy=0.933, spam_task/spam_dataset/valid/f1=0.923]"
     ]
    },
    {
     "name": "stderr",
     "output_type": "stream",
     "text": [
      "\r",
      "Epoch 3::  50%|█████     | 25/50 [00:02<00:02,  9.26it/s, model/all/train/loss=0.153, model/all/train/lr=0.0001, spam_task/spam_dataset/valid/accuracy=0.933, spam_task/spam_dataset/valid/f1=0.923]"
     ]
    },
    {
     "name": "stderr",
     "output_type": "stream",
     "text": [
      "\r",
      "Epoch 3::  52%|█████▏    | 26/50 [00:02<00:02,  9.29it/s, model/all/train/loss=0.153, model/all/train/lr=0.0001, spam_task/spam_dataset/valid/accuracy=0.933, spam_task/spam_dataset/valid/f1=0.923]"
     ]
    },
    {
     "name": "stderr",
     "output_type": "stream",
     "text": [
      "\r",
      "Epoch 3::  52%|█████▏    | 26/50 [00:02<00:02,  9.29it/s, model/all/train/loss=0.153, model/all/train/lr=0.0001, spam_task/spam_dataset/valid/accuracy=0.933, spam_task/spam_dataset/valid/f1=0.923]"
     ]
    },
    {
     "name": "stderr",
     "output_type": "stream",
     "text": [
      "\r",
      "Epoch 3::  54%|█████▍    | 27/50 [00:02<00:02,  9.29it/s, model/all/train/loss=0.153, model/all/train/lr=0.0001, spam_task/spam_dataset/valid/accuracy=0.933, spam_task/spam_dataset/valid/f1=0.923]"
     ]
    },
    {
     "name": "stderr",
     "output_type": "stream",
     "text": [
      "\r",
      "Epoch 3::  54%|█████▍    | 27/50 [00:03<00:02,  9.29it/s, model/all/train/loss=0.15, model/all/train/lr=0.0001, spam_task/spam_dataset/valid/accuracy=0.933, spam_task/spam_dataset/valid/f1=0.923] "
     ]
    },
    {
     "name": "stderr",
     "output_type": "stream",
     "text": [
      "\r",
      "Epoch 3::  56%|█████▌    | 28/50 [00:03<00:02,  9.27it/s, model/all/train/loss=0.15, model/all/train/lr=0.0001, spam_task/spam_dataset/valid/accuracy=0.933, spam_task/spam_dataset/valid/f1=0.923]"
     ]
    },
    {
     "name": "stderr",
     "output_type": "stream",
     "text": [
      "\r",
      "Epoch 3::  56%|█████▌    | 28/50 [00:03<00:02,  9.27it/s, model/all/train/loss=0.148, model/all/train/lr=0.0001, spam_task/spam_dataset/valid/accuracy=0.933, spam_task/spam_dataset/valid/f1=0.923]"
     ]
    },
    {
     "name": "stderr",
     "output_type": "stream",
     "text": [
      "\r",
      "Epoch 3::  58%|█████▊    | 29/50 [00:03<00:02,  9.25it/s, model/all/train/loss=0.148, model/all/train/lr=0.0001, spam_task/spam_dataset/valid/accuracy=0.933, spam_task/spam_dataset/valid/f1=0.923]"
     ]
    },
    {
     "name": "stderr",
     "output_type": "stream",
     "text": [
      "\r",
      "Epoch 3::  58%|█████▊    | 29/50 [00:03<00:02,  9.25it/s, model/all/train/loss=0.147, model/all/train/lr=0.0001, spam_task/spam_dataset/valid/accuracy=0.933, spam_task/spam_dataset/valid/f1=0.923]"
     ]
    },
    {
     "name": "stderr",
     "output_type": "stream",
     "text": [
      "\r",
      "Epoch 3::  60%|██████    | 30/50 [00:03<00:02,  9.29it/s, model/all/train/loss=0.147, model/all/train/lr=0.0001, spam_task/spam_dataset/valid/accuracy=0.933, spam_task/spam_dataset/valid/f1=0.923]"
     ]
    },
    {
     "name": "stderr",
     "output_type": "stream",
     "text": [
      "\r",
      "Epoch 3::  60%|██████    | 30/50 [00:03<00:02,  9.29it/s, model/all/train/loss=0.148, model/all/train/lr=0.0001, spam_task/spam_dataset/valid/accuracy=0.933, spam_task/spam_dataset/valid/f1=0.923]"
     ]
    },
    {
     "name": "stderr",
     "output_type": "stream",
     "text": [
      "\r",
      "Epoch 3::  62%|██████▏   | 31/50 [00:03<00:02,  9.30it/s, model/all/train/loss=0.148, model/all/train/lr=0.0001, spam_task/spam_dataset/valid/accuracy=0.933, spam_task/spam_dataset/valid/f1=0.923]"
     ]
    },
    {
     "name": "stderr",
     "output_type": "stream",
     "text": [
      "\r",
      "Epoch 3::  62%|██████▏   | 31/50 [00:03<00:02,  9.30it/s, model/all/train/loss=0.148, model/all/train/lr=0.0001, spam_task/spam_dataset/valid/accuracy=0.933, spam_task/spam_dataset/valid/f1=0.923]"
     ]
    },
    {
     "name": "stderr",
     "output_type": "stream",
     "text": [
      "\r",
      "Epoch 3::  64%|██████▍   | 32/50 [00:03<00:02,  8.34it/s, model/all/train/loss=0.148, model/all/train/lr=0.0001, spam_task/spam_dataset/valid/accuracy=0.933, spam_task/spam_dataset/valid/f1=0.923]"
     ]
    },
    {
     "name": "stderr",
     "output_type": "stream",
     "text": [
      "\r",
      "Epoch 3::  64%|██████▍   | 32/50 [00:03<00:02,  8.34it/s, model/all/train/loss=0.145, model/all/train/lr=0.0001, spam_task/spam_dataset/valid/accuracy=0.933, spam_task/spam_dataset/valid/f1=0.923]"
     ]
    },
    {
     "name": "stderr",
     "output_type": "stream",
     "text": [
      "\r",
      "Epoch 3::  66%|██████▌   | 33/50 [00:03<00:01,  8.58it/s, model/all/train/loss=0.145, model/all/train/lr=0.0001, spam_task/spam_dataset/valid/accuracy=0.933, spam_task/spam_dataset/valid/f1=0.923]"
     ]
    },
    {
     "name": "stderr",
     "output_type": "stream",
     "text": [
      "\r",
      "Epoch 3::  66%|██████▌   | 33/50 [00:03<00:01,  8.58it/s, model/all/train/loss=0.147, model/all/train/lr=0.0001, spam_task/spam_dataset/valid/accuracy=0.933, spam_task/spam_dataset/valid/f1=0.923]"
     ]
    },
    {
     "name": "stderr",
     "output_type": "stream",
     "text": [
      "\r",
      "Epoch 3::  68%|██████▊   | 34/50 [00:03<00:01,  8.80it/s, model/all/train/loss=0.147, model/all/train/lr=0.0001, spam_task/spam_dataset/valid/accuracy=0.933, spam_task/spam_dataset/valid/f1=0.923]"
     ]
    },
    {
     "name": "stderr",
     "output_type": "stream",
     "text": [
      "\r",
      "Epoch 3::  68%|██████▊   | 34/50 [00:03<00:01,  8.80it/s, model/all/train/loss=0.146, model/all/train/lr=0.0001, spam_task/spam_dataset/valid/accuracy=0.933, spam_task/spam_dataset/valid/f1=0.923]"
     ]
    },
    {
     "name": "stderr",
     "output_type": "stream",
     "text": [
      "\r",
      "Epoch 3::  70%|███████   | 35/50 [00:03<00:01,  8.80it/s, model/all/train/loss=0.146, model/all/train/lr=0.0001, spam_task/spam_dataset/valid/accuracy=0.933, spam_task/spam_dataset/valid/f1=0.923]"
     ]
    },
    {
     "name": "stderr",
     "output_type": "stream",
     "text": [
      "\r",
      "Epoch 3::  70%|███████   | 35/50 [00:03<00:01,  8.80it/s, model/all/train/loss=0.144, model/all/train/lr=0.0001, spam_task/spam_dataset/valid/accuracy=0.933, spam_task/spam_dataset/valid/f1=0.923]"
     ]
    },
    {
     "name": "stderr",
     "output_type": "stream",
     "text": [
      "\r",
      "Epoch 3::  72%|███████▏  | 36/50 [00:03<00:01,  8.98it/s, model/all/train/loss=0.144, model/all/train/lr=0.0001, spam_task/spam_dataset/valid/accuracy=0.933, spam_task/spam_dataset/valid/f1=0.923]"
     ]
    },
    {
     "name": "stderr",
     "output_type": "stream",
     "text": [
      "\r",
      "Epoch 3::  72%|███████▏  | 36/50 [00:04<00:01,  8.98it/s, model/all/train/loss=0.144, model/all/train/lr=0.0001, spam_task/spam_dataset/valid/accuracy=0.933, spam_task/spam_dataset/valid/f1=0.923]"
     ]
    },
    {
     "name": "stderr",
     "output_type": "stream",
     "text": [
      "\r",
      "Epoch 3::  74%|███████▍  | 37/50 [00:04<00:01,  9.07it/s, model/all/train/loss=0.144, model/all/train/lr=0.0001, spam_task/spam_dataset/valid/accuracy=0.933, spam_task/spam_dataset/valid/f1=0.923]"
     ]
    },
    {
     "name": "stderr",
     "output_type": "stream",
     "text": [
      "\r",
      "Epoch 3::  74%|███████▍  | 37/50 [00:04<00:01,  9.07it/s, model/all/train/loss=0.143, model/all/train/lr=0.0001, spam_task/spam_dataset/valid/accuracy=0.933, spam_task/spam_dataset/valid/f1=0.923]"
     ]
    },
    {
     "name": "stderr",
     "output_type": "stream",
     "text": [
      "\r",
      "Epoch 3::  76%|███████▌  | 38/50 [00:04<00:01,  9.14it/s, model/all/train/loss=0.143, model/all/train/lr=0.0001, spam_task/spam_dataset/valid/accuracy=0.933, spam_task/spam_dataset/valid/f1=0.923]"
     ]
    },
    {
     "name": "stderr",
     "output_type": "stream",
     "text": [
      "\r",
      "Epoch 3::  76%|███████▌  | 38/50 [00:04<00:01,  9.14it/s, model/all/train/loss=0.143, model/all/train/lr=0.0001, spam_task/spam_dataset/valid/accuracy=0.933, spam_task/spam_dataset/valid/f1=0.923]"
     ]
    },
    {
     "name": "stderr",
     "output_type": "stream",
     "text": [
      "\r",
      "Epoch 3::  78%|███████▊  | 39/50 [00:04<00:01,  9.22it/s, model/all/train/loss=0.143, model/all/train/lr=0.0001, spam_task/spam_dataset/valid/accuracy=0.933, spam_task/spam_dataset/valid/f1=0.923]"
     ]
    },
    {
     "name": "stderr",
     "output_type": "stream",
     "text": [
      "\r",
      "Epoch 3::  78%|███████▊  | 39/50 [00:04<00:01,  9.22it/s, model/all/train/loss=0.142, model/all/train/lr=0.0001, spam_task/spam_dataset/valid/accuracy=0.933, spam_task/spam_dataset/valid/f1=0.923]"
     ]
    },
    {
     "name": "stderr",
     "output_type": "stream",
     "text": [
      "\r",
      "Epoch 3::  80%|████████  | 40/50 [00:04<00:01,  9.25it/s, model/all/train/loss=0.142, model/all/train/lr=0.0001, spam_task/spam_dataset/valid/accuracy=0.933, spam_task/spam_dataset/valid/f1=0.923]"
     ]
    },
    {
     "name": "stderr",
     "output_type": "stream",
     "text": [
      "\r",
      "Epoch 3::  80%|████████  | 40/50 [00:04<00:01,  9.25it/s, model/all/train/loss=0.143, model/all/train/lr=0.0001, spam_task/spam_dataset/valid/accuracy=0.933, spam_task/spam_dataset/valid/f1=0.923]"
     ]
    },
    {
     "name": "stderr",
     "output_type": "stream",
     "text": [
      "\r",
      "Epoch 3::  82%|████████▏ | 41/50 [00:04<00:00,  9.26it/s, model/all/train/loss=0.143, model/all/train/lr=0.0001, spam_task/spam_dataset/valid/accuracy=0.933, spam_task/spam_dataset/valid/f1=0.923]"
     ]
    },
    {
     "name": "stderr",
     "output_type": "stream",
     "text": [
      "\r",
      "Epoch 3::  82%|████████▏ | 41/50 [00:04<00:00,  9.26it/s, model/all/train/loss=0.142, model/all/train/lr=0.0001, spam_task/spam_dataset/valid/accuracy=0.933, spam_task/spam_dataset/valid/f1=0.923]"
     ]
    },
    {
     "name": "stderr",
     "output_type": "stream",
     "text": [
      "\r",
      "Epoch 3::  84%|████████▍ | 42/50 [00:04<00:00,  9.28it/s, model/all/train/loss=0.142, model/all/train/lr=0.0001, spam_task/spam_dataset/valid/accuracy=0.933, spam_task/spam_dataset/valid/f1=0.923]"
     ]
    },
    {
     "name": "stderr",
     "output_type": "stream",
     "text": [
      "\r",
      "Epoch 3::  84%|████████▍ | 42/50 [00:04<00:00,  9.28it/s, model/all/train/loss=0.147, model/all/train/lr=0.0001, spam_task/spam_dataset/valid/accuracy=0.933, spam_task/spam_dataset/valid/f1=0.923]"
     ]
    },
    {
     "name": "stderr",
     "output_type": "stream",
     "text": [
      "\r",
      "Epoch 3::  86%|████████▌ | 43/50 [00:04<00:00,  9.30it/s, model/all/train/loss=0.147, model/all/train/lr=0.0001, spam_task/spam_dataset/valid/accuracy=0.933, spam_task/spam_dataset/valid/f1=0.923]"
     ]
    },
    {
     "name": "stderr",
     "output_type": "stream",
     "text": [
      "\r",
      "Epoch 3::  86%|████████▌ | 43/50 [00:04<00:00,  9.30it/s, model/all/train/loss=0.146, model/all/train/lr=0.0001, spam_task/spam_dataset/valid/accuracy=0.933, spam_task/spam_dataset/valid/f1=0.923]"
     ]
    },
    {
     "name": "stderr",
     "output_type": "stream",
     "text": [
      "\r",
      "Epoch 3::  88%|████████▊ | 44/50 [00:04<00:00,  9.33it/s, model/all/train/loss=0.146, model/all/train/lr=0.0001, spam_task/spam_dataset/valid/accuracy=0.933, spam_task/spam_dataset/valid/f1=0.923]"
     ]
    },
    {
     "name": "stderr",
     "output_type": "stream",
     "text": [
      "\r",
      "Epoch 3::  88%|████████▊ | 44/50 [00:04<00:00,  9.33it/s, model/all/train/loss=0.145, model/all/train/lr=0.0001, spam_task/spam_dataset/valid/accuracy=0.933, spam_task/spam_dataset/valid/f1=0.923]"
     ]
    },
    {
     "name": "stderr",
     "output_type": "stream",
     "text": [
      "\r",
      "Epoch 3::  90%|█████████ | 45/50 [00:04<00:00,  9.36it/s, model/all/train/loss=0.145, model/all/train/lr=0.0001, spam_task/spam_dataset/valid/accuracy=0.933, spam_task/spam_dataset/valid/f1=0.923]"
     ]
    },
    {
     "name": "stderr",
     "output_type": "stream",
     "text": [
      "\r",
      "Epoch 3::  90%|█████████ | 45/50 [00:05<00:00,  9.36it/s, model/all/train/loss=0.145, model/all/train/lr=0.0001, spam_task/spam_dataset/valid/accuracy=0.933, spam_task/spam_dataset/valid/f1=0.923]"
     ]
    },
    {
     "name": "stderr",
     "output_type": "stream",
     "text": [
      "\r",
      "Epoch 3::  92%|█████████▏| 46/50 [00:05<00:00,  9.35it/s, model/all/train/loss=0.145, model/all/train/lr=0.0001, spam_task/spam_dataset/valid/accuracy=0.933, spam_task/spam_dataset/valid/f1=0.923]"
     ]
    },
    {
     "name": "stderr",
     "output_type": "stream",
     "text": [
      "\r",
      "Epoch 3::  92%|█████████▏| 46/50 [00:05<00:00,  9.35it/s, model/all/train/loss=0.145, model/all/train/lr=0.0001, spam_task/spam_dataset/valid/accuracy=0.933, spam_task/spam_dataset/valid/f1=0.923]"
     ]
    },
    {
     "name": "stderr",
     "output_type": "stream",
     "text": [
      "\r",
      "Epoch 3::  94%|█████████▍| 47/50 [00:05<00:00,  9.36it/s, model/all/train/loss=0.145, model/all/train/lr=0.0001, spam_task/spam_dataset/valid/accuracy=0.933, spam_task/spam_dataset/valid/f1=0.923]"
     ]
    },
    {
     "name": "stderr",
     "output_type": "stream",
     "text": [
      "\r",
      "Epoch 3::  94%|█████████▍| 47/50 [00:05<00:00,  9.36it/s, model/all/train/loss=0.144, model/all/train/lr=0.0001, spam_task/spam_dataset/valid/accuracy=0.933, spam_task/spam_dataset/valid/f1=0.923]"
     ]
    },
    {
     "name": "stderr",
     "output_type": "stream",
     "text": [
      "\r",
      "Epoch 3::  96%|█████████▌| 48/50 [00:05<00:00,  9.38it/s, model/all/train/loss=0.144, model/all/train/lr=0.0001, spam_task/spam_dataset/valid/accuracy=0.933, spam_task/spam_dataset/valid/f1=0.923]"
     ]
    },
    {
     "name": "stderr",
     "output_type": "stream",
     "text": [
      "\r",
      "Epoch 3::  96%|█████████▌| 48/50 [00:05<00:00,  9.38it/s, model/all/train/loss=0.144, model/all/train/lr=0.0001, spam_task/spam_dataset/valid/accuracy=0.933, spam_task/spam_dataset/valid/f1=0.923]"
     ]
    },
    {
     "name": "stderr",
     "output_type": "stream",
     "text": [
      "\r",
      "Epoch 3::  98%|█████████▊| 49/50 [00:05<00:00,  9.35it/s, model/all/train/loss=0.144, model/all/train/lr=0.0001, spam_task/spam_dataset/valid/accuracy=0.933, spam_task/spam_dataset/valid/f1=0.923]"
     ]
    },
    {
     "name": "stderr",
     "output_type": "stream",
     "text": [
      "\r",
      "Epoch 3::  98%|█████████▊| 49/50 [00:05<00:00,  9.35it/s, model/all/train/loss=0.144, model/all/train/lr=0.0001, spam_task/spam_dataset/valid/accuracy=0.925, spam_task/spam_dataset/valid/f1=0.913]"
     ]
    },
    {
     "name": "stderr",
     "output_type": "stream",
     "text": [
      "\r",
      "Epoch 3:: 100%|██████████| 50/50 [00:05<00:00,  8.81it/s, model/all/train/loss=0.144, model/all/train/lr=0.0001, spam_task/spam_dataset/valid/accuracy=0.925, spam_task/spam_dataset/valid/f1=0.913]"
     ]
    },
    {
     "name": "stderr",
     "output_type": "stream",
     "text": [
      "\n",
      "\r",
      "Epoch 4::   0%|          | 0/50 [00:00<?, ?it/s]"
     ]
    },
    {
     "name": "stderr",
     "output_type": "stream",
     "text": [
      "\r",
      "Epoch 4::   0%|          | 0/50 [00:00<?, ?it/s, model/all/train/loss=0.112, model/all/train/lr=0.0001, spam_task/spam_dataset/valid/accuracy=0.925, spam_task/spam_dataset/valid/f1=0.913]"
     ]
    },
    {
     "name": "stderr",
     "output_type": "stream",
     "text": [
      "\r",
      "Epoch 4::   2%|▏         | 1/50 [00:00<00:05,  9.51it/s, model/all/train/loss=0.112, model/all/train/lr=0.0001, spam_task/spam_dataset/valid/accuracy=0.925, spam_task/spam_dataset/valid/f1=0.913]"
     ]
    },
    {
     "name": "stderr",
     "output_type": "stream",
     "text": [
      "\r",
      "Epoch 4::   2%|▏         | 1/50 [00:00<00:05,  9.51it/s, model/all/train/loss=0.106, model/all/train/lr=0.0001, spam_task/spam_dataset/valid/accuracy=0.925, spam_task/spam_dataset/valid/f1=0.913]"
     ]
    },
    {
     "name": "stderr",
     "output_type": "stream",
     "text": [
      "\r",
      "Epoch 4::   4%|▍         | 2/50 [00:00<00:05,  9.45it/s, model/all/train/loss=0.106, model/all/train/lr=0.0001, spam_task/spam_dataset/valid/accuracy=0.925, spam_task/spam_dataset/valid/f1=0.913]"
     ]
    },
    {
     "name": "stderr",
     "output_type": "stream",
     "text": [
      "\r",
      "Epoch 4::   4%|▍         | 2/50 [00:00<00:05,  9.45it/s, model/all/train/loss=0.103, model/all/train/lr=0.0001, spam_task/spam_dataset/valid/accuracy=0.925, spam_task/spam_dataset/valid/f1=0.913]"
     ]
    },
    {
     "name": "stderr",
     "output_type": "stream",
     "text": [
      "\r",
      "Epoch 4::   6%|▌         | 3/50 [00:00<00:04,  9.45it/s, model/all/train/loss=0.103, model/all/train/lr=0.0001, spam_task/spam_dataset/valid/accuracy=0.925, spam_task/spam_dataset/valid/f1=0.913]"
     ]
    },
    {
     "name": "stderr",
     "output_type": "stream",
     "text": [
      "\r",
      "Epoch 4::   6%|▌         | 3/50 [00:00<00:04,  9.45it/s, model/all/train/loss=0.114, model/all/train/lr=0.0001, spam_task/spam_dataset/valid/accuracy=0.925, spam_task/spam_dataset/valid/f1=0.913]"
     ]
    },
    {
     "name": "stderr",
     "output_type": "stream",
     "text": [
      "\r",
      "Epoch 4::   8%|▊         | 4/50 [00:00<00:04,  9.41it/s, model/all/train/loss=0.114, model/all/train/lr=0.0001, spam_task/spam_dataset/valid/accuracy=0.925, spam_task/spam_dataset/valid/f1=0.913]"
     ]
    },
    {
     "name": "stderr",
     "output_type": "stream",
     "text": [
      "\r",
      "Epoch 4::   8%|▊         | 4/50 [00:00<00:04,  9.41it/s, model/all/train/loss=0.109, model/all/train/lr=0.0001, spam_task/spam_dataset/valid/accuracy=0.925, spam_task/spam_dataset/valid/f1=0.913]"
     ]
    },
    {
     "name": "stderr",
     "output_type": "stream",
     "text": [
      "\r",
      "Epoch 4::  10%|█         | 5/50 [00:00<00:04,  9.39it/s, model/all/train/loss=0.109, model/all/train/lr=0.0001, spam_task/spam_dataset/valid/accuracy=0.925, spam_task/spam_dataset/valid/f1=0.913]"
     ]
    },
    {
     "name": "stderr",
     "output_type": "stream",
     "text": [
      "\r",
      "Epoch 4::  10%|█         | 5/50 [00:00<00:04,  9.39it/s, model/all/train/loss=0.101, model/all/train/lr=0.0001, spam_task/spam_dataset/valid/accuracy=0.925, spam_task/spam_dataset/valid/f1=0.913]"
     ]
    },
    {
     "name": "stderr",
     "output_type": "stream",
     "text": [
      "\r",
      "Epoch 4::  12%|█▏        | 6/50 [00:00<00:04,  9.37it/s, model/all/train/loss=0.101, model/all/train/lr=0.0001, spam_task/spam_dataset/valid/accuracy=0.925, spam_task/spam_dataset/valid/f1=0.913]"
     ]
    },
    {
     "name": "stderr",
     "output_type": "stream",
     "text": [
      "\r",
      "Epoch 4::  12%|█▏        | 6/50 [00:00<00:04,  9.37it/s, model/all/train/loss=0.101, model/all/train/lr=0.0001, spam_task/spam_dataset/valid/accuracy=0.925, spam_task/spam_dataset/valid/f1=0.913]"
     ]
    },
    {
     "name": "stderr",
     "output_type": "stream",
     "text": [
      "\r",
      "Epoch 4::  14%|█▍        | 7/50 [00:00<00:04,  9.36it/s, model/all/train/loss=0.101, model/all/train/lr=0.0001, spam_task/spam_dataset/valid/accuracy=0.925, spam_task/spam_dataset/valid/f1=0.913]"
     ]
    },
    {
     "name": "stderr",
     "output_type": "stream",
     "text": [
      "\r",
      "Epoch 4::  14%|█▍        | 7/50 [00:00<00:04,  9.36it/s, model/all/train/loss=0.102, model/all/train/lr=0.0001, spam_task/spam_dataset/valid/accuracy=0.925, spam_task/spam_dataset/valid/f1=0.913]"
     ]
    },
    {
     "name": "stderr",
     "output_type": "stream",
     "text": [
      "\r",
      "Epoch 4::  16%|█▌        | 8/50 [00:00<00:04,  9.38it/s, model/all/train/loss=0.102, model/all/train/lr=0.0001, spam_task/spam_dataset/valid/accuracy=0.925, spam_task/spam_dataset/valid/f1=0.913]"
     ]
    },
    {
     "name": "stderr",
     "output_type": "stream",
     "text": [
      "\r",
      "Epoch 4::  16%|█▌        | 8/50 [00:00<00:04,  9.38it/s, model/all/train/loss=0.0999, model/all/train/lr=0.0001, spam_task/spam_dataset/valid/accuracy=0.925, spam_task/spam_dataset/valid/f1=0.913]"
     ]
    },
    {
     "name": "stderr",
     "output_type": "stream",
     "text": [
      "\r",
      "Epoch 4::  18%|█▊        | 9/50 [00:00<00:04,  9.37it/s, model/all/train/loss=0.0999, model/all/train/lr=0.0001, spam_task/spam_dataset/valid/accuracy=0.925, spam_task/spam_dataset/valid/f1=0.913]"
     ]
    },
    {
     "name": "stderr",
     "output_type": "stream",
     "text": [
      "\r",
      "Epoch 4::  18%|█▊        | 9/50 [00:01<00:04,  9.37it/s, model/all/train/loss=0.105, model/all/train/lr=0.0001, spam_task/spam_dataset/valid/accuracy=0.925, spam_task/spam_dataset/valid/f1=0.913] "
     ]
    },
    {
     "name": "stderr",
     "output_type": "stream",
     "text": [
      "\r",
      "Epoch 4::  20%|██        | 10/50 [00:01<00:04,  9.40it/s, model/all/train/loss=0.105, model/all/train/lr=0.0001, spam_task/spam_dataset/valid/accuracy=0.925, spam_task/spam_dataset/valid/f1=0.913]"
     ]
    },
    {
     "name": "stderr",
     "output_type": "stream",
     "text": [
      "\r",
      "Epoch 4::  20%|██        | 10/50 [00:01<00:04,  9.40it/s, model/all/train/loss=0.103, model/all/train/lr=0.0001, spam_task/spam_dataset/valid/accuracy=0.925, spam_task/spam_dataset/valid/f1=0.913]"
     ]
    },
    {
     "name": "stderr",
     "output_type": "stream",
     "text": [
      "\r",
      "Epoch 4::  22%|██▏       | 11/50 [00:01<00:04,  9.42it/s, model/all/train/loss=0.103, model/all/train/lr=0.0001, spam_task/spam_dataset/valid/accuracy=0.925, spam_task/spam_dataset/valid/f1=0.913]"
     ]
    },
    {
     "name": "stderr",
     "output_type": "stream",
     "text": [
      "\r",
      "Epoch 4::  22%|██▏       | 11/50 [00:01<00:04,  9.42it/s, model/all/train/loss=0.106, model/all/train/lr=0.0001, spam_task/spam_dataset/valid/accuracy=0.925, spam_task/spam_dataset/valid/f1=0.913]"
     ]
    },
    {
     "name": "stderr",
     "output_type": "stream",
     "text": [
      "\r",
      "Epoch 4::  24%|██▍       | 12/50 [00:01<00:04,  9.41it/s, model/all/train/loss=0.106, model/all/train/lr=0.0001, spam_task/spam_dataset/valid/accuracy=0.925, spam_task/spam_dataset/valid/f1=0.913]"
     ]
    },
    {
     "name": "stderr",
     "output_type": "stream",
     "text": [
      "\r",
      "Epoch 4::  24%|██▍       | 12/50 [00:01<00:04,  9.41it/s, model/all/train/loss=0.105, model/all/train/lr=0.0001, spam_task/spam_dataset/valid/accuracy=0.925, spam_task/spam_dataset/valid/f1=0.913]"
     ]
    },
    {
     "name": "stderr",
     "output_type": "stream",
     "text": [
      "\r",
      "Epoch 4::  26%|██▌       | 13/50 [00:01<00:03,  9.37it/s, model/all/train/loss=0.105, model/all/train/lr=0.0001, spam_task/spam_dataset/valid/accuracy=0.925, spam_task/spam_dataset/valid/f1=0.913]"
     ]
    },
    {
     "name": "stderr",
     "output_type": "stream",
     "text": [
      "\r",
      "Epoch 4::  26%|██▌       | 13/50 [00:01<00:03,  9.37it/s, model/all/train/loss=0.109, model/all/train/lr=0.0001, spam_task/spam_dataset/valid/accuracy=0.925, spam_task/spam_dataset/valid/f1=0.913]"
     ]
    },
    {
     "name": "stderr",
     "output_type": "stream",
     "text": [
      "\r",
      "Epoch 4::  28%|██▊       | 14/50 [00:01<00:03,  9.38it/s, model/all/train/loss=0.109, model/all/train/lr=0.0001, spam_task/spam_dataset/valid/accuracy=0.925, spam_task/spam_dataset/valid/f1=0.913]"
     ]
    },
    {
     "name": "stderr",
     "output_type": "stream",
     "text": [
      "\r",
      "Epoch 4::  28%|██▊       | 14/50 [00:01<00:03,  9.38it/s, model/all/train/loss=0.109, model/all/train/lr=0.0001, spam_task/spam_dataset/valid/accuracy=0.925, spam_task/spam_dataset/valid/f1=0.913]"
     ]
    },
    {
     "name": "stderr",
     "output_type": "stream",
     "text": [
      "\r",
      "Epoch 4::  30%|███       | 15/50 [00:01<00:04,  8.42it/s, model/all/train/loss=0.109, model/all/train/lr=0.0001, spam_task/spam_dataset/valid/accuracy=0.925, spam_task/spam_dataset/valid/f1=0.913]"
     ]
    },
    {
     "name": "stderr",
     "output_type": "stream",
     "text": [
      "\r",
      "Epoch 4::  30%|███       | 15/50 [00:01<00:04,  8.42it/s, model/all/train/loss=0.107, model/all/train/lr=0.0001, spam_task/spam_dataset/valid/accuracy=0.925, spam_task/spam_dataset/valid/f1=0.913]"
     ]
    },
    {
     "name": "stderr",
     "output_type": "stream",
     "text": [
      "\r",
      "Epoch 4::  32%|███▏      | 16/50 [00:01<00:04,  7.94it/s, model/all/train/loss=0.107, model/all/train/lr=0.0001, spam_task/spam_dataset/valid/accuracy=0.925, spam_task/spam_dataset/valid/f1=0.913]"
     ]
    },
    {
     "name": "stderr",
     "output_type": "stream",
     "text": [
      "\r",
      "Epoch 4::  32%|███▏      | 16/50 [00:01<00:04,  7.94it/s, model/all/train/loss=0.109, model/all/train/lr=0.0001, spam_task/spam_dataset/valid/accuracy=0.925, spam_task/spam_dataset/valid/f1=0.913]"
     ]
    },
    {
     "name": "stderr",
     "output_type": "stream",
     "text": [
      "\r",
      "Epoch 4::  34%|███▍      | 17/50 [00:01<00:04,  7.54it/s, model/all/train/loss=0.109, model/all/train/lr=0.0001, spam_task/spam_dataset/valid/accuracy=0.925, spam_task/spam_dataset/valid/f1=0.913]"
     ]
    },
    {
     "name": "stderr",
     "output_type": "stream",
     "text": [
      "\r",
      "Epoch 4::  34%|███▍      | 17/50 [00:02<00:04,  7.54it/s, model/all/train/loss=0.107, model/all/train/lr=0.0001, spam_task/spam_dataset/valid/accuracy=0.925, spam_task/spam_dataset/valid/f1=0.913]"
     ]
    },
    {
     "name": "stderr",
     "output_type": "stream",
     "text": [
      "\r",
      "Epoch 4::  36%|███▌      | 18/50 [00:02<00:04,  7.50it/s, model/all/train/loss=0.107, model/all/train/lr=0.0001, spam_task/spam_dataset/valid/accuracy=0.925, spam_task/spam_dataset/valid/f1=0.913]"
     ]
    },
    {
     "name": "stderr",
     "output_type": "stream",
     "text": [
      "\r",
      "Epoch 4::  36%|███▌      | 18/50 [00:02<00:04,  7.50it/s, model/all/train/loss=0.105, model/all/train/lr=0.0001, spam_task/spam_dataset/valid/accuracy=0.925, spam_task/spam_dataset/valid/f1=0.913]"
     ]
    },
    {
     "name": "stderr",
     "output_type": "stream",
     "text": [
      "\r",
      "Epoch 4::  38%|███▊      | 19/50 [00:02<00:04,  7.28it/s, model/all/train/loss=0.105, model/all/train/lr=0.0001, spam_task/spam_dataset/valid/accuracy=0.925, spam_task/spam_dataset/valid/f1=0.913]"
     ]
    },
    {
     "name": "stderr",
     "output_type": "stream",
     "text": [
      "\r",
      "Epoch 4::  38%|███▊      | 19/50 [00:02<00:04,  7.28it/s, model/all/train/loss=0.107, model/all/train/lr=0.0001, spam_task/spam_dataset/valid/accuracy=0.925, spam_task/spam_dataset/valid/f1=0.913]"
     ]
    },
    {
     "name": "stderr",
     "output_type": "stream",
     "text": [
      "\r",
      "Epoch 4::  40%|████      | 20/50 [00:02<00:04,  7.17it/s, model/all/train/loss=0.107, model/all/train/lr=0.0001, spam_task/spam_dataset/valid/accuracy=0.925, spam_task/spam_dataset/valid/f1=0.913]"
     ]
    },
    {
     "name": "stderr",
     "output_type": "stream",
     "text": [
      "\r",
      "Epoch 4::  40%|████      | 20/50 [00:02<00:04,  7.17it/s, model/all/train/loss=0.106, model/all/train/lr=0.0001, spam_task/spam_dataset/valid/accuracy=0.925, spam_task/spam_dataset/valid/f1=0.913]"
     ]
    },
    {
     "name": "stderr",
     "output_type": "stream",
     "text": [
      "\r",
      "Epoch 4::  42%|████▏     | 21/50 [00:02<00:04,  6.95it/s, model/all/train/loss=0.106, model/all/train/lr=0.0001, spam_task/spam_dataset/valid/accuracy=0.925, spam_task/spam_dataset/valid/f1=0.913]"
     ]
    },
    {
     "name": "stderr",
     "output_type": "stream",
     "text": [
      "\r",
      "Epoch 4::  42%|████▏     | 21/50 [00:02<00:04,  6.95it/s, model/all/train/loss=0.106, model/all/train/lr=0.0001, spam_task/spam_dataset/valid/accuracy=0.925, spam_task/spam_dataset/valid/f1=0.913]"
     ]
    },
    {
     "name": "stderr",
     "output_type": "stream",
     "text": [
      "\r",
      "Epoch 4::  44%|████▍     | 22/50 [00:02<00:03,  7.55it/s, model/all/train/loss=0.106, model/all/train/lr=0.0001, spam_task/spam_dataset/valid/accuracy=0.925, spam_task/spam_dataset/valid/f1=0.913]"
     ]
    },
    {
     "name": "stderr",
     "output_type": "stream",
     "text": [
      "\r",
      "Epoch 4::  44%|████▍     | 22/50 [00:02<00:03,  7.55it/s, model/all/train/loss=0.106, model/all/train/lr=0.0001, spam_task/spam_dataset/valid/accuracy=0.925, spam_task/spam_dataset/valid/f1=0.913]"
     ]
    },
    {
     "name": "stderr",
     "output_type": "stream",
     "text": [
      "\r",
      "Epoch 4::  46%|████▌     | 23/50 [00:02<00:03,  8.03it/s, model/all/train/loss=0.106, model/all/train/lr=0.0001, spam_task/spam_dataset/valid/accuracy=0.925, spam_task/spam_dataset/valid/f1=0.913]"
     ]
    },
    {
     "name": "stderr",
     "output_type": "stream",
     "text": [
      "\r",
      "Epoch 4::  46%|████▌     | 23/50 [00:02<00:03,  8.03it/s, model/all/train/loss=0.104, model/all/train/lr=0.0001, spam_task/spam_dataset/valid/accuracy=0.925, spam_task/spam_dataset/valid/f1=0.913]"
     ]
    },
    {
     "name": "stderr",
     "output_type": "stream",
     "text": [
      "\r",
      "Epoch 4::  48%|████▊     | 24/50 [00:02<00:03,  8.39it/s, model/all/train/loss=0.104, model/all/train/lr=0.0001, spam_task/spam_dataset/valid/accuracy=0.925, spam_task/spam_dataset/valid/f1=0.913]"
     ]
    },
    {
     "name": "stderr",
     "output_type": "stream",
     "text": [
      "\r",
      "Epoch 4::  48%|████▊     | 24/50 [00:02<00:03,  8.39it/s, model/all/train/loss=0.102, model/all/train/lr=0.0001, spam_task/spam_dataset/valid/accuracy=0.925, spam_task/spam_dataset/valid/f1=0.913]"
     ]
    },
    {
     "name": "stderr",
     "output_type": "stream",
     "text": [
      "\r",
      "Epoch 4::  50%|█████     | 25/50 [00:02<00:02,  8.66it/s, model/all/train/loss=0.102, model/all/train/lr=0.0001, spam_task/spam_dataset/valid/accuracy=0.925, spam_task/spam_dataset/valid/f1=0.913]"
     ]
    },
    {
     "name": "stderr",
     "output_type": "stream",
     "text": [
      "\r",
      "Epoch 4::  50%|█████     | 25/50 [00:03<00:02,  8.66it/s, model/all/train/loss=0.1, model/all/train/lr=0.0001, spam_task/spam_dataset/valid/accuracy=0.925, spam_task/spam_dataset/valid/f1=0.913]  "
     ]
    },
    {
     "name": "stderr",
     "output_type": "stream",
     "text": [
      "\r",
      "Epoch 4::  52%|█████▏    | 26/50 [00:03<00:02,  8.86it/s, model/all/train/loss=0.1, model/all/train/lr=0.0001, spam_task/spam_dataset/valid/accuracy=0.925, spam_task/spam_dataset/valid/f1=0.913]"
     ]
    },
    {
     "name": "stderr",
     "output_type": "stream",
     "text": [
      "\r",
      "Epoch 4::  52%|█████▏    | 26/50 [00:03<00:02,  8.86it/s, model/all/train/loss=0.103, model/all/train/lr=0.0001, spam_task/spam_dataset/valid/accuracy=0.925, spam_task/spam_dataset/valid/f1=0.913]"
     ]
    },
    {
     "name": "stderr",
     "output_type": "stream",
     "text": [
      "\r",
      "Epoch 4::  54%|█████▍    | 27/50 [00:03<00:02,  9.03it/s, model/all/train/loss=0.103, model/all/train/lr=0.0001, spam_task/spam_dataset/valid/accuracy=0.925, spam_task/spam_dataset/valid/f1=0.913]"
     ]
    },
    {
     "name": "stderr",
     "output_type": "stream",
     "text": [
      "\r",
      "Epoch 4::  54%|█████▍    | 27/50 [00:03<00:02,  9.03it/s, model/all/train/loss=0.102, model/all/train/lr=0.0001, spam_task/spam_dataset/valid/accuracy=0.925, spam_task/spam_dataset/valid/f1=0.913]"
     ]
    },
    {
     "name": "stderr",
     "output_type": "stream",
     "text": [
      "\r",
      "Epoch 4::  56%|█████▌    | 28/50 [00:03<00:02,  9.01it/s, model/all/train/loss=0.102, model/all/train/lr=0.0001, spam_task/spam_dataset/valid/accuracy=0.925, spam_task/spam_dataset/valid/f1=0.913]"
     ]
    },
    {
     "name": "stderr",
     "output_type": "stream",
     "text": [
      "\r",
      "Epoch 4::  56%|█████▌    | 28/50 [00:03<00:02,  9.01it/s, model/all/train/loss=0.101, model/all/train/lr=0.0001, spam_task/spam_dataset/valid/accuracy=0.925, spam_task/spam_dataset/valid/f1=0.913]"
     ]
    },
    {
     "name": "stderr",
     "output_type": "stream",
     "text": [
      "\r",
      "Epoch 4::  58%|█████▊    | 29/50 [00:03<00:02,  9.12it/s, model/all/train/loss=0.101, model/all/train/lr=0.0001, spam_task/spam_dataset/valid/accuracy=0.925, spam_task/spam_dataset/valid/f1=0.913]"
     ]
    },
    {
     "name": "stderr",
     "output_type": "stream",
     "text": [
      "\r",
      "Epoch 4::  58%|█████▊    | 29/50 [00:03<00:02,  9.12it/s, model/all/train/loss=0.1, model/all/train/lr=0.0001, spam_task/spam_dataset/valid/accuracy=0.925, spam_task/spam_dataset/valid/f1=0.913]  "
     ]
    },
    {
     "name": "stderr",
     "output_type": "stream",
     "text": [
      "\r",
      "Epoch 4::  60%|██████    | 30/50 [00:03<00:02,  9.22it/s, model/all/train/loss=0.1, model/all/train/lr=0.0001, spam_task/spam_dataset/valid/accuracy=0.925, spam_task/spam_dataset/valid/f1=0.913]"
     ]
    },
    {
     "name": "stderr",
     "output_type": "stream",
     "text": [
      "\r",
      "Epoch 4::  60%|██████    | 30/50 [00:03<00:02,  9.22it/s, model/all/train/loss=0.1, model/all/train/lr=0.0001, spam_task/spam_dataset/valid/accuracy=0.925, spam_task/spam_dataset/valid/f1=0.913]"
     ]
    },
    {
     "name": "stderr",
     "output_type": "stream",
     "text": [
      "\r",
      "Epoch 4::  62%|██████▏   | 31/50 [00:03<00:02,  9.27it/s, model/all/train/loss=0.1, model/all/train/lr=0.0001, spam_task/spam_dataset/valid/accuracy=0.925, spam_task/spam_dataset/valid/f1=0.913]"
     ]
    },
    {
     "name": "stderr",
     "output_type": "stream",
     "text": [
      "\r",
      "Epoch 4::  62%|██████▏   | 31/50 [00:03<00:02,  9.27it/s, model/all/train/loss=0.0998, model/all/train/lr=0.0001, spam_task/spam_dataset/valid/accuracy=0.925, spam_task/spam_dataset/valid/f1=0.913]"
     ]
    },
    {
     "name": "stderr",
     "output_type": "stream",
     "text": [
      "\r",
      "Epoch 4::  64%|██████▍   | 32/50 [00:03<00:01,  9.18it/s, model/all/train/loss=0.0998, model/all/train/lr=0.0001, spam_task/spam_dataset/valid/accuracy=0.925, spam_task/spam_dataset/valid/f1=0.913]"
     ]
    },
    {
     "name": "stderr",
     "output_type": "stream",
     "text": [
      "\r",
      "Epoch 4::  64%|██████▍   | 32/50 [00:03<00:01,  9.18it/s, model/all/train/loss=0.0988, model/all/train/lr=0.0001, spam_task/spam_dataset/valid/accuracy=0.925, spam_task/spam_dataset/valid/f1=0.913]"
     ]
    },
    {
     "name": "stderr",
     "output_type": "stream",
     "text": [
      "\r",
      "Epoch 4::  66%|██████▌   | 33/50 [00:03<00:01,  9.11it/s, model/all/train/loss=0.0988, model/all/train/lr=0.0001, spam_task/spam_dataset/valid/accuracy=0.925, spam_task/spam_dataset/valid/f1=0.913]"
     ]
    },
    {
     "name": "stderr",
     "output_type": "stream",
     "text": [
      "\r",
      "Epoch 4::  66%|██████▌   | 33/50 [00:03<00:01,  9.11it/s, model/all/train/loss=0.0982, model/all/train/lr=0.0001, spam_task/spam_dataset/valid/accuracy=0.925, spam_task/spam_dataset/valid/f1=0.913]"
     ]
    },
    {
     "name": "stderr",
     "output_type": "stream",
     "text": [
      "\r",
      "Epoch 4::  68%|██████▊   | 34/50 [00:03<00:01,  9.04it/s, model/all/train/loss=0.0982, model/all/train/lr=0.0001, spam_task/spam_dataset/valid/accuracy=0.925, spam_task/spam_dataset/valid/f1=0.913]"
     ]
    },
    {
     "name": "stderr",
     "output_type": "stream",
     "text": [
      "\r",
      "Epoch 4::  68%|██████▊   | 34/50 [00:04<00:01,  9.04it/s, model/all/train/loss=0.0973, model/all/train/lr=0.0001, spam_task/spam_dataset/valid/accuracy=0.925, spam_task/spam_dataset/valid/f1=0.913]"
     ]
    },
    {
     "name": "stderr",
     "output_type": "stream",
     "text": [
      "\r",
      "Epoch 4::  70%|███████   | 35/50 [00:04<00:01,  9.01it/s, model/all/train/loss=0.0973, model/all/train/lr=0.0001, spam_task/spam_dataset/valid/accuracy=0.925, spam_task/spam_dataset/valid/f1=0.913]"
     ]
    },
    {
     "name": "stderr",
     "output_type": "stream",
     "text": [
      "\r",
      "Epoch 4::  70%|███████   | 35/50 [00:04<00:01,  9.01it/s, model/all/train/loss=0.0974, model/all/train/lr=0.0001, spam_task/spam_dataset/valid/accuracy=0.925, spam_task/spam_dataset/valid/f1=0.913]"
     ]
    },
    {
     "name": "stderr",
     "output_type": "stream",
     "text": [
      "\r",
      "Epoch 4::  72%|███████▏  | 36/50 [00:04<00:01,  9.00it/s, model/all/train/loss=0.0974, model/all/train/lr=0.0001, spam_task/spam_dataset/valid/accuracy=0.925, spam_task/spam_dataset/valid/f1=0.913]"
     ]
    },
    {
     "name": "stderr",
     "output_type": "stream",
     "text": [
      "\r",
      "Epoch 4::  72%|███████▏  | 36/50 [00:04<00:01,  9.00it/s, model/all/train/loss=0.0965, model/all/train/lr=0.0001, spam_task/spam_dataset/valid/accuracy=0.925, spam_task/spam_dataset/valid/f1=0.913]"
     ]
    },
    {
     "name": "stderr",
     "output_type": "stream",
     "text": [
      "\r",
      "Epoch 4::  74%|███████▍  | 37/50 [00:04<00:01,  8.98it/s, model/all/train/loss=0.0965, model/all/train/lr=0.0001, spam_task/spam_dataset/valid/accuracy=0.925, spam_task/spam_dataset/valid/f1=0.913]"
     ]
    },
    {
     "name": "stderr",
     "output_type": "stream",
     "text": [
      "\r",
      "Epoch 4::  74%|███████▍  | 37/50 [00:04<00:01,  8.98it/s, model/all/train/loss=0.0953, model/all/train/lr=0.0001, spam_task/spam_dataset/valid/accuracy=0.925, spam_task/spam_dataset/valid/f1=0.913]"
     ]
    },
    {
     "name": "stderr",
     "output_type": "stream",
     "text": [
      "\r",
      "Epoch 4::  76%|███████▌  | 38/50 [00:04<00:01,  8.96it/s, model/all/train/loss=0.0953, model/all/train/lr=0.0001, spam_task/spam_dataset/valid/accuracy=0.925, spam_task/spam_dataset/valid/f1=0.913]"
     ]
    },
    {
     "name": "stderr",
     "output_type": "stream",
     "text": [
      "\r",
      "Epoch 4::  76%|███████▌  | 38/50 [00:04<00:01,  8.96it/s, model/all/train/loss=0.0947, model/all/train/lr=0.0001, spam_task/spam_dataset/valid/accuracy=0.925, spam_task/spam_dataset/valid/f1=0.913]"
     ]
    },
    {
     "name": "stderr",
     "output_type": "stream",
     "text": [
      "\r",
      "Epoch 4::  78%|███████▊  | 39/50 [00:04<00:01,  9.12it/s, model/all/train/loss=0.0947, model/all/train/lr=0.0001, spam_task/spam_dataset/valid/accuracy=0.925, spam_task/spam_dataset/valid/f1=0.913]"
     ]
    },
    {
     "name": "stderr",
     "output_type": "stream",
     "text": [
      "\r",
      "Epoch 4::  78%|███████▊  | 39/50 [00:04<00:01,  9.12it/s, model/all/train/loss=0.0942, model/all/train/lr=0.0001, spam_task/spam_dataset/valid/accuracy=0.925, spam_task/spam_dataset/valid/f1=0.913]"
     ]
    },
    {
     "name": "stderr",
     "output_type": "stream",
     "text": [
      "\r",
      "Epoch 4::  80%|████████  | 40/50 [00:04<00:01,  9.20it/s, model/all/train/loss=0.0942, model/all/train/lr=0.0001, spam_task/spam_dataset/valid/accuracy=0.925, spam_task/spam_dataset/valid/f1=0.913]"
     ]
    },
    {
     "name": "stderr",
     "output_type": "stream",
     "text": [
      "\r",
      "Epoch 4::  80%|████████  | 40/50 [00:04<00:01,  9.20it/s, model/all/train/loss=0.0946, model/all/train/lr=0.0001, spam_task/spam_dataset/valid/accuracy=0.925, spam_task/spam_dataset/valid/f1=0.913]"
     ]
    },
    {
     "name": "stderr",
     "output_type": "stream",
     "text": [
      "\r",
      "Epoch 4::  82%|████████▏ | 41/50 [00:04<00:00,  9.27it/s, model/all/train/loss=0.0946, model/all/train/lr=0.0001, spam_task/spam_dataset/valid/accuracy=0.925, spam_task/spam_dataset/valid/f1=0.913]"
     ]
    },
    {
     "name": "stderr",
     "output_type": "stream",
     "text": [
      "\r",
      "Epoch 4::  82%|████████▏ | 41/50 [00:04<00:00,  9.27it/s, model/all/train/loss=0.0948, model/all/train/lr=0.0001, spam_task/spam_dataset/valid/accuracy=0.925, spam_task/spam_dataset/valid/f1=0.913]"
     ]
    },
    {
     "name": "stderr",
     "output_type": "stream",
     "text": [
      "\r",
      "Epoch 4::  84%|████████▍ | 42/50 [00:04<00:00,  9.30it/s, model/all/train/loss=0.0948, model/all/train/lr=0.0001, spam_task/spam_dataset/valid/accuracy=0.925, spam_task/spam_dataset/valid/f1=0.913]"
     ]
    },
    {
     "name": "stderr",
     "output_type": "stream",
     "text": [
      "\r",
      "Epoch 4::  84%|████████▍ | 42/50 [00:04<00:00,  9.30it/s, model/all/train/loss=0.0953, model/all/train/lr=0.0001, spam_task/spam_dataset/valid/accuracy=0.925, spam_task/spam_dataset/valid/f1=0.913]"
     ]
    },
    {
     "name": "stderr",
     "output_type": "stream",
     "text": [
      "\r",
      "Epoch 4::  86%|████████▌ | 43/50 [00:04<00:00,  9.33it/s, model/all/train/loss=0.0953, model/all/train/lr=0.0001, spam_task/spam_dataset/valid/accuracy=0.925, spam_task/spam_dataset/valid/f1=0.913]"
     ]
    },
    {
     "name": "stderr",
     "output_type": "stream",
     "text": [
      "\r",
      "Epoch 4::  86%|████████▌ | 43/50 [00:04<00:00,  9.33it/s, model/all/train/loss=0.0954, model/all/train/lr=0.0001, spam_task/spam_dataset/valid/accuracy=0.925, spam_task/spam_dataset/valid/f1=0.913]"
     ]
    },
    {
     "name": "stderr",
     "output_type": "stream",
     "text": [
      "\r",
      "Epoch 4::  88%|████████▊ | 44/50 [00:04<00:00,  9.37it/s, model/all/train/loss=0.0954, model/all/train/lr=0.0001, spam_task/spam_dataset/valid/accuracy=0.925, spam_task/spam_dataset/valid/f1=0.913]"
     ]
    },
    {
     "name": "stderr",
     "output_type": "stream",
     "text": [
      "\r",
      "Epoch 4::  88%|████████▊ | 44/50 [00:05<00:00,  9.37it/s, model/all/train/loss=0.0947, model/all/train/lr=0.0001, spam_task/spam_dataset/valid/accuracy=0.925, spam_task/spam_dataset/valid/f1=0.913]"
     ]
    },
    {
     "name": "stderr",
     "output_type": "stream",
     "text": [
      "\r",
      "Epoch 4::  90%|█████████ | 45/50 [00:05<00:00,  9.39it/s, model/all/train/loss=0.0947, model/all/train/lr=0.0001, spam_task/spam_dataset/valid/accuracy=0.925, spam_task/spam_dataset/valid/f1=0.913]"
     ]
    },
    {
     "name": "stderr",
     "output_type": "stream",
     "text": [
      "\r",
      "Epoch 4::  90%|█████████ | 45/50 [00:05<00:00,  9.39it/s, model/all/train/loss=0.0942, model/all/train/lr=0.0001, spam_task/spam_dataset/valid/accuracy=0.925, spam_task/spam_dataset/valid/f1=0.913]"
     ]
    },
    {
     "name": "stderr",
     "output_type": "stream",
     "text": [
      "\r",
      "Epoch 4::  92%|█████████▏| 46/50 [00:05<00:00,  9.41it/s, model/all/train/loss=0.0942, model/all/train/lr=0.0001, spam_task/spam_dataset/valid/accuracy=0.925, spam_task/spam_dataset/valid/f1=0.913]"
     ]
    },
    {
     "name": "stderr",
     "output_type": "stream",
     "text": [
      "\r",
      "Epoch 4::  92%|█████████▏| 46/50 [00:05<00:00,  9.41it/s, model/all/train/loss=0.0933, model/all/train/lr=0.0001, spam_task/spam_dataset/valid/accuracy=0.925, spam_task/spam_dataset/valid/f1=0.913]"
     ]
    },
    {
     "name": "stderr",
     "output_type": "stream",
     "text": [
      "\r",
      "Epoch 4::  94%|█████████▍| 47/50 [00:05<00:00,  9.41it/s, model/all/train/loss=0.0933, model/all/train/lr=0.0001, spam_task/spam_dataset/valid/accuracy=0.925, spam_task/spam_dataset/valid/f1=0.913]"
     ]
    },
    {
     "name": "stderr",
     "output_type": "stream",
     "text": [
      "\r",
      "Epoch 4::  94%|█████████▍| 47/50 [00:05<00:00,  9.41it/s, model/all/train/loss=0.0932, model/all/train/lr=0.0001, spam_task/spam_dataset/valid/accuracy=0.925, spam_task/spam_dataset/valid/f1=0.913]"
     ]
    },
    {
     "name": "stderr",
     "output_type": "stream",
     "text": [
      "\r",
      "Epoch 4::  96%|█████████▌| 48/50 [00:05<00:00,  9.38it/s, model/all/train/loss=0.0932, model/all/train/lr=0.0001, spam_task/spam_dataset/valid/accuracy=0.925, spam_task/spam_dataset/valid/f1=0.913]"
     ]
    },
    {
     "name": "stderr",
     "output_type": "stream",
     "text": [
      "\r",
      "Epoch 4::  96%|█████████▌| 48/50 [00:05<00:00,  9.38it/s, model/all/train/loss=0.0922, model/all/train/lr=0.0001, spam_task/spam_dataset/valid/accuracy=0.925, spam_task/spam_dataset/valid/f1=0.913]"
     ]
    },
    {
     "name": "stderr",
     "output_type": "stream",
     "text": [
      "\r",
      "Epoch 4::  98%|█████████▊| 49/50 [00:05<00:00,  9.40it/s, model/all/train/loss=0.0922, model/all/train/lr=0.0001, spam_task/spam_dataset/valid/accuracy=0.925, spam_task/spam_dataset/valid/f1=0.913]"
     ]
    },
    {
     "name": "stderr",
     "output_type": "stream",
     "text": [
      "\r",
      "Epoch 4::  98%|█████████▊| 49/50 [00:05<00:00,  9.40it/s, model/all/train/loss=0.0923, model/all/train/lr=0.0001, spam_task/spam_dataset/valid/accuracy=0.917, spam_task/spam_dataset/valid/f1=0.902]"
     ]
    },
    {
     "name": "stderr",
     "output_type": "stream",
     "text": [
      "\r",
      "Epoch 4:: 100%|██████████| 50/50 [00:05<00:00,  8.84it/s, model/all/train/loss=0.0923, model/all/train/lr=0.0001, spam_task/spam_dataset/valid/accuracy=0.917, spam_task/spam_dataset/valid/f1=0.902]"
     ]
    },
    {
     "name": "stderr",
     "output_type": "stream",
     "text": [
      "\n"
     ]
    }
   ],
   "source": [
    "from snorkel.classification import MultitaskClassifier, Trainer\n",
    "\n",
    "model = MultitaskClassifier([spam_task])\n",
    "trainer = Trainer(n_epochs=5, lr=1e-4, progress_bar=True)\n",
    "trainer.fit(model, [dl_train, dl_valid])"
   ]
  },
  {
   "cell_type": "markdown",
   "metadata": {},
   "source": [
    "How well does our model do?"
   ]
  },
  {
   "cell_type": "code",
   "execution_count": 10,
   "metadata": {},
   "outputs": [
    {
     "data": {
      "text/html": [
       "<div>\n",
       "<style scoped>\n",
       "    .dataframe tbody tr th:only-of-type {\n",
       "        vertical-align: middle;\n",
       "    }\n",
       "\n",
       "    .dataframe tbody tr th {\n",
       "        vertical-align: top;\n",
       "    }\n",
       "\n",
       "    .dataframe thead th {\n",
       "        text-align: right;\n",
       "    }\n",
       "</style>\n",
       "<table border=\"1\" class=\"dataframe\">\n",
       "  <thead>\n",
       "    <tr style=\"text-align: right;\">\n",
       "      <th></th>\n",
       "      <th>label</th>\n",
       "      <th>dataset</th>\n",
       "      <th>split</th>\n",
       "      <th>metric</th>\n",
       "      <th>score</th>\n",
       "    </tr>\n",
       "  </thead>\n",
       "  <tbody>\n",
       "    <tr>\n",
       "      <th>0</th>\n",
       "      <td>spam_task</td>\n",
       "      <td>spam_dataset</td>\n",
       "      <td>train</td>\n",
       "      <td>accuracy</td>\n",
       "      <td>0.990542</td>\n",
       "    </tr>\n",
       "    <tr>\n",
       "      <th>1</th>\n",
       "      <td>spam_task</td>\n",
       "      <td>spam_dataset</td>\n",
       "      <td>train</td>\n",
       "      <td>f1</td>\n",
       "      <td>0.990937</td>\n",
       "    </tr>\n",
       "    <tr>\n",
       "      <th>2</th>\n",
       "      <td>spam_task</td>\n",
       "      <td>spam_dataset</td>\n",
       "      <td>valid</td>\n",
       "      <td>accuracy</td>\n",
       "      <td>0.916667</td>\n",
       "    </tr>\n",
       "    <tr>\n",
       "      <th>3</th>\n",
       "      <td>spam_task</td>\n",
       "      <td>spam_dataset</td>\n",
       "      <td>valid</td>\n",
       "      <td>f1</td>\n",
       "      <td>0.901961</td>\n",
       "    </tr>\n",
       "  </tbody>\n",
       "</table>\n",
       "</div>"
      ],
      "text/plain": [
       "       label       dataset  split    metric     score\n",
       "0  spam_task  spam_dataset  train  accuracy  0.990542\n",
       "1  spam_task  spam_dataset  train  f1        0.990937\n",
       "2  spam_task  spam_dataset  valid  accuracy  0.916667\n",
       "3  spam_task  spam_dataset  valid  f1        0.901961"
      ]
     },
     "execution_count": 10,
     "metadata": {},
     "output_type": "execute_result"
    }
   ],
   "source": [
    "model.score([dl_train, dl_valid], as_dataframe=True)"
   ]
  },
  {
   "cell_type": "markdown",
   "metadata": {},
   "source": [
    "## 3. Perform error analysis\n",
    "\n",
    "In overall metrics (e.g. `f1`, `accuracy`) our model appears to perform well!\n",
    "However, we emphasize we might actually be **more interested in performance for application-critical subsets,** or _slices_.\n",
    "\n",
    "Let's perform an error analysis, using [`get_label_buckets`](https://snorkel.readthedocs.io/en/master/packages/_autosummary/analysis/snorkel.analysis.get_label_buckets.html), to see where our model makes mistakes.\n",
    "We collect the predictions from the model and visualize examples in specific error buckets."
   ]
  },
  {
   "cell_type": "code",
   "execution_count": 11,
   "metadata": {},
   "outputs": [],
   "source": [
    "from snorkel.analysis import get_label_buckets\n",
    "\n",
    "outputs = model.predict(dl_valid, return_preds=True)\n",
    "error_buckets = get_label_buckets(\n",
    "    outputs[\"golds\"][\"spam_task\"], outputs[\"preds\"][\"spam_task\"]\n",
    ")"
   ]
  },
  {
   "cell_type": "markdown",
   "metadata": {},
   "source": [
    "For application purposes, we might care especially about false negatives (i.e. true label was $1$, but model predicted $0$) — for the spam task, this error mode might expose users to external redirects to malware!"
   ]
  },
  {
   "cell_type": "code",
   "execution_count": 12,
   "metadata": {},
   "outputs": [
    {
     "data": {
      "text/html": [
       "<div>\n",
       "<style scoped>\n",
       "    .dataframe tbody tr th:only-of-type {\n",
       "        vertical-align: middle;\n",
       "    }\n",
       "\n",
       "    .dataframe tbody tr th {\n",
       "        vertical-align: top;\n",
       "    }\n",
       "\n",
       "    .dataframe thead th {\n",
       "        text-align: right;\n",
       "    }\n",
       "</style>\n",
       "<table border=\"1\" class=\"dataframe\">\n",
       "  <thead>\n",
       "    <tr style=\"text-align: right;\">\n",
       "      <th></th>\n",
       "      <th>text</th>\n",
       "      <th>label</th>\n",
       "    </tr>\n",
       "  </thead>\n",
       "  <tbody>\n",
       "    <tr>\n",
       "      <th>218</th>\n",
       "      <td>WOW muslims are really egoistic..... 23% of the World population and not in this video or donating 1 dollar to the poor ones in Africa :( shame on those terrorist muslims</td>\n",
       "      <td>1</td>\n",
       "    </tr>\n",
       "    <tr>\n",
       "      <th>157</th>\n",
       "      <td>Fuck it was the best ever 0687119038 nummber of patrik kluivert his son share !﻿</td>\n",
       "      <td>1</td>\n",
       "    </tr>\n",
       "    <tr>\n",
       "      <th>154</th>\n",
       "      <td>1 753 682 421 GANGNAM STYLE ^^</td>\n",
       "      <td>1</td>\n",
       "    </tr>\n",
       "    <tr>\n",
       "      <th>31</th>\n",
       "      <td>Part 5. Comforter of the afflicted, pray for us Help of Christians, pray for us Queen of Angels, pray for us Queen of Patriarchs, pray for us Queen of Prophets, pray for us Queen of Apostles, pray for us Queen of Martyrs, pray for us Queen of Confessors, pray for us Queen of Virgins, pray for us Queen of all Saints, pray for us Queen conceived without original sin, pray for us Queen of the most holy Rosary, pray for us Queen of the family, pray for us Queen of peace, pray for us</td>\n",
       "      <td>1</td>\n",
       "    </tr>\n",
       "    <tr>\n",
       "      <th>142</th>\n",
       "      <td>I WILL NEVER FORGET THIS SONG IN MY LIFE LIKE THIS COMMENT OF YOUR HEARING THIS SONG FOR LIKE A YEAR!!!!!</td>\n",
       "      <td>1</td>\n",
       "    </tr>\n",
       "  </tbody>\n",
       "</table>\n",
       "</div>"
      ],
      "text/plain": [
       "                                                                                                                                                                                                                                                                                                                                                                                                                                                                                                     text  \\\n",
       "218  WOW muslims are really egoistic..... 23% of the World population and not in this video or donating 1 dollar to the poor ones in Africa :( shame on those terrorist muslims                                                                                                                                                                                                                                                                                                                             \n",
       "157  Fuck it was the best ever 0687119038 nummber of patrik kluivert his son share !﻿                                                                                                                                                                                                                                                                                                                                                                                                                       \n",
       "154  1 753 682 421 GANGNAM STYLE ^^                                                                                                                                                                                                                                                                                                                                                                                                                                                                         \n",
       "31   Part 5. Comforter of the afflicted, pray for us Help of Christians, pray for us Queen of Angels, pray for us Queen of Patriarchs, pray for us Queen of Prophets, pray for us Queen of Apostles, pray for us Queen of Martyrs, pray for us Queen of Confessors, pray for us Queen of Virgins, pray for us Queen of all Saints, pray for us Queen conceived without original sin, pray for us Queen of the most holy Rosary, pray for us Queen of the family, pray for us Queen of peace, pray for us    \n",
       "142  I WILL NEVER FORGET THIS SONG IN MY LIFE LIKE THIS COMMENT OF YOUR HEARING THIS SONG FOR LIKE A YEAR!!!!!                                                                                                                                                                                                                                                                                                                                                                                              \n",
       "\n",
       "     label  \n",
       "218  1      \n",
       "157  1      \n",
       "154  1      \n",
       "31   1      \n",
       "142  1      "
      ]
     },
     "execution_count": 12,
     "metadata": {},
     "output_type": "execute_result"
    }
   ],
   "source": [
    "df_valid[[\"text\", \"label\"]].iloc[error_buckets[(1, 0)]].head()"
   ]
  },
  {
   "cell_type": "markdown",
   "metadata": {},
   "source": [
    "In the next sections, we'll explore how we can programmatically monitor these error modes with built-in helpers from Snorkel."
   ]
  },
  {
   "cell_type": "markdown",
   "metadata": {},
   "source": [
    "## 4. Monitor slice performance"
   ]
  },
  {
   "cell_type": "markdown",
   "metadata": {},
   "source": [
    "In order to monitor performance on our `short_link` slice, we add labels to an existing dataloader.\n",
    "First, for our $n$ examples and $k$ slices in each split, we apply the SF to our data to create an $n \\times k$ matrix. (So far, $k=1$)."
   ]
  },
  {
   "cell_type": "code",
   "execution_count": 13,
   "metadata": {},
   "outputs": [
    {
     "name": "stderr",
     "output_type": "stream",
     "text": [
      "\r",
      "  0%|          | 0/1586 [00:00<?, ?it/s]"
     ]
    },
    {
     "name": "stderr",
     "output_type": "stream",
     "text": [
      "\r",
      "100%|██████████| 1586/1586 [00:00<00:00, 42342.98it/s]"
     ]
    },
    {
     "name": "stderr",
     "output_type": "stream",
     "text": [
      "\n",
      "\r",
      "  0%|          | 0/120 [00:00<?, ?it/s]"
     ]
    },
    {
     "name": "stderr",
     "output_type": "stream",
     "text": [
      "\r",
      "100%|██████████| 120/120 [00:00<00:00, 30124.28it/s]"
     ]
    },
    {
     "name": "stderr",
     "output_type": "stream",
     "text": [
      "\n",
      "\r",
      "  0%|          | 0/250 [00:00<?, ?it/s]"
     ]
    },
    {
     "name": "stderr",
     "output_type": "stream",
     "text": [
      "\r",
      "100%|██████████| 250/250 [00:00<00:00, 36140.35it/s]"
     ]
    },
    {
     "name": "stderr",
     "output_type": "stream",
     "text": [
      "\n"
     ]
    }
   ],
   "source": [
    "from snorkel.slicing import PandasSFApplier\n",
    "\n",
    "applier = PandasSFApplier(sfs)\n",
    "S_train = applier.apply(df_train)\n",
    "S_valid = applier.apply(df_valid)\n",
    "S_test = applier.apply(df_test)"
   ]
  },
  {
   "cell_type": "markdown",
   "metadata": {},
   "source": [
    "Specifically, [`add_slice_labels`](https://snorkel.readthedocs.io/en/master/packages/_autosummary/slicing/snorkel.slicing.add_slice_labels.html#snorkel.slicing.add_slice_labels) will add two sets of labels for each slice:\n",
    "* `spam_task_slice:{slice_name}_ind`: an indicator label, which corresponds to the outputs of the slicing functions.\n",
    "These indicate whether each example is in the slice (`label=1`)or not (`label=0`).\n",
    "* `spam_task_slice:{slice_name}_pred`: a _masked_ set of the original task labels (in this case, labeled `spam_task`) for each slice. Examples that are masked (with `label=-1`) will not contribute to loss or scoring."
   ]
  },
  {
   "cell_type": "code",
   "execution_count": 14,
   "metadata": {},
   "outputs": [],
   "source": [
    "from snorkel.slicing import add_slice_labels\n",
    "\n",
    "slice_names = [sf.name for sf in sfs]\n",
    "add_slice_labels(dl_train, spam_task, S_train, slice_names)\n",
    "add_slice_labels(dl_valid, spam_task, S_valid, slice_names)\n",
    "add_slice_labels(dl_test, spam_task, S_test, slice_names)"
   ]
  },
  {
   "cell_type": "code",
   "execution_count": 15,
   "metadata": {},
   "outputs": [
    {
     "data": {
      "text/plain": [
       "DictDataset(name=spam_dataset, X_keys=['bow_features'], Y_keys=['spam_task', 'spam_task_slice:short_link_ind', 'spam_task_slice:short_link_pred', 'spam_task_slice:base_ind', 'spam_task_slice:base_pred'])"
      ]
     },
     "execution_count": 15,
     "metadata": {},
     "output_type": "execute_result"
    }
   ],
   "source": [
    "dl_valid.dataset"
   ]
  },
  {
   "cell_type": "markdown",
   "metadata": {},
   "source": [
    "With our updated dataloader, we want to evaluate our model on the defined slice.\n",
    "In the  [`MultitaskClassifier`](https://snorkel.readthedocs.io/en/master/packages/_autosummary/classification/snorkel.classification.MultitaskClassifier.html), we can call [`score`](https://snorkel.readthedocs.io/en/master/packages/_autosummary/classification/snorkel.classification.MultitaskClassifier.html#snorkel.classification.MultitaskClassifier.score) with an additional argument, `remap_labels`, to specify that the slice's prediction labels, `spam_task_slice:short_link_pred`, should be mapped to the `spam_task` for evaluation."
   ]
  },
  {
   "cell_type": "code",
   "execution_count": 16,
   "metadata": {},
   "outputs": [
    {
     "data": {
      "text/html": [
       "<div>\n",
       "<style scoped>\n",
       "    .dataframe tbody tr th:only-of-type {\n",
       "        vertical-align: middle;\n",
       "    }\n",
       "\n",
       "    .dataframe tbody tr th {\n",
       "        vertical-align: top;\n",
       "    }\n",
       "\n",
       "    .dataframe thead th {\n",
       "        text-align: right;\n",
       "    }\n",
       "</style>\n",
       "<table border=\"1\" class=\"dataframe\">\n",
       "  <thead>\n",
       "    <tr style=\"text-align: right;\">\n",
       "      <th></th>\n",
       "      <th>label</th>\n",
       "      <th>dataset</th>\n",
       "      <th>split</th>\n",
       "      <th>metric</th>\n",
       "      <th>score</th>\n",
       "    </tr>\n",
       "  </thead>\n",
       "  <tbody>\n",
       "    <tr>\n",
       "      <th>0</th>\n",
       "      <td>spam_task</td>\n",
       "      <td>spam_dataset</td>\n",
       "      <td>valid</td>\n",
       "      <td>accuracy</td>\n",
       "      <td>0.916667</td>\n",
       "    </tr>\n",
       "    <tr>\n",
       "      <th>1</th>\n",
       "      <td>spam_task</td>\n",
       "      <td>spam_dataset</td>\n",
       "      <td>valid</td>\n",
       "      <td>f1</td>\n",
       "      <td>0.901961</td>\n",
       "    </tr>\n",
       "    <tr>\n",
       "      <th>2</th>\n",
       "      <td>spam_task_slice:short_link_pred</td>\n",
       "      <td>spam_dataset</td>\n",
       "      <td>valid</td>\n",
       "      <td>accuracy</td>\n",
       "      <td>0.400000</td>\n",
       "    </tr>\n",
       "    <tr>\n",
       "      <th>3</th>\n",
       "      <td>spam_task_slice:short_link_pred</td>\n",
       "      <td>spam_dataset</td>\n",
       "      <td>valid</td>\n",
       "      <td>f1</td>\n",
       "      <td>0.571429</td>\n",
       "    </tr>\n",
       "    <tr>\n",
       "      <th>4</th>\n",
       "      <td>spam_task</td>\n",
       "      <td>spam_dataset</td>\n",
       "      <td>test</td>\n",
       "      <td>accuracy</td>\n",
       "      <td>0.928000</td>\n",
       "    </tr>\n",
       "    <tr>\n",
       "      <th>5</th>\n",
       "      <td>spam_task</td>\n",
       "      <td>spam_dataset</td>\n",
       "      <td>test</td>\n",
       "      <td>f1</td>\n",
       "      <td>0.918182</td>\n",
       "    </tr>\n",
       "    <tr>\n",
       "      <th>6</th>\n",
       "      <td>spam_task_slice:short_link_pred</td>\n",
       "      <td>spam_dataset</td>\n",
       "      <td>test</td>\n",
       "      <td>accuracy</td>\n",
       "      <td>0.333333</td>\n",
       "    </tr>\n",
       "    <tr>\n",
       "      <th>7</th>\n",
       "      <td>spam_task_slice:short_link_pred</td>\n",
       "      <td>spam_dataset</td>\n",
       "      <td>test</td>\n",
       "      <td>f1</td>\n",
       "      <td>0.500000</td>\n",
       "    </tr>\n",
       "  </tbody>\n",
       "</table>\n",
       "</div>"
      ],
      "text/plain": [
       "                             label       dataset  split    metric     score\n",
       "0  spam_task                        spam_dataset  valid  accuracy  0.916667\n",
       "1  spam_task                        spam_dataset  valid  f1        0.901961\n",
       "2  spam_task_slice:short_link_pred  spam_dataset  valid  accuracy  0.400000\n",
       "3  spam_task_slice:short_link_pred  spam_dataset  valid  f1        0.571429\n",
       "4  spam_task                        spam_dataset  test   accuracy  0.928000\n",
       "5  spam_task                        spam_dataset  test   f1        0.918182\n",
       "6  spam_task_slice:short_link_pred  spam_dataset  test   accuracy  0.333333\n",
       "7  spam_task_slice:short_link_pred  spam_dataset  test   f1        0.500000"
      ]
     },
     "execution_count": 16,
     "metadata": {},
     "output_type": "execute_result"
    }
   ],
   "source": [
    "model.score(\n",
    "    dataloaders=[dl_valid, dl_test],\n",
    "    remap_labels={\"spam_task_slice:short_link_pred\": \"spam_task\"},\n",
    "    as_dataframe=True,\n",
    ")"
   ]
  },
  {
   "cell_type": "markdown",
   "metadata": {},
   "source": [
    "### Performance monitoring with [`SliceScorer`](https://snorkel.readthedocs.io/en/master/packages/_autosummary/slicing/snorkel.slicing.SliceScorer.html#snorkel.slicing.SliceScorer)"
   ]
  },
  {
   "cell_type": "markdown",
   "metadata": {},
   "source": [
    "If you're using a model other than [`MultitaskClassifier`](https://snorkel.readthedocs.io/en/master/packages/_autosummary/classification/snorkel.classification.MultitaskClassifier.html#snorkel-classification-multitaskclassifier), you can still evaluate on slices using the more general `SliceScorer` class.\n",
    "\n",
    "We define a `LogisticRegression` model from sklearn and show how we might visualize these slice-specific scores."
   ]
  },
  {
   "cell_type": "code",
   "execution_count": 17,
   "metadata": {},
   "outputs": [
    {
     "data": {
      "text/plain": [
       "0.928"
      ]
     },
     "execution_count": 17,
     "metadata": {},
     "output_type": "execute_result"
    }
   ],
   "source": [
    "from sklearn.linear_model import LogisticRegression\n",
    "\n",
    "sklearn_model = LogisticRegression(C=0.001, solver=\"liblinear\")\n",
    "sklearn_model.fit(X=X_train, y=Y_train)\n",
    "sklearn_model.score(X_test, Y_test)"
   ]
  },
  {
   "cell_type": "markdown",
   "metadata": {},
   "source": [
    "Now, we initialize the [`SliceScorer`](https://snorkel.readthedocs.io/en/master/packages/_autosummary/slicing/snorkel.slicing.SliceScorer.html#snorkel.slicing.SliceScorer) using 1) an existing [`Scorer`](https://snorkel.readthedocs.io/en/master/packages/_autosummary/slicing/snorkel.slicing.SliceScorer.html) and 2) desired `slice_names` to see slice-specific performance."
   ]
  },
  {
   "cell_type": "code",
   "execution_count": 18,
   "metadata": {},
   "outputs": [],
   "source": [
    "from snorkel.utils import preds_to_probs\n",
    "\n",
    "preds_test = sklearn_model.predict(X_test)\n",
    "probs_test = preds_to_probs(preds_test, 2)"
   ]
  },
  {
   "cell_type": "code",
   "execution_count": 19,
   "metadata": {},
   "outputs": [
    {
     "data": {
      "text/html": [
       "<div>\n",
       "<style scoped>\n",
       "    .dataframe tbody tr th:only-of-type {\n",
       "        vertical-align: middle;\n",
       "    }\n",
       "\n",
       "    .dataframe tbody tr th {\n",
       "        vertical-align: top;\n",
       "    }\n",
       "\n",
       "    .dataframe thead th {\n",
       "        text-align: right;\n",
       "    }\n",
       "</style>\n",
       "<table border=\"1\" class=\"dataframe\">\n",
       "  <thead>\n",
       "    <tr style=\"text-align: right;\">\n",
       "      <th></th>\n",
       "      <th>f1</th>\n",
       "    </tr>\n",
       "  </thead>\n",
       "  <tbody>\n",
       "    <tr>\n",
       "      <th>overall</th>\n",
       "      <td>0.925</td>\n",
       "    </tr>\n",
       "    <tr>\n",
       "      <th>short_link</th>\n",
       "      <td>0.500</td>\n",
       "    </tr>\n",
       "  </tbody>\n",
       "</table>\n",
       "</div>"
      ],
      "text/plain": [
       "               f1\n",
       "overall     0.925\n",
       "short_link  0.500"
      ]
     },
     "execution_count": 19,
     "metadata": {},
     "output_type": "execute_result"
    }
   ],
   "source": [
    "from snorkel.analysis import Scorer\n",
    "from snorkel.slicing import SliceScorer\n",
    "\n",
    "scorer = Scorer(metrics=[\"accuracy\", \"f1\"])\n",
    "slice_scorer = SliceScorer(slice_names)\n",
    "slice_scorer.score_slices(\n",
    "    S=S_test, golds=Y_test, preds=preds_test, probs=probs_test, as_dataframe=True\n",
    ")"
   ]
  },
  {
   "cell_type": "markdown",
   "metadata": {},
   "source": [
    "### Write additional slicing functions (SFs)\n",
    "\n",
    "We'll take inspiration from the labeling tutorial to write additional slicing functions."
   ]
  },
  {
   "cell_type": "code",
   "execution_count": 20,
   "metadata": {},
   "outputs": [],
   "source": [
    "from snorkel.slicing import SlicingFunction, slicing_function\n",
    "from snorkel.preprocess import preprocessor\n",
    "\n",
    "\n",
    "# Keyword-based SFs\n",
    "def keyword_lookup(x, keywords):\n",
    "    return any(word in x.text.lower() for word in keywords)\n",
    "\n",
    "\n",
    "def make_keyword_sf(keywords):\n",
    "    return SlicingFunction(\n",
    "        name=f\"keyword_{keywords[0]}\",\n",
    "        f=keyword_lookup,\n",
    "        resources=dict(keywords=keywords),\n",
    "    )\n",
    "\n",
    "\n",
    "keyword_subscribe = make_keyword_sf(keywords=[\"subscribe\"])\n",
    "keyword_please = make_keyword_sf(keywords=[\"please\", \"plz\"])\n",
    "\n",
    "\n",
    "# Regex-based SF\n",
    "@slicing_function()\n",
    "def regex_check_out(x):\n",
    "    return bool(re.search(r\"check.*out\", x.text, flags=re.I))\n",
    "\n",
    "\n",
    "# Heuristic-based SF\n",
    "@slicing_function()\n",
    "def short_comment(x):\n",
    "    \"\"\"Ham comments are often short, such as 'cool video!'\"\"\"\n",
    "    return len(x.text.split()) < 5\n",
    "\n",
    "\n",
    "# Leverage preprocessor in SF\n",
    "from textblob import TextBlob\n",
    "\n",
    "\n",
    "@preprocessor(memoize=True)\n",
    "def textblob_sentiment(x):\n",
    "    scores = TextBlob(x.text)\n",
    "    x.polarity = scores.sentiment.polarity\n",
    "    return x\n",
    "\n",
    "\n",
    "@slicing_function(pre=[textblob_sentiment])\n",
    "def textblob_polarity(x):\n",
    "    return x.polarity > 0.9"
   ]
  },
  {
   "cell_type": "markdown",
   "metadata": {},
   "source": [
    "Like we saw above, we'd like to visualize examples in the slice.\n",
    "In this case, most examples with high-polarity sentiments are strong opinions about the video — hence, they are usually relevant to the video, and the corresponding labels are $0$."
   ]
  },
  {
   "cell_type": "code",
   "execution_count": 21,
   "metadata": {},
   "outputs": [
    {
     "name": "stderr",
     "output_type": "stream",
     "text": [
      "\r",
      "  0%|          | 0/120 [00:00<?, ?it/s]"
     ]
    },
    {
     "name": "stderr",
     "output_type": "stream",
     "text": [
      "\r",
      " 62%|██████▏   | 74/120 [00:00<00:00, 739.03it/s]"
     ]
    },
    {
     "name": "stderr",
     "output_type": "stream",
     "text": [
      "\r",
      "100%|██████████| 120/120 [00:00<00:00, 854.84it/s]"
     ]
    },
    {
     "name": "stderr",
     "output_type": "stream",
     "text": [
      "\n"
     ]
    },
    {
     "data": {
      "text/html": [
       "<div>\n",
       "<style scoped>\n",
       "    .dataframe tbody tr th:only-of-type {\n",
       "        vertical-align: middle;\n",
       "    }\n",
       "\n",
       "    .dataframe tbody tr th {\n",
       "        vertical-align: top;\n",
       "    }\n",
       "\n",
       "    .dataframe thead th {\n",
       "        text-align: right;\n",
       "    }\n",
       "</style>\n",
       "<table border=\"1\" class=\"dataframe\">\n",
       "  <thead>\n",
       "    <tr style=\"text-align: right;\">\n",
       "      <th></th>\n",
       "      <th>text</th>\n",
       "      <th>label</th>\n",
       "    </tr>\n",
       "  </thead>\n",
       "  <tbody>\n",
       "    <tr>\n",
       "      <th>16</th>\n",
       "      <td>Love this song !!!!!!</td>\n",
       "      <td>0</td>\n",
       "    </tr>\n",
       "    <tr>\n",
       "      <th>309</th>\n",
       "      <td>One of the best song of all the time﻿</td>\n",
       "      <td>0</td>\n",
       "    </tr>\n",
       "    <tr>\n",
       "      <th>164</th>\n",
       "      <td>She is perfect</td>\n",
       "      <td>0</td>\n",
       "    </tr>\n",
       "    <tr>\n",
       "      <th>310</th>\n",
       "      <td>Best world cup offical song﻿</td>\n",
       "      <td>0</td>\n",
       "    </tr>\n",
       "    <tr>\n",
       "      <th>352</th>\n",
       "      <td>I remember this :D</td>\n",
       "      <td>0</td>\n",
       "    </tr>\n",
       "  </tbody>\n",
       "</table>\n",
       "</div>"
      ],
      "text/plain": [
       "                                      text  label\n",
       "16   Love this song !!!!!!                  0    \n",
       "309  One of the best song of all the time﻿  0    \n",
       "164  She is perfect                         0    \n",
       "310  Best world cup offical song﻿           0    \n",
       "352  I remember this :D                     0    "
      ]
     },
     "execution_count": 21,
     "metadata": {},
     "output_type": "execute_result"
    }
   ],
   "source": [
    "polarity_df = slice_dataframe(df_valid, textblob_polarity)\n",
    "polarity_df[[\"text\", \"label\"]].head()"
   ]
  },
  {
   "cell_type": "markdown",
   "metadata": {},
   "source": [
    "Like we did above, we can evaluate model performance on _all SFs_ using the `SliceScorer`."
   ]
  },
  {
   "cell_type": "code",
   "execution_count": 22,
   "metadata": {},
   "outputs": [],
   "source": [
    "extra_sfs = [\n",
    "    keyword_subscribe,\n",
    "    keyword_please,\n",
    "    regex_check_out,\n",
    "    short_comment,\n",
    "    textblob_polarity,\n",
    "]\n",
    "\n",
    "sfs = [short_link] + extra_sfs\n",
    "slice_names = [sf.name for sf in sfs]"
   ]
  },
  {
   "cell_type": "code",
   "execution_count": 23,
   "metadata": {},
   "outputs": [
>>>>>>> Update
    {
     "name": "stderr",
     "output_type": "stream",
     "text": [
      "\r",
      "Epoch 1::  72%|███████▏  | 18/25 [00:20<00:07,  1.09s/it, model/all/train/loss=0.103, model/all/train/lr=0.0001, task/SnorkelDataset/valid/accuracy=0.908, task/SnorkelDataset/valid/f1=0.893]"
     ]
    },
    {
     "name": "stderr",
     "output_type": "stream",
     "text": [
      "\r",
<<<<<<< HEAD
      "Epoch 1::  76%|███████▌  | 19/25 [00:20<00:06,  1.09s/it, model/all/train/loss=0.103, model/all/train/lr=0.0001, task/SnorkelDataset/valid/accuracy=0.908, task/SnorkelDataset/valid/f1=0.893]"
=======
      " 42%|████▏     | 105/250 [00:00<00:00, 1049.76it/s]"
>>>>>>> Update
     ]
    },
    {
     "name": "stderr",
     "output_type": "stream",
     "text": [
      "\r",
<<<<<<< HEAD
      "Epoch 1::  76%|███████▌  | 19/25 [00:21<00:06,  1.09s/it, model/all/train/loss=0.0999, model/all/train/lr=0.0001, task/SnorkelDataset/valid/accuracy=0.908, task/SnorkelDataset/valid/f1=0.893]"
=======
      " 82%|████████▏ | 206/250 [00:00<00:00, 1034.03it/s]"
>>>>>>> Update
     ]
    },
    {
     "name": "stderr",
     "output_type": "stream",
     "text": [
      "\r",
<<<<<<< HEAD
      "Epoch 1::  80%|████████  | 20/25 [00:21<00:05,  1.09s/it, model/all/train/loss=0.0999, model/all/train/lr=0.0001, task/SnorkelDataset/valid/accuracy=0.908, task/SnorkelDataset/valid/f1=0.893]"
=======
      "100%|██████████| 250/250 [00:00<00:00, 1021.20it/s]"
>>>>>>> Update
     ]
    },
    {
     "name": "stderr",
     "output_type": "stream",
     "text": [
      "\r",
      "Epoch 1::  80%|████████  | 20/25 [00:22<00:05,  1.09s/it, model/all/train/loss=0.0956, model/all/train/lr=0.0001, task/SnorkelDataset/valid/accuracy=0.908, task/SnorkelDataset/valid/f1=0.893]"
     ]
    },
    {
     "name": "stderr",
     "output_type": "stream",
     "text": [
      "\r",
      "Epoch 1::  84%|████████▍ | 21/25 [00:22<00:04,  1.09s/it, model/all/train/loss=0.0956, model/all/train/lr=0.0001, task/SnorkelDataset/valid/accuracy=0.908, task/SnorkelDataset/valid/f1=0.893]"
     ]
    },
    {
     "name": "stderr",
     "output_type": "stream",
     "text": [
      "\r",
      "Epoch 1::  84%|████████▍ | 21/25 [00:23<00:04,  1.09s/it, model/all/train/loss=0.0979, model/all/train/lr=0.0001, task/SnorkelDataset/valid/accuracy=0.908, task/SnorkelDataset/valid/f1=0.893]"
     ]
    },
    {
     "name": "stderr",
     "output_type": "stream",
     "text": [
      "\r",
      "Epoch 1::  88%|████████▊ | 22/25 [00:23<00:03,  1.09s/it, model/all/train/loss=0.0979, model/all/train/lr=0.0001, task/SnorkelDataset/valid/accuracy=0.908, task/SnorkelDataset/valid/f1=0.893]"
     ]
    },
    {
     "name": "stderr",
     "output_type": "stream",
     "text": [
      "\r",
      "Epoch 1::  88%|████████▊ | 22/25 [00:24<00:03,  1.09s/it, model/all/train/loss=0.0974, model/all/train/lr=0.0001, task/SnorkelDataset/valid/accuracy=0.908, task/SnorkelDataset/valid/f1=0.893]"
     ]
    },
    {
     "name": "stderr",
     "output_type": "stream",
     "text": [
      "\r",
      "Epoch 1::  92%|█████████▏| 23/25 [00:24<00:02,  1.08s/it, model/all/train/loss=0.0974, model/all/train/lr=0.0001, task/SnorkelDataset/valid/accuracy=0.908, task/SnorkelDataset/valid/f1=0.893]"
     ]
    },
    {
     "name": "stderr",
     "output_type": "stream",
     "text": [
      "\r",
      "Epoch 1::  92%|█████████▏| 23/25 [00:26<00:02,  1.08s/it, model/all/train/loss=0.0959, model/all/train/lr=0.0001, task/SnorkelDataset/valid/accuracy=0.908, task/SnorkelDataset/valid/f1=0.893]"
     ]
    },
    {
     "name": "stderr",
     "output_type": "stream",
     "text": [
      "\r",
      "Epoch 1::  96%|█████████▌| 24/25 [00:26<00:01,  1.08s/it, model/all/train/loss=0.0959, model/all/train/lr=0.0001, task/SnorkelDataset/valid/accuracy=0.908, task/SnorkelDataset/valid/f1=0.893]"
     ]
    },
    {
     "name": "stderr",
     "output_type": "stream",
     "text": [
      "\r",
      "Epoch 1::  96%|█████████▌| 24/25 [00:27<00:01,  1.08s/it, model/all/train/loss=0.0931, model/all/train/lr=0.0001, task/SnorkelDataset/valid/accuracy=0.933, task/SnorkelDataset/valid/f1=0.926]"
     ]
    },
    {
     "name": "stderr",
     "output_type": "stream",
     "text": [
      "\r",
      "Epoch 1:: 100%|██████████| 25/25 [00:27<00:00,  1.11s/it, model/all/train/loss=0.0931, model/all/train/lr=0.0001, task/SnorkelDataset/valid/accuracy=0.933, task/SnorkelDataset/valid/f1=0.926]"
     ]
    },
    {
     "name": "stderr",
     "output_type": "stream",
     "text": [
      "\n"
     ]
    }
   ],
   "source": [
    "from snorkel.classification import Trainer\n",
    "\n",
    "# For demonstration purposes, we set n_epochs=2\n",
    "trainer = Trainer(lr=1e-4, n_epochs=2)\n",
    "trainer.fit(slice_model, [train_dl, valid_dl])"
   ]
  },
  {
   "cell_type": "markdown",
   "metadata": {},
   "source": [
    "### Representation learning with slices"
   ]
  },
  {
   "cell_type": "markdown",
   "metadata": {},
   "source": [
    "To cope with scale, we will attempt to learn and combine many slice-specific representations with an attention mechanism.\n",
    "(For details about this approach, please see our technical report — coming soon!)"
   ]
  },
  {
   "cell_type": "markdown",
   "metadata": {},
   "source": [
    "First, we'll generate the remaining `S` matrixes with the new set of slicing functions."
   ]
  },
  {
   "cell_type": "code",
   "execution_count": 18,
   "metadata": {},
   "outputs": [
    {
     "name": "stderr",
     "output_type": "stream",
     "text": [
      "\r",
      "  0%|          | 0/1586 [00:00<?, ?it/s]"
     ]
    },
    {
     "name": "stderr",
     "output_type": "stream",
     "text": [
      "\r",
<<<<<<< HEAD
      "  7%|▋         | 105/1586 [00:00<00:01, 1041.20it/s]"
=======
      "  7%|▋         | 106/1586 [00:00<00:01, 1051.31it/s]"
>>>>>>> Update
     ]
    },
    {
     "name": "stderr",
     "output_type": "stream",
     "text": [
      "\r",
<<<<<<< HEAD
      " 13%|█▎        | 208/1586 [00:00<00:01, 1035.81it/s]"
=======
      " 13%|█▎        | 210/1586 [00:00<00:01, 1045.95it/s]"
>>>>>>> Update
     ]
    },
    {
     "name": "stderr",
     "output_type": "stream",
     "text": [
      "\r",
<<<<<<< HEAD
      " 20%|█▉        | 313/1586 [00:00<00:01, 1037.33it/s]"
=======
      " 20%|█▉        | 314/1586 [00:00<00:01, 1044.04it/s]"
>>>>>>> Update
     ]
    },
    {
     "name": "stderr",
     "output_type": "stream",
     "text": [
      "\r",
<<<<<<< HEAD
      " 26%|██▌       | 415/1586 [00:00<00:01, 1030.83it/s]"
=======
      " 26%|██▋       | 417/1586 [00:00<00:01, 1039.16it/s]"
>>>>>>> Update
     ]
    },
    {
     "name": "stderr",
     "output_type": "stream",
     "text": [
      "\r",
<<<<<<< HEAD
      " 33%|███▎      | 518/1586 [00:00<00:01, 1028.92it/s]"
=======
      " 33%|███▎      | 521/1586 [00:00<00:01, 1037.04it/s]"
>>>>>>> Update
     ]
    },
    {
     "name": "stderr",
     "output_type": "stream",
     "text": [
      "\r",
<<<<<<< HEAD
      " 39%|███▉      | 621/1586 [00:00<00:00, 1027.85it/s]"
=======
      " 39%|███▉      | 625/1586 [00:00<00:00, 1036.40it/s]"
>>>>>>> Update
     ]
    },
    {
     "name": "stderr",
     "output_type": "stream",
     "text": [
      "\r",
<<<<<<< HEAD
      " 46%|████▌     | 725/1586 [00:00<00:00, 1030.78it/s]"
=======
      " 46%|████▌     | 730/1586 [00:00<00:00, 1039.33it/s]"
>>>>>>> Update
     ]
    },
    {
     "name": "stderr",
     "output_type": "stream",
     "text": [
      "\r",
<<<<<<< HEAD
      " 53%|█████▎    | 834/1586 [00:00<00:00, 1045.49it/s]"
=======
      " 53%|█████▎    | 839/1586 [00:00<00:00, 1052.48it/s]"
>>>>>>> Update
     ]
    },
    {
     "name": "stderr",
     "output_type": "stream",
     "text": [
      "\r",
<<<<<<< HEAD
      " 59%|█████▉    | 933/1586 [00:00<00:00, 888.79it/s] "
=======
      " 60%|█████▉    | 947/1586 [00:00<00:00, 1060.08it/s]"
>>>>>>> Update
     ]
    },
    {
     "name": "stderr",
     "output_type": "stream",
     "text": [
      "\r",
<<<<<<< HEAD
      " 66%|██████▌   | 1040/1586 [00:01<00:00, 935.10it/s]"
=======
      " 67%|██████▋   | 1055/1586 [00:01<00:00, 1063.58it/s]"
>>>>>>> Update
     ]
    },
    {
     "name": "stderr",
     "output_type": "stream",
     "text": [
      "\r",
<<<<<<< HEAD
      " 72%|███████▏  | 1147/1586 [00:01<00:00, 969.58it/s]"
=======
      " 73%|███████▎  | 1162/1586 [00:01<00:00, 1062.71it/s]"
>>>>>>> Update
     ]
    },
    {
     "name": "stderr",
     "output_type": "stream",
     "text": [
      "\r",
<<<<<<< HEAD
      " 79%|███████▉  | 1251/1586 [00:01<00:00, 986.78it/s]"
=======
      " 80%|███████▉  | 1267/1586 [00:01<00:00, 1054.64it/s]"
>>>>>>> Update
     ]
    },
    {
     "name": "stderr",
     "output_type": "stream",
     "text": [
      "\r",
<<<<<<< HEAD
      " 85%|████████▌ | 1356/1586 [00:01<00:00, 1003.34it/s]"
=======
      " 87%|████████▋ | 1373/1586 [00:01<00:00, 1053.57it/s]"
>>>>>>> Update
     ]
    },
    {
     "name": "stderr",
     "output_type": "stream",
     "text": [
      "\r",
<<<<<<< HEAD
      " 92%|█████████▏| 1462/1586 [00:01<00:00, 1019.62it/s]"
=======
      " 93%|█████████▎| 1479/1586 [00:01<00:00, 1054.88it/s]"
>>>>>>> Update
     ]
    },
    {
     "name": "stderr",
     "output_type": "stream",
     "text": [
      "\r",
<<<<<<< HEAD
      " 99%|█████████▉| 1570/1586 [00:01<00:00, 1036.37it/s]"
     ]
    },
    {
     "name": "stderr",
     "output_type": "stream",
     "text": [
      "\r",
      "100%|██████████| 1586/1586 [00:01<00:00, 1006.50it/s]"
=======
      "100%|██████████| 1586/1586 [00:01<00:00, 1050.97it/s]"
>>>>>>> Update
     ]
    },
    {
     "name": "stderr",
     "output_type": "stream",
     "text": [
      "\n",
      "\r",
      "  0%|          | 0/120 [00:00<?, ?it/s]"
     ]
    },
    {
     "name": "stderr",
     "output_type": "stream",
     "text": [
      "\r",
<<<<<<< HEAD
      "100%|██████████| 120/120 [00:00<00:00, 8178.29it/s]"
=======
      "100%|██████████| 120/120 [00:00<00:00, 8210.84it/s]"
>>>>>>> Update
     ]
    },
    {
     "name": "stderr",
     "output_type": "stream",
     "text": [
      "\n"
     ]
    }
   ],
   "source": [
    "applier = PandasSFApplier(sfs)\n",
    "S_train = applier.apply(df_train)\n",
    "S_valid = applier.apply(df_valid)"
   ]
  },
  {
   "cell_type": "markdown",
   "metadata": {},
   "source": [
    "In order to train using slice information, we'd like to initialize a **slice-aware dataloader**.\n",
    "To do this, we can use [`slice_model.make_slice_dataloader`](https://snorkel.readthedocs.io/en/master/packages/_autosummary/slicing/snorkel.slicing.SlicingClassifier.html#snorkel.slicing.SlicingClassifier.predict) to add slice labels to an existing dataloader.\n",
    "\n",
    "Under the hood, this method leverages slice metadata to add slice labels to the appropriate fields such that it's compatible with the initialized [`SliceClassifier`](https://snorkel.readthedocs.io/en/master/packages/_autosummary/slicing/snorkel.slicing.SlicingClassifier.html#snorkel-slicing-slicingclassifier)."
   ]
  },
  {
   "cell_type": "code",
   "execution_count": 19,
   "metadata": {},
   "outputs": [],
   "source": [
    "train_dl_slice = slice_model.make_slice_dataloader(\n",
    "    train_dl.dataset, S_train, shuffle=True, batch_size=BATCH_SIZE\n",
    ")\n",
    "valid_dl_slice = slice_model.make_slice_dataloader(\n",
    "    valid_dl.dataset, S_valid, shuffle=False, batch_size=BATCH_SIZE\n",
    ")\n",
    "test_dl_slice = slice_model.make_slice_dataloader(\n",
    "    test_dl.dataset, S_test, shuffle=False, batch_size=BATCH_SIZE\n",
    ")"
   ]
  },
  {
   "cell_type": "markdown",
   "metadata": {},
   "source": [
    "We train a single model initialized with all slice tasks."
   ]
  },
  {
   "cell_type": "code",
   "execution_count": 20,
   "metadata": {},
   "outputs": [
    {
     "name": "stderr",
     "output_type": "stream",
     "text": [
      "\r",
      "Epoch 0::   0%|          | 0/25 [00:00<?, ?it/s]"
     ]
    },
    {
     "name": "stderr",
     "output_type": "stream",
     "text": [
      "\r",
      "Epoch 0::   0%|          | 0/25 [00:01<?, ?it/s, model/all/train/loss=0.669, model/all/train/lr=0.0001]"
     ]
    },
    {
     "name": "stderr",
     "output_type": "stream",
     "text": [
      "\r",
<<<<<<< HEAD
      "Epoch 0::   4%|▍         | 1/25 [00:01<00:31,  1.31s/it, model/all/train/loss=0.669, model/all/train/lr=0.0001]"
=======
      "Epoch 0::   2%|▏         | 1/50 [00:00<00:48,  1.02it/s, model/all/train/loss=0.689, model/all/train/lr=0.0001]"
>>>>>>> Update
     ]
    },
    {
     "name": "stderr",
     "output_type": "stream",
     "text": [
      "\r",
<<<<<<< HEAD
      "Epoch 0::   4%|▍         | 1/25 [00:02<00:31,  1.31s/it, model/all/train/loss=0.629, model/all/train/lr=0.0001]"
=======
      "Epoch 0::   2%|▏         | 1/50 [00:01<00:48,  1.02it/s, model/all/train/loss=0.646, model/all/train/lr=0.0001]"
>>>>>>> Update
     ]
    },
    {
     "name": "stderr",
     "output_type": "stream",
     "text": [
      "\r",
<<<<<<< HEAD
      "Epoch 0::   8%|▊         | 2/25 [00:02<00:29,  1.28s/it, model/all/train/loss=0.629, model/all/train/lr=0.0001]"
=======
      "Epoch 0::   4%|▍         | 2/50 [00:01<00:45,  1.05it/s, model/all/train/loss=0.646, model/all/train/lr=0.0001]"
>>>>>>> Update
     ]
    },
    {
     "name": "stderr",
     "output_type": "stream",
     "text": [
      "\r",
<<<<<<< HEAD
      "Epoch 0::   8%|▊         | 2/25 [00:03<00:29,  1.28s/it, model/all/train/loss=0.601, model/all/train/lr=0.0001]"
=======
      "Epoch 0::   4%|▍         | 2/50 [00:02<00:45,  1.05it/s, model/all/train/loss=0.626, model/all/train/lr=0.0001]"
>>>>>>> Update
     ]
    },
    {
     "name": "stderr",
     "output_type": "stream",
     "text": [
      "\r",
<<<<<<< HEAD
      "Epoch 0::  12%|█▏        | 3/25 [00:03<00:27,  1.25s/it, model/all/train/loss=0.601, model/all/train/lr=0.0001]"
=======
      "Epoch 0::   6%|▌         | 3/50 [00:02<00:43,  1.07it/s, model/all/train/loss=0.626, model/all/train/lr=0.0001]"
>>>>>>> Update
     ]
    },
    {
     "name": "stderr",
     "output_type": "stream",
     "text": [
      "\r",
<<<<<<< HEAD
      "Epoch 0::  12%|█▏        | 3/25 [00:04<00:27,  1.25s/it, model/all/train/loss=0.581, model/all/train/lr=0.0001]"
=======
      "Epoch 0::   6%|▌         | 3/50 [00:03<00:43,  1.07it/s, model/all/train/loss=0.603, model/all/train/lr=0.0001]"
>>>>>>> Update
     ]
    },
    {
     "name": "stderr",
     "output_type": "stream",
     "text": [
      "\r",
<<<<<<< HEAD
      "Epoch 0::  16%|█▌        | 4/25 [00:04<00:26,  1.24s/it, model/all/train/loss=0.581, model/all/train/lr=0.0001]"
=======
      "Epoch 0::   8%|▊         | 4/50 [00:03<00:42,  1.09it/s, model/all/train/loss=0.603, model/all/train/lr=0.0001]"
>>>>>>> Update
     ]
    },
    {
     "name": "stderr",
     "output_type": "stream",
     "text": [
      "\r",
<<<<<<< HEAD
      "Epoch 0::  16%|█▌        | 4/25 [00:06<00:26,  1.24s/it, model/all/train/loss=0.562, model/all/train/lr=0.0001]"
=======
      "Epoch 0::   8%|▊         | 4/50 [00:04<00:42,  1.09it/s, model/all/train/loss=0.58, model/all/train/lr=0.0001] "
>>>>>>> Update
     ]
    },
    {
     "name": "stderr",
     "output_type": "stream",
     "text": [
      "\r",
<<<<<<< HEAD
      "Epoch 0::  20%|██        | 5/25 [00:06<00:24,  1.23s/it, model/all/train/loss=0.562, model/all/train/lr=0.0001]"
=======
      "Epoch 0::  10%|█         | 5/50 [00:04<00:40,  1.10it/s, model/all/train/loss=0.58, model/all/train/lr=0.0001]"
>>>>>>> Update
     ]
    },
    {
     "name": "stderr",
     "output_type": "stream",
     "text": [
      "\r",
<<<<<<< HEAD
      "Epoch 0::  20%|██        | 5/25 [00:07<00:24,  1.23s/it, model/all/train/loss=0.541, model/all/train/lr=0.0001]"
=======
      "Epoch 0::  10%|█         | 5/50 [00:05<00:40,  1.10it/s, model/all/train/loss=0.566, model/all/train/lr=0.0001]"
>>>>>>> Update
     ]
    },
    {
     "name": "stderr",
     "output_type": "stream",
     "text": [
      "\r",
<<<<<<< HEAD
      "Epoch 0::  24%|██▍       | 6/25 [00:07<00:22,  1.21s/it, model/all/train/loss=0.541, model/all/train/lr=0.0001]"
=======
      "Epoch 0::  12%|█▏        | 6/50 [00:05<00:39,  1.11it/s, model/all/train/loss=0.566, model/all/train/lr=0.0001]"
>>>>>>> Update
     ]
    },
    {
     "name": "stderr",
     "output_type": "stream",
     "text": [
      "\r",
<<<<<<< HEAD
      "Epoch 0::  24%|██▍       | 6/25 [00:08<00:22,  1.21s/it, model/all/train/loss=0.526, model/all/train/lr=0.0001]"
=======
      "Epoch 0::  12%|█▏        | 6/50 [00:06<00:39,  1.11it/s, model/all/train/loss=0.554, model/all/train/lr=0.0001]"
>>>>>>> Update
     ]
    },
    {
     "name": "stderr",
     "output_type": "stream",
     "text": [
      "\r",
<<<<<<< HEAD
      "Epoch 0::  28%|██▊       | 7/25 [00:08<00:21,  1.18s/it, model/all/train/loss=0.526, model/all/train/lr=0.0001]"
=======
      "Epoch 0::  14%|█▍        | 7/50 [00:06<00:38,  1.12it/s, model/all/train/loss=0.554, model/all/train/lr=0.0001]"
>>>>>>> Update
     ]
    },
    {
     "name": "stderr",
     "output_type": "stream",
     "text": [
      "\r",
<<<<<<< HEAD
      "Epoch 0::  28%|██▊       | 7/25 [00:09<00:21,  1.18s/it, model/all/train/loss=0.515, model/all/train/lr=0.0001]"
=======
      "Epoch 0::  14%|█▍        | 7/50 [00:07<00:38,  1.12it/s, model/all/train/loss=0.543, model/all/train/lr=0.0001]"
>>>>>>> Update
     ]
    },
    {
     "name": "stderr",
     "output_type": "stream",
     "text": [
      "\r",
<<<<<<< HEAD
      "Epoch 0::  32%|███▏      | 8/25 [00:09<00:19,  1.17s/it, model/all/train/loss=0.515, model/all/train/lr=0.0001]"
=======
      "Epoch 0::  16%|█▌        | 8/50 [00:07<00:37,  1.12it/s, model/all/train/loss=0.543, model/all/train/lr=0.0001]"
>>>>>>> Update
     ]
    },
    {
     "name": "stderr",
     "output_type": "stream",
     "text": [
      "\r",
<<<<<<< HEAD
      "Epoch 0::  32%|███▏      | 8/25 [00:10<00:19,  1.17s/it, model/all/train/loss=0.499, model/all/train/lr=0.0001]"
=======
      "Epoch 0::  16%|█▌        | 8/50 [00:08<00:37,  1.12it/s, model/all/train/loss=0.533, model/all/train/lr=0.0001]"
>>>>>>> Update
     ]
    },
    {
     "name": "stderr",
     "output_type": "stream",
     "text": [
      "\r",
<<<<<<< HEAD
      "Epoch 0::  36%|███▌      | 9/25 [00:10<00:18,  1.18s/it, model/all/train/loss=0.499, model/all/train/lr=0.0001]"
=======
      "Epoch 0::  18%|█▊        | 9/50 [00:08<00:36,  1.12it/s, model/all/train/loss=0.533, model/all/train/lr=0.0001]"
>>>>>>> Update
     ]
    },
    {
     "name": "stderr",
     "output_type": "stream",
     "text": [
      "\r",
<<<<<<< HEAD
      "Epoch 0::  36%|███▌      | 9/25 [00:11<00:18,  1.18s/it, model/all/train/loss=0.487, model/all/train/lr=0.0001]"
=======
      "Epoch 0::  18%|█▊        | 9/50 [00:08<00:36,  1.12it/s, model/all/train/loss=0.523, model/all/train/lr=0.0001]"
>>>>>>> Update
     ]
    },
    {
     "name": "stderr",
     "output_type": "stream",
     "text": [
      "\r",
<<<<<<< HEAD
      "Epoch 0::  40%|████      | 10/25 [00:11<00:17,  1.17s/it, model/all/train/loss=0.487, model/all/train/lr=0.0001]"
=======
      "Epoch 0::  20%|██        | 10/50 [00:08<00:35,  1.12it/s, model/all/train/loss=0.523, model/all/train/lr=0.0001]"
>>>>>>> Update
     ]
    },
    {
     "name": "stderr",
     "output_type": "stream",
     "text": [
      "\r",
<<<<<<< HEAD
      "Epoch 0::  40%|████      | 10/25 [00:13<00:17,  1.17s/it, model/all/train/loss=0.475, model/all/train/lr=0.0001]"
=======
      "Epoch 0::  20%|██        | 10/50 [00:09<00:35,  1.12it/s, model/all/train/loss=0.514, model/all/train/lr=0.0001]"
>>>>>>> Update
     ]
    },
    {
     "name": "stderr",
     "output_type": "stream",
     "text": [
      "\r",
<<<<<<< HEAD
      "Epoch 0::  44%|████▍     | 11/25 [00:13<00:16,  1.17s/it, model/all/train/loss=0.475, model/all/train/lr=0.0001]"
=======
      "Epoch 0::  22%|██▏       | 11/50 [00:09<00:34,  1.13it/s, model/all/train/loss=0.514, model/all/train/lr=0.0001]"
>>>>>>> Update
     ]
    },
    {
     "name": "stderr",
     "output_type": "stream",
     "text": [
      "\r",
<<<<<<< HEAD
      "Epoch 0::  44%|████▍     | 11/25 [00:14<00:16,  1.17s/it, model/all/train/loss=0.464, model/all/train/lr=0.0001]"
=======
      "Epoch 0::  22%|██▏       | 11/50 [00:10<00:34,  1.13it/s, model/all/train/loss=0.504, model/all/train/lr=0.0001]"
>>>>>>> Update
     ]
    },
    {
     "name": "stderr",
     "output_type": "stream",
     "text": [
      "\r",
<<<<<<< HEAD
      "Epoch 0::  48%|████▊     | 12/25 [00:14<00:15,  1.17s/it, model/all/train/loss=0.464, model/all/train/lr=0.0001]"
=======
      "Epoch 0::  24%|██▍       | 12/50 [00:10<00:33,  1.13it/s, model/all/train/loss=0.504, model/all/train/lr=0.0001]"
>>>>>>> Update
     ]
    },
    {
     "name": "stderr",
     "output_type": "stream",
     "text": [
      "\r",
<<<<<<< HEAD
      "Epoch 0::  48%|████▊     | 12/25 [00:15<00:15,  1.17s/it, model/all/train/loss=0.456, model/all/train/lr=0.0001]"
=======
      "Epoch 0::  24%|██▍       | 12/50 [00:11<00:33,  1.13it/s, model/all/train/loss=0.497, model/all/train/lr=0.0001]"
>>>>>>> Update
     ]
    },
    {
     "name": "stderr",
     "output_type": "stream",
     "text": [
      "\r",
<<<<<<< HEAD
      "Epoch 0::  52%|█████▏    | 13/25 [00:15<00:13,  1.16s/it, model/all/train/loss=0.456, model/all/train/lr=0.0001]"
=======
      "Epoch 0::  26%|██▌       | 13/50 [00:11<00:33,  1.12it/s, model/all/train/loss=0.497, model/all/train/lr=0.0001]"
>>>>>>> Update
     ]
    },
    {
     "name": "stderr",
     "output_type": "stream",
     "text": [
      "\r",
<<<<<<< HEAD
      "Epoch 0::  52%|█████▏    | 13/25 [00:16<00:13,  1.16s/it, model/all/train/loss=0.446, model/all/train/lr=0.0001]"
=======
      "Epoch 0::  26%|██▌       | 13/50 [00:12<00:33,  1.12it/s, model/all/train/loss=0.49, model/all/train/lr=0.0001] "
>>>>>>> Update
     ]
    },
    {
     "name": "stderr",
     "output_type": "stream",
     "text": [
      "\r",
      "Epoch 0::  56%|█████▌    | 14/25 [00:16<00:12,  1.16s/it, model/all/train/loss=0.446, model/all/train/lr=0.0001]"
     ]
    },
    {
     "name": "stderr",
     "output_type": "stream",
     "text": [
      "\r",
      "Epoch 0::  56%|█████▌    | 14/25 [00:17<00:12,  1.16s/it, model/all/train/loss=0.437, model/all/train/lr=0.0001]"
     ]
    },
    {
     "name": "stderr",
     "output_type": "stream",
     "text": [
      "\r",
<<<<<<< HEAD
      "Epoch 0::  60%|██████    | 15/25 [00:17<00:11,  1.15s/it, model/all/train/loss=0.437, model/all/train/lr=0.0001]"
=======
      "Epoch 0::  30%|███       | 15/50 [00:13<00:31,  1.10it/s, model/all/train/loss=0.483, model/all/train/lr=0.0001]"
>>>>>>> Update
     ]
    },
    {
     "name": "stderr",
     "output_type": "stream",
     "text": [
      "\r",
<<<<<<< HEAD
      "Epoch 0::  60%|██████    | 15/25 [00:18<00:11,  1.15s/it, model/all/train/loss=0.43, model/all/train/lr=0.0001] "
=======
      "Epoch 0::  30%|███       | 15/50 [00:14<00:31,  1.10it/s, model/all/train/loss=0.477, model/all/train/lr=0.0001]"
>>>>>>> Update
     ]
    },
    {
     "name": "stderr",
     "output_type": "stream",
     "text": [
      "\r",
      "Epoch 0::  64%|██████▍   | 16/25 [00:18<00:10,  1.15s/it, model/all/train/loss=0.43, model/all/train/lr=0.0001]"
     ]
    },
    {
     "name": "stderr",
     "output_type": "stream",
     "text": [
      "\r",
      "Epoch 0::  64%|██████▍   | 16/25 [00:19<00:10,  1.15s/it, model/all/train/loss=0.422, model/all/train/lr=0.0001]"
     ]
    },
    {
     "name": "stderr",
     "output_type": "stream",
     "text": [
      "\r",
<<<<<<< HEAD
      "Epoch 0::  68%|██████▊   | 17/25 [00:19<00:09,  1.15s/it, model/all/train/loss=0.422, model/all/train/lr=0.0001]"
=======
      "Epoch 0::  34%|███▍      | 17/50 [00:15<00:29,  1.10it/s, model/all/train/loss=0.472, model/all/train/lr=0.0001]"
>>>>>>> Update
     ]
    },
    {
     "name": "stderr",
     "output_type": "stream",
     "text": [
      "\r",
<<<<<<< HEAD
      "Epoch 0::  68%|██████▊   | 17/25 [00:21<00:09,  1.15s/it, model/all/train/loss=0.415, model/all/train/lr=0.0001]"
=======
      "Epoch 0::  34%|███▍      | 17/50 [00:16<00:29,  1.10it/s, model/all/train/loss=0.465, model/all/train/lr=0.0001]"
>>>>>>> Update
     ]
    },
    {
     "name": "stderr",
     "output_type": "stream",
     "text": [
      "\r",
<<<<<<< HEAD
      "Epoch 0::  72%|███████▏  | 18/25 [00:21<00:08,  1.14s/it, model/all/train/loss=0.415, model/all/train/lr=0.0001]"
=======
      "Epoch 0::  36%|███▌      | 18/50 [00:16<00:28,  1.11it/s, model/all/train/loss=0.465, model/all/train/lr=0.0001]"
>>>>>>> Update
     ]
    },
    {
     "name": "stderr",
     "output_type": "stream",
     "text": [
      "\r",
<<<<<<< HEAD
      "Epoch 0::  72%|███████▏  | 18/25 [00:22<00:08,  1.14s/it, model/all/train/loss=0.408, model/all/train/lr=0.0001]"
=======
      "Epoch 0::  36%|███▌      | 18/50 [00:17<00:28,  1.11it/s, model/all/train/loss=0.459, model/all/train/lr=0.0001]"
>>>>>>> Update
     ]
    },
    {
     "name": "stderr",
     "output_type": "stream",
     "text": [
      "\r",
<<<<<<< HEAD
      "Epoch 0::  76%|███████▌  | 19/25 [00:22<00:07,  1.18s/it, model/all/train/loss=0.408, model/all/train/lr=0.0001]"
=======
      "Epoch 0::  38%|███▊      | 19/50 [00:17<00:27,  1.11it/s, model/all/train/loss=0.459, model/all/train/lr=0.0001]"
>>>>>>> Update
     ]
    },
    {
     "name": "stderr",
     "output_type": "stream",
     "text": [
      "\r",
<<<<<<< HEAD
      "Epoch 0::  76%|███████▌  | 19/25 [00:23<00:07,  1.18s/it, model/all/train/loss=0.402, model/all/train/lr=0.0001]"
=======
      "Epoch 0::  38%|███▊      | 19/50 [00:17<00:27,  1.11it/s, model/all/train/loss=0.453, model/all/train/lr=0.0001]"
>>>>>>> Update
     ]
    },
    {
     "name": "stderr",
     "output_type": "stream",
     "text": [
      "\r",
<<<<<<< HEAD
      "Epoch 0::  80%|████████  | 20/25 [00:23<00:05,  1.18s/it, model/all/train/loss=0.402, model/all/train/lr=0.0001]"
=======
      "Epoch 0::  40%|████      | 20/50 [00:17<00:27,  1.11it/s, model/all/train/loss=0.453, model/all/train/lr=0.0001]"
>>>>>>> Update
     ]
    },
    {
     "name": "stderr",
     "output_type": "stream",
     "text": [
      "\r",
<<<<<<< HEAD
      "Epoch 0::  80%|████████  | 20/25 [00:24<00:05,  1.18s/it, model/all/train/loss=0.396, model/all/train/lr=0.0001]"
=======
      "Epoch 0::  40%|████      | 20/50 [00:18<00:27,  1.11it/s, model/all/train/loss=0.449, model/all/train/lr=0.0001]"
>>>>>>> Update
     ]
    },
    {
     "name": "stderr",
     "output_type": "stream",
     "text": [
      "\r",
<<<<<<< HEAD
      "Epoch 0::  84%|████████▍ | 21/25 [00:24<00:04,  1.16s/it, model/all/train/loss=0.396, model/all/train/lr=0.0001]"
=======
      "Epoch 0::  42%|████▏     | 21/50 [00:18<00:26,  1.11it/s, model/all/train/loss=0.449, model/all/train/lr=0.0001]"
>>>>>>> Update
     ]
    },
    {
     "name": "stderr",
     "output_type": "stream",
     "text": [
      "\r",
<<<<<<< HEAD
      "Epoch 0::  84%|████████▍ | 21/25 [00:26<00:04,  1.16s/it, model/all/train/loss=0.389, model/all/train/lr=0.0001]"
=======
      "Epoch 0::  42%|████▏     | 21/50 [00:19<00:26,  1.11it/s, model/all/train/loss=0.445, model/all/train/lr=0.0001]"
>>>>>>> Update
     ]
    },
    {
     "name": "stderr",
     "output_type": "stream",
     "text": [
      "\r",
<<<<<<< HEAD
      "Epoch 0::  88%|████████▊ | 22/25 [00:26<00:04,  1.35s/it, model/all/train/loss=0.389, model/all/train/lr=0.0001]"
=======
      "Epoch 0::  44%|████▍     | 22/50 [00:19<00:25,  1.11it/s, model/all/train/loss=0.445, model/all/train/lr=0.0001]"
>>>>>>> Update
     ]
    },
    {
     "name": "stderr",
     "output_type": "stream",
     "text": [
      "\r",
<<<<<<< HEAD
      "Epoch 0::  88%|████████▊ | 22/25 [00:27<00:04,  1.35s/it, model/all/train/loss=0.382, model/all/train/lr=0.0001]"
=======
      "Epoch 0::  44%|████▍     | 22/50 [00:20<00:25,  1.11it/s, model/all/train/loss=0.441, model/all/train/lr=0.0001]"
>>>>>>> Update
     ]
    },
    {
     "name": "stderr",
     "output_type": "stream",
     "text": [
      "\r",
<<<<<<< HEAD
      "Epoch 0::  92%|█████████▏| 23/25 [00:27<00:02,  1.28s/it, model/all/train/loss=0.382, model/all/train/lr=0.0001]"
=======
      "Epoch 0::  46%|████▌     | 23/50 [00:20<00:24,  1.11it/s, model/all/train/loss=0.441, model/all/train/lr=0.0001]"
>>>>>>> Update
     ]
    },
    {
     "name": "stderr",
     "output_type": "stream",
     "text": [
      "\r",
<<<<<<< HEAD
      "Epoch 0::  92%|█████████▏| 23/25 [00:28<00:02,  1.28s/it, model/all/train/loss=0.376, model/all/train/lr=0.0001]"
=======
      "Epoch 0::  46%|████▌     | 23/50 [00:21<00:24,  1.11it/s, model/all/train/loss=0.436, model/all/train/lr=0.0001]"
>>>>>>> Update
     ]
    },
    {
     "name": "stderr",
     "output_type": "stream",
     "text": [
      "\r",
<<<<<<< HEAD
      "Epoch 0::  96%|█████████▌| 24/25 [00:28<00:01,  1.28s/it, model/all/train/loss=0.376, model/all/train/lr=0.0001]"
=======
      "Epoch 0::  48%|████▊     | 24/50 [00:21<00:23,  1.11it/s, model/all/train/loss=0.436, model/all/train/lr=0.0001]"
>>>>>>> Update
     ]
    },
    {
     "name": "stderr",
     "output_type": "stream",
     "text": [
      "/home/ubuntu/snorkel-tutorials/.tox/spam/lib/python3.6/site-packages/sklearn/metrics/classification.py:1437: UndefinedMetricWarning: F-score is ill-defined and being set to 0.0 due to no predicted samples.\n",
      "  'precision', 'predicted', average, warn_for)\n",
      "\r",
<<<<<<< HEAD
      "Epoch 0::  96%|█████████▌| 24/25 [00:30<00:01,  1.28s/it, model/all/train/loss=0.371, model/all/train/lr=0.0001, task/SnorkelDataset/valid/accuracy=0.933, task/SnorkelDataset/valid/f1=0.926, task_slice:short_link_ind/SnorkelDataset/valid/f1=0, task_slice:short_link_pred/SnorkelDataset/valid/accuracy=0.8, task_slice:short_link_pred/SnorkelDataset/valid/f1=0.889, task_slice:keyword_subscribe_ind/SnorkelDataset/valid/f1=0, task_slice:keyword_subscribe_pred/SnorkelDataset/valid/accuracy=1, task_slice:keyword_subscribe_pred/SnorkelDataset/valid/f1=1, task_slice:keyword_please_ind/SnorkelDataset/valid/f1=0, task_slice:keyword_please_pred/SnorkelDataset/valid/accuracy=1, task_slice:keyword_please_pred/SnorkelDataset/valid/f1=1, task_slice:regex_check_out_ind/SnorkelDataset/valid/f1=0.471, task_slice:regex_check_out_pred/SnorkelDataset/valid/accuracy=1, task_slice:regex_check_out_pred/SnorkelDataset/valid/f1=1, task_slice:short_comment_ind/SnorkelDataset/valid/f1=0, task_slice:short_comment_pred/SnorkelDataset/valid/accuracy=0.947, task_slice:short_comment_pred/SnorkelDataset/valid/f1=0.5, task_slice:textblob_polarity_ind/SnorkelDataset/valid/f1=0, task_slice:textblob_polarity_pred/SnorkelDataset/valid/accuracy=1, task_slice:textblob_polarity_pred/SnorkelDataset/valid/f1=1, task_slice:base_ind/SnorkelDataset/valid/f1=1, task_slice:base_pred/SnorkelDataset/valid/accuracy=0.933, task_slice:base_pred/SnorkelDataset/valid/f1=0.926]"
=======
      "Epoch 0::  48%|████▊     | 24/50 [00:22<00:23,  1.11it/s, model/all/train/loss=0.432, model/all/train/lr=0.0001]"
>>>>>>> Update
     ]
    },
    {
     "name": "stderr",
     "output_type": "stream",
     "text": [
      "\r",
<<<<<<< HEAD
      "Epoch 0:: 100%|██████████| 25/25 [00:30<00:00,  1.27s/it, model/all/train/loss=0.371, model/all/train/lr=0.0001, task/SnorkelDataset/valid/accuracy=0.933, task/SnorkelDataset/valid/f1=0.926, task_slice:short_link_ind/SnorkelDataset/valid/f1=0, task_slice:short_link_pred/SnorkelDataset/valid/accuracy=0.8, task_slice:short_link_pred/SnorkelDataset/valid/f1=0.889, task_slice:keyword_subscribe_ind/SnorkelDataset/valid/f1=0, task_slice:keyword_subscribe_pred/SnorkelDataset/valid/accuracy=1, task_slice:keyword_subscribe_pred/SnorkelDataset/valid/f1=1, task_slice:keyword_please_ind/SnorkelDataset/valid/f1=0, task_slice:keyword_please_pred/SnorkelDataset/valid/accuracy=1, task_slice:keyword_please_pred/SnorkelDataset/valid/f1=1, task_slice:regex_check_out_ind/SnorkelDataset/valid/f1=0.471, task_slice:regex_check_out_pred/SnorkelDataset/valid/accuracy=1, task_slice:regex_check_out_pred/SnorkelDataset/valid/f1=1, task_slice:short_comment_ind/SnorkelDataset/valid/f1=0, task_slice:short_comment_pred/SnorkelDataset/valid/accuracy=0.947, task_slice:short_comment_pred/SnorkelDataset/valid/f1=0.5, task_slice:textblob_polarity_ind/SnorkelDataset/valid/f1=0, task_slice:textblob_polarity_pred/SnorkelDataset/valid/accuracy=1, task_slice:textblob_polarity_pred/SnorkelDataset/valid/f1=1, task_slice:base_ind/SnorkelDataset/valid/f1=1, task_slice:base_pred/SnorkelDataset/valid/accuracy=0.933, task_slice:base_pred/SnorkelDataset/valid/f1=0.926]"
=======
      "Epoch 0::  50%|█████     | 25/50 [00:22<00:22,  1.11it/s, model/all/train/loss=0.432, model/all/train/lr=0.0001]"
>>>>>>> Update
     ]
    },
    {
     "name": "stderr",
     "output_type": "stream",
     "text": [
      "\n",
      "\r",
<<<<<<< HEAD
      "Epoch 1::   0%|          | 0/25 [00:00<?, ?it/s]"
=======
      "Epoch 0::  50%|█████     | 25/50 [00:23<00:22,  1.11it/s, model/all/train/loss=0.429, model/all/train/lr=0.0001]"
>>>>>>> Update
     ]
    },
    {
     "name": "stderr",
     "output_type": "stream",
     "text": [
      "\r",
<<<<<<< HEAD
      "Epoch 1::   0%|          | 0/25 [00:01<?, ?it/s, model/all/train/loss=0.217, model/all/train/lr=0.0001, task/SnorkelDataset/valid/accuracy=0.933, task/SnorkelDataset/valid/f1=0.926, task_slice:short_link_ind/SnorkelDataset/valid/f1=0, task_slice:short_link_pred/SnorkelDataset/valid/accuracy=0.8, task_slice:short_link_pred/SnorkelDataset/valid/f1=0.889, task_slice:keyword_subscribe_ind/SnorkelDataset/valid/f1=0, task_slice:keyword_subscribe_pred/SnorkelDataset/valid/accuracy=1, task_slice:keyword_subscribe_pred/SnorkelDataset/valid/f1=1, task_slice:keyword_please_ind/SnorkelDataset/valid/f1=0, task_slice:keyword_please_pred/SnorkelDataset/valid/accuracy=1, task_slice:keyword_please_pred/SnorkelDataset/valid/f1=1, task_slice:regex_check_out_ind/SnorkelDataset/valid/f1=0.471, task_slice:regex_check_out_pred/SnorkelDataset/valid/accuracy=1, task_slice:regex_check_out_pred/SnorkelDataset/valid/f1=1, task_slice:short_comment_ind/SnorkelDataset/valid/f1=0, task_slice:short_comment_pred/SnorkelDataset/valid/accuracy=0.947, task_slice:short_comment_pred/SnorkelDataset/valid/f1=0.5, task_slice:textblob_polarity_ind/SnorkelDataset/valid/f1=0, task_slice:textblob_polarity_pred/SnorkelDataset/valid/accuracy=1, task_slice:textblob_polarity_pred/SnorkelDataset/valid/f1=1, task_slice:base_ind/SnorkelDataset/valid/f1=1, task_slice:base_pred/SnorkelDataset/valid/accuracy=0.933, task_slice:base_pred/SnorkelDataset/valid/f1=0.926]"
=======
      "Epoch 0::  52%|█████▏    | 26/50 [00:23<00:21,  1.11it/s, model/all/train/loss=0.429, model/all/train/lr=0.0001]"
>>>>>>> Update
     ]
    },
    {
     "name": "stderr",
     "output_type": "stream",
     "text": [
      "\r",
<<<<<<< HEAD
      "Epoch 1::   4%|▍         | 1/25 [00:01<00:31,  1.30s/it, model/all/train/loss=0.217, model/all/train/lr=0.0001, task/SnorkelDataset/valid/accuracy=0.933, task/SnorkelDataset/valid/f1=0.926, task_slice:short_link_ind/SnorkelDataset/valid/f1=0, task_slice:short_link_pred/SnorkelDataset/valid/accuracy=0.8, task_slice:short_link_pred/SnorkelDataset/valid/f1=0.889, task_slice:keyword_subscribe_ind/SnorkelDataset/valid/f1=0, task_slice:keyword_subscribe_pred/SnorkelDataset/valid/accuracy=1, task_slice:keyword_subscribe_pred/SnorkelDataset/valid/f1=1, task_slice:keyword_please_ind/SnorkelDataset/valid/f1=0, task_slice:keyword_please_pred/SnorkelDataset/valid/accuracy=1, task_slice:keyword_please_pred/SnorkelDataset/valid/f1=1, task_slice:regex_check_out_ind/SnorkelDataset/valid/f1=0.471, task_slice:regex_check_out_pred/SnorkelDataset/valid/accuracy=1, task_slice:regex_check_out_pred/SnorkelDataset/valid/f1=1, task_slice:short_comment_ind/SnorkelDataset/valid/f1=0, task_slice:short_comment_pred/SnorkelDataset/valid/accuracy=0.947, task_slice:short_comment_pred/SnorkelDataset/valid/f1=0.5, task_slice:textblob_polarity_ind/SnorkelDataset/valid/f1=0, task_slice:textblob_polarity_pred/SnorkelDataset/valid/accuracy=1, task_slice:textblob_polarity_pred/SnorkelDataset/valid/f1=1, task_slice:base_ind/SnorkelDataset/valid/f1=1, task_slice:base_pred/SnorkelDataset/valid/accuracy=0.933, task_slice:base_pred/SnorkelDataset/valid/f1=0.926]"
=======
      "Epoch 0::  52%|█████▏    | 26/50 [00:24<00:21,  1.11it/s, model/all/train/loss=0.425, model/all/train/lr=0.0001]"
>>>>>>> Update
     ]
    },
    {
     "name": "stderr",
     "output_type": "stream",
     "text": [
      "\r",
<<<<<<< HEAD
      "Epoch 1::   4%|▍         | 1/25 [00:02<00:31,  1.30s/it, model/all/train/loss=0.221, model/all/train/lr=0.0001, task/SnorkelDataset/valid/accuracy=0.933, task/SnorkelDataset/valid/f1=0.926, task_slice:short_link_ind/SnorkelDataset/valid/f1=0, task_slice:short_link_pred/SnorkelDataset/valid/accuracy=0.8, task_slice:short_link_pred/SnorkelDataset/valid/f1=0.889, task_slice:keyword_subscribe_ind/SnorkelDataset/valid/f1=0, task_slice:keyword_subscribe_pred/SnorkelDataset/valid/accuracy=1, task_slice:keyword_subscribe_pred/SnorkelDataset/valid/f1=1, task_slice:keyword_please_ind/SnorkelDataset/valid/f1=0, task_slice:keyword_please_pred/SnorkelDataset/valid/accuracy=1, task_slice:keyword_please_pred/SnorkelDataset/valid/f1=1, task_slice:regex_check_out_ind/SnorkelDataset/valid/f1=0.471, task_slice:regex_check_out_pred/SnorkelDataset/valid/accuracy=1, task_slice:regex_check_out_pred/SnorkelDataset/valid/f1=1, task_slice:short_comment_ind/SnorkelDataset/valid/f1=0, task_slice:short_comment_pred/SnorkelDataset/valid/accuracy=0.947, task_slice:short_comment_pred/SnorkelDataset/valid/f1=0.5, task_slice:textblob_polarity_ind/SnorkelDataset/valid/f1=0, task_slice:textblob_polarity_pred/SnorkelDataset/valid/accuracy=1, task_slice:textblob_polarity_pred/SnorkelDataset/valid/f1=1, task_slice:base_ind/SnorkelDataset/valid/f1=1, task_slice:base_pred/SnorkelDataset/valid/accuracy=0.933, task_slice:base_pred/SnorkelDataset/valid/f1=0.926]"
=======
      "Epoch 0::  54%|█████▍    | 27/50 [00:24<00:20,  1.11it/s, model/all/train/loss=0.425, model/all/train/lr=0.0001]"
>>>>>>> Update
     ]
    },
    {
     "name": "stderr",
     "output_type": "stream",
     "text": [
      "\r",
<<<<<<< HEAD
      "Epoch 1::   8%|▊         | 2/25 [00:02<00:30,  1.34s/it, model/all/train/loss=0.221, model/all/train/lr=0.0001, task/SnorkelDataset/valid/accuracy=0.933, task/SnorkelDataset/valid/f1=0.926, task_slice:short_link_ind/SnorkelDataset/valid/f1=0, task_slice:short_link_pred/SnorkelDataset/valid/accuracy=0.8, task_slice:short_link_pred/SnorkelDataset/valid/f1=0.889, task_slice:keyword_subscribe_ind/SnorkelDataset/valid/f1=0, task_slice:keyword_subscribe_pred/SnorkelDataset/valid/accuracy=1, task_slice:keyword_subscribe_pred/SnorkelDataset/valid/f1=1, task_slice:keyword_please_ind/SnorkelDataset/valid/f1=0, task_slice:keyword_please_pred/SnorkelDataset/valid/accuracy=1, task_slice:keyword_please_pred/SnorkelDataset/valid/f1=1, task_slice:regex_check_out_ind/SnorkelDataset/valid/f1=0.471, task_slice:regex_check_out_pred/SnorkelDataset/valid/accuracy=1, task_slice:regex_check_out_pred/SnorkelDataset/valid/f1=1, task_slice:short_comment_ind/SnorkelDataset/valid/f1=0, task_slice:short_comment_pred/SnorkelDataset/valid/accuracy=0.947, task_slice:short_comment_pred/SnorkelDataset/valid/f1=0.5, task_slice:textblob_polarity_ind/SnorkelDataset/valid/f1=0, task_slice:textblob_polarity_pred/SnorkelDataset/valid/accuracy=1, task_slice:textblob_polarity_pred/SnorkelDataset/valid/f1=1, task_slice:base_ind/SnorkelDataset/valid/f1=1, task_slice:base_pred/SnorkelDataset/valid/accuracy=0.933, task_slice:base_pred/SnorkelDataset/valid/f1=0.926]"
=======
      "Epoch 0::  54%|█████▍    | 27/50 [00:25<00:20,  1.11it/s, model/all/train/loss=0.422, model/all/train/lr=0.0001]"
>>>>>>> Update
     ]
    },
    {
     "name": "stderr",
     "output_type": "stream",
     "text": [
      "\r",
<<<<<<< HEAD
      "Epoch 1::   8%|▊         | 2/25 [00:03<00:30,  1.34s/it, model/all/train/loss=0.224, model/all/train/lr=0.0001, task/SnorkelDataset/valid/accuracy=0.933, task/SnorkelDataset/valid/f1=0.926, task_slice:short_link_ind/SnorkelDataset/valid/f1=0, task_slice:short_link_pred/SnorkelDataset/valid/accuracy=0.8, task_slice:short_link_pred/SnorkelDataset/valid/f1=0.889, task_slice:keyword_subscribe_ind/SnorkelDataset/valid/f1=0, task_slice:keyword_subscribe_pred/SnorkelDataset/valid/accuracy=1, task_slice:keyword_subscribe_pred/SnorkelDataset/valid/f1=1, task_slice:keyword_please_ind/SnorkelDataset/valid/f1=0, task_slice:keyword_please_pred/SnorkelDataset/valid/accuracy=1, task_slice:keyword_please_pred/SnorkelDataset/valid/f1=1, task_slice:regex_check_out_ind/SnorkelDataset/valid/f1=0.471, task_slice:regex_check_out_pred/SnorkelDataset/valid/accuracy=1, task_slice:regex_check_out_pred/SnorkelDataset/valid/f1=1, task_slice:short_comment_ind/SnorkelDataset/valid/f1=0, task_slice:short_comment_pred/SnorkelDataset/valid/accuracy=0.947, task_slice:short_comment_pred/SnorkelDataset/valid/f1=0.5, task_slice:textblob_polarity_ind/SnorkelDataset/valid/f1=0, task_slice:textblob_polarity_pred/SnorkelDataset/valid/accuracy=1, task_slice:textblob_polarity_pred/SnorkelDataset/valid/f1=1, task_slice:base_ind/SnorkelDataset/valid/f1=1, task_slice:base_pred/SnorkelDataset/valid/accuracy=0.933, task_slice:base_pred/SnorkelDataset/valid/f1=0.926]"
=======
      "Epoch 0::  56%|█████▌    | 28/50 [00:25<00:19,  1.11it/s, model/all/train/loss=0.422, model/all/train/lr=0.0001]"
>>>>>>> Update
     ]
    },
    {
     "name": "stderr",
     "output_type": "stream",
     "text": [
      "\r",
<<<<<<< HEAD
      "Epoch 1::  12%|█▏        | 3/25 [00:03<00:28,  1.31s/it, model/all/train/loss=0.224, model/all/train/lr=0.0001, task/SnorkelDataset/valid/accuracy=0.933, task/SnorkelDataset/valid/f1=0.926, task_slice:short_link_ind/SnorkelDataset/valid/f1=0, task_slice:short_link_pred/SnorkelDataset/valid/accuracy=0.8, task_slice:short_link_pred/SnorkelDataset/valid/f1=0.889, task_slice:keyword_subscribe_ind/SnorkelDataset/valid/f1=0, task_slice:keyword_subscribe_pred/SnorkelDataset/valid/accuracy=1, task_slice:keyword_subscribe_pred/SnorkelDataset/valid/f1=1, task_slice:keyword_please_ind/SnorkelDataset/valid/f1=0, task_slice:keyword_please_pred/SnorkelDataset/valid/accuracy=1, task_slice:keyword_please_pred/SnorkelDataset/valid/f1=1, task_slice:regex_check_out_ind/SnorkelDataset/valid/f1=0.471, task_slice:regex_check_out_pred/SnorkelDataset/valid/accuracy=1, task_slice:regex_check_out_pred/SnorkelDataset/valid/f1=1, task_slice:short_comment_ind/SnorkelDataset/valid/f1=0, task_slice:short_comment_pred/SnorkelDataset/valid/accuracy=0.947, task_slice:short_comment_pred/SnorkelDataset/valid/f1=0.5, task_slice:textblob_polarity_ind/SnorkelDataset/valid/f1=0, task_slice:textblob_polarity_pred/SnorkelDataset/valid/accuracy=1, task_slice:textblob_polarity_pred/SnorkelDataset/valid/f1=1, task_slice:base_ind/SnorkelDataset/valid/f1=1, task_slice:base_pred/SnorkelDataset/valid/accuracy=0.933, task_slice:base_pred/SnorkelDataset/valid/f1=0.926]"
=======
      "Epoch 0::  56%|█████▌    | 28/50 [00:26<00:19,  1.11it/s, model/all/train/loss=0.418, model/all/train/lr=0.0001]"
>>>>>>> Update
     ]
    },
    {
     "name": "stderr",
     "output_type": "stream",
     "text": [
      "\r",
<<<<<<< HEAD
      "Epoch 1::  12%|█▏        | 3/25 [00:05<00:28,  1.31s/it, model/all/train/loss=0.212, model/all/train/lr=0.0001, task/SnorkelDataset/valid/accuracy=0.933, task/SnorkelDataset/valid/f1=0.926, task_slice:short_link_ind/SnorkelDataset/valid/f1=0, task_slice:short_link_pred/SnorkelDataset/valid/accuracy=0.8, task_slice:short_link_pred/SnorkelDataset/valid/f1=0.889, task_slice:keyword_subscribe_ind/SnorkelDataset/valid/f1=0, task_slice:keyword_subscribe_pred/SnorkelDataset/valid/accuracy=1, task_slice:keyword_subscribe_pred/SnorkelDataset/valid/f1=1, task_slice:keyword_please_ind/SnorkelDataset/valid/f1=0, task_slice:keyword_please_pred/SnorkelDataset/valid/accuracy=1, task_slice:keyword_please_pred/SnorkelDataset/valid/f1=1, task_slice:regex_check_out_ind/SnorkelDataset/valid/f1=0.471, task_slice:regex_check_out_pred/SnorkelDataset/valid/accuracy=1, task_slice:regex_check_out_pred/SnorkelDataset/valid/f1=1, task_slice:short_comment_ind/SnorkelDataset/valid/f1=0, task_slice:short_comment_pred/SnorkelDataset/valid/accuracy=0.947, task_slice:short_comment_pred/SnorkelDataset/valid/f1=0.5, task_slice:textblob_polarity_ind/SnorkelDataset/valid/f1=0, task_slice:textblob_polarity_pred/SnorkelDataset/valid/accuracy=1, task_slice:textblob_polarity_pred/SnorkelDataset/valid/f1=1, task_slice:base_ind/SnorkelDataset/valid/f1=1, task_slice:base_pred/SnorkelDataset/valid/accuracy=0.933, task_slice:base_pred/SnorkelDataset/valid/f1=0.926]"
=======
      "Epoch 0::  58%|█████▊    | 29/50 [00:26<00:18,  1.11it/s, model/all/train/loss=0.418, model/all/train/lr=0.0001]"
>>>>>>> Update
     ]
    },
    {
     "name": "stderr",
     "output_type": "stream",
     "text": [
      "\r",
<<<<<<< HEAD
      "Epoch 1::  16%|█▌        | 4/25 [00:05<00:27,  1.29s/it, model/all/train/loss=0.212, model/all/train/lr=0.0001, task/SnorkelDataset/valid/accuracy=0.933, task/SnorkelDataset/valid/f1=0.926, task_slice:short_link_ind/SnorkelDataset/valid/f1=0, task_slice:short_link_pred/SnorkelDataset/valid/accuracy=0.8, task_slice:short_link_pred/SnorkelDataset/valid/f1=0.889, task_slice:keyword_subscribe_ind/SnorkelDataset/valid/f1=0, task_slice:keyword_subscribe_pred/SnorkelDataset/valid/accuracy=1, task_slice:keyword_subscribe_pred/SnorkelDataset/valid/f1=1, task_slice:keyword_please_ind/SnorkelDataset/valid/f1=0, task_slice:keyword_please_pred/SnorkelDataset/valid/accuracy=1, task_slice:keyword_please_pred/SnorkelDataset/valid/f1=1, task_slice:regex_check_out_ind/SnorkelDataset/valid/f1=0.471, task_slice:regex_check_out_pred/SnorkelDataset/valid/accuracy=1, task_slice:regex_check_out_pred/SnorkelDataset/valid/f1=1, task_slice:short_comment_ind/SnorkelDataset/valid/f1=0, task_slice:short_comment_pred/SnorkelDataset/valid/accuracy=0.947, task_slice:short_comment_pred/SnorkelDataset/valid/f1=0.5, task_slice:textblob_polarity_ind/SnorkelDataset/valid/f1=0, task_slice:textblob_polarity_pred/SnorkelDataset/valid/accuracy=1, task_slice:textblob_polarity_pred/SnorkelDataset/valid/f1=1, task_slice:base_ind/SnorkelDataset/valid/f1=1, task_slice:base_pred/SnorkelDataset/valid/accuracy=0.933, task_slice:base_pred/SnorkelDataset/valid/f1=0.926]"
=======
      "Epoch 0::  58%|█████▊    | 29/50 [00:26<00:18,  1.11it/s, model/all/train/loss=0.414, model/all/train/lr=0.0001]"
>>>>>>> Update
     ]
    },
    {
     "name": "stderr",
     "output_type": "stream",
     "text": [
      "\r",
<<<<<<< HEAD
      "Epoch 1::  16%|█▌        | 4/25 [00:06<00:27,  1.29s/it, model/all/train/loss=0.21, model/all/train/lr=0.0001, task/SnorkelDataset/valid/accuracy=0.933, task/SnorkelDataset/valid/f1=0.926, task_slice:short_link_ind/SnorkelDataset/valid/f1=0, task_slice:short_link_pred/SnorkelDataset/valid/accuracy=0.8, task_slice:short_link_pred/SnorkelDataset/valid/f1=0.889, task_slice:keyword_subscribe_ind/SnorkelDataset/valid/f1=0, task_slice:keyword_subscribe_pred/SnorkelDataset/valid/accuracy=1, task_slice:keyword_subscribe_pred/SnorkelDataset/valid/f1=1, task_slice:keyword_please_ind/SnorkelDataset/valid/f1=0, task_slice:keyword_please_pred/SnorkelDataset/valid/accuracy=1, task_slice:keyword_please_pred/SnorkelDataset/valid/f1=1, task_slice:regex_check_out_ind/SnorkelDataset/valid/f1=0.471, task_slice:regex_check_out_pred/SnorkelDataset/valid/accuracy=1, task_slice:regex_check_out_pred/SnorkelDataset/valid/f1=1, task_slice:short_comment_ind/SnorkelDataset/valid/f1=0, task_slice:short_comment_pred/SnorkelDataset/valid/accuracy=0.947, task_slice:short_comment_pred/SnorkelDataset/valid/f1=0.5, task_slice:textblob_polarity_ind/SnorkelDataset/valid/f1=0, task_slice:textblob_polarity_pred/SnorkelDataset/valid/accuracy=1, task_slice:textblob_polarity_pred/SnorkelDataset/valid/f1=1, task_slice:base_ind/SnorkelDataset/valid/f1=1, task_slice:base_pred/SnorkelDataset/valid/accuracy=0.933, task_slice:base_pred/SnorkelDataset/valid/f1=0.926] "
=======
      "Epoch 0::  60%|██████    | 30/50 [00:26<00:17,  1.11it/s, model/all/train/loss=0.414, model/all/train/lr=0.0001]"
>>>>>>> Update
     ]
    },
    {
     "name": "stderr",
     "output_type": "stream",
     "text": [
      "\r",
<<<<<<< HEAD
      "Epoch 1::  20%|██        | 5/25 [00:06<00:25,  1.25s/it, model/all/train/loss=0.21, model/all/train/lr=0.0001, task/SnorkelDataset/valid/accuracy=0.933, task/SnorkelDataset/valid/f1=0.926, task_slice:short_link_ind/SnorkelDataset/valid/f1=0, task_slice:short_link_pred/SnorkelDataset/valid/accuracy=0.8, task_slice:short_link_pred/SnorkelDataset/valid/f1=0.889, task_slice:keyword_subscribe_ind/SnorkelDataset/valid/f1=0, task_slice:keyword_subscribe_pred/SnorkelDataset/valid/accuracy=1, task_slice:keyword_subscribe_pred/SnorkelDataset/valid/f1=1, task_slice:keyword_please_ind/SnorkelDataset/valid/f1=0, task_slice:keyword_please_pred/SnorkelDataset/valid/accuracy=1, task_slice:keyword_please_pred/SnorkelDataset/valid/f1=1, task_slice:regex_check_out_ind/SnorkelDataset/valid/f1=0.471, task_slice:regex_check_out_pred/SnorkelDataset/valid/accuracy=1, task_slice:regex_check_out_pred/SnorkelDataset/valid/f1=1, task_slice:short_comment_ind/SnorkelDataset/valid/f1=0, task_slice:short_comment_pred/SnorkelDataset/valid/accuracy=0.947, task_slice:short_comment_pred/SnorkelDataset/valid/f1=0.5, task_slice:textblob_polarity_ind/SnorkelDataset/valid/f1=0, task_slice:textblob_polarity_pred/SnorkelDataset/valid/accuracy=1, task_slice:textblob_polarity_pred/SnorkelDataset/valid/f1=1, task_slice:base_ind/SnorkelDataset/valid/f1=1, task_slice:base_pred/SnorkelDataset/valid/accuracy=0.933, task_slice:base_pred/SnorkelDataset/valid/f1=0.926]"
=======
      "Epoch 0::  60%|██████    | 30/50 [00:28<00:17,  1.11it/s, model/all/train/loss=0.41, model/all/train/lr=0.0001] "
>>>>>>> Update
     ]
    },
    {
     "name": "stderr",
     "output_type": "stream",
     "text": [
      "\r",
<<<<<<< HEAD
      "Epoch 1::  20%|██        | 5/25 [00:07<00:25,  1.25s/it, model/all/train/loss=0.207, model/all/train/lr=0.0001, task/SnorkelDataset/valid/accuracy=0.933, task/SnorkelDataset/valid/f1=0.926, task_slice:short_link_ind/SnorkelDataset/valid/f1=0, task_slice:short_link_pred/SnorkelDataset/valid/accuracy=0.8, task_slice:short_link_pred/SnorkelDataset/valid/f1=0.889, task_slice:keyword_subscribe_ind/SnorkelDataset/valid/f1=0, task_slice:keyword_subscribe_pred/SnorkelDataset/valid/accuracy=1, task_slice:keyword_subscribe_pred/SnorkelDataset/valid/f1=1, task_slice:keyword_please_ind/SnorkelDataset/valid/f1=0, task_slice:keyword_please_pred/SnorkelDataset/valid/accuracy=1, task_slice:keyword_please_pred/SnorkelDataset/valid/f1=1, task_slice:regex_check_out_ind/SnorkelDataset/valid/f1=0.471, task_slice:regex_check_out_pred/SnorkelDataset/valid/accuracy=1, task_slice:regex_check_out_pred/SnorkelDataset/valid/f1=1, task_slice:short_comment_ind/SnorkelDataset/valid/f1=0, task_slice:short_comment_pred/SnorkelDataset/valid/accuracy=0.947, task_slice:short_comment_pred/SnorkelDataset/valid/f1=0.5, task_slice:textblob_polarity_ind/SnorkelDataset/valid/f1=0, task_slice:textblob_polarity_pred/SnorkelDataset/valid/accuracy=1, task_slice:textblob_polarity_pred/SnorkelDataset/valid/f1=1, task_slice:base_ind/SnorkelDataset/valid/f1=1, task_slice:base_pred/SnorkelDataset/valid/accuracy=0.933, task_slice:base_pred/SnorkelDataset/valid/f1=0.926]"
=======
      "Epoch 0::  62%|██████▏   | 31/50 [00:28<00:18,  1.05it/s, model/all/train/loss=0.41, model/all/train/lr=0.0001]"
>>>>>>> Update
     ]
    },
    {
     "name": "stderr",
     "output_type": "stream",
     "text": [
      "\r",
<<<<<<< HEAD
      "Epoch 1::  24%|██▍       | 6/25 [00:07<00:23,  1.23s/it, model/all/train/loss=0.207, model/all/train/lr=0.0001, task/SnorkelDataset/valid/accuracy=0.933, task/SnorkelDataset/valid/f1=0.926, task_slice:short_link_ind/SnorkelDataset/valid/f1=0, task_slice:short_link_pred/SnorkelDataset/valid/accuracy=0.8, task_slice:short_link_pred/SnorkelDataset/valid/f1=0.889, task_slice:keyword_subscribe_ind/SnorkelDataset/valid/f1=0, task_slice:keyword_subscribe_pred/SnorkelDataset/valid/accuracy=1, task_slice:keyword_subscribe_pred/SnorkelDataset/valid/f1=1, task_slice:keyword_please_ind/SnorkelDataset/valid/f1=0, task_slice:keyword_please_pred/SnorkelDataset/valid/accuracy=1, task_slice:keyword_please_pred/SnorkelDataset/valid/f1=1, task_slice:regex_check_out_ind/SnorkelDataset/valid/f1=0.471, task_slice:regex_check_out_pred/SnorkelDataset/valid/accuracy=1, task_slice:regex_check_out_pred/SnorkelDataset/valid/f1=1, task_slice:short_comment_ind/SnorkelDataset/valid/f1=0, task_slice:short_comment_pred/SnorkelDataset/valid/accuracy=0.947, task_slice:short_comment_pred/SnorkelDataset/valid/f1=0.5, task_slice:textblob_polarity_ind/SnorkelDataset/valid/f1=0, task_slice:textblob_polarity_pred/SnorkelDataset/valid/accuracy=1, task_slice:textblob_polarity_pred/SnorkelDataset/valid/f1=1, task_slice:base_ind/SnorkelDataset/valid/f1=1, task_slice:base_pred/SnorkelDataset/valid/accuracy=0.933, task_slice:base_pred/SnorkelDataset/valid/f1=0.926]"
=======
      "Epoch 0::  62%|██████▏   | 31/50 [00:28<00:18,  1.05it/s, model/all/train/loss=0.406, model/all/train/lr=0.0001]"
>>>>>>> Update
     ]
    },
    {
     "name": "stderr",
     "output_type": "stream",
     "text": [
      "\r",
<<<<<<< HEAD
      "Epoch 1::  24%|██▍       | 6/25 [00:08<00:23,  1.23s/it, model/all/train/loss=0.208, model/all/train/lr=0.0001, task/SnorkelDataset/valid/accuracy=0.933, task/SnorkelDataset/valid/f1=0.926, task_slice:short_link_ind/SnorkelDataset/valid/f1=0, task_slice:short_link_pred/SnorkelDataset/valid/accuracy=0.8, task_slice:short_link_pred/SnorkelDataset/valid/f1=0.889, task_slice:keyword_subscribe_ind/SnorkelDataset/valid/f1=0, task_slice:keyword_subscribe_pred/SnorkelDataset/valid/accuracy=1, task_slice:keyword_subscribe_pred/SnorkelDataset/valid/f1=1, task_slice:keyword_please_ind/SnorkelDataset/valid/f1=0, task_slice:keyword_please_pred/SnorkelDataset/valid/accuracy=1, task_slice:keyword_please_pred/SnorkelDataset/valid/f1=1, task_slice:regex_check_out_ind/SnorkelDataset/valid/f1=0.471, task_slice:regex_check_out_pred/SnorkelDataset/valid/accuracy=1, task_slice:regex_check_out_pred/SnorkelDataset/valid/f1=1, task_slice:short_comment_ind/SnorkelDataset/valid/f1=0, task_slice:short_comment_pred/SnorkelDataset/valid/accuracy=0.947, task_slice:short_comment_pred/SnorkelDataset/valid/f1=0.5, task_slice:textblob_polarity_ind/SnorkelDataset/valid/f1=0, task_slice:textblob_polarity_pred/SnorkelDataset/valid/accuracy=1, task_slice:textblob_polarity_pred/SnorkelDataset/valid/f1=1, task_slice:base_ind/SnorkelDataset/valid/f1=1, task_slice:base_pred/SnorkelDataset/valid/accuracy=0.933, task_slice:base_pred/SnorkelDataset/valid/f1=0.926]"
=======
      "Epoch 0::  64%|██████▍   | 32/50 [00:28<00:16,  1.07it/s, model/all/train/loss=0.406, model/all/train/lr=0.0001]"
>>>>>>> Update
     ]
    },
    {
     "name": "stderr",
     "output_type": "stream",
     "text": [
      "\r",
<<<<<<< HEAD
      "Epoch 1::  28%|██▊       | 7/25 [00:08<00:21,  1.22s/it, model/all/train/loss=0.208, model/all/train/lr=0.0001, task/SnorkelDataset/valid/accuracy=0.933, task/SnorkelDataset/valid/f1=0.926, task_slice:short_link_ind/SnorkelDataset/valid/f1=0, task_slice:short_link_pred/SnorkelDataset/valid/accuracy=0.8, task_slice:short_link_pred/SnorkelDataset/valid/f1=0.889, task_slice:keyword_subscribe_ind/SnorkelDataset/valid/f1=0, task_slice:keyword_subscribe_pred/SnorkelDataset/valid/accuracy=1, task_slice:keyword_subscribe_pred/SnorkelDataset/valid/f1=1, task_slice:keyword_please_ind/SnorkelDataset/valid/f1=0, task_slice:keyword_please_pred/SnorkelDataset/valid/accuracy=1, task_slice:keyword_please_pred/SnorkelDataset/valid/f1=1, task_slice:regex_check_out_ind/SnorkelDataset/valid/f1=0.471, task_slice:regex_check_out_pred/SnorkelDataset/valid/accuracy=1, task_slice:regex_check_out_pred/SnorkelDataset/valid/f1=1, task_slice:short_comment_ind/SnorkelDataset/valid/f1=0, task_slice:short_comment_pred/SnorkelDataset/valid/accuracy=0.947, task_slice:short_comment_pred/SnorkelDataset/valid/f1=0.5, task_slice:textblob_polarity_ind/SnorkelDataset/valid/f1=0, task_slice:textblob_polarity_pred/SnorkelDataset/valid/accuracy=1, task_slice:textblob_polarity_pred/SnorkelDataset/valid/f1=1, task_slice:base_ind/SnorkelDataset/valid/f1=1, task_slice:base_pred/SnorkelDataset/valid/accuracy=0.933, task_slice:base_pred/SnorkelDataset/valid/f1=0.926]"
=======
      "Epoch 0::  64%|██████▍   | 32/50 [00:29<00:16,  1.07it/s, model/all/train/loss=0.403, model/all/train/lr=0.0001]"
>>>>>>> Update
     ]
    },
    {
     "name": "stderr",
     "output_type": "stream",
     "text": [
      "\r",
<<<<<<< HEAD
      "Epoch 1::  28%|██▊       | 7/25 [00:09<00:21,  1.22s/it, model/all/train/loss=0.207, model/all/train/lr=0.0001, task/SnorkelDataset/valid/accuracy=0.933, task/SnorkelDataset/valid/f1=0.926, task_slice:short_link_ind/SnorkelDataset/valid/f1=0, task_slice:short_link_pred/SnorkelDataset/valid/accuracy=0.8, task_slice:short_link_pred/SnorkelDataset/valid/f1=0.889, task_slice:keyword_subscribe_ind/SnorkelDataset/valid/f1=0, task_slice:keyword_subscribe_pred/SnorkelDataset/valid/accuracy=1, task_slice:keyword_subscribe_pred/SnorkelDataset/valid/f1=1, task_slice:keyword_please_ind/SnorkelDataset/valid/f1=0, task_slice:keyword_please_pred/SnorkelDataset/valid/accuracy=1, task_slice:keyword_please_pred/SnorkelDataset/valid/f1=1, task_slice:regex_check_out_ind/SnorkelDataset/valid/f1=0.471, task_slice:regex_check_out_pred/SnorkelDataset/valid/accuracy=1, task_slice:regex_check_out_pred/SnorkelDataset/valid/f1=1, task_slice:short_comment_ind/SnorkelDataset/valid/f1=0, task_slice:short_comment_pred/SnorkelDataset/valid/accuracy=0.947, task_slice:short_comment_pred/SnorkelDataset/valid/f1=0.5, task_slice:textblob_polarity_ind/SnorkelDataset/valid/f1=0, task_slice:textblob_polarity_pred/SnorkelDataset/valid/accuracy=1, task_slice:textblob_polarity_pred/SnorkelDataset/valid/f1=1, task_slice:base_ind/SnorkelDataset/valid/f1=1, task_slice:base_pred/SnorkelDataset/valid/accuracy=0.933, task_slice:base_pred/SnorkelDataset/valid/f1=0.926]"
=======
      "Epoch 0::  66%|██████▌   | 33/50 [00:29<00:15,  1.08it/s, model/all/train/loss=0.403, model/all/train/lr=0.0001]"
>>>>>>> Update
     ]
    },
    {
     "name": "stderr",
     "output_type": "stream",
     "text": [
      "\r",
<<<<<<< HEAD
      "Epoch 1::  32%|███▏      | 8/25 [00:09<00:20,  1.20s/it, model/all/train/loss=0.207, model/all/train/lr=0.0001, task/SnorkelDataset/valid/accuracy=0.933, task/SnorkelDataset/valid/f1=0.926, task_slice:short_link_ind/SnorkelDataset/valid/f1=0, task_slice:short_link_pred/SnorkelDataset/valid/accuracy=0.8, task_slice:short_link_pred/SnorkelDataset/valid/f1=0.889, task_slice:keyword_subscribe_ind/SnorkelDataset/valid/f1=0, task_slice:keyword_subscribe_pred/SnorkelDataset/valid/accuracy=1, task_slice:keyword_subscribe_pred/SnorkelDataset/valid/f1=1, task_slice:keyword_please_ind/SnorkelDataset/valid/f1=0, task_slice:keyword_please_pred/SnorkelDataset/valid/accuracy=1, task_slice:keyword_please_pred/SnorkelDataset/valid/f1=1, task_slice:regex_check_out_ind/SnorkelDataset/valid/f1=0.471, task_slice:regex_check_out_pred/SnorkelDataset/valid/accuracy=1, task_slice:regex_check_out_pred/SnorkelDataset/valid/f1=1, task_slice:short_comment_ind/SnorkelDataset/valid/f1=0, task_slice:short_comment_pred/SnorkelDataset/valid/accuracy=0.947, task_slice:short_comment_pred/SnorkelDataset/valid/f1=0.5, task_slice:textblob_polarity_ind/SnorkelDataset/valid/f1=0, task_slice:textblob_polarity_pred/SnorkelDataset/valid/accuracy=1, task_slice:textblob_polarity_pred/SnorkelDataset/valid/f1=1, task_slice:base_ind/SnorkelDataset/valid/f1=1, task_slice:base_pred/SnorkelDataset/valid/accuracy=0.933, task_slice:base_pred/SnorkelDataset/valid/f1=0.926]"
=======
      "Epoch 0::  66%|██████▌   | 33/50 [00:30<00:15,  1.08it/s, model/all/train/loss=0.398, model/all/train/lr=0.0001]"
>>>>>>> Update
     ]
    },
    {
     "name": "stderr",
     "output_type": "stream",
     "text": [
      "\r",
<<<<<<< HEAD
      "Epoch 1::  32%|███▏      | 8/25 [00:11<00:20,  1.20s/it, model/all/train/loss=0.201, model/all/train/lr=0.0001, task/SnorkelDataset/valid/accuracy=0.933, task/SnorkelDataset/valid/f1=0.926, task_slice:short_link_ind/SnorkelDataset/valid/f1=0, task_slice:short_link_pred/SnorkelDataset/valid/accuracy=0.8, task_slice:short_link_pred/SnorkelDataset/valid/f1=0.889, task_slice:keyword_subscribe_ind/SnorkelDataset/valid/f1=0, task_slice:keyword_subscribe_pred/SnorkelDataset/valid/accuracy=1, task_slice:keyword_subscribe_pred/SnorkelDataset/valid/f1=1, task_slice:keyword_please_ind/SnorkelDataset/valid/f1=0, task_slice:keyword_please_pred/SnorkelDataset/valid/accuracy=1, task_slice:keyword_please_pred/SnorkelDataset/valid/f1=1, task_slice:regex_check_out_ind/SnorkelDataset/valid/f1=0.471, task_slice:regex_check_out_pred/SnorkelDataset/valid/accuracy=1, task_slice:regex_check_out_pred/SnorkelDataset/valid/f1=1, task_slice:short_comment_ind/SnorkelDataset/valid/f1=0, task_slice:short_comment_pred/SnorkelDataset/valid/accuracy=0.947, task_slice:short_comment_pred/SnorkelDataset/valid/f1=0.5, task_slice:textblob_polarity_ind/SnorkelDataset/valid/f1=0, task_slice:textblob_polarity_pred/SnorkelDataset/valid/accuracy=1, task_slice:textblob_polarity_pred/SnorkelDataset/valid/f1=1, task_slice:base_ind/SnorkelDataset/valid/f1=1, task_slice:base_pred/SnorkelDataset/valid/accuracy=0.933, task_slice:base_pred/SnorkelDataset/valid/f1=0.926]"
=======
      "Epoch 0::  68%|██████▊   | 34/50 [00:30<00:14,  1.09it/s, model/all/train/loss=0.398, model/all/train/lr=0.0001]"
>>>>>>> Update
     ]
    },
    {
     "name": "stderr",
     "output_type": "stream",
     "text": [
      "\r",
<<<<<<< HEAD
      "Epoch 1::  36%|███▌      | 9/25 [00:11<00:19,  1.23s/it, model/all/train/loss=0.201, model/all/train/lr=0.0001, task/SnorkelDataset/valid/accuracy=0.933, task/SnorkelDataset/valid/f1=0.926, task_slice:short_link_ind/SnorkelDataset/valid/f1=0, task_slice:short_link_pred/SnorkelDataset/valid/accuracy=0.8, task_slice:short_link_pred/SnorkelDataset/valid/f1=0.889, task_slice:keyword_subscribe_ind/SnorkelDataset/valid/f1=0, task_slice:keyword_subscribe_pred/SnorkelDataset/valid/accuracy=1, task_slice:keyword_subscribe_pred/SnorkelDataset/valid/f1=1, task_slice:keyword_please_ind/SnorkelDataset/valid/f1=0, task_slice:keyword_please_pred/SnorkelDataset/valid/accuracy=1, task_slice:keyword_please_pred/SnorkelDataset/valid/f1=1, task_slice:regex_check_out_ind/SnorkelDataset/valid/f1=0.471, task_slice:regex_check_out_pred/SnorkelDataset/valid/accuracy=1, task_slice:regex_check_out_pred/SnorkelDataset/valid/f1=1, task_slice:short_comment_ind/SnorkelDataset/valid/f1=0, task_slice:short_comment_pred/SnorkelDataset/valid/accuracy=0.947, task_slice:short_comment_pred/SnorkelDataset/valid/f1=0.5, task_slice:textblob_polarity_ind/SnorkelDataset/valid/f1=0, task_slice:textblob_polarity_pred/SnorkelDataset/valid/accuracy=1, task_slice:textblob_polarity_pred/SnorkelDataset/valid/f1=1, task_slice:base_ind/SnorkelDataset/valid/f1=1, task_slice:base_pred/SnorkelDataset/valid/accuracy=0.933, task_slice:base_pred/SnorkelDataset/valid/f1=0.926]"
=======
      "Epoch 0::  68%|██████▊   | 34/50 [00:31<00:14,  1.09it/s, model/all/train/loss=0.394, model/all/train/lr=0.0001]"
>>>>>>> Update
     ]
    },
    {
     "name": "stderr",
     "output_type": "stream",
     "text": [
      "\r",
<<<<<<< HEAD
      "Epoch 1::  36%|███▌      | 9/25 [00:12<00:19,  1.23s/it, model/all/train/loss=0.197, model/all/train/lr=0.0001, task/SnorkelDataset/valid/accuracy=0.933, task/SnorkelDataset/valid/f1=0.926, task_slice:short_link_ind/SnorkelDataset/valid/f1=0, task_slice:short_link_pred/SnorkelDataset/valid/accuracy=0.8, task_slice:short_link_pred/SnorkelDataset/valid/f1=0.889, task_slice:keyword_subscribe_ind/SnorkelDataset/valid/f1=0, task_slice:keyword_subscribe_pred/SnorkelDataset/valid/accuracy=1, task_slice:keyword_subscribe_pred/SnorkelDataset/valid/f1=1, task_slice:keyword_please_ind/SnorkelDataset/valid/f1=0, task_slice:keyword_please_pred/SnorkelDataset/valid/accuracy=1, task_slice:keyword_please_pred/SnorkelDataset/valid/f1=1, task_slice:regex_check_out_ind/SnorkelDataset/valid/f1=0.471, task_slice:regex_check_out_pred/SnorkelDataset/valid/accuracy=1, task_slice:regex_check_out_pred/SnorkelDataset/valid/f1=1, task_slice:short_comment_ind/SnorkelDataset/valid/f1=0, task_slice:short_comment_pred/SnorkelDataset/valid/accuracy=0.947, task_slice:short_comment_pred/SnorkelDataset/valid/f1=0.5, task_slice:textblob_polarity_ind/SnorkelDataset/valid/f1=0, task_slice:textblob_polarity_pred/SnorkelDataset/valid/accuracy=1, task_slice:textblob_polarity_pred/SnorkelDataset/valid/f1=1, task_slice:base_ind/SnorkelDataset/valid/f1=1, task_slice:base_pred/SnorkelDataset/valid/accuracy=0.933, task_slice:base_pred/SnorkelDataset/valid/f1=0.926]"
=======
      "Epoch 0::  70%|███████   | 35/50 [00:31<00:13,  1.10it/s, model/all/train/loss=0.394, model/all/train/lr=0.0001]"
>>>>>>> Update
     ]
    },
    {
     "name": "stderr",
     "output_type": "stream",
     "text": [
      "\r",
<<<<<<< HEAD
      "Epoch 1::  40%|████      | 10/25 [00:12<00:18,  1.24s/it, model/all/train/loss=0.197, model/all/train/lr=0.0001, task/SnorkelDataset/valid/accuracy=0.933, task/SnorkelDataset/valid/f1=0.926, task_slice:short_link_ind/SnorkelDataset/valid/f1=0, task_slice:short_link_pred/SnorkelDataset/valid/accuracy=0.8, task_slice:short_link_pred/SnorkelDataset/valid/f1=0.889, task_slice:keyword_subscribe_ind/SnorkelDataset/valid/f1=0, task_slice:keyword_subscribe_pred/SnorkelDataset/valid/accuracy=1, task_slice:keyword_subscribe_pred/SnorkelDataset/valid/f1=1, task_slice:keyword_please_ind/SnorkelDataset/valid/f1=0, task_slice:keyword_please_pred/SnorkelDataset/valid/accuracy=1, task_slice:keyword_please_pred/SnorkelDataset/valid/f1=1, task_slice:regex_check_out_ind/SnorkelDataset/valid/f1=0.471, task_slice:regex_check_out_pred/SnorkelDataset/valid/accuracy=1, task_slice:regex_check_out_pred/SnorkelDataset/valid/f1=1, task_slice:short_comment_ind/SnorkelDataset/valid/f1=0, task_slice:short_comment_pred/SnorkelDataset/valid/accuracy=0.947, task_slice:short_comment_pred/SnorkelDataset/valid/f1=0.5, task_slice:textblob_polarity_ind/SnorkelDataset/valid/f1=0, task_slice:textblob_polarity_pred/SnorkelDataset/valid/accuracy=1, task_slice:textblob_polarity_pred/SnorkelDataset/valid/f1=1, task_slice:base_ind/SnorkelDataset/valid/f1=1, task_slice:base_pred/SnorkelDataset/valid/accuracy=0.933, task_slice:base_pred/SnorkelDataset/valid/f1=0.926]"
=======
      "Epoch 0::  70%|███████   | 35/50 [00:32<00:13,  1.10it/s, model/all/train/loss=0.391, model/all/train/lr=0.0001]"
>>>>>>> Update
     ]
    },
    {
     "name": "stderr",
     "output_type": "stream",
     "text": [
      "\r",
<<<<<<< HEAD
      "Epoch 1::  40%|████      | 10/25 [00:13<00:18,  1.24s/it, model/all/train/loss=0.196, model/all/train/lr=0.0001, task/SnorkelDataset/valid/accuracy=0.933, task/SnorkelDataset/valid/f1=0.926, task_slice:short_link_ind/SnorkelDataset/valid/f1=0, task_slice:short_link_pred/SnorkelDataset/valid/accuracy=0.8, task_slice:short_link_pred/SnorkelDataset/valid/f1=0.889, task_slice:keyword_subscribe_ind/SnorkelDataset/valid/f1=0, task_slice:keyword_subscribe_pred/SnorkelDataset/valid/accuracy=1, task_slice:keyword_subscribe_pred/SnorkelDataset/valid/f1=1, task_slice:keyword_please_ind/SnorkelDataset/valid/f1=0, task_slice:keyword_please_pred/SnorkelDataset/valid/accuracy=1, task_slice:keyword_please_pred/SnorkelDataset/valid/f1=1, task_slice:regex_check_out_ind/SnorkelDataset/valid/f1=0.471, task_slice:regex_check_out_pred/SnorkelDataset/valid/accuracy=1, task_slice:regex_check_out_pred/SnorkelDataset/valid/f1=1, task_slice:short_comment_ind/SnorkelDataset/valid/f1=0, task_slice:short_comment_pred/SnorkelDataset/valid/accuracy=0.947, task_slice:short_comment_pred/SnorkelDataset/valid/f1=0.5, task_slice:textblob_polarity_ind/SnorkelDataset/valid/f1=0, task_slice:textblob_polarity_pred/SnorkelDataset/valid/accuracy=1, task_slice:textblob_polarity_pred/SnorkelDataset/valid/f1=1, task_slice:base_ind/SnorkelDataset/valid/f1=1, task_slice:base_pred/SnorkelDataset/valid/accuracy=0.933, task_slice:base_pred/SnorkelDataset/valid/f1=0.926]"
=======
      "Epoch 0::  72%|███████▏  | 36/50 [00:32<00:12,  1.10it/s, model/all/train/loss=0.391, model/all/train/lr=0.0001]"
>>>>>>> Update
     ]
    },
    {
     "name": "stderr",
     "output_type": "stream",
     "text": [
      "\r",
<<<<<<< HEAD
      "Epoch 1::  44%|████▍     | 11/25 [00:13<00:16,  1.21s/it, model/all/train/loss=0.196, model/all/train/lr=0.0001, task/SnorkelDataset/valid/accuracy=0.933, task/SnorkelDataset/valid/f1=0.926, task_slice:short_link_ind/SnorkelDataset/valid/f1=0, task_slice:short_link_pred/SnorkelDataset/valid/accuracy=0.8, task_slice:short_link_pred/SnorkelDataset/valid/f1=0.889, task_slice:keyword_subscribe_ind/SnorkelDataset/valid/f1=0, task_slice:keyword_subscribe_pred/SnorkelDataset/valid/accuracy=1, task_slice:keyword_subscribe_pred/SnorkelDataset/valid/f1=1, task_slice:keyword_please_ind/SnorkelDataset/valid/f1=0, task_slice:keyword_please_pred/SnorkelDataset/valid/accuracy=1, task_slice:keyword_please_pred/SnorkelDataset/valid/f1=1, task_slice:regex_check_out_ind/SnorkelDataset/valid/f1=0.471, task_slice:regex_check_out_pred/SnorkelDataset/valid/accuracy=1, task_slice:regex_check_out_pred/SnorkelDataset/valid/f1=1, task_slice:short_comment_ind/SnorkelDataset/valid/f1=0, task_slice:short_comment_pred/SnorkelDataset/valid/accuracy=0.947, task_slice:short_comment_pred/SnorkelDataset/valid/f1=0.5, task_slice:textblob_polarity_ind/SnorkelDataset/valid/f1=0, task_slice:textblob_polarity_pred/SnorkelDataset/valid/accuracy=1, task_slice:textblob_polarity_pred/SnorkelDataset/valid/f1=1, task_slice:base_ind/SnorkelDataset/valid/f1=1, task_slice:base_pred/SnorkelDataset/valid/accuracy=0.933, task_slice:base_pred/SnorkelDataset/valid/f1=0.926]"
=======
      "Epoch 0::  72%|███████▏  | 36/50 [00:33<00:12,  1.10it/s, model/all/train/loss=0.388, model/all/train/lr=0.0001]"
>>>>>>> Update
     ]
    },
    {
     "name": "stderr",
     "output_type": "stream",
     "text": [
      "\r",
<<<<<<< HEAD
      "Epoch 1::  44%|████▍     | 11/25 [00:15<00:16,  1.21s/it, model/all/train/loss=0.193, model/all/train/lr=0.0001, task/SnorkelDataset/valid/accuracy=0.933, task/SnorkelDataset/valid/f1=0.926, task_slice:short_link_ind/SnorkelDataset/valid/f1=0, task_slice:short_link_pred/SnorkelDataset/valid/accuracy=0.8, task_slice:short_link_pred/SnorkelDataset/valid/f1=0.889, task_slice:keyword_subscribe_ind/SnorkelDataset/valid/f1=0, task_slice:keyword_subscribe_pred/SnorkelDataset/valid/accuracy=1, task_slice:keyword_subscribe_pred/SnorkelDataset/valid/f1=1, task_slice:keyword_please_ind/SnorkelDataset/valid/f1=0, task_slice:keyword_please_pred/SnorkelDataset/valid/accuracy=1, task_slice:keyword_please_pred/SnorkelDataset/valid/f1=1, task_slice:regex_check_out_ind/SnorkelDataset/valid/f1=0.471, task_slice:regex_check_out_pred/SnorkelDataset/valid/accuracy=1, task_slice:regex_check_out_pred/SnorkelDataset/valid/f1=1, task_slice:short_comment_ind/SnorkelDataset/valid/f1=0, task_slice:short_comment_pred/SnorkelDataset/valid/accuracy=0.947, task_slice:short_comment_pred/SnorkelDataset/valid/f1=0.5, task_slice:textblob_polarity_ind/SnorkelDataset/valid/f1=0, task_slice:textblob_polarity_pred/SnorkelDataset/valid/accuracy=1, task_slice:textblob_polarity_pred/SnorkelDataset/valid/f1=1, task_slice:base_ind/SnorkelDataset/valid/f1=1, task_slice:base_pred/SnorkelDataset/valid/accuracy=0.933, task_slice:base_pred/SnorkelDataset/valid/f1=0.926]"
=======
      "Epoch 0::  74%|███████▍  | 37/50 [00:33<00:11,  1.11it/s, model/all/train/loss=0.388, model/all/train/lr=0.0001]"
>>>>>>> Update
     ]
    },
    {
     "name": "stderr",
     "output_type": "stream",
     "text": [
      "\r",
<<<<<<< HEAD
      "Epoch 1::  48%|████▊     | 12/25 [00:15<00:17,  1.32s/it, model/all/train/loss=0.193, model/all/train/lr=0.0001, task/SnorkelDataset/valid/accuracy=0.933, task/SnorkelDataset/valid/f1=0.926, task_slice:short_link_ind/SnorkelDataset/valid/f1=0, task_slice:short_link_pred/SnorkelDataset/valid/accuracy=0.8, task_slice:short_link_pred/SnorkelDataset/valid/f1=0.889, task_slice:keyword_subscribe_ind/SnorkelDataset/valid/f1=0, task_slice:keyword_subscribe_pred/SnorkelDataset/valid/accuracy=1, task_slice:keyword_subscribe_pred/SnorkelDataset/valid/f1=1, task_slice:keyword_please_ind/SnorkelDataset/valid/f1=0, task_slice:keyword_please_pred/SnorkelDataset/valid/accuracy=1, task_slice:keyword_please_pred/SnorkelDataset/valid/f1=1, task_slice:regex_check_out_ind/SnorkelDataset/valid/f1=0.471, task_slice:regex_check_out_pred/SnorkelDataset/valid/accuracy=1, task_slice:regex_check_out_pred/SnorkelDataset/valid/f1=1, task_slice:short_comment_ind/SnorkelDataset/valid/f1=0, task_slice:short_comment_pred/SnorkelDataset/valid/accuracy=0.947, task_slice:short_comment_pred/SnorkelDataset/valid/f1=0.5, task_slice:textblob_polarity_ind/SnorkelDataset/valid/f1=0, task_slice:textblob_polarity_pred/SnorkelDataset/valid/accuracy=1, task_slice:textblob_polarity_pred/SnorkelDataset/valid/f1=1, task_slice:base_ind/SnorkelDataset/valid/f1=1, task_slice:base_pred/SnorkelDataset/valid/accuracy=0.933, task_slice:base_pred/SnorkelDataset/valid/f1=0.926]"
=======
      "Epoch 0::  74%|███████▍  | 37/50 [00:34<00:11,  1.11it/s, model/all/train/loss=0.385, model/all/train/lr=0.0001]"
>>>>>>> Update
     ]
    },
    {
     "name": "stderr",
     "output_type": "stream",
     "text": [
      "\r",
      "Epoch 1::  48%|████▊     | 12/25 [00:16<00:17,  1.32s/it, model/all/train/loss=0.191, model/all/train/lr=0.0001, task/SnorkelDataset/valid/accuracy=0.933, task/SnorkelDataset/valid/f1=0.926, task_slice:short_link_ind/SnorkelDataset/valid/f1=0, task_slice:short_link_pred/SnorkelDataset/valid/accuracy=0.8, task_slice:short_link_pred/SnorkelDataset/valid/f1=0.889, task_slice:keyword_subscribe_ind/SnorkelDataset/valid/f1=0, task_slice:keyword_subscribe_pred/SnorkelDataset/valid/accuracy=1, task_slice:keyword_subscribe_pred/SnorkelDataset/valid/f1=1, task_slice:keyword_please_ind/SnorkelDataset/valid/f1=0, task_slice:keyword_please_pred/SnorkelDataset/valid/accuracy=1, task_slice:keyword_please_pred/SnorkelDataset/valid/f1=1, task_slice:regex_check_out_ind/SnorkelDataset/valid/f1=0.471, task_slice:regex_check_out_pred/SnorkelDataset/valid/accuracy=1, task_slice:regex_check_out_pred/SnorkelDataset/valid/f1=1, task_slice:short_comment_ind/SnorkelDataset/valid/f1=0, task_slice:short_comment_pred/SnorkelDataset/valid/accuracy=0.947, task_slice:short_comment_pred/SnorkelDataset/valid/f1=0.5, task_slice:textblob_polarity_ind/SnorkelDataset/valid/f1=0, task_slice:textblob_polarity_pred/SnorkelDataset/valid/accuracy=1, task_slice:textblob_polarity_pred/SnorkelDataset/valid/f1=1, task_slice:base_ind/SnorkelDataset/valid/f1=1, task_slice:base_pred/SnorkelDataset/valid/accuracy=0.933, task_slice:base_pred/SnorkelDataset/valid/f1=0.926]"
     ]
    },
    {
     "name": "stderr",
     "output_type": "stream",
     "text": [
      "\r",
      "Epoch 1::  52%|█████▏    | 13/25 [00:16<00:16,  1.36s/it, model/all/train/loss=0.191, model/all/train/lr=0.0001, task/SnorkelDataset/valid/accuracy=0.933, task/SnorkelDataset/valid/f1=0.926, task_slice:short_link_ind/SnorkelDataset/valid/f1=0, task_slice:short_link_pred/SnorkelDataset/valid/accuracy=0.8, task_slice:short_link_pred/SnorkelDataset/valid/f1=0.889, task_slice:keyword_subscribe_ind/SnorkelDataset/valid/f1=0, task_slice:keyword_subscribe_pred/SnorkelDataset/valid/accuracy=1, task_slice:keyword_subscribe_pred/SnorkelDataset/valid/f1=1, task_slice:keyword_please_ind/SnorkelDataset/valid/f1=0, task_slice:keyword_please_pred/SnorkelDataset/valid/accuracy=1, task_slice:keyword_please_pred/SnorkelDataset/valid/f1=1, task_slice:regex_check_out_ind/SnorkelDataset/valid/f1=0.471, task_slice:regex_check_out_pred/SnorkelDataset/valid/accuracy=1, task_slice:regex_check_out_pred/SnorkelDataset/valid/f1=1, task_slice:short_comment_ind/SnorkelDataset/valid/f1=0, task_slice:short_comment_pred/SnorkelDataset/valid/accuracy=0.947, task_slice:short_comment_pred/SnorkelDataset/valid/f1=0.5, task_slice:textblob_polarity_ind/SnorkelDataset/valid/f1=0, task_slice:textblob_polarity_pred/SnorkelDataset/valid/accuracy=1, task_slice:textblob_polarity_pred/SnorkelDataset/valid/f1=1, task_slice:base_ind/SnorkelDataset/valid/f1=1, task_slice:base_pred/SnorkelDataset/valid/accuracy=0.933, task_slice:base_pred/SnorkelDataset/valid/f1=0.926]"
     ]
    },
    {
     "name": "stderr",
     "output_type": "stream",
     "text": [
      "\r",
<<<<<<< HEAD
      "Epoch 1::  52%|█████▏    | 13/25 [00:17<00:16,  1.36s/it, model/all/train/loss=0.189, model/all/train/lr=0.0001, task/SnorkelDataset/valid/accuracy=0.933, task/SnorkelDataset/valid/f1=0.926, task_slice:short_link_ind/SnorkelDataset/valid/f1=0, task_slice:short_link_pred/SnorkelDataset/valid/accuracy=0.8, task_slice:short_link_pred/SnorkelDataset/valid/f1=0.889, task_slice:keyword_subscribe_ind/SnorkelDataset/valid/f1=0, task_slice:keyword_subscribe_pred/SnorkelDataset/valid/accuracy=1, task_slice:keyword_subscribe_pred/SnorkelDataset/valid/f1=1, task_slice:keyword_please_ind/SnorkelDataset/valid/f1=0, task_slice:keyword_please_pred/SnorkelDataset/valid/accuracy=1, task_slice:keyword_please_pred/SnorkelDataset/valid/f1=1, task_slice:regex_check_out_ind/SnorkelDataset/valid/f1=0.471, task_slice:regex_check_out_pred/SnorkelDataset/valid/accuracy=1, task_slice:regex_check_out_pred/SnorkelDataset/valid/f1=1, task_slice:short_comment_ind/SnorkelDataset/valid/f1=0, task_slice:short_comment_pred/SnorkelDataset/valid/accuracy=0.947, task_slice:short_comment_pred/SnorkelDataset/valid/f1=0.5, task_slice:textblob_polarity_ind/SnorkelDataset/valid/f1=0, task_slice:textblob_polarity_pred/SnorkelDataset/valid/accuracy=1, task_slice:textblob_polarity_pred/SnorkelDataset/valid/f1=1, task_slice:base_ind/SnorkelDataset/valid/f1=1, task_slice:base_pred/SnorkelDataset/valid/accuracy=0.933, task_slice:base_pred/SnorkelDataset/valid/f1=0.926]"
=======
      "Epoch 0::  78%|███████▊  | 39/50 [00:35<00:10,  1.08it/s, model/all/train/loss=0.382, model/all/train/lr=0.0001]"
>>>>>>> Update
     ]
    },
    {
     "name": "stderr",
     "output_type": "stream",
     "text": [
      "\r",
<<<<<<< HEAD
      "Epoch 1::  56%|█████▌    | 14/25 [00:17<00:14,  1.30s/it, model/all/train/loss=0.189, model/all/train/lr=0.0001, task/SnorkelDataset/valid/accuracy=0.933, task/SnorkelDataset/valid/f1=0.926, task_slice:short_link_ind/SnorkelDataset/valid/f1=0, task_slice:short_link_pred/SnorkelDataset/valid/accuracy=0.8, task_slice:short_link_pred/SnorkelDataset/valid/f1=0.889, task_slice:keyword_subscribe_ind/SnorkelDataset/valid/f1=0, task_slice:keyword_subscribe_pred/SnorkelDataset/valid/accuracy=1, task_slice:keyword_subscribe_pred/SnorkelDataset/valid/f1=1, task_slice:keyword_please_ind/SnorkelDataset/valid/f1=0, task_slice:keyword_please_pred/SnorkelDataset/valid/accuracy=1, task_slice:keyword_please_pred/SnorkelDataset/valid/f1=1, task_slice:regex_check_out_ind/SnorkelDataset/valid/f1=0.471, task_slice:regex_check_out_pred/SnorkelDataset/valid/accuracy=1, task_slice:regex_check_out_pred/SnorkelDataset/valid/f1=1, task_slice:short_comment_ind/SnorkelDataset/valid/f1=0, task_slice:short_comment_pred/SnorkelDataset/valid/accuracy=0.947, task_slice:short_comment_pred/SnorkelDataset/valid/f1=0.5, task_slice:textblob_polarity_ind/SnorkelDataset/valid/f1=0, task_slice:textblob_polarity_pred/SnorkelDataset/valid/accuracy=1, task_slice:textblob_polarity_pred/SnorkelDataset/valid/f1=1, task_slice:base_ind/SnorkelDataset/valid/f1=1, task_slice:base_pred/SnorkelDataset/valid/accuracy=0.933, task_slice:base_pred/SnorkelDataset/valid/f1=0.926]"
=======
      "Epoch 0::  78%|███████▊  | 39/50 [00:36<00:10,  1.08it/s, model/all/train/loss=0.38, model/all/train/lr=0.0001] "
>>>>>>> Update
     ]
    },
    {
     "name": "stderr",
     "output_type": "stream",
     "text": [
      "\r",
<<<<<<< HEAD
      "Epoch 1::  56%|█████▌    | 14/25 [00:19<00:14,  1.30s/it, model/all/train/loss=0.186, model/all/train/lr=0.0001, task/SnorkelDataset/valid/accuracy=0.933, task/SnorkelDataset/valid/f1=0.926, task_slice:short_link_ind/SnorkelDataset/valid/f1=0, task_slice:short_link_pred/SnorkelDataset/valid/accuracy=0.8, task_slice:short_link_pred/SnorkelDataset/valid/f1=0.889, task_slice:keyword_subscribe_ind/SnorkelDataset/valid/f1=0, task_slice:keyword_subscribe_pred/SnorkelDataset/valid/accuracy=1, task_slice:keyword_subscribe_pred/SnorkelDataset/valid/f1=1, task_slice:keyword_please_ind/SnorkelDataset/valid/f1=0, task_slice:keyword_please_pred/SnorkelDataset/valid/accuracy=1, task_slice:keyword_please_pred/SnorkelDataset/valid/f1=1, task_slice:regex_check_out_ind/SnorkelDataset/valid/f1=0.471, task_slice:regex_check_out_pred/SnorkelDataset/valid/accuracy=1, task_slice:regex_check_out_pred/SnorkelDataset/valid/f1=1, task_slice:short_comment_ind/SnorkelDataset/valid/f1=0, task_slice:short_comment_pred/SnorkelDataset/valid/accuracy=0.947, task_slice:short_comment_pred/SnorkelDataset/valid/f1=0.5, task_slice:textblob_polarity_ind/SnorkelDataset/valid/f1=0, task_slice:textblob_polarity_pred/SnorkelDataset/valid/accuracy=1, task_slice:textblob_polarity_pred/SnorkelDataset/valid/f1=1, task_slice:base_ind/SnorkelDataset/valid/f1=1, task_slice:base_pred/SnorkelDataset/valid/accuracy=0.933, task_slice:base_pred/SnorkelDataset/valid/f1=0.926]"
=======
      "Epoch 0::  80%|████████  | 40/50 [00:36<00:09,  1.09it/s, model/all/train/loss=0.38, model/all/train/lr=0.0001]"
>>>>>>> Update
     ]
    },
    {
     "name": "stderr",
     "output_type": "stream",
     "text": [
      "\r",
<<<<<<< HEAD
      "Epoch 1::  60%|██████    | 15/25 [00:19<00:13,  1.30s/it, model/all/train/loss=0.186, model/all/train/lr=0.0001, task/SnorkelDataset/valid/accuracy=0.933, task/SnorkelDataset/valid/f1=0.926, task_slice:short_link_ind/SnorkelDataset/valid/f1=0, task_slice:short_link_pred/SnorkelDataset/valid/accuracy=0.8, task_slice:short_link_pred/SnorkelDataset/valid/f1=0.889, task_slice:keyword_subscribe_ind/SnorkelDataset/valid/f1=0, task_slice:keyword_subscribe_pred/SnorkelDataset/valid/accuracy=1, task_slice:keyword_subscribe_pred/SnorkelDataset/valid/f1=1, task_slice:keyword_please_ind/SnorkelDataset/valid/f1=0, task_slice:keyword_please_pred/SnorkelDataset/valid/accuracy=1, task_slice:keyword_please_pred/SnorkelDataset/valid/f1=1, task_slice:regex_check_out_ind/SnorkelDataset/valid/f1=0.471, task_slice:regex_check_out_pred/SnorkelDataset/valid/accuracy=1, task_slice:regex_check_out_pred/SnorkelDataset/valid/f1=1, task_slice:short_comment_ind/SnorkelDataset/valid/f1=0, task_slice:short_comment_pred/SnorkelDataset/valid/accuracy=0.947, task_slice:short_comment_pred/SnorkelDataset/valid/f1=0.5, task_slice:textblob_polarity_ind/SnorkelDataset/valid/f1=0, task_slice:textblob_polarity_pred/SnorkelDataset/valid/accuracy=1, task_slice:textblob_polarity_pred/SnorkelDataset/valid/f1=1, task_slice:base_ind/SnorkelDataset/valid/f1=1, task_slice:base_pred/SnorkelDataset/valid/accuracy=0.933, task_slice:base_pred/SnorkelDataset/valid/f1=0.926]"
=======
      "Epoch 0::  80%|████████  | 40/50 [00:37<00:09,  1.09it/s, model/all/train/loss=0.378, model/all/train/lr=0.0001]"
>>>>>>> Update
     ]
    },
    {
     "name": "stderr",
     "output_type": "stream",
     "text": [
      "\r",
<<<<<<< HEAD
      "Epoch 1::  60%|██████    | 15/25 [00:20<00:13,  1.30s/it, model/all/train/loss=0.182, model/all/train/lr=0.0001, task/SnorkelDataset/valid/accuracy=0.933, task/SnorkelDataset/valid/f1=0.926, task_slice:short_link_ind/SnorkelDataset/valid/f1=0, task_slice:short_link_pred/SnorkelDataset/valid/accuracy=0.8, task_slice:short_link_pred/SnorkelDataset/valid/f1=0.889, task_slice:keyword_subscribe_ind/SnorkelDataset/valid/f1=0, task_slice:keyword_subscribe_pred/SnorkelDataset/valid/accuracy=1, task_slice:keyword_subscribe_pred/SnorkelDataset/valid/f1=1, task_slice:keyword_please_ind/SnorkelDataset/valid/f1=0, task_slice:keyword_please_pred/SnorkelDataset/valid/accuracy=1, task_slice:keyword_please_pred/SnorkelDataset/valid/f1=1, task_slice:regex_check_out_ind/SnorkelDataset/valid/f1=0.471, task_slice:regex_check_out_pred/SnorkelDataset/valid/accuracy=1, task_slice:regex_check_out_pred/SnorkelDataset/valid/f1=1, task_slice:short_comment_ind/SnorkelDataset/valid/f1=0, task_slice:short_comment_pred/SnorkelDataset/valid/accuracy=0.947, task_slice:short_comment_pred/SnorkelDataset/valid/f1=0.5, task_slice:textblob_polarity_ind/SnorkelDataset/valid/f1=0, task_slice:textblob_polarity_pred/SnorkelDataset/valid/accuracy=1, task_slice:textblob_polarity_pred/SnorkelDataset/valid/f1=1, task_slice:base_ind/SnorkelDataset/valid/f1=1, task_slice:base_pred/SnorkelDataset/valid/accuracy=0.933, task_slice:base_pred/SnorkelDataset/valid/f1=0.926]"
=======
      "Epoch 0::  82%|████████▏ | 41/50 [00:37<00:08,  1.10it/s, model/all/train/loss=0.378, model/all/train/lr=0.0001]"
>>>>>>> Update
     ]
    },
    {
     "name": "stderr",
     "output_type": "stream",
     "text": [
      "\r",
<<<<<<< HEAD
      "Epoch 1::  64%|██████▍   | 16/25 [00:20<00:11,  1.26s/it, model/all/train/loss=0.182, model/all/train/lr=0.0001, task/SnorkelDataset/valid/accuracy=0.933, task/SnorkelDataset/valid/f1=0.926, task_slice:short_link_ind/SnorkelDataset/valid/f1=0, task_slice:short_link_pred/SnorkelDataset/valid/accuracy=0.8, task_slice:short_link_pred/SnorkelDataset/valid/f1=0.889, task_slice:keyword_subscribe_ind/SnorkelDataset/valid/f1=0, task_slice:keyword_subscribe_pred/SnorkelDataset/valid/accuracy=1, task_slice:keyword_subscribe_pred/SnorkelDataset/valid/f1=1, task_slice:keyword_please_ind/SnorkelDataset/valid/f1=0, task_slice:keyword_please_pred/SnorkelDataset/valid/accuracy=1, task_slice:keyword_please_pred/SnorkelDataset/valid/f1=1, task_slice:regex_check_out_ind/SnorkelDataset/valid/f1=0.471, task_slice:regex_check_out_pred/SnorkelDataset/valid/accuracy=1, task_slice:regex_check_out_pred/SnorkelDataset/valid/f1=1, task_slice:short_comment_ind/SnorkelDataset/valid/f1=0, task_slice:short_comment_pred/SnorkelDataset/valid/accuracy=0.947, task_slice:short_comment_pred/SnorkelDataset/valid/f1=0.5, task_slice:textblob_polarity_ind/SnorkelDataset/valid/f1=0, task_slice:textblob_polarity_pred/SnorkelDataset/valid/accuracy=1, task_slice:textblob_polarity_pred/SnorkelDataset/valid/f1=1, task_slice:base_ind/SnorkelDataset/valid/f1=1, task_slice:base_pred/SnorkelDataset/valid/accuracy=0.933, task_slice:base_pred/SnorkelDataset/valid/f1=0.926]"
=======
      "Epoch 0::  82%|████████▏ | 41/50 [00:38<00:08,  1.10it/s, model/all/train/loss=0.375, model/all/train/lr=0.0001]"
>>>>>>> Update
     ]
    },
    {
     "name": "stderr",
     "output_type": "stream",
     "text": [
      "\r",
<<<<<<< HEAD
      "Epoch 1::  64%|██████▍   | 16/25 [00:21<00:11,  1.26s/it, model/all/train/loss=0.18, model/all/train/lr=0.0001, task/SnorkelDataset/valid/accuracy=0.933, task/SnorkelDataset/valid/f1=0.926, task_slice:short_link_ind/SnorkelDataset/valid/f1=0, task_slice:short_link_pred/SnorkelDataset/valid/accuracy=0.8, task_slice:short_link_pred/SnorkelDataset/valid/f1=0.889, task_slice:keyword_subscribe_ind/SnorkelDataset/valid/f1=0, task_slice:keyword_subscribe_pred/SnorkelDataset/valid/accuracy=1, task_slice:keyword_subscribe_pred/SnorkelDataset/valid/f1=1, task_slice:keyword_please_ind/SnorkelDataset/valid/f1=0, task_slice:keyword_please_pred/SnorkelDataset/valid/accuracy=1, task_slice:keyword_please_pred/SnorkelDataset/valid/f1=1, task_slice:regex_check_out_ind/SnorkelDataset/valid/f1=0.471, task_slice:regex_check_out_pred/SnorkelDataset/valid/accuracy=1, task_slice:regex_check_out_pred/SnorkelDataset/valid/f1=1, task_slice:short_comment_ind/SnorkelDataset/valid/f1=0, task_slice:short_comment_pred/SnorkelDataset/valid/accuracy=0.947, task_slice:short_comment_pred/SnorkelDataset/valid/f1=0.5, task_slice:textblob_polarity_ind/SnorkelDataset/valid/f1=0, task_slice:textblob_polarity_pred/SnorkelDataset/valid/accuracy=1, task_slice:textblob_polarity_pred/SnorkelDataset/valid/f1=1, task_slice:base_ind/SnorkelDataset/valid/f1=1, task_slice:base_pred/SnorkelDataset/valid/accuracy=0.933, task_slice:base_pred/SnorkelDataset/valid/f1=0.926] "
=======
      "Epoch 0::  84%|████████▍ | 42/50 [00:38<00:07,  1.11it/s, model/all/train/loss=0.375, model/all/train/lr=0.0001]"
>>>>>>> Update
     ]
    },
    {
     "name": "stderr",
     "output_type": "stream",
     "text": [
      "\r",
<<<<<<< HEAD
      "Epoch 1::  68%|██████▊   | 17/25 [00:21<00:10,  1.31s/it, model/all/train/loss=0.18, model/all/train/lr=0.0001, task/SnorkelDataset/valid/accuracy=0.933, task/SnorkelDataset/valid/f1=0.926, task_slice:short_link_ind/SnorkelDataset/valid/f1=0, task_slice:short_link_pred/SnorkelDataset/valid/accuracy=0.8, task_slice:short_link_pred/SnorkelDataset/valid/f1=0.889, task_slice:keyword_subscribe_ind/SnorkelDataset/valid/f1=0, task_slice:keyword_subscribe_pred/SnorkelDataset/valid/accuracy=1, task_slice:keyword_subscribe_pred/SnorkelDataset/valid/f1=1, task_slice:keyword_please_ind/SnorkelDataset/valid/f1=0, task_slice:keyword_please_pred/SnorkelDataset/valid/accuracy=1, task_slice:keyword_please_pred/SnorkelDataset/valid/f1=1, task_slice:regex_check_out_ind/SnorkelDataset/valid/f1=0.471, task_slice:regex_check_out_pred/SnorkelDataset/valid/accuracy=1, task_slice:regex_check_out_pred/SnorkelDataset/valid/f1=1, task_slice:short_comment_ind/SnorkelDataset/valid/f1=0, task_slice:short_comment_pred/SnorkelDataset/valid/accuracy=0.947, task_slice:short_comment_pred/SnorkelDataset/valid/f1=0.5, task_slice:textblob_polarity_ind/SnorkelDataset/valid/f1=0, task_slice:textblob_polarity_pred/SnorkelDataset/valid/accuracy=1, task_slice:textblob_polarity_pred/SnorkelDataset/valid/f1=1, task_slice:base_ind/SnorkelDataset/valid/f1=1, task_slice:base_pred/SnorkelDataset/valid/accuracy=0.933, task_slice:base_pred/SnorkelDataset/valid/f1=0.926]"
=======
      "Epoch 0::  84%|████████▍ | 42/50 [00:38<00:07,  1.11it/s, model/all/train/loss=0.372, model/all/train/lr=0.0001]"
>>>>>>> Update
     ]
    },
    {
     "name": "stderr",
     "output_type": "stream",
     "text": [
      "\r",
<<<<<<< HEAD
      "Epoch 1::  68%|██████▊   | 17/25 [00:22<00:10,  1.31s/it, model/all/train/loss=0.181, model/all/train/lr=0.0001, task/SnorkelDataset/valid/accuracy=0.933, task/SnorkelDataset/valid/f1=0.926, task_slice:short_link_ind/SnorkelDataset/valid/f1=0, task_slice:short_link_pred/SnorkelDataset/valid/accuracy=0.8, task_slice:short_link_pred/SnorkelDataset/valid/f1=0.889, task_slice:keyword_subscribe_ind/SnorkelDataset/valid/f1=0, task_slice:keyword_subscribe_pred/SnorkelDataset/valid/accuracy=1, task_slice:keyword_subscribe_pred/SnorkelDataset/valid/f1=1, task_slice:keyword_please_ind/SnorkelDataset/valid/f1=0, task_slice:keyword_please_pred/SnorkelDataset/valid/accuracy=1, task_slice:keyword_please_pred/SnorkelDataset/valid/f1=1, task_slice:regex_check_out_ind/SnorkelDataset/valid/f1=0.471, task_slice:regex_check_out_pred/SnorkelDataset/valid/accuracy=1, task_slice:regex_check_out_pred/SnorkelDataset/valid/f1=1, task_slice:short_comment_ind/SnorkelDataset/valid/f1=0, task_slice:short_comment_pred/SnorkelDataset/valid/accuracy=0.947, task_slice:short_comment_pred/SnorkelDataset/valid/f1=0.5, task_slice:textblob_polarity_ind/SnorkelDataset/valid/f1=0, task_slice:textblob_polarity_pred/SnorkelDataset/valid/accuracy=1, task_slice:textblob_polarity_pred/SnorkelDataset/valid/f1=1, task_slice:base_ind/SnorkelDataset/valid/f1=1, task_slice:base_pred/SnorkelDataset/valid/accuracy=0.933, task_slice:base_pred/SnorkelDataset/valid/f1=0.926]"
=======
      "Epoch 0::  86%|████████▌ | 43/50 [00:38<00:06,  1.11it/s, model/all/train/loss=0.372, model/all/train/lr=0.0001]"
>>>>>>> Update
     ]
    },
    {
     "name": "stderr",
     "output_type": "stream",
     "text": [
      "\r",
<<<<<<< HEAD
      "Epoch 1::  72%|███████▏  | 18/25 [00:22<00:08,  1.26s/it, model/all/train/loss=0.181, model/all/train/lr=0.0001, task/SnorkelDataset/valid/accuracy=0.933, task/SnorkelDataset/valid/f1=0.926, task_slice:short_link_ind/SnorkelDataset/valid/f1=0, task_slice:short_link_pred/SnorkelDataset/valid/accuracy=0.8, task_slice:short_link_pred/SnorkelDataset/valid/f1=0.889, task_slice:keyword_subscribe_ind/SnorkelDataset/valid/f1=0, task_slice:keyword_subscribe_pred/SnorkelDataset/valid/accuracy=1, task_slice:keyword_subscribe_pred/SnorkelDataset/valid/f1=1, task_slice:keyword_please_ind/SnorkelDataset/valid/f1=0, task_slice:keyword_please_pred/SnorkelDataset/valid/accuracy=1, task_slice:keyword_please_pred/SnorkelDataset/valid/f1=1, task_slice:regex_check_out_ind/SnorkelDataset/valid/f1=0.471, task_slice:regex_check_out_pred/SnorkelDataset/valid/accuracy=1, task_slice:regex_check_out_pred/SnorkelDataset/valid/f1=1, task_slice:short_comment_ind/SnorkelDataset/valid/f1=0, task_slice:short_comment_pred/SnorkelDataset/valid/accuracy=0.947, task_slice:short_comment_pred/SnorkelDataset/valid/f1=0.5, task_slice:textblob_polarity_ind/SnorkelDataset/valid/f1=0, task_slice:textblob_polarity_pred/SnorkelDataset/valid/accuracy=1, task_slice:textblob_polarity_pred/SnorkelDataset/valid/f1=1, task_slice:base_ind/SnorkelDataset/valid/f1=1, task_slice:base_pred/SnorkelDataset/valid/accuracy=0.933, task_slice:base_pred/SnorkelDataset/valid/f1=0.926]"
=======
      "Epoch 0::  86%|████████▌ | 43/50 [00:39<00:06,  1.11it/s, model/all/train/loss=0.37, model/all/train/lr=0.0001] "
>>>>>>> Update
     ]
    },
    {
     "name": "stderr",
     "output_type": "stream",
     "text": [
      "\r",
<<<<<<< HEAD
      "Epoch 1::  72%|███████▏  | 18/25 [00:24<00:08,  1.26s/it, model/all/train/loss=0.179, model/all/train/lr=0.0001, task/SnorkelDataset/valid/accuracy=0.933, task/SnorkelDataset/valid/f1=0.926, task_slice:short_link_ind/SnorkelDataset/valid/f1=0, task_slice:short_link_pred/SnorkelDataset/valid/accuracy=0.8, task_slice:short_link_pred/SnorkelDataset/valid/f1=0.889, task_slice:keyword_subscribe_ind/SnorkelDataset/valid/f1=0, task_slice:keyword_subscribe_pred/SnorkelDataset/valid/accuracy=1, task_slice:keyword_subscribe_pred/SnorkelDataset/valid/f1=1, task_slice:keyword_please_ind/SnorkelDataset/valid/f1=0, task_slice:keyword_please_pred/SnorkelDataset/valid/accuracy=1, task_slice:keyword_please_pred/SnorkelDataset/valid/f1=1, task_slice:regex_check_out_ind/SnorkelDataset/valid/f1=0.471, task_slice:regex_check_out_pred/SnorkelDataset/valid/accuracy=1, task_slice:regex_check_out_pred/SnorkelDataset/valid/f1=1, task_slice:short_comment_ind/SnorkelDataset/valid/f1=0, task_slice:short_comment_pred/SnorkelDataset/valid/accuracy=0.947, task_slice:short_comment_pred/SnorkelDataset/valid/f1=0.5, task_slice:textblob_polarity_ind/SnorkelDataset/valid/f1=0, task_slice:textblob_polarity_pred/SnorkelDataset/valid/accuracy=1, task_slice:textblob_polarity_pred/SnorkelDataset/valid/f1=1, task_slice:base_ind/SnorkelDataset/valid/f1=1, task_slice:base_pred/SnorkelDataset/valid/accuracy=0.933, task_slice:base_pred/SnorkelDataset/valid/f1=0.926]"
=======
      "Epoch 0::  88%|████████▊ | 44/50 [00:39<00:05,  1.12it/s, model/all/train/loss=0.37, model/all/train/lr=0.0001]"
>>>>>>> Update
     ]
    },
    {
     "name": "stderr",
     "output_type": "stream",
     "text": [
      "\r",
<<<<<<< HEAD
      "Epoch 1::  76%|███████▌  | 19/25 [00:24<00:07,  1.24s/it, model/all/train/loss=0.179, model/all/train/lr=0.0001, task/SnorkelDataset/valid/accuracy=0.933, task/SnorkelDataset/valid/f1=0.926, task_slice:short_link_ind/SnorkelDataset/valid/f1=0, task_slice:short_link_pred/SnorkelDataset/valid/accuracy=0.8, task_slice:short_link_pred/SnorkelDataset/valid/f1=0.889, task_slice:keyword_subscribe_ind/SnorkelDataset/valid/f1=0, task_slice:keyword_subscribe_pred/SnorkelDataset/valid/accuracy=1, task_slice:keyword_subscribe_pred/SnorkelDataset/valid/f1=1, task_slice:keyword_please_ind/SnorkelDataset/valid/f1=0, task_slice:keyword_please_pred/SnorkelDataset/valid/accuracy=1, task_slice:keyword_please_pred/SnorkelDataset/valid/f1=1, task_slice:regex_check_out_ind/SnorkelDataset/valid/f1=0.471, task_slice:regex_check_out_pred/SnorkelDataset/valid/accuracy=1, task_slice:regex_check_out_pred/SnorkelDataset/valid/f1=1, task_slice:short_comment_ind/SnorkelDataset/valid/f1=0, task_slice:short_comment_pred/SnorkelDataset/valid/accuracy=0.947, task_slice:short_comment_pred/SnorkelDataset/valid/f1=0.5, task_slice:textblob_polarity_ind/SnorkelDataset/valid/f1=0, task_slice:textblob_polarity_pred/SnorkelDataset/valid/accuracy=1, task_slice:textblob_polarity_pred/SnorkelDataset/valid/f1=1, task_slice:base_ind/SnorkelDataset/valid/f1=1, task_slice:base_pred/SnorkelDataset/valid/accuracy=0.933, task_slice:base_pred/SnorkelDataset/valid/f1=0.926]"
=======
      "Epoch 0::  88%|████████▊ | 44/50 [00:40<00:05,  1.12it/s, model/all/train/loss=0.367, model/all/train/lr=0.0001]"
>>>>>>> Update
     ]
    },
    {
     "name": "stderr",
     "output_type": "stream",
     "text": [
      "\r",
<<<<<<< HEAD
      "Epoch 1::  76%|███████▌  | 19/25 [00:25<00:07,  1.24s/it, model/all/train/loss=0.178, model/all/train/lr=0.0001, task/SnorkelDataset/valid/accuracy=0.933, task/SnorkelDataset/valid/f1=0.926, task_slice:short_link_ind/SnorkelDataset/valid/f1=0, task_slice:short_link_pred/SnorkelDataset/valid/accuracy=0.8, task_slice:short_link_pred/SnorkelDataset/valid/f1=0.889, task_slice:keyword_subscribe_ind/SnorkelDataset/valid/f1=0, task_slice:keyword_subscribe_pred/SnorkelDataset/valid/accuracy=1, task_slice:keyword_subscribe_pred/SnorkelDataset/valid/f1=1, task_slice:keyword_please_ind/SnorkelDataset/valid/f1=0, task_slice:keyword_please_pred/SnorkelDataset/valid/accuracy=1, task_slice:keyword_please_pred/SnorkelDataset/valid/f1=1, task_slice:regex_check_out_ind/SnorkelDataset/valid/f1=0.471, task_slice:regex_check_out_pred/SnorkelDataset/valid/accuracy=1, task_slice:regex_check_out_pred/SnorkelDataset/valid/f1=1, task_slice:short_comment_ind/SnorkelDataset/valid/f1=0, task_slice:short_comment_pred/SnorkelDataset/valid/accuracy=0.947, task_slice:short_comment_pred/SnorkelDataset/valid/f1=0.5, task_slice:textblob_polarity_ind/SnorkelDataset/valid/f1=0, task_slice:textblob_polarity_pred/SnorkelDataset/valid/accuracy=1, task_slice:textblob_polarity_pred/SnorkelDataset/valid/f1=1, task_slice:base_ind/SnorkelDataset/valid/f1=1, task_slice:base_pred/SnorkelDataset/valid/accuracy=0.933, task_slice:base_pred/SnorkelDataset/valid/f1=0.926]"
=======
      "Epoch 0::  90%|█████████ | 45/50 [00:40<00:04,  1.10it/s, model/all/train/loss=0.367, model/all/train/lr=0.0001]"
>>>>>>> Update
     ]
    },
    {
     "name": "stderr",
     "output_type": "stream",
     "text": [
      "\r",
<<<<<<< HEAD
      "Epoch 1::  80%|████████  | 20/25 [00:25<00:06,  1.39s/it, model/all/train/loss=0.178, model/all/train/lr=0.0001, task/SnorkelDataset/valid/accuracy=0.933, task/SnorkelDataset/valid/f1=0.926, task_slice:short_link_ind/SnorkelDataset/valid/f1=0, task_slice:short_link_pred/SnorkelDataset/valid/accuracy=0.8, task_slice:short_link_pred/SnorkelDataset/valid/f1=0.889, task_slice:keyword_subscribe_ind/SnorkelDataset/valid/f1=0, task_slice:keyword_subscribe_pred/SnorkelDataset/valid/accuracy=1, task_slice:keyword_subscribe_pred/SnorkelDataset/valid/f1=1, task_slice:keyword_please_ind/SnorkelDataset/valid/f1=0, task_slice:keyword_please_pred/SnorkelDataset/valid/accuracy=1, task_slice:keyword_please_pred/SnorkelDataset/valid/f1=1, task_slice:regex_check_out_ind/SnorkelDataset/valid/f1=0.471, task_slice:regex_check_out_pred/SnorkelDataset/valid/accuracy=1, task_slice:regex_check_out_pred/SnorkelDataset/valid/f1=1, task_slice:short_comment_ind/SnorkelDataset/valid/f1=0, task_slice:short_comment_pred/SnorkelDataset/valid/accuracy=0.947, task_slice:short_comment_pred/SnorkelDataset/valid/f1=0.5, task_slice:textblob_polarity_ind/SnorkelDataset/valid/f1=0, task_slice:textblob_polarity_pred/SnorkelDataset/valid/accuracy=1, task_slice:textblob_polarity_pred/SnorkelDataset/valid/f1=1, task_slice:base_ind/SnorkelDataset/valid/f1=1, task_slice:base_pred/SnorkelDataset/valid/accuracy=0.933, task_slice:base_pred/SnorkelDataset/valid/f1=0.926]"
=======
      "Epoch 0::  90%|█████████ | 45/50 [00:41<00:04,  1.10it/s, model/all/train/loss=0.365, model/all/train/lr=0.0001]"
>>>>>>> Update
     ]
    },
    {
     "name": "stderr",
     "output_type": "stream",
     "text": [
      "\r",
<<<<<<< HEAD
      "Epoch 1::  80%|████████  | 20/25 [00:27<00:06,  1.39s/it, model/all/train/loss=0.175, model/all/train/lr=0.0001, task/SnorkelDataset/valid/accuracy=0.933, task/SnorkelDataset/valid/f1=0.926, task_slice:short_link_ind/SnorkelDataset/valid/f1=0, task_slice:short_link_pred/SnorkelDataset/valid/accuracy=0.8, task_slice:short_link_pred/SnorkelDataset/valid/f1=0.889, task_slice:keyword_subscribe_ind/SnorkelDataset/valid/f1=0, task_slice:keyword_subscribe_pred/SnorkelDataset/valid/accuracy=1, task_slice:keyword_subscribe_pred/SnorkelDataset/valid/f1=1, task_slice:keyword_please_ind/SnorkelDataset/valid/f1=0, task_slice:keyword_please_pred/SnorkelDataset/valid/accuracy=1, task_slice:keyword_please_pred/SnorkelDataset/valid/f1=1, task_slice:regex_check_out_ind/SnorkelDataset/valid/f1=0.471, task_slice:regex_check_out_pred/SnorkelDataset/valid/accuracy=1, task_slice:regex_check_out_pred/SnorkelDataset/valid/f1=1, task_slice:short_comment_ind/SnorkelDataset/valid/f1=0, task_slice:short_comment_pred/SnorkelDataset/valid/accuracy=0.947, task_slice:short_comment_pred/SnorkelDataset/valid/f1=0.5, task_slice:textblob_polarity_ind/SnorkelDataset/valid/f1=0, task_slice:textblob_polarity_pred/SnorkelDataset/valid/accuracy=1, task_slice:textblob_polarity_pred/SnorkelDataset/valid/f1=1, task_slice:base_ind/SnorkelDataset/valid/f1=1, task_slice:base_pred/SnorkelDataset/valid/accuracy=0.933, task_slice:base_pred/SnorkelDataset/valid/f1=0.926]"
=======
      "Epoch 0::  92%|█████████▏| 46/50 [00:41<00:03,  1.11it/s, model/all/train/loss=0.365, model/all/train/lr=0.0001]"
>>>>>>> Update
     ]
    },
    {
     "name": "stderr",
     "output_type": "stream",
     "text": [
      "\r",
<<<<<<< HEAD
      "Epoch 1::  84%|████████▍ | 21/25 [00:27<00:05,  1.45s/it, model/all/train/loss=0.175, model/all/train/lr=0.0001, task/SnorkelDataset/valid/accuracy=0.933, task/SnorkelDataset/valid/f1=0.926, task_slice:short_link_ind/SnorkelDataset/valid/f1=0, task_slice:short_link_pred/SnorkelDataset/valid/accuracy=0.8, task_slice:short_link_pred/SnorkelDataset/valid/f1=0.889, task_slice:keyword_subscribe_ind/SnorkelDataset/valid/f1=0, task_slice:keyword_subscribe_pred/SnorkelDataset/valid/accuracy=1, task_slice:keyword_subscribe_pred/SnorkelDataset/valid/f1=1, task_slice:keyword_please_ind/SnorkelDataset/valid/f1=0, task_slice:keyword_please_pred/SnorkelDataset/valid/accuracy=1, task_slice:keyword_please_pred/SnorkelDataset/valid/f1=1, task_slice:regex_check_out_ind/SnorkelDataset/valid/f1=0.471, task_slice:regex_check_out_pred/SnorkelDataset/valid/accuracy=1, task_slice:regex_check_out_pred/SnorkelDataset/valid/f1=1, task_slice:short_comment_ind/SnorkelDataset/valid/f1=0, task_slice:short_comment_pred/SnorkelDataset/valid/accuracy=0.947, task_slice:short_comment_pred/SnorkelDataset/valid/f1=0.5, task_slice:textblob_polarity_ind/SnorkelDataset/valid/f1=0, task_slice:textblob_polarity_pred/SnorkelDataset/valid/accuracy=1, task_slice:textblob_polarity_pred/SnorkelDataset/valid/f1=1, task_slice:base_ind/SnorkelDataset/valid/f1=1, task_slice:base_pred/SnorkelDataset/valid/accuracy=0.933, task_slice:base_pred/SnorkelDataset/valid/f1=0.926]"
=======
      "Epoch 0::  92%|█████████▏| 46/50 [00:42<00:03,  1.11it/s, model/all/train/loss=0.362, model/all/train/lr=0.0001]"
>>>>>>> Update
     ]
    },
    {
     "name": "stderr",
     "output_type": "stream",
     "text": [
      "\r",
<<<<<<< HEAD
      "Epoch 1::  84%|████████▍ | 21/25 [00:28<00:05,  1.45s/it, model/all/train/loss=0.175, model/all/train/lr=0.0001, task/SnorkelDataset/valid/accuracy=0.933, task/SnorkelDataset/valid/f1=0.926, task_slice:short_link_ind/SnorkelDataset/valid/f1=0, task_slice:short_link_pred/SnorkelDataset/valid/accuracy=0.8, task_slice:short_link_pred/SnorkelDataset/valid/f1=0.889, task_slice:keyword_subscribe_ind/SnorkelDataset/valid/f1=0, task_slice:keyword_subscribe_pred/SnorkelDataset/valid/accuracy=1, task_slice:keyword_subscribe_pred/SnorkelDataset/valid/f1=1, task_slice:keyword_please_ind/SnorkelDataset/valid/f1=0, task_slice:keyword_please_pred/SnorkelDataset/valid/accuracy=1, task_slice:keyword_please_pred/SnorkelDataset/valid/f1=1, task_slice:regex_check_out_ind/SnorkelDataset/valid/f1=0.471, task_slice:regex_check_out_pred/SnorkelDataset/valid/accuracy=1, task_slice:regex_check_out_pred/SnorkelDataset/valid/f1=1, task_slice:short_comment_ind/SnorkelDataset/valid/f1=0, task_slice:short_comment_pred/SnorkelDataset/valid/accuracy=0.947, task_slice:short_comment_pred/SnorkelDataset/valid/f1=0.5, task_slice:textblob_polarity_ind/SnorkelDataset/valid/f1=0, task_slice:textblob_polarity_pred/SnorkelDataset/valid/accuracy=1, task_slice:textblob_polarity_pred/SnorkelDataset/valid/f1=1, task_slice:base_ind/SnorkelDataset/valid/f1=1, task_slice:base_pred/SnorkelDataset/valid/accuracy=0.933, task_slice:base_pred/SnorkelDataset/valid/f1=0.926]"
=======
      "Epoch 0::  94%|█████████▍| 47/50 [00:42<00:02,  1.11it/s, model/all/train/loss=0.362, model/all/train/lr=0.0001]"
>>>>>>> Update
     ]
    },
    {
     "name": "stderr",
     "output_type": "stream",
     "text": [
      "\r",
<<<<<<< HEAD
      "Epoch 1::  88%|████████▊ | 22/25 [00:28<00:04,  1.48s/it, model/all/train/loss=0.175, model/all/train/lr=0.0001, task/SnorkelDataset/valid/accuracy=0.933, task/SnorkelDataset/valid/f1=0.926, task_slice:short_link_ind/SnorkelDataset/valid/f1=0, task_slice:short_link_pred/SnorkelDataset/valid/accuracy=0.8, task_slice:short_link_pred/SnorkelDataset/valid/f1=0.889, task_slice:keyword_subscribe_ind/SnorkelDataset/valid/f1=0, task_slice:keyword_subscribe_pred/SnorkelDataset/valid/accuracy=1, task_slice:keyword_subscribe_pred/SnorkelDataset/valid/f1=1, task_slice:keyword_please_ind/SnorkelDataset/valid/f1=0, task_slice:keyword_please_pred/SnorkelDataset/valid/accuracy=1, task_slice:keyword_please_pred/SnorkelDataset/valid/f1=1, task_slice:regex_check_out_ind/SnorkelDataset/valid/f1=0.471, task_slice:regex_check_out_pred/SnorkelDataset/valid/accuracy=1, task_slice:regex_check_out_pred/SnorkelDataset/valid/f1=1, task_slice:short_comment_ind/SnorkelDataset/valid/f1=0, task_slice:short_comment_pred/SnorkelDataset/valid/accuracy=0.947, task_slice:short_comment_pred/SnorkelDataset/valid/f1=0.5, task_slice:textblob_polarity_ind/SnorkelDataset/valid/f1=0, task_slice:textblob_polarity_pred/SnorkelDataset/valid/accuracy=1, task_slice:textblob_polarity_pred/SnorkelDataset/valid/f1=1, task_slice:base_ind/SnorkelDataset/valid/f1=1, task_slice:base_pred/SnorkelDataset/valid/accuracy=0.933, task_slice:base_pred/SnorkelDataset/valid/f1=0.926]"
=======
      "Epoch 0::  94%|█████████▍| 47/50 [00:43<00:02,  1.11it/s, model/all/train/loss=0.36, model/all/train/lr=0.0001] "
>>>>>>> Update
     ]
    },
    {
     "name": "stderr",
     "output_type": "stream",
     "text": [
      "\r",
<<<<<<< HEAD
      "Epoch 1::  88%|████████▊ | 22/25 [00:30<00:04,  1.48s/it, model/all/train/loss=0.173, model/all/train/lr=0.0001, task/SnorkelDataset/valid/accuracy=0.933, task/SnorkelDataset/valid/f1=0.926, task_slice:short_link_ind/SnorkelDataset/valid/f1=0, task_slice:short_link_pred/SnorkelDataset/valid/accuracy=0.8, task_slice:short_link_pred/SnorkelDataset/valid/f1=0.889, task_slice:keyword_subscribe_ind/SnorkelDataset/valid/f1=0, task_slice:keyword_subscribe_pred/SnorkelDataset/valid/accuracy=1, task_slice:keyword_subscribe_pred/SnorkelDataset/valid/f1=1, task_slice:keyword_please_ind/SnorkelDataset/valid/f1=0, task_slice:keyword_please_pred/SnorkelDataset/valid/accuracy=1, task_slice:keyword_please_pred/SnorkelDataset/valid/f1=1, task_slice:regex_check_out_ind/SnorkelDataset/valid/f1=0.471, task_slice:regex_check_out_pred/SnorkelDataset/valid/accuracy=1, task_slice:regex_check_out_pred/SnorkelDataset/valid/f1=1, task_slice:short_comment_ind/SnorkelDataset/valid/f1=0, task_slice:short_comment_pred/SnorkelDataset/valid/accuracy=0.947, task_slice:short_comment_pred/SnorkelDataset/valid/f1=0.5, task_slice:textblob_polarity_ind/SnorkelDataset/valid/f1=0, task_slice:textblob_polarity_pred/SnorkelDataset/valid/accuracy=1, task_slice:textblob_polarity_pred/SnorkelDataset/valid/f1=1, task_slice:base_ind/SnorkelDataset/valid/f1=1, task_slice:base_pred/SnorkelDataset/valid/accuracy=0.933, task_slice:base_pred/SnorkelDataset/valid/f1=0.926]"
=======
      "Epoch 0::  96%|█████████▌| 48/50 [00:43<00:01,  1.12it/s, model/all/train/loss=0.36, model/all/train/lr=0.0001]"
>>>>>>> Update
     ]
    },
    {
     "name": "stderr",
     "output_type": "stream",
     "text": [
      "\r",
<<<<<<< HEAD
      "Epoch 1::  92%|█████████▏| 23/25 [00:30<00:02,  1.41s/it, model/all/train/loss=0.173, model/all/train/lr=0.0001, task/SnorkelDataset/valid/accuracy=0.933, task/SnorkelDataset/valid/f1=0.926, task_slice:short_link_ind/SnorkelDataset/valid/f1=0, task_slice:short_link_pred/SnorkelDataset/valid/accuracy=0.8, task_slice:short_link_pred/SnorkelDataset/valid/f1=0.889, task_slice:keyword_subscribe_ind/SnorkelDataset/valid/f1=0, task_slice:keyword_subscribe_pred/SnorkelDataset/valid/accuracy=1, task_slice:keyword_subscribe_pred/SnorkelDataset/valid/f1=1, task_slice:keyword_please_ind/SnorkelDataset/valid/f1=0, task_slice:keyword_please_pred/SnorkelDataset/valid/accuracy=1, task_slice:keyword_please_pred/SnorkelDataset/valid/f1=1, task_slice:regex_check_out_ind/SnorkelDataset/valid/f1=0.471, task_slice:regex_check_out_pred/SnorkelDataset/valid/accuracy=1, task_slice:regex_check_out_pred/SnorkelDataset/valid/f1=1, task_slice:short_comment_ind/SnorkelDataset/valid/f1=0, task_slice:short_comment_pred/SnorkelDataset/valid/accuracy=0.947, task_slice:short_comment_pred/SnorkelDataset/valid/f1=0.5, task_slice:textblob_polarity_ind/SnorkelDataset/valid/f1=0, task_slice:textblob_polarity_pred/SnorkelDataset/valid/accuracy=1, task_slice:textblob_polarity_pred/SnorkelDataset/valid/f1=1, task_slice:base_ind/SnorkelDataset/valid/f1=1, task_slice:base_pred/SnorkelDataset/valid/accuracy=0.933, task_slice:base_pred/SnorkelDataset/valid/f1=0.926]"
=======
      "Epoch 0::  96%|█████████▌| 48/50 [00:44<00:01,  1.12it/s, model/all/train/loss=0.357, model/all/train/lr=0.0001]"
>>>>>>> Update
     ]
    },
    {
     "name": "stderr",
     "output_type": "stream",
     "text": [
      "\r",
<<<<<<< HEAD
      "Epoch 1::  92%|█████████▏| 23/25 [00:31<00:02,  1.41s/it, model/all/train/loss=0.172, model/all/train/lr=0.0001, task/SnorkelDataset/valid/accuracy=0.933, task/SnorkelDataset/valid/f1=0.926, task_slice:short_link_ind/SnorkelDataset/valid/f1=0, task_slice:short_link_pred/SnorkelDataset/valid/accuracy=0.8, task_slice:short_link_pred/SnorkelDataset/valid/f1=0.889, task_slice:keyword_subscribe_ind/SnorkelDataset/valid/f1=0, task_slice:keyword_subscribe_pred/SnorkelDataset/valid/accuracy=1, task_slice:keyword_subscribe_pred/SnorkelDataset/valid/f1=1, task_slice:keyword_please_ind/SnorkelDataset/valid/f1=0, task_slice:keyword_please_pred/SnorkelDataset/valid/accuracy=1, task_slice:keyword_please_pred/SnorkelDataset/valid/f1=1, task_slice:regex_check_out_ind/SnorkelDataset/valid/f1=0.471, task_slice:regex_check_out_pred/SnorkelDataset/valid/accuracy=1, task_slice:regex_check_out_pred/SnorkelDataset/valid/f1=1, task_slice:short_comment_ind/SnorkelDataset/valid/f1=0, task_slice:short_comment_pred/SnorkelDataset/valid/accuracy=0.947, task_slice:short_comment_pred/SnorkelDataset/valid/f1=0.5, task_slice:textblob_polarity_ind/SnorkelDataset/valid/f1=0, task_slice:textblob_polarity_pred/SnorkelDataset/valid/accuracy=1, task_slice:textblob_polarity_pred/SnorkelDataset/valid/f1=1, task_slice:base_ind/SnorkelDataset/valid/f1=1, task_slice:base_pred/SnorkelDataset/valid/accuracy=0.933, task_slice:base_pred/SnorkelDataset/valid/f1=0.926]"
     ]
    },
    {
     "name": "stderr",
     "output_type": "stream",
     "text": [
      "\r",
      "Epoch 1::  96%|█████████▌| 24/25 [00:31<00:01,  1.34s/it, model/all/train/loss=0.172, model/all/train/lr=0.0001, task/SnorkelDataset/valid/accuracy=0.933, task/SnorkelDataset/valid/f1=0.926, task_slice:short_link_ind/SnorkelDataset/valid/f1=0, task_slice:short_link_pred/SnorkelDataset/valid/accuracy=0.8, task_slice:short_link_pred/SnorkelDataset/valid/f1=0.889, task_slice:keyword_subscribe_ind/SnorkelDataset/valid/f1=0, task_slice:keyword_subscribe_pred/SnorkelDataset/valid/accuracy=1, task_slice:keyword_subscribe_pred/SnorkelDataset/valid/f1=1, task_slice:keyword_please_ind/SnorkelDataset/valid/f1=0, task_slice:keyword_please_pred/SnorkelDataset/valid/accuracy=1, task_slice:keyword_please_pred/SnorkelDataset/valid/f1=1, task_slice:regex_check_out_ind/SnorkelDataset/valid/f1=0.471, task_slice:regex_check_out_pred/SnorkelDataset/valid/accuracy=1, task_slice:regex_check_out_pred/SnorkelDataset/valid/f1=1, task_slice:short_comment_ind/SnorkelDataset/valid/f1=0, task_slice:short_comment_pred/SnorkelDataset/valid/accuracy=0.947, task_slice:short_comment_pred/SnorkelDataset/valid/f1=0.5, task_slice:textblob_polarity_ind/SnorkelDataset/valid/f1=0, task_slice:textblob_polarity_pred/SnorkelDataset/valid/accuracy=1, task_slice:textblob_polarity_pred/SnorkelDataset/valid/f1=1, task_slice:base_ind/SnorkelDataset/valid/f1=1, task_slice:base_pred/SnorkelDataset/valid/accuracy=0.933, task_slice:base_pred/SnorkelDataset/valid/f1=0.926]"
=======
      "Epoch 0::  98%|█████████▊| 49/50 [00:44<00:00,  1.12it/s, model/all/train/loss=0.357, model/all/train/lr=0.0001]"
>>>>>>> Update
     ]
    },
    {
     "name": "stderr",
     "output_type": "stream",
     "text": [
      "\r",
<<<<<<< HEAD
      "Epoch 1::  96%|█████████▌| 24/25 [00:32<00:01,  1.34s/it, model/all/train/loss=0.17, model/all/train/lr=0.0001, task/SnorkelDataset/valid/accuracy=0.925, task/SnorkelDataset/valid/f1=0.914, task_slice:short_link_ind/SnorkelDataset/valid/f1=0, task_slice:short_link_pred/SnorkelDataset/valid/accuracy=0.2, task_slice:short_link_pred/SnorkelDataset/valid/f1=0.333, task_slice:keyword_subscribe_ind/SnorkelDataset/valid/f1=0.333, task_slice:keyword_subscribe_pred/SnorkelDataset/valid/accuracy=1, task_slice:keyword_subscribe_pred/SnorkelDataset/valid/f1=1, task_slice:keyword_please_ind/SnorkelDataset/valid/f1=0.5, task_slice:keyword_please_pred/SnorkelDataset/valid/accuracy=1, task_slice:keyword_please_pred/SnorkelDataset/valid/f1=1, task_slice:regex_check_out_ind/SnorkelDataset/valid/f1=0.791, task_slice:regex_check_out_pred/SnorkelDataset/valid/accuracy=1, task_slice:regex_check_out_pred/SnorkelDataset/valid/f1=1, task_slice:short_comment_ind/SnorkelDataset/valid/f1=0, task_slice:short_comment_pred/SnorkelDataset/valid/accuracy=0.947, task_slice:short_comment_pred/SnorkelDataset/valid/f1=0.5, task_slice:textblob_polarity_ind/SnorkelDataset/valid/f1=0, task_slice:textblob_polarity_pred/SnorkelDataset/valid/accuracy=1, task_slice:textblob_polarity_pred/SnorkelDataset/valid/f1=1, task_slice:base_ind/SnorkelDataset/valid/f1=1, task_slice:base_pred/SnorkelDataset/valid/accuracy=0.908, task_slice:base_pred/SnorkelDataset/valid/f1=0.893]"
=======
      "Epoch 0::  98%|█████████▊| 49/50 [00:45<00:00,  1.12it/s, model/all/train/loss=0.356, model/all/train/lr=0.0001, spam_task/spam_dataset/valid/accuracy=0.942, spam_task/spam_dataset/valid/f1=0.935, spam_task_slice:short_link_ind/spam_dataset/valid/f1=0, spam_task_slice:short_link_pred/spam_dataset/valid/accuracy=1, spam_task_slice:short_link_pred/spam_dataset/valid/f1=1, spam_task_slice:base_ind/spam_dataset/valid/f1=1, spam_task_slice:base_pred/spam_dataset/valid/accuracy=0.933, spam_task_slice:base_pred/spam_dataset/valid/f1=0.926, spam_task_slice:keyword_subscribe_ind/spam_dataset/valid/f1=0, spam_task_slice:keyword_subscribe_pred/spam_dataset/valid/accuracy=1, spam_task_slice:keyword_subscribe_pred/spam_dataset/valid/f1=1, spam_task_slice:keyword_please_ind/spam_dataset/valid/f1=0, spam_task_slice:keyword_please_pred/spam_dataset/valid/accuracy=1, spam_task_slice:keyword_please_pred/spam_dataset/valid/f1=1, spam_task_slice:regex_check_out_ind/spam_dataset/valid/f1=0.762, spam_task_slice:regex_check_out_pred/spam_dataset/valid/accuracy=1, spam_task_slice:regex_check_out_pred/spam_dataset/valid/f1=1, spam_task_slice:short_comment_ind/spam_dataset/valid/f1=0, spam_task_slice:short_comment_pred/spam_dataset/valid/accuracy=0.947, spam_task_slice:short_comment_pred/spam_dataset/valid/f1=0.5, spam_task_slice:textblob_polarity_ind/spam_dataset/valid/f1=0, spam_task_slice:textblob_polarity_pred/spam_dataset/valid/accuracy=1, spam_task_slice:textblob_polarity_pred/spam_dataset/valid/f1=1]"
>>>>>>> Update
     ]
    },
    {
     "name": "stderr",
     "output_type": "stream",
     "text": [
      "\r",
<<<<<<< HEAD
      "Epoch 1:: 100%|██████████| 25/25 [00:32<00:00,  1.38s/it, model/all/train/loss=0.17, model/all/train/lr=0.0001, task/SnorkelDataset/valid/accuracy=0.925, task/SnorkelDataset/valid/f1=0.914, task_slice:short_link_ind/SnorkelDataset/valid/f1=0, task_slice:short_link_pred/SnorkelDataset/valid/accuracy=0.2, task_slice:short_link_pred/SnorkelDataset/valid/f1=0.333, task_slice:keyword_subscribe_ind/SnorkelDataset/valid/f1=0.333, task_slice:keyword_subscribe_pred/SnorkelDataset/valid/accuracy=1, task_slice:keyword_subscribe_pred/SnorkelDataset/valid/f1=1, task_slice:keyword_please_ind/SnorkelDataset/valid/f1=0.5, task_slice:keyword_please_pred/SnorkelDataset/valid/accuracy=1, task_slice:keyword_please_pred/SnorkelDataset/valid/f1=1, task_slice:regex_check_out_ind/SnorkelDataset/valid/f1=0.791, task_slice:regex_check_out_pred/SnorkelDataset/valid/accuracy=1, task_slice:regex_check_out_pred/SnorkelDataset/valid/f1=1, task_slice:short_comment_ind/SnorkelDataset/valid/f1=0, task_slice:short_comment_pred/SnorkelDataset/valid/accuracy=0.947, task_slice:short_comment_pred/SnorkelDataset/valid/f1=0.5, task_slice:textblob_polarity_ind/SnorkelDataset/valid/f1=0, task_slice:textblob_polarity_pred/SnorkelDataset/valid/accuracy=1, task_slice:textblob_polarity_pred/SnorkelDataset/valid/f1=1, task_slice:base_ind/SnorkelDataset/valid/f1=1, task_slice:base_pred/SnorkelDataset/valid/accuracy=0.908, task_slice:base_pred/SnorkelDataset/valid/f1=0.893]"
=======
      "Epoch 0:: 100%|██████████| 50/50 [00:45<00:00,  1.06it/s, model/all/train/loss=0.356, model/all/train/lr=0.0001, spam_task/spam_dataset/valid/accuracy=0.942, spam_task/spam_dataset/valid/f1=0.935, spam_task_slice:short_link_ind/spam_dataset/valid/f1=0, spam_task_slice:short_link_pred/spam_dataset/valid/accuracy=1, spam_task_slice:short_link_pred/spam_dataset/valid/f1=1, spam_task_slice:base_ind/spam_dataset/valid/f1=1, spam_task_slice:base_pred/spam_dataset/valid/accuracy=0.933, spam_task_slice:base_pred/spam_dataset/valid/f1=0.926, spam_task_slice:keyword_subscribe_ind/spam_dataset/valid/f1=0, spam_task_slice:keyword_subscribe_pred/spam_dataset/valid/accuracy=1, spam_task_slice:keyword_subscribe_pred/spam_dataset/valid/f1=1, spam_task_slice:keyword_please_ind/spam_dataset/valid/f1=0, spam_task_slice:keyword_please_pred/spam_dataset/valid/accuracy=1, spam_task_slice:keyword_please_pred/spam_dataset/valid/f1=1, spam_task_slice:regex_check_out_ind/spam_dataset/valid/f1=0.762, spam_task_slice:regex_check_out_pred/spam_dataset/valid/accuracy=1, spam_task_slice:regex_check_out_pred/spam_dataset/valid/f1=1, spam_task_slice:short_comment_ind/spam_dataset/valid/f1=0, spam_task_slice:short_comment_pred/spam_dataset/valid/accuracy=0.947, spam_task_slice:short_comment_pred/spam_dataset/valid/f1=0.5, spam_task_slice:textblob_polarity_ind/spam_dataset/valid/f1=0, spam_task_slice:textblob_polarity_pred/spam_dataset/valid/accuracy=1, spam_task_slice:textblob_polarity_pred/spam_dataset/valid/f1=1]"
>>>>>>> Update
     ]
    },
    {
     "name": "stderr",
     "output_type": "stream",
     "text": [
      "\n"
     ]
    }
   ],
   "source": [
    "from snorkel.classification import Trainer\n",
    "\n",
    "# For demonstration purposes, we set n_epochs=2\n",
    "trainer = Trainer(n_epochs=2, lr=1e-4, progress_bar=True)\n",
    "trainer.fit(slice_model, [train_dl_slice, valid_dl_slice])"
   ]
  },
  {
   "cell_type": "markdown",
   "metadata": {},
   "source": [
    "At inference time, the primary task head (`spam_task`) will make all final predictions.\n",
    "We'd like to evaluate all the slice heads on the original task head — [`score_slices`](https://snorkel.readthedocs.io/en/master/packages/_autosummary/slicing/snorkel.slicing.SlicingClassifier.html#snorkel.slicing.SlicingClassifier.score_slices) remaps all slice-related labels, denoted `spam_task_slice:{slice_name}_pred`, to be evaluated on the `spam_task`."
   ]
  },
  {
   "cell_type": "code",
   "execution_count": 21,
   "metadata": {},
   "outputs": [
    {
     "data": {
      "text/html": [
       "<div>\n",
       "<style scoped>\n",
       "    .dataframe tbody tr th:only-of-type {\n",
       "        vertical-align: middle;\n",
       "    }\n",
       "\n",
       "    .dataframe tbody tr th {\n",
       "        vertical-align: top;\n",
       "    }\n",
       "\n",
       "    .dataframe thead th {\n",
       "        text-align: right;\n",
       "    }\n",
       "</style>\n",
       "<table border=\"1\" class=\"dataframe\">\n",
       "  <thead>\n",
       "    <tr style=\"text-align: right;\">\n",
       "      <th></th>\n",
       "      <th>label</th>\n",
       "      <th>dataset</th>\n",
       "      <th>split</th>\n",
       "      <th>metric</th>\n",
       "      <th>score</th>\n",
       "    </tr>\n",
       "  </thead>\n",
       "  <tbody>\n",
       "    <tr>\n",
       "      <th>0</th>\n",
       "      <td>task</td>\n",
       "      <td>SnorkelDataset</td>\n",
       "      <td>valid</td>\n",
       "      <td>accuracy</td>\n",
       "      <td>0.925000</td>\n",
       "    </tr>\n",
       "    <tr>\n",
       "      <th>1</th>\n",
       "      <td>task</td>\n",
       "      <td>SnorkelDataset</td>\n",
       "      <td>valid</td>\n",
       "      <td>f1</td>\n",
       "      <td>0.914286</td>\n",
       "    </tr>\n",
       "    <tr>\n",
       "      <th>2</th>\n",
       "      <td>task_slice:short_link_pred</td>\n",
       "      <td>SnorkelDataset</td>\n",
       "      <td>valid</td>\n",
       "      <td>accuracy</td>\n",
       "      <td>0.400000</td>\n",
       "    </tr>\n",
       "    <tr>\n",
       "      <th>3</th>\n",
       "      <td>task_slice:short_link_pred</td>\n",
       "      <td>SnorkelDataset</td>\n",
       "      <td>valid</td>\n",
       "      <td>f1</td>\n",
       "      <td>0.571429</td>\n",
       "    </tr>\n",
       "    <tr>\n",
       "      <th>4</th>\n",
       "      <td>task_slice:keyword_subscribe_pred</td>\n",
       "      <td>SnorkelDataset</td>\n",
       "      <td>valid</td>\n",
       "      <td>accuracy</td>\n",
       "      <td>1.000000</td>\n",
       "    </tr>\n",
       "    <tr>\n",
       "      <th>5</th>\n",
       "      <td>task_slice:keyword_subscribe_pred</td>\n",
       "      <td>SnorkelDataset</td>\n",
       "      <td>valid</td>\n",
       "      <td>f1</td>\n",
       "      <td>1.000000</td>\n",
       "    </tr>\n",
       "    <tr>\n",
       "      <th>6</th>\n",
       "      <td>task_slice:keyword_please_pred</td>\n",
       "      <td>SnorkelDataset</td>\n",
       "      <td>valid</td>\n",
       "      <td>accuracy</td>\n",
       "      <td>1.000000</td>\n",
       "    </tr>\n",
       "    <tr>\n",
       "      <th>7</th>\n",
       "      <td>task_slice:keyword_please_pred</td>\n",
       "      <td>SnorkelDataset</td>\n",
       "      <td>valid</td>\n",
       "      <td>f1</td>\n",
       "      <td>1.000000</td>\n",
       "    </tr>\n",
       "    <tr>\n",
       "      <th>8</th>\n",
       "      <td>task_slice:regex_check_out_pred</td>\n",
       "      <td>SnorkelDataset</td>\n",
       "      <td>valid</td>\n",
       "      <td>accuracy</td>\n",
       "      <td>1.000000</td>\n",
       "    </tr>\n",
       "    <tr>\n",
       "      <th>9</th>\n",
       "      <td>task_slice:regex_check_out_pred</td>\n",
       "      <td>SnorkelDataset</td>\n",
       "      <td>valid</td>\n",
       "      <td>f1</td>\n",
       "      <td>1.000000</td>\n",
       "    </tr>\n",
       "    <tr>\n",
       "      <th>10</th>\n",
       "      <td>task_slice:short_comment_pred</td>\n",
       "      <td>SnorkelDataset</td>\n",
       "      <td>valid</td>\n",
       "      <td>accuracy</td>\n",
       "      <td>0.947368</td>\n",
       "    </tr>\n",
       "    <tr>\n",
       "      <th>11</th>\n",
       "      <td>task_slice:short_comment_pred</td>\n",
       "      <td>SnorkelDataset</td>\n",
       "      <td>valid</td>\n",
       "      <td>f1</td>\n",
       "      <td>0.500000</td>\n",
       "    </tr>\n",
       "    <tr>\n",
       "      <th>12</th>\n",
       "      <td>task_slice:textblob_polarity_pred</td>\n",
       "      <td>SnorkelDataset</td>\n",
       "      <td>valid</td>\n",
       "      <td>accuracy</td>\n",
       "      <td>1.000000</td>\n",
       "    </tr>\n",
       "    <tr>\n",
       "      <th>13</th>\n",
       "      <td>task_slice:textblob_polarity_pred</td>\n",
       "      <td>SnorkelDataset</td>\n",
       "      <td>valid</td>\n",
       "      <td>f1</td>\n",
       "      <td>1.000000</td>\n",
       "    </tr>\n",
       "    <tr>\n",
       "      <th>14</th>\n",
       "      <td>task_slice:base_pred</td>\n",
       "      <td>SnorkelDataset</td>\n",
       "      <td>valid</td>\n",
       "      <td>accuracy</td>\n",
       "      <td>0.925000</td>\n",
       "    </tr>\n",
       "    <tr>\n",
       "      <th>15</th>\n",
       "      <td>task_slice:base_pred</td>\n",
       "      <td>SnorkelDataset</td>\n",
       "      <td>valid</td>\n",
       "      <td>f1</td>\n",
       "      <td>0.914286</td>\n",
       "    </tr>\n",
       "    <tr>\n",
       "      <th>16</th>\n",
       "      <td>task</td>\n",
       "      <td>SnorkelDataset</td>\n",
       "      <td>test</td>\n",
       "      <td>accuracy</td>\n",
       "      <td>0.932000</td>\n",
       "    </tr>\n",
       "    <tr>\n",
       "      <th>17</th>\n",
       "      <td>task</td>\n",
       "      <td>SnorkelDataset</td>\n",
       "      <td>test</td>\n",
       "      <td>f1</td>\n",
       "      <td>0.922374</td>\n",
       "    </tr>\n",
       "    <tr>\n",
       "      <th>18</th>\n",
       "      <td>task_slice:short_link_pred</td>\n",
       "      <td>SnorkelDataset</td>\n",
       "      <td>test</td>\n",
       "      <td>accuracy</td>\n",
       "      <td>0.333333</td>\n",
       "    </tr>\n",
       "    <tr>\n",
       "      <th>19</th>\n",
       "      <td>task_slice:short_link_pred</td>\n",
       "      <td>SnorkelDataset</td>\n",
       "      <td>test</td>\n",
       "      <td>f1</td>\n",
       "      <td>0.500000</td>\n",
       "    </tr>\n",
       "    <tr>\n",
       "      <th>20</th>\n",
       "      <td>task_slice:keyword_subscribe_pred</td>\n",
       "      <td>SnorkelDataset</td>\n",
       "      <td>test</td>\n",
       "      <td>accuracy</td>\n",
       "      <td>0.861111</td>\n",
       "    </tr>\n",
       "    <tr>\n",
       "      <th>21</th>\n",
       "      <td>task_slice:keyword_subscribe_pred</td>\n",
       "      <td>SnorkelDataset</td>\n",
       "      <td>test</td>\n",
       "      <td>f1</td>\n",
       "      <td>0.925373</td>\n",
       "    </tr>\n",
       "    <tr>\n",
       "      <th>22</th>\n",
       "      <td>task_slice:keyword_please_pred</td>\n",
       "      <td>SnorkelDataset</td>\n",
       "      <td>test</td>\n",
       "      <td>accuracy</td>\n",
       "      <td>0.956522</td>\n",
       "    </tr>\n",
       "    <tr>\n",
       "      <th>23</th>\n",
       "      <td>task_slice:keyword_please_pred</td>\n",
       "      <td>SnorkelDataset</td>\n",
       "      <td>test</td>\n",
       "      <td>f1</td>\n",
       "      <td>0.977778</td>\n",
       "    </tr>\n",
       "    <tr>\n",
       "      <th>24</th>\n",
       "      <td>task_slice:regex_check_out_pred</td>\n",
       "      <td>SnorkelDataset</td>\n",
       "      <td>test</td>\n",
       "      <td>accuracy</td>\n",
       "      <td>1.000000</td>\n",
       "    </tr>\n",
       "    <tr>\n",
       "      <th>25</th>\n",
       "      <td>task_slice:regex_check_out_pred</td>\n",
       "      <td>SnorkelDataset</td>\n",
       "      <td>test</td>\n",
       "      <td>f1</td>\n",
       "      <td>1.000000</td>\n",
       "    </tr>\n",
       "    <tr>\n",
       "      <th>26</th>\n",
       "      <td>task_slice:short_comment_pred</td>\n",
       "      <td>SnorkelDataset</td>\n",
       "      <td>test</td>\n",
       "      <td>accuracy</td>\n",
       "      <td>0.967391</td>\n",
       "    </tr>\n",
       "    <tr>\n",
       "      <th>27</th>\n",
       "      <td>task_slice:short_comment_pred</td>\n",
       "      <td>SnorkelDataset</td>\n",
       "      <td>test</td>\n",
       "      <td>f1</td>\n",
       "      <td>0.769231</td>\n",
       "    </tr>\n",
       "    <tr>\n",
       "      <th>28</th>\n",
       "      <td>task_slice:textblob_polarity_pred</td>\n",
       "      <td>SnorkelDataset</td>\n",
       "      <td>test</td>\n",
       "      <td>accuracy</td>\n",
       "      <td>0.916667</td>\n",
       "    </tr>\n",
       "    <tr>\n",
       "      <th>29</th>\n",
       "      <td>task_slice:textblob_polarity_pred</td>\n",
       "      <td>SnorkelDataset</td>\n",
       "      <td>test</td>\n",
       "      <td>f1</td>\n",
       "      <td>0.800000</td>\n",
       "    </tr>\n",
       "    <tr>\n",
       "      <th>30</th>\n",
       "      <td>task_slice:base_pred</td>\n",
       "      <td>SnorkelDataset</td>\n",
       "      <td>test</td>\n",
       "      <td>accuracy</td>\n",
       "      <td>0.932000</td>\n",
       "    </tr>\n",
       "    <tr>\n",
       "      <th>31</th>\n",
       "      <td>task_slice:base_pred</td>\n",
       "      <td>SnorkelDataset</td>\n",
       "      <td>test</td>\n",
       "      <td>f1</td>\n",
       "      <td>0.922374</td>\n",
       "    </tr>\n",
       "  </tbody>\n",
       "</table>\n",
       "</div>"
      ],
      "text/plain": [
       "                                label         dataset  split    metric  \\\n",
       "0   task                               SnorkelDataset  valid  accuracy   \n",
       "1   task                               SnorkelDataset  valid  f1         \n",
       "2   task_slice:short_link_pred         SnorkelDataset  valid  accuracy   \n",
       "3   task_slice:short_link_pred         SnorkelDataset  valid  f1         \n",
       "4   task_slice:keyword_subscribe_pred  SnorkelDataset  valid  accuracy   \n",
       "5   task_slice:keyword_subscribe_pred  SnorkelDataset  valid  f1         \n",
       "6   task_slice:keyword_please_pred     SnorkelDataset  valid  accuracy   \n",
       "7   task_slice:keyword_please_pred     SnorkelDataset  valid  f1         \n",
       "8   task_slice:regex_check_out_pred    SnorkelDataset  valid  accuracy   \n",
       "9   task_slice:regex_check_out_pred    SnorkelDataset  valid  f1         \n",
       "10  task_slice:short_comment_pred      SnorkelDataset  valid  accuracy   \n",
       "11  task_slice:short_comment_pred      SnorkelDataset  valid  f1         \n",
       "12  task_slice:textblob_polarity_pred  SnorkelDataset  valid  accuracy   \n",
       "13  task_slice:textblob_polarity_pred  SnorkelDataset  valid  f1         \n",
       "14  task_slice:base_pred               SnorkelDataset  valid  accuracy   \n",
       "15  task_slice:base_pred               SnorkelDataset  valid  f1         \n",
       "16  task                               SnorkelDataset  test   accuracy   \n",
       "17  task                               SnorkelDataset  test   f1         \n",
       "18  task_slice:short_link_pred         SnorkelDataset  test   accuracy   \n",
       "19  task_slice:short_link_pred         SnorkelDataset  test   f1         \n",
       "20  task_slice:keyword_subscribe_pred  SnorkelDataset  test   accuracy   \n",
       "21  task_slice:keyword_subscribe_pred  SnorkelDataset  test   f1         \n",
       "22  task_slice:keyword_please_pred     SnorkelDataset  test   accuracy   \n",
       "23  task_slice:keyword_please_pred     SnorkelDataset  test   f1         \n",
       "24  task_slice:regex_check_out_pred    SnorkelDataset  test   accuracy   \n",
       "25  task_slice:regex_check_out_pred    SnorkelDataset  test   f1         \n",
       "26  task_slice:short_comment_pred      SnorkelDataset  test   accuracy   \n",
       "27  task_slice:short_comment_pred      SnorkelDataset  test   f1         \n",
       "28  task_slice:textblob_polarity_pred  SnorkelDataset  test   accuracy   \n",
       "29  task_slice:textblob_polarity_pred  SnorkelDataset  test   f1         \n",
       "30  task_slice:base_pred               SnorkelDataset  test   accuracy   \n",
       "31  task_slice:base_pred               SnorkelDataset  test   f1         \n",
       "\n",
       "       score  \n",
       "0   0.925000  \n",
       "1   0.914286  \n",
       "2   0.400000  \n",
       "3   0.571429  \n",
       "4   1.000000  \n",
       "5   1.000000  \n",
       "6   1.000000  \n",
       "7   1.000000  \n",
       "8   1.000000  \n",
       "9   1.000000  \n",
       "10  0.947368  \n",
       "11  0.500000  \n",
       "12  1.000000  \n",
       "13  1.000000  \n",
       "14  0.925000  \n",
       "15  0.914286  \n",
       "16  0.932000  \n",
       "17  0.922374  \n",
       "18  0.333333  \n",
       "19  0.500000  \n",
       "20  0.861111  \n",
       "21  0.925373  \n",
       "22  0.956522  \n",
       "23  0.977778  \n",
       "24  1.000000  \n",
       "25  1.000000  \n",
       "26  0.967391  \n",
       "27  0.769231  \n",
       "28  0.916667  \n",
       "29  0.800000  \n",
       "30  0.932000  \n",
       "31  0.922374  "
      ]
     },
     "execution_count": 21,
     "metadata": {},
     "output_type": "execute_result"
    }
   ],
   "source": [
    "slice_model.score_slices([valid_dl_slice, test_dl_slice], as_dataframe=True)"
   ]
  },
  {
   "cell_type": "markdown",
   "metadata": {},
   "source": [
    "*Note: in this toy dataset, we see high variance in slice performance, because our dataset is so small that (i) there are few examples the train split, giving little signal to learn over, and (ii) there are few examples in the test split, making our evaluation metrics very noisy.\n",
    "For a demonstration of data slicing deployed in state-of-the-art models, please see our [SuperGLUE](https://github.com/HazyResearch/snorkel-superglue/tree/master/tutorials) tutorials.*"
   ]
  },
  {
   "cell_type": "markdown",
   "metadata": {},
   "source": [
    "---\n",
    "## Recap"
   ]
  },
  {
   "cell_type": "markdown",
   "metadata": {},
   "source": [
    "This tutorial walked through the process authoring slices, monitoring model performance on specific slices, and improving model performance using slice information.\n",
    "This programming abstraction provides a mechanism to heuristically identify critical data subsets.\n",
    "For more technical details about _Slice-based Learning,_ stay tuned — our technical report is coming soon!"
   ]
  },
  {
   "cell_type": "code",
   "execution_count": null,
   "metadata": {},
   "outputs": [],
   "source": []
  }
 ],
 "metadata": {
  "jupytext": {
   "cell_metadata_filter": "-all",
   "encoding": "# -*- coding: utf-8 -*-"
  },
  "kernelspec": {
   "display_name": "Python 3",
   "language": "python",
   "name": "python3"
  },
  "language_info": {
   "codemirror_mode": {
    "name": "ipython",
    "version": 3
   },
   "file_extension": ".py",
   "mimetype": "text/x-python",
   "name": "python",
   "nbconvert_exporter": "python",
   "pygments_lexer": "ipython3",
   "version": "3.6.8"
  }
 },
 "nbformat": 4,
 "nbformat_minor": 2
}
