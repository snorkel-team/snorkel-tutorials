{
 "cells": [
  {
   "cell_type": "markdown",
   "metadata": {},
   "source": [
    "# ✂️ _Spam_ — Data Slicing Tutorial\n",
    "\n",
    "In real-world applications, some model outcomes are often more important than others — e.g. vulnerable cyclist detections in an autonomous driving task, or, in our running **spam** application, potentially malicious link redirects to external websites.\n",
    "\n",
    "Traditional machine learning systems optimize for overall quality, which may be too coarse-grained: models that achieve high overall performance might produce unacceptable failure rates on critical slices of the data — data subsets that might correspond to vulnerable cyclist detection in an autonomous driving task, or in our running spam detection application, external links to potentially malicious websites.\n",
    "\n",
    "In this tutorial, we introduce _Slicing Functions (SFs)_ as a programming interface to:\n",
    "1. **Monitor** application-critical data slices\n",
    "2. **Improve model performance** on slices"
   ]
  },
  {
   "cell_type": "markdown",
   "metadata": {},
   "source": [
    "First, we'll set up our notebook for reproducibility and proper logging."
   ]
  },
  {
   "cell_type": "code",
   "execution_count": 1,
   "metadata": {},
   "outputs": [
    {
     "name": "stdout",
     "output_type": "stream",
     "text": [
      "Requirement already satisfied: en_core_web_sm==2.1.0 from https://github.com/explosion/spacy-models/releases/download/en_core_web_sm-2.1.0/en_core_web_sm-2.1.0.tar.gz#egg=en_core_web_sm==2.1.0 in /home/ubuntu/snorkel-tutorials/.tox/spam/lib/python3.6/site-packages (2.1.0)\r\n"
     ]
    },
    {
     "name": "stdout",
     "output_type": "stream",
     "text": [
      "\u001b[38;5;2m✔ Download and installation successful\u001b[0m\r\n",
      "You can now load the model via spacy.load('en_core_web_sm')\r\n",
      "\u001b[38;5;2m✔ Linking successful\u001b[0m\r\n",
      "/home/ubuntu/snorkel-tutorials/.tox/spam/lib/python3.6/site-packages/en_core_web_sm\r\n",
      "-->\r\n",
      "/home/ubuntu/snorkel-tutorials/.tox/spam/lib/python3.6/site-packages/spacy/data/en\r\n",
      "You can now load the model via spacy.load('en')\r\n"
     ]
    }
   ],
   "source": [
    "import logging\n",
    "import os\n",
    "import pandas as pd\n",
    "from snorkel.utils import set_seed\n",
    "\n",
    "# For reproducibility\n",
    "os.environ[\"PYTHONHASHSEED\"] = \"0\"\n",
    "set_seed(111)\n",
    "\n",
    "# Make sure we're running from the spam/ directory\n",
    "if os.path.basename(os.getcwd()) == \"snorkel-tutorials\":\n",
    "    os.chdir(\"spam\")\n",
    "\n",
    "# To visualize logs\n",
    "logger = logging.getLogger()\n",
    "logger.setLevel(logging.WARNING)\n",
    "\n",
    "# Show full columns for viewing data\n",
    "pd.set_option(\"display.max_colwidth\", -1)\n",
    "\n",
    "# Download the spaCy english model for preprocessing\n",
    "import spacy\n",
    "\n",
    "! python -m spacy download en"
   ]
  },
  {
   "cell_type": "markdown",
   "metadata": {},
   "source": [
    "_Note:_ this tutorial differs from the labeling tutorial in that we use ground truth labels in the train split for demo purposes.\n",
    "In practice, data slicing is agnostic to the _training labels_ used as inputs — you can use Snorkel-generated labels as inputs to this pipeline."
   ]
  },
  {
   "cell_type": "code",
   "execution_count": 2,
   "metadata": {
    "lines_to_next_cell": 2
   },
   "outputs": [],
   "source": [
    "from utils import load_spam_dataset\n",
    "\n",
    "df_train, df_valid, df_test = load_spam_dataset(\n",
    "    load_train_labels=True, include_dev=False\n",
    ")"
   ]
  },
  {
   "cell_type": "markdown",
   "metadata": {},
   "source": [
    "## 1. Train a discriminative model\n",
    "\n",
    "To start, we'll initialize a discriminative model using our [`SnorkelClassifier`](https://snorkel.readthedocs.io/en/redux/source/snorkel.classification.html).\n",
    "We'll assume that you are familiar with Snorkel's multitask model — if not, we'd recommend you check out our [Multitask Tutorial](https://github.com/snorkel-team/snorkel-tutorials/blob/master/multitask/multitask_tutorial.ipynb)."
   ]
  },
  {
   "cell_type": "markdown",
   "metadata": {},
   "source": [
    "### Featurize Data\n",
    "\n",
    "As a first step, we'll featurize the data—as you saw in the introductory Spam tutorial, we can extract simple bag of words features and store them as numpy arrays."
   ]
  },
  {
   "cell_type": "code",
   "execution_count": 3,
   "metadata": {},
   "outputs": [],
   "source": [
    "import torch\n",
    "from sklearn.feature_extraction.text import CountVectorizer\n",
    "from snorkel.classification.data import DictDataset, DictDataLoader\n",
    "\n",
    "vectorizer = CountVectorizer(ngram_range=(1, 1))\n",
    "\n",
    "\n",
    "def df_to_torch_example(vectorizer, df, fit_train=False):\n",
    "    words = [row.text for i, row in df.iterrows()]\n",
    "\n",
    "    if fit_train:\n",
    "        feats = vectorizer.fit_transform(words)\n",
    "    else:\n",
    "        feats = vectorizer.transform(words)\n",
    "    X = feats.todense()\n",
    "    Y = df[\"label\"].values\n",
    "    return X, Y"
   ]
  },
  {
   "cell_type": "code",
   "execution_count": 4,
   "metadata": {},
   "outputs": [],
   "source": [
    "X_train, Y_train = df_to_torch_example(vectorizer, df_train, fit_train=True)\n",
    "X_valid, Y_valid = df_to_torch_example(vectorizer, df_valid, fit_train=False)\n",
    "X_test, Y_test = df_to_torch_example(vectorizer, df_test, fit_train=False)"
   ]
  },
  {
   "cell_type": "markdown",
   "metadata": {},
   "source": [
    "### Create DataLoaders\n",
    "\n",
    "Next, we'll use the extracted Tensors to initialize a `DictDataLoader` — as a quick recap, this is a Snorkel-specific class that inherits from the common PyTorch class and supports multiple data fields in the `X_dict` and labels in the `Y_dict`.\n",
    "\n",
    "In this task, we'd like to store the `bow_features` in our `X_dict`, and we have one set of labels (for now) correpsonding to the `spam_task`."
   ]
  },
  {
   "cell_type": "code",
   "execution_count": 5,
   "metadata": {},
   "outputs": [],
   "source": [
    "BATCH_SIZE = 32\n",
    "\n",
    "\n",
    "def create_dict_dataloader(X, Y, split, **kwargs):\n",
    "    \"\"\"Create a DictDataLoader for bag of words features.\"\"\"\n",
    "    ds = DictDataset(\n",
    "        name=\"spam_dataset\",\n",
    "        split=split,\n",
    "        X_dict={\"bow_features\": torch.FloatTensor(X)},\n",
    "        Y_dict={\"spam_task\": torch.LongTensor(Y)},\n",
    "    )\n",
    "    return DictDataLoader(ds, **kwargs)\n",
    "\n",
    "\n",
    "dl_train = create_dict_dataloader(\n",
    "    X_train, Y_train, split=\"train\", batch_size=BATCH_SIZE, shuffle=True\n",
    ")\n",
    "dl_valid = create_dict_dataloader(\n",
    "    X_valid, Y_valid, split=\"valid\", batch_size=BATCH_SIZE, shuffle=False\n",
    ")\n",
    "dl_test = create_dict_dataloader(\n",
    "    X_test, Y_test, split=\"test\", batch_size=BATCH_SIZE, shuffle=False\n",
    ")"
   ]
  },
  {
   "cell_type": "markdown",
   "metadata": {},
   "source": [
    "We can inspect our datasets to confirm that they have the appropriate fields."
   ]
  },
  {
   "cell_type": "code",
   "execution_count": 6,
   "metadata": {},
   "outputs": [
    {
     "data": {
      "text/plain": [
       "DictDataset(name=spam_dataset, X_keys=['bow_features'], Y_keys=['spam_task'])"
      ]
     },
     "execution_count": 6,
     "metadata": {},
     "output_type": "execute_result"
    }
   ],
   "source": [
    "dl_valid.dataset"
   ]
  },
  {
   "cell_type": "markdown",
   "metadata": {},
   "source": [
    "### Define `SnorkelClassifier`\n",
    "\n",
    "We define a simple Multi-Layer Perceptron (MLP) architecture to learn from the `bow_features`.\n",
    "\n",
    "_Note: the following might feel like extra steps to define what is a very simple architecture, but this will lend us additional flexibility later in the pipeline!_"
   ]
  },
  {
   "cell_type": "markdown",
   "metadata": {},
   "source": [
    "To start, we define a `module_pool` with all the [PyTorch](https://pytorch.org) modules that we'll want to include in our network."
   ]
  },
  {
   "cell_type": "code",
   "execution_count": 7,
   "metadata": {},
   "outputs": [],
   "source": [
    "import torch.nn as nn\n",
    "\n",
    "bow_dim = X_train.shape[1]\n",
    "module_pool = nn.ModuleDict(\n",
    "    {\n",
    "        \"mlp\": nn.Sequential(nn.Linear(bow_dim, bow_dim), nn.ReLU()),\n",
    "        \"prediction_head\": nn.Linear(bow_dim, 2),\n",
    "    }\n",
    ")"
   ]
  },
  {
   "cell_type": "markdown",
   "metadata": {},
   "source": [
    "Then, we specify the desired `task_flow` through each module."
   ]
  },
  {
   "cell_type": "code",
   "execution_count": 8,
   "metadata": {},
   "outputs": [],
   "source": [
    "from snorkel.classification.task import Operation\n",
    "\n",
    "task_flow = [\n",
    "    Operation(name=\"input_op\", module_name=\"mlp\", inputs=[(\"_input_\", \"bow_features\")]),\n",
    "    Operation(name=\"head_op\", module_name=\"prediction_head\", inputs=[(\"input_op\", 0)]),\n",
    "]"
   ]
  },
  {
   "cell_type": "markdown",
   "metadata": {},
   "source": [
    "With these pieces, we're ready to define a [`Task`](https://snorkel.readthedocs.io/en/redux/source/snorkel.classification.html#module-snorkel.classification.task) in Snorkel for spam classification."
   ]
  },
  {
   "cell_type": "code",
   "execution_count": 9,
   "metadata": {},
   "outputs": [],
   "source": [
    "from functools import partial\n",
    "from snorkel.analysis import Scorer\n",
    "from snorkel.classification import (\n",
    "    Task,\n",
    "    cross_entropy_from_outputs,\n",
    "    softmax_from_outputs,\n",
    ")\n",
    "\n",
    "spam_task = Task(\n",
    "    name=\"spam_task\",\n",
    "    module_pool=module_pool,\n",
    "    task_flow=task_flow,\n",
    "    loss_func=partial(cross_entropy_from_outputs, \"head_op\"),\n",
    "    output_func=partial(softmax_from_outputs, \"head_op\"),\n",
    "    scorer=Scorer(metrics=[\"accuracy\", \"f1\"]),\n",
    ")"
   ]
  },
  {
   "cell_type": "markdown",
   "metadata": {},
   "source": [
    "We'll initialize a [`SnorkelClassifier`](https://snorkel.readthedocs.io/en/redux/source/snorkel.classification.html) with the `spam_task` we've created, initialize a corresponding [`Trainer`](https://snorkel.readthedocs.io/en/redux/source/snorkel.classification.training.html#module-snorkel.classification.training.trainer), and `fit` to our dataloaders!"
   ]
  },
  {
   "cell_type": "code",
   "execution_count": 10,
   "metadata": {},
   "outputs": [
    {
     "name": "stderr",
     "output_type": "stream",
     "text": [
      "\r",
      "Epoch 0::   0%|          | 0/50 [00:00<?, ?it/s]"
     ]
    },
    {
     "name": "stderr",
     "output_type": "stream",
     "text": [
      "\r",
      "Epoch 0::   0%|          | 0/50 [00:00<?, ?it/s, model/all/train/loss=0.691, model/all/train/lr=0.0001]"
     ]
    },
    {
     "name": "stderr",
     "output_type": "stream",
     "text": [
      "\r",
      "Epoch 0::   2%|▏         | 1/50 [00:00<00:05,  8.50it/s, model/all/train/loss=0.691, model/all/train/lr=0.0001]"
     ]
    },
    {
     "name": "stderr",
     "output_type": "stream",
     "text": [
      "\r",
      "Epoch 0::   2%|▏         | 1/50 [00:00<00:05,  8.50it/s, model/all/train/loss=0.691, model/all/train/lr=0.0001]"
     ]
    },
    {
     "name": "stderr",
     "output_type": "stream",
     "text": [
      "\r",
      "Epoch 0::   4%|▍         | 2/50 [00:00<00:05,  8.76it/s, model/all/train/loss=0.691, model/all/train/lr=0.0001]"
     ]
    },
    {
     "name": "stderr",
     "output_type": "stream",
     "text": [
      "\r",
      "Epoch 0::   4%|▍         | 2/50 [00:00<00:05,  8.76it/s, model/all/train/loss=0.69, model/all/train/lr=0.0001] "
     ]
    },
    {
     "name": "stderr",
     "output_type": "stream",
     "text": [
      "\r",
      "Epoch 0::   6%|▌         | 3/50 [00:00<00:05,  8.95it/s, model/all/train/loss=0.69, model/all/train/lr=0.0001]"
     ]
    },
    {
     "name": "stderr",
     "output_type": "stream",
     "text": [
      "\r",
      "Epoch 0::   6%|▌         | 3/50 [00:00<00:05,  8.95it/s, model/all/train/loss=0.689, model/all/train/lr=0.0001]"
     ]
    },
    {
     "name": "stderr",
     "output_type": "stream",
     "text": [
      "\r",
      "Epoch 0::   8%|▊         | 4/50 [00:00<00:05,  9.04it/s, model/all/train/loss=0.689, model/all/train/lr=0.0001]"
     ]
    },
    {
     "name": "stderr",
     "output_type": "stream",
     "text": [
      "\r",
      "Epoch 0::   8%|▊         | 4/50 [00:00<00:05,  9.04it/s, model/all/train/loss=0.688, model/all/train/lr=0.0001]"
     ]
    },
    {
     "name": "stderr",
     "output_type": "stream",
     "text": [
      "\r",
      "Epoch 0::  10%|█         | 5/50 [00:00<00:04,  9.09it/s, model/all/train/loss=0.688, model/all/train/lr=0.0001]"
     ]
    },
    {
     "name": "stderr",
     "output_type": "stream",
     "text": [
      "\r",
      "Epoch 0::  10%|█         | 5/50 [00:00<00:04,  9.09it/s, model/all/train/loss=0.684, model/all/train/lr=0.0001]"
     ]
    },
    {
     "name": "stderr",
     "output_type": "stream",
     "text": [
      "\r",
      "Epoch 0::  12%|█▏        | 6/50 [00:00<00:04,  9.12it/s, model/all/train/loss=0.684, model/all/train/lr=0.0001]"
     ]
    },
    {
     "name": "stderr",
     "output_type": "stream",
     "text": [
      "\r",
      "Epoch 0::  12%|█▏        | 6/50 [00:00<00:04,  9.12it/s, model/all/train/loss=0.684, model/all/train/lr=0.0001]"
     ]
    },
    {
     "name": "stderr",
     "output_type": "stream",
     "text": [
      "\r",
      "Epoch 0::  14%|█▍        | 7/50 [00:00<00:04,  9.15it/s, model/all/train/loss=0.684, model/all/train/lr=0.0001]"
     ]
    },
    {
     "name": "stderr",
     "output_type": "stream",
     "text": [
      "\r",
      "Epoch 0::  14%|█▍        | 7/50 [00:00<00:04,  9.15it/s, model/all/train/loss=0.683, model/all/train/lr=0.0001]"
     ]
    },
    {
     "name": "stderr",
     "output_type": "stream",
     "text": [
      "\r",
      "Epoch 0::  16%|█▌        | 8/50 [00:00<00:04,  9.18it/s, model/all/train/loss=0.683, model/all/train/lr=0.0001]"
     ]
    },
    {
     "name": "stderr",
     "output_type": "stream",
     "text": [
      "\r",
      "Epoch 0::  16%|█▌        | 8/50 [00:00<00:04,  9.18it/s, model/all/train/loss=0.681, model/all/train/lr=0.0001]"
     ]
    },
    {
     "name": "stderr",
     "output_type": "stream",
     "text": [
      "\r",
      "Epoch 0::  18%|█▊        | 9/50 [00:00<00:04,  9.16it/s, model/all/train/loss=0.681, model/all/train/lr=0.0001]"
     ]
    },
    {
     "name": "stderr",
     "output_type": "stream",
     "text": [
      "\r",
      "Epoch 0::  18%|█▊        | 9/50 [00:01<00:04,  9.16it/s, model/all/train/loss=0.679, model/all/train/lr=0.0001]"
     ]
    },
    {
     "name": "stderr",
     "output_type": "stream",
     "text": [
      "\r",
      "Epoch 0::  20%|██        | 10/50 [00:01<00:04,  8.30it/s, model/all/train/loss=0.679, model/all/train/lr=0.0001]"
     ]
    },
    {
     "name": "stderr",
     "output_type": "stream",
     "text": [
      "\r",
      "Epoch 0::  20%|██        | 10/50 [00:01<00:04,  8.30it/s, model/all/train/loss=0.676, model/all/train/lr=0.0001]"
     ]
    },
    {
     "name": "stderr",
     "output_type": "stream",
     "text": [
      "\r",
      "Epoch 0::  22%|██▏       | 11/50 [00:01<00:04,  7.97it/s, model/all/train/loss=0.676, model/all/train/lr=0.0001]"
     ]
    },
    {
     "name": "stderr",
     "output_type": "stream",
     "text": [
      "\r",
      "Epoch 0::  22%|██▏       | 11/50 [00:01<00:04,  7.97it/s, model/all/train/loss=0.673, model/all/train/lr=0.0001]"
     ]
    },
    {
     "name": "stderr",
     "output_type": "stream",
     "text": [
      "\r",
      "Epoch 0::  24%|██▍       | 12/50 [00:01<00:04,  7.69it/s, model/all/train/loss=0.673, model/all/train/lr=0.0001]"
     ]
    },
    {
     "name": "stderr",
     "output_type": "stream",
     "text": [
      "\r",
      "Epoch 0::  24%|██▍       | 12/50 [00:01<00:04,  7.69it/s, model/all/train/loss=0.671, model/all/train/lr=0.0001]"
     ]
    },
    {
     "name": "stderr",
     "output_type": "stream",
     "text": [
      "\r",
      "Epoch 0::  26%|██▌       | 13/50 [00:01<00:05,  7.09it/s, model/all/train/loss=0.671, model/all/train/lr=0.0001]"
     ]
    },
    {
     "name": "stderr",
     "output_type": "stream",
     "text": [
      "\r",
      "Epoch 0::  26%|██▌       | 13/50 [00:01<00:05,  7.09it/s, model/all/train/loss=0.667, model/all/train/lr=0.0001]"
     ]
    },
    {
     "name": "stderr",
     "output_type": "stream",
     "text": [
      "\r",
      "Epoch 0::  28%|██▊       | 14/50 [00:01<00:05,  6.85it/s, model/all/train/loss=0.667, model/all/train/lr=0.0001]"
     ]
    },
    {
     "name": "stderr",
     "output_type": "stream",
     "text": [
      "\r",
      "Epoch 0::  28%|██▊       | 14/50 [00:01<00:05,  6.85it/s, model/all/train/loss=0.665, model/all/train/lr=0.0001]"
     ]
    },
    {
     "name": "stderr",
     "output_type": "stream",
     "text": [
      "\r",
      "Epoch 0::  30%|███       | 15/50 [00:01<00:04,  7.36it/s, model/all/train/loss=0.665, model/all/train/lr=0.0001]"
     ]
    },
    {
     "name": "stderr",
     "output_type": "stream",
     "text": [
      "\r",
      "Epoch 0::  30%|███       | 15/50 [00:01<00:04,  7.36it/s, model/all/train/loss=0.663, model/all/train/lr=0.0001]"
     ]
    },
    {
     "name": "stderr",
     "output_type": "stream",
     "text": [
      "\r",
      "Epoch 0::  32%|███▏      | 16/50 [00:01<00:04,  7.77it/s, model/all/train/loss=0.663, model/all/train/lr=0.0001]"
     ]
    },
    {
     "name": "stderr",
     "output_type": "stream",
     "text": [
      "\r",
      "Epoch 0::  32%|███▏      | 16/50 [00:02<00:04,  7.77it/s, model/all/train/loss=0.66, model/all/train/lr=0.0001] "
     ]
    },
    {
     "name": "stderr",
     "output_type": "stream",
     "text": [
      "\r",
      "Epoch 0::  34%|███▍      | 17/50 [00:02<00:04,  8.07it/s, model/all/train/loss=0.66, model/all/train/lr=0.0001]"
     ]
    },
    {
     "name": "stderr",
     "output_type": "stream",
     "text": [
      "\r",
      "Epoch 0::  34%|███▍      | 17/50 [00:02<00:04,  8.07it/s, model/all/train/loss=0.657, model/all/train/lr=0.0001]"
     ]
    },
    {
     "name": "stderr",
     "output_type": "stream",
     "text": [
      "\r",
      "Epoch 0::  36%|███▌      | 18/50 [00:02<00:03,  8.26it/s, model/all/train/loss=0.657, model/all/train/lr=0.0001]"
     ]
    },
    {
     "name": "stderr",
     "output_type": "stream",
     "text": [
      "\r",
      "Epoch 0::  36%|███▌      | 18/50 [00:02<00:03,  8.26it/s, model/all/train/loss=0.657, model/all/train/lr=0.0001]"
     ]
    },
    {
     "name": "stderr",
     "output_type": "stream",
     "text": [
      "\r",
      "Epoch 0::  38%|███▊      | 19/50 [00:02<00:03,  8.42it/s, model/all/train/loss=0.657, model/all/train/lr=0.0001]"
     ]
    },
    {
     "name": "stderr",
     "output_type": "stream",
     "text": [
      "\r",
      "Epoch 0::  38%|███▊      | 19/50 [00:02<00:03,  8.42it/s, model/all/train/loss=0.656, model/all/train/lr=0.0001]"
     ]
    },
    {
     "name": "stderr",
     "output_type": "stream",
     "text": [
      "\r",
      "Epoch 0::  40%|████      | 20/50 [00:02<00:03,  8.53it/s, model/all/train/loss=0.656, model/all/train/lr=0.0001]"
     ]
    },
    {
     "name": "stderr",
     "output_type": "stream",
     "text": [
      "\r",
      "Epoch 0::  40%|████      | 20/50 [00:02<00:03,  8.53it/s, model/all/train/loss=0.654, model/all/train/lr=0.0001]"
     ]
    },
    {
     "name": "stderr",
     "output_type": "stream",
     "text": [
      "\r",
      "Epoch 0::  42%|████▏     | 21/50 [00:02<00:03,  8.60it/s, model/all/train/loss=0.654, model/all/train/lr=0.0001]"
     ]
    },
    {
     "name": "stderr",
     "output_type": "stream",
     "text": [
      "\r",
      "Epoch 0::  42%|████▏     | 21/50 [00:02<00:03,  8.60it/s, model/all/train/loss=0.651, model/all/train/lr=0.0001]"
     ]
    },
    {
     "name": "stderr",
     "output_type": "stream",
     "text": [
      "\r",
      "Epoch 0::  44%|████▍     | 22/50 [00:02<00:03,  8.50it/s, model/all/train/loss=0.651, model/all/train/lr=0.0001]"
     ]
    },
    {
     "name": "stderr",
     "output_type": "stream",
     "text": [
      "\r",
      "Epoch 0::  44%|████▍     | 22/50 [00:02<00:03,  8.50it/s, model/all/train/loss=0.648, model/all/train/lr=0.0001]"
     ]
    },
    {
     "name": "stderr",
     "output_type": "stream",
     "text": [
      "\r",
      "Epoch 0::  46%|████▌     | 23/50 [00:02<00:03,  8.55it/s, model/all/train/loss=0.648, model/all/train/lr=0.0001]"
     ]
    },
    {
     "name": "stderr",
     "output_type": "stream",
     "text": [
      "\r",
      "Epoch 0::  46%|████▌     | 23/50 [00:02<00:03,  8.55it/s, model/all/train/loss=0.646, model/all/train/lr=0.0001]"
     ]
    },
    {
     "name": "stderr",
     "output_type": "stream",
     "text": [
      "\r",
      "Epoch 0::  48%|████▊     | 24/50 [00:02<00:03,  8.57it/s, model/all/train/loss=0.646, model/all/train/lr=0.0001]"
     ]
    },
    {
     "name": "stderr",
     "output_type": "stream",
     "text": [
      "\r",
      "Epoch 0::  48%|████▊     | 24/50 [00:02<00:03,  8.57it/s, model/all/train/loss=0.643, model/all/train/lr=0.0001]"
     ]
    },
    {
     "name": "stderr",
     "output_type": "stream",
     "text": [
      "\r",
      "Epoch 0::  50%|█████     | 25/50 [00:02<00:02,  8.58it/s, model/all/train/loss=0.643, model/all/train/lr=0.0001]"
     ]
    },
    {
     "name": "stderr",
     "output_type": "stream",
     "text": [
      "\r",
      "Epoch 0::  50%|█████     | 25/50 [00:03<00:02,  8.58it/s, model/all/train/loss=0.641, model/all/train/lr=0.0001]"
     ]
    },
    {
     "name": "stderr",
     "output_type": "stream",
     "text": [
      "\r",
      "Epoch 0::  52%|█████▏    | 26/50 [00:03<00:02,  8.59it/s, model/all/train/loss=0.641, model/all/train/lr=0.0001]"
     ]
    },
    {
     "name": "stderr",
     "output_type": "stream",
     "text": [
      "\r",
      "Epoch 0::  52%|█████▏    | 26/50 [00:03<00:02,  8.59it/s, model/all/train/loss=0.64, model/all/train/lr=0.0001] "
     ]
    },
    {
     "name": "stderr",
     "output_type": "stream",
     "text": [
      "\r",
      "Epoch 0::  54%|█████▍    | 27/50 [00:03<00:02,  8.62it/s, model/all/train/loss=0.64, model/all/train/lr=0.0001]"
     ]
    },
    {
     "name": "stderr",
     "output_type": "stream",
     "text": [
      "\r",
      "Epoch 0::  54%|█████▍    | 27/50 [00:03<00:02,  8.62it/s, model/all/train/loss=0.639, model/all/train/lr=0.0001]"
     ]
    },
    {
     "name": "stderr",
     "output_type": "stream",
     "text": [
      "\r",
      "Epoch 0::  56%|█████▌    | 28/50 [00:03<00:02,  8.61it/s, model/all/train/loss=0.639, model/all/train/lr=0.0001]"
     ]
    },
    {
     "name": "stderr",
     "output_type": "stream",
     "text": [
      "\r",
      "Epoch 0::  56%|█████▌    | 28/50 [00:03<00:02,  8.61it/s, model/all/train/loss=0.639, model/all/train/lr=0.0001]"
     ]
    },
    {
     "name": "stderr",
     "output_type": "stream",
     "text": [
      "\r",
      "Epoch 0::  58%|█████▊    | 29/50 [00:03<00:02,  8.62it/s, model/all/train/loss=0.639, model/all/train/lr=0.0001]"
     ]
    },
    {
     "name": "stderr",
     "output_type": "stream",
     "text": [
      "\r",
      "Epoch 0::  58%|█████▊    | 29/50 [00:03<00:02,  8.62it/s, model/all/train/loss=0.636, model/all/train/lr=0.0001]"
     ]
    },
    {
     "name": "stderr",
     "output_type": "stream",
     "text": [
      "\r",
      "Epoch 0::  60%|██████    | 30/50 [00:03<00:02,  8.62it/s, model/all/train/loss=0.636, model/all/train/lr=0.0001]"
     ]
    },
    {
     "name": "stderr",
     "output_type": "stream",
     "text": [
      "\r",
      "Epoch 0::  60%|██████    | 30/50 [00:03<00:02,  8.62it/s, model/all/train/loss=0.634, model/all/train/lr=0.0001]"
     ]
    },
    {
     "name": "stderr",
     "output_type": "stream",
     "text": [
      "\r",
      "Epoch 0::  62%|██████▏   | 31/50 [00:03<00:02,  8.60it/s, model/all/train/loss=0.634, model/all/train/lr=0.0001]"
     ]
    },
    {
     "name": "stderr",
     "output_type": "stream",
     "text": [
      "\r",
      "Epoch 0::  62%|██████▏   | 31/50 [00:03<00:02,  8.60it/s, model/all/train/loss=0.633, model/all/train/lr=0.0001]"
     ]
    },
    {
     "name": "stderr",
     "output_type": "stream",
     "text": [
      "\r",
      "Epoch 0::  64%|██████▍   | 32/50 [00:03<00:02,  8.28it/s, model/all/train/loss=0.633, model/all/train/lr=0.0001]"
     ]
    },
    {
     "name": "stderr",
     "output_type": "stream",
     "text": [
      "\r",
      "Epoch 0::  64%|██████▍   | 32/50 [00:03<00:02,  8.28it/s, model/all/train/loss=0.632, model/all/train/lr=0.0001]"
     ]
    },
    {
     "name": "stderr",
     "output_type": "stream",
     "text": [
      "\r",
      "Epoch 0::  66%|██████▌   | 33/50 [00:03<00:02,  8.36it/s, model/all/train/loss=0.632, model/all/train/lr=0.0001]"
     ]
    },
    {
     "name": "stderr",
     "output_type": "stream",
     "text": [
      "\r",
      "Epoch 0::  66%|██████▌   | 33/50 [00:04<00:02,  8.36it/s, model/all/train/loss=0.632, model/all/train/lr=0.0001]"
     ]
    },
    {
     "name": "stderr",
     "output_type": "stream",
     "text": [
      "\r",
      "Epoch 0::  68%|██████▊   | 34/50 [00:04<00:01,  8.44it/s, model/all/train/loss=0.632, model/all/train/lr=0.0001]"
     ]
    },
    {
     "name": "stderr",
     "output_type": "stream",
     "text": [
      "\r",
      "Epoch 0::  68%|██████▊   | 34/50 [00:04<00:01,  8.44it/s, model/all/train/loss=0.631, model/all/train/lr=0.0001]"
     ]
    },
    {
     "name": "stderr",
     "output_type": "stream",
     "text": [
      "\r",
      "Epoch 0::  70%|███████   | 35/50 [00:04<00:01,  8.49it/s, model/all/train/loss=0.631, model/all/train/lr=0.0001]"
     ]
    },
    {
     "name": "stderr",
     "output_type": "stream",
     "text": [
      "\r",
      "Epoch 0::  70%|███████   | 35/50 [00:04<00:01,  8.49it/s, model/all/train/loss=0.63, model/all/train/lr=0.0001] "
     ]
    },
    {
     "name": "stderr",
     "output_type": "stream",
     "text": [
      "\r",
      "Epoch 0::  72%|███████▏  | 36/50 [00:04<00:01,  8.52it/s, model/all/train/loss=0.63, model/all/train/lr=0.0001]"
     ]
    },
    {
     "name": "stderr",
     "output_type": "stream",
     "text": [
      "\r",
      "Epoch 0::  72%|███████▏  | 36/50 [00:04<00:01,  8.52it/s, model/all/train/loss=0.627, model/all/train/lr=0.0001]"
     ]
    },
    {
     "name": "stderr",
     "output_type": "stream",
     "text": [
      "\r",
      "Epoch 0::  74%|███████▍  | 37/50 [00:04<00:01,  8.57it/s, model/all/train/loss=0.627, model/all/train/lr=0.0001]"
     ]
    },
    {
     "name": "stderr",
     "output_type": "stream",
     "text": [
      "\r",
      "Epoch 0::  74%|███████▍  | 37/50 [00:04<00:01,  8.57it/s, model/all/train/loss=0.624, model/all/train/lr=0.0001]"
     ]
    },
    {
     "name": "stderr",
     "output_type": "stream",
     "text": [
      "\r",
      "Epoch 0::  76%|███████▌  | 38/50 [00:04<00:01,  8.61it/s, model/all/train/loss=0.624, model/all/train/lr=0.0001]"
     ]
    },
    {
     "name": "stderr",
     "output_type": "stream",
     "text": [
      "\r",
      "Epoch 0::  76%|███████▌  | 38/50 [00:04<00:01,  8.61it/s, model/all/train/loss=0.621, model/all/train/lr=0.0001]"
     ]
    },
    {
     "name": "stderr",
     "output_type": "stream",
     "text": [
      "\r",
      "Epoch 0::  78%|███████▊  | 39/50 [00:04<00:01,  8.63it/s, model/all/train/loss=0.621, model/all/train/lr=0.0001]"
     ]
    },
    {
     "name": "stderr",
     "output_type": "stream",
     "text": [
      "\r",
      "Epoch 0::  78%|███████▊  | 39/50 [00:04<00:01,  8.63it/s, model/all/train/loss=0.621, model/all/train/lr=0.0001]"
     ]
    },
    {
     "name": "stderr",
     "output_type": "stream",
     "text": [
      "\r",
      "Epoch 0::  80%|████████  | 40/50 [00:04<00:01,  8.65it/s, model/all/train/loss=0.621, model/all/train/lr=0.0001]"
     ]
    },
    {
     "name": "stderr",
     "output_type": "stream",
     "text": [
      "\r",
      "Epoch 0::  80%|████████  | 40/50 [00:04<00:01,  8.65it/s, model/all/train/loss=0.62, model/all/train/lr=0.0001] "
     ]
    },
    {
     "name": "stderr",
     "output_type": "stream",
     "text": [
      "\r",
      "Epoch 0::  82%|████████▏ | 41/50 [00:04<00:01,  8.24it/s, model/all/train/loss=0.62, model/all/train/lr=0.0001]"
     ]
    },
    {
     "name": "stderr",
     "output_type": "stream",
     "text": [
      "\r",
      "Epoch 0::  82%|████████▏ | 41/50 [00:05<00:01,  8.24it/s, model/all/train/loss=0.619, model/all/train/lr=0.0001]"
     ]
    },
    {
     "name": "stderr",
     "output_type": "stream",
     "text": [
      "\r",
      "Epoch 0::  84%|████████▍ | 42/50 [00:05<00:00,  8.00it/s, model/all/train/loss=0.619, model/all/train/lr=0.0001]"
     ]
    },
    {
     "name": "stderr",
     "output_type": "stream",
     "text": [
      "\r",
      "Epoch 0::  84%|████████▍ | 42/50 [00:05<00:00,  8.00it/s, model/all/train/loss=0.617, model/all/train/lr=0.0001]"
     ]
    },
    {
     "name": "stderr",
     "output_type": "stream",
     "text": [
      "\r",
      "Epoch 0::  86%|████████▌ | 43/50 [00:05<00:00,  7.53it/s, model/all/train/loss=0.617, model/all/train/lr=0.0001]"
     ]
    },
    {
     "name": "stderr",
     "output_type": "stream",
     "text": [
      "\r",
      "Epoch 0::  86%|████████▌ | 43/50 [00:05<00:00,  7.53it/s, model/all/train/loss=0.617, model/all/train/lr=0.0001]"
     ]
    },
    {
     "name": "stderr",
     "output_type": "stream",
     "text": [
      "\r",
      "Epoch 0::  88%|████████▊ | 44/50 [00:05<00:00,  7.44it/s, model/all/train/loss=0.617, model/all/train/lr=0.0001]"
     ]
    },
    {
     "name": "stderr",
     "output_type": "stream",
     "text": [
      "\r",
      "Epoch 0::  88%|████████▊ | 44/50 [00:05<00:00,  7.44it/s, model/all/train/loss=0.615, model/all/train/lr=0.0001]"
     ]
    },
    {
     "name": "stderr",
     "output_type": "stream",
     "text": [
      "\r",
      "Epoch 0::  90%|█████████ | 45/50 [00:05<00:00,  7.45it/s, model/all/train/loss=0.615, model/all/train/lr=0.0001]"
     ]
    },
    {
     "name": "stderr",
     "output_type": "stream",
     "text": [
      "\r",
      "Epoch 0::  90%|█████████ | 45/50 [00:05<00:00,  7.45it/s, model/all/train/loss=0.614, model/all/train/lr=0.0001]"
     ]
    },
    {
     "name": "stderr",
     "output_type": "stream",
     "text": [
      "\r",
      "Epoch 0::  92%|█████████▏| 46/50 [00:05<00:00,  7.15it/s, model/all/train/loss=0.614, model/all/train/lr=0.0001]"
     ]
    },
    {
     "name": "stderr",
     "output_type": "stream",
     "text": [
      "\r",
      "Epoch 0::  92%|█████████▏| 46/50 [00:05<00:00,  7.15it/s, model/all/train/loss=0.614, model/all/train/lr=0.0001]"
     ]
    },
    {
     "name": "stderr",
     "output_type": "stream",
     "text": [
      "\r",
      "Epoch 0::  94%|█████████▍| 47/50 [00:05<00:00,  7.25it/s, model/all/train/loss=0.614, model/all/train/lr=0.0001]"
     ]
    },
    {
     "name": "stderr",
     "output_type": "stream",
     "text": [
      "\r",
      "Epoch 0::  94%|█████████▍| 47/50 [00:05<00:00,  7.25it/s, model/all/train/loss=0.613, model/all/train/lr=0.0001]"
     ]
    },
    {
     "name": "stderr",
     "output_type": "stream",
     "text": [
      "\r",
      "Epoch 0::  96%|█████████▌| 48/50 [00:05<00:00,  7.21it/s, model/all/train/loss=0.613, model/all/train/lr=0.0001]"
     ]
    },
    {
     "name": "stderr",
     "output_type": "stream",
     "text": [
      "\r",
      "Epoch 0::  96%|█████████▌| 48/50 [00:05<00:00,  7.21it/s, model/all/train/loss=0.611, model/all/train/lr=0.0001]"
     ]
    },
    {
     "name": "stderr",
     "output_type": "stream",
     "text": [
      "\r",
      "Epoch 0::  98%|█████████▊| 49/50 [00:05<00:00,  7.29it/s, model/all/train/loss=0.611, model/all/train/lr=0.0001]"
     ]
    },
    {
     "name": "stderr",
     "output_type": "stream",
     "text": [
      "\r",
      "Epoch 0::  98%|█████████▊| 49/50 [00:06<00:00,  7.29it/s, model/all/train/loss=0.61, model/all/train/lr=0.0001, spam_task/spam_dataset/valid/accuracy=0.9, spam_task/spam_dataset/valid/f1=0.898]"
     ]
    },
    {
     "name": "stderr",
     "output_type": "stream",
     "text": [
      "\r",
      "Epoch 0:: 100%|██████████| 50/50 [00:06<00:00,  6.98it/s, model/all/train/loss=0.61, model/all/train/lr=0.0001, spam_task/spam_dataset/valid/accuracy=0.9, spam_task/spam_dataset/valid/f1=0.898]"
     ]
    },
    {
     "name": "stderr",
     "output_type": "stream",
     "text": [
      "\n",
      "\r",
      "Epoch 1::   0%|          | 0/50 [00:00<?, ?it/s]"
     ]
    },
    {
     "name": "stderr",
     "output_type": "stream",
     "text": [
      "\r",
      "Epoch 1::   0%|          | 0/50 [00:00<?, ?it/s, model/all/train/loss=0.523, model/all/train/lr=0.0001, spam_task/spam_dataset/valid/accuracy=0.9, spam_task/spam_dataset/valid/f1=0.898]"
     ]
    },
    {
     "name": "stderr",
     "output_type": "stream",
     "text": [
      "\r",
      "Epoch 1::   2%|▏         | 1/50 [00:00<00:06,  7.60it/s, model/all/train/loss=0.523, model/all/train/lr=0.0001, spam_task/spam_dataset/valid/accuracy=0.9, spam_task/spam_dataset/valid/f1=0.898]"
     ]
    },
    {
     "name": "stderr",
     "output_type": "stream",
     "text": [
      "\r",
      "Epoch 1::   2%|▏         | 1/50 [00:00<00:06,  7.60it/s, model/all/train/loss=0.514, model/all/train/lr=0.0001, spam_task/spam_dataset/valid/accuracy=0.9, spam_task/spam_dataset/valid/f1=0.898]"
     ]
    },
    {
     "name": "stderr",
     "output_type": "stream",
     "text": [
      "\r",
      "Epoch 1::   4%|▍         | 2/50 [00:00<00:06,  7.61it/s, model/all/train/loss=0.514, model/all/train/lr=0.0001, spam_task/spam_dataset/valid/accuracy=0.9, spam_task/spam_dataset/valid/f1=0.898]"
     ]
    },
    {
     "name": "stderr",
     "output_type": "stream",
     "text": [
      "\r",
      "Epoch 1::   4%|▍         | 2/50 [00:00<00:06,  7.61it/s, model/all/train/loss=0.501, model/all/train/lr=0.0001, spam_task/spam_dataset/valid/accuracy=0.9, spam_task/spam_dataset/valid/f1=0.898]"
     ]
    },
    {
     "name": "stderr",
     "output_type": "stream",
     "text": [
      "\r",
      "Epoch 1::   6%|▌         | 3/50 [00:00<00:06,  7.55it/s, model/all/train/loss=0.501, model/all/train/lr=0.0001, spam_task/spam_dataset/valid/accuracy=0.9, spam_task/spam_dataset/valid/f1=0.898]"
     ]
    },
    {
     "name": "stderr",
     "output_type": "stream",
     "text": [
      "\r",
      "Epoch 1::   6%|▌         | 3/50 [00:00<00:06,  7.55it/s, model/all/train/loss=0.501, model/all/train/lr=0.0001, spam_task/spam_dataset/valid/accuracy=0.9, spam_task/spam_dataset/valid/f1=0.898]"
     ]
    },
    {
     "name": "stderr",
     "output_type": "stream",
     "text": [
      "\r",
      "Epoch 1::   8%|▊         | 4/50 [00:00<00:06,  7.31it/s, model/all/train/loss=0.501, model/all/train/lr=0.0001, spam_task/spam_dataset/valid/accuracy=0.9, spam_task/spam_dataset/valid/f1=0.898]"
     ]
    },
    {
     "name": "stderr",
     "output_type": "stream",
     "text": [
      "\r",
      "Epoch 1::   8%|▊         | 4/50 [00:00<00:06,  7.31it/s, model/all/train/loss=0.507, model/all/train/lr=0.0001, spam_task/spam_dataset/valid/accuracy=0.9, spam_task/spam_dataset/valid/f1=0.898]"
     ]
    },
    {
     "name": "stderr",
     "output_type": "stream",
     "text": [
      "\r",
      "Epoch 1::  10%|█         | 5/50 [00:00<00:06,  7.35it/s, model/all/train/loss=0.507, model/all/train/lr=0.0001, spam_task/spam_dataset/valid/accuracy=0.9, spam_task/spam_dataset/valid/f1=0.898]"
     ]
    },
    {
     "name": "stderr",
     "output_type": "stream",
     "text": [
      "\r",
      "Epoch 1::  10%|█         | 5/50 [00:00<00:06,  7.35it/s, model/all/train/loss=0.509, model/all/train/lr=0.0001, spam_task/spam_dataset/valid/accuracy=0.9, spam_task/spam_dataset/valid/f1=0.898]"
     ]
    },
    {
     "name": "stderr",
     "output_type": "stream",
     "text": [
      "\r",
      "Epoch 1::  12%|█▏        | 6/50 [00:00<00:05,  7.41it/s, model/all/train/loss=0.509, model/all/train/lr=0.0001, spam_task/spam_dataset/valid/accuracy=0.9, spam_task/spam_dataset/valid/f1=0.898]"
     ]
    },
    {
     "name": "stderr",
     "output_type": "stream",
     "text": [
      "\r",
      "Epoch 1::  12%|█▏        | 6/50 [00:00<00:05,  7.41it/s, model/all/train/loss=0.506, model/all/train/lr=0.0001, spam_task/spam_dataset/valid/accuracy=0.9, spam_task/spam_dataset/valid/f1=0.898]"
     ]
    },
    {
     "name": "stderr",
     "output_type": "stream",
     "text": [
      "\r",
      "Epoch 1::  14%|█▍        | 7/50 [00:00<00:05,  7.46it/s, model/all/train/loss=0.506, model/all/train/lr=0.0001, spam_task/spam_dataset/valid/accuracy=0.9, spam_task/spam_dataset/valid/f1=0.898]"
     ]
    },
    {
     "name": "stderr",
     "output_type": "stream",
     "text": [
      "\r",
      "Epoch 1::  14%|█▍        | 7/50 [00:01<00:05,  7.46it/s, model/all/train/loss=0.491, model/all/train/lr=0.0001, spam_task/spam_dataset/valid/accuracy=0.9, spam_task/spam_dataset/valid/f1=0.898]"
     ]
    },
    {
     "name": "stderr",
     "output_type": "stream",
     "text": [
      "\r",
      "Epoch 1::  16%|█▌        | 8/50 [00:01<00:05,  7.29it/s, model/all/train/loss=0.491, model/all/train/lr=0.0001, spam_task/spam_dataset/valid/accuracy=0.9, spam_task/spam_dataset/valid/f1=0.898]"
     ]
    },
    {
     "name": "stderr",
     "output_type": "stream",
     "text": [
      "\r",
      "Epoch 1::  16%|█▌        | 8/50 [00:01<00:05,  7.29it/s, model/all/train/loss=0.489, model/all/train/lr=0.0001, spam_task/spam_dataset/valid/accuracy=0.9, spam_task/spam_dataset/valid/f1=0.898]"
     ]
    },
    {
     "name": "stderr",
     "output_type": "stream",
     "text": [
      "\r",
      "Epoch 1::  18%|█▊        | 9/50 [00:01<00:05,  7.37it/s, model/all/train/loss=0.489, model/all/train/lr=0.0001, spam_task/spam_dataset/valid/accuracy=0.9, spam_task/spam_dataset/valid/f1=0.898]"
     ]
    },
    {
     "name": "stderr",
     "output_type": "stream",
     "text": [
      "\r",
      "Epoch 1::  18%|█▊        | 9/50 [00:01<00:05,  7.37it/s, model/all/train/loss=0.485, model/all/train/lr=0.0001, spam_task/spam_dataset/valid/accuracy=0.9, spam_task/spam_dataset/valid/f1=0.898]"
     ]
    },
    {
     "name": "stderr",
     "output_type": "stream",
     "text": [
      "\r",
      "Epoch 1::  20%|██        | 10/50 [00:01<00:05,  7.39it/s, model/all/train/loss=0.485, model/all/train/lr=0.0001, spam_task/spam_dataset/valid/accuracy=0.9, spam_task/spam_dataset/valid/f1=0.898]"
     ]
    },
    {
     "name": "stderr",
     "output_type": "stream",
     "text": [
      "\r",
      "Epoch 1::  20%|██        | 10/50 [00:01<00:05,  7.39it/s, model/all/train/loss=0.482, model/all/train/lr=0.0001, spam_task/spam_dataset/valid/accuracy=0.9, spam_task/spam_dataset/valid/f1=0.898]"
     ]
    },
    {
     "name": "stderr",
     "output_type": "stream",
     "text": [
      "\r",
      "Epoch 1::  22%|██▏       | 11/50 [00:01<00:05,  7.43it/s, model/all/train/loss=0.482, model/all/train/lr=0.0001, spam_task/spam_dataset/valid/accuracy=0.9, spam_task/spam_dataset/valid/f1=0.898]"
     ]
    },
    {
     "name": "stderr",
     "output_type": "stream",
     "text": [
      "\r",
      "Epoch 1::  22%|██▏       | 11/50 [00:01<00:05,  7.43it/s, model/all/train/loss=0.48, model/all/train/lr=0.0001, spam_task/spam_dataset/valid/accuracy=0.9, spam_task/spam_dataset/valid/f1=0.898] "
     ]
    },
    {
     "name": "stderr",
     "output_type": "stream",
     "text": [
      "\r",
      "Epoch 1::  24%|██▍       | 12/50 [00:01<00:05,  7.48it/s, model/all/train/loss=0.48, model/all/train/lr=0.0001, spam_task/spam_dataset/valid/accuracy=0.9, spam_task/spam_dataset/valid/f1=0.898]"
     ]
    },
    {
     "name": "stderr",
     "output_type": "stream",
     "text": [
      "\r",
      "Epoch 1::  24%|██▍       | 12/50 [00:01<00:05,  7.48it/s, model/all/train/loss=0.477, model/all/train/lr=0.0001, spam_task/spam_dataset/valid/accuracy=0.9, spam_task/spam_dataset/valid/f1=0.898]"
     ]
    },
    {
     "name": "stderr",
     "output_type": "stream",
     "text": [
      "\r",
      "Epoch 1::  26%|██▌       | 13/50 [00:01<00:04,  7.47it/s, model/all/train/loss=0.477, model/all/train/lr=0.0001, spam_task/spam_dataset/valid/accuracy=0.9, spam_task/spam_dataset/valid/f1=0.898]"
     ]
    },
    {
     "name": "stderr",
     "output_type": "stream",
     "text": [
      "\r",
      "Epoch 1::  26%|██▌       | 13/50 [00:01<00:04,  7.47it/s, model/all/train/loss=0.478, model/all/train/lr=0.0001, spam_task/spam_dataset/valid/accuracy=0.9, spam_task/spam_dataset/valid/f1=0.898]"
     ]
    },
    {
     "name": "stderr",
     "output_type": "stream",
     "text": [
      "\r",
      "Epoch 1::  28%|██▊       | 14/50 [00:01<00:04,  7.52it/s, model/all/train/loss=0.478, model/all/train/lr=0.0001, spam_task/spam_dataset/valid/accuracy=0.9, spam_task/spam_dataset/valid/f1=0.898]"
     ]
    },
    {
     "name": "stderr",
     "output_type": "stream",
     "text": [
      "\r",
      "Epoch 1::  28%|██▊       | 14/50 [00:02<00:04,  7.52it/s, model/all/train/loss=0.473, model/all/train/lr=0.0001, spam_task/spam_dataset/valid/accuracy=0.9, spam_task/spam_dataset/valid/f1=0.898]"
     ]
    },
    {
     "name": "stderr",
     "output_type": "stream",
     "text": [
      "\r",
      "Epoch 1::  30%|███       | 15/50 [00:02<00:04,  7.31it/s, model/all/train/loss=0.473, model/all/train/lr=0.0001, spam_task/spam_dataset/valid/accuracy=0.9, spam_task/spam_dataset/valid/f1=0.898]"
     ]
    },
    {
     "name": "stderr",
     "output_type": "stream",
     "text": [
      "\r",
      "Epoch 1::  30%|███       | 15/50 [00:02<00:04,  7.31it/s, model/all/train/loss=0.475, model/all/train/lr=0.0001, spam_task/spam_dataset/valid/accuracy=0.9, spam_task/spam_dataset/valid/f1=0.898]"
     ]
    },
    {
     "name": "stderr",
     "output_type": "stream",
     "text": [
      "\r",
      "Epoch 1::  32%|███▏      | 16/50 [00:02<00:04,  7.27it/s, model/all/train/loss=0.475, model/all/train/lr=0.0001, spam_task/spam_dataset/valid/accuracy=0.9, spam_task/spam_dataset/valid/f1=0.898]"
     ]
    },
    {
     "name": "stderr",
     "output_type": "stream",
     "text": [
      "\r",
      "Epoch 1::  32%|███▏      | 16/50 [00:02<00:04,  7.27it/s, model/all/train/loss=0.473, model/all/train/lr=0.0001, spam_task/spam_dataset/valid/accuracy=0.9, spam_task/spam_dataset/valid/f1=0.898]"
     ]
    },
    {
     "name": "stderr",
     "output_type": "stream",
     "text": [
      "\r",
      "Epoch 1::  34%|███▍      | 17/50 [00:02<00:04,  7.60it/s, model/all/train/loss=0.473, model/all/train/lr=0.0001, spam_task/spam_dataset/valid/accuracy=0.9, spam_task/spam_dataset/valid/f1=0.898]"
     ]
    },
    {
     "name": "stderr",
     "output_type": "stream",
     "text": [
      "\r",
      "Epoch 1::  34%|███▍      | 17/50 [00:02<00:04,  7.60it/s, model/all/train/loss=0.47, model/all/train/lr=0.0001, spam_task/spam_dataset/valid/accuracy=0.9, spam_task/spam_dataset/valid/f1=0.898] "
     ]
    },
    {
     "name": "stderr",
     "output_type": "stream",
     "text": [
      "\r",
      "Epoch 1::  36%|███▌      | 18/50 [00:02<00:04,  7.87it/s, model/all/train/loss=0.47, model/all/train/lr=0.0001, spam_task/spam_dataset/valid/accuracy=0.9, spam_task/spam_dataset/valid/f1=0.898]"
     ]
    },
    {
     "name": "stderr",
     "output_type": "stream",
     "text": [
      "\r",
      "Epoch 1::  36%|███▌      | 18/50 [00:02<00:04,  7.87it/s, model/all/train/loss=0.466, model/all/train/lr=0.0001, spam_task/spam_dataset/valid/accuracy=0.9, spam_task/spam_dataset/valid/f1=0.898]"
     ]
    },
    {
     "name": "stderr",
     "output_type": "stream",
     "text": [
      "\r",
      "Epoch 1::  38%|███▊      | 19/50 [00:02<00:03,  8.07it/s, model/all/train/loss=0.466, model/all/train/lr=0.0001, spam_task/spam_dataset/valid/accuracy=0.9, spam_task/spam_dataset/valid/f1=0.898]"
     ]
    },
    {
     "name": "stderr",
     "output_type": "stream",
     "text": [
      "\r",
      "Epoch 1::  38%|███▊      | 19/50 [00:02<00:03,  8.07it/s, model/all/train/loss=0.464, model/all/train/lr=0.0001, spam_task/spam_dataset/valid/accuracy=0.9, spam_task/spam_dataset/valid/f1=0.898]"
     ]
    },
    {
     "name": "stderr",
     "output_type": "stream",
     "text": [
      "\r",
      "Epoch 1::  40%|████      | 20/50 [00:02<00:03,  8.19it/s, model/all/train/loss=0.464, model/all/train/lr=0.0001, spam_task/spam_dataset/valid/accuracy=0.9, spam_task/spam_dataset/valid/f1=0.898]"
     ]
    },
    {
     "name": "stderr",
     "output_type": "stream",
     "text": [
      "\r",
      "Epoch 1::  40%|████      | 20/50 [00:02<00:03,  8.19it/s, model/all/train/loss=0.462, model/all/train/lr=0.0001, spam_task/spam_dataset/valid/accuracy=0.9, spam_task/spam_dataset/valid/f1=0.898]"
     ]
    },
    {
     "name": "stderr",
     "output_type": "stream",
     "text": [
      "\r",
      "Epoch 1::  42%|████▏     | 21/50 [00:02<00:03,  7.68it/s, model/all/train/loss=0.462, model/all/train/lr=0.0001, spam_task/spam_dataset/valid/accuracy=0.9, spam_task/spam_dataset/valid/f1=0.898]"
     ]
    },
    {
     "name": "stderr",
     "output_type": "stream",
     "text": [
      "\r",
      "Epoch 1::  42%|████▏     | 21/50 [00:02<00:03,  7.68it/s, model/all/train/loss=0.461, model/all/train/lr=0.0001, spam_task/spam_dataset/valid/accuracy=0.9, spam_task/spam_dataset/valid/f1=0.898]"
     ]
    },
    {
     "name": "stderr",
     "output_type": "stream",
     "text": [
      "\r",
      "Epoch 1::  44%|████▍     | 22/50 [00:02<00:03,  7.64it/s, model/all/train/loss=0.461, model/all/train/lr=0.0001, spam_task/spam_dataset/valid/accuracy=0.9, spam_task/spam_dataset/valid/f1=0.898]"
     ]
    },
    {
     "name": "stderr",
     "output_type": "stream",
     "text": [
      "\r",
      "Epoch 1::  44%|████▍     | 22/50 [00:03<00:03,  7.64it/s, model/all/train/loss=0.459, model/all/train/lr=0.0001, spam_task/spam_dataset/valid/accuracy=0.9, spam_task/spam_dataset/valid/f1=0.898]"
     ]
    },
    {
     "name": "stderr",
     "output_type": "stream",
     "text": [
      "\r",
      "Epoch 1::  46%|████▌     | 23/50 [00:03<00:03,  7.40it/s, model/all/train/loss=0.459, model/all/train/lr=0.0001, spam_task/spam_dataset/valid/accuracy=0.9, spam_task/spam_dataset/valid/f1=0.898]"
     ]
    },
    {
     "name": "stderr",
     "output_type": "stream",
     "text": [
      "\r",
      "Epoch 1::  46%|████▌     | 23/50 [00:03<00:03,  7.40it/s, model/all/train/loss=0.456, model/all/train/lr=0.0001, spam_task/spam_dataset/valid/accuracy=0.9, spam_task/spam_dataset/valid/f1=0.898]"
     ]
    },
    {
     "name": "stderr",
     "output_type": "stream",
     "text": [
      "\r",
      "Epoch 1::  48%|████▊     | 24/50 [00:03<00:03,  7.80it/s, model/all/train/loss=0.456, model/all/train/lr=0.0001, spam_task/spam_dataset/valid/accuracy=0.9, spam_task/spam_dataset/valid/f1=0.898]"
     ]
    },
    {
     "name": "stderr",
     "output_type": "stream",
     "text": [
      "\r",
      "Epoch 1::  48%|████▊     | 24/50 [00:03<00:03,  7.80it/s, model/all/train/loss=0.456, model/all/train/lr=0.0001, spam_task/spam_dataset/valid/accuracy=0.9, spam_task/spam_dataset/valid/f1=0.898]"
     ]
    },
    {
     "name": "stderr",
     "output_type": "stream",
     "text": [
      "\r",
      "Epoch 1::  50%|█████     | 25/50 [00:03<00:03,  8.10it/s, model/all/train/loss=0.456, model/all/train/lr=0.0001, spam_task/spam_dataset/valid/accuracy=0.9, spam_task/spam_dataset/valid/f1=0.898]"
     ]
    },
    {
     "name": "stderr",
     "output_type": "stream",
     "text": [
      "\r",
      "Epoch 1::  50%|█████     | 25/50 [00:03<00:03,  8.10it/s, model/all/train/loss=0.454, model/all/train/lr=0.0001, spam_task/spam_dataset/valid/accuracy=0.9, spam_task/spam_dataset/valid/f1=0.898]"
     ]
    },
    {
     "name": "stderr",
     "output_type": "stream",
     "text": [
      "\r",
      "Epoch 1::  52%|█████▏    | 26/50 [00:03<00:02,  8.34it/s, model/all/train/loss=0.454, model/all/train/lr=0.0001, spam_task/spam_dataset/valid/accuracy=0.9, spam_task/spam_dataset/valid/f1=0.898]"
     ]
    },
    {
     "name": "stderr",
     "output_type": "stream",
     "text": [
      "\r",
      "Epoch 1::  52%|█████▏    | 26/50 [00:03<00:02,  8.34it/s, model/all/train/loss=0.451, model/all/train/lr=0.0001, spam_task/spam_dataset/valid/accuracy=0.9, spam_task/spam_dataset/valid/f1=0.898]"
     ]
    },
    {
     "name": "stderr",
     "output_type": "stream",
     "text": [
      "\r",
      "Epoch 1::  54%|█████▍    | 27/50 [00:03<00:02,  8.50it/s, model/all/train/loss=0.451, model/all/train/lr=0.0001, spam_task/spam_dataset/valid/accuracy=0.9, spam_task/spam_dataset/valid/f1=0.898]"
     ]
    },
    {
     "name": "stderr",
     "output_type": "stream",
     "text": [
      "\r",
      "Epoch 1::  54%|█████▍    | 27/50 [00:03<00:02,  8.50it/s, model/all/train/loss=0.449, model/all/train/lr=0.0001, spam_task/spam_dataset/valid/accuracy=0.9, spam_task/spam_dataset/valid/f1=0.898]"
     ]
    },
    {
     "name": "stderr",
     "output_type": "stream",
     "text": [
      "\r",
      "Epoch 1::  56%|█████▌    | 28/50 [00:03<00:02,  8.63it/s, model/all/train/loss=0.449, model/all/train/lr=0.0001, spam_task/spam_dataset/valid/accuracy=0.9, spam_task/spam_dataset/valid/f1=0.898]"
     ]
    },
    {
     "name": "stderr",
     "output_type": "stream",
     "text": [
      "\r",
      "Epoch 1::  56%|█████▌    | 28/50 [00:03<00:02,  8.63it/s, model/all/train/loss=0.447, model/all/train/lr=0.0001, spam_task/spam_dataset/valid/accuracy=0.9, spam_task/spam_dataset/valid/f1=0.898]"
     ]
    },
    {
     "name": "stderr",
     "output_type": "stream",
     "text": [
      "\r",
      "Epoch 1::  58%|█████▊    | 29/50 [00:03<00:02,  8.72it/s, model/all/train/loss=0.447, model/all/train/lr=0.0001, spam_task/spam_dataset/valid/accuracy=0.9, spam_task/spam_dataset/valid/f1=0.898]"
     ]
    },
    {
     "name": "stderr",
     "output_type": "stream",
     "text": [
      "\r",
      "Epoch 1::  58%|█████▊    | 29/50 [00:03<00:02,  8.72it/s, model/all/train/loss=0.445, model/all/train/lr=0.0001, spam_task/spam_dataset/valid/accuracy=0.9, spam_task/spam_dataset/valid/f1=0.898]"
     ]
    },
    {
     "name": "stderr",
     "output_type": "stream",
     "text": [
      "\r",
      "Epoch 1::  60%|██████    | 30/50 [00:03<00:02,  8.79it/s, model/all/train/loss=0.445, model/all/train/lr=0.0001, spam_task/spam_dataset/valid/accuracy=0.9, spam_task/spam_dataset/valid/f1=0.898]"
     ]
    },
    {
     "name": "stderr",
     "output_type": "stream",
     "text": [
      "\r",
      "Epoch 1::  60%|██████    | 30/50 [00:03<00:02,  8.79it/s, model/all/train/loss=0.444, model/all/train/lr=0.0001, spam_task/spam_dataset/valid/accuracy=0.9, spam_task/spam_dataset/valid/f1=0.898]"
     ]
    },
    {
     "name": "stderr",
     "output_type": "stream",
     "text": [
      "\r",
      "Epoch 1::  62%|██████▏   | 31/50 [00:03<00:02,  8.64it/s, model/all/train/loss=0.444, model/all/train/lr=0.0001, spam_task/spam_dataset/valid/accuracy=0.9, spam_task/spam_dataset/valid/f1=0.898]"
     ]
    },
    {
     "name": "stderr",
     "output_type": "stream",
     "text": [
      "\r",
      "Epoch 1::  62%|██████▏   | 31/50 [00:04<00:02,  8.64it/s, model/all/train/loss=0.445, model/all/train/lr=0.0001, spam_task/spam_dataset/valid/accuracy=0.9, spam_task/spam_dataset/valid/f1=0.898]"
     ]
    },
    {
     "name": "stderr",
     "output_type": "stream",
     "text": [
      "\r",
      "Epoch 1::  64%|██████▍   | 32/50 [00:04<00:02,  8.74it/s, model/all/train/loss=0.445, model/all/train/lr=0.0001, spam_task/spam_dataset/valid/accuracy=0.9, spam_task/spam_dataset/valid/f1=0.898]"
     ]
    },
    {
     "name": "stderr",
     "output_type": "stream",
     "text": [
      "\r",
      "Epoch 1::  64%|██████▍   | 32/50 [00:04<00:02,  8.74it/s, model/all/train/loss=0.445, model/all/train/lr=0.0001, spam_task/spam_dataset/valid/accuracy=0.9, spam_task/spam_dataset/valid/f1=0.898]"
     ]
    },
    {
     "name": "stderr",
     "output_type": "stream",
     "text": [
      "\r",
      "Epoch 1::  66%|██████▌   | 33/50 [00:04<00:01,  8.80it/s, model/all/train/loss=0.445, model/all/train/lr=0.0001, spam_task/spam_dataset/valid/accuracy=0.9, spam_task/spam_dataset/valid/f1=0.898]"
     ]
    },
    {
     "name": "stderr",
     "output_type": "stream",
     "text": [
      "\r",
      "Epoch 1::  66%|██████▌   | 33/50 [00:04<00:01,  8.80it/s, model/all/train/loss=0.443, model/all/train/lr=0.0001, spam_task/spam_dataset/valid/accuracy=0.9, spam_task/spam_dataset/valid/f1=0.898]"
     ]
    },
    {
     "name": "stderr",
     "output_type": "stream",
     "text": [
      "\r",
      "Epoch 1::  68%|██████▊   | 34/50 [00:04<00:01,  8.86it/s, model/all/train/loss=0.443, model/all/train/lr=0.0001, spam_task/spam_dataset/valid/accuracy=0.9, spam_task/spam_dataset/valid/f1=0.898]"
     ]
    },
    {
     "name": "stderr",
     "output_type": "stream",
     "text": [
      "\r",
      "Epoch 1::  68%|██████▊   | 34/50 [00:04<00:01,  8.86it/s, model/all/train/loss=0.441, model/all/train/lr=0.0001, spam_task/spam_dataset/valid/accuracy=0.9, spam_task/spam_dataset/valid/f1=0.898]"
     ]
    },
    {
     "name": "stderr",
     "output_type": "stream",
     "text": [
      "\r",
      "Epoch 1::  70%|███████   | 35/50 [00:04<00:01,  8.90it/s, model/all/train/loss=0.441, model/all/train/lr=0.0001, spam_task/spam_dataset/valid/accuracy=0.9, spam_task/spam_dataset/valid/f1=0.898]"
     ]
    },
    {
     "name": "stderr",
     "output_type": "stream",
     "text": [
      "\r",
      "Epoch 1::  70%|███████   | 35/50 [00:04<00:01,  8.90it/s, model/all/train/loss=0.441, model/all/train/lr=0.0001, spam_task/spam_dataset/valid/accuracy=0.9, spam_task/spam_dataset/valid/f1=0.898]"
     ]
    },
    {
     "name": "stderr",
     "output_type": "stream",
     "text": [
      "\r",
      "Epoch 1::  72%|███████▏  | 36/50 [00:04<00:01,  8.92it/s, model/all/train/loss=0.441, model/all/train/lr=0.0001, spam_task/spam_dataset/valid/accuracy=0.9, spam_task/spam_dataset/valid/f1=0.898]"
     ]
    },
    {
     "name": "stderr",
     "output_type": "stream",
     "text": [
      "\r",
      "Epoch 1::  72%|███████▏  | 36/50 [00:04<00:01,  8.92it/s, model/all/train/loss=0.44, model/all/train/lr=0.0001, spam_task/spam_dataset/valid/accuracy=0.9, spam_task/spam_dataset/valid/f1=0.898] "
     ]
    },
    {
     "name": "stderr",
     "output_type": "stream",
     "text": [
      "\r",
      "Epoch 1::  74%|███████▍  | 37/50 [00:04<00:01,  8.95it/s, model/all/train/loss=0.44, model/all/train/lr=0.0001, spam_task/spam_dataset/valid/accuracy=0.9, spam_task/spam_dataset/valid/f1=0.898]"
     ]
    },
    {
     "name": "stderr",
     "output_type": "stream",
     "text": [
      "\r",
      "Epoch 1::  74%|███████▍  | 37/50 [00:04<00:01,  8.95it/s, model/all/train/loss=0.438, model/all/train/lr=0.0001, spam_task/spam_dataset/valid/accuracy=0.9, spam_task/spam_dataset/valid/f1=0.898]"
     ]
    },
    {
     "name": "stderr",
     "output_type": "stream",
     "text": [
      "\r",
      "Epoch 1::  76%|███████▌  | 38/50 [00:04<00:01,  8.95it/s, model/all/train/loss=0.438, model/all/train/lr=0.0001, spam_task/spam_dataset/valid/accuracy=0.9, spam_task/spam_dataset/valid/f1=0.898]"
     ]
    },
    {
     "name": "stderr",
     "output_type": "stream",
     "text": [
      "\r",
      "Epoch 1::  76%|███████▌  | 38/50 [00:04<00:01,  8.95it/s, model/all/train/loss=0.436, model/all/train/lr=0.0001, spam_task/spam_dataset/valid/accuracy=0.9, spam_task/spam_dataset/valid/f1=0.898]"
     ]
    },
    {
     "name": "stderr",
     "output_type": "stream",
     "text": [
      "\r",
      "Epoch 1::  78%|███████▊  | 39/50 [00:04<00:01,  9.00it/s, model/all/train/loss=0.436, model/all/train/lr=0.0001, spam_task/spam_dataset/valid/accuracy=0.9, spam_task/spam_dataset/valid/f1=0.898]"
     ]
    },
    {
     "name": "stderr",
     "output_type": "stream",
     "text": [
      "\r",
      "Epoch 1::  78%|███████▊  | 39/50 [00:04<00:01,  9.00it/s, model/all/train/loss=0.435, model/all/train/lr=0.0001, spam_task/spam_dataset/valid/accuracy=0.9, spam_task/spam_dataset/valid/f1=0.898]"
     ]
    },
    {
     "name": "stderr",
     "output_type": "stream",
     "text": [
      "\r",
      "Epoch 1::  80%|████████  | 40/50 [00:04<00:01,  9.01it/s, model/all/train/loss=0.435, model/all/train/lr=0.0001, spam_task/spam_dataset/valid/accuracy=0.9, spam_task/spam_dataset/valid/f1=0.898]"
     ]
    },
    {
     "name": "stderr",
     "output_type": "stream",
     "text": [
      "\r",
      "Epoch 1::  80%|████████  | 40/50 [00:05<00:01,  9.01it/s, model/all/train/loss=0.433, model/all/train/lr=0.0001, spam_task/spam_dataset/valid/accuracy=0.9, spam_task/spam_dataset/valid/f1=0.898]"
     ]
    },
    {
     "name": "stderr",
     "output_type": "stream",
     "text": [
      "\r",
      "Epoch 1::  82%|████████▏ | 41/50 [00:05<00:00,  9.01it/s, model/all/train/loss=0.433, model/all/train/lr=0.0001, spam_task/spam_dataset/valid/accuracy=0.9, spam_task/spam_dataset/valid/f1=0.898]"
     ]
    },
    {
     "name": "stderr",
     "output_type": "stream",
     "text": [
      "\r",
      "Epoch 1::  82%|████████▏ | 41/50 [00:05<00:00,  9.01it/s, model/all/train/loss=0.431, model/all/train/lr=0.0001, spam_task/spam_dataset/valid/accuracy=0.9, spam_task/spam_dataset/valid/f1=0.898]"
     ]
    },
    {
     "name": "stderr",
     "output_type": "stream",
     "text": [
      "\r",
      "Epoch 1::  84%|████████▍ | 42/50 [00:05<00:00,  9.02it/s, model/all/train/loss=0.431, model/all/train/lr=0.0001, spam_task/spam_dataset/valid/accuracy=0.9, spam_task/spam_dataset/valid/f1=0.898]"
     ]
    },
    {
     "name": "stderr",
     "output_type": "stream",
     "text": [
      "\r",
      "Epoch 1::  84%|████████▍ | 42/50 [00:05<00:00,  9.02it/s, model/all/train/loss=0.431, model/all/train/lr=0.0001, spam_task/spam_dataset/valid/accuracy=0.9, spam_task/spam_dataset/valid/f1=0.898]"
     ]
    },
    {
     "name": "stderr",
     "output_type": "stream",
     "text": [
      "\r",
      "Epoch 1::  86%|████████▌ | 43/50 [00:05<00:00,  9.05it/s, model/all/train/loss=0.431, model/all/train/lr=0.0001, spam_task/spam_dataset/valid/accuracy=0.9, spam_task/spam_dataset/valid/f1=0.898]"
     ]
    },
    {
     "name": "stderr",
     "output_type": "stream",
     "text": [
      "\r",
      "Epoch 1::  86%|████████▌ | 43/50 [00:05<00:00,  9.05it/s, model/all/train/loss=0.429, model/all/train/lr=0.0001, spam_task/spam_dataset/valid/accuracy=0.9, spam_task/spam_dataset/valid/f1=0.898]"
     ]
    },
    {
     "name": "stderr",
     "output_type": "stream",
     "text": [
      "\r",
      "Epoch 1::  88%|████████▊ | 44/50 [00:05<00:00,  8.43it/s, model/all/train/loss=0.429, model/all/train/lr=0.0001, spam_task/spam_dataset/valid/accuracy=0.9, spam_task/spam_dataset/valid/f1=0.898]"
     ]
    },
    {
     "name": "stderr",
     "output_type": "stream",
     "text": [
      "\r",
      "Epoch 1::  88%|████████▊ | 44/50 [00:05<00:00,  8.43it/s, model/all/train/loss=0.427, model/all/train/lr=0.0001, spam_task/spam_dataset/valid/accuracy=0.9, spam_task/spam_dataset/valid/f1=0.898]"
     ]
    },
    {
     "name": "stderr",
     "output_type": "stream",
     "text": [
      "\r",
      "Epoch 1::  90%|█████████ | 45/50 [00:05<00:00,  8.16it/s, model/all/train/loss=0.427, model/all/train/lr=0.0001, spam_task/spam_dataset/valid/accuracy=0.9, spam_task/spam_dataset/valid/f1=0.898]"
     ]
    },
    {
     "name": "stderr",
     "output_type": "stream",
     "text": [
      "\r",
      "Epoch 1::  90%|█████████ | 45/50 [00:05<00:00,  8.16it/s, model/all/train/loss=0.425, model/all/train/lr=0.0001, spam_task/spam_dataset/valid/accuracy=0.9, spam_task/spam_dataset/valid/f1=0.898]"
     ]
    },
    {
     "name": "stderr",
     "output_type": "stream",
     "text": [
      "\r",
      "Epoch 1::  92%|█████████▏| 46/50 [00:05<00:00,  8.03it/s, model/all/train/loss=0.425, model/all/train/lr=0.0001, spam_task/spam_dataset/valid/accuracy=0.9, spam_task/spam_dataset/valid/f1=0.898]"
     ]
    },
    {
     "name": "stderr",
     "output_type": "stream",
     "text": [
      "\r",
      "Epoch 1::  92%|█████████▏| 46/50 [00:05<00:00,  8.03it/s, model/all/train/loss=0.423, model/all/train/lr=0.0001, spam_task/spam_dataset/valid/accuracy=0.9, spam_task/spam_dataset/valid/f1=0.898]"
     ]
    },
    {
     "name": "stderr",
     "output_type": "stream",
     "text": [
      "\r",
      "Epoch 1::  94%|█████████▍| 47/50 [00:05<00:00,  7.73it/s, model/all/train/loss=0.423, model/all/train/lr=0.0001, spam_task/spam_dataset/valid/accuracy=0.9, spam_task/spam_dataset/valid/f1=0.898]"
     ]
    },
    {
     "name": "stderr",
     "output_type": "stream",
     "text": [
      "\r",
      "Epoch 1::  94%|█████████▍| 47/50 [00:05<00:00,  7.73it/s, model/all/train/loss=0.42, model/all/train/lr=0.0001, spam_task/spam_dataset/valid/accuracy=0.9, spam_task/spam_dataset/valid/f1=0.898] "
     ]
    },
    {
     "name": "stderr",
     "output_type": "stream",
     "text": [
      "\r",
      "Epoch 1::  96%|█████████▌| 48/50 [00:05<00:00,  7.42it/s, model/all/train/loss=0.42, model/all/train/lr=0.0001, spam_task/spam_dataset/valid/accuracy=0.9, spam_task/spam_dataset/valid/f1=0.898]"
     ]
    },
    {
     "name": "stderr",
     "output_type": "stream",
     "text": [
      "\r",
      "Epoch 1::  96%|█████████▌| 48/50 [00:06<00:00,  7.42it/s, model/all/train/loss=0.417, model/all/train/lr=0.0001, spam_task/spam_dataset/valid/accuracy=0.9, spam_task/spam_dataset/valid/f1=0.898]"
     ]
    },
    {
     "name": "stderr",
     "output_type": "stream",
     "text": [
      "\r",
      "Epoch 1::  98%|█████████▊| 49/50 [00:06<00:00,  7.53it/s, model/all/train/loss=0.417, model/all/train/lr=0.0001, spam_task/spam_dataset/valid/accuracy=0.9, spam_task/spam_dataset/valid/f1=0.898]"
     ]
    },
    {
     "name": "stderr",
     "output_type": "stream",
     "text": [
      "\r",
      "Epoch 1::  98%|█████████▊| 49/50 [00:06<00:00,  7.53it/s, model/all/train/loss=0.416, model/all/train/lr=0.0001, spam_task/spam_dataset/valid/accuracy=0.942, spam_task/spam_dataset/valid/f1=0.933]"
     ]
    },
    {
     "name": "stderr",
     "output_type": "stream",
     "text": [
      "\r",
      "Epoch 1:: 100%|██████████| 50/50 [00:06<00:00,  7.22it/s, model/all/train/loss=0.416, model/all/train/lr=0.0001, spam_task/spam_dataset/valid/accuracy=0.942, spam_task/spam_dataset/valid/f1=0.933]"
     ]
    },
    {
     "name": "stderr",
     "output_type": "stream",
     "text": [
      "\n",
      "\r",
      "Epoch 2::   0%|          | 0/50 [00:00<?, ?it/s]"
     ]
    },
    {
     "name": "stderr",
     "output_type": "stream",
     "text": [
      "\r",
      "Epoch 2::   0%|          | 0/50 [00:00<?, ?it/s, model/all/train/loss=0.33, model/all/train/lr=0.0001, spam_task/spam_dataset/valid/accuracy=0.942, spam_task/spam_dataset/valid/f1=0.933]"
     ]
    },
    {
     "name": "stderr",
     "output_type": "stream",
     "text": [
      "\r",
      "Epoch 2::   2%|▏         | 1/50 [00:00<00:07,  6.95it/s, model/all/train/loss=0.33, model/all/train/lr=0.0001, spam_task/spam_dataset/valid/accuracy=0.942, spam_task/spam_dataset/valid/f1=0.933]"
     ]
    },
    {
     "name": "stderr",
     "output_type": "stream",
     "text": [
      "\r",
      "Epoch 2::   2%|▏         | 1/50 [00:00<00:07,  6.95it/s, model/all/train/loss=0.327, model/all/train/lr=0.0001, spam_task/spam_dataset/valid/accuracy=0.942, spam_task/spam_dataset/valid/f1=0.933]"
     ]
    },
    {
     "name": "stderr",
     "output_type": "stream",
     "text": [
      "\r",
      "Epoch 2::   4%|▍         | 2/50 [00:00<00:06,  7.08it/s, model/all/train/loss=0.327, model/all/train/lr=0.0001, spam_task/spam_dataset/valid/accuracy=0.942, spam_task/spam_dataset/valid/f1=0.933]"
     ]
    },
    {
     "name": "stderr",
     "output_type": "stream",
     "text": [
      "\r",
      "Epoch 2::   4%|▍         | 2/50 [00:00<00:06,  7.08it/s, model/all/train/loss=0.298, model/all/train/lr=0.0001, spam_task/spam_dataset/valid/accuracy=0.942, spam_task/spam_dataset/valid/f1=0.933]"
     ]
    },
    {
     "name": "stderr",
     "output_type": "stream",
     "text": [
      "\r",
      "Epoch 2::   6%|▌         | 3/50 [00:00<00:06,  7.30it/s, model/all/train/loss=0.298, model/all/train/lr=0.0001, spam_task/spam_dataset/valid/accuracy=0.942, spam_task/spam_dataset/valid/f1=0.933]"
     ]
    },
    {
     "name": "stderr",
     "output_type": "stream",
     "text": [
      "\r",
      "Epoch 2::   6%|▌         | 3/50 [00:00<00:06,  7.30it/s, model/all/train/loss=0.298, model/all/train/lr=0.0001, spam_task/spam_dataset/valid/accuracy=0.942, spam_task/spam_dataset/valid/f1=0.933]"
     ]
    },
    {
     "name": "stderr",
     "output_type": "stream",
     "text": [
      "\r",
      "Epoch 2::   8%|▊         | 4/50 [00:00<00:06,  7.34it/s, model/all/train/loss=0.298, model/all/train/lr=0.0001, spam_task/spam_dataset/valid/accuracy=0.942, spam_task/spam_dataset/valid/f1=0.933]"
     ]
    },
    {
     "name": "stderr",
     "output_type": "stream",
     "text": [
      "\r",
      "Epoch 2::   8%|▊         | 4/50 [00:00<00:06,  7.34it/s, model/all/train/loss=0.312, model/all/train/lr=0.0001, spam_task/spam_dataset/valid/accuracy=0.942, spam_task/spam_dataset/valid/f1=0.933]"
     ]
    },
    {
     "name": "stderr",
     "output_type": "stream",
     "text": [
      "\r",
      "Epoch 2::  10%|█         | 5/50 [00:00<00:06,  7.47it/s, model/all/train/loss=0.312, model/all/train/lr=0.0001, spam_task/spam_dataset/valid/accuracy=0.942, spam_task/spam_dataset/valid/f1=0.933]"
     ]
    },
    {
     "name": "stderr",
     "output_type": "stream",
     "text": [
      "\r",
      "Epoch 2::  10%|█         | 5/50 [00:00<00:06,  7.47it/s, model/all/train/loss=0.313, model/all/train/lr=0.0001, spam_task/spam_dataset/valid/accuracy=0.942, spam_task/spam_dataset/valid/f1=0.933]"
     ]
    },
    {
     "name": "stderr",
     "output_type": "stream",
     "text": [
      "\r",
      "Epoch 2::  12%|█▏        | 6/50 [00:00<00:05,  7.60it/s, model/all/train/loss=0.313, model/all/train/lr=0.0001, spam_task/spam_dataset/valid/accuracy=0.942, spam_task/spam_dataset/valid/f1=0.933]"
     ]
    },
    {
     "name": "stderr",
     "output_type": "stream",
     "text": [
      "\r",
      "Epoch 2::  12%|█▏        | 6/50 [00:00<00:05,  7.60it/s, model/all/train/loss=0.309, model/all/train/lr=0.0001, spam_task/spam_dataset/valid/accuracy=0.942, spam_task/spam_dataset/valid/f1=0.933]"
     ]
    },
    {
     "name": "stderr",
     "output_type": "stream",
     "text": [
      "\r",
      "Epoch 2::  14%|█▍        | 7/50 [00:00<00:05,  7.63it/s, model/all/train/loss=0.309, model/all/train/lr=0.0001, spam_task/spam_dataset/valid/accuracy=0.942, spam_task/spam_dataset/valid/f1=0.933]"
     ]
    },
    {
     "name": "stderr",
     "output_type": "stream",
     "text": [
      "\r",
      "Epoch 2::  14%|█▍        | 7/50 [00:01<00:05,  7.63it/s, model/all/train/loss=0.304, model/all/train/lr=0.0001, spam_task/spam_dataset/valid/accuracy=0.942, spam_task/spam_dataset/valid/f1=0.933]"
     ]
    },
    {
     "name": "stderr",
     "output_type": "stream",
     "text": [
      "\r",
      "Epoch 2::  16%|█▌        | 8/50 [00:01<00:05,  7.64it/s, model/all/train/loss=0.304, model/all/train/lr=0.0001, spam_task/spam_dataset/valid/accuracy=0.942, spam_task/spam_dataset/valid/f1=0.933]"
     ]
    },
    {
     "name": "stderr",
     "output_type": "stream",
     "text": [
      "\r",
      "Epoch 2::  16%|█▌        | 8/50 [00:01<00:05,  7.64it/s, model/all/train/loss=0.308, model/all/train/lr=0.0001, spam_task/spam_dataset/valid/accuracy=0.942, spam_task/spam_dataset/valid/f1=0.933]"
     ]
    },
    {
     "name": "stderr",
     "output_type": "stream",
     "text": [
      "\r",
      "Epoch 2::  18%|█▊        | 9/50 [00:01<00:05,  7.67it/s, model/all/train/loss=0.308, model/all/train/lr=0.0001, spam_task/spam_dataset/valid/accuracy=0.942, spam_task/spam_dataset/valid/f1=0.933]"
     ]
    },
    {
     "name": "stderr",
     "output_type": "stream",
     "text": [
      "\r",
      "Epoch 2::  18%|█▊        | 9/50 [00:01<00:05,  7.67it/s, model/all/train/loss=0.306, model/all/train/lr=0.0001, spam_task/spam_dataset/valid/accuracy=0.942, spam_task/spam_dataset/valid/f1=0.933]"
     ]
    },
    {
     "name": "stderr",
     "output_type": "stream",
     "text": [
      "\r",
      "Epoch 2::  20%|██        | 10/50 [00:01<00:05,  7.39it/s, model/all/train/loss=0.306, model/all/train/lr=0.0001, spam_task/spam_dataset/valid/accuracy=0.942, spam_task/spam_dataset/valid/f1=0.933]"
     ]
    },
    {
     "name": "stderr",
     "output_type": "stream",
     "text": [
      "\r",
      "Epoch 2::  20%|██        | 10/50 [00:01<00:05,  7.39it/s, model/all/train/loss=0.301, model/all/train/lr=0.0001, spam_task/spam_dataset/valid/accuracy=0.942, spam_task/spam_dataset/valid/f1=0.933]"
     ]
    },
    {
     "name": "stderr",
     "output_type": "stream",
     "text": [
      "\r",
      "Epoch 2::  22%|██▏       | 11/50 [00:01<00:05,  7.16it/s, model/all/train/loss=0.301, model/all/train/lr=0.0001, spam_task/spam_dataset/valid/accuracy=0.942, spam_task/spam_dataset/valid/f1=0.933]"
     ]
    },
    {
     "name": "stderr",
     "output_type": "stream",
     "text": [
      "\r",
      "Epoch 2::  22%|██▏       | 11/50 [00:01<00:05,  7.16it/s, model/all/train/loss=0.305, model/all/train/lr=0.0001, spam_task/spam_dataset/valid/accuracy=0.942, spam_task/spam_dataset/valid/f1=0.933]"
     ]
    },
    {
     "name": "stderr",
     "output_type": "stream",
     "text": [
      "\r",
      "Epoch 2::  24%|██▍       | 12/50 [00:01<00:05,  7.20it/s, model/all/train/loss=0.305, model/all/train/lr=0.0001, spam_task/spam_dataset/valid/accuracy=0.942, spam_task/spam_dataset/valid/f1=0.933]"
     ]
    },
    {
     "name": "stderr",
     "output_type": "stream",
     "text": [
      "\r",
      "Epoch 2::  24%|██▍       | 12/50 [00:01<00:05,  7.20it/s, model/all/train/loss=0.304, model/all/train/lr=0.0001, spam_task/spam_dataset/valid/accuracy=0.942, spam_task/spam_dataset/valid/f1=0.933]"
     ]
    },
    {
     "name": "stderr",
     "output_type": "stream",
     "text": [
      "\r",
      "Epoch 2::  26%|██▌       | 13/50 [00:01<00:05,  7.23it/s, model/all/train/loss=0.304, model/all/train/lr=0.0001, spam_task/spam_dataset/valid/accuracy=0.942, spam_task/spam_dataset/valid/f1=0.933]"
     ]
    },
    {
     "name": "stderr",
     "output_type": "stream",
     "text": [
      "\r",
      "Epoch 2::  26%|██▌       | 13/50 [00:01<00:05,  7.23it/s, model/all/train/loss=0.296, model/all/train/lr=0.0001, spam_task/spam_dataset/valid/accuracy=0.942, spam_task/spam_dataset/valid/f1=0.933]"
     ]
    },
    {
     "name": "stderr",
     "output_type": "stream",
     "text": [
      "\r",
      "Epoch 2::  28%|██▊       | 14/50 [00:01<00:04,  7.39it/s, model/all/train/loss=0.296, model/all/train/lr=0.0001, spam_task/spam_dataset/valid/accuracy=0.942, spam_task/spam_dataset/valid/f1=0.933]"
     ]
    },
    {
     "name": "stderr",
     "output_type": "stream",
     "text": [
      "\r",
      "Epoch 2::  28%|██▊       | 14/50 [00:02<00:04,  7.39it/s, model/all/train/loss=0.295, model/all/train/lr=0.0001, spam_task/spam_dataset/valid/accuracy=0.942, spam_task/spam_dataset/valid/f1=0.933]"
     ]
    },
    {
     "name": "stderr",
     "output_type": "stream",
     "text": [
      "\r",
      "Epoch 2::  30%|███       | 15/50 [00:02<00:04,  7.48it/s, model/all/train/loss=0.295, model/all/train/lr=0.0001, spam_task/spam_dataset/valid/accuracy=0.942, spam_task/spam_dataset/valid/f1=0.933]"
     ]
    },
    {
     "name": "stderr",
     "output_type": "stream",
     "text": [
      "\r",
      "Epoch 2::  30%|███       | 15/50 [00:02<00:04,  7.48it/s, model/all/train/loss=0.29, model/all/train/lr=0.0001, spam_task/spam_dataset/valid/accuracy=0.942, spam_task/spam_dataset/valid/f1=0.933] "
     ]
    },
    {
     "name": "stderr",
     "output_type": "stream",
     "text": [
      "\r",
      "Epoch 2::  32%|███▏      | 16/50 [00:02<00:04,  7.35it/s, model/all/train/loss=0.29, model/all/train/lr=0.0001, spam_task/spam_dataset/valid/accuracy=0.942, spam_task/spam_dataset/valid/f1=0.933]"
     ]
    },
    {
     "name": "stderr",
     "output_type": "stream",
     "text": [
      "\r",
      "Epoch 2::  32%|███▏      | 16/50 [00:02<00:04,  7.35it/s, model/all/train/loss=0.295, model/all/train/lr=0.0001, spam_task/spam_dataset/valid/accuracy=0.942, spam_task/spam_dataset/valid/f1=0.933]"
     ]
    },
    {
     "name": "stderr",
     "output_type": "stream",
     "text": [
      "\r",
      "Epoch 2::  34%|███▍      | 17/50 [00:02<00:04,  7.45it/s, model/all/train/loss=0.295, model/all/train/lr=0.0001, spam_task/spam_dataset/valid/accuracy=0.942, spam_task/spam_dataset/valid/f1=0.933]"
     ]
    },
    {
     "name": "stderr",
     "output_type": "stream",
     "text": [
      "\r",
      "Epoch 2::  34%|███▍      | 17/50 [00:02<00:04,  7.45it/s, model/all/train/loss=0.294, model/all/train/lr=0.0001, spam_task/spam_dataset/valid/accuracy=0.942, spam_task/spam_dataset/valid/f1=0.933]"
     ]
    },
    {
     "name": "stderr",
     "output_type": "stream",
     "text": [
      "\r",
      "Epoch 2::  36%|███▌      | 18/50 [00:02<00:04,  7.48it/s, model/all/train/loss=0.294, model/all/train/lr=0.0001, spam_task/spam_dataset/valid/accuracy=0.942, spam_task/spam_dataset/valid/f1=0.933]"
     ]
    },
    {
     "name": "stderr",
     "output_type": "stream",
     "text": [
      "\r",
      "Epoch 2::  36%|███▌      | 18/50 [00:02<00:04,  7.48it/s, model/all/train/loss=0.289, model/all/train/lr=0.0001, spam_task/spam_dataset/valid/accuracy=0.942, spam_task/spam_dataset/valid/f1=0.933]"
     ]
    },
    {
     "name": "stderr",
     "output_type": "stream",
     "text": [
      "\r",
      "Epoch 2::  38%|███▊      | 19/50 [00:02<00:04,  7.49it/s, model/all/train/loss=0.289, model/all/train/lr=0.0001, spam_task/spam_dataset/valid/accuracy=0.942, spam_task/spam_dataset/valid/f1=0.933]"
     ]
    },
    {
     "name": "stderr",
     "output_type": "stream",
     "text": [
      "\r",
      "Epoch 2::  38%|███▊      | 19/50 [00:02<00:04,  7.49it/s, model/all/train/loss=0.286, model/all/train/lr=0.0001, spam_task/spam_dataset/valid/accuracy=0.942, spam_task/spam_dataset/valid/f1=0.933]"
     ]
    },
    {
     "name": "stderr",
     "output_type": "stream",
     "text": [
      "\r",
      "Epoch 2::  40%|████      | 20/50 [00:02<00:03,  7.60it/s, model/all/train/loss=0.286, model/all/train/lr=0.0001, spam_task/spam_dataset/valid/accuracy=0.942, spam_task/spam_dataset/valid/f1=0.933]"
     ]
    },
    {
     "name": "stderr",
     "output_type": "stream",
     "text": [
      "\r",
      "Epoch 2::  40%|████      | 20/50 [00:02<00:03,  7.60it/s, model/all/train/loss=0.284, model/all/train/lr=0.0001, spam_task/spam_dataset/valid/accuracy=0.942, spam_task/spam_dataset/valid/f1=0.933]"
     ]
    },
    {
     "name": "stderr",
     "output_type": "stream",
     "text": [
      "\r",
      "Epoch 2::  42%|████▏     | 21/50 [00:02<00:03,  7.62it/s, model/all/train/loss=0.284, model/all/train/lr=0.0001, spam_task/spam_dataset/valid/accuracy=0.942, spam_task/spam_dataset/valid/f1=0.933]"
     ]
    },
    {
     "name": "stderr",
     "output_type": "stream",
     "text": [
      "\r",
      "Epoch 2::  42%|████▏     | 21/50 [00:02<00:03,  7.62it/s, model/all/train/loss=0.286, model/all/train/lr=0.0001, spam_task/spam_dataset/valid/accuracy=0.942, spam_task/spam_dataset/valid/f1=0.933]"
     ]
    },
    {
     "name": "stderr",
     "output_type": "stream",
     "text": [
      "\r",
      "Epoch 2::  44%|████▍     | 22/50 [00:02<00:03,  7.63it/s, model/all/train/loss=0.286, model/all/train/lr=0.0001, spam_task/spam_dataset/valid/accuracy=0.942, spam_task/spam_dataset/valid/f1=0.933]"
     ]
    },
    {
     "name": "stderr",
     "output_type": "stream",
     "text": [
      "\r",
      "Epoch 2::  44%|████▍     | 22/50 [00:03<00:03,  7.63it/s, model/all/train/loss=0.283, model/all/train/lr=0.0001, spam_task/spam_dataset/valid/accuracy=0.942, spam_task/spam_dataset/valid/f1=0.933]"
     ]
    },
    {
     "name": "stderr",
     "output_type": "stream",
     "text": [
      "\r",
      "Epoch 2::  46%|████▌     | 23/50 [00:03<00:03,  7.64it/s, model/all/train/loss=0.283, model/all/train/lr=0.0001, spam_task/spam_dataset/valid/accuracy=0.942, spam_task/spam_dataset/valid/f1=0.933]"
     ]
    },
    {
     "name": "stderr",
     "output_type": "stream",
     "text": [
      "\r",
      "Epoch 2::  46%|████▌     | 23/50 [00:03<00:03,  7.64it/s, model/all/train/loss=0.279, model/all/train/lr=0.0001, spam_task/spam_dataset/valid/accuracy=0.942, spam_task/spam_dataset/valid/f1=0.933]"
     ]
    },
    {
     "name": "stderr",
     "output_type": "stream",
     "text": [
      "\r",
      "Epoch 2::  48%|████▊     | 24/50 [00:03<00:03,  7.65it/s, model/all/train/loss=0.279, model/all/train/lr=0.0001, spam_task/spam_dataset/valid/accuracy=0.942, spam_task/spam_dataset/valid/f1=0.933]"
     ]
    },
    {
     "name": "stderr",
     "output_type": "stream",
     "text": [
      "\r",
      "Epoch 2::  48%|████▊     | 24/50 [00:03<00:03,  7.65it/s, model/all/train/loss=0.277, model/all/train/lr=0.0001, spam_task/spam_dataset/valid/accuracy=0.942, spam_task/spam_dataset/valid/f1=0.933]"
     ]
    },
    {
     "name": "stderr",
     "output_type": "stream",
     "text": [
      "\r",
      "Epoch 2::  50%|█████     | 25/50 [00:03<00:03,  7.58it/s, model/all/train/loss=0.277, model/all/train/lr=0.0001, spam_task/spam_dataset/valid/accuracy=0.942, spam_task/spam_dataset/valid/f1=0.933]"
     ]
    },
    {
     "name": "stderr",
     "output_type": "stream",
     "text": [
      "\r",
      "Epoch 2::  50%|█████     | 25/50 [00:03<00:03,  7.58it/s, model/all/train/loss=0.276, model/all/train/lr=0.0001, spam_task/spam_dataset/valid/accuracy=0.942, spam_task/spam_dataset/valid/f1=0.933]"
     ]
    },
    {
     "name": "stderr",
     "output_type": "stream",
     "text": [
      "\r",
      "Epoch 2::  52%|█████▏    | 26/50 [00:03<00:03,  7.62it/s, model/all/train/loss=0.276, model/all/train/lr=0.0001, spam_task/spam_dataset/valid/accuracy=0.942, spam_task/spam_dataset/valid/f1=0.933]"
     ]
    },
    {
     "name": "stderr",
     "output_type": "stream",
     "text": [
      "\r",
      "Epoch 2::  52%|█████▏    | 26/50 [00:03<00:03,  7.62it/s, model/all/train/loss=0.276, model/all/train/lr=0.0001, spam_task/spam_dataset/valid/accuracy=0.942, spam_task/spam_dataset/valid/f1=0.933]"
     ]
    },
    {
     "name": "stderr",
     "output_type": "stream",
     "text": [
      "\r",
      "Epoch 2::  54%|█████▍    | 27/50 [00:03<00:02,  7.90it/s, model/all/train/loss=0.276, model/all/train/lr=0.0001, spam_task/spam_dataset/valid/accuracy=0.942, spam_task/spam_dataset/valid/f1=0.933]"
     ]
    },
    {
     "name": "stderr",
     "output_type": "stream",
     "text": [
      "\r",
      "Epoch 2::  54%|█████▍    | 27/50 [00:03<00:02,  7.90it/s, model/all/train/loss=0.273, model/all/train/lr=0.0001, spam_task/spam_dataset/valid/accuracy=0.942, spam_task/spam_dataset/valid/f1=0.933]"
     ]
    },
    {
     "name": "stderr",
     "output_type": "stream",
     "text": [
      "\r",
      "Epoch 2::  56%|█████▌    | 28/50 [00:03<00:02,  8.26it/s, model/all/train/loss=0.273, model/all/train/lr=0.0001, spam_task/spam_dataset/valid/accuracy=0.942, spam_task/spam_dataset/valid/f1=0.933]"
     ]
    },
    {
     "name": "stderr",
     "output_type": "stream",
     "text": [
      "\r",
      "Epoch 2::  56%|█████▌    | 28/50 [00:03<00:02,  8.26it/s, model/all/train/loss=0.27, model/all/train/lr=0.0001, spam_task/spam_dataset/valid/accuracy=0.942, spam_task/spam_dataset/valid/f1=0.933] "
     ]
    },
    {
     "name": "stderr",
     "output_type": "stream",
     "text": [
      "\r",
      "Epoch 2::  58%|█████▊    | 29/50 [00:03<00:02,  8.50it/s, model/all/train/loss=0.27, model/all/train/lr=0.0001, spam_task/spam_dataset/valid/accuracy=0.942, spam_task/spam_dataset/valid/f1=0.933]"
     ]
    },
    {
     "name": "stderr",
     "output_type": "stream",
     "text": [
      "\r",
      "Epoch 2::  58%|█████▊    | 29/50 [00:03<00:02,  8.50it/s, model/all/train/loss=0.269, model/all/train/lr=0.0001, spam_task/spam_dataset/valid/accuracy=0.942, spam_task/spam_dataset/valid/f1=0.933]"
     ]
    },
    {
     "name": "stderr",
     "output_type": "stream",
     "text": [
      "\r",
      "Epoch 2::  60%|██████    | 30/50 [00:03<00:02,  8.68it/s, model/all/train/loss=0.269, model/all/train/lr=0.0001, spam_task/spam_dataset/valid/accuracy=0.942, spam_task/spam_dataset/valid/f1=0.933]"
     ]
    },
    {
     "name": "stderr",
     "output_type": "stream",
     "text": [
      "\r",
      "Epoch 2::  60%|██████    | 30/50 [00:04<00:02,  8.68it/s, model/all/train/loss=0.266, model/all/train/lr=0.0001, spam_task/spam_dataset/valid/accuracy=0.942, spam_task/spam_dataset/valid/f1=0.933]"
     ]
    },
    {
     "name": "stderr",
     "output_type": "stream",
     "text": [
      "\r",
      "Epoch 2::  62%|██████▏   | 31/50 [00:04<00:02,  8.80it/s, model/all/train/loss=0.266, model/all/train/lr=0.0001, spam_task/spam_dataset/valid/accuracy=0.942, spam_task/spam_dataset/valid/f1=0.933]"
     ]
    },
    {
     "name": "stderr",
     "output_type": "stream",
     "text": [
      "\r",
      "Epoch 2::  62%|██████▏   | 31/50 [00:04<00:02,  8.80it/s, model/all/train/loss=0.264, model/all/train/lr=0.0001, spam_task/spam_dataset/valid/accuracy=0.942, spam_task/spam_dataset/valid/f1=0.933]"
     ]
    },
    {
     "name": "stderr",
     "output_type": "stream",
     "text": [
      "\r",
      "Epoch 2::  64%|██████▍   | 32/50 [00:04<00:02,  8.92it/s, model/all/train/loss=0.264, model/all/train/lr=0.0001, spam_task/spam_dataset/valid/accuracy=0.942, spam_task/spam_dataset/valid/f1=0.933]"
     ]
    },
    {
     "name": "stderr",
     "output_type": "stream",
     "text": [
      "\r",
      "Epoch 2::  64%|██████▍   | 32/50 [00:04<00:02,  8.92it/s, model/all/train/loss=0.263, model/all/train/lr=0.0001, spam_task/spam_dataset/valid/accuracy=0.942, spam_task/spam_dataset/valid/f1=0.933]"
     ]
    },
    {
     "name": "stderr",
     "output_type": "stream",
     "text": [
      "\r",
      "Epoch 2::  66%|██████▌   | 33/50 [00:04<00:01,  9.02it/s, model/all/train/loss=0.263, model/all/train/lr=0.0001, spam_task/spam_dataset/valid/accuracy=0.942, spam_task/spam_dataset/valid/f1=0.933]"
     ]
    },
    {
     "name": "stderr",
     "output_type": "stream",
     "text": [
      "\r",
      "Epoch 2::  66%|██████▌   | 33/50 [00:04<00:01,  9.02it/s, model/all/train/loss=0.261, model/all/train/lr=0.0001, spam_task/spam_dataset/valid/accuracy=0.942, spam_task/spam_dataset/valid/f1=0.933]"
     ]
    },
    {
     "name": "stderr",
     "output_type": "stream",
     "text": [
      "\r",
      "Epoch 2::  68%|██████▊   | 34/50 [00:04<00:01,  9.06it/s, model/all/train/loss=0.261, model/all/train/lr=0.0001, spam_task/spam_dataset/valid/accuracy=0.942, spam_task/spam_dataset/valid/f1=0.933]"
     ]
    },
    {
     "name": "stderr",
     "output_type": "stream",
     "text": [
      "\r",
      "Epoch 2::  68%|██████▊   | 34/50 [00:04<00:01,  9.06it/s, model/all/train/loss=0.26, model/all/train/lr=0.0001, spam_task/spam_dataset/valid/accuracy=0.942, spam_task/spam_dataset/valid/f1=0.933] "
     ]
    },
    {
     "name": "stderr",
     "output_type": "stream",
     "text": [
      "\r",
      "Epoch 2::  70%|███████   | 35/50 [00:04<00:01,  9.12it/s, model/all/train/loss=0.26, model/all/train/lr=0.0001, spam_task/spam_dataset/valid/accuracy=0.942, spam_task/spam_dataset/valid/f1=0.933]"
     ]
    },
    {
     "name": "stderr",
     "output_type": "stream",
     "text": [
      "\r",
      "Epoch 2::  70%|███████   | 35/50 [00:04<00:01,  9.12it/s, model/all/train/loss=0.257, model/all/train/lr=0.0001, spam_task/spam_dataset/valid/accuracy=0.942, spam_task/spam_dataset/valid/f1=0.933]"
     ]
    },
    {
     "name": "stderr",
     "output_type": "stream",
     "text": [
      "\r",
      "Epoch 2::  72%|███████▏  | 36/50 [00:04<00:01,  9.14it/s, model/all/train/loss=0.257, model/all/train/lr=0.0001, spam_task/spam_dataset/valid/accuracy=0.942, spam_task/spam_dataset/valid/f1=0.933]"
     ]
    },
    {
     "name": "stderr",
     "output_type": "stream",
     "text": [
      "\r",
      "Epoch 2::  72%|███████▏  | 36/50 [00:04<00:01,  9.14it/s, model/all/train/loss=0.257, model/all/train/lr=0.0001, spam_task/spam_dataset/valid/accuracy=0.942, spam_task/spam_dataset/valid/f1=0.933]"
     ]
    },
    {
     "name": "stderr",
     "output_type": "stream",
     "text": [
      "\r",
      "Epoch 2::  74%|███████▍  | 37/50 [00:04<00:01,  9.15it/s, model/all/train/loss=0.257, model/all/train/lr=0.0001, spam_task/spam_dataset/valid/accuracy=0.942, spam_task/spam_dataset/valid/f1=0.933]"
     ]
    },
    {
     "name": "stderr",
     "output_type": "stream",
     "text": [
      "\r",
      "Epoch 2::  74%|███████▍  | 37/50 [00:04<00:01,  9.15it/s, model/all/train/loss=0.254, model/all/train/lr=0.0001, spam_task/spam_dataset/valid/accuracy=0.942, spam_task/spam_dataset/valid/f1=0.933]"
     ]
    },
    {
     "name": "stderr",
     "output_type": "stream",
     "text": [
      "\r",
      "Epoch 2::  76%|███████▌  | 38/50 [00:04<00:01,  9.16it/s, model/all/train/loss=0.254, model/all/train/lr=0.0001, spam_task/spam_dataset/valid/accuracy=0.942, spam_task/spam_dataset/valid/f1=0.933]"
     ]
    },
    {
     "name": "stderr",
     "output_type": "stream",
     "text": [
      "\r",
      "Epoch 2::  76%|███████▌  | 38/50 [00:04<00:01,  9.16it/s, model/all/train/loss=0.253, model/all/train/lr=0.0001, spam_task/spam_dataset/valid/accuracy=0.942, spam_task/spam_dataset/valid/f1=0.933]"
     ]
    },
    {
     "name": "stderr",
     "output_type": "stream",
     "text": [
      "\r",
      "Epoch 2::  78%|███████▊  | 39/50 [00:04<00:01,  9.17it/s, model/all/train/loss=0.253, model/all/train/lr=0.0001, spam_task/spam_dataset/valid/accuracy=0.942, spam_task/spam_dataset/valid/f1=0.933]"
     ]
    },
    {
     "name": "stderr",
     "output_type": "stream",
     "text": [
      "\r",
      "Epoch 2::  78%|███████▊  | 39/50 [00:04<00:01,  9.17it/s, model/all/train/loss=0.253, model/all/train/lr=0.0001, spam_task/spam_dataset/valid/accuracy=0.942, spam_task/spam_dataset/valid/f1=0.933]"
     ]
    },
    {
     "name": "stderr",
     "output_type": "stream",
     "text": [
      "\r",
      "Epoch 2::  80%|████████  | 40/50 [00:04<00:01,  9.18it/s, model/all/train/loss=0.253, model/all/train/lr=0.0001, spam_task/spam_dataset/valid/accuracy=0.942, spam_task/spam_dataset/valid/f1=0.933]"
     ]
    },
    {
     "name": "stderr",
     "output_type": "stream",
     "text": [
      "\r",
      "Epoch 2::  80%|████████  | 40/50 [00:05<00:01,  9.18it/s, model/all/train/loss=0.254, model/all/train/lr=0.0001, spam_task/spam_dataset/valid/accuracy=0.942, spam_task/spam_dataset/valid/f1=0.933]"
     ]
    },
    {
     "name": "stderr",
     "output_type": "stream",
     "text": [
      "\r",
      "Epoch 2::  82%|████████▏ | 41/50 [00:05<00:00,  9.20it/s, model/all/train/loss=0.254, model/all/train/lr=0.0001, spam_task/spam_dataset/valid/accuracy=0.942, spam_task/spam_dataset/valid/f1=0.933]"
     ]
    },
    {
     "name": "stderr",
     "output_type": "stream",
     "text": [
      "\r",
      "Epoch 2::  82%|████████▏ | 41/50 [00:05<00:00,  9.20it/s, model/all/train/loss=0.252, model/all/train/lr=0.0001, spam_task/spam_dataset/valid/accuracy=0.942, spam_task/spam_dataset/valid/f1=0.933]"
     ]
    },
    {
     "name": "stderr",
     "output_type": "stream",
     "text": [
      "\r",
      "Epoch 2::  84%|████████▍ | 42/50 [00:05<00:00,  9.23it/s, model/all/train/loss=0.252, model/all/train/lr=0.0001, spam_task/spam_dataset/valid/accuracy=0.942, spam_task/spam_dataset/valid/f1=0.933]"
     ]
    },
    {
     "name": "stderr",
     "output_type": "stream",
     "text": [
      "\r",
      "Epoch 2::  84%|████████▍ | 42/50 [00:05<00:00,  9.23it/s, model/all/train/loss=0.252, model/all/train/lr=0.0001, spam_task/spam_dataset/valid/accuracy=0.942, spam_task/spam_dataset/valid/f1=0.933]"
     ]
    },
    {
     "name": "stderr",
     "output_type": "stream",
     "text": [
      "\r",
      "Epoch 2::  86%|████████▌ | 43/50 [00:05<00:00,  9.25it/s, model/all/train/loss=0.252, model/all/train/lr=0.0001, spam_task/spam_dataset/valid/accuracy=0.942, spam_task/spam_dataset/valid/f1=0.933]"
     ]
    },
    {
     "name": "stderr",
     "output_type": "stream",
     "text": [
      "\r",
      "Epoch 2::  86%|████████▌ | 43/50 [00:05<00:00,  9.25it/s, model/all/train/loss=0.25, model/all/train/lr=0.0001, spam_task/spam_dataset/valid/accuracy=0.942, spam_task/spam_dataset/valid/f1=0.933] "
     ]
    },
    {
     "name": "stderr",
     "output_type": "stream",
     "text": [
      "\r",
      "Epoch 2::  88%|████████▊ | 44/50 [00:05<00:00,  9.23it/s, model/all/train/loss=0.25, model/all/train/lr=0.0001, spam_task/spam_dataset/valid/accuracy=0.942, spam_task/spam_dataset/valid/f1=0.933]"
     ]
    },
    {
     "name": "stderr",
     "output_type": "stream",
     "text": [
      "\r",
      "Epoch 2::  88%|████████▊ | 44/50 [00:05<00:00,  9.23it/s, model/all/train/loss=0.248, model/all/train/lr=0.0001, spam_task/spam_dataset/valid/accuracy=0.942, spam_task/spam_dataset/valid/f1=0.933]"
     ]
    },
    {
     "name": "stderr",
     "output_type": "stream",
     "text": [
      "\r",
      "Epoch 2::  90%|█████████ | 45/50 [00:05<00:00,  9.23it/s, model/all/train/loss=0.248, model/all/train/lr=0.0001, spam_task/spam_dataset/valid/accuracy=0.942, spam_task/spam_dataset/valid/f1=0.933]"
     ]
    },
    {
     "name": "stderr",
     "output_type": "stream",
     "text": [
      "\r",
      "Epoch 2::  90%|█████████ | 45/50 [00:05<00:00,  9.23it/s, model/all/train/loss=0.247, model/all/train/lr=0.0001, spam_task/spam_dataset/valid/accuracy=0.942, spam_task/spam_dataset/valid/f1=0.933]"
     ]
    },
    {
     "name": "stderr",
     "output_type": "stream",
     "text": [
      "\r",
      "Epoch 2::  92%|█████████▏| 46/50 [00:05<00:00,  9.23it/s, model/all/train/loss=0.247, model/all/train/lr=0.0001, spam_task/spam_dataset/valid/accuracy=0.942, spam_task/spam_dataset/valid/f1=0.933]"
     ]
    },
    {
     "name": "stderr",
     "output_type": "stream",
     "text": [
      "\r",
      "Epoch 2::  92%|█████████▏| 46/50 [00:05<00:00,  9.23it/s, model/all/train/loss=0.247, model/all/train/lr=0.0001, spam_task/spam_dataset/valid/accuracy=0.942, spam_task/spam_dataset/valid/f1=0.933]"
     ]
    },
    {
     "name": "stderr",
     "output_type": "stream",
     "text": [
      "\r",
      "Epoch 2::  94%|█████████▍| 47/50 [00:05<00:00,  9.26it/s, model/all/train/loss=0.247, model/all/train/lr=0.0001, spam_task/spam_dataset/valid/accuracy=0.942, spam_task/spam_dataset/valid/f1=0.933]"
     ]
    },
    {
     "name": "stderr",
     "output_type": "stream",
     "text": [
      "\r",
      "Epoch 2::  94%|█████████▍| 47/50 [00:05<00:00,  9.26it/s, model/all/train/loss=0.246, model/all/train/lr=0.0001, spam_task/spam_dataset/valid/accuracy=0.942, spam_task/spam_dataset/valid/f1=0.933]"
     ]
    },
    {
     "name": "stderr",
     "output_type": "stream",
     "text": [
      "\r",
      "Epoch 2::  96%|█████████▌| 48/50 [00:05<00:00,  8.18it/s, model/all/train/loss=0.246, model/all/train/lr=0.0001, spam_task/spam_dataset/valid/accuracy=0.942, spam_task/spam_dataset/valid/f1=0.933]"
     ]
    },
    {
     "name": "stderr",
     "output_type": "stream",
     "text": [
      "\r",
      "Epoch 2::  96%|█████████▌| 48/50 [00:06<00:00,  8.18it/s, model/all/train/loss=0.244, model/all/train/lr=0.0001, spam_task/spam_dataset/valid/accuracy=0.942, spam_task/spam_dataset/valid/f1=0.933]"
     ]
    },
    {
     "name": "stderr",
     "output_type": "stream",
     "text": [
      "\r",
      "Epoch 2::  98%|█████████▊| 49/50 [00:06<00:00,  7.49it/s, model/all/train/loss=0.244, model/all/train/lr=0.0001, spam_task/spam_dataset/valid/accuracy=0.942, spam_task/spam_dataset/valid/f1=0.933]"
     ]
    },
    {
     "name": "stderr",
     "output_type": "stream",
     "text": [
      "\r",
      "Epoch 2::  98%|█████████▊| 49/50 [00:06<00:00,  7.49it/s, model/all/train/loss=0.242, model/all/train/lr=0.0001, spam_task/spam_dataset/valid/accuracy=0.933, spam_task/spam_dataset/valid/f1=0.923]"
     ]
    },
    {
     "name": "stderr",
     "output_type": "stream",
     "text": [
      "\r",
      "Epoch 2:: 100%|██████████| 50/50 [00:06<00:00,  7.09it/s, model/all/train/loss=0.242, model/all/train/lr=0.0001, spam_task/spam_dataset/valid/accuracy=0.933, spam_task/spam_dataset/valid/f1=0.923]"
     ]
    },
    {
     "name": "stderr",
     "output_type": "stream",
     "text": [
      "\n",
      "\r",
      "Epoch 3::   0%|          | 0/50 [00:00<?, ?it/s]"
     ]
    },
    {
     "name": "stderr",
     "output_type": "stream",
     "text": [
      "\r",
      "Epoch 3::   0%|          | 0/50 [00:00<?, ?it/s, model/all/train/loss=0.115, model/all/train/lr=0.0001, spam_task/spam_dataset/valid/accuracy=0.933, spam_task/spam_dataset/valid/f1=0.923]"
     ]
    },
    {
     "name": "stderr",
     "output_type": "stream",
     "text": [
      "\r",
      "Epoch 3::   2%|▏         | 1/50 [00:00<00:05,  9.42it/s, model/all/train/loss=0.115, model/all/train/lr=0.0001, spam_task/spam_dataset/valid/accuracy=0.933, spam_task/spam_dataset/valid/f1=0.923]"
     ]
    },
    {
     "name": "stderr",
     "output_type": "stream",
     "text": [
      "\r",
      "Epoch 3::   2%|▏         | 1/50 [00:00<00:05,  9.42it/s, model/all/train/loss=0.11, model/all/train/lr=0.0001, spam_task/spam_dataset/valid/accuracy=0.933, spam_task/spam_dataset/valid/f1=0.923] "
     ]
    },
    {
     "name": "stderr",
     "output_type": "stream",
     "text": [
      "\r",
      "Epoch 3::   4%|▍         | 2/50 [00:00<00:05,  9.37it/s, model/all/train/loss=0.11, model/all/train/lr=0.0001, spam_task/spam_dataset/valid/accuracy=0.933, spam_task/spam_dataset/valid/f1=0.923]"
     ]
    },
    {
     "name": "stderr",
     "output_type": "stream",
     "text": [
      "\r",
      "Epoch 3::   4%|▍         | 2/50 [00:00<00:05,  9.37it/s, model/all/train/loss=0.143, model/all/train/lr=0.0001, spam_task/spam_dataset/valid/accuracy=0.933, spam_task/spam_dataset/valid/f1=0.923]"
     ]
    },
    {
     "name": "stderr",
     "output_type": "stream",
     "text": [
      "\r",
      "Epoch 3::   6%|▌         | 3/50 [00:00<00:05,  8.89it/s, model/all/train/loss=0.143, model/all/train/lr=0.0001, spam_task/spam_dataset/valid/accuracy=0.933, spam_task/spam_dataset/valid/f1=0.923]"
     ]
    },
    {
     "name": "stderr",
     "output_type": "stream",
     "text": [
      "\r",
      "Epoch 3::   6%|▌         | 3/50 [00:00<00:05,  8.89it/s, model/all/train/loss=0.149, model/all/train/lr=0.0001, spam_task/spam_dataset/valid/accuracy=0.933, spam_task/spam_dataset/valid/f1=0.923]"
     ]
    },
    {
     "name": "stderr",
     "output_type": "stream",
     "text": [
      "\r",
      "Epoch 3::   8%|▊         | 4/50 [00:00<00:05,  8.56it/s, model/all/train/loss=0.149, model/all/train/lr=0.0001, spam_task/spam_dataset/valid/accuracy=0.933, spam_task/spam_dataset/valid/f1=0.923]"
     ]
    },
    {
     "name": "stderr",
     "output_type": "stream",
     "text": [
      "\r",
      "Epoch 3::   8%|▊         | 4/50 [00:00<00:05,  8.56it/s, model/all/train/loss=0.153, model/all/train/lr=0.0001, spam_task/spam_dataset/valid/accuracy=0.933, spam_task/spam_dataset/valid/f1=0.923]"
     ]
    },
    {
     "name": "stderr",
     "output_type": "stream",
     "text": [
      "\r",
      "Epoch 3::  10%|█         | 5/50 [00:00<00:05,  8.07it/s, model/all/train/loss=0.153, model/all/train/lr=0.0001, spam_task/spam_dataset/valid/accuracy=0.933, spam_task/spam_dataset/valid/f1=0.923]"
     ]
    },
    {
     "name": "stderr",
     "output_type": "stream",
     "text": [
      "\r",
      "Epoch 3::  10%|█         | 5/50 [00:00<00:05,  8.07it/s, model/all/train/loss=0.162, model/all/train/lr=0.0001, spam_task/spam_dataset/valid/accuracy=0.933, spam_task/spam_dataset/valid/f1=0.923]"
     ]
    },
    {
     "name": "stderr",
     "output_type": "stream",
     "text": [
      "\r",
      "Epoch 3::  12%|█▏        | 6/50 [00:00<00:05,  8.00it/s, model/all/train/loss=0.162, model/all/train/lr=0.0001, spam_task/spam_dataset/valid/accuracy=0.933, spam_task/spam_dataset/valid/f1=0.923]"
     ]
    },
    {
     "name": "stderr",
     "output_type": "stream",
     "text": [
      "\r",
      "Epoch 3::  12%|█▏        | 6/50 [00:00<00:05,  8.00it/s, model/all/train/loss=0.156, model/all/train/lr=0.0001, spam_task/spam_dataset/valid/accuracy=0.933, spam_task/spam_dataset/valid/f1=0.923]"
     ]
    },
    {
     "name": "stderr",
     "output_type": "stream",
     "text": [
      "\r",
      "Epoch 3::  14%|█▍        | 7/50 [00:00<00:05,  7.93it/s, model/all/train/loss=0.156, model/all/train/lr=0.0001, spam_task/spam_dataset/valid/accuracy=0.933, spam_task/spam_dataset/valid/f1=0.923]"
     ]
    },
    {
     "name": "stderr",
     "output_type": "stream",
     "text": [
      "\r",
      "Epoch 3::  14%|█▍        | 7/50 [00:00<00:05,  7.93it/s, model/all/train/loss=0.151, model/all/train/lr=0.0001, spam_task/spam_dataset/valid/accuracy=0.933, spam_task/spam_dataset/valid/f1=0.923]"
     ]
    },
    {
     "name": "stderr",
     "output_type": "stream",
     "text": [
      "\r",
      "Epoch 3::  16%|█▌        | 8/50 [00:00<00:05,  7.89it/s, model/all/train/loss=0.151, model/all/train/lr=0.0001, spam_task/spam_dataset/valid/accuracy=0.933, spam_task/spam_dataset/valid/f1=0.923]"
     ]
    },
    {
     "name": "stderr",
     "output_type": "stream",
     "text": [
      "\r",
      "Epoch 3::  16%|█▌        | 8/50 [00:01<00:05,  7.89it/s, model/all/train/loss=0.152, model/all/train/lr=0.0001, spam_task/spam_dataset/valid/accuracy=0.933, spam_task/spam_dataset/valid/f1=0.923]"
     ]
    },
    {
     "name": "stderr",
     "output_type": "stream",
     "text": [
      "\r",
      "Epoch 3::  18%|█▊        | 9/50 [00:01<00:05,  7.87it/s, model/all/train/loss=0.152, model/all/train/lr=0.0001, spam_task/spam_dataset/valid/accuracy=0.933, spam_task/spam_dataset/valid/f1=0.923]"
     ]
    },
    {
     "name": "stderr",
     "output_type": "stream",
     "text": [
      "\r",
      "Epoch 3::  18%|█▊        | 9/50 [00:01<00:05,  7.87it/s, model/all/train/loss=0.153, model/all/train/lr=0.0001, spam_task/spam_dataset/valid/accuracy=0.933, spam_task/spam_dataset/valid/f1=0.923]"
     ]
    },
    {
     "name": "stderr",
     "output_type": "stream",
     "text": [
      "\r",
      "Epoch 3::  20%|██        | 10/50 [00:01<00:04,  8.26it/s, model/all/train/loss=0.153, model/all/train/lr=0.0001, spam_task/spam_dataset/valid/accuracy=0.933, spam_task/spam_dataset/valid/f1=0.923]"
     ]
    },
    {
     "name": "stderr",
     "output_type": "stream",
     "text": [
      "\r",
      "Epoch 3::  20%|██        | 10/50 [00:01<00:04,  8.26it/s, model/all/train/loss=0.158, model/all/train/lr=0.0001, spam_task/spam_dataset/valid/accuracy=0.933, spam_task/spam_dataset/valid/f1=0.923]"
     ]
    },
    {
     "name": "stderr",
     "output_type": "stream",
     "text": [
      "\r",
      "Epoch 3::  22%|██▏       | 11/50 [00:01<00:04,  8.56it/s, model/all/train/loss=0.158, model/all/train/lr=0.0001, spam_task/spam_dataset/valid/accuracy=0.933, spam_task/spam_dataset/valid/f1=0.923]"
     ]
    },
    {
     "name": "stderr",
     "output_type": "stream",
     "text": [
      "\r",
      "Epoch 3::  22%|██▏       | 11/50 [00:01<00:04,  8.56it/s, model/all/train/loss=0.162, model/all/train/lr=0.0001, spam_task/spam_dataset/valid/accuracy=0.933, spam_task/spam_dataset/valid/f1=0.923]"
     ]
    },
    {
     "name": "stderr",
     "output_type": "stream",
     "text": [
      "\r",
      "Epoch 3::  24%|██▍       | 12/50 [00:01<00:04,  8.78it/s, model/all/train/loss=0.162, model/all/train/lr=0.0001, spam_task/spam_dataset/valid/accuracy=0.933, spam_task/spam_dataset/valid/f1=0.923]"
     ]
    },
    {
     "name": "stderr",
     "output_type": "stream",
     "text": [
      "\r",
      "Epoch 3::  24%|██▍       | 12/50 [00:01<00:04,  8.78it/s, model/all/train/loss=0.163, model/all/train/lr=0.0001, spam_task/spam_dataset/valid/accuracy=0.933, spam_task/spam_dataset/valid/f1=0.923]"
     ]
    },
    {
     "name": "stderr",
     "output_type": "stream",
     "text": [
      "\r",
      "Epoch 3::  26%|██▌       | 13/50 [00:01<00:04,  8.83it/s, model/all/train/loss=0.163, model/all/train/lr=0.0001, spam_task/spam_dataset/valid/accuracy=0.933, spam_task/spam_dataset/valid/f1=0.923]"
     ]
    },
    {
     "name": "stderr",
     "output_type": "stream",
     "text": [
      "\r",
      "Epoch 3::  26%|██▌       | 13/50 [00:01<00:04,  8.83it/s, model/all/train/loss=0.164, model/all/train/lr=0.0001, spam_task/spam_dataset/valid/accuracy=0.933, spam_task/spam_dataset/valid/f1=0.923]"
     ]
    },
    {
     "name": "stderr",
     "output_type": "stream",
     "text": [
      "\r",
      "Epoch 3::  28%|██▊       | 14/50 [00:01<00:04,  9.00it/s, model/all/train/loss=0.164, model/all/train/lr=0.0001, spam_task/spam_dataset/valid/accuracy=0.933, spam_task/spam_dataset/valid/f1=0.923]"
     ]
    },
    {
     "name": "stderr",
     "output_type": "stream",
     "text": [
      "\r",
      "Epoch 3::  28%|██▊       | 14/50 [00:01<00:04,  9.00it/s, model/all/train/loss=0.166, model/all/train/lr=0.0001, spam_task/spam_dataset/valid/accuracy=0.933, spam_task/spam_dataset/valid/f1=0.923]"
     ]
    },
    {
     "name": "stderr",
     "output_type": "stream",
     "text": [
      "\r",
      "Epoch 3::  30%|███       | 15/50 [00:01<00:03,  9.12it/s, model/all/train/loss=0.166, model/all/train/lr=0.0001, spam_task/spam_dataset/valid/accuracy=0.933, spam_task/spam_dataset/valid/f1=0.923]"
     ]
    },
    {
     "name": "stderr",
     "output_type": "stream",
     "text": [
      "\r",
      "Epoch 3::  30%|███       | 15/50 [00:01<00:03,  9.12it/s, model/all/train/loss=0.168, model/all/train/lr=0.0001, spam_task/spam_dataset/valid/accuracy=0.933, spam_task/spam_dataset/valid/f1=0.923]"
     ]
    },
    {
     "name": "stderr",
     "output_type": "stream",
     "text": [
      "\r",
      "Epoch 3::  32%|███▏      | 16/50 [00:01<00:03,  9.20it/s, model/all/train/loss=0.168, model/all/train/lr=0.0001, spam_task/spam_dataset/valid/accuracy=0.933, spam_task/spam_dataset/valid/f1=0.923]"
     ]
    },
    {
     "name": "stderr",
     "output_type": "stream",
     "text": [
      "\r",
      "Epoch 3::  32%|███▏      | 16/50 [00:01<00:03,  9.20it/s, model/all/train/loss=0.168, model/all/train/lr=0.0001, spam_task/spam_dataset/valid/accuracy=0.933, spam_task/spam_dataset/valid/f1=0.923]"
     ]
    },
    {
     "name": "stderr",
     "output_type": "stream",
     "text": [
      "\r",
      "Epoch 3::  34%|███▍      | 17/50 [00:01<00:03,  9.25it/s, model/all/train/loss=0.168, model/all/train/lr=0.0001, spam_task/spam_dataset/valid/accuracy=0.933, spam_task/spam_dataset/valid/f1=0.923]"
     ]
    },
    {
     "name": "stderr",
     "output_type": "stream",
     "text": [
      "\r",
      "Epoch 3::  34%|███▍      | 17/50 [00:02<00:03,  9.25it/s, model/all/train/loss=0.165, model/all/train/lr=0.0001, spam_task/spam_dataset/valid/accuracy=0.933, spam_task/spam_dataset/valid/f1=0.923]"
     ]
    },
    {
     "name": "stderr",
     "output_type": "stream",
     "text": [
      "\r",
      "Epoch 3::  36%|███▌      | 18/50 [00:02<00:03,  9.31it/s, model/all/train/loss=0.165, model/all/train/lr=0.0001, spam_task/spam_dataset/valid/accuracy=0.933, spam_task/spam_dataset/valid/f1=0.923]"
     ]
    },
    {
     "name": "stderr",
     "output_type": "stream",
     "text": [
      "\r",
      "Epoch 3::  36%|███▌      | 18/50 [00:02<00:03,  9.31it/s, model/all/train/loss=0.163, model/all/train/lr=0.0001, spam_task/spam_dataset/valid/accuracy=0.933, spam_task/spam_dataset/valid/f1=0.923]"
     ]
    },
    {
     "name": "stderr",
     "output_type": "stream",
     "text": [
      "\r",
      "Epoch 3::  38%|███▊      | 19/50 [00:02<00:03,  9.33it/s, model/all/train/loss=0.163, model/all/train/lr=0.0001, spam_task/spam_dataset/valid/accuracy=0.933, spam_task/spam_dataset/valid/f1=0.923]"
     ]
    },
    {
     "name": "stderr",
     "output_type": "stream",
     "text": [
      "\r",
      "Epoch 3::  38%|███▊      | 19/50 [00:02<00:03,  9.33it/s, model/all/train/loss=0.16, model/all/train/lr=0.0001, spam_task/spam_dataset/valid/accuracy=0.933, spam_task/spam_dataset/valid/f1=0.923] "
     ]
    },
    {
     "name": "stderr",
     "output_type": "stream",
     "text": [
      "\r",
      "Epoch 3::  40%|████      | 20/50 [00:02<00:03,  8.72it/s, model/all/train/loss=0.16, model/all/train/lr=0.0001, spam_task/spam_dataset/valid/accuracy=0.933, spam_task/spam_dataset/valid/f1=0.923]"
     ]
    },
    {
     "name": "stderr",
     "output_type": "stream",
     "text": [
      "\r",
      "Epoch 3::  40%|████      | 20/50 [00:02<00:03,  8.72it/s, model/all/train/loss=0.159, model/all/train/lr=0.0001, spam_task/spam_dataset/valid/accuracy=0.933, spam_task/spam_dataset/valid/f1=0.923]"
     ]
    },
    {
     "name": "stderr",
     "output_type": "stream",
     "text": [
      "\r",
      "Epoch 3::  42%|████▏     | 21/50 [00:02<00:03,  8.80it/s, model/all/train/loss=0.159, model/all/train/lr=0.0001, spam_task/spam_dataset/valid/accuracy=0.933, spam_task/spam_dataset/valid/f1=0.923]"
     ]
    },
    {
     "name": "stderr",
     "output_type": "stream",
     "text": [
      "\r",
      "Epoch 3::  42%|████▏     | 21/50 [00:02<00:03,  8.80it/s, model/all/train/loss=0.158, model/all/train/lr=0.0001, spam_task/spam_dataset/valid/accuracy=0.933, spam_task/spam_dataset/valid/f1=0.923]"
     ]
    },
    {
     "name": "stderr",
     "output_type": "stream",
     "text": [
      "\r",
      "Epoch 3::  44%|████▍     | 22/50 [00:02<00:03,  8.95it/s, model/all/train/loss=0.158, model/all/train/lr=0.0001, spam_task/spam_dataset/valid/accuracy=0.933, spam_task/spam_dataset/valid/f1=0.923]"
     ]
    },
    {
     "name": "stderr",
     "output_type": "stream",
     "text": [
      "\r",
      "Epoch 3::  44%|████▍     | 22/50 [00:02<00:03,  8.95it/s, model/all/train/loss=0.157, model/all/train/lr=0.0001, spam_task/spam_dataset/valid/accuracy=0.933, spam_task/spam_dataset/valid/f1=0.923]"
     ]
    },
    {
     "name": "stderr",
     "output_type": "stream",
     "text": [
      "\r",
      "Epoch 3::  46%|████▌     | 23/50 [00:02<00:02,  9.06it/s, model/all/train/loss=0.157, model/all/train/lr=0.0001, spam_task/spam_dataset/valid/accuracy=0.933, spam_task/spam_dataset/valid/f1=0.923]"
     ]
    },
    {
     "name": "stderr",
     "output_type": "stream",
     "text": [
      "\r",
      "Epoch 3::  46%|████▌     | 23/50 [00:02<00:02,  9.06it/s, model/all/train/loss=0.157, model/all/train/lr=0.0001, spam_task/spam_dataset/valid/accuracy=0.933, spam_task/spam_dataset/valid/f1=0.923]"
     ]
    },
    {
     "name": "stderr",
     "output_type": "stream",
     "text": [
      "\r",
      "Epoch 3::  48%|████▊     | 24/50 [00:02<00:02,  9.12it/s, model/all/train/loss=0.157, model/all/train/lr=0.0001, spam_task/spam_dataset/valid/accuracy=0.933, spam_task/spam_dataset/valid/f1=0.923]"
     ]
    },
    {
     "name": "stderr",
     "output_type": "stream",
     "text": [
      "\r",
      "Epoch 3::  48%|████▊     | 24/50 [00:02<00:02,  9.12it/s, model/all/train/loss=0.153, model/all/train/lr=0.0001, spam_task/spam_dataset/valid/accuracy=0.933, spam_task/spam_dataset/valid/f1=0.923]"
     ]
    },
    {
     "name": "stderr",
     "output_type": "stream",
     "text": [
      "\r",
      "Epoch 3::  50%|█████     | 25/50 [00:02<00:02,  9.19it/s, model/all/train/loss=0.153, model/all/train/lr=0.0001, spam_task/spam_dataset/valid/accuracy=0.933, spam_task/spam_dataset/valid/f1=0.923]"
     ]
    },
    {
     "name": "stderr",
     "output_type": "stream",
     "text": [
      "\r",
      "Epoch 3::  50%|█████     | 25/50 [00:02<00:02,  9.19it/s, model/all/train/loss=0.153, model/all/train/lr=0.0001, spam_task/spam_dataset/valid/accuracy=0.933, spam_task/spam_dataset/valid/f1=0.923]"
     ]
    },
    {
     "name": "stderr",
     "output_type": "stream",
     "text": [
      "\r",
      "Epoch 3::  52%|█████▏    | 26/50 [00:02<00:02,  9.25it/s, model/all/train/loss=0.153, model/all/train/lr=0.0001, spam_task/spam_dataset/valid/accuracy=0.933, spam_task/spam_dataset/valid/f1=0.923]"
     ]
    },
    {
     "name": "stderr",
     "output_type": "stream",
     "text": [
      "\r",
      "Epoch 3::  52%|█████▏    | 26/50 [00:03<00:02,  9.25it/s, model/all/train/loss=0.153, model/all/train/lr=0.0001, spam_task/spam_dataset/valid/accuracy=0.933, spam_task/spam_dataset/valid/f1=0.923]"
     ]
    },
    {
     "name": "stderr",
     "output_type": "stream",
     "text": [
      "\r",
      "Epoch 3::  54%|█████▍    | 27/50 [00:03<00:02,  9.27it/s, model/all/train/loss=0.153, model/all/train/lr=0.0001, spam_task/spam_dataset/valid/accuracy=0.933, spam_task/spam_dataset/valid/f1=0.923]"
     ]
    },
    {
     "name": "stderr",
     "output_type": "stream",
     "text": [
      "\r",
      "Epoch 3::  54%|█████▍    | 27/50 [00:03<00:02,  9.27it/s, model/all/train/loss=0.15, model/all/train/lr=0.0001, spam_task/spam_dataset/valid/accuracy=0.933, spam_task/spam_dataset/valid/f1=0.923] "
     ]
    },
    {
     "name": "stderr",
     "output_type": "stream",
     "text": [
      "\r",
      "Epoch 3::  56%|█████▌    | 28/50 [00:03<00:02,  9.26it/s, model/all/train/loss=0.15, model/all/train/lr=0.0001, spam_task/spam_dataset/valid/accuracy=0.933, spam_task/spam_dataset/valid/f1=0.923]"
     ]
    },
    {
     "name": "stderr",
     "output_type": "stream",
     "text": [
      "\r",
      "Epoch 3::  56%|█████▌    | 28/50 [00:03<00:02,  9.26it/s, model/all/train/loss=0.148, model/all/train/lr=0.0001, spam_task/spam_dataset/valid/accuracy=0.933, spam_task/spam_dataset/valid/f1=0.923]"
     ]
    },
    {
     "name": "stderr",
     "output_type": "stream",
     "text": [
      "\r",
      "Epoch 3::  58%|█████▊    | 29/50 [00:03<00:02,  9.29it/s, model/all/train/loss=0.148, model/all/train/lr=0.0001, spam_task/spam_dataset/valid/accuracy=0.933, spam_task/spam_dataset/valid/f1=0.923]"
     ]
    },
    {
     "name": "stderr",
     "output_type": "stream",
     "text": [
      "\r",
      "Epoch 3::  58%|█████▊    | 29/50 [00:03<00:02,  9.29it/s, model/all/train/loss=0.147, model/all/train/lr=0.0001, spam_task/spam_dataset/valid/accuracy=0.933, spam_task/spam_dataset/valid/f1=0.923]"
     ]
    },
    {
     "name": "stderr",
     "output_type": "stream",
     "text": [
      "\r",
      "Epoch 3::  60%|██████    | 30/50 [00:03<00:02,  8.53it/s, model/all/train/loss=0.147, model/all/train/lr=0.0001, spam_task/spam_dataset/valid/accuracy=0.933, spam_task/spam_dataset/valid/f1=0.923]"
     ]
    },
    {
     "name": "stderr",
     "output_type": "stream",
     "text": [
      "\r",
      "Epoch 3::  60%|██████    | 30/50 [00:03<00:02,  8.53it/s, model/all/train/loss=0.148, model/all/train/lr=0.0001, spam_task/spam_dataset/valid/accuracy=0.933, spam_task/spam_dataset/valid/f1=0.923]"
     ]
    },
    {
     "name": "stderr",
     "output_type": "stream",
     "text": [
      "\r",
      "Epoch 3::  62%|██████▏   | 31/50 [00:03<00:02,  8.33it/s, model/all/train/loss=0.148, model/all/train/lr=0.0001, spam_task/spam_dataset/valid/accuracy=0.933, spam_task/spam_dataset/valid/f1=0.923]"
     ]
    },
    {
     "name": "stderr",
     "output_type": "stream",
     "text": [
      "\r",
      "Epoch 3::  62%|██████▏   | 31/50 [00:03<00:02,  8.33it/s, model/all/train/loss=0.148, model/all/train/lr=0.0001, spam_task/spam_dataset/valid/accuracy=0.933, spam_task/spam_dataset/valid/f1=0.923]"
     ]
    },
    {
     "name": "stderr",
     "output_type": "stream",
     "text": [
      "\r",
      "Epoch 3::  64%|██████▍   | 32/50 [00:03<00:02,  8.64it/s, model/all/train/loss=0.148, model/all/train/lr=0.0001, spam_task/spam_dataset/valid/accuracy=0.933, spam_task/spam_dataset/valid/f1=0.923]"
     ]
    },
    {
     "name": "stderr",
     "output_type": "stream",
     "text": [
      "\r",
      "Epoch 3::  64%|██████▍   | 32/50 [00:03<00:02,  8.64it/s, model/all/train/loss=0.145, model/all/train/lr=0.0001, spam_task/spam_dataset/valid/accuracy=0.933, spam_task/spam_dataset/valid/f1=0.923]"
     ]
    },
    {
     "name": "stderr",
     "output_type": "stream",
     "text": [
      "\r",
      "Epoch 3::  66%|██████▌   | 33/50 [00:03<00:02,  8.27it/s, model/all/train/loss=0.145, model/all/train/lr=0.0001, spam_task/spam_dataset/valid/accuracy=0.933, spam_task/spam_dataset/valid/f1=0.923]"
     ]
    },
    {
     "name": "stderr",
     "output_type": "stream",
     "text": [
      "\r",
      "Epoch 3::  66%|██████▌   | 33/50 [00:03<00:02,  8.27it/s, model/all/train/loss=0.147, model/all/train/lr=0.0001, spam_task/spam_dataset/valid/accuracy=0.933, spam_task/spam_dataset/valid/f1=0.923]"
     ]
    },
    {
     "name": "stderr",
     "output_type": "stream",
     "text": [
      "\r",
      "Epoch 3::  68%|██████▊   | 34/50 [00:03<00:02,  7.60it/s, model/all/train/loss=0.147, model/all/train/lr=0.0001, spam_task/spam_dataset/valid/accuracy=0.933, spam_task/spam_dataset/valid/f1=0.923]"
     ]
    },
    {
     "name": "stderr",
     "output_type": "stream",
     "text": [
      "\r",
      "Epoch 3::  68%|██████▊   | 34/50 [00:04<00:02,  7.60it/s, model/all/train/loss=0.146, model/all/train/lr=0.0001, spam_task/spam_dataset/valid/accuracy=0.933, spam_task/spam_dataset/valid/f1=0.923]"
     ]
    },
    {
     "name": "stderr",
     "output_type": "stream",
     "text": [
      "\r",
      "Epoch 3::  70%|███████   | 35/50 [00:04<00:01,  7.80it/s, model/all/train/loss=0.146, model/all/train/lr=0.0001, spam_task/spam_dataset/valid/accuracy=0.933, spam_task/spam_dataset/valid/f1=0.923]"
     ]
    },
    {
     "name": "stderr",
     "output_type": "stream",
     "text": [
      "\r",
      "Epoch 3::  70%|███████   | 35/50 [00:04<00:01,  7.80it/s, model/all/train/loss=0.144, model/all/train/lr=0.0001, spam_task/spam_dataset/valid/accuracy=0.933, spam_task/spam_dataset/valid/f1=0.923]"
     ]
    },
    {
     "name": "stderr",
     "output_type": "stream",
     "text": [
      "\r",
      "Epoch 3::  72%|███████▏  | 36/50 [00:04<00:01,  8.10it/s, model/all/train/loss=0.144, model/all/train/lr=0.0001, spam_task/spam_dataset/valid/accuracy=0.933, spam_task/spam_dataset/valid/f1=0.923]"
     ]
    },
    {
     "name": "stderr",
     "output_type": "stream",
     "text": [
      "\r",
      "Epoch 3::  72%|███████▏  | 36/50 [00:04<00:01,  8.10it/s, model/all/train/loss=0.144, model/all/train/lr=0.0001, spam_task/spam_dataset/valid/accuracy=0.933, spam_task/spam_dataset/valid/f1=0.923]"
     ]
    },
    {
     "name": "stderr",
     "output_type": "stream",
     "text": [
      "\r",
      "Epoch 3::  74%|███████▍  | 37/50 [00:04<00:01,  8.41it/s, model/all/train/loss=0.144, model/all/train/lr=0.0001, spam_task/spam_dataset/valid/accuracy=0.933, spam_task/spam_dataset/valid/f1=0.923]"
     ]
    },
    {
     "name": "stderr",
     "output_type": "stream",
     "text": [
      "\r",
      "Epoch 3::  74%|███████▍  | 37/50 [00:04<00:01,  8.41it/s, model/all/train/loss=0.143, model/all/train/lr=0.0001, spam_task/spam_dataset/valid/accuracy=0.933, spam_task/spam_dataset/valid/f1=0.923]"
     ]
    },
    {
     "name": "stderr",
     "output_type": "stream",
     "text": [
      "\r",
      "Epoch 3::  76%|███████▌  | 38/50 [00:04<00:01,  8.65it/s, model/all/train/loss=0.143, model/all/train/lr=0.0001, spam_task/spam_dataset/valid/accuracy=0.933, spam_task/spam_dataset/valid/f1=0.923]"
     ]
    },
    {
     "name": "stderr",
     "output_type": "stream",
     "text": [
      "\r",
      "Epoch 3::  76%|███████▌  | 38/50 [00:04<00:01,  8.65it/s, model/all/train/loss=0.143, model/all/train/lr=0.0001, spam_task/spam_dataset/valid/accuracy=0.933, spam_task/spam_dataset/valid/f1=0.923]"
     ]
    },
    {
     "name": "stderr",
     "output_type": "stream",
     "text": [
      "\r",
      "Epoch 3::  78%|███████▊  | 39/50 [00:04<00:01,  8.87it/s, model/all/train/loss=0.143, model/all/train/lr=0.0001, spam_task/spam_dataset/valid/accuracy=0.933, spam_task/spam_dataset/valid/f1=0.923]"
     ]
    },
    {
     "name": "stderr",
     "output_type": "stream",
     "text": [
      "\r",
      "Epoch 3::  78%|███████▊  | 39/50 [00:04<00:01,  8.87it/s, model/all/train/loss=0.142, model/all/train/lr=0.0001, spam_task/spam_dataset/valid/accuracy=0.933, spam_task/spam_dataset/valid/f1=0.923]"
     ]
    },
    {
     "name": "stderr",
     "output_type": "stream",
     "text": [
      "\r",
      "Epoch 3::  80%|████████  | 40/50 [00:04<00:01,  9.02it/s, model/all/train/loss=0.142, model/all/train/lr=0.0001, spam_task/spam_dataset/valid/accuracy=0.933, spam_task/spam_dataset/valid/f1=0.923]"
     ]
    },
    {
     "name": "stderr",
     "output_type": "stream",
     "text": [
      "\r",
      "Epoch 3::  80%|████████  | 40/50 [00:04<00:01,  9.02it/s, model/all/train/loss=0.143, model/all/train/lr=0.0001, spam_task/spam_dataset/valid/accuracy=0.933, spam_task/spam_dataset/valid/f1=0.923]"
     ]
    },
    {
     "name": "stderr",
     "output_type": "stream",
     "text": [
      "\r",
      "Epoch 3::  82%|████████▏ | 41/50 [00:04<00:00,  9.11it/s, model/all/train/loss=0.143, model/all/train/lr=0.0001, spam_task/spam_dataset/valid/accuracy=0.933, spam_task/spam_dataset/valid/f1=0.923]"
     ]
    },
    {
     "name": "stderr",
     "output_type": "stream",
     "text": [
      "\r",
      "Epoch 3::  82%|████████▏ | 41/50 [00:04<00:00,  9.11it/s, model/all/train/loss=0.142, model/all/train/lr=0.0001, spam_task/spam_dataset/valid/accuracy=0.933, spam_task/spam_dataset/valid/f1=0.923]"
     ]
    },
    {
     "name": "stderr",
     "output_type": "stream",
     "text": [
      "\r",
      "Epoch 3::  84%|████████▍ | 42/50 [00:04<00:00,  9.18it/s, model/all/train/loss=0.142, model/all/train/lr=0.0001, spam_task/spam_dataset/valid/accuracy=0.933, spam_task/spam_dataset/valid/f1=0.923]"
     ]
    },
    {
     "name": "stderr",
     "output_type": "stream",
     "text": [
      "\r",
      "Epoch 3::  84%|████████▍ | 42/50 [00:04<00:00,  9.18it/s, model/all/train/loss=0.147, model/all/train/lr=0.0001, spam_task/spam_dataset/valid/accuracy=0.933, spam_task/spam_dataset/valid/f1=0.923]"
     ]
    },
    {
     "name": "stderr",
     "output_type": "stream",
     "text": [
      "\r",
      "Epoch 3::  86%|████████▌ | 43/50 [00:04<00:00,  9.20it/s, model/all/train/loss=0.147, model/all/train/lr=0.0001, spam_task/spam_dataset/valid/accuracy=0.933, spam_task/spam_dataset/valid/f1=0.923]"
     ]
    },
    {
     "name": "stderr",
     "output_type": "stream",
     "text": [
      "\r",
      "Epoch 3::  86%|████████▌ | 43/50 [00:05<00:00,  9.20it/s, model/all/train/loss=0.146, model/all/train/lr=0.0001, spam_task/spam_dataset/valid/accuracy=0.933, spam_task/spam_dataset/valid/f1=0.923]"
     ]
    },
    {
     "name": "stderr",
     "output_type": "stream",
     "text": [
      "\r",
      "Epoch 3::  88%|████████▊ | 44/50 [00:05<00:00,  9.24it/s, model/all/train/loss=0.146, model/all/train/lr=0.0001, spam_task/spam_dataset/valid/accuracy=0.933, spam_task/spam_dataset/valid/f1=0.923]"
     ]
    },
    {
     "name": "stderr",
     "output_type": "stream",
     "text": [
      "\r",
      "Epoch 3::  88%|████████▊ | 44/50 [00:05<00:00,  9.24it/s, model/all/train/loss=0.145, model/all/train/lr=0.0001, spam_task/spam_dataset/valid/accuracy=0.933, spam_task/spam_dataset/valid/f1=0.923]"
     ]
    },
    {
     "name": "stderr",
     "output_type": "stream",
     "text": [
      "\r",
      "Epoch 3::  90%|█████████ | 45/50 [00:05<00:00,  9.30it/s, model/all/train/loss=0.145, model/all/train/lr=0.0001, spam_task/spam_dataset/valid/accuracy=0.933, spam_task/spam_dataset/valid/f1=0.923]"
     ]
    },
    {
     "name": "stderr",
     "output_type": "stream",
     "text": [
      "\r",
      "Epoch 3::  90%|█████████ | 45/50 [00:05<00:00,  9.30it/s, model/all/train/loss=0.145, model/all/train/lr=0.0001, spam_task/spam_dataset/valid/accuracy=0.933, spam_task/spam_dataset/valid/f1=0.923]"
     ]
    },
    {
     "name": "stderr",
     "output_type": "stream",
     "text": [
      "\r",
      "Epoch 3::  92%|█████████▏| 46/50 [00:05<00:00,  9.33it/s, model/all/train/loss=0.145, model/all/train/lr=0.0001, spam_task/spam_dataset/valid/accuracy=0.933, spam_task/spam_dataset/valid/f1=0.923]"
     ]
    },
    {
     "name": "stderr",
     "output_type": "stream",
     "text": [
      "\r",
      "Epoch 3::  92%|█████████▏| 46/50 [00:05<00:00,  9.33it/s, model/all/train/loss=0.145, model/all/train/lr=0.0001, spam_task/spam_dataset/valid/accuracy=0.933, spam_task/spam_dataset/valid/f1=0.923]"
     ]
    },
    {
     "name": "stderr",
     "output_type": "stream",
     "text": [
      "\r",
      "Epoch 3::  94%|█████████▍| 47/50 [00:05<00:00,  9.35it/s, model/all/train/loss=0.145, model/all/train/lr=0.0001, spam_task/spam_dataset/valid/accuracy=0.933, spam_task/spam_dataset/valid/f1=0.923]"
     ]
    },
    {
     "name": "stderr",
     "output_type": "stream",
     "text": [
      "\r",
      "Epoch 3::  94%|█████████▍| 47/50 [00:05<00:00,  9.35it/s, model/all/train/loss=0.144, model/all/train/lr=0.0001, spam_task/spam_dataset/valid/accuracy=0.933, spam_task/spam_dataset/valid/f1=0.923]"
     ]
    },
    {
     "name": "stderr",
     "output_type": "stream",
     "text": [
      "\r",
      "Epoch 3::  96%|█████████▌| 48/50 [00:05<00:00,  9.39it/s, model/all/train/loss=0.144, model/all/train/lr=0.0001, spam_task/spam_dataset/valid/accuracy=0.933, spam_task/spam_dataset/valid/f1=0.923]"
     ]
    },
    {
     "name": "stderr",
     "output_type": "stream",
     "text": [
      "\r",
      "Epoch 3::  96%|█████████▌| 48/50 [00:05<00:00,  9.39it/s, model/all/train/loss=0.144, model/all/train/lr=0.0001, spam_task/spam_dataset/valid/accuracy=0.933, spam_task/spam_dataset/valid/f1=0.923]"
     ]
    },
    {
     "name": "stderr",
     "output_type": "stream",
     "text": [
      "\r",
      "Epoch 3::  98%|█████████▊| 49/50 [00:05<00:00,  9.34it/s, model/all/train/loss=0.144, model/all/train/lr=0.0001, spam_task/spam_dataset/valid/accuracy=0.933, spam_task/spam_dataset/valid/f1=0.923]"
     ]
    },
    {
     "name": "stderr",
     "output_type": "stream",
     "text": [
      "\r",
      "Epoch 3::  98%|█████████▊| 49/50 [00:05<00:00,  9.34it/s, model/all/train/loss=0.144, model/all/train/lr=0.0001, spam_task/spam_dataset/valid/accuracy=0.925, spam_task/spam_dataset/valid/f1=0.913]"
     ]
    },
    {
     "name": "stderr",
     "output_type": "stream",
     "text": [
      "\r",
      "Epoch 3:: 100%|██████████| 50/50 [00:05<00:00,  8.74it/s, model/all/train/loss=0.144, model/all/train/lr=0.0001, spam_task/spam_dataset/valid/accuracy=0.925, spam_task/spam_dataset/valid/f1=0.913]"
     ]
    },
    {
     "name": "stderr",
     "output_type": "stream",
     "text": [
      "\n",
      "\r",
      "Epoch 4::   0%|          | 0/50 [00:00<?, ?it/s]"
     ]
    },
    {
     "name": "stderr",
     "output_type": "stream",
     "text": [
      "\r",
      "Epoch 4::   0%|          | 0/50 [00:00<?, ?it/s, model/all/train/loss=0.112, model/all/train/lr=0.0001, spam_task/spam_dataset/valid/accuracy=0.925, spam_task/spam_dataset/valid/f1=0.913]"
     ]
    },
    {
     "name": "stderr",
     "output_type": "stream",
     "text": [
      "\r",
      "Epoch 4::   2%|▏         | 1/50 [00:00<00:05,  9.45it/s, model/all/train/loss=0.112, model/all/train/lr=0.0001, spam_task/spam_dataset/valid/accuracy=0.925, spam_task/spam_dataset/valid/f1=0.913]"
     ]
    },
    {
     "name": "stderr",
     "output_type": "stream",
     "text": [
      "\r",
      "Epoch 4::   2%|▏         | 1/50 [00:00<00:05,  9.45it/s, model/all/train/loss=0.106, model/all/train/lr=0.0001, spam_task/spam_dataset/valid/accuracy=0.925, spam_task/spam_dataset/valid/f1=0.913]"
     ]
    },
    {
     "name": "stderr",
     "output_type": "stream",
     "text": [
      "\r",
      "Epoch 4::   4%|▍         | 2/50 [00:00<00:05,  9.41it/s, model/all/train/loss=0.106, model/all/train/lr=0.0001, spam_task/spam_dataset/valid/accuracy=0.925, spam_task/spam_dataset/valid/f1=0.913]"
     ]
    },
    {
     "name": "stderr",
     "output_type": "stream",
     "text": [
      "\r",
      "Epoch 4::   4%|▍         | 2/50 [00:00<00:05,  9.41it/s, model/all/train/loss=0.103, model/all/train/lr=0.0001, spam_task/spam_dataset/valid/accuracy=0.925, spam_task/spam_dataset/valid/f1=0.913]"
     ]
    },
    {
     "name": "stderr",
     "output_type": "stream",
     "text": [
      "\r",
      "Epoch 4::   6%|▌         | 3/50 [00:00<00:04,  9.42it/s, model/all/train/loss=0.103, model/all/train/lr=0.0001, spam_task/spam_dataset/valid/accuracy=0.925, spam_task/spam_dataset/valid/f1=0.913]"
     ]
    },
    {
     "name": "stderr",
     "output_type": "stream",
     "text": [
      "\r",
      "Epoch 4::   6%|▌         | 3/50 [00:00<00:04,  9.42it/s, model/all/train/loss=0.114, model/all/train/lr=0.0001, spam_task/spam_dataset/valid/accuracy=0.925, spam_task/spam_dataset/valid/f1=0.913]"
     ]
    },
    {
     "name": "stderr",
     "output_type": "stream",
     "text": [
      "\r",
      "Epoch 4::   8%|▊         | 4/50 [00:00<00:04,  9.40it/s, model/all/train/loss=0.114, model/all/train/lr=0.0001, spam_task/spam_dataset/valid/accuracy=0.925, spam_task/spam_dataset/valid/f1=0.913]"
     ]
    },
    {
     "name": "stderr",
     "output_type": "stream",
     "text": [
      "\r",
      "Epoch 4::   8%|▊         | 4/50 [00:00<00:04,  9.40it/s, model/all/train/loss=0.109, model/all/train/lr=0.0001, spam_task/spam_dataset/valid/accuracy=0.925, spam_task/spam_dataset/valid/f1=0.913]"
     ]
    },
    {
     "name": "stderr",
     "output_type": "stream",
     "text": [
      "\r",
      "Epoch 4::  10%|█         | 5/50 [00:00<00:04,  9.39it/s, model/all/train/loss=0.109, model/all/train/lr=0.0001, spam_task/spam_dataset/valid/accuracy=0.925, spam_task/spam_dataset/valid/f1=0.913]"
     ]
    },
    {
     "name": "stderr",
     "output_type": "stream",
     "text": [
      "\r",
      "Epoch 4::  10%|█         | 5/50 [00:00<00:04,  9.39it/s, model/all/train/loss=0.101, model/all/train/lr=0.0001, spam_task/spam_dataset/valid/accuracy=0.925, spam_task/spam_dataset/valid/f1=0.913]"
     ]
    },
    {
     "name": "stderr",
     "output_type": "stream",
     "text": [
      "\r",
      "Epoch 4::  12%|█▏        | 6/50 [00:00<00:04,  9.37it/s, model/all/train/loss=0.101, model/all/train/lr=0.0001, spam_task/spam_dataset/valid/accuracy=0.925, spam_task/spam_dataset/valid/f1=0.913]"
     ]
    },
    {
     "name": "stderr",
     "output_type": "stream",
     "text": [
      "\r",
      "Epoch 4::  12%|█▏        | 6/50 [00:00<00:04,  9.37it/s, model/all/train/loss=0.101, model/all/train/lr=0.0001, spam_task/spam_dataset/valid/accuracy=0.925, spam_task/spam_dataset/valid/f1=0.913]"
     ]
    },
    {
     "name": "stderr",
     "output_type": "stream",
     "text": [
      "\r",
      "Epoch 4::  14%|█▍        | 7/50 [00:00<00:04,  9.37it/s, model/all/train/loss=0.101, model/all/train/lr=0.0001, spam_task/spam_dataset/valid/accuracy=0.925, spam_task/spam_dataset/valid/f1=0.913]"
     ]
    },
    {
     "name": "stderr",
     "output_type": "stream",
     "text": [
      "\r",
      "Epoch 4::  14%|█▍        | 7/50 [00:00<00:04,  9.37it/s, model/all/train/loss=0.102, model/all/train/lr=0.0001, spam_task/spam_dataset/valid/accuracy=0.925, spam_task/spam_dataset/valid/f1=0.913]"
     ]
    },
    {
     "name": "stderr",
     "output_type": "stream",
     "text": [
      "\r",
      "Epoch 4::  16%|█▌        | 8/50 [00:00<00:04,  9.40it/s, model/all/train/loss=0.102, model/all/train/lr=0.0001, spam_task/spam_dataset/valid/accuracy=0.925, spam_task/spam_dataset/valid/f1=0.913]"
     ]
    },
    {
     "name": "stderr",
     "output_type": "stream",
     "text": [
      "\r",
      "Epoch 4::  16%|█▌        | 8/50 [00:00<00:04,  9.40it/s, model/all/train/loss=0.0999, model/all/train/lr=0.0001, spam_task/spam_dataset/valid/accuracy=0.925, spam_task/spam_dataset/valid/f1=0.913]"
     ]
    },
    {
     "name": "stderr",
     "output_type": "stream",
     "text": [
      "\r",
      "Epoch 4::  18%|█▊        | 9/50 [00:00<00:04,  9.42it/s, model/all/train/loss=0.0999, model/all/train/lr=0.0001, spam_task/spam_dataset/valid/accuracy=0.925, spam_task/spam_dataset/valid/f1=0.913]"
     ]
    },
    {
     "name": "stderr",
     "output_type": "stream",
     "text": [
      "\r",
      "Epoch 4::  18%|█▊        | 9/50 [00:01<00:04,  9.42it/s, model/all/train/loss=0.105, model/all/train/lr=0.0001, spam_task/spam_dataset/valid/accuracy=0.925, spam_task/spam_dataset/valid/f1=0.913] "
     ]
    },
    {
     "name": "stderr",
     "output_type": "stream",
     "text": [
      "\r",
      "Epoch 4::  20%|██        | 10/50 [00:01<00:04,  9.45it/s, model/all/train/loss=0.105, model/all/train/lr=0.0001, spam_task/spam_dataset/valid/accuracy=0.925, spam_task/spam_dataset/valid/f1=0.913]"
     ]
    },
    {
     "name": "stderr",
     "output_type": "stream",
     "text": [
      "\r",
      "Epoch 4::  20%|██        | 10/50 [00:01<00:04,  9.45it/s, model/all/train/loss=0.103, model/all/train/lr=0.0001, spam_task/spam_dataset/valid/accuracy=0.925, spam_task/spam_dataset/valid/f1=0.913]"
     ]
    },
    {
     "name": "stderr",
     "output_type": "stream",
     "text": [
      "\r",
      "Epoch 4::  22%|██▏       | 11/50 [00:01<00:04,  9.46it/s, model/all/train/loss=0.103, model/all/train/lr=0.0001, spam_task/spam_dataset/valid/accuracy=0.925, spam_task/spam_dataset/valid/f1=0.913]"
     ]
    },
    {
     "name": "stderr",
     "output_type": "stream",
     "text": [
      "\r",
      "Epoch 4::  22%|██▏       | 11/50 [00:01<00:04,  9.46it/s, model/all/train/loss=0.106, model/all/train/lr=0.0001, spam_task/spam_dataset/valid/accuracy=0.925, spam_task/spam_dataset/valid/f1=0.913]"
     ]
    },
    {
     "name": "stderr",
     "output_type": "stream",
     "text": [
      "\r",
      "Epoch 4::  24%|██▍       | 12/50 [00:01<00:04,  9.45it/s, model/all/train/loss=0.106, model/all/train/lr=0.0001, spam_task/spam_dataset/valid/accuracy=0.925, spam_task/spam_dataset/valid/f1=0.913]"
     ]
    },
    {
     "name": "stderr",
     "output_type": "stream",
     "text": [
      "\r",
      "Epoch 4::  24%|██▍       | 12/50 [00:01<00:04,  9.45it/s, model/all/train/loss=0.105, model/all/train/lr=0.0001, spam_task/spam_dataset/valid/accuracy=0.925, spam_task/spam_dataset/valid/f1=0.913]"
     ]
    },
    {
     "name": "stderr",
     "output_type": "stream",
     "text": [
      "\r",
      "Epoch 4::  26%|██▌       | 13/50 [00:01<00:03,  9.44it/s, model/all/train/loss=0.105, model/all/train/lr=0.0001, spam_task/spam_dataset/valid/accuracy=0.925, spam_task/spam_dataset/valid/f1=0.913]"
     ]
    },
    {
     "name": "stderr",
     "output_type": "stream",
     "text": [
      "\r",
      "Epoch 4::  26%|██▌       | 13/50 [00:01<00:03,  9.44it/s, model/all/train/loss=0.109, model/all/train/lr=0.0001, spam_task/spam_dataset/valid/accuracy=0.925, spam_task/spam_dataset/valid/f1=0.913]"
     ]
    },
    {
     "name": "stderr",
     "output_type": "stream",
     "text": [
      "\r",
      "Epoch 4::  28%|██▊       | 14/50 [00:01<00:03,  9.47it/s, model/all/train/loss=0.109, model/all/train/lr=0.0001, spam_task/spam_dataset/valid/accuracy=0.925, spam_task/spam_dataset/valid/f1=0.913]"
     ]
    },
    {
     "name": "stderr",
     "output_type": "stream",
     "text": [
      "\r",
      "Epoch 4::  28%|██▊       | 14/50 [00:01<00:03,  9.47it/s, model/all/train/loss=0.109, model/all/train/lr=0.0001, spam_task/spam_dataset/valid/accuracy=0.925, spam_task/spam_dataset/valid/f1=0.913]"
     ]
    },
    {
     "name": "stderr",
     "output_type": "stream",
     "text": [
      "\r",
      "Epoch 4::  30%|███       | 15/50 [00:01<00:03,  9.47it/s, model/all/train/loss=0.109, model/all/train/lr=0.0001, spam_task/spam_dataset/valid/accuracy=0.925, spam_task/spam_dataset/valid/f1=0.913]"
     ]
    },
    {
     "name": "stderr",
     "output_type": "stream",
     "text": [
      "\r",
      "Epoch 4::  30%|███       | 15/50 [00:01<00:03,  9.47it/s, model/all/train/loss=0.107, model/all/train/lr=0.0001, spam_task/spam_dataset/valid/accuracy=0.925, spam_task/spam_dataset/valid/f1=0.913]"
     ]
    },
    {
     "name": "stderr",
     "output_type": "stream",
     "text": [
      "\r",
      "Epoch 4::  32%|███▏      | 16/50 [00:01<00:03,  9.47it/s, model/all/train/loss=0.107, model/all/train/lr=0.0001, spam_task/spam_dataset/valid/accuracy=0.925, spam_task/spam_dataset/valid/f1=0.913]"
     ]
    },
    {
     "name": "stderr",
     "output_type": "stream",
     "text": [
      "\r",
      "Epoch 4::  32%|███▏      | 16/50 [00:01<00:03,  9.47it/s, model/all/train/loss=0.109, model/all/train/lr=0.0001, spam_task/spam_dataset/valid/accuracy=0.925, spam_task/spam_dataset/valid/f1=0.913]"
     ]
    },
    {
     "name": "stderr",
     "output_type": "stream",
     "text": [
      "\r",
      "Epoch 4::  34%|███▍      | 17/50 [00:01<00:03,  9.48it/s, model/all/train/loss=0.109, model/all/train/lr=0.0001, spam_task/spam_dataset/valid/accuracy=0.925, spam_task/spam_dataset/valid/f1=0.913]"
     ]
    },
    {
     "name": "stderr",
     "output_type": "stream",
     "text": [
      "\r",
      "Epoch 4::  34%|███▍      | 17/50 [00:01<00:03,  9.48it/s, model/all/train/loss=0.107, model/all/train/lr=0.0001, spam_task/spam_dataset/valid/accuracy=0.925, spam_task/spam_dataset/valid/f1=0.913]"
     ]
    },
    {
     "name": "stderr",
     "output_type": "stream",
     "text": [
      "\r",
      "Epoch 4::  36%|███▌      | 18/50 [00:01<00:03,  9.49it/s, model/all/train/loss=0.107, model/all/train/lr=0.0001, spam_task/spam_dataset/valid/accuracy=0.925, spam_task/spam_dataset/valid/f1=0.913]"
     ]
    },
    {
     "name": "stderr",
     "output_type": "stream",
     "text": [
      "\r",
      "Epoch 4::  36%|███▌      | 18/50 [00:02<00:03,  9.49it/s, model/all/train/loss=0.105, model/all/train/lr=0.0001, spam_task/spam_dataset/valid/accuracy=0.925, spam_task/spam_dataset/valid/f1=0.913]"
     ]
    },
    {
     "name": "stderr",
     "output_type": "stream",
     "text": [
      "\r",
      "Epoch 4::  38%|███▊      | 19/50 [00:02<00:03,  9.48it/s, model/all/train/loss=0.105, model/all/train/lr=0.0001, spam_task/spam_dataset/valid/accuracy=0.925, spam_task/spam_dataset/valid/f1=0.913]"
     ]
    },
    {
     "name": "stderr",
     "output_type": "stream",
     "text": [
      "\r",
      "Epoch 4::  38%|███▊      | 19/50 [00:02<00:03,  9.48it/s, model/all/train/loss=0.107, model/all/train/lr=0.0001, spam_task/spam_dataset/valid/accuracy=0.925, spam_task/spam_dataset/valid/f1=0.913]"
     ]
    },
    {
     "name": "stderr",
     "output_type": "stream",
     "text": [
      "\r",
      "Epoch 4::  40%|████      | 20/50 [00:02<00:03,  9.50it/s, model/all/train/loss=0.107, model/all/train/lr=0.0001, spam_task/spam_dataset/valid/accuracy=0.925, spam_task/spam_dataset/valid/f1=0.913]"
     ]
    },
    {
     "name": "stderr",
     "output_type": "stream",
     "text": [
      "\r",
      "Epoch 4::  40%|████      | 20/50 [00:02<00:03,  9.50it/s, model/all/train/loss=0.106, model/all/train/lr=0.0001, spam_task/spam_dataset/valid/accuracy=0.925, spam_task/spam_dataset/valid/f1=0.913]"
     ]
    },
    {
     "name": "stderr",
     "output_type": "stream",
     "text": [
      "\r",
      "Epoch 4::  42%|████▏     | 21/50 [00:02<00:03,  9.48it/s, model/all/train/loss=0.106, model/all/train/lr=0.0001, spam_task/spam_dataset/valid/accuracy=0.925, spam_task/spam_dataset/valid/f1=0.913]"
     ]
    },
    {
     "name": "stderr",
     "output_type": "stream",
     "text": [
      "\r",
      "Epoch 4::  42%|████▏     | 21/50 [00:02<00:03,  9.48it/s, model/all/train/loss=0.106, model/all/train/lr=0.0001, spam_task/spam_dataset/valid/accuracy=0.925, spam_task/spam_dataset/valid/f1=0.913]"
     ]
    },
    {
     "name": "stderr",
     "output_type": "stream",
     "text": [
      "\r",
      "Epoch 4::  44%|████▍     | 22/50 [00:02<00:02,  9.50it/s, model/all/train/loss=0.106, model/all/train/lr=0.0001, spam_task/spam_dataset/valid/accuracy=0.925, spam_task/spam_dataset/valid/f1=0.913]"
     ]
    },
    {
     "name": "stderr",
     "output_type": "stream",
     "text": [
      "\r",
      "Epoch 4::  44%|████▍     | 22/50 [00:02<00:02,  9.50it/s, model/all/train/loss=0.106, model/all/train/lr=0.0001, spam_task/spam_dataset/valid/accuracy=0.925, spam_task/spam_dataset/valid/f1=0.913]"
     ]
    },
    {
     "name": "stderr",
     "output_type": "stream",
     "text": [
      "\r",
      "Epoch 4::  46%|████▌     | 23/50 [00:02<00:02,  9.50it/s, model/all/train/loss=0.106, model/all/train/lr=0.0001, spam_task/spam_dataset/valid/accuracy=0.925, spam_task/spam_dataset/valid/f1=0.913]"
     ]
    },
    {
     "name": "stderr",
     "output_type": "stream",
     "text": [
      "\r",
      "Epoch 4::  46%|████▌     | 23/50 [00:02<00:02,  9.50it/s, model/all/train/loss=0.104, model/all/train/lr=0.0001, spam_task/spam_dataset/valid/accuracy=0.925, spam_task/spam_dataset/valid/f1=0.913]"
     ]
    },
    {
     "name": "stderr",
     "output_type": "stream",
     "text": [
      "\r",
      "Epoch 4::  48%|████▊     | 24/50 [00:02<00:02,  9.47it/s, model/all/train/loss=0.104, model/all/train/lr=0.0001, spam_task/spam_dataset/valid/accuracy=0.925, spam_task/spam_dataset/valid/f1=0.913]"
     ]
    },
    {
     "name": "stderr",
     "output_type": "stream",
     "text": [
      "\r",
      "Epoch 4::  48%|████▊     | 24/50 [00:02<00:02,  9.47it/s, model/all/train/loss=0.102, model/all/train/lr=0.0001, spam_task/spam_dataset/valid/accuracy=0.925, spam_task/spam_dataset/valid/f1=0.913]"
     ]
    },
    {
     "name": "stderr",
     "output_type": "stream",
     "text": [
      "\r",
      "Epoch 4::  50%|█████     | 25/50 [00:02<00:02,  9.45it/s, model/all/train/loss=0.102, model/all/train/lr=0.0001, spam_task/spam_dataset/valid/accuracy=0.925, spam_task/spam_dataset/valid/f1=0.913]"
     ]
    },
    {
     "name": "stderr",
     "output_type": "stream",
     "text": [
      "\r",
      "Epoch 4::  50%|█████     | 25/50 [00:02<00:02,  9.45it/s, model/all/train/loss=0.1, model/all/train/lr=0.0001, spam_task/spam_dataset/valid/accuracy=0.925, spam_task/spam_dataset/valid/f1=0.913]  "
     ]
    },
    {
     "name": "stderr",
     "output_type": "stream",
     "text": [
      "\r",
      "Epoch 4::  52%|█████▏    | 26/50 [00:02<00:02,  9.44it/s, model/all/train/loss=0.1, model/all/train/lr=0.0001, spam_task/spam_dataset/valid/accuracy=0.925, spam_task/spam_dataset/valid/f1=0.913]"
     ]
    },
    {
     "name": "stderr",
     "output_type": "stream",
     "text": [
      "\r",
      "Epoch 4::  52%|█████▏    | 26/50 [00:02<00:02,  9.44it/s, model/all/train/loss=0.103, model/all/train/lr=0.0001, spam_task/spam_dataset/valid/accuracy=0.925, spam_task/spam_dataset/valid/f1=0.913]"
     ]
    },
    {
     "name": "stderr",
     "output_type": "stream",
     "text": [
      "\r",
      "Epoch 4::  54%|█████▍    | 27/50 [00:02<00:02,  9.48it/s, model/all/train/loss=0.103, model/all/train/lr=0.0001, spam_task/spam_dataset/valid/accuracy=0.925, spam_task/spam_dataset/valid/f1=0.913]"
     ]
    },
    {
     "name": "stderr",
     "output_type": "stream",
     "text": [
      "\r",
      "Epoch 4::  54%|█████▍    | 27/50 [00:02<00:02,  9.48it/s, model/all/train/loss=0.102, model/all/train/lr=0.0001, spam_task/spam_dataset/valid/accuracy=0.925, spam_task/spam_dataset/valid/f1=0.913]"
     ]
    },
    {
     "name": "stderr",
     "output_type": "stream",
     "text": [
      "\r",
      "Epoch 4::  56%|█████▌    | 28/50 [00:02<00:02,  9.46it/s, model/all/train/loss=0.102, model/all/train/lr=0.0001, spam_task/spam_dataset/valid/accuracy=0.925, spam_task/spam_dataset/valid/f1=0.913]"
     ]
    },
    {
     "name": "stderr",
     "output_type": "stream",
     "text": [
      "\r",
      "Epoch 4::  56%|█████▌    | 28/50 [00:03<00:02,  9.46it/s, model/all/train/loss=0.101, model/all/train/lr=0.0001, spam_task/spam_dataset/valid/accuracy=0.925, spam_task/spam_dataset/valid/f1=0.913]"
     ]
    },
    {
     "name": "stderr",
     "output_type": "stream",
     "text": [
      "\r",
      "Epoch 4::  58%|█████▊    | 29/50 [00:03<00:02,  9.46it/s, model/all/train/loss=0.101, model/all/train/lr=0.0001, spam_task/spam_dataset/valid/accuracy=0.925, spam_task/spam_dataset/valid/f1=0.913]"
     ]
    },
    {
     "name": "stderr",
     "output_type": "stream",
     "text": [
      "\r",
      "Epoch 4::  58%|█████▊    | 29/50 [00:03<00:02,  9.46it/s, model/all/train/loss=0.1, model/all/train/lr=0.0001, spam_task/spam_dataset/valid/accuracy=0.925, spam_task/spam_dataset/valid/f1=0.913]  "
     ]
    },
    {
     "name": "stderr",
     "output_type": "stream",
     "text": [
      "\r",
      "Epoch 4::  60%|██████    | 30/50 [00:03<00:02,  9.45it/s, model/all/train/loss=0.1, model/all/train/lr=0.0001, spam_task/spam_dataset/valid/accuracy=0.925, spam_task/spam_dataset/valid/f1=0.913]"
     ]
    },
    {
     "name": "stderr",
     "output_type": "stream",
     "text": [
      "\r",
      "Epoch 4::  60%|██████    | 30/50 [00:03<00:02,  9.45it/s, model/all/train/loss=0.1, model/all/train/lr=0.0001, spam_task/spam_dataset/valid/accuracy=0.925, spam_task/spam_dataset/valid/f1=0.913]"
     ]
    },
    {
     "name": "stderr",
     "output_type": "stream",
     "text": [
      "\r",
      "Epoch 4::  62%|██████▏   | 31/50 [00:03<00:02,  9.47it/s, model/all/train/loss=0.1, model/all/train/lr=0.0001, spam_task/spam_dataset/valid/accuracy=0.925, spam_task/spam_dataset/valid/f1=0.913]"
     ]
    },
    {
     "name": "stderr",
     "output_type": "stream",
     "text": [
      "\r",
      "Epoch 4::  62%|██████▏   | 31/50 [00:03<00:02,  9.47it/s, model/all/train/loss=0.0998, model/all/train/lr=0.0001, spam_task/spam_dataset/valid/accuracy=0.925, spam_task/spam_dataset/valid/f1=0.913]"
     ]
    },
    {
     "name": "stderr",
     "output_type": "stream",
     "text": [
      "\r",
      "Epoch 4::  64%|██████▍   | 32/50 [00:03<00:01,  9.50it/s, model/all/train/loss=0.0998, model/all/train/lr=0.0001, spam_task/spam_dataset/valid/accuracy=0.925, spam_task/spam_dataset/valid/f1=0.913]"
     ]
    },
    {
     "name": "stderr",
     "output_type": "stream",
     "text": [
      "\r",
      "Epoch 4::  64%|██████▍   | 32/50 [00:03<00:01,  9.50it/s, model/all/train/loss=0.0988, model/all/train/lr=0.0001, spam_task/spam_dataset/valid/accuracy=0.925, spam_task/spam_dataset/valid/f1=0.913]"
     ]
    },
    {
     "name": "stderr",
     "output_type": "stream",
     "text": [
      "\r",
      "Epoch 4::  66%|██████▌   | 33/50 [00:03<00:01,  9.49it/s, model/all/train/loss=0.0988, model/all/train/lr=0.0001, spam_task/spam_dataset/valid/accuracy=0.925, spam_task/spam_dataset/valid/f1=0.913]"
     ]
    },
    {
     "name": "stderr",
     "output_type": "stream",
     "text": [
      "\r",
      "Epoch 4::  66%|██████▌   | 33/50 [00:03<00:01,  9.49it/s, model/all/train/loss=0.0982, model/all/train/lr=0.0001, spam_task/spam_dataset/valid/accuracy=0.925, spam_task/spam_dataset/valid/f1=0.913]"
     ]
    },
    {
     "name": "stderr",
     "output_type": "stream",
     "text": [
      "\r",
      "Epoch 4::  68%|██████▊   | 34/50 [00:03<00:01,  9.50it/s, model/all/train/loss=0.0982, model/all/train/lr=0.0001, spam_task/spam_dataset/valid/accuracy=0.925, spam_task/spam_dataset/valid/f1=0.913]"
     ]
    },
    {
     "name": "stderr",
     "output_type": "stream",
     "text": [
      "\r",
      "Epoch 4::  68%|██████▊   | 34/50 [00:03<00:01,  9.50it/s, model/all/train/loss=0.0973, model/all/train/lr=0.0001, spam_task/spam_dataset/valid/accuracy=0.925, spam_task/spam_dataset/valid/f1=0.913]"
     ]
    },
    {
     "name": "stderr",
     "output_type": "stream",
     "text": [
      "\r",
      "Epoch 4::  70%|███████   | 35/50 [00:03<00:01,  9.48it/s, model/all/train/loss=0.0973, model/all/train/lr=0.0001, spam_task/spam_dataset/valid/accuracy=0.925, spam_task/spam_dataset/valid/f1=0.913]"
     ]
    },
    {
     "name": "stderr",
     "output_type": "stream",
     "text": [
      "\r",
      "Epoch 4::  70%|███████   | 35/50 [00:03<00:01,  9.48it/s, model/all/train/loss=0.0974, model/all/train/lr=0.0001, spam_task/spam_dataset/valid/accuracy=0.925, spam_task/spam_dataset/valid/f1=0.913]"
     ]
    },
    {
     "name": "stderr",
     "output_type": "stream",
     "text": [
      "\r",
      "Epoch 4::  72%|███████▏  | 36/50 [00:03<00:01,  9.02it/s, model/all/train/loss=0.0974, model/all/train/lr=0.0001, spam_task/spam_dataset/valid/accuracy=0.925, spam_task/spam_dataset/valid/f1=0.913]"
     ]
    },
    {
     "name": "stderr",
     "output_type": "stream",
     "text": [
      "\r",
      "Epoch 4::  72%|███████▏  | 36/50 [00:03<00:01,  9.02it/s, model/all/train/loss=0.0965, model/all/train/lr=0.0001, spam_task/spam_dataset/valid/accuracy=0.925, spam_task/spam_dataset/valid/f1=0.913]"
     ]
    },
    {
     "name": "stderr",
     "output_type": "stream",
     "text": [
      "\r",
      "Epoch 4::  74%|███████▍  | 37/50 [00:03<00:01,  8.71it/s, model/all/train/loss=0.0965, model/all/train/lr=0.0001, spam_task/spam_dataset/valid/accuracy=0.925, spam_task/spam_dataset/valid/f1=0.913]"
     ]
    },
    {
     "name": "stderr",
     "output_type": "stream",
     "text": [
      "\r",
      "Epoch 4::  74%|███████▍  | 37/50 [00:04<00:01,  8.71it/s, model/all/train/loss=0.0953, model/all/train/lr=0.0001, spam_task/spam_dataset/valid/accuracy=0.925, spam_task/spam_dataset/valid/f1=0.913]"
     ]
    },
    {
     "name": "stderr",
     "output_type": "stream",
     "text": [
      "\r",
      "Epoch 4::  76%|███████▌  | 38/50 [00:04<00:01,  8.48it/s, model/all/train/loss=0.0953, model/all/train/lr=0.0001, spam_task/spam_dataset/valid/accuracy=0.925, spam_task/spam_dataset/valid/f1=0.913]"
     ]
    },
    {
     "name": "stderr",
     "output_type": "stream",
     "text": [
      "\r",
      "Epoch 4::  76%|███████▌  | 38/50 [00:04<00:01,  8.48it/s, model/all/train/loss=0.0947, model/all/train/lr=0.0001, spam_task/spam_dataset/valid/accuracy=0.925, spam_task/spam_dataset/valid/f1=0.913]"
     ]
    },
    {
     "name": "stderr",
     "output_type": "stream",
     "text": [
      "\r",
      "Epoch 4::  78%|███████▊  | 39/50 [00:04<00:01,  8.37it/s, model/all/train/loss=0.0947, model/all/train/lr=0.0001, spam_task/spam_dataset/valid/accuracy=0.925, spam_task/spam_dataset/valid/f1=0.913]"
     ]
    },
    {
     "name": "stderr",
     "output_type": "stream",
     "text": [
      "\r",
      "Epoch 4::  78%|███████▊  | 39/50 [00:04<00:01,  8.37it/s, model/all/train/loss=0.0942, model/all/train/lr=0.0001, spam_task/spam_dataset/valid/accuracy=0.925, spam_task/spam_dataset/valid/f1=0.913]"
     ]
    },
    {
     "name": "stderr",
     "output_type": "stream",
     "text": [
      "\r",
      "Epoch 4::  80%|████████  | 40/50 [00:04<00:01,  8.22it/s, model/all/train/loss=0.0942, model/all/train/lr=0.0001, spam_task/spam_dataset/valid/accuracy=0.925, spam_task/spam_dataset/valid/f1=0.913]"
     ]
    },
    {
     "name": "stderr",
     "output_type": "stream",
     "text": [
      "\r",
      "Epoch 4::  80%|████████  | 40/50 [00:04<00:01,  8.22it/s, model/all/train/loss=0.0946, model/all/train/lr=0.0001, spam_task/spam_dataset/valid/accuracy=0.925, spam_task/spam_dataset/valid/f1=0.913]"
     ]
    },
    {
     "name": "stderr",
     "output_type": "stream",
     "text": [
      "\r",
      "Epoch 4::  82%|████████▏ | 41/50 [00:04<00:01,  7.71it/s, model/all/train/loss=0.0946, model/all/train/lr=0.0001, spam_task/spam_dataset/valid/accuracy=0.925, spam_task/spam_dataset/valid/f1=0.913]"
     ]
    },
    {
     "name": "stderr",
     "output_type": "stream",
     "text": [
      "\r",
      "Epoch 4::  82%|████████▏ | 41/50 [00:04<00:01,  7.71it/s, model/all/train/loss=0.0948, model/all/train/lr=0.0001, spam_task/spam_dataset/valid/accuracy=0.925, spam_task/spam_dataset/valid/f1=0.913]"
     ]
    },
    {
     "name": "stderr",
     "output_type": "stream",
     "text": [
      "\r",
      "Epoch 4::  84%|████████▍ | 42/50 [00:04<00:01,  7.71it/s, model/all/train/loss=0.0948, model/all/train/lr=0.0001, spam_task/spam_dataset/valid/accuracy=0.925, spam_task/spam_dataset/valid/f1=0.913]"
     ]
    },
    {
     "name": "stderr",
     "output_type": "stream",
     "text": [
      "\r",
      "Epoch 4::  84%|████████▍ | 42/50 [00:04<00:01,  7.71it/s, model/all/train/loss=0.0953, model/all/train/lr=0.0001, spam_task/spam_dataset/valid/accuracy=0.925, spam_task/spam_dataset/valid/f1=0.913]"
     ]
    },
    {
     "name": "stderr",
     "output_type": "stream",
     "text": [
      "\r",
      "Epoch 4::  86%|████████▌ | 43/50 [00:04<00:00,  7.65it/s, model/all/train/loss=0.0953, model/all/train/lr=0.0001, spam_task/spam_dataset/valid/accuracy=0.925, spam_task/spam_dataset/valid/f1=0.913]"
     ]
    },
    {
     "name": "stderr",
     "output_type": "stream",
     "text": [
      "\r",
      "Epoch 4::  86%|████████▌ | 43/50 [00:04<00:00,  7.65it/s, model/all/train/loss=0.0954, model/all/train/lr=0.0001, spam_task/spam_dataset/valid/accuracy=0.925, spam_task/spam_dataset/valid/f1=0.913]"
     ]
    },
    {
     "name": "stderr",
     "output_type": "stream",
     "text": [
      "\r",
      "Epoch 4::  88%|████████▊ | 44/50 [00:04<00:00,  7.60it/s, model/all/train/loss=0.0954, model/all/train/lr=0.0001, spam_task/spam_dataset/valid/accuracy=0.925, spam_task/spam_dataset/valid/f1=0.913]"
     ]
    },
    {
     "name": "stderr",
     "output_type": "stream",
     "text": [
      "\r",
      "Epoch 4::  88%|████████▊ | 44/50 [00:04<00:00,  7.60it/s, model/all/train/loss=0.0947, model/all/train/lr=0.0001, spam_task/spam_dataset/valid/accuracy=0.925, spam_task/spam_dataset/valid/f1=0.913]"
     ]
    },
    {
     "name": "stderr",
     "output_type": "stream",
     "text": [
      "\r",
      "Epoch 4::  90%|█████████ | 45/50 [00:04<00:00,  7.67it/s, model/all/train/loss=0.0947, model/all/train/lr=0.0001, spam_task/spam_dataset/valid/accuracy=0.925, spam_task/spam_dataset/valid/f1=0.913]"
     ]
    },
    {
     "name": "stderr",
     "output_type": "stream",
     "text": [
      "\r",
      "Epoch 4::  90%|█████████ | 45/50 [00:05<00:00,  7.67it/s, model/all/train/loss=0.0942, model/all/train/lr=0.0001, spam_task/spam_dataset/valid/accuracy=0.925, spam_task/spam_dataset/valid/f1=0.913]"
     ]
    },
    {
     "name": "stderr",
     "output_type": "stream",
     "text": [
      "\r",
      "Epoch 4::  92%|█████████▏| 46/50 [00:05<00:00,  7.77it/s, model/all/train/loss=0.0942, model/all/train/lr=0.0001, spam_task/spam_dataset/valid/accuracy=0.925, spam_task/spam_dataset/valid/f1=0.913]"
     ]
    },
    {
     "name": "stderr",
     "output_type": "stream",
     "text": [
      "\r",
      "Epoch 4::  92%|█████████▏| 46/50 [00:05<00:00,  7.77it/s, model/all/train/loss=0.0933, model/all/train/lr=0.0001, spam_task/spam_dataset/valid/accuracy=0.925, spam_task/spam_dataset/valid/f1=0.913]"
     ]
    },
    {
     "name": "stderr",
     "output_type": "stream",
     "text": [
      "\r",
      "Epoch 4::  94%|█████████▍| 47/50 [00:05<00:00,  7.59it/s, model/all/train/loss=0.0933, model/all/train/lr=0.0001, spam_task/spam_dataset/valid/accuracy=0.925, spam_task/spam_dataset/valid/f1=0.913]"
     ]
    },
    {
     "name": "stderr",
     "output_type": "stream",
     "text": [
      "\r",
      "Epoch 4::  94%|█████████▍| 47/50 [00:05<00:00,  7.59it/s, model/all/train/loss=0.0932, model/all/train/lr=0.0001, spam_task/spam_dataset/valid/accuracy=0.925, spam_task/spam_dataset/valid/f1=0.913]"
     ]
    },
    {
     "name": "stderr",
     "output_type": "stream",
     "text": [
      "\r",
      "Epoch 4::  96%|█████████▌| 48/50 [00:05<00:00,  7.71it/s, model/all/train/loss=0.0932, model/all/train/lr=0.0001, spam_task/spam_dataset/valid/accuracy=0.925, spam_task/spam_dataset/valid/f1=0.913]"
     ]
    },
    {
     "name": "stderr",
     "output_type": "stream",
     "text": [
      "\r",
      "Epoch 4::  96%|█████████▌| 48/50 [00:05<00:00,  7.71it/s, model/all/train/loss=0.0922, model/all/train/lr=0.0001, spam_task/spam_dataset/valid/accuracy=0.925, spam_task/spam_dataset/valid/f1=0.913]"
     ]
    },
    {
     "name": "stderr",
     "output_type": "stream",
     "text": [
      "\r",
      "Epoch 4::  98%|█████████▊| 49/50 [00:05<00:00,  7.57it/s, model/all/train/loss=0.0922, model/all/train/lr=0.0001, spam_task/spam_dataset/valid/accuracy=0.925, spam_task/spam_dataset/valid/f1=0.913]"
     ]
    },
    {
     "name": "stderr",
     "output_type": "stream",
     "text": [
      "\r",
      "Epoch 4::  98%|█████████▊| 49/50 [00:05<00:00,  7.57it/s, model/all/train/loss=0.0923, model/all/train/lr=0.0001, spam_task/spam_dataset/valid/accuracy=0.917, spam_task/spam_dataset/valid/f1=0.902]"
     ]
    },
    {
     "name": "stderr",
     "output_type": "stream",
     "text": [
      "\r",
      "Epoch 4:: 100%|██████████| 50/50 [00:05<00:00,  7.31it/s, model/all/train/loss=0.0923, model/all/train/lr=0.0001, spam_task/spam_dataset/valid/accuracy=0.917, spam_task/spam_dataset/valid/f1=0.902]"
     ]
    },
    {
     "name": "stderr",
     "output_type": "stream",
     "text": [
      "\n"
     ]
    }
   ],
   "source": [
    "from snorkel.classification import MultitaskClassifier, Trainer\n",
    "\n",
    "model = MultitaskClassifier([spam_task])\n",
    "trainer = Trainer(n_epochs=5, lr=1e-4, progress_bar=True)\n",
    "trainer.fit(model, [dl_train, dl_valid])"
   ]
  },
  {
   "cell_type": "markdown",
   "metadata": {},
   "source": [
    "How well does our model do?"
   ]
  },
  {
   "cell_type": "code",
   "execution_count": 11,
   "metadata": {},
   "outputs": [
    {
     "data": {
      "text/html": [
       "<div>\n",
       "<style scoped>\n",
       "    .dataframe tbody tr th:only-of-type {\n",
       "        vertical-align: middle;\n",
       "    }\n",
       "\n",
       "    .dataframe tbody tr th {\n",
       "        vertical-align: top;\n",
       "    }\n",
       "\n",
       "    .dataframe thead th {\n",
       "        text-align: right;\n",
       "    }\n",
       "</style>\n",
       "<table border=\"1\" class=\"dataframe\">\n",
       "  <thead>\n",
       "    <tr style=\"text-align: right;\">\n",
       "      <th></th>\n",
       "      <th>label</th>\n",
       "      <th>dataset</th>\n",
       "      <th>split</th>\n",
       "      <th>metric</th>\n",
       "      <th>score</th>\n",
       "    </tr>\n",
       "  </thead>\n",
       "  <tbody>\n",
       "    <tr>\n",
       "      <th>0</th>\n",
       "      <td>spam_task</td>\n",
       "      <td>spam_dataset</td>\n",
       "      <td>train</td>\n",
       "      <td>accuracy</td>\n",
       "      <td>0.990542</td>\n",
       "    </tr>\n",
       "    <tr>\n",
       "      <th>1</th>\n",
       "      <td>spam_task</td>\n",
       "      <td>spam_dataset</td>\n",
       "      <td>train</td>\n",
       "      <td>f1</td>\n",
       "      <td>0.990937</td>\n",
       "    </tr>\n",
       "    <tr>\n",
       "      <th>2</th>\n",
       "      <td>spam_task</td>\n",
       "      <td>spam_dataset</td>\n",
       "      <td>valid</td>\n",
       "      <td>accuracy</td>\n",
       "      <td>0.916667</td>\n",
       "    </tr>\n",
       "    <tr>\n",
       "      <th>3</th>\n",
       "      <td>spam_task</td>\n",
       "      <td>spam_dataset</td>\n",
       "      <td>valid</td>\n",
       "      <td>f1</td>\n",
       "      <td>0.901961</td>\n",
       "    </tr>\n",
       "  </tbody>\n",
       "</table>\n",
       "</div>"
      ],
      "text/plain": [
       "       label       dataset  split    metric     score\n",
       "0  spam_task  spam_dataset  train  accuracy  0.990542\n",
       "1  spam_task  spam_dataset  train  f1        0.990937\n",
       "2  spam_task  spam_dataset  valid  accuracy  0.916667\n",
       "3  spam_task  spam_dataset  valid  f1        0.901961"
      ]
     },
     "execution_count": 11,
     "metadata": {},
     "output_type": "execute_result"
    }
   ],
   "source": [
    "model.score([dl_train, dl_valid], as_dataframe=True)"
   ]
  },
  {
   "cell_type": "markdown",
   "metadata": {},
   "source": [
    "## 2. Perform error analysis\n",
    "\n",
    "In overall metrics (`f1`, `accuracy`) our model appears to perform well!\n",
    "However, we emphasize we might actually be _more_ interested in performance for application-critical subsets, or _slices_.\n",
    "\n",
    "Let's perform an [`error_analysis`](https://snorkel.readthedocs.io/en/redux/source/snorkel.analysis.html#module-snorkel.analysis.error_analysis) to see where our model makes mistakes.\n",
    "We collect the predictions from the model and visualize examples in specific error buckets."
   ]
  },
  {
   "cell_type": "code",
   "execution_count": 12,
   "metadata": {},
   "outputs": [],
   "source": [
    "from snorkel.analysis.error_analysis import get_label_buckets\n",
    "\n",
    "outputs = model.predict(dl_valid, return_preds=True)\n",
    "error_buckets = get_label_buckets(\n",
    "    outputs[\"golds\"][\"spam_task\"], outputs[\"preds\"][\"spam_task\"]\n",
    ")"
   ]
  },
  {
   "cell_type": "markdown",
   "metadata": {},
   "source": [
    "For application purposes, we might care especially about false negatives (i.e. true label was $1$, but model predicted $0$) — for the spam task, this error mode might expose users to external links that correspond to malware!"
   ]
  },
  {
   "cell_type": "code",
   "execution_count": 13,
   "metadata": {},
   "outputs": [
    {
     "data": {
      "text/html": [
       "<div>\n",
       "<style scoped>\n",
       "    .dataframe tbody tr th:only-of-type {\n",
       "        vertical-align: middle;\n",
       "    }\n",
       "\n",
       "    .dataframe tbody tr th {\n",
       "        vertical-align: top;\n",
       "    }\n",
       "\n",
       "    .dataframe thead th {\n",
       "        text-align: right;\n",
       "    }\n",
       "</style>\n",
       "<table border=\"1\" class=\"dataframe\">\n",
       "  <thead>\n",
       "    <tr style=\"text-align: right;\">\n",
       "      <th></th>\n",
       "      <th>text</th>\n",
       "      <th>label</th>\n",
       "    </tr>\n",
       "  </thead>\n",
       "  <tbody>\n",
       "    <tr>\n",
       "      <th>218</th>\n",
       "      <td>WOW muslims are really egoistic..... 23% of the World population and not in this video or donating 1 dollar to the poor ones in Africa :( shame on those terrorist muslims</td>\n",
       "      <td>1</td>\n",
       "    </tr>\n",
       "    <tr>\n",
       "      <th>157</th>\n",
       "      <td>Fuck it was the best ever 0687119038 nummber of patrik kluivert his son share !﻿</td>\n",
       "      <td>1</td>\n",
       "    </tr>\n",
       "    <tr>\n",
       "      <th>154</th>\n",
       "      <td>1 753 682 421 GANGNAM STYLE ^^</td>\n",
       "      <td>1</td>\n",
       "    </tr>\n",
       "    <tr>\n",
       "      <th>31</th>\n",
       "      <td>Part 5. Comforter of the afflicted, pray for us Help of Christians, pray for us Queen of Angels, pray for us Queen of Patriarchs, pray for us Queen of Prophets, pray for us Queen of Apostles, pray for us Queen of Martyrs, pray for us Queen of Confessors, pray for us Queen of Virgins, pray for us Queen of all Saints, pray for us Queen conceived without original sin, pray for us Queen of the most holy Rosary, pray for us Queen of the family, pray for us Queen of peace, pray for us</td>\n",
       "      <td>1</td>\n",
       "    </tr>\n",
       "    <tr>\n",
       "      <th>142</th>\n",
       "      <td>I WILL NEVER FORGET THIS SONG IN MY LIFE LIKE THIS COMMENT OF YOUR HEARING THIS SONG FOR LIKE A YEAR!!!!!</td>\n",
       "      <td>1</td>\n",
       "    </tr>\n",
       "  </tbody>\n",
       "</table>\n",
       "</div>"
      ],
      "text/plain": [
       "                                                                                                                                                                                                                                                                                                                                                                                                                                                                                                     text  \\\n",
       "218  WOW muslims are really egoistic..... 23% of the World population and not in this video or donating 1 dollar to the poor ones in Africa :( shame on those terrorist muslims                                                                                                                                                                                                                                                                                                                             \n",
       "157  Fuck it was the best ever 0687119038 nummber of patrik kluivert his son share !﻿                                                                                                                                                                                                                                                                                                                                                                                                                       \n",
       "154  1 753 682 421 GANGNAM STYLE ^^                                                                                                                                                                                                                                                                                                                                                                                                                                                                         \n",
       "31   Part 5. Comforter of the afflicted, pray for us Help of Christians, pray for us Queen of Angels, pray for us Queen of Patriarchs, pray for us Queen of Prophets, pray for us Queen of Apostles, pray for us Queen of Martyrs, pray for us Queen of Confessors, pray for us Queen of Virgins, pray for us Queen of all Saints, pray for us Queen conceived without original sin, pray for us Queen of the most holy Rosary, pray for us Queen of the family, pray for us Queen of peace, pray for us    \n",
       "142  I WILL NEVER FORGET THIS SONG IN MY LIFE LIKE THIS COMMENT OF YOUR HEARING THIS SONG FOR LIKE A YEAR!!!!!                                                                                                                                                                                                                                                                                                                                                                                              \n",
       "\n",
       "     label  \n",
       "218  1      \n",
       "157  1      \n",
       "154  1      \n",
       "31   1      \n",
       "142  1      "
      ]
     },
     "execution_count": 13,
     "metadata": {},
     "output_type": "execute_result"
    }
   ],
   "source": [
    "df_valid[[\"text\", \"label\"]].iloc[error_buckets[(1, 0)]].head()"
   ]
  },
  {
   "cell_type": "markdown",
   "metadata": {},
   "source": [
    "We notice that we're mis-classifying particularly some comments with shortened urls (e.g. `bit.ly/...`) — these links could redirect us to potentially dangerous websites, and we don't want our users to click them!"
   ]
  },
  {
   "cell_type": "markdown",
   "metadata": {},
   "source": [
    "## 3. Monitor data slices\n",
    "\n",
    "We leverage *slicing functions* (SFs) — an abstraction that shares syntax with *labeling functions*, which you should already be familiar with.\n",
    "(If not, please see the [intro tutorial](https://github.com/snorkel-team/snorkel-tutorials/blob/master/spam/01_spam_tutorial.ipynb).)\n",
    "A key difference: whereas labeling functions output labels, slicing functions output binary _masks_ indicating whether an example is in the slice or not."
   ]
  },
  {
   "cell_type": "markdown",
   "metadata": {},
   "source": [
    "In the following cells, we define a slicing function that identifies these shortened links the spam dataset.\n",
    "To do so, we write a regex that checks for the commonly-used `.ly` extension.\n",
    "\n",
    "You'll notice that the slicing function is noisily defined — it doesn't represent the ground truth for all short links.\n",
    "Instead, SFs are often heuristics to quickly measure performance over important subsets of the data."
   ]
  },
  {
   "cell_type": "code",
   "execution_count": 14,
   "metadata": {},
   "outputs": [],
   "source": [
    "import re\n",
    "from snorkel.slicing import slicing_function\n",
    "\n",
    "\n",
    "@slicing_function()\n",
    "def short_link(x):\n",
    "    \"\"\"Returns whether text matches common pattern for shortened \".ly\" links.\"\"\"\n",
    "    return bool(re.search(r\"\\w+\\.ly\", x.text))\n",
    "\n",
    "\n",
    "sfs = [short_link]\n",
    "slice_names = [sf.name for sf in sfs]"
   ]
  },
  {
   "cell_type": "markdown",
   "metadata": {},
   "source": [
    "For our $n$ examples and $k$ slices in each split, we apply the SF to our data to create an $n \\times k$ matrix. (So far, $k=1$)."
   ]
  },
  {
   "cell_type": "code",
   "execution_count": 15,
   "metadata": {},
   "outputs": [
    {
     "name": "stderr",
     "output_type": "stream",
     "text": [
      "\r",
      "  0%|          | 0/1586 [00:00<?, ?it/s]"
     ]
    },
    {
     "name": "stderr",
     "output_type": "stream",
     "text": [
      "\r",
      "100%|██████████| 1586/1586 [00:00<00:00, 40173.48it/s]"
     ]
    },
    {
     "name": "stderr",
     "output_type": "stream",
     "text": [
      "\n",
      "\r",
      "  0%|          | 0/120 [00:00<?, ?it/s]"
     ]
    },
    {
     "name": "stderr",
     "output_type": "stream",
     "text": [
      "\r",
      "100%|██████████| 120/120 [00:00<00:00, 30690.03it/s]"
     ]
    },
    {
     "name": "stderr",
     "output_type": "stream",
     "text": [
      "\n",
      "\r",
      "  0%|          | 0/250 [00:00<?, ?it/s]"
     ]
    },
    {
     "name": "stderr",
     "output_type": "stream",
     "text": [
      "\r",
      "100%|██████████| 250/250 [00:00<00:00, 35627.07it/s]"
     ]
    },
    {
     "name": "stderr",
     "output_type": "stream",
     "text": [
      "\n"
     ]
    }
   ],
   "source": [
    "from snorkel.slicing import PandasSFApplier\n",
    "\n",
    "applier = PandasSFApplier(sfs)\n",
    "S_train = applier.apply(df_train)\n",
    "S_valid = applier.apply(df_valid)\n",
    "S_test = applier.apply(df_test)"
   ]
  },
  {
   "cell_type": "markdown",
   "metadata": {},
   "source": [
    "### Visualize slices with `snorkel.slicing.monitor`"
   ]
  },
  {
   "cell_type": "markdown",
   "metadata": {},
   "source": [
    "With a utility function, `slice_dataframe`, we can visualize examples belonging to this slice in a `pandas.DataFrame`."
   ]
  },
  {
   "cell_type": "code",
   "execution_count": 16,
   "metadata": {},
   "outputs": [
    {
     "name": "stderr",
     "output_type": "stream",
     "text": [
      "\r",
      "  0%|          | 0/120 [00:00<?, ?it/s]"
     ]
    },
    {
     "name": "stderr",
     "output_type": "stream",
     "text": [
      "\r",
      "100%|██████████| 120/120 [00:00<00:00, 30531.79it/s]"
     ]
    },
    {
     "name": "stderr",
     "output_type": "stream",
     "text": [
      "\n"
     ]
    },
    {
     "data": {
      "text/html": [
       "<div>\n",
       "<style scoped>\n",
       "    .dataframe tbody tr th:only-of-type {\n",
       "        vertical-align: middle;\n",
       "    }\n",
       "\n",
       "    .dataframe tbody tr th {\n",
       "        vertical-align: top;\n",
       "    }\n",
       "\n",
       "    .dataframe thead th {\n",
       "        text-align: right;\n",
       "    }\n",
       "</style>\n",
       "<table border=\"1\" class=\"dataframe\">\n",
       "  <thead>\n",
       "    <tr style=\"text-align: right;\">\n",
       "      <th></th>\n",
       "      <th>text</th>\n",
       "      <th>label</th>\n",
       "    </tr>\n",
       "  </thead>\n",
       "  <tbody>\n",
       "    <tr>\n",
       "      <th>280</th>\n",
       "      <td>Being paid to respond to fast paid surveys from home has enabled me to give up working and make more than 4500 bucks monthly.  To read more go to this web site bit.ly\\1bSefQe</td>\n",
       "      <td>1</td>\n",
       "    </tr>\n",
       "    <tr>\n",
       "      <th>192</th>\n",
       "      <td>Meet The Richest Online Marketer  NOW CLICK : bit.ly/make-money-without-adroid</td>\n",
       "      <td>1</td>\n",
       "    </tr>\n",
       "    <tr>\n",
       "      <th>301</th>\n",
       "      <td>coby this USL and past :&lt;br /&gt;&lt;a href=\"http://adf.ly\"&gt;http://adf.ly&lt;/a&gt; /1HmVtX&lt;br /&gt;delete space after y﻿</td>\n",
       "      <td>1</td>\n",
       "    </tr>\n",
       "    <tr>\n",
       "      <th>350</th>\n",
       "      <td>adf.ly / KlD3Y</td>\n",
       "      <td>1</td>\n",
       "    </tr>\n",
       "    <tr>\n",
       "      <th>18</th>\n",
       "      <td>Earn money for being online with 0 efforts!    bit.ly\\14gKvDo</td>\n",
       "      <td>1</td>\n",
       "    </tr>\n",
       "  </tbody>\n",
       "</table>\n",
       "</div>"
      ],
      "text/plain": [
       "                                                                                                                                                                               text  \\\n",
       "280  Being paid to respond to fast paid surveys from home has enabled me to give up working and make more than 4500 bucks monthly.  To read more go to this web site bit.ly\\1bSefQe   \n",
       "192  Meet The Richest Online Marketer  NOW CLICK : bit.ly/make-money-without-adroid                                                                                                   \n",
       "301  coby this USL and past :<br /><a href=\"http://adf.ly\">http://adf.ly</a> /1HmVtX<br />delete space after y﻿                                                                       \n",
       "350  adf.ly / KlD3Y                                                                                                                                                                   \n",
       "18   Earn money for being online with 0 efforts!    bit.ly\\14gKvDo                                                                                                                    \n",
       "\n",
       "     label  \n",
       "280  1      \n",
       "192  1      \n",
       "301  1      \n",
       "350  1      \n",
       "18   1      "
      ]
     },
     "execution_count": 16,
     "metadata": {},
     "output_type": "execute_result"
    }
   ],
   "source": [
    "from snorkel.slicing import slice_dataframe\n",
    "\n",
    "short_link_df = slice_dataframe(df_valid, short_link)\n",
    "short_link_df[[\"text\", \"label\"]]"
   ]
  },
  {
   "cell_type": "markdown",
   "metadata": {},
   "source": [
    "Now, we add labels for this particular slice to an existing dataloader.\n",
    "Specifically, `add_slice_labels` will add two sets of labels for each slice:\n",
    "* `spam_task_slice:{slice_name}_ind`: an indicator label, which corresponds to the outputs of the slicing functions.\n",
    "These indicate whether each example is in the slice (`label=1`)or not (`label=0`).\n",
    "* `spam_task_slice:{slice_name}_pred`: a _masked_ set of the original task labels (in this case, labeled `spam_task`) for each slice. Examples that are masked (with `label=-1`) will not contribute to loss or scoring."
   ]
  },
  {
   "cell_type": "code",
   "execution_count": 17,
   "metadata": {},
   "outputs": [],
   "source": [
    "from snorkel.slicing import add_slice_labels\n",
    "\n",
    "slice_names = [sf.name for sf in sfs]\n",
    "add_slice_labels(dl_train, spam_task, S_train, slice_names)\n",
    "add_slice_labels(dl_valid, spam_task, S_valid, slice_names)\n",
    "add_slice_labels(dl_test, spam_task, S_test, slice_names)"
   ]
  },
  {
   "cell_type": "code",
   "execution_count": 18,
   "metadata": {},
   "outputs": [
    {
     "data": {
      "text/plain": [
       "DictDataset(name=spam_dataset, X_keys=['bow_features'], Y_keys=['spam_task', 'spam_task_slice:short_link_ind', 'spam_task_slice:short_link_pred', 'spam_task_slice:base_ind', 'spam_task_slice:base_pred'])"
      ]
     },
     "execution_count": 18,
     "metadata": {},
     "output_type": "execute_result"
    }
   ],
   "source": [
    "dl_valid.dataset"
   ]
  },
  {
   "cell_type": "markdown",
   "metadata": {},
   "source": [
    "With our updated dataloader, we want to evaluate our model on the defined slice.\n",
    "In the `SnorkelClassifier`, we can call `score` with an additional argument, `remap_labels`, to specify that the slice's prediction labels, `spam_task_slice:short_link_pred`, should be mapped to the `spam_task` for evaluation."
   ]
  },
  {
   "cell_type": "code",
   "execution_count": 19,
   "metadata": {},
   "outputs": [
    {
     "name": "stderr",
     "output_type": "stream",
     "text": [
      "WARNING:root:Ignoring extra labels in dataloader (valid): {'spam_task_slice:base_ind', 'spam_task_slice:short_link_ind', 'spam_task_slice:base_pred'}\n"
     ]
    },
    {
     "name": "stderr",
     "output_type": "stream",
     "text": [
      "WARNING:root:Ignoring extra labels in dataloader (test): {'spam_task_slice:base_ind', 'spam_task_slice:short_link_ind', 'spam_task_slice:base_pred'}\n"
     ]
    },
    {
     "data": {
      "text/html": [
       "<div>\n",
       "<style scoped>\n",
       "    .dataframe tbody tr th:only-of-type {\n",
       "        vertical-align: middle;\n",
       "    }\n",
       "\n",
       "    .dataframe tbody tr th {\n",
       "        vertical-align: top;\n",
       "    }\n",
       "\n",
       "    .dataframe thead th {\n",
       "        text-align: right;\n",
       "    }\n",
       "</style>\n",
       "<table border=\"1\" class=\"dataframe\">\n",
       "  <thead>\n",
       "    <tr style=\"text-align: right;\">\n",
       "      <th></th>\n",
       "      <th>label</th>\n",
       "      <th>dataset</th>\n",
       "      <th>split</th>\n",
       "      <th>metric</th>\n",
       "      <th>score</th>\n",
       "    </tr>\n",
       "  </thead>\n",
       "  <tbody>\n",
       "    <tr>\n",
       "      <th>0</th>\n",
       "      <td>spam_task</td>\n",
       "      <td>spam_dataset</td>\n",
       "      <td>valid</td>\n",
       "      <td>accuracy</td>\n",
       "      <td>0.916667</td>\n",
       "    </tr>\n",
       "    <tr>\n",
       "      <th>1</th>\n",
       "      <td>spam_task</td>\n",
       "      <td>spam_dataset</td>\n",
       "      <td>valid</td>\n",
       "      <td>f1</td>\n",
       "      <td>0.901961</td>\n",
       "    </tr>\n",
       "    <tr>\n",
       "      <th>2</th>\n",
       "      <td>spam_task_slice:short_link_pred</td>\n",
       "      <td>spam_dataset</td>\n",
       "      <td>valid</td>\n",
       "      <td>accuracy</td>\n",
       "      <td>0.400000</td>\n",
       "    </tr>\n",
       "    <tr>\n",
       "      <th>3</th>\n",
       "      <td>spam_task_slice:short_link_pred</td>\n",
       "      <td>spam_dataset</td>\n",
       "      <td>valid</td>\n",
       "      <td>f1</td>\n",
       "      <td>0.571429</td>\n",
       "    </tr>\n",
       "    <tr>\n",
       "      <th>4</th>\n",
       "      <td>spam_task</td>\n",
       "      <td>spam_dataset</td>\n",
       "      <td>test</td>\n",
       "      <td>accuracy</td>\n",
       "      <td>0.928000</td>\n",
       "    </tr>\n",
       "    <tr>\n",
       "      <th>5</th>\n",
       "      <td>spam_task</td>\n",
       "      <td>spam_dataset</td>\n",
       "      <td>test</td>\n",
       "      <td>f1</td>\n",
       "      <td>0.918182</td>\n",
       "    </tr>\n",
       "    <tr>\n",
       "      <th>6</th>\n",
       "      <td>spam_task_slice:short_link_pred</td>\n",
       "      <td>spam_dataset</td>\n",
       "      <td>test</td>\n",
       "      <td>accuracy</td>\n",
       "      <td>0.333333</td>\n",
       "    </tr>\n",
       "    <tr>\n",
       "      <th>7</th>\n",
       "      <td>spam_task_slice:short_link_pred</td>\n",
       "      <td>spam_dataset</td>\n",
       "      <td>test</td>\n",
       "      <td>f1</td>\n",
       "      <td>0.500000</td>\n",
       "    </tr>\n",
       "  </tbody>\n",
       "</table>\n",
       "</div>"
      ],
      "text/plain": [
       "                             label       dataset  split    metric     score\n",
       "0  spam_task                        spam_dataset  valid  accuracy  0.916667\n",
       "1  spam_task                        spam_dataset  valid  f1        0.901961\n",
       "2  spam_task_slice:short_link_pred  spam_dataset  valid  accuracy  0.400000\n",
       "3  spam_task_slice:short_link_pred  spam_dataset  valid  f1        0.571429\n",
       "4  spam_task                        spam_dataset  test   accuracy  0.928000\n",
       "5  spam_task                        spam_dataset  test   f1        0.918182\n",
       "6  spam_task_slice:short_link_pred  spam_dataset  test   accuracy  0.333333\n",
       "7  spam_task_slice:short_link_pred  spam_dataset  test   f1        0.500000"
      ]
     },
     "execution_count": 19,
     "metadata": {},
     "output_type": "execute_result"
    }
   ],
   "source": [
    "model.score(\n",
    "    dataloaders=[dl_valid, dl_test],\n",
    "    remap_labels={\"spam_task_slice:short_link_pred\": \"spam_task\"},\n",
    "    as_dataframe=True,\n",
    ")"
   ]
  },
  {
   "cell_type": "markdown",
   "metadata": {},
   "source": [
    "### Monitor slices with `SliceScorer`"
   ]
  },
  {
   "cell_type": "markdown",
   "metadata": {},
   "source": [
    "If you're using a model other than `SnorkelClassifier`, you can still evaluate on slices using the more general `SliceScorer` class.\n",
    "\n",
    "We define a `LogisticRegression` model from sklearn and show how we might visualize these slice-specific scores."
   ]
  },
  {
   "cell_type": "code",
   "execution_count": 20,
   "metadata": {},
   "outputs": [
    {
     "data": {
      "text/plain": [
       "0.928"
      ]
     },
     "execution_count": 20,
     "metadata": {},
     "output_type": "execute_result"
    }
   ],
   "source": [
    "from sklearn.linear_model import LogisticRegression\n",
    "\n",
    "sklearn_model = LogisticRegression(C=0.001, solver=\"liblinear\")\n",
    "sklearn_model.fit(X=X_train, y=Y_train)\n",
    "sklearn_model.score(X_test, Y_test)"
   ]
  },
  {
   "cell_type": "code",
   "execution_count": 21,
   "metadata": {},
   "outputs": [
    {
     "data": {
      "text/html": [
       "<div>\n",
       "<style scoped>\n",
       "    .dataframe tbody tr th:only-of-type {\n",
       "        vertical-align: middle;\n",
       "    }\n",
       "\n",
       "    .dataframe tbody tr th {\n",
       "        vertical-align: top;\n",
       "    }\n",
       "\n",
       "    .dataframe thead th {\n",
       "        text-align: right;\n",
       "    }\n",
       "</style>\n",
       "<table border=\"1\" class=\"dataframe\">\n",
       "  <thead>\n",
       "    <tr style=\"text-align: right;\">\n",
       "      <th></th>\n",
       "      <th>accuracy</th>\n",
       "      <th>f1</th>\n",
       "    </tr>\n",
       "  </thead>\n",
       "  <tbody>\n",
       "    <tr>\n",
       "      <th>overall</th>\n",
       "      <td>0.928000</td>\n",
       "      <td>0.925</td>\n",
       "    </tr>\n",
       "    <tr>\n",
       "      <th>short_link</th>\n",
       "      <td>0.333333</td>\n",
       "      <td>0.500</td>\n",
       "    </tr>\n",
       "  </tbody>\n",
       "</table>\n",
       "</div>"
      ],
      "text/plain": [
       "            accuracy     f1\n",
       "overall     0.928000  0.925\n",
       "short_link  0.333333  0.500"
      ]
     },
     "execution_count": 21,
     "metadata": {},
     "output_type": "execute_result"
    }
   ],
   "source": [
    "from snorkel.utils import preds_to_probs\n",
    "from snorkel.slicing import SliceScorer\n",
    "\n",
    "\n",
    "preds_test = sklearn_model.predict(X_test)\n",
    "\n",
    "scorer = Scorer(metrics=[\"accuracy\", \"f1\"])\n",
    "scorer = SliceScorer(scorer, slice_names)\n",
    "scorer.score(\n",
    "    S=S_test,\n",
    "    golds=Y_test,\n",
    "    preds=preds_test,\n",
    "    probs=preds_to_probs(preds_test, 2),\n",
    "    as_dataframe=True,\n",
    ")"
   ]
  },
  {
   "cell_type": "markdown",
   "metadata": {},
   "source": [
    "## 4. Improve slice performance\n",
    "\n",
    "In classification tasks, we might attempt to increase slice performance with techniques like _oversampling_ (i.e. with PyTorch's [`WeightedRandomSampler`](https://pytorch.org/docs/stable/data.html#torch.utils.data.WeightedRandomSampler)).\n",
    "This would shift the training distribution to over-represent certain minority populations.\n",
    "Intuitively, we'd like to show the model more `short_link` examples so that the representation is better suited to handle them.\n",
    "\n",
    "A technique like upsampling might work with a small number of slices, but with hundreds or thousands or production slices, it could quickly become intractable to tune upsampling weights per slice.\n",
    "In the following section, we show a modeling approach that we call _Slice-based Learning,_ which handles numerous slices using with slice-specific representation learning."
   ]
  },
  {
   "cell_type": "markdown",
   "metadata": {},
   "source": [
    "### Write additional slicing functions (SFs)\n",
    "\n",
    "We'll take inspiration from the labeling tutorial to write a few additional `SlicingFunctions`."
   ]
  },
  {
   "cell_type": "code",
   "execution_count": 22,
   "metadata": {},
   "outputs": [],
   "source": [
    "from snorkel.slicing import SlicingFunction, slicing_function, nlp_slicing_function\n",
    "from snorkel.preprocess import preprocessor\n",
    "\n",
    "\n",
    "def keyword_lookup(x, keywords):\n",
    "    return any(word in x.text.lower() for word in keywords)\n",
    "\n",
    "\n",
    "def make_keyword_sf(keywords):\n",
    "    return SlicingFunction(\n",
    "        name=f\"keyword_{keywords[0]}\",\n",
    "        f=keyword_lookup,\n",
    "        resources=dict(keywords=keywords),\n",
    "    )\n",
    "\n",
    "\n",
    "\"\"\"Spam comments ask users to subscribe to their channels.\"\"\"\n",
    "keyword_subscribe = make_keyword_sf(keywords=[\"subscribe\"])\n",
    "\n",
    "\"\"\"Spam comments make requests rather than commenting.\"\"\"\n",
    "keyword_please = make_keyword_sf(keywords=[\"please\", \"plz\"])\n",
    "\n",
    "\n",
    "@nlp_slicing_function()\n",
    "def has_person_nlp(x):\n",
    "    \"\"\"Ham comments mention specific people and are short.\"\"\"\n",
    "    return len(x.doc) < 20 and any([ent.label_ == \"PERSON\" for ent in x.doc.ents])\n",
    "\n",
    "\n",
    "@slicing_function()\n",
    "def regex_check_out(x):\n",
    "    return bool(re.search(r\"check.*out\", x.text, flags=re.I))\n",
    "\n",
    "\n",
    "@slicing_function()\n",
    "def short_comment(x):\n",
    "    \"\"\"Ham comments are often short, such as 'cool video!'\"\"\"\n",
    "    return len(x.text.split()) < 5\n",
    "\n",
    "\n",
    "@slicing_function(pre=[spacy])\n",
    "def has_person(x):\n",
    "    \"\"\"Ham comments mention specific people and are short.\"\"\"\n",
    "    return len(x.doc) < 20 and any([ent.label_ == \"PERSON\" for ent in x.doc.ents])\n",
    "\n",
    "\n",
    "from textblob import TextBlob\n",
    "\n",
    "\n",
    "@preprocessor(memoize=True)\n",
    "def textblob_sentiment(x):\n",
    "    scores = TextBlob(x.text)\n",
    "    x.polarity = scores.sentiment.polarity\n",
    "    x.subjectivity = scores.sentiment.subjectivity\n",
    "    return x\n",
    "\n",
    "\n",
    "@slicing_function(pre=[textblob_sentiment])\n",
    "def textblob_polarity(x):\n",
    "    return x.polarity > 0.9\n",
    "\n",
    "\n",
    "extra_sfs = [\n",
    "    keyword_subscribe,\n",
    "    keyword_please,\n",
    "    regex_check_out,\n",
    "    short_comment,\n",
    "    has_person_nlp,\n",
    "    textblob_polarity,\n",
    "]\n",
    "\n",
    "sfs = [short_link] + extra_sfs"
   ]
  },
  {
   "cell_type": "code",
   "execution_count": 23,
   "metadata": {},
   "outputs": [
    {
     "name": "stderr",
     "output_type": "stream",
     "text": [
      "\r",
      "  0%|          | 0/1586 [00:00<?, ?it/s]"
     ]
    },
    {
     "name": "stderr",
     "output_type": "stream",
     "text": [
      "\r",
      "  1%|          | 9/1586 [00:00<00:18, 83.92it/s]"
     ]
    },
    {
     "name": "stderr",
     "output_type": "stream",
     "text": [
      "\r",
      "  1%|          | 19/1586 [00:00<00:17, 88.16it/s]"
     ]
    },
    {
     "name": "stderr",
     "output_type": "stream",
     "text": [
      "\r",
      "  2%|▏         | 30/1586 [00:00<00:16, 93.06it/s]"
     ]
    },
    {
     "name": "stderr",
     "output_type": "stream",
     "text": [
      "\r",
      "  3%|▎         | 40/1586 [00:00<00:16, 93.19it/s]"
     ]
    },
    {
     "name": "stderr",
     "output_type": "stream",
     "text": [
      "\r",
      "  3%|▎         | 52/1586 [00:00<00:15, 98.19it/s]"
     ]
    },
    {
     "name": "stderr",
     "output_type": "stream",
     "text": [
      "\r",
      "  4%|▍         | 61/1586 [00:00<00:18, 82.48it/s]"
     ]
    },
    {
     "name": "stderr",
     "output_type": "stream",
     "text": [
      "\r",
      "  5%|▍         | 72/1586 [00:00<00:17, 88.75it/s]"
     ]
    },
    {
     "name": "stderr",
     "output_type": "stream",
     "text": [
      "\r",
      "  5%|▌         | 84/1586 [00:00<00:15, 95.87it/s]"
     ]
    },
    {
     "name": "stderr",
     "output_type": "stream",
     "text": [
      "\r",
      "  6%|▌         | 95/1586 [00:00<00:14, 99.46it/s]"
     ]
    },
    {
     "name": "stderr",
     "output_type": "stream",
     "text": [
      "\r",
      "  7%|▋         | 106/1586 [00:01<00:14, 99.43it/s]"
     ]
    },
    {
     "name": "stderr",
     "output_type": "stream",
     "text": [
      "\r",
      "  7%|▋         | 118/1586 [00:01<00:14, 102.40it/s]"
     ]
    },
    {
     "name": "stderr",
     "output_type": "stream",
     "text": [
      "\r",
      "  8%|▊         | 129/1586 [00:01<00:14, 104.02it/s]"
     ]
    },
    {
     "name": "stderr",
     "output_type": "stream",
     "text": [
      "\r",
      "  9%|▉         | 141/1586 [00:01<00:13, 105.25it/s]"
     ]
    },
    {
     "name": "stderr",
     "output_type": "stream",
     "text": [
      "\r",
      " 10%|▉         | 154/1586 [00:01<00:13, 109.48it/s]"
     ]
    },
    {
     "name": "stderr",
     "output_type": "stream",
     "text": [
      "\r",
      " 10%|█         | 166/1586 [00:01<00:12, 111.84it/s]"
     ]
    },
    {
     "name": "stderr",
     "output_type": "stream",
     "text": [
      "\r",
      " 11%|█         | 178/1586 [00:01<00:13, 100.81it/s]"
     ]
    },
    {
     "name": "stderr",
     "output_type": "stream",
     "text": [
      "\r",
      " 12%|█▏        | 189/1586 [00:01<00:13, 102.49it/s]"
     ]
    },
    {
     "name": "stderr",
     "output_type": "stream",
     "text": [
      "\r",
      " 13%|█▎        | 201/1586 [00:01<00:13, 105.56it/s]"
     ]
    },
    {
     "name": "stderr",
     "output_type": "stream",
     "text": [
      "\r",
      " 13%|█▎        | 213/1586 [00:02<00:12, 107.81it/s]"
     ]
    },
    {
     "name": "stderr",
     "output_type": "stream",
     "text": [
      "\r",
      " 14%|█▍        | 225/1586 [00:02<00:12, 109.75it/s]"
     ]
    },
    {
     "name": "stderr",
     "output_type": "stream",
     "text": [
      "\r",
      " 15%|█▍        | 237/1586 [00:02<00:11, 112.43it/s]"
     ]
    },
    {
     "name": "stderr",
     "output_type": "stream",
     "text": [
      "\r",
      " 16%|█▌        | 249/1586 [00:02<00:11, 112.59it/s]"
     ]
    },
    {
     "name": "stderr",
     "output_type": "stream",
     "text": [
      "\r",
      " 16%|█▋        | 261/1586 [00:02<00:11, 110.59it/s]"
     ]
    },
    {
     "name": "stderr",
     "output_type": "stream",
     "text": [
      "\r",
      " 17%|█▋        | 273/1586 [00:02<00:11, 111.29it/s]"
     ]
    },
    {
     "name": "stderr",
     "output_type": "stream",
     "text": [
      "\r",
      " 18%|█▊        | 285/1586 [00:02<00:11, 111.10it/s]"
     ]
    },
    {
     "name": "stderr",
     "output_type": "stream",
     "text": [
      "\r",
      " 19%|█▊        | 297/1586 [00:02<00:11, 111.49it/s]"
     ]
    },
    {
     "name": "stderr",
     "output_type": "stream",
     "text": [
      "\r",
      " 19%|█▉        | 309/1586 [00:02<00:12, 105.96it/s]"
     ]
    },
    {
     "name": "stderr",
     "output_type": "stream",
     "text": [
      "\r",
      " 20%|██        | 322/1586 [00:03<00:11, 110.81it/s]"
     ]
    },
    {
     "name": "stderr",
     "output_type": "stream",
     "text": [
      "\r",
      " 21%|██        | 334/1586 [00:03<00:11, 107.40it/s]"
     ]
    },
    {
     "name": "stderr",
     "output_type": "stream",
     "text": [
      "\r",
      " 22%|██▏       | 346/1586 [00:03<00:11, 110.59it/s]"
     ]
    },
    {
     "name": "stderr",
     "output_type": "stream",
     "text": [
      "\r",
      " 23%|██▎       | 358/1586 [00:03<00:11, 110.50it/s]"
     ]
    },
    {
     "name": "stderr",
     "output_type": "stream",
     "text": [
      "\r",
      " 23%|██▎       | 370/1586 [00:03<00:11, 106.04it/s]"
     ]
    },
    {
     "name": "stderr",
     "output_type": "stream",
     "text": [
      "\r",
      " 24%|██▍       | 382/1586 [00:03<00:11, 107.97it/s]"
     ]
    },
    {
     "name": "stderr",
     "output_type": "stream",
     "text": [
      "\r",
      " 25%|██▍       | 393/1586 [00:03<00:11, 108.40it/s]"
     ]
    },
    {
     "name": "stderr",
     "output_type": "stream",
     "text": [
      "\r",
      " 25%|██▌       | 404/1586 [00:03<00:11, 100.45it/s]"
     ]
    },
    {
     "name": "stderr",
     "output_type": "stream",
     "text": [
      "\r",
      " 26%|██▌       | 415/1586 [00:03<00:11, 102.53it/s]"
     ]
    },
    {
     "name": "stderr",
     "output_type": "stream",
     "text": [
      "\r",
      " 27%|██▋       | 427/1586 [00:04<00:10, 106.90it/s]"
     ]
    },
    {
     "name": "stderr",
     "output_type": "stream",
     "text": [
      "\r",
      " 28%|██▊       | 438/1586 [00:04<00:10, 105.56it/s]"
     ]
    },
    {
     "name": "stderr",
     "output_type": "stream",
     "text": [
      "\r",
      " 28%|██▊       | 450/1586 [00:04<00:10, 107.85it/s]"
     ]
    },
    {
     "name": "stderr",
     "output_type": "stream",
     "text": [
      "\r",
      " 29%|██▉       | 461/1586 [00:04<00:10, 105.63it/s]"
     ]
    },
    {
     "name": "stderr",
     "output_type": "stream",
     "text": [
      "\r",
      " 30%|██▉       | 473/1586 [00:04<00:10, 107.31it/s]"
     ]
    },
    {
     "name": "stderr",
     "output_type": "stream",
     "text": [
      "\r",
      " 31%|███       | 484/1586 [00:04<00:11, 99.25it/s] "
     ]
    },
    {
     "name": "stderr",
     "output_type": "stream",
     "text": [
      "\r",
      " 31%|███       | 495/1586 [00:04<00:11, 99.09it/s]"
     ]
    },
    {
     "name": "stderr",
     "output_type": "stream",
     "text": [
      "\r",
      " 32%|███▏      | 507/1586 [00:04<00:10, 103.32it/s]"
     ]
    },
    {
     "name": "stderr",
     "output_type": "stream",
     "text": [
      "\r",
      " 33%|███▎      | 518/1586 [00:04<00:10, 101.50it/s]"
     ]
    },
    {
     "name": "stderr",
     "output_type": "stream",
     "text": [
      "\r",
      " 33%|███▎      | 529/1586 [00:05<00:10, 102.95it/s]"
     ]
    },
    {
     "name": "stderr",
     "output_type": "stream",
     "text": [
      "\r",
      " 34%|███▍      | 540/1586 [00:05<00:10, 101.69it/s]"
     ]
    },
    {
     "name": "stderr",
     "output_type": "stream",
     "text": [
      "\r",
      " 35%|███▍      | 551/1586 [00:05<00:10, 102.85it/s]"
     ]
    },
    {
     "name": "stderr",
     "output_type": "stream",
     "text": [
      "\r",
      " 35%|███▌      | 563/1586 [00:05<00:09, 105.95it/s]"
     ]
    },
    {
     "name": "stderr",
     "output_type": "stream",
     "text": [
      "\r",
      " 36%|███▌      | 574/1586 [00:05<00:09, 104.17it/s]"
     ]
    },
    {
     "name": "stderr",
     "output_type": "stream",
     "text": [
      "\r",
      " 37%|███▋      | 587/1586 [00:05<00:09, 107.57it/s]"
     ]
    },
    {
     "name": "stderr",
     "output_type": "stream",
     "text": [
      "\r",
      " 38%|███▊      | 598/1586 [00:05<00:09, 107.54it/s]"
     ]
    },
    {
     "name": "stderr",
     "output_type": "stream",
     "text": [
      "\r",
      " 39%|███▊      | 611/1586 [00:05<00:08, 109.26it/s]"
     ]
    },
    {
     "name": "stderr",
     "output_type": "stream",
     "text": [
      "\r",
      " 39%|███▉      | 623/1586 [00:05<00:08, 109.96it/s]"
     ]
    },
    {
     "name": "stderr",
     "output_type": "stream",
     "text": [
      "\r",
      " 40%|████      | 635/1586 [00:06<00:08, 110.31it/s]"
     ]
    },
    {
     "name": "stderr",
     "output_type": "stream",
     "text": [
      "\r",
      " 41%|████      | 647/1586 [00:06<00:08, 109.29it/s]"
     ]
    },
    {
     "name": "stderr",
     "output_type": "stream",
     "text": [
      "\r",
      " 41%|████▏     | 658/1586 [00:06<00:08, 107.50it/s]"
     ]
    },
    {
     "name": "stderr",
     "output_type": "stream",
     "text": [
      "\r",
      " 42%|████▏     | 669/1586 [00:06<00:08, 107.74it/s]"
     ]
    },
    {
     "name": "stderr",
     "output_type": "stream",
     "text": [
      "\r",
      " 43%|████▎     | 680/1586 [00:06<00:08, 103.84it/s]"
     ]
    },
    {
     "name": "stderr",
     "output_type": "stream",
     "text": [
      "\r",
      " 44%|████▎     | 692/1586 [00:06<00:08, 106.19it/s]"
     ]
    },
    {
     "name": "stderr",
     "output_type": "stream",
     "text": [
      "\r",
      " 44%|████▍     | 704/1586 [00:06<00:08, 107.85it/s]"
     ]
    },
    {
     "name": "stderr",
     "output_type": "stream",
     "text": [
      "\r",
      " 45%|████▌     | 716/1586 [00:06<00:07, 111.14it/s]"
     ]
    },
    {
     "name": "stderr",
     "output_type": "stream",
     "text": [
      "\r",
      " 46%|████▌     | 728/1586 [00:06<00:07, 112.11it/s]"
     ]
    },
    {
     "name": "stderr",
     "output_type": "stream",
     "text": [
      "\r",
      " 47%|████▋     | 740/1586 [00:06<00:07, 111.17it/s]"
     ]
    },
    {
     "name": "stderr",
     "output_type": "stream",
     "text": [
      "\r",
      " 47%|████▋     | 752/1586 [00:07<00:07, 113.33it/s]"
     ]
    },
    {
     "name": "stderr",
     "output_type": "stream",
     "text": [
      "\r",
      " 48%|████▊     | 765/1586 [00:07<00:07, 116.53it/s]"
     ]
    },
    {
     "name": "stderr",
     "output_type": "stream",
     "text": [
      "\r",
      " 49%|████▉     | 778/1586 [00:07<00:06, 119.47it/s]"
     ]
    },
    {
     "name": "stderr",
     "output_type": "stream",
     "text": [
      "\r",
      " 50%|████▉     | 791/1586 [00:07<00:06, 120.50it/s]"
     ]
    },
    {
     "name": "stderr",
     "output_type": "stream",
     "text": [
      "\r",
      " 51%|█████     | 804/1586 [00:07<00:06, 115.94it/s]"
     ]
    },
    {
     "name": "stderr",
     "output_type": "stream",
     "text": [
      "\r",
      " 52%|█████▏    | 817/1586 [00:07<00:06, 118.61it/s]"
     ]
    },
    {
     "name": "stderr",
     "output_type": "stream",
     "text": [
      "\r",
      " 52%|█████▏    | 831/1586 [00:07<00:06, 122.15it/s]"
     ]
    },
    {
     "name": "stderr",
     "output_type": "stream",
     "text": [
      "\r",
      " 53%|█████▎    | 845/1586 [00:07<00:05, 124.60it/s]"
     ]
    },
    {
     "name": "stderr",
     "output_type": "stream",
     "text": [
      "\r",
      " 54%|█████▍    | 858/1586 [00:07<00:05, 124.69it/s]"
     ]
    },
    {
     "name": "stderr",
     "output_type": "stream",
     "text": [
      "\r",
      " 55%|█████▍    | 871/1586 [00:08<00:05, 123.37it/s]"
     ]
    },
    {
     "name": "stderr",
     "output_type": "stream",
     "text": [
      "\r",
      " 56%|█████▌    | 885/1586 [00:08<00:05, 125.51it/s]"
     ]
    },
    {
     "name": "stderr",
     "output_type": "stream",
     "text": [
      "\r",
      " 57%|█████▋    | 898/1586 [00:08<00:05, 123.84it/s]"
     ]
    },
    {
     "name": "stderr",
     "output_type": "stream",
     "text": [
      "\r",
      " 57%|█████▋    | 911/1586 [00:08<00:05, 123.67it/s]"
     ]
    },
    {
     "name": "stderr",
     "output_type": "stream",
     "text": [
      "\r",
      " 58%|█████▊    | 924/1586 [00:08<00:05, 123.06it/s]"
     ]
    },
    {
     "name": "stderr",
     "output_type": "stream",
     "text": [
      "\r",
      " 59%|█████▉    | 937/1586 [00:08<00:05, 111.42it/s]"
     ]
    },
    {
     "name": "stderr",
     "output_type": "stream",
     "text": [
      "\r",
      " 60%|█████▉    | 950/1586 [00:08<00:05, 114.55it/s]"
     ]
    },
    {
     "name": "stderr",
     "output_type": "stream",
     "text": [
      "\r",
      " 61%|██████    | 962/1586 [00:08<00:05, 115.69it/s]"
     ]
    },
    {
     "name": "stderr",
     "output_type": "stream",
     "text": [
      "\r",
      " 61%|██████▏   | 974/1586 [00:08<00:05, 113.12it/s]"
     ]
    },
    {
     "name": "stderr",
     "output_type": "stream",
     "text": [
      "\r",
      " 62%|██████▏   | 987/1586 [00:09<00:05, 115.84it/s]"
     ]
    },
    {
     "name": "stderr",
     "output_type": "stream",
     "text": [
      "\r",
      " 63%|██████▎   | 1000/1586 [00:09<00:04, 117.51it/s]"
     ]
    },
    {
     "name": "stderr",
     "output_type": "stream",
     "text": [
      "\r",
      " 64%|██████▍   | 1013/1586 [00:09<00:04, 119.29it/s]"
     ]
    },
    {
     "name": "stderr",
     "output_type": "stream",
     "text": [
      "\r",
      " 65%|██████▍   | 1025/1586 [00:09<00:04, 118.59it/s]"
     ]
    },
    {
     "name": "stderr",
     "output_type": "stream",
     "text": [
      "\r",
      " 65%|██████▌   | 1037/1586 [00:09<00:04, 118.28it/s]"
     ]
    },
    {
     "name": "stderr",
     "output_type": "stream",
     "text": [
      "\r",
      " 66%|██████▌   | 1049/1586 [00:09<00:04, 117.03it/s]"
     ]
    },
    {
     "name": "stderr",
     "output_type": "stream",
     "text": [
      "\r",
      " 67%|██████▋   | 1062/1586 [00:09<00:04, 119.48it/s]"
     ]
    },
    {
     "name": "stderr",
     "output_type": "stream",
     "text": [
      "\r",
      " 68%|██████▊   | 1074/1586 [00:09<00:04, 118.18it/s]"
     ]
    },
    {
     "name": "stderr",
     "output_type": "stream",
     "text": [
      "\r",
      " 68%|██████▊   | 1086/1586 [00:09<00:04, 117.57it/s]"
     ]
    },
    {
     "name": "stderr",
     "output_type": "stream",
     "text": [
      "\r",
      " 69%|██████▉   | 1099/1586 [00:09<00:04, 118.51it/s]"
     ]
    },
    {
     "name": "stderr",
     "output_type": "stream",
     "text": [
      "\r",
      " 70%|███████   | 1111/1586 [00:10<00:04, 114.68it/s]"
     ]
    },
    {
     "name": "stderr",
     "output_type": "stream",
     "text": [
      "\r",
      " 71%|███████   | 1123/1586 [00:10<00:04, 111.68it/s]"
     ]
    },
    {
     "name": "stderr",
     "output_type": "stream",
     "text": [
      "\r",
      " 72%|███████▏  | 1136/1586 [00:10<00:03, 115.20it/s]"
     ]
    },
    {
     "name": "stderr",
     "output_type": "stream",
     "text": [
      "\r",
      " 72%|███████▏  | 1148/1586 [00:10<00:03, 112.92it/s]"
     ]
    },
    {
     "name": "stderr",
     "output_type": "stream",
     "text": [
      "\r",
      " 73%|███████▎  | 1160/1586 [00:10<00:03, 112.10it/s]"
     ]
    },
    {
     "name": "stderr",
     "output_type": "stream",
     "text": [
      "\r",
      " 74%|███████▍  | 1172/1586 [00:10<00:03, 110.20it/s]"
     ]
    },
    {
     "name": "stderr",
     "output_type": "stream",
     "text": [
      "\r",
      " 75%|███████▍  | 1184/1586 [00:10<00:03, 110.20it/s]"
     ]
    },
    {
     "name": "stderr",
     "output_type": "stream",
     "text": [
      "\r",
      " 75%|███████▌  | 1196/1586 [00:10<00:03, 109.05it/s]"
     ]
    },
    {
     "name": "stderr",
     "output_type": "stream",
     "text": [
      "\r",
      " 76%|███████▌  | 1207/1586 [00:10<00:03, 105.75it/s]"
     ]
    },
    {
     "name": "stderr",
     "output_type": "stream",
     "text": [
      "\r",
      " 77%|███████▋  | 1220/1586 [00:11<00:03, 110.59it/s]"
     ]
    },
    {
     "name": "stderr",
     "output_type": "stream",
     "text": [
      "\r",
      " 78%|███████▊  | 1233/1586 [00:11<00:03, 111.50it/s]"
     ]
    },
    {
     "name": "stderr",
     "output_type": "stream",
     "text": [
      "\r",
      " 78%|███████▊  | 1245/1586 [00:11<00:03, 106.28it/s]"
     ]
    },
    {
     "name": "stderr",
     "output_type": "stream",
     "text": [
      "\r",
      " 79%|███████▉  | 1256/1586 [00:11<00:03, 104.49it/s]"
     ]
    },
    {
     "name": "stderr",
     "output_type": "stream",
     "text": [
      "\r",
      " 80%|███████▉  | 1267/1586 [00:11<00:03, 105.04it/s]"
     ]
    },
    {
     "name": "stderr",
     "output_type": "stream",
     "text": [
      "\r",
      " 81%|████████  | 1279/1586 [00:11<00:02, 107.84it/s]"
     ]
    },
    {
     "name": "stderr",
     "output_type": "stream",
     "text": [
      "\r",
      " 81%|████████▏ | 1290/1586 [00:11<00:02, 105.03it/s]"
     ]
    },
    {
     "name": "stderr",
     "output_type": "stream",
     "text": [
      "\r",
      " 82%|████████▏ | 1301/1586 [00:11<00:02, 98.99it/s] "
     ]
    },
    {
     "name": "stderr",
     "output_type": "stream",
     "text": [
      "\r",
      " 83%|████████▎ | 1312/1586 [00:12<00:03, 81.44it/s]"
     ]
    },
    {
     "name": "stderr",
     "output_type": "stream",
     "text": [
      "\r",
      " 83%|████████▎ | 1324/1586 [00:12<00:02, 90.05it/s]"
     ]
    },
    {
     "name": "stderr",
     "output_type": "stream",
     "text": [
      "\r",
      " 84%|████████▍ | 1336/1586 [00:12<00:02, 95.59it/s]"
     ]
    },
    {
     "name": "stderr",
     "output_type": "stream",
     "text": [
      "\r",
      " 85%|████████▍ | 1348/1586 [00:12<00:02, 100.43it/s]"
     ]
    },
    {
     "name": "stderr",
     "output_type": "stream",
     "text": [
      "\r",
      " 86%|████████▌ | 1360/1586 [00:12<00:02, 102.54it/s]"
     ]
    },
    {
     "name": "stderr",
     "output_type": "stream",
     "text": [
      "\r",
      " 87%|████████▋ | 1373/1586 [00:12<00:01, 107.91it/s]"
     ]
    },
    {
     "name": "stderr",
     "output_type": "stream",
     "text": [
      "\r",
      " 87%|████████▋ | 1385/1586 [00:12<00:01, 107.22it/s]"
     ]
    },
    {
     "name": "stderr",
     "output_type": "stream",
     "text": [
      "\r",
      " 88%|████████▊ | 1396/1586 [00:12<00:01, 107.18it/s]"
     ]
    },
    {
     "name": "stderr",
     "output_type": "stream",
     "text": [
      "\r",
      " 89%|████████▉ | 1409/1586 [00:12<00:01, 111.00it/s]"
     ]
    },
    {
     "name": "stderr",
     "output_type": "stream",
     "text": [
      "\r",
      " 90%|████████▉ | 1421/1586 [00:13<00:01, 112.12it/s]"
     ]
    },
    {
     "name": "stderr",
     "output_type": "stream",
     "text": [
      "\r",
      " 90%|█████████ | 1433/1586 [00:13<00:01, 110.22it/s]"
     ]
    },
    {
     "name": "stderr",
     "output_type": "stream",
     "text": [
      "\r",
      " 91%|█████████ | 1445/1586 [00:13<00:01, 103.34it/s]"
     ]
    },
    {
     "name": "stderr",
     "output_type": "stream",
     "text": [
      "\r",
      " 92%|█████████▏| 1456/1586 [00:13<00:01, 104.96it/s]"
     ]
    },
    {
     "name": "stderr",
     "output_type": "stream",
     "text": [
      "\r",
      " 92%|█████████▏| 1467/1586 [00:13<00:01, 102.66it/s]"
     ]
    },
    {
     "name": "stderr",
     "output_type": "stream",
     "text": [
      "\r",
      " 93%|█████████▎| 1478/1586 [00:13<00:01, 102.07it/s]"
     ]
    },
    {
     "name": "stderr",
     "output_type": "stream",
     "text": [
      "\r",
      " 94%|█████████▍| 1489/1586 [00:13<00:00, 99.60it/s] "
     ]
    },
    {
     "name": "stderr",
     "output_type": "stream",
     "text": [
      "\r",
      " 95%|█████████▍| 1500/1586 [00:13<00:00, 98.29it/s]"
     ]
    },
    {
     "name": "stderr",
     "output_type": "stream",
     "text": [
      "\r",
      " 95%|█████████▌| 1512/1586 [00:13<00:00, 99.95it/s]"
     ]
    },
    {
     "name": "stderr",
     "output_type": "stream",
     "text": [
      "\r",
      " 96%|█████████▌| 1523/1586 [00:14<00:00, 99.74it/s]"
     ]
    },
    {
     "name": "stderr",
     "output_type": "stream",
     "text": [
      "\r",
      " 97%|█████████▋| 1537/1586 [00:14<00:00, 107.49it/s]"
     ]
    },
    {
     "name": "stderr",
     "output_type": "stream",
     "text": [
      "\r",
      " 98%|█████████▊| 1550/1586 [00:14<00:00, 110.49it/s]"
     ]
    },
    {
     "name": "stderr",
     "output_type": "stream",
     "text": [
      "\r",
      " 98%|█████████▊| 1562/1586 [00:14<00:00, 103.18it/s]"
     ]
    },
    {
     "name": "stderr",
     "output_type": "stream",
     "text": [
      "\r",
      " 99%|█████████▉| 1575/1586 [00:14<00:00, 109.22it/s]"
     ]
    },
    {
     "name": "stderr",
     "output_type": "stream",
     "text": [
      "\r",
      "100%|██████████| 1586/1586 [00:14<00:00, 108.47it/s]"
     ]
    },
    {
     "name": "stderr",
     "output_type": "stream",
     "text": [
      "\n",
      "\r",
      "  0%|          | 0/120 [00:00<?, ?it/s]"
     ]
    },
    {
     "name": "stderr",
     "output_type": "stream",
     "text": [
      "\r",
      "  8%|▊         | 9/120 [00:00<00:01, 88.81it/s]"
     ]
    },
    {
     "name": "stderr",
     "output_type": "stream",
     "text": [
      "\r",
      " 16%|█▌        | 19/120 [00:00<00:01, 90.63it/s]"
     ]
    },
    {
     "name": "stderr",
     "output_type": "stream",
     "text": [
      "\r",
      " 24%|██▍       | 29/120 [00:00<00:00, 91.27it/s]"
     ]
    },
    {
     "name": "stderr",
     "output_type": "stream",
     "text": [
      "\r",
      " 32%|███▎      | 39/120 [00:00<00:00, 93.05it/s]"
     ]
    },
    {
     "name": "stderr",
     "output_type": "stream",
     "text": [
      "\r",
      " 40%|████      | 48/120 [00:00<00:00, 91.29it/s]"
     ]
    },
    {
     "name": "stderr",
     "output_type": "stream",
     "text": [
      "\r",
      " 50%|█████     | 60/120 [00:00<00:00, 97.74it/s]"
     ]
    },
    {
     "name": "stderr",
     "output_type": "stream",
     "text": [
      "\r",
      " 59%|█████▉    | 71/120 [00:00<00:00, 99.09it/s]"
     ]
    },
    {
     "name": "stderr",
     "output_type": "stream",
     "text": [
      "\r",
      " 68%|██████▊   | 82/120 [00:00<00:00, 101.72it/s]"
     ]
    },
    {
     "name": "stderr",
     "output_type": "stream",
     "text": [
      "\r",
      " 78%|███████▊  | 94/120 [00:00<00:00, 106.27it/s]"
     ]
    },
    {
     "name": "stderr",
     "output_type": "stream",
     "text": [
      "\r",
      " 89%|████████▉ | 107/120 [00:01<00:00, 110.20it/s]"
     ]
    },
    {
     "name": "stderr",
     "output_type": "stream",
     "text": [
      "\r",
      "100%|██████████| 120/120 [00:01<00:00, 113.47it/s]"
     ]
    },
    {
     "name": "stderr",
     "output_type": "stream",
     "text": [
      "\n",
      "\r",
      "  0%|          | 0/250 [00:00<?, ?it/s]"
     ]
    },
    {
     "name": "stderr",
     "output_type": "stream",
     "text": [
      "\r",
      "  5%|▌         | 13/250 [00:00<00:01, 123.84it/s]"
     ]
    },
    {
     "name": "stderr",
     "output_type": "stream",
     "text": [
      "\r",
      " 10%|▉         | 24/250 [00:00<00:01, 117.53it/s]"
     ]
    },
    {
     "name": "stderr",
     "output_type": "stream",
     "text": [
      "\r",
      " 15%|█▍        | 37/250 [00:00<00:01, 119.10it/s]"
     ]
    },
    {
     "name": "stderr",
     "output_type": "stream",
     "text": [
      "\r",
      " 19%|█▉        | 47/250 [00:00<00:01, 108.52it/s]"
     ]
    },
    {
     "name": "stderr",
     "output_type": "stream",
     "text": [
      "\r",
      " 23%|██▎       | 58/250 [00:00<00:01, 108.53it/s]"
     ]
    },
    {
     "name": "stderr",
     "output_type": "stream",
     "text": [
      "\r",
      " 28%|██▊       | 69/250 [00:00<00:01, 108.89it/s]"
     ]
    },
    {
     "name": "stderr",
     "output_type": "stream",
     "text": [
      "\r",
      " 32%|███▏      | 80/250 [00:00<00:01, 108.62it/s]"
     ]
    },
    {
     "name": "stderr",
     "output_type": "stream",
     "text": [
      "\r",
      " 37%|███▋      | 92/250 [00:00<00:01, 110.61it/s]"
     ]
    },
    {
     "name": "stderr",
     "output_type": "stream",
     "text": [
      "\r",
      " 41%|████      | 103/250 [00:00<00:01, 110.02it/s]"
     ]
    },
    {
     "name": "stderr",
     "output_type": "stream",
     "text": [
      "\r",
      " 46%|████▌     | 114/250 [00:01<00:01, 107.64it/s]"
     ]
    },
    {
     "name": "stderr",
     "output_type": "stream",
     "text": [
      "\r",
      " 50%|█████     | 125/250 [00:01<00:01, 104.33it/s]"
     ]
    },
    {
     "name": "stderr",
     "output_type": "stream",
     "text": [
      "\r",
      " 55%|█████▍    | 137/250 [00:01<00:01, 107.17it/s]"
     ]
    },
    {
     "name": "stderr",
     "output_type": "stream",
     "text": [
      "\r",
      " 59%|█████▉    | 148/250 [00:01<00:00, 103.19it/s]"
     ]
    },
    {
     "name": "stderr",
     "output_type": "stream",
     "text": [
      "\r",
      " 64%|██████▎   | 159/250 [00:01<00:00, 102.29it/s]"
     ]
    },
    {
     "name": "stderr",
     "output_type": "stream",
     "text": [
      "\r",
      " 68%|██████▊   | 171/250 [00:01<00:00, 105.01it/s]"
     ]
    },
    {
     "name": "stderr",
     "output_type": "stream",
     "text": [
      "\r",
      " 73%|███████▎  | 182/250 [00:01<00:00, 105.82it/s]"
     ]
    },
    {
     "name": "stderr",
     "output_type": "stream",
     "text": [
      "\r",
      " 77%|███████▋  | 193/250 [00:01<00:00, 94.10it/s] "
     ]
    },
    {
     "name": "stderr",
     "output_type": "stream",
     "text": [
      "\r",
      " 82%|████████▏ | 204/250 [00:01<00:00, 97.25it/s]"
     ]
    },
    {
     "name": "stderr",
     "output_type": "stream",
     "text": [
      "\r",
      " 86%|████████▌ | 215/250 [00:02<00:00, 96.84it/s]"
     ]
    },
    {
     "name": "stderr",
     "output_type": "stream",
     "text": [
      "\r",
      " 91%|█████████ | 228/250 [00:02<00:00, 102.98it/s]"
     ]
    },
    {
     "name": "stderr",
     "output_type": "stream",
     "text": [
      "\r",
      " 96%|█████████▌| 239/250 [00:02<00:00, 100.88it/s]"
     ]
    },
    {
     "name": "stderr",
     "output_type": "stream",
     "text": [
      "\r",
      "100%|██████████| 250/250 [00:02<00:00, 101.13it/s]"
     ]
    },
    {
     "name": "stderr",
     "output_type": "stream",
     "text": [
      "\n"
     ]
    }
   ],
   "source": [
    "applier = PandasSFApplier(sfs)\n",
    "S_train = applier.apply(df_train)\n",
    "S_valid = applier.apply(df_valid)\n",
    "S_test = applier.apply(df_test)"
   ]
  },
  {
   "cell_type": "code",
   "execution_count": 24,
   "metadata": {},
   "outputs": [],
   "source": [
    "slice_names = [sf.name for sf in sfs]\n",
    "add_slice_labels(dl_train, spam_task, S_train, slice_names)\n",
    "add_slice_labels(dl_valid, spam_task, S_valid, slice_names)\n",
    "add_slice_labels(dl_test, spam_task, S_test, slice_names)"
   ]
  },
  {
   "cell_type": "markdown",
   "metadata": {},
   "source": [
    "Like we saw above, we'd like to visualize examples in the slice."
   ]
  },
  {
   "cell_type": "code",
   "execution_count": 25,
   "metadata": {},
   "outputs": [
    {
     "name": "stderr",
     "output_type": "stream",
     "text": [
      "\r",
      "  0%|          | 0/120 [00:00<?, ?it/s]"
     ]
    },
    {
     "name": "stderr",
     "output_type": "stream",
     "text": [
      "\r",
      "100%|██████████| 120/120 [00:00<00:00, 22903.01it/s]"
     ]
    },
    {
     "name": "stderr",
     "output_type": "stream",
     "text": [
      "\n"
     ]
    },
    {
     "data": {
      "text/html": [
       "<div>\n",
       "<style scoped>\n",
       "    .dataframe tbody tr th:only-of-type {\n",
       "        vertical-align: middle;\n",
       "    }\n",
       "\n",
       "    .dataframe tbody tr th {\n",
       "        vertical-align: top;\n",
       "    }\n",
       "\n",
       "    .dataframe thead th {\n",
       "        text-align: right;\n",
       "    }\n",
       "</style>\n",
       "<table border=\"1\" class=\"dataframe\">\n",
       "  <thead>\n",
       "    <tr style=\"text-align: right;\">\n",
       "      <th></th>\n",
       "      <th>text</th>\n",
       "      <th>label</th>\n",
       "    </tr>\n",
       "  </thead>\n",
       "  <tbody>\n",
       "    <tr>\n",
       "      <th>16</th>\n",
       "      <td>Love this song !!!!!!</td>\n",
       "      <td>0</td>\n",
       "    </tr>\n",
       "    <tr>\n",
       "      <th>309</th>\n",
       "      <td>One of the best song of all the time﻿</td>\n",
       "      <td>0</td>\n",
       "    </tr>\n",
       "    <tr>\n",
       "      <th>164</th>\n",
       "      <td>She is perfect</td>\n",
       "      <td>0</td>\n",
       "    </tr>\n",
       "    <tr>\n",
       "      <th>310</th>\n",
       "      <td>Best world cup offical song﻿</td>\n",
       "      <td>0</td>\n",
       "    </tr>\n",
       "    <tr>\n",
       "      <th>352</th>\n",
       "      <td>I remember this :D</td>\n",
       "      <td>0</td>\n",
       "    </tr>\n",
       "  </tbody>\n",
       "</table>\n",
       "</div>"
      ],
      "text/plain": [
       "                                      text  label\n",
       "16   Love this song !!!!!!                  0    \n",
       "309  One of the best song of all the time﻿  0    \n",
       "164  She is perfect                         0    \n",
       "310  Best world cup offical song﻿           0    \n",
       "352  I remember this :D                     0    "
      ]
     },
     "execution_count": 25,
     "metadata": {},
     "output_type": "execute_result"
    }
   ],
   "source": [
    "polarity_df = slice_dataframe(df_valid, textblob_polarity)\n",
    "polarity_df[[\"text\", \"label\"]].head()"
   ]
  },
  {
   "cell_type": "markdown",
   "metadata": {},
   "source": [
    "### Representation learning with slices"
   ]
  },
  {
   "cell_type": "markdown",
   "metadata": {},
   "source": [
    "To cope with scale, we will attempt to learn and combine many slice-specific representations with an attention mechanism.\n",
    "(For details, please see our technical report — coming soon!)\n",
    "Using the helper, `convert_to_slice_tasks`, we initialize slice-specific tasks to learn \"expert task heads\" for each slice, in the style of multi-task learning.\n",
    "The original `spam_task` now contains the attention mechanism to then combine these slice experts."
   ]
  },
  {
   "cell_type": "code",
   "execution_count": 26,
   "metadata": {},
   "outputs": [
    {
     "data": {
      "text/plain": [
       "[Task(name=spam_task_slice:short_link_ind),\n",
       " Task(name=spam_task_slice:keyword_subscribe_ind),\n",
       " Task(name=spam_task_slice:keyword_please_ind),\n",
       " Task(name=spam_task_slice:regex_check_out_ind),\n",
       " Task(name=spam_task_slice:short_comment_ind),\n",
       " Task(name=spam_task_slice:has_person_nlp_ind),\n",
       " Task(name=spam_task_slice:textblob_polarity_ind),\n",
       " Task(name=spam_task_slice:base_ind),\n",
       " Task(name=spam_task_slice:short_link_pred),\n",
       " Task(name=spam_task_slice:keyword_subscribe_pred),\n",
       " Task(name=spam_task_slice:keyword_please_pred),\n",
       " Task(name=spam_task_slice:regex_check_out_pred),\n",
       " Task(name=spam_task_slice:short_comment_pred),\n",
       " Task(name=spam_task_slice:has_person_nlp_pred),\n",
       " Task(name=spam_task_slice:textblob_polarity_pred),\n",
       " Task(name=spam_task_slice:base_pred),\n",
       " Task(name=spam_task)]"
      ]
     },
     "execution_count": 26,
     "metadata": {},
     "output_type": "execute_result"
    }
   ],
   "source": [
    "from snorkel.slicing import convert_to_slice_tasks\n",
    "\n",
    "slice_tasks = convert_to_slice_tasks(spam_task, slice_names)\n",
    "slice_tasks"
   ]
  },
  {
   "cell_type": "code",
   "execution_count": 27,
   "metadata": {},
   "outputs": [],
   "source": [
    "slice_model = MultitaskClassifier(slice_tasks)"
   ]
  },
  {
   "cell_type": "markdown",
   "metadata": {},
   "source": [
    "We train a single model initialized with all slice tasks.\n",
    "We note that we can monitor slice-specific performance during training — this is a powerful way to track especially critical subsets of the data.\n",
    "\n",
    "_Note: This model includes more parameters (corresponding to additional slices), and therefore requires more time to train — we set `num_epochs=1` for demonstration purposes._"
   ]
  },
  {
   "cell_type": "code",
   "execution_count": 28,
   "metadata": {},
   "outputs": [
    {
     "name": "stderr",
     "output_type": "stream",
     "text": [
      "\r",
      "Epoch 0::   0%|          | 0/50 [00:00<?, ?it/s]"
     ]
    },
    {
     "name": "stderr",
     "output_type": "stream",
     "text": [
      "\r",
      "Epoch 0::   0%|          | 0/50 [00:01<?, ?it/s, model/all/train/loss=0.697, model/all/train/lr=0.0001]"
     ]
    },
    {
     "name": "stderr",
     "output_type": "stream",
     "text": [
      "\r",
      "Epoch 0::   2%|▏         | 1/50 [00:01<00:55,  1.12s/it, model/all/train/loss=0.697, model/all/train/lr=0.0001]"
     ]
    },
    {
     "name": "stderr",
     "output_type": "stream",
     "text": [
      "\r",
      "Epoch 0::   2%|▏         | 1/50 [00:02<00:55,  1.12s/it, model/all/train/loss=0.662, model/all/train/lr=0.0001]"
     ]
    },
    {
     "name": "stderr",
     "output_type": "stream",
     "text": [
      "\r",
      "Epoch 0::   4%|▍         | 2/50 [00:02<00:52,  1.08s/it, model/all/train/loss=0.662, model/all/train/lr=0.0001]"
     ]
    },
    {
     "name": "stderr",
     "output_type": "stream",
     "text": [
      "\r",
      "Epoch 0::   4%|▍         | 2/50 [00:03<00:52,  1.08s/it, model/all/train/loss=0.635, model/all/train/lr=0.0001]"
     ]
    },
    {
     "name": "stderr",
     "output_type": "stream",
     "text": [
      "\r",
      "Epoch 0::   6%|▌         | 3/50 [00:03<00:49,  1.06s/it, model/all/train/loss=0.635, model/all/train/lr=0.0001]"
     ]
    },
    {
     "name": "stderr",
     "output_type": "stream",
     "text": [
      "\r",
      "Epoch 0::   6%|▌         | 3/50 [00:04<00:49,  1.06s/it, model/all/train/loss=0.614, model/all/train/lr=0.0001]"
     ]
    },
    {
     "name": "stderr",
     "output_type": "stream",
     "text": [
      "\r",
      "Epoch 0::   8%|▊         | 4/50 [00:04<00:48,  1.05s/it, model/all/train/loss=0.614, model/all/train/lr=0.0001]"
     ]
    },
    {
     "name": "stderr",
     "output_type": "stream",
     "text": [
      "\r",
      "Epoch 0::   8%|▊         | 4/50 [00:05<00:48,  1.05s/it, model/all/train/loss=0.596, model/all/train/lr=0.0001]"
     ]
    },
    {
     "name": "stderr",
     "output_type": "stream",
     "text": [
      "\r",
      "Epoch 0::  10%|█         | 5/50 [00:05<00:46,  1.03s/it, model/all/train/loss=0.596, model/all/train/lr=0.0001]"
     ]
    },
    {
     "name": "stderr",
     "output_type": "stream",
     "text": [
      "\r",
      "Epoch 0::  10%|█         | 5/50 [00:06<00:46,  1.03s/it, model/all/train/loss=0.576, model/all/train/lr=0.0001]"
     ]
    },
    {
     "name": "stderr",
     "output_type": "stream",
     "text": [
      "\r",
      "Epoch 0::  12%|█▏        | 6/50 [00:06<00:44,  1.02s/it, model/all/train/loss=0.576, model/all/train/lr=0.0001]"
     ]
    },
    {
     "name": "stderr",
     "output_type": "stream",
     "text": [
      "\r",
      "Epoch 0::  12%|█▏        | 6/50 [00:07<00:44,  1.02s/it, model/all/train/loss=0.564, model/all/train/lr=0.0001]"
     ]
    },
    {
     "name": "stderr",
     "output_type": "stream",
     "text": [
      "\r",
      "Epoch 0::  14%|█▍        | 7/50 [00:07<00:43,  1.01s/it, model/all/train/loss=0.564, model/all/train/lr=0.0001]"
     ]
    },
    {
     "name": "stderr",
     "output_type": "stream",
     "text": [
      "\r",
      "Epoch 0::  14%|█▍        | 7/50 [00:08<00:43,  1.01s/it, model/all/train/loss=0.552, model/all/train/lr=0.0001]"
     ]
    },
    {
     "name": "stderr",
     "output_type": "stream",
     "text": [
      "\r",
      "Epoch 0::  16%|█▌        | 8/50 [00:08<00:42,  1.01s/it, model/all/train/loss=0.552, model/all/train/lr=0.0001]"
     ]
    },
    {
     "name": "stderr",
     "output_type": "stream",
     "text": [
      "\r",
      "Epoch 0::  16%|█▌        | 8/50 [00:09<00:42,  1.01s/it, model/all/train/loss=0.54, model/all/train/lr=0.0001] "
     ]
    },
    {
     "name": "stderr",
     "output_type": "stream",
     "text": [
      "\r",
      "Epoch 0::  18%|█▊        | 9/50 [00:09<00:41,  1.01s/it, model/all/train/loss=0.54, model/all/train/lr=0.0001]"
     ]
    },
    {
     "name": "stderr",
     "output_type": "stream",
     "text": [
      "\r",
      "Epoch 0::  18%|█▊        | 9/50 [00:10<00:41,  1.01s/it, model/all/train/loss=0.531, model/all/train/lr=0.0001]"
     ]
    },
    {
     "name": "stderr",
     "output_type": "stream",
     "text": [
      "\r",
      "Epoch 0::  20%|██        | 10/50 [00:10<00:40,  1.00s/it, model/all/train/loss=0.531, model/all/train/lr=0.0001]"
     ]
    },
    {
     "name": "stderr",
     "output_type": "stream",
     "text": [
      "\r",
      "Epoch 0::  20%|██        | 10/50 [00:11<00:40,  1.00s/it, model/all/train/loss=0.522, model/all/train/lr=0.0001]"
     ]
    },
    {
     "name": "stderr",
     "output_type": "stream",
     "text": [
      "\r",
      "Epoch 0::  22%|██▏       | 11/50 [00:11<00:39,  1.01s/it, model/all/train/loss=0.522, model/all/train/lr=0.0001]"
     ]
    },
    {
     "name": "stderr",
     "output_type": "stream",
     "text": [
      "\r",
      "Epoch 0::  22%|██▏       | 11/50 [00:12<00:39,  1.01s/it, model/all/train/loss=0.514, model/all/train/lr=0.0001]"
     ]
    },
    {
     "name": "stderr",
     "output_type": "stream",
     "text": [
      "\r",
      "Epoch 0::  24%|██▍       | 12/50 [00:12<00:38,  1.01s/it, model/all/train/loss=0.514, model/all/train/lr=0.0001]"
     ]
    },
    {
     "name": "stderr",
     "output_type": "stream",
     "text": [
      "\r",
      "Epoch 0::  24%|██▍       | 12/50 [00:13<00:38,  1.01s/it, model/all/train/loss=0.508, model/all/train/lr=0.0001]"
     ]
    },
    {
     "name": "stderr",
     "output_type": "stream",
     "text": [
      "\r",
      "Epoch 0::  26%|██▌       | 13/50 [00:13<00:37,  1.02s/it, model/all/train/loss=0.508, model/all/train/lr=0.0001]"
     ]
    },
    {
     "name": "stderr",
     "output_type": "stream",
     "text": [
      "\r",
      "Epoch 0::  26%|██▌       | 13/50 [00:14<00:37,  1.02s/it, model/all/train/loss=0.501, model/all/train/lr=0.0001]"
     ]
    },
    {
     "name": "stderr",
     "output_type": "stream",
     "text": [
      "\r",
      "Epoch 0::  28%|██▊       | 14/50 [00:14<00:36,  1.03s/it, model/all/train/loss=0.501, model/all/train/lr=0.0001]"
     ]
    },
    {
     "name": "stderr",
     "output_type": "stream",
     "text": [
      "\r",
      "Epoch 0::  28%|██▊       | 14/50 [00:15<00:36,  1.03s/it, model/all/train/loss=0.495, model/all/train/lr=0.0001]"
     ]
    },
    {
     "name": "stderr",
     "output_type": "stream",
     "text": [
      "\r",
      "Epoch 0::  30%|███       | 15/50 [00:15<00:35,  1.02s/it, model/all/train/loss=0.495, model/all/train/lr=0.0001]"
     ]
    },
    {
     "name": "stderr",
     "output_type": "stream",
     "text": [
      "\r",
      "Epoch 0::  30%|███       | 15/50 [00:16<00:35,  1.02s/it, model/all/train/loss=0.49, model/all/train/lr=0.0001] "
     ]
    },
    {
     "name": "stderr",
     "output_type": "stream",
     "text": [
      "\r",
      "Epoch 0::  32%|███▏      | 16/50 [00:16<00:34,  1.01s/it, model/all/train/loss=0.49, model/all/train/lr=0.0001]"
     ]
    },
    {
     "name": "stderr",
     "output_type": "stream",
     "text": [
      "\r",
      "Epoch 0::  32%|███▏      | 16/50 [00:17<00:34,  1.01s/it, model/all/train/loss=0.483, model/all/train/lr=0.0001]"
     ]
    },
    {
     "name": "stderr",
     "output_type": "stream",
     "text": [
      "\r",
      "Epoch 0::  34%|███▍      | 17/50 [00:17<00:33,  1.01s/it, model/all/train/loss=0.483, model/all/train/lr=0.0001]"
     ]
    },
    {
     "name": "stderr",
     "output_type": "stream",
     "text": [
      "\r",
      "Epoch 0::  34%|███▍      | 17/50 [00:18<00:33,  1.01s/it, model/all/train/loss=0.477, model/all/train/lr=0.0001]"
     ]
    },
    {
     "name": "stderr",
     "output_type": "stream",
     "text": [
      "\r",
      "Epoch 0::  36%|███▌      | 18/50 [00:18<00:32,  1.00s/it, model/all/train/loss=0.477, model/all/train/lr=0.0001]"
     ]
    },
    {
     "name": "stderr",
     "output_type": "stream",
     "text": [
      "\r",
      "Epoch 0::  36%|███▌      | 18/50 [00:19<00:32,  1.00s/it, model/all/train/loss=0.472, model/all/train/lr=0.0001]"
     ]
    },
    {
     "name": "stderr",
     "output_type": "stream",
     "text": [
      "\r",
      "Epoch 0::  38%|███▊      | 19/50 [00:19<00:31,  1.00s/it, model/all/train/loss=0.472, model/all/train/lr=0.0001]"
     ]
    },
    {
     "name": "stderr",
     "output_type": "stream",
     "text": [
      "\r",
      "Epoch 0::  38%|███▊      | 19/50 [00:20<00:31,  1.00s/it, model/all/train/loss=0.467, model/all/train/lr=0.0001]"
     ]
    },
    {
     "name": "stderr",
     "output_type": "stream",
     "text": [
      "\r",
      "Epoch 0::  40%|████      | 20/50 [00:20<00:30,  1.00s/it, model/all/train/loss=0.467, model/all/train/lr=0.0001]"
     ]
    },
    {
     "name": "stderr",
     "output_type": "stream",
     "text": [
      "\r",
      "Epoch 0::  40%|████      | 20/50 [00:21<00:30,  1.00s/it, model/all/train/loss=0.461, model/all/train/lr=0.0001]"
     ]
    },
    {
     "name": "stderr",
     "output_type": "stream",
     "text": [
      "\r",
      "Epoch 0::  42%|████▏     | 21/50 [00:21<00:29,  1.00s/it, model/all/train/loss=0.461, model/all/train/lr=0.0001]"
     ]
    },
    {
     "name": "stderr",
     "output_type": "stream",
     "text": [
      "\r",
      "Epoch 0::  42%|████▏     | 21/50 [00:22<00:29,  1.00s/it, model/all/train/loss=0.456, model/all/train/lr=0.0001]"
     ]
    },
    {
     "name": "stderr",
     "output_type": "stream",
     "text": [
      "\r",
      "Epoch 0::  44%|████▍     | 22/50 [00:22<00:28,  1.00s/it, model/all/train/loss=0.456, model/all/train/lr=0.0001]"
     ]
    },
    {
     "name": "stderr",
     "output_type": "stream",
     "text": [
      "\r",
      "Epoch 0::  44%|████▍     | 22/50 [00:23<00:28,  1.00s/it, model/all/train/loss=0.452, model/all/train/lr=0.0001]"
     ]
    },
    {
     "name": "stderr",
     "output_type": "stream",
     "text": [
      "\r",
      "Epoch 0::  46%|████▌     | 23/50 [00:23<00:26,  1.00it/s, model/all/train/loss=0.452, model/all/train/lr=0.0001]"
     ]
    },
    {
     "name": "stderr",
     "output_type": "stream",
     "text": [
      "\r",
      "Epoch 0::  46%|████▌     | 23/50 [00:24<00:26,  1.00it/s, model/all/train/loss=0.446, model/all/train/lr=0.0001]"
     ]
    },
    {
     "name": "stderr",
     "output_type": "stream",
     "text": [
      "\r",
      "Epoch 0::  48%|████▊     | 24/50 [00:24<00:26,  1.00s/it, model/all/train/loss=0.446, model/all/train/lr=0.0001]"
     ]
    },
    {
     "name": "stderr",
     "output_type": "stream",
     "text": [
      "\r",
      "Epoch 0::  48%|████▊     | 24/50 [00:25<00:26,  1.00s/it, model/all/train/loss=0.441, model/all/train/lr=0.0001]"
     ]
    },
    {
     "name": "stderr",
     "output_type": "stream",
     "text": [
      "\r",
      "Epoch 0::  50%|█████     | 25/50 [00:25<00:25,  1.00s/it, model/all/train/loss=0.441, model/all/train/lr=0.0001]"
     ]
    },
    {
     "name": "stderr",
     "output_type": "stream",
     "text": [
      "\r",
      "Epoch 0::  50%|█████     | 25/50 [00:26<00:25,  1.00s/it, model/all/train/loss=0.437, model/all/train/lr=0.0001]"
     ]
    },
    {
     "name": "stderr",
     "output_type": "stream",
     "text": [
      "\r",
      "Epoch 0::  52%|█████▏    | 26/50 [00:26<00:24,  1.00s/it, model/all/train/loss=0.437, model/all/train/lr=0.0001]"
     ]
    },
    {
     "name": "stderr",
     "output_type": "stream",
     "text": [
      "\r",
      "Epoch 0::  52%|█████▏    | 26/50 [00:27<00:24,  1.00s/it, model/all/train/loss=0.433, model/all/train/lr=0.0001]"
     ]
    },
    {
     "name": "stderr",
     "output_type": "stream",
     "text": [
      "\r",
      "Epoch 0::  54%|█████▍    | 27/50 [00:27<00:23,  1.01s/it, model/all/train/loss=0.433, model/all/train/lr=0.0001]"
     ]
    },
    {
     "name": "stderr",
     "output_type": "stream",
     "text": [
      "\r",
      "Epoch 0::  54%|█████▍    | 27/50 [00:28<00:23,  1.01s/it, model/all/train/loss=0.431, model/all/train/lr=0.0001]"
     ]
    },
    {
     "name": "stderr",
     "output_type": "stream",
     "text": [
      "\r",
      "Epoch 0::  56%|█████▌    | 28/50 [00:28<00:22,  1.00s/it, model/all/train/loss=0.431, model/all/train/lr=0.0001]"
     ]
    },
    {
     "name": "stderr",
     "output_type": "stream",
     "text": [
      "\r",
      "Epoch 0::  56%|█████▌    | 28/50 [00:29<00:22,  1.00s/it, model/all/train/loss=0.426, model/all/train/lr=0.0001]"
     ]
    },
    {
     "name": "stderr",
     "output_type": "stream",
     "text": [
      "\r",
      "Epoch 0::  58%|█████▊    | 29/50 [00:29<00:21,  1.00s/it, model/all/train/loss=0.426, model/all/train/lr=0.0001]"
     ]
    },
    {
     "name": "stderr",
     "output_type": "stream",
     "text": [
      "\r",
      "Epoch 0::  58%|█████▊    | 29/50 [00:30<00:21,  1.00s/it, model/all/train/loss=0.423, model/all/train/lr=0.0001]"
     ]
    },
    {
     "name": "stderr",
     "output_type": "stream",
     "text": [
      "\r",
      "Epoch 0::  60%|██████    | 30/50 [00:30<00:20,  1.00s/it, model/all/train/loss=0.423, model/all/train/lr=0.0001]"
     ]
    },
    {
     "name": "stderr",
     "output_type": "stream",
     "text": [
      "\r",
      "Epoch 0::  60%|██████    | 30/50 [00:31<00:20,  1.00s/it, model/all/train/loss=0.419, model/all/train/lr=0.0001]"
     ]
    },
    {
     "name": "stderr",
     "output_type": "stream",
     "text": [
      "\r",
      "Epoch 0::  62%|██████▏   | 31/50 [00:31<00:19,  1.00s/it, model/all/train/loss=0.419, model/all/train/lr=0.0001]"
     ]
    },
    {
     "name": "stderr",
     "output_type": "stream",
     "text": [
      "\r",
      "Epoch 0::  62%|██████▏   | 31/50 [00:32<00:19,  1.00s/it, model/all/train/loss=0.416, model/all/train/lr=0.0001]"
     ]
    },
    {
     "name": "stderr",
     "output_type": "stream",
     "text": [
      "\r",
      "Epoch 0::  64%|██████▍   | 32/50 [00:32<00:18,  1.00s/it, model/all/train/loss=0.416, model/all/train/lr=0.0001]"
     ]
    },
    {
     "name": "stderr",
     "output_type": "stream",
     "text": [
      "\r",
      "Epoch 0::  64%|██████▍   | 32/50 [00:33<00:18,  1.00s/it, model/all/train/loss=0.414, model/all/train/lr=0.0001]"
     ]
    },
    {
     "name": "stderr",
     "output_type": "stream",
     "text": [
      "\r",
      "Epoch 0::  66%|██████▌   | 33/50 [00:33<00:17,  1.03s/it, model/all/train/loss=0.414, model/all/train/lr=0.0001]"
     ]
    },
    {
     "name": "stderr",
     "output_type": "stream",
     "text": [
      "\r",
      "Epoch 0::  66%|██████▌   | 33/50 [00:34<00:17,  1.03s/it, model/all/train/loss=0.41, model/all/train/lr=0.0001] "
     ]
    },
    {
     "name": "stderr",
     "output_type": "stream",
     "text": [
      "\r",
      "Epoch 0::  68%|██████▊   | 34/50 [00:34<00:16,  1.02s/it, model/all/train/loss=0.41, model/all/train/lr=0.0001]"
     ]
    },
    {
     "name": "stderr",
     "output_type": "stream",
     "text": [
      "\r",
      "Epoch 0::  68%|██████▊   | 34/50 [00:35<00:16,  1.02s/it, model/all/train/loss=0.407, model/all/train/lr=0.0001]"
     ]
    },
    {
     "name": "stderr",
     "output_type": "stream",
     "text": [
      "\r",
      "Epoch 0::  70%|███████   | 35/50 [00:35<00:15,  1.02s/it, model/all/train/loss=0.407, model/all/train/lr=0.0001]"
     ]
    },
    {
     "name": "stderr",
     "output_type": "stream",
     "text": [
      "\r",
      "Epoch 0::  70%|███████   | 35/50 [00:36<00:15,  1.02s/it, model/all/train/loss=0.403, model/all/train/lr=0.0001]"
     ]
    },
    {
     "name": "stderr",
     "output_type": "stream",
     "text": [
      "\r",
      "Epoch 0::  72%|███████▏  | 36/50 [00:36<00:14,  1.01s/it, model/all/train/loss=0.403, model/all/train/lr=0.0001]"
     ]
    },
    {
     "name": "stderr",
     "output_type": "stream",
     "text": [
      "\r",
      "Epoch 0::  72%|███████▏  | 36/50 [00:37<00:14,  1.01s/it, model/all/train/loss=0.4, model/all/train/lr=0.0001]  "
     ]
    },
    {
     "name": "stderr",
     "output_type": "stream",
     "text": [
      "\r",
      "Epoch 0::  74%|███████▍  | 37/50 [00:37<00:13,  1.01s/it, model/all/train/loss=0.4, model/all/train/lr=0.0001]"
     ]
    },
    {
     "name": "stderr",
     "output_type": "stream",
     "text": [
      "\r",
      "Epoch 0::  74%|███████▍  | 37/50 [00:38<00:13,  1.01s/it, model/all/train/loss=0.397, model/all/train/lr=0.0001]"
     ]
    },
    {
     "name": "stderr",
     "output_type": "stream",
     "text": [
      "\r",
      "Epoch 0::  76%|███████▌  | 38/50 [00:38<00:12,  1.01s/it, model/all/train/loss=0.397, model/all/train/lr=0.0001]"
     ]
    },
    {
     "name": "stderr",
     "output_type": "stream",
     "text": [
      "\r",
      "Epoch 0::  76%|███████▌  | 38/50 [00:39<00:12,  1.01s/it, model/all/train/loss=0.395, model/all/train/lr=0.0001]"
     ]
    },
    {
     "name": "stderr",
     "output_type": "stream",
     "text": [
      "\r",
      "Epoch 0::  78%|███████▊  | 39/50 [00:39<00:11,  1.00s/it, model/all/train/loss=0.395, model/all/train/lr=0.0001]"
     ]
    },
    {
     "name": "stderr",
     "output_type": "stream",
     "text": [
      "\r",
      "Epoch 0::  78%|███████▊  | 39/50 [00:40<00:11,  1.00s/it, model/all/train/loss=0.391, model/all/train/lr=0.0001]"
     ]
    },
    {
     "name": "stderr",
     "output_type": "stream",
     "text": [
      "\r",
      "Epoch 0::  80%|████████  | 40/50 [00:40<00:10,  1.00s/it, model/all/train/loss=0.391, model/all/train/lr=0.0001]"
     ]
    },
    {
     "name": "stderr",
     "output_type": "stream",
     "text": [
      "\r",
      "Epoch 0::  80%|████████  | 40/50 [00:41<00:10,  1.00s/it, model/all/train/loss=0.388, model/all/train/lr=0.0001]"
     ]
    },
    {
     "name": "stderr",
     "output_type": "stream",
     "text": [
      "\r",
      "Epoch 0::  82%|████████▏ | 41/50 [00:41<00:08,  1.00it/s, model/all/train/loss=0.388, model/all/train/lr=0.0001]"
     ]
    },
    {
     "name": "stderr",
     "output_type": "stream",
     "text": [
      "\r",
      "Epoch 0::  82%|████████▏ | 41/50 [00:42<00:08,  1.00it/s, model/all/train/loss=0.386, model/all/train/lr=0.0001]"
     ]
    },
    {
     "name": "stderr",
     "output_type": "stream",
     "text": [
      "\r",
      "Epoch 0::  84%|████████▍ | 42/50 [00:42<00:07,  1.00it/s, model/all/train/loss=0.386, model/all/train/lr=0.0001]"
     ]
    },
    {
     "name": "stderr",
     "output_type": "stream",
     "text": [
      "\r",
      "Epoch 0::  84%|████████▍ | 42/50 [00:43<00:07,  1.00it/s, model/all/train/loss=0.383, model/all/train/lr=0.0001]"
     ]
    },
    {
     "name": "stderr",
     "output_type": "stream",
     "text": [
      "\r",
      "Epoch 0::  86%|████████▌ | 43/50 [00:43<00:06,  1.00it/s, model/all/train/loss=0.383, model/all/train/lr=0.0001]"
     ]
    },
    {
     "name": "stderr",
     "output_type": "stream",
     "text": [
      "\r",
      "Epoch 0::  86%|████████▌ | 43/50 [00:44<00:06,  1.00it/s, model/all/train/loss=0.38, model/all/train/lr=0.0001] "
     ]
    },
    {
     "name": "stderr",
     "output_type": "stream",
     "text": [
      "\r",
      "Epoch 0::  88%|████████▊ | 44/50 [00:44<00:05,  1.00it/s, model/all/train/loss=0.38, model/all/train/lr=0.0001]"
     ]
    },
    {
     "name": "stderr",
     "output_type": "stream",
     "text": [
      "\r",
      "Epoch 0::  88%|████████▊ | 44/50 [00:45<00:05,  1.00it/s, model/all/train/loss=0.378, model/all/train/lr=0.0001]"
     ]
    },
    {
     "name": "stderr",
     "output_type": "stream",
     "text": [
      "\r",
      "Epoch 0::  90%|█████████ | 45/50 [00:45<00:04,  1.00it/s, model/all/train/loss=0.378, model/all/train/lr=0.0001]"
     ]
    },
    {
     "name": "stderr",
     "output_type": "stream",
     "text": [
      "\r",
      "Epoch 0::  90%|█████████ | 45/50 [00:46<00:04,  1.00it/s, model/all/train/loss=0.376, model/all/train/lr=0.0001]"
     ]
    },
    {
     "name": "stderr",
     "output_type": "stream",
     "text": [
      "\r",
      "Epoch 0::  92%|█████████▏| 46/50 [00:46<00:03,  1.01it/s, model/all/train/loss=0.376, model/all/train/lr=0.0001]"
     ]
    },
    {
     "name": "stderr",
     "output_type": "stream",
     "text": [
      "\r",
      "Epoch 0::  92%|█████████▏| 46/50 [00:47<00:03,  1.01it/s, model/all/train/loss=0.373, model/all/train/lr=0.0001]"
     ]
    },
    {
     "name": "stderr",
     "output_type": "stream",
     "text": [
      "\r",
      "Epoch 0::  94%|█████████▍| 47/50 [00:47<00:02,  1.01it/s, model/all/train/loss=0.373, model/all/train/lr=0.0001]"
     ]
    },
    {
     "name": "stderr",
     "output_type": "stream",
     "text": [
      "\r",
      "Epoch 0::  94%|█████████▍| 47/50 [00:48<00:02,  1.01it/s, model/all/train/loss=0.37, model/all/train/lr=0.0001] "
     ]
    },
    {
     "name": "stderr",
     "output_type": "stream",
     "text": [
      "\r",
      "Epoch 0::  96%|█████████▌| 48/50 [00:48<00:01,  1.01it/s, model/all/train/loss=0.37, model/all/train/lr=0.0001]"
     ]
    },
    {
     "name": "stderr",
     "output_type": "stream",
     "text": [
      "\r",
      "Epoch 0::  96%|█████████▌| 48/50 [00:49<00:01,  1.01it/s, model/all/train/loss=0.367, model/all/train/lr=0.0001]"
     ]
    },
    {
     "name": "stderr",
     "output_type": "stream",
     "text": [
      "\r",
      "Epoch 0::  98%|█████████▊| 49/50 [00:49<00:00,  1.01it/s, model/all/train/loss=0.367, model/all/train/lr=0.0001]"
     ]
    },
    {
     "name": "stderr",
     "output_type": "stream",
     "text": [
      "/home/ubuntu/snorkel-tutorials/.tox/spam/lib/python3.6/site-packages/sklearn/metrics/classification.py:1437: UndefinedMetricWarning: F-score is ill-defined and being set to 0.0 due to no predicted samples.\n",
      "  'precision', 'predicted', average, warn_for)\n",
      "\r",
      "Epoch 0::  98%|█████████▊| 49/50 [00:50<00:00,  1.01it/s, model/all/train/loss=0.366, model/all/train/lr=0.0001, spam_task/spam_dataset/valid/accuracy=0.908, spam_task/spam_dataset/valid/f1=0.891, spam_task_slice:short_link_ind/spam_dataset/valid/f1=0, spam_task_slice:short_link_pred/spam_dataset/valid/accuracy=0.8, spam_task_slice:short_link_pred/spam_dataset/valid/f1=0.889, spam_task_slice:base_ind/spam_dataset/valid/f1=1, spam_task_slice:base_pred/spam_dataset/valid/accuracy=0.908, spam_task_slice:base_pred/spam_dataset/valid/f1=0.891, spam_task_slice:keyword_subscribe_ind/spam_dataset/valid/f1=0, spam_task_slice:keyword_subscribe_pred/spam_dataset/valid/accuracy=1, spam_task_slice:keyword_subscribe_pred/spam_dataset/valid/f1=1, spam_task_slice:keyword_please_ind/spam_dataset/valid/f1=0, spam_task_slice:keyword_please_pred/spam_dataset/valid/accuracy=1, spam_task_slice:keyword_please_pred/spam_dataset/valid/f1=1, spam_task_slice:regex_check_out_ind/spam_dataset/valid/f1=0.732, spam_task_slice:regex_check_out_pred/spam_dataset/valid/accuracy=1, spam_task_slice:regex_check_out_pred/spam_dataset/valid/f1=1, spam_task_slice:short_comment_ind/spam_dataset/valid/f1=0, spam_task_slice:short_comment_pred/spam_dataset/valid/accuracy=0.947, spam_task_slice:short_comment_pred/spam_dataset/valid/f1=0.5, spam_task_slice:has_person_nlp_ind/spam_dataset/valid/f1=0, spam_task_slice:has_person_nlp_pred/spam_dataset/valid/accuracy=1, spam_task_slice:has_person_nlp_pred/spam_dataset/valid/f1=1, spam_task_slice:textblob_polarity_ind/spam_dataset/valid/f1=0, spam_task_slice:textblob_polarity_pred/spam_dataset/valid/accuracy=1, spam_task_slice:textblob_polarity_pred/spam_dataset/valid/f1=1]"
     ]
    },
    {
     "name": "stderr",
     "output_type": "stream",
     "text": [
      "\r",
      "Epoch 0:: 100%|██████████| 50/50 [00:50<00:00,  1.05s/it, model/all/train/loss=0.366, model/all/train/lr=0.0001, spam_task/spam_dataset/valid/accuracy=0.908, spam_task/spam_dataset/valid/f1=0.891, spam_task_slice:short_link_ind/spam_dataset/valid/f1=0, spam_task_slice:short_link_pred/spam_dataset/valid/accuracy=0.8, spam_task_slice:short_link_pred/spam_dataset/valid/f1=0.889, spam_task_slice:base_ind/spam_dataset/valid/f1=1, spam_task_slice:base_pred/spam_dataset/valid/accuracy=0.908, spam_task_slice:base_pred/spam_dataset/valid/f1=0.891, spam_task_slice:keyword_subscribe_ind/spam_dataset/valid/f1=0, spam_task_slice:keyword_subscribe_pred/spam_dataset/valid/accuracy=1, spam_task_slice:keyword_subscribe_pred/spam_dataset/valid/f1=1, spam_task_slice:keyword_please_ind/spam_dataset/valid/f1=0, spam_task_slice:keyword_please_pred/spam_dataset/valid/accuracy=1, spam_task_slice:keyword_please_pred/spam_dataset/valid/f1=1, spam_task_slice:regex_check_out_ind/spam_dataset/valid/f1=0.732, spam_task_slice:regex_check_out_pred/spam_dataset/valid/accuracy=1, spam_task_slice:regex_check_out_pred/spam_dataset/valid/f1=1, spam_task_slice:short_comment_ind/spam_dataset/valid/f1=0, spam_task_slice:short_comment_pred/spam_dataset/valid/accuracy=0.947, spam_task_slice:short_comment_pred/spam_dataset/valid/f1=0.5, spam_task_slice:has_person_nlp_ind/spam_dataset/valid/f1=0, spam_task_slice:has_person_nlp_pred/spam_dataset/valid/accuracy=1, spam_task_slice:has_person_nlp_pred/spam_dataset/valid/f1=1, spam_task_slice:textblob_polarity_ind/spam_dataset/valid/f1=0, spam_task_slice:textblob_polarity_pred/spam_dataset/valid/accuracy=1, spam_task_slice:textblob_polarity_pred/spam_dataset/valid/f1=1]"
     ]
    },
    {
     "name": "stderr",
     "output_type": "stream",
     "text": [
      "\n"
     ]
    }
   ],
   "source": [
    "trainer = Trainer(n_epochs=1, lr=1e-4, progress_bar=True)\n",
    "trainer.fit(slice_model, [dl_train, dl_valid])"
   ]
  },
  {
   "cell_type": "markdown",
   "metadata": {},
   "source": [
    "At inference time, the primary task head (`spam_task`) will make all final predictions.\n",
    "We'd like to evaluate all the slice heads on the original task head.\n",
    "To do this, we use our `remap_labels` API, as we did earlier.\n",
    "Note that this time, we map each `ind` head to `None` — it doesn't make sense to evaluate these labels on the base task head."
   ]
  },
  {
   "cell_type": "code",
   "execution_count": 29,
   "metadata": {},
   "outputs": [],
   "source": [
    "Y_dict = dl_valid.dataset.Y_dict\n",
    "eval_mapping = {label: \"spam_task\" for label in Y_dict.keys() if \"pred\" in label}\n",
    "eval_mapping.update({label: None for label in Y_dict.keys() if \"ind\" in label})"
   ]
  },
  {
   "cell_type": "markdown",
   "metadata": {},
   "source": [
    "_Note: in this toy dataset, we might not see significant gains because our dataset is so small that (i) there are few examples the train split, giving little signal to learn over, and (ii) there are few examples in the test split, making our evaluation metrics very noisy.\n",
    "For a demonstration of data slicing deployed in state-of-the-art models, please see our [SuperGLUE](https://github.com/HazyResearch/snorkel-superglue/tree/master/tutorials) tutorials._"
   ]
  },
  {
   "cell_type": "code",
   "execution_count": 30,
   "metadata": {},
   "outputs": [
    {
     "name": "stderr",
     "output_type": "stream",
     "text": [
      "WARNING:root:Ignoring extra labels in dataloader (valid): {'spam_task_slice:keyword_please_ind', 'spam_task_slice:short_comment_ind', 'spam_task_slice:base_ind', 'spam_task_slice:keyword_subscribe_ind', 'spam_task_slice:has_person_nlp_ind', 'spam_task_slice:textblob_polarity_ind', 'spam_task_slice:regex_check_out_ind', 'spam_task_slice:short_link_ind'}\n"
     ]
    },
    {
     "data": {
      "text/html": [
       "<div>\n",
       "<style scoped>\n",
       "    .dataframe tbody tr th:only-of-type {\n",
       "        vertical-align: middle;\n",
       "    }\n",
       "\n",
       "    .dataframe tbody tr th {\n",
       "        vertical-align: top;\n",
       "    }\n",
       "\n",
       "    .dataframe thead th {\n",
       "        text-align: right;\n",
       "    }\n",
       "</style>\n",
       "<table border=\"1\" class=\"dataframe\">\n",
       "  <thead>\n",
       "    <tr style=\"text-align: right;\">\n",
       "      <th></th>\n",
       "      <th>label</th>\n",
       "      <th>dataset</th>\n",
       "      <th>split</th>\n",
       "      <th>metric</th>\n",
       "      <th>score</th>\n",
       "    </tr>\n",
       "  </thead>\n",
       "  <tbody>\n",
       "    <tr>\n",
       "      <th>0</th>\n",
       "      <td>spam_task</td>\n",
       "      <td>spam_dataset</td>\n",
       "      <td>valid</td>\n",
       "      <td>accuracy</td>\n",
       "      <td>0.908333</td>\n",
       "    </tr>\n",
       "    <tr>\n",
       "      <th>1</th>\n",
       "      <td>spam_task</td>\n",
       "      <td>spam_dataset</td>\n",
       "      <td>valid</td>\n",
       "      <td>f1</td>\n",
       "      <td>0.891089</td>\n",
       "    </tr>\n",
       "    <tr>\n",
       "      <th>2</th>\n",
       "      <td>spam_task_slice:short_link_pred</td>\n",
       "      <td>spam_dataset</td>\n",
       "      <td>valid</td>\n",
       "      <td>accuracy</td>\n",
       "      <td>0.400000</td>\n",
       "    </tr>\n",
       "    <tr>\n",
       "      <th>3</th>\n",
       "      <td>spam_task_slice:short_link_pred</td>\n",
       "      <td>spam_dataset</td>\n",
       "      <td>valid</td>\n",
       "      <td>f1</td>\n",
       "      <td>0.571429</td>\n",
       "    </tr>\n",
       "    <tr>\n",
       "      <th>4</th>\n",
       "      <td>spam_task_slice:base_pred</td>\n",
       "      <td>spam_dataset</td>\n",
       "      <td>valid</td>\n",
       "      <td>accuracy</td>\n",
       "      <td>0.908333</td>\n",
       "    </tr>\n",
       "    <tr>\n",
       "      <th>5</th>\n",
       "      <td>spam_task_slice:base_pred</td>\n",
       "      <td>spam_dataset</td>\n",
       "      <td>valid</td>\n",
       "      <td>f1</td>\n",
       "      <td>0.891089</td>\n",
       "    </tr>\n",
       "    <tr>\n",
       "      <th>6</th>\n",
       "      <td>spam_task_slice:keyword_subscribe_pred</td>\n",
       "      <td>spam_dataset</td>\n",
       "      <td>valid</td>\n",
       "      <td>accuracy</td>\n",
       "      <td>1.000000</td>\n",
       "    </tr>\n",
       "    <tr>\n",
       "      <th>7</th>\n",
       "      <td>spam_task_slice:keyword_subscribe_pred</td>\n",
       "      <td>spam_dataset</td>\n",
       "      <td>valid</td>\n",
       "      <td>f1</td>\n",
       "      <td>1.000000</td>\n",
       "    </tr>\n",
       "    <tr>\n",
       "      <th>8</th>\n",
       "      <td>spam_task_slice:keyword_please_pred</td>\n",
       "      <td>spam_dataset</td>\n",
       "      <td>valid</td>\n",
       "      <td>accuracy</td>\n",
       "      <td>1.000000</td>\n",
       "    </tr>\n",
       "    <tr>\n",
       "      <th>9</th>\n",
       "      <td>spam_task_slice:keyword_please_pred</td>\n",
       "      <td>spam_dataset</td>\n",
       "      <td>valid</td>\n",
       "      <td>f1</td>\n",
       "      <td>1.000000</td>\n",
       "    </tr>\n",
       "    <tr>\n",
       "      <th>10</th>\n",
       "      <td>spam_task_slice:regex_check_out_pred</td>\n",
       "      <td>spam_dataset</td>\n",
       "      <td>valid</td>\n",
       "      <td>accuracy</td>\n",
       "      <td>1.000000</td>\n",
       "    </tr>\n",
       "    <tr>\n",
       "      <th>11</th>\n",
       "      <td>spam_task_slice:regex_check_out_pred</td>\n",
       "      <td>spam_dataset</td>\n",
       "      <td>valid</td>\n",
       "      <td>f1</td>\n",
       "      <td>1.000000</td>\n",
       "    </tr>\n",
       "    <tr>\n",
       "      <th>12</th>\n",
       "      <td>spam_task_slice:short_comment_pred</td>\n",
       "      <td>spam_dataset</td>\n",
       "      <td>valid</td>\n",
       "      <td>accuracy</td>\n",
       "      <td>0.947368</td>\n",
       "    </tr>\n",
       "    <tr>\n",
       "      <th>13</th>\n",
       "      <td>spam_task_slice:short_comment_pred</td>\n",
       "      <td>spam_dataset</td>\n",
       "      <td>valid</td>\n",
       "      <td>f1</td>\n",
       "      <td>0.500000</td>\n",
       "    </tr>\n",
       "    <tr>\n",
       "      <th>14</th>\n",
       "      <td>spam_task_slice:has_person_nlp_pred</td>\n",
       "      <td>spam_dataset</td>\n",
       "      <td>valid</td>\n",
       "      <td>accuracy</td>\n",
       "      <td>1.000000</td>\n",
       "    </tr>\n",
       "    <tr>\n",
       "      <th>15</th>\n",
       "      <td>spam_task_slice:has_person_nlp_pred</td>\n",
       "      <td>spam_dataset</td>\n",
       "      <td>valid</td>\n",
       "      <td>f1</td>\n",
       "      <td>1.000000</td>\n",
       "    </tr>\n",
       "    <tr>\n",
       "      <th>16</th>\n",
       "      <td>spam_task_slice:textblob_polarity_pred</td>\n",
       "      <td>spam_dataset</td>\n",
       "      <td>valid</td>\n",
       "      <td>accuracy</td>\n",
       "      <td>1.000000</td>\n",
       "    </tr>\n",
       "    <tr>\n",
       "      <th>17</th>\n",
       "      <td>spam_task_slice:textblob_polarity_pred</td>\n",
       "      <td>spam_dataset</td>\n",
       "      <td>valid</td>\n",
       "      <td>f1</td>\n",
       "      <td>1.000000</td>\n",
       "    </tr>\n",
       "  </tbody>\n",
       "</table>\n",
       "</div>"
      ],
      "text/plain": [
       "                                     label       dataset  split    metric  \\\n",
       "0   spam_task                               spam_dataset  valid  accuracy   \n",
       "1   spam_task                               spam_dataset  valid  f1         \n",
       "2   spam_task_slice:short_link_pred         spam_dataset  valid  accuracy   \n",
       "3   spam_task_slice:short_link_pred         spam_dataset  valid  f1         \n",
       "4   spam_task_slice:base_pred               spam_dataset  valid  accuracy   \n",
       "5   spam_task_slice:base_pred               spam_dataset  valid  f1         \n",
       "6   spam_task_slice:keyword_subscribe_pred  spam_dataset  valid  accuracy   \n",
       "7   spam_task_slice:keyword_subscribe_pred  spam_dataset  valid  f1         \n",
       "8   spam_task_slice:keyword_please_pred     spam_dataset  valid  accuracy   \n",
       "9   spam_task_slice:keyword_please_pred     spam_dataset  valid  f1         \n",
       "10  spam_task_slice:regex_check_out_pred    spam_dataset  valid  accuracy   \n",
       "11  spam_task_slice:regex_check_out_pred    spam_dataset  valid  f1         \n",
       "12  spam_task_slice:short_comment_pred      spam_dataset  valid  accuracy   \n",
       "13  spam_task_slice:short_comment_pred      spam_dataset  valid  f1         \n",
       "14  spam_task_slice:has_person_nlp_pred     spam_dataset  valid  accuracy   \n",
       "15  spam_task_slice:has_person_nlp_pred     spam_dataset  valid  f1         \n",
       "16  spam_task_slice:textblob_polarity_pred  spam_dataset  valid  accuracy   \n",
       "17  spam_task_slice:textblob_polarity_pred  spam_dataset  valid  f1         \n",
       "\n",
       "       score  \n",
       "0   0.908333  \n",
       "1   0.891089  \n",
       "2   0.400000  \n",
       "3   0.571429  \n",
       "4   0.908333  \n",
       "5   0.891089  \n",
       "6   1.000000  \n",
       "7   1.000000  \n",
       "8   1.000000  \n",
       "9   1.000000  \n",
       "10  1.000000  \n",
       "11  1.000000  \n",
       "12  0.947368  \n",
       "13  0.500000  \n",
       "14  1.000000  \n",
       "15  1.000000  \n",
       "16  1.000000  \n",
       "17  1.000000  "
      ]
     },
     "execution_count": 30,
     "metadata": {},
     "output_type": "execute_result"
    }
   ],
   "source": [
    "slice_model.score([dl_valid], remap_labels=eval_mapping, as_dataframe=True)"
   ]
  },
  {
   "cell_type": "markdown",
   "metadata": {},
   "source": [
    "You've just defined slicing functions to monitor specific slices + improved slice-specific performance.\n",
    "For more technical details about _Slice-based Learning,_ stay tuned — our technical report is coming soon!"
   ]
  },
  {
   "cell_type": "code",
   "execution_count": null,
   "metadata": {},
   "outputs": [],
   "source": []
  }
 ],
 "metadata": {
  "jupytext": {
   "cell_metadata_filter": "-all",
   "encoding": "# -*- coding: utf-8 -*-"
  },
  "kernelspec": {
   "display_name": "Python 3",
   "language": "python",
   "name": "python3"
  },
  "language_info": {
   "codemirror_mode": {
    "name": "ipython",
    "version": 3
   },
   "file_extension": ".py",
   "mimetype": "text/x-python",
   "name": "python",
   "nbconvert_exporter": "python",
   "pygments_lexer": "ipython3",
   "version": "3.6.8"
  }
 },
 "nbformat": 4,
 "nbformat_minor": 2
}
