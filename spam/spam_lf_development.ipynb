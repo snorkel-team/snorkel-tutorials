{
 "cells": [
  {
   "cell_type": "markdown",
   "metadata": {},
   "source": [
    "# 🛠 Labeling Function Development in Snorkel"
   ]
  },
  {
   "cell_type": "markdown",
   "metadata": {},
   "source": [
    "In the [Introductory Tutorial](https://github.com/snorkel-team/snorkel-tutorials/blob/master/spam/spam_tutorial.ipynb),\n",
    "we created our training set using a wide range of labeling functions spanning pattern matching,\n",
    "weak supervision, and weak models.\n",
    "However, these LFs weren't the first ideas that popped into our heads.\n",
    "Typical LF development cycles include multiple iterations of ideation, refining, evaluation, and debugging.\n",
    "In this notebook, we walk through the development of two LFs using basic analysis tools in Snorkel.\n",
    "\n",
    "If you haven't done the [Introductory Tutorial](https://github.com/snorkel-team/snorkel-tutorials/blob/master/spam/spam_tutorial.ipynb) yet, we recommend you do that first.\n",
    "We'll use the same [YouTube comments dataset](https://www.kaggle.com/goneee/youtube-spam-classifiedcomments) from Kaggle. Let's get to work!"
   ]
  },
  {
   "cell_type": "markdown",
   "metadata": {},
   "source": [
    "## Recommended practice for LF development\n",
    "\n",
    "Labeling function development is typically an iterative, creative, and free-form process.\n",
    "However, there are a few principles that we highly recommend using when developing labeling functions.\n",
    "\n",
    "* **Use the unlabeled training set for ideation whenever possible.** Reserve labeled examples for evaluation in order to avoid overfitting LFs or models.\n",
    "* **Develop labeling functions in isolation.** Avoid using a \"boosting\" approach, trying to develop LFs specifically to interact with behavior of existing LFs. If you use the existing LFs to identify uncovered areas of the data, generalize the observed pattern rather than writing an LF to cover those exact examples.\n",
    "* **Prioritize precision over coverage, up to 90% precision.** Precise LFs often result in higher performance models than ones with more coverage. However, coverage is often more difficult to obtain. So choose a 90% precision and 30% coverage version of an LF over a 95% precision and 10% coverage version.\n"
   ]
  },
  {
   "cell_type": "markdown",
   "metadata": {},
   "source": [
    "## Loading training and development set data\n",
    "\n",
    "In the [Introductory Tutorial](https://github.com/snorkel-team/snorkel-tutorials/blob/master/spam/spam_tutorial.ipynb), we covered the key data set splits in Snorkel development.\n",
    "For LF development, we only need the training set (a large amount of unlabeled data) and the dev set (a large amount of labeled data)."
   ]
  },
  {
   "cell_type": "code",
   "execution_count": 1,
   "metadata": {},
   "outputs": [],
   "source": [
    "import os\n",
    "\n",
    "# Make sure we're running from the spam/ directory\n",
    "if os.path.basename(os.getcwd()) == \"snorkel-tutorials\":\n",
    "    os.chdir(\"spam\")"
   ]
  },
  {
   "cell_type": "code",
   "execution_count": 2,
   "metadata": {
    "lines_to_next_cell": 2
   },
   "outputs": [],
   "source": [
    "from utils import load_spam_dataset\n",
    "\n",
    "df_train, df_dev, _, _ = load_spam_dataset()\n",
    "\n",
    "# We pull out the label vectors for ease of use later\n",
    "Y_dev = df_dev[\"label\"].values\n",
    "\n",
    "\n",
    "# Define label-to-int mapping for legibility\n",
    "SPAM = 1\n",
    "HAM = 0\n",
    "ABSTAIN = -1"
   ]
  },
  {
   "cell_type": "markdown",
   "metadata": {},
   "source": [
    "## Initial ideation"
   ]
  },
  {
   "cell_type": "markdown",
   "metadata": {},
   "source": [
    "Following recommended practice above, we'll start by looking at the training set to generate some ideas for LFs."
   ]
  },
  {
   "cell_type": "code",
   "execution_count": 3,
   "metadata": {},
   "outputs": [
    {
     "data": {
      "text/html": [
       "<div>\n",
       "<style scoped>\n",
       "    .dataframe tbody tr th:only-of-type {\n",
       "        vertical-align: middle;\n",
       "    }\n",
       "\n",
       "    .dataframe tbody tr th {\n",
       "        vertical-align: top;\n",
       "    }\n",
       "\n",
       "    .dataframe thead th {\n",
       "        text-align: right;\n",
       "    }\n",
       "</style>\n",
       "<table border=\"1\" class=\"dataframe\">\n",
       "  <thead>\n",
       "    <tr style=\"text-align: right;\">\n",
       "      <th></th>\n",
       "      <th>author</th>\n",
       "      <th>text</th>\n",
       "      <th>video</th>\n",
       "    </tr>\n",
       "  </thead>\n",
       "  <tbody>\n",
       "    <tr>\n",
       "      <th>4</th>\n",
       "      <td>ambareesh nimkar</td>\n",
       "      <td>\"eye of the tiger\" \"i am the champion\" seems l...</td>\n",
       "      <td>2</td>\n",
       "    </tr>\n",
       "    <tr>\n",
       "      <th>87</th>\n",
       "      <td>pratik patel</td>\n",
       "      <td>mindblowing dance.,.,.superbbb song﻿</td>\n",
       "      <td>3</td>\n",
       "    </tr>\n",
       "    <tr>\n",
       "      <th>14</th>\n",
       "      <td>RaMpAgE420</td>\n",
       "      <td>Check out Berzerk video on my channel ! :D</td>\n",
       "      <td>4</td>\n",
       "    </tr>\n",
       "    <tr>\n",
       "      <th>80</th>\n",
       "      <td>Jason Haddad</td>\n",
       "      <td>Hey, check out my new website!! This site is a...</td>\n",
       "      <td>1</td>\n",
       "    </tr>\n",
       "    <tr>\n",
       "      <th>104</th>\n",
       "      <td>austin green</td>\n",
       "      <td>Eminem is my insperasen and fav﻿</td>\n",
       "      <td>4</td>\n",
       "    </tr>\n",
       "    <tr>\n",
       "      <th>305</th>\n",
       "      <td>M.E.S</td>\n",
       "      <td>hey guys look im aware im spamming and it piss...</td>\n",
       "      <td>4</td>\n",
       "    </tr>\n",
       "    <tr>\n",
       "      <th>22</th>\n",
       "      <td>John Monster</td>\n",
       "      <td>Οh my god ... Roar is the most liked video at ...</td>\n",
       "      <td>2</td>\n",
       "    </tr>\n",
       "    <tr>\n",
       "      <th>338</th>\n",
       "      <td>Alanoud Alsaleh</td>\n",
       "      <td>I started hating Katy Perry after finding out ...</td>\n",
       "      <td>2</td>\n",
       "    </tr>\n",
       "    <tr>\n",
       "      <th>336</th>\n",
       "      <td>Leonardo Baptista</td>\n",
       "      <td>http://www.avaaz.org/po/petition/Youtube_Corpo...</td>\n",
       "      <td>1</td>\n",
       "    </tr>\n",
       "    <tr>\n",
       "      <th>143</th>\n",
       "      <td>UKz DoleSnacher</td>\n",
       "      <td>Remove This video its wank﻿</td>\n",
       "      <td>1</td>\n",
       "    </tr>\n",
       "    <tr>\n",
       "      <th>163</th>\n",
       "      <td>Monica Parker</td>\n",
       "      <td>Check out this video on YouTube:﻿</td>\n",
       "      <td>3</td>\n",
       "    </tr>\n",
       "    <tr>\n",
       "      <th>129</th>\n",
       "      <td>b0b1t.48058475</td>\n",
       "      <td>i rekt ur mum last nite. cuz da haterz were 2 ...</td>\n",
       "      <td>2</td>\n",
       "    </tr>\n",
       "    <tr>\n",
       "      <th>277</th>\n",
       "      <td>MeSoHornyMeLuvULongTime</td>\n",
       "      <td>This video is so racist!!! There are only anim...</td>\n",
       "      <td>2</td>\n",
       "    </tr>\n",
       "    <tr>\n",
       "      <th>265</th>\n",
       "      <td>HarveyIsTheBoss</td>\n",
       "      <td>You gotta say its funny. well not 2 billion wo...</td>\n",
       "      <td>1</td>\n",
       "    </tr>\n",
       "    <tr>\n",
       "      <th>214</th>\n",
       "      <td>janez novak</td>\n",
       "      <td>share and like this page to win a hand signed ...</td>\n",
       "      <td>4</td>\n",
       "    </tr>\n",
       "    <tr>\n",
       "      <th>76</th>\n",
       "      <td>Bizzle Sperq</td>\n",
       "      <td>https://www.facebook.com/nicushorbboy add mee ...</td>\n",
       "      <td>1</td>\n",
       "    </tr>\n",
       "    <tr>\n",
       "      <th>123</th>\n",
       "      <td>Gaming and Stuff PRO</td>\n",
       "      <td>Hello! Do you like gaming, art videos, scienti...</td>\n",
       "      <td>1</td>\n",
       "    </tr>\n",
       "    <tr>\n",
       "      <th>268</th>\n",
       "      <td>Young IncoVEVO</td>\n",
       "      <td>Check out my Music Videos! and PLEASE SUBSCRIB...</td>\n",
       "      <td>1</td>\n",
       "    </tr>\n",
       "    <tr>\n",
       "      <th>433</th>\n",
       "      <td>Chris Edgar</td>\n",
       "      <td>Love the way you lie - Driveshaft﻿</td>\n",
       "      <td>4</td>\n",
       "    </tr>\n",
       "    <tr>\n",
       "      <th>40</th>\n",
       "      <td>rap classics</td>\n",
       "      <td>check out my channel for rap and hip hop music</td>\n",
       "      <td>4</td>\n",
       "    </tr>\n",
       "  </tbody>\n",
       "</table>\n",
       "</div>"
      ],
      "text/plain": [
       "                      author  \\\n",
       "4           ambareesh nimkar   \n",
       "87              pratik patel   \n",
       "14                RaMpAgE420   \n",
       "80              Jason Haddad   \n",
       "104             austin green   \n",
       "305                    M.E.S   \n",
       "22              John Monster   \n",
       "338          Alanoud Alsaleh   \n",
       "336        Leonardo Baptista   \n",
       "143          UKz DoleSnacher   \n",
       "163            Monica Parker   \n",
       "129           b0b1t.48058475   \n",
       "277  MeSoHornyMeLuvULongTime   \n",
       "265          HarveyIsTheBoss   \n",
       "214              janez novak   \n",
       "76              Bizzle Sperq   \n",
       "123     Gaming and Stuff PRO   \n",
       "268           Young IncoVEVO   \n",
       "433              Chris Edgar   \n",
       "40              rap classics   \n",
       "\n",
       "                                                  text  video  \n",
       "4    \"eye of the tiger\" \"i am the champion\" seems l...      2  \n",
       "87                mindblowing dance.,.,.superbbb song﻿      3  \n",
       "14          Check out Berzerk video on my channel ! :D      4  \n",
       "80   Hey, check out my new website!! This site is a...      1  \n",
       "104                   Eminem is my insperasen and fav﻿      4  \n",
       "305  hey guys look im aware im spamming and it piss...      4  \n",
       "22   Οh my god ... Roar is the most liked video at ...      2  \n",
       "338  I started hating Katy Perry after finding out ...      2  \n",
       "336  http://www.avaaz.org/po/petition/Youtube_Corpo...      1  \n",
       "143                        Remove This video its wank﻿      1  \n",
       "163                  Check out this video on YouTube:﻿      3  \n",
       "129  i rekt ur mum last nite. cuz da haterz were 2 ...      2  \n",
       "277  This video is so racist!!! There are only anim...      2  \n",
       "265  You gotta say its funny. well not 2 billion wo...      1  \n",
       "214  share and like this page to win a hand signed ...      4  \n",
       "76   https://www.facebook.com/nicushorbboy add mee ...      1  \n",
       "123  Hello! Do you like gaming, art videos, scienti...      1  \n",
       "268  Check out my Music Videos! and PLEASE SUBSCRIB...      1  \n",
       "433                 Love the way you lie - Driveshaft﻿      4  \n",
       "40      check out my channel for rap and hip hop music      4  "
      ]
     },
     "execution_count": 3,
     "metadata": {},
     "output_type": "execute_result"
    }
   ],
   "source": [
    "df_train[[\"author\", \"text\", \"video\"]].sample(20, random_state=2)"
   ]
  },
  {
   "cell_type": "markdown",
   "metadata": {},
   "source": [
    "One dominant pattern in the comments that look like spam is the use of the phrase \"check out\" (e.g. \"check out my channel\").\n",
    "Let's start with that."
   ]
  },
  {
   "cell_type": "markdown",
   "metadata": {},
   "source": [
    "## Writing an LF to identify spammy comments that use the phrase \"check out\""
   ]
  },
  {
   "cell_type": "markdown",
   "metadata": {},
   "source": [
    "Let's start developing an LF to catch instances of commenters trying to get people to \"check out\" their channel, video, or website.\n",
    "We'll start by just looking for the exact string `\"check out\"` in the text, and compare that to looking for just `\"check\"` in the text."
   ]
  },
  {
   "cell_type": "code",
   "execution_count": 4,
   "metadata": {},
   "outputs": [],
   "source": [
    "from snorkel.labeling.lf import labeling_function\n",
    "\n",
    "\n",
    "@labeling_function()\n",
    "def check_out(x):\n",
    "    return SPAM if \"check out\" in x.text.lower() else ABSTAIN\n",
    "\n",
    "\n",
    "@labeling_function()\n",
    "def check(x):\n",
    "    return SPAM if \"check\" in x.text.lower() else ABSTAIN"
   ]
  },
  {
   "cell_type": "markdown",
   "metadata": {},
   "source": [
    "Let's generate our label matrices and see how we do."
   ]
  },
  {
   "cell_type": "code",
   "execution_count": 5,
   "metadata": {},
   "outputs": [
    {
     "name": "stderr",
     "output_type": "stream",
     "text": [
      "\r",
      "  0%|          | 0/1586 [00:00<?, ?it/s]"
     ]
    },
    {
     "name": "stderr",
     "output_type": "stream",
     "text": [
      "\r",
      "100%|██████████| 1586/1586 [00:00<00:00, 35927.17it/s]"
     ]
    },
    {
     "name": "stderr",
     "output_type": "stream",
     "text": [
      "\n",
      "\r",
      "  0%|          | 0/100 [00:00<?, ?it/s]"
     ]
    },
    {
     "name": "stderr",
     "output_type": "stream",
     "text": [
      "\r",
      "100%|██████████| 100/100 [00:00<00:00, 25174.38it/s]"
     ]
    },
    {
     "name": "stderr",
     "output_type": "stream",
     "text": [
      "\n"
     ]
    }
   ],
   "source": [
    "from snorkel.labeling.apply import PandasLFApplier\n",
    "\n",
    "lfs = [check_out, check]\n",
    "\n",
    "applier = PandasLFApplier(lfs)\n",
    "L_train = applier.apply(df_train)\n",
    "L_dev = applier.apply(df_dev)"
   ]
  },
  {
   "cell_type": "code",
   "execution_count": 6,
   "metadata": {},
   "outputs": [
    {
     "data": {
      "text/html": [
       "<div>\n",
       "<style scoped>\n",
       "    .dataframe tbody tr th:only-of-type {\n",
       "        vertical-align: middle;\n",
       "    }\n",
       "\n",
       "    .dataframe tbody tr th {\n",
       "        vertical-align: top;\n",
       "    }\n",
       "\n",
       "    .dataframe thead th {\n",
       "        text-align: right;\n",
       "    }\n",
       "</style>\n",
       "<table border=\"1\" class=\"dataframe\">\n",
       "  <thead>\n",
       "    <tr style=\"text-align: right;\">\n",
       "      <th></th>\n",
       "      <th>j</th>\n",
       "      <th>Polarity</th>\n",
       "      <th>Coverage</th>\n",
       "      <th>Overlaps</th>\n",
       "      <th>Conflicts</th>\n",
       "    </tr>\n",
       "  </thead>\n",
       "  <tbody>\n",
       "    <tr>\n",
       "      <th>check_out</th>\n",
       "      <td>0</td>\n",
       "      <td>[1]</td>\n",
       "      <td>0.21</td>\n",
       "      <td>0.21</td>\n",
       "      <td>0.0</td>\n",
       "    </tr>\n",
       "    <tr>\n",
       "      <th>check</th>\n",
       "      <td>1</td>\n",
       "      <td>[1]</td>\n",
       "      <td>0.26</td>\n",
       "      <td>0.21</td>\n",
       "      <td>0.0</td>\n",
       "    </tr>\n",
       "  </tbody>\n",
       "</table>\n",
       "</div>"
      ],
      "text/plain": [
       "           j Polarity  Coverage  Overlaps  Conflicts\n",
       "check_out  0      [1]      0.21      0.21        0.0\n",
       "check      1      [1]      0.26      0.21        0.0"
      ]
     },
     "execution_count": 6,
     "metadata": {},
     "output_type": "execute_result"
    }
   ],
   "source": [
    "from snorkel.labeling.analysis import LFAnalysis\n",
    "\n",
    "LFAnalysis(L_train, lfs).lf_summary().round(2)"
   ]
  },
  {
   "cell_type": "code",
   "execution_count": 7,
   "metadata": {},
   "outputs": [
    {
     "data": {
      "text/html": [
       "<div>\n",
       "<style scoped>\n",
       "    .dataframe tbody tr th:only-of-type {\n",
       "        vertical-align: middle;\n",
       "    }\n",
       "\n",
       "    .dataframe tbody tr th {\n",
       "        vertical-align: top;\n",
       "    }\n",
       "\n",
       "    .dataframe thead th {\n",
       "        text-align: right;\n",
       "    }\n",
       "</style>\n",
       "<table border=\"1\" class=\"dataframe\">\n",
       "  <thead>\n",
       "    <tr style=\"text-align: right;\">\n",
       "      <th></th>\n",
       "      <th>j</th>\n",
       "      <th>Polarity</th>\n",
       "      <th>Coverage</th>\n",
       "      <th>Overlaps</th>\n",
       "      <th>Conflicts</th>\n",
       "      <th>Correct</th>\n",
       "      <th>Incorrect</th>\n",
       "      <th>Emp. Acc.</th>\n",
       "    </tr>\n",
       "  </thead>\n",
       "  <tbody>\n",
       "    <tr>\n",
       "      <th>check_out</th>\n",
       "      <td>0</td>\n",
       "      <td>[1]</td>\n",
       "      <td>0.22</td>\n",
       "      <td>0.22</td>\n",
       "      <td>0.0</td>\n",
       "      <td>22</td>\n",
       "      <td>0</td>\n",
       "      <td>1.00</td>\n",
       "    </tr>\n",
       "    <tr>\n",
       "      <th>check</th>\n",
       "      <td>1</td>\n",
       "      <td>[1]</td>\n",
       "      <td>0.30</td>\n",
       "      <td>0.22</td>\n",
       "      <td>0.0</td>\n",
       "      <td>29</td>\n",
       "      <td>1</td>\n",
       "      <td>0.97</td>\n",
       "    </tr>\n",
       "  </tbody>\n",
       "</table>\n",
       "</div>"
      ],
      "text/plain": [
       "           j Polarity  Coverage  Overlaps  Conflicts  Correct  Incorrect  \\\n",
       "check_out  0      [1]      0.22      0.22        0.0       22          0   \n",
       "check      1      [1]      0.30      0.22        0.0       29          1   \n",
       "\n",
       "           Emp. Acc.  \n",
       "check_out       1.00  \n",
       "check           0.97  "
      ]
     },
     "execution_count": 7,
     "metadata": {},
     "output_type": "execute_result"
    }
   ],
   "source": [
    "LFAnalysis(L_dev, lfs).lf_summary(Y_dev).round(2)"
   ]
  },
  {
   "cell_type": "markdown",
   "metadata": {},
   "source": [
    "So even these very simple rules do quite well!\n",
    "Following our principle above, we might want to pick the `check` rule, since both have high precision and `check` has higher coverage.\n",
    "But let's look at our error buckets to be sure."
   ]
  },
  {
   "cell_type": "code",
   "execution_count": 8,
   "metadata": {},
   "outputs": [
    {
     "data": {
      "text/html": [
       "<div>\n",
       "<style scoped>\n",
       "    .dataframe tbody tr th:only-of-type {\n",
       "        vertical-align: middle;\n",
       "    }\n",
       "\n",
       "    .dataframe tbody tr th {\n",
       "        vertical-align: top;\n",
       "    }\n",
       "\n",
       "    .dataframe thead th {\n",
       "        text-align: right;\n",
       "    }\n",
       "</style>\n",
       "<table border=\"1\" class=\"dataframe\">\n",
       "  <thead>\n",
       "    <tr style=\"text-align: right;\">\n",
       "      <th></th>\n",
       "      <th>author</th>\n",
       "      <th>date</th>\n",
       "      <th>text</th>\n",
       "      <th>label</th>\n",
       "      <th>video</th>\n",
       "    </tr>\n",
       "  </thead>\n",
       "  <tbody>\n",
       "    <tr>\n",
       "      <th>260</th>\n",
       "      <td>Eanna Cusack</td>\n",
       "      <td>2014-01-20T22:20:59</td>\n",
       "      <td>Im just to check how much views it has﻿</td>\n",
       "      <td>0</td>\n",
       "      <td>1</td>\n",
       "    </tr>\n",
       "  </tbody>\n",
       "</table>\n",
       "</div>"
      ],
      "text/plain": [
       "           author                 date  \\\n",
       "260  Eanna Cusack  2014-01-20T22:20:59   \n",
       "\n",
       "                                        text  label  video  \n",
       "260  Im just to check how much views it has﻿      0      1  "
      ]
     },
     "execution_count": 8,
     "metadata": {},
     "output_type": "execute_result"
    }
   ],
   "source": [
    "from snorkel.analysis.error_analysis import error_buckets\n",
    "\n",
    "buckets = error_buckets(Y_dev, L_dev[:, 1])\n",
    "df_dev.iloc[buckets[(SPAM, HAM)]]"
   ]
  },
  {
   "cell_type": "markdown",
   "metadata": {},
   "source": [
    "`check` is still looking good, since the false positive is specific to only a few of the most popular videos on YouTube (ones with billions of views).\n",
    "Now let's take a look at some places that `check` labeled `SPAM` on the training set to see if it matches our intuition or if we can identify some false positives."
   ]
  },
  {
   "cell_type": "code",
   "execution_count": 9,
   "metadata": {},
   "outputs": [
    {
     "data": {
      "text/html": [
       "<div>\n",
       "<style scoped>\n",
       "    .dataframe tbody tr th:only-of-type {\n",
       "        vertical-align: middle;\n",
       "    }\n",
       "\n",
       "    .dataframe tbody tr th {\n",
       "        vertical-align: top;\n",
       "    }\n",
       "\n",
       "    .dataframe thead th {\n",
       "        text-align: right;\n",
       "    }\n",
       "</style>\n",
       "<table border=\"1\" class=\"dataframe\">\n",
       "  <thead>\n",
       "    <tr style=\"text-align: right;\">\n",
       "      <th></th>\n",
       "      <th>author</th>\n",
       "      <th>date</th>\n",
       "      <th>text</th>\n",
       "      <th>label</th>\n",
       "      <th>video</th>\n",
       "    </tr>\n",
       "  </thead>\n",
       "  <tbody>\n",
       "    <tr>\n",
       "      <th>305</th>\n",
       "      <td>M.E.S</td>\n",
       "      <td>NaN</td>\n",
       "      <td>hey guys look im aware im spamming and it piss...</td>\n",
       "      <td>-1.0</td>\n",
       "      <td>4</td>\n",
       "    </tr>\n",
       "    <tr>\n",
       "      <th>265</th>\n",
       "      <td>Kawiana Lewis</td>\n",
       "      <td>2015-02-27T02:20:40.987000</td>\n",
       "      <td>Check out this video on YouTube:opponents mm &lt;...</td>\n",
       "      <td>-1.0</td>\n",
       "      <td>3</td>\n",
       "    </tr>\n",
       "    <tr>\n",
       "      <th>89</th>\n",
       "      <td>Stricker Stric</td>\n",
       "      <td>NaN</td>\n",
       "      <td>eminem new song check out my videos</td>\n",
       "      <td>-1.0</td>\n",
       "      <td>4</td>\n",
       "    </tr>\n",
       "    <tr>\n",
       "      <th>147</th>\n",
       "      <td>TheGenieBoy</td>\n",
       "      <td>NaN</td>\n",
       "      <td>check out fantasy music    right here -------&amp;...</td>\n",
       "      <td>-1.0</td>\n",
       "      <td>4</td>\n",
       "    </tr>\n",
       "    <tr>\n",
       "      <th>240</th>\n",
       "      <td>Made2Falter</td>\n",
       "      <td>2014-09-09T23:55:30</td>\n",
       "      <td>Check out our vids, our songs are awesome! And...</td>\n",
       "      <td>-1.0</td>\n",
       "      <td>2</td>\n",
       "    </tr>\n",
       "    <tr>\n",
       "      <th>273</th>\n",
       "      <td>Artady</td>\n",
       "      <td>2014-08-11T16:27:55</td>\n",
       "      <td>https://soundcloud.com/artady please check my ...</td>\n",
       "      <td>-1.0</td>\n",
       "      <td>2</td>\n",
       "    </tr>\n",
       "    <tr>\n",
       "      <th>94</th>\n",
       "      <td>Nick McGoldrick</td>\n",
       "      <td>2014-10-27T13:19:06</td>\n",
       "      <td>Check out my drum cover of E.T. here! thanks -...</td>\n",
       "      <td>-1.0</td>\n",
       "      <td>2</td>\n",
       "    </tr>\n",
       "    <tr>\n",
       "      <th>139</th>\n",
       "      <td>MFkin PRXPHETZ</td>\n",
       "      <td>2014-01-20T09:08:39</td>\n",
       "      <td>if you like raw talent, raw lyrics, straight r...</td>\n",
       "      <td>-1.0</td>\n",
       "      <td>1</td>\n",
       "    </tr>\n",
       "    <tr>\n",
       "      <th>303</th>\n",
       "      <td>이 정훈</td>\n",
       "      <td>NaN</td>\n",
       "      <td>This great Warning will happen soon. ,0\\nLneaD...</td>\n",
       "      <td>-1.0</td>\n",
       "      <td>4</td>\n",
       "    </tr>\n",
       "    <tr>\n",
       "      <th>246</th>\n",
       "      <td>media.uploader</td>\n",
       "      <td>NaN</td>\n",
       "      <td>Check out my channel to see Rihanna short mix ...</td>\n",
       "      <td>-1.0</td>\n",
       "      <td>4</td>\n",
       "    </tr>\n",
       "  </tbody>\n",
       "</table>\n",
       "</div>"
      ],
      "text/plain": [
       "              author                        date  \\\n",
       "305            M.E.S                         NaN   \n",
       "265    Kawiana Lewis  2015-02-27T02:20:40.987000   \n",
       "89    Stricker Stric                         NaN   \n",
       "147      TheGenieBoy                         NaN   \n",
       "240      Made2Falter         2014-09-09T23:55:30   \n",
       "273           Artady         2014-08-11T16:27:55   \n",
       "94   Nick McGoldrick         2014-10-27T13:19:06   \n",
       "139   MFkin PRXPHETZ         2014-01-20T09:08:39   \n",
       "303             이 정훈                         NaN   \n",
       "246   media.uploader                         NaN   \n",
       "\n",
       "                                                  text  label  video  \n",
       "305  hey guys look im aware im spamming and it piss...   -1.0      4  \n",
       "265  Check out this video on YouTube:opponents mm <...   -1.0      3  \n",
       "89                 eminem new song check out my videos   -1.0      4  \n",
       "147  check out fantasy music    right here -------&...   -1.0      4  \n",
       "240  Check out our vids, our songs are awesome! And...   -1.0      2  \n",
       "273  https://soundcloud.com/artady please check my ...   -1.0      2  \n",
       "94   Check out my drum cover of E.T. here! thanks -...   -1.0      2  \n",
       "139  if you like raw talent, raw lyrics, straight r...   -1.0      1  \n",
       "303  This great Warning will happen soon. ,0\\nLneaD...   -1.0      4  \n",
       "246  Check out my channel to see Rihanna short mix ...   -1.0      4  "
      ]
     },
     "execution_count": 9,
     "metadata": {},
     "output_type": "execute_result"
    }
   ],
   "source": [
    "df_train.iloc[L_train[:, 1] == SPAM].sample(10, random_state=1)"
   ]
  },
  {
   "cell_type": "markdown",
   "metadata": {},
   "source": [
    "No clear false positives here, but many look like they could be labeled by `check_out` as well.\n",
    "Let's see where `check_out` abstained, but `check` labeled."
   ]
  },
  {
   "cell_type": "code",
   "execution_count": 10,
   "metadata": {},
   "outputs": [
    {
     "data": {
      "text/html": [
       "<div>\n",
       "<style scoped>\n",
       "    .dataframe tbody tr th:only-of-type {\n",
       "        vertical-align: middle;\n",
       "    }\n",
       "\n",
       "    .dataframe tbody tr th {\n",
       "        vertical-align: top;\n",
       "    }\n",
       "\n",
       "    .dataframe thead th {\n",
       "        text-align: right;\n",
       "    }\n",
       "</style>\n",
       "<table border=\"1\" class=\"dataframe\">\n",
       "  <thead>\n",
       "    <tr style=\"text-align: right;\">\n",
       "      <th></th>\n",
       "      <th>author</th>\n",
       "      <th>date</th>\n",
       "      <th>text</th>\n",
       "      <th>label</th>\n",
       "      <th>video</th>\n",
       "    </tr>\n",
       "  </thead>\n",
       "  <tbody>\n",
       "    <tr>\n",
       "      <th>403</th>\n",
       "      <td>ownpear902</td>\n",
       "      <td>2014-07-22T18:44:36.299000</td>\n",
       "      <td>check it out free stuff for watching videos an...</td>\n",
       "      <td>-1.0</td>\n",
       "      <td>3</td>\n",
       "    </tr>\n",
       "    <tr>\n",
       "      <th>256</th>\n",
       "      <td>PacKmaN</td>\n",
       "      <td>2014-11-05T21:56:39</td>\n",
       "      <td>check men out i put allot of effort into my mu...</td>\n",
       "      <td>-1.0</td>\n",
       "      <td>1</td>\n",
       "    </tr>\n",
       "    <tr>\n",
       "      <th>196</th>\n",
       "      <td>Angek95</td>\n",
       "      <td>2014-11-03T22:28:56</td>\n",
       "      <td>Check my channel, please!﻿</td>\n",
       "      <td>-1.0</td>\n",
       "      <td>1</td>\n",
       "    </tr>\n",
       "    <tr>\n",
       "      <th>282</th>\n",
       "      <td>CronicleFPS</td>\n",
       "      <td>2014-11-06T03:10:26</td>\n",
       "      <td>Check me out I'm all about gaming ﻿</td>\n",
       "      <td>-1.0</td>\n",
       "      <td>1</td>\n",
       "    </tr>\n",
       "    <tr>\n",
       "      <th>352</th>\n",
       "      <td>MrJtill0317</td>\n",
       "      <td>NaN</td>\n",
       "      <td>┏━━━┓┏┓╋┏┓┏━━━┓┏━━━┓┏┓╋╋┏┓  ┃┏━┓┃┃┃╋┃┃┃┏━┓┃┗┓┏...</td>\n",
       "      <td>-1.0</td>\n",
       "      <td>4</td>\n",
       "    </tr>\n",
       "    <tr>\n",
       "      <th>161</th>\n",
       "      <td>MarianMusicChannel</td>\n",
       "      <td>2014-08-24T03:57:52</td>\n",
       "      <td>Hello! I'm Marian, I'm a singer from Venezuela...</td>\n",
       "      <td>-1.0</td>\n",
       "      <td>2</td>\n",
       "    </tr>\n",
       "    <tr>\n",
       "      <th>270</th>\n",
       "      <td>Kyle Jaber</td>\n",
       "      <td>2014-01-19T00:21:29</td>\n",
       "      <td>Check me out! I'm kyle. I rap so yeah ﻿</td>\n",
       "      <td>-1.0</td>\n",
       "      <td>1</td>\n",
       "    </tr>\n",
       "    <tr>\n",
       "      <th>292</th>\n",
       "      <td>Soundhase</td>\n",
       "      <td>2014-08-19T18:59:38</td>\n",
       "      <td>Hi Guys! check this awesome EDM &amp;amp; House mi...</td>\n",
       "      <td>-1.0</td>\n",
       "      <td>2</td>\n",
       "    </tr>\n",
       "    <tr>\n",
       "      <th>179</th>\n",
       "      <td>Nerdy Peach</td>\n",
       "      <td>2014-10-29T22:44:41</td>\n",
       "      <td>Hey! I'm NERDY PEACH and I'm a new youtuber an...</td>\n",
       "      <td>-1.0</td>\n",
       "      <td>2</td>\n",
       "    </tr>\n",
       "    <tr>\n",
       "      <th>16</th>\n",
       "      <td>zhichao wang</td>\n",
       "      <td>2013-11-29T02:13:56</td>\n",
       "      <td>i think about 100 millions of the views come f...</td>\n",
       "      <td>-1.0</td>\n",
       "      <td>1</td>\n",
       "    </tr>\n",
       "  </tbody>\n",
       "</table>\n",
       "</div>"
      ],
      "text/plain": [
       "                 author                        date  \\\n",
       "403          ownpear902  2014-07-22T18:44:36.299000   \n",
       "256             PacKmaN         2014-11-05T21:56:39   \n",
       "196             Angek95         2014-11-03T22:28:56   \n",
       "282         CronicleFPS         2014-11-06T03:10:26   \n",
       "352         MrJtill0317                         NaN   \n",
       "161  MarianMusicChannel         2014-08-24T03:57:52   \n",
       "270          Kyle Jaber         2014-01-19T00:21:29   \n",
       "292           Soundhase         2014-08-19T18:59:38   \n",
       "179         Nerdy Peach         2014-10-29T22:44:41   \n",
       "16         zhichao wang         2013-11-29T02:13:56   \n",
       "\n",
       "                                                  text  label  video  \n",
       "403  check it out free stuff for watching videos an...   -1.0      3  \n",
       "256  check men out i put allot of effort into my mu...   -1.0      1  \n",
       "196                         Check my channel, please!﻿   -1.0      1  \n",
       "282                Check me out I'm all about gaming ﻿   -1.0      1  \n",
       "352  ┏━━━┓┏┓╋┏┓┏━━━┓┏━━━┓┏┓╋╋┏┓  ┃┏━┓┃┃┃╋┃┃┃┏━┓┃┗┓┏...   -1.0      4  \n",
       "161  Hello! I'm Marian, I'm a singer from Venezuela...   -1.0      2  \n",
       "270            Check me out! I'm kyle. I rap so yeah ﻿   -1.0      1  \n",
       "292  Hi Guys! check this awesome EDM &amp; House mi...   -1.0      2  \n",
       "179  Hey! I'm NERDY PEACH and I'm a new youtuber an...   -1.0      2  \n",
       "16   i think about 100 millions of the views come f...   -1.0      1  "
      ]
     },
     "execution_count": 10,
     "metadata": {},
     "output_type": "execute_result"
    }
   ],
   "source": [
    "buckets = error_buckets(L_train[:, 0], L_train[:, 1])\n",
    "df_train.iloc[buckets[(SPAM, ABSTAIN)]].sample(10, random_state=1)"
   ]
  },
  {
   "cell_type": "markdown",
   "metadata": {},
   "source": [
    "Most of these seem like small modifications of \"check out\", like \"check me out\" or \"check it out\".\n",
    "Let's see if we can use regular expressions to account for this and get the best of both worlds."
   ]
  },
  {
   "cell_type": "code",
   "execution_count": 11,
   "metadata": {},
   "outputs": [],
   "source": [
    "import re\n",
    "\n",
    "\n",
    "@labeling_function()\n",
    "def regex_check_out(x):\n",
    "    return SPAM if re.search(r\"check.*out\", x.text, flags=re.I) else ABSTAIN"
   ]
  },
  {
   "cell_type": "markdown",
   "metadata": {},
   "source": [
    "Again, let's generate our label matrices and see how we do."
   ]
  },
  {
   "cell_type": "code",
   "execution_count": 12,
   "metadata": {},
   "outputs": [
    {
     "name": "stderr",
     "output_type": "stream",
     "text": [
      "\r",
      "  0%|          | 0/1586 [00:00<?, ?it/s]"
     ]
    },
    {
     "name": "stderr",
     "output_type": "stream",
     "text": [
      "\r",
      "100%|██████████| 1586/1586 [00:00<00:00, 25667.59it/s]"
     ]
    },
    {
     "name": "stderr",
     "output_type": "stream",
     "text": [
      "\n",
      "\r",
      "  0%|          | 0/100 [00:00<?, ?it/s]"
     ]
    },
    {
     "name": "stderr",
     "output_type": "stream",
     "text": [
      "\r",
      "100%|██████████| 100/100 [00:00<00:00, 19302.79it/s]"
     ]
    },
    {
     "name": "stderr",
     "output_type": "stream",
     "text": [
      "\n"
     ]
    }
   ],
   "source": [
    "lfs = [check_out, check, regex_check_out]\n",
    "\n",
    "applier = PandasLFApplier(lfs)\n",
    "L_train = applier.apply(df_train)\n",
    "L_dev = applier.apply(df_dev)"
   ]
  },
  {
   "cell_type": "code",
   "execution_count": 13,
   "metadata": {},
   "outputs": [
    {
     "data": {
      "text/html": [
       "<div>\n",
       "<style scoped>\n",
       "    .dataframe tbody tr th:only-of-type {\n",
       "        vertical-align: middle;\n",
       "    }\n",
       "\n",
       "    .dataframe tbody tr th {\n",
       "        vertical-align: top;\n",
       "    }\n",
       "\n",
       "    .dataframe thead th {\n",
       "        text-align: right;\n",
       "    }\n",
       "</style>\n",
       "<table border=\"1\" class=\"dataframe\">\n",
       "  <thead>\n",
       "    <tr style=\"text-align: right;\">\n",
       "      <th></th>\n",
       "      <th>j</th>\n",
       "      <th>Polarity</th>\n",
       "      <th>Coverage</th>\n",
       "      <th>Overlaps</th>\n",
       "      <th>Conflicts</th>\n",
       "    </tr>\n",
       "  </thead>\n",
       "  <tbody>\n",
       "    <tr>\n",
       "      <th>check_out</th>\n",
       "      <td>0</td>\n",
       "      <td>[1]</td>\n",
       "      <td>0.21</td>\n",
       "      <td>0.21</td>\n",
       "      <td>0.0</td>\n",
       "    </tr>\n",
       "    <tr>\n",
       "      <th>check</th>\n",
       "      <td>1</td>\n",
       "      <td>[1]</td>\n",
       "      <td>0.26</td>\n",
       "      <td>0.23</td>\n",
       "      <td>0.0</td>\n",
       "    </tr>\n",
       "    <tr>\n",
       "      <th>regex_check_out</th>\n",
       "      <td>2</td>\n",
       "      <td>[1]</td>\n",
       "      <td>0.23</td>\n",
       "      <td>0.23</td>\n",
       "      <td>0.0</td>\n",
       "    </tr>\n",
       "  </tbody>\n",
       "</table>\n",
       "</div>"
      ],
      "text/plain": [
       "                 j Polarity  Coverage  Overlaps  Conflicts\n",
       "check_out        0      [1]      0.21      0.21        0.0\n",
       "check            1      [1]      0.26      0.23        0.0\n",
       "regex_check_out  2      [1]      0.23      0.23        0.0"
      ]
     },
     "execution_count": 13,
     "metadata": {},
     "output_type": "execute_result"
    }
   ],
   "source": [
    "LFAnalysis(L_train, lfs).lf_summary().round(2)"
   ]
  },
  {
   "cell_type": "code",
   "execution_count": 14,
   "metadata": {},
   "outputs": [
    {
     "data": {
      "text/html": [
       "<div>\n",
       "<style scoped>\n",
       "    .dataframe tbody tr th:only-of-type {\n",
       "        vertical-align: middle;\n",
       "    }\n",
       "\n",
       "    .dataframe tbody tr th {\n",
       "        vertical-align: top;\n",
       "    }\n",
       "\n",
       "    .dataframe thead th {\n",
       "        text-align: right;\n",
       "    }\n",
       "</style>\n",
       "<table border=\"1\" class=\"dataframe\">\n",
       "  <thead>\n",
       "    <tr style=\"text-align: right;\">\n",
       "      <th></th>\n",
       "      <th>j</th>\n",
       "      <th>Polarity</th>\n",
       "      <th>Coverage</th>\n",
       "      <th>Overlaps</th>\n",
       "      <th>Conflicts</th>\n",
       "      <th>Correct</th>\n",
       "      <th>Incorrect</th>\n",
       "      <th>Emp. Acc.</th>\n",
       "    </tr>\n",
       "  </thead>\n",
       "  <tbody>\n",
       "    <tr>\n",
       "      <th>check_out</th>\n",
       "      <td>0</td>\n",
       "      <td>[1]</td>\n",
       "      <td>0.22</td>\n",
       "      <td>0.22</td>\n",
       "      <td>0.0</td>\n",
       "      <td>22</td>\n",
       "      <td>0</td>\n",
       "      <td>1.00</td>\n",
       "    </tr>\n",
       "    <tr>\n",
       "      <th>check</th>\n",
       "      <td>1</td>\n",
       "      <td>[1]</td>\n",
       "      <td>0.30</td>\n",
       "      <td>0.29</td>\n",
       "      <td>0.0</td>\n",
       "      <td>29</td>\n",
       "      <td>1</td>\n",
       "      <td>0.97</td>\n",
       "    </tr>\n",
       "    <tr>\n",
       "      <th>regex_check_out</th>\n",
       "      <td>2</td>\n",
       "      <td>[1]</td>\n",
       "      <td>0.29</td>\n",
       "      <td>0.29</td>\n",
       "      <td>0.0</td>\n",
       "      <td>29</td>\n",
       "      <td>0</td>\n",
       "      <td>1.00</td>\n",
       "    </tr>\n",
       "  </tbody>\n",
       "</table>\n",
       "</div>"
      ],
      "text/plain": [
       "                 j Polarity  Coverage  Overlaps  Conflicts  Correct  \\\n",
       "check_out        0      [1]      0.22      0.22        0.0       22   \n",
       "check            1      [1]      0.30      0.29        0.0       29   \n",
       "regex_check_out  2      [1]      0.29      0.29        0.0       29   \n",
       "\n",
       "                 Incorrect  Emp. Acc.  \n",
       "check_out                0       1.00  \n",
       "check                    1       0.97  \n",
       "regex_check_out          0       1.00  "
      ]
     },
     "execution_count": 14,
     "metadata": {},
     "output_type": "execute_result"
    }
   ],
   "source": [
    "LFAnalysis(L_dev, lfs).lf_summary(Y_dev).round(2)"
   ]
  },
  {
   "cell_type": "markdown",
   "metadata": {},
   "source": [
    "We've split the difference in training set coverage, and increased our accuracy on the dev set to 100%!\n",
    "This looks promising.\n",
    "Let's verify that we corrected our false positive from before."
   ]
  },
  {
   "cell_type": "code",
   "execution_count": 15,
   "metadata": {},
   "outputs": [
    {
     "data": {
      "text/html": [
       "<div>\n",
       "<style scoped>\n",
       "    .dataframe tbody tr th:only-of-type {\n",
       "        vertical-align: middle;\n",
       "    }\n",
       "\n",
       "    .dataframe tbody tr th {\n",
       "        vertical-align: top;\n",
       "    }\n",
       "\n",
       "    .dataframe thead th {\n",
       "        text-align: right;\n",
       "    }\n",
       "</style>\n",
       "<table border=\"1\" class=\"dataframe\">\n",
       "  <thead>\n",
       "    <tr style=\"text-align: right;\">\n",
       "      <th></th>\n",
       "      <th>author</th>\n",
       "      <th>date</th>\n",
       "      <th>text</th>\n",
       "      <th>label</th>\n",
       "      <th>video</th>\n",
       "    </tr>\n",
       "  </thead>\n",
       "  <tbody>\n",
       "    <tr>\n",
       "      <th>260</th>\n",
       "      <td>Eanna Cusack</td>\n",
       "      <td>2014-01-20T22:20:59</td>\n",
       "      <td>Im just to check how much views it has﻿</td>\n",
       "      <td>0</td>\n",
       "      <td>1</td>\n",
       "    </tr>\n",
       "  </tbody>\n",
       "</table>\n",
       "</div>"
      ],
      "text/plain": [
       "           author                 date  \\\n",
       "260  Eanna Cusack  2014-01-20T22:20:59   \n",
       "\n",
       "                                        text  label  video  \n",
       "260  Im just to check how much views it has﻿      0      1  "
      ]
     },
     "execution_count": 15,
     "metadata": {},
     "output_type": "execute_result"
    }
   ],
   "source": [
    "buckets = error_buckets(L_dev[:, 1], L_dev[:, 2])\n",
    "df_dev.iloc[buckets[(ABSTAIN, SPAM)]]"
   ]
  },
  {
   "cell_type": "markdown",
   "metadata": {},
   "source": [
    "To understand the coverage difference between `check` and `regex_check_out`, let's take a look at the training set.\n",
    "Remember: coverage isn't always good.\n",
    "Adding false positives will increase coverage."
   ]
  },
  {
   "cell_type": "code",
   "execution_count": 16,
   "metadata": {},
   "outputs": [
    {
     "data": {
      "text/html": [
       "<div>\n",
       "<style scoped>\n",
       "    .dataframe tbody tr th:only-of-type {\n",
       "        vertical-align: middle;\n",
       "    }\n",
       "\n",
       "    .dataframe tbody tr th {\n",
       "        vertical-align: top;\n",
       "    }\n",
       "\n",
       "    .dataframe thead th {\n",
       "        text-align: right;\n",
       "    }\n",
       "</style>\n",
       "<table border=\"1\" class=\"dataframe\">\n",
       "  <thead>\n",
       "    <tr style=\"text-align: right;\">\n",
       "      <th></th>\n",
       "      <th>author</th>\n",
       "      <th>date</th>\n",
       "      <th>text</th>\n",
       "      <th>label</th>\n",
       "      <th>video</th>\n",
       "    </tr>\n",
       "  </thead>\n",
       "  <tbody>\n",
       "    <tr>\n",
       "      <th>16</th>\n",
       "      <td>zhichao wang</td>\n",
       "      <td>2013-11-29T02:13:56</td>\n",
       "      <td>i think about 100 millions of the views come f...</td>\n",
       "      <td>-1.0</td>\n",
       "      <td>1</td>\n",
       "    </tr>\n",
       "    <tr>\n",
       "      <th>99</th>\n",
       "      <td>Santeri Saariokari</td>\n",
       "      <td>2014-09-03T16:32:59</td>\n",
       "      <td>Hey guys go to check my video name \"growtopia ...</td>\n",
       "      <td>-1.0</td>\n",
       "      <td>2</td>\n",
       "    </tr>\n",
       "    <tr>\n",
       "      <th>21</th>\n",
       "      <td>BeBe Burkey</td>\n",
       "      <td>2013-11-28T16:30:13</td>\n",
       "      <td>and u should.d check my channel and tell me wh...</td>\n",
       "      <td>-1.0</td>\n",
       "      <td>1</td>\n",
       "    </tr>\n",
       "    <tr>\n",
       "      <th>239</th>\n",
       "      <td>Cony</td>\n",
       "      <td>2013-11-28T16:01:47</td>\n",
       "      <td>You should check my channel for Funny VIDEOS!!﻿</td>\n",
       "      <td>-1.0</td>\n",
       "      <td>1</td>\n",
       "    </tr>\n",
       "    <tr>\n",
       "      <th>288</th>\n",
       "      <td>Kochos</td>\n",
       "      <td>2014-01-20T17:08:37</td>\n",
       "      <td>i check back often to help reach 2x10^9 views ...</td>\n",
       "      <td>-1.0</td>\n",
       "      <td>1</td>\n",
       "    </tr>\n",
       "    <tr>\n",
       "      <th>65</th>\n",
       "      <td>by.Ovskiy</td>\n",
       "      <td>2014-10-13T17:09:46</td>\n",
       "      <td>Rap from Belarus, check my channel:)﻿</td>\n",
       "      <td>-1.0</td>\n",
       "      <td>2</td>\n",
       "    </tr>\n",
       "    <tr>\n",
       "      <th>196</th>\n",
       "      <td>Angek95</td>\n",
       "      <td>2014-11-03T22:28:56</td>\n",
       "      <td>Check my channel, please!﻿</td>\n",
       "      <td>-1.0</td>\n",
       "      <td>1</td>\n",
       "    </tr>\n",
       "    <tr>\n",
       "      <th>333</th>\n",
       "      <td>FreexGaming</td>\n",
       "      <td>2014-10-18T08:12:26</td>\n",
       "      <td>want to win borderlands the pre-sequel? check ...</td>\n",
       "      <td>-1.0</td>\n",
       "      <td>2</td>\n",
       "    </tr>\n",
       "    <tr>\n",
       "      <th>167</th>\n",
       "      <td>Brandon Pryor</td>\n",
       "      <td>2014-01-19T00:36:25</td>\n",
       "      <td>I dont even watch it anymore i just come here ...</td>\n",
       "      <td>-1.0</td>\n",
       "      <td>1</td>\n",
       "    </tr>\n",
       "    <tr>\n",
       "      <th>266</th>\n",
       "      <td>Zielimeek21</td>\n",
       "      <td>2013-11-28T21:49:00</td>\n",
       "      <td>I'm only checking the views﻿</td>\n",
       "      <td>-1.0</td>\n",
       "      <td>1</td>\n",
       "    </tr>\n",
       "  </tbody>\n",
       "</table>\n",
       "</div>"
      ],
      "text/plain": [
       "                 author                 date  \\\n",
       "16         zhichao wang  2013-11-29T02:13:56   \n",
       "99   Santeri Saariokari  2014-09-03T16:32:59   \n",
       "21          BeBe Burkey  2013-11-28T16:30:13   \n",
       "239                Cony  2013-11-28T16:01:47   \n",
       "288              Kochos  2014-01-20T17:08:37   \n",
       "65            by.Ovskiy  2014-10-13T17:09:46   \n",
       "196             Angek95  2014-11-03T22:28:56   \n",
       "333         FreexGaming  2014-10-18T08:12:26   \n",
       "167       Brandon Pryor  2014-01-19T00:36:25   \n",
       "266         Zielimeek21  2013-11-28T21:49:00   \n",
       "\n",
       "                                                  text  label  video  \n",
       "16   i think about 100 millions of the views come f...   -1.0      1  \n",
       "99   Hey guys go to check my video name \"growtopia ...   -1.0      2  \n",
       "21   and u should.d check my channel and tell me wh...   -1.0      1  \n",
       "239    You should check my channel for Funny VIDEOS!!﻿   -1.0      1  \n",
       "288  i check back often to help reach 2x10^9 views ...   -1.0      1  \n",
       "65               Rap from Belarus, check my channel:)﻿   -1.0      2  \n",
       "196                         Check my channel, please!﻿   -1.0      1  \n",
       "333  want to win borderlands the pre-sequel? check ...   -1.0      2  \n",
       "167  I dont even watch it anymore i just come here ...   -1.0      1  \n",
       "266                       I'm only checking the views﻿   -1.0      1  "
      ]
     },
     "execution_count": 16,
     "metadata": {},
     "output_type": "execute_result"
    }
   ],
   "source": [
    "buckets = error_buckets(L_train[:, 1], L_train[:, 2])\n",
    "df_train.iloc[buckets[(ABSTAIN, SPAM)]].sample(10, random_state=1)"
   ]
  },
  {
   "cell_type": "markdown",
   "metadata": {},
   "source": [
    "Most of these are SPAM, but a good number are false positives.\n",
    "**To keep precision high (while not sacrificing much in terms of coverage), we'd choose our regex-based rule.**"
   ]
  },
  {
   "cell_type": "markdown",
   "metadata": {},
   "source": [
    "## TextBlob"
   ]
  },
  {
   "cell_type": "code",
   "execution_count": 17,
   "metadata": {},
   "outputs": [
    {
     "data": {
      "text/plain": [
       "<Figure size 640x480 with 1 Axes>"
      ]
     },
     "metadata": {},
     "output_type": "display_data"
    },
    {
     "data": {
      "text/plain": [
       "<Figure size 640x480 with 1 Axes>"
      ]
     },
     "metadata": {},
     "output_type": "display_data"
    }
   ],
   "source": [
    "import matplotlib.pyplot as plt\n",
    "from textblob import TextBlob\n",
    "\n",
    "\n",
    "spam_polarities = [\n",
    "    TextBlob(x.text).sentiment.polarity for _, x in df_dev.iterrows() if x.label == SPAM\n",
    "]\n",
    "\n",
    "ham_polarities = [\n",
    "    TextBlob(x.text).sentiment.polarity for _, x in df_dev.iterrows() if x.label == HAM\n",
    "]\n",
    "\n",
    "plt.hist([spam_polarities, ham_polarities])\n",
    "plt.title(\"TextBlob sentiment polarity scores\")\n",
    "plt.xlabel(\"Sentiment polarity score\")\n",
    "plt.ylabel(\"Count\")\n",
    "plt.legend([\"Spam\", \"Ham\"])\n",
    "plt.show()\n",
    "\n",
    "plt.hist([spam_polarities, ham_polarities], bins=[-0.5, 0, 0.5, 1])\n",
    "plt.title(\"TextBlob sentiment polarity scores\")\n",
    "plt.xlabel(\"Sentiment polarity score\")\n",
    "plt.ylabel(\"Count\")\n",
    "plt.legend([\"Spam\", \"Ham\"])\n",
    "plt.show()"
   ]
  },
  {
   "cell_type": "code",
   "execution_count": 18,
   "metadata": {},
   "outputs": [
    {
     "data": {
      "image/png": "[encoded data removed]",
      "text/plain": [
       "<Figure size 432x288 with 1 Axes>"
      ]
     },
     "metadata": {
      "needs_background": "light"
     },
     "output_type": "display_data"
    },
    {
     "data": {
      "image/png": "[encoded data removed]",
      "text/plain": [
       "<Figure size 432x288 with 1 Axes>"
      ]
     },
     "metadata": {
      "needs_background": "light"
     },
     "output_type": "display_data"
    }
   ],
   "source": [
    "spam_subjectivities = [\n",
    "    TextBlob(x.text).sentiment.subjectivity\n",
    "    for _, x in df_dev.iterrows()\n",
    "    if x.label == SPAM\n",
    "]\n",
    "\n",
    "ham_subjectivities = [\n",
    "    TextBlob(x.text).sentiment.subjectivity\n",
    "    for _, x in df_dev.iterrows()\n",
    "    if x.label == HAM\n",
    "]\n",
    "\n",
    "plt.hist([spam_subjectivities, ham_subjectivities])\n",
    "plt.title(\"TextBlob sentiment subjectivity scores\")\n",
    "plt.xlabel(\"Sentiment subjectivity score\")\n",
    "plt.ylabel(\"Count\")\n",
    "plt.legend([\"Spam\", \"Ham\"])\n",
    "plt.show()\n",
    "\n",
    "plt.hist([spam_subjectivities, ham_subjectivities], bins=[0, 0.5, 1])\n",
    "plt.title(\"TextBlob sentiment subjectivity scores\")\n",
    "plt.xlabel(\"Sentiment subjectivity score\")\n",
    "plt.ylabel(\"Count\")\n",
    "plt.legend([\"Spam\", \"Ham\"])\n",
    "plt.show()"
   ]
  },
  {
   "cell_type": "code",
   "execution_count": 19,
   "metadata": {},
   "outputs": [],
   "source": [
    "from snorkel.labeling.preprocess import preprocessor\n",
    "\n",
    "\n",
    "@preprocessor()\n",
    "def textblob_sentiment(x):\n",
    "    scores = TextBlob(x.text)\n",
    "    x.polarity = scores.sentiment.polarity\n",
    "    x.subjectivity = scores.sentiment.subjectivity\n",
    "    return x\n",
    "\n",
    "\n",
    "textblob_sentiment.memoize = True\n",
    "\n",
    "\n",
    "@labeling_function(preprocessors=[textblob_sentiment])\n",
    "def textblob_polarity_ham(x):\n",
    "    return HAM if not (-0.5 < x.polarity < 0.5) else ABSTAIN\n",
    "\n",
    "\n",
    "@labeling_function(preprocessors=[textblob_sentiment])\n",
    "def textblob_polarity_spam(x):\n",
    "    return SPAM if -0.5 < x.polarity < 0.5 else ABSTAIN\n",
    "\n",
    "\n",
    "@labeling_function(preprocessors=[textblob_sentiment])\n",
    "def textblob_subjectivity_ham(x):\n",
    "    return HAM if x.subjectivity >= 0.5 else ABSTAIN\n",
    "\n",
    "\n",
    "@labeling_function(preprocessors=[textblob_sentiment])\n",
    "def textblob_subjectivity_spam(x):\n",
    "    return SPAM if x.subjectivity < 0.5 else ABSTAIN"
   ]
  },
  {
   "cell_type": "code",
   "execution_count": 20,
   "metadata": {},
   "outputs": [
    {
     "name": "stderr",
     "output_type": "stream",
     "text": [
      "\r",
      "  0%|          | 0/1586 [00:00<?, ?it/s]"
     ]
    },
    {
     "name": "stderr",
     "output_type": "stream",
     "text": [
      "\r",
      "  7%|▋         | 106/1586 [00:00<00:01, 1057.63it/s]"
     ]
    },
    {
     "name": "stderr",
     "output_type": "stream",
     "text": [
      "\r",
      " 13%|█▎        | 207/1586 [00:00<00:01, 901.08it/s] "
     ]
    },
    {
     "name": "stderr",
     "output_type": "stream",
     "text": [
      "\r",
      " 20%|█▉        | 314/1586 [00:00<00:01, 944.33it/s]"
     ]
    },
    {
     "name": "stderr",
     "output_type": "stream",
     "text": [
      "\r",
      " 26%|██▋       | 419/1586 [00:00<00:01, 973.24it/s]"
     ]
    },
    {
     "name": "stderr",
     "output_type": "stream",
     "text": [
      "\r",
      " 33%|███▎      | 524/1586 [00:00<00:01, 992.79it/s]"
     ]
    },
    {
     "name": "stderr",
     "output_type": "stream",
     "text": [
      "\r",
      " 40%|███▉      | 630/1586 [00:00<00:00, 1010.38it/s]"
     ]
    },
    {
     "name": "stderr",
     "output_type": "stream",
     "text": [
      "\r",
      " 46%|████▋     | 737/1586 [00:00<00:00, 1025.40it/s]"
     ]
    },
    {
     "name": "stderr",
     "output_type": "stream",
     "text": [
      "\r",
      " 53%|█████▎    | 847/1586 [00:00<00:00, 1045.78it/s]"
     ]
    },
    {
     "name": "stderr",
     "output_type": "stream",
     "text": [
      "\r",
      " 60%|██████    | 958/1586 [00:00<00:00, 1061.80it/s]"
     ]
    },
    {
     "name": "stderr",
     "output_type": "stream",
     "text": [
      "\r",
      " 67%|██████▋   | 1067/1586 [00:01<00:00, 1068.26it/s]"
     ]
    },
    {
     "name": "stderr",
     "output_type": "stream",
     "text": [
      "\r",
      " 74%|███████▍  | 1173/1586 [00:01<00:00, 1064.78it/s]"
     ]
    },
    {
     "name": "stderr",
     "output_type": "stream",
     "text": [
      "\r",
      " 81%|████████  | 1279/1586 [00:01<00:00, 1061.59it/s]"
     ]
    },
    {
     "name": "stderr",
     "output_type": "stream",
     "text": [
      "\r",
      " 87%|████████▋ | 1387/1586 [00:01<00:00, 1065.74it/s]"
     ]
    },
    {
     "name": "stderr",
     "output_type": "stream",
     "text": [
      "\r",
      " 94%|█████████▍| 1494/1586 [00:01<00:00, 1066.14it/s]"
     ]
    },
    {
     "name": "stderr",
     "output_type": "stream",
     "text": [
      "\r",
      "100%|██████████| 1586/1586 [00:01<00:00, 1028.19it/s]"
     ]
    },
    {
     "name": "stderr",
     "output_type": "stream",
     "text": [
      "\n",
      "\r",
      "  0%|          | 0/100 [00:00<?, ?it/s]"
     ]
    },
    {
     "name": "stderr",
     "output_type": "stream",
     "text": [
      "\r",
      "100%|██████████| 100/100 [00:00<00:00, 1031.98it/s]"
     ]
    },
    {
     "name": "stderr",
     "output_type": "stream",
     "text": [
      "\n"
     ]
    }
   ],
   "source": [
    "lfs = [\n",
    "    textblob_polarity_ham,\n",
    "    textblob_polarity_spam,\n",
    "    textblob_subjectivity_ham,\n",
    "    textblob_subjectivity_spam,\n",
    "]\n",
    "\n",
    "applier = PandasLFApplier(lfs)\n",
    "L_train = applier.apply(df_train)\n",
    "L_dev = applier.apply(df_dev)"
   ]
  },
  {
   "cell_type": "code",
   "execution_count": 21,
   "metadata": {},
   "outputs": [
    {
     "data": {
      "text/html": [
       "<div>\n",
       "<style scoped>\n",
       "    .dataframe tbody tr th:only-of-type {\n",
       "        vertical-align: middle;\n",
       "    }\n",
       "\n",
       "    .dataframe tbody tr th {\n",
       "        vertical-align: top;\n",
       "    }\n",
       "\n",
       "    .dataframe thead th {\n",
       "        text-align: right;\n",
       "    }\n",
       "</style>\n",
       "<table border=\"1\" class=\"dataframe\">\n",
       "  <thead>\n",
       "    <tr style=\"text-align: right;\">\n",
       "      <th></th>\n",
       "      <th>j</th>\n",
       "      <th>Polarity</th>\n",
       "      <th>Coverage</th>\n",
       "      <th>Overlaps</th>\n",
       "      <th>Conflicts</th>\n",
       "    </tr>\n",
       "  </thead>\n",
       "  <tbody>\n",
       "    <tr>\n",
       "      <th>textblob_polarity_ham</th>\n",
       "      <td>0</td>\n",
       "      <td>[0]</td>\n",
       "      <td>0.21</td>\n",
       "      <td>0.21</td>\n",
       "      <td>0.03</td>\n",
       "    </tr>\n",
       "    <tr>\n",
       "      <th>textblob_polarity_spam</th>\n",
       "      <td>1</td>\n",
       "      <td>[1]</td>\n",
       "      <td>0.79</td>\n",
       "      <td>0.79</td>\n",
       "      <td>0.17</td>\n",
       "    </tr>\n",
       "    <tr>\n",
       "      <th>textblob_subjectivity_ham</th>\n",
       "      <td>2</td>\n",
       "      <td>[0]</td>\n",
       "      <td>0.36</td>\n",
       "      <td>0.36</td>\n",
       "      <td>0.17</td>\n",
       "    </tr>\n",
       "    <tr>\n",
       "      <th>textblob_subjectivity_spam</th>\n",
       "      <td>3</td>\n",
       "      <td>[1]</td>\n",
       "      <td>0.64</td>\n",
       "      <td>0.64</td>\n",
       "      <td>0.03</td>\n",
       "    </tr>\n",
       "  </tbody>\n",
       "</table>\n",
       "</div>"
      ],
      "text/plain": [
       "                            j Polarity  Coverage  Overlaps  Conflicts\n",
       "textblob_polarity_ham       0      [0]      0.21      0.21       0.03\n",
       "textblob_polarity_spam      1      [1]      0.79      0.79       0.17\n",
       "textblob_subjectivity_ham   2      [0]      0.36      0.36       0.17\n",
       "textblob_subjectivity_spam  3      [1]      0.64      0.64       0.03"
      ]
     },
     "execution_count": 21,
     "metadata": {},
     "output_type": "execute_result"
    }
   ],
   "source": [
    "LFAnalysis(L_train, lfs).lf_summary().round(2)"
   ]
  },
  {
   "cell_type": "code",
   "execution_count": 22,
   "metadata": {},
   "outputs": [
    {
     "data": {
      "text/html": [
       "<div>\n",
       "<style scoped>\n",
       "    .dataframe tbody tr th:only-of-type {\n",
       "        vertical-align: middle;\n",
       "    }\n",
       "\n",
       "    .dataframe tbody tr th {\n",
       "        vertical-align: top;\n",
       "    }\n",
       "\n",
       "    .dataframe thead th {\n",
       "        text-align: right;\n",
       "    }\n",
       "</style>\n",
       "<table border=\"1\" class=\"dataframe\">\n",
       "  <thead>\n",
       "    <tr style=\"text-align: right;\">\n",
       "      <th></th>\n",
       "      <th>j</th>\n",
       "      <th>Polarity</th>\n",
       "      <th>Coverage</th>\n",
       "      <th>Overlaps</th>\n",
       "      <th>Conflicts</th>\n",
       "      <th>Correct</th>\n",
       "      <th>Incorrect</th>\n",
       "      <th>Emp. Acc.</th>\n",
       "    </tr>\n",
       "  </thead>\n",
       "  <tbody>\n",
       "    <tr>\n",
       "      <th>textblob_polarity_ham</th>\n",
       "      <td>0</td>\n",
       "      <td>[0]</td>\n",
       "      <td>0.19</td>\n",
       "      <td>0.19</td>\n",
       "      <td>0.03</td>\n",
       "      <td>15</td>\n",
       "      <td>4</td>\n",
       "      <td>0.79</td>\n",
       "    </tr>\n",
       "    <tr>\n",
       "      <th>textblob_polarity_spam</th>\n",
       "      <td>1</td>\n",
       "      <td>[1]</td>\n",
       "      <td>0.81</td>\n",
       "      <td>0.81</td>\n",
       "      <td>0.25</td>\n",
       "      <td>50</td>\n",
       "      <td>31</td>\n",
       "      <td>0.62</td>\n",
       "    </tr>\n",
       "    <tr>\n",
       "      <th>textblob_subjectivity_ham</th>\n",
       "      <td>2</td>\n",
       "      <td>[0]</td>\n",
       "      <td>0.41</td>\n",
       "      <td>0.41</td>\n",
       "      <td>0.25</td>\n",
       "      <td>24</td>\n",
       "      <td>17</td>\n",
       "      <td>0.59</td>\n",
       "    </tr>\n",
       "    <tr>\n",
       "      <th>textblob_subjectivity_spam</th>\n",
       "      <td>3</td>\n",
       "      <td>[1]</td>\n",
       "      <td>0.59</td>\n",
       "      <td>0.59</td>\n",
       "      <td>0.03</td>\n",
       "      <td>37</td>\n",
       "      <td>22</td>\n",
       "      <td>0.63</td>\n",
       "    </tr>\n",
       "  </tbody>\n",
       "</table>\n",
       "</div>"
      ],
      "text/plain": [
       "                            j Polarity  Coverage  Overlaps  Conflicts  \\\n",
       "textblob_polarity_ham       0      [0]      0.19      0.19       0.03   \n",
       "textblob_polarity_spam      1      [1]      0.81      0.81       0.25   \n",
       "textblob_subjectivity_ham   2      [0]      0.41      0.41       0.25   \n",
       "textblob_subjectivity_spam  3      [1]      0.59      0.59       0.03   \n",
       "\n",
       "                            Correct  Incorrect  Emp. Acc.  \n",
       "textblob_polarity_ham            15          4       0.79  \n",
       "textblob_polarity_spam           50         31       0.62  \n",
       "textblob_subjectivity_ham        24         17       0.59  \n",
       "textblob_subjectivity_spam       37         22       0.63  "
      ]
     },
     "execution_count": 22,
     "metadata": {},
     "output_type": "execute_result"
    }
   ],
   "source": [
    "LFAnalysis(L_dev, lfs).lf_summary(Y_dev).round(2)"
   ]
  },
  {
   "cell_type": "code",
   "execution_count": null,
   "metadata": {},
   "outputs": [],
   "source": []
  }
 ],
 "metadata": {
  "jupytext": {
   "cell_metadata_filter": "-all",
   "encoding": "# -*- coding: utf-8 -*-"
  },
  "kernelspec": {
   "display_name": "Python 3",
   "language": "python",
   "name": "python3"
  },
  "language_info": {
   "codemirror_mode": {
    "name": "ipython",
    "version": 3
   },
   "file_extension": ".py",
   "mimetype": "text/x-python",
   "name": "python",
   "nbconvert_exporter": "python",
   "pygments_lexer": "ipython3",
   "version": "3.6.8"
  }
 },
 "nbformat": 4,
 "nbformat_minor": 2
}
