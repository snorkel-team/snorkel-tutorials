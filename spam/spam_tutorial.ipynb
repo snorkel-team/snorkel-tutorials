{
 "cells": [
  {
   "cell_type": "markdown",
   "metadata": {},
   "source": [
    "# Introductory Snorkel Tutorial: Spam Detection"
   ]
  },
  {
   "cell_type": "markdown",
   "metadata": {},
   "source": [
    "In this tutorial, we will walk through the process of using `Snorkel` to classify YouTube comments as `SPAM` or `HAM` (not spam). For an overview of Snorkel, visit [snorkel.org](http://snorkel.org).\n",
    "\n",
    "For our task, we have access to a large amount of *unlabeled data*, which can be prohibitively expensive and slow to label manually. We therefore turn to weak supervision using *labeling functions*, or noisy, programmatic heuristics, to assign labels to unlabeled training data efficiently. We also have access to a small amount of labeled data, which we only use for evaluation purposes.\n",
    "\n",
    "The tutorial is divided into four parts:\n",
    "1. **Loading Data**: We load a [YouTube comments dataset](https://www.kaggle.com/goneee/youtube-spam-classifiedcomments) from Kaggle.\n",
    "\n",
    "2. **Writing Labeling Functions**: We write Python programs that take as input a data point and assign labels (or abstain) using heuristics, pattern matching, and third-party models.\n",
    "\n",
    "3. **Combining Weak Labels with the Label Model**: We use the outputs of the labeling functions over the training set as input to the label model, which assings probabilistic labels to the training set.\n",
    "\n",
    "4. **Training a Classifier**: We train a classifier that can predict labels for *any* YouTube comment (not just the ones labeled by the labeling functions) using the probabilistic training labels from step 3."
   ]
  },
  {
   "cell_type": "markdown",
   "metadata": {},
   "source": [
    "### Task: Spam Detection"
   ]
  },
  {
   "cell_type": "markdown",
   "metadata": {},
   "source": [
    "We use a [YouTube comments dataset](https://www.kaggle.com/goneee/youtube-spam-classifiedcomments) that consists of YouTube comments from 5 videos. The task is to classify each comment as being `SPAM`, irrelevant or inappropriate messages, or `HAM`, comments relevant to the video.\n",
    "\n",
    "For example, the following comments are `SPAM`:\n",
    "\n",
    "        Subscribe to me for free Android games, apps..\n",
    "\n",
    "        Please check out my vidios\n",
    "\n",
    "        Subscribe to me and I'll subscribe back!!!\n",
    "\n",
    "and these are `HAM`:\n",
    "\n",
    "        3:46 so cute!\n",
    "\n",
    "        This looks so fun and it's a good song\n",
    "\n",
    "        This is a weird video."
   ]
  },
  {
   "cell_type": "markdown",
   "metadata": {},
   "source": [
    "### Data Splits in Snorkel\n",
    "\n",
    "We split our data into 4 sets:\n",
    "* **Training Set**: The largest split of the dataset. We do not have ground truth or \"gold\" labels for these data points; we will be generating their labels with weak supervision.\n",
    "* **Development Set**: \\[Optional\\] A small labeled subset of the training data (e.g. 100 points) to guide LF iteration. See note below.\n",
    "* **Validation Set**: A labeled set used to tune hyperparameters and/or perform early stopping while training the classifier.\n",
    "* **Test Set**: A labeled set for final evaluation of our classifier. This set should only be used for final evaluation, _not_ error analysis.\n",
    "\n",
    "\n",
    "While it is possible to develop labeling functions on the unlabeled training set only, users often find it more time-efficient to label a small dev set to provide a quick approximate signal on the accuracies and failure modes of their LFs (rather than scrolling through training examples and mentally assessing approximate accuracy).\n",
    "Alternatively, users sometimes will have the validation set also serve as the development set.\n",
    "Do the latter only with caution: because the labeling functions will be based on examples from the valid set, the valid set will no longer be an unbiased proxy for the test set."
   ]
  },
  {
   "cell_type": "markdown",
   "metadata": {},
   "source": [
    "## 1. Loading Data"
   ]
  },
  {
   "cell_type": "markdown",
   "metadata": {},
   "source": [
    "We load the Kaggle dataset and create Pandas dataframe objects for each of the sets described above. Each dataframe consists of the following fields:\n",
    "* **author**: Username of the comment author\n",
    "* **data**: Date and time the comment was posted\n",
    "* **text**: Raw text content of the comment\n",
    "* **label**: Whether the comment is `SPAM` (1), `HAM` (0), or `UNKNOWN/ABSTAIN` (-1)\n",
    "* **video**: Video the comment is associated with\n",
    "\n",
    "We start by loading our data.\n",
    "The `load_spam_dataset()` method downloads the raw csv files from the internet, divides them into splits, converts them into dataframes, and shuffles them.\n",
    "As mentioned above, the dataset contains comments from 5 of the most popular YouTube videos during a particular timeframe in 2014 and 2015.\n",
    "* The first four videos' comments are combined to form the `train` set. This set has no gold labels.\n",
    "* The `dev` set is a random sample of 200 data points from the `train` set with gold labels added.\n",
    "* The fifth video is split 50/50 between a validation set (`valid`) and `test` set."
   ]
  },
  {
   "cell_type": "code",
   "execution_count": 1,
   "metadata": {},
   "outputs": [],
   "source": [
    "import os\n",
    "\n",
    "# Make sure we're running from the spam/ directory\n",
    "if os.path.basename(os.getcwd()) == \"snorkel-tutorials\":\n",
    "    os.chdir(\"spam\")"
   ]
  },
  {
   "cell_type": "code",
   "execution_count": 2,
   "metadata": {
    "lines_to_next_cell": 2
   },
   "outputs": [],
   "source": [
    "from utils import load_spam_dataset\n",
    "\n",
    "df_train, df_dev, df_valid, df_test = load_spam_dataset()\n",
    "\n",
    "# We pull out the label vectors for ease of use later\n",
    "Y_dev = df_dev[\"label\"].values\n",
    "Y_valid = df_valid[\"label\"].values\n",
    "Y_test = df_test[\"label\"].values"
   ]
  },
  {
   "cell_type": "markdown",
   "metadata": {},
   "source": [
    "Let's view a few examples."
   ]
  },
  {
   "cell_type": "code",
   "execution_count": 3,
   "metadata": {},
   "outputs": [
    {
     "data": {
      "text/html": [
       "<div>\n",
       "<style scoped>\n",
       "    .dataframe tbody tr th:only-of-type {\n",
       "        vertical-align: middle;\n",
       "    }\n",
       "\n",
       "    .dataframe tbody tr th {\n",
       "        vertical-align: top;\n",
       "    }\n",
       "\n",
       "    .dataframe thead th {\n",
       "        text-align: right;\n",
       "    }\n",
       "</style>\n",
       "<table border=\"1\" class=\"dataframe\">\n",
       "  <thead>\n",
       "    <tr style=\"text-align: right;\">\n",
       "      <th></th>\n",
       "      <th>author</th>\n",
       "      <th>date</th>\n",
       "      <th>text</th>\n",
       "      <th>label</th>\n",
       "      <th>video</th>\n",
       "    </tr>\n",
       "  </thead>\n",
       "  <tbody>\n",
       "    <tr>\n",
       "      <th>397</th>\n",
       "      <td>Warcorpse666</td>\n",
       "      <td>2015-05-26T02:23:11.364000</td>\n",
       "      <td>so spousal abusue cool that&amp;#39;s great﻿</td>\n",
       "      <td>0</td>\n",
       "      <td>4</td>\n",
       "    </tr>\n",
       "    <tr>\n",
       "      <th>408</th>\n",
       "      <td>LaS Music</td>\n",
       "      <td>2015-05-28T19:23:35.355000</td>\n",
       "      <td>Hey guys, I&amp;#39;m a human.&lt;br /&gt;&lt;br /&gt;&lt;br /&gt;But I don&amp;#39;t want to be a human, I want to be a sexy fucking giraffe.&lt;br /&gt;&lt;br /&gt;&lt;br /&gt;I already have the money for the surgery to elongate my spinal core, the surgery to change my skin pigment, and everything else! Like this post so others can root me on in my dream!!!!&lt;br /&gt;&lt;br /&gt;&lt;br /&gt;Im fucking with you, I make music, check out my first song! &lt;a rel=\"nofollow\" class=\"ot-hashtag\" href=\"https://plus.google.com/s/%23giraffebruuh\"&gt;#giraffebruuh&lt;/a&gt;﻿</td>\n",
       "      <td>1</td>\n",
       "      <td>3</td>\n",
       "    </tr>\n",
       "    <tr>\n",
       "      <th>324</th>\n",
       "      <td>viviane trinh</td>\n",
       "      <td>2015-05-21T22:35:35.753000</td>\n",
       "      <td>i like the lyrics but not to music video﻿</td>\n",
       "      <td>0</td>\n",
       "      <td>4</td>\n",
       "    </tr>\n",
       "    <tr>\n",
       "      <th>218</th>\n",
       "      <td>derrick lawson</td>\n",
       "      <td>2014-11-12T20:21:27</td>\n",
       "      <td>https://www.facebook.com/FUDAIRYQUEEN?pnref=story﻿</td>\n",
       "      <td>1</td>\n",
       "      <td>1</td>\n",
       "    </tr>\n",
       "    <tr>\n",
       "      <th>261</th>\n",
       "      <td>Dana Matich</td>\n",
       "      <td>2014-11-08T03:32:55</td>\n",
       "      <td>Hey guys! Check this out: Kollektivet - Don't be slappin' my penis!  I  think that they deserve much more credit than they receive.﻿</td>\n",
       "      <td>1</td>\n",
       "      <td>1</td>\n",
       "    </tr>\n",
       "  </tbody>\n",
       "</table>\n",
       "</div>"
      ],
      "text/plain": [
       "             author                        date  \\\n",
       "397  Warcorpse666    2015-05-26T02:23:11.364000   \n",
       "408  LaS Music       2015-05-28T19:23:35.355000   \n",
       "324  viviane trinh   2015-05-21T22:35:35.753000   \n",
       "218  derrick lawson  2014-11-12T20:21:27          \n",
       "261  Dana Matich     2014-11-08T03:32:55          \n",
       "\n",
       "                                                                                                                                                                                                                                                                                                                                                                                                                                                                                                                     text  \\\n",
       "397  so spousal abusue cool that&#39;s great﻿                                                                                                                                                                                                                                                                                                                                                                                                                                                                               \n",
       "408  Hey guys, I&#39;m a human.<br /><br /><br />But I don&#39;t want to be a human, I want to be a sexy fucking giraffe.<br /><br /><br />I already have the money for the surgery to elongate my spinal core, the surgery to change my skin pigment, and everything else! Like this post so others can root me on in my dream!!!!<br /><br /><br />Im fucking with you, I make music, check out my first song! <a rel=\"nofollow\" class=\"ot-hashtag\" href=\"https://plus.google.com/s/%23giraffebruuh\">#giraffebruuh</a>﻿   \n",
       "324  i like the lyrics but not to music video﻿                                                                                                                                                                                                                                                                                                                                                                                                                                                                              \n",
       "218  https://www.facebook.com/FUDAIRYQUEEN?pnref=story﻿                                                                                                                                                                                                                                                                                                                                                                                                                                                                     \n",
       "261  Hey guys! Check this out: Kollektivet - Don't be slappin' my penis!  I  think that they deserve much more credit than they receive.﻿                                                                                                                                                                                                                                                                                                                                                                                   \n",
       "\n",
       "     label  video  \n",
       "397  0      4      \n",
       "408  1      3      \n",
       "324  0      4      \n",
       "218  1      1      \n",
       "261  1      1      "
      ]
     },
     "execution_count": 3,
     "metadata": {},
     "output_type": "execute_result"
    }
   ],
   "source": [
    "import pandas as pd\n",
    "\n",
    "# Don't truncate text fields in the display\n",
    "pd.set_option(\"display.max_colwidth\", 0)\n",
    "\n",
    "df_dev.sample(5, random_state=123)"
   ]
  },
  {
   "cell_type": "markdown",
   "metadata": {},
   "source": [
    "The class distribution varies slightly from class to class, but all are approximately class-balanced."
   ]
  },
  {
   "cell_type": "code",
   "execution_count": 4,
   "metadata": {},
   "outputs": [
    {
     "name": "stdout",
     "output_type": "stream",
     "text": [
      "DEV    54.0% SPAM\n",
      "VALID  46.7% SPAM\n",
      "TEST   47.2% SPAM\n"
     ]
    }
   ],
   "source": [
    "from collections import Counter\n",
    "\n",
    "# For clarity, we define constants to represent the class labels for spam, ham, and abstaining.\n",
    "ABSTAIN = -1\n",
    "HAM = 0\n",
    "SPAM = 1\n",
    "\n",
    "for split_name, df in [(\"dev\", df_dev), (\"valid\", df_valid), (\"test\", df_test)]:\n",
    "    counts = Counter(df[\"label\"].values)\n",
    "    num_points = sum(counts.values())\n",
    "    print(f\"{split_name.upper():<6} {counts[SPAM] * 100 / num_points:0.1f}% SPAM\")"
   ]
  },
  {
   "cell_type": "markdown",
   "metadata": {},
   "source": [
    "## 2. Write Labeling Functions (LFs)"
   ]
  },
  {
   "cell_type": "markdown",
   "metadata": {},
   "source": [
    "**Labeling functions (LFs) help users encode domain knowledge and other supervision sources programmatically.**\n",
    "\n",
    "LFs are heuristics that take as input a data point and either assign a label to it (in this case, `HAM` or `SPAM`) or abstain (don't assign any label). Labeling functions can be *noisy*: they don't have perfect accuracy and don't have to label every data point.\n",
    "\n",
    "Because their only requirement is that they map a data point a label (or abstain), they can wrap a wide variety of forms of supervision. Examples include, but are not limited to:\n",
    "* *Keyword searches*: looking for specific words in a sentence\n",
    "* *Pattern matching*: looking for specific syntactical patterns\n",
    "* *Third-party models*: using an pre-trained model (usually a model for a different task than the one at hand)\n",
    "* *Distant supervision*: using external knowledge base\n",
    "* *Crowdworker labels*: treating each crowdworker as a black-box function that assigns labels to subsets of the data\n",
    "\n",
    "The process of **developing LFs** is iterative and usually consists of:\n",
    "* Writing a function\n",
    "* Estimating its performance by looking at labeled examples in the training set or dev set\n",
    "* Iterating to improve coverage or accuracy as necessary.\n",
    "\n",
    "Balancing accuracy and coverage for specific labeling functions as well as the overall set of LFs developed is often a trade-off, and depending on the use case, users may tend to prefer one over the other.\n",
    "\n",
    "Once multiple LFs have been created, users can look at data points that have received no labels so far (or many conflicting labels) to get ideas for new LFs to write.\n",
    "Furthermore, if there are some classes that have votes form very few LFs, users might iterate by writing additional LFs to cover those parts of the dataset.\n",
    "**Note, however, that it is not necessary for LFs to assign labels to every data point;** in fact, most of the time your LFs will not have perfect dataset-wide coverage.\n",
    "We rely on the fact that the classifier that trains on labels from Snorkel has the power to _generalize_ and can therefore learn a good representation of the data even if the each data point in the training set does not receive a label from any LFs.\n",
    "\n"
   ]
  },
  {
   "cell_type": "markdown",
   "metadata": {},
   "source": [
    "### a) Look at examples for ideas"
   ]
  },
  {
   "cell_type": "markdown",
   "metadata": {},
   "source": [
    "We begin the process of writing LFs by looking at some examples in the dev set."
   ]
  },
  {
   "cell_type": "code",
   "execution_count": 5,
   "metadata": {},
   "outputs": [
    {
     "data": {
      "text/html": [
       "<div>\n",
       "<style scoped>\n",
       "    .dataframe tbody tr th:only-of-type {\n",
       "        vertical-align: middle;\n",
       "    }\n",
       "\n",
       "    .dataframe tbody tr th {\n",
       "        vertical-align: top;\n",
       "    }\n",
       "\n",
       "    .dataframe thead th {\n",
       "        text-align: right;\n",
       "    }\n",
       "</style>\n",
       "<table border=\"1\" class=\"dataframe\">\n",
       "  <thead>\n",
       "    <tr style=\"text-align: right;\">\n",
       "      <th></th>\n",
       "      <th>text</th>\n",
       "      <th>label</th>\n",
       "    </tr>\n",
       "  </thead>\n",
       "  <tbody>\n",
       "    <tr>\n",
       "      <th>397</th>\n",
       "      <td>so spousal abusue cool that&amp;#39;s great﻿</td>\n",
       "      <td>0</td>\n",
       "    </tr>\n",
       "    <tr>\n",
       "      <th>408</th>\n",
       "      <td>Hey guys, I&amp;#39;m a human.&lt;br /&gt;&lt;br /&gt;&lt;br /&gt;But I don&amp;#39;t want to be a human, I want to be a sexy fucking giraffe.&lt;br /&gt;&lt;br /&gt;&lt;br /&gt;I already have the money for the surgery to elongate my spinal core, the surgery to change my skin pigment, and everything else! Like this post so others can root me on in my dream!!!!&lt;br /&gt;&lt;br /&gt;&lt;br /&gt;Im fucking with you, I make music, check out my first song! &lt;a rel=\"nofollow\" class=\"ot-hashtag\" href=\"https://plus.google.com/s/%23giraffebruuh\"&gt;#giraffebruuh&lt;/a&gt;﻿</td>\n",
       "      <td>1</td>\n",
       "    </tr>\n",
       "    <tr>\n",
       "      <th>324</th>\n",
       "      <td>i like the lyrics but not to music video﻿</td>\n",
       "      <td>0</td>\n",
       "    </tr>\n",
       "    <tr>\n",
       "      <th>218</th>\n",
       "      <td>https://www.facebook.com/FUDAIRYQUEEN?pnref=story﻿</td>\n",
       "      <td>1</td>\n",
       "    </tr>\n",
       "    <tr>\n",
       "      <th>261</th>\n",
       "      <td>Hey guys! Check this out: Kollektivet - Don't be slappin' my penis!  I  think that they deserve much more credit than they receive.﻿</td>\n",
       "      <td>1</td>\n",
       "    </tr>\n",
       "    <tr>\n",
       "      <th>84</th>\n",
       "      <td>Party Rock&lt;br /&gt;﻿</td>\n",
       "      <td>0</td>\n",
       "    </tr>\n",
       "    <tr>\n",
       "      <th>367</th>\n",
       "      <td>Lol check out my chanell and subscribe please i want 5000 subs thats it im nearly their now﻿</td>\n",
       "      <td>1</td>\n",
       "    </tr>\n",
       "    <tr>\n",
       "      <th>159</th>\n",
       "      <td>You guys should check out this EXTRAORDINARY website called ZONEPA.COM .   You can make money online and start working from home today as I am!   I am making over $3,000+ per month at ZONEPA.COM !   Visit Zonepa.com and check it out!  Why does the answer rehabilitate the blushing limit? The push depreciateds the steel. How does the beautiful selection edit the range?</td>\n",
       "      <td>1</td>\n",
       "    </tr>\n",
       "    <tr>\n",
       "      <th>222</th>\n",
       "      <td>like this comment then type 1337</td>\n",
       "      <td>1</td>\n",
       "    </tr>\n",
       "    <tr>\n",
       "      <th>343</th>\n",
       "      <td>2,124923004 wiews... wow﻿</td>\n",
       "      <td>0</td>\n",
       "    </tr>\n",
       "  </tbody>\n",
       "</table>\n",
       "</div>"
      ],
      "text/plain": [
       "                                                                                                                                                                                                                                                                                                                                                                                                                                                                                                                     text  \\\n",
       "397  so spousal abusue cool that&#39;s great﻿                                                                                                                                                                                                                                                                                                                                                                                                                                                                               \n",
       "408  Hey guys, I&#39;m a human.<br /><br /><br />But I don&#39;t want to be a human, I want to be a sexy fucking giraffe.<br /><br /><br />I already have the money for the surgery to elongate my spinal core, the surgery to change my skin pigment, and everything else! Like this post so others can root me on in my dream!!!!<br /><br /><br />Im fucking with you, I make music, check out my first song! <a rel=\"nofollow\" class=\"ot-hashtag\" href=\"https://plus.google.com/s/%23giraffebruuh\">#giraffebruuh</a>﻿   \n",
       "324  i like the lyrics but not to music video﻿                                                                                                                                                                                                                                                                                                                                                                                                                                                                              \n",
       "218  https://www.facebook.com/FUDAIRYQUEEN?pnref=story﻿                                                                                                                                                                                                                                                                                                                                                                                                                                                                     \n",
       "261  Hey guys! Check this out: Kollektivet - Don't be slappin' my penis!  I  think that they deserve much more credit than they receive.﻿                                                                                                                                                                                                                                                                                                                                                                                   \n",
       "84   Party Rock<br />﻿                                                                                                                                                                                                                                                                                                                                                                                                                                                                                                      \n",
       "367  Lol check out my chanell and subscribe please i want 5000 subs thats it im nearly their now﻿                                                                                                                                                                                                                                                                                                                                                                                                                           \n",
       "159  You guys should check out this EXTRAORDINARY website called ZONEPA.COM .   You can make money online and start working from home today as I am!   I am making over $3,000+ per month at ZONEPA.COM !   Visit Zonepa.com and check it out!  Why does the answer rehabilitate the blushing limit? The push depreciateds the steel. How does the beautiful selection edit the range?                                                                                                                                      \n",
       "222  like this comment then type 1337                                                                                                                                                                                                                                                                                                                                                                                                                                                                                       \n",
       "343  2,124923004 wiews... wow﻿                                                                                                                                                                                                                                                                                                                                                                                                                                                                                              \n",
       "\n",
       "     label  \n",
       "397  0      \n",
       "408  1      \n",
       "324  0      \n",
       "218  1      \n",
       "261  1      \n",
       "84   0      \n",
       "367  1      \n",
       "159  1      \n",
       "222  1      \n",
       "343  0      "
      ]
     },
     "execution_count": 5,
     "metadata": {},
     "output_type": "execute_result"
    }
   ],
   "source": [
    "# Display just the text and label\n",
    "df_dev[[\"text\", \"label\"]].sample(10, random_state=123)"
   ]
  },
  {
   "cell_type": "markdown",
   "metadata": {},
   "source": [
    "### b) Write an LF"
   ]
  },
  {
   "cell_type": "markdown",
   "metadata": {},
   "source": [
    "Labeling functions in Snorkel are created with the `@labeling_function()` decorator, which wraps a function for evaluating on a single data point (in this case, a row of the dataframe).\n",
    "\n",
    "Looking at samples of our data, we see multiple messages where spammers are trying to get viewers to look at \"my channel\" or \"my video,\" so we write a simple LF that labels an example as `SPAM` if it includes the word \"my\" and otherwise abstains."
   ]
  },
  {
   "cell_type": "code",
   "execution_count": 6,
   "metadata": {},
   "outputs": [],
   "source": [
    "from snorkel.labeling.lf import labeling_function\n",
    "\n",
    "\n",
    "@labeling_function()\n",
    "def keyword_my(x):\n",
    "    \"\"\"Many spam comments talk about 'my channel', 'my video', etc.\"\"\"\n",
    "    return SPAM if \"my\" in x.text.lower() else ABSTAIN\n",
    "\n",
    "\n",
    "lfs = [keyword_my]"
   ]
  },
  {
   "cell_type": "markdown",
   "metadata": {},
   "source": [
    "To apply one or more LFs that we've written to a collection of data points, we use an `LFApplier`.\n",
    "\n",
    "Because our data points are represented with a Pandas dataframe in this tutorial, we use the `PandasLFApplier` class."
   ]
  },
  {
   "cell_type": "code",
   "execution_count": 7,
   "metadata": {},
   "outputs": [
    {
     "name": "stderr",
     "output_type": "stream",
     "text": [
      "\r",
      "  0%|          | 0/1586 [00:00<?, ?it/s]"
     ]
    },
    {
     "name": "stderr",
     "output_type": "stream",
     "text": [
      "\r",
      "100%|██████████| 1586/1586 [00:00<00:00, 54687.77it/s]"
     ]
    },
    {
     "name": "stderr",
     "output_type": "stream",
     "text": [
      "\n"
     ]
    }
   ],
   "source": [
    "from snorkel.labeling.apply import PandasLFApplier\n",
    "\n",
    "applier = PandasLFApplier(lfs)\n",
    "L_train = applier.apply(df_train)"
   ]
  },
  {
   "cell_type": "markdown",
   "metadata": {},
   "source": [
    "The output of the `apply()` method is a label matrix which we generally refer to as `L` (or `L_[split name]`)."
   ]
  },
  {
   "cell_type": "code",
   "execution_count": 8,
   "metadata": {},
   "outputs": [
    {
     "data": {
      "text/plain": [
       "array([[-1],\n",
       "       [-1],\n",
       "       [-1],\n",
       "       ...,\n",
       "       [ 1],\n",
       "       [-1],\n",
       "       [ 1]])"
      ]
     },
     "execution_count": 8,
     "metadata": {},
     "output_type": "execute_result"
    }
   ],
   "source": [
    "L_train"
   ]
  },
  {
   "cell_type": "markdown",
   "metadata": {},
   "source": [
    "### c) Check performance on dev set"
   ]
  },
  {
   "cell_type": "markdown",
   "metadata": {},
   "source": [
    "We can easily calculate the coverage of this LF by hand (i.e., the percentage of the dataset that it labels) as follows:"
   ]
  },
  {
   "cell_type": "code",
   "execution_count": 9,
   "metadata": {},
   "outputs": [
    {
     "name": "stdout",
     "output_type": "stream",
     "text": [
      "Coverage: 0.199\n"
     ]
    }
   ],
   "source": [
    "import numpy as np\n",
    "\n",
    "coverage = np.sum(L_train != ABSTAIN) / L_train.shape[0]\n",
    "print(f\"Coverage: {coverage:.3f}\")"
   ]
  },
  {
   "cell_type": "markdown",
   "metadata": {},
   "source": [
    "To get an estimate of its accuracy, we can label the development set with it and compare that to the few gold labels we do have.\n",
    "\n",
    "Note that we don't want to penalize the LF for examples where it abstained, so we calculate the accuracy only over those examples where the LF output a label."
   ]
  },
  {
   "cell_type": "code",
   "execution_count": 10,
   "metadata": {},
   "outputs": [
    {
     "name": "stderr",
     "output_type": "stream",
     "text": [
      "\r",
      "  0%|          | 0/100 [00:00<?, ?it/s]"
     ]
    },
    {
     "name": "stderr",
     "output_type": "stream",
     "text": [
      "\r",
      "100%|██████████| 100/100 [00:00<00:00, 35154.67it/s]"
     ]
    },
    {
     "name": "stdout",
     "output_type": "stream",
     "text": [
      "Accuracy: 0.864\n"
     ]
    },
    {
     "name": "stderr",
     "output_type": "stream",
     "text": [
      "\n"
     ]
    }
   ],
   "source": [
    "import numpy as np\n",
    "\n",
    "L_dev = applier.apply(df_dev)\n",
    "L_dev_array = L_dev.squeeze()\n",
    "\n",
    "correct = L_dev_array == Y_dev\n",
    "labeled = L_dev_array != ABSTAIN\n",
    "accuracy = (correct * labeled).sum() / labeled.sum()\n",
    "print(f\"Accuracy: {accuracy:.3f}\")"
   ]
  },
  {
   "cell_type": "markdown",
   "metadata": {},
   "source": [
    "Alternatively, you can use the provided `metric_score()` helper method, which allows you to specify a metric to calculate and certain classes to ignore (such as ABSTAIN)."
   ]
  },
  {
   "cell_type": "code",
   "execution_count": 11,
   "metadata": {},
   "outputs": [
    {
     "name": "stdout",
     "output_type": "stream",
     "text": [
      "Accuracy: 0.864\n"
     ]
    }
   ],
   "source": [
    "from snorkel.analysis.metrics import metric_score\n",
    "\n",
    "# Calculate accuracy, ignore all examples for which the predicted label is ABSTAIN\n",
    "accuracy = metric_score(\n",
    "    golds=Y_dev, preds=L_dev_array, metric=\"accuracy\", filter_dict={\"preds\": [ABSTAIN]}\n",
    ")\n",
    "print(f\"Accuracy: {accuracy:.3f}\")"
   ]
  },
  {
   "cell_type": "markdown",
   "metadata": {},
   "source": [
    "You can also use the helper class `LFAnalysis()` to report the following summary statistics for multiple LFs at once:\n",
    "* Polarity: The set of labels this LF outputs\n",
    "* Coverage: The fraction of the dataset the LF labels\n",
    "* Overlaps: The fraction of the dataset where this LF and at least one other LF label\n",
    "* Conflicts: The fraction of the dataset where this LF and at least one other LF label and disagree\n",
    "* Correct: The number of data points this LF labels correctly (if gold labels are provided)\n",
    "* Incorrect: The number of data points this LF labels incorrectly (if gold labels are provided)\n",
    "* Emp. Acc.: The empirical accuracy of this LF (if gold labels are provided)\n",
    "\n",
    "The overlaps percentage gives us a rough sense of what percentage of the dataset is only labeled by this LF (coverage minus overlaps)."
   ]
  },
  {
   "cell_type": "code",
   "execution_count": 12,
   "metadata": {},
   "outputs": [
    {
     "data": {
      "text/html": [
       "<div>\n",
       "<style scoped>\n",
       "    .dataframe tbody tr th:only-of-type {\n",
       "        vertical-align: middle;\n",
       "    }\n",
       "\n",
       "    .dataframe tbody tr th {\n",
       "        vertical-align: top;\n",
       "    }\n",
       "\n",
       "    .dataframe thead th {\n",
       "        text-align: right;\n",
       "    }\n",
       "</style>\n",
       "<table border=\"1\" class=\"dataframe\">\n",
       "  <thead>\n",
       "    <tr style=\"text-align: right;\">\n",
       "      <th></th>\n",
       "      <th>j</th>\n",
       "      <th>Polarity</th>\n",
       "      <th>Coverage</th>\n",
       "      <th>Overlaps</th>\n",
       "      <th>Conflicts</th>\n",
       "      <th>Correct</th>\n",
       "      <th>Incorrect</th>\n",
       "      <th>Emp. Acc.</th>\n",
       "    </tr>\n",
       "  </thead>\n",
       "  <tbody>\n",
       "    <tr>\n",
       "      <th>keyword_my</th>\n",
       "      <td>0</td>\n",
       "      <td>[1]</td>\n",
       "      <td>0.22</td>\n",
       "      <td>0.0</td>\n",
       "      <td>0.0</td>\n",
       "      <td>19</td>\n",
       "      <td>3</td>\n",
       "      <td>0.863636</td>\n",
       "    </tr>\n",
       "  </tbody>\n",
       "</table>\n",
       "</div>"
      ],
      "text/plain": [
       "            j Polarity  Coverage  Overlaps  Conflicts  Correct  Incorrect  \\\n",
       "keyword_my  0  [1]      0.22      0.0       0.0        19       3           \n",
       "\n",
       "            Emp. Acc.  \n",
       "keyword_my  0.863636   "
      ]
     },
     "execution_count": 12,
     "metadata": {},
     "output_type": "execute_result"
    }
   ],
   "source": [
    "from snorkel.labeling.analysis import LFAnalysis\n",
    "\n",
    "LFAnalysis(L_dev, lfs).lf_summary(Y=Y_dev)"
   ]
  },
  {
   "cell_type": "markdown",
   "metadata": {},
   "source": [
    "### d) Balance accuracy/coverage"
   ]
  },
  {
   "cell_type": "markdown",
   "metadata": {},
   "source": [
    "Often, by looking at the examples that an LF does and doesn't label, we can get ideas for how to improve it.\n",
    "\n",
    "The helper method `error_buckets()` groups examples by their predicted label and true label. For example, `buckets[(SPAM, HAM)]` contains the indices of data points that the LF labeled `SPAM` that actually belong to class `HAM`. This may give ideas for where the LF could be made more specific."
   ]
  },
  {
   "cell_type": "code",
   "execution_count": 13,
   "metadata": {},
   "outputs": [
    {
     "data": {
      "text/html": [
       "<div>\n",
       "<style scoped>\n",
       "    .dataframe tbody tr th:only-of-type {\n",
       "        vertical-align: middle;\n",
       "    }\n",
       "\n",
       "    .dataframe tbody tr th {\n",
       "        vertical-align: top;\n",
       "    }\n",
       "\n",
       "    .dataframe thead th {\n",
       "        text-align: right;\n",
       "    }\n",
       "</style>\n",
       "<table border=\"1\" class=\"dataframe\">\n",
       "  <thead>\n",
       "    <tr style=\"text-align: right;\">\n",
       "      <th></th>\n",
       "      <th>text</th>\n",
       "      <th>label</th>\n",
       "    </tr>\n",
       "  </thead>\n",
       "  <tbody>\n",
       "    <tr>\n",
       "      <th>326</th>\n",
       "      <td>\"....because I AM a champion...and you're gonna hear me roar!\"   Today I AM my own champion  Today I AM a champion for the Creator  Today I AM doing positive in my world Today I AM blessing and healing all around me Today I AM successful and  creating success  ﻿</td>\n",
       "      <td>0</td>\n",
       "    </tr>\n",
       "    <tr>\n",
       "      <th>61</th>\n",
       "      <td>I guss this song is one of my worst fears in life, to be with someone who abusive towered me and live with him.... ﻿</td>\n",
       "      <td>0</td>\n",
       "    </tr>\n",
       "    <tr>\n",
       "      <th>284</th>\n",
       "      <td>sorry to all my haters&lt;br /&gt;&lt;br /&gt;&lt;br /&gt;&lt;br /&gt;&lt;br /&gt;&lt;br /&gt;&lt;br /&gt;&lt;br /&gt;&lt;br /&gt;&lt;br /&gt;&lt;br /&gt;&lt;br /&gt;&lt;br /&gt;for party rock en﻿</td>\n",
       "      <td>0</td>\n",
       "    </tr>\n",
       "  </tbody>\n",
       "</table>\n",
       "</div>"
      ],
      "text/plain": [
       "                                                                                                                                                                                                                                                                       text  \\\n",
       "326  \"....because I AM a champion...and you're gonna hear me roar!\"   Today I AM my own champion  Today I AM a champion for the Creator  Today I AM doing positive in my world Today I AM blessing and healing all around me Today I AM successful and  creating success  ﻿   \n",
       "61   I guss this song is one of my worst fears in life, to be with someone who abusive towered me and live with him.... ﻿                                                                                                                                                     \n",
       "284  sorry to all my haters<br /><br /><br /><br /><br /><br /><br /><br /><br /><br /><br /><br /><br />for party rock en﻿                                                                                                                                                   \n",
       "\n",
       "     label  \n",
       "326  0      \n",
       "61   0      \n",
       "284  0      "
      ]
     },
     "execution_count": 13,
     "metadata": {},
     "output_type": "execute_result"
    }
   ],
   "source": [
    "from snorkel.analysis.error_analysis import error_buckets\n",
    "\n",
    "buckets = error_buckets(Y_dev, L_dev_array)\n",
    "\n",
    "df_dev[[\"text\", \"label\"]].iloc[buckets[(SPAM, HAM)]].head()"
   ]
  },
  {
   "cell_type": "markdown",
   "metadata": {},
   "source": [
    "On the other hand, `buckets[(SPAM, SPAM)]` points to `SPAM` data points that the LF labeled correctly."
   ]
  },
  {
   "cell_type": "code",
   "execution_count": 14,
   "metadata": {},
   "outputs": [
    {
     "data": {
      "text/html": [
       "<div>\n",
       "<style scoped>\n",
       "    .dataframe tbody tr th:only-of-type {\n",
       "        vertical-align: middle;\n",
       "    }\n",
       "\n",
       "    .dataframe tbody tr th {\n",
       "        vertical-align: top;\n",
       "    }\n",
       "\n",
       "    .dataframe thead th {\n",
       "        text-align: right;\n",
       "    }\n",
       "</style>\n",
       "<table border=\"1\" class=\"dataframe\">\n",
       "  <thead>\n",
       "    <tr style=\"text-align: right;\">\n",
       "      <th></th>\n",
       "      <th>text</th>\n",
       "      <th>label</th>\n",
       "    </tr>\n",
       "  </thead>\n",
       "  <tbody>\n",
       "    <tr>\n",
       "      <th>367</th>\n",
       "      <td>Lol check out my chanell and subscribe please i want 5000 subs thats it im nearly their now﻿</td>\n",
       "      <td>1</td>\n",
       "    </tr>\n",
       "    <tr>\n",
       "      <th>31</th>\n",
       "      <td>Hi there~I'm group leader of Angel, a rookie Korean pop group. We have four  members, Chanicka, Julie, Stephanie, and myself, Leah. Please feel free to  check out our channel and leave some feedback on our cover videos (:  criticism is welcome as we know we're not top notch singers so please come  leave some constructive feedback on our videos; we appreciate any chance to  improve before auditioning for a Korean management company. We plan on  auditioning for JYP, BigHit, Jellyfish, YG or SM. Thank you for taking time  out of your day to read this !﻿</td>\n",
       "      <td>1</td>\n",
       "    </tr>\n",
       "    <tr>\n",
       "      <th>263</th>\n",
       "      <td>Suscribe My Channel Please XD lol﻿</td>\n",
       "      <td>1</td>\n",
       "    </tr>\n",
       "    <tr>\n",
       "      <th>204</th>\n",
       "      <td>SnEakiESTG Good Music. Hood Muzik Subscribe 2 My Channel. Thanks For The Support. SnEakiESTG   SnEakiESTG Good Music. Hood Muzik Subscribe 2 My Channel. Thanks For The Support. SnEakiESTG</td>\n",
       "      <td>1</td>\n",
       "    </tr>\n",
       "    <tr>\n",
       "      <th>100</th>\n",
       "      <td>subscribe to my channel yo - DJ Feelz﻿</td>\n",
       "      <td>1</td>\n",
       "    </tr>\n",
       "  </tbody>\n",
       "</table>\n",
       "</div>"
      ],
      "text/plain": [
       "                                                                                                                                                                                                                                                                                                                                                                                                                                                                                                                                                                             text  \\\n",
       "367  Lol check out my chanell and subscribe please i want 5000 subs thats it im nearly their now﻿                                                                                                                                                                                                                                                                                                                                                                                                                                                                                   \n",
       "31   Hi there~I'm group leader of Angel, a rookie Korean pop group. We have four  members, Chanicka, Julie, Stephanie, and myself, Leah. Please feel free to  check out our channel and leave some feedback on our cover videos (:  criticism is welcome as we know we're not top notch singers so please come  leave some constructive feedback on our videos; we appreciate any chance to  improve before auditioning for a Korean management company. We plan on  auditioning for JYP, BigHit, Jellyfish, YG or SM. Thank you for taking time  out of your day to read this !﻿   \n",
       "263  Suscribe My Channel Please XD lol﻿                                                                                                                                                                                                                                                                                                                                                                                                                                                                                                                                             \n",
       "204  SnEakiESTG Good Music. Hood Muzik Subscribe 2 My Channel. Thanks For The Support. SnEakiESTG   SnEakiESTG Good Music. Hood Muzik Subscribe 2 My Channel. Thanks For The Support. SnEakiESTG                                                                                                                                                                                                                                                                                                                                                                                    \n",
       "100  subscribe to my channel yo - DJ Feelz﻿                                                                                                                                                                                                                                                                                                                                                                                                                                                                                                                                         \n",
       "\n",
       "     label  \n",
       "367  1      \n",
       "31   1      \n",
       "263  1      \n",
       "204  1      \n",
       "100  1      "
      ]
     },
     "execution_count": 14,
     "metadata": {},
     "output_type": "execute_result"
    }
   ],
   "source": [
    "df_dev[[\"text\", \"label\"]].iloc[buckets[(SPAM, SPAM)]].head()"
   ]
  },
  {
   "cell_type": "markdown",
   "metadata": {},
   "source": [
    "And `buckets[(ABSTAIN, SPAM)]` points to data points that the LF abstained on that are actually `SPAM`.\n",
    "Many of these will be best captured by a separate LF, but browsing these examples can be a good check that your LF is capturing most of the examples that you intended it to."
   ]
  },
  {
   "cell_type": "code",
   "execution_count": 15,
   "metadata": {},
   "outputs": [
    {
     "data": {
      "text/html": [
       "<div>\n",
       "<style scoped>\n",
       "    .dataframe tbody tr th:only-of-type {\n",
       "        vertical-align: middle;\n",
       "    }\n",
       "\n",
       "    .dataframe tbody tr th {\n",
       "        vertical-align: top;\n",
       "    }\n",
       "\n",
       "    .dataframe thead th {\n",
       "        text-align: right;\n",
       "    }\n",
       "</style>\n",
       "<table border=\"1\" class=\"dataframe\">\n",
       "  <thead>\n",
       "    <tr style=\"text-align: right;\">\n",
       "      <th></th>\n",
       "      <th>text</th>\n",
       "      <th>label</th>\n",
       "    </tr>\n",
       "  </thead>\n",
       "  <tbody>\n",
       "    <tr>\n",
       "      <th>35</th>\n",
       "      <td>Subscribe ME!﻿</td>\n",
       "      <td>1</td>\n",
       "    </tr>\n",
       "    <tr>\n",
       "      <th>313</th>\n",
       "      <td>Aslamu Lykum... From Pakistan﻿</td>\n",
       "      <td>1</td>\n",
       "    </tr>\n",
       "    <tr>\n",
       "      <th>321</th>\n",
       "      <td>pleas subscribe on me for ps4 games video &lt;br /&gt;&lt;i&gt;______________________________&lt;/i&gt;&lt;br /&gt;if you have som tips so contact me on kik or skype&lt;br /&gt;&lt;i&gt;______________________________&lt;/i&gt;&lt;br /&gt;Kik: pander26&lt;br /&gt;Skype: sander.nicolaysen2&lt;br /&gt;&lt;i&gt;______________________&lt;/i&gt;&lt;br /&gt;pleas subscribe on me and Kashoo Gaming﻿</td>\n",
       "      <td>1</td>\n",
       "    </tr>\n",
       "    <tr>\n",
       "      <th>42</th>\n",
       "      <td>http://www.gofundme.com/gvr7xg﻿</td>\n",
       "      <td>1</td>\n",
       "    </tr>\n",
       "    <tr>\n",
       "      <th>252</th>\n",
       "      <td>Limit sun exposure while driving. Eliminate the hassle of having to swing  the car visor between the windshield and window.  https://www.kickstarter.com/projects/733634264/visortwin﻿</td>\n",
       "      <td>1</td>\n",
       "    </tr>\n",
       "  </tbody>\n",
       "</table>\n",
       "</div>"
      ],
      "text/plain": [
       "                                                                                                                                                                                                                                                                                                                            text  \\\n",
       "35   Subscribe ME!﻿                                                                                                                                                                                                                                                                                                                \n",
       "313  Aslamu Lykum... From Pakistan﻿                                                                                                                                                                                                                                                                                                \n",
       "321  pleas subscribe on me for ps4 games video <br /><i>______________________________</i><br />if you have som tips so contact me on kik or skype<br /><i>______________________________</i><br />Kik: pander26<br />Skype: sander.nicolaysen2<br /><i>______________________</i><br />pleas subscribe on me and Kashoo Gaming﻿   \n",
       "42   http://www.gofundme.com/gvr7xg﻿                                                                                                                                                                                                                                                                                               \n",
       "252  Limit sun exposure while driving. Eliminate the hassle of having to swing  the car visor between the windshield and window.  https://www.kickstarter.com/projects/733634264/visortwin﻿                                                                                                                                        \n",
       "\n",
       "     label  \n",
       "35   1      \n",
       "313  1      \n",
       "321  1      \n",
       "42   1      \n",
       "252  1      "
      ]
     },
     "execution_count": 15,
     "metadata": {},
     "output_type": "execute_result"
    }
   ],
   "source": [
    "df_dev[[\"text\", \"label\"]].iloc[buckets[(ABSTAIN, SPAM)]].head()"
   ]
  },
  {
   "cell_type": "markdown",
   "metadata": {},
   "source": [
    "Looking at all these examples, we notice that much of the time when \"my\" is used, it's referring to \"my channel\". We can update our LF to see how making this change affects accuracy and coverage."
   ]
  },
  {
   "cell_type": "code",
   "execution_count": 16,
   "metadata": {},
   "outputs": [
    {
     "name": "stderr",
     "output_type": "stream",
     "text": [
      "\r",
      "  0%|          | 0/100 [00:00<?, ?it/s]"
     ]
    },
    {
     "name": "stderr",
     "output_type": "stream",
     "text": [
      "\r",
      "100%|██████████| 100/100 [00:00<00:00, 33487.46it/s]"
     ]
    },
    {
     "name": "stderr",
     "output_type": "stream",
     "text": [
      "\n"
     ]
    },
    {
     "data": {
      "text/html": [
       "<div>\n",
       "<style scoped>\n",
       "    .dataframe tbody tr th:only-of-type {\n",
       "        vertical-align: middle;\n",
       "    }\n",
       "\n",
       "    .dataframe tbody tr th {\n",
       "        vertical-align: top;\n",
       "    }\n",
       "\n",
       "    .dataframe thead th {\n",
       "        text-align: right;\n",
       "    }\n",
       "</style>\n",
       "<table border=\"1\" class=\"dataframe\">\n",
       "  <thead>\n",
       "    <tr style=\"text-align: right;\">\n",
       "      <th></th>\n",
       "      <th>j</th>\n",
       "      <th>Polarity</th>\n",
       "      <th>Coverage</th>\n",
       "      <th>Overlaps</th>\n",
       "      <th>Conflicts</th>\n",
       "      <th>Correct</th>\n",
       "      <th>Incorrect</th>\n",
       "      <th>Emp. Acc.</th>\n",
       "    </tr>\n",
       "  </thead>\n",
       "  <tbody>\n",
       "    <tr>\n",
       "      <th>keywords_my_channel</th>\n",
       "      <td>0</td>\n",
       "      <td>[1]</td>\n",
       "      <td>0.06</td>\n",
       "      <td>0.0</td>\n",
       "      <td>0.0</td>\n",
       "      <td>6</td>\n",
       "      <td>0</td>\n",
       "      <td>1.0</td>\n",
       "    </tr>\n",
       "  </tbody>\n",
       "</table>\n",
       "</div>"
      ],
      "text/plain": [
       "                     j Polarity  Coverage  Overlaps  Conflicts  Correct  \\\n",
       "keywords_my_channel  0  [1]      0.06      0.0       0.0        6         \n",
       "\n",
       "                     Incorrect  Emp. Acc.  \n",
       "keywords_my_channel  0          1.0        "
      ]
     },
     "execution_count": 16,
     "metadata": {},
     "output_type": "execute_result"
    }
   ],
   "source": [
    "@labeling_function()\n",
    "def keywords_my_channel(x):\n",
    "    return SPAM if \"my channel\" in x.text.lower() else ABSTAIN\n",
    "\n",
    "\n",
    "lfs = [keywords_my_channel]\n",
    "applier = PandasLFApplier(lfs)\n",
    "L_dev = applier.apply(df_dev)\n",
    "\n",
    "LFAnalysis(L_dev, lfs).lf_summary(Y=Y_dev)"
   ]
  },
  {
   "cell_type": "markdown",
   "metadata": {},
   "source": [
    "In this case, accuracy does improve a bit, but it was already fairly accurate to begin with, and \"tightening\" the LF like this causes the coverage drops significantly, so we'll stick with the original LF."
   ]
  },
  {
   "cell_type": "markdown",
   "metadata": {},
   "source": [
    "## More Labeling Functions"
   ]
  },
  {
   "cell_type": "markdown",
   "metadata": {},
   "source": [
    "If a single LF had high enough coverage to label our entire test dataset accurately, then we wouldn't need a classifier at all; we could just use that single simple heuristic to complete the task. But most problems are not that simple. Instead, we usually need to **combine multiple LFs** to label our dataset, both to increase the size of the generated training set (since we can't generate training labels for data points that all LFs abstained on) and to improve the overall accuracy of the training labels we generate by factoring in multiple different signals.\n",
    "\n",
    "In the following subsections, we'll show just a few of the many types of LFs that you could write to generate a training dataset for this problem."
   ]
  },
  {
   "cell_type": "markdown",
   "metadata": {},
   "source": [
    "### i. Keyword LFs"
   ]
  },
  {
   "cell_type": "markdown",
   "metadata": {},
   "source": [
    "For text applications, some of the simplest LFs to write are often just keyword lookups."
   ]
  },
  {
   "cell_type": "code",
   "execution_count": 17,
   "metadata": {},
   "outputs": [],
   "source": [
    "lfs = []\n",
    "\n",
    "\n",
    "@labeling_function()\n",
    "def keyword_my(x):\n",
    "    \"\"\"Spam comments talk about 'my channel', 'my video', etc.\"\"\"\n",
    "    return SPAM if \"my\" in x.text.lower() else ABSTAIN\n",
    "\n",
    "\n",
    "@labeling_function()\n",
    "def lf_subscribe(x):\n",
    "    \"\"\"Spam comments ask users to subscribe to their channels.\"\"\"\n",
    "    return SPAM if \"subscribe\" in x.text else ABSTAIN\n",
    "\n",
    "\n",
    "@labeling_function()\n",
    "def lf_link(x):\n",
    "    \"\"\"Spam comments post links to other channels.\"\"\"\n",
    "    return SPAM if \"http\" in x.text.lower() else ABSTAIN\n",
    "\n",
    "\n",
    "@labeling_function()\n",
    "def lf_please(x):\n",
    "    \"\"\"Spam comments make requests rather than commenting.\"\"\"\n",
    "    return (\n",
    "        SPAM if any([word in x.text.lower() for word in [\"please\", \"plz\"]]) else ABSTAIN\n",
    "    )\n",
    "\n",
    "\n",
    "@labeling_function()\n",
    "def lf_song(x):\n",
    "    \"\"\"Ham comments actually talk about the video's content.\"\"\"\n",
    "    return HAM if \"song\" in x.text.lower() else ABSTAIN"
   ]
  },
  {
   "cell_type": "markdown",
   "metadata": {},
   "source": [
    "### ii. Pattern-matching LFs (Regular Expressions)"
   ]
  },
  {
   "cell_type": "markdown",
   "metadata": {},
   "source": [
    "If we want a little more control over a keyword search, we can look for regular expressions instead."
   ]
  },
  {
   "cell_type": "code",
   "execution_count": 18,
   "metadata": {},
   "outputs": [],
   "source": [
    "import re\n",
    "\n",
    "\n",
    "@labeling_function()\n",
    "def regex_check_out(x):\n",
    "    \"\"\"Spam comments say 'check out my video', 'check it out', etc.\"\"\"\n",
    "    return SPAM if re.search(r\"check.*out\", x.text, flags=re.I) else ABSTAIN"
   ]
  },
  {
   "cell_type": "markdown",
   "metadata": {},
   "source": [
    "### iii.  Heuristic LFs"
   ]
  },
  {
   "cell_type": "markdown",
   "metadata": {},
   "source": [
    "There may other heuristics or \"rules of thumb\" that you come up with as you look at the data.\n",
    "So long as you can express it in a function, it's a viable LF!"
   ]
  },
  {
   "cell_type": "code",
   "execution_count": 19,
   "metadata": {},
   "outputs": [],
   "source": [
    "@labeling_function()\n",
    "def short_comment(x):\n",
    "    \"\"\"Ham comments are often short, such as 'cool video!'\"\"\"\n",
    "    return HAM if len(x.text.split()) < 5 else ABSTAIN"
   ]
  },
  {
   "cell_type": "markdown",
   "metadata": {},
   "source": [
    "### Adding Preprocessors"
   ]
  },
  {
   "cell_type": "markdown",
   "metadata": {},
   "source": [
    "Some LFs rely on fields that aren't present in the raw data, but can be derived from it. We can enrich our data (providing more fields for the LFs to refer to) using `Preprocessors`.\n",
    "\n",
    "For example, we can use the fantastic NLP tool [spaCy](https://spacy.io/) to add lemmas, part-of-speech (pos) tags, etc. to each token."
   ]
  },
  {
   "cell_type": "code",
   "execution_count": 20,
   "metadata": {},
   "outputs": [
    {
     "name": "stdout",
     "output_type": "stream",
     "text": [
      "Collecting en_core_web_sm==2.1.0 from https://github.com/explosion/spacy-models/releases/download/en_core_web_sm-2.1.0/en_core_web_sm-2.1.0.tar.gz#egg=en_core_web_sm==2.1.0\r\n"
     ]
    },
    {
     "name": "stdout",
     "output_type": "stream",
     "text": [
      "\u001b[?25l  Downloading https://github.com/explosion/spacy-models/releases/download/en_core_web_sm-2.1.0/en_core_web_sm-2.1.0.tar.gz (11.1MB)\r\n"
     ]
    },
    {
     "name": "stdout",
     "output_type": "stream",
     "text": [
      "\r",
      "\u001b[K     |                                | 10kB 138kB/s eta 0:01:20\r",
      "\u001b[K     |                                | 20kB 275kB/s eta 0:00:41\r",
      "\u001b[K     |                                | 30kB 413kB/s eta 0:00:27"
     ]
    },
    {
     "name": "stdout",
     "output_type": "stream",
     "text": [
      "\r",
      "\u001b[K     |▏                               | 40kB 275kB/s eta 0:00:40\r",
      "\u001b[K     |▏                               | 51kB 344kB/s eta 0:00:33\r",
      "\u001b[K     |▏                               | 61kB 413kB/s eta 0:00:27\r",
      "\u001b[K     |▏                               | 71kB 481kB/s eta 0:00:23\r",
      "\u001b[K     |▎                               | 81kB 550kB/s eta 0:00:20\r",
      "\u001b[K     |▎                               | 92kB 618kB/s eta 0:00:18\r",
      "\u001b[K     |▎                               | 102kB 686kB/s eta 0:00:16"
     ]
    },
    {
     "name": "stdout",
     "output_type": "stream",
     "text": [
      "\r",
      "\u001b[K     |▎                               | 112kB 686kB/s eta 0:00:16\r",
      "\u001b[K     |▍                               | 122kB 686kB/s eta 0:00:16\r",
      "\u001b[K     |▍                               | 133kB 686kB/s eta 0:00:16\r",
      "\u001b[K     |▍                               | 143kB 686kB/s eta 0:00:16\r",
      "\u001b[K     |▍                               | 153kB 686kB/s eta 0:00:16\r",
      "\u001b[K     |▌                               | 163kB 686kB/s eta 0:00:16\r",
      "\u001b[K     |▌                               | 174kB 686kB/s eta 0:00:16\r",
      "\u001b[K     |▌                               | 184kB 686kB/s eta 0:00:16"
     ]
    },
    {
     "name": "stdout",
     "output_type": "stream",
     "text": [
      "\r",
      "\u001b[K     |▋                               | 194kB 686kB/s eta 0:00:16\r",
      "\u001b[K     |▋                               | 204kB 686kB/s eta 0:00:16\r",
      "\u001b[K     |▋                               | 215kB 686kB/s eta 0:00:16\r",
      "\u001b[K     |▋                               | 225kB 686kB/s eta 0:00:16\r",
      "\u001b[K     |▊                               | 235kB 686kB/s eta 0:00:16\r",
      "\u001b[K     |▊                               | 245kB 686kB/s eta 0:00:16\r",
      "\u001b[K     |▊                               | 256kB 686kB/s eta 0:00:16\r",
      "\u001b[K     |▊                               | 266kB 686kB/s eta 0:00:16\r",
      "\u001b[K     |▉                               | 276kB 686kB/s eta 0:00:16\r",
      "\u001b[K     |▉                               | 286kB 686kB/s eta 0:00:16\r",
      "\u001b[K     |▉                               | 296kB 686kB/s eta 0:00:16\r",
      "\u001b[K     |▉                               | 307kB 686kB/s eta 0:00:16\r",
      "\u001b[K     |█                               | 317kB 686kB/s eta 0:00:16\r",
      "\u001b[K     |█                               | 327kB 686kB/s eta 0:00:16\r",
      "\u001b[K     |█                               | 337kB 686kB/s eta 0:00:16\r",
      "\u001b[K     |█                               | 348kB 686kB/s eta 0:00:16\r",
      "\u001b[K     |█                               | 358kB 686kB/s eta 0:00:16\r",
      "\u001b[K     |█                               | 368kB 686kB/s eta 0:00:16\r",
      "\u001b[K     |█                               | 378kB 686kB/s eta 0:00:16\r",
      "\u001b[K     |█▏                              | 389kB 686kB/s eta 0:00:16\r",
      "\u001b[K     |█▏                              | 399kB 686kB/s eta 0:00:16\r",
      "\u001b[K     |█▏                              | 409kB 686kB/s eta 0:00:16"
     ]
    },
    {
     "name": "stdout",
     "output_type": "stream",
     "text": [
      "\r",
      "\u001b[K     |█▏                              | 419kB 686kB/s eta 0:00:16\r",
      "\u001b[K     |█▎                              | 430kB 686kB/s eta 0:00:16\r",
      "\u001b[K     |█▎                              | 440kB 686kB/s eta 0:00:16\r",
      "\u001b[K     |█▎                              | 450kB 686kB/s eta 0:00:16\r",
      "\u001b[K     |█▎                              | 460kB 686kB/s eta 0:00:16\r",
      "\u001b[K     |█▍                              | 471kB 686kB/s eta 0:00:16\r",
      "\u001b[K     |█▍                              | 481kB 686kB/s eta 0:00:16\r",
      "\u001b[K     |█▍                              | 491kB 686kB/s eta 0:00:16\r",
      "\u001b[K     |█▌                              | 501kB 686kB/s eta 0:00:16\r",
      "\u001b[K     |█▌                              | 512kB 686kB/s eta 0:00:16\r",
      "\u001b[K     |█▌                              | 522kB 686kB/s eta 0:00:16\r",
      "\u001b[K     |█▌                              | 532kB 686kB/s eta 0:00:16\r",
      "\u001b[K     |█▋                              | 542kB 686kB/s eta 0:00:16\r",
      "\u001b[K     |█▋                              | 552kB 686kB/s eta 0:00:16\r",
      "\u001b[K     |█▋                              | 563kB 686kB/s eta 0:00:16\r",
      "\u001b[K     |█▋                              | 573kB 686kB/s eta 0:00:16\r",
      "\u001b[K     |█▊                              | 583kB 686kB/s eta 0:00:16\r",
      "\u001b[K     |█▊                              | 593kB 686kB/s eta 0:00:16\r",
      "\u001b[K     |█▊                              | 604kB 686kB/s eta 0:00:16\r",
      "\u001b[K     |█▊                              | 614kB 686kB/s eta 0:00:16\r",
      "\u001b[K     |█▉                              | 624kB 686kB/s eta 0:00:16\r",
      "\u001b[K     |█▉                              | 634kB 686kB/s eta 0:00:16\r",
      "\u001b[K     |█▉                              | 645kB 686kB/s eta 0:00:16\r",
      "\u001b[K     |██                              | 655kB 686kB/s eta 0:00:16\r",
      "\u001b[K     |██                              | 665kB 686kB/s eta 0:00:16\r",
      "\u001b[K     |██                              | 675kB 686kB/s eta 0:00:16\r",
      "\u001b[K     |██                              | 686kB 686kB/s eta 0:00:16\r",
      "\u001b[K     |██                              | 696kB 686kB/s eta 0:00:16\r",
      "\u001b[K     |██                              | 706kB 686kB/s eta 0:00:16\r",
      "\u001b[K     |██                              | 716kB 686kB/s eta 0:00:16\r",
      "\u001b[K     |██                              | 727kB 686kB/s eta 0:00:16\r",
      "\u001b[K     |██▏                             | 737kB 686kB/s eta 0:00:16\r",
      "\u001b[K     |██▏                             | 747kB 686kB/s eta 0:00:16\r",
      "\u001b[K     |██▏                             | 757kB 686kB/s eta 0:00:16\r",
      "\u001b[K     |██▏                             | 768kB 686kB/s eta 0:00:16\r",
      "\u001b[K     |██▎                             | 778kB 686kB/s eta 0:00:15\r",
      "\u001b[K     |██▎                             | 788kB 686kB/s eta 0:00:15\r",
      "\u001b[K     |██▎                             | 798kB 686kB/s eta 0:00:15\r",
      "\u001b[K     |██▍                             | 808kB 686kB/s eta 0:00:15\r",
      "\u001b[K     |██▍                             | 819kB 686kB/s eta 0:00:15\r",
      "\u001b[K     |██▍                             | 829kB 686kB/s eta 0:00:15\r",
      "\u001b[K     |██▍                             | 839kB 686kB/s eta 0:00:15\r",
      "\u001b[K     |██▌                             | 849kB 686kB/s eta 0:00:15\r",
      "\u001b[K     |██▌                             | 860kB 686kB/s eta 0:00:15"
     ]
    },
    {
     "name": "stdout",
     "output_type": "stream",
     "text": [
      "\r",
      "\u001b[K     |██▌                             | 870kB 686kB/s eta 0:00:15\r",
      "\u001b[K     |██▌                             | 880kB 686kB/s eta 0:00:15\r",
      "\u001b[K     |██▋                             | 890kB 686kB/s eta 0:00:15\r",
      "\u001b[K     |██▋                             | 901kB 686kB/s eta 0:00:15\r",
      "\u001b[K     |██▋                             | 911kB 686kB/s eta 0:00:15\r",
      "\u001b[K     |██▋                             | 921kB 686kB/s eta 0:00:15\r",
      "\u001b[K     |██▊                             | 931kB 686kB/s eta 0:00:15\r",
      "\u001b[K     |██▊                             | 942kB 686kB/s eta 0:00:15\r",
      "\u001b[K     |██▊                             | 952kB 686kB/s eta 0:00:15\r",
      "\u001b[K     |██▉                             | 962kB 686kB/s eta 0:00:15\r",
      "\u001b[K     |██▉                             | 972kB 686kB/s eta 0:00:15\r",
      "\u001b[K     |██▉                             | 983kB 686kB/s eta 0:00:15\r",
      "\u001b[K     |██▉                             | 993kB 686kB/s eta 0:00:15\r",
      "\u001b[K     |███                             | 1.0MB 686kB/s eta 0:00:15\r",
      "\u001b[K     |███                             | 1.0MB 686kB/s eta 0:00:15\r",
      "\u001b[K     |███                             | 1.0MB 686kB/s eta 0:00:15\r",
      "\u001b[K     |███                             | 1.0MB 686kB/s eta 0:00:15\r",
      "\u001b[K     |███                             | 1.0MB 686kB/s eta 0:00:15\r",
      "\u001b[K     |███                             | 1.1MB 686kB/s eta 0:00:15\r",
      "\u001b[K     |███                             | 1.1MB 686kB/s eta 0:00:15\r",
      "\u001b[K     |███                             | 1.1MB 686kB/s eta 0:00:15\r",
      "\u001b[K     |███▏                            | 1.1MB 686kB/s eta 0:00:15\r",
      "\u001b[K     |███▏                            | 1.1MB 686kB/s eta 0:00:15\r",
      "\u001b[K     |███▏                            | 1.1MB 686kB/s eta 0:00:15\r",
      "\u001b[K     |███▎                            | 1.1MB 686kB/s eta 0:00:15\r",
      "\u001b[K     |███▎                            | 1.1MB 686kB/s eta 0:00:15\r",
      "\u001b[K     |███▎                            | 1.1MB 686kB/s eta 0:00:15\r",
      "\u001b[K     |███▎                            | 1.1MB 686kB/s eta 0:00:15\r",
      "\u001b[K     |███▍                            | 1.2MB 686kB/s eta 0:00:15\r",
      "\u001b[K     |███▍                            | 1.2MB 686kB/s eta 0:00:15\r",
      "\u001b[K     |███▍                            | 1.2MB 686kB/s eta 0:00:15\r",
      "\u001b[K     |███▍                            | 1.2MB 686kB/s eta 0:00:15\r",
      "\u001b[K     |███▌                            | 1.2MB 686kB/s eta 0:00:15\r",
      "\u001b[K     |███▌                            | 1.2MB 686kB/s eta 0:00:15\r",
      "\u001b[K     |███▌                            | 1.2MB 686kB/s eta 0:00:15\r",
      "\u001b[K     |███▌                            | 1.2MB 686kB/s eta 0:00:15\r",
      "\u001b[K     |███▋                            | 1.2MB 686kB/s eta 0:00:15\r",
      "\u001b[K     |███▋                            | 1.2MB 686kB/s eta 0:00:15\r",
      "\u001b[K     |███▋                            | 1.3MB 686kB/s eta 0:00:15\r",
      "\u001b[K     |███▊                            | 1.3MB 686kB/s eta 0:00:15\r",
      "\u001b[K     |███▊                            | 1.3MB 686kB/s eta 0:00:15\r",
      "\u001b[K     |███▊                            | 1.3MB 686kB/s eta 0:00:15\r",
      "\u001b[K     |███▊                            | 1.3MB 686kB/s eta 0:00:15\r",
      "\u001b[K     |███▉                            | 1.3MB 686kB/s eta 0:00:15\r",
      "\u001b[K     |███▉                            | 1.3MB 686kB/s eta 0:00:15\r",
      "\u001b[K     |███▉                            | 1.3MB 686kB/s eta 0:00:15\r",
      "\u001b[K     |███▉                            | 1.3MB 686kB/s eta 0:00:15\r",
      "\u001b[K     |████                            | 1.4MB 686kB/s eta 0:00:15\r",
      "\u001b[K     |████                            | 1.4MB 686kB/s eta 0:00:15\r",
      "\u001b[K     |████                            | 1.4MB 686kB/s eta 0:00:15\r",
      "\u001b[K     |████                            | 1.4MB 686kB/s eta 0:00:15\r",
      "\u001b[K     |████                            | 1.4MB 686kB/s eta 0:00:15\r",
      "\u001b[K     |████                            | 1.4MB 686kB/s eta 0:00:15\r",
      "\u001b[K     |████                            | 1.4MB 686kB/s eta 0:00:15\r",
      "\u001b[K     |████▏                           | 1.4MB 686kB/s eta 0:00:15\r",
      "\u001b[K     |████▏                           | 1.4MB 686kB/s eta 0:00:15\r",
      "\u001b[K     |████▏                           | 1.4MB 686kB/s eta 0:00:15\r",
      "\u001b[K     |████▏                           | 1.5MB 686kB/s eta 0:00:15\r",
      "\u001b[K     |████▎                           | 1.5MB 686kB/s eta 0:00:14\r",
      "\u001b[K     |████▎                           | 1.5MB 686kB/s eta 0:00:14\r",
      "\u001b[K     |████▎                           | 1.5MB 686kB/s eta 0:00:14\r",
      "\u001b[K     |████▎                           | 1.5MB 686kB/s eta 0:00:14\r",
      "\u001b[K     |████▍                           | 1.5MB 686kB/s eta 0:00:14\r",
      "\u001b[K     |████▍                           | 1.5MB 686kB/s eta 0:00:14\r",
      "\u001b[K     |████▍                           | 1.5MB 686kB/s eta 0:00:14\r",
      "\u001b[K     |████▍                           | 1.5MB 686kB/s eta 0:00:14\r",
      "\u001b[K     |████▌                           | 1.5MB 686kB/s eta 0:00:14\r",
      "\u001b[K     |████▌                           | 1.6MB 686kB/s eta 0:00:14\r",
      "\u001b[K     |████▌                           | 1.6MB 686kB/s eta 0:00:14\r",
      "\u001b[K     |████▋                           | 1.6MB 686kB/s eta 0:00:14\r",
      "\u001b[K     |████▋                           | 1.6MB 686kB/s eta 0:00:14\r",
      "\u001b[K     |████▋                           | 1.6MB 686kB/s eta 0:00:14\r",
      "\u001b[K     |████▋                           | 1.6MB 686kB/s eta 0:00:14\r",
      "\u001b[K     |████▊                           | 1.6MB 686kB/s eta 0:00:14\r",
      "\u001b[K     |████▊                           | 1.6MB 686kB/s eta 0:00:14\r",
      "\u001b[K     |████▊                           | 1.6MB 686kB/s eta 0:00:14\r",
      "\u001b[K     |████▊                           | 1.6MB 686kB/s eta 0:00:14\r",
      "\u001b[K     |████▉                           | 1.7MB 686kB/s eta 0:00:14\r",
      "\u001b[K     |████▉                           | 1.7MB 686kB/s eta 0:00:14\r",
      "\u001b[K     |████▉                           | 1.7MB 686kB/s eta 0:00:14\r",
      "\u001b[K     |████▉                           | 1.7MB 686kB/s eta 0:00:14\r",
      "\u001b[K     |█████                           | 1.7MB 686kB/s eta 0:00:14\r",
      "\u001b[K     |█████                           | 1.7MB 686kB/s eta 0:00:14\r",
      "\u001b[K     |█████                           | 1.7MB 686kB/s eta 0:00:14\r",
      "\u001b[K     |█████                           | 1.7MB 686kB/s eta 0:00:14\r",
      "\u001b[K     |█████                           | 1.7MB 686kB/s eta 0:00:14\r",
      "\u001b[K     |█████                           | 1.8MB 686kB/s eta 0:00:14\r",
      "\u001b[K     |█████                           | 1.8MB 686kB/s eta 0:00:14"
     ]
    },
    {
     "name": "stdout",
     "output_type": "stream",
     "text": [
      "\r",
      "\u001b[K     |█████▏                          | 1.8MB 686kB/s eta 0:00:14\r",
      "\u001b[K     |█████▏                          | 1.8MB 686kB/s eta 0:00:14\r",
      "\u001b[K     |█████▏                          | 1.8MB 686kB/s eta 0:00:14\r",
      "\u001b[K     |█████▏                          | 1.8MB 686kB/s eta 0:00:14\r",
      "\u001b[K     |█████▎                          | 1.8MB 686kB/s eta 0:00:14\r",
      "\u001b[K     |█████▎                          | 1.8MB 686kB/s eta 0:00:14\r",
      "\u001b[K     |█████▎                          | 1.8MB 686kB/s eta 0:00:14\r",
      "\u001b[K     |█████▎                          | 1.8MB 686kB/s eta 0:00:14\r",
      "\u001b[K     |█████▍                          | 1.9MB 686kB/s eta 0:00:14\r",
      "\u001b[K     |█████▍                          | 1.9MB 686kB/s eta 0:00:14\r",
      "\u001b[K     |█████▍                          | 1.9MB 686kB/s eta 0:00:14\r",
      "\u001b[K     |█████▍                          | 1.9MB 686kB/s eta 0:00:14\r",
      "\u001b[K     |█████▌                          | 1.9MB 686kB/s eta 0:00:14\r",
      "\u001b[K     |█████▌                          | 1.9MB 686kB/s eta 0:00:14\r",
      "\u001b[K     |█████▌                          | 1.9MB 686kB/s eta 0:00:14\r",
      "\u001b[K     |█████▋                          | 1.9MB 686kB/s eta 0:00:14\r",
      "\u001b[K     |█████▋                          | 1.9MB 686kB/s eta 0:00:14\r",
      "\u001b[K     |█████▋                          | 1.9MB 686kB/s eta 0:00:14\r",
      "\u001b[K     |█████▋                          | 2.0MB 686kB/s eta 0:00:14\r",
      "\u001b[K     |█████▊                          | 2.0MB 686kB/s eta 0:00:14\r",
      "\u001b[K     |█████▊                          | 2.0MB 686kB/s eta 0:00:14\r",
      "\u001b[K     |█████▊                          | 2.0MB 686kB/s eta 0:00:14\r",
      "\u001b[K     |█████▊                          | 2.0MB 686kB/s eta 0:00:14\r",
      "\u001b[K     |█████▉                          | 2.0MB 686kB/s eta 0:00:14\r",
      "\u001b[K     |█████▉                          | 2.0MB 686kB/s eta 0:00:14\r",
      "\u001b[K     |█████▉                          | 2.0MB 686kB/s eta 0:00:14\r",
      "\u001b[K     |█████▉                          | 2.0MB 686kB/s eta 0:00:14\r",
      "\u001b[K     |██████                          | 2.0MB 686kB/s eta 0:00:14\r",
      "\u001b[K     |██████                          | 2.1MB 686kB/s eta 0:00:14\r",
      "\u001b[K     |██████                          | 2.1MB 686kB/s eta 0:00:14\r",
      "\u001b[K     |██████                          | 2.1MB 686kB/s eta 0:00:14\r",
      "\u001b[K     |██████                          | 2.1MB 686kB/s eta 0:00:14\r",
      "\u001b[K     |██████                          | 2.1MB 686kB/s eta 0:00:14\r",
      "\u001b[K     |██████                          | 2.1MB 686kB/s eta 0:00:14\r",
      "\u001b[K     |██████▏                         | 2.1MB 686kB/s eta 0:00:14\r",
      "\u001b[K     |██████▏                         | 2.1MB 686kB/s eta 0:00:14\r",
      "\u001b[K     |██████▏                         | 2.1MB 686kB/s eta 0:00:14\r",
      "\u001b[K     |██████▏                         | 2.2MB 686kB/s eta 0:00:13\r",
      "\u001b[K     |██████▎                         | 2.2MB 686kB/s eta 0:00:13\r",
      "\u001b[K     |██████▎                         | 2.2MB 686kB/s eta 0:00:13\r",
      "\u001b[K     |██████▎                         | 2.2MB 686kB/s eta 0:00:13\r",
      "\u001b[K     |██████▎                         | 2.2MB 686kB/s eta 0:00:13\r",
      "\u001b[K     |██████▍                         | 2.2MB 686kB/s eta 0:00:13\r",
      "\u001b[K     |██████▍                         | 2.2MB 686kB/s eta 0:00:13\r",
      "\u001b[K     |██████▍                         | 2.2MB 686kB/s eta 0:00:13\r",
      "\u001b[K     |██████▌                         | 2.2MB 686kB/s eta 0:00:13\r",
      "\u001b[K     |██████▌                         | 2.2MB 686kB/s eta 0:00:13\r",
      "\u001b[K     |██████▌                         | 2.3MB 686kB/s eta 0:00:13\r",
      "\u001b[K     |██████▌                         | 2.3MB 686kB/s eta 0:00:13\r",
      "\u001b[K     |██████▋                         | 2.3MB 686kB/s eta 0:00:13\r",
      "\u001b[K     |██████▋                         | 2.3MB 686kB/s eta 0:00:13\r",
      "\u001b[K     |██████▋                         | 2.3MB 686kB/s eta 0:00:13\r",
      "\u001b[K     |██████▋                         | 2.3MB 686kB/s eta 0:00:13\r",
      "\u001b[K     |██████▊                         | 2.3MB 686kB/s eta 0:00:13\r",
      "\u001b[K     |██████▊                         | 2.3MB 686kB/s eta 0:00:13\r",
      "\u001b[K     |██████▊                         | 2.3MB 686kB/s eta 0:00:13\r",
      "\u001b[K     |██████▊                         | 2.3MB 686kB/s eta 0:00:13\r",
      "\u001b[K     |██████▉                         | 2.4MB 686kB/s eta 0:00:13\r",
      "\u001b[K     |██████▉                         | 2.4MB 686kB/s eta 0:00:13\r",
      "\u001b[K     |██████▉                         | 2.4MB 686kB/s eta 0:00:13\r",
      "\u001b[K     |███████                         | 2.4MB 686kB/s eta 0:00:13\r",
      "\u001b[K     |███████                         | 2.4MB 686kB/s eta 0:00:13\r",
      "\u001b[K     |███████                         | 2.4MB 686kB/s eta 0:00:13\r",
      "\u001b[K     |███████                         | 2.4MB 686kB/s eta 0:00:13\r",
      "\u001b[K     |███████                         | 2.4MB 686kB/s eta 0:00:13\r",
      "\u001b[K     |███████                         | 2.4MB 686kB/s eta 0:00:13\r",
      "\u001b[K     |███████                         | 2.4MB 686kB/s eta 0:00:13\r",
      "\u001b[K     |███████                         | 2.5MB 686kB/s eta 0:00:13\r",
      "\u001b[K     |███████▏                        | 2.5MB 686kB/s eta 0:00:13\r",
      "\u001b[K     |███████▏                        | 2.5MB 686kB/s eta 0:00:13\r",
      "\u001b[K     |███████▏                        | 2.5MB 686kB/s eta 0:00:13\r",
      "\u001b[K     |███████▏                        | 2.5MB 686kB/s eta 0:00:13\r",
      "\u001b[K     |███████▎                        | 2.5MB 686kB/s eta 0:00:13\r",
      "\u001b[K     |███████▎                        | 2.5MB 686kB/s eta 0:00:13\r",
      "\u001b[K     |███████▎                        | 2.5MB 686kB/s eta 0:00:13\r",
      "\u001b[K     |███████▍                        | 2.5MB 686kB/s eta 0:00:13\r",
      "\u001b[K     |███████▍                        | 2.5MB 686kB/s eta 0:00:13\r",
      "\u001b[K     |███████▍                        | 2.6MB 686kB/s eta 0:00:13\r",
      "\u001b[K     |███████▍                        | 2.6MB 686kB/s eta 0:00:13\r",
      "\u001b[K     |███████▌                        | 2.6MB 686kB/s eta 0:00:13\r",
      "\u001b[K     |███████▌                        | 2.6MB 686kB/s eta 0:00:13\r",
      "\u001b[K     |███████▌                        | 2.6MB 686kB/s eta 0:00:13\r",
      "\u001b[K     |███████▌                        | 2.6MB 686kB/s eta 0:00:13\r",
      "\u001b[K     |███████▋                        | 2.6MB 686kB/s eta 0:00:13\r",
      "\u001b[K     |███████▋                        | 2.6MB 686kB/s eta 0:00:13\r",
      "\u001b[K     |███████▋                        | 2.6MB 686kB/s eta 0:00:13\r",
      "\u001b[K     |███████▋                        | 2.7MB 686kB/s eta 0:00:13\r",
      "\u001b[K     |███████▊                        | 2.7MB 686kB/s eta 0:00:13\r",
      "\u001b[K     |███████▊                        | 2.7MB 686kB/s eta 0:00:13\r",
      "\u001b[K     |███████▊                        | 2.7MB 686kB/s eta 0:00:13\r",
      "\u001b[K     |███████▉                        | 2.7MB 686kB/s eta 0:00:13\r",
      "\u001b[K     |███████▉                        | 2.7MB 686kB/s eta 0:00:13\r",
      "\u001b[K     |███████▉                        | 2.7MB 686kB/s eta 0:00:13\r",
      "\u001b[K     |███████▉                        | 2.7MB 686kB/s eta 0:00:13\r",
      "\u001b[K     |████████                        | 2.7MB 686kB/s eta 0:00:13\r",
      "\u001b[K     |████████                        | 2.7MB 686kB/s eta 0:00:13\r",
      "\u001b[K     |████████                        | 2.8MB 686kB/s eta 0:00:13\r",
      "\u001b[K     |████████                        | 2.8MB 686kB/s eta 0:00:13\r",
      "\u001b[K     |████████                        | 2.8MB 686kB/s eta 0:00:13\r",
      "\u001b[K     |████████                        | 2.8MB 686kB/s eta 0:00:13\r",
      "\u001b[K     |████████                        | 2.8MB 686kB/s eta 0:00:13\r",
      "\u001b[K     |████████                        | 2.8MB 686kB/s eta 0:00:13\r",
      "\u001b[K     |████████▏                       | 2.8MB 686kB/s eta 0:00:13\r",
      "\u001b[K     |████████▏                       | 2.8MB 686kB/s eta 0:00:13\r",
      "\u001b[K     |████████▏                       | 2.8MB 686kB/s eta 0:00:12\r",
      "\u001b[K     |████████▎                       | 2.8MB 686kB/s eta 0:00:12\r",
      "\u001b[K     |████████▎                       | 2.9MB 686kB/s eta 0:00:12\r",
      "\u001b[K     |████████▎                       | 2.9MB 686kB/s eta 0:00:12\r",
      "\u001b[K     |████████▎                       | 2.9MB 686kB/s eta 0:00:12\r",
      "\u001b[K     |████████▍                       | 2.9MB 686kB/s eta 0:00:12\r",
      "\u001b[K     |████████▍                       | 2.9MB 686kB/s eta 0:00:12\r",
      "\u001b[K     |████████▍                       | 2.9MB 686kB/s eta 0:00:12\r",
      "\u001b[K     |████████▍                       | 2.9MB 686kB/s eta 0:00:12\r",
      "\u001b[K     |████████▌                       | 2.9MB 686kB/s eta 0:00:12\r",
      "\u001b[K     |████████▌                       | 2.9MB 686kB/s eta 0:00:12\r",
      "\u001b[K     |████████▌                       | 2.9MB 686kB/s eta 0:00:12\r",
      "\u001b[K     |████████▌                       | 3.0MB 686kB/s eta 0:00:12\r",
      "\u001b[K     |████████▋                       | 3.0MB 686kB/s eta 0:00:12\r",
      "\u001b[K     |████████▋                       | 3.0MB 686kB/s eta 0:00:12\r",
      "\u001b[K     |████████▋                       | 3.0MB 686kB/s eta 0:00:12\r",
      "\u001b[K     |████████▊                       | 3.0MB 686kB/s eta 0:00:12\r",
      "\u001b[K     |████████▊                       | 3.0MB 686kB/s eta 0:00:12\r",
      "\u001b[K     |████████▊                       | 3.0MB 686kB/s eta 0:00:12\r",
      "\u001b[K     |████████▊                       | 3.0MB 686kB/s eta 0:00:12\r",
      "\u001b[K     |████████▉                       | 3.0MB 686kB/s eta 0:00:12\r",
      "\u001b[K     |████████▉                       | 3.1MB 686kB/s eta 0:00:12\r",
      "\u001b[K     |████████▉                       | 3.1MB 686kB/s eta 0:00:12\r",
      "\u001b[K     |████████▉                       | 3.1MB 686kB/s eta 0:00:12\r",
      "\u001b[K     |█████████                       | 3.1MB 686kB/s eta 0:00:12\r",
      "\u001b[K     |█████████                       | 3.1MB 686kB/s eta 0:00:12\r",
      "\u001b[K     |█████████                       | 3.1MB 686kB/s eta 0:00:12\r",
      "\u001b[K     |█████████                       | 3.1MB 686kB/s eta 0:00:12\r",
      "\u001b[K     |█████████                       | 3.1MB 686kB/s eta 0:00:12\r",
      "\u001b[K     |█████████                       | 3.1MB 686kB/s eta 0:00:12\r",
      "\u001b[K     |█████████                       | 3.1MB 686kB/s eta 0:00:12\r",
      "\u001b[K     |█████████▏                      | 3.2MB 686kB/s eta 0:00:12\r",
      "\u001b[K     |█████████▏                      | 3.2MB 686kB/s eta 0:00:12\r",
      "\u001b[K     |█████████▏                      | 3.2MB 686kB/s eta 0:00:12\r",
      "\u001b[K     |█████████▏                      | 3.2MB 686kB/s eta 0:00:12\r",
      "\u001b[K     |█████████▎                      | 3.2MB 686kB/s eta 0:00:12\r",
      "\u001b[K     |█████████▎                      | 3.2MB 686kB/s eta 0:00:12"
     ]
    },
    {
     "name": "stdout",
     "output_type": "stream",
     "text": [
      "\r",
      "\u001b[K     |█████████▎                      | 3.2MB 686kB/s eta 0:00:12\r",
      "\u001b[K     |█████████▎                      | 3.2MB 686kB/s eta 0:00:12\r",
      "\u001b[K     |█████████▍                      | 3.2MB 686kB/s eta 0:00:12\r",
      "\u001b[K     |█████████▍                      | 3.2MB 686kB/s eta 0:00:12\r",
      "\u001b[K     |█████████▍                      | 3.3MB 686kB/s eta 0:00:12\r",
      "\u001b[K     |█████████▍                      | 3.3MB 686kB/s eta 0:00:12\r",
      "\u001b[K     |█████████▌                      | 3.3MB 686kB/s eta 0:00:12\r",
      "\u001b[K     |█████████▌                      | 3.3MB 686kB/s eta 0:00:12\r",
      "\u001b[K     |█████████▌                      | 3.3MB 686kB/s eta 0:00:12\r",
      "\u001b[K     |█████████▋                      | 3.3MB 686kB/s eta 0:00:12\r",
      "\u001b[K     |█████████▋                      | 3.3MB 686kB/s eta 0:00:12\r",
      "\u001b[K     |█████████▋                      | 3.3MB 686kB/s eta 0:00:12\r",
      "\u001b[K     |█████████▋                      | 3.3MB 686kB/s eta 0:00:12"
     ]
    },
    {
     "name": "stdout",
     "output_type": "stream",
     "text": [
      "\r",
      "\u001b[K     |█████████▊                      | 3.3MB 686kB/s eta 0:00:12\r",
      "\u001b[K     |█████████▊                      | 3.4MB 686kB/s eta 0:00:12\r",
      "\u001b[K     |█████████▊                      | 3.4MB 686kB/s eta 0:00:12\r",
      "\u001b[K     |█████████▊                      | 3.4MB 686kB/s eta 0:00:12\r",
      "\u001b[K     |█████████▉                      | 3.4MB 686kB/s eta 0:00:12\r",
      "\u001b[K     |█████████▉                      | 3.4MB 686kB/s eta 0:00:12\r",
      "\u001b[K     |█████████▉                      | 3.4MB 686kB/s eta 0:00:12\r",
      "\u001b[K     |█████████▉                      | 3.4MB 686kB/s eta 0:00:12\r",
      "\u001b[K     |██████████                      | 3.4MB 686kB/s eta 0:00:12\r",
      "\u001b[K     |██████████                      | 3.4MB 686kB/s eta 0:00:12\r",
      "\u001b[K     |██████████                      | 3.5MB 686kB/s eta 0:00:12\r",
      "\u001b[K     |██████████                      | 3.5MB 686kB/s eta 0:00:12\r",
      "\u001b[K     |██████████                      | 3.5MB 686kB/s eta 0:00:12\r",
      "\u001b[K     |██████████                      | 3.5MB 686kB/s eta 0:00:12\r",
      "\u001b[K     |██████████                      | 3.5MB 686kB/s eta 0:00:12\r",
      "\u001b[K     |██████████▏                     | 3.5MB 686kB/s eta 0:00:12\r",
      "\u001b[K     |██████████▏                     | 3.5MB 686kB/s eta 0:00:12\r",
      "\u001b[K     |██████████▏                     | 3.5MB 686kB/s eta 0:00:12\r",
      "\u001b[K     |██████████▏                     | 3.5MB 686kB/s eta 0:00:11\r",
      "\u001b[K     |██████████▎                     | 3.5MB 686kB/s eta 0:00:11\r",
      "\u001b[K     |██████████▎                     | 3.6MB 686kB/s eta 0:00:11\r",
      "\u001b[K     |██████████▎                     | 3.6MB 686kB/s eta 0:00:11\r",
      "\u001b[K     |██████████▎                     | 3.6MB 686kB/s eta 0:00:11\r",
      "\u001b[K     |██████████▍                     | 3.6MB 686kB/s eta 0:00:11\r",
      "\u001b[K     |██████████▍                     | 3.6MB 686kB/s eta 0:00:11\r",
      "\u001b[K     |██████████▍                     | 3.6MB 686kB/s eta 0:00:11\r",
      "\u001b[K     |██████████▌                     | 3.6MB 686kB/s eta 0:00:11\r",
      "\u001b[K     |██████████▌                     | 3.6MB 686kB/s eta 0:00:11\r",
      "\u001b[K     |██████████▌                     | 3.6MB 686kB/s eta 0:00:11\r",
      "\u001b[K     |██████████▌                     | 3.6MB 686kB/s eta 0:00:11\r",
      "\u001b[K     |██████████▋                     | 3.7MB 686kB/s eta 0:00:11\r",
      "\u001b[K     |██████████▋                     | 3.7MB 686kB/s eta 0:00:11\r",
      "\u001b[K     |██████████▋                     | 3.7MB 686kB/s eta 0:00:11\r",
      "\u001b[K     |██████████▋                     | 3.7MB 686kB/s eta 0:00:11\r",
      "\u001b[K     |██████████▊                     | 3.7MB 686kB/s eta 0:00:11\r",
      "\u001b[K     |██████████▊                     | 3.7MB 686kB/s eta 0:00:11\r",
      "\u001b[K     |██████████▊                     | 3.7MB 686kB/s eta 0:00:11\r",
      "\u001b[K     |██████████▊                     | 3.7MB 686kB/s eta 0:00:11\r",
      "\u001b[K     |██████████▉                     | 3.7MB 686kB/s eta 0:00:11\r",
      "\u001b[K     |██████████▉                     | 3.7MB 686kB/s eta 0:00:11\r",
      "\u001b[K     |██████████▉                     | 3.8MB 686kB/s eta 0:00:11\r",
      "\u001b[K     |██████████▉                     | 3.8MB 686kB/s eta 0:00:11\r",
      "\u001b[K     |███████████                     | 3.8MB 686kB/s eta 0:00:11\r",
      "\u001b[K     |███████████                     | 3.8MB 686kB/s eta 0:00:11\r",
      "\u001b[K     |███████████                     | 3.8MB 686kB/s eta 0:00:11\r",
      "\u001b[K     |███████████                     | 3.8MB 686kB/s eta 0:00:11\r",
      "\u001b[K     |███████████                     | 3.8MB 686kB/s eta 0:00:11\r",
      "\u001b[K     |███████████                     | 3.8MB 686kB/s eta 0:00:11\r",
      "\u001b[K     |███████████                     | 3.8MB 686kB/s eta 0:00:11\r",
      "\u001b[K     |███████████▏                    | 3.9MB 686kB/s eta 0:00:11\r",
      "\u001b[K     |███████████▏                    | 3.9MB 686kB/s eta 0:00:11\r",
      "\u001b[K     |███████████▏                    | 3.9MB 686kB/s eta 0:00:11\r",
      "\u001b[K     |███████████▏                    | 3.9MB 686kB/s eta 0:00:11\r",
      "\u001b[K     |███████████▎                    | 3.9MB 686kB/s eta 0:00:11\r",
      "\u001b[K     |███████████▎                    | 3.9MB 686kB/s eta 0:00:11\r",
      "\u001b[K     |███████████▎                    | 3.9MB 686kB/s eta 0:00:11\r",
      "\u001b[K     |███████████▎                    | 3.9MB 686kB/s eta 0:00:11\r",
      "\u001b[K     |███████████▍                    | 3.9MB 686kB/s eta 0:00:11\r",
      "\u001b[K     |███████████▍                    | 3.9MB 686kB/s eta 0:00:11\r",
      "\u001b[K     |███████████▍                    | 4.0MB 686kB/s eta 0:00:11\r",
      "\u001b[K     |███████████▌                    | 4.0MB 686kB/s eta 0:00:11\r",
      "\u001b[K     |███████████▌                    | 4.0MB 686kB/s eta 0:00:11\r",
      "\u001b[K     |███████████▌                    | 4.0MB 686kB/s eta 0:00:11\r",
      "\u001b[K     |███████████▌                    | 4.0MB 686kB/s eta 0:00:11\r",
      "\u001b[K     |███████████▋                    | 4.0MB 686kB/s eta 0:00:11\r",
      "\u001b[K     |███████████▋                    | 4.0MB 686kB/s eta 0:00:11\r",
      "\u001b[K     |███████████▋                    | 4.0MB 686kB/s eta 0:00:11\r",
      "\u001b[K     |███████████▋                    | 4.0MB 686kB/s eta 0:00:11\r",
      "\u001b[K     |███████████▊                    | 4.0MB 686kB/s eta 0:00:11\r",
      "\u001b[K     |███████████▊                    | 4.1MB 686kB/s eta 0:00:11\r",
      "\u001b[K     |███████████▊                    | 4.1MB 686kB/s eta 0:00:11\r",
      "\u001b[K     |███████████▊                    | 4.1MB 686kB/s eta 0:00:11\r",
      "\u001b[K     |███████████▉                    | 4.1MB 686kB/s eta 0:00:11\r",
      "\u001b[K     |███████████▉                    | 4.1MB 686kB/s eta 0:00:11\r",
      "\u001b[K     |███████████▉                    | 4.1MB 686kB/s eta 0:00:11\r",
      "\u001b[K     |████████████                    | 4.1MB 686kB/s eta 0:00:11\r",
      "\u001b[K     |████████████                    | 4.1MB 686kB/s eta 0:00:11\r",
      "\u001b[K     |████████████                    | 4.1MB 686kB/s eta 0:00:11\r",
      "\u001b[K     |████████████                    | 4.1MB 686kB/s eta 0:00:11\r",
      "\u001b[K     |████████████                    | 4.2MB 686kB/s eta 0:00:11\r",
      "\u001b[K     |████████████                    | 4.2MB 686kB/s eta 0:00:11\r",
      "\u001b[K     |████████████                    | 4.2MB 686kB/s eta 0:00:11\r",
      "\u001b[K     |████████████                    | 4.2MB 686kB/s eta 0:00:11\r",
      "\u001b[K     |████████████▏                   | 4.2MB 686kB/s eta 0:00:11\r",
      "\u001b[K     |████████████▏                   | 4.2MB 686kB/s eta 0:00:11\r",
      "\u001b[K     |████████████▏                   | 4.2MB 686kB/s eta 0:00:10\r",
      "\u001b[K     |████████████▏                   | 4.2MB 686kB/s eta 0:00:10\r",
      "\u001b[K     |████████████▎                   | 4.2MB 686kB/s eta 0:00:10\r",
      "\u001b[K     |████████████▎                   | 4.2MB 686kB/s eta 0:00:10\r",
      "\u001b[K     |████████████▎                   | 4.3MB 686kB/s eta 0:00:10\r",
      "\u001b[K     |████████████▍                   | 4.3MB 686kB/s eta 0:00:10\r",
      "\u001b[K     |████████████▍                   | 4.3MB 686kB/s eta 0:00:10\r",
      "\u001b[K     |████████████▍                   | 4.3MB 686kB/s eta 0:00:10\r",
      "\u001b[K     |████████████▍                   | 4.3MB 686kB/s eta 0:00:10\r",
      "\u001b[K     |████████████▌                   | 4.3MB 686kB/s eta 0:00:10\r",
      "\u001b[K     |████████████▌                   | 4.3MB 686kB/s eta 0:00:10\r",
      "\u001b[K     |████████████▌                   | 4.3MB 686kB/s eta 0:00:10\r",
      "\u001b[K     |████████████▌                   | 4.3MB 686kB/s eta 0:00:10\r",
      "\u001b[K     |████████████▋                   | 4.4MB 686kB/s eta 0:00:10\r",
      "\u001b[K     |████████████▋                   | 4.4MB 686kB/s eta 0:00:10\r",
      "\u001b[K     |████████████▋                   | 4.4MB 686kB/s eta 0:00:10\r",
      "\u001b[K     |████████████▋                   | 4.4MB 686kB/s eta 0:00:10\r",
      "\u001b[K     |████████████▊                   | 4.4MB 686kB/s eta 0:00:10\r",
      "\u001b[K     |████████████▊                   | 4.4MB 686kB/s eta 0:00:10\r",
      "\u001b[K     |████████████▊                   | 4.4MB 686kB/s eta 0:00:10\r",
      "\u001b[K     |████████████▉                   | 4.4MB 686kB/s eta 0:00:10\r",
      "\u001b[K     |████████████▉                   | 4.4MB 686kB/s eta 0:00:10\r",
      "\u001b[K     |████████████▉                   | 4.4MB 686kB/s eta 0:00:10\r",
      "\u001b[K     |████████████▉                   | 4.5MB 686kB/s eta 0:00:10\r",
      "\u001b[K     |█████████████                   | 4.5MB 686kB/s eta 0:00:10\r",
      "\u001b[K     |█████████████                   | 4.5MB 686kB/s eta 0:00:10\r",
      "\u001b[K     |█████████████                   | 4.5MB 686kB/s eta 0:00:10\r",
      "\u001b[K     |█████████████                   | 4.5MB 686kB/s eta 0:00:10\r",
      "\u001b[K     |█████████████                   | 4.5MB 686kB/s eta 0:00:10\r",
      "\u001b[K     |█████████████                   | 4.5MB 686kB/s eta 0:00:10\r",
      "\u001b[K     |█████████████                   | 4.5MB 686kB/s eta 0:00:10\r",
      "\u001b[K     |█████████████                   | 4.5MB 686kB/s eta 0:00:10\r",
      "\u001b[K     |█████████████▏                  | 4.5MB 686kB/s eta 0:00:10\r",
      "\u001b[K     |█████████████▏                  | 4.6MB 686kB/s eta 0:00:10\r",
      "\u001b[K     |█████████████▏                  | 4.6MB 686kB/s eta 0:00:10\r",
      "\u001b[K     |█████████████▎                  | 4.6MB 686kB/s eta 0:00:10\r",
      "\u001b[K     |█████████████▎                  | 4.6MB 686kB/s eta 0:00:10\r",
      "\u001b[K     |█████████████▎                  | 4.6MB 686kB/s eta 0:00:10\r",
      "\u001b[K     |█████████████▎                  | 4.6MB 686kB/s eta 0:00:10\r",
      "\u001b[K     |█████████████▍                  | 4.6MB 686kB/s eta 0:00:10\r",
      "\u001b[K     |█████████████▍                  | 4.6MB 686kB/s eta 0:00:10\r",
      "\u001b[K     |█████████████▍                  | 4.6MB 686kB/s eta 0:00:10\r",
      "\u001b[K     |█████████████▍                  | 4.6MB 686kB/s eta 0:00:10\r",
      "\u001b[K     |█████████████▌                  | 4.7MB 686kB/s eta 0:00:10\r",
      "\u001b[K     |█████████████▌                  | 4.7MB 686kB/s eta 0:00:10\r",
      "\u001b[K     |█████████████▌                  | 4.7MB 686kB/s eta 0:00:10\r",
      "\u001b[K     |█████████████▌                  | 4.7MB 686kB/s eta 0:00:10\r",
      "\u001b[K     |█████████████▋                  | 4.7MB 686kB/s eta 0:00:10\r",
      "\u001b[K     |█████████████▋                  | 4.7MB 686kB/s eta 0:00:10\r",
      "\u001b[K     |█████████████▋                  | 4.7MB 686kB/s eta 0:00:10\r",
      "\u001b[K     |█████████████▊                  | 4.7MB 686kB/s eta 0:00:10\r",
      "\u001b[K     |█████████████▊                  | 4.7MB 686kB/s eta 0:00:10\r",
      "\u001b[K     |█████████████▊                  | 4.8MB 686kB/s eta 0:00:10\r",
      "\u001b[K     |█████████████▊                  | 4.8MB 686kB/s eta 0:00:10\r",
      "\u001b[K     |█████████████▉                  | 4.8MB 686kB/s eta 0:00:10"
     ]
    },
    {
     "name": "stdout",
     "output_type": "stream",
     "text": [
      "\r",
      "\u001b[K     |█████████████▉                  | 4.8MB 686kB/s eta 0:00:10\r",
      "\u001b[K     |█████████████▉                  | 4.8MB 686kB/s eta 0:00:10\r",
      "\u001b[K     |█████████████▉                  | 4.8MB 686kB/s eta 0:00:10\r",
      "\u001b[K     |██████████████                  | 4.8MB 686kB/s eta 0:00:10\r",
      "\u001b[K     |██████████████                  | 4.8MB 686kB/s eta 0:00:10\r",
      "\u001b[K     |██████████████                  | 4.8MB 686kB/s eta 0:00:10\r",
      "\u001b[K     |██████████████                  | 4.8MB 686kB/s eta 0:00:10\r",
      "\u001b[K     |██████████████                  | 4.9MB 686kB/s eta 0:00:10\r",
      "\u001b[K     |██████████████                  | 4.9MB 686kB/s eta 0:00:10\r",
      "\u001b[K     |██████████████                  | 4.9MB 686kB/s eta 0:00:10\r",
      "\u001b[K     |██████████████▏                 | 4.9MB 686kB/s eta 0:00:10\r",
      "\u001b[K     |██████████████▏                 | 4.9MB 686kB/s eta 0:00:10\r",
      "\u001b[K     |██████████████▏                 | 4.9MB 686kB/s eta 0:00:09\r",
      "\u001b[K     |██████████████▏                 | 4.9MB 686kB/s eta 0:00:09\r",
      "\u001b[K     |██████████████▎                 | 4.9MB 686kB/s eta 0:00:09\r",
      "\u001b[K     |██████████████▎                 | 4.9MB 686kB/s eta 0:00:09\r",
      "\u001b[K     |██████████████▎                 | 4.9MB 686kB/s eta 0:00:09\r",
      "\u001b[K     |██████████████▎                 | 5.0MB 686kB/s eta 0:00:09\r",
      "\u001b[K     |██████████████▍                 | 5.0MB 686kB/s eta 0:00:09\r",
      "\u001b[K     |██████████████▍                 | 5.0MB 686kB/s eta 0:00:09\r",
      "\u001b[K     |██████████████▍                 | 5.0MB 686kB/s eta 0:00:09\r",
      "\u001b[K     |██████████████▍                 | 5.0MB 686kB/s eta 0:00:09\r",
      "\u001b[K     |██████████████▌                 | 5.0MB 686kB/s eta 0:00:09\r",
      "\u001b[K     |██████████████▌                 | 5.0MB 686kB/s eta 0:00:09\r",
      "\u001b[K     |██████████████▌                 | 5.0MB 686kB/s eta 0:00:09\r",
      "\u001b[K     |██████████████▋                 | 5.0MB 686kB/s eta 0:00:09\r",
      "\u001b[K     |██████████████▋                 | 5.0MB 686kB/s eta 0:00:09\r",
      "\u001b[K     |██████████████▋                 | 5.1MB 686kB/s eta 0:00:09\r",
      "\u001b[K     |██████████████▋                 | 5.1MB 686kB/s eta 0:00:09\r",
      "\u001b[K     |██████████████▊                 | 5.1MB 686kB/s eta 0:00:09\r",
      "\u001b[K     |██████████████▊                 | 5.1MB 686kB/s eta 0:00:09\r",
      "\u001b[K     |██████████████▊                 | 5.1MB 686kB/s eta 0:00:09\r",
      "\u001b[K     |██████████████▊                 | 5.1MB 686kB/s eta 0:00:09\r",
      "\u001b[K     |██████████████▉                 | 5.1MB 686kB/s eta 0:00:09\r",
      "\u001b[K     |██████████████▉                 | 5.1MB 686kB/s eta 0:00:09\r",
      "\u001b[K     |██████████████▉                 | 5.1MB 686kB/s eta 0:00:09\r",
      "\u001b[K     |██████████████▉                 | 5.2MB 686kB/s eta 0:00:09\r",
      "\u001b[K     |███████████████                 | 5.2MB 686kB/s eta 0:00:09\r",
      "\u001b[K     |███████████████                 | 5.2MB 686kB/s eta 0:00:09\r",
      "\u001b[K     |███████████████                 | 5.2MB 686kB/s eta 0:00:09\r",
      "\u001b[K     |███████████████                 | 5.2MB 686kB/s eta 0:00:09\r",
      "\u001b[K     |███████████████                 | 5.2MB 686kB/s eta 0:00:09\r",
      "\u001b[K     |███████████████                 | 5.2MB 686kB/s eta 0:00:09\r",
      "\u001b[K     |███████████████                 | 5.2MB 686kB/s eta 0:00:09\r",
      "\u001b[K     |███████████████▏                | 5.2MB 686kB/s eta 0:00:09\r",
      "\u001b[K     |███████████████▏                | 5.2MB 686kB/s eta 0:00:09\r",
      "\u001b[K     |███████████████▏                | 5.3MB 686kB/s eta 0:00:09\r",
      "\u001b[K     |███████████████▏                | 5.3MB 686kB/s eta 0:00:09\r",
      "\u001b[K     |███████████████▎                | 5.3MB 686kB/s eta 0:00:09\r",
      "\u001b[K     |███████████████▎                | 5.3MB 686kB/s eta 0:00:09\r",
      "\u001b[K     |███████████████▎                | 5.3MB 686kB/s eta 0:00:09\r",
      "\u001b[K     |███████████████▎                | 5.3MB 686kB/s eta 0:00:09\r",
      "\u001b[K     |███████████████▍                | 5.3MB 686kB/s eta 0:00:09\r",
      "\u001b[K     |███████████████▍                | 5.3MB 686kB/s eta 0:00:09\r",
      "\u001b[K     |███████████████▍                | 5.3MB 686kB/s eta 0:00:09\r",
      "\u001b[K     |███████████████▌                | 5.3MB 686kB/s eta 0:00:09\r",
      "\u001b[K     |███████████████▌                | 5.4MB 686kB/s eta 0:00:09\r",
      "\u001b[K     |███████████████▌                | 5.4MB 686kB/s eta 0:00:09\r",
      "\u001b[K     |███████████████▌                | 5.4MB 686kB/s eta 0:00:09\r",
      "\u001b[K     |███████████████▋                | 5.4MB 686kB/s eta 0:00:09\r",
      "\u001b[K     |███████████████▋                | 5.4MB 686kB/s eta 0:00:09\r",
      "\u001b[K     |███████████████▋                | 5.4MB 686kB/s eta 0:00:09\r",
      "\u001b[K     |███████████████▋                | 5.4MB 686kB/s eta 0:00:09\r",
      "\u001b[K     |███████████████▊                | 5.4MB 686kB/s eta 0:00:09\r",
      "\u001b[K     |███████████████▊                | 5.4MB 686kB/s eta 0:00:09\r",
      "\u001b[K     |███████████████▊                | 5.4MB 686kB/s eta 0:00:09\r",
      "\u001b[K     |███████████████▊                | 5.5MB 686kB/s eta 0:00:09\r",
      "\u001b[K     |███████████████▉                | 5.5MB 686kB/s eta 0:00:09\r",
      "\u001b[K     |███████████████▉                | 5.5MB 686kB/s eta 0:00:09\r",
      "\u001b[K     |███████████████▉                | 5.5MB 686kB/s eta 0:00:09\r",
      "\u001b[K     |████████████████                | 5.5MB 686kB/s eta 0:00:09\r",
      "\u001b[K     |████████████████                | 5.5MB 686kB/s eta 0:00:09\r",
      "\u001b[K     |████████████████                | 5.5MB 686kB/s eta 0:00:09\r",
      "\u001b[K     |████████████████                | 5.5MB 686kB/s eta 0:00:09\r",
      "\u001b[K     |████████████████                | 5.5MB 686kB/s eta 0:00:09\r",
      "\u001b[K     |████████████████                | 5.6MB 686kB/s eta 0:00:09\r",
      "\u001b[K     |████████████████                | 5.6MB 686kB/s eta 0:00:09\r",
      "\u001b[K     |████████████████                | 5.6MB 686kB/s eta 0:00:09\r",
      "\u001b[K     |████████████████▏               | 5.6MB 686kB/s eta 0:00:09\r",
      "\u001b[K     |████████████████▏               | 5.6MB 686kB/s eta 0:00:08\r",
      "\u001b[K     |████████████████▏               | 5.6MB 686kB/s eta 0:00:08\r",
      "\u001b[K     |████████████████▏               | 5.6MB 686kB/s eta 0:00:08\r",
      "\u001b[K     |████████████████▎               | 5.6MB 686kB/s eta 0:00:08\r",
      "\u001b[K     |████████████████▎               | 5.6MB 686kB/s eta 0:00:08\r",
      "\u001b[K     |████████████████▎               | 5.6MB 686kB/s eta 0:00:08\r",
      "\u001b[K     |████████████████▎               | 5.7MB 686kB/s eta 0:00:08\r",
      "\u001b[K     |████████████████▍               | 5.7MB 686kB/s eta 0:00:08\r",
      "\u001b[K     |████████████████▍               | 5.7MB 686kB/s eta 0:00:08\r",
      "\u001b[K     |████████████████▍               | 5.7MB 686kB/s eta 0:00:08\r",
      "\u001b[K     |████████████████▌               | 5.7MB 686kB/s eta 0:00:08\r",
      "\u001b[K     |████████████████▌               | 5.7MB 686kB/s eta 0:00:08\r",
      "\u001b[K     |████████████████▌               | 5.7MB 686kB/s eta 0:00:08\r",
      "\u001b[K     |████████████████▌               | 5.7MB 686kB/s eta 0:00:08\r",
      "\u001b[K     |████████████████▋               | 5.7MB 686kB/s eta 0:00:08\r",
      "\u001b[K     |████████████████▋               | 5.7MB 686kB/s eta 0:00:08\r",
      "\u001b[K     |████████████████▋               | 5.8MB 686kB/s eta 0:00:08\r",
      "\u001b[K     |████████████████▋               | 5.8MB 686kB/s eta 0:00:08\r",
      "\u001b[K     |████████████████▊               | 5.8MB 686kB/s eta 0:00:08\r",
      "\u001b[K     |████████████████▊               | 5.8MB 686kB/s eta 0:00:08\r",
      "\u001b[K     |████████████████▊               | 5.8MB 686kB/s eta 0:00:08\r",
      "\u001b[K     |████████████████▊               | 5.8MB 686kB/s eta 0:00:08\r",
      "\u001b[K     |████████████████▉               | 5.8MB 686kB/s eta 0:00:08\r",
      "\u001b[K     |████████████████▉               | 5.8MB 686kB/s eta 0:00:08\r",
      "\u001b[K     |████████████████▉               | 5.8MB 686kB/s eta 0:00:08\r",
      "\u001b[K     |█████████████████               | 5.8MB 686kB/s eta 0:00:08\r",
      "\u001b[K     |█████████████████               | 5.9MB 686kB/s eta 0:00:08\r",
      "\u001b[K     |█████████████████               | 5.9MB 686kB/s eta 0:00:08\r",
      "\u001b[K     |█████████████████               | 5.9MB 686kB/s eta 0:00:08\r",
      "\u001b[K     |█████████████████               | 5.9MB 686kB/s eta 0:00:08\r",
      "\u001b[K     |█████████████████               | 5.9MB 686kB/s eta 0:00:08\r",
      "\u001b[K     |█████████████████               | 5.9MB 686kB/s eta 0:00:08\r",
      "\u001b[K     |█████████████████               | 5.9MB 686kB/s eta 0:00:08\r",
      "\u001b[K     |█████████████████▏              | 5.9MB 686kB/s eta 0:00:08\r",
      "\u001b[K     |█████████████████▏              | 5.9MB 686kB/s eta 0:00:08\r",
      "\u001b[K     |█████████████████▏              | 5.9MB 686kB/s eta 0:00:08\r",
      "\u001b[K     |█████████████████▏              | 6.0MB 686kB/s eta 0:00:08\r",
      "\u001b[K     |█████████████████▎              | 6.0MB 686kB/s eta 0:00:08\r",
      "\u001b[K     |█████████████████▎              | 6.0MB 686kB/s eta 0:00:08\r",
      "\u001b[K     |█████████████████▎              | 6.0MB 686kB/s eta 0:00:08\r",
      "\u001b[K     |█████████████████▍              | 6.0MB 686kB/s eta 0:00:08\r",
      "\u001b[K     |█████████████████▍              | 6.0MB 686kB/s eta 0:00:08\r",
      "\u001b[K     |█████████████████▍              | 6.0MB 686kB/s eta 0:00:08\r",
      "\u001b[K     |█████████████████▍              | 6.0MB 686kB/s eta 0:00:08\r",
      "\u001b[K     |█████████████████▌              | 6.0MB 686kB/s eta 0:00:08\r",
      "\u001b[K     |█████████████████▌              | 6.1MB 686kB/s eta 0:00:08\r",
      "\u001b[K     |█████████████████▌              | 6.1MB 686kB/s eta 0:00:08\r",
      "\u001b[K     |█████████████████▌              | 6.1MB 686kB/s eta 0:00:08\r",
      "\u001b[K     |█████████████████▋              | 6.1MB 686kB/s eta 0:00:08\r",
      "\u001b[K     |█████████████████▋              | 6.1MB 686kB/s eta 0:00:08\r",
      "\u001b[K     |█████████████████▋              | 6.1MB 686kB/s eta 0:00:08\r",
      "\u001b[K     |█████████████████▋              | 6.1MB 686kB/s eta 0:00:08\r",
      "\u001b[K     |█████████████████▊              | 6.1MB 686kB/s eta 0:00:08\r",
      "\u001b[K     |█████████████████▊              | 6.1MB 686kB/s eta 0:00:08\r",
      "\u001b[K     |█████████████████▊              | 6.1MB 686kB/s eta 0:00:08\r",
      "\u001b[K     |█████████████████▉              | 6.2MB 686kB/s eta 0:00:08\r",
      "\u001b[K     |█████████████████▉              | 6.2MB 686kB/s eta 0:00:08\r",
      "\u001b[K     |█████████████████▉              | 6.2MB 686kB/s eta 0:00:08\r",
      "\u001b[K     |█████████████████▉              | 6.2MB 686kB/s eta 0:00:08\r",
      "\u001b[K     |██████████████████              | 6.2MB 686kB/s eta 0:00:08\r",
      "\u001b[K     |██████████████████              | 6.2MB 686kB/s eta 0:00:08\r",
      "\u001b[K     |██████████████████              | 6.2MB 686kB/s eta 0:00:08\r",
      "\u001b[K     |██████████████████              | 6.2MB 686kB/s eta 0:00:08\r",
      "\u001b[K     |██████████████████              | 6.2MB 686kB/s eta 0:00:08\r",
      "\u001b[K     |██████████████████              | 6.2MB 686kB/s eta 0:00:08\r",
      "\u001b[K     |██████████████████              | 6.3MB 686kB/s eta 0:00:08\r",
      "\u001b[K     |██████████████████              | 6.3MB 686kB/s eta 0:00:08\r",
      "\u001b[K     |██████████████████▏             | 6.3MB 686kB/s eta 0:00:07\r",
      "\u001b[K     |██████████████████▏             | 6.3MB 686kB/s eta 0:00:07\r",
      "\u001b[K     |██████████████████▏             | 6.3MB 686kB/s eta 0:00:07\r",
      "\u001b[K     |██████████████████▎             | 6.3MB 686kB/s eta 0:00:07\r",
      "\u001b[K     |██████████████████▎             | 6.3MB 686kB/s eta 0:00:07\r",
      "\u001b[K     |██████████████████▎             | 6.3MB 686kB/s eta 0:00:07\r",
      "\u001b[K     |██████████████████▎             | 6.3MB 686kB/s eta 0:00:07\r",
      "\u001b[K     |██████████████████▍             | 6.3MB 686kB/s eta 0:00:07"
     ]
    },
    {
     "name": "stdout",
     "output_type": "stream",
     "text": [
      "\r",
      "\u001b[K     |██████████████████▍             | 6.4MB 686kB/s eta 0:00:07\r",
      "\u001b[K     |██████████████████▍             | 6.4MB 686kB/s eta 0:00:07\r",
      "\u001b[K     |██████████████████▍             | 6.4MB 686kB/s eta 0:00:07\r",
      "\u001b[K     |██████████████████▌             | 6.4MB 686kB/s eta 0:00:07\r",
      "\u001b[K     |██████████████████▌             | 6.4MB 686kB/s eta 0:00:07\r",
      "\u001b[K     |██████████████████▌             | 6.4MB 686kB/s eta 0:00:07\r",
      "\u001b[K     |██████████████████▌             | 6.4MB 686kB/s eta 0:00:07\r",
      "\u001b[K     |██████████████████▋             | 6.4MB 686kB/s eta 0:00:07\r",
      "\u001b[K     |██████████████████▋             | 6.4MB 686kB/s eta 0:00:07\r",
      "\u001b[K     |██████████████████▋             | 6.5MB 686kB/s eta 0:00:07\r",
      "\u001b[K     |██████████████████▊             | 6.5MB 686kB/s eta 0:00:07\r",
      "\u001b[K     |██████████████████▊             | 6.5MB 686kB/s eta 0:00:07\r",
      "\u001b[K     |██████████████████▊             | 6.5MB 686kB/s eta 0:00:07"
     ]
    },
    {
     "name": "stdout",
     "output_type": "stream",
     "text": [
      "\r",
      "\u001b[K     |██████████████████▊             | 6.5MB 686kB/s eta 0:00:07\r",
      "\u001b[K     |██████████████████▉             | 6.5MB 686kB/s eta 0:00:07\r",
      "\u001b[K     |██████████████████▉             | 6.5MB 686kB/s eta 0:00:07\r",
      "\u001b[K     |██████████████████▉             | 6.5MB 686kB/s eta 0:00:07\r",
      "\u001b[K     |██████████████████▉             | 6.5MB 686kB/s eta 0:00:07\r",
      "\u001b[K     |███████████████████             | 6.5MB 686kB/s eta 0:00:07\r",
      "\u001b[K     |███████████████████             | 6.6MB 686kB/s eta 0:00:07\r",
      "\u001b[K     |███████████████████             | 6.6MB 686kB/s eta 0:00:07\r",
      "\u001b[K     |███████████████████             | 6.6MB 686kB/s eta 0:00:07\r",
      "\u001b[K     |███████████████████             | 6.6MB 686kB/s eta 0:00:07\r",
      "\u001b[K     |███████████████████             | 6.6MB 686kB/s eta 0:00:07\r",
      "\u001b[K     |███████████████████             | 6.6MB 686kB/s eta 0:00:07\r",
      "\u001b[K     |███████████████████▏            | 6.6MB 686kB/s eta 0:00:07\r",
      "\u001b[K     |███████████████████▏            | 6.6MB 686kB/s eta 0:00:07\r",
      "\u001b[K     |███████████████████▏            | 6.6MB 686kB/s eta 0:00:07\r",
      "\u001b[K     |███████████████████▏            | 6.6MB 686kB/s eta 0:00:07\r",
      "\u001b[K     |███████████████████▎            | 6.7MB 686kB/s eta 0:00:07\r",
      "\u001b[K     |███████████████████▎            | 6.7MB 686kB/s eta 0:00:07\r",
      "\u001b[K     |███████████████████▎            | 6.7MB 686kB/s eta 0:00:07\r",
      "\u001b[K     |███████████████████▎            | 6.7MB 686kB/s eta 0:00:07\r",
      "\u001b[K     |███████████████████▍            | 6.7MB 686kB/s eta 0:00:07\r",
      "\u001b[K     |███████████████████▍            | 6.7MB 686kB/s eta 0:00:07\r",
      "\u001b[K     |███████████████████▍            | 6.7MB 686kB/s eta 0:00:07\r",
      "\u001b[K     |███████████████████▍            | 6.7MB 686kB/s eta 0:00:07\r",
      "\u001b[K     |███████████████████▌            | 6.7MB 686kB/s eta 0:00:07\r",
      "\u001b[K     |███████████████████▌            | 6.7MB 686kB/s eta 0:00:07\r",
      "\u001b[K     |███████████████████▌            | 6.8MB 686kB/s eta 0:00:07\r",
      "\u001b[K     |███████████████████▋            | 6.8MB 686kB/s eta 0:00:07\r",
      "\u001b[K     |███████████████████▋            | 6.8MB 686kB/s eta 0:00:07\r",
      "\u001b[K     |███████████████████▋            | 6.8MB 686kB/s eta 0:00:07\r",
      "\u001b[K     |███████████████████▋            | 6.8MB 686kB/s eta 0:00:07\r",
      "\u001b[K     |███████████████████▊            | 6.8MB 686kB/s eta 0:00:07\r",
      "\u001b[K     |███████████████████▊            | 6.8MB 686kB/s eta 0:00:07\r",
      "\u001b[K     |███████████████████▊            | 6.8MB 686kB/s eta 0:00:07\r",
      "\u001b[K     |███████████████████▊            | 6.8MB 686kB/s eta 0:00:07\r",
      "\u001b[K     |███████████████████▉            | 6.9MB 686kB/s eta 0:00:07\r",
      "\u001b[K     |███████████████████▉            | 6.9MB 686kB/s eta 0:00:07\r",
      "\u001b[K     |███████████████████▉            | 6.9MB 686kB/s eta 0:00:07\r",
      "\u001b[K     |███████████████████▉            | 6.9MB 686kB/s eta 0:00:07\r",
      "\u001b[K     |████████████████████            | 6.9MB 686kB/s eta 0:00:07\r",
      "\u001b[K     |████████████████████            | 6.9MB 686kB/s eta 0:00:07\r",
      "\u001b[K     |████████████████████            | 6.9MB 686kB/s eta 0:00:07\r",
      "\u001b[K     |████████████████████            | 6.9MB 686kB/s eta 0:00:07\r",
      "\u001b[K     |████████████████████            | 6.9MB 686kB/s eta 0:00:07\r",
      "\u001b[K     |████████████████████            | 6.9MB 686kB/s eta 0:00:07\r",
      "\u001b[K     |████████████████████            | 7.0MB 686kB/s eta 0:00:07\r",
      "\u001b[K     |████████████████████▏           | 7.0MB 686kB/s eta 0:00:06\r",
      "\u001b[K     |████████████████████▏           | 7.0MB 686kB/s eta 0:00:06\r",
      "\u001b[K     |████████████████████▏           | 7.0MB 686kB/s eta 0:00:06\r",
      "\u001b[K     |████████████████████▏           | 7.0MB 686kB/s eta 0:00:06\r",
      "\u001b[K     |████████████████████▎           | 7.0MB 686kB/s eta 0:00:06\r",
      "\u001b[K     |████████████████████▎           | 7.0MB 686kB/s eta 0:00:06\r",
      "\u001b[K     |████████████████████▎           | 7.0MB 686kB/s eta 0:00:06\r",
      "\u001b[K     |████████████████████▎           | 7.0MB 686kB/s eta 0:00:06\r",
      "\u001b[K     |████████████████████▍           | 7.0MB 686kB/s eta 0:00:06\r",
      "\u001b[K     |████████████████████▍           | 7.1MB 686kB/s eta 0:00:06\r",
      "\u001b[K     |████████████████████▍           | 7.1MB 686kB/s eta 0:00:06\r",
      "\u001b[K     |████████████████████▌           | 7.1MB 686kB/s eta 0:00:06\r",
      "\u001b[K     |████████████████████▌           | 7.1MB 686kB/s eta 0:00:06\r",
      "\u001b[K     |████████████████████▌           | 7.1MB 686kB/s eta 0:00:06\r",
      "\u001b[K     |████████████████████▌           | 7.1MB 686kB/s eta 0:00:06\r",
      "\u001b[K     |████████████████████▋           | 7.1MB 686kB/s eta 0:00:06\r",
      "\u001b[K     |████████████████████▋           | 7.1MB 686kB/s eta 0:00:06\r",
      "\u001b[K     |████████████████████▋           | 7.1MB 686kB/s eta 0:00:06\r",
      "\u001b[K     |████████████████████▋           | 7.1MB 686kB/s eta 0:00:06\r",
      "\u001b[K     |████████████████████▊           | 7.2MB 686kB/s eta 0:00:06\r",
      "\u001b[K     |████████████████████▊           | 7.2MB 686kB/s eta 0:00:06\r",
      "\u001b[K     |████████████████████▊           | 7.2MB 686kB/s eta 0:00:06\r",
      "\u001b[K     |████████████████████▊           | 7.2MB 686kB/s eta 0:00:06\r",
      "\u001b[K     |████████████████████▉           | 7.2MB 686kB/s eta 0:00:06\r",
      "\u001b[K     |████████████████████▉           | 7.2MB 686kB/s eta 0:00:06\r",
      "\u001b[K     |████████████████████▉           | 7.2MB 686kB/s eta 0:00:06\r",
      "\u001b[K     |█████████████████████           | 7.2MB 686kB/s eta 0:00:06\r",
      "\u001b[K     |█████████████████████           | 7.2MB 686kB/s eta 0:00:06\r",
      "\u001b[K     |█████████████████████           | 7.2MB 686kB/s eta 0:00:06\r",
      "\u001b[K     |█████████████████████           | 7.3MB 686kB/s eta 0:00:06\r",
      "\u001b[K     |█████████████████████           | 7.3MB 686kB/s eta 0:00:06\r",
      "\u001b[K     |█████████████████████           | 7.3MB 686kB/s eta 0:00:06\r",
      "\u001b[K     |█████████████████████           | 7.3MB 686kB/s eta 0:00:06\r",
      "\u001b[K     |█████████████████████           | 7.3MB 686kB/s eta 0:00:06\r",
      "\u001b[K     |█████████████████████▏          | 7.3MB 686kB/s eta 0:00:06\r",
      "\u001b[K     |█████████████████████▏          | 7.3MB 686kB/s eta 0:00:06\r",
      "\u001b[K     |█████████████████████▏          | 7.3MB 686kB/s eta 0:00:06\r",
      "\u001b[K     |█████████████████████▏          | 7.3MB 686kB/s eta 0:00:06\r",
      "\u001b[K     |█████████████████████▎          | 7.4MB 686kB/s eta 0:00:06\r",
      "\u001b[K     |█████████████████████▎          | 7.4MB 686kB/s eta 0:00:06\r",
      "\u001b[K     |█████████████████████▎          | 7.4MB 686kB/s eta 0:00:06\r",
      "\u001b[K     |█████████████████████▍          | 7.4MB 686kB/s eta 0:00:06\r",
      "\u001b[K     |█████████████████████▍          | 7.4MB 686kB/s eta 0:00:06\r",
      "\u001b[K     |█████████████████████▍          | 7.4MB 686kB/s eta 0:00:06\r",
      "\u001b[K     |█████████████████████▍          | 7.4MB 686kB/s eta 0:00:06\r",
      "\u001b[K     |█████████████████████▌          | 7.4MB 686kB/s eta 0:00:06\r",
      "\u001b[K     |█████████████████████▌          | 7.4MB 686kB/s eta 0:00:06\r",
      "\u001b[K     |█████████████████████▌          | 7.4MB 686kB/s eta 0:00:06\r",
      "\u001b[K     |█████████████████████▌          | 7.5MB 686kB/s eta 0:00:06\r",
      "\u001b[K     |█████████████████████▋          | 7.5MB 686kB/s eta 0:00:06\r",
      "\u001b[K     |█████████████████████▋          | 7.5MB 686kB/s eta 0:00:06\r",
      "\u001b[K     |█████████████████████▋          | 7.5MB 686kB/s eta 0:00:06\r",
      "\u001b[K     |█████████████████████▋          | 7.5MB 686kB/s eta 0:00:06\r",
      "\u001b[K     |█████████████████████▊          | 7.5MB 686kB/s eta 0:00:06\r",
      "\u001b[K     |█████████████████████▊          | 7.5MB 686kB/s eta 0:00:06\r",
      "\u001b[K     |█████████████████████▊          | 7.5MB 686kB/s eta 0:00:06\r",
      "\u001b[K     |█████████████████████▊          | 7.5MB 686kB/s eta 0:00:06\r",
      "\u001b[K     |█████████████████████▉          | 7.5MB 686kB/s eta 0:00:06\r",
      "\u001b[K     |█████████████████████▉          | 7.6MB 686kB/s eta 0:00:06\r",
      "\u001b[K     |█████████████████████▉          | 7.6MB 686kB/s eta 0:00:06\r",
      "\u001b[K     |██████████████████████          | 7.6MB 686kB/s eta 0:00:06\r",
      "\u001b[K     |██████████████████████          | 7.6MB 686kB/s eta 0:00:06\r",
      "\u001b[K     |██████████████████████          | 7.6MB 686kB/s eta 0:00:06\r",
      "\u001b[K     |██████████████████████          | 7.6MB 686kB/s eta 0:00:06\r",
      "\u001b[K     |██████████████████████          | 7.6MB 686kB/s eta 0:00:06\r",
      "\u001b[K     |██████████████████████          | 7.6MB 686kB/s eta 0:00:06\r",
      "\u001b[K     |██████████████████████          | 7.6MB 686kB/s eta 0:00:06\r",
      "\u001b[K     |██████████████████████          | 7.6MB 686kB/s eta 0:00:05\r",
      "\u001b[K     |██████████████████████▏         | 7.7MB 686kB/s eta 0:00:05\r",
      "\u001b[K     |██████████████████████▏         | 7.7MB 686kB/s eta 0:00:05\r",
      "\u001b[K     |██████████████████████▏         | 7.7MB 686kB/s eta 0:00:05\r",
      "\u001b[K     |██████████████████████▏         | 7.7MB 686kB/s eta 0:00:05\r",
      "\u001b[K     |██████████████████████▎         | 7.7MB 686kB/s eta 0:00:05\r",
      "\u001b[K     |██████████████████████▎         | 7.7MB 686kB/s eta 0:00:05\r",
      "\u001b[K     |██████████████████████▎         | 7.7MB 686kB/s eta 0:00:05\r",
      "\u001b[K     |██████████████████████▍         | 7.7MB 686kB/s eta 0:00:05\r",
      "\u001b[K     |██████████████████████▍         | 7.7MB 686kB/s eta 0:00:05\r",
      "\u001b[K     |██████████████████████▍         | 7.8MB 686kB/s eta 0:00:05\r",
      "\u001b[K     |██████████████████████▍         | 7.8MB 686kB/s eta 0:00:05\r",
      "\u001b[K     |██████████████████████▌         | 7.8MB 686kB/s eta 0:00:05\r",
      "\u001b[K     |██████████████████████▌         | 7.8MB 686kB/s eta 0:00:05\r",
      "\u001b[K     |██████████████████████▌         | 7.8MB 686kB/s eta 0:00:05\r",
      "\u001b[K     |██████████████████████▌         | 7.8MB 686kB/s eta 0:00:05\r",
      "\u001b[K     |██████████████████████▋         | 7.8MB 686kB/s eta 0:00:05\r",
      "\u001b[K     |██████████████████████▋         | 7.8MB 686kB/s eta 0:00:05\r",
      "\u001b[K     |██████████████████████▋         | 7.8MB 686kB/s eta 0:00:05\r",
      "\u001b[K     |██████████████████████▋         | 7.8MB 686kB/s eta 0:00:05\r",
      "\u001b[K     |██████████████████████▊         | 7.9MB 686kB/s eta 0:00:05\r",
      "\u001b[K     |██████████████████████▊         | 7.9MB 686kB/s eta 0:00:05\r",
      "\u001b[K     |██████████████████████▊         | 7.9MB 686kB/s eta 0:00:05\r",
      "\u001b[K     |██████████████████████▉         | 7.9MB 686kB/s eta 0:00:05\r",
      "\u001b[K     |██████████████████████▉         | 7.9MB 686kB/s eta 0:00:05\r",
      "\u001b[K     |██████████████████████▉         | 7.9MB 686kB/s eta 0:00:05\r",
      "\u001b[K     |██████████████████████▉         | 7.9MB 686kB/s eta 0:00:05\r",
      "\u001b[K     |███████████████████████         | 7.9MB 686kB/s eta 0:00:05\r",
      "\u001b[K     |███████████████████████         | 7.9MB 686kB/s eta 0:00:05\r",
      "\u001b[K     |███████████████████████         | 7.9MB 686kB/s eta 0:00:05\r",
      "\u001b[K     |███████████████████████         | 8.0MB 686kB/s eta 0:00:05\r",
      "\u001b[K     |███████████████████████         | 8.0MB 686kB/s eta 0:00:05\r",
      "\u001b[K     |███████████████████████         | 8.0MB 686kB/s eta 0:00:05\r",
      "\u001b[K     |███████████████████████         | 8.0MB 686kB/s eta 0:00:05\r",
      "\u001b[K     |███████████████████████         | 8.0MB 686kB/s eta 0:00:05\r",
      "\u001b[K     |███████████████████████▏        | 8.0MB 686kB/s eta 0:00:05\r",
      "\u001b[K     |███████████████████████▏        | 8.0MB 686kB/s eta 0:00:05\r",
      "\u001b[K     |███████████████████████▏        | 8.0MB 686kB/s eta 0:00:05\r",
      "\u001b[K     |███████████████████████▎        | 8.0MB 686kB/s eta 0:00:05\r",
      "\u001b[K     |███████████████████████▎        | 8.0MB 686kB/s eta 0:00:05"
     ]
    },
    {
     "name": "stdout",
     "output_type": "stream",
     "text": [
      "\r",
      "\u001b[K     |███████████████████████▎        | 8.1MB 686kB/s eta 0:00:05\r",
      "\u001b[K     |███████████████████████▎        | 8.1MB 686kB/s eta 0:00:05\r",
      "\u001b[K     |███████████████████████▍        | 8.1MB 686kB/s eta 0:00:05\r",
      "\u001b[K     |███████████████████████▍        | 8.1MB 686kB/s eta 0:00:05\r",
      "\u001b[K     |███████████████████████▍        | 8.1MB 686kB/s eta 0:00:05\r",
      "\u001b[K     |███████████████████████▍        | 8.1MB 686kB/s eta 0:00:05\r",
      "\u001b[K     |███████████████████████▌        | 8.1MB 686kB/s eta 0:00:05\r",
      "\u001b[K     |███████████████████████▌        | 8.1MB 686kB/s eta 0:00:05\r",
      "\u001b[K     |███████████████████████▌        | 8.1MB 686kB/s eta 0:00:05\r",
      "\u001b[K     |███████████████████████▌        | 8.2MB 686kB/s eta 0:00:05\r",
      "\u001b[K     |███████████████████████▋        | 8.2MB 686kB/s eta 0:00:05\r",
      "\u001b[K     |███████████████████████▋        | 8.2MB 686kB/s eta 0:00:05\r",
      "\u001b[K     |███████████████████████▋        | 8.2MB 686kB/s eta 0:00:05\r",
      "\u001b[K     |███████████████████████▊        | 8.2MB 686kB/s eta 0:00:05\r",
      "\u001b[K     |███████████████████████▊        | 8.2MB 686kB/s eta 0:00:05\r",
      "\u001b[K     |███████████████████████▊        | 8.2MB 686kB/s eta 0:00:05\r",
      "\u001b[K     |███████████████████████▊        | 8.2MB 686kB/s eta 0:00:05\r",
      "\u001b[K     |███████████████████████▉        | 8.2MB 686kB/s eta 0:00:05\r",
      "\u001b[K     |███████████████████████▉        | 8.2MB 686kB/s eta 0:00:05\r",
      "\u001b[K     |███████████████████████▉        | 8.3MB 686kB/s eta 0:00:05\r",
      "\u001b[K     |███████████████████████▉        | 8.3MB 686kB/s eta 0:00:05\r",
      "\u001b[K     |████████████████████████        | 8.3MB 686kB/s eta 0:00:05\r",
      "\u001b[K     |████████████████████████        | 8.3MB 686kB/s eta 0:00:05\r",
      "\u001b[K     |████████████████████████        | 8.3MB 686kB/s eta 0:00:05\r",
      "\u001b[K     |████████████████████████        | 8.3MB 686kB/s eta 0:00:05\r",
      "\u001b[K     |████████████████████████        | 8.3MB 686kB/s eta 0:00:05\r",
      "\u001b[K     |████████████████████████        | 8.3MB 686kB/s eta 0:00:05\r",
      "\u001b[K     |████████████████████████        | 8.3MB 686kB/s eta 0:00:04\r",
      "\u001b[K     |████████████████████████▏       | 8.3MB 686kB/s eta 0:00:04\r",
      "\u001b[K     |████████████████████████▏       | 8.4MB 686kB/s eta 0:00:04\r",
      "\u001b[K     |████████████████████████▏       | 8.4MB 686kB/s eta 0:00:04\r",
      "\u001b[K     |████████████████████████▏       | 8.4MB 686kB/s eta 0:00:04\r",
      "\u001b[K     |████████████████████████▎       | 8.4MB 686kB/s eta 0:00:04\r",
      "\u001b[K     |████████████████████████▎       | 8.4MB 686kB/s eta 0:00:04\r",
      "\u001b[K     |████████████████████████▎       | 8.4MB 686kB/s eta 0:00:04\r",
      "\u001b[K     |████████████████████████▎       | 8.4MB 686kB/s eta 0:00:04\r",
      "\u001b[K     |████████████████████████▍       | 8.4MB 686kB/s eta 0:00:04\r",
      "\u001b[K     |████████████████████████▍       | 8.4MB 686kB/s eta 0:00:04\r",
      "\u001b[K     |████████████████████████▍       | 8.4MB 686kB/s eta 0:00:04\r",
      "\u001b[K     |████████████████████████▍       | 8.5MB 686kB/s eta 0:00:04\r",
      "\u001b[K     |████████████████████████▌       | 8.5MB 686kB/s eta 0:00:04\r",
      "\u001b[K     |████████████████████████▌       | 8.5MB 686kB/s eta 0:00:04\r",
      "\u001b[K     |████████████████████████▌       | 8.5MB 686kB/s eta 0:00:04\r",
      "\u001b[K     |████████████████████████▋       | 8.5MB 686kB/s eta 0:00:04\r",
      "\u001b[K     |████████████████████████▋       | 8.5MB 686kB/s eta 0:00:04\r",
      "\u001b[K     |████████████████████████▋       | 8.5MB 686kB/s eta 0:00:04\r",
      "\u001b[K     |████████████████████████▋       | 8.5MB 686kB/s eta 0:00:04\r",
      "\u001b[K     |████████████████████████▊       | 8.5MB 686kB/s eta 0:00:04\r",
      "\u001b[K     |████████████████████████▊       | 8.6MB 686kB/s eta 0:00:04\r",
      "\u001b[K     |████████████████████████▊       | 8.6MB 686kB/s eta 0:00:04\r",
      "\u001b[K     |████████████████████████▊       | 8.6MB 686kB/s eta 0:00:04\r",
      "\u001b[K     |████████████████████████▉       | 8.6MB 686kB/s eta 0:00:04\r",
      "\u001b[K     |████████████████████████▉       | 8.6MB 686kB/s eta 0:00:04\r",
      "\u001b[K     |████████████████████████▉       | 8.6MB 686kB/s eta 0:00:04\r",
      "\u001b[K     |████████████████████████▉       | 8.6MB 686kB/s eta 0:00:04\r",
      "\u001b[K     |█████████████████████████       | 8.6MB 686kB/s eta 0:00:04\r",
      "\u001b[K     |█████████████████████████       | 8.6MB 686kB/s eta 0:00:04\r",
      "\u001b[K     |█████████████████████████       | 8.6MB 686kB/s eta 0:00:04\r",
      "\u001b[K     |█████████████████████████       | 8.7MB 686kB/s eta 0:00:04\r",
      "\u001b[K     |█████████████████████████       | 8.7MB 686kB/s eta 0:00:04\r",
      "\u001b[K     |█████████████████████████       | 8.7MB 686kB/s eta 0:00:04\r",
      "\u001b[K     |█████████████████████████       | 8.7MB 686kB/s eta 0:00:04\r",
      "\u001b[K     |█████████████████████████▏      | 8.7MB 686kB/s eta 0:00:04\r",
      "\u001b[K     |█████████████████████████▏      | 8.7MB 686kB/s eta 0:00:04\r",
      "\u001b[K     |█████████████████████████▏      | 8.7MB 686kB/s eta 0:00:04\r",
      "\u001b[K     |█████████████████████████▏      | 8.7MB 686kB/s eta 0:00:04\r",
      "\u001b[K     |█████████████████████████▎      | 8.7MB 686kB/s eta 0:00:04\r",
      "\u001b[K     |█████████████████████████▎      | 8.7MB 686kB/s eta 0:00:04\r",
      "\u001b[K     |█████████████████████████▎      | 8.8MB 686kB/s eta 0:00:04\r",
      "\u001b[K     |█████████████████████████▎      | 8.8MB 686kB/s eta 0:00:04\r",
      "\u001b[K     |█████████████████████████▍      | 8.8MB 686kB/s eta 0:00:04\r",
      "\u001b[K     |█████████████████████████▍      | 8.8MB 686kB/s eta 0:00:04\r",
      "\u001b[K     |█████████████████████████▍      | 8.8MB 686kB/s eta 0:00:04\r",
      "\u001b[K     |█████████████████████████▌      | 8.8MB 686kB/s eta 0:00:04\r",
      "\u001b[K     |█████████████████████████▌      | 8.8MB 686kB/s eta 0:00:04\r",
      "\u001b[K     |█████████████████████████▌      | 8.8MB 686kB/s eta 0:00:04\r",
      "\u001b[K     |█████████████████████████▌      | 8.8MB 686kB/s eta 0:00:04\r",
      "\u001b[K     |█████████████████████████▋      | 8.8MB 686kB/s eta 0:00:04\r",
      "\u001b[K     |█████████████████████████▋      | 8.9MB 686kB/s eta 0:00:04\r",
      "\u001b[K     |█████████████████████████▋      | 8.9MB 686kB/s eta 0:00:04\r",
      "\u001b[K     |█████████████████████████▋      | 8.9MB 686kB/s eta 0:00:04\r",
      "\u001b[K     |█████████████████████████▊      | 8.9MB 686kB/s eta 0:00:04\r",
      "\u001b[K     |█████████████████████████▊      | 8.9MB 686kB/s eta 0:00:04\r",
      "\u001b[K     |█████████████████████████▊      | 8.9MB 686kB/s eta 0:00:04\r",
      "\u001b[K     |█████████████████████████▊      | 8.9MB 686kB/s eta 0:00:04\r",
      "\u001b[K     |█████████████████████████▉      | 8.9MB 686kB/s eta 0:00:04\r",
      "\u001b[K     |█████████████████████████▉      | 8.9MB 686kB/s eta 0:00:04\r",
      "\u001b[K     |█████████████████████████▉      | 8.9MB 686kB/s eta 0:00:04\r",
      "\u001b[K     |██████████████████████████      | 9.0MB 686kB/s eta 0:00:04\r",
      "\u001b[K     |██████████████████████████      | 9.0MB 686kB/s eta 0:00:04\r",
      "\u001b[K     |██████████████████████████      | 9.0MB 686kB/s eta 0:00:04\r",
      "\u001b[K     |██████████████████████████      | 9.0MB 686kB/s eta 0:00:04\r",
      "\u001b[K     |██████████████████████████      | 9.0MB 686kB/s eta 0:00:04\r",
      "\u001b[K     |██████████████████████████      | 9.0MB 686kB/s eta 0:00:04\r",
      "\u001b[K     |██████████████████████████      | 9.0MB 686kB/s eta 0:00:03\r",
      "\u001b[K     |██████████████████████████      | 9.0MB 686kB/s eta 0:00:03\r",
      "\u001b[K     |██████████████████████████▏     | 9.0MB 686kB/s eta 0:00:03\r",
      "\u001b[K     |██████████████████████████▏     | 9.1MB 686kB/s eta 0:00:03\r",
      "\u001b[K     |██████████████████████████▏     | 9.1MB 686kB/s eta 0:00:03\r",
      "\u001b[K     |██████████████████████████▏     | 9.1MB 686kB/s eta 0:00:03\r",
      "\u001b[K     |██████████████████████████▎     | 9.1MB 686kB/s eta 0:00:03\r",
      "\u001b[K     |██████████████████████████▎     | 9.1MB 686kB/s eta 0:00:03\r",
      "\u001b[K     |██████████████████████████▎     | 9.1MB 686kB/s eta 0:00:03\r",
      "\u001b[K     |██████████████████████████▍     | 9.1MB 686kB/s eta 0:00:03\r",
      "\u001b[K     |██████████████████████████▍     | 9.1MB 686kB/s eta 0:00:03\r",
      "\u001b[K     |██████████████████████████▍     | 9.1MB 686kB/s eta 0:00:03\r",
      "\u001b[K     |██████████████████████████▍     | 9.1MB 686kB/s eta 0:00:03\r",
      "\u001b[K     |██████████████████████████▌     | 9.2MB 686kB/s eta 0:00:03\r",
      "\u001b[K     |██████████████████████████▌     | 9.2MB 686kB/s eta 0:00:03\r",
      "\u001b[K     |██████████████████████████▌     | 9.2MB 686kB/s eta 0:00:03\r",
      "\u001b[K     |██████████████████████████▌     | 9.2MB 686kB/s eta 0:00:03\r",
      "\u001b[K     |██████████████████████████▋     | 9.2MB 686kB/s eta 0:00:03\r",
      "\u001b[K     |██████████████████████████▋     | 9.2MB 686kB/s eta 0:00:03\r",
      "\u001b[K     |██████████████████████████▋     | 9.2MB 686kB/s eta 0:00:03\r",
      "\u001b[K     |██████████████████████████▋     | 9.2MB 686kB/s eta 0:00:03\r",
      "\u001b[K     |██████████████████████████▊     | 9.2MB 686kB/s eta 0:00:03\r",
      "\u001b[K     |██████████████████████████▊     | 9.2MB 686kB/s eta 0:00:03\r",
      "\u001b[K     |██████████████████████████▊     | 9.3MB 686kB/s eta 0:00:03\r",
      "\u001b[K     |██████████████████████████▉     | 9.3MB 686kB/s eta 0:00:03\r",
      "\u001b[K     |██████████████████████████▉     | 9.3MB 686kB/s eta 0:00:03\r",
      "\u001b[K     |██████████████████████████▉     | 9.3MB 686kB/s eta 0:00:03\r",
      "\u001b[K     |██████████████████████████▉     | 9.3MB 686kB/s eta 0:00:03\r",
      "\u001b[K     |███████████████████████████     | 9.3MB 686kB/s eta 0:00:03\r",
      "\u001b[K     |███████████████████████████     | 9.3MB 686kB/s eta 0:00:03\r",
      "\u001b[K     |███████████████████████████     | 9.3MB 686kB/s eta 0:00:03\r",
      "\u001b[K     |███████████████████████████     | 9.3MB 686kB/s eta 0:00:03\r",
      "\u001b[K     |███████████████████████████     | 9.3MB 686kB/s eta 0:00:03\r",
      "\u001b[K     |███████████████████████████     | 9.4MB 686kB/s eta 0:00:03\r",
      "\u001b[K     |███████████████████████████     | 9.4MB 686kB/s eta 0:00:03\r",
      "\u001b[K     |███████████████████████████     | 9.4MB 686kB/s eta 0:00:03\r",
      "\u001b[K     |███████████████████████████▏    | 9.4MB 686kB/s eta 0:00:03\r",
      "\u001b[K     |███████████████████████████▏    | 9.4MB 686kB/s eta 0:00:03\r",
      "\u001b[K     |███████████████████████████▏    | 9.4MB 686kB/s eta 0:00:03\r",
      "\u001b[K     |███████████████████████████▏    | 9.4MB 686kB/s eta 0:00:03\r",
      "\u001b[K     |███████████████████████████▎    | 9.4MB 686kB/s eta 0:00:03\r",
      "\u001b[K     |███████████████████████████▎    | 9.4MB 686kB/s eta 0:00:03\r",
      "\u001b[K     |███████████████████████████▎    | 9.5MB 686kB/s eta 0:00:03\r",
      "\u001b[K     |███████████████████████████▍    | 9.5MB 686kB/s eta 0:00:03\r",
      "\u001b[K     |███████████████████████████▍    | 9.5MB 686kB/s eta 0:00:03\r",
      "\u001b[K     |███████████████████████████▍    | 9.5MB 686kB/s eta 0:00:03\r",
      "\u001b[K     |███████████████████████████▍    | 9.5MB 686kB/s eta 0:00:03"
     ]
    },
    {
     "name": "stdout",
     "output_type": "stream",
     "text": [
      "\r",
      "\u001b[K     |███████████████████████████▌    | 9.5MB 686kB/s eta 0:00:03\r",
      "\u001b[K     |███████████████████████████▌    | 9.5MB 686kB/s eta 0:00:03\r",
      "\u001b[K     |███████████████████████████▌    | 9.5MB 686kB/s eta 0:00:03\r",
      "\u001b[K     |███████████████████████████▌    | 9.5MB 686kB/s eta 0:00:03\r",
      "\u001b[K     |███████████████████████████▋    | 9.5MB 686kB/s eta 0:00:03\r",
      "\u001b[K     |███████████████████████████▋    | 9.6MB 686kB/s eta 0:00:03\r",
      "\u001b[K     |███████████████████████████▋    | 9.6MB 686kB/s eta 0:00:03\r",
      "\u001b[K     |███████████████████████████▋    | 9.6MB 686kB/s eta 0:00:03\r",
      "\u001b[K     |███████████████████████████▊    | 9.6MB 686kB/s eta 0:00:03\r",
      "\u001b[K     |███████████████████████████▊    | 9.6MB 686kB/s eta 0:00:03\r",
      "\u001b[K     |███████████████████████████▊    | 9.6MB 686kB/s eta 0:00:03\r",
      "\u001b[K     |███████████████████████████▉    | 9.6MB 686kB/s eta 0:00:03\r",
      "\u001b[K     |███████████████████████████▉    | 9.6MB 686kB/s eta 0:00:03"
     ]
    },
    {
     "name": "stdout",
     "output_type": "stream",
     "text": [
      "\r",
      "\u001b[K     |███████████████████████████▉    | 9.6MB 686kB/s eta 0:00:03\r",
      "\u001b[K     |███████████████████████████▉    | 9.6MB 686kB/s eta 0:00:03\r",
      "\u001b[K     |████████████████████████████    | 9.7MB 686kB/s eta 0:00:03\r",
      "\u001b[K     |████████████████████████████    | 9.7MB 686kB/s eta 0:00:03\r",
      "\u001b[K     |████████████████████████████    | 9.7MB 686kB/s eta 0:00:03\r",
      "\u001b[K     |████████████████████████████    | 9.7MB 686kB/s eta 0:00:03\r",
      "\u001b[K     |████████████████████████████    | 9.7MB 686kB/s eta 0:00:03\r",
      "\u001b[K     |████████████████████████████    | 9.7MB 686kB/s eta 0:00:02\r",
      "\u001b[K     |████████████████████████████    | 9.7MB 686kB/s eta 0:00:02\r",
      "\u001b[K     |████████████████████████████    | 9.7MB 686kB/s eta 0:00:02\r",
      "\u001b[K     |████████████████████████████▏   | 9.7MB 686kB/s eta 0:00:02\r",
      "\u001b[K     |████████████████████████████▏   | 9.7MB 686kB/s eta 0:00:02\r",
      "\u001b[K     |████████████████████████████▏   | 9.8MB 686kB/s eta 0:00:02\r",
      "\u001b[K     |████████████████████████████▎   | 9.8MB 686kB/s eta 0:00:02\r",
      "\u001b[K     |████████████████████████████▎   | 9.8MB 686kB/s eta 0:00:02\r",
      "\u001b[K     |████████████████████████████▎   | 9.8MB 686kB/s eta 0:00:02\r",
      "\u001b[K     |████████████████████████████▎   | 9.8MB 686kB/s eta 0:00:02\r",
      "\u001b[K     |████████████████████████████▍   | 9.8MB 686kB/s eta 0:00:02\r",
      "\u001b[K     |████████████████████████████▍   | 9.8MB 686kB/s eta 0:00:02\r",
      "\u001b[K     |████████████████████████████▍   | 9.8MB 686kB/s eta 0:00:02\r",
      "\u001b[K     |████████████████████████████▍   | 9.8MB 686kB/s eta 0:00:02\r",
      "\u001b[K     |████████████████████████████▌   | 9.9MB 686kB/s eta 0:00:02\r",
      "\u001b[K     |████████████████████████████▌   | 9.9MB 686kB/s eta 0:00:02\r",
      "\u001b[K     |████████████████████████████▌   | 9.9MB 686kB/s eta 0:00:02\r",
      "\u001b[K     |████████████████████████████▌   | 9.9MB 686kB/s eta 0:00:02\r",
      "\u001b[K     |████████████████████████████▋   | 9.9MB 686kB/s eta 0:00:02\r",
      "\u001b[K     |████████████████████████████▋   | 9.9MB 686kB/s eta 0:00:02\r",
      "\u001b[K     |████████████████████████████▋   | 9.9MB 686kB/s eta 0:00:02\r",
      "\u001b[K     |████████████████████████████▊   | 9.9MB 686kB/s eta 0:00:02\r",
      "\u001b[K     |████████████████████████████▊   | 9.9MB 686kB/s eta 0:00:02\r",
      "\u001b[K     |████████████████████████████▊   | 9.9MB 686kB/s eta 0:00:02\r",
      "\u001b[K     |████████████████████████████▊   | 10.0MB 686kB/s eta 0:00:02\r",
      "\u001b[K     |████████████████████████████▉   | 10.0MB 686kB/s eta 0:00:02\r",
      "\u001b[K     |████████████████████████████▉   | 10.0MB 686kB/s eta 0:00:02\r",
      "\u001b[K     |████████████████████████████▉   | 10.0MB 686kB/s eta 0:00:02\r",
      "\u001b[K     |████████████████████████████▉   | 10.0MB 686kB/s eta 0:00:02\r",
      "\u001b[K     |█████████████████████████████   | 10.0MB 686kB/s eta 0:00:02\r",
      "\u001b[K     |█████████████████████████████   | 10.0MB 686kB/s eta 0:00:02\r",
      "\u001b[K     |█████████████████████████████   | 10.0MB 686kB/s eta 0:00:02\r",
      "\u001b[K     |█████████████████████████████   | 10.0MB 686kB/s eta 0:00:02\r",
      "\u001b[K     |█████████████████████████████   | 10.0MB 686kB/s eta 0:00:02\r",
      "\u001b[K     |█████████████████████████████   | 10.1MB 686kB/s eta 0:00:02\r",
      "\u001b[K     |█████████████████████████████   | 10.1MB 686kB/s eta 0:00:02\r",
      "\u001b[K     |█████████████████████████████▏  | 10.1MB 686kB/s eta 0:00:02\r",
      "\u001b[K     |█████████████████████████████▏  | 10.1MB 686kB/s eta 0:00:02\r",
      "\u001b[K     |█████████████████████████████▏  | 10.1MB 686kB/s eta 0:00:02\r",
      "\u001b[K     |█████████████████████████████▏  | 10.1MB 686kB/s eta 0:00:02\r",
      "\u001b[K     |█████████████████████████████▎  | 10.1MB 686kB/s eta 0:00:02\r",
      "\u001b[K     |█████████████████████████████▎  | 10.1MB 686kB/s eta 0:00:02\r",
      "\u001b[K     |█████████████████████████████▎  | 10.1MB 686kB/s eta 0:00:02\r",
      "\u001b[K     |█████████████████████████████▎  | 10.1MB 686kB/s eta 0:00:02\r",
      "\u001b[K     |█████████████████████████████▍  | 10.2MB 686kB/s eta 0:00:02\r",
      "\u001b[K     |█████████████████████████████▍  | 10.2MB 686kB/s eta 0:00:02\r",
      "\u001b[K     |█████████████████████████████▍  | 10.2MB 686kB/s eta 0:00:02\r",
      "\u001b[K     |█████████████████████████████▍  | 10.2MB 686kB/s eta 0:00:02\r",
      "\u001b[K     |█████████████████████████████▌  | 10.2MB 686kB/s eta 0:00:02\r",
      "\u001b[K     |█████████████████████████████▌  | 10.2MB 686kB/s eta 0:00:02\r",
      "\u001b[K     |█████████████████████████████▌  | 10.2MB 686kB/s eta 0:00:02\r",
      "\u001b[K     |█████████████████████████████▋  | 10.2MB 686kB/s eta 0:00:02\r",
      "\u001b[K     |█████████████████████████████▋  | 10.2MB 686kB/s eta 0:00:02\r",
      "\u001b[K     |█████████████████████████████▋  | 10.3MB 686kB/s eta 0:00:02\r",
      "\u001b[K     |█████████████████████████████▋  | 10.3MB 686kB/s eta 0:00:02\r",
      "\u001b[K     |█████████████████████████████▊  | 10.3MB 686kB/s eta 0:00:02\r",
      "\u001b[K     |█████████████████████████████▊  | 10.3MB 686kB/s eta 0:00:02\r",
      "\u001b[K     |█████████████████████████████▊  | 10.3MB 686kB/s eta 0:00:02\r",
      "\u001b[K     |█████████████████████████████▊  | 10.3MB 686kB/s eta 0:00:02\r",
      "\u001b[K     |█████████████████████████████▉  | 10.3MB 686kB/s eta 0:00:02\r",
      "\u001b[K     |█████████████████████████████▉  | 10.3MB 686kB/s eta 0:00:02\r",
      "\u001b[K     |█████████████████████████████▉  | 10.3MB 686kB/s eta 0:00:02\r",
      "\u001b[K     |█████████████████████████████▉  | 10.3MB 686kB/s eta 0:00:02\r",
      "\u001b[K     |██████████████████████████████  | 10.4MB 686kB/s eta 0:00:02\r",
      "\u001b[K     |██████████████████████████████  | 10.4MB 686kB/s eta 0:00:02\r",
      "\u001b[K     |██████████████████████████████  | 10.4MB 686kB/s eta 0:00:02\r",
      "\u001b[K     |██████████████████████████████  | 10.4MB 686kB/s eta 0:00:02\r",
      "\u001b[K     |██████████████████████████████  | 10.4MB 686kB/s eta 0:00:01\r",
      "\u001b[K     |██████████████████████████████  | 10.4MB 686kB/s eta 0:00:01\r",
      "\u001b[K     |██████████████████████████████  | 10.4MB 686kB/s eta 0:00:01\r",
      "\u001b[K     |██████████████████████████████▏ | 10.4MB 686kB/s eta 0:00:01\r",
      "\u001b[K     |██████████████████████████████▏ | 10.4MB 686kB/s eta 0:00:01\r",
      "\u001b[K     |██████████████████████████████▏ | 10.4MB 686kB/s eta 0:00:01\r",
      "\u001b[K     |██████████████████████████████▏ | 10.5MB 686kB/s eta 0:00:01\r",
      "\u001b[K     |██████████████████████████████▎ | 10.5MB 686kB/s eta 0:00:01\r",
      "\u001b[K     |██████████████████████████████▎ | 10.5MB 686kB/s eta 0:00:01\r",
      "\u001b[K     |██████████████████████████████▎ | 10.5MB 686kB/s eta 0:00:01\r",
      "\u001b[K     |██████████████████████████████▎ | 10.5MB 686kB/s eta 0:00:01\r",
      "\u001b[K     |██████████████████████████████▍ | 10.5MB 686kB/s eta 0:00:01\r",
      "\u001b[K     |██████████████████████████████▍ | 10.5MB 686kB/s eta 0:00:01\r",
      "\u001b[K     |██████████████████████████████▍ | 10.5MB 686kB/s eta 0:00:01\r",
      "\u001b[K     |██████████████████████████████▌ | 10.5MB 686kB/s eta 0:00:01\r",
      "\u001b[K     |██████████████████████████████▌ | 10.5MB 686kB/s eta 0:00:01\r",
      "\u001b[K     |██████████████████████████████▌ | 10.6MB 686kB/s eta 0:00:01\r",
      "\u001b[K     |██████████████████████████████▌ | 10.6MB 686kB/s eta 0:00:01\r",
      "\u001b[K     |██████████████████████████████▋ | 10.6MB 686kB/s eta 0:00:01\r",
      "\u001b[K     |██████████████████████████████▋ | 10.6MB 686kB/s eta 0:00:01\r",
      "\u001b[K     |██████████████████████████████▋ | 10.6MB 686kB/s eta 0:00:01\r",
      "\u001b[K     |██████████████████████████████▋ | 10.6MB 686kB/s eta 0:00:01\r",
      "\u001b[K     |██████████████████████████████▊ | 10.6MB 686kB/s eta 0:00:01\r",
      "\u001b[K     |██████████████████████████████▊ | 10.6MB 686kB/s eta 0:00:01\r",
      "\u001b[K     |██████████████████████████████▊ | 10.6MB 686kB/s eta 0:00:01\r",
      "\u001b[K     |██████████████████████████████▊ | 10.6MB 686kB/s eta 0:00:01\r",
      "\u001b[K     |██████████████████████████████▉ | 10.7MB 686kB/s eta 0:00:01\r",
      "\u001b[K     |██████████████████████████████▉ | 10.7MB 686kB/s eta 0:00:01\r",
      "\u001b[K     |██████████████████████████████▉ | 10.7MB 686kB/s eta 0:00:01\r",
      "\u001b[K     |███████████████████████████████ | 10.7MB 686kB/s eta 0:00:01\r",
      "\u001b[K     |███████████████████████████████ | 10.7MB 686kB/s eta 0:00:01\r",
      "\u001b[K     |███████████████████████████████ | 10.7MB 686kB/s eta 0:00:01\r",
      "\u001b[K     |███████████████████████████████ | 10.7MB 686kB/s eta 0:00:01\r",
      "\u001b[K     |███████████████████████████████ | 10.7MB 686kB/s eta 0:00:01\r",
      "\u001b[K     |███████████████████████████████ | 10.7MB 686kB/s eta 0:00:01\r",
      "\u001b[K     |███████████████████████████████ | 10.8MB 686kB/s eta 0:00:01\r",
      "\u001b[K     |███████████████████████████████ | 10.8MB 686kB/s eta 0:00:01\r",
      "\u001b[K     |███████████████████████████████▏| 10.8MB 686kB/s eta 0:00:01\r",
      "\u001b[K     |███████████████████████████████▏| 10.8MB 686kB/s eta 0:00:01\r",
      "\u001b[K     |███████████████████████████████▏| 10.8MB 686kB/s eta 0:00:01\r",
      "\u001b[K     |███████████████████████████████▏| 10.8MB 686kB/s eta 0:00:01\r",
      "\u001b[K     |███████████████████████████████▎| 10.8MB 686kB/s eta 0:00:01\r",
      "\u001b[K     |███████████████████████████████▎| 10.8MB 686kB/s eta 0:00:01\r",
      "\u001b[K     |███████████████████████████████▎| 10.8MB 686kB/s eta 0:00:01\r",
      "\u001b[K     |███████████████████████████████▍| 10.8MB 686kB/s eta 0:00:01\r",
      "\u001b[K     |███████████████████████████████▍| 10.9MB 686kB/s eta 0:00:01\r",
      "\u001b[K     |███████████████████████████████▍| 10.9MB 686kB/s eta 0:00:01\r",
      "\u001b[K     |███████████████████████████████▍| 10.9MB 686kB/s eta 0:00:01\r",
      "\u001b[K     |███████████████████████████████▌| 10.9MB 686kB/s eta 0:00:01\r",
      "\u001b[K     |███████████████████████████████▌| 10.9MB 686kB/s eta 0:00:01\r",
      "\u001b[K     |███████████████████████████████▌| 10.9MB 686kB/s eta 0:00:01\r",
      "\u001b[K     |███████████████████████████████▌| 10.9MB 686kB/s eta 0:00:01\r",
      "\u001b[K     |███████████████████████████████▋| 10.9MB 686kB/s eta 0:00:01\r",
      "\u001b[K     |███████████████████████████████▋| 10.9MB 686kB/s eta 0:00:01\r",
      "\u001b[K     |███████████████████████████████▋| 10.9MB 686kB/s eta 0:00:01\r",
      "\u001b[K     |███████████████████████████████▋| 11.0MB 686kB/s eta 0:00:01\r",
      "\u001b[K     |███████████████████████████████▊| 11.0MB 686kB/s eta 0:00:01\r",
      "\u001b[K     |███████████████████████████████▊| 11.0MB 686kB/s eta 0:00:01\r",
      "\u001b[K     |███████████████████████████████▊| 11.0MB 686kB/s eta 0:00:01\r",
      "\u001b[K     |███████████████████████████████▉| 11.0MB 686kB/s eta 0:00:01\r",
      "\u001b[K     |███████████████████████████████▉| 11.0MB 686kB/s eta 0:00:01\r",
      "\u001b[K     |███████████████████████████████▉| 11.0MB 686kB/s eta 0:00:01\r",
      "\u001b[K     |███████████████████████████████▉| 11.0MB 686kB/s eta 0:00:01\r",
      "\u001b[K     |████████████████████████████████| 11.0MB 686kB/s eta 0:00:01\r",
      "\u001b[K     |████████████████████████████████| 11.0MB 686kB/s eta 0:00:01\r",
      "\u001b[K     |████████████████████████████████| 11.1MB 686kB/s eta 0:00:01\r",
      "\u001b[K     |████████████████████████████████| 11.1MB 686kB/s eta 0:00:01\r",
      "\u001b[K     |████████████████████████████████| 11.1MB 686kB/s \r\n"
     ]
    },
    {
     "name": "stdout",
     "output_type": "stream",
     "text": [
      "\u001b[?25hBuilding wheels for collected packages: en-core-web-sm\r\n"
     ]
    },
    {
     "name": "stdout",
     "output_type": "stream",
     "text": [
      "  Building wheel for en-core-web-sm (setup.py) ... \u001b[?25l-"
     ]
    },
    {
     "name": "stdout",
     "output_type": "stream",
     "text": [
      "\b \b\\"
     ]
    },
    {
     "name": "stdout",
     "output_type": "stream",
     "text": [
      "\b \b|"
     ]
    },
    {
     "name": "stdout",
     "output_type": "stream",
     "text": [
      "\b \b/"
     ]
    },
    {
     "name": "stdout",
     "output_type": "stream",
     "text": [
      "\b \bdone\r\n"
     ]
    },
    {
     "name": "stdout",
     "output_type": "stream",
     "text": [
      "\u001b[?25h  Created wheel for en-core-web-sm: filename=en_core_web_sm-2.1.0-cp36-none-any.whl size=11074434 sha256=cae01aeb506659e92dbc43fe15a99e96c89b75e99a78c8c85ae8b860c1b4aa7c\r\n",
      "  Stored in directory: /tmp/pip-ephem-wheel-cache-rkrvzvrd/wheels/39/ea/3b/507f7df78be8631a7a3d7090962194cf55bc1158572c0be77f\r\n"
     ]
    },
    {
     "name": "stdout",
     "output_type": "stream",
     "text": [
      "Successfully built en-core-web-sm\r\n",
      "Installing collected packages: en-core-web-sm\r\n",
      "Successfully installed en-core-web-sm-2.1.0\r\n"
     ]
    },
    {
     "name": "stdout",
     "output_type": "stream",
     "text": [
      "\u001b[38;5;2m✔ Download and installation successful\u001b[0m\r\n",
      "You can now load the model via spacy.load('en_core_web_sm')\r\n"
     ]
    }
   ],
   "source": [
    "# Download the spacy english model\n",
    "! python -m spacy download en_core_web_sm"
   ]
  },
  {
   "cell_type": "code",
   "execution_count": 21,
   "metadata": {},
   "outputs": [],
   "source": [
    "from snorkel.labeling.preprocess.nlp import SpacyPreprocessor\n",
    "\n",
    "# The SpacyPreprocessor parses the text in text_field and\n",
    "# stores the new enriched representation in doc_field\n",
    "spacy = SpacyPreprocessor(text_field=\"text\", doc_field=\"doc\", memoize=True)\n",
    "\n",
    "\n",
    "@labeling_function(preprocessors=[spacy])\n",
    "def has_person(x):\n",
    "    \"\"\"Ham comments mention specific people and are short.\"\"\"\n",
    "    if len(x.doc) < 20 and any([ent.label_ == \"PERSON\" for ent in x.doc.ents]):\n",
    "        return HAM\n",
    "    else:\n",
    "        return ABSTAIN"
   ]
  },
  {
   "cell_type": "markdown",
   "metadata": {},
   "source": [
    "Because spaCy is such a common preprocessor for NLP (Natural Language Processing) applications, we also provide an alias for a labeling_function that uses spaCy. This resulting LF is identical to the one defined manually above."
   ]
  },
  {
   "cell_type": "code",
   "execution_count": 22,
   "metadata": {},
   "outputs": [],
   "source": [
    "from snorkel.labeling.lf.nlp import nlp_labeling_function\n",
    "\n",
    "\n",
    "@nlp_labeling_function()\n",
    "def has_person_nlp(x):\n",
    "    \"\"\"Ham comments mention specific people and are short.\"\"\"\n",
    "    if len(x.doc) < 20 and any([ent.label_ == \"PERSON\" for ent in x.doc.ents]):\n",
    "        return HAM\n",
    "    else:\n",
    "        return ABSTAIN"
   ]
  },
  {
   "cell_type": "markdown",
   "metadata": {},
   "source": [
    "### iv. Third-party Model LFs"
   ]
  },
  {
   "cell_type": "markdown",
   "metadata": {},
   "source": [
    "We can also utilize other models, including ones trained for other tasks that are related to, but not the same as, the one we care about.\n",
    "\n",
    "For example, the [TextBlob](https://textblob.readthedocs.io/en/dev/index.html) tool provides a pretrained sentiment analyzer. Our spam classification task is not the same as sentiment classification, but it turns out that SPAM and HAM comments have different distributions of sentiment scores, with HAM having more positive/subjective sentiments."
   ]
  },
  {
   "cell_type": "code",
   "execution_count": 23,
   "metadata": {},
   "outputs": [
    {
     "data": {
      "text/plain": [
       "([array([ 0.,  0.,  1., 34.,  7.,  4.,  5.,  1.,  1.,  1.]),\n",
       "  array([ 2.,  4.,  4., 15.,  3.,  2., 11.,  0.,  1.,  4.])],\n",
       " array([-0.6 , -0.44, -0.28, -0.12,  0.04,  0.2 ,  0.36,  0.52,  0.68,\n",
       "         0.84,  1.  ]),\n",
       " <a list of 2 Lists of Patches objects>)"
      ]
     },
     "execution_count": 23,
     "metadata": {},
     "output_type": "execute_result"
    }
   ],
   "source": [
    "import matplotlib.pyplot as plt\n",
    "from textblob import TextBlob\n",
    "\n",
    "spam_polarities = [\n",
    "    TextBlob(x.text).sentiment.polarity for i, x in df_dev.iterrows() if x.label == SPAM\n",
    "]\n",
    "ham_polarities = [\n",
    "    TextBlob(x.text).sentiment.polarity for i, x in df_dev.iterrows() if x.label == HAM\n",
    "]\n",
    "\n",
    "plt.hist([spam_polarities, ham_polarities])"
   ]
  },
  {
   "cell_type": "code",
   "execution_count": 24,
   "metadata": {},
   "outputs": [],
   "source": [
    "from textblob import TextBlob\n",
    "\n",
    "\n",
    "@labeling_function()\n",
    "def textblob_polarity(x):\n",
    "    return HAM if TextBlob(x.text).sentiment.polarity > 0.3 else ABSTAIN\n",
    "\n",
    "\n",
    "@labeling_function()\n",
    "def textblob_subjectivity(x):\n",
    "    return HAM if TextBlob(x.text).sentiment.subjectivity > 0.9 else ABSTAIN"
   ]
  },
  {
   "cell_type": "markdown",
   "metadata": {},
   "source": [
    "### Apply LFs"
   ]
  },
  {
   "cell_type": "markdown",
   "metadata": {},
   "source": [
    "This tutorial demonstrates just a handful of the types of LFs that one might write for this task.\n",
    "Many of these are no doubt suboptimal.\n",
    "The strength of this approach, however, is that the LF abstraction provides a flexible interface for conveying a huge variety of supervision signals, and the `LabelModel` is able to denoise these signals, reducing the need for painstaking manual fine-tuning."
   ]
  },
  {
   "cell_type": "code",
   "execution_count": 25,
   "metadata": {},
   "outputs": [],
   "source": [
    "lfs = [\n",
    "    keyword_my,\n",
    "    lf_subscribe,\n",
    "    lf_link,\n",
    "    lf_please,\n",
    "    lf_song,\n",
    "    regex_check_out,\n",
    "    short_comment,\n",
    "    has_person_nlp,\n",
    "    textblob_polarity,\n",
    "    textblob_subjectivity,\n",
    "]"
   ]
  },
  {
   "cell_type": "markdown",
   "metadata": {},
   "source": [
    "With our full set of LFs, we can now apply these once again with `LFApplier` to get our the label matrices for the `train` and `dev` splits. We'll use the `train` split's label matrix to generate training labels with the Label Model. The `dev` split's label model is primarily helpful for looking at summary statistics.\n",
    "\n",
    "Note that the `pandas` format provides an easy interface that many practioners are familiar with, but it is also less optimized for scale. For larger datasets, more compute-intensive LFs, or larger LF sets, you may decide to use one of the other supported data formats such as `dask` or `spark` dataframes, and their corresponding applier objects."
   ]
  },
  {
   "cell_type": "code",
   "execution_count": 26,
   "metadata": {},
   "outputs": [
    {
     "name": "stderr",
     "output_type": "stream",
     "text": [
      "\r",
      "  0%|          | 0/1586 [00:00<?, ?it/s]"
     ]
    },
    {
     "name": "stderr",
     "output_type": "stream",
     "text": [
      "\r",
      "  1%|          | 13/1586 [00:00<00:12, 124.02it/s]"
     ]
    },
    {
     "name": "stderr",
     "output_type": "stream",
     "text": [
      "\r",
      "  2%|▏         | 24/1586 [00:00<00:13, 118.01it/s]"
     ]
    },
    {
     "name": "stderr",
     "output_type": "stream",
     "text": [
      "\r",
      "  2%|▏         | 34/1586 [00:00<00:14, 108.87it/s]"
     ]
    },
    {
     "name": "stderr",
     "output_type": "stream",
     "text": [
      "\r",
      "  3%|▎         | 46/1586 [00:00<00:13, 111.87it/s]"
     ]
    },
    {
     "name": "stderr",
     "output_type": "stream",
     "text": [
      "\r",
      "  4%|▎         | 58/1586 [00:00<00:13, 111.50it/s]"
     ]
    },
    {
     "name": "stderr",
     "output_type": "stream",
     "text": [
      "\r",
      "  4%|▍         | 69/1586 [00:00<00:13, 110.78it/s]"
     ]
    },
    {
     "name": "stderr",
     "output_type": "stream",
     "text": [
      "\r",
      "  5%|▌         | 82/1586 [00:00<00:13, 113.57it/s]"
     ]
    },
    {
     "name": "stderr",
     "output_type": "stream",
     "text": [
      "\r",
      "  6%|▌         | 93/1586 [00:00<00:13, 112.41it/s]"
     ]
    },
    {
     "name": "stderr",
     "output_type": "stream",
     "text": [
      "\r",
      "  7%|▋         | 104/1586 [00:00<00:13, 110.88it/s]"
     ]
    },
    {
     "name": "stderr",
     "output_type": "stream",
     "text": [
      "\r",
      "  7%|▋         | 115/1586 [00:01<00:13, 109.97it/s]"
     ]
    },
    {
     "name": "stderr",
     "output_type": "stream",
     "text": [
      "\r",
      "  8%|▊         | 127/1586 [00:01<00:13, 110.18it/s]"
     ]
    },
    {
     "name": "stderr",
     "output_type": "stream",
     "text": [
      "\r",
      "  9%|▉         | 140/1586 [00:01<00:12, 113.25it/s]"
     ]
    },
    {
     "name": "stderr",
     "output_type": "stream",
     "text": [
      "\r",
      " 10%|▉         | 152/1586 [00:01<00:12, 114.41it/s]"
     ]
    },
    {
     "name": "stderr",
     "output_type": "stream",
     "text": [
      "\r",
      " 10%|█         | 165/1586 [00:01<00:12, 116.65it/s]"
     ]
    },
    {
     "name": "stderr",
     "output_type": "stream",
     "text": [
      "\r",
      " 11%|█         | 177/1586 [00:01<00:13, 104.08it/s]"
     ]
    },
    {
     "name": "stderr",
     "output_type": "stream",
     "text": [
      "\r",
      " 12%|█▏        | 188/1586 [00:01<00:13, 104.41it/s]"
     ]
    },
    {
     "name": "stderr",
     "output_type": "stream",
     "text": [
      "\r",
      " 13%|█▎        | 200/1586 [00:01<00:12, 107.04it/s]"
     ]
    },
    {
     "name": "stderr",
     "output_type": "stream",
     "text": [
      "\r",
      " 13%|█▎        | 212/1586 [00:01<00:12, 108.94it/s]"
     ]
    },
    {
     "name": "stderr",
     "output_type": "stream",
     "text": [
      "\r",
      " 14%|█▍        | 224/1586 [00:02<00:12, 110.78it/s]"
     ]
    },
    {
     "name": "stderr",
     "output_type": "stream",
     "text": [
      "\r",
      " 15%|█▍        | 237/1586 [00:02<00:11, 113.17it/s]"
     ]
    },
    {
     "name": "stderr",
     "output_type": "stream",
     "text": [
      "\r",
      " 16%|█▌        | 249/1586 [00:02<00:11, 113.66it/s]"
     ]
    },
    {
     "name": "stderr",
     "output_type": "stream",
     "text": [
      "\r",
      " 16%|█▋        | 261/1586 [00:02<00:11, 112.20it/s]"
     ]
    },
    {
     "name": "stderr",
     "output_type": "stream",
     "text": [
      "\r",
      " 17%|█▋        | 273/1586 [00:02<00:11, 112.75it/s]"
     ]
    },
    {
     "name": "stderr",
     "output_type": "stream",
     "text": [
      "\r",
      " 18%|█▊        | 285/1586 [00:02<00:11, 111.84it/s]"
     ]
    },
    {
     "name": "stderr",
     "output_type": "stream",
     "text": [
      "\r",
      " 19%|█▊        | 297/1586 [00:02<00:11, 113.35it/s]"
     ]
    },
    {
     "name": "stderr",
     "output_type": "stream",
     "text": [
      "\r",
      " 19%|█▉        | 309/1586 [00:02<00:11, 106.68it/s]"
     ]
    },
    {
     "name": "stderr",
     "output_type": "stream",
     "text": [
      "\r",
      " 20%|██        | 322/1586 [00:02<00:11, 112.20it/s]"
     ]
    },
    {
     "name": "stderr",
     "output_type": "stream",
     "text": [
      "\r",
      " 21%|██        | 334/1586 [00:03<00:11, 109.48it/s]"
     ]
    },
    {
     "name": "stderr",
     "output_type": "stream",
     "text": [
      "\r",
      " 22%|██▏       | 347/1586 [00:03<00:10, 114.48it/s]"
     ]
    },
    {
     "name": "stderr",
     "output_type": "stream",
     "text": [
      "\r",
      " 23%|██▎       | 359/1586 [00:03<00:10, 114.64it/s]"
     ]
    },
    {
     "name": "stderr",
     "output_type": "stream",
     "text": [
      "\r",
      " 23%|██▎       | 371/1586 [00:03<00:11, 109.11it/s]"
     ]
    },
    {
     "name": "stderr",
     "output_type": "stream",
     "text": [
      "\r",
      " 24%|██▍       | 383/1586 [00:03<00:10, 110.54it/s]"
     ]
    },
    {
     "name": "stderr",
     "output_type": "stream",
     "text": [
      "\r",
      " 25%|██▍       | 395/1586 [00:03<00:10, 109.30it/s]"
     ]
    },
    {
     "name": "stderr",
     "output_type": "stream",
     "text": [
      "\r",
      " 26%|██▌       | 406/1586 [00:03<00:11, 104.22it/s]"
     ]
    },
    {
     "name": "stderr",
     "output_type": "stream",
     "text": [
      "\r",
      " 26%|██▋       | 417/1586 [00:03<00:11, 105.06it/s]"
     ]
    },
    {
     "name": "stderr",
     "output_type": "stream",
     "text": [
      "\r",
      " 27%|██▋       | 430/1586 [00:03<00:10, 108.79it/s]"
     ]
    },
    {
     "name": "stderr",
     "output_type": "stream",
     "text": [
      "\r",
      " 28%|██▊       | 441/1586 [00:03<00:10, 106.80it/s]"
     ]
    },
    {
     "name": "stderr",
     "output_type": "stream",
     "text": [
      "\r",
      " 29%|██▊       | 453/1586 [00:04<00:10, 109.09it/s]"
     ]
    },
    {
     "name": "stderr",
     "output_type": "stream",
     "text": [
      "\r",
      " 29%|██▉       | 464/1586 [00:04<00:10, 106.66it/s]"
     ]
    },
    {
     "name": "stderr",
     "output_type": "stream",
     "text": [
      "\r",
      " 30%|██▉       | 475/1586 [00:04<00:10, 103.99it/s]"
     ]
    },
    {
     "name": "stderr",
     "output_type": "stream",
     "text": [
      "\r",
      " 31%|███       | 486/1586 [00:04<00:10, 103.61it/s]"
     ]
    },
    {
     "name": "stderr",
     "output_type": "stream",
     "text": [
      "\r",
      " 31%|███▏      | 497/1586 [00:04<00:10, 103.12it/s]"
     ]
    },
    {
     "name": "stderr",
     "output_type": "stream",
     "text": [
      "\r",
      " 32%|███▏      | 509/1586 [00:04<00:10, 106.93it/s]"
     ]
    },
    {
     "name": "stderr",
     "output_type": "stream",
     "text": [
      "\r",
      " 33%|███▎      | 520/1586 [00:04<00:10, 104.74it/s]"
     ]
    },
    {
     "name": "stderr",
     "output_type": "stream",
     "text": [
      "\r",
      " 33%|███▎      | 531/1586 [00:04<00:10, 105.17it/s]"
     ]
    },
    {
     "name": "stderr",
     "output_type": "stream",
     "text": [
      "\r",
      " 34%|███▍      | 542/1586 [00:04<00:10, 103.60it/s]"
     ]
    },
    {
     "name": "stderr",
     "output_type": "stream",
     "text": [
      "\r",
      " 35%|███▍      | 553/1586 [00:05<00:09, 104.87it/s]"
     ]
    },
    {
     "name": "stderr",
     "output_type": "stream",
     "text": [
      "\r",
      " 36%|███▌      | 565/1586 [00:05<00:09, 106.63it/s]"
     ]
    },
    {
     "name": "stderr",
     "output_type": "stream",
     "text": [
      "\r",
      " 36%|███▋      | 577/1586 [00:05<00:09, 110.08it/s]"
     ]
    },
    {
     "name": "stderr",
     "output_type": "stream",
     "text": [
      "\r",
      " 37%|███▋      | 589/1586 [00:05<00:09, 110.56it/s]"
     ]
    },
    {
     "name": "stderr",
     "output_type": "stream",
     "text": [
      "\r",
      " 38%|███▊      | 601/1586 [00:05<00:08, 112.11it/s]"
     ]
    },
    {
     "name": "stderr",
     "output_type": "stream",
     "text": [
      "\r",
      " 39%|███▊      | 613/1586 [00:05<00:08, 111.70it/s]"
     ]
    },
    {
     "name": "stderr",
     "output_type": "stream",
     "text": [
      "\r",
      " 39%|███▉      | 625/1586 [00:05<00:08, 112.82it/s]"
     ]
    },
    {
     "name": "stderr",
     "output_type": "stream",
     "text": [
      "\r",
      " 40%|████      | 637/1586 [00:05<00:08, 112.38it/s]"
     ]
    },
    {
     "name": "stderr",
     "output_type": "stream",
     "text": [
      "\r",
      " 41%|████      | 649/1586 [00:05<00:08, 110.37it/s]"
     ]
    },
    {
     "name": "stderr",
     "output_type": "stream",
     "text": [
      "\r",
      " 42%|████▏     | 661/1586 [00:06<00:08, 108.88it/s]"
     ]
    },
    {
     "name": "stderr",
     "output_type": "stream",
     "text": [
      "\r",
      " 42%|████▏     | 673/1586 [00:06<00:08, 110.50it/s]"
     ]
    },
    {
     "name": "stderr",
     "output_type": "stream",
     "text": [
      "\r",
      " 43%|████▎     | 685/1586 [00:06<00:08, 107.42it/s]"
     ]
    },
    {
     "name": "stderr",
     "output_type": "stream",
     "text": [
      "\r",
      " 44%|████▍     | 696/1586 [00:06<00:08, 106.53it/s]"
     ]
    },
    {
     "name": "stderr",
     "output_type": "stream",
     "text": [
      "\r",
      " 45%|████▍     | 709/1586 [00:06<00:07, 111.60it/s]"
     ]
    },
    {
     "name": "stderr",
     "output_type": "stream",
     "text": [
      "\r",
      " 46%|████▌     | 722/1586 [00:06<00:07, 114.56it/s]"
     ]
    },
    {
     "name": "stderr",
     "output_type": "stream",
     "text": [
      "\r",
      " 46%|████▋     | 735/1586 [00:06<00:07, 118.55it/s]"
     ]
    },
    {
     "name": "stderr",
     "output_type": "stream",
     "text": [
      "\r",
      " 47%|████▋     | 747/1586 [00:06<00:07, 115.38it/s]"
     ]
    },
    {
     "name": "stderr",
     "output_type": "stream",
     "text": [
      "\r",
      " 48%|████▊     | 760/1586 [00:06<00:06, 119.15it/s]"
     ]
    },
    {
     "name": "stderr",
     "output_type": "stream",
     "text": [
      "\r",
      " 49%|████▉     | 774/1586 [00:06<00:06, 121.73it/s]"
     ]
    },
    {
     "name": "stderr",
     "output_type": "stream",
     "text": [
      "\r",
      " 50%|████▉     | 788/1586 [00:07<00:06, 124.85it/s]"
     ]
    },
    {
     "name": "stderr",
     "output_type": "stream",
     "text": [
      "\r",
      " 51%|█████     | 801/1586 [00:07<00:06, 121.10it/s]"
     ]
    },
    {
     "name": "stderr",
     "output_type": "stream",
     "text": [
      "\r",
      " 51%|█████▏    | 814/1586 [00:07<00:06, 122.48it/s]"
     ]
    },
    {
     "name": "stderr",
     "output_type": "stream",
     "text": [
      "\r",
      " 52%|█████▏    | 828/1586 [00:07<00:06, 125.70it/s]"
     ]
    },
    {
     "name": "stderr",
     "output_type": "stream",
     "text": [
      "\r",
      " 53%|█████▎    | 842/1586 [00:07<00:05, 127.89it/s]"
     ]
    },
    {
     "name": "stderr",
     "output_type": "stream",
     "text": [
      "\r",
      " 54%|█████▍    | 856/1586 [00:07<00:05, 128.81it/s]"
     ]
    },
    {
     "name": "stderr",
     "output_type": "stream",
     "text": [
      "\r",
      " 55%|█████▍    | 869/1586 [00:07<00:05, 128.31it/s]"
     ]
    },
    {
     "name": "stderr",
     "output_type": "stream",
     "text": [
      "\r",
      " 56%|█████▌    | 883/1586 [00:07<00:05, 129.83it/s]"
     ]
    },
    {
     "name": "stderr",
     "output_type": "stream",
     "text": [
      "\r",
      " 57%|█████▋    | 897/1586 [00:07<00:05, 126.90it/s]"
     ]
    },
    {
     "name": "stderr",
     "output_type": "stream",
     "text": [
      "\r",
      " 57%|█████▋    | 910/1586 [00:08<00:05, 125.86it/s]"
     ]
    },
    {
     "name": "stderr",
     "output_type": "stream",
     "text": [
      "\r",
      " 58%|█████▊    | 923/1586 [00:08<00:05, 124.93it/s]"
     ]
    },
    {
     "name": "stderr",
     "output_type": "stream",
     "text": [
      "\r",
      " 59%|█████▉    | 936/1586 [00:08<00:05, 114.52it/s]"
     ]
    },
    {
     "name": "stderr",
     "output_type": "stream",
     "text": [
      "\r",
      " 60%|█████▉    | 949/1586 [00:08<00:05, 118.10it/s]"
     ]
    },
    {
     "name": "stderr",
     "output_type": "stream",
     "text": [
      "\r",
      " 61%|██████    | 962/1586 [00:08<00:05, 119.43it/s]"
     ]
    },
    {
     "name": "stderr",
     "output_type": "stream",
     "text": [
      "\r",
      " 61%|██████▏   | 975/1586 [00:08<00:05, 117.24it/s]"
     ]
    },
    {
     "name": "stderr",
     "output_type": "stream",
     "text": [
      "\r",
      " 62%|██████▏   | 988/1586 [00:08<00:04, 120.12it/s]"
     ]
    },
    {
     "name": "stderr",
     "output_type": "stream",
     "text": [
      "\r",
      " 63%|██████▎   | 1001/1586 [00:08<00:04, 121.54it/s]"
     ]
    },
    {
     "name": "stderr",
     "output_type": "stream",
     "text": [
      "\r",
      " 64%|██████▍   | 1014/1586 [00:08<00:04, 122.37it/s]"
     ]
    },
    {
     "name": "stderr",
     "output_type": "stream",
     "text": [
      "\r",
      " 65%|██████▍   | 1027/1586 [00:09<00:04, 122.89it/s]"
     ]
    },
    {
     "name": "stderr",
     "output_type": "stream",
     "text": [
      "\r",
      " 66%|██████▌   | 1040/1586 [00:09<00:04, 121.61it/s]"
     ]
    },
    {
     "name": "stderr",
     "output_type": "stream",
     "text": [
      "\r",
      " 66%|██████▋   | 1053/1586 [00:09<00:04, 119.41it/s]"
     ]
    },
    {
     "name": "stderr",
     "output_type": "stream",
     "text": [
      "\r",
      " 67%|██████▋   | 1067/1586 [00:09<00:04, 122.31it/s]"
     ]
    },
    {
     "name": "stderr",
     "output_type": "stream",
     "text": [
      "\r",
      " 68%|██████▊   | 1080/1586 [00:09<00:04, 122.05it/s]"
     ]
    },
    {
     "name": "stderr",
     "output_type": "stream",
     "text": [
      "\r",
      " 69%|██████▉   | 1093/1586 [00:09<00:04, 120.21it/s]"
     ]
    },
    {
     "name": "stderr",
     "output_type": "stream",
     "text": [
      "\r",
      " 70%|██████▉   | 1106/1586 [00:09<00:03, 120.83it/s]"
     ]
    },
    {
     "name": "stderr",
     "output_type": "stream",
     "text": [
      "\r",
      " 71%|███████   | 1119/1586 [00:09<00:04, 113.42it/s]"
     ]
    },
    {
     "name": "stderr",
     "output_type": "stream",
     "text": [
      "\r",
      " 71%|███████▏  | 1132/1586 [00:09<00:03, 115.66it/s]"
     ]
    },
    {
     "name": "stderr",
     "output_type": "stream",
     "text": [
      "\r",
      " 72%|███████▏  | 1145/1586 [00:10<00:03, 118.97it/s]"
     ]
    },
    {
     "name": "stderr",
     "output_type": "stream",
     "text": [
      "\r",
      " 73%|███████▎  | 1157/1586 [00:10<00:03, 115.33it/s]"
     ]
    },
    {
     "name": "stderr",
     "output_type": "stream",
     "text": [
      "\r",
      " 74%|███████▎  | 1169/1586 [00:10<00:03, 111.24it/s]"
     ]
    },
    {
     "name": "stderr",
     "output_type": "stream",
     "text": [
      "\r",
      " 74%|███████▍  | 1181/1586 [00:10<00:03, 111.73it/s]"
     ]
    },
    {
     "name": "stderr",
     "output_type": "stream",
     "text": [
      "\r",
      " 75%|███████▌  | 1193/1586 [00:10<00:03, 112.90it/s]"
     ]
    },
    {
     "name": "stderr",
     "output_type": "stream",
     "text": [
      "\r",
      " 76%|███████▌  | 1205/1586 [00:10<00:03, 106.90it/s]"
     ]
    },
    {
     "name": "stderr",
     "output_type": "stream",
     "text": [
      "\r",
      " 77%|███████▋  | 1218/1586 [00:10<00:03, 111.83it/s]"
     ]
    },
    {
     "name": "stderr",
     "output_type": "stream",
     "text": [
      "\r",
      " 78%|███████▊  | 1230/1586 [00:10<00:03, 114.16it/s]"
     ]
    },
    {
     "name": "stderr",
     "output_type": "stream",
     "text": [
      "\r",
      " 78%|███████▊  | 1242/1586 [00:10<00:03, 109.72it/s]"
     ]
    },
    {
     "name": "stderr",
     "output_type": "stream",
     "text": [
      "\r",
      " 79%|███████▉  | 1254/1586 [00:11<00:03, 110.28it/s]"
     ]
    },
    {
     "name": "stderr",
     "output_type": "stream",
     "text": [
      "\r",
      " 80%|███████▉  | 1266/1586 [00:11<00:03, 105.69it/s]"
     ]
    },
    {
     "name": "stderr",
     "output_type": "stream",
     "text": [
      "\r",
      " 81%|████████  | 1279/1586 [00:11<00:02, 109.09it/s]"
     ]
    },
    {
     "name": "stderr",
     "output_type": "stream",
     "text": [
      "\r",
      " 81%|████████▏ | 1291/1586 [00:11<00:02, 106.77it/s]"
     ]
    },
    {
     "name": "stderr",
     "output_type": "stream",
     "text": [
      "\r",
      " 82%|████████▏ | 1302/1586 [00:11<00:02, 100.98it/s]"
     ]
    },
    {
     "name": "stderr",
     "output_type": "stream",
     "text": [
      "\r",
      " 83%|████████▎ | 1313/1586 [00:11<00:02, 102.86it/s]"
     ]
    },
    {
     "name": "stderr",
     "output_type": "stream",
     "text": [
      "\r",
      " 84%|████████▎ | 1326/1586 [00:11<00:02, 107.40it/s]"
     ]
    },
    {
     "name": "stderr",
     "output_type": "stream",
     "text": [
      "\r",
      " 84%|████████▍ | 1337/1586 [00:11<00:02, 107.72it/s]"
     ]
    },
    {
     "name": "stderr",
     "output_type": "stream",
     "text": [
      "\r",
      " 85%|████████▌ | 1349/1586 [00:11<00:02, 109.12it/s]"
     ]
    },
    {
     "name": "stderr",
     "output_type": "stream",
     "text": [
      "\r",
      " 86%|████████▌ | 1360/1586 [00:12<00:02, 108.43it/s]"
     ]
    },
    {
     "name": "stderr",
     "output_type": "stream",
     "text": [
      "\r",
      " 87%|████████▋ | 1372/1586 [00:12<00:01, 111.57it/s]"
     ]
    },
    {
     "name": "stderr",
     "output_type": "stream",
     "text": [
      "\r",
      " 87%|████████▋ | 1384/1586 [00:12<00:01, 110.69it/s]"
     ]
    },
    {
     "name": "stderr",
     "output_type": "stream",
     "text": [
      "\r",
      " 88%|████████▊ | 1396/1586 [00:12<00:01, 110.76it/s]"
     ]
    },
    {
     "name": "stderr",
     "output_type": "stream",
     "text": [
      "\r",
      " 89%|████████▉ | 1409/1586 [00:12<00:01, 113.97it/s]"
     ]
    },
    {
     "name": "stderr",
     "output_type": "stream",
     "text": [
      "\r",
      " 90%|████████▉ | 1421/1586 [00:12<00:01, 115.08it/s]"
     ]
    },
    {
     "name": "stderr",
     "output_type": "stream",
     "text": [
      "\r",
      " 90%|█████████ | 1433/1586 [00:12<00:01, 112.73it/s]"
     ]
    },
    {
     "name": "stderr",
     "output_type": "stream",
     "text": [
      "\r",
      " 91%|█████████ | 1445/1586 [00:12<00:01, 103.64it/s]"
     ]
    },
    {
     "name": "stderr",
     "output_type": "stream",
     "text": [
      "\r",
      " 92%|█████████▏| 1457/1586 [00:12<00:01, 106.47it/s]"
     ]
    },
    {
     "name": "stderr",
     "output_type": "stream",
     "text": [
      "\r",
      " 93%|█████████▎| 1468/1586 [00:13<00:01, 104.13it/s]"
     ]
    },
    {
     "name": "stderr",
     "output_type": "stream",
     "text": [
      "\r",
      " 93%|█████████▎| 1479/1586 [00:13<00:01, 104.29it/s]"
     ]
    },
    {
     "name": "stderr",
     "output_type": "stream",
     "text": [
      "\r",
      " 94%|█████████▍| 1490/1586 [00:13<00:00, 102.40it/s]"
     ]
    },
    {
     "name": "stderr",
     "output_type": "stream",
     "text": [
      "\r",
      " 95%|█████████▍| 1501/1586 [00:13<00:00, 100.58it/s]"
     ]
    },
    {
     "name": "stderr",
     "output_type": "stream",
     "text": [
      "\r",
      " 95%|█████████▌| 1512/1586 [00:13<00:00, 101.58it/s]"
     ]
    },
    {
     "name": "stderr",
     "output_type": "stream",
     "text": [
      "\r",
      " 96%|█████████▌| 1523/1586 [00:13<00:00, 100.17it/s]"
     ]
    },
    {
     "name": "stderr",
     "output_type": "stream",
     "text": [
      "\r",
      " 97%|█████████▋| 1537/1586 [00:13<00:00, 107.72it/s]"
     ]
    },
    {
     "name": "stderr",
     "output_type": "stream",
     "text": [
      "\r",
      " 98%|█████████▊| 1550/1586 [00:13<00:00, 109.73it/s]"
     ]
    },
    {
     "name": "stderr",
     "output_type": "stream",
     "text": [
      "\r",
      " 98%|█████████▊| 1562/1586 [00:13<00:00, 102.84it/s]"
     ]
    },
    {
     "name": "stderr",
     "output_type": "stream",
     "text": [
      "\r",
      " 99%|█████████▉| 1575/1586 [00:14<00:00, 109.62it/s]"
     ]
    },
    {
     "name": "stderr",
     "output_type": "stream",
     "text": [
      "\r",
      "100%|██████████| 1586/1586 [00:14<00:00, 112.18it/s]"
     ]
    },
    {
     "name": "stderr",
     "output_type": "stream",
     "text": [
      "\n",
      "\r",
      "  0%|          | 0/100 [00:00<?, ?it/s]"
     ]
    },
    {
     "name": "stderr",
     "output_type": "stream",
     "text": [
      "\r",
      " 12%|█▏        | 12/100 [00:00<00:00, 115.63it/s]"
     ]
    },
    {
     "name": "stderr",
     "output_type": "stream",
     "text": [
      "\r",
      " 22%|██▏       | 22/100 [00:00<00:00, 109.01it/s]"
     ]
    },
    {
     "name": "stderr",
     "output_type": "stream",
     "text": [
      "\r",
      " 34%|███▍      | 34/100 [00:00<00:00, 111.06it/s]"
     ]
    },
    {
     "name": "stderr",
     "output_type": "stream",
     "text": [
      "\r",
      " 46%|████▌     | 46/100 [00:00<00:00, 113.29it/s]"
     ]
    },
    {
     "name": "stderr",
     "output_type": "stream",
     "text": [
      "\r",
      " 58%|█████▊    | 58/100 [00:00<00:00, 114.09it/s]"
     ]
    },
    {
     "name": "stderr",
     "output_type": "stream",
     "text": [
      "\r",
      " 69%|██████▉   | 69/100 [00:00<00:00, 111.94it/s]"
     ]
    },
    {
     "name": "stderr",
     "output_type": "stream",
     "text": [
      "\r",
      " 79%|███████▉  | 79/100 [00:00<00:00, 108.01it/s]"
     ]
    },
    {
     "name": "stderr",
     "output_type": "stream",
     "text": [
      "\r",
      " 90%|█████████ | 90/100 [00:00<00:00, 107.02it/s]"
     ]
    },
    {
     "name": "stderr",
     "output_type": "stream",
     "text": [
      "\r",
      "100%|██████████| 100/100 [00:00<00:00, 109.23it/s]"
     ]
    },
    {
     "name": "stderr",
     "output_type": "stream",
     "text": [
      "\n",
      "\r",
      "  0%|          | 0/120 [00:00<?, ?it/s]"
     ]
    },
    {
     "name": "stderr",
     "output_type": "stream",
     "text": [
      "\r",
      "  8%|▊         | 9/120 [00:00<00:01, 88.94it/s]"
     ]
    },
    {
     "name": "stderr",
     "output_type": "stream",
     "text": [
      "\r",
      " 16%|█▌        | 19/120 [00:00<00:01, 91.47it/s]"
     ]
    },
    {
     "name": "stderr",
     "output_type": "stream",
     "text": [
      "\r",
      " 24%|██▍       | 29/120 [00:00<00:00, 91.73it/s]"
     ]
    },
    {
     "name": "stderr",
     "output_type": "stream",
     "text": [
      "\r",
      " 32%|███▎      | 39/120 [00:00<00:00, 93.53it/s]"
     ]
    },
    {
     "name": "stderr",
     "output_type": "stream",
     "text": [
      "\r",
      " 40%|████      | 48/120 [00:00<00:00, 91.42it/s]"
     ]
    },
    {
     "name": "stderr",
     "output_type": "stream",
     "text": [
      "\r",
      " 51%|█████     | 61/120 [00:00<00:00, 99.50it/s]"
     ]
    },
    {
     "name": "stderr",
     "output_type": "stream",
     "text": [
      "\r",
      " 60%|██████    | 72/120 [00:00<00:00, 101.72it/s]"
     ]
    },
    {
     "name": "stderr",
     "output_type": "stream",
     "text": [
      "\r",
      " 70%|███████   | 84/120 [00:00<00:00, 104.98it/s]"
     ]
    },
    {
     "name": "stderr",
     "output_type": "stream",
     "text": [
      "\r",
      " 81%|████████  | 97/120 [00:00<00:00, 110.54it/s]"
     ]
    },
    {
     "name": "stderr",
     "output_type": "stream",
     "text": [
      "\r",
      " 92%|█████████▏| 110/120 [00:01<00:00, 113.81it/s]"
     ]
    },
    {
     "name": "stderr",
     "output_type": "stream",
     "text": [
      "\r",
      "100%|██████████| 120/120 [00:01<00:00, 106.31it/s]"
     ]
    },
    {
     "name": "stderr",
     "output_type": "stream",
     "text": [
      "\n"
     ]
    },
    {
     "data": {
      "text/html": [
       "<div>\n",
       "<style scoped>\n",
       "    .dataframe tbody tr th:only-of-type {\n",
       "        vertical-align: middle;\n",
       "    }\n",
       "\n",
       "    .dataframe tbody tr th {\n",
       "        vertical-align: top;\n",
       "    }\n",
       "\n",
       "    .dataframe thead th {\n",
       "        text-align: right;\n",
       "    }\n",
       "</style>\n",
       "<table border=\"1\" class=\"dataframe\">\n",
       "  <thead>\n",
       "    <tr style=\"text-align: right;\">\n",
       "      <th></th>\n",
       "      <th>j</th>\n",
       "      <th>Polarity</th>\n",
       "      <th>Coverage</th>\n",
       "      <th>Overlaps</th>\n",
       "      <th>Conflicts</th>\n",
       "      <th>Correct</th>\n",
       "      <th>Incorrect</th>\n",
       "      <th>Emp. Acc.</th>\n",
       "    </tr>\n",
       "  </thead>\n",
       "  <tbody>\n",
       "    <tr>\n",
       "      <th>keyword_my</th>\n",
       "      <td>0</td>\n",
       "      <td>[1]</td>\n",
       "      <td>0.22</td>\n",
       "      <td>0.21</td>\n",
       "      <td>0.13</td>\n",
       "      <td>19</td>\n",
       "      <td>3</td>\n",
       "      <td>0.863636</td>\n",
       "    </tr>\n",
       "    <tr>\n",
       "      <th>lf_subscribe</th>\n",
       "      <td>1</td>\n",
       "      <td>[1]</td>\n",
       "      <td>0.08</td>\n",
       "      <td>0.05</td>\n",
       "      <td>0.02</td>\n",
       "      <td>8</td>\n",
       "      <td>0</td>\n",
       "      <td>1.000000</td>\n",
       "    </tr>\n",
       "    <tr>\n",
       "      <th>lf_link</th>\n",
       "      <td>2</td>\n",
       "      <td>[1]</td>\n",
       "      <td>0.10</td>\n",
       "      <td>0.07</td>\n",
       "      <td>0.05</td>\n",
       "      <td>10</td>\n",
       "      <td>0</td>\n",
       "      <td>1.000000</td>\n",
       "    </tr>\n",
       "    <tr>\n",
       "      <th>lf_please</th>\n",
       "      <td>3</td>\n",
       "      <td>[1]</td>\n",
       "      <td>0.10</td>\n",
       "      <td>0.09</td>\n",
       "      <td>0.05</td>\n",
       "      <td>10</td>\n",
       "      <td>0</td>\n",
       "      <td>1.000000</td>\n",
       "    </tr>\n",
       "    <tr>\n",
       "      <th>lf_song</th>\n",
       "      <td>4</td>\n",
       "      <td>[0]</td>\n",
       "      <td>0.16</td>\n",
       "      <td>0.11</td>\n",
       "      <td>0.06</td>\n",
       "      <td>11</td>\n",
       "      <td>5</td>\n",
       "      <td>0.687500</td>\n",
       "    </tr>\n",
       "    <tr>\n",
       "      <th>regex_check_out</th>\n",
       "      <td>5</td>\n",
       "      <td>[1]</td>\n",
       "      <td>0.29</td>\n",
       "      <td>0.22</td>\n",
       "      <td>0.14</td>\n",
       "      <td>29</td>\n",
       "      <td>0</td>\n",
       "      <td>1.000000</td>\n",
       "    </tr>\n",
       "    <tr>\n",
       "      <th>short_comment</th>\n",
       "      <td>6</td>\n",
       "      <td>[0]</td>\n",
       "      <td>0.28</td>\n",
       "      <td>0.17</td>\n",
       "      <td>0.05</td>\n",
       "      <td>19</td>\n",
       "      <td>9</td>\n",
       "      <td>0.678571</td>\n",
       "    </tr>\n",
       "    <tr>\n",
       "      <th>has_person_nlp</th>\n",
       "      <td>7</td>\n",
       "      <td>[0]</td>\n",
       "      <td>0.15</td>\n",
       "      <td>0.12</td>\n",
       "      <td>0.04</td>\n",
       "      <td>10</td>\n",
       "      <td>5</td>\n",
       "      <td>0.666667</td>\n",
       "    </tr>\n",
       "    <tr>\n",
       "      <th>textblob_polarity</th>\n",
       "      <td>8</td>\n",
       "      <td>[0]</td>\n",
       "      <td>0.28</td>\n",
       "      <td>0.26</td>\n",
       "      <td>0.11</td>\n",
       "      <td>18</td>\n",
       "      <td>10</td>\n",
       "      <td>0.642857</td>\n",
       "    </tr>\n",
       "    <tr>\n",
       "      <th>textblob_subjectivity</th>\n",
       "      <td>9</td>\n",
       "      <td>[0]</td>\n",
       "      <td>0.08</td>\n",
       "      <td>0.08</td>\n",
       "      <td>0.04</td>\n",
       "      <td>5</td>\n",
       "      <td>3</td>\n",
       "      <td>0.625000</td>\n",
       "    </tr>\n",
       "  </tbody>\n",
       "</table>\n",
       "</div>"
      ],
      "text/plain": [
       "                       j Polarity  Coverage  Overlaps  Conflicts  Correct  \\\n",
       "keyword_my             0  [1]      0.22      0.21      0.13       19        \n",
       "lf_subscribe           1  [1]      0.08      0.05      0.02       8         \n",
       "lf_link                2  [1]      0.10      0.07      0.05       10        \n",
       "lf_please              3  [1]      0.10      0.09      0.05       10        \n",
       "lf_song                4  [0]      0.16      0.11      0.06       11        \n",
       "regex_check_out        5  [1]      0.29      0.22      0.14       29        \n",
       "short_comment          6  [0]      0.28      0.17      0.05       19        \n",
       "has_person_nlp         7  [0]      0.15      0.12      0.04       10        \n",
       "textblob_polarity      8  [0]      0.28      0.26      0.11       18        \n",
       "textblob_subjectivity  9  [0]      0.08      0.08      0.04       5         \n",
       "\n",
       "                       Incorrect  Emp. Acc.  \n",
       "keyword_my             3          0.863636   \n",
       "lf_subscribe           0          1.000000   \n",
       "lf_link                0          1.000000   \n",
       "lf_please              0          1.000000   \n",
       "lf_song                5          0.687500   \n",
       "regex_check_out        0          1.000000   \n",
       "short_comment          9          0.678571   \n",
       "has_person_nlp         5          0.666667   \n",
       "textblob_polarity      10         0.642857   \n",
       "textblob_subjectivity  3          0.625000   "
      ]
     },
     "execution_count": 26,
     "metadata": {},
     "output_type": "execute_result"
    }
   ],
   "source": [
    "applier = PandasLFApplier(lfs)\n",
    "L_train = applier.apply(df_train)\n",
    "L_dev = applier.apply(df_dev)\n",
    "L_valid = applier.apply(df_valid)\n",
    "\n",
    "LFAnalysis(L_dev, lfs).lf_summary(Y=Y_dev)"
   ]
  },
  {
   "cell_type": "markdown",
   "metadata": {},
   "source": [
    "We see that our labeling functions vary in coverage, accuracy, and how much they overlap/conflict with one another.\n",
    "We can view a histogram of how many weak labels the data points in our dev set have to get an idea of our total coverage."
   ]
  },
  {
   "cell_type": "code",
   "execution_count": 27,
   "metadata": {},
   "outputs": [
    {
     "data": {
      "image/png": "[encoded data removed]",
      "text/plain": [
       "<Figure size 432x288 with 1 Axes>"
      ]
     },
     "metadata": {
      "needs_background": "light"
     },
     "output_type": "display_data"
    }
   ],
   "source": [
    "import matplotlib.pyplot as plt\n",
    "\n",
    "\n",
    "def plot_label_frequency(L):\n",
    "    plt.hist(\n",
    "        np.asarray((L != ABSTAIN).sum(axis=1)), density=True, bins=range(L.shape[1])\n",
    "    )\n",
    "    plt.xlabel(\"Number of labels\")\n",
    "    plt.ylabel(\"Fraction of dataset\")\n",
    "\n",
    "\n",
    "plot_label_frequency(L_train)"
   ]
  },
  {
   "cell_type": "markdown",
   "metadata": {},
   "source": [
    "We see that over half of our training dataset data points have 0 or 1 weak labels.\n",
    "Fortunately, the signal we do have can be used to train a classifier with a larger feature set than just these labeling functions that we've created, allowing it to generalize beyond what we've specified."
   ]
  },
  {
   "cell_type": "markdown",
   "metadata": {},
   "source": [
    "## 3. Combining Weak Labels with the Label Model"
   ]
  },
  {
   "cell_type": "markdown",
   "metadata": {},
   "source": [
    "Our goal is now to convert these many weak labels into a single _noise-aware_ probabilistic (or confidence-weighted) label per data point.\n",
    "A simple baseline for doing this is to take the majority vote on a per-data point basis: if more LFs voted SPAM than HAM, label it SPAM (and vice versa)."
   ]
  },
  {
   "cell_type": "code",
   "execution_count": 28,
   "metadata": {},
   "outputs": [
    {
     "data": {
      "text/plain": [
       "array([1, 1, 0, ..., 1, 1, 1])"
      ]
     },
     "execution_count": 28,
     "metadata": {},
     "output_type": "execute_result"
    }
   ],
   "source": [
    "from snorkel.labeling.model import MajorityLabelVoter\n",
    "\n",
    "majority_model = MajorityLabelVoter()\n",
    "Y_pred_train = majority_model.predict(L_train)\n",
    "Y_pred_train"
   ]
  },
  {
   "cell_type": "markdown",
   "metadata": {},
   "source": [
    "However, as we can clearly see by looking the summary statistics of our LFs in the previous section, they are not all equally accurate, and should ideally not be treated identically. In addition to having varied accuracies and coverages, LFs may be correlated, resulting in certain signals being overrepresented in a majority-vote-based model. To handle these issues appropriately, we will instead use a more sophisticated Snorkel `LabelModel` to combine our weak labels.\n",
    "\n",
    "This model will ultimately produce a single set of noise-aware training labels, which are probabilistic or confidence-weighted labels. We will then use these labels to train a classifier for our task. For more technical details of this overall approach, see our [NeurIPS 2016](https://arxiv.org/abs/1605.07723) and [AAAI 2019](https://arxiv.org/abs/1810.02840) papers.\n",
    "\n",
    "Note that no gold labels are used during the training process; the `LabelModel` is able to learn weights for the labeling functions using only the weak label matrix as input."
   ]
  },
  {
   "cell_type": "code",
   "execution_count": 29,
   "metadata": {},
   "outputs": [
    {
     "name": "stdout",
     "output_type": "stream",
     "text": [
      "Computing O...\n",
      "Estimating \\mu...\n",
      "[0 epochs]: TRAIN:[loss=0.129]\n",
      "[50 epochs]: TRAIN:[loss=0.013]\n",
      "[100 epochs]: TRAIN:[loss=0.010]\n",
      "[150 epochs]: TRAIN:[loss=0.009]\n",
      "[200 epochs]: TRAIN:[loss=0.009]\n",
      "[250 epochs]: TRAIN:[loss=0.008]\n",
      "[300 epochs]: TRAIN:[loss=0.008]\n"
     ]
    },
    {
     "name": "stdout",
     "output_type": "stream",
     "text": [
      "[350 epochs]: TRAIN:[loss=0.008]\n",
      "[400 epochs]: TRAIN:[loss=0.008]\n",
      "[450 epochs]: TRAIN:[loss=0.008]\n",
      "Finished Training\n"
     ]
    }
   ],
   "source": [
    "from snorkel.labeling.model import LabelModel\n",
    "\n",
    "label_model = LabelModel(cardinality=2, verbose=True)\n",
    "label_model.fit(L_train, n_epochs=500, log_freq=50, seed=123)"
   ]
  },
  {
   "cell_type": "code",
   "execution_count": 30,
   "metadata": {},
   "outputs": [
    {
     "name": "stdout",
     "output_type": "stream",
     "text": [
      "Majority Vote: 0.850\n",
      "Label Model:   0.883\n"
     ]
    }
   ],
   "source": [
    "print(\n",
    "    f\"{'Majority Vote:':<14} {majority_model.score(L_valid, Y_valid)['accuracy']:0.3f}\"\n",
    ")\n",
    "print(f\"{'Label Model:':<14} {label_model.score(L_valid, Y_valid)['accuracy']:0.3f}\")"
   ]
  },
  {
   "cell_type": "markdown",
   "metadata": {},
   "source": [
    "While our `LabelModel` does improve over the majority vote baseline, it is still somewhat **limited as a classifier** for the reasons outlined in the Snorkel 101 guide.\n",
    "\n",
    "In the next section, we will use these training labels to train a discriminative classifier to see if we can improve performance further."
   ]
  },
  {
   "cell_type": "markdown",
   "metadata": {},
   "source": [
    "Before we do, we briefly confirm that the labels the `LabelModel` produces are probabilistic in nature.\n",
    "The following histogram shows the confidences we have that each data point has the label SPAM.\n",
    "The points we are least certain about will have labels close to 0.5."
   ]
  },
  {
   "cell_type": "code",
   "execution_count": 31,
   "metadata": {},
   "outputs": [
    {
     "data": {
      "image/png": "[encoded data removed]",
      "text/plain": [
       "<Figure size 432x288 with 1 Axes>"
      ]
     },
     "metadata": {
      "needs_background": "light"
     },
     "output_type": "display_data"
    }
   ],
   "source": [
    "def plot_probabilities_histogram(Y):\n",
    "    plt.hist(Y, bins=10)\n",
    "    plt.xlabel(\"Probability of SPAM\")\n",
    "    plt.ylabel(\"Number of Data Points\")\n",
    "\n",
    "\n",
    "Y_probs_train = label_model.predict_proba(L_train)\n",
    "plot_probabilities_histogram(Y_probs_train[:, SPAM])"
   ]
  },
  {
   "cell_type": "markdown",
   "metadata": {},
   "source": [
    "## 4. Training a Classifier"
   ]
  },
  {
   "cell_type": "markdown",
   "metadata": {},
   "source": [
    "In this final section of the tutorial, we'll use the noisy training labels we generated in the last section to train a classifier for our task.\n",
    "\n",
    "Note that because the output of the Snorkel `LabelModel` is just a set of labels, Snorkel easily integrates with most popular libraries for performing supervised learning: TensorFlow, Keras, PyTorch, Scikit-Learn, Ludwig, XGBoost, etc.\n",
    "\n",
    "In this tutorial we demonstrate using classifiers from Keras and Scikit-Learn."
   ]
  },
  {
   "cell_type": "markdown",
   "metadata": {},
   "source": [
    "For simlicity and speed, we use a simple \"bag of n-grams\" feature representation: each data point is represented by a one-hot vector marking which words or 2-word combinations are present in the comment text."
   ]
  },
  {
   "cell_type": "markdown",
   "metadata": {},
   "source": [
    "### Featurization"
   ]
  },
  {
   "cell_type": "code",
   "execution_count": 32,
   "metadata": {},
   "outputs": [],
   "source": [
    "from sklearn.feature_extraction.text import CountVectorizer\n",
    "\n",
    "words_train = [row.text for i, row in df_train.iterrows()]\n",
    "words_dev = [row.text for i, row in df_dev.iterrows()]\n",
    "words_valid = [row.text for i, row in df_valid.iterrows()]\n",
    "words_test = [row.text for i, row in df_test.iterrows()]\n",
    "\n",
    "vectorizer = CountVectorizer(ngram_range=(1, 2))\n",
    "X_train = vectorizer.fit_transform(words_train)\n",
    "X_dev = vectorizer.transform(words_dev)\n",
    "X_valid = vectorizer.transform(words_valid)\n",
    "X_test = vectorizer.transform(words_test)"
   ]
  },
  {
   "cell_type": "markdown",
   "metadata": {},
   "source": [
    "### Filtering Unlabeled Data Points"
   ]
  },
  {
   "cell_type": "markdown",
   "metadata": {},
   "source": [
    "As we saw earlier, some of the data points in our training set received no weak labels from our LFs.\n",
    "These examples convey no supervision signal and tend to hurt performance, so we filter them out before training."
   ]
  },
  {
   "cell_type": "code",
   "execution_count": 33,
   "metadata": {},
   "outputs": [],
   "source": [
    "mask = L_train.sum(axis=1) != ABSTAIN * len(lfs)\n",
    "X_train = X_train[mask, :]\n",
    "Y_probs_train = Y_probs_train[mask]"
   ]
  },
  {
   "cell_type": "markdown",
   "metadata": {},
   "source": [
    "### Keras Classifier with Probabilistic Labels"
   ]
  },
  {
   "cell_type": "markdown",
   "metadata": {},
   "source": [
    "Our Keras classifier is a simple logistic regression classifier.\n",
    "We compile it with a `categorical_crossentropy` loss so that it can handle probabilistic labels instead of integer labels.\n",
    "We use the common settings of an `Adam` optimizer and early stopping (evaluating the model on the validation set after each epoch and reloading the weights from when it achieved the best score)."
   ]
  },
  {
   "cell_type": "code",
   "execution_count": 34,
   "metadata": {},
   "outputs": [
    {
     "name": "stderr",
     "output_type": "stream",
     "text": [
      "WARNING: Logging before flag parsing goes to stderr.\n",
      "W0726 05:16:58.575565 139961230317376 deprecation.py:506] From /home/ubuntu/snorkel-tutorials/.tox/spam/lib/python3.6/site-packages/tensorflow/python/ops/init_ops.py:1251: calling VarianceScaling.__init__ (from tensorflow.python.ops.init_ops) with dtype is deprecated and will be removed in a future version.\n",
      "Instructions for updating:\n",
      "Call initializer instance with the dtype argument instead of passing it to the constructor\n"
     ]
    },
    {
     "name": "stdout",
     "output_type": "stream",
     "text": [
      "Restoring model weights from the end of the best epoch.\n",
      "Epoch 00015: early stopping\n",
      "Test Accuracy: 0.924\n"
     ]
    }
   ],
   "source": [
    "from snorkel.analysis.utils import probs_to_preds, preds_to_probs\n",
    "from snorkel.analysis.metrics import metric_score\n",
    "import tensorflow as tf\n",
    "\n",
    "# Our model is a simple linear layer mapping from feature\n",
    "# vectors to the number of labels in our problem (2).\n",
    "keras_model = tf.keras.Sequential()\n",
    "keras_model.add(\n",
    "    tf.keras.layers.Dense(\n",
    "        2,\n",
    "        input_dim=X_train.shape[1],\n",
    "        activation=tf.nn.softmax,\n",
    "        kernel_regularizer=tf.keras.regularizers.l2(0.01),\n",
    "    )\n",
    ")\n",
    "optimizer = tf.keras.optimizers.Adam(lr=0.001)\n",
    "keras_model.compile(\n",
    "    optimizer=optimizer, loss=\"categorical_crossentropy\", metrics=[\"accuracy\"]\n",
    ")\n",
    "\n",
    "early_stopping = tf.keras.callbacks.EarlyStopping(\n",
    "    monitor=\"val_acc\", patience=10, verbose=1, restore_best_weights=True\n",
    ")\n",
    "\n",
    "keras_model.fit(\n",
    "    X_train,\n",
    "    Y_probs_train,\n",
    "    validation_data=(X_valid, preds_to_probs(Y_valid, 2)),\n",
    "    callbacks=[early_stopping],\n",
    "    epochs=20,\n",
    "    verbose=0,\n",
    ")\n",
    "\n",
    "Y_probs_test = keras_model.predict(X_test)\n",
    "Y_preds_test = probs_to_preds(Y_probs_test)\n",
    "print(f\"Test Accuracy: {metric_score(Y_test, Y_preds_test, metric='accuracy')}\")"
   ]
  },
  {
   "cell_type": "markdown",
   "metadata": {},
   "source": [
    "Doing this, we observe an additional boost in accuracy over the `LabelModel` by multiple points—**the training set produced by the `LabelModel` successfully transferred our domain knowledge to the classifier, which was able to generalize beyond the noisy heuristics we provided in our LFs!**"
   ]
  },
  {
   "cell_type": "markdown",
   "metadata": {},
   "source": [
    "We can compare this to the score we could have gotten if we had used our small labeled dev set directly as training data instead of using it to guide the creation of LFs."
   ]
  },
  {
   "cell_type": "code",
   "execution_count": 35,
   "metadata": {},
   "outputs": [
    {
     "name": "stderr",
     "output_type": "stream",
     "text": [
      "W0726 05:17:00.529885 139961230317376 deprecation.py:323] From /home/ubuntu/snorkel-tutorials/.tox/spam/lib/python3.6/site-packages/tensorflow/python/ops/nn_impl.py:180: add_dispatch_support.<locals>.wrapper (from tensorflow.python.ops.array_ops) is deprecated and will be removed in a future version.\n",
      "Instructions for updating:\n",
      "Use tf.where in 2.0, which has the same broadcast rule as np.where\n"
     ]
    },
    {
     "name": "stdout",
     "output_type": "stream",
     "text": [
      "Test Accuracy: 0.776\n"
     ]
    }
   ],
   "source": [
    "keras_rounded_model = tf.keras.Sequential()\n",
    "keras_rounded_model.add(\n",
    "    tf.keras.layers.Dense(\n",
    "        1,\n",
    "        input_dim=X_train.shape[1],\n",
    "        activation=tf.nn.sigmoid,\n",
    "        kernel_regularizer=tf.keras.regularizers.l2(0.01),\n",
    "    )\n",
    ")\n",
    "optimizer = tf.keras.optimizers.Adam(lr=0.001)\n",
    "keras_rounded_model.compile(\n",
    "    optimizer=optimizer, loss=\"binary_crossentropy\", metrics=[\"accuracy\"]\n",
    ")\n",
    "\n",
    "keras_rounded_model.fit(\n",
    "    X_dev,\n",
    "    Y_dev,\n",
    "    validation_data=(X_valid, Y_valid),\n",
    "    callbacks=[early_stopping],\n",
    "    epochs=20,\n",
    "    verbose=0,\n",
    ")\n",
    "\n",
    "Y_probs_test = keras_rounded_model.predict(X_test)\n",
    "Y_preds_test = np.round(Y_probs_test)\n",
    "print(f\"Test Accuracy: {metric_score(Y_test, Y_preds_test, metric='accuracy')}\")"
   ]
  },
  {
   "cell_type": "markdown",
   "metadata": {},
   "source": [
    "### Scikit-Learn with Rounded Labels"
   ]
  },
  {
   "cell_type": "markdown",
   "metadata": {},
   "source": [
    "If we want to use a library or model that doesn't accept probabilistic labels, we can replace each label distribution with the label of the class that has the maximum probability.\n",
    "This can easily be done using the helper method `probs_to_preds` (note, however, that this transformation is lossy, as we no longer have values for our confidence in each label)."
   ]
  },
  {
   "cell_type": "code",
   "execution_count": 36,
   "metadata": {},
   "outputs": [],
   "source": [
    "Y_preds_train = probs_to_preds(Y_probs_train)"
   ]
  },
  {
   "cell_type": "markdown",
   "metadata": {},
   "source": [
    "For example, this allows us to use standard models from Scikit-Learn."
   ]
  },
  {
   "cell_type": "code",
   "execution_count": 37,
   "metadata": {},
   "outputs": [
    {
     "name": "stderr",
     "output_type": "stream",
     "text": [
      "/home/ubuntu/snorkel-tutorials/.tox/spam/lib/python3.6/site-packages/sklearn/linear_model/logistic.py:432: FutureWarning: Default solver will be changed to 'lbfgs' in 0.22. Specify a solver to silence this warning.\n",
      "  FutureWarning)\n"
     ]
    },
    {
     "data": {
      "text/plain": [
       "0.864"
      ]
     },
     "execution_count": 37,
     "metadata": {},
     "output_type": "execute_result"
    }
   ],
   "source": [
    "from sklearn.linear_model import LogisticRegression\n",
    "\n",
    "sklearn_model = LogisticRegression()\n",
    "sklearn_model.fit(X_train, Y_preds_train)\n",
    "\n",
    "sklearn_model.score(X_test, Y_test)"
   ]
  },
  {
   "cell_type": "markdown",
   "metadata": {},
   "source": [
    "## Summary"
   ]
  },
  {
   "cell_type": "markdown",
   "metadata": {},
   "source": [
    "In this tutorial, we accomplished the following:\n",
    "* We introduced the concept of Labeling Functions (LFs) and demonstrated some of the forms they can take.\n",
    "* We used the Snorkel `LabelModel` to automatically learn how to combine many weak labels into strong probabilistic labels.\n",
    "* We showed that a classifier trained on a weakly supervised dataset can outperform an approach based on the LFs alone as it learns to generalize beyond the noisy heuristics we provide."
   ]
  },
  {
   "cell_type": "markdown",
   "metadata": {},
   "source": [
    "### Next Steps"
   ]
  },
  {
   "cell_type": "markdown",
   "metadata": {},
   "source": [
    "If you enjoyed this tutorial and you've already checked out the Snorkel 101 Guide, check out the `snorkel-tutorials` table of contents for other tutorials that you may find interesting, including demonstrations of how to use Snorkel for scene-graph detection (images), crowdsourcing, information extraction, data augmentation, and more. (TODO: Many links)"
   ]
  }
 ],
 "metadata": {
  "jupytext": {
   "cell_metadata_filter": "-all",
   "encoding": "# -*- coding: utf-8 -*-"
  },
  "kernelspec": {
   "display_name": "Python 3",
   "language": "python",
   "name": "python3"
  },
  "language_info": {
   "codemirror_mode": {
    "name": "ipython",
    "version": 3
   },
   "file_extension": ".py",
   "mimetype": "text/x-python",
   "name": "python",
   "nbconvert_exporter": "python",
   "pygments_lexer": "ipython3",
   "version": "3.6.8"
  }
 },
 "nbformat": 4,
 "nbformat_minor": 2
}
