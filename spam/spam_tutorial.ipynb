{
 "cells": [
  {
   "cell_type": "markdown",
   "metadata": {},
   "source": [
    "# Introductory Snorkel Tutorial: Spam Detection"
   ]
  },
  {
   "cell_type": "markdown",
   "metadata": {},
   "source": [
    "* Nice introductory text\n",
    "* Purpose of this tutorial...\n",
    "* Steps:\n",
    "    1. Load data\n",
    "    2. Write labeling functions (LFs)\n",
    "    3. Combine with Label Model\n",
    "    4. Predict with Classifier"
   ]
  },
  {
   "cell_type": "markdown",
   "metadata": {},
   "source": [
    "### Task: Spam Detection"
   ]
  },
  {
   "cell_type": "markdown",
   "metadata": {},
   "source": [
    "* Here's what we're trying to do\n",
    "* Here's where the data came from (cite properly)\n",
    "* Show sample T and F in markdown"
   ]
  },
  {
   "cell_type": "markdown",
   "metadata": {},
   "source": [
    "### Data Splits in Snorkel"
   ]
  },
  {
   "cell_type": "markdown",
   "metadata": {},
   "source": [
    "* 4 splits: train, dev, valid, test\n",
    "* train is large and unlabeled\n",
    "* valid/test is labeled and you don't look at it\n",
    "* best to come up with LFs while looking at data. Options:\n",
    "    * look at train for ideas; no labels, but np.\n",
    "    * label small subset of train (e.g., 200), call it \"dev\"\n",
    "    * in a pinch, use valid set as dev (note though that valid will no longer be good rep of test)"
   ]
  },
  {
   "cell_type": "markdown",
   "metadata": {},
   "source": [
    "## 1. Load data"
   ]
  },
  {
   "cell_type": "markdown",
   "metadata": {},
   "source": [
    "* Start by loading data\n",
    "* utility pulls from internet, re-splits, and shuffles\n",
    "* for this application, train is videos 1-4, valid/test are video 5"
   ]
  },
  {
   "cell_type": "code",
   "execution_count": 11,
   "metadata": {
    "lines_to_next_cell": 2
   },
   "outputs": [],
   "source": [
    "from utils import load_spam_dataset\n",
    "\n",
    "df_train, df_dev, df_valid, df_test = load_spam_dataset()"
   ]
  },
  {
   "cell_type": "markdown",
   "metadata": {},
   "source": [
    "* Describe fields"
   ]
  },
  {
   "cell_type": "code",
   "execution_count": 12,
   "metadata": {},
   "outputs": [
    {
     "data": {
      "text/html": [
       "<div>\n",
       "<style scoped>\n",
       "    .dataframe tbody tr th:only-of-type {\n",
       "        vertical-align: middle;\n",
       "    }\n",
       "\n",
       "    .dataframe tbody tr th {\n",
       "        vertical-align: top;\n",
       "    }\n",
       "\n",
       "    .dataframe thead th {\n",
       "        text-align: right;\n",
       "    }\n",
       "</style>\n",
       "<table border=\"1\" class=\"dataframe\">\n",
       "  <thead>\n",
       "    <tr style=\"text-align: right;\">\n",
       "      <th></th>\n",
       "      <th>COMMENT_ID</th>\n",
       "      <th>AUTHOR</th>\n",
       "      <th>DATE</th>\n",
       "      <th>CONTENT</th>\n",
       "      <th>LABEL</th>\n",
       "      <th>VIDEO_ID</th>\n",
       "    </tr>\n",
       "  </thead>\n",
       "  <tbody>\n",
       "    <tr>\n",
       "      <th>394</th>\n",
       "      <td>z12shxbbulncyx43n23psbzohvumz1nib04</td>\n",
       "      <td>Will Smith</td>\n",
       "      <td>2014-12-22T04:56:24.257000</td>\n",
       "      <td>Check out this playlist on YouTube:pl﻿</td>\n",
       "      <td>1</td>\n",
       "      <td>3</td>\n",
       "    </tr>\n",
       "    <tr>\n",
       "      <th>266</th>\n",
       "      <td>z12jzbkwfyuzdr1gg04cgzjqdpfgtnm5l04</td>\n",
       "      <td>Chris4chan</td>\n",
       "      <td>2015-05-26T02:55:34.984000</td>\n",
       "      <td>This video is kinda close to 1 million  views &lt;br /&gt;﻿</td>\n",
       "      <td>2</td>\n",
       "      <td>4</td>\n",
       "    </tr>\n",
       "    <tr>\n",
       "      <th>358</th>\n",
       "      <td>z12wjzc4eprnvja4304cgbbizuved35wxcs</td>\n",
       "      <td>Dakota Taylor</td>\n",
       "      <td>2015-05-29T02:13:07.810000</td>\n",
       "      <td>Cool﻿</td>\n",
       "      <td>2</td>\n",
       "      <td>4</td>\n",
       "    </tr>\n",
       "    <tr>\n",
       "      <th>434</th>\n",
       "      <td>z13lfpkzyzvoynqvi234g5ix3taoefr21</td>\n",
       "      <td>Roham 11</td>\n",
       "      <td>2015-05-22T20:42:29.523000</td>\n",
       "      <td>Strong messages in every  song I&amp;#39;ve  heard.﻿</td>\n",
       "      <td>2</td>\n",
       "      <td>3</td>\n",
       "    </tr>\n",
       "    <tr>\n",
       "      <th>249</th>\n",
       "      <td>z12mhbmbhlv5jbi1n231chnqtrmkjrenc</td>\n",
       "      <td>MrSlowGhost</td>\n",
       "      <td>2014-10-21T15:30:56</td>\n",
       "      <td>It should be illegal to be this goodlooking as this babe is...﻿</td>\n",
       "      <td>2</td>\n",
       "      <td>2</td>\n",
       "    </tr>\n",
       "  </tbody>\n",
       "</table>\n",
       "</div>"
      ],
      "text/plain": [
       "                              COMMENT_ID         AUTHOR  \\\n",
       "394  z12shxbbulncyx43n23psbzohvumz1nib04  Will Smith      \n",
       "266  z12jzbkwfyuzdr1gg04cgzjqdpfgtnm5l04  Chris4chan      \n",
       "358  z12wjzc4eprnvja4304cgbbizuved35wxcs  Dakota Taylor   \n",
       "434  z13lfpkzyzvoynqvi234g5ix3taoefr21    Roham 11        \n",
       "249  z12mhbmbhlv5jbi1n231chnqtrmkjrenc    MrSlowGhost     \n",
       "\n",
       "                           DATE  \\\n",
       "394  2014-12-22T04:56:24.257000   \n",
       "266  2015-05-26T02:55:34.984000   \n",
       "358  2015-05-29T02:13:07.810000   \n",
       "434  2015-05-22T20:42:29.523000   \n",
       "249  2014-10-21T15:30:56          \n",
       "\n",
       "                                                             CONTENT  LABEL  \\\n",
       "394  Check out this playlist on YouTube:pl﻿                           1       \n",
       "266  This video is kinda close to 1 million  views <br />﻿            2       \n",
       "358  Cool﻿                                                            2       \n",
       "434  Strong messages in every  song I&#39;ve  heard.﻿                 2       \n",
       "249  It should be illegal to be this goodlooking as this babe is...﻿  2       \n",
       "\n",
       "     VIDEO_ID  \n",
       "394  3         \n",
       "266  4         \n",
       "358  4         \n",
       "434  3         \n",
       "249  2         "
      ]
     },
     "execution_count": 12,
     "metadata": {},
     "output_type": "execute_result"
    }
   ],
   "source": [
    "df_train.sample(5, random_state=1)"
   ]
  },
  {
   "cell_type": "markdown",
   "metadata": {},
   "source": [
    "## 2. Write Labeling Functions (LFs)"
   ]
  },
  {
   "cell_type": "markdown",
   "metadata": {},
   "source": [
    "* What's an LF\n",
    "    * Why are they awesome\n",
    "* Can be many types:\n",
    "    * keyword\n",
    "    * pattern-match\n",
    "    * heuristic\n",
    "    * third-party models\n",
    "    * distant supervision\n",
    "    * crowdworkers (non-expert)"
   ]
  },
  {
   "cell_type": "markdown",
   "metadata": {},
   "source": [
    "* Look at 10 examples; got any ideas?"
   ]
  },
  {
   "cell_type": "code",
   "execution_count": 13,
   "metadata": {},
   "outputs": [
    {
     "data": {
      "text/html": [
       "<div>\n",
       "<style scoped>\n",
       "    .dataframe tbody tr th:only-of-type {\n",
       "        vertical-align: middle;\n",
       "    }\n",
       "\n",
       "    .dataframe tbody tr th {\n",
       "        vertical-align: top;\n",
       "    }\n",
       "\n",
       "    .dataframe thead th {\n",
       "        text-align: right;\n",
       "    }\n",
       "</style>\n",
       "<table border=\"1\" class=\"dataframe\">\n",
       "  <thead>\n",
       "    <tr style=\"text-align: right;\">\n",
       "      <th></th>\n",
       "      <th>CONTENT</th>\n",
       "      <th>LABEL</th>\n",
       "    </tr>\n",
       "  </thead>\n",
       "  <tbody>\n",
       "    <tr>\n",
       "      <th>159</th>\n",
       "      <td>You guys should check out this EXTRAORDINARY website called ZONEPA.COM .   You can make money online and start working from home today as I am!   I am making over $3,000+ per month at ZONEPA.COM !   Visit Zonepa.com and check it out!  Why does the answer rehabilitate the blushing limit? The push depreciateds the steel. How does the beautiful selection edit the range?</td>\n",
       "      <td>1</td>\n",
       "    </tr>\n",
       "    <tr>\n",
       "      <th>133</th>\n",
       "      <td>I'm sorry Katy Perry, I was being weird. I still love you &amp;lt;3﻿</td>\n",
       "      <td>2</td>\n",
       "    </tr>\n",
       "    <tr>\n",
       "      <th>234</th>\n",
       "      <td>plz subscribe to my channel i need subs and if you do i will sub back i  need help﻿</td>\n",
       "      <td>1</td>\n",
       "    </tr>\n",
       "    <tr>\n",
       "      <th>193</th>\n",
       "      <td>Is that tiger called 'Katty Purry'?﻿</td>\n",
       "      <td>2</td>\n",
       "    </tr>\n",
       "    <tr>\n",
       "      <th>218</th>\n",
       "      <td>Check out this video on YouTube: &lt;a rel=\"nofollow\" class=\"ot-hashtag\" href=\"https://plus.google.com/s/%23Eminem\"&gt;#Eminem&lt;/a&gt; &lt;a rel=\"nofollow\" class=\"ot-hashtag\" href=\"https://plus.google.com/s/%23Lovethewayyoulie\"&gt;#Lovethewayyoulie&lt;/a&gt; &lt;a rel=\"nofollow\" class=\"ot-hashtag\" href=\"https://plus.google.com/s/%23RapGod\"&gt;#RapGod&lt;/a&gt; &lt;a rel=\"nofollow\" class=\"ot-hashtag\" href=\"https://plus.google.com/s/%23King\"&gt;#King&lt;/a&gt; ﻿</td>\n",
       "      <td>1</td>\n",
       "    </tr>\n",
       "    <tr>\n",
       "      <th>6</th>\n",
       "      <td>nice ..very nice﻿</td>\n",
       "      <td>2</td>\n",
       "    </tr>\n",
       "    <tr>\n",
       "      <th>390</th>\n",
       "      <td>ayyy can u guys please check out my rap video im 16 n im juss tryna get some love please chrck it out an thank u</td>\n",
       "      <td>1</td>\n",
       "    </tr>\n",
       "    <tr>\n",
       "      <th>171</th>\n",
       "      <td>Dance :)﻿</td>\n",
       "      <td>2</td>\n",
       "    </tr>\n",
       "    <tr>\n",
       "      <th>175</th>\n",
       "      <td>e.e....everyone could check out my channel.. dundundunnn</td>\n",
       "      <td>1</td>\n",
       "    </tr>\n",
       "    <tr>\n",
       "      <th>155</th>\n",
       "      <td>I think this is now a place to promote channels in the comment section lol.﻿</td>\n",
       "      <td>2</td>\n",
       "    </tr>\n",
       "  </tbody>\n",
       "</table>\n",
       "</div>"
      ],
      "text/plain": [
       "                                                                                                                                                                                                                                                                                                                                                                                                                                CONTENT  \\\n",
       "159  You guys should check out this EXTRAORDINARY website called ZONEPA.COM .   You can make money online and start working from home today as I am!   I am making over $3,000+ per month at ZONEPA.COM !   Visit Zonepa.com and check it out!  Why does the answer rehabilitate the blushing limit? The push depreciateds the steel. How does the beautiful selection edit the range?                                                    \n",
       "133  I'm sorry Katy Perry, I was being weird. I still love you &lt;3﻿                                                                                                                                                                                                                                                                                                                                                                     \n",
       "234  plz subscribe to my channel i need subs and if you do i will sub back i  need help﻿                                                                                                                                                                                                                                                                                                                                                  \n",
       "193  Is that tiger called 'Katty Purry'?﻿                                                                                                                                                                                                                                                                                                                                                                                                 \n",
       "218  Check out this video on YouTube: <a rel=\"nofollow\" class=\"ot-hashtag\" href=\"https://plus.google.com/s/%23Eminem\">#Eminem</a> <a rel=\"nofollow\" class=\"ot-hashtag\" href=\"https://plus.google.com/s/%23Lovethewayyoulie\">#Lovethewayyoulie</a> <a rel=\"nofollow\" class=\"ot-hashtag\" href=\"https://plus.google.com/s/%23RapGod\">#RapGod</a> <a rel=\"nofollow\" class=\"ot-hashtag\" href=\"https://plus.google.com/s/%23King\">#King</a> ﻿   \n",
       "6    nice ..very nice﻿                                                                                                                                                                                                                                                                                                                                                                                                                    \n",
       "390  ayyy can u guys please check out my rap video im 16 n im juss tryna get some love please chrck it out an thank u                                                                                                                                                                                                                                                                                                                     \n",
       "171  Dance :)﻿                                                                                                                                                                                                                                                                                                                                                                                                                            \n",
       "175  e.e....everyone could check out my channel.. dundundunnn                                                                                                                                                                                                                                                                                                                                                                             \n",
       "155  I think this is now a place to promote channels in the comment section lol.﻿                                                                                                                                                                                                                                                                                                                                                         \n",
       "\n",
       "     LABEL  \n",
       "159  1      \n",
       "133  2      \n",
       "234  1      \n",
       "193  2      \n",
       "218  1      \n",
       "6    2      \n",
       "390  1      \n",
       "171  2      \n",
       "175  1      \n",
       "155  2      "
      ]
     },
     "execution_count": 13,
     "metadata": {},
     "output_type": "execute_result"
    }
   ],
   "source": [
    "# Don't truncate text fields in the display\n",
    "pd.set_option('display.max_colwidth', 0)  \n",
    "\n",
    "# Display just the text and label\n",
    "df_dev[[\"CONTENT\", \"LABEL\"]].sample(10, random_state=123)"
   ]
  },
  {
   "cell_type": "markdown",
   "metadata": {},
   "source": [
    "The simplest way to create labeling functions in Snorkel is with the `@labeling_function()` decorator, which wraps a function for evaluating on a single `DataPoint` (in this case, a row of the dataframe).\n",
    "\n",
    "Looking at samples of our data, we see multiple messages where spammers are trying to get viewers to look at \"my channel\" or \"my video,\" so we write a simple LF that labels an example as spam if it includes the word \"my\"."
   ]
  },
  {
   "cell_type": "code",
   "execution_count": 14,
   "metadata": {},
   "outputs": [],
   "source": [
    "from snorkel.labeling.lf import labeling_function\n",
    "\n",
    "# For clarity, we'll define constants to represent the class labels for spam, ham, and abstaining.\n",
    "ABSTAIN = 0\n",
    "SPAM = 1\n",
    "HAM = 2\n",
    "\n",
    "# We initialize an empty list that we'll add our LFs to as we create them\n",
    "lfs = []\n",
    "\n",
    "@labeling_function()\n",
    "def keywords_my(x):\n",
    "    return SPAM if 'my' in x.CONTENT.lower() else ABSTAIN\n",
    "\n",
    "lfs.append(keywords_my)"
   ]
  },
  {
   "cell_type": "markdown",
   "metadata": {},
   "source": [
    "To apply one or more LFs that we've written to a collection of `DataPoints`, we use an `LFApplier`.\n",
    "\n",
    "Because our `DataPoints` are represented with a Pandas dataframe in this tutorial, we use the `PandasLFApplier` class."
   ]
  },
  {
   "cell_type": "code",
   "execution_count": 15,
   "metadata": {},
   "outputs": [
    {
     "name": "stderr",
     "output_type": "stream",
     "text": [
      "100%|██████████████████████████████████████████████████████████████████████████████████████████████████████████████████████████████████████| 1586/1586 [00:00<00:00, 32982.62it/s]\n"
     ]
    }
   ],
   "source": [
    "from snorkel.labeling.apply import PandasLFApplier\n",
    "\n",
    "applier = PandasLFApplier(lfs)\n",
    "L_train = applier.apply(df_train)"
   ]
  },
  {
   "cell_type": "markdown",
   "metadata": {},
   "source": [
    "The output of the `apply()` method is a sparse label matrix which we generally refer to as `L`."
   ]
  },
  {
   "cell_type": "code",
   "execution_count": 16,
   "metadata": {},
   "outputs": [
    {
     "data": {
      "text/plain": [
       "<1586x1 sparse matrix of type '<class 'numpy.int64'>'\n",
       "\twith 315 stored elements in Compressed Sparse Row format>"
      ]
     },
     "execution_count": 16,
     "metadata": {},
     "output_type": "execute_result"
    }
   ],
   "source": [
    "L_train"
   ]
  },
  {
   "cell_type": "markdown",
   "metadata": {},
   "source": [
    "We can easily calculate the coverage of this LF (i.e., the percentage of the dataset that it labels) as follows:"
   ]
  },
  {
   "cell_type": "code",
   "execution_count": 17,
   "metadata": {},
   "outputs": [
    {
     "name": "stdout",
     "output_type": "stream",
     "text": [
      "Coverage: 0.19861286254728877\n"
     ]
    }
   ],
   "source": [
    "coverage = L_train.nnz / L_train.shape[0]\n",
    "print(f\"Coverage: {coverage}\")"
   ]
  },
  {
   "cell_type": "markdown",
   "metadata": {},
   "source": [
    "To get an estimate of its accuracy, we can label the development set with it and compare that to the few gold labels we do have."
   ]
  },
  {
   "cell_type": "code",
   "execution_count": 18,
   "metadata": {},
   "outputs": [
    {
     "name": "stderr",
     "output_type": "stream",
     "text": [
      "100%|████████████████████████████████████████████████████████████████████████████████████████████████████████████████████████████████████████| 200/200 [00:00<00:00, 26998.19it/s]"
     ]
    },
    {
     "name": "stdout",
     "output_type": "stream",
     "text": [
      "Accuracy: 0.9090909090909091\n"
     ]
    },
    {
     "name": "stderr",
     "output_type": "stream",
     "text": [
      "\n"
     ]
    }
   ],
   "source": [
    "L_dev = applier.apply(df_dev)\n",
    "\n",
    "# Note that we don't want to penalize the LF for examples where it abstained, \n",
    "# so we filter out both the predictions and the gold labels where the prediction\n",
    "# is ABSTAIN\n",
    "L_dev_array = np.asarray(L_dev.todense()).squeeze()\n",
    "Y_dev_array = df_dev[\"LABEL\"].values\n",
    "accuracy = ((L_dev_array == Y_dev_array)[L_dev_array != ABSTAIN]).sum() / (L_dev_array != ABSTAIN).sum()\n",
    "print(f\"Accuracy: {accuracy}\")"
   ]
  },
  {
   "cell_type": "markdown",
   "metadata": {},
   "source": [
    "Alternatively, you can use the helper method `lf_summary` to report the following summary statistics:\n",
    "* Polarity: The set of labels this LF outputs\n",
    "* Coverage: The fraction of the dataset the LF labels\n",
    "* Overlaps: The fraction of the dataset where this LF and at least one other LF label\n",
    "* Conflicts: The fraction of the dataset where this LF and at least one other LF label and disagree\n",
    "* Correct: The number of `DataPoints` this LF labels correctly (if gold labels are provided)\n",
    "* Incorrect: The number of `DataPoints` this LF labels incorrectly (if gold labels are provided)\n",
    "* Emp. Acc.: The empirical accuracy of this LF (if gold labels are provided)"
   ]
  },
  {
   "cell_type": "code",
   "execution_count": 19,
   "metadata": {
    "scrolled": true
   },
   "outputs": [
    {
     "data": {
      "text/html": [
       "<div>\n",
       "<style scoped>\n",
       "    .dataframe tbody tr th:only-of-type {\n",
       "        vertical-align: middle;\n",
       "    }\n",
       "\n",
       "    .dataframe tbody tr th {\n",
       "        vertical-align: top;\n",
       "    }\n",
       "\n",
       "    .dataframe thead th {\n",
       "        text-align: right;\n",
       "    }\n",
       "</style>\n",
       "<table border=\"1\" class=\"dataframe\">\n",
       "  <thead>\n",
       "    <tr style=\"text-align: right;\">\n",
       "      <th></th>\n",
       "      <th>j</th>\n",
       "      <th>Polarity</th>\n",
       "      <th>Coverage</th>\n",
       "      <th>Overlaps</th>\n",
       "      <th>Conflicts</th>\n",
       "      <th>Correct</th>\n",
       "      <th>Incorrect</th>\n",
       "      <th>Emp. Acc.</th>\n",
       "    </tr>\n",
       "  </thead>\n",
       "  <tbody>\n",
       "    <tr>\n",
       "      <th>keywords_my</th>\n",
       "      <td>0</td>\n",
       "      <td>[1]</td>\n",
       "      <td>0.22</td>\n",
       "      <td>0.0</td>\n",
       "      <td>0.0</td>\n",
       "      <td>40</td>\n",
       "      <td>4</td>\n",
       "      <td>0.909091</td>\n",
       "    </tr>\n",
       "  </tbody>\n",
       "</table>\n",
       "</div>"
      ],
      "text/plain": [
       "             j Polarity  Coverage  Overlaps  Conflicts  Correct  Incorrect  \\\n",
       "keywords_my  0  [1]      0.22      0.0       0.0        40       4           \n",
       "\n",
       "             Emp. Acc.  \n",
       "keywords_my  0.909091   "
      ]
     },
     "execution_count": 19,
     "metadata": {},
     "output_type": "execute_result"
    }
   ],
   "source": [
    "from snorkel.labeling.analysis import lf_summary\n",
    "\n",
    "lf_names= [lf.name for lf in lfs]\n",
    "lf_summary(L=L_dev, Y=Y_dev_array, lf_names=lf_names)"
   ]
  },
  {
   "cell_type": "markdown",
   "metadata": {},
   "source": [
    "This LF is fairly accurate, but it only labels a fraction of the dataset.\n",
    "If we want to do well on our test set, we'll need more LFs.\n",
    "\n",
    "In the following subsections, we'll show just a few of the many types of LFs that you could write to generate a training dataset for this problem."
   ]
  },
  {
   "cell_type": "markdown",
   "metadata": {},
   "source": [
    "### i. Keyword LFs"
   ]
  },
  {
   "cell_type": "markdown",
   "metadata": {},
   "source": [
    "* Keywords"
   ]
  },
  {
   "cell_type": "markdown",
   "metadata": {},
   "source": [
    "### ii. Pattern-matching LFs"
   ]
  },
  {
   "cell_type": "markdown",
   "metadata": {},
   "source": [
    "* Regexes"
   ]
  },
  {
   "cell_type": "markdown",
   "metadata": {},
   "source": [
    "### iii.  Heuristic LFs"
   ]
  },
  {
   "cell_type": "markdown",
   "metadata": {},
   "source": [
    "* Length, early comma, etc.\n",
    "* SpaCy (preprocessor)"
   ]
  },
  {
   "cell_type": "markdown",
   "metadata": {},
   "source": [
    "### iv. Third-party Model LFs"
   ]
  },
  {
   "cell_type": "markdown",
   "metadata": {},
   "source": [
    "* Sentiment classifier (preprocessor)"
   ]
  },
  {
   "cell_type": "markdown",
   "metadata": {},
   "source": [
    "### v. Write your own LFs"
   ]
  },
  {
   "cell_type": "markdown",
   "metadata": {},
   "source": [
    "* Make a stub"
   ]
  },
  {
   "cell_type": "markdown",
   "metadata": {},
   "source": [
    "## 3. Combine with Label Model"
   ]
  },
  {
   "cell_type": "markdown",
   "metadata": {},
   "source": [
    "* Pretty much copy prose from Spouse tutorial"
   ]
  },
  {
   "cell_type": "markdown",
   "metadata": {},
   "source": [
    "* Run LabelModel, get probabilities\n",
    "    * Note: no labels are required or used\n",
    "* Look at probabilities (histogram)\n",
    "* What if we used this directly as a classifier? (score)\n",
    "    * Why we expect classifier we train to generalize better\n",
    "    * Look - we're randomly guessing on XX% of the data"
   ]
  },
  {
   "cell_type": "markdown",
   "metadata": {},
   "source": [
    "* Can also compare to MV\n",
    "    * Does worse"
   ]
  },
  {
   "cell_type": "markdown",
   "metadata": {},
   "source": [
    "## 4. Predict with Classifier"
   ]
  },
  {
   "cell_type": "markdown",
   "metadata": {},
   "source": [
    "* Now train classifier\n",
    "    * Can use any third-party classifier (plug into your existing pipelines!)\n",
    "    * Some libraries natively support probabilistic labels (us, TF); for others, can round.\n",
    "* Use bag-of-ngrams as features\n",
    "* [Train TF logreg w/ soft labels]\n",
    "* Score; see, we do better!\n",
    "* Also demonstrate sklearn logreg with hard labels (end model agnostic)\n",
    "* Compare with training on dev directly (see, we did better)\n",
    "    * And we could do even better with more raw unlabeled data"
   ]
  },
  {
   "cell_type": "code",
   "execution_count": null,
   "metadata": {},
   "outputs": [],
   "source": []
  }
 ],
 "metadata": {
  "jupytext": {
   "cell_metadata_filter": "title,-all",
   "formats": "ipynb,py:percent"
  },
  "kernelspec": {
   "display_name": "snorkel_tutorials_env",
   "language": "python",
   "name": "snorkel_tutorials_env"
  },
  "language_info": {
   "codemirror_mode": {
    "name": "ipython",
    "version": 3
   },
   "file_extension": ".py",
   "mimetype": "text/x-python",
   "name": "python",
   "nbconvert_exporter": "python",
   "pygments_lexer": "ipython3",
   "version": "3.7.3"
  }
 },
 "nbformat": 4,
 "nbformat_minor": 2
}
