{
 "cells": [
  {
   "cell_type": "code",
   "execution_count": 61,
   "metadata": {
    "scrolled": false
   },
   "outputs": [],
   "source": [
    "from utils import load_spam_dataset\n",
    "\n",
    "df_train, df_valid, df_test = load_spam_dataset()"
   ]
  },
  {
   "cell_type": "code",
   "execution_count": 62,
   "metadata": {
    "scrolled": true
   },
   "outputs": [
    {
     "data": {
      "text/html": [
       "<div>\n",
       "<style scoped>\n",
       "    .dataframe tbody tr th:only-of-type {\n",
       "        vertical-align: middle;\n",
       "    }\n",
       "\n",
       "    .dataframe tbody tr th {\n",
       "        vertical-align: top;\n",
       "    }\n",
       "\n",
       "    .dataframe thead th {\n",
       "        text-align: right;\n",
       "    }\n",
       "</style>\n",
       "<table border=\"1\" class=\"dataframe\">\n",
       "  <thead>\n",
       "    <tr style=\"text-align: right;\">\n",
       "      <th></th>\n",
       "      <th>COMMENT_ID</th>\n",
       "      <th>AUTHOR</th>\n",
       "      <th>DATE</th>\n",
       "      <th>CONTENT</th>\n",
       "      <th>LABEL</th>\n",
       "      <th>VIDEO_ID</th>\n",
       "    </tr>\n",
       "  </thead>\n",
       "  <tbody>\n",
       "    <tr>\n",
       "      <th>344</th>\n",
       "      <td>_2viQ_Qnc68ki9xsFeN2y1_ZiHYcZC8Qv1GyHfwqr7Y</td>\n",
       "      <td>steven reed</td>\n",
       "      <td>2013-07-19T22:12:16.609000</td>\n",
       "      <td>Please check out and send to others Freedom an...</td>\n",
       "      <td>1</td>\n",
       "      <td>5</td>\n",
       "    </tr>\n",
       "    <tr>\n",
       "      <th>7</th>\n",
       "      <td>z12uujnj2sifvzvav04chpypvofvexpoggg</td>\n",
       "      <td>Sudheer Yadav</td>\n",
       "      <td>2015-05-28T10:28:25.133000</td>\n",
       "      <td>SEE SOME MORE SONG OPEN GOOGLE AND TYPE Shakir...</td>\n",
       "      <td>1</td>\n",
       "      <td>5</td>\n",
       "    </tr>\n",
       "    <tr>\n",
       "      <th>122</th>\n",
       "      <td>z12uftdyclu0s1mbc04cffvjlrukxpl5zdg</td>\n",
       "      <td>Napoleon Maldia</td>\n",
       "      <td>2015-05-21T01:53:33.012000</td>\n",
       "      <td>Cutie girl and beautiful song</td>\n",
       "      <td>2</td>\n",
       "      <td>5</td>\n",
       "    </tr>\n",
       "    <tr>\n",
       "      <th>365</th>\n",
       "      <td>_2viQ_Qnc6-bMSjqyL1NKj57ROicCSJV5SwTrw-RFFA</td>\n",
       "      <td>Katie Mettam</td>\n",
       "      <td>2013-07-13T13:27:39.441000</td>\n",
       "      <td>I love this song because we sing it at Camp al...</td>\n",
       "      <td>2</td>\n",
       "      <td>5</td>\n",
       "    </tr>\n",
       "    <tr>\n",
       "      <th>318</th>\n",
       "      <td>_2viQ_Qnc6870xv47G-__kc0IimrvnGFcLXaLnJsiFE</td>\n",
       "      <td>Edward Wright</td>\n",
       "      <td>2013-08-11T05:23:08.533000</td>\n",
       "      <td>Hey, hit this shit up while yall can, they kil...</td>\n",
       "      <td>1</td>\n",
       "      <td>5</td>\n",
       "    </tr>\n",
       "  </tbody>\n",
       "</table>\n",
       "</div>"
      ],
      "text/plain": [
       "                                      COMMENT_ID           AUTHOR  \\\n",
       "344  _2viQ_Qnc68ki9xsFeN2y1_ZiHYcZC8Qv1GyHfwqr7Y      steven reed   \n",
       "7            z12uujnj2sifvzvav04chpypvofvexpoggg    Sudheer Yadav   \n",
       "122          z12uftdyclu0s1mbc04cffvjlrukxpl5zdg  Napoleon Maldia   \n",
       "365  _2viQ_Qnc6-bMSjqyL1NKj57ROicCSJV5SwTrw-RFFA     Katie Mettam   \n",
       "318  _2viQ_Qnc6870xv47G-__kc0IimrvnGFcLXaLnJsiFE    Edward Wright   \n",
       "\n",
       "                           DATE  \\\n",
       "344  2013-07-19T22:12:16.609000   \n",
       "7    2015-05-28T10:28:25.133000   \n",
       "122  2015-05-21T01:53:33.012000   \n",
       "365  2013-07-13T13:27:39.441000   \n",
       "318  2013-08-11T05:23:08.533000   \n",
       "\n",
       "                                               CONTENT  LABEL  VIDEO_ID  \n",
       "344  Please check out and send to others Freedom an...      1         5  \n",
       "7    SEE SOME MORE SONG OPEN GOOGLE AND TYPE Shakir...      1         5  \n",
       "122                      Cutie girl and beautiful song      2         5  \n",
       "365  I love this song because we sing it at Camp al...      2         5  \n",
       "318  Hey, hit this shit up while yall can, they kil...      1         5  "
      ]
     },
     "execution_count": 62,
     "metadata": {},
     "output_type": "execute_result"
    }
   ],
   "source": [
    "df_valid.head()"
   ]
  },
  {
   "cell_type": "markdown",
   "metadata": {},
   "source": [
    "### Test end model quality"
   ]
  },
  {
   "cell_type": "code",
   "execution_count": 63,
   "metadata": {
    "scrolled": false
   },
   "outputs": [],
   "source": [
    "# from ludwig.api import LudwigModel\n",
    "\n",
    "# df_train['LABEL'] = df_train['LABEL'].map({1: 1, 2: 0})\n",
    "# df_valid['LABEL'] = df_valid['LABEL'].map({1: 1, 2: 0})\n",
    "# df_test['LABEL'] = df_test['LABEL'].map({1: 1, 2: 0})"
   ]
  },
  {
   "cell_type": "code",
   "execution_count": 64,
   "metadata": {
    "scrolled": false
   },
   "outputs": [],
   "source": [
    "# model_definition = {\n",
    "#     \"input_features\": [{\"name\": \"CONTENT\", \"type\": \"text\"}], \n",
    "#     \"output_features\": [{\"name\": \"LABEL\", \"type\": \"binary\"}],\n",
    "#     \"training\": {\"epochs\": 1},\n",
    "# }\n",
    "# model = LudwigModel(model_definition)\n",
    "# train_stats = model.train(\n",
    "#     data_train_df=df_train, \n",
    "#     data_validation_df=df_valid, \n",
    "#     data_test_df=df_test, \n",
    "#     logging_level=20,\n",
    "#     epochs=4,\n",
    "# )\n",
    "# train_stats"
   ]
  },
  {
   "cell_type": "markdown",
   "metadata": {},
   "source": [
    "### Test LF ideas"
   ]
  },
  {
   "cell_type": "code",
   "execution_count": 65,
   "metadata": {},
   "outputs": [],
   "source": [
    "from snorkel.labeling.lf import labeling_function\n",
    "\n",
    "lfs = []\n",
    "\n",
    "@labeling_function()\n",
    "def lf_subscribe(x):\n",
    "    return 1 if \"subscribe\" in x.CONTENT else 0\n",
    "lfs.append(lf_subscribe)\n",
    "\n",
    "@labeling_function()\n",
    "def lf_check_out(x):\n",
    "    return 1 if \"check\" in x.CONTENT.lower() and \"out\" in x.CONTENT.lower() else 0\n",
    "lfs.append(lf_check_out)\n",
    "\n",
    "@labeling_function()\n",
    "def lf_my(x):\n",
    "    return 1 if \"my\" in x.CONTENT.lower() else 0\n",
    "lfs.append(lf_my)\n",
    "\n",
    "@labeling_function()\n",
    "def lf_link(x):\n",
    "    return 1 if \"http\" in x.CONTENT.lower() else 0\n",
    "lfs.append(lf_link)\n",
    "\n",
    "@labeling_function()\n",
    "def lf_please(x):\n",
    "    return 1 if \"please\" in x.CONTENT.lower() else 0\n",
    "lfs.append(lf_please)\n",
    "\n",
    "@labeling_function()\n",
    "def lf_come(x):\n",
    "    return 1 if \"come\" in x.CONTENT.lower() else 0\n",
    "lfs.append(lf_come)\n",
    "\n",
    "@labeling_function()\n",
    "def lf_song(x):\n",
    "    return 2 if \"song\" in x.CONTENT.lower() else 0\n",
    "lfs.append(lf_song)\n",
    "\n",
    "@labeling_function()\n",
    "def lf_short(x):\n",
    "    return 2 if len(x.CONTENT.split()) < 5 else 0\n",
    "lfs.append(lf_short)\n"
   ]
  },
  {
   "cell_type": "code",
   "execution_count": 66,
   "metadata": {},
   "outputs": [
    {
     "name": "stderr",
     "output_type": "stream",
     "text": [
      "100%|██████████| 185/185 [00:00<00:00, 6558.47it/s]\n",
      "100%|██████████| 1586/1586 [00:00<00:00, 7413.57it/s]\n"
     ]
    }
   ],
   "source": [
    "from snorkel.labeling.apply import PandasLFApplier\n",
    "\n",
    "applier = PandasLFApplier(lfs)\n",
    "L_valid = applier.apply(df_valid)\n",
    "L_train = applier.apply(df_train)"
   ]
  },
  {
   "cell_type": "code",
   "execution_count": 67,
   "metadata": {},
   "outputs": [
    {
     "data": {
      "text/html": [
       "<div>\n",
       "<style scoped>\n",
       "    .dataframe tbody tr th:only-of-type {\n",
       "        vertical-align: middle;\n",
       "    }\n",
       "\n",
       "    .dataframe tbody tr th {\n",
       "        vertical-align: top;\n",
       "    }\n",
       "\n",
       "    .dataframe thead th {\n",
       "        text-align: right;\n",
       "    }\n",
       "</style>\n",
       "<table border=\"1\" class=\"dataframe\">\n",
       "  <thead>\n",
       "    <tr style=\"text-align: right;\">\n",
       "      <th></th>\n",
       "      <th>j</th>\n",
       "      <th>Polarity</th>\n",
       "      <th>Coverage</th>\n",
       "      <th>Overlaps</th>\n",
       "      <th>Conflicts</th>\n",
       "      <th>Correct</th>\n",
       "      <th>Incorrect</th>\n",
       "      <th>Emp. Acc.</th>\n",
       "    </tr>\n",
       "  </thead>\n",
       "  <tbody>\n",
       "    <tr>\n",
       "      <th>lf_subscribe</th>\n",
       "      <td>0</td>\n",
       "      <td>[1]</td>\n",
       "      <td>0.070270</td>\n",
       "      <td>0.043243</td>\n",
       "      <td>0.005405</td>\n",
       "      <td>13</td>\n",
       "      <td>0</td>\n",
       "      <td>1.000000</td>\n",
       "    </tr>\n",
       "    <tr>\n",
       "      <th>lf_check_out</th>\n",
       "      <td>1</td>\n",
       "      <td>[1]</td>\n",
       "      <td>0.205405</td>\n",
       "      <td>0.108108</td>\n",
       "      <td>0.032432</td>\n",
       "      <td>38</td>\n",
       "      <td>0</td>\n",
       "      <td>1.000000</td>\n",
       "    </tr>\n",
       "    <tr>\n",
       "      <th>lf_my</th>\n",
       "      <td>2</td>\n",
       "      <td>[1]</td>\n",
       "      <td>0.162162</td>\n",
       "      <td>0.145946</td>\n",
       "      <td>0.064865</td>\n",
       "      <td>26</td>\n",
       "      <td>4</td>\n",
       "      <td>0.866667</td>\n",
       "    </tr>\n",
       "    <tr>\n",
       "      <th>lf_link</th>\n",
       "      <td>3</td>\n",
       "      <td>[1]</td>\n",
       "      <td>0.027027</td>\n",
       "      <td>0.005405</td>\n",
       "      <td>0.005405</td>\n",
       "      <td>5</td>\n",
       "      <td>0</td>\n",
       "      <td>1.000000</td>\n",
       "    </tr>\n",
       "    <tr>\n",
       "      <th>lf_please</th>\n",
       "      <td>4</td>\n",
       "      <td>[1]</td>\n",
       "      <td>0.075676</td>\n",
       "      <td>0.059459</td>\n",
       "      <td>0.021622</td>\n",
       "      <td>14</td>\n",
       "      <td>0</td>\n",
       "      <td>1.000000</td>\n",
       "    </tr>\n",
       "    <tr>\n",
       "      <th>lf_come</th>\n",
       "      <td>5</td>\n",
       "      <td>[1]</td>\n",
       "      <td>0.032432</td>\n",
       "      <td>0.010811</td>\n",
       "      <td>0.005405</td>\n",
       "      <td>5</td>\n",
       "      <td>1</td>\n",
       "      <td>0.833333</td>\n",
       "    </tr>\n",
       "    <tr>\n",
       "      <th>lf_song</th>\n",
       "      <td>6</td>\n",
       "      <td>[2]</td>\n",
       "      <td>0.275676</td>\n",
       "      <td>0.172973</td>\n",
       "      <td>0.075676</td>\n",
       "      <td>38</td>\n",
       "      <td>13</td>\n",
       "      <td>0.745098</td>\n",
       "    </tr>\n",
       "    <tr>\n",
       "      <th>lf_short</th>\n",
       "      <td>7</td>\n",
       "      <td>[2]</td>\n",
       "      <td>0.351351</td>\n",
       "      <td>0.108108</td>\n",
       "      <td>0.010811</td>\n",
       "      <td>60</td>\n",
       "      <td>5</td>\n",
       "      <td>0.923077</td>\n",
       "    </tr>\n",
       "  </tbody>\n",
       "</table>\n",
       "</div>"
      ],
      "text/plain": [
       "              j Polarity  Coverage  Overlaps  Conflicts  Correct  Incorrect  \\\n",
       "lf_subscribe  0      [1]  0.070270  0.043243   0.005405       13          0   \n",
       "lf_check_out  1      [1]  0.205405  0.108108   0.032432       38          0   \n",
       "lf_my         2      [1]  0.162162  0.145946   0.064865       26          4   \n",
       "lf_link       3      [1]  0.027027  0.005405   0.005405        5          0   \n",
       "lf_please     4      [1]  0.075676  0.059459   0.021622       14          0   \n",
       "lf_come       5      [1]  0.032432  0.010811   0.005405        5          1   \n",
       "lf_song       6      [2]  0.275676  0.172973   0.075676       38         13   \n",
       "lf_short      7      [2]  0.351351  0.108108   0.010811       60          5   \n",
       "\n",
       "              Emp. Acc.  \n",
       "lf_subscribe   1.000000  \n",
       "lf_check_out   1.000000  \n",
       "lf_my          0.866667  \n",
       "lf_link        1.000000  \n",
       "lf_please      1.000000  \n",
       "lf_come        0.833333  \n",
       "lf_song        0.745098  \n",
       "lf_short       0.923077  "
      ]
     },
     "execution_count": 67,
     "metadata": {},
     "output_type": "execute_result"
    }
   ],
   "source": [
    "from snorkel.analysis.utils import convert_labels\n",
    "from snorkel.labeling.analysis import lf_summary\n",
    "\n",
    "Y_valid = convert_labels(df_valid.LABEL.values, \"onezero\", \"categorical\")\n",
    "lf_names= [lf.name for lf in lfs]\n",
    "lf_summary(L_valid, Y_valid, lf_names=lf_names)"
   ]
  },
  {
   "cell_type": "code",
   "execution_count": 68,
   "metadata": {},
   "outputs": [
    {
     "data": {
      "text/plain": [
       "(array([0.27427491, 0.44010088, 0.19230769, 0.06746532, 0.01954603,\n",
       "        0.00630517, 0.        ]),\n",
       " array([0, 1, 2, 3, 4, 5, 6, 7]),\n",
       " <a list of 7 Patch objects>)"
      ]
     },
     "execution_count": 68,
     "metadata": {},
     "output_type": "execute_result"
    },
    {
     "data": {
      "image/png": "[encoded data removed]",
      "text/plain": [
       "<Figure size 432x288 with 1 Axes>"
      ]
     },
     "metadata": {
      "needs_background": "light"
     },
     "output_type": "display_data"
    }
   ],
   "source": [
    "import matplotlib.pyplot as plt\n",
    "# View label frequency\n",
    "plt.hist(np.asarray((L_train != 0).sum(axis=1)), density=True, bins=range(len(lfs)))"
   ]
  },
  {
   "cell_type": "code",
   "execution_count": 102,
   "metadata": {},
   "outputs": [
    {
     "data": {
      "text/plain": [
       "([array([4.43243243, 0.        , 0.        , 0.        , 0.        ,\n",
       "         2.27027027, 0.        , 0.        , 0.        , 3.2972973 ]),\n",
       "  array([4.7027027, 0.       , 0.       , 0.       , 0.       , 0.       ,\n",
       "         0.       , 0.       , 0.       , 5.2972973])],\n",
       " array([0. , 0.1, 0.2, 0.3, 0.4, 0.5, 0.6, 0.7, 0.8, 0.9, 1. ]),\n",
       " <a list of 2 Lists of Patches objects>)"
      ]
     },
     "execution_count": 102,
     "metadata": {},
     "output_type": "execute_result"
    },
    {
     "data": {
      "image/png": "[encoded data removed]",
      "text/plain": [
       "<Figure size 432x288 with 1 Axes>"
      ]
     },
     "metadata": {
      "needs_background": "light"
     },
     "output_type": "display_data"
    }
   ],
   "source": [
    "# View probabilities distribution\n",
    "plt.hist(np.stack((Y_probs_valid[:, 0], Y_valid-1), axis=1), density=True)"
   ]
  },
  {
   "cell_type": "code",
   "execution_count": 98,
   "metadata": {},
   "outputs": [
    {
     "data": {
      "text/plain": [
       "(185, 2)"
      ]
     },
     "execution_count": 98,
     "metadata": {},
     "output_type": "execute_result"
    }
   ],
   "source": [
    "Y_probs_valid.shape"
   ]
  },
  {
   "cell_type": "code",
   "execution_count": 69,
   "metadata": {},
   "outputs": [
    {
     "name": "stderr",
     "output_type": "stream",
     "text": [
      "100%|██████████| 1586/1586 [00:00<00:00, 8100.72it/s]\n"
     ]
    },
    {
     "name": "stdout",
     "output_type": "stream",
     "text": [
      "Could not find kwarg \"k\" in destination dict.\n",
      "Computing O...\n",
      "Estimating \\mu...\n",
      "[1 epochs]: TRAIN:[loss=0.118]\n",
      "[1 epochs]: TRAIN:[loss=0.116]\n",
      "[1 epochs]: TRAIN:[loss=0.112]\n",
      "[1 epochs]: TRAIN:[loss=0.107]\n",
      "[1 epochs]: TRAIN:[loss=0.100]\n",
      "[1 epochs]: TRAIN:[loss=0.092]\n",
      "[1 epochs]: TRAIN:[loss=0.084]\n",
      "[1 epochs]: TRAIN:[loss=0.075]\n",
      "[1 epochs]: TRAIN:[loss=0.067]\n",
      "[1 epochs]: TRAIN:[loss=0.058]\n",
      "[1 epochs]: TRAIN:[loss=0.050]\n",
      "[1 epochs]: TRAIN:[loss=0.043]\n",
      "[1 epochs]: TRAIN:[loss=0.036]\n",
      "[1 epochs]: TRAIN:[loss=0.030]\n",
      "[1 epochs]: TRAIN:[loss=0.025]\n",
      "[1 epochs]: TRAIN:[loss=0.022]\n",
      "[1 epochs]: TRAIN:[loss=0.019]\n",
      "[1 epochs]: TRAIN:[loss=0.016]\n",
      "[1 epochs]: TRAIN:[loss=0.015]\n",
      "[1 epochs]: TRAIN:[loss=0.015]\n",
      "[1 epochs]: TRAIN:[loss=0.014]\n",
      "[1 epochs]: TRAIN:[loss=0.015]\n",
      "[1 epochs]: TRAIN:[loss=0.015]\n",
      "[1 epochs]: TRAIN:[loss=0.016]\n",
      "[1 epochs]: TRAIN:[loss=0.017]\n",
      "[1 epochs]: TRAIN:[loss=0.017]\n",
      "[1 epochs]: TRAIN:[loss=0.018]\n",
      "[1 epochs]: TRAIN:[loss=0.018]\n",
      "[1 epochs]: TRAIN:[loss=0.018]\n",
      "[1 epochs]: TRAIN:[loss=0.018]\n",
      "[1 epochs]: TRAIN:[loss=0.018]\n",
      "[1 epochs]: TRAIN:[loss=0.018]\n",
      "[1 epochs]: TRAIN:[loss=0.017]\n",
      "[1 epochs]: TRAIN:[loss=0.016]\n",
      "[1 epochs]: TRAIN:[loss=0.016]\n",
      "[1 epochs]: TRAIN:[loss=0.015]\n",
      "[1 epochs]: TRAIN:[loss=0.014]\n",
      "[1 epochs]: TRAIN:[loss=0.014]\n",
      "[1 epochs]: TRAIN:[loss=0.013]\n",
      "[1 epochs]: TRAIN:[loss=0.012]\n",
      "[1 epochs]: TRAIN:[loss=0.012]\n",
      "[1 epochs]: TRAIN:[loss=0.012]\n",
      "[1 epochs]: TRAIN:[loss=0.011]\n",
      "[1 epochs]: TRAIN:[loss=0.011]\n",
      "[1 epochs]: TRAIN:[loss=0.011]\n",
      "[1 epochs]: TRAIN:[loss=0.011]\n",
      "[1 epochs]: TRAIN:[loss=0.011]\n",
      "[1 epochs]: TRAIN:[loss=0.011]\n",
      "[1 epochs]: TRAIN:[loss=0.010]\n",
      "[1 epochs]: TRAIN:[loss=0.010]\n",
      "[1 epochs]: TRAIN:[loss=0.010]\n",
      "[1 epochs]: TRAIN:[loss=0.010]\n",
      "[1 epochs]: TRAIN:[loss=0.010]\n",
      "[1 epochs]: TRAIN:[loss=0.010]\n",
      "[1 epochs]: TRAIN:[loss=0.010]\n",
      "[1 epochs]: TRAIN:[loss=0.010]\n",
      "[1 epochs]: TRAIN:[loss=0.009]\n",
      "[1 epochs]: TRAIN:[loss=0.009]\n",
      "[1 epochs]: TRAIN:[loss=0.009]\n",
      "[1 epochs]: TRAIN:[loss=0.009]\n",
      "[1 epochs]: TRAIN:[loss=0.009]\n",
      "[1 epochs]: TRAIN:[loss=0.008]\n",
      "[1 epochs]: TRAIN:[loss=0.008]\n",
      "[1 epochs]: TRAIN:[loss=0.008]\n",
      "[1 epochs]: TRAIN:[loss=0.008]\n",
      "[1 epochs]: TRAIN:[loss=0.008]\n",
      "[1 epochs]: TRAIN:[loss=0.008]\n",
      "[1 epochs]: TRAIN:[loss=0.007]\n",
      "[1 epochs]: TRAIN:[loss=0.007]\n",
      "[1 epochs]: TRAIN:[loss=0.007]\n",
      "[1 epochs]: TRAIN:[loss=0.007]\n",
      "[1 epochs]: TRAIN:[loss=0.007]\n",
      "[1 epochs]: TRAIN:[loss=0.007]\n",
      "[1 epochs]: TRAIN:[loss=0.007]\n",
      "[1 epochs]: TRAIN:[loss=0.007]\n",
      "[1 epochs]: TRAIN:[loss=0.006]\n",
      "[1 epochs]: TRAIN:[loss=0.006]\n",
      "[1 epochs]: TRAIN:[loss=0.006]\n",
      "[1 epochs]: TRAIN:[loss=0.006]\n",
      "[1 epochs]: TRAIN:[loss=0.006]\n",
      "[1 epochs]: TRAIN:[loss=0.006]\n",
      "[1 epochs]: TRAIN:[loss=0.006]\n",
      "[1 epochs]: TRAIN:[loss=0.006]\n",
      "[1 epochs]: TRAIN:[loss=0.006]\n",
      "[1 epochs]: TRAIN:[loss=0.006]\n",
      "[1 epochs]: TRAIN:[loss=0.005]\n",
      "[1 epochs]: TRAIN:[loss=0.005]\n",
      "[1 epochs]: TRAIN:[loss=0.005]\n",
      "[1 epochs]: TRAIN:[loss=0.005]\n",
      "[1 epochs]: TRAIN:[loss=0.005]\n",
      "[1 epochs]: TRAIN:[loss=0.005]\n",
      "[1 epochs]: TRAIN:[loss=0.005]\n",
      "[1 epochs]: TRAIN:[loss=0.005]\n",
      "[1 epochs]: TRAIN:[loss=0.005]\n",
      "[1 epochs]: TRAIN:[loss=0.005]\n",
      "[1 epochs]: TRAIN:[loss=0.005]\n",
      "[1 epochs]: TRAIN:[loss=0.005]\n",
      "[1 epochs]: TRAIN:[loss=0.005]\n",
      "[1 epochs]: TRAIN:[loss=0.005]\n",
      "[1 epochs]: TRAIN:[loss=0.005]\n",
      "Finished Training\n"
     ]
    }
   ],
   "source": [
    "from snorkel.labeling.model import LabelModel\n",
    "\n",
    "L_train = applier.apply(df_train)\n",
    "label_model = LabelModel(k=2, verbose=True)\n",
    "label_model.train_model(L_train)"
   ]
  },
  {
   "cell_type": "code",
   "execution_count": 94,
   "metadata": {},
   "outputs": [
    {
     "data": {
      "text/plain": [
       "0.827027027027027"
      ]
     },
     "execution_count": 94,
     "metadata": {},
     "output_type": "execute_result"
    }
   ],
   "source": [
    "from snorkel.analysis.metrics import metric_score\n",
    "from snorkel.analysis.utils import probs_to_preds\n",
    "\n",
    "Y_probs_valid = label_model.predict_proba(L_valid.todense())\n",
    "Y_preds_valid = probs_to_preds(Y_probs_valid)\n",
    "metric_score(Y_valid, Y_preds_valid, probs=None, metric=\"accuracy\")"
   ]
  },
  {
   "cell_type": "code",
   "execution_count": null,
   "metadata": {},
   "outputs": [],
   "source": []
  },
  {
   "cell_type": "code",
   "execution_count": 96,
   "metadata": {},
   "outputs": [
    {
     "name": "stdout",
     "output_type": "stream",
     "text": [
      "        y=1   \n",
      " l=1    76    \n"
     ]
    },
    {
     "data": {
      "text/plain": [
       "array([[81, 22],\n",
       "       [ 6, 76]])"
      ]
     },
     "execution_count": 96,
     "metadata": {},
     "output_type": "execute_result"
    }
   ],
   "source": [
    "from snorkel.analysis.error_analysis import confusion_matrix\n",
    "confusion_matrix(Y_valid, Y_preds_valid)"
   ]
  },
  {
   "cell_type": "markdown",
   "metadata": {},
   "source": [
    "### Compare MV"
   ]
  },
  {
   "cell_type": "code",
   "execution_count": 95,
   "metadata": {},
   "outputs": [
    {
     "data": {
      "text/plain": [
       "0.8486486486486486"
      ]
     },
     "execution_count": 95,
     "metadata": {},
     "output_type": "execute_result"
    }
   ],
   "source": [
    "from snorkel.labeling.model import MajorityLabelVoter\n",
    "\n",
    "mv_model = MajorityLabelVoter()\n",
    "Y_probs_valid = mv_model.predict_proba(L_valid.todense())\n",
    "Y_preds_valid = probs_to_preds(Y_probs_valid)\n",
    "metric_score(Y_valid, Y_preds_valid, probs=None, metric=\"accuracy\")"
   ]
  },
  {
   "cell_type": "markdown",
   "metadata": {},
   "source": [
    "### Ludwig with Weak Labels (Rounded)"
   ]
  },
  {
   "cell_type": "code",
   "execution_count": 72,
   "metadata": {},
   "outputs": [],
   "source": [
    "# Don't train on examples with no labels\n",
    "mask = L_train.sum(axis=1) > 0\n",
    "L_train_filtered = L_train[mask.nonzero()[0], :]\n",
    "df_train_filtered = df_train[mask]"
   ]
  },
  {
   "cell_type": "code",
   "execution_count": 73,
   "metadata": {},
   "outputs": [],
   "source": [
    "Y_probs_train = label_model.predict_proba(L_train_filtered.todense())\n",
    "Y_preds_train = probs_to_preds(Y_probs_train)"
   ]
  },
  {
   "cell_type": "code",
   "execution_count": 74,
   "metadata": {},
   "outputs": [
    {
     "name": "stderr",
     "output_type": "stream",
     "text": [
      "/Users/braden/repos/snorkel-tutorials/.env/lib/python3.7/site-packages/ipykernel_launcher.py:1: SettingWithCopyWarning: \n",
      "A value is trying to be set on a copy of a slice from a DataFrame.\n",
      "Try using .loc[row_indexer,col_indexer] = value instead\n",
      "\n",
      "See the caveats in the documentation: http://pandas.pydata.org/pandas-docs/stable/indexing.html#indexing-view-versus-copy\n",
      "  \"\"\"Entry point for launching an IPython kernel.\n"
     ]
    }
   ],
   "source": [
    "df_train_filtered['LABEL'] = convert_labels(Y_preds_train, \"categorical\", \"onezero\")\n",
    "df_valid['LABEL'] = df_valid['LABEL'].map({1: 1, 2: 0})\n",
    "df_test['LABEL'] = df_test['LABEL'].map({1: 1, 2: 0})"
   ]
  },
  {
   "cell_type": "code",
   "execution_count": 75,
   "metadata": {
    "scrolled": false
   },
   "outputs": [
    {
     "name": "stdout",
     "output_type": "stream",
     "text": [
      "\n",
      "WARNING: The TensorFlow contrib module will not be included in TensorFlow 2.0.\n",
      "For more information, please see:\n",
      "  * https://github.com/tensorflow/community/blob/master/rfcs/20180907-contrib-sunset.md\n",
      "  * https://github.com/tensorflow/addons\n",
      "If you depend on functionality not listed there, please file an issue.\n",
      "\n"
     ]
    },
    {
     "name": "stderr",
     "output_type": "stream",
     "text": [
      "INFO:root:Experiment name: api_experiment\n",
      "INFO:root:Model name: run\n",
      "INFO:root:Output path: results/api_experiment_run_11\n",
      "INFO:root:\n",
      "\n",
      "INFO:root:ludwig_version: '0.1.2'\n",
      "INFO:root:command: ('/Users/braden/repos/snorkel-tutorials/.env/lib/python3.7/site-packages/ipykernel_launcher.py '\n",
      " '-f '\n",
      " '/Users/braden/Library/Jupyter/runtime/kernel-68dacc71-4c5a-4900-bfa1-0dcf7733be7d.json')\n",
      "INFO:root:commit_hash: '79f404432df9'\n",
      "INFO:root:random_seed: 42\n",
      "INFO:root:model_definition: {   'combiner': {'type': 'concat'},\n",
      "    'input_features': [   {   'encoder': 'parallel_cnn',\n",
      "                              'level': 'word',\n",
      "                              'name': 'CONTENT',\n",
      "                              'tied_weights': None,\n",
      "                              'type': 'text'}],\n",
      "    'output_features': [   {   'dependencies': [],\n",
      "                               'loss': {   'confidence_penalty': 0,\n",
      "                                           'robust_lambda': 0,\n",
      "                                           'threshold': 0.5,\n",
      "                                           'weight': 1},\n",
      "                               'name': 'LABEL',\n",
      "                               'reduce_dependencies': 'sum',\n",
      "                               'reduce_input': 'sum',\n",
      "                               'threshold': 0.5,\n",
      "                               'type': 'binary',\n",
      "                               'weight': 1}],\n",
      "    'preprocessing': {   'bag': {   'fill_value': '',\n",
      "                                    'format': 'space',\n",
      "                                    'lowercase': False,\n",
      "                                    'missing_value_strategy': 'fill_with_const',\n",
      "                                    'most_common': 10000},\n",
      "                         'binary': {   'fill_value': 0,\n",
      "                                       'missing_value_strategy': 'fill_with_const'},\n",
      "                         'category': {   'fill_value': '<UNK>',\n",
      "                                         'lowercase': False,\n",
      "                                         'missing_value_strategy': 'fill_with_const',\n",
      "                                         'most_common': 10000},\n",
      "                         'force_split': False,\n",
      "                         'image': {   'in_memory': True,\n",
      "                                      'missing_value_strategy': 'backfill',\n",
      "                                      'resize_method': 'crop_or_pad'},\n",
      "                         'numerical': {   'fill_value': 0,\n",
      "                                          'missing_value_strategy': 'fill_with_const'},\n",
      "                         'sequence': {   'fill_value': '',\n",
      "                                         'format': 'space',\n",
      "                                         'lowercase': False,\n",
      "                                         'missing_value_strategy': 'fill_with_const',\n",
      "                                         'most_common': 20000,\n",
      "                                         'padding': 'right',\n",
      "                                         'padding_symbol': '<PAD>',\n",
      "                                         'sequence_length_limit': 256,\n",
      "                                         'unknown_symbol': '<UNK>'},\n",
      "                         'set': {   'fill_value': '',\n",
      "                                    'format': 'space',\n",
      "                                    'lowercase': False,\n",
      "                                    'missing_value_strategy': 'fill_with_const',\n",
      "                                    'most_common': 10000},\n",
      "                         'split_probabilities': (0.7, 0.1, 0.2),\n",
      "                         'stratify': None,\n",
      "                         'text': {   'char_format': 'characters',\n",
      "                                     'char_most_common': 70,\n",
      "                                     'char_sequence_length_limit': 1024,\n",
      "                                     'fill_value': '',\n",
      "                                     'lowercase': True,\n",
      "                                     'missing_value_strategy': 'fill_with_const',\n",
      "                                     'padding': 'right',\n",
      "                                     'padding_symbol': '<PAD>',\n",
      "                                     'unknown_symbol': '<UNK>',\n",
      "                                     'word_format': 'space_punct',\n",
      "                                     'word_most_common': 20000,\n",
      "                                     'word_sequence_length_limit': 256},\n",
      "                         'timeseries': {   'fill_value': '',\n",
      "                                           'format': 'space',\n",
      "                                           'missing_value_strategy': 'fill_with_const',\n",
      "                                           'padding': 'right',\n",
      "                                           'padding_value': 0,\n",
      "                                           'timeseries_length_limit': 256}},\n",
      "    'training': {   'batch_size': 128,\n",
      "                    'bucketing_field': None,\n",
      "                    'decay': False,\n",
      "                    'decay_rate': 0.96,\n",
      "                    'decay_steps': 10000,\n",
      "                    'dropout_rate': 0.0,\n",
      "                    'early_stop': 5,\n",
      "                    'epochs': 5,\n",
      "                    'eval_batch_size': 0,\n",
      "                    'gradient_clipping': None,\n",
      "                    'increase_batch_size_on_plateau': 0,\n",
      "                    'increase_batch_size_on_plateau_max': 512,\n",
      "                    'increase_batch_size_on_plateau_patience': 5,\n",
      "                    'increase_batch_size_on_plateau_rate': 2,\n",
      "                    'learning_rate': 0.001,\n",
      "                    'learning_rate_warmup_epochs': 5,\n",
      "                    'optimizer': {   'beta1': 0.9,\n",
      "                                     'beta2': 0.999,\n",
      "                                     'epsilon': 1e-08,\n",
      "                                     'type': 'adam'},\n",
      "                    'reduce_learning_rate_on_plateau': 0,\n",
      "                    'reduce_learning_rate_on_plateau_patience': 5,\n",
      "                    'reduce_learning_rate_on_plateau_rate': 0.5,\n",
      "                    'regularization_lambda': 0,\n",
      "                    'regularizer': 'l2',\n",
      "                    'staircase': False,\n",
      "                    'validation_field': 'combined',\n",
      "                    'validation_measure': 'loss'}}\n",
      "INFO:root:\n",
      "\n",
      "INFO:root:Using training dataframe\n",
      "INFO:root:Building dataset (it may take a while)\n",
      "/Users/braden/repos/snorkel-tutorials/.env/lib/python3.7/site-packages/ludwig/features/binary_feature.py:62: FutureWarning: Method .as_matrix will be removed in a future version. Use .values instead.\n",
      "  np.bool_).as_matrix()\n",
      "INFO:root:Training set: 1151\n",
      "INFO:root:Validation set: 185\n",
      "INFO:root:Test set: 185\n"
     ]
    },
    {
     "name": "stdout",
     "output_type": "stream",
     "text": [
      "WARNING:tensorflow:From /Users/braden/repos/snorkel-tutorials/.env/lib/python3.7/site-packages/tensorflow/python/framework/op_def_library.py:263: colocate_with (from tensorflow.python.framework.ops) is deprecated and will be removed in a future version.\n",
      "Instructions for updating:\n",
      "Colocations handled automatically by placer.\n"
     ]
    },
    {
     "name": "stderr",
     "output_type": "stream",
     "text": [
      "WARNING:tensorflow:From /Users/braden/repos/snorkel-tutorials/.env/lib/python3.7/site-packages/tensorflow/python/framework/op_def_library.py:263: colocate_with (from tensorflow.python.framework.ops) is deprecated and will be removed in a future version.\n",
      "Instructions for updating:\n",
      "Colocations handled automatically by placer.\n"
     ]
    },
    {
     "name": "stdout",
     "output_type": "stream",
     "text": [
      "WARNING:tensorflow:From /Users/braden/repos/snorkel-tutorials/.env/lib/python3.7/site-packages/tensorflow/python/ops/math_ops.py:3066: to_int32 (from tensorflow.python.ops.math_ops) is deprecated and will be removed in a future version.\n",
      "Instructions for updating:\n",
      "Use tf.cast instead.\n"
     ]
    },
    {
     "name": "stderr",
     "output_type": "stream",
     "text": [
      "WARNING:tensorflow:From /Users/braden/repos/snorkel-tutorials/.env/lib/python3.7/site-packages/tensorflow/python/ops/math_ops.py:3066: to_int32 (from tensorflow.python.ops.math_ops) is deprecated and will be removed in a future version.\n",
      "Instructions for updating:\n",
      "Use tf.cast instead.\n"
     ]
    },
    {
     "name": "stdout",
     "output_type": "stream",
     "text": [
      "WARNING:tensorflow:From /Users/braden/repos/snorkel-tutorials/.env/lib/python3.7/site-packages/tensorflow/python/ops/math_grad.py:102: div (from tensorflow.python.ops.math_ops) is deprecated and will be removed in a future version.\n",
      "Instructions for updating:\n",
      "Deprecated in favor of operator or tf.math.divide.\n"
     ]
    },
    {
     "name": "stderr",
     "output_type": "stream",
     "text": [
      "WARNING:tensorflow:From /Users/braden/repos/snorkel-tutorials/.env/lib/python3.7/site-packages/tensorflow/python/ops/math_grad.py:102: div (from tensorflow.python.ops.math_ops) is deprecated and will be removed in a future version.\n",
      "Instructions for updating:\n",
      "Deprecated in favor of operator or tf.math.divide.\n",
      "INFO:root:\n",
      "INFO:root:╒══════════╕\n",
      "INFO:root:│ TRAINING │\n",
      "INFO:root:╘══════════╛\n",
      "INFO:root:\n",
      "INFO:root:\n",
      "Epoch 1\n"
     ]
    },
    {
     "name": "stdout",
     "output_type": "stream",
     "text": [
      "Training: 100%|██████████| 9/9 [00:25<00:00,  2.77s/it]\n",
      "Evaluation train: 100%|██████████| 9/9 [00:07<00:00,  1.26it/s]\n",
      "Evaluation vali : 100%|██████████| 2/2 [00:01<00:00,  1.42it/s]\n",
      "Evaluation test : 100%|██████████| 2/2 [00:01<00:00,  1.31it/s]"
     ]
    },
    {
     "name": "stderr",
     "output_type": "stream",
     "text": [
      "INFO:root:Took 34.8671s\n",
      "INFO:root:╒═════════╤════════╤════════════╕\n",
      "│ LABEL   │   loss │   accuracy │\n",
      "╞═════════╪════════╪════════════╡\n",
      "│ train   │ 0.4504 │     0.7889 │\n",
      "├─────────┼────────┼────────────┤\n",
      "│ vali    │ 0.5717 │     0.6432 │\n",
      "├─────────┼────────┼────────────┤\n",
      "│ test    │ 0.6001 │     0.6811 │\n",
      "╘═════════╧════════╧════════════╛\n"
     ]
    },
    {
     "name": "stdout",
     "output_type": "stream",
     "text": [
      "\n"
     ]
    },
    {
     "name": "stderr",
     "output_type": "stream",
     "text": [
      "INFO:root:Validation loss on combined improved, model saved\n",
      "INFO:root:\n",
      "INFO:root:\n",
      "Epoch 2\n"
     ]
    },
    {
     "name": "stdout",
     "output_type": "stream",
     "text": [
      "Training: 100%|██████████| 9/9 [00:25<00:00,  2.83s/it]\n",
      "Evaluation train: 100%|██████████| 9/9 [00:07<00:00,  1.25it/s]\n",
      "Evaluation vali : 100%|██████████| 2/2 [00:01<00:00,  1.49it/s]\n",
      "Evaluation test : 100%|██████████| 2/2 [00:01<00:00,  1.39it/s]"
     ]
    },
    {
     "name": "stderr",
     "output_type": "stream",
     "text": [
      "INFO:root:Took 35.1287s\n",
      "INFO:root:╒═════════╤════════╤════════════╕\n",
      "│ LABEL   │   loss │   accuracy │\n",
      "╞═════════╪════════╪════════════╡\n",
      "│ train   │ 0.2251 │     0.8931 │\n",
      "├─────────┼────────┼────────────┤\n",
      "│ vali    │ 0.4085 │     0.7676 │\n",
      "├─────────┼────────┼────────────┤\n",
      "│ test    │ 0.5052 │     0.6865 │\n",
      "╘═════════╧════════╧════════════╛\n"
     ]
    },
    {
     "name": "stdout",
     "output_type": "stream",
     "text": [
      "\n"
     ]
    },
    {
     "name": "stderr",
     "output_type": "stream",
     "text": [
      "INFO:root:Validation loss on combined improved, model saved\n",
      "INFO:root:\n",
      "INFO:root:\n",
      "Epoch 3\n"
     ]
    },
    {
     "name": "stdout",
     "output_type": "stream",
     "text": [
      "Training: 100%|██████████| 9/9 [00:24<00:00,  2.70s/it]\n",
      "Evaluation train: 100%|██████████| 9/9 [00:06<00:00,  1.28it/s]\n",
      "Evaluation vali : 100%|██████████| 2/2 [00:01<00:00,  1.31it/s]\n",
      "Evaluation test : 100%|██████████| 2/2 [00:01<00:00,  1.41it/s]"
     ]
    },
    {
     "name": "stderr",
     "output_type": "stream",
     "text": [
      "INFO:root:Took 34.2630s\n",
      "INFO:root:╒═════════╤════════╤════════════╕\n",
      "│ LABEL   │   loss │   accuracy │\n",
      "╞═════════╪════════╪════════════╡\n",
      "│ train   │ 0.1030 │     0.9626 │\n",
      "├─────────┼────────┼────────────┤\n",
      "│ vali    │ 0.3033 │     0.8162 │\n",
      "├─────────┼────────┼────────────┤\n",
      "│ test    │ 0.3607 │     0.7946 │\n",
      "╘═════════╧════════╧════════════╛\n",
      "INFO:root:Validation loss on combined improved, model saved\n"
     ]
    },
    {
     "name": "stdout",
     "output_type": "stream",
     "text": [
      "\n"
     ]
    },
    {
     "name": "stderr",
     "output_type": "stream",
     "text": [
      "INFO:root:\n",
      "INFO:root:\n",
      "Epoch 4\n"
     ]
    },
    {
     "name": "stdout",
     "output_type": "stream",
     "text": [
      "Training: 100%|██████████| 9/9 [00:24<00:00,  2.67s/it]\n",
      "Evaluation train: 100%|██████████| 9/9 [00:06<00:00,  1.32it/s]\n",
      "Evaluation vali : 100%|██████████| 2/2 [00:01<00:00,  1.50it/s]\n",
      "Evaluation test : 100%|██████████| 2/2 [00:01<00:00,  1.42it/s]"
     ]
    },
    {
     "name": "stderr",
     "output_type": "stream",
     "text": [
      "INFO:root:Took 33.6828s\n",
      "INFO:root:╒═════════╤════════╤════════════╕\n",
      "│ LABEL   │   loss │   accuracy │\n",
      "╞═════════╪════════╪════════════╡\n",
      "│ train   │ 0.0526 │     0.9878 │\n",
      "├─────────┼────────┼────────────┤\n",
      "│ vali    │ 0.2689 │     0.8757 │\n",
      "├─────────┼────────┼────────────┤\n",
      "│ test    │ 0.3114 │     0.8757 │\n",
      "╘═════════╧════════╧════════════╛\n",
      "INFO:root:Validation loss on combined improved, model saved\n"
     ]
    },
    {
     "name": "stdout",
     "output_type": "stream",
     "text": [
      "\n"
     ]
    },
    {
     "name": "stderr",
     "output_type": "stream",
     "text": [
      "INFO:root:\n",
      "INFO:root:\n",
      "Epoch 5\n"
     ]
    },
    {
     "name": "stdout",
     "output_type": "stream",
     "text": [
      "Training: 100%|██████████| 9/9 [00:24<00:00,  2.65s/it]\n",
      "Evaluation train: 100%|██████████| 9/9 [00:06<00:00,  1.32it/s]\n",
      "Evaluation vali : 100%|██████████| 2/2 [00:01<00:00,  1.51it/s]\n",
      "Evaluation test : 100%|██████████| 2/2 [00:01<00:00,  1.37it/s]"
     ]
    },
    {
     "name": "stderr",
     "output_type": "stream",
     "text": [
      "INFO:root:Took 33.5693s\n",
      "INFO:root:╒═════════╤════════╤════════════╕\n",
      "│ LABEL   │   loss │   accuracy │\n",
      "╞═════════╪════════╪════════════╡\n",
      "│ train   │ 0.0441 │     0.9878 │\n",
      "├─────────┼────────┼────────────┤\n",
      "│ vali    │ 0.3233 │     0.8757 │\n",
      "├─────────┼────────┼────────────┤\n",
      "│ test    │ 0.3776 │     0.8541 │\n",
      "╘═════════╧════════╧════════════╛\n",
      "INFO:root:Last improvement of loss on combined happened 1 epoch ago\n",
      "INFO:root:\n"
     ]
    },
    {
     "name": "stdout",
     "output_type": "stream",
     "text": [
      "\n"
     ]
    },
    {
     "name": "stderr",
     "output_type": "stream",
     "text": [
      "INFO:root:Best validation model epoch:\n",
      "INFO:root:Best validation model loss on validation set combined: 0.2688554815343908\n",
      "INFO:root:Best validation model loss on test set combined: 0.3113903870453706\n",
      "INFO:root:\n",
      "Finished: api_experiment_run\n",
      "INFO:root:Saved to: results/api_experiment_run_11\n"
     ]
    },
    {
     "data": {
      "text/plain": [
       "{'train': OrderedDict([('LABEL',\n",
       "               OrderedDict([('loss',\n",
       "                             [0.4503555960700783,\n",
       "                              0.2251228776628509,\n",
       "                              0.10303753754245416,\n",
       "                              0.052648514483308505,\n",
       "                              0.04406286984500835]),\n",
       "                            ('accuracy',\n",
       "                             [0.788879235447437,\n",
       "                              0.893136403127715,\n",
       "                              0.9626411815812337,\n",
       "                              0.9878366637706343,\n",
       "                              0.9878366637706343])])),\n",
       "              ('combined',\n",
       "               {'loss': [0.4503555960700783,\n",
       "                 0.2251228776628509,\n",
       "                 0.10303753754245416,\n",
       "                 0.052648514483308505,\n",
       "                 0.04406286984500835],\n",
       "                'accuracy': [0.788879235447437,\n",
       "                 0.893136403127715,\n",
       "                 0.9626411815812337,\n",
       "                 0.9878366637706343,\n",
       "                 0.9878366637706343]})]),\n",
       " 'validation': OrderedDict([('LABEL',\n",
       "               OrderedDict([('loss',\n",
       "                             [0.5717202470109269,\n",
       "                              0.4084833609091269,\n",
       "                              0.30332492106669656,\n",
       "                              0.2688554815343908,\n",
       "                              0.3233010266278241]),\n",
       "                            ('accuracy',\n",
       "                             [0.6432432432432432,\n",
       "                              0.7675675675675676,\n",
       "                              0.8162162162162162,\n",
       "                              0.8756756756756757,\n",
       "                              0.8756756756756757])])),\n",
       "              ('combined',\n",
       "               {'loss': [0.5717202470109269,\n",
       "                 0.4084833609091269,\n",
       "                 0.30332492106669656,\n",
       "                 0.2688554815343908,\n",
       "                 0.3233010266278241],\n",
       "                'accuracy': [0.6432432432432432,\n",
       "                 0.7675675675675676,\n",
       "                 0.8162162162162162,\n",
       "                 0.8756756756756757,\n",
       "                 0.8756756756756757]})]),\n",
       " 'test': OrderedDict([('LABEL',\n",
       "               OrderedDict([('loss',\n",
       "                             [0.6001116365999789,\n",
       "                              0.5051914524387668,\n",
       "                              0.3607471466064453,\n",
       "                              0.3113903870453706,\n",
       "                              0.37762486225849873]),\n",
       "                            ('accuracy',\n",
       "                             [0.6810810810810811,\n",
       "                              0.6864864864864865,\n",
       "                              0.7945945945945946,\n",
       "                              0.8756756756756757,\n",
       "                              0.8540540540540541])])),\n",
       "              ('combined',\n",
       "               {'loss': [0.6001116365999789,\n",
       "                 0.5051914524387668,\n",
       "                 0.3607471466064453,\n",
       "                 0.3113903870453706,\n",
       "                 0.37762486225849873],\n",
       "                'accuracy': [0.6810810810810811,\n",
       "                 0.6864864864864865,\n",
       "                 0.7945945945945946,\n",
       "                 0.8756756756756757,\n",
       "                 0.8540540540540541]})])}"
      ]
     },
     "execution_count": 75,
     "metadata": {},
     "output_type": "execute_result"
    }
   ],
   "source": [
    "from ludwig.api import LudwigModel\n",
    "\n",
    "model_definition = {\n",
    "    \"input_features\": [{\"name\": \"CONTENT\", \"type\": \"text\"}], \n",
    "    \"output_features\": [{\"name\": \"LABEL\", \"type\": \"binary\"}],\n",
    "    \"training\": {\"epochs\": 6},\n",
    "}\n",
    "model = LudwigModel(model_definition)\n",
    "\n",
    "train_stats = model.train(\n",
    "    data_train_df=df_train_filtered, \n",
    "    data_validation_df=df_valid, \n",
    "    data_test_df=df_test, \n",
    "    logging_level=20,\n",
    ")\n",
    "train_stats"
   ]
  },
  {
   "cell_type": "code",
   "execution_count": 92,
   "metadata": {
    "scrolled": false
   },
   "outputs": [
    {
     "data": {
      "text/plain": [
       "0.8756756756756757"
      ]
     },
     "execution_count": 92,
     "metadata": {},
     "output_type": "execute_result"
    }
   ],
   "source": [
    "Y_preds_valid = convert_labels(model.predict(df_valid).LABEL_predictions.values.astype(int), \"onezero\", \"categorical\")\n",
    "metric_score(Y_valid, Y_preds_valid, probs=None, metric=\"accuracy\")"
   ]
  },
  {
   "cell_type": "code",
   "execution_count": 76,
   "metadata": {},
   "outputs": [
    {
     "name": "stderr",
     "output_type": "stream",
     "text": [
      "UsageError: Line magic function `%tensorboard` not found.\n"
     ]
    }
   ],
   "source": [
    "%tensorboard --logdir logs"
   ]
  }
 ],
 "metadata": {
  "kernelspec": {
   "display_name": "snorkel_tutorials_env",
   "language": "python",
   "name": "snorkel_tutorials_env"
  },
  "language_info": {
   "codemirror_mode": {
    "name": "ipython",
    "version": 3
   },
   "file_extension": ".py",
   "mimetype": "text/x-python",
   "name": "python",
   "nbconvert_exporter": "python",
   "pygments_lexer": "ipython3",
   "version": "3.7.3"
  }
 },
 "nbformat": 4,
 "nbformat_minor": 2
}
