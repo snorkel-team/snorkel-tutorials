{
 "cells": [
  {
   "cell_type": "markdown",
   "metadata": {},
   "source": [
    "# Introductory Snorkel Tutorial: Spam Detection"
   ]
  },
  {
   "cell_type": "markdown",
   "metadata": {},
   "source": [
    "* Nice introductory text\n",
    "* Purpose of this tutorial...\n",
    "* Steps:\n",
    "    1. Load data\n",
    "    2. Write labeling functions (LFs)\n",
    "    3. Combine with Label Model\n",
    "    4. Predict with Classifier"
   ]
  },
  {
   "cell_type": "markdown",
   "metadata": {},
   "source": [
    "### Task: Spam Detection"
   ]
  },
  {
   "cell_type": "markdown",
   "metadata": {},
   "source": [
    "* Here's what we're trying to do\n",
    "* Here's where the data came from (cite properly)\n",
    "* Show sample T and F in markdown"
   ]
  },
  {
   "cell_type": "markdown",
   "metadata": {},
   "source": [
    "### Data Splits in Snorkel"
   ]
  },
  {
   "cell_type": "markdown",
   "metadata": {},
   "source": [
    "* 4 splits: train, dev, valid, test\n",
    "* train is large and unlabeled\n",
    "* valid/test is labeled and you don't look at it\n",
    "* best to come up with LFs while looking at data. Options:\n",
    "    * look at train for ideas; no labels, but np.\n",
    "    * label small subset of train (e.g., 200), call it \"dev\"\n",
    "    * in a pinch, use valid set as dev (note though that valid will no longer be good rep of test)"
   ]
  },
  {
   "cell_type": "markdown",
   "metadata": {},
   "source": [
    "## 1. Load data"
   ]
  },
  {
   "cell_type": "markdown",
   "metadata": {},
   "source": [
    "* Start by loading data\n",
    "* utility pulls from internet, re-splits, and shuffles\n",
    "* for this application, train is videos 1-4, valid/test are video 5"
   ]
  },
  {
   "cell_type": "code",
   "execution_count": 1,
   "metadata": {
    "lines_to_next_cell": 2
   },
   "outputs": [],
   "source": [
    "from utils import load_spam_dataset\n",
    "\n",
    "df_train, df_dev, df_valid, df_test = load_spam_dataset()"
   ]
  },
  {
   "cell_type": "markdown",
   "metadata": {},
   "source": [
    "* Describe fields"
   ]
  },
  {
   "cell_type": "code",
   "execution_count": 2,
   "metadata": {},
   "outputs": [
    {
     "data": {
      "text/html": [
       "<div>\n",
       "<style scoped>\n",
       "    .dataframe tbody tr th:only-of-type {\n",
       "        vertical-align: middle;\n",
       "    }\n",
       "\n",
       "    .dataframe tbody tr th {\n",
       "        vertical-align: top;\n",
       "    }\n",
       "\n",
       "    .dataframe thead th {\n",
       "        text-align: right;\n",
       "    }\n",
       "</style>\n",
       "<table border=\"1\" class=\"dataframe\">\n",
       "  <thead>\n",
       "    <tr style=\"text-align: right;\">\n",
       "      <th></th>\n",
       "      <th>COMMENT_ID</th>\n",
       "      <th>AUTHOR</th>\n",
       "      <th>DATE</th>\n",
       "      <th>CONTENT</th>\n",
       "      <th>LABEL</th>\n",
       "      <th>VIDEO_ID</th>\n",
       "    </tr>\n",
       "  </thead>\n",
       "  <tbody>\n",
       "    <tr>\n",
       "      <th>394</th>\n",
       "      <td>z12shxbbulncyx43n23psbzohvumz1nib04</td>\n",
       "      <td>Will Smith</td>\n",
       "      <td>2014-12-22T04:56:24.257000</td>\n",
       "      <td>Check out this playlist on YouTube:pl﻿</td>\n",
       "      <td>1</td>\n",
       "      <td>3</td>\n",
       "    </tr>\n",
       "    <tr>\n",
       "      <th>266</th>\n",
       "      <td>z12jzbkwfyuzdr1gg04cgzjqdpfgtnm5l04</td>\n",
       "      <td>Chris4chan</td>\n",
       "      <td>2015-05-26T02:55:34.984000</td>\n",
       "      <td>This video is kinda close to 1 million  views ...</td>\n",
       "      <td>2</td>\n",
       "      <td>4</td>\n",
       "    </tr>\n",
       "    <tr>\n",
       "      <th>358</th>\n",
       "      <td>z12wjzc4eprnvja4304cgbbizuved35wxcs</td>\n",
       "      <td>Dakota Taylor</td>\n",
       "      <td>2015-05-29T02:13:07.810000</td>\n",
       "      <td>Cool﻿</td>\n",
       "      <td>2</td>\n",
       "      <td>4</td>\n",
       "    </tr>\n",
       "    <tr>\n",
       "      <th>434</th>\n",
       "      <td>z13lfpkzyzvoynqvi234g5ix3taoefr21</td>\n",
       "      <td>Roham 11</td>\n",
       "      <td>2015-05-22T20:42:29.523000</td>\n",
       "      <td>Strong messages in every  song I&amp;#39;ve  heard.﻿</td>\n",
       "      <td>2</td>\n",
       "      <td>3</td>\n",
       "    </tr>\n",
       "    <tr>\n",
       "      <th>249</th>\n",
       "      <td>z12mhbmbhlv5jbi1n231chnqtrmkjrenc</td>\n",
       "      <td>MrSlowGhost</td>\n",
       "      <td>2014-10-21T15:30:56</td>\n",
       "      <td>It should be illegal to be this goodlooking as...</td>\n",
       "      <td>2</td>\n",
       "      <td>2</td>\n",
       "    </tr>\n",
       "  </tbody>\n",
       "</table>\n",
       "</div>"
      ],
      "text/plain": [
       "                              COMMENT_ID         AUTHOR  \\\n",
       "394  z12shxbbulncyx43n23psbzohvumz1nib04     Will Smith   \n",
       "266  z12jzbkwfyuzdr1gg04cgzjqdpfgtnm5l04     Chris4chan   \n",
       "358  z12wjzc4eprnvja4304cgbbizuved35wxcs  Dakota Taylor   \n",
       "434    z13lfpkzyzvoynqvi234g5ix3taoefr21       Roham 11   \n",
       "249    z12mhbmbhlv5jbi1n231chnqtrmkjrenc    MrSlowGhost   \n",
       "\n",
       "                           DATE  \\\n",
       "394  2014-12-22T04:56:24.257000   \n",
       "266  2015-05-26T02:55:34.984000   \n",
       "358  2015-05-29T02:13:07.810000   \n",
       "434  2015-05-22T20:42:29.523000   \n",
       "249         2014-10-21T15:30:56   \n",
       "\n",
       "                                               CONTENT  LABEL  VIDEO_ID  \n",
       "394             Check out this playlist on YouTube:pl﻿      1         3  \n",
       "266  This video is kinda close to 1 million  views ...      2         4  \n",
       "358                                              Cool﻿      2         4  \n",
       "434   Strong messages in every  song I&#39;ve  heard.﻿      2         3  \n",
       "249  It should be illegal to be this goodlooking as...      2         2  "
      ]
     },
     "execution_count": 2,
     "metadata": {},
     "output_type": "execute_result"
    }
   ],
   "source": [
    "df_train.sample(5, random_state=1)"
   ]
  },
  {
   "cell_type": "markdown",
   "metadata": {},
   "source": [
    "## 2. Write Labeling Functions (LFs)"
   ]
  },
  {
   "cell_type": "markdown",
   "metadata": {},
   "source": [
    "* What's an LF\n",
    "    * Why are they awesome\n",
    "* Can be many types:\n",
    "    * keyword\n",
    "    * pattern-match\n",
    "    * heuristic\n",
    "    * third-party models\n",
    "    * distant supervision\n",
    "    * crowdworkers (non-expert)\n",
    "* Typically an iterative process\n",
    "    * Look at examples for ideas\n",
    "    * Write an LF\n",
    "    * Check performance on dev set\n",
    "    * Balance accuracy/coverage"
   ]
  },
  {
   "cell_type": "markdown",
   "metadata": {},
   "source": [
    "### a) Look at examples for ideas"
   ]
  },
  {
   "cell_type": "markdown",
   "metadata": {},
   "source": [
    "* Look at 10 examples; got any ideas?"
   ]
  },
  {
   "cell_type": "code",
   "execution_count": 3,
   "metadata": {},
   "outputs": [
    {
     "data": {
      "text/html": [
       "<div>\n",
       "<style scoped>\n",
       "    .dataframe tbody tr th:only-of-type {\n",
       "        vertical-align: middle;\n",
       "    }\n",
       "\n",
       "    .dataframe tbody tr th {\n",
       "        vertical-align: top;\n",
       "    }\n",
       "\n",
       "    .dataframe thead th {\n",
       "        text-align: right;\n",
       "    }\n",
       "</style>\n",
       "<table border=\"1\" class=\"dataframe\">\n",
       "  <thead>\n",
       "    <tr style=\"text-align: right;\">\n",
       "      <th></th>\n",
       "      <th>CONTENT</th>\n",
       "      <th>LABEL</th>\n",
       "    </tr>\n",
       "  </thead>\n",
       "  <tbody>\n",
       "    <tr>\n",
       "      <th>159</th>\n",
       "      <td>You guys should check out this EXTRAORDINARY website called ZONEPA.COM .   You can make money online and start working from home today as I am!   I am making over $3,000+ per month at ZONEPA.COM !   Visit Zonepa.com and check it out!  Why does the answer rehabilitate the blushing limit? The push depreciateds the steel. How does the beautiful selection edit the range?</td>\n",
       "      <td>1</td>\n",
       "    </tr>\n",
       "    <tr>\n",
       "      <th>133</th>\n",
       "      <td>I'm sorry Katy Perry, I was being weird. I still love you &amp;lt;3﻿</td>\n",
       "      <td>2</td>\n",
       "    </tr>\n",
       "    <tr>\n",
       "      <th>234</th>\n",
       "      <td>plz subscribe to my channel i need subs and if you do i will sub back i  need help﻿</td>\n",
       "      <td>1</td>\n",
       "    </tr>\n",
       "    <tr>\n",
       "      <th>193</th>\n",
       "      <td>Is that tiger called 'Katty Purry'?﻿</td>\n",
       "      <td>2</td>\n",
       "    </tr>\n",
       "    <tr>\n",
       "      <th>218</th>\n",
       "      <td>Check out this video on YouTube: &lt;a rel=\"nofollow\" class=\"ot-hashtag\" href=\"https://plus.google.com/s/%23Eminem\"&gt;#Eminem&lt;/a&gt; &lt;a rel=\"nofollow\" class=\"ot-hashtag\" href=\"https://plus.google.com/s/%23Lovethewayyoulie\"&gt;#Lovethewayyoulie&lt;/a&gt; &lt;a rel=\"nofollow\" class=\"ot-hashtag\" href=\"https://plus.google.com/s/%23RapGod\"&gt;#RapGod&lt;/a&gt; &lt;a rel=\"nofollow\" class=\"ot-hashtag\" href=\"https://plus.google.com/s/%23King\"&gt;#King&lt;/a&gt; ﻿</td>\n",
       "      <td>1</td>\n",
       "    </tr>\n",
       "    <tr>\n",
       "      <th>6</th>\n",
       "      <td>nice ..very nice﻿</td>\n",
       "      <td>2</td>\n",
       "    </tr>\n",
       "    <tr>\n",
       "      <th>390</th>\n",
       "      <td>ayyy can u guys please check out my rap video im 16 n im juss tryna get some love please chrck it out an thank u</td>\n",
       "      <td>1</td>\n",
       "    </tr>\n",
       "    <tr>\n",
       "      <th>171</th>\n",
       "      <td>Dance :)﻿</td>\n",
       "      <td>2</td>\n",
       "    </tr>\n",
       "    <tr>\n",
       "      <th>175</th>\n",
       "      <td>e.e....everyone could check out my channel.. dundundunnn</td>\n",
       "      <td>1</td>\n",
       "    </tr>\n",
       "    <tr>\n",
       "      <th>155</th>\n",
       "      <td>I think this is now a place to promote channels in the comment section lol.﻿</td>\n",
       "      <td>2</td>\n",
       "    </tr>\n",
       "  </tbody>\n",
       "</table>\n",
       "</div>"
      ],
      "text/plain": [
       "                                                                                                                                                                                                                                                                                                                                                                                                                                CONTENT  \\\n",
       "159  You guys should check out this EXTRAORDINARY website called ZONEPA.COM .   You can make money online and start working from home today as I am!   I am making over $3,000+ per month at ZONEPA.COM !   Visit Zonepa.com and check it out!  Why does the answer rehabilitate the blushing limit? The push depreciateds the steel. How does the beautiful selection edit the range?                                                    \n",
       "133  I'm sorry Katy Perry, I was being weird. I still love you &lt;3﻿                                                                                                                                                                                                                                                                                                                                                                     \n",
       "234  plz subscribe to my channel i need subs and if you do i will sub back i  need help﻿                                                                                                                                                                                                                                                                                                                                                  \n",
       "193  Is that tiger called 'Katty Purry'?﻿                                                                                                                                                                                                                                                                                                                                                                                                 \n",
       "218  Check out this video on YouTube: <a rel=\"nofollow\" class=\"ot-hashtag\" href=\"https://plus.google.com/s/%23Eminem\">#Eminem</a> <a rel=\"nofollow\" class=\"ot-hashtag\" href=\"https://plus.google.com/s/%23Lovethewayyoulie\">#Lovethewayyoulie</a> <a rel=\"nofollow\" class=\"ot-hashtag\" href=\"https://plus.google.com/s/%23RapGod\">#RapGod</a> <a rel=\"nofollow\" class=\"ot-hashtag\" href=\"https://plus.google.com/s/%23King\">#King</a> ﻿   \n",
       "6    nice ..very nice﻿                                                                                                                                                                                                                                                                                                                                                                                                                    \n",
       "390  ayyy can u guys please check out my rap video im 16 n im juss tryna get some love please chrck it out an thank u                                                                                                                                                                                                                                                                                                                     \n",
       "171  Dance :)﻿                                                                                                                                                                                                                                                                                                                                                                                                                            \n",
       "175  e.e....everyone could check out my channel.. dundundunnn                                                                                                                                                                                                                                                                                                                                                                             \n",
       "155  I think this is now a place to promote channels in the comment section lol.﻿                                                                                                                                                                                                                                                                                                                                                         \n",
       "\n",
       "     LABEL  \n",
       "159  1      \n",
       "133  2      \n",
       "234  1      \n",
       "193  2      \n",
       "218  1      \n",
       "6    2      \n",
       "390  1      \n",
       "171  2      \n",
       "175  1      \n",
       "155  2      "
      ]
     },
     "execution_count": 3,
     "metadata": {},
     "output_type": "execute_result"
    }
   ],
   "source": [
    "# Don't truncate text fields in the display\n",
    "pd.set_option('display.max_colwidth', 0)  \n",
    "\n",
    "# Display just the text and label\n",
    "df_dev[[\"CONTENT\", \"LABEL\"]].sample(10, random_state=123)"
   ]
  },
  {
   "cell_type": "code",
   "execution_count": 4,
   "metadata": {},
   "outputs": [],
   "source": [
    "# for i, x in df_dev.iterrows():\n",
    "#     if \"please\" in x.CONTENT:\n",
    "#         print(x.CONTENT)"
   ]
  },
  {
   "cell_type": "markdown",
   "metadata": {},
   "source": [
    "### b) Write an LF"
   ]
  },
  {
   "cell_type": "markdown",
   "metadata": {},
   "source": [
    "The simplest way to create labeling functions in Snorkel is with the `@labeling_function()` decorator, which wraps a function for evaluating on a single `DataPoint` (in this case, a row of the dataframe).\n",
    "\n",
    "Looking at samples of our data, we see multiple messages where spammers are trying to get viewers to look at \"my channel\" or \"my video,\" so we write a simple LF that labels an example as spam if it includes the word \"my\"."
   ]
  },
  {
   "cell_type": "code",
   "execution_count": 5,
   "metadata": {},
   "outputs": [],
   "source": [
    "from snorkel.labeling.lf import labeling_function\n",
    "\n",
    "# For clarity, we'll define constants to represent the class labels for spam, ham, and abstaining.\n",
    "ABSTAIN = 0\n",
    "SPAM = 1\n",
    "HAM = 2\n",
    "\n",
    "# We initialize an empty list that we'll add our LFs to as we create them\n",
    "lfs = []\n",
    "\n",
    "@labeling_function()\n",
    "def keyword_my(x):\n",
    "    \"\"\"Many spam comments talk about 'my channel', 'my video', etc.\"\"\"\n",
    "    return SPAM if 'my' in x.CONTENT.lower() else ABSTAIN\n",
    "\n",
    "lfs.append(keyword_my)"
   ]
  },
  {
   "cell_type": "markdown",
   "metadata": {},
   "source": [
    "To apply one or more LFs that we've written to a collection of `DataPoints`, we use an `LFApplier`.\n",
    "\n",
    "Because our `DataPoints` are represented with a Pandas dataframe in this tutorial, we use the `PandasLFApplier` class."
   ]
  },
  {
   "cell_type": "code",
   "execution_count": 6,
   "metadata": {},
   "outputs": [
    {
     "name": "stderr",
     "output_type": "stream",
     "text": [
      "100%|██████████| 1586/1586 [00:00<00:00, 32760.42it/s]\n"
     ]
    }
   ],
   "source": [
    "from snorkel.labeling.apply import PandasLFApplier\n",
    "\n",
    "applier = PandasLFApplier(lfs)\n",
    "L_train = applier.apply(df_train)"
   ]
  },
  {
   "cell_type": "markdown",
   "metadata": {},
   "source": [
    "The output of the `apply()` method is a sparse label matrix which we generally refer to as `L`."
   ]
  },
  {
   "cell_type": "code",
   "execution_count": 7,
   "metadata": {},
   "outputs": [
    {
     "data": {
      "text/plain": [
       "<1586x1 sparse matrix of type '<class 'numpy.int64'>'\n",
       "\twith 315 stored elements in Compressed Sparse Row format>"
      ]
     },
     "execution_count": 7,
     "metadata": {},
     "output_type": "execute_result"
    }
   ],
   "source": [
    "L_train"
   ]
  },
  {
   "cell_type": "markdown",
   "metadata": {},
   "source": [
    "### c) Check performance on dev set"
   ]
  },
  {
   "cell_type": "markdown",
   "metadata": {},
   "source": [
    "We can easily calculate the coverage of this LF by hand (i.e., the percentage of the dataset that it labels) as follows:"
   ]
  },
  {
   "cell_type": "code",
   "execution_count": 8,
   "metadata": {},
   "outputs": [
    {
     "name": "stdout",
     "output_type": "stream",
     "text": [
      "Coverage: 0.19861286254728877\n"
     ]
    }
   ],
   "source": [
    "coverage = L_train.nnz / L_train.shape[0]\n",
    "print(f\"Coverage: {coverage}\")"
   ]
  },
  {
   "cell_type": "markdown",
   "metadata": {},
   "source": [
    "To get an estimate of its accuracy, we can label the development set with it and compare that to the few gold labels we do have.\n",
    "\n",
    "Note that we don't want to penalize the LF for examples where it abstained, so we filter out both the predictions and the gold labels where the prediction is `ABSTAIN`."
   ]
  },
  {
   "cell_type": "code",
   "execution_count": 9,
   "metadata": {},
   "outputs": [
    {
     "name": "stderr",
     "output_type": "stream",
     "text": [
      "100%|██████████| 200/200 [00:00<00:00, 25423.11it/s]"
     ]
    },
    {
     "name": "stdout",
     "output_type": "stream",
     "text": [
      "Accuracy: 0.9090909090909091\n"
     ]
    },
    {
     "name": "stderr",
     "output_type": "stream",
     "text": [
      "\n"
     ]
    }
   ],
   "source": [
    "L_dev = applier.apply(df_dev)\n",
    "L_dev_array = np.asarray(L_dev.todense()).squeeze()\n",
    "\n",
    "Y_dev_array = df_dev[\"LABEL\"].values\n",
    "\n",
    "accuracy = ((L_dev_array == Y_dev_array)[L_dev_array != ABSTAIN]).sum() / (L_dev_array != ABSTAIN).sum()\n",
    "print(f\"Accuracy: {accuracy}\")"
   ]
  },
  {
   "cell_type": "markdown",
   "metadata": {},
   "source": [
    "Alternatively, you can use the provided `metric_score()` helper method, which allows you to specify a metric to calculate and certain classes to ignore (such as ABSTAIN)."
   ]
  },
  {
   "cell_type": "code",
   "execution_count": 10,
   "metadata": {},
   "outputs": [
    {
     "name": "stdout",
     "output_type": "stream",
     "text": [
      "Accuracy: 0.9090909090909091\n"
     ]
    }
   ],
   "source": [
    "from snorkel.analysis.metrics import metric_score\n",
    "\n",
    "# Calculate accuracy, ignore all examples for which the predicted label is ABSTAIN\n",
    "accuracy = metric_score(golds=Y_dev_array, preds=L_dev_array, metric=\"accuracy\", filter_dict={\"preds\": [ABSTAIN]})\n",
    "print(f\"Accuracy: {accuracy}\")"
   ]
  },
  {
   "cell_type": "markdown",
   "metadata": {},
   "source": [
    "You can also use the helper method `lf_summary()` to report the following summary statistics for multiple LFs at once:\n",
    "* Polarity: The set of labels this LF outputs\n",
    "* Coverage: The fraction of the dataset the LF labels\n",
    "* Overlaps: The fraction of the dataset where this LF and at least one other LF label\n",
    "* Conflicts: The fraction of the dataset where this LF and at least one other LF label and disagree\n",
    "* Correct: The number of `DataPoints` this LF labels correctly (if gold labels are provided)\n",
    "* Incorrect: The number of `DataPoints` this LF labels incorrectly (if gold labels are provided)\n",
    "* Emp. Acc.: The empirical accuracy of this LF (if gold labels are provided)"
   ]
  },
  {
   "cell_type": "code",
   "execution_count": 11,
   "metadata": {
    "scrolled": true
   },
   "outputs": [
    {
     "data": {
      "text/html": [
       "<div>\n",
       "<style scoped>\n",
       "    .dataframe tbody tr th:only-of-type {\n",
       "        vertical-align: middle;\n",
       "    }\n",
       "\n",
       "    .dataframe tbody tr th {\n",
       "        vertical-align: top;\n",
       "    }\n",
       "\n",
       "    .dataframe thead th {\n",
       "        text-align: right;\n",
       "    }\n",
       "</style>\n",
       "<table border=\"1\" class=\"dataframe\">\n",
       "  <thead>\n",
       "    <tr style=\"text-align: right;\">\n",
       "      <th></th>\n",
       "      <th>j</th>\n",
       "      <th>Polarity</th>\n",
       "      <th>Coverage</th>\n",
       "      <th>Overlaps</th>\n",
       "      <th>Conflicts</th>\n",
       "      <th>Correct</th>\n",
       "      <th>Incorrect</th>\n",
       "      <th>Emp. Acc.</th>\n",
       "    </tr>\n",
       "  </thead>\n",
       "  <tbody>\n",
       "    <tr>\n",
       "      <th>keyword_my</th>\n",
       "      <td>0</td>\n",
       "      <td>[1]</td>\n",
       "      <td>0.22</td>\n",
       "      <td>0.0</td>\n",
       "      <td>0.0</td>\n",
       "      <td>40</td>\n",
       "      <td>4</td>\n",
       "      <td>0.909091</td>\n",
       "    </tr>\n",
       "  </tbody>\n",
       "</table>\n",
       "</div>"
      ],
      "text/plain": [
       "            j Polarity  Coverage  Overlaps  Conflicts  Correct  Incorrect  \\\n",
       "keyword_my  0  [1]      0.22      0.0       0.0        40       4           \n",
       "\n",
       "            Emp. Acc.  \n",
       "keyword_my  0.909091   "
      ]
     },
     "execution_count": 11,
     "metadata": {},
     "output_type": "execute_result"
    }
   ],
   "source": [
    "from snorkel.labeling.analysis import lf_summary\n",
    "\n",
    "lf_names= [lf.name for lf in lfs]\n",
    "lf_summary(L=L_dev, Y=Y_dev_array, lf_names=lf_names)"
   ]
  },
  {
   "cell_type": "markdown",
   "metadata": {},
   "source": [
    "### d) Balance accuracy/coverage"
   ]
  },
  {
   "cell_type": "markdown",
   "metadata": {},
   "source": [
    "Often, by looking at the examples that an LF does and doesn't label, we can get ideas for how to improve it.\n",
    "\n",
    "The helper method `error_buckets()` groups examples by their predicted label and true label, so `buckets[(1, 2)]` will contain the indices of examples that that the LF labeled 1 (SPAM) that were actually of class 2 (HAM)."
   ]
  },
  {
   "cell_type": "code",
   "execution_count": 12,
   "metadata": {},
   "outputs": [
    {
     "data": {
      "text/html": [
       "<div>\n",
       "<style scoped>\n",
       "    .dataframe tbody tr th:only-of-type {\n",
       "        vertical-align: middle;\n",
       "    }\n",
       "\n",
       "    .dataframe tbody tr th {\n",
       "        vertical-align: top;\n",
       "    }\n",
       "\n",
       "    .dataframe thead th {\n",
       "        text-align: right;\n",
       "    }\n",
       "</style>\n",
       "<table border=\"1\" class=\"dataframe\">\n",
       "  <thead>\n",
       "    <tr style=\"text-align: right;\">\n",
       "      <th></th>\n",
       "      <th>CONTENT</th>\n",
       "      <th>LABEL</th>\n",
       "    </tr>\n",
       "  </thead>\n",
       "  <tbody>\n",
       "    <tr>\n",
       "      <th>326</th>\n",
       "      <td>\"....because I AM a champion...and you're gonna hear me roar!\"   Today I AM my own champion  Today I AM a champion for the Creator  Today I AM doing positive in my world Today I AM blessing and healing all around me Today I AM successful and  creating success  ﻿</td>\n",
       "      <td>2</td>\n",
       "    </tr>\n",
       "    <tr>\n",
       "      <th>61</th>\n",
       "      <td>I guss this song is one of my worst fears in life, to be with someone who abusive towered me and live with him.... ﻿</td>\n",
       "      <td>2</td>\n",
       "    </tr>\n",
       "    <tr>\n",
       "      <th>284</th>\n",
       "      <td>sorry to all my haters&lt;br /&gt;&lt;br /&gt;&lt;br /&gt;&lt;br /&gt;&lt;br /&gt;&lt;br /&gt;&lt;br /&gt;&lt;br /&gt;&lt;br /&gt;&lt;br /&gt;&lt;br /&gt;&lt;br /&gt;&lt;br /&gt;for party rock en﻿</td>\n",
       "      <td>2</td>\n",
       "    </tr>\n",
       "    <tr>\n",
       "      <th>282</th>\n",
       "      <td>my son love so much﻿</td>\n",
       "      <td>2</td>\n",
       "    </tr>\n",
       "  </tbody>\n",
       "</table>\n",
       "</div>"
      ],
      "text/plain": [
       "                                                                                                                                                                                                                                                                    CONTENT  \\\n",
       "326  \"....because I AM a champion...and you're gonna hear me roar!\"   Today I AM my own champion  Today I AM a champion for the Creator  Today I AM doing positive in my world Today I AM blessing and healing all around me Today I AM successful and  creating success  ﻿   \n",
       "61   I guss this song is one of my worst fears in life, to be with someone who abusive towered me and live with him.... ﻿                                                                                                                                                     \n",
       "284  sorry to all my haters<br /><br /><br /><br /><br /><br /><br /><br /><br /><br /><br /><br /><br />for party rock en﻿                                                                                                                                                   \n",
       "282  my son love so much﻿                                                                                                                                                                                                                                                     \n",
       "\n",
       "     LABEL  \n",
       "326  2      \n",
       "61   2      \n",
       "284  2      \n",
       "282  2      "
      ]
     },
     "execution_count": 12,
     "metadata": {},
     "output_type": "execute_result"
    }
   ],
   "source": [
    "from snorkel.analysis.error_analysis import error_buckets\n",
    "\n",
    "buckets = error_buckets(Y_dev_array, L_dev_array)\n",
    "df_dev[[\"CONTENT\", \"LABEL\"]].iloc[buckets[(1, 2)]].head()"
   ]
  },
  {
   "cell_type": "markdown",
   "metadata": {},
   "source": [
    "On the other hand, `buckets[(1, 1)]` contains SPAM examples it labeled correctly."
   ]
  },
  {
   "cell_type": "code",
   "execution_count": 13,
   "metadata": {},
   "outputs": [
    {
     "data": {
      "text/html": [
       "<div>\n",
       "<style scoped>\n",
       "    .dataframe tbody tr th:only-of-type {\n",
       "        vertical-align: middle;\n",
       "    }\n",
       "\n",
       "    .dataframe tbody tr th {\n",
       "        vertical-align: top;\n",
       "    }\n",
       "\n",
       "    .dataframe thead th {\n",
       "        text-align: right;\n",
       "    }\n",
       "</style>\n",
       "<table border=\"1\" class=\"dataframe\">\n",
       "  <thead>\n",
       "    <tr style=\"text-align: right;\">\n",
       "      <th></th>\n",
       "      <th>CONTENT</th>\n",
       "      <th>LABEL</th>\n",
       "    </tr>\n",
       "  </thead>\n",
       "  <tbody>\n",
       "    <tr>\n",
       "      <th>367</th>\n",
       "      <td>Lol check out my chanell and subscribe please i want 5000 subs thats it im nearly their now﻿</td>\n",
       "      <td>1</td>\n",
       "    </tr>\n",
       "    <tr>\n",
       "      <th>31</th>\n",
       "      <td>Hi there~I'm group leader of Angel, a rookie Korean pop group. We have four  members, Chanicka, Julie, Stephanie, and myself, Leah. Please feel free to  check out our channel and leave some feedback on our cover videos (:  criticism is welcome as we know we're not top notch singers so please come  leave some constructive feedback on our videos; we appreciate any chance to  improve before auditioning for a Korean management company. We plan on  auditioning for JYP, BigHit, Jellyfish, YG or SM. Thank you for taking time  out of your day to read this !﻿</td>\n",
       "      <td>1</td>\n",
       "    </tr>\n",
       "    <tr>\n",
       "      <th>263</th>\n",
       "      <td>Suscribe My Channel Please XD lol﻿</td>\n",
       "      <td>1</td>\n",
       "    </tr>\n",
       "    <tr>\n",
       "      <th>204</th>\n",
       "      <td>SnEakiESTG Good Music. Hood Muzik Subscribe 2 My Channel. Thanks For The Support. SnEakiESTG   SnEakiESTG Good Music. Hood Muzik Subscribe 2 My Channel. Thanks For The Support. SnEakiESTG</td>\n",
       "      <td>1</td>\n",
       "    </tr>\n",
       "    <tr>\n",
       "      <th>100</th>\n",
       "      <td>subscribe to my channel yo - DJ Feelz﻿</td>\n",
       "      <td>1</td>\n",
       "    </tr>\n",
       "  </tbody>\n",
       "</table>\n",
       "</div>"
      ],
      "text/plain": [
       "                                                                                                                                                                                                                                                                                                                                                                                                                                                                                                                                                                          CONTENT  \\\n",
       "367  Lol check out my chanell and subscribe please i want 5000 subs thats it im nearly their now﻿                                                                                                                                                                                                                                                                                                                                                                                                                                                                                   \n",
       "31   Hi there~I'm group leader of Angel, a rookie Korean pop group. We have four  members, Chanicka, Julie, Stephanie, and myself, Leah. Please feel free to  check out our channel and leave some feedback on our cover videos (:  criticism is welcome as we know we're not top notch singers so please come  leave some constructive feedback on our videos; we appreciate any chance to  improve before auditioning for a Korean management company. We plan on  auditioning for JYP, BigHit, Jellyfish, YG or SM. Thank you for taking time  out of your day to read this !﻿   \n",
       "263  Suscribe My Channel Please XD lol﻿                                                                                                                                                                                                                                                                                                                                                                                                                                                                                                                                             \n",
       "204  SnEakiESTG Good Music. Hood Muzik Subscribe 2 My Channel. Thanks For The Support. SnEakiESTG   SnEakiESTG Good Music. Hood Muzik Subscribe 2 My Channel. Thanks For The Support. SnEakiESTG                                                                                                                                                                                                                                                                                                                                                                                    \n",
       "100  subscribe to my channel yo - DJ Feelz﻿                                                                                                                                                                                                                                                                                                                                                                                                                                                                                                                                         \n",
       "\n",
       "     LABEL  \n",
       "367  1      \n",
       "31   1      \n",
       "263  1      \n",
       "204  1      \n",
       "100  1      "
      ]
     },
     "execution_count": 13,
     "metadata": {},
     "output_type": "execute_result"
    }
   ],
   "source": [
    "df_dev[[\"CONTENT\", \"LABEL\"]].iloc[buckets[(1, 1)]].head()"
   ]
  },
  {
   "cell_type": "markdown",
   "metadata": {},
   "source": [
    "Looking at these examples, we may notice that much of the time when \"my\" is used, it's referring to \"my channel\". We can update our LF to see how making this change affects accuracy and coverage."
   ]
  },
  {
   "cell_type": "code",
   "execution_count": 14,
   "metadata": {},
   "outputs": [
    {
     "name": "stderr",
     "output_type": "stream",
     "text": [
      "100%|██████████| 200/200 [00:00<00:00, 24227.73it/s]\n"
     ]
    },
    {
     "data": {
      "text/html": [
       "<div>\n",
       "<style scoped>\n",
       "    .dataframe tbody tr th:only-of-type {\n",
       "        vertical-align: middle;\n",
       "    }\n",
       "\n",
       "    .dataframe tbody tr th {\n",
       "        vertical-align: top;\n",
       "    }\n",
       "\n",
       "    .dataframe thead th {\n",
       "        text-align: right;\n",
       "    }\n",
       "</style>\n",
       "<table border=\"1\" class=\"dataframe\">\n",
       "  <thead>\n",
       "    <tr style=\"text-align: right;\">\n",
       "      <th></th>\n",
       "      <th>Polarity</th>\n",
       "      <th>Coverage</th>\n",
       "      <th>Overlaps</th>\n",
       "      <th>Conflicts</th>\n",
       "      <th>Correct</th>\n",
       "      <th>Incorrect</th>\n",
       "      <th>Emp. Acc.</th>\n",
       "    </tr>\n",
       "  </thead>\n",
       "  <tbody>\n",
       "    <tr>\n",
       "      <th>0</th>\n",
       "      <td>[1]</td>\n",
       "      <td>0.085</td>\n",
       "      <td>0.0</td>\n",
       "      <td>0.0</td>\n",
       "      <td>17</td>\n",
       "      <td>0</td>\n",
       "      <td>1.0</td>\n",
       "    </tr>\n",
       "  </tbody>\n",
       "</table>\n",
       "</div>"
      ],
      "text/plain": [
       "  Polarity  Coverage  Overlaps  Conflicts  Correct  Incorrect  Emp. Acc.\n",
       "0  [1]      0.085     0.0       0.0        17       0          1.0      "
      ]
     },
     "execution_count": 14,
     "metadata": {},
     "output_type": "execute_result"
    }
   ],
   "source": [
    "@labeling_function()\n",
    "def keywords_my_channel(x):\n",
    "    return SPAM if 'my channel' in x.CONTENT.lower() else ABSTAIN\n",
    "\n",
    "lfs = [keywords_my_channel]\n",
    "applier = PandasLFApplier(lfs)\n",
    "L_dev = applier.apply(df_dev)\n",
    "lf_names= [lf.name for lf in lfs]\n",
    "lf_summary(L=L_dev, Y=Y_dev_array)"
   ]
  },
  {
   "cell_type": "markdown",
   "metadata": {},
   "source": [
    "In this case, accuracy does improve a bit, but it was already fairly accurate to begin with, and \"tightening\" the LF like this causes the coverage drops significantly, so we'll stick with the original LF."
   ]
  },
  {
   "cell_type": "markdown",
   "metadata": {},
   "source": [
    "## More Labeling Functions"
   ]
  },
  {
   "cell_type": "markdown",
   "metadata": {},
   "source": [
    "If a single LF had high enough coverage to label our entire test dataset accurately, then we wouldn't need a classifier at all; we could just use that single simple heuristic to complete the task. But most problems are not that simple. Instead, we usually need to **combine multiple LFs** to label our dataset, both to increase the size of the generated training set (since we can't generate training labels for data points that all LFs abstained on) and to improve the overall accuracy of the training labels we generate by factoring in multiple different signals.\n",
    "\n",
    "In the following subsections, we'll show just a few of the many types of LFs that you could write to generate a training dataset for this problem."
   ]
  },
  {
   "cell_type": "markdown",
   "metadata": {},
   "source": [
    "### i. Keyword LFs"
   ]
  },
  {
   "cell_type": "markdown",
   "metadata": {},
   "source": [
    "For text applications, some of the simplest LFs to write are often just keyword lookups."
   ]
  },
  {
   "cell_type": "code",
   "execution_count": 15,
   "metadata": {},
   "outputs": [],
   "source": [
    "lfs = []\n",
    "\n",
    "@labeling_function()\n",
    "def keyword_my(x):\n",
    "    \"\"\"Many spam comments talk about 'my channel', 'my video', etc.\"\"\"\n",
    "    return SPAM if 'my' in x.CONTENT.lower() else ABSTAIN\n",
    "lfs.append(keyword_my)\n",
    "\n",
    "@labeling_function()\n",
    "def lf_subscribe(x):\n",
    "    \"\"\"Spammers ask users to subscribe to their channels.\"\"\"\n",
    "    return SPAM if \"subscribe\" in x.CONTENT else 0\n",
    "lfs.append(lf_subscribe)\n",
    "\n",
    "@labeling_function()\n",
    "def lf_link(x):\n",
    "    \"\"\"Spammers post links to their channels.\"\"\"\n",
    "    return SPAM if \"http\" in x.CONTENT.lower() else 0\n",
    "lfs.append(lf_link)\n",
    "\n",
    "@labeling_function()\n",
    "def lf_please(x):\n",
    "    \"\"\"Spammers make requests rather than commenting.\"\"\"\n",
    "    return SPAM if any([word in x.CONTENT.lower() for word in [\"please\", \"plz\"]]) else ABSTAIN\n",
    "lfs.append(lf_please)\n",
    "\n",
    "@labeling_function()\n",
    "def lf_song(x):\n",
    "    \"\"\"Hammers actually talk about the video's content.\"\"\"\n",
    "    return HAM if \"song\" in x.CONTENT.lower() else ABSTAIN\n",
    "lfs.append(lf_song)"
   ]
  },
  {
   "cell_type": "markdown",
   "metadata": {},
   "source": [
    "### ii. Pattern-matching LFs (Regular Expressions)"
   ]
  },
  {
   "cell_type": "markdown",
   "metadata": {},
   "source": [
    "If we want a little more control over a keyword search, we can look for regular expressions instead."
   ]
  },
  {
   "cell_type": "code",
   "execution_count": 16,
   "metadata": {},
   "outputs": [],
   "source": [
    "import re\n",
    "\n",
    "@labeling_function()\n",
    "def regex_check_out(x):\n",
    "    \"\"\"Catch 'check out my video' as well as 'check it out', for example.\"\"\"\n",
    "    return SPAM if re.search(r\"check.*out\", x.CONTENT, flags=re.I) else ABSTAIN\n",
    "\n",
    "lfs.append(regex_check_out)"
   ]
  },
  {
   "cell_type": "markdown",
   "metadata": {},
   "source": [
    "### iii.  Heuristic LFs"
   ]
  },
  {
   "cell_type": "markdown",
   "metadata": {},
   "source": [
    "There may other heuristics or \"rules of thumb\" that you come up with as you look at the data.\n",
    "So long as you can express it in a function, it's a viable LF!"
   ]
  },
  {
   "cell_type": "code",
   "execution_count": 17,
   "metadata": {},
   "outputs": [],
   "source": [
    "@labeling_function()\n",
    "def short_comment(x):\n",
    "    \"\"\"Hammer comments are often short, such as 'cool video!'\"\"\"\n",
    "    return HAM if len(x.CONTENT.split()) < 5 else ABSTAIN\n",
    "lfs.append(short_comment)\n",
    "\n",
    "\n",
    "@labeling_function()\n",
    "def short_word_lengths(x):\n",
    "    \"\"\"Ham comments tend to have shorter words\"\"\"\n",
    "    words = x.CONTENT.split()\n",
    "    lengths = [len(word) for word in words]\n",
    "    mean_word_length = sum(lengths) / len(lengths)\n",
    "    return HAM if mean_word_length < 4 else ABSTAIN\n",
    "lfs.append(short_word_lengths)"
   ]
  },
  {
   "cell_type": "markdown",
   "metadata": {},
   "source": [
    "### Adding Preprocessors"
   ]
  },
  {
   "cell_type": "markdown",
   "metadata": {},
   "source": [
    "Some LFs rely on fields that aren't present in the raw data, but can be derived from it. We can enrich our data (providing more fields for the LFs to refer to) using `Preprocessors`.\n",
    "\n",
    "For example, we can use the fantastic NLP tool [spaCy](https://spacy.io/) to add lemmas, part-of-speech (pos) tags, etc. to each token."
   ]
  },
  {
   "cell_type": "code",
   "execution_count": 18,
   "metadata": {},
   "outputs": [
    {
     "name": "stdout",
     "output_type": "stream",
     "text": [
      "Requirement already satisfied: en_core_web_sm==2.1.0 from https://github.com/explosion/spacy-models/releases/download/en_core_web_sm-2.1.0/en_core_web_sm-2.1.0.tar.gz#egg=en_core_web_sm==2.1.0 in /Users/braden/anaconda3/lib/python3.7/site-packages (2.1.0)\n",
      "\u001b[38;5;2m✔ Download and installation successful\u001b[0m\n",
      "You can now load the model via spacy.load('en_core_web_sm')\n"
     ]
    }
   ],
   "source": [
    "# Download the spacy english model\n",
    "! python -m spacy download en_core_web_sm"
   ]
  },
  {
   "cell_type": "code",
   "execution_count": 19,
   "metadata": {},
   "outputs": [],
   "source": [
    "from snorkel.labeling.preprocess.nlp import SpacyPreprocessor\n",
    "# The SpacyPreprocessor parses the text in text_field and \n",
    "# stores the new enriched representation in doc_field\n",
    "spacy = SpacyPreprocessor(text_field=\"CONTENT\", doc_field=\"doc\", memoize=True)\n",
    "\n",
    "@labeling_function(preprocessors=[spacy])\n",
    "def no_names(x):\n",
    "    \"\"\"\"\"\"\n",
    "    num_names = sum([token.pos_ == \"PROPN\" for token in x.doc])\n",
    "    return HAM if num_names == 0 else ABSTAIN\n",
    "lfs.append(no_names)"
   ]
  },
  {
   "cell_type": "markdown",
   "metadata": {},
   "source": [
    "### iv. Third-party Model LFs"
   ]
  },
  {
   "cell_type": "markdown",
   "metadata": {},
   "source": [
    "We can also utilize other models, including ones trained for other tasks that are related to, but not the same as, the one we care about.\n",
    "\n",
    "For example, the [TextBlob](https://textblob.readthedocs.io/en/dev/index.html) tool provides a pretrained sentiment analyzer. Our spam classification task is not the same as sentiment classification, but it turns out that SPAM and HAM comments have different distributions of sentiment scores, with HAM having more positive/subjective sentiments."
   ]
  },
  {
   "cell_type": "code",
   "execution_count": 20,
   "metadata": {},
   "outputs": [],
   "source": [
    "import matplotlib.pyplot as plt\n",
    "from textblob import TextBlob\n",
    "\n",
    "spam_polarities = [TextBlob(x.CONTENT).sentiment.polarity for i, x in df_dev.iterrows() if x.LABEL == SPAM]\n",
    "ham_polarities = [TextBlob(x.CONTENT).sentiment.polarity for i, x in df_dev.iterrows() if x.LABEL == HAM]\n",
    "\n",
    "_ = plt.hist([spam_polarities, ham_polarities])"
   ]
  },
  {
   "cell_type": "code",
   "execution_count": 21,
   "metadata": {},
   "outputs": [],
   "source": [
    "from textblob import TextBlob\n",
    "\n",
    "@labeling_function()\n",
    "def textblob_polarity(x):\n",
    "    return 2 if TextBlob(x.CONTENT).sentiment.polarity > 0.3 else 0\n",
    "lfs.append(textblob_polarity)\n",
    "\n",
    "@labeling_function()\n",
    "def textblob_subjectivity(x):\n",
    "    return 2 if TextBlob(x.CONTENT).sentiment.subjectivity > 0.9 else 0\n",
    "lfs.append(textblob_subjectivity)"
   ]
  },
  {
   "cell_type": "markdown",
   "metadata": {},
   "source": [
    "### v. Write your own LFs"
   ]
  },
  {
   "cell_type": "markdown",
   "metadata": {},
   "source": [
    "This tutorial demonstrates just a handful of the types of LFs that one might write for this task. \n",
    "The strength of LFs is that they provide a flexible abstraction for conveying a huge variety of supervision signals. \n",
    "\n",
    "You can uncomment the cell below to write one or more of your own LFs.\n",
    "Don't forget to add them to the list of `lfs` so that they are included by the `LFApplier` in the next section."
   ]
  },
  {
   "cell_type": "code",
   "execution_count": 22,
   "metadata": {},
   "outputs": [],
   "source": [
    "# @labeling_function()\n",
    "# def my_lf(x):\n",
    "#     pass\n",
    "# lfs.append(my_lf)"
   ]
  },
  {
   "cell_type": "markdown",
   "metadata": {},
   "source": [
    "### Apply LFs"
   ]
  },
  {
   "cell_type": "markdown",
   "metadata": {},
   "source": [
    "With our full set of LFs (including any you wrote), we can now apply these once again with `LFApplier` to get our the label matrices for the `train` and `dev` splits. We'll use the `train` split's label matrix to generate training labels with the Label Model. The `dev` split's label model is primarily helpful for looking at summary statistics.\n",
    "\n",
    "Note that the `pandas` format provides an easy interface that many practioners are familiar with, but it is also less optimized for scale. For larger datasets, more compute-intensive LFs, or larger LF sets, you may decide to use one of the other supported data formats such as `dask` or `spark` dataframes, and their corresponding applier objects."
   ]
  },
  {
   "cell_type": "code",
   "execution_count": 23,
   "metadata": {},
   "outputs": [
    {
     "name": "stderr",
     "output_type": "stream",
     "text": [
      "100%|██████████| 1586/1586 [00:16<00:00, 96.44it/s] \n",
      "100%|██████████| 200/200 [00:00<00:00, 1050.92it/s]\n"
     ]
    },
    {
     "data": {
      "text/html": [
       "<div>\n",
       "<style scoped>\n",
       "    .dataframe tbody tr th:only-of-type {\n",
       "        vertical-align: middle;\n",
       "    }\n",
       "\n",
       "    .dataframe tbody tr th {\n",
       "        vertical-align: top;\n",
       "    }\n",
       "\n",
       "    .dataframe thead th {\n",
       "        text-align: right;\n",
       "    }\n",
       "</style>\n",
       "<table border=\"1\" class=\"dataframe\">\n",
       "  <thead>\n",
       "    <tr style=\"text-align: right;\">\n",
       "      <th></th>\n",
       "      <th>j</th>\n",
       "      <th>Polarity</th>\n",
       "      <th>Coverage</th>\n",
       "      <th>Overlaps</th>\n",
       "      <th>Conflicts</th>\n",
       "      <th>Correct</th>\n",
       "      <th>Incorrect</th>\n",
       "      <th>Emp. Acc.</th>\n",
       "    </tr>\n",
       "  </thead>\n",
       "  <tbody>\n",
       "    <tr>\n",
       "      <th>keyword_my</th>\n",
       "      <td>0</td>\n",
       "      <td>[1]</td>\n",
       "      <td>0.220</td>\n",
       "      <td>0.215</td>\n",
       "      <td>0.165</td>\n",
       "      <td>40</td>\n",
       "      <td>4</td>\n",
       "      <td>0.909091</td>\n",
       "    </tr>\n",
       "    <tr>\n",
       "      <th>lf_subscribe</th>\n",
       "      <td>1</td>\n",
       "      <td>[1]</td>\n",
       "      <td>0.100</td>\n",
       "      <td>0.090</td>\n",
       "      <td>0.080</td>\n",
       "      <td>20</td>\n",
       "      <td>0</td>\n",
       "      <td>1.000000</td>\n",
       "    </tr>\n",
       "    <tr>\n",
       "      <th>lf_link</th>\n",
       "      <td>2</td>\n",
       "      <td>[1]</td>\n",
       "      <td>0.100</td>\n",
       "      <td>0.080</td>\n",
       "      <td>0.060</td>\n",
       "      <td>19</td>\n",
       "      <td>1</td>\n",
       "      <td>0.950000</td>\n",
       "    </tr>\n",
       "    <tr>\n",
       "      <th>lf_please</th>\n",
       "      <td>3</td>\n",
       "      <td>[1]</td>\n",
       "      <td>0.100</td>\n",
       "      <td>0.100</td>\n",
       "      <td>0.065</td>\n",
       "      <td>20</td>\n",
       "      <td>0</td>\n",
       "      <td>1.000000</td>\n",
       "    </tr>\n",
       "    <tr>\n",
       "      <th>lf_song</th>\n",
       "      <td>4</td>\n",
       "      <td>[2]</td>\n",
       "      <td>0.140</td>\n",
       "      <td>0.125</td>\n",
       "      <td>0.055</td>\n",
       "      <td>17</td>\n",
       "      <td>11</td>\n",
       "      <td>0.607143</td>\n",
       "    </tr>\n",
       "    <tr>\n",
       "      <th>regex_check_out</th>\n",
       "      <td>5</td>\n",
       "      <td>[1]</td>\n",
       "      <td>0.285</td>\n",
       "      <td>0.255</td>\n",
       "      <td>0.205</td>\n",
       "      <td>57</td>\n",
       "      <td>0</td>\n",
       "      <td>1.000000</td>\n",
       "    </tr>\n",
       "    <tr>\n",
       "      <th>short_comment</th>\n",
       "      <td>6</td>\n",
       "      <td>[2]</td>\n",
       "      <td>0.245</td>\n",
       "      <td>0.195</td>\n",
       "      <td>0.065</td>\n",
       "      <td>32</td>\n",
       "      <td>17</td>\n",
       "      <td>0.653061</td>\n",
       "    </tr>\n",
       "    <tr>\n",
       "      <th>short_word_lengths</th>\n",
       "      <td>7</td>\n",
       "      <td>[2]</td>\n",
       "      <td>0.210</td>\n",
       "      <td>0.205</td>\n",
       "      <td>0.080</td>\n",
       "      <td>24</td>\n",
       "      <td>18</td>\n",
       "      <td>0.571429</td>\n",
       "    </tr>\n",
       "    <tr>\n",
       "      <th>no_names</th>\n",
       "      <td>8</td>\n",
       "      <td>[2]</td>\n",
       "      <td>0.545</td>\n",
       "      <td>0.490</td>\n",
       "      <td>0.235</td>\n",
       "      <td>59</td>\n",
       "      <td>50</td>\n",
       "      <td>0.541284</td>\n",
       "    </tr>\n",
       "    <tr>\n",
       "      <th>textblob_polarity</th>\n",
       "      <td>9</td>\n",
       "      <td>[2]</td>\n",
       "      <td>0.290</td>\n",
       "      <td>0.260</td>\n",
       "      <td>0.100</td>\n",
       "      <td>38</td>\n",
       "      <td>20</td>\n",
       "      <td>0.655172</td>\n",
       "    </tr>\n",
       "    <tr>\n",
       "      <th>textblob_subjectivity</th>\n",
       "      <td>10</td>\n",
       "      <td>[2]</td>\n",
       "      <td>0.075</td>\n",
       "      <td>0.075</td>\n",
       "      <td>0.035</td>\n",
       "      <td>9</td>\n",
       "      <td>6</td>\n",
       "      <td>0.600000</td>\n",
       "    </tr>\n",
       "  </tbody>\n",
       "</table>\n",
       "</div>"
      ],
      "text/plain": [
       "                        j Polarity  Coverage  Overlaps  Conflicts  Correct  \\\n",
       "keyword_my             0   [1]      0.220     0.215     0.165      40        \n",
       "lf_subscribe           1   [1]      0.100     0.090     0.080      20        \n",
       "lf_link                2   [1]      0.100     0.080     0.060      19        \n",
       "lf_please              3   [1]      0.100     0.100     0.065      20        \n",
       "lf_song                4   [2]      0.140     0.125     0.055      17        \n",
       "regex_check_out        5   [1]      0.285     0.255     0.205      57        \n",
       "short_comment          6   [2]      0.245     0.195     0.065      32        \n",
       "short_word_lengths     7   [2]      0.210     0.205     0.080      24        \n",
       "no_names               8   [2]      0.545     0.490     0.235      59        \n",
       "textblob_polarity      9   [2]      0.290     0.260     0.100      38        \n",
       "textblob_subjectivity  10  [2]      0.075     0.075     0.035      9         \n",
       "\n",
       "                       Incorrect  Emp. Acc.  \n",
       "keyword_my             4          0.909091   \n",
       "lf_subscribe           0          1.000000   \n",
       "lf_link                1          0.950000   \n",
       "lf_please              0          1.000000   \n",
       "lf_song                11         0.607143   \n",
       "regex_check_out        0          1.000000   \n",
       "short_comment          17         0.653061   \n",
       "short_word_lengths     18         0.571429   \n",
       "no_names               50         0.541284   \n",
       "textblob_polarity      20         0.655172   \n",
       "textblob_subjectivity  6          0.600000   "
      ]
     },
     "execution_count": 23,
     "metadata": {},
     "output_type": "execute_result"
    }
   ],
   "source": [
    "applier = PandasLFApplier(lfs)\n",
    "L_train = applier.apply(df_train)\n",
    "L_dev = applier.apply(df_dev)\n",
    "\n",
    "lf_names= [lf.name for lf in lfs]\n",
    "lf_summary(L=L_dev, Y=Y_dev_array, lf_names=lf_names)"
   ]
  },
  {
   "cell_type": "markdown",
   "metadata": {},
   "source": [
    "## 3. Combine with Label Model"
   ]
  },
  {
   "cell_type": "markdown",
   "metadata": {},
   "source": [
    "* Pretty much copy prose from Spouse tutorial"
   ]
  },
  {
   "cell_type": "markdown",
   "metadata": {},
   "source": [
    "* Run LabelModel, get probabilities\n",
    "    * Note: no labels are required or used\n",
    "* Look at probabilities (histogram)\n",
    "* What if we used this directly as a classifier? (score)\n",
    "    * Why we expect classifier we train to generalize better\n",
    "    * Look - we're randomly guessing on XX% of the data"
   ]
  },
  {
   "cell_type": "markdown",
   "metadata": {},
   "source": [
    "* Can also compare to MV\n",
    "    * Does worse"
   ]
  },
  {
   "cell_type": "markdown",
   "metadata": {},
   "source": [
    "## 4. Predict with Classifier"
   ]
  },
  {
   "cell_type": "markdown",
   "metadata": {},
   "source": [
    "* Now train classifier\n",
    "    * Can use any third-party classifier (plug into your existing pipelines!)\n",
    "    * Some libraries natively support probabilistic labels (us, TF); for others, can round.\n",
    "* Use bag-of-ngrams as features\n",
    "* [Train TF logreg w/ soft labels]\n",
    "* Score; see, we do better!\n",
    "* Also demonstrate sklearn logreg with hard labels (end model agnostic)\n",
    "* Compare with training on dev directly (see, we did better)\n",
    "    * And we could do even better with more raw unlabeled data"
   ]
  }
 ],
 "metadata": {
  "jupytext": {
   "cell_metadata_filter": "title,-all",
   "formats": "ipynb,py:percent"
  },
  "kernelspec": {
   "display_name": "snorkel",
   "language": "python",
   "name": "snorkel"
  },
  "language_info": {
   "codemirror_mode": {
    "name": "ipython",
    "version": 3
   },
   "file_extension": ".py",
   "mimetype": "text/x-python",
   "name": "python",
   "nbconvert_exporter": "python",
   "pygments_lexer": "ipython3",
   "version": "3.7.3"
  }
 },
 "nbformat": 4,
 "nbformat_minor": 2
}
