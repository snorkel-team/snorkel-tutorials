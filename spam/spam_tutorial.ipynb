{
 "cells": [
  {
   "cell_type": "markdown",
   "metadata": {},
   "source": [
    "# Introductory Snorkel Tutorial: Spam Detection"
   ]
  },
  {
   "cell_type": "markdown",
   "metadata": {},
   "source": [
    "* Nice introductory text\n",
    "* Purpose of this tutorial\n",
    "* Steps:\n",
    "    1. Load data\n",
    "    2. Write labeling functions (LFs)\n",
    "    3. Combine with Label Model\n",
    "    4. Predict with Classifier"
   ]
  },
  {
   "cell_type": "markdown",
   "metadata": {},
   "source": [
    "### Task: Spam Detection"
   ]
  },
  {
   "cell_type": "markdown",
   "metadata": {},
   "source": [
    "* Here's what we're trying to do\n",
    "* Here's where the data came from\n",
    "* Show sample T and F in markdown"
   ]
  },
  {
   "cell_type": "markdown",
   "metadata": {},
   "source": [
    "### Data Splits in Snorkel"
   ]
  },
  {
   "cell_type": "markdown",
   "metadata": {},
   "source": [
    "* 4 splits: train, dev, valid, test\n",
    "* train is large and unlabeled\n",
    "* valid/test is labeled and you don't look at it \n",
    "* best to come up with LFs while looking at data. Options:\n",
    "    * look at train for ideas; no labels, but np.\n",
    "    * label small subset of train (e.g., 200), call it \"dev\"\n",
    "    * in a pinch, use valid set as dev (note though that valid will no longer be good rep of test)"
   ]
  },
  {
   "cell_type": "markdown",
   "metadata": {},
   "source": [
    "## 1. Load data"
   ]
  },
  {
   "cell_type": "markdown",
   "metadata": {},
   "source": [
    "* Start by loading data\n",
    "* utility pulls from internet, re-splits, and shuffles\n",
    "* for this application, train is videos 1-4, valid/test are video 5"
   ]
  },
  {
   "cell_type": "code",
   "execution_count": 2,
   "metadata": {
    "lines_to_next_cell": 2
   },
   "outputs": [],
   "source": [
    "from utils import load_spam_dataset\n",
    "\n",
    "df_train, df_dev, df_valid, df_test = load_spam_dataset()"
   ]
  },
  {
   "cell_type": "markdown",
   "metadata": {},
   "source": [
    "* Describe fields"
   ]
  },
  {
   "cell_type": "code",
   "execution_count": 3,
   "metadata": {},
   "outputs": [
    {
     "data": {
      "text/html": [
       "<div>\n",
       "<style scoped>\n",
       "    .dataframe tbody tr th:only-of-type {\n",
       "        vertical-align: middle;\n",
       "    }\n",
       "\n",
       "    .dataframe tbody tr th {\n",
       "        vertical-align: top;\n",
       "    }\n",
       "\n",
       "    .dataframe thead th {\n",
       "        text-align: right;\n",
       "    }\n",
       "</style>\n",
       "<table border=\"1\" class=\"dataframe\">\n",
       "  <thead>\n",
       "    <tr style=\"text-align: right;\">\n",
       "      <th></th>\n",
       "      <th>COMMENT_ID</th>\n",
       "      <th>AUTHOR</th>\n",
       "      <th>DATE</th>\n",
       "      <th>CONTENT</th>\n",
       "      <th>LABEL</th>\n",
       "      <th>VIDEO_ID</th>\n",
       "    </tr>\n",
       "  </thead>\n",
       "  <tbody>\n",
       "    <tr>\n",
       "      <th>209</th>\n",
       "      <td>z12mtxqrmxicjfx1s22egddrbnqssva5c04</td>\n",
       "      <td>kimberly dezan</td>\n",
       "      <td>2014-07-22T18:38:37.217000</td>\n",
       "      <td>Love your song makes me happy﻿</td>\n",
       "      <td>2</td>\n",
       "      <td>3</td>\n",
       "    </tr>\n",
       "    <tr>\n",
       "      <th>376</th>\n",
       "      <td>z13hwbshcnrhztsw204cirfgvregzvywmag</td>\n",
       "      <td>emily 13</td>\n",
       "      <td>2015-05-28T23:10:37.700000</td>\n",
       "      <td>i love song :)﻿</td>\n",
       "      <td>2</td>\n",
       "      <td>4</td>\n",
       "    </tr>\n",
       "    <tr>\n",
       "      <th>347</th>\n",
       "      <td>z12jy1tw0unnhhdnh23yyvyhjsnljxhf4</td>\n",
       "      <td>Gio D.</td>\n",
       "      <td>2014-11-07T23:23:54</td>\n",
       "      <td>Dumb Guy: Why is there 2 billion views when th...</td>\n",
       "      <td>2</td>\n",
       "      <td>1</td>\n",
       "    </tr>\n",
       "    <tr>\n",
       "      <th>67</th>\n",
       "      <td>z125idl4dkrwsdlbj04ccpvbcqjbt3hbbqk0k</td>\n",
       "      <td>Mauro Tricolor</td>\n",
       "      <td>2014-10-30T20:43:47</td>\n",
       "      <td>http://minhateca.com.br/mauro-sp2013/Filmes+Se...</td>\n",
       "      <td>1</td>\n",
       "      <td>2</td>\n",
       "    </tr>\n",
       "    <tr>\n",
       "      <th>80</th>\n",
       "      <td>z13eulmg4uqsitk4a04cfjxzhpiqj3pycrg0k</td>\n",
       "      <td>Villads Hallundbæk</td>\n",
       "      <td>2015-03-14T16:16:22.607000</td>\n",
       "      <td>like this comment please﻿</td>\n",
       "      <td>1</td>\n",
       "      <td>3</td>\n",
       "    </tr>\n",
       "  </tbody>\n",
       "</table>\n",
       "</div>"
      ],
      "text/plain": [
       "                                COMMENT_ID              AUTHOR  \\\n",
       "209    z12mtxqrmxicjfx1s22egddrbnqssva5c04      kimberly dezan   \n",
       "376    z13hwbshcnrhztsw204cirfgvregzvywmag            emily 13   \n",
       "347      z12jy1tw0unnhhdnh23yyvyhjsnljxhf4              Gio D.   \n",
       "67   z125idl4dkrwsdlbj04ccpvbcqjbt3hbbqk0k      Mauro Tricolor   \n",
       "80   z13eulmg4uqsitk4a04cfjxzhpiqj3pycrg0k  Villads Hallundbæk   \n",
       "\n",
       "                           DATE  \\\n",
       "209  2014-07-22T18:38:37.217000   \n",
       "376  2015-05-28T23:10:37.700000   \n",
       "347         2014-11-07T23:23:54   \n",
       "67          2014-10-30T20:43:47   \n",
       "80   2015-03-14T16:16:22.607000   \n",
       "\n",
       "                                               CONTENT  LABEL  VIDEO_ID  \n",
       "209                     Love your song makes me happy﻿      2         3  \n",
       "376                                    i love song :)﻿      2         4  \n",
       "347  Dumb Guy: Why is there 2 billion views when th...      2         1  \n",
       "67   http://minhateca.com.br/mauro-sp2013/Filmes+Se...      1         2  \n",
       "80                           like this comment please﻿      1         3  "
      ]
     },
     "execution_count": 3,
     "metadata": {},
     "output_type": "execute_result"
    }
   ],
   "source": [
    "df_train.sample(5)"
   ]
  },
  {
   "cell_type": "markdown",
   "metadata": {},
   "source": [
    "## 2. Write Labeling Functions (LFs)"
   ]
  },
  {
   "cell_type": "markdown",
   "metadata": {},
   "source": [
    "* What's an LF\n",
    "    * Why are they awesome\n",
    "* Can be many types: \n",
    "    * keyword\n",
    "    * pattern-match\n",
    "    * heuristic\n",
    "    * third-party models\n",
    "    * distant supervision\n",
    "    * crowdworkers (non-expert)"
   ]
  },
  {
   "cell_type": "markdown",
   "metadata": {},
   "source": [
    "* Look at 10 examples; got any ideas? "
   ]
  },
  {
   "cell_type": "code",
   "execution_count": 4,
   "metadata": {},
   "outputs": [],
   "source": [
    "from snorkel.labeling.lf import labeling_function\n",
    "\n",
    "lfs = []\n",
    "\n",
    "@labeling_function()\n",
    "def tbd(x):\n",
    "    pass"
   ]
  },
  {
   "cell_type": "markdown",
   "metadata": {},
   "source": [
    "* Apply it with LFApplier\n",
    "* Score with lf_summary()\n",
    "    * What each column means\n",
    "* Now let's make lots more!"
   ]
  },
  {
   "cell_type": "markdown",
   "metadata": {},
   "source": [
    "### i. Keyword LFs"
   ]
  },
  {
   "cell_type": "markdown",
   "metadata": {},
   "source": [
    "* Keywords"
   ]
  },
  {
   "cell_type": "markdown",
   "metadata": {},
   "source": [
    "### ii. Pattern-matching LFs"
   ]
  },
  {
   "cell_type": "markdown",
   "metadata": {},
   "source": [
    "* Regexes"
   ]
  },
  {
   "cell_type": "markdown",
   "metadata": {},
   "source": [
    "### iii.  Heuristic LFs"
   ]
  },
  {
   "cell_type": "markdown",
   "metadata": {},
   "source": [
    "* Length, early comma, etc.\n",
    "* SpaCy (preprocessor)"
   ]
  },
  {
   "cell_type": "markdown",
   "metadata": {},
   "source": [
    "### iv. Third-party Model LFs"
   ]
  },
  {
   "cell_type": "markdown",
   "metadata": {},
   "source": [
    "* Sentiment classifier (preprocessor)"
   ]
  },
  {
   "cell_type": "markdown",
   "metadata": {},
   "source": [
    "### v. Write your own LFs"
   ]
  },
  {
   "cell_type": "markdown",
   "metadata": {},
   "source": [
    "* Make a stub"
   ]
  },
  {
   "cell_type": "markdown",
   "metadata": {},
   "source": [
    "## 3. Combine with Label Model"
   ]
  },
  {
   "cell_type": "markdown",
   "metadata": {},
   "source": [
    "* Pretty much copy prose from Spouse tutorial"
   ]
  },
  {
   "cell_type": "markdown",
   "metadata": {},
   "source": [
    "* Run LabelModel, get probabilities\n",
    "* Look at probabilities (histogram)\n",
    "* What if we used this directly as a classifier? (score)\n",
    "    * Why we expect classifier we train to generalize better\n",
    "    * Look - we're randomly guessing on XX% of the data"
   ]
  },
  {
   "cell_type": "markdown",
   "metadata": {},
   "source": [
    "* Can also compare to MV\n",
    "    * Does worse"
   ]
  },
  {
   "cell_type": "markdown",
   "metadata": {},
   "source": [
    "## 4. Predict with Classifier"
   ]
  },
  {
   "cell_type": "markdown",
   "metadata": {},
   "source": [
    "* Now train classifier\n",
    "    * Can use any third-party classifier (plug into your existing pipelines!)\n",
    "    * Some libraries natively support probabilistic labels (us, TF); for others, can round.\n",
    "* Use bag-of-ngrams as features\n",
    "* [Train TF logreg w/ soft labels]\n",
    "* Score; see, we do better!\n",
    "* Also demonstrate sklearn logreg with hard labels (end model agnostic)\n",
    "* Compare with training on dev directly (see, we did better)\n",
    "    * And we could do even better with more raw unlabeled data"
   ]
  },
  {
   "cell_type": "code",
   "execution_count": null,
   "metadata": {},
   "outputs": [],
   "source": []
  }
 ],
 "metadata": {
  "jupytext": {
   "cell_metadata_filter": "title,-all",
   "formats": "ipynb,py:percent"
  },
  "kernelspec": {
   "display_name": "snorkel_tutorials_env",
   "language": "python",
   "name": "snorkel_tutorials_env"
  },
  "language_info": {
   "codemirror_mode": {
    "name": "ipython",
    "version": 3
   },
   "file_extension": ".py",
   "mimetype": "text/x-python",
   "name": "python",
   "nbconvert_exporter": "python",
   "pygments_lexer": "ipython3",
   "version": "3.7.3"
  }
 },
 "nbformat": 4,
 "nbformat_minor": 2
}
