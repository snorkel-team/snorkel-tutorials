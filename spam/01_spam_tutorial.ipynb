{
 "cells": [
  {
   "cell_type": "markdown",
   "metadata": {},
   "source": [
    "# 🚀 Snorkel Intro Tutorial: Spam Detection"
   ]
  },
  {
   "cell_type": "markdown",
   "metadata": {},
   "source": [
    "In this tutorial, we will walk through the process of using Snorkel to build a training set for classifying YouTube comments as `SPAM` or `HAM` (not spam).\n",
    "The goal of this tutorial is to illustrate the basic components and concepts of Snorkel in a simple way, but also to dive into the actual process of iteratively developing real applications in Snorkel.\n",
    "For an overview of Snorkel, visit [snorkel.org](http://snorkel.org).\n",
    "You can also check out the [Snorkel API documentation](https://snorkel.readthedocs.io/).\n",
    "\n",
    "For our task, we have access to a large amount of *unlabeled data* in the form of YouTube comments with some metadata.\n",
    "Our goal is to train a classifier over the comment data that can predict whether a comment is spam or not.\n",
    "To do that, we need to label our data, but doing so for real world applications can be prohibitively slow and expensive, often taking person-weeks or months of hand-labeling.\n",
    "\n",
    "We therefore turn to weak supervision using **_labeling functions_**, or noisy, programmatic heuristics, to assign labels to unlabeled training data efficiently.\n",
    "We also have access to a small amount of labeled data, which we only use for evaluation purposes.\n",
    "\n",
    "The tutorial is divided into four parts:\n",
    "1. **Loading Data**: We load a [YouTube comments dataset](https://www.kaggle.com/goneee/youtube-spam-classifiedcomments) from Kaggle.\n",
    "\n",
    "2. **Writing Labeling Functions**: We write Python programs that take as input a data point and assign labels (or abstain) using heuristics, pattern matching, and third-party models.\n",
    "\n",
    "3. **Combining Labeling Function Outputs with the Label Model**: We use the outputs of the labeling functions over the training set as input to the label model, which assigns probabilistic labels to the training set.\n",
    "\n",
    "4. **Training a Classifier**: We train a classifier that can predict labels for *any* YouTube comment (not just the ones labeled by the labeling functions) using the probabilistic training labels from step 3."
   ]
  },
  {
   "cell_type": "markdown",
   "metadata": {},
   "source": [
    "### Task: Spam Detection"
   ]
  },
  {
   "cell_type": "markdown",
   "metadata": {},
   "source": [
    "We use a [YouTube comments dataset](https://www.kaggle.com/goneee/youtube-spam-classifiedcomments) that consists of YouTube comments from 5 videos. The task is to classify each comment as being\n",
    "\n",
    "* **`SPAM`**: irrelevant or inappropriate messages, or\n",
    "* **`HAM`**: comments relevant to the video\n",
    "\n",
    "For example, the following comments are `SPAM`:\n",
    "\n",
    "        \"Subscribe to me for free Android games, apps..\"\n",
    "\n",
    "        \"Please check out my vidios\"\n",
    "\n",
    "        \"Subscribe to me and I'll subscribe back!!!\"\n",
    "\n",
    "and these are `HAM`:\n",
    "\n",
    "        \"3:46 so cute!\"\n",
    "\n",
    "        \"This looks so fun and it's a good song\"\n",
    "\n",
    "        \"This is a weird video.\""
   ]
  },
  {
   "cell_type": "markdown",
   "metadata": {},
   "source": [
    "### Data Splits in Snorkel\n",
    "\n",
    "We split our data into 4 sets:\n",
    "* **Training Set**: The largest split of the dataset. We do not have ground truth or \"gold\" labels for these data points; we will be generating their labels with weak supervision.\n",
    "* \\[Optional\\] **Development Set**: A small labeled subset of the training data (e.g. 100 points) to guide LF iteration. See note below.\n",
    "* **Validation Set**: A labeled set used to tune hyperparameters and/or perform early stopping while training the classifier.\n",
    "* **Test Set**: A labeled set for final evaluation of our classifier. This set should only be used for final evaluation, _not_ error analysis.\n",
    "\n",
    "\n",
    "While it is possible to develop labeling functions on the unlabeled training set only, users often find it more time-efficient to label a small dev set to provide a quick approximate signal on the accuracies and failure modes of their LFs (rather than scrolling through training examples and mentally assessing approximate accuracy).\n",
    "Alternatively, users sometimes will have the validation set also serve as the development set.\n",
    "Do the latter only with caution: because the labeling functions will be based on examples from the validation set, the validation set will no longer be an unbiased proxy for the test set."
   ]
  },
  {
   "cell_type": "markdown",
   "metadata": {},
   "source": [
    "## 1. Loading Data"
   ]
  },
  {
   "cell_type": "markdown",
   "metadata": {},
   "source": [
    "We load the Kaggle dataset and create Pandas DataFrame objects for each of the sets described above.\n",
    "DataFrames are extremely popular in Python data analysis workloads, and Snorkel provides native support\n",
    "for several DataFrame-like data structures, including Pandas, Dask, and PySpark.\n",
    "For more information on working with Pandas DataFrames, see the [Pandas DataFrame guide](https://pandas.pydata.org/pandas-docs/stable/getting_started/dsintro.html).\n",
    "\n",
    "Each DataFrame consists of the following fields:\n",
    "* **`author`**: Username of the comment author\n",
    "* **`data`**: Date and time the comment was posted\n",
    "* **`text`**: Raw text content of the comment\n",
    "* **`label`**: Whether the comment is `SPAM` (1), `HAM` (0), or `UNKNOWN/ABSTAIN` (-1)\n",
    "* **`video`**: Video the comment is associated with\n",
    "\n",
    "We start by loading our data.\n",
    "The `load_spam_dataset()` method downloads the raw CSV files from the internet, divides them into splits, converts them into DataFrames, and shuffles them.\n",
    "As mentioned above, the dataset contains comments from 5 of the most popular YouTube videos during a period between 2014 and 2015.\n",
    "* The first four videos' comments are combined to form the `train` set. This set has no gold labels.\n",
    "* The `dev` set is a random sample of 200 data points from the `train` set with gold labels added.\n",
    "* The fifth video is split 50/50 between a validation set (`valid`) and `test` set."
   ]
  },
  {
   "cell_type": "code",
   "execution_count": 1,
   "metadata": {},
   "outputs": [],
   "source": [
    "%matplotlib inline\n",
    "\n",
    "import os\n",
    "\n",
    "# For reproducibility\n",
    "os.environ[\"PYTHONHASHSEED\"] = \"0\"\n",
    "\n",
    "# Turn off TensorFlow logging messages\n",
    "os.environ[\"TF_CPP_MIN_LOG_LEVEL\"] = \"3\"\n",
    "\n",
    "# Make sure we're running from the spam/ directory\n",
    "if os.path.basename(os.getcwd()) == \"snorkel-tutorials\":\n",
    "    os.chdir(\"spam\")"
   ]
  },
  {
   "cell_type": "code",
   "execution_count": 2,
   "metadata": {
    "lines_to_next_cell": 2
   },
   "outputs": [],
   "source": [
    "from utils import load_spam_dataset\n",
    "\n",
    "df_train, df_dev, df_valid, df_test = load_spam_dataset()\n",
    "\n",
    "# We pull out the label vectors for ease of use later\n",
    "Y_dev = df_dev[\"label\"].values\n",
    "Y_valid = df_valid[\"label\"].values\n",
    "Y_test = df_test[\"label\"].values"
   ]
  },
  {
   "cell_type": "markdown",
   "metadata": {},
   "source": [
    "Let's view a few examples."
   ]
  },
  {
   "cell_type": "code",
   "execution_count": 3,
   "metadata": {},
   "outputs": [
    {
     "data": {
      "text/html": [
       "<div>\n",
       "<style scoped>\n",
       "    .dataframe tbody tr th:only-of-type {\n",
       "        vertical-align: middle;\n",
       "    }\n",
       "\n",
       "    .dataframe tbody tr th {\n",
       "        vertical-align: top;\n",
       "    }\n",
       "\n",
       "    .dataframe thead th {\n",
       "        text-align: right;\n",
       "    }\n",
       "</style>\n",
       "<table border=\"1\" class=\"dataframe\">\n",
       "  <thead>\n",
       "    <tr style=\"text-align: right;\">\n",
       "      <th></th>\n",
       "      <th>author</th>\n",
       "      <th>date</th>\n",
       "      <th>text</th>\n",
       "      <th>label</th>\n",
       "      <th>video</th>\n",
       "    </tr>\n",
       "  </thead>\n",
       "  <tbody>\n",
       "    <tr>\n",
       "      <th>128</th>\n",
       "      <td>Pepe The Meme King</td>\n",
       "      <td>2015-05-19T03:49:29.427000</td>\n",
       "      <td>everyday I&amp;#39;m shufflin﻿</td>\n",
       "      <td>0</td>\n",
       "      <td>3</td>\n",
       "    </tr>\n",
       "    <tr>\n",
       "      <th>151</th>\n",
       "      <td>Melissa Erhart</td>\n",
       "      <td>NaN</td>\n",
       "      <td>Check out this playlist on YouTube:chcfcvzfzfbvzdr﻿</td>\n",
       "      <td>1</td>\n",
       "      <td>4</td>\n",
       "    </tr>\n",
       "    <tr>\n",
       "      <th>31</th>\n",
       "      <td>Angel</td>\n",
       "      <td>2014-11-02T17:27:09</td>\n",
       "      <td>Hi there~I'm group leader of Angel, a rookie Korean pop group. We have four  members, Chanicka, Julie, Stephanie, and myself, Leah. Please feel free to  check out our channel and leave some feedback on our cover videos (:  criticism is welcome as we know we're not top notch singers so please come  leave some constructive feedback on our videos; we appreciate any chance to  improve before auditioning for a Korean management company. We plan on  auditioning for JYP, BigHit, Jellyfish, YG or SM. Thank you for taking time  out of your day to read this !﻿</td>\n",
       "      <td>1</td>\n",
       "      <td>1</td>\n",
       "    </tr>\n",
       "    <tr>\n",
       "      <th>29</th>\n",
       "      <td>Sandeep Singh</td>\n",
       "      <td>2015-05-23T17:51:58.957000</td>\n",
       "      <td>Charlie from LOST﻿</td>\n",
       "      <td>0</td>\n",
       "      <td>4</td>\n",
       "    </tr>\n",
       "    <tr>\n",
       "      <th>237</th>\n",
       "      <td>BigBird Larry</td>\n",
       "      <td>2015-05-24T09:48:00.835000</td>\n",
       "      <td>Every single one of his songs brings me back to place I can never go back to and it hurts so bad inside﻿</td>\n",
       "      <td>0</td>\n",
       "      <td>4</td>\n",
       "    </tr>\n",
       "  </tbody>\n",
       "</table>\n",
       "</div>"
      ],
      "text/plain": [
       "                 author                        date  \\\n",
       "128  Pepe The Meme King  2015-05-19T03:49:29.427000   \n",
       "151  Melissa Erhart      NaN                          \n",
       "31   Angel               2014-11-02T17:27:09          \n",
       "29   Sandeep Singh       2015-05-23T17:51:58.957000   \n",
       "237  BigBird Larry       2015-05-24T09:48:00.835000   \n",
       "\n",
       "                                                                                                                                                                                                                                                                                                                                                                                                                                                                                                                                                                             text  \\\n",
       "128  everyday I&#39;m shufflin﻿                                                                                                                                                                                                                                                                                                                                                                                                                                                                                                                                                     \n",
       "151  Check out this playlist on YouTube:chcfcvzfzfbvzdr﻿                                                                                                                                                                                                                                                                                                                                                                                                                                                                                                                            \n",
       "31   Hi there~I'm group leader of Angel, a rookie Korean pop group. We have four  members, Chanicka, Julie, Stephanie, and myself, Leah. Please feel free to  check out our channel and leave some feedback on our cover videos (:  criticism is welcome as we know we're not top notch singers so please come  leave some constructive feedback on our videos; we appreciate any chance to  improve before auditioning for a Korean management company. We plan on  auditioning for JYP, BigHit, Jellyfish, YG or SM. Thank you for taking time  out of your day to read this !﻿   \n",
       "29   Charlie from LOST﻿                                                                                                                                                                                                                                                                                                                                                                                                                                                                                                                                                             \n",
       "237  Every single one of his songs brings me back to place I can never go back to and it hurts so bad inside﻿                                                                                                                                                                                                                                                                                                                                                                                                                                                                       \n",
       "\n",
       "     label  video  \n",
       "128  0      3      \n",
       "151  1      4      \n",
       "31   1      1      \n",
       "29   0      4      \n",
       "237  0      4      "
      ]
     },
     "execution_count": 3,
     "metadata": {},
     "output_type": "execute_result"
    }
   ],
   "source": [
    "import pandas as pd\n",
    "\n",
    "# Don't truncate text fields in the display\n",
    "pd.set_option(\"display.max_colwidth\", 0)\n",
    "\n",
    "df_dev.sample(5, random_state=3)"
   ]
  },
  {
   "cell_type": "markdown",
   "metadata": {},
   "source": [
    "The class distribution varies slightly from class to class, but all are approximately class-balanced.\n",
    "You can verify this by looking at the `dev` set labels."
   ]
  },
  {
   "cell_type": "code",
   "execution_count": 4,
   "metadata": {},
   "outputs": [
    {
     "name": "stdout",
     "output_type": "stream",
     "text": [
      "DEV    54.0% SPAM\n",
      "VALID  46.7% SPAM\n",
      "TEST   47.2% SPAM\n"
     ]
    }
   ],
   "source": [
    "# For clarity, we define constants to represent the class labels for spam, ham, and abstaining.\n",
    "ABSTAIN = -1\n",
    "HAM = 0\n",
    "SPAM = 1\n",
    "\n",
    "for split_name, df in [(\"dev\", df_dev), (\"valid\", df_valid), (\"test\", df_test)]:\n",
    "    spam_freq = (df[\"label\"].values == SPAM).mean()\n",
    "    print(f\"{split_name.upper():<6} {spam_freq * 100:0.1f}% SPAM\")"
   ]
  },
  {
   "cell_type": "markdown",
   "metadata": {},
   "source": [
    "## 2. Write Labeling Functions (LFs)"
   ]
  },
  {
   "cell_type": "markdown",
   "metadata": {},
   "source": [
    "### A gentle introduction to LFs"
   ]
  },
  {
   "cell_type": "markdown",
   "metadata": {},
   "source": [
    "**Labeling functions (LFs) help users encode domain knowledge and other supervision sources programmatically.**\n",
    "\n",
    "LFs are heuristics that take as input a data point and either assign a label to it (in this case, `HAM` or `SPAM`) or abstain (don't assign any label). Labeling functions can be *noisy*: they don't have perfect accuracy and don't have to label every data point.\n",
    "Moreover, different labeling functions can overlap (label the same data point) and even conflict (assign different labels to the same data point). This is expected, and we demonstrate how we deal with this later.\n",
    "\n",
    "Because their only requirement is that they map a data point a label (or abstain), they can wrap a wide variety of forms of supervision. Examples include, but are not limited to:\n",
    "* *Keyword searches*: looking for specific words in a sentence\n",
    "* *Pattern matching*: looking for specific syntactical patterns\n",
    "* *Third-party models*: using an pre-trained model (usually a model for a different task than the one at hand)\n",
    "* *Distant supervision*: using external knowledge base\n",
    "* *Crowdworker labels*: treating each crowdworker as a black-box function that assigns labels to subsets of the data"
   ]
  },
  {
   "cell_type": "markdown",
   "metadata": {},
   "source": [
    "### Recommended practice for LF development"
   ]
  },
  {
   "cell_type": "markdown",
   "metadata": {},
   "source": [
    "Typical LF development cycles include multiple iterations of ideation, refining, evaluation, and debugging.\n",
    "A typical cycle consists of the following steps:\n",
    "\n",
    "1. Look at examples to generate ideas for LFs\n",
    "1. Write an initial version of an LF\n",
    "1. Spot check its performance by looking at its output on examples in the training set (or development set if available)\n",
    "1. Refine and debug to improve coverage or accuracy as necessary\n",
    "\n",
    "Our goal for LF development is to create a high quality set of training labels for our unlabeled data set,\n",
    "not to label everything or directly create a model for inference using the LFs.\n",
    "The training labels are used to train a separate discriminative model (in this case, one which just uses the comment text) in order to generalize to new, unseen examples.\n",
    "Using this model, we can make predictions for data points that our LFs don't cover.\n",
    "\n",
    "We'll walk through the development of two LFs using basic analysis tools in Snorkel, then provide a full set of LFs that we developed for this tutorial."
   ]
  },
  {
   "cell_type": "markdown",
   "metadata": {},
   "source": [
    "### a) Exploring the development set for initial ideas"
   ]
  },
  {
   "cell_type": "markdown",
   "metadata": {},
   "source": [
    "We'll start by looking at the `train` set to generate some ideas for LFs."
   ]
  },
  {
   "cell_type": "code",
   "execution_count": 5,
   "metadata": {},
   "outputs": [
    {
     "data": {
      "text/html": [
       "<div>\n",
       "<style scoped>\n",
       "    .dataframe tbody tr th:only-of-type {\n",
       "        vertical-align: middle;\n",
       "    }\n",
       "\n",
       "    .dataframe tbody tr th {\n",
       "        vertical-align: top;\n",
       "    }\n",
       "\n",
       "    .dataframe thead th {\n",
       "        text-align: right;\n",
       "    }\n",
       "</style>\n",
       "<table border=\"1\" class=\"dataframe\">\n",
       "  <thead>\n",
       "    <tr style=\"text-align: right;\">\n",
       "      <th></th>\n",
       "      <th>author</th>\n",
       "      <th>text</th>\n",
       "      <th>video</th>\n",
       "    </tr>\n",
       "  </thead>\n",
       "  <tbody>\n",
       "    <tr>\n",
       "      <th>4</th>\n",
       "      <td>ambareesh nimkar</td>\n",
       "      <td>\"eye of the tiger\" \"i am the champion\" seems like katy perry is using  titles of old rock songs for lyrics..﻿</td>\n",
       "      <td>2</td>\n",
       "    </tr>\n",
       "    <tr>\n",
       "      <th>87</th>\n",
       "      <td>pratik patel</td>\n",
       "      <td>mindblowing dance.,.,.superbbb song﻿</td>\n",
       "      <td>3</td>\n",
       "    </tr>\n",
       "    <tr>\n",
       "      <th>14</th>\n",
       "      <td>RaMpAgE420</td>\n",
       "      <td>Check out Berzerk video on my channel ! :D</td>\n",
       "      <td>4</td>\n",
       "    </tr>\n",
       "    <tr>\n",
       "      <th>80</th>\n",
       "      <td>Jason Haddad</td>\n",
       "      <td>Hey, check out my new website!! This site is about kids stuff. kidsmediausa  . com</td>\n",
       "      <td>1</td>\n",
       "    </tr>\n",
       "    <tr>\n",
       "      <th>104</th>\n",
       "      <td>austin green</td>\n",
       "      <td>Eminem is my insperasen and fav﻿</td>\n",
       "      <td>4</td>\n",
       "    </tr>\n",
       "    <tr>\n",
       "      <th>305</th>\n",
       "      <td>M.E.S</td>\n",
       "      <td>hey guys look im aware im spamming and it pisses people off but please take a moment to check out my music.  im a young rapper and i love to do it and i just wanna share my music with more people  just click my picture and then see if you like my stuff</td>\n",
       "      <td>4</td>\n",
       "    </tr>\n",
       "    <tr>\n",
       "      <th>22</th>\n",
       "      <td>John Monster</td>\n",
       "      <td>Οh my god ... Roar is the most liked video at Vevo .. while 2 months ago  was Justin's Baby.. congrats Katy . Applause &amp;lt;3 ﻿</td>\n",
       "      <td>2</td>\n",
       "    </tr>\n",
       "    <tr>\n",
       "      <th>338</th>\n",
       "      <td>Alanoud Alsaleh</td>\n",
       "      <td>I started hating Katy Perry after finding out that she stole all of the  ideas on her videos  from an old comic book. Yet, her music is catchy. ﻿</td>\n",
       "      <td>2</td>\n",
       "    </tr>\n",
       "    <tr>\n",
       "      <th>336</th>\n",
       "      <td>Leonardo Baptista</td>\n",
       "      <td>http://www.avaaz.org/po/petition/Youtube_Corporation_Fox_Broadcasting_Company_Anular_os_strikes_no_Canal_Nostalgia/?cXPZpgb ﻿</td>\n",
       "      <td>1</td>\n",
       "    </tr>\n",
       "    <tr>\n",
       "      <th>143</th>\n",
       "      <td>UKz DoleSnacher</td>\n",
       "      <td>Remove This video its wank﻿</td>\n",
       "      <td>1</td>\n",
       "    </tr>\n",
       "    <tr>\n",
       "      <th>163</th>\n",
       "      <td>Monica Parker</td>\n",
       "      <td>Check out this video on YouTube:﻿</td>\n",
       "      <td>3</td>\n",
       "    </tr>\n",
       "    <tr>\n",
       "      <th>129</th>\n",
       "      <td>b0b1t.48058475</td>\n",
       "      <td>i rekt ur mum last nite. cuz da haterz were 2 much 4 meh lik dis if u cri evertim and sponswer mi robox vidz https://www.indiegogo.com/projects/gimme-dem-moneyz-4-roblox/x/8851222#home﻿</td>\n",
       "      <td>2</td>\n",
       "    </tr>\n",
       "    <tr>\n",
       "      <th>277</th>\n",
       "      <td>MeSoHornyMeLuvULongTime</td>\n",
       "      <td>This video is so racist!!! There are only animals.﻿</td>\n",
       "      <td>2</td>\n",
       "    </tr>\n",
       "    <tr>\n",
       "      <th>265</th>\n",
       "      <td>HarveyIsTheBoss</td>\n",
       "      <td>You gotta say its funny. well not 2 billion worth funny but still. It  clicked and everything went uphill. At least you don't have JB's shit on  #1.﻿</td>\n",
       "      <td>1</td>\n",
       "    </tr>\n",
       "    <tr>\n",
       "      <th>214</th>\n",
       "      <td>janez novak</td>\n",
       "      <td>share and like this page to win a hand signed Rihanna photo!!! fb -  Fans of Rihanna</td>\n",
       "      <td>4</td>\n",
       "    </tr>\n",
       "    <tr>\n",
       "      <th>76</th>\n",
       "      <td>Bizzle Sperq</td>\n",
       "      <td>https://www.facebook.com/nicushorbboy add mee &amp;lt;3 &amp;lt;3﻿</td>\n",
       "      <td>1</td>\n",
       "    </tr>\n",
       "    <tr>\n",
       "      <th>123</th>\n",
       "      <td>Gaming and Stuff PRO</td>\n",
       "      <td>Hello! Do you like gaming, art videos, scientific experiments, tutorials,  lyrics videos, and much, much more of that? If you do please check out our  channel and subscribe to it, we've just started, but soon we hope we will  be able to cover all of our expectations... You can also check out what  we've got so far!﻿</td>\n",
       "      <td>1</td>\n",
       "    </tr>\n",
       "    <tr>\n",
       "      <th>268</th>\n",
       "      <td>Young IncoVEVO</td>\n",
       "      <td>Check out my Music Videos! and PLEASE SUBSCRIBE!!!! Fuego - U LA LA Remix  hyperurl.co/k6a5xt﻿</td>\n",
       "      <td>1</td>\n",
       "    </tr>\n",
       "    <tr>\n",
       "      <th>433</th>\n",
       "      <td>Chris Edgar</td>\n",
       "      <td>Love the way you lie - Driveshaft﻿</td>\n",
       "      <td>4</td>\n",
       "    </tr>\n",
       "    <tr>\n",
       "      <th>40</th>\n",
       "      <td>rap classics</td>\n",
       "      <td>check out my channel for rap and hip hop music</td>\n",
       "      <td>4</td>\n",
       "    </tr>\n",
       "  </tbody>\n",
       "</table>\n",
       "</div>"
      ],
      "text/plain": [
       "                      author  \\\n",
       "4    ambareesh nimkar          \n",
       "87   pratik patel              \n",
       "14   RaMpAgE420                \n",
       "80   Jason Haddad              \n",
       "104  austin green              \n",
       "305  M.E.S                     \n",
       "22   John Monster              \n",
       "338  Alanoud Alsaleh           \n",
       "336  Leonardo Baptista         \n",
       "143  UKz DoleSnacher           \n",
       "163  Monica Parker             \n",
       "129  b0b1t.48058475            \n",
       "277  MeSoHornyMeLuvULongTime   \n",
       "265  HarveyIsTheBoss           \n",
       "214  janez novak               \n",
       "76   Bizzle Sperq              \n",
       "123  Gaming and Stuff PRO      \n",
       "268  Young IncoVEVO            \n",
       "433  Chris Edgar               \n",
       "40   rap classics              \n",
       "\n",
       "                                                                                                                                                                                                                                                                                                                              text  \\\n",
       "4    \"eye of the tiger\" \"i am the champion\" seems like katy perry is using  titles of old rock songs for lyrics..﻿                                                                                                                                                                                                                   \n",
       "87   mindblowing dance.,.,.superbbb song﻿                                                                                                                                                                                                                                                                                            \n",
       "14   Check out Berzerk video on my channel ! :D                                                                                                                                                                                                                                                                                      \n",
       "80   Hey, check out my new website!! This site is about kids stuff. kidsmediausa  . com                                                                                                                                                                                                                                              \n",
       "104  Eminem is my insperasen and fav﻿                                                                                                                                                                                                                                                                                                \n",
       "305  hey guys look im aware im spamming and it pisses people off but please take a moment to check out my music.  im a young rapper and i love to do it and i just wanna share my music with more people  just click my picture and then see if you like my stuff                                                                    \n",
       "22   Οh my god ... Roar is the most liked video at Vevo .. while 2 months ago  was Justin's Baby.. congrats Katy . Applause &lt;3 ﻿                                                                                                                                                                                                  \n",
       "338  I started hating Katy Perry after finding out that she stole all of the  ideas on her videos  from an old comic book. Yet, her music is catchy. ﻿                                                                                                                                                                               \n",
       "336  http://www.avaaz.org/po/petition/Youtube_Corporation_Fox_Broadcasting_Company_Anular_os_strikes_no_Canal_Nostalgia/?cXPZpgb ﻿                                                                                                                                                                                                   \n",
       "143  Remove This video its wank﻿                                                                                                                                                                                                                                                                                                     \n",
       "163  Check out this video on YouTube:﻿                                                                                                                                                                                                                                                                                               \n",
       "129  i rekt ur mum last nite. cuz da haterz were 2 much 4 meh lik dis if u cri evertim and sponswer mi robox vidz https://www.indiegogo.com/projects/gimme-dem-moneyz-4-roblox/x/8851222#home﻿                                                                                                                                       \n",
       "277  This video is so racist!!! There are only animals.﻿                                                                                                                                                                                                                                                                             \n",
       "265  You gotta say its funny. well not 2 billion worth funny but still. It  clicked and everything went uphill. At least you don't have JB's shit on  #1.﻿                                                                                                                                                                           \n",
       "214  share and like this page to win a hand signed Rihanna photo!!! fb -  Fans of Rihanna                                                                                                                                                                                                                                            \n",
       "76   https://www.facebook.com/nicushorbboy add mee &lt;3 &lt;3﻿                                                                                                                                                                                                                                                                      \n",
       "123  Hello! Do you like gaming, art videos, scientific experiments, tutorials,  lyrics videos, and much, much more of that? If you do please check out our  channel and subscribe to it, we've just started, but soon we hope we will  be able to cover all of our expectations... You can also check out what  we've got so far!﻿   \n",
       "268  Check out my Music Videos! and PLEASE SUBSCRIBE!!!! Fuego - U LA LA Remix  hyperurl.co/k6a5xt﻿                                                                                                                                                                                                                                  \n",
       "433  Love the way you lie - Driveshaft﻿                                                                                                                                                                                                                                                                                              \n",
       "40   check out my channel for rap and hip hop music                                                                                                                                                                                                                                                                                  \n",
       "\n",
       "     video  \n",
       "4    2      \n",
       "87   3      \n",
       "14   4      \n",
       "80   1      \n",
       "104  4      \n",
       "305  4      \n",
       "22   2      \n",
       "338  2      \n",
       "336  1      \n",
       "143  1      \n",
       "163  3      \n",
       "129  2      \n",
       "277  2      \n",
       "265  1      \n",
       "214  4      \n",
       "76   1      \n",
       "123  1      \n",
       "268  1      \n",
       "433  4      \n",
       "40   4      "
      ]
     },
     "execution_count": 5,
     "metadata": {},
     "output_type": "execute_result"
    }
   ],
   "source": [
    "df_train[[\"author\", \"text\", \"video\"]].sample(20, random_state=2)"
   ]
  },
  {
   "cell_type": "markdown",
   "metadata": {},
   "source": [
    "One dominant pattern in the comments that look like spam is the use of the phrase \"check out\" (e.g. \"check out my channel\").\n",
    "Let's start with that."
   ]
  },
  {
   "cell_type": "markdown",
   "metadata": {},
   "source": [
    "### b) Writing an LF to identify spammy comments that use the phrase \"check out\""
   ]
  },
  {
   "cell_type": "markdown",
   "metadata": {},
   "source": [
    "Labeling functions in Snorkel are created with the `@labeling_function()` decorator, which wraps a function for evaluating on a single data point (in this case, a row of the DataFrame).\n",
    "\n",
    "Let's start developing an LF to catch instances of commenters trying to get people to \"check out\" their channel, video, or website.\n",
    "We'll start by just looking for the exact string `\"check out\"` in the text, and compare that to looking for just `\"check\"` in the text.\n",
    "We'll write a Python function over a single data point (here, a [Pandas `Series` object](https://pandas.pydata.org/pandas-docs/stable/reference/series.html)) to express the two versions of our rule, then add the decorator."
   ]
  },
  {
   "cell_type": "code",
   "execution_count": 6,
   "metadata": {},
   "outputs": [],
   "source": [
    "from snorkel.labeling.lf import labeling_function\n",
    "\n",
    "\n",
    "@labeling_function()\n",
    "def check(x):\n",
    "    return SPAM if \"check\" in x.text.lower() else ABSTAIN"
   ]
  },
  {
   "cell_type": "code",
   "execution_count": 7,
   "metadata": {},
   "outputs": [],
   "source": [
    "@labeling_function()\n",
    "def check_out(x):\n",
    "    return SPAM if \"check out\" in x.text.lower() else ABSTAIN"
   ]
  },
  {
   "cell_type": "markdown",
   "metadata": {},
   "source": [
    "To apply one or more LFs that we've written to a collection of data points, we use an `LFApplier`. Because our data points are represented with a Pandas DataFrame in this tutorial, we use the `PandasLFApplier`."
   ]
  },
  {
   "cell_type": "code",
   "execution_count": 8,
   "metadata": {},
   "outputs": [
    {
     "name": "stderr",
     "output_type": "stream",
     "text": [
      "\r",
      "  0%|          | 0/1586 [00:00<?, ?it/s]"
     ]
    },
    {
     "name": "stderr",
     "output_type": "stream",
     "text": [
      "\r",
      "100%|██████████| 1586/1586 [00:00<00:00, 36155.43it/s]"
     ]
    },
    {
     "name": "stderr",
     "output_type": "stream",
     "text": [
      "\n",
      "\r",
      "  0%|          | 0/100 [00:00<?, ?it/s]"
     ]
    },
    {
     "name": "stderr",
     "output_type": "stream",
     "text": [
      "\r",
      "100%|██████████| 100/100 [00:00<00:00, 25018.22it/s]"
     ]
    },
    {
     "name": "stderr",
     "output_type": "stream",
     "text": [
      "\n"
     ]
    }
   ],
   "source": [
    "from snorkel.labeling.apply import PandasLFApplier\n",
    "\n",
    "lfs = [check_out, check]\n",
    "\n",
    "applier = PandasLFApplier(lfs=lfs)\n",
    "L_train = applier.apply(df=df_train)\n",
    "L_dev = applier.apply(df=df_dev)"
   ]
  },
  {
   "cell_type": "markdown",
   "metadata": {},
   "source": [
    "The output of the `apply(...)` method is a label matrix which we generally refer to as `L` (or `L_[split name]`)."
   ]
  },
  {
   "cell_type": "code",
   "execution_count": 9,
   "metadata": {},
   "outputs": [
    {
     "data": {
      "text/plain": [
       "array([[-1, -1],\n",
       "       [-1, -1],\n",
       "       [-1,  1],\n",
       "       ...,\n",
       "       [ 1,  1],\n",
       "       [-1,  1],\n",
       "       [ 1,  1]])"
      ]
     },
     "execution_count": 9,
     "metadata": {},
     "output_type": "execute_result"
    }
   ],
   "source": [
    "L_train"
   ]
  },
  {
   "cell_type": "markdown",
   "metadata": {},
   "source": [
    "### c) Evaluate performance on training and development sets"
   ]
  },
  {
   "cell_type": "markdown",
   "metadata": {},
   "source": [
    "We can easily calculate the coverage of these LFs (i.e., the percentage of the dataset that they label) as follows:"
   ]
  },
  {
   "cell_type": "code",
   "execution_count": 10,
   "metadata": {},
   "outputs": [
    {
     "name": "stdout",
     "output_type": "stream",
     "text": [
      "check coverage: 21.4%\n",
      "check_out coverage: 25.8%\n"
     ]
    }
   ],
   "source": [
    "coverage_check, coverage_check_out = (L_train != ABSTAIN).mean(axis=0)\n",
    "print(f\"check coverage: {coverage_check * 100:.1f}%\")\n",
    "print(f\"check_out coverage: {coverage_check_out * 100:.1f}%\")"
   ]
  },
  {
   "cell_type": "markdown",
   "metadata": {},
   "source": [
    "However, Snorkel provides utilities for common LF analyses.\n",
    "We report the following summary statistics for multiple LFs at once:\n",
    "\n",
    "* **Polarity**: The set of labels this LF outputs\n",
    "* **Coverage**: The fraction of the dataset the LF labels\n",
    "* **Overlaps**: The fraction of the dataset where this LF and at least one other LF label\n",
    "* **Conflicts**: The fraction of the dataset where this LF and at least one other LF label and disagree\n",
    "* **Correct**: The number of data points this LF labels correctly (if gold labels are provided)\n",
    "* **Incorrect**: The number of data points this LF labels incorrectly (if gold labels are provided)\n",
    "* **Empirical Accuracy**: The empirical accuracy of this LF (if gold labels are provided)\n",
    "\n",
    "For *Correct*, *Incorrect*, and *Empirical Accuracy*, we don't want to penalize the LF for examples where it abstained.\n",
    "We calculate these statistics only over those examples where the LF output a label."
   ]
  },
  {
   "cell_type": "code",
   "execution_count": 11,
   "metadata": {},
   "outputs": [
    {
     "data": {
      "text/html": [
       "<div>\n",
       "<style scoped>\n",
       "    .dataframe tbody tr th:only-of-type {\n",
       "        vertical-align: middle;\n",
       "    }\n",
       "\n",
       "    .dataframe tbody tr th {\n",
       "        vertical-align: top;\n",
       "    }\n",
       "\n",
       "    .dataframe thead th {\n",
       "        text-align: right;\n",
       "    }\n",
       "</style>\n",
       "<table border=\"1\" class=\"dataframe\">\n",
       "  <thead>\n",
       "    <tr style=\"text-align: right;\">\n",
       "      <th></th>\n",
       "      <th>j</th>\n",
       "      <th>Polarity</th>\n",
       "      <th>Coverage</th>\n",
       "      <th>Overlaps</th>\n",
       "      <th>Conflicts</th>\n",
       "    </tr>\n",
       "  </thead>\n",
       "  <tbody>\n",
       "    <tr>\n",
       "      <th>check_out</th>\n",
       "      <td>0</td>\n",
       "      <td>[1]</td>\n",
       "      <td>0.214376</td>\n",
       "      <td>0.214376</td>\n",
       "      <td>0.0</td>\n",
       "    </tr>\n",
       "    <tr>\n",
       "      <th>check</th>\n",
       "      <td>1</td>\n",
       "      <td>[1]</td>\n",
       "      <td>0.257881</td>\n",
       "      <td>0.214376</td>\n",
       "      <td>0.0</td>\n",
       "    </tr>\n",
       "  </tbody>\n",
       "</table>\n",
       "</div>"
      ],
      "text/plain": [
       "           j Polarity  Coverage  Overlaps  Conflicts\n",
       "check_out  0  [1]      0.214376  0.214376  0.0      \n",
       "check      1  [1]      0.257881  0.214376  0.0      "
      ]
     },
     "execution_count": 11,
     "metadata": {},
     "output_type": "execute_result"
    }
   ],
   "source": [
    "from snorkel.labeling.analysis import LFAnalysis\n",
    "\n",
    "LFAnalysis(L=L_train, lfs=lfs).lf_summary()"
   ]
  },
  {
   "cell_type": "code",
   "execution_count": 12,
   "metadata": {},
   "outputs": [
    {
     "data": {
      "text/html": [
       "<div>\n",
       "<style scoped>\n",
       "    .dataframe tbody tr th:only-of-type {\n",
       "        vertical-align: middle;\n",
       "    }\n",
       "\n",
       "    .dataframe tbody tr th {\n",
       "        vertical-align: top;\n",
       "    }\n",
       "\n",
       "    .dataframe thead th {\n",
       "        text-align: right;\n",
       "    }\n",
       "</style>\n",
       "<table border=\"1\" class=\"dataframe\">\n",
       "  <thead>\n",
       "    <tr style=\"text-align: right;\">\n",
       "      <th></th>\n",
       "      <th>j</th>\n",
       "      <th>Polarity</th>\n",
       "      <th>Coverage</th>\n",
       "      <th>Overlaps</th>\n",
       "      <th>Conflicts</th>\n",
       "      <th>Correct</th>\n",
       "      <th>Incorrect</th>\n",
       "      <th>Emp. Acc.</th>\n",
       "    </tr>\n",
       "  </thead>\n",
       "  <tbody>\n",
       "    <tr>\n",
       "      <th>check_out</th>\n",
       "      <td>0</td>\n",
       "      <td>[1]</td>\n",
       "      <td>0.22</td>\n",
       "      <td>0.22</td>\n",
       "      <td>0.0</td>\n",
       "      <td>22</td>\n",
       "      <td>0</td>\n",
       "      <td>1.000000</td>\n",
       "    </tr>\n",
       "    <tr>\n",
       "      <th>check</th>\n",
       "      <td>1</td>\n",
       "      <td>[1]</td>\n",
       "      <td>0.30</td>\n",
       "      <td>0.22</td>\n",
       "      <td>0.0</td>\n",
       "      <td>29</td>\n",
       "      <td>1</td>\n",
       "      <td>0.966667</td>\n",
       "    </tr>\n",
       "  </tbody>\n",
       "</table>\n",
       "</div>"
      ],
      "text/plain": [
       "           j Polarity  Coverage  Overlaps  Conflicts  Correct  Incorrect  \\\n",
       "check_out  0  [1]      0.22      0.22      0.0        22       0           \n",
       "check      1  [1]      0.30      0.22      0.0        29       1           \n",
       "\n",
       "           Emp. Acc.  \n",
       "check_out  1.000000   \n",
       "check      0.966667   "
      ]
     },
     "execution_count": 12,
     "metadata": {},
     "output_type": "execute_result"
    }
   ],
   "source": [
    "LFAnalysis(L=L_dev, lfs=lfs).lf_summary(Y=Y_dev)"
   ]
  },
  {
   "cell_type": "markdown",
   "metadata": {},
   "source": [
    "So even these very simple rules do quite well!\n",
    "We might want to pick the `check` rule, since both have high precision and `check` has higher coverage.\n",
    "But let's look at our data to be sure.\n",
    "\n",
    "The helper method `error_buckets()` groups examples by their predicted label and true label. For example, `buckets[(SPAM, HAM)]` contains the indices of data points that the LF labeled `SPAM` that actually belong to class `HAM`. This may give ideas for where the LF could be made more specific."
   ]
  },
  {
   "cell_type": "code",
   "execution_count": 13,
   "metadata": {},
   "outputs": [
    {
     "data": {
      "text/html": [
       "<div>\n",
       "<style scoped>\n",
       "    .dataframe tbody tr th:only-of-type {\n",
       "        vertical-align: middle;\n",
       "    }\n",
       "\n",
       "    .dataframe tbody tr th {\n",
       "        vertical-align: top;\n",
       "    }\n",
       "\n",
       "    .dataframe thead th {\n",
       "        text-align: right;\n",
       "    }\n",
       "</style>\n",
       "<table border=\"1\" class=\"dataframe\">\n",
       "  <thead>\n",
       "    <tr style=\"text-align: right;\">\n",
       "      <th></th>\n",
       "      <th>author</th>\n",
       "      <th>date</th>\n",
       "      <th>text</th>\n",
       "      <th>label</th>\n",
       "      <th>video</th>\n",
       "    </tr>\n",
       "  </thead>\n",
       "  <tbody>\n",
       "    <tr>\n",
       "      <th>260</th>\n",
       "      <td>Eanna Cusack</td>\n",
       "      <td>2014-01-20T22:20:59</td>\n",
       "      <td>Im just to check how much views it has﻿</td>\n",
       "      <td>0</td>\n",
       "      <td>1</td>\n",
       "    </tr>\n",
       "  </tbody>\n",
       "</table>\n",
       "</div>"
      ],
      "text/plain": [
       "           author                 date  \\\n",
       "260  Eanna Cusack  2014-01-20T22:20:59   \n",
       "\n",
       "                                        text  label  video  \n",
       "260  Im just to check how much views it has﻿  0      1      "
      ]
     },
     "execution_count": 13,
     "metadata": {},
     "output_type": "execute_result"
    }
   ],
   "source": [
    "from snorkel.analysis.error_analysis import error_buckets\n",
    "\n",
    "buckets = error_buckets(Y_dev, L_dev[:, 1])\n",
    "df_dev.iloc[buckets[(SPAM, HAM)]]"
   ]
  },
  {
   "cell_type": "markdown",
   "metadata": {},
   "source": [
    "So `check` produced a false positive that might occur for any very popular video on YouTube.\n",
    "Now let's take a look at some places that `check` labeled `SPAM` on the `train` set to see if it matches our intuition or if we can identify some false positives."
   ]
  },
  {
   "cell_type": "code",
   "execution_count": 14,
   "metadata": {},
   "outputs": [
    {
     "data": {
      "text/html": [
       "<div>\n",
       "<style scoped>\n",
       "    .dataframe tbody tr th:only-of-type {\n",
       "        vertical-align: middle;\n",
       "    }\n",
       "\n",
       "    .dataframe tbody tr th {\n",
       "        vertical-align: top;\n",
       "    }\n",
       "\n",
       "    .dataframe thead th {\n",
       "        text-align: right;\n",
       "    }\n",
       "</style>\n",
       "<table border=\"1\" class=\"dataframe\">\n",
       "  <thead>\n",
       "    <tr style=\"text-align: right;\">\n",
       "      <th></th>\n",
       "      <th>author</th>\n",
       "      <th>date</th>\n",
       "      <th>text</th>\n",
       "      <th>label</th>\n",
       "      <th>video</th>\n",
       "    </tr>\n",
       "  </thead>\n",
       "  <tbody>\n",
       "    <tr>\n",
       "      <th>305</th>\n",
       "      <td>M.E.S</td>\n",
       "      <td>NaN</td>\n",
       "      <td>hey guys look im aware im spamming and it pisses people off but please take a moment to check out my music.  im a young rapper and i love to do it and i just wanna share my music with more people  just click my picture and then see if you like my stuff</td>\n",
       "      <td>-1.0</td>\n",
       "      <td>4</td>\n",
       "    </tr>\n",
       "    <tr>\n",
       "      <th>265</th>\n",
       "      <td>Kawiana Lewis</td>\n",
       "      <td>2015-02-27T02:20:40.987000</td>\n",
       "      <td>Check out this video on YouTube:opponents mm &lt;br /&gt;&lt;br /&gt;&lt;br /&gt;&lt;br /&gt;--•[••••=====++¥¥£££&lt;br /&gt;﻿</td>\n",
       "      <td>-1.0</td>\n",
       "      <td>3</td>\n",
       "    </tr>\n",
       "    <tr>\n",
       "      <th>89</th>\n",
       "      <td>Stricker Stric</td>\n",
       "      <td>NaN</td>\n",
       "      <td>eminem new song check out my videos</td>\n",
       "      <td>-1.0</td>\n",
       "      <td>4</td>\n",
       "    </tr>\n",
       "    <tr>\n",
       "      <th>147</th>\n",
       "      <td>TheGenieBoy</td>\n",
       "      <td>NaN</td>\n",
       "      <td>check out fantasy music    right here -------&amp;gt; the1fantasy  good music man.</td>\n",
       "      <td>-1.0</td>\n",
       "      <td>4</td>\n",
       "    </tr>\n",
       "    <tr>\n",
       "      <th>240</th>\n",
       "      <td>Made2Falter</td>\n",
       "      <td>2014-09-09T23:55:30</td>\n",
       "      <td>Check out our vids, our songs are awesome! And that I guarantee :)﻿</td>\n",
       "      <td>-1.0</td>\n",
       "      <td>2</td>\n",
       "    </tr>\n",
       "    <tr>\n",
       "      <th>273</th>\n",
       "      <td>Artady</td>\n",
       "      <td>2014-08-11T16:27:55</td>\n",
       "      <td>https://soundcloud.com/artady please check my stuff; and make some feedback﻿</td>\n",
       "      <td>-1.0</td>\n",
       "      <td>2</td>\n",
       "    </tr>\n",
       "    <tr>\n",
       "      <th>94</th>\n",
       "      <td>Nick McGoldrick</td>\n",
       "      <td>2014-10-27T13:19:06</td>\n",
       "      <td>Check out my drum cover of E.T. here! thanks -&amp;gt;   /watch?v=NO9pOVZ9OIQ&amp;amp;list=UUltuCDIHsDeI01by1OW7WuQ﻿</td>\n",
       "      <td>-1.0</td>\n",
       "      <td>2</td>\n",
       "    </tr>\n",
       "    <tr>\n",
       "      <th>139</th>\n",
       "      <td>MFkin PRXPHETZ</td>\n",
       "      <td>2014-01-20T09:08:39</td>\n",
       "      <td>if you like raw talent, raw lyrics, straight real hip hop Everyone check my newest sound  Dizzy X - Got the Juice (Prod by. Drugs the Model Citizen)   COMMENT TELL ME WHAT YOU THINK  DONT BE LAZY!!!!  - 1/7 Prophetz﻿</td>\n",
       "      <td>-1.0</td>\n",
       "      <td>1</td>\n",
       "    </tr>\n",
       "    <tr>\n",
       "      <th>303</th>\n",
       "      <td>이 정훈</td>\n",
       "      <td>NaN</td>\n",
       "      <td>This great Warning will happen soon. ,0\\nLneaDw26bFst76VHKJL8PxaEy6VMNlvmriUDTSFK6vY,Ali Paša,2013-09-26T22:28:17.047000,Croatia &amp;lt;3,0\\nLneaDw26bFvkAHxpKEnM25FYWkyXthsUpri6JuQsZnU,G Belrus,2013-09-26T22:26:12.832000,Nice one,0\\nLneaDw26bFtvZQt6JUEhasIEFRJG1exI_dVqdnQVPho,exode. comeback.,2013-09-26T22:23:00.710000,600m views.,0\\nLneaDw26bFunOarAg71AwGU6TJO6aZDKFIUn_TZ1_HY,Muhammad Shaeel Abbas,2013-09-26T22:15:45.476000,Fuck off!,0\\nLneaDw26bFt-oToUFj0z3vffLFNaxyKwZSIVQhiMx-E,Notorious Niko,2013-09-26T22:00:43.613000,\"Hey guys im a 17yr old rapper trying to get exposure... I live in belgium where NO ONE speaks english so i have to resort to this gay SPAM...  Check out my 2 latest tracks as they are probably my best.. Audio isnt the best but im gonna invest in some real equipment for my next track..  Please Thumbs this up so others can see.. or hey dont just check me out yourself and leave a response and a like :D  Thanks in advance, you guys will be part of making my dream come TRUE   -Notorious Niko</td>\n",
       "      <td>-1.0</td>\n",
       "      <td>4</td>\n",
       "    </tr>\n",
       "    <tr>\n",
       "      <th>246</th>\n",
       "      <td>media.uploader</td>\n",
       "      <td>NaN</td>\n",
       "      <td>Check out my channel to see Rihanna short mix by me :)</td>\n",
       "      <td>-1.0</td>\n",
       "      <td>4</td>\n",
       "    </tr>\n",
       "  </tbody>\n",
       "</table>\n",
       "</div>"
      ],
      "text/plain": [
       "              author                        date  \\\n",
       "305  M.E.S            NaN                          \n",
       "265  Kawiana Lewis    2015-02-27T02:20:40.987000   \n",
       "89   Stricker Stric   NaN                          \n",
       "147  TheGenieBoy      NaN                          \n",
       "240  Made2Falter      2014-09-09T23:55:30          \n",
       "273  Artady           2014-08-11T16:27:55          \n",
       "94   Nick McGoldrick  2014-10-27T13:19:06          \n",
       "139  MFkin PRXPHETZ   2014-01-20T09:08:39          \n",
       "303  이 정훈             NaN                          \n",
       "246  media.uploader   NaN                          \n",
       "\n",
       "                                                                                                                                                                                                                                                                                                                                                                                                                                                                                                                                                                                                                                                                                                                                                                                                                                                                                                                                                                                                                                                           text  \\\n",
       "305  hey guys look im aware im spamming and it pisses people off but please take a moment to check out my music.  im a young rapper and i love to do it and i just wanna share my music with more people  just click my picture and then see if you like my stuff                                                                                                                                                                                                                                                                                                                                                                                                                                                                                                                                                                                                                                                                                                                                                                                                 \n",
       "265  Check out this video on YouTube:opponents mm <br /><br /><br /><br />--•[••••=====++¥¥£££<br />﻿                                                                                                                                                                                                                                                                                                                                                                                                                                                                                                                                                                                                                                                                                                                                                                                                                                                                                                                                                             \n",
       "89   eminem new song check out my videos                                                                                                                                                                                                                                                                                                                                                                                                                                                                                                                                                                                                                                                                                                                                                                                                                                                                                                                                                                                                                          \n",
       "147  check out fantasy music    right here -------&gt; the1fantasy  good music man.                                                                                                                                                                                                                                                                                                                                                                                                                                                                                                                                                                                                                                                                                                                                                                                                                                                                                                                                                                               \n",
       "240  Check out our vids, our songs are awesome! And that I guarantee :)﻿                                                                                                                                                                                                                                                                                                                                                                                                                                                                                                                                                                                                                                                                                                                                                                                                                                                                                                                                                                                          \n",
       "273  https://soundcloud.com/artady please check my stuff; and make some feedback﻿                                                                                                                                                                                                                                                                                                                                                                                                                                                                                                                                                                                                                                                                                                                                                                                                                                                                                                                                                                                 \n",
       "94   Check out my drum cover of E.T. here! thanks -&gt;   /watch?v=NO9pOVZ9OIQ&amp;list=UUltuCDIHsDeI01by1OW7WuQ﻿                                                                                                                                                                                                                                                                                                                                                                                                                                                                                                                                                                                                                                                                                                                                                                                                                                                                                                                                                 \n",
       "139  if you like raw talent, raw lyrics, straight real hip hop Everyone check my newest sound  Dizzy X - Got the Juice (Prod by. Drugs the Model Citizen)   COMMENT TELL ME WHAT YOU THINK  DONT BE LAZY!!!!  - 1/7 Prophetz﻿                                                                                                                                                                                                                                                                                                                                                                                                                                                                                                                                                                                                                                                                                                                                                                                                                                     \n",
       "303  This great Warning will happen soon. ,0\\nLneaDw26bFst76VHKJL8PxaEy6VMNlvmriUDTSFK6vY,Ali Paša,2013-09-26T22:28:17.047000,Croatia &lt;3,0\\nLneaDw26bFvkAHxpKEnM25FYWkyXthsUpri6JuQsZnU,G Belrus,2013-09-26T22:26:12.832000,Nice one,0\\nLneaDw26bFtvZQt6JUEhasIEFRJG1exI_dVqdnQVPho,exode. comeback.,2013-09-26T22:23:00.710000,600m views.,0\\nLneaDw26bFunOarAg71AwGU6TJO6aZDKFIUn_TZ1_HY,Muhammad Shaeel Abbas,2013-09-26T22:15:45.476000,Fuck off!,0\\nLneaDw26bFt-oToUFj0z3vffLFNaxyKwZSIVQhiMx-E,Notorious Niko,2013-09-26T22:00:43.613000,\"Hey guys im a 17yr old rapper trying to get exposure... I live in belgium where NO ONE speaks english so i have to resort to this gay SPAM...  Check out my 2 latest tracks as they are probably my best.. Audio isnt the best but im gonna invest in some real equipment for my next track..  Please Thumbs this up so others can see.. or hey dont just check me out yourself and leave a response and a like :D  Thanks in advance, you guys will be part of making my dream come TRUE   -Notorious Niko    \n",
       "246  Check out my channel to see Rihanna short mix by me :)                                                                                                                                                                                                                                                                                                                                                                                                                                                                                                                                                                                                                                                                                                                                                                                                                                                                                                                                                                                                       \n",
       "\n",
       "     label  video  \n",
       "305 -1.0    4      \n",
       "265 -1.0    3      \n",
       "89  -1.0    4      \n",
       "147 -1.0    4      \n",
       "240 -1.0    2      \n",
       "273 -1.0    2      \n",
       "94  -1.0    2      \n",
       "139 -1.0    1      \n",
       "303 -1.0    4      \n",
       "246 -1.0    4      "
      ]
     },
     "execution_count": 14,
     "metadata": {},
     "output_type": "execute_result"
    }
   ],
   "source": [
    "df_train.iloc[L_train[:, 1] == SPAM].sample(10, random_state=1)"
   ]
  },
  {
   "cell_type": "markdown",
   "metadata": {},
   "source": [
    "No clear false positives here, but many look like they could be labeled by `check_out` as well.\n",
    "Let's see where `check_out` abstained, but `check` labeled."
   ]
  },
  {
   "cell_type": "code",
   "execution_count": 15,
   "metadata": {},
   "outputs": [
    {
     "data": {
      "text/html": [
       "<div>\n",
       "<style scoped>\n",
       "    .dataframe tbody tr th:only-of-type {\n",
       "        vertical-align: middle;\n",
       "    }\n",
       "\n",
       "    .dataframe tbody tr th {\n",
       "        vertical-align: top;\n",
       "    }\n",
       "\n",
       "    .dataframe thead th {\n",
       "        text-align: right;\n",
       "    }\n",
       "</style>\n",
       "<table border=\"1\" class=\"dataframe\">\n",
       "  <thead>\n",
       "    <tr style=\"text-align: right;\">\n",
       "      <th></th>\n",
       "      <th>author</th>\n",
       "      <th>date</th>\n",
       "      <th>text</th>\n",
       "      <th>label</th>\n",
       "      <th>video</th>\n",
       "    </tr>\n",
       "  </thead>\n",
       "  <tbody>\n",
       "    <tr>\n",
       "      <th>403</th>\n",
       "      <td>ownpear902</td>\n",
       "      <td>2014-07-22T18:44:36.299000</td>\n",
       "      <td>check it out free stuff for watching videos and filling surveys&lt;br /&gt;&lt;br /&gt;&lt;a href=\"http://www.prizerebel.com/index.php?r=1446084\"&gt;http://www.prizerebel.com/index.php?r=1446084&lt;/a&gt;﻿</td>\n",
       "      <td>-1.0</td>\n",
       "      <td>3</td>\n",
       "    </tr>\n",
       "    <tr>\n",
       "      <th>256</th>\n",
       "      <td>PacKmaN</td>\n",
       "      <td>2014-11-05T21:56:39</td>\n",
       "      <td>check men out i put allot of effort into my music but unfortunatly not many  watch it﻿</td>\n",
       "      <td>-1.0</td>\n",
       "      <td>1</td>\n",
       "    </tr>\n",
       "    <tr>\n",
       "      <th>196</th>\n",
       "      <td>Angek95</td>\n",
       "      <td>2014-11-03T22:28:56</td>\n",
       "      <td>Check my channel, please!﻿</td>\n",
       "      <td>-1.0</td>\n",
       "      <td>1</td>\n",
       "    </tr>\n",
       "    <tr>\n",
       "      <th>282</th>\n",
       "      <td>CronicleFPS</td>\n",
       "      <td>2014-11-06T03:10:26</td>\n",
       "      <td>Check me out I'm all about gaming ﻿</td>\n",
       "      <td>-1.0</td>\n",
       "      <td>1</td>\n",
       "    </tr>\n",
       "    <tr>\n",
       "      <th>352</th>\n",
       "      <td>MrJtill0317</td>\n",
       "      <td>NaN</td>\n",
       "      <td>┏━━━┓┏┓╋┏┓┏━━━┓┏━━━┓┏┓╋╋┏┓  ┃┏━┓┃┃┃╋┃┃┃┏━┓┃┗┓┏┓┃┃┗┓┏┛┃  ┃┗━━┓┃┗━┛┃┃┃╋┃┃╋┃┃┃┃┗┓┗┛┏  ┗━━┓┃┃┏━┓┃┃┗━┛┃╋┃┃┃┃╋┗┓┏┛  ┃┗━┛┃┃┃╋┃┃┃┏━┓┃┏┛┗┛┃╋╋┃┃  ┗━━━┛┗┛╋┗┛┗┛╋┗┛┗━━━┛╋╋┗┛ CHECK MY VIDEOS AND SUBSCRIBE AND LIKE PLZZ</td>\n",
       "      <td>-1.0</td>\n",
       "      <td>4</td>\n",
       "    </tr>\n",
       "    <tr>\n",
       "      <th>161</th>\n",
       "      <td>MarianMusicChannel</td>\n",
       "      <td>2014-08-24T03:57:52</td>\n",
       "      <td>Hello! I'm Marian, I'm a singer from Venezuela! I was part of a boy-girl band named cubik, and I'm now singing on my own  'cause I wanted to play my own pop and pop-rock songs.  It would mean a lot if you could have a look at my channel to check my  music and watch my new video!! and if u like, subscribe to it! XOXO THANKS!!  PS: if you like a lot my channel, you can share it with your friends!!  Haha!! LOL MARIAN﻿</td>\n",
       "      <td>-1.0</td>\n",
       "      <td>2</td>\n",
       "    </tr>\n",
       "    <tr>\n",
       "      <th>270</th>\n",
       "      <td>Kyle Jaber</td>\n",
       "      <td>2014-01-19T00:21:29</td>\n",
       "      <td>Check me out! I'm kyle. I rap so yeah ﻿</td>\n",
       "      <td>-1.0</td>\n",
       "      <td>1</td>\n",
       "    </tr>\n",
       "    <tr>\n",
       "      <th>292</th>\n",
       "      <td>Soundhase</td>\n",
       "      <td>2014-08-19T18:59:38</td>\n",
       "      <td>Hi Guys! check this awesome EDM &amp;amp; House mix :) thanks a lot..  https://soundcloud.com/soundhase/edm-house-mix-2﻿</td>\n",
       "      <td>-1.0</td>\n",
       "      <td>2</td>\n",
       "    </tr>\n",
       "    <tr>\n",
       "      <th>179</th>\n",
       "      <td>Nerdy Peach</td>\n",
       "      <td>2014-10-29T22:44:41</td>\n",
       "      <td>Hey! I'm NERDY PEACH and I'm a new youtuber and it would mean THE ABSOLUTE  world to me if you could check 'em out! &amp;lt;3  Hope you like them! =D﻿</td>\n",
       "      <td>-1.0</td>\n",
       "      <td>2</td>\n",
       "    </tr>\n",
       "    <tr>\n",
       "      <th>16</th>\n",
       "      <td>zhichao wang</td>\n",
       "      <td>2013-11-29T02:13:56</td>\n",
       "      <td>i think about 100 millions of the views come from people who only wanted to  check the views﻿</td>\n",
       "      <td>-1.0</td>\n",
       "      <td>1</td>\n",
       "    </tr>\n",
       "  </tbody>\n",
       "</table>\n",
       "</div>"
      ],
      "text/plain": [
       "                 author                        date  \\\n",
       "403  ownpear902          2014-07-22T18:44:36.299000   \n",
       "256  PacKmaN             2014-11-05T21:56:39          \n",
       "196  Angek95             2014-11-03T22:28:56          \n",
       "282  CronicleFPS         2014-11-06T03:10:26          \n",
       "352  MrJtill0317         NaN                          \n",
       "161  MarianMusicChannel  2014-08-24T03:57:52          \n",
       "270  Kyle Jaber          2014-01-19T00:21:29          \n",
       "292  Soundhase           2014-08-19T18:59:38          \n",
       "179  Nerdy Peach         2014-10-29T22:44:41          \n",
       "16   zhichao wang        2013-11-29T02:13:56          \n",
       "\n",
       "                                                                                                                                                                                                                                                                                                                                                                                                                                   text  \\\n",
       "403  check it out free stuff for watching videos and filling surveys<br /><br /><a href=\"http://www.prizerebel.com/index.php?r=1446084\">http://www.prizerebel.com/index.php?r=1446084</a>﻿                                                                                                                                                                                                                                                \n",
       "256  check men out i put allot of effort into my music but unfortunatly not many  watch it﻿                                                                                                                                                                                                                                                                                                                                               \n",
       "196  Check my channel, please!﻿                                                                                                                                                                                                                                                                                                                                                                                                           \n",
       "282  Check me out I'm all about gaming ﻿                                                                                                                                                                                                                                                                                                                                                                                                  \n",
       "352  ┏━━━┓┏┓╋┏┓┏━━━┓┏━━━┓┏┓╋╋┏┓  ┃┏━┓┃┃┃╋┃┃┃┏━┓┃┗┓┏┓┃┃┗┓┏┛┃  ┃┗━━┓┃┗━┛┃┃┃╋┃┃╋┃┃┃┃┗┓┗┛┏  ┗━━┓┃┃┏━┓┃┃┗━┛┃╋┃┃┃┃╋┗┓┏┛  ┃┗━┛┃┃┃╋┃┃┃┏━┓┃┏┛┗┛┃╋╋┃┃  ┗━━━┛┗┛╋┗┛┗┛╋┗┛┗━━━┛╋╋┗┛ CHECK MY VIDEOS AND SUBSCRIBE AND LIKE PLZZ                                                                                                                                                                                                                         \n",
       "161  Hello! I'm Marian, I'm a singer from Venezuela! I was part of a boy-girl band named cubik, and I'm now singing on my own  'cause I wanted to play my own pop and pop-rock songs.  It would mean a lot if you could have a look at my channel to check my  music and watch my new video!! and if u like, subscribe to it! XOXO THANKS!!  PS: if you like a lot my channel, you can share it with your friends!!  Haha!! LOL MARIAN﻿   \n",
       "270  Check me out! I'm kyle. I rap so yeah ﻿                                                                                                                                                                                                                                                                                                                                                                                              \n",
       "292  Hi Guys! check this awesome EDM &amp; House mix :) thanks a lot..  https://soundcloud.com/soundhase/edm-house-mix-2﻿                                                                                                                                                                                                                                                                                                                 \n",
       "179  Hey! I'm NERDY PEACH and I'm a new youtuber and it would mean THE ABSOLUTE  world to me if you could check 'em out! &lt;3  Hope you like them! =D﻿                                                                                                                                                                                                                                                                                   \n",
       "16   i think about 100 millions of the views come from people who only wanted to  check the views﻿                                                                                                                                                                                                                                                                                                                                        \n",
       "\n",
       "     label  video  \n",
       "403 -1.0    3      \n",
       "256 -1.0    1      \n",
       "196 -1.0    1      \n",
       "282 -1.0    1      \n",
       "352 -1.0    4      \n",
       "161 -1.0    2      \n",
       "270 -1.0    1      \n",
       "292 -1.0    2      \n",
       "179 -1.0    2      \n",
       "16  -1.0    1      "
      ]
     },
     "execution_count": 15,
     "metadata": {},
     "output_type": "execute_result"
    }
   ],
   "source": [
    "buckets = error_buckets(L_train[:, 0], L_train[:, 1])\n",
    "df_train.iloc[buckets[(SPAM, ABSTAIN)]].sample(10, random_state=1)"
   ]
  },
  {
   "cell_type": "markdown",
   "metadata": {},
   "source": [
    "Most of these seem like small modifications of \"check out\", like \"check me out\" or \"check it out\".\n",
    "Can we get the best of both worlds?"
   ]
  },
  {
   "cell_type": "markdown",
   "metadata": {},
   "source": [
    "### d) Balance accuracy and coverage"
   ]
  },
  {
   "cell_type": "markdown",
   "metadata": {},
   "source": [
    "Let's see if we can use regular expressions to account for modifications of \"check out\" and get the coverage of `check` plus the accuracy of `check_out`."
   ]
  },
  {
   "cell_type": "code",
   "execution_count": 16,
   "metadata": {},
   "outputs": [],
   "source": [
    "import re\n",
    "\n",
    "\n",
    "@labeling_function()\n",
    "def regex_check_out(x):\n",
    "    return SPAM if re.search(r\"check.*out\", x.text, flags=re.I) else ABSTAIN"
   ]
  },
  {
   "cell_type": "markdown",
   "metadata": {},
   "source": [
    "Again, let's generate our label matrices and see how we do."
   ]
  },
  {
   "cell_type": "code",
   "execution_count": 17,
   "metadata": {},
   "outputs": [
    {
     "name": "stderr",
     "output_type": "stream",
     "text": [
      "\r",
      "  0%|          | 0/1586 [00:00<?, ?it/s]"
     ]
    },
    {
     "name": "stderr",
     "output_type": "stream",
     "text": [
      "\r",
      "100%|██████████| 1586/1586 [00:00<00:00, 26075.68it/s]"
     ]
    },
    {
     "name": "stderr",
     "output_type": "stream",
     "text": [
      "\n",
      "\r",
      "  0%|          | 0/100 [00:00<?, ?it/s]"
     ]
    },
    {
     "name": "stderr",
     "output_type": "stream",
     "text": [
      "\r",
      "100%|██████████| 100/100 [00:00<00:00, 18859.28it/s]"
     ]
    },
    {
     "name": "stderr",
     "output_type": "stream",
     "text": [
      "\n"
     ]
    }
   ],
   "source": [
    "lfs = [check_out, check, regex_check_out]\n",
    "\n",
    "applier = PandasLFApplier(lfs=lfs)\n",
    "L_train = applier.apply(df=df_train)\n",
    "L_dev = applier.apply(df=df_dev)"
   ]
  },
  {
   "cell_type": "code",
   "execution_count": 18,
   "metadata": {},
   "outputs": [
    {
     "data": {
      "text/html": [
       "<div>\n",
       "<style scoped>\n",
       "    .dataframe tbody tr th:only-of-type {\n",
       "        vertical-align: middle;\n",
       "    }\n",
       "\n",
       "    .dataframe tbody tr th {\n",
       "        vertical-align: top;\n",
       "    }\n",
       "\n",
       "    .dataframe thead th {\n",
       "        text-align: right;\n",
       "    }\n",
       "</style>\n",
       "<table border=\"1\" class=\"dataframe\">\n",
       "  <thead>\n",
       "    <tr style=\"text-align: right;\">\n",
       "      <th></th>\n",
       "      <th>j</th>\n",
       "      <th>Polarity</th>\n",
       "      <th>Coverage</th>\n",
       "      <th>Overlaps</th>\n",
       "      <th>Conflicts</th>\n",
       "    </tr>\n",
       "  </thead>\n",
       "  <tbody>\n",
       "    <tr>\n",
       "      <th>check_out</th>\n",
       "      <td>0</td>\n",
       "      <td>[1]</td>\n",
       "      <td>0.214376</td>\n",
       "      <td>0.214376</td>\n",
       "      <td>0.0</td>\n",
       "    </tr>\n",
       "    <tr>\n",
       "      <th>check</th>\n",
       "      <td>1</td>\n",
       "      <td>[1]</td>\n",
       "      <td>0.257881</td>\n",
       "      <td>0.233922</td>\n",
       "      <td>0.0</td>\n",
       "    </tr>\n",
       "    <tr>\n",
       "      <th>regex_check_out</th>\n",
       "      <td>2</td>\n",
       "      <td>[1]</td>\n",
       "      <td>0.233922</td>\n",
       "      <td>0.233922</td>\n",
       "      <td>0.0</td>\n",
       "    </tr>\n",
       "  </tbody>\n",
       "</table>\n",
       "</div>"
      ],
      "text/plain": [
       "                 j Polarity  Coverage  Overlaps  Conflicts\n",
       "check_out        0  [1]      0.214376  0.214376  0.0      \n",
       "check            1  [1]      0.257881  0.233922  0.0      \n",
       "regex_check_out  2  [1]      0.233922  0.233922  0.0      "
      ]
     },
     "execution_count": 18,
     "metadata": {},
     "output_type": "execute_result"
    }
   ],
   "source": [
    "LFAnalysis(L=L_train, lfs=lfs).lf_summary()"
   ]
  },
  {
   "cell_type": "code",
   "execution_count": 19,
   "metadata": {},
   "outputs": [
    {
     "data": {
      "text/html": [
       "<div>\n",
       "<style scoped>\n",
       "    .dataframe tbody tr th:only-of-type {\n",
       "        vertical-align: middle;\n",
       "    }\n",
       "\n",
       "    .dataframe tbody tr th {\n",
       "        vertical-align: top;\n",
       "    }\n",
       "\n",
       "    .dataframe thead th {\n",
       "        text-align: right;\n",
       "    }\n",
       "</style>\n",
       "<table border=\"1\" class=\"dataframe\">\n",
       "  <thead>\n",
       "    <tr style=\"text-align: right;\">\n",
       "      <th></th>\n",
       "      <th>j</th>\n",
       "      <th>Polarity</th>\n",
       "      <th>Coverage</th>\n",
       "      <th>Overlaps</th>\n",
       "      <th>Conflicts</th>\n",
       "      <th>Correct</th>\n",
       "      <th>Incorrect</th>\n",
       "      <th>Emp. Acc.</th>\n",
       "    </tr>\n",
       "  </thead>\n",
       "  <tbody>\n",
       "    <tr>\n",
       "      <th>check_out</th>\n",
       "      <td>0</td>\n",
       "      <td>[1]</td>\n",
       "      <td>0.22</td>\n",
       "      <td>0.22</td>\n",
       "      <td>0.0</td>\n",
       "      <td>22</td>\n",
       "      <td>0</td>\n",
       "      <td>1.000000</td>\n",
       "    </tr>\n",
       "    <tr>\n",
       "      <th>check</th>\n",
       "      <td>1</td>\n",
       "      <td>[1]</td>\n",
       "      <td>0.30</td>\n",
       "      <td>0.29</td>\n",
       "      <td>0.0</td>\n",
       "      <td>29</td>\n",
       "      <td>1</td>\n",
       "      <td>0.966667</td>\n",
       "    </tr>\n",
       "    <tr>\n",
       "      <th>regex_check_out</th>\n",
       "      <td>2</td>\n",
       "      <td>[1]</td>\n",
       "      <td>0.29</td>\n",
       "      <td>0.29</td>\n",
       "      <td>0.0</td>\n",
       "      <td>29</td>\n",
       "      <td>0</td>\n",
       "      <td>1.000000</td>\n",
       "    </tr>\n",
       "  </tbody>\n",
       "</table>\n",
       "</div>"
      ],
      "text/plain": [
       "                 j Polarity  Coverage  Overlaps  Conflicts  Correct  \\\n",
       "check_out        0  [1]      0.22      0.22      0.0        22        \n",
       "check            1  [1]      0.30      0.29      0.0        29        \n",
       "regex_check_out  2  [1]      0.29      0.29      0.0        29        \n",
       "\n",
       "                 Incorrect  Emp. Acc.  \n",
       "check_out        0          1.000000   \n",
       "check            1          0.966667   \n",
       "regex_check_out  0          1.000000   "
      ]
     },
     "execution_count": 19,
     "metadata": {},
     "output_type": "execute_result"
    }
   ],
   "source": [
    "LFAnalysis(L_dev, lfs).lf_summary(Y_dev)"
   ]
  },
  {
   "cell_type": "markdown",
   "metadata": {},
   "source": [
    "We've split the difference in `train` set coverage, and increased our accuracy on the `dev` set to 100%!\n",
    "This looks promising.\n",
    "Let's verify that we corrected our false positive from before."
   ]
  },
  {
   "cell_type": "code",
   "execution_count": 20,
   "metadata": {},
   "outputs": [
    {
     "data": {
      "text/html": [
       "<div>\n",
       "<style scoped>\n",
       "    .dataframe tbody tr th:only-of-type {\n",
       "        vertical-align: middle;\n",
       "    }\n",
       "\n",
       "    .dataframe tbody tr th {\n",
       "        vertical-align: top;\n",
       "    }\n",
       "\n",
       "    .dataframe thead th {\n",
       "        text-align: right;\n",
       "    }\n",
       "</style>\n",
       "<table border=\"1\" class=\"dataframe\">\n",
       "  <thead>\n",
       "    <tr style=\"text-align: right;\">\n",
       "      <th></th>\n",
       "      <th>author</th>\n",
       "      <th>date</th>\n",
       "      <th>text</th>\n",
       "      <th>label</th>\n",
       "      <th>video</th>\n",
       "    </tr>\n",
       "  </thead>\n",
       "  <tbody>\n",
       "    <tr>\n",
       "      <th>260</th>\n",
       "      <td>Eanna Cusack</td>\n",
       "      <td>2014-01-20T22:20:59</td>\n",
       "      <td>Im just to check how much views it has﻿</td>\n",
       "      <td>0</td>\n",
       "      <td>1</td>\n",
       "    </tr>\n",
       "  </tbody>\n",
       "</table>\n",
       "</div>"
      ],
      "text/plain": [
       "           author                 date  \\\n",
       "260  Eanna Cusack  2014-01-20T22:20:59   \n",
       "\n",
       "                                        text  label  video  \n",
       "260  Im just to check how much views it has﻿  0      1      "
      ]
     },
     "execution_count": 20,
     "metadata": {},
     "output_type": "execute_result"
    }
   ],
   "source": [
    "buckets = error_buckets(L_dev[:, 1], L_dev[:, 2])\n",
    "df_dev.iloc[buckets[(ABSTAIN, SPAM)]]"
   ]
  },
  {
   "cell_type": "markdown",
   "metadata": {},
   "source": [
    "To understand the coverage difference between `check` and `regex_check_out`, let's take a look at the training set.\n",
    "Remember: coverage isn't always good.\n",
    "Adding false positives will increase coverage."
   ]
  },
  {
   "cell_type": "code",
   "execution_count": 21,
   "metadata": {},
   "outputs": [
    {
     "data": {
      "text/html": [
       "<div>\n",
       "<style scoped>\n",
       "    .dataframe tbody tr th:only-of-type {\n",
       "        vertical-align: middle;\n",
       "    }\n",
       "\n",
       "    .dataframe tbody tr th {\n",
       "        vertical-align: top;\n",
       "    }\n",
       "\n",
       "    .dataframe thead th {\n",
       "        text-align: right;\n",
       "    }\n",
       "</style>\n",
       "<table border=\"1\" class=\"dataframe\">\n",
       "  <thead>\n",
       "    <tr style=\"text-align: right;\">\n",
       "      <th></th>\n",
       "      <th>author</th>\n",
       "      <th>date</th>\n",
       "      <th>text</th>\n",
       "      <th>label</th>\n",
       "      <th>video</th>\n",
       "    </tr>\n",
       "  </thead>\n",
       "  <tbody>\n",
       "    <tr>\n",
       "      <th>16</th>\n",
       "      <td>zhichao wang</td>\n",
       "      <td>2013-11-29T02:13:56</td>\n",
       "      <td>i think about 100 millions of the views come from people who only wanted to  check the views﻿</td>\n",
       "      <td>-1.0</td>\n",
       "      <td>1</td>\n",
       "    </tr>\n",
       "    <tr>\n",
       "      <th>99</th>\n",
       "      <td>Santeri Saariokari</td>\n",
       "      <td>2014-09-03T16:32:59</td>\n",
       "      <td>Hey guys go to check my video name \"growtopia my story\"﻿</td>\n",
       "      <td>-1.0</td>\n",
       "      <td>2</td>\n",
       "    </tr>\n",
       "    <tr>\n",
       "      <th>21</th>\n",
       "      <td>BeBe Burkey</td>\n",
       "      <td>2013-11-28T16:30:13</td>\n",
       "      <td>and u should.d check my channel and tell me what I should do next!﻿</td>\n",
       "      <td>-1.0</td>\n",
       "      <td>1</td>\n",
       "    </tr>\n",
       "    <tr>\n",
       "      <th>239</th>\n",
       "      <td>Cony</td>\n",
       "      <td>2013-11-28T16:01:47</td>\n",
       "      <td>You should check my channel for Funny VIDEOS!!﻿</td>\n",
       "      <td>-1.0</td>\n",
       "      <td>1</td>\n",
       "    </tr>\n",
       "    <tr>\n",
       "      <th>288</th>\n",
       "      <td>Kochos</td>\n",
       "      <td>2014-01-20T17:08:37</td>\n",
       "      <td>i check back often to help reach 2x10^9 views and I avoid watching Baby﻿</td>\n",
       "      <td>-1.0</td>\n",
       "      <td>1</td>\n",
       "    </tr>\n",
       "    <tr>\n",
       "      <th>65</th>\n",
       "      <td>by.Ovskiy</td>\n",
       "      <td>2014-10-13T17:09:46</td>\n",
       "      <td>Rap from Belarus, check my channel:)﻿</td>\n",
       "      <td>-1.0</td>\n",
       "      <td>2</td>\n",
       "    </tr>\n",
       "    <tr>\n",
       "      <th>196</th>\n",
       "      <td>Angek95</td>\n",
       "      <td>2014-11-03T22:28:56</td>\n",
       "      <td>Check my channel, please!﻿</td>\n",
       "      <td>-1.0</td>\n",
       "      <td>1</td>\n",
       "    </tr>\n",
       "    <tr>\n",
       "      <th>333</th>\n",
       "      <td>FreexGaming</td>\n",
       "      <td>2014-10-18T08:12:26</td>\n",
       "      <td>want to win borderlands the pre-sequel? check my channel :)﻿</td>\n",
       "      <td>-1.0</td>\n",
       "      <td>2</td>\n",
       "    </tr>\n",
       "    <tr>\n",
       "      <th>167</th>\n",
       "      <td>Brandon Pryor</td>\n",
       "      <td>2014-01-19T00:36:25</td>\n",
       "      <td>I dont even watch it anymore i just come here to check on 2 Billion or not﻿</td>\n",
       "      <td>-1.0</td>\n",
       "      <td>1</td>\n",
       "    </tr>\n",
       "    <tr>\n",
       "      <th>266</th>\n",
       "      <td>Zielimeek21</td>\n",
       "      <td>2013-11-28T21:49:00</td>\n",
       "      <td>I'm only checking the views﻿</td>\n",
       "      <td>-1.0</td>\n",
       "      <td>1</td>\n",
       "    </tr>\n",
       "  </tbody>\n",
       "</table>\n",
       "</div>"
      ],
      "text/plain": [
       "                 author                 date  \\\n",
       "16   zhichao wang        2013-11-29T02:13:56   \n",
       "99   Santeri Saariokari  2014-09-03T16:32:59   \n",
       "21   BeBe Burkey         2013-11-28T16:30:13   \n",
       "239  Cony                2013-11-28T16:01:47   \n",
       "288  Kochos              2014-01-20T17:08:37   \n",
       "65   by.Ovskiy           2014-10-13T17:09:46   \n",
       "196  Angek95             2014-11-03T22:28:56   \n",
       "333  FreexGaming         2014-10-18T08:12:26   \n",
       "167  Brandon Pryor       2014-01-19T00:36:25   \n",
       "266  Zielimeek21         2013-11-28T21:49:00   \n",
       "\n",
       "                                                                                              text  \\\n",
       "16   i think about 100 millions of the views come from people who only wanted to  check the views﻿   \n",
       "99   Hey guys go to check my video name \"growtopia my story\"﻿                                        \n",
       "21   and u should.d check my channel and tell me what I should do next!﻿                             \n",
       "239  You should check my channel for Funny VIDEOS!!﻿                                                 \n",
       "288  i check back often to help reach 2x10^9 views and I avoid watching Baby﻿                        \n",
       "65   Rap from Belarus, check my channel:)﻿                                                           \n",
       "196  Check my channel, please!﻿                                                                      \n",
       "333  want to win borderlands the pre-sequel? check my channel :)﻿                                    \n",
       "167  I dont even watch it anymore i just come here to check on 2 Billion or not﻿                     \n",
       "266  I'm only checking the views﻿                                                                    \n",
       "\n",
       "     label  video  \n",
       "16  -1.0    1      \n",
       "99  -1.0    2      \n",
       "21  -1.0    1      \n",
       "239 -1.0    1      \n",
       "288 -1.0    1      \n",
       "65  -1.0    2      \n",
       "196 -1.0    1      \n",
       "333 -1.0    2      \n",
       "167 -1.0    1      \n",
       "266 -1.0    1      "
      ]
     },
     "execution_count": 21,
     "metadata": {},
     "output_type": "execute_result"
    }
   ],
   "source": [
    "buckets = error_buckets(L_train[:, 1], L_train[:, 2])\n",
    "df_train.iloc[buckets[(ABSTAIN, SPAM)]].sample(10, random_state=1)"
   ]
  },
  {
   "cell_type": "markdown",
   "metadata": {},
   "source": [
    "Most of these are SPAM, but a good number are false positives.\n",
    "**To keep precision high (while not sacrificing much in terms of coverage), we'd choose our regex-based rule.**"
   ]
  },
  {
   "cell_type": "markdown",
   "metadata": {},
   "source": [
    "### e) Writing an LF that uses a third-party model"
   ]
  },
  {
   "cell_type": "markdown",
   "metadata": {},
   "source": [
    "The LF interface is extremely flexible, and can wrap existing models.\n",
    "A common technique is to use a commodity model trained for other tasks that are related to, but not the same as, the one we care about.\n",
    "\n",
    "For example, the [TextBlob](https://textblob.readthedocs.io/en/dev/index.html) tool provides a pretrained sentiment analyzer. Our spam classification task is not the same as sentiment classification, but it turns out that `SPAM` and `HAM` comments have different distributions of sentiment scores.\n",
    "We'll focus on writing LFs for `HAM`, since we identified `SPAM` comments above.\n",
    "\n",
    "**A brief intro to `Preprocessor`s**\n",
    "\n",
    "Just like a `LabelingFunction` is constructed from a black-box Python function that maps a data point to an integer label,\n",
    "a `Preprocessor` is constructed from a black-box Python function that maps a data point to a new data point.\n",
    "`LabelingFunction`s can use `Preprocessor`s, which lets us write LFs over transformed or enhanced data points.\n",
    "We add the `@preprocessor(...)` decorator to preprocessing functions to create `Preprocessor`s.\n",
    "`Preprocessor`s also have extra functionality, such as memoization\n",
    "(i.e. input/output caching, so it doesn't re-execute for each LF that uses it).\n",
    "\n",
    "We'll start by creating a `Preprocessor` that runs `TextBlob` on our comments, then extracts the polarity and subjectivity scores."
   ]
  },
  {
   "cell_type": "code",
   "execution_count": 22,
   "metadata": {},
   "outputs": [],
   "source": [
    "from snorkel.labeling.preprocess import preprocessor\n",
    "from textblob import TextBlob\n",
    "\n",
    "\n",
    "@preprocessor(memoize=True)\n",
    "def textblob_sentiment(x):\n",
    "    scores = TextBlob(x.text)\n",
    "    x.polarity = scores.sentiment.polarity\n",
    "    x.subjectivity = scores.sentiment.subjectivity\n",
    "    return x"
   ]
  },
  {
   "cell_type": "markdown",
   "metadata": {},
   "source": [
    "We can use a preprocessor on its own as well.\n",
    "In order to see how we should use TextBlob scores in an LF, let's see how the distributions differ for `SPAM` and `HAM`.\n",
    "We'll have to tune the output of our LFs based on the TextBlob scores.\n",
    "Tuning input parameters or thresholds from model outputs is a common practice in developing LFs."
   ]
  },
  {
   "cell_type": "code",
   "execution_count": 23,
   "metadata": {},
   "outputs": [
    {
     "data": {
      "image/png": "[encoded data removed]",
      "text/plain": [
       "<Figure size 432x288 with 1 Axes>"
      ]
     },
     "metadata": {
      "needs_background": "light"
     },
     "output_type": "display_data"
    }
   ],
   "source": [
    "import matplotlib.pyplot as plt\n",
    "\n",
    "spam_polarities = [\n",
    "    textblob_sentiment(x).polarity for _, x in df_dev.iterrows() if x.label == SPAM\n",
    "]\n",
    "\n",
    "ham_polarities = [\n",
    "    textblob_sentiment(x).polarity for _, x in df_dev.iterrows() if x.label == HAM\n",
    "]\n",
    "\n",
    "plt.hist([spam_polarities, ham_polarities])\n",
    "plt.title(\"TextBlob sentiment polarity scores\")\n",
    "plt.xlabel(\"Sentiment polarity score\")\n",
    "plt.ylabel(\"Count\")\n",
    "plt.legend([\"Spam\", \"Ham\"])\n",
    "plt.show()"
   ]
  },
  {
   "cell_type": "markdown",
   "metadata": {},
   "source": [
    "Using our accuracy-over-coverage principle above, we'll target the high polarity bin on the far right in our LF since there are many more `HAM` comments."
   ]
  },
  {
   "cell_type": "code",
   "execution_count": 24,
   "metadata": {},
   "outputs": [],
   "source": [
    "@labeling_function(preprocessors=[textblob_sentiment])\n",
    "def textblob_polarity(x):\n",
    "    return HAM if x.polarity > 0.9 else ABSTAIN"
   ]
  },
  {
   "cell_type": "markdown",
   "metadata": {},
   "source": [
    "Let's do the same for the subjectivity scores.\n",
    "This will run faster than the last cell, since we memoized the `Preprocessor` outputs."
   ]
  },
  {
   "cell_type": "code",
   "execution_count": 25,
   "metadata": {},
   "outputs": [
    {
     "data": {
      "image/png": "[encoded data removed]",
      "text/plain": [
       "<Figure size 432x288 with 1 Axes>"
      ]
     },
     "metadata": {
      "needs_background": "light"
     },
     "output_type": "display_data"
    },
    {
     "data": {
      "image/png": "[encoded data removed]",
      "text/plain": [
       "<Figure size 432x288 with 1 Axes>"
      ]
     },
     "metadata": {
      "needs_background": "light"
     },
     "output_type": "display_data"
    }
   ],
   "source": [
    "spam_subjectivities = [\n",
    "    textblob_sentiment(x).subjectivity for _, x in df_dev.iterrows() if x.label == SPAM\n",
    "]\n",
    "\n",
    "ham_subjectivities = [\n",
    "    textblob_sentiment(x).subjectivity for _, x in df_dev.iterrows() if x.label == HAM\n",
    "]\n",
    "\n",
    "plt.hist([spam_subjectivities, ham_subjectivities])\n",
    "plt.title(\"TextBlob sentiment subjectivity scores\")\n",
    "plt.xlabel(\"Sentiment subjectivity score\")\n",
    "plt.ylabel(\"Count\")\n",
    "plt.legend([\"Spam\", \"Ham\"])\n",
    "plt.show()\n",
    "\n",
    "plt.hist([spam_subjectivities, ham_subjectivities], bins=[0, 0.5, 1])\n",
    "plt.title(\"TextBlob sentiment subjectivity scores\")\n",
    "plt.xlabel(\"Sentiment subjectivity score\")\n",
    "plt.ylabel(\"Count\")\n",
    "plt.legend([\"Spam\", \"Ham\"])\n",
    "plt.show()"
   ]
  },
  {
   "cell_type": "markdown",
   "metadata": {},
   "source": [
    "It looks like subjectivity scores above 0.5 will work pretty well for identifying `HAM` comments, though not perfectly.\n",
    "We'll rely on our label model to learn that this is a lower accuracy rule."
   ]
  },
  {
   "cell_type": "code",
   "execution_count": 26,
   "metadata": {},
   "outputs": [],
   "source": [
    "@labeling_function(preprocessors=[textblob_sentiment])\n",
    "def textblob_subjectivity(x):\n",
    "    return HAM if x.subjectivity >= 0.5 else ABSTAIN"
   ]
  },
  {
   "cell_type": "markdown",
   "metadata": {},
   "source": [
    "Let's apply our LFs so we can analyze their performance."
   ]
  },
  {
   "cell_type": "code",
   "execution_count": 27,
   "metadata": {},
   "outputs": [
    {
     "name": "stderr",
     "output_type": "stream",
     "text": [
      "\r",
      "  0%|          | 0/1586 [00:00<?, ?it/s]"
     ]
    },
    {
     "name": "stderr",
     "output_type": "stream",
     "text": [
      "\r",
      "  7%|▋         | 111/1586 [00:00<00:01, 1104.51it/s]"
     ]
    },
    {
     "name": "stderr",
     "output_type": "stream",
     "text": [
      "\r",
      " 14%|█▍        | 221/1586 [00:00<00:01, 1101.50it/s]"
     ]
    },
    {
     "name": "stderr",
     "output_type": "stream",
     "text": [
      "\r",
      " 21%|██        | 331/1586 [00:00<00:01, 1100.05it/s]"
     ]
    },
    {
     "name": "stderr",
     "output_type": "stream",
     "text": [
      "\r",
      " 28%|██▊       | 440/1586 [00:00<00:01, 1094.13it/s]"
     ]
    },
    {
     "name": "stderr",
     "output_type": "stream",
     "text": [
      "\r",
      " 35%|███▍      | 548/1586 [00:00<00:00, 1088.01it/s]"
     ]
    },
    {
     "name": "stderr",
     "output_type": "stream",
     "text": [
      "\r",
      " 40%|████      | 639/1586 [00:00<00:01, 886.89it/s] "
     ]
    },
    {
     "name": "stderr",
     "output_type": "stream",
     "text": [
      "\r",
      " 47%|████▋     | 751/1586 [00:00<00:00, 944.54it/s]"
     ]
    },
    {
     "name": "stderr",
     "output_type": "stream",
     "text": [
      "\r",
      " 55%|█████▍    | 866/1586 [00:00<00:00, 996.89it/s]"
     ]
    },
    {
     "name": "stderr",
     "output_type": "stream",
     "text": [
      "\r",
      " 62%|██████▏   | 980/1586 [00:00<00:00, 1035.44it/s]"
     ]
    },
    {
     "name": "stderr",
     "output_type": "stream",
     "text": [
      "\r",
      " 69%|██████▉   | 1092/1586 [00:01<00:00, 1058.35it/s]"
     ]
    },
    {
     "name": "stderr",
     "output_type": "stream",
     "text": [
      "\r",
      " 76%|███████▌  | 1202/1586 [00:01<00:00, 1070.36it/s]"
     ]
    },
    {
     "name": "stderr",
     "output_type": "stream",
     "text": [
      "\r",
      " 83%|████████▎ | 1310/1586 [00:01<00:00, 1072.81it/s]"
     ]
    },
    {
     "name": "stderr",
     "output_type": "stream",
     "text": [
      "\r",
      " 90%|████████▉ | 1425/1586 [00:01<00:00, 1094.67it/s]"
     ]
    },
    {
     "name": "stderr",
     "output_type": "stream",
     "text": [
      "\r",
      " 97%|█████████▋| 1536/1586 [00:01<00:00, 1096.53it/s]"
     ]
    },
    {
     "name": "stderr",
     "output_type": "stream",
     "text": [
      "\r",
      "100%|██████████| 1586/1586 [00:01<00:00, 1059.12it/s]"
     ]
    },
    {
     "name": "stderr",
     "output_type": "stream",
     "text": [
      "\n",
      "\r",
      "  0%|          | 0/100 [00:00<?, ?it/s]"
     ]
    },
    {
     "name": "stderr",
     "output_type": "stream",
     "text": [
      "\r",
      "100%|██████████| 100/100 [00:00<00:00, 14803.08it/s]"
     ]
    },
    {
     "name": "stderr",
     "output_type": "stream",
     "text": [
      "\n"
     ]
    }
   ],
   "source": [
    "lfs = [textblob_polarity, textblob_subjectivity]\n",
    "\n",
    "applier = PandasLFApplier(lfs)\n",
    "L_train = applier.apply(df_train)\n",
    "L_dev = applier.apply(df_dev)"
   ]
  },
  {
   "cell_type": "code",
   "execution_count": 28,
   "metadata": {},
   "outputs": [
    {
     "data": {
      "text/html": [
       "<div>\n",
       "<style scoped>\n",
       "    .dataframe tbody tr th:only-of-type {\n",
       "        vertical-align: middle;\n",
       "    }\n",
       "\n",
       "    .dataframe tbody tr th {\n",
       "        vertical-align: top;\n",
       "    }\n",
       "\n",
       "    .dataframe thead th {\n",
       "        text-align: right;\n",
       "    }\n",
       "</style>\n",
       "<table border=\"1\" class=\"dataframe\">\n",
       "  <thead>\n",
       "    <tr style=\"text-align: right;\">\n",
       "      <th></th>\n",
       "      <th>j</th>\n",
       "      <th>Polarity</th>\n",
       "      <th>Coverage</th>\n",
       "      <th>Overlaps</th>\n",
       "      <th>Conflicts</th>\n",
       "    </tr>\n",
       "  </thead>\n",
       "  <tbody>\n",
       "    <tr>\n",
       "      <th>textblob_polarity</th>\n",
       "      <td>0</td>\n",
       "      <td>[0]</td>\n",
       "      <td>0.035309</td>\n",
       "      <td>0.013871</td>\n",
       "      <td>0.0</td>\n",
       "    </tr>\n",
       "    <tr>\n",
       "      <th>textblob_subjectivity</th>\n",
       "      <td>1</td>\n",
       "      <td>[0]</td>\n",
       "      <td>0.357503</td>\n",
       "      <td>0.013871</td>\n",
       "      <td>0.0</td>\n",
       "    </tr>\n",
       "  </tbody>\n",
       "</table>\n",
       "</div>"
      ],
      "text/plain": [
       "                       j Polarity  Coverage  Overlaps  Conflicts\n",
       "textblob_polarity      0  [0]      0.035309  0.013871  0.0      \n",
       "textblob_subjectivity  1  [0]      0.357503  0.013871  0.0      "
      ]
     },
     "execution_count": 28,
     "metadata": {},
     "output_type": "execute_result"
    }
   ],
   "source": [
    "LFAnalysis(L_train, lfs).lf_summary()"
   ]
  },
  {
   "cell_type": "code",
   "execution_count": 29,
   "metadata": {},
   "outputs": [
    {
     "data": {
      "text/html": [
       "<div>\n",
       "<style scoped>\n",
       "    .dataframe tbody tr th:only-of-type {\n",
       "        vertical-align: middle;\n",
       "    }\n",
       "\n",
       "    .dataframe tbody tr th {\n",
       "        vertical-align: top;\n",
       "    }\n",
       "\n",
       "    .dataframe thead th {\n",
       "        text-align: right;\n",
       "    }\n",
       "</style>\n",
       "<table border=\"1\" class=\"dataframe\">\n",
       "  <thead>\n",
       "    <tr style=\"text-align: right;\">\n",
       "      <th></th>\n",
       "      <th>j</th>\n",
       "      <th>Polarity</th>\n",
       "      <th>Coverage</th>\n",
       "      <th>Overlaps</th>\n",
       "      <th>Conflicts</th>\n",
       "      <th>Correct</th>\n",
       "      <th>Incorrect</th>\n",
       "      <th>Emp. Acc.</th>\n",
       "    </tr>\n",
       "  </thead>\n",
       "  <tbody>\n",
       "    <tr>\n",
       "      <th>textblob_polarity</th>\n",
       "      <td>0</td>\n",
       "      <td>[0]</td>\n",
       "      <td>0.05</td>\n",
       "      <td>0.02</td>\n",
       "      <td>0.0</td>\n",
       "      <td>4</td>\n",
       "      <td>1</td>\n",
       "      <td>0.800000</td>\n",
       "    </tr>\n",
       "    <tr>\n",
       "      <th>textblob_subjectivity</th>\n",
       "      <td>1</td>\n",
       "      <td>[0]</td>\n",
       "      <td>0.41</td>\n",
       "      <td>0.02</td>\n",
       "      <td>0.0</td>\n",
       "      <td>24</td>\n",
       "      <td>17</td>\n",
       "      <td>0.585366</td>\n",
       "    </tr>\n",
       "  </tbody>\n",
       "</table>\n",
       "</div>"
      ],
      "text/plain": [
       "                       j Polarity  Coverage  Overlaps  Conflicts  Correct  \\\n",
       "textblob_polarity      0  [0]      0.05      0.02      0.0        4         \n",
       "textblob_subjectivity  1  [0]      0.41      0.02      0.0        24        \n",
       "\n",
       "                       Incorrect  Emp. Acc.  \n",
       "textblob_polarity      1          0.800000   \n",
       "textblob_subjectivity  17         0.585366   "
      ]
     },
     "execution_count": 29,
     "metadata": {},
     "output_type": "execute_result"
    }
   ],
   "source": [
    "LFAnalysis(L_dev, lfs).lf_summary(Y_dev)"
   ]
  },
  {
   "cell_type": "markdown",
   "metadata": {},
   "source": [
    "Again, these LFs aren't perfect, so we'll rely on our label model to denoise and resolve their outputs."
   ]
  },
  {
   "cell_type": "markdown",
   "metadata": {},
   "source": [
    "## More Labeling Functions"
   ]
  },
  {
   "cell_type": "markdown",
   "metadata": {},
   "source": [
    "If a single LF had high enough coverage to label our entire test dataset accurately, then we wouldn't need a classifier at all.\n",
    "We could just use that single simple heuristic to complete the task.\n",
    "But most problems are not that simple.\n",
    "Instead, we usually need to **combine multiple LFs** to label our dataset, both to increase the size of the generated training set (since we can't generate training labels for data points that all LFs abstained on) and to improve the overall accuracy of the training labels we generate by factoring in multiple different signals.\n",
    "\n",
    "In the following sections, we'll show just a few of the many types of LFs that you could write to generate a training dataset for this problem."
   ]
  },
  {
   "cell_type": "markdown",
   "metadata": {},
   "source": [
    "### i. Keyword LFs"
   ]
  },
  {
   "cell_type": "markdown",
   "metadata": {},
   "source": [
    "For text applications, some of the simplest LFs to write are often just keyword lookups.\n",
    "These will often follow the same execution pattern, so we can create a template and use the `resources` parameter to pass in LF-specific keywords."
   ]
  },
  {
   "cell_type": "code",
   "execution_count": 30,
   "metadata": {},
   "outputs": [],
   "source": [
    "from snorkel.labeling.lf import LabelingFunction\n",
    "\n",
    "\n",
    "def keyword_lookup(x, keywords, label):\n",
    "    if any(word in x.text.lower() for word in keywords):\n",
    "        return label\n",
    "    return ABSTAIN\n",
    "\n",
    "\n",
    "def make_keyword_lf(keywords, label=SPAM):\n",
    "    return LabelingFunction(\n",
    "        name=f\"keyword_{keywords[0]}\",\n",
    "        f=keyword_lookup,\n",
    "        resources=dict(keywords=keywords, label=label),\n",
    "    )\n",
    "\n",
    "\n",
    "\"\"\"Spam comments talk about 'my channel', 'my video', etc.\"\"\"\n",
    "keyword_my = make_keyword_lf([\"my\"])\n",
    "\n",
    "\"\"\"Spam comments ask users to subscribe to their channels.\"\"\"\n",
    "keyword_subscribe = make_keyword_lf([\"subscribe\"])\n",
    "\n",
    "\"\"\"Spam comments post links to other channels.\"\"\"\n",
    "keyword_link = make_keyword_lf([\"http\"])\n",
    "\n",
    "\"\"\"Spam comments make requests rather than commenting.\"\"\"\n",
    "keyword_please = make_keyword_lf([\"please\", \"plz\"])\n",
    "\n",
    "\"\"\"Ham comments actually talk about the video's content.\"\"\"\n",
    "keyword_song = make_keyword_lf([\"song\"], label=HAM)"
   ]
  },
  {
   "cell_type": "markdown",
   "metadata": {},
   "source": [
    "### ii. Pattern-matching LFs (regular expressions)"
   ]
  },
  {
   "cell_type": "markdown",
   "metadata": {},
   "source": [
    "If we want a little more control over a keyword search, we can look for regular expressions instead.\n",
    "The LF we developed above (`regex_check_out`) is an example of this."
   ]
  },
  {
   "cell_type": "markdown",
   "metadata": {},
   "source": [
    "### iii.  Heuristic LFs"
   ]
  },
  {
   "cell_type": "markdown",
   "metadata": {},
   "source": [
    "There may other heuristics or \"rules of thumb\" that you come up with as you look at the data.\n",
    "So long as you can express it in a function, it's a viable LF!"
   ]
  },
  {
   "cell_type": "code",
   "execution_count": 31,
   "metadata": {},
   "outputs": [],
   "source": [
    "@labeling_function()\n",
    "def short_comment(x):\n",
    "    \"\"\"Ham comments are often short, such as 'cool video!'\"\"\"\n",
    "    return HAM if len(x.text.split()) < 5 else ABSTAIN"
   ]
  },
  {
   "cell_type": "markdown",
   "metadata": {},
   "source": [
    "### iv. LFs with Complex Preprocessors"
   ]
  },
  {
   "cell_type": "markdown",
   "metadata": {},
   "source": [
    "Some LFs rely on fields that aren't present in the raw data, but can be derived from it.\n",
    "We can enrich our data (providing more fields for the LFs to refer to) using `Preprocessor`s.\n",
    "\n",
    "For example, we can use the fantastic NLP tool [spaCy](https://spacy.io/) to add lemmas, part-of-speech (pos) tags, etc. to each token.\n",
    "Snorkel provides a prebuilt preprocessor for spaCy called `SpacyPreprocessor` which adds a new field to the\n",
    "data point containing a [spaCy `Doc` object](https://spacy.io/api/doc).\n",
    "For more info, see the [`SpacyPreprocessor` documentation](https://snorkel.readthedocs.io/en/master/source/snorkel.labeling.preprocess.html#snorkel.labeling.preprocess.nlp.SpacyPreprocessor).\n",
    "\n",
    "\n",
    "If you prefer to use a different NLP tool, you can also wrap that as a `Preprocessor` and use it in the same way.\n",
    "For more info, see the [`preprocessor` documentation](https://snorkel.readthedocs.io/en/master/source/snorkel.labeling.preprocess.html#snorkel.labeling.preprocess.core.preprocessor)."
   ]
  },
  {
   "cell_type": "code",
   "execution_count": 32,
   "metadata": {},
   "outputs": [
    {
     "name": "stdout",
     "output_type": "stream",
     "text": [
      "Collecting en_core_web_sm==2.1.0 from https://github.com/explosion/spacy-models/releases/download/en_core_web_sm-2.1.0/en_core_web_sm-2.1.0.tar.gz#egg=en_core_web_sm==2.1.0\r\n"
     ]
    },
    {
     "name": "stdout",
     "output_type": "stream",
     "text": [
      "\u001b[?25l  Downloading https://github.com/explosion/spacy-models/releases/download/en_core_web_sm-2.1.0/en_core_web_sm-2.1.0.tar.gz (11.1MB)\r\n",
      "\r",
      "\u001b[K     |                                | 10kB 31.2MB/s eta 0:00:01"
     ]
    },
    {
     "name": "stdout",
     "output_type": "stream",
     "text": [
      "\r",
      "\u001b[K     |                                | 20kB 257kB/s eta 0:00:43\r",
      "\u001b[K     |                                | 30kB 384kB/s eta 0:00:29\r",
      "\u001b[K     |▏                               | 40kB 512kB/s eta 0:00:22\r",
      "\u001b[K     |▏                               | 51kB 640kB/s eta 0:00:18"
     ]
    },
    {
     "name": "stdout",
     "output_type": "stream",
     "text": [
      "\r",
      "\u001b[K     |▏                               | 61kB 384kB/s eta 0:00:29\r",
      "\u001b[K     |▏                               | 71kB 447kB/s eta 0:00:25\r",
      "\u001b[K     |▎                               | 81kB 510kB/s eta 0:00:22\r",
      "\u001b[K     |▎                               | 92kB 574kB/s eta 0:00:20\r",
      "\u001b[K     |▎                               | 102kB 637kB/s eta 0:00:18\r",
      "\u001b[K     |▎                               | 112kB 637kB/s eta 0:00:18"
     ]
    },
    {
     "name": "stdout",
     "output_type": "stream",
     "text": [
      "\r",
      "\u001b[K     |▍                               | 122kB 637kB/s eta 0:00:18\r",
      "\u001b[K     |▍                               | 133kB 637kB/s eta 0:00:18\r",
      "\u001b[K     |▍                               | 143kB 637kB/s eta 0:00:18\r",
      "\u001b[K     |▍                               | 153kB 637kB/s eta 0:00:18\r",
      "\u001b[K     |▌                               | 163kB 637kB/s eta 0:00:18\r",
      "\u001b[K     |▌                               | 174kB 637kB/s eta 0:00:18\r",
      "\u001b[K     |▌                               | 184kB 637kB/s eta 0:00:18\r",
      "\u001b[K     |▋                               | 194kB 637kB/s eta 0:00:18\r",
      "\u001b[K     |▋                               | 204kB 637kB/s eta 0:00:18\r",
      "\u001b[K     |▋                               | 215kB 637kB/s eta 0:00:18\r",
      "\u001b[K     |▋                               | 225kB 637kB/s eta 0:00:18\r",
      "\u001b[K     |▊                               | 235kB 637kB/s eta 0:00:17\r",
      "\u001b[K     |▊                               | 245kB 637kB/s eta 0:00:17\r",
      "\u001b[K     |▊                               | 256kB 637kB/s eta 0:00:17"
     ]
    },
    {
     "name": "stdout",
     "output_type": "stream",
     "text": [
      "\r",
      "\u001b[K     |▊                               | 266kB 637kB/s eta 0:00:17\r",
      "\u001b[K     |▉                               | 276kB 637kB/s eta 0:00:17\r",
      "\u001b[K     |▉                               | 286kB 637kB/s eta 0:00:17\r",
      "\u001b[K     |▉                               | 296kB 637kB/s eta 0:00:17\r",
      "\u001b[K     |▉                               | 307kB 637kB/s eta 0:00:17\r",
      "\u001b[K     |█                               | 317kB 637kB/s eta 0:00:17\r",
      "\u001b[K     |█                               | 327kB 637kB/s eta 0:00:17\r",
      "\u001b[K     |█                               | 337kB 637kB/s eta 0:00:17\r",
      "\u001b[K     |█                               | 348kB 637kB/s eta 0:00:17\r",
      "\u001b[K     |█                               | 358kB 637kB/s eta 0:00:17\r",
      "\u001b[K     |█                               | 368kB 637kB/s eta 0:00:17\r",
      "\u001b[K     |█                               | 378kB 637kB/s eta 0:00:17\r",
      "\u001b[K     |█▏                              | 389kB 637kB/s eta 0:00:17\r",
      "\u001b[K     |█▏                              | 399kB 637kB/s eta 0:00:17\r",
      "\u001b[K     |█▏                              | 409kB 637kB/s eta 0:00:17\r",
      "\u001b[K     |█▏                              | 419kB 637kB/s eta 0:00:17\r",
      "\u001b[K     |█▎                              | 430kB 637kB/s eta 0:00:17\r",
      "\u001b[K     |█▎                              | 440kB 637kB/s eta 0:00:17\r",
      "\u001b[K     |█▎                              | 450kB 637kB/s eta 0:00:17\r",
      "\u001b[K     |█▎                              | 460kB 637kB/s eta 0:00:17\r",
      "\u001b[K     |█▍                              | 471kB 637kB/s eta 0:00:17\r",
      "\u001b[K     |█▍                              | 481kB 637kB/s eta 0:00:17\r",
      "\u001b[K     |█▍                              | 491kB 637kB/s eta 0:00:17\r",
      "\u001b[K     |█▌                              | 501kB 637kB/s eta 0:00:17\r",
      "\u001b[K     |█▌                              | 512kB 637kB/s eta 0:00:17\r",
      "\u001b[K     |█▌                              | 522kB 637kB/s eta 0:00:17\r",
      "\u001b[K     |█▌                              | 532kB 637kB/s eta 0:00:17"
     ]
    },
    {
     "name": "stdout",
     "output_type": "stream",
     "text": [
      "\r",
      "\u001b[K     |█▋                              | 542kB 637kB/s eta 0:00:17\r",
      "\u001b[K     |█▋                              | 552kB 637kB/s eta 0:00:17\r",
      "\u001b[K     |█▋                              | 563kB 637kB/s eta 0:00:17\r",
      "\u001b[K     |█▋                              | 573kB 637kB/s eta 0:00:17\r",
      "\u001b[K     |█▊                              | 583kB 637kB/s eta 0:00:17\r",
      "\u001b[K     |█▊                              | 593kB 637kB/s eta 0:00:17\r",
      "\u001b[K     |█▊                              | 604kB 637kB/s eta 0:00:17\r",
      "\u001b[K     |█▊                              | 614kB 637kB/s eta 0:00:17\r",
      "\u001b[K     |█▉                              | 624kB 637kB/s eta 0:00:17\r",
      "\u001b[K     |█▉                              | 634kB 637kB/s eta 0:00:17\r",
      "\u001b[K     |█▉                              | 645kB 637kB/s eta 0:00:17\r",
      "\u001b[K     |██                              | 655kB 637kB/s eta 0:00:17\r",
      "\u001b[K     |██                              | 665kB 637kB/s eta 0:00:17\r",
      "\u001b[K     |██                              | 675kB 637kB/s eta 0:00:17\r",
      "\u001b[K     |██                              | 686kB 637kB/s eta 0:00:17\r",
      "\u001b[K     |██                              | 696kB 637kB/s eta 0:00:17\r",
      "\u001b[K     |██                              | 706kB 637kB/s eta 0:00:17\r",
      "\u001b[K     |██                              | 716kB 637kB/s eta 0:00:17\r",
      "\u001b[K     |██                              | 727kB 637kB/s eta 0:00:17\r",
      "\u001b[K     |██▏                             | 737kB 637kB/s eta 0:00:17\r",
      "\u001b[K     |██▏                             | 747kB 637kB/s eta 0:00:17\r",
      "\u001b[K     |██▏                             | 757kB 637kB/s eta 0:00:17\r",
      "\u001b[K     |██▏                             | 768kB 637kB/s eta 0:00:17\r",
      "\u001b[K     |██▎                             | 778kB 637kB/s eta 0:00:17\r",
      "\u001b[K     |██▎                             | 788kB 637kB/s eta 0:00:17\r",
      "\u001b[K     |██▎                             | 798kB 637kB/s eta 0:00:17\r",
      "\u001b[K     |██▍                             | 808kB 637kB/s eta 0:00:17\r",
      "\u001b[K     |██▍                             | 819kB 637kB/s eta 0:00:17\r",
      "\u001b[K     |██▍                             | 829kB 637kB/s eta 0:00:17\r",
      "\u001b[K     |██▍                             | 839kB 637kB/s eta 0:00:17\r",
      "\u001b[K     |██▌                             | 849kB 637kB/s eta 0:00:17\r",
      "\u001b[K     |██▌                             | 860kB 637kB/s eta 0:00:17\r",
      "\u001b[K     |██▌                             | 870kB 637kB/s eta 0:00:16\r",
      "\u001b[K     |██▌                             | 880kB 637kB/s eta 0:00:16\r",
      "\u001b[K     |██▋                             | 890kB 637kB/s eta 0:00:16\r",
      "\u001b[K     |██▋                             | 901kB 637kB/s eta 0:00:16\r",
      "\u001b[K     |██▋                             | 911kB 637kB/s eta 0:00:16\r",
      "\u001b[K     |██▋                             | 921kB 637kB/s eta 0:00:16\r",
      "\u001b[K     |██▊                             | 931kB 637kB/s eta 0:00:16\r",
      "\u001b[K     |██▊                             | 942kB 637kB/s eta 0:00:16\r",
      "\u001b[K     |██▊                             | 952kB 637kB/s eta 0:00:16\r",
      "\u001b[K     |██▉                             | 962kB 637kB/s eta 0:00:16\r",
      "\u001b[K     |██▉                             | 972kB 637kB/s eta 0:00:16\r",
      "\u001b[K     |██▉                             | 983kB 637kB/s eta 0:00:16\r",
      "\u001b[K     |██▉                             | 993kB 637kB/s eta 0:00:16\r",
      "\u001b[K     |███                             | 1.0MB 637kB/s eta 0:00:16\r",
      "\u001b[K     |███                             | 1.0MB 637kB/s eta 0:00:16\r",
      "\u001b[K     |███                             | 1.0MB 637kB/s eta 0:00:16\r",
      "\u001b[K     |███                             | 1.0MB 637kB/s eta 0:00:16\r",
      "\u001b[K     |███                             | 1.0MB 637kB/s eta 0:00:16\r",
      "\u001b[K     |███                             | 1.1MB 637kB/s eta 0:00:16\r",
      "\u001b[K     |███                             | 1.1MB 637kB/s eta 0:00:16\r",
      "\u001b[K     |███                             | 1.1MB 637kB/s eta 0:00:16\r",
      "\u001b[K     |███▏                            | 1.1MB 637kB/s eta 0:00:16\r",
      "\u001b[K     |███▏                            | 1.1MB 637kB/s eta 0:00:16\r",
      "\u001b[K     |███▏                            | 1.1MB 637kB/s eta 0:00:16"
     ]
    },
    {
     "name": "stdout",
     "output_type": "stream",
     "text": [
      "\r",
      "\u001b[K     |███▎                            | 1.1MB 637kB/s eta 0:00:16\r",
      "\u001b[K     |███▎                            | 1.1MB 637kB/s eta 0:00:16\r",
      "\u001b[K     |███▎                            | 1.1MB 637kB/s eta 0:00:16\r",
      "\u001b[K     |███▎                            | 1.1MB 637kB/s eta 0:00:16\r",
      "\u001b[K     |███▍                            | 1.2MB 637kB/s eta 0:00:16\r",
      "\u001b[K     |███▍                            | 1.2MB 637kB/s eta 0:00:16\r",
      "\u001b[K     |███▍                            | 1.2MB 637kB/s eta 0:00:16\r",
      "\u001b[K     |███▍                            | 1.2MB 637kB/s eta 0:00:16\r",
      "\u001b[K     |███▌                            | 1.2MB 637kB/s eta 0:00:16\r",
      "\u001b[K     |███▌                            | 1.2MB 637kB/s eta 0:00:16\r",
      "\u001b[K     |███▌                            | 1.2MB 637kB/s eta 0:00:16\r",
      "\u001b[K     |███▌                            | 1.2MB 637kB/s eta 0:00:16\r",
      "\u001b[K     |███▋                            | 1.2MB 637kB/s eta 0:00:16\r",
      "\u001b[K     |███▋                            | 1.2MB 637kB/s eta 0:00:16\r",
      "\u001b[K     |███▋                            | 1.3MB 637kB/s eta 0:00:16\r",
      "\u001b[K     |███▊                            | 1.3MB 637kB/s eta 0:00:16\r",
      "\u001b[K     |███▊                            | 1.3MB 637kB/s eta 0:00:16\r",
      "\u001b[K     |███▊                            | 1.3MB 637kB/s eta 0:00:16\r",
      "\u001b[K     |███▊                            | 1.3MB 637kB/s eta 0:00:16\r",
      "\u001b[K     |███▉                            | 1.3MB 637kB/s eta 0:00:16\r",
      "\u001b[K     |███▉                            | 1.3MB 637kB/s eta 0:00:16\r",
      "\u001b[K     |███▉                            | 1.3MB 637kB/s eta 0:00:16\r",
      "\u001b[K     |███▉                            | 1.3MB 637kB/s eta 0:00:16\r",
      "\u001b[K     |████                            | 1.4MB 637kB/s eta 0:00:16\r",
      "\u001b[K     |████                            | 1.4MB 637kB/s eta 0:00:16\r",
      "\u001b[K     |████                            | 1.4MB 637kB/s eta 0:00:16\r",
      "\u001b[K     |████                            | 1.4MB 637kB/s eta 0:00:16\r",
      "\u001b[K     |████                            | 1.4MB 637kB/s eta 0:00:16\r",
      "\u001b[K     |████                            | 1.4MB 637kB/s eta 0:00:16\r",
      "\u001b[K     |████                            | 1.4MB 637kB/s eta 0:00:16\r",
      "\u001b[K     |████▏                           | 1.4MB 637kB/s eta 0:00:16\r",
      "\u001b[K     |████▏                           | 1.4MB 637kB/s eta 0:00:16\r",
      "\u001b[K     |████▏                           | 1.4MB 637kB/s eta 0:00:16\r",
      "\u001b[K     |████▏                           | 1.5MB 637kB/s eta 0:00:16\r",
      "\u001b[K     |████▎                           | 1.5MB 637kB/s eta 0:00:16\r",
      "\u001b[K     |████▎                           | 1.5MB 637kB/s eta 0:00:16\r",
      "\u001b[K     |████▎                           | 1.5MB 637kB/s eta 0:00:16\r",
      "\u001b[K     |████▎                           | 1.5MB 637kB/s eta 0:00:16\r",
      "\u001b[K     |████▍                           | 1.5MB 637kB/s eta 0:00:15\r",
      "\u001b[K     |████▍                           | 1.5MB 637kB/s eta 0:00:15\r",
      "\u001b[K     |████▍                           | 1.5MB 637kB/s eta 0:00:15\r",
      "\u001b[K     |████▍                           | 1.5MB 637kB/s eta 0:00:15\r",
      "\u001b[K     |████▌                           | 1.5MB 637kB/s eta 0:00:15\r",
      "\u001b[K     |████▌                           | 1.6MB 637kB/s eta 0:00:15\r",
      "\u001b[K     |████▌                           | 1.6MB 637kB/s eta 0:00:15\r",
      "\u001b[K     |████▋                           | 1.6MB 637kB/s eta 0:00:15\r",
      "\u001b[K     |████▋                           | 1.6MB 637kB/s eta 0:00:15\r",
      "\u001b[K     |████▋                           | 1.6MB 637kB/s eta 0:00:15\r",
      "\u001b[K     |████▋                           | 1.6MB 637kB/s eta 0:00:15\r",
      "\u001b[K     |████▊                           | 1.6MB 637kB/s eta 0:00:15\r",
      "\u001b[K     |████▊                           | 1.6MB 637kB/s eta 0:00:15\r",
      "\u001b[K     |████▊                           | 1.6MB 637kB/s eta 0:00:15\r",
      "\u001b[K     |████▊                           | 1.6MB 637kB/s eta 0:00:15\r",
      "\u001b[K     |████▉                           | 1.7MB 637kB/s eta 0:00:15\r",
      "\u001b[K     |████▉                           | 1.7MB 637kB/s eta 0:00:15\r",
      "\u001b[K     |████▉                           | 1.7MB 637kB/s eta 0:00:15\r",
      "\u001b[K     |████▉                           | 1.7MB 637kB/s eta 0:00:15\r",
      "\u001b[K     |█████                           | 1.7MB 637kB/s eta 0:00:15\r",
      "\u001b[K     |█████                           | 1.7MB 637kB/s eta 0:00:15\r",
      "\u001b[K     |█████                           | 1.7MB 637kB/s eta 0:00:15\r",
      "\u001b[K     |█████                           | 1.7MB 637kB/s eta 0:00:15\r",
      "\u001b[K     |█████                           | 1.7MB 637kB/s eta 0:00:15\r",
      "\u001b[K     |█████                           | 1.8MB 637kB/s eta 0:00:15\r",
      "\u001b[K     |█████                           | 1.8MB 637kB/s eta 0:00:15\r",
      "\u001b[K     |█████▏                          | 1.8MB 637kB/s eta 0:00:15\r",
      "\u001b[K     |█████▏                          | 1.8MB 637kB/s eta 0:00:15\r",
      "\u001b[K     |█████▏                          | 1.8MB 637kB/s eta 0:00:15\r",
      "\u001b[K     |█████▏                          | 1.8MB 637kB/s eta 0:00:15\r",
      "\u001b[K     |█████▎                          | 1.8MB 637kB/s eta 0:00:15\r",
      "\u001b[K     |█████▎                          | 1.8MB 637kB/s eta 0:00:15\r",
      "\u001b[K     |█████▎                          | 1.8MB 637kB/s eta 0:00:15\r",
      "\u001b[K     |█████▎                          | 1.8MB 637kB/s eta 0:00:15\r",
      "\u001b[K     |█████▍                          | 1.9MB 637kB/s eta 0:00:15\r",
      "\u001b[K     |█████▍                          | 1.9MB 637kB/s eta 0:00:15\r",
      "\u001b[K     |█████▍                          | 1.9MB 637kB/s eta 0:00:15\r",
      "\u001b[K     |█████▍                          | 1.9MB 637kB/s eta 0:00:15\r",
      "\u001b[K     |█████▌                          | 1.9MB 637kB/s eta 0:00:15\r",
      "\u001b[K     |█████▌                          | 1.9MB 637kB/s eta 0:00:15\r",
      "\u001b[K     |█████▌                          | 1.9MB 637kB/s eta 0:00:15\r",
      "\u001b[K     |█████▋                          | 1.9MB 637kB/s eta 0:00:15\r",
      "\u001b[K     |█████▋                          | 1.9MB 637kB/s eta 0:00:15\r",
      "\u001b[K     |█████▋                          | 1.9MB 637kB/s eta 0:00:15\r",
      "\u001b[K     |█████▋                          | 2.0MB 637kB/s eta 0:00:15\r",
      "\u001b[K     |█████▊                          | 2.0MB 637kB/s eta 0:00:15\r",
      "\u001b[K     |█████▊                          | 2.0MB 637kB/s eta 0:00:15\r",
      "\u001b[K     |█████▊                          | 2.0MB 637kB/s eta 0:00:15\r",
      "\u001b[K     |█████▊                          | 2.0MB 637kB/s eta 0:00:15\r",
      "\u001b[K     |█████▉                          | 2.0MB 637kB/s eta 0:00:15\r",
      "\u001b[K     |█████▉                          | 2.0MB 637kB/s eta 0:00:15\r",
      "\u001b[K     |█████▉                          | 2.0MB 637kB/s eta 0:00:15\r",
      "\u001b[K     |█████▉                          | 2.0MB 637kB/s eta 0:00:15\r",
      "\u001b[K     |██████                          | 2.0MB 637kB/s eta 0:00:15\r",
      "\u001b[K     |██████                          | 2.1MB 637kB/s eta 0:00:15\r",
      "\u001b[K     |██████                          | 2.1MB 637kB/s eta 0:00:15\r",
      "\u001b[K     |██████                          | 2.1MB 637kB/s eta 0:00:15\r",
      "\u001b[K     |██████                          | 2.1MB 637kB/s eta 0:00:15\r",
      "\u001b[K     |██████                          | 2.1MB 637kB/s eta 0:00:15\r",
      "\u001b[K     |██████                          | 2.1MB 637kB/s eta 0:00:15\r",
      "\u001b[K     |██████▏                         | 2.1MB 637kB/s eta 0:00:15\r",
      "\u001b[K     |██████▏                         | 2.1MB 637kB/s eta 0:00:15\r",
      "\u001b[K     |██████▏                         | 2.1MB 637kB/s eta 0:00:15\r",
      "\u001b[K     |██████▏                         | 2.2MB 637kB/s eta 0:00:14\r",
      "\u001b[K     |██████▎                         | 2.2MB 637kB/s eta 0:00:14\r",
      "\u001b[K     |██████▎                         | 2.2MB 637kB/s eta 0:00:14\r",
      "\u001b[K     |██████▎                         | 2.2MB 637kB/s eta 0:00:14\r",
      "\u001b[K     |██████▎                         | 2.2MB 637kB/s eta 0:00:14\r",
      "\u001b[K     |██████▍                         | 2.2MB 637kB/s eta 0:00:14\r",
      "\u001b[K     |██████▍                         | 2.2MB 637kB/s eta 0:00:14\r",
      "\u001b[K     |██████▍                         | 2.2MB 637kB/s eta 0:00:14\r",
      "\u001b[K     |██████▌                         | 2.2MB 637kB/s eta 0:00:14\r",
      "\u001b[K     |██████▌                         | 2.2MB 637kB/s eta 0:00:14\r",
      "\u001b[K     |██████▌                         | 2.3MB 637kB/s eta 0:00:14"
     ]
    },
    {
     "name": "stdout",
     "output_type": "stream",
     "text": [
      "\r",
      "\u001b[K     |██████▌                         | 2.3MB 637kB/s eta 0:00:14\r",
      "\u001b[K     |██████▋                         | 2.3MB 637kB/s eta 0:00:14\r",
      "\u001b[K     |██████▋                         | 2.3MB 637kB/s eta 0:00:14\r",
      "\u001b[K     |██████▋                         | 2.3MB 637kB/s eta 0:00:14\r",
      "\u001b[K     |██████▋                         | 2.3MB 637kB/s eta 0:00:14\r",
      "\u001b[K     |██████▊                         | 2.3MB 637kB/s eta 0:00:14\r",
      "\u001b[K     |██████▊                         | 2.3MB 637kB/s eta 0:00:14\r",
      "\u001b[K     |██████▊                         | 2.3MB 637kB/s eta 0:00:14"
     ]
    },
    {
     "name": "stdout",
     "output_type": "stream",
     "text": [
      "\r",
      "\u001b[K     |██████▊                         | 2.3MB 637kB/s eta 0:00:14\r",
      "\u001b[K     |██████▉                         | 2.4MB 637kB/s eta 0:00:14\r",
      "\u001b[K     |██████▉                         | 2.4MB 637kB/s eta 0:00:14\r",
      "\u001b[K     |██████▉                         | 2.4MB 637kB/s eta 0:00:14\r",
      "\u001b[K     |███████                         | 2.4MB 637kB/s eta 0:00:14\r",
      "\u001b[K     |███████                         | 2.4MB 637kB/s eta 0:00:14\r",
      "\u001b[K     |███████                         | 2.4MB 637kB/s eta 0:00:14\r",
      "\u001b[K     |███████                         | 2.4MB 637kB/s eta 0:00:14\r",
      "\u001b[K     |███████                         | 2.4MB 637kB/s eta 0:00:14\r",
      "\u001b[K     |███████                         | 2.4MB 637kB/s eta 0:00:14\r",
      "\u001b[K     |███████                         | 2.4MB 637kB/s eta 0:00:14\r",
      "\u001b[K     |███████                         | 2.5MB 637kB/s eta 0:00:14\r",
      "\u001b[K     |███████▏                        | 2.5MB 637kB/s eta 0:00:14\r",
      "\u001b[K     |███████▏                        | 2.5MB 637kB/s eta 0:00:14\r",
      "\u001b[K     |███████▏                        | 2.5MB 637kB/s eta 0:00:14\r",
      "\u001b[K     |███████▏                        | 2.5MB 637kB/s eta 0:00:14\r",
      "\u001b[K     |███████▎                        | 2.5MB 637kB/s eta 0:00:14\r",
      "\u001b[K     |███████▎                        | 2.5MB 637kB/s eta 0:00:14\r",
      "\u001b[K     |███████▎                        | 2.5MB 637kB/s eta 0:00:14\r",
      "\u001b[K     |███████▍                        | 2.5MB 637kB/s eta 0:00:14\r",
      "\u001b[K     |███████▍                        | 2.5MB 637kB/s eta 0:00:14\r",
      "\u001b[K     |███████▍                        | 2.6MB 637kB/s eta 0:00:14\r",
      "\u001b[K     |███████▍                        | 2.6MB 637kB/s eta 0:00:14\r",
      "\u001b[K     |███████▌                        | 2.6MB 637kB/s eta 0:00:14\r",
      "\u001b[K     |███████▌                        | 2.6MB 637kB/s eta 0:00:14\r",
      "\u001b[K     |███████▌                        | 2.6MB 637kB/s eta 0:00:14\r",
      "\u001b[K     |███████▌                        | 2.6MB 637kB/s eta 0:00:14\r",
      "\u001b[K     |███████▋                        | 2.6MB 637kB/s eta 0:00:14\r",
      "\u001b[K     |███████▋                        | 2.6MB 637kB/s eta 0:00:14\r",
      "\u001b[K     |███████▋                        | 2.6MB 637kB/s eta 0:00:14\r",
      "\u001b[K     |███████▋                        | 2.7MB 637kB/s eta 0:00:14\r",
      "\u001b[K     |███████▊                        | 2.7MB 637kB/s eta 0:00:14\r",
      "\u001b[K     |███████▊                        | 2.7MB 637kB/s eta 0:00:14\r",
      "\u001b[K     |███████▊                        | 2.7MB 637kB/s eta 0:00:14\r",
      "\u001b[K     |███████▉                        | 2.7MB 637kB/s eta 0:00:14\r",
      "\u001b[K     |███████▉                        | 2.7MB 637kB/s eta 0:00:14\r",
      "\u001b[K     |███████▉                        | 2.7MB 637kB/s eta 0:00:14\r",
      "\u001b[K     |███████▉                        | 2.7MB 637kB/s eta 0:00:14\r",
      "\u001b[K     |████████                        | 2.7MB 637kB/s eta 0:00:14\r",
      "\u001b[K     |████████                        | 2.7MB 637kB/s eta 0:00:14\r",
      "\u001b[K     |████████                        | 2.8MB 637kB/s eta 0:00:14\r",
      "\u001b[K     |████████                        | 2.8MB 637kB/s eta 0:00:14\r",
      "\u001b[K     |████████                        | 2.8MB 637kB/s eta 0:00:14\r",
      "\u001b[K     |████████                        | 2.8MB 637kB/s eta 0:00:13\r",
      "\u001b[K     |████████                        | 2.8MB 637kB/s eta 0:00:13\r",
      "\u001b[K     |████████                        | 2.8MB 637kB/s eta 0:00:13\r",
      "\u001b[K     |████████▏                       | 2.8MB 637kB/s eta 0:00:13\r",
      "\u001b[K     |████████▏                       | 2.8MB 637kB/s eta 0:00:13\r",
      "\u001b[K     |████████▏                       | 2.8MB 637kB/s eta 0:00:13\r",
      "\u001b[K     |████████▎                       | 2.8MB 637kB/s eta 0:00:13\r",
      "\u001b[K     |████████▎                       | 2.9MB 637kB/s eta 0:00:13\r",
      "\u001b[K     |████████▎                       | 2.9MB 637kB/s eta 0:00:13\r",
      "\u001b[K     |████████▎                       | 2.9MB 637kB/s eta 0:00:13\r",
      "\u001b[K     |████████▍                       | 2.9MB 637kB/s eta 0:00:13\r",
      "\u001b[K     |████████▍                       | 2.9MB 637kB/s eta 0:00:13\r",
      "\u001b[K     |████████▍                       | 2.9MB 637kB/s eta 0:00:13\r",
      "\u001b[K     |████████▍                       | 2.9MB 637kB/s eta 0:00:13\r",
      "\u001b[K     |████████▌                       | 2.9MB 637kB/s eta 0:00:13\r",
      "\u001b[K     |████████▌                       | 2.9MB 637kB/s eta 0:00:13\r",
      "\u001b[K     |████████▌                       | 2.9MB 637kB/s eta 0:00:13\r",
      "\u001b[K     |████████▌                       | 3.0MB 637kB/s eta 0:00:13\r",
      "\u001b[K     |████████▋                       | 3.0MB 637kB/s eta 0:00:13\r",
      "\u001b[K     |████████▋                       | 3.0MB 637kB/s eta 0:00:13\r",
      "\u001b[K     |████████▋                       | 3.0MB 637kB/s eta 0:00:13\r",
      "\u001b[K     |████████▊                       | 3.0MB 637kB/s eta 0:00:13\r",
      "\u001b[K     |████████▊                       | 3.0MB 637kB/s eta 0:00:13\r",
      "\u001b[K     |████████▊                       | 3.0MB 637kB/s eta 0:00:13\r",
      "\u001b[K     |████████▊                       | 3.0MB 637kB/s eta 0:00:13\r",
      "\u001b[K     |████████▉                       | 3.0MB 637kB/s eta 0:00:13\r",
      "\u001b[K     |████████▉                       | 3.1MB 637kB/s eta 0:00:13\r",
      "\u001b[K     |████████▉                       | 3.1MB 637kB/s eta 0:00:13\r",
      "\u001b[K     |████████▉                       | 3.1MB 637kB/s eta 0:00:13\r",
      "\u001b[K     |█████████                       | 3.1MB 637kB/s eta 0:00:13\r",
      "\u001b[K     |█████████                       | 3.1MB 637kB/s eta 0:00:13\r",
      "\u001b[K     |█████████                       | 3.1MB 637kB/s eta 0:00:13\r",
      "\u001b[K     |█████████                       | 3.1MB 637kB/s eta 0:00:13\r",
      "\u001b[K     |█████████                       | 3.1MB 637kB/s eta 0:00:13\r",
      "\u001b[K     |█████████                       | 3.1MB 637kB/s eta 0:00:13\r",
      "\u001b[K     |█████████                       | 3.1MB 637kB/s eta 0:00:13\r",
      "\u001b[K     |█████████▏                      | 3.2MB 637kB/s eta 0:00:13\r",
      "\u001b[K     |█████████▏                      | 3.2MB 637kB/s eta 0:00:13\r",
      "\u001b[K     |█████████▏                      | 3.2MB 637kB/s eta 0:00:13\r",
      "\u001b[K     |█████████▏                      | 3.2MB 637kB/s eta 0:00:13\r",
      "\u001b[K     |█████████▎                      | 3.2MB 637kB/s eta 0:00:13\r",
      "\u001b[K     |█████████▎                      | 3.2MB 637kB/s eta 0:00:13\r",
      "\u001b[K     |█████████▎                      | 3.2MB 637kB/s eta 0:00:13\r",
      "\u001b[K     |█████████▎                      | 3.2MB 637kB/s eta 0:00:13\r",
      "\u001b[K     |█████████▍                      | 3.2MB 637kB/s eta 0:00:13\r",
      "\u001b[K     |█████████▍                      | 3.2MB 637kB/s eta 0:00:13\r",
      "\u001b[K     |█████████▍                      | 3.3MB 637kB/s eta 0:00:13\r",
      "\u001b[K     |█████████▍                      | 3.3MB 637kB/s eta 0:00:13\r",
      "\u001b[K     |█████████▌                      | 3.3MB 637kB/s eta 0:00:13\r",
      "\u001b[K     |█████████▌                      | 3.3MB 637kB/s eta 0:00:13\r",
      "\u001b[K     |█████████▌                      | 3.3MB 637kB/s eta 0:00:13\r",
      "\u001b[K     |█████████▋                      | 3.3MB 637kB/s eta 0:00:13\r",
      "\u001b[K     |█████████▋                      | 3.3MB 637kB/s eta 0:00:13\r",
      "\u001b[K     |█████████▋                      | 3.3MB 637kB/s eta 0:00:13\r",
      "\u001b[K     |█████████▋                      | 3.3MB 637kB/s eta 0:00:13\r",
      "\u001b[K     |█████████▊                      | 3.3MB 637kB/s eta 0:00:13\r",
      "\u001b[K     |█████████▊                      | 3.4MB 637kB/s eta 0:00:13\r",
      "\u001b[K     |█████████▊                      | 3.4MB 637kB/s eta 0:00:13\r",
      "\u001b[K     |█████████▊                      | 3.4MB 637kB/s eta 0:00:13\r",
      "\u001b[K     |█████████▉                      | 3.4MB 637kB/s eta 0:00:13\r",
      "\u001b[K     |█████████▉                      | 3.4MB 637kB/s eta 0:00:13\r",
      "\u001b[K     |█████████▉                      | 3.4MB 637kB/s eta 0:00:13\r",
      "\u001b[K     |█████████▉                      | 3.4MB 637kB/s eta 0:00:12\r",
      "\u001b[K     |██████████                      | 3.4MB 637kB/s eta 0:00:12\r",
      "\u001b[K     |██████████                      | 3.4MB 637kB/s eta 0:00:12\r",
      "\u001b[K     |██████████                      | 3.5MB 637kB/s eta 0:00:12\r",
      "\u001b[K     |██████████                      | 3.5MB 637kB/s eta 0:00:12\r",
      "\u001b[K     |██████████                      | 3.5MB 637kB/s eta 0:00:12\r",
      "\u001b[K     |██████████                      | 3.5MB 637kB/s eta 0:00:12\r",
      "\u001b[K     |██████████                      | 3.5MB 637kB/s eta 0:00:12\r",
      "\u001b[K     |██████████▏                     | 3.5MB 637kB/s eta 0:00:12\r",
      "\u001b[K     |██████████▏                     | 3.5MB 637kB/s eta 0:00:12\r",
      "\u001b[K     |██████████▏                     | 3.5MB 637kB/s eta 0:00:12\r",
      "\u001b[K     |██████████▏                     | 3.5MB 637kB/s eta 0:00:12\r",
      "\u001b[K     |██████████▎                     | 3.5MB 637kB/s eta 0:00:12\r",
      "\u001b[K     |██████████▎                     | 3.6MB 637kB/s eta 0:00:12\r",
      "\u001b[K     |██████████▎                     | 3.6MB 637kB/s eta 0:00:12\r",
      "\u001b[K     |██████████▎                     | 3.6MB 637kB/s eta 0:00:12\r",
      "\u001b[K     |██████████▍                     | 3.6MB 637kB/s eta 0:00:12\r",
      "\u001b[K     |██████████▍                     | 3.6MB 637kB/s eta 0:00:12\r",
      "\u001b[K     |██████████▍                     | 3.6MB 637kB/s eta 0:00:12\r",
      "\u001b[K     |██████████▌                     | 3.6MB 637kB/s eta 0:00:12\r",
      "\u001b[K     |██████████▌                     | 3.6MB 637kB/s eta 0:00:12\r",
      "\u001b[K     |██████████▌                     | 3.6MB 637kB/s eta 0:00:12\r",
      "\u001b[K     |██████████▌                     | 3.6MB 637kB/s eta 0:00:12\r",
      "\u001b[K     |██████████▋                     | 3.7MB 637kB/s eta 0:00:12\r",
      "\u001b[K     |██████████▋                     | 3.7MB 637kB/s eta 0:00:12\r",
      "\u001b[K     |██████████▋                     | 3.7MB 637kB/s eta 0:00:12\r",
      "\u001b[K     |██████████▋                     | 3.7MB 637kB/s eta 0:00:12\r",
      "\u001b[K     |██████████▊                     | 3.7MB 637kB/s eta 0:00:12\r",
      "\u001b[K     |██████████▊                     | 3.7MB 637kB/s eta 0:00:12\r",
      "\u001b[K     |██████████▊                     | 3.7MB 637kB/s eta 0:00:12\r",
      "\u001b[K     |██████████▊                     | 3.7MB 637kB/s eta 0:00:12\r",
      "\u001b[K     |██████████▉                     | 3.7MB 637kB/s eta 0:00:12\r",
      "\u001b[K     |██████████▉                     | 3.7MB 637kB/s eta 0:00:12\r",
      "\u001b[K     |██████████▉                     | 3.8MB 637kB/s eta 0:00:12\r",
      "\u001b[K     |██████████▉                     | 3.8MB 637kB/s eta 0:00:12\r",
      "\u001b[K     |███████████                     | 3.8MB 637kB/s eta 0:00:12\r",
      "\u001b[K     |███████████                     | 3.8MB 637kB/s eta 0:00:12\r",
      "\u001b[K     |███████████                     | 3.8MB 637kB/s eta 0:00:12\r",
      "\u001b[K     |███████████                     | 3.8MB 637kB/s eta 0:00:12\r",
      "\u001b[K     |███████████                     | 3.8MB 637kB/s eta 0:00:12"
     ]
    },
    {
     "name": "stdout",
     "output_type": "stream",
     "text": [
      "\r",
      "\u001b[K     |███████████                     | 3.8MB 637kB/s eta 0:00:12\r",
      "\u001b[K     |███████████                     | 3.8MB 637kB/s eta 0:00:12\r",
      "\u001b[K     |███████████▏                    | 3.9MB 637kB/s eta 0:00:12\r",
      "\u001b[K     |███████████▏                    | 3.9MB 637kB/s eta 0:00:12\r",
      "\u001b[K     |███████████▏                    | 3.9MB 637kB/s eta 0:00:12\r",
      "\u001b[K     |███████████▏                    | 3.9MB 637kB/s eta 0:00:12\r",
      "\u001b[K     |███████████▎                    | 3.9MB 637kB/s eta 0:00:12\r",
      "\u001b[K     |███████████▎                    | 3.9MB 637kB/s eta 0:00:12\r",
      "\u001b[K     |███████████▎                    | 3.9MB 637kB/s eta 0:00:12\r",
      "\u001b[K     |███████████▎                    | 3.9MB 637kB/s eta 0:00:12\r",
      "\u001b[K     |███████████▍                    | 3.9MB 637kB/s eta 0:00:12\r",
      "\u001b[K     |███████████▍                    | 3.9MB 637kB/s eta 0:00:12\r",
      "\u001b[K     |███████████▍                    | 4.0MB 637kB/s eta 0:00:12\r",
      "\u001b[K     |███████████▌                    | 4.0MB 637kB/s eta 0:00:12\r",
      "\u001b[K     |███████████▌                    | 4.0MB 637kB/s eta 0:00:12\r",
      "\u001b[K     |███████████▌                    | 4.0MB 637kB/s eta 0:00:12\r",
      "\u001b[K     |███████████▌                    | 4.0MB 637kB/s eta 0:00:12\r",
      "\u001b[K     |███████████▋                    | 4.0MB 637kB/s eta 0:00:12\r",
      "\u001b[K     |███████████▋                    | 4.0MB 637kB/s eta 0:00:12\r",
      "\u001b[K     |███████████▋                    | 4.0MB 637kB/s eta 0:00:12\r",
      "\u001b[K     |███████████▋                    | 4.0MB 637kB/s eta 0:00:12\r",
      "\u001b[K     |███████████▊                    | 4.0MB 637kB/s eta 0:00:12\r",
      "\u001b[K     |███████████▊                    | 4.1MB 637kB/s eta 0:00:12\r",
      "\u001b[K     |███████████▊                    | 4.1MB 637kB/s eta 0:00:11\r",
      "\u001b[K     |███████████▊                    | 4.1MB 637kB/s eta 0:00:11\r",
      "\u001b[K     |███████████▉                    | 4.1MB 637kB/s eta 0:00:11\r",
      "\u001b[K     |███████████▉                    | 4.1MB 637kB/s eta 0:00:11\r",
      "\u001b[K     |███████████▉                    | 4.1MB 637kB/s eta 0:00:11\r",
      "\u001b[K     |████████████                    | 4.1MB 637kB/s eta 0:00:11\r",
      "\u001b[K     |████████████                    | 4.1MB 637kB/s eta 0:00:11\r",
      "\u001b[K     |████████████                    | 4.1MB 637kB/s eta 0:00:11\r",
      "\u001b[K     |████████████                    | 4.1MB 637kB/s eta 0:00:11\r",
      "\u001b[K     |████████████                    | 4.2MB 637kB/s eta 0:00:11\r",
      "\u001b[K     |████████████                    | 4.2MB 637kB/s eta 0:00:11\r",
      "\u001b[K     |████████████                    | 4.2MB 637kB/s eta 0:00:11\r",
      "\u001b[K     |████████████                    | 4.2MB 637kB/s eta 0:00:11\r",
      "\u001b[K     |████████████▏                   | 4.2MB 637kB/s eta 0:00:11\r",
      "\u001b[K     |████████████▏                   | 4.2MB 637kB/s eta 0:00:11\r",
      "\u001b[K     |████████████▏                   | 4.2MB 637kB/s eta 0:00:11\r",
      "\u001b[K     |████████████▏                   | 4.2MB 637kB/s eta 0:00:11\r",
      "\u001b[K     |████████████▎                   | 4.2MB 637kB/s eta 0:00:11\r",
      "\u001b[K     |████████████▎                   | 4.2MB 637kB/s eta 0:00:11\r",
      "\u001b[K     |████████████▎                   | 4.3MB 637kB/s eta 0:00:11\r",
      "\u001b[K     |████████████▍                   | 4.3MB 637kB/s eta 0:00:11\r",
      "\u001b[K     |████████████▍                   | 4.3MB 637kB/s eta 0:00:11\r",
      "\u001b[K     |████████████▍                   | 4.3MB 637kB/s eta 0:00:11\r",
      "\u001b[K     |████████████▍                   | 4.3MB 637kB/s eta 0:00:11\r",
      "\u001b[K     |████████████▌                   | 4.3MB 637kB/s eta 0:00:11\r",
      "\u001b[K     |████████████▌                   | 4.3MB 637kB/s eta 0:00:11\r",
      "\u001b[K     |████████████▌                   | 4.3MB 637kB/s eta 0:00:11\r",
      "\u001b[K     |████████████▌                   | 4.3MB 637kB/s eta 0:00:11\r",
      "\u001b[K     |████████████▋                   | 4.4MB 637kB/s eta 0:00:11\r",
      "\u001b[K     |████████████▋                   | 4.4MB 637kB/s eta 0:00:11\r",
      "\u001b[K     |████████████▋                   | 4.4MB 637kB/s eta 0:00:11\r",
      "\u001b[K     |████████████▋                   | 4.4MB 637kB/s eta 0:00:11\r",
      "\u001b[K     |████████████▊                   | 4.4MB 637kB/s eta 0:00:11\r",
      "\u001b[K     |████████████▊                   | 4.4MB 637kB/s eta 0:00:11\r",
      "\u001b[K     |████████████▊                   | 4.4MB 637kB/s eta 0:00:11\r",
      "\u001b[K     |████████████▉                   | 4.4MB 637kB/s eta 0:00:11\r",
      "\u001b[K     |████████████▉                   | 4.4MB 637kB/s eta 0:00:11\r",
      "\u001b[K     |████████████▉                   | 4.4MB 637kB/s eta 0:00:11\r",
      "\u001b[K     |████████████▉                   | 4.5MB 637kB/s eta 0:00:11\r",
      "\u001b[K     |█████████████                   | 4.5MB 637kB/s eta 0:00:11\r",
      "\u001b[K     |█████████████                   | 4.5MB 637kB/s eta 0:00:11\r",
      "\u001b[K     |█████████████                   | 4.5MB 637kB/s eta 0:00:11\r",
      "\u001b[K     |█████████████                   | 4.5MB 637kB/s eta 0:00:11\r",
      "\u001b[K     |█████████████                   | 4.5MB 637kB/s eta 0:00:11\r",
      "\u001b[K     |█████████████                   | 4.5MB 637kB/s eta 0:00:11\r",
      "\u001b[K     |█████████████                   | 4.5MB 637kB/s eta 0:00:11\r",
      "\u001b[K     |█████████████                   | 4.5MB 637kB/s eta 0:00:11\r",
      "\u001b[K     |█████████████▏                  | 4.5MB 637kB/s eta 0:00:11\r",
      "\u001b[K     |█████████████▏                  | 4.6MB 637kB/s eta 0:00:11\r",
      "\u001b[K     |█████████████▏                  | 4.6MB 637kB/s eta 0:00:11\r",
      "\u001b[K     |█████████████▎                  | 4.6MB 637kB/s eta 0:00:11\r",
      "\u001b[K     |█████████████▎                  | 4.6MB 637kB/s eta 0:00:11\r",
      "\u001b[K     |█████████████▎                  | 4.6MB 637kB/s eta 0:00:11\r",
      "\u001b[K     |█████████████▎                  | 4.6MB 637kB/s eta 0:00:11\r",
      "\u001b[K     |█████████████▍                  | 4.6MB 637kB/s eta 0:00:11\r",
      "\u001b[K     |█████████████▍                  | 4.6MB 637kB/s eta 0:00:11\r",
      "\u001b[K     |█████████████▍                  | 4.6MB 637kB/s eta 0:00:11\r",
      "\u001b[K     |█████████████▍                  | 4.6MB 637kB/s eta 0:00:11\r",
      "\u001b[K     |█████████████▌                  | 4.7MB 637kB/s eta 0:00:11\r",
      "\u001b[K     |█████████████▌                  | 4.7MB 637kB/s eta 0:00:11\r",
      "\u001b[K     |█████████████▌                  | 4.7MB 637kB/s eta 0:00:11\r",
      "\u001b[K     |█████████████▌                  | 4.7MB 637kB/s eta 0:00:11\r",
      "\u001b[K     |█████████████▋                  | 4.7MB 637kB/s eta 0:00:10\r",
      "\u001b[K     |█████████████▋                  | 4.7MB 637kB/s eta 0:00:10\r",
      "\u001b[K     |█████████████▋                  | 4.7MB 637kB/s eta 0:00:10\r",
      "\u001b[K     |█████████████▊                  | 4.7MB 637kB/s eta 0:00:10\r",
      "\u001b[K     |█████████████▊                  | 4.7MB 637kB/s eta 0:00:10\r",
      "\u001b[K     |█████████████▊                  | 4.8MB 637kB/s eta 0:00:10\r",
      "\u001b[K     |█████████████▊                  | 4.8MB 637kB/s eta 0:00:10\r",
      "\u001b[K     |█████████████▉                  | 4.8MB 637kB/s eta 0:00:10\r",
      "\u001b[K     |█████████████▉                  | 4.8MB 637kB/s eta 0:00:10\r",
      "\u001b[K     |█████████████▉                  | 4.8MB 637kB/s eta 0:00:10\r",
      "\u001b[K     |█████████████▉                  | 4.8MB 637kB/s eta 0:00:10\r",
      "\u001b[K     |██████████████                  | 4.8MB 637kB/s eta 0:00:10\r",
      "\u001b[K     |██████████████                  | 4.8MB 637kB/s eta 0:00:10\r",
      "\u001b[K     |██████████████                  | 4.8MB 637kB/s eta 0:00:10\r",
      "\u001b[K     |██████████████                  | 4.8MB 637kB/s eta 0:00:10\r",
      "\u001b[K     |██████████████                  | 4.9MB 637kB/s eta 0:00:10\r",
      "\u001b[K     |██████████████                  | 4.9MB 637kB/s eta 0:00:10\r",
      "\u001b[K     |██████████████                  | 4.9MB 637kB/s eta 0:00:10\r",
      "\u001b[K     |██████████████▏                 | 4.9MB 637kB/s eta 0:00:10\r",
      "\u001b[K     |██████████████▏                 | 4.9MB 637kB/s eta 0:00:10\r",
      "\u001b[K     |██████████████▏                 | 4.9MB 637kB/s eta 0:00:10\r",
      "\u001b[K     |██████████████▏                 | 4.9MB 637kB/s eta 0:00:10\r",
      "\u001b[K     |██████████████▎                 | 4.9MB 637kB/s eta 0:00:10\r",
      "\u001b[K     |██████████████▎                 | 4.9MB 637kB/s eta 0:00:10\r",
      "\u001b[K     |██████████████▎                 | 4.9MB 637kB/s eta 0:00:10\r",
      "\u001b[K     |██████████████▎                 | 5.0MB 637kB/s eta 0:00:10\r",
      "\u001b[K     |██████████████▍                 | 5.0MB 637kB/s eta 0:00:10\r",
      "\u001b[K     |██████████████▍                 | 5.0MB 637kB/s eta 0:00:10\r",
      "\u001b[K     |██████████████▍                 | 5.0MB 637kB/s eta 0:00:10\r",
      "\u001b[K     |██████████████▍                 | 5.0MB 637kB/s eta 0:00:10\r",
      "\u001b[K     |██████████████▌                 | 5.0MB 637kB/s eta 0:00:10\r",
      "\u001b[K     |██████████████▌                 | 5.0MB 637kB/s eta 0:00:10\r",
      "\u001b[K     |██████████████▌                 | 5.0MB 637kB/s eta 0:00:10\r",
      "\u001b[K     |██████████████▋                 | 5.0MB 637kB/s eta 0:00:10\r",
      "\u001b[K     |██████████████▋                 | 5.0MB 637kB/s eta 0:00:10\r",
      "\u001b[K     |██████████████▋                 | 5.1MB 637kB/s eta 0:00:10\r",
      "\u001b[K     |██████████████▋                 | 5.1MB 637kB/s eta 0:00:10\r",
      "\u001b[K     |██████████████▊                 | 5.1MB 637kB/s eta 0:00:10\r",
      "\u001b[K     |██████████████▊                 | 5.1MB 637kB/s eta 0:00:10\r",
      "\u001b[K     |██████████████▊                 | 5.1MB 637kB/s eta 0:00:10\r",
      "\u001b[K     |██████████████▊                 | 5.1MB 637kB/s eta 0:00:10\r",
      "\u001b[K     |██████████████▉                 | 5.1MB 637kB/s eta 0:00:10\r",
      "\u001b[K     |██████████████▉                 | 5.1MB 637kB/s eta 0:00:10\r",
      "\u001b[K     |██████████████▉                 | 5.1MB 637kB/s eta 0:00:10\r",
      "\u001b[K     |██████████████▉                 | 5.2MB 637kB/s eta 0:00:10\r",
      "\u001b[K     |███████████████                 | 5.2MB 637kB/s eta 0:00:10\r",
      "\u001b[K     |███████████████                 | 5.2MB 637kB/s eta 0:00:10\r",
      "\u001b[K     |███████████████                 | 5.2MB 637kB/s eta 0:00:10\r",
      "\u001b[K     |███████████████                 | 5.2MB 637kB/s eta 0:00:10\r",
      "\u001b[K     |███████████████                 | 5.2MB 637kB/s eta 0:00:10\r",
      "\u001b[K     |███████████████                 | 5.2MB 637kB/s eta 0:00:10\r",
      "\u001b[K     |███████████████                 | 5.2MB 637kB/s eta 0:00:10\r",
      "\u001b[K     |███████████████▏                | 5.2MB 637kB/s eta 0:00:10\r",
      "\u001b[K     |███████████████▏                | 5.2MB 637kB/s eta 0:00:10\r",
      "\u001b[K     |███████████████▏                | 5.3MB 637kB/s eta 0:00:10\r",
      "\u001b[K     |███████████████▏                | 5.3MB 637kB/s eta 0:00:10\r",
      "\u001b[K     |███████████████▎                | 5.3MB 637kB/s eta 0:00:10\r",
      "\u001b[K     |███████████████▎                | 5.3MB 637kB/s eta 0:00:10\r",
      "\u001b[K     |███████████████▎                | 5.3MB 637kB/s eta 0:00:10\r",
      "\u001b[K     |███████████████▎                | 5.3MB 637kB/s eta 0:00:10\r",
      "\u001b[K     |███████████████▍                | 5.3MB 637kB/s eta 0:00:10\r",
      "\u001b[K     |███████████████▍                | 5.3MB 637kB/s eta 0:00:10\r",
      "\u001b[K     |███████████████▍                | 5.3MB 637kB/s eta 0:00:09\r",
      "\u001b[K     |███████████████▌                | 5.3MB 637kB/s eta 0:00:09"
     ]
    },
    {
     "name": "stdout",
     "output_type": "stream",
     "text": [
      "\r",
      "\u001b[K     |███████████████▌                | 5.4MB 637kB/s eta 0:00:09\r",
      "\u001b[K     |███████████████▌                | 5.4MB 637kB/s eta 0:00:09\r",
      "\u001b[K     |███████████████▌                | 5.4MB 637kB/s eta 0:00:09\r",
      "\u001b[K     |███████████████▋                | 5.4MB 637kB/s eta 0:00:09\r",
      "\u001b[K     |███████████████▋                | 5.4MB 637kB/s eta 0:00:09"
     ]
    },
    {
     "name": "stdout",
     "output_type": "stream",
     "text": [
      "\r",
      "\u001b[K     |███████████████▋                | 5.4MB 637kB/s eta 0:00:09\r",
      "\u001b[K     |███████████████▋                | 5.4MB 637kB/s eta 0:00:09\r",
      "\u001b[K     |███████████████▊                | 5.4MB 637kB/s eta 0:00:09\r",
      "\u001b[K     |███████████████▊                | 5.4MB 637kB/s eta 0:00:09\r",
      "\u001b[K     |███████████████▊                | 5.4MB 637kB/s eta 0:00:09\r",
      "\u001b[K     |███████████████▊                | 5.5MB 637kB/s eta 0:00:09\r",
      "\u001b[K     |███████████████▉                | 5.5MB 637kB/s eta 0:00:09\r",
      "\u001b[K     |███████████████▉                | 5.5MB 637kB/s eta 0:00:09\r",
      "\u001b[K     |███████████████▉                | 5.5MB 637kB/s eta 0:00:09\r",
      "\u001b[K     |████████████████                | 5.5MB 637kB/s eta 0:00:09\r",
      "\u001b[K     |████████████████                | 5.5MB 637kB/s eta 0:00:09\r",
      "\u001b[K     |████████████████                | 5.5MB 637kB/s eta 0:00:09\r",
      "\u001b[K     |████████████████                | 5.5MB 637kB/s eta 0:00:09\r",
      "\u001b[K     |████████████████                | 5.5MB 637kB/s eta 0:00:09\r",
      "\u001b[K     |████████████████                | 5.6MB 637kB/s eta 0:00:09\r",
      "\u001b[K     |████████████████                | 5.6MB 637kB/s eta 0:00:09\r",
      "\u001b[K     |████████████████                | 5.6MB 637kB/s eta 0:00:09\r",
      "\u001b[K     |████████████████▏               | 5.6MB 637kB/s eta 0:00:09\r",
      "\u001b[K     |████████████████▏               | 5.6MB 637kB/s eta 0:00:09\r",
      "\u001b[K     |████████████████▏               | 5.6MB 637kB/s eta 0:00:09\r",
      "\u001b[K     |████████████████▏               | 5.6MB 637kB/s eta 0:00:09\r",
      "\u001b[K     |████████████████▎               | 5.6MB 637kB/s eta 0:00:09\r",
      "\u001b[K     |████████████████▎               | 5.6MB 637kB/s eta 0:00:09\r",
      "\u001b[K     |████████████████▎               | 5.6MB 637kB/s eta 0:00:09\r",
      "\u001b[K     |████████████████▎               | 5.7MB 637kB/s eta 0:00:09\r",
      "\u001b[K     |████████████████▍               | 5.7MB 637kB/s eta 0:00:09\r",
      "\u001b[K     |████████████████▍               | 5.7MB 637kB/s eta 0:00:09\r",
      "\u001b[K     |████████████████▍               | 5.7MB 637kB/s eta 0:00:09\r",
      "\u001b[K     |████████████████▌               | 5.7MB 637kB/s eta 0:00:09\r",
      "\u001b[K     |████████████████▌               | 5.7MB 637kB/s eta 0:00:09\r",
      "\u001b[K     |████████████████▌               | 5.7MB 637kB/s eta 0:00:09\r",
      "\u001b[K     |████████████████▌               | 5.7MB 637kB/s eta 0:00:09\r",
      "\u001b[K     |████████████████▋               | 5.7MB 637kB/s eta 0:00:09\r",
      "\u001b[K     |████████████████▋               | 5.7MB 637kB/s eta 0:00:09\r",
      "\u001b[K     |████████████████▋               | 5.8MB 637kB/s eta 0:00:09\r",
      "\u001b[K     |████████████████▋               | 5.8MB 637kB/s eta 0:00:09\r",
      "\u001b[K     |████████████████▊               | 5.8MB 637kB/s eta 0:00:09\r",
      "\u001b[K     |████████████████▊               | 5.8MB 637kB/s eta 0:00:09\r",
      "\u001b[K     |████████████████▊               | 5.8MB 637kB/s eta 0:00:09\r",
      "\u001b[K     |████████████████▊               | 5.8MB 637kB/s eta 0:00:09\r",
      "\u001b[K     |████████████████▉               | 5.8MB 637kB/s eta 0:00:09\r",
      "\u001b[K     |████████████████▉               | 5.8MB 637kB/s eta 0:00:09\r",
      "\u001b[K     |████████████████▉               | 5.8MB 637kB/s eta 0:00:09\r",
      "\u001b[K     |█████████████████               | 5.8MB 637kB/s eta 0:00:09\r",
      "\u001b[K     |█████████████████               | 5.9MB 637kB/s eta 0:00:09\r",
      "\u001b[K     |█████████████████               | 5.9MB 637kB/s eta 0:00:09\r",
      "\u001b[K     |█████████████████               | 5.9MB 637kB/s eta 0:00:09\r",
      "\u001b[K     |█████████████████               | 5.9MB 637kB/s eta 0:00:09\r",
      "\u001b[K     |█████████████████               | 5.9MB 637kB/s eta 0:00:09\r",
      "\u001b[K     |█████████████████               | 5.9MB 637kB/s eta 0:00:09\r",
      "\u001b[K     |█████████████████               | 5.9MB 637kB/s eta 0:00:09\r",
      "\u001b[K     |█████████████████▏              | 5.9MB 637kB/s eta 0:00:09\r",
      "\u001b[K     |█████████████████▏              | 5.9MB 637kB/s eta 0:00:09\r",
      "\u001b[K     |█████████████████▏              | 5.9MB 637kB/s eta 0:00:09\r",
      "\u001b[K     |█████████████████▏              | 6.0MB 637kB/s eta 0:00:09\r",
      "\u001b[K     |█████████████████▎              | 6.0MB 637kB/s eta 0:00:09\r",
      "\u001b[K     |█████████████████▎              | 6.0MB 637kB/s eta 0:00:08\r",
      "\u001b[K     |█████████████████▎              | 6.0MB 637kB/s eta 0:00:08\r",
      "\u001b[K     |█████████████████▍              | 6.0MB 637kB/s eta 0:00:08\r",
      "\u001b[K     |█████████████████▍              | 6.0MB 637kB/s eta 0:00:08\r",
      "\u001b[K     |█████████████████▍              | 6.0MB 637kB/s eta 0:00:08\r",
      "\u001b[K     |█████████████████▍              | 6.0MB 637kB/s eta 0:00:08\r",
      "\u001b[K     |█████████████████▌              | 6.0MB 637kB/s eta 0:00:08\r",
      "\u001b[K     |█████████████████▌              | 6.1MB 637kB/s eta 0:00:08\r",
      "\u001b[K     |█████████████████▌              | 6.1MB 637kB/s eta 0:00:08\r",
      "\u001b[K     |█████████████████▌              | 6.1MB 637kB/s eta 0:00:08\r",
      "\u001b[K     |█████████████████▋              | 6.1MB 637kB/s eta 0:00:08\r",
      "\u001b[K     |█████████████████▋              | 6.1MB 637kB/s eta 0:00:08\r",
      "\u001b[K     |█████████████████▋              | 6.1MB 637kB/s eta 0:00:08\r",
      "\u001b[K     |█████████████████▋              | 6.1MB 637kB/s eta 0:00:08\r",
      "\u001b[K     |█████████████████▊              | 6.1MB 637kB/s eta 0:00:08\r",
      "\u001b[K     |█████████████████▊              | 6.1MB 637kB/s eta 0:00:08\r",
      "\u001b[K     |█████████████████▊              | 6.1MB 637kB/s eta 0:00:08\r",
      "\u001b[K     |█████████████████▉              | 6.2MB 637kB/s eta 0:00:08\r",
      "\u001b[K     |█████████████████▉              | 6.2MB 637kB/s eta 0:00:08\r",
      "\u001b[K     |█████████████████▉              | 6.2MB 637kB/s eta 0:00:08\r",
      "\u001b[K     |█████████████████▉              | 6.2MB 637kB/s eta 0:00:08\r",
      "\u001b[K     |██████████████████              | 6.2MB 637kB/s eta 0:00:08\r",
      "\u001b[K     |██████████████████              | 6.2MB 637kB/s eta 0:00:08\r",
      "\u001b[K     |██████████████████              | 6.2MB 637kB/s eta 0:00:08\r",
      "\u001b[K     |██████████████████              | 6.2MB 637kB/s eta 0:00:08\r",
      "\u001b[K     |██████████████████              | 6.2MB 637kB/s eta 0:00:08\r",
      "\u001b[K     |██████████████████              | 6.2MB 637kB/s eta 0:00:08\r",
      "\u001b[K     |██████████████████              | 6.3MB 637kB/s eta 0:00:08\r",
      "\u001b[K     |██████████████████              | 6.3MB 637kB/s eta 0:00:08\r",
      "\u001b[K     |██████████████████▏             | 6.3MB 637kB/s eta 0:00:08\r",
      "\u001b[K     |██████████████████▏             | 6.3MB 637kB/s eta 0:00:08\r",
      "\u001b[K     |██████████████████▏             | 6.3MB 637kB/s eta 0:00:08\r",
      "\u001b[K     |██████████████████▎             | 6.3MB 637kB/s eta 0:00:08\r",
      "\u001b[K     |██████████████████▎             | 6.3MB 637kB/s eta 0:00:08\r",
      "\u001b[K     |██████████████████▎             | 6.3MB 637kB/s eta 0:00:08\r",
      "\u001b[K     |██████████████████▎             | 6.3MB 637kB/s eta 0:00:08\r",
      "\u001b[K     |██████████████████▍             | 6.3MB 637kB/s eta 0:00:08\r",
      "\u001b[K     |██████████████████▍             | 6.4MB 637kB/s eta 0:00:08\r",
      "\u001b[K     |██████████████████▍             | 6.4MB 637kB/s eta 0:00:08\r",
      "\u001b[K     |██████████████████▍             | 6.4MB 637kB/s eta 0:00:08\r",
      "\u001b[K     |██████████████████▌             | 6.4MB 637kB/s eta 0:00:08\r",
      "\u001b[K     |██████████████████▌             | 6.4MB 637kB/s eta 0:00:08\r",
      "\u001b[K     |██████████████████▌             | 6.4MB 637kB/s eta 0:00:08\r",
      "\u001b[K     |██████████████████▌             | 6.4MB 637kB/s eta 0:00:08\r",
      "\u001b[K     |██████████████████▋             | 6.4MB 637kB/s eta 0:00:08\r",
      "\u001b[K     |██████████████████▋             | 6.4MB 637kB/s eta 0:00:08\r",
      "\u001b[K     |██████████████████▋             | 6.5MB 637kB/s eta 0:00:08\r",
      "\u001b[K     |██████████████████▊             | 6.5MB 637kB/s eta 0:00:08\r",
      "\u001b[K     |██████████████████▊             | 6.5MB 637kB/s eta 0:00:08\r",
      "\u001b[K     |██████████████████▊             | 6.5MB 637kB/s eta 0:00:08\r",
      "\u001b[K     |██████████████████▊             | 6.5MB 637kB/s eta 0:00:08\r",
      "\u001b[K     |██████████████████▉             | 6.5MB 637kB/s eta 0:00:08\r",
      "\u001b[K     |██████████████████▉             | 6.5MB 637kB/s eta 0:00:08\r",
      "\u001b[K     |██████████████████▉             | 6.5MB 637kB/s eta 0:00:08\r",
      "\u001b[K     |██████████████████▉             | 6.5MB 637kB/s eta 0:00:08\r",
      "\u001b[K     |███████████████████             | 6.5MB 637kB/s eta 0:00:08\r",
      "\u001b[K     |███████████████████             | 6.6MB 637kB/s eta 0:00:08\r",
      "\u001b[K     |███████████████████             | 6.6MB 637kB/s eta 0:00:08\r",
      "\u001b[K     |███████████████████             | 6.6MB 637kB/s eta 0:00:08\r",
      "\u001b[K     |███████████████████             | 6.6MB 637kB/s eta 0:00:08\r",
      "\u001b[K     |███████████████████             | 6.6MB 637kB/s eta 0:00:08\r",
      "\u001b[K     |███████████████████             | 6.6MB 637kB/s eta 0:00:08\r",
      "\u001b[K     |███████████████████▏            | 6.6MB 637kB/s eta 0:00:07\r",
      "\u001b[K     |███████████████████▏            | 6.6MB 637kB/s eta 0:00:07\r",
      "\u001b[K     |███████████████████▏            | 6.6MB 637kB/s eta 0:00:07\r",
      "\u001b[K     |███████████████████▏            | 6.6MB 637kB/s eta 0:00:07\r",
      "\u001b[K     |███████████████████▎            | 6.7MB 637kB/s eta 0:00:07\r",
      "\u001b[K     |███████████████████▎            | 6.7MB 637kB/s eta 0:00:07\r",
      "\u001b[K     |███████████████████▎            | 6.7MB 637kB/s eta 0:00:07\r",
      "\u001b[K     |███████████████████▎            | 6.7MB 637kB/s eta 0:00:07\r",
      "\u001b[K     |███████████████████▍            | 6.7MB 637kB/s eta 0:00:07\r",
      "\u001b[K     |███████████████████▍            | 6.7MB 637kB/s eta 0:00:07\r",
      "\u001b[K     |███████████████████▍            | 6.7MB 637kB/s eta 0:00:07\r",
      "\u001b[K     |███████████████████▍            | 6.7MB 637kB/s eta 0:00:07\r",
      "\u001b[K     |███████████████████▌            | 6.7MB 637kB/s eta 0:00:07\r",
      "\u001b[K     |███████████████████▌            | 6.7MB 637kB/s eta 0:00:07\r",
      "\u001b[K     |███████████████████▌            | 6.8MB 637kB/s eta 0:00:07\r",
      "\u001b[K     |███████████████████▋            | 6.8MB 637kB/s eta 0:00:07\r",
      "\u001b[K     |███████████████████▋            | 6.8MB 637kB/s eta 0:00:07\r",
      "\u001b[K     |███████████████████▋            | 6.8MB 637kB/s eta 0:00:07\r",
      "\u001b[K     |███████████████████▋            | 6.8MB 637kB/s eta 0:00:07\r",
      "\u001b[K     |███████████████████▊            | 6.8MB 637kB/s eta 0:00:07\r",
      "\u001b[K     |███████████████████▊            | 6.8MB 637kB/s eta 0:00:07\r",
      "\u001b[K     |███████████████████▊            | 6.8MB 637kB/s eta 0:00:07\r",
      "\u001b[K     |███████████████████▊            | 6.8MB 637kB/s eta 0:00:07\r",
      "\u001b[K     |███████████████████▉            | 6.9MB 637kB/s eta 0:00:07\r",
      "\u001b[K     |███████████████████▉            | 6.9MB 637kB/s eta 0:00:07\r",
      "\u001b[K     |███████████████████▉            | 6.9MB 637kB/s eta 0:00:07\r",
      "\u001b[K     |███████████████████▉            | 6.9MB 637kB/s eta 0:00:07\r",
      "\u001b[K     |████████████████████            | 6.9MB 637kB/s eta 0:00:07\r",
      "\u001b[K     |████████████████████            | 6.9MB 637kB/s eta 0:00:07\r",
      "\u001b[K     |████████████████████            | 6.9MB 637kB/s eta 0:00:07\r",
      "\u001b[K     |████████████████████            | 6.9MB 637kB/s eta 0:00:07"
     ]
    },
    {
     "name": "stdout",
     "output_type": "stream",
     "text": [
      "\r",
      "\u001b[K     |████████████████████            | 6.9MB 637kB/s eta 0:00:07\r",
      "\u001b[K     |████████████████████            | 6.9MB 637kB/s eta 0:00:07\r",
      "\u001b[K     |████████████████████            | 7.0MB 637kB/s eta 0:00:07\r",
      "\u001b[K     |████████████████████▏           | 7.0MB 637kB/s eta 0:00:07\r",
      "\u001b[K     |████████████████████▏           | 7.0MB 637kB/s eta 0:00:07\r",
      "\u001b[K     |████████████████████▏           | 7.0MB 637kB/s eta 0:00:07\r",
      "\u001b[K     |████████████████████▏           | 7.0MB 637kB/s eta 0:00:07\r",
      "\u001b[K     |████████████████████▎           | 7.0MB 637kB/s eta 0:00:07\r",
      "\u001b[K     |████████████████████▎           | 7.0MB 637kB/s eta 0:00:07\r",
      "\u001b[K     |████████████████████▎           | 7.0MB 637kB/s eta 0:00:07\r",
      "\u001b[K     |████████████████████▎           | 7.0MB 637kB/s eta 0:00:07\r",
      "\u001b[K     |████████████████████▍           | 7.0MB 637kB/s eta 0:00:07\r",
      "\u001b[K     |████████████████████▍           | 7.1MB 637kB/s eta 0:00:07\r",
      "\u001b[K     |████████████████████▍           | 7.1MB 637kB/s eta 0:00:07\r",
      "\u001b[K     |████████████████████▌           | 7.1MB 637kB/s eta 0:00:07\r",
      "\u001b[K     |████████████████████▌           | 7.1MB 637kB/s eta 0:00:07\r",
      "\u001b[K     |████████████████████▌           | 7.1MB 637kB/s eta 0:00:07\r",
      "\u001b[K     |████████████████████▌           | 7.1MB 637kB/s eta 0:00:07\r",
      "\u001b[K     |████████████████████▋           | 7.1MB 637kB/s eta 0:00:07\r",
      "\u001b[K     |████████████████████▋           | 7.1MB 637kB/s eta 0:00:07\r",
      "\u001b[K     |████████████████████▋           | 7.1MB 637kB/s eta 0:00:07\r",
      "\u001b[K     |████████████████████▋           | 7.1MB 637kB/s eta 0:00:07\r",
      "\u001b[K     |████████████████████▊           | 7.2MB 637kB/s eta 0:00:07\r",
      "\u001b[K     |████████████████████▊           | 7.2MB 637kB/s eta 0:00:07\r",
      "\u001b[K     |████████████████████▊           | 7.2MB 637kB/s eta 0:00:07\r",
      "\u001b[K     |████████████████████▊           | 7.2MB 637kB/s eta 0:00:07\r",
      "\u001b[K     |████████████████████▉           | 7.2MB 637kB/s eta 0:00:07\r",
      "\u001b[K     |████████████████████▉           | 7.2MB 637kB/s eta 0:00:07\r",
      "\u001b[K     |████████████████████▉           | 7.2MB 637kB/s eta 0:00:07\r",
      "\u001b[K     |█████████████████████           | 7.2MB 637kB/s eta 0:00:07\r",
      "\u001b[K     |█████████████████████           | 7.2MB 637kB/s eta 0:00:07\r",
      "\u001b[K     |█████████████████████           | 7.2MB 637kB/s eta 0:00:06\r",
      "\u001b[K     |█████████████████████           | 7.3MB 637kB/s eta 0:00:06\r",
      "\u001b[K     |█████████████████████           | 7.3MB 637kB/s eta 0:00:06\r",
      "\u001b[K     |█████████████████████           | 7.3MB 637kB/s eta 0:00:06\r",
      "\u001b[K     |█████████████████████           | 7.3MB 637kB/s eta 0:00:06\r",
      "\u001b[K     |█████████████████████           | 7.3MB 637kB/s eta 0:00:06\r",
      "\u001b[K     |█████████████████████▏          | 7.3MB 637kB/s eta 0:00:06\r",
      "\u001b[K     |█████████████████████▏          | 7.3MB 637kB/s eta 0:00:06\r",
      "\u001b[K     |█████████████████████▏          | 7.3MB 637kB/s eta 0:00:06\r",
      "\u001b[K     |█████████████████████▏          | 7.3MB 637kB/s eta 0:00:06\r",
      "\u001b[K     |█████████████████████▎          | 7.4MB 637kB/s eta 0:00:06\r",
      "\u001b[K     |█████████████████████▎          | 7.4MB 637kB/s eta 0:00:06\r",
      "\u001b[K     |█████████████████████▎          | 7.4MB 637kB/s eta 0:00:06\r",
      "\u001b[K     |█████████████████████▍          | 7.4MB 637kB/s eta 0:00:06\r",
      "\u001b[K     |█████████████████████▍          | 7.4MB 637kB/s eta 0:00:06\r",
      "\u001b[K     |█████████████████████▍          | 7.4MB 637kB/s eta 0:00:06\r",
      "\u001b[K     |█████████████████████▍          | 7.4MB 637kB/s eta 0:00:06\r",
      "\u001b[K     |█████████████████████▌          | 7.4MB 637kB/s eta 0:00:06\r",
      "\u001b[K     |█████████████████████▌          | 7.4MB 637kB/s eta 0:00:06\r",
      "\u001b[K     |█████████████████████▌          | 7.4MB 637kB/s eta 0:00:06\r",
      "\u001b[K     |█████████████████████▌          | 7.5MB 637kB/s eta 0:00:06\r",
      "\u001b[K     |█████████████████████▋          | 7.5MB 637kB/s eta 0:00:06\r",
      "\u001b[K     |█████████████████████▋          | 7.5MB 637kB/s eta 0:00:06\r",
      "\u001b[K     |█████████████████████▋          | 7.5MB 637kB/s eta 0:00:06\r",
      "\u001b[K     |█████████████████████▋          | 7.5MB 637kB/s eta 0:00:06\r",
      "\u001b[K     |█████████████████████▊          | 7.5MB 637kB/s eta 0:00:06\r",
      "\u001b[K     |█████████████████████▊          | 7.5MB 637kB/s eta 0:00:06\r",
      "\u001b[K     |█████████████████████▊          | 7.5MB 637kB/s eta 0:00:06\r",
      "\u001b[K     |█████████████████████▊          | 7.5MB 637kB/s eta 0:00:06\r",
      "\u001b[K     |█████████████████████▉          | 7.5MB 637kB/s eta 0:00:06\r",
      "\u001b[K     |█████████████████████▉          | 7.6MB 637kB/s eta 0:00:06\r",
      "\u001b[K     |█████████████████████▉          | 7.6MB 637kB/s eta 0:00:06\r",
      "\u001b[K     |██████████████████████          | 7.6MB 637kB/s eta 0:00:06\r",
      "\u001b[K     |██████████████████████          | 7.6MB 637kB/s eta 0:00:06\r",
      "\u001b[K     |██████████████████████          | 7.6MB 637kB/s eta 0:00:06\r",
      "\u001b[K     |██████████████████████          | 7.6MB 637kB/s eta 0:00:06\r",
      "\u001b[K     |██████████████████████          | 7.6MB 637kB/s eta 0:00:06\r",
      "\u001b[K     |██████████████████████          | 7.6MB 637kB/s eta 0:00:06\r",
      "\u001b[K     |██████████████████████          | 7.6MB 637kB/s eta 0:00:06\r",
      "\u001b[K     |██████████████████████          | 7.6MB 637kB/s eta 0:00:06\r",
      "\u001b[K     |██████████████████████▏         | 7.7MB 637kB/s eta 0:00:06\r",
      "\u001b[K     |██████████████████████▏         | 7.7MB 637kB/s eta 0:00:06\r",
      "\u001b[K     |██████████████████████▏         | 7.7MB 637kB/s eta 0:00:06\r",
      "\u001b[K     |██████████████████████▏         | 7.7MB 637kB/s eta 0:00:06\r",
      "\u001b[K     |██████████████████████▎         | 7.7MB 637kB/s eta 0:00:06\r",
      "\u001b[K     |██████████████████████▎         | 7.7MB 637kB/s eta 0:00:06\r",
      "\u001b[K     |██████████████████████▎         | 7.7MB 637kB/s eta 0:00:06\r",
      "\u001b[K     |██████████████████████▍         | 7.7MB 637kB/s eta 0:00:06\r",
      "\u001b[K     |██████████████████████▍         | 7.7MB 637kB/s eta 0:00:06\r",
      "\u001b[K     |██████████████████████▍         | 7.8MB 637kB/s eta 0:00:06\r",
      "\u001b[K     |██████████████████████▍         | 7.8MB 637kB/s eta 0:00:06\r",
      "\u001b[K     |██████████████████████▌         | 7.8MB 637kB/s eta 0:00:06\r",
      "\u001b[K     |██████████████████████▌         | 7.8MB 637kB/s eta 0:00:06\r",
      "\u001b[K     |██████████████████████▌         | 7.8MB 637kB/s eta 0:00:06\r",
      "\u001b[K     |██████████████████████▌         | 7.8MB 637kB/s eta 0:00:06\r",
      "\u001b[K     |██████████████████████▋         | 7.8MB 637kB/s eta 0:00:06\r",
      "\u001b[K     |██████████████████████▋         | 7.8MB 637kB/s eta 0:00:06\r",
      "\u001b[K     |██████████████████████▋         | 7.8MB 637kB/s eta 0:00:06\r",
      "\u001b[K     |██████████████████████▋         | 7.8MB 637kB/s eta 0:00:06\r",
      "\u001b[K     |██████████████████████▊         | 7.9MB 637kB/s eta 0:00:06\r",
      "\u001b[K     |██████████████████████▊         | 7.9MB 637kB/s eta 0:00:06\r",
      "\u001b[K     |██████████████████████▊         | 7.9MB 637kB/s eta 0:00:06\r",
      "\u001b[K     |██████████████████████▉         | 7.9MB 637kB/s eta 0:00:05\r",
      "\u001b[K     |██████████████████████▉         | 7.9MB 637kB/s eta 0:00:05\r",
      "\u001b[K     |██████████████████████▉         | 7.9MB 637kB/s eta 0:00:05\r",
      "\u001b[K     |██████████████████████▉         | 7.9MB 637kB/s eta 0:00:05\r",
      "\u001b[K     |███████████████████████         | 7.9MB 637kB/s eta 0:00:05\r",
      "\u001b[K     |███████████████████████         | 7.9MB 637kB/s eta 0:00:05\r",
      "\u001b[K     |███████████████████████         | 7.9MB 637kB/s eta 0:00:05\r",
      "\u001b[K     |███████████████████████         | 8.0MB 637kB/s eta 0:00:05\r",
      "\u001b[K     |███████████████████████         | 8.0MB 637kB/s eta 0:00:05\r",
      "\u001b[K     |███████████████████████         | 8.0MB 637kB/s eta 0:00:05\r",
      "\u001b[K     |███████████████████████         | 8.0MB 637kB/s eta 0:00:05\r",
      "\u001b[K     |███████████████████████         | 8.0MB 637kB/s eta 0:00:05\r",
      "\u001b[K     |███████████████████████▏        | 8.0MB 637kB/s eta 0:00:05\r",
      "\u001b[K     |███████████████████████▏        | 8.0MB 637kB/s eta 0:00:05\r",
      "\u001b[K     |███████████████████████▏        | 8.0MB 637kB/s eta 0:00:05\r",
      "\u001b[K     |███████████████████████▎        | 8.0MB 637kB/s eta 0:00:05\r",
      "\u001b[K     |███████████████████████▎        | 8.0MB 637kB/s eta 0:00:05\r",
      "\u001b[K     |███████████████████████▎        | 8.1MB 637kB/s eta 0:00:05\r",
      "\u001b[K     |███████████████████████▎        | 8.1MB 637kB/s eta 0:00:05\r",
      "\u001b[K     |███████████████████████▍        | 8.1MB 637kB/s eta 0:00:05\r",
      "\u001b[K     |███████████████████████▍        | 8.1MB 637kB/s eta 0:00:05\r",
      "\u001b[K     |███████████████████████▍        | 8.1MB 637kB/s eta 0:00:05\r",
      "\u001b[K     |███████████████████████▍        | 8.1MB 637kB/s eta 0:00:05\r",
      "\u001b[K     |███████████████████████▌        | 8.1MB 637kB/s eta 0:00:05\r",
      "\u001b[K     |███████████████████████▌        | 8.1MB 637kB/s eta 0:00:05\r",
      "\u001b[K     |███████████████████████▌        | 8.1MB 637kB/s eta 0:00:05\r",
      "\u001b[K     |███████████████████████▌        | 8.2MB 637kB/s eta 0:00:05\r",
      "\u001b[K     |███████████████████████▋        | 8.2MB 637kB/s eta 0:00:05\r",
      "\u001b[K     |███████████████████████▋        | 8.2MB 637kB/s eta 0:00:05\r",
      "\u001b[K     |███████████████████████▋        | 8.2MB 637kB/s eta 0:00:05\r",
      "\u001b[K     |███████████████████████▊        | 8.2MB 637kB/s eta 0:00:05\r",
      "\u001b[K     |███████████████████████▊        | 8.2MB 637kB/s eta 0:00:05\r",
      "\u001b[K     |███████████████████████▊        | 8.2MB 637kB/s eta 0:00:05\r",
      "\u001b[K     |███████████████████████▊        | 8.2MB 637kB/s eta 0:00:05\r",
      "\u001b[K     |███████████████████████▉        | 8.2MB 637kB/s eta 0:00:05\r",
      "\u001b[K     |███████████████████████▉        | 8.2MB 637kB/s eta 0:00:05\r",
      "\u001b[K     |███████████████████████▉        | 8.3MB 637kB/s eta 0:00:05\r",
      "\u001b[K     |███████████████████████▉        | 8.3MB 637kB/s eta 0:00:05\r",
      "\u001b[K     |████████████████████████        | 8.3MB 637kB/s eta 0:00:05\r",
      "\u001b[K     |████████████████████████        | 8.3MB 637kB/s eta 0:00:05\r",
      "\u001b[K     |████████████████████████        | 8.3MB 637kB/s eta 0:00:05\r",
      "\u001b[K     |████████████████████████        | 8.3MB 637kB/s eta 0:00:05\r",
      "\u001b[K     |████████████████████████        | 8.3MB 637kB/s eta 0:00:05\r",
      "\u001b[K     |████████████████████████        | 8.3MB 637kB/s eta 0:00:05\r",
      "\u001b[K     |████████████████████████        | 8.3MB 637kB/s eta 0:00:05\r",
      "\u001b[K     |████████████████████████▏       | 8.3MB 637kB/s eta 0:00:05\r",
      "\u001b[K     |████████████████████████▏       | 8.4MB 637kB/s eta 0:00:05\r",
      "\u001b[K     |████████████████████████▏       | 8.4MB 637kB/s eta 0:00:05\r",
      "\u001b[K     |████████████████████████▏       | 8.4MB 637kB/s eta 0:00:05\r",
      "\u001b[K     |████████████████████████▎       | 8.4MB 637kB/s eta 0:00:05\r",
      "\u001b[K     |████████████████████████▎       | 8.4MB 637kB/s eta 0:00:05\r",
      "\u001b[K     |████████████████████████▎       | 8.4MB 637kB/s eta 0:00:05\r",
      "\u001b[K     |████████████████████████▎       | 8.4MB 637kB/s eta 0:00:05\r",
      "\u001b[K     |████████████████████████▍       | 8.4MB 637kB/s eta 0:00:05\r",
      "\u001b[K     |████████████████████████▍       | 8.4MB 637kB/s eta 0:00:05\r",
      "\u001b[K     |████████████████████████▍       | 8.4MB 637kB/s eta 0:00:05\r",
      "\u001b[K     |████████████████████████▍       | 8.5MB 637kB/s eta 0:00:05\r",
      "\u001b[K     |████████████████████████▌       | 8.5MB 637kB/s eta 0:00:05\r",
      "\u001b[K     |████████████████████████▌       | 8.5MB 637kB/s eta 0:00:05"
     ]
    },
    {
     "name": "stdout",
     "output_type": "stream",
     "text": [
      "\r",
      "\u001b[K     |████████████████████████▌       | 8.5MB 637kB/s eta 0:00:05\r",
      "\u001b[K     |████████████████████████▋       | 8.5MB 637kB/s eta 0:00:05\r",
      "\u001b[K     |████████████████████████▋       | 8.5MB 637kB/s eta 0:00:05\r",
      "\u001b[K     |████████████████████████▋       | 8.5MB 637kB/s eta 0:00:05\r",
      "\u001b[K     |████████████████████████▋       | 8.5MB 637kB/s eta 0:00:04\r",
      "\u001b[K     |████████████████████████▊       | 8.5MB 637kB/s eta 0:00:04"
     ]
    },
    {
     "name": "stdout",
     "output_type": "stream",
     "text": [
      "\r",
      "\u001b[K     |████████████████████████▊       | 8.6MB 637kB/s eta 0:00:04\r",
      "\u001b[K     |████████████████████████▊       | 8.6MB 637kB/s eta 0:00:04\r",
      "\u001b[K     |████████████████████████▊       | 8.6MB 637kB/s eta 0:00:04\r",
      "\u001b[K     |████████████████████████▉       | 8.6MB 637kB/s eta 0:00:04\r",
      "\u001b[K     |████████████████████████▉       | 8.6MB 637kB/s eta 0:00:04\r",
      "\u001b[K     |████████████████████████▉       | 8.6MB 637kB/s eta 0:00:04\r",
      "\u001b[K     |████████████████████████▉       | 8.6MB 637kB/s eta 0:00:04\r",
      "\u001b[K     |█████████████████████████       | 8.6MB 637kB/s eta 0:00:04\r",
      "\u001b[K     |█████████████████████████       | 8.6MB 637kB/s eta 0:00:04\r",
      "\u001b[K     |█████████████████████████       | 8.6MB 637kB/s eta 0:00:04\r",
      "\u001b[K     |█████████████████████████       | 8.7MB 637kB/s eta 0:00:04\r",
      "\u001b[K     |█████████████████████████       | 8.7MB 637kB/s eta 0:00:04\r",
      "\u001b[K     |█████████████████████████       | 8.7MB 637kB/s eta 0:00:04\r",
      "\u001b[K     |█████████████████████████       | 8.7MB 637kB/s eta 0:00:04\r",
      "\u001b[K     |█████████████████████████▏      | 8.7MB 637kB/s eta 0:00:04\r",
      "\u001b[K     |█████████████████████████▏      | 8.7MB 637kB/s eta 0:00:04\r",
      "\u001b[K     |█████████████████████████▏      | 8.7MB 637kB/s eta 0:00:04\r",
      "\u001b[K     |█████████████████████████▏      | 8.7MB 637kB/s eta 0:00:04\r",
      "\u001b[K     |█████████████████████████▎      | 8.7MB 637kB/s eta 0:00:04\r",
      "\u001b[K     |█████████████████████████▎      | 8.7MB 637kB/s eta 0:00:04\r",
      "\u001b[K     |█████████████████████████▎      | 8.8MB 637kB/s eta 0:00:04\r",
      "\u001b[K     |█████████████████████████▎      | 8.8MB 637kB/s eta 0:00:04\r",
      "\u001b[K     |█████████████████████████▍      | 8.8MB 637kB/s eta 0:00:04\r",
      "\u001b[K     |█████████████████████████▍      | 8.8MB 637kB/s eta 0:00:04\r",
      "\u001b[K     |█████████████████████████▍      | 8.8MB 637kB/s eta 0:00:04\r",
      "\u001b[K     |█████████████████████████▌      | 8.8MB 637kB/s eta 0:00:04\r",
      "\u001b[K     |█████████████████████████▌      | 8.8MB 637kB/s eta 0:00:04\r",
      "\u001b[K     |█████████████████████████▌      | 8.8MB 637kB/s eta 0:00:04\r",
      "\u001b[K     |█████████████████████████▌      | 8.8MB 637kB/s eta 0:00:04\r",
      "\u001b[K     |█████████████████████████▋      | 8.8MB 637kB/s eta 0:00:04\r",
      "\u001b[K     |█████████████████████████▋      | 8.9MB 637kB/s eta 0:00:04\r",
      "\u001b[K     |█████████████████████████▋      | 8.9MB 637kB/s eta 0:00:04\r",
      "\u001b[K     |█████████████████████████▋      | 8.9MB 637kB/s eta 0:00:04\r",
      "\u001b[K     |█████████████████████████▊      | 8.9MB 637kB/s eta 0:00:04\r",
      "\u001b[K     |█████████████████████████▊      | 8.9MB 637kB/s eta 0:00:04\r",
      "\u001b[K     |█████████████████████████▊      | 8.9MB 637kB/s eta 0:00:04\r",
      "\u001b[K     |█████████████████████████▊      | 8.9MB 637kB/s eta 0:00:04\r",
      "\u001b[K     |█████████████████████████▉      | 8.9MB 637kB/s eta 0:00:04\r",
      "\u001b[K     |█████████████████████████▉      | 8.9MB 637kB/s eta 0:00:04\r",
      "\u001b[K     |█████████████████████████▉      | 8.9MB 637kB/s eta 0:00:04\r",
      "\u001b[K     |██████████████████████████      | 9.0MB 637kB/s eta 0:00:04\r",
      "\u001b[K     |██████████████████████████      | 9.0MB 637kB/s eta 0:00:04\r",
      "\u001b[K     |██████████████████████████      | 9.0MB 637kB/s eta 0:00:04\r",
      "\u001b[K     |██████████████████████████      | 9.0MB 637kB/s eta 0:00:04\r",
      "\u001b[K     |██████████████████████████      | 9.0MB 637kB/s eta 0:00:04\r",
      "\u001b[K     |██████████████████████████      | 9.0MB 637kB/s eta 0:00:04\r",
      "\u001b[K     |██████████████████████████      | 9.0MB 637kB/s eta 0:00:04\r",
      "\u001b[K     |██████████████████████████      | 9.0MB 637kB/s eta 0:00:04\r",
      "\u001b[K     |██████████████████████████▏     | 9.0MB 637kB/s eta 0:00:04\r",
      "\u001b[K     |██████████████████████████▏     | 9.1MB 637kB/s eta 0:00:04\r",
      "\u001b[K     |██████████████████████████▏     | 9.1MB 637kB/s eta 0:00:04\r",
      "\u001b[K     |██████████████████████████▏     | 9.1MB 637kB/s eta 0:00:04\r",
      "\u001b[K     |██████████████████████████▎     | 9.1MB 637kB/s eta 0:00:04\r",
      "\u001b[K     |██████████████████████████▎     | 9.1MB 637kB/s eta 0:00:04\r",
      "\u001b[K     |██████████████████████████▎     | 9.1MB 637kB/s eta 0:00:04\r",
      "\u001b[K     |██████████████████████████▍     | 9.1MB 637kB/s eta 0:00:04\r",
      "\u001b[K     |██████████████████████████▍     | 9.1MB 637kB/s eta 0:00:04\r",
      "\u001b[K     |██████████████████████████▍     | 9.1MB 637kB/s eta 0:00:04\r",
      "\u001b[K     |██████████████████████████▍     | 9.1MB 637kB/s eta 0:00:04\r",
      "\u001b[K     |██████████████████████████▌     | 9.2MB 637kB/s eta 0:00:04\r",
      "\u001b[K     |██████████████████████████▌     | 9.2MB 637kB/s eta 0:00:03\r",
      "\u001b[K     |██████████████████████████▌     | 9.2MB 637kB/s eta 0:00:03\r",
      "\u001b[K     |██████████████████████████▌     | 9.2MB 637kB/s eta 0:00:03\r",
      "\u001b[K     |██████████████████████████▋     | 9.2MB 637kB/s eta 0:00:03\r",
      "\u001b[K     |██████████████████████████▋     | 9.2MB 637kB/s eta 0:00:03\r",
      "\u001b[K     |██████████████████████████▋     | 9.2MB 637kB/s eta 0:00:03\r",
      "\u001b[K     |██████████████████████████▋     | 9.2MB 637kB/s eta 0:00:03\r",
      "\u001b[K     |██████████████████████████▊     | 9.2MB 637kB/s eta 0:00:03\r",
      "\u001b[K     |██████████████████████████▊     | 9.2MB 637kB/s eta 0:00:03\r",
      "\u001b[K     |██████████████████████████▊     | 9.3MB 637kB/s eta 0:00:03\r",
      "\u001b[K     |██████████████████████████▉     | 9.3MB 637kB/s eta 0:00:03\r",
      "\u001b[K     |██████████████████████████▉     | 9.3MB 637kB/s eta 0:00:03\r",
      "\u001b[K     |██████████████████████████▉     | 9.3MB 637kB/s eta 0:00:03\r",
      "\u001b[K     |██████████████████████████▉     | 9.3MB 637kB/s eta 0:00:03\r",
      "\u001b[K     |███████████████████████████     | 9.3MB 637kB/s eta 0:00:03\r",
      "\u001b[K     |███████████████████████████     | 9.3MB 637kB/s eta 0:00:03\r",
      "\u001b[K     |███████████████████████████     | 9.3MB 637kB/s eta 0:00:03\r",
      "\u001b[K     |███████████████████████████     | 9.3MB 637kB/s eta 0:00:03\r",
      "\u001b[K     |███████████████████████████     | 9.3MB 637kB/s eta 0:00:03\r",
      "\u001b[K     |███████████████████████████     | 9.4MB 637kB/s eta 0:00:03\r",
      "\u001b[K     |███████████████████████████     | 9.4MB 637kB/s eta 0:00:03\r",
      "\u001b[K     |███████████████████████████     | 9.4MB 637kB/s eta 0:00:03\r",
      "\u001b[K     |███████████████████████████▏    | 9.4MB 637kB/s eta 0:00:03\r",
      "\u001b[K     |███████████████████████████▏    | 9.4MB 637kB/s eta 0:00:03\r",
      "\u001b[K     |███████████████████████████▏    | 9.4MB 637kB/s eta 0:00:03\r",
      "\u001b[K     |███████████████████████████▏    | 9.4MB 637kB/s eta 0:00:03\r",
      "\u001b[K     |███████████████████████████▎    | 9.4MB 637kB/s eta 0:00:03\r",
      "\u001b[K     |███████████████████████████▎    | 9.4MB 637kB/s eta 0:00:03\r",
      "\u001b[K     |███████████████████████████▎    | 9.5MB 637kB/s eta 0:00:03\r",
      "\u001b[K     |███████████████████████████▍    | 9.5MB 637kB/s eta 0:00:03\r",
      "\u001b[K     |███████████████████████████▍    | 9.5MB 637kB/s eta 0:00:03\r",
      "\u001b[K     |███████████████████████████▍    | 9.5MB 637kB/s eta 0:00:03\r",
      "\u001b[K     |███████████████████████████▍    | 9.5MB 637kB/s eta 0:00:03\r",
      "\u001b[K     |███████████████████████████▌    | 9.5MB 637kB/s eta 0:00:03\r",
      "\u001b[K     |███████████████████████████▌    | 9.5MB 637kB/s eta 0:00:03\r",
      "\u001b[K     |███████████████████████████▌    | 9.5MB 637kB/s eta 0:00:03\r",
      "\u001b[K     |███████████████████████████▌    | 9.5MB 637kB/s eta 0:00:03\r",
      "\u001b[K     |███████████████████████████▋    | 9.5MB 637kB/s eta 0:00:03\r",
      "\u001b[K     |███████████████████████████▋    | 9.6MB 637kB/s eta 0:00:03\r",
      "\u001b[K     |███████████████████████████▋    | 9.6MB 637kB/s eta 0:00:03\r",
      "\u001b[K     |███████████████████████████▋    | 9.6MB 637kB/s eta 0:00:03\r",
      "\u001b[K     |███████████████████████████▊    | 9.6MB 637kB/s eta 0:00:03\r",
      "\u001b[K     |███████████████████████████▊    | 9.6MB 637kB/s eta 0:00:03\r",
      "\u001b[K     |███████████████████████████▊    | 9.6MB 637kB/s eta 0:00:03\r",
      "\u001b[K     |███████████████████████████▉    | 9.6MB 637kB/s eta 0:00:03\r",
      "\u001b[K     |███████████████████████████▉    | 9.6MB 637kB/s eta 0:00:03\r",
      "\u001b[K     |███████████████████████████▉    | 9.6MB 637kB/s eta 0:00:03\r",
      "\u001b[K     |███████████████████████████▉    | 9.6MB 637kB/s eta 0:00:03\r",
      "\u001b[K     |████████████████████████████    | 9.7MB 637kB/s eta 0:00:03\r",
      "\u001b[K     |████████████████████████████    | 9.7MB 637kB/s eta 0:00:03\r",
      "\u001b[K     |████████████████████████████    | 9.7MB 637kB/s eta 0:00:03\r",
      "\u001b[K     |████████████████████████████    | 9.7MB 637kB/s eta 0:00:03\r",
      "\u001b[K     |████████████████████████████    | 9.7MB 637kB/s eta 0:00:03\r",
      "\u001b[K     |████████████████████████████    | 9.7MB 637kB/s eta 0:00:03\r",
      "\u001b[K     |████████████████████████████    | 9.7MB 637kB/s eta 0:00:03\r",
      "\u001b[K     |████████████████████████████    | 9.7MB 637kB/s eta 0:00:03\r",
      "\u001b[K     |████████████████████████████▏   | 9.7MB 637kB/s eta 0:00:03\r",
      "\u001b[K     |████████████████████████████▏   | 9.7MB 637kB/s eta 0:00:03\r",
      "\u001b[K     |████████████████████████████▏   | 9.8MB 637kB/s eta 0:00:03\r",
      "\u001b[K     |████████████████████████████▎   | 9.8MB 637kB/s eta 0:00:03\r",
      "\u001b[K     |████████████████████████████▎   | 9.8MB 637kB/s eta 0:00:03\r",
      "\u001b[K     |████████████████████████████▎   | 9.8MB 637kB/s eta 0:00:03\r",
      "\u001b[K     |████████████████████████████▎   | 9.8MB 637kB/s eta 0:00:02\r",
      "\u001b[K     |████████████████████████████▍   | 9.8MB 637kB/s eta 0:00:02\r",
      "\u001b[K     |████████████████████████████▍   | 9.8MB 637kB/s eta 0:00:02\r",
      "\u001b[K     |████████████████████████████▍   | 9.8MB 637kB/s eta 0:00:02\r",
      "\u001b[K     |████████████████████████████▍   | 9.8MB 637kB/s eta 0:00:02\r",
      "\u001b[K     |████████████████████████████▌   | 9.9MB 637kB/s eta 0:00:02\r",
      "\u001b[K     |████████████████████████████▌   | 9.9MB 637kB/s eta 0:00:02\r",
      "\u001b[K     |████████████████████████████▌   | 9.9MB 637kB/s eta 0:00:02\r",
      "\u001b[K     |████████████████████████████▌   | 9.9MB 637kB/s eta 0:00:02\r",
      "\u001b[K     |████████████████████████████▋   | 9.9MB 637kB/s eta 0:00:02\r",
      "\u001b[K     |████████████████████████████▋   | 9.9MB 637kB/s eta 0:00:02\r",
      "\u001b[K     |████████████████████████████▋   | 9.9MB 637kB/s eta 0:00:02\r",
      "\u001b[K     |████████████████████████████▊   | 9.9MB 637kB/s eta 0:00:02\r",
      "\u001b[K     |████████████████████████████▊   | 9.9MB 637kB/s eta 0:00:02\r",
      "\u001b[K     |████████████████████████████▊   | 9.9MB 637kB/s eta 0:00:02\r",
      "\u001b[K     |████████████████████████████▊   | 10.0MB 637kB/s eta 0:00:02\r",
      "\u001b[K     |████████████████████████████▉   | 10.0MB 637kB/s eta 0:00:02\r",
      "\u001b[K     |████████████████████████████▉   | 10.0MB 637kB/s eta 0:00:02\r",
      "\u001b[K     |████████████████████████████▉   | 10.0MB 637kB/s eta 0:00:02\r",
      "\u001b[K     |████████████████████████████▉   | 10.0MB 637kB/s eta 0:00:02\r",
      "\u001b[K     |█████████████████████████████   | 10.0MB 637kB/s eta 0:00:02\r",
      "\u001b[K     |█████████████████████████████   | 10.0MB 637kB/s eta 0:00:02\r",
      "\u001b[K     |█████████████████████████████   | 10.0MB 637kB/s eta 0:00:02\r",
      "\u001b[K     |█████████████████████████████   | 10.0MB 637kB/s eta 0:00:02\r",
      "\u001b[K     |█████████████████████████████   | 10.0MB 637kB/s eta 0:00:02"
     ]
    },
    {
     "name": "stdout",
     "output_type": "stream",
     "text": [
      "\r",
      "\u001b[K     |█████████████████████████████   | 10.1MB 637kB/s eta 0:00:02\r",
      "\u001b[K     |█████████████████████████████   | 10.1MB 637kB/s eta 0:00:02\r",
      "\u001b[K     |█████████████████████████████▏  | 10.1MB 637kB/s eta 0:00:02\r",
      "\u001b[K     |█████████████████████████████▏  | 10.1MB 637kB/s eta 0:00:02\r",
      "\u001b[K     |█████████████████████████████▏  | 10.1MB 637kB/s eta 0:00:02\r",
      "\u001b[K     |█████████████████████████████▏  | 10.1MB 637kB/s eta 0:00:02\r",
      "\u001b[K     |█████████████████████████████▎  | 10.1MB 637kB/s eta 0:00:02\r",
      "\u001b[K     |█████████████████████████████▎  | 10.1MB 637kB/s eta 0:00:02\r",
      "\u001b[K     |█████████████████████████████▎  | 10.1MB 637kB/s eta 0:00:02\r",
      "\u001b[K     |█████████████████████████████▎  | 10.1MB 637kB/s eta 0:00:02\r",
      "\u001b[K     |█████████████████████████████▍  | 10.2MB 637kB/s eta 0:00:02\r",
      "\u001b[K     |█████████████████████████████▍  | 10.2MB 637kB/s eta 0:00:02\r",
      "\u001b[K     |█████████████████████████████▍  | 10.2MB 637kB/s eta 0:00:02\r",
      "\u001b[K     |█████████████████████████████▍  | 10.2MB 637kB/s eta 0:00:02\r",
      "\u001b[K     |█████████████████████████████▌  | 10.2MB 637kB/s eta 0:00:02\r",
      "\u001b[K     |█████████████████████████████▌  | 10.2MB 637kB/s eta 0:00:02\r",
      "\u001b[K     |█████████████████████████████▌  | 10.2MB 637kB/s eta 0:00:02\r",
      "\u001b[K     |█████████████████████████████▋  | 10.2MB 637kB/s eta 0:00:02\r",
      "\u001b[K     |█████████████████████████████▋  | 10.2MB 637kB/s eta 0:00:02\r",
      "\u001b[K     |█████████████████████████████▋  | 10.3MB 637kB/s eta 0:00:02\r",
      "\u001b[K     |█████████████████████████████▋  | 10.3MB 637kB/s eta 0:00:02\r",
      "\u001b[K     |█████████████████████████████▊  | 10.3MB 637kB/s eta 0:00:02\r",
      "\u001b[K     |█████████████████████████████▊  | 10.3MB 637kB/s eta 0:00:02\r",
      "\u001b[K     |█████████████████████████████▊  | 10.3MB 637kB/s eta 0:00:02\r",
      "\u001b[K     |█████████████████████████████▊  | 10.3MB 637kB/s eta 0:00:02\r",
      "\u001b[K     |█████████████████████████████▉  | 10.3MB 637kB/s eta 0:00:02\r",
      "\u001b[K     |█████████████████████████████▉  | 10.3MB 637kB/s eta 0:00:02\r",
      "\u001b[K     |█████████████████████████████▉  | 10.3MB 637kB/s eta 0:00:02\r",
      "\u001b[K     |█████████████████████████████▉  | 10.3MB 637kB/s eta 0:00:02\r",
      "\u001b[K     |██████████████████████████████  | 10.4MB 637kB/s eta 0:00:02\r",
      "\u001b[K     |██████████████████████████████  | 10.4MB 637kB/s eta 0:00:02\r",
      "\u001b[K     |██████████████████████████████  | 10.4MB 637kB/s eta 0:00:02\r",
      "\u001b[K     |██████████████████████████████  | 10.4MB 637kB/s eta 0:00:02\r",
      "\u001b[K     |██████████████████████████████  | 10.4MB 637kB/s eta 0:00:02\r",
      "\u001b[K     |██████████████████████████████  | 10.4MB 637kB/s eta 0:00:02\r",
      "\u001b[K     |██████████████████████████████  | 10.4MB 637kB/s eta 0:00:02\r",
      "\u001b[K     |██████████████████████████████▏ | 10.4MB 637kB/s eta 0:00:02\r",
      "\u001b[K     |██████████████████████████████▏ | 10.4MB 637kB/s eta 0:00:02\r",
      "\u001b[K     |██████████████████████████████▏ | 10.4MB 637kB/s eta 0:00:01\r",
      "\u001b[K     |██████████████████████████████▏ | 10.5MB 637kB/s eta 0:00:01\r",
      "\u001b[K     |██████████████████████████████▎ | 10.5MB 637kB/s eta 0:00:01\r",
      "\u001b[K     |██████████████████████████████▎ | 10.5MB 637kB/s eta 0:00:01\r",
      "\u001b[K     |██████████████████████████████▎ | 10.5MB 637kB/s eta 0:00:01\r",
      "\u001b[K     |██████████████████████████████▎ | 10.5MB 637kB/s eta 0:00:01\r",
      "\u001b[K     |██████████████████████████████▍ | 10.5MB 637kB/s eta 0:00:01\r",
      "\u001b[K     |██████████████████████████████▍ | 10.5MB 637kB/s eta 0:00:01\r",
      "\u001b[K     |██████████████████████████████▍ | 10.5MB 637kB/s eta 0:00:01\r",
      "\u001b[K     |██████████████████████████████▌ | 10.5MB 637kB/s eta 0:00:01\r",
      "\u001b[K     |██████████████████████████████▌ | 10.5MB 637kB/s eta 0:00:01\r",
      "\u001b[K     |██████████████████████████████▌ | 10.6MB 637kB/s eta 0:00:01\r",
      "\u001b[K     |██████████████████████████████▌ | 10.6MB 637kB/s eta 0:00:01\r",
      "\u001b[K     |██████████████████████████████▋ | 10.6MB 637kB/s eta 0:00:01\r",
      "\u001b[K     |██████████████████████████████▋ | 10.6MB 637kB/s eta 0:00:01\r",
      "\u001b[K     |██████████████████████████████▋ | 10.6MB 637kB/s eta 0:00:01\r",
      "\u001b[K     |██████████████████████████████▋ | 10.6MB 637kB/s eta 0:00:01\r",
      "\u001b[K     |██████████████████████████████▊ | 10.6MB 637kB/s eta 0:00:01\r",
      "\u001b[K     |██████████████████████████████▊ | 10.6MB 637kB/s eta 0:00:01"
     ]
    },
    {
     "name": "stdout",
     "output_type": "stream",
     "text": [
      "\r",
      "\u001b[K     |██████████████████████████████▊ | 10.6MB 637kB/s eta 0:00:01\r",
      "\u001b[K     |██████████████████████████████▊ | 10.6MB 637kB/s eta 0:00:01\r",
      "\u001b[K     |██████████████████████████████▉ | 10.7MB 637kB/s eta 0:00:01\r",
      "\u001b[K     |██████████████████████████████▉ | 10.7MB 637kB/s eta 0:00:01\r",
      "\u001b[K     |██████████████████████████████▉ | 10.7MB 637kB/s eta 0:00:01\r",
      "\u001b[K     |███████████████████████████████ | 10.7MB 637kB/s eta 0:00:01\r",
      "\u001b[K     |███████████████████████████████ | 10.7MB 637kB/s eta 0:00:01\r",
      "\u001b[K     |███████████████████████████████ | 10.7MB 637kB/s eta 0:00:01\r",
      "\u001b[K     |███████████████████████████████ | 10.7MB 637kB/s eta 0:00:01\r",
      "\u001b[K     |███████████████████████████████ | 10.7MB 637kB/s eta 0:00:01\r",
      "\u001b[K     |███████████████████████████████ | 10.7MB 637kB/s eta 0:00:01\r",
      "\u001b[K     |███████████████████████████████ | 10.8MB 637kB/s eta 0:00:01\r",
      "\u001b[K     |███████████████████████████████ | 10.8MB 637kB/s eta 0:00:01\r",
      "\u001b[K     |███████████████████████████████▏| 10.8MB 637kB/s eta 0:00:01\r",
      "\u001b[K     |███████████████████████████████▏| 10.8MB 637kB/s eta 0:00:01\r",
      "\u001b[K     |███████████████████████████████▏| 10.8MB 637kB/s eta 0:00:01\r",
      "\u001b[K     |███████████████████████████████▏| 10.8MB 637kB/s eta 0:00:01\r",
      "\u001b[K     |███████████████████████████████▎| 10.8MB 637kB/s eta 0:00:01\r",
      "\u001b[K     |███████████████████████████████▎| 10.8MB 637kB/s eta 0:00:01\r",
      "\u001b[K     |███████████████████████████████▎| 10.8MB 637kB/s eta 0:00:01\r",
      "\u001b[K     |███████████████████████████████▍| 10.8MB 637kB/s eta 0:00:01\r",
      "\u001b[K     |███████████████████████████████▍| 10.9MB 637kB/s eta 0:00:01\r",
      "\u001b[K     |███████████████████████████████▍| 10.9MB 637kB/s eta 0:00:01\r",
      "\u001b[K     |███████████████████████████████▍| 10.9MB 637kB/s eta 0:00:01\r",
      "\u001b[K     |███████████████████████████████▌| 10.9MB 637kB/s eta 0:00:01\r",
      "\u001b[K     |███████████████████████████████▌| 10.9MB 637kB/s eta 0:00:01\r",
      "\u001b[K     |███████████████████████████████▌| 10.9MB 637kB/s eta 0:00:01\r",
      "\u001b[K     |███████████████████████████████▌| 10.9MB 637kB/s eta 0:00:01\r",
      "\u001b[K     |███████████████████████████████▋| 10.9MB 637kB/s eta 0:00:01\r",
      "\u001b[K     |███████████████████████████████▋| 10.9MB 637kB/s eta 0:00:01\r",
      "\u001b[K     |███████████████████████████████▋| 10.9MB 637kB/s eta 0:00:01\r",
      "\u001b[K     |███████████████████████████████▋| 11.0MB 637kB/s eta 0:00:01\r",
      "\u001b[K     |███████████████████████████████▊| 11.0MB 637kB/s eta 0:00:01\r",
      "\u001b[K     |███████████████████████████████▊| 11.0MB 637kB/s eta 0:00:01\r",
      "\u001b[K     |███████████████████████████████▊| 11.0MB 637kB/s eta 0:00:01\r",
      "\u001b[K     |███████████████████████████████▉| 11.0MB 637kB/s eta 0:00:01\r",
      "\u001b[K     |███████████████████████████████▉| 11.0MB 637kB/s eta 0:00:01\r",
      "\u001b[K     |███████████████████████████████▉| 11.0MB 637kB/s eta 0:00:01\r",
      "\u001b[K     |███████████████████████████████▉| 11.0MB 637kB/s eta 0:00:01\r",
      "\u001b[K     |████████████████████████████████| 11.0MB 637kB/s eta 0:00:01\r",
      "\u001b[K     |████████████████████████████████| 11.0MB 637kB/s eta 0:00:01\r",
      "\u001b[K     |████████████████████████████████| 11.1MB 637kB/s eta 0:00:01\r",
      "\u001b[K     |████████████████████████████████| 11.1MB 637kB/s eta 0:00:01\r",
      "\u001b[K     |████████████████████████████████| 11.1MB 637kB/s \r\n"
     ]
    },
    {
     "name": "stdout",
     "output_type": "stream",
     "text": [
      "\u001b[?25hBuilding wheels for collected packages: en-core-web-sm\r\n"
     ]
    },
    {
     "name": "stdout",
     "output_type": "stream",
     "text": [
      "  Building wheel for en-core-web-sm (setup.py) ... \u001b[?25l-"
     ]
    },
    {
     "name": "stdout",
     "output_type": "stream",
     "text": [
      "\b \b\\"
     ]
    },
    {
     "name": "stdout",
     "output_type": "stream",
     "text": [
      "\b \b|"
     ]
    },
    {
     "name": "stdout",
     "output_type": "stream",
     "text": [
      "\b \b/"
     ]
    },
    {
     "name": "stdout",
     "output_type": "stream",
     "text": [
      "\b \b-"
     ]
    },
    {
     "name": "stdout",
     "output_type": "stream",
     "text": [
      "\b \bdone\r\n",
      "\u001b[?25h  Stored in directory: /tmp/pip-ephem-wheel-cache-2w6eyo6x/wheels/39/ea/3b/507f7df78be8631a7a3d7090962194cf55bc1158572c0be77f\r\n"
     ]
    },
    {
     "name": "stdout",
     "output_type": "stream",
     "text": [
      "Successfully built en-core-web-sm\r\n",
      "Installing collected packages: en-core-web-sm\r\n"
     ]
    },
    {
     "name": "stdout",
     "output_type": "stream",
     "text": [
      "Successfully installed en-core-web-sm-2.1.0\r\n"
     ]
    },
    {
     "name": "stdout",
     "output_type": "stream",
     "text": [
      "\u001b[33mWARNING: You are using pip version 19.1.1, however version 19.2.1 is available.\r\n",
      "You should consider upgrading via the 'pip install --upgrade pip' command.\u001b[0m\r\n",
      "\u001b[38;5;2m✔ Download and installation successful\u001b[0m\r\n",
      "You can now load the model via spacy.load('en_core_web_sm')\r\n"
     ]
    }
   ],
   "source": [
    "# Download the spaCy english model\n",
    "# If you see an error in the next cell, restart the kernel\n",
    "! python -m spacy download en_core_web_sm"
   ]
  },
  {
   "cell_type": "code",
   "execution_count": 33,
   "metadata": {},
   "outputs": [],
   "source": [
    "from snorkel.labeling.preprocess.nlp import SpacyPreprocessor\n",
    "\n",
    "# The SpacyPreprocessor parses the text in text_field and\n",
    "# stores the new enriched representation in doc_field\n",
    "spacy = SpacyPreprocessor(text_field=\"text\", doc_field=\"doc\", memoize=True)\n",
    "\n",
    "\n",
    "@labeling_function(preprocessors=[spacy])\n",
    "def has_person(x):\n",
    "    \"\"\"Ham comments mention specific people and are short.\"\"\"\n",
    "    if len(x.doc) < 20 and any([ent.label_ == \"PERSON\" for ent in x.doc.ents]):\n",
    "        return HAM\n",
    "    else:\n",
    "        return ABSTAIN"
   ]
  },
  {
   "cell_type": "markdown",
   "metadata": {},
   "source": [
    "Because spaCy is such a common preprocessor for NLP (Natural Language Processing) applications, we also provide an alias for a `labeling_function` that uses spaCy. This resulting LF is identical to the one defined manually above."
   ]
  },
  {
   "cell_type": "code",
   "execution_count": 34,
   "metadata": {},
   "outputs": [],
   "source": [
    "from snorkel.labeling.lf.nlp import nlp_labeling_function\n",
    "\n",
    "\n",
    "@nlp_labeling_function()\n",
    "def has_person_nlp(x):\n",
    "    \"\"\"Ham comments mention specific people and are short.\"\"\"\n",
    "    if len(x.doc) < 20 and any([ent.label_ == \"PERSON\" for ent in x.doc.ents]):\n",
    "        return HAM\n",
    "    else:\n",
    "        return ABSTAIN"
   ]
  },
  {
   "cell_type": "markdown",
   "metadata": {},
   "source": [
    "**Adding new domain-specific preprocessors and LF types is a great way to contribute to Snorkel!\n",
    "If you have an idea, feel free to reach out to the maintainers or submit a PR!**"
   ]
  },
  {
   "cell_type": "markdown",
   "metadata": {},
   "source": [
    "### v. Third-party Model LFs"
   ]
  },
  {
   "cell_type": "markdown",
   "metadata": {},
   "source": [
    "We can also utilize other models, including ones trained for other tasks that are related to, but not the same as, the one we care about.\n",
    "The TextBlob-based LFs we created above are great examples of this!"
   ]
  },
  {
   "cell_type": "markdown",
   "metadata": {},
   "source": [
    "### Applying our LFs"
   ]
  },
  {
   "cell_type": "markdown",
   "metadata": {},
   "source": [
    "This tutorial demonstrates just a handful of the types of LFs that one might write for this task.\n",
    "Many of these are no doubt suboptimal.\n",
    "The strength of this approach, however, is that the LF abstraction provides a flexible interface for conveying a huge variety of supervision signals, and the `LabelModel` is able to denoise these signals, reducing the need for painstaking manual fine-tuning."
   ]
  },
  {
   "cell_type": "code",
   "execution_count": 35,
   "metadata": {},
   "outputs": [],
   "source": [
    "lfs = [\n",
    "    keyword_my,\n",
    "    keyword_subscribe,\n",
    "    keyword_link,\n",
    "    keyword_please,\n",
    "    keyword_song,\n",
    "    regex_check_out,\n",
    "    short_comment,\n",
    "    has_person_nlp,\n",
    "    textblob_polarity,\n",
    "    textblob_subjectivity,\n",
    "]"
   ]
  },
  {
   "cell_type": "markdown",
   "metadata": {},
   "source": [
    "With our full set of LFs, we can now apply these once again with `LFApplier` to get our the label matrices for the `train` and `dev` splits.\n",
    "We'll use the `train` split's label matrix to generate training labels with the Label Model.\n",
    "The `dev` split's label model is primarily helpful for looking at summary statistics.\n",
    "\n",
    "The Pandas format provides an easy interface that many practioners are familiar with, but it is also less optimized for scale.\n",
    "For larger datasets, more compute-intensive LFs, or larger LF sets, you may decide to use one of the other data formats\n",
    "that Snorkel supports natively, such as Dask DataFrames or PySpark DataFrames, and their corresponding applier objects.\n",
    "For more info, check out the [Snorkel API documentation](https://snorkel.readthedocs.io/en/master/source/snorkel.labeling.apply.html)."
   ]
  },
  {
   "cell_type": "code",
   "execution_count": 36,
   "metadata": {},
   "outputs": [
    {
     "name": "stderr",
     "output_type": "stream",
     "text": [
      "\r",
      "  0%|          | 0/1586 [00:00<?, ?it/s]"
     ]
    },
    {
     "name": "stderr",
     "output_type": "stream",
     "text": [
      "\r",
      "  1%|          | 13/1586 [00:00<00:12, 128.49it/s]"
     ]
    },
    {
     "name": "stderr",
     "output_type": "stream",
     "text": [
      "\r",
      "  2%|▏         | 25/1586 [00:00<00:12, 121.00it/s]"
     ]
    },
    {
     "name": "stderr",
     "output_type": "stream",
     "text": [
      "\r",
      "  2%|▏         | 35/1586 [00:00<00:13, 113.19it/s]"
     ]
    },
    {
     "name": "stderr",
     "output_type": "stream",
     "text": [
      "\r",
      "  3%|▎         | 47/1586 [00:00<00:13, 114.48it/s]"
     ]
    },
    {
     "name": "stderr",
     "output_type": "stream",
     "text": [
      "\r",
      "  4%|▎         | 59/1586 [00:00<00:13, 115.77it/s]"
     ]
    },
    {
     "name": "stderr",
     "output_type": "stream",
     "text": [
      "\r",
      "  4%|▍         | 71/1586 [00:00<00:13, 115.77it/s]"
     ]
    },
    {
     "name": "stderr",
     "output_type": "stream",
     "text": [
      "\r",
      "  5%|▌         | 84/1586 [00:00<00:12, 118.23it/s]"
     ]
    },
    {
     "name": "stderr",
     "output_type": "stream",
     "text": [
      "\r",
      "  6%|▌         | 96/1586 [00:00<00:12, 117.27it/s]"
     ]
    },
    {
     "name": "stderr",
     "output_type": "stream",
     "text": [
      "\r",
      "  7%|▋         | 108/1586 [00:00<00:13, 112.13it/s]"
     ]
    },
    {
     "name": "stderr",
     "output_type": "stream",
     "text": [
      "\r",
      "  8%|▊         | 120/1586 [00:01<00:12, 113.66it/s]"
     ]
    },
    {
     "name": "stderr",
     "output_type": "stream",
     "text": [
      "\r",
      "  8%|▊         | 132/1586 [00:01<00:12, 112.94it/s]"
     ]
    },
    {
     "name": "stderr",
     "output_type": "stream",
     "text": [
      "\r",
      "  9%|▉         | 144/1586 [00:01<00:12, 113.19it/s]"
     ]
    },
    {
     "name": "stderr",
     "output_type": "stream",
     "text": [
      "\r",
      " 10%|▉         | 157/1586 [00:01<00:12, 117.75it/s]"
     ]
    },
    {
     "name": "stderr",
     "output_type": "stream",
     "text": [
      "\r",
      " 11%|█         | 170/1586 [00:01<00:11, 119.42it/s]"
     ]
    },
    {
     "name": "stderr",
     "output_type": "stream",
     "text": [
      "\r",
      " 11%|█▏        | 182/1586 [00:01<00:13, 106.05it/s]"
     ]
    },
    {
     "name": "stderr",
     "output_type": "stream",
     "text": [
      "\r",
      " 12%|█▏        | 194/1586 [00:01<00:12, 107.96it/s]"
     ]
    },
    {
     "name": "stderr",
     "output_type": "stream",
     "text": [
      "\r",
      " 13%|█▎        | 205/1586 [00:01<00:12, 108.47it/s]"
     ]
    },
    {
     "name": "stderr",
     "output_type": "stream",
     "text": [
      "\r",
      " 14%|█▎        | 218/1586 [00:01<00:12, 112.00it/s]"
     ]
    },
    {
     "name": "stderr",
     "output_type": "stream",
     "text": [
      "\r",
      " 15%|█▍        | 230/1586 [00:02<00:12, 112.86it/s]"
     ]
    },
    {
     "name": "stderr",
     "output_type": "stream",
     "text": [
      "\r",
      " 15%|█▌        | 242/1586 [00:02<00:11, 114.21it/s]"
     ]
    },
    {
     "name": "stderr",
     "output_type": "stream",
     "text": [
      "\r",
      " 16%|█▌        | 254/1586 [00:02<00:11, 113.14it/s]"
     ]
    },
    {
     "name": "stderr",
     "output_type": "stream",
     "text": [
      "\r",
      " 17%|█▋        | 266/1586 [00:02<00:11, 114.80it/s]"
     ]
    },
    {
     "name": "stderr",
     "output_type": "stream",
     "text": [
      "\r",
      " 18%|█▊        | 278/1586 [00:02<00:11, 115.75it/s]"
     ]
    },
    {
     "name": "stderr",
     "output_type": "stream",
     "text": [
      "\r",
      " 18%|█▊        | 290/1586 [00:02<00:11, 115.89it/s]"
     ]
    },
    {
     "name": "stderr",
     "output_type": "stream",
     "text": [
      "\r",
      " 19%|█▉        | 302/1586 [00:02<00:11, 111.97it/s]"
     ]
    },
    {
     "name": "stderr",
     "output_type": "stream",
     "text": [
      "\r",
      " 20%|█▉        | 314/1586 [00:02<00:11, 113.04it/s]"
     ]
    },
    {
     "name": "stderr",
     "output_type": "stream",
     "text": [
      "\r",
      " 21%|██        | 327/1586 [00:02<00:10, 116.79it/s]"
     ]
    },
    {
     "name": "stderr",
     "output_type": "stream",
     "text": [
      "\r",
      " 21%|██▏       | 340/1586 [00:02<00:10, 118.83it/s]"
     ]
    },
    {
     "name": "stderr",
     "output_type": "stream",
     "text": [
      "\r",
      " 22%|██▏       | 354/1586 [00:03<00:10, 122.24it/s]"
     ]
    },
    {
     "name": "stderr",
     "output_type": "stream",
     "text": [
      "\r",
      " 23%|██▎       | 367/1586 [00:03<00:10, 115.00it/s]"
     ]
    },
    {
     "name": "stderr",
     "output_type": "stream",
     "text": [
      "\r",
      " 24%|██▍       | 380/1586 [00:03<00:10, 116.71it/s]"
     ]
    },
    {
     "name": "stderr",
     "output_type": "stream",
     "text": [
      "\r",
      " 25%|██▍       | 392/1586 [00:03<00:10, 117.13it/s]"
     ]
    },
    {
     "name": "stderr",
     "output_type": "stream",
     "text": [
      "\r",
      " 25%|██▌       | 404/1586 [00:03<00:10, 108.44it/s]"
     ]
    },
    {
     "name": "stderr",
     "output_type": "stream",
     "text": [
      "\r",
      " 26%|██▌       | 416/1586 [00:03<00:10, 108.82it/s]"
     ]
    },
    {
     "name": "stderr",
     "output_type": "stream",
     "text": [
      "\r",
      " 27%|██▋       | 429/1586 [00:03<00:10, 112.49it/s]"
     ]
    },
    {
     "name": "stderr",
     "output_type": "stream",
     "text": [
      "\r",
      " 28%|██▊       | 441/1586 [00:03<00:10, 108.72it/s]"
     ]
    },
    {
     "name": "stderr",
     "output_type": "stream",
     "text": [
      "\r",
      " 29%|██▊       | 453/1586 [00:03<00:10, 109.88it/s]"
     ]
    },
    {
     "name": "stderr",
     "output_type": "stream",
     "text": [
      "\r",
      " 29%|██▉       | 465/1586 [00:04<00:10, 107.06it/s]"
     ]
    },
    {
     "name": "stderr",
     "output_type": "stream",
     "text": [
      "\r",
      " 30%|███       | 476/1586 [00:04<00:10, 107.10it/s]"
     ]
    },
    {
     "name": "stderr",
     "output_type": "stream",
     "text": [
      "\r",
      " 31%|███       | 487/1586 [00:04<00:10, 105.88it/s]"
     ]
    },
    {
     "name": "stderr",
     "output_type": "stream",
     "text": [
      "\r",
      " 31%|███▏      | 498/1586 [00:04<00:10, 104.01it/s]"
     ]
    },
    {
     "name": "stderr",
     "output_type": "stream",
     "text": [
      "\r",
      " 32%|███▏      | 510/1586 [00:04<00:09, 107.65it/s]"
     ]
    },
    {
     "name": "stderr",
     "output_type": "stream",
     "text": [
      "\r",
      " 33%|███▎      | 521/1586 [00:04<00:10, 105.71it/s]"
     ]
    },
    {
     "name": "stderr",
     "output_type": "stream",
     "text": [
      "\r",
      " 34%|███▎      | 532/1586 [00:04<00:09, 105.63it/s]"
     ]
    },
    {
     "name": "stderr",
     "output_type": "stream",
     "text": [
      "\r",
      " 34%|███▍      | 543/1586 [00:04<00:09, 105.49it/s]"
     ]
    },
    {
     "name": "stderr",
     "output_type": "stream",
     "text": [
      "\r",
      " 35%|███▌      | 556/1586 [00:04<00:09, 109.61it/s]"
     ]
    },
    {
     "name": "stderr",
     "output_type": "stream",
     "text": [
      "\r",
      " 36%|███▌      | 568/1586 [00:05<00:09, 108.94it/s]"
     ]
    },
    {
     "name": "stderr",
     "output_type": "stream",
     "text": [
      "\r",
      " 37%|███▋      | 580/1586 [00:05<00:09, 111.76it/s]"
     ]
    },
    {
     "name": "stderr",
     "output_type": "stream",
     "text": [
      "\r",
      " 37%|███▋      | 592/1586 [00:05<00:09, 110.03it/s]"
     ]
    },
    {
     "name": "stderr",
     "output_type": "stream",
     "text": [
      "\r",
      " 38%|███▊      | 604/1586 [00:05<00:08, 112.42it/s]"
     ]
    },
    {
     "name": "stderr",
     "output_type": "stream",
     "text": [
      "\r",
      " 39%|███▉      | 616/1586 [00:05<00:08, 111.10it/s]"
     ]
    },
    {
     "name": "stderr",
     "output_type": "stream",
     "text": [
      "\r",
      " 40%|███▉      | 629/1586 [00:05<00:08, 113.96it/s]"
     ]
    },
    {
     "name": "stderr",
     "output_type": "stream",
     "text": [
      "\r",
      " 40%|████      | 641/1586 [00:05<00:08, 113.52it/s]"
     ]
    },
    {
     "name": "stderr",
     "output_type": "stream",
     "text": [
      "\r",
      " 41%|████      | 653/1586 [00:05<00:08, 113.56it/s]"
     ]
    },
    {
     "name": "stderr",
     "output_type": "stream",
     "text": [
      "\r",
      " 42%|████▏     | 665/1586 [00:05<00:08, 111.63it/s]"
     ]
    },
    {
     "name": "stderr",
     "output_type": "stream",
     "text": [
      "\r",
      " 43%|████▎     | 677/1586 [00:06<00:08, 108.19it/s]"
     ]
    },
    {
     "name": "stderr",
     "output_type": "stream",
     "text": [
      "\r",
      " 43%|████▎     | 688/1586 [00:06<00:08, 107.91it/s]"
     ]
    },
    {
     "name": "stderr",
     "output_type": "stream",
     "text": [
      "\r",
      " 44%|████▍     | 699/1586 [00:06<00:08, 107.59it/s]"
     ]
    },
    {
     "name": "stderr",
     "output_type": "stream",
     "text": [
      "\r",
      " 45%|████▍     | 712/1586 [00:06<00:07, 113.41it/s]"
     ]
    },
    {
     "name": "stderr",
     "output_type": "stream",
     "text": [
      "\r",
      " 46%|████▌     | 724/1586 [00:06<00:07, 115.28it/s]"
     ]
    },
    {
     "name": "stderr",
     "output_type": "stream",
     "text": [
      "\r",
      " 47%|████▋     | 738/1586 [00:06<00:07, 118.11it/s]"
     ]
    },
    {
     "name": "stderr",
     "output_type": "stream",
     "text": [
      "\r",
      " 47%|████▋     | 751/1586 [00:06<00:06, 121.18it/s]"
     ]
    },
    {
     "name": "stderr",
     "output_type": "stream",
     "text": [
      "\r",
      " 48%|████▊     | 765/1586 [00:06<00:06, 124.51it/s]"
     ]
    },
    {
     "name": "stderr",
     "output_type": "stream",
     "text": [
      "\r",
      " 49%|████▉     | 779/1586 [00:06<00:06, 127.50it/s]"
     ]
    },
    {
     "name": "stderr",
     "output_type": "stream",
     "text": [
      "\r",
      " 50%|█████     | 793/1586 [00:06<00:06, 126.21it/s]"
     ]
    },
    {
     "name": "stderr",
     "output_type": "stream",
     "text": [
      "\r",
      " 51%|█████     | 806/1586 [00:07<00:06, 123.47it/s]"
     ]
    },
    {
     "name": "stderr",
     "output_type": "stream",
     "text": [
      "\r",
      " 52%|█████▏    | 820/1586 [00:07<00:06, 127.19it/s]"
     ]
    },
    {
     "name": "stderr",
     "output_type": "stream",
     "text": [
      "\r",
      " 53%|█████▎    | 834/1586 [00:07<00:05, 130.44it/s]"
     ]
    },
    {
     "name": "stderr",
     "output_type": "stream",
     "text": [
      "\r",
      " 53%|█████▎    | 848/1586 [00:07<00:05, 130.75it/s]"
     ]
    },
    {
     "name": "stderr",
     "output_type": "stream",
     "text": [
      "\r",
      " 54%|█████▍    | 862/1586 [00:07<00:05, 132.34it/s]"
     ]
    },
    {
     "name": "stderr",
     "output_type": "stream",
     "text": [
      "\r",
      " 55%|█████▌    | 876/1586 [00:07<00:05, 130.52it/s]"
     ]
    },
    {
     "name": "stderr",
     "output_type": "stream",
     "text": [
      "\r",
      " 56%|█████▌    | 890/1586 [00:07<00:05, 128.16it/s]"
     ]
    },
    {
     "name": "stderr",
     "output_type": "stream",
     "text": [
      "\r",
      " 57%|█████▋    | 903/1586 [00:07<00:05, 126.98it/s]"
     ]
    },
    {
     "name": "stderr",
     "output_type": "stream",
     "text": [
      "\r",
      " 58%|█████▊    | 916/1586 [00:07<00:05, 126.85it/s]"
     ]
    },
    {
     "name": "stderr",
     "output_type": "stream",
     "text": [
      "\r",
      " 59%|█████▊    | 930/1586 [00:08<00:05, 128.01it/s]"
     ]
    },
    {
     "name": "stderr",
     "output_type": "stream",
     "text": [
      "\r",
      " 59%|█████▉    | 943/1586 [00:08<00:05, 117.09it/s]"
     ]
    },
    {
     "name": "stderr",
     "output_type": "stream",
     "text": [
      "\r",
      " 60%|██████    | 957/1586 [00:08<00:05, 120.90it/s]"
     ]
    },
    {
     "name": "stderr",
     "output_type": "stream",
     "text": [
      "\r",
      " 61%|██████    | 970/1586 [00:08<00:05, 121.88it/s]"
     ]
    },
    {
     "name": "stderr",
     "output_type": "stream",
     "text": [
      "\r",
      " 62%|██████▏   | 983/1586 [00:08<00:05, 119.75it/s]"
     ]
    },
    {
     "name": "stderr",
     "output_type": "stream",
     "text": [
      "\r",
      " 63%|██████▎   | 996/1586 [00:08<00:04, 121.54it/s]"
     ]
    },
    {
     "name": "stderr",
     "output_type": "stream",
     "text": [
      "\r",
      " 64%|██████▎   | 1010/1586 [00:08<00:04, 125.51it/s]"
     ]
    },
    {
     "name": "stderr",
     "output_type": "stream",
     "text": [
      "\r",
      " 65%|██████▍   | 1023/1586 [00:08<00:04, 123.84it/s]"
     ]
    },
    {
     "name": "stderr",
     "output_type": "stream",
     "text": [
      "\r",
      " 65%|██████▌   | 1036/1586 [00:08<00:04, 124.60it/s]"
     ]
    },
    {
     "name": "stderr",
     "output_type": "stream",
     "text": [
      "\r",
      " 66%|██████▌   | 1049/1586 [00:09<00:04, 122.36it/s]"
     ]
    },
    {
     "name": "stderr",
     "output_type": "stream",
     "text": [
      "\r",
      " 67%|██████▋   | 1062/1586 [00:09<00:04, 124.29it/s]"
     ]
    },
    {
     "name": "stderr",
     "output_type": "stream",
     "text": [
      "\r",
      " 68%|██████▊   | 1075/1586 [00:09<00:04, 122.73it/s]"
     ]
    },
    {
     "name": "stderr",
     "output_type": "stream",
     "text": [
      "\r",
      " 69%|██████▊   | 1088/1586 [00:09<00:04, 121.21it/s]"
     ]
    },
    {
     "name": "stderr",
     "output_type": "stream",
     "text": [
      "\r",
      " 69%|██████▉   | 1101/1586 [00:09<00:03, 121.34it/s]"
     ]
    },
    {
     "name": "stderr",
     "output_type": "stream",
     "text": [
      "\r",
      " 70%|███████   | 1114/1586 [00:09<00:04, 114.94it/s]"
     ]
    },
    {
     "name": "stderr",
     "output_type": "stream",
     "text": [
      "\r",
      " 71%|███████   | 1126/1586 [00:09<00:03, 115.94it/s]"
     ]
    },
    {
     "name": "stderr",
     "output_type": "stream",
     "text": [
      "\r",
      " 72%|███████▏  | 1140/1586 [00:09<00:03, 120.98it/s]"
     ]
    },
    {
     "name": "stderr",
     "output_type": "stream",
     "text": [
      "\r",
      " 73%|███████▎  | 1153/1586 [00:09<00:03, 118.87it/s]"
     ]
    },
    {
     "name": "stderr",
     "output_type": "stream",
     "text": [
      "\r",
      " 73%|███████▎  | 1165/1586 [00:10<00:03, 113.65it/s]"
     ]
    },
    {
     "name": "stderr",
     "output_type": "stream",
     "text": [
      "\r",
      " 74%|███████▍  | 1178/1586 [00:10<00:03, 113.50it/s]"
     ]
    },
    {
     "name": "stderr",
     "output_type": "stream",
     "text": [
      "\r",
      " 75%|███████▌  | 1190/1586 [00:10<00:03, 115.23it/s]"
     ]
    },
    {
     "name": "stderr",
     "output_type": "stream",
     "text": [
      "\r",
      " 76%|███████▌  | 1202/1586 [00:10<00:03, 113.60it/s]"
     ]
    },
    {
     "name": "stderr",
     "output_type": "stream",
     "text": [
      "\r",
      " 77%|███████▋  | 1214/1586 [00:10<00:03, 112.79it/s]"
     ]
    },
    {
     "name": "stderr",
     "output_type": "stream",
     "text": [
      "\r",
      " 77%|███████▋  | 1227/1586 [00:10<00:03, 115.41it/s]"
     ]
    },
    {
     "name": "stderr",
     "output_type": "stream",
     "text": [
      "\r",
      " 78%|███████▊  | 1239/1586 [00:10<00:03, 110.43it/s]"
     ]
    },
    {
     "name": "stderr",
     "output_type": "stream",
     "text": [
      "\r",
      " 79%|███████▉  | 1251/1586 [00:10<00:02, 112.19it/s]"
     ]
    },
    {
     "name": "stderr",
     "output_type": "stream",
     "text": [
      "\r",
      " 80%|███████▉  | 1263/1586 [00:10<00:02, 108.79it/s]"
     ]
    },
    {
     "name": "stderr",
     "output_type": "stream",
     "text": [
      "\r",
      " 80%|████████  | 1276/1586 [00:11<00:02, 111.48it/s]"
     ]
    },
    {
     "name": "stderr",
     "output_type": "stream",
     "text": [
      "\r",
      " 81%|████████  | 1288/1586 [00:11<00:02, 107.81it/s]"
     ]
    },
    {
     "name": "stderr",
     "output_type": "stream",
     "text": [
      "\r",
      " 82%|████████▏ | 1299/1586 [00:11<00:02, 106.85it/s]"
     ]
    },
    {
     "name": "stderr",
     "output_type": "stream",
     "text": [
      "\r",
      " 83%|████████▎ | 1310/1586 [00:11<00:02, 103.97it/s]"
     ]
    },
    {
     "name": "stderr",
     "output_type": "stream",
     "text": [
      "\r",
      " 83%|████████▎ | 1323/1586 [00:11<00:02, 109.94it/s]"
     ]
    },
    {
     "name": "stderr",
     "output_type": "stream",
     "text": [
      "\r",
      " 84%|████████▍ | 1335/1586 [00:11<00:02, 112.66it/s]"
     ]
    },
    {
     "name": "stderr",
     "output_type": "stream",
     "text": [
      "\r",
      " 85%|████████▍ | 1347/1586 [00:11<00:02, 113.87it/s]"
     ]
    },
    {
     "name": "stderr",
     "output_type": "stream",
     "text": [
      "\r",
      " 86%|████████▌ | 1359/1586 [00:11<00:01, 114.90it/s]"
     ]
    },
    {
     "name": "stderr",
     "output_type": "stream",
     "text": [
      "\r",
      " 87%|████████▋ | 1372/1586 [00:11<00:01, 117.04it/s]"
     ]
    },
    {
     "name": "stderr",
     "output_type": "stream",
     "text": [
      "\r",
      " 87%|████████▋ | 1384/1586 [00:11<00:01, 116.34it/s]"
     ]
    },
    {
     "name": "stderr",
     "output_type": "stream",
     "text": [
      "\r",
      " 88%|████████▊ | 1396/1586 [00:12<00:01, 116.09it/s]"
     ]
    },
    {
     "name": "stderr",
     "output_type": "stream",
     "text": [
      "\r",
      " 89%|████████▉ | 1409/1586 [00:12<00:01, 118.45it/s]"
     ]
    },
    {
     "name": "stderr",
     "output_type": "stream",
     "text": [
      "\r",
      " 90%|████████▉ | 1421/1586 [00:12<00:01, 118.64it/s]"
     ]
    },
    {
     "name": "stderr",
     "output_type": "stream",
     "text": [
      "\r",
      " 90%|█████████ | 1433/1586 [00:12<00:01, 116.52it/s]"
     ]
    },
    {
     "name": "stderr",
     "output_type": "stream",
     "text": [
      "\r",
      " 91%|█████████ | 1445/1586 [00:12<00:01, 108.81it/s]"
     ]
    },
    {
     "name": "stderr",
     "output_type": "stream",
     "text": [
      "\r",
      " 92%|█████████▏| 1457/1586 [00:12<00:01, 111.07it/s]"
     ]
    },
    {
     "name": "stderr",
     "output_type": "stream",
     "text": [
      "\r",
      " 93%|█████████▎| 1469/1586 [00:12<00:01, 109.12it/s]"
     ]
    },
    {
     "name": "stderr",
     "output_type": "stream",
     "text": [
      "\r",
      " 93%|█████████▎| 1481/1586 [00:12<00:00, 107.76it/s]"
     ]
    },
    {
     "name": "stderr",
     "output_type": "stream",
     "text": [
      "\r",
      " 94%|█████████▍| 1492/1586 [00:12<00:00, 101.95it/s]"
     ]
    },
    {
     "name": "stderr",
     "output_type": "stream",
     "text": [
      "\r",
      " 95%|█████████▍| 1504/1586 [00:13<00:00, 104.61it/s]"
     ]
    },
    {
     "name": "stderr",
     "output_type": "stream",
     "text": [
      "\r",
      " 96%|█████████▌| 1515/1586 [00:13<00:00, 102.26it/s]"
     ]
    },
    {
     "name": "stderr",
     "output_type": "stream",
     "text": [
      "\r",
      " 96%|█████████▋| 1527/1586 [00:13<00:00, 105.80it/s]"
     ]
    },
    {
     "name": "stderr",
     "output_type": "stream",
     "text": [
      "\r",
      " 97%|█████████▋| 1540/1586 [00:13<00:00, 112.01it/s]"
     ]
    },
    {
     "name": "stderr",
     "output_type": "stream",
     "text": [
      "\r",
      " 98%|█████████▊| 1552/1586 [00:13<00:00, 112.55it/s]"
     ]
    },
    {
     "name": "stderr",
     "output_type": "stream",
     "text": [
      "\r",
      " 99%|█████████▊| 1564/1586 [00:13<00:00, 106.87it/s]"
     ]
    },
    {
     "name": "stderr",
     "output_type": "stream",
     "text": [
      "\r",
      " 99%|█████████▉| 1578/1586 [00:13<00:00, 113.35it/s]"
     ]
    },
    {
     "name": "stderr",
     "output_type": "stream",
     "text": [
      "\r",
      "100%|██████████| 1586/1586 [00:13<00:00, 114.79it/s]"
     ]
    },
    {
     "name": "stderr",
     "output_type": "stream",
     "text": [
      "\n",
      "\r",
      "  0%|          | 0/100 [00:00<?, ?it/s]"
     ]
    },
    {
     "name": "stderr",
     "output_type": "stream",
     "text": [
      "\r",
      " 13%|█▎        | 13/100 [00:00<00:00, 121.98it/s]"
     ]
    },
    {
     "name": "stderr",
     "output_type": "stream",
     "text": [
      "\r",
      " 23%|██▎       | 23/100 [00:00<00:00, 113.55it/s]"
     ]
    },
    {
     "name": "stderr",
     "output_type": "stream",
     "text": [
      "\r",
      " 35%|███▌      | 35/100 [00:00<00:00, 115.27it/s]"
     ]
    },
    {
     "name": "stderr",
     "output_type": "stream",
     "text": [
      "\r",
      " 47%|████▋     | 47/100 [00:00<00:00, 116.25it/s]"
     ]
    },
    {
     "name": "stderr",
     "output_type": "stream",
     "text": [
      "\r",
      " 59%|█████▉    | 59/100 [00:00<00:00, 117.19it/s]"
     ]
    },
    {
     "name": "stderr",
     "output_type": "stream",
     "text": [
      "\r",
      " 70%|███████   | 70/100 [00:00<00:00, 114.05it/s]"
     ]
    },
    {
     "name": "stderr",
     "output_type": "stream",
     "text": [
      "\r",
      " 81%|████████  | 81/100 [00:00<00:00, 110.58it/s]"
     ]
    },
    {
     "name": "stderr",
     "output_type": "stream",
     "text": [
      "\r",
      " 93%|█████████▎| 93/100 [00:00<00:00, 112.36it/s]"
     ]
    },
    {
     "name": "stderr",
     "output_type": "stream",
     "text": [
      "\r",
      "100%|██████████| 100/100 [00:00<00:00, 111.95it/s]"
     ]
    },
    {
     "name": "stderr",
     "output_type": "stream",
     "text": [
      "\n",
      "\r",
      "  0%|          | 0/120 [00:00<?, ?it/s]"
     ]
    },
    {
     "name": "stderr",
     "output_type": "stream",
     "text": [
      "\r",
      "  8%|▊         | 9/120 [00:00<00:01, 82.81it/s]"
     ]
    },
    {
     "name": "stderr",
     "output_type": "stream",
     "text": [
      "\r",
      " 15%|█▌        | 18/120 [00:00<00:01, 84.49it/s]"
     ]
    },
    {
     "name": "stderr",
     "output_type": "stream",
     "text": [
      "\r",
      " 23%|██▎       | 28/120 [00:00<00:01, 87.90it/s]"
     ]
    },
    {
     "name": "stderr",
     "output_type": "stream",
     "text": [
      "\r",
      " 31%|███       | 37/120 [00:00<00:00, 85.91it/s]"
     ]
    },
    {
     "name": "stderr",
     "output_type": "stream",
     "text": [
      "\r",
      " 39%|███▉      | 47/120 [00:00<00:00, 89.40it/s]"
     ]
    },
    {
     "name": "stderr",
     "output_type": "stream",
     "text": [
      "\r",
      " 48%|████▊     | 58/120 [00:00<00:00, 93.12it/s]"
     ]
    },
    {
     "name": "stderr",
     "output_type": "stream",
     "text": [
      "\r",
      " 57%|█████▊    | 69/120 [00:00<00:00, 95.61it/s]"
     ]
    },
    {
     "name": "stderr",
     "output_type": "stream",
     "text": [
      "\r",
      " 67%|██████▋   | 80/120 [00:00<00:00, 98.66it/s]"
     ]
    },
    {
     "name": "stderr",
     "output_type": "stream",
     "text": [
      "\r",
      " 76%|███████▌  | 91/120 [00:00<00:00, 101.36it/s]"
     ]
    },
    {
     "name": "stderr",
     "output_type": "stream",
     "text": [
      "\r",
      " 86%|████████▌ | 103/120 [00:01<00:00, 104.60it/s]"
     ]
    },
    {
     "name": "stderr",
     "output_type": "stream",
     "text": [
      "\r",
      " 95%|█████████▌| 114/120 [00:01<00:00, 105.75it/s]"
     ]
    },
    {
     "name": "stderr",
     "output_type": "stream",
     "text": [
      "\r",
      "100%|██████████| 120/120 [00:01<00:00, 98.92it/s] "
     ]
    },
    {
     "name": "stderr",
     "output_type": "stream",
     "text": [
      "\n"
     ]
    },
    {
     "data": {
      "text/html": [
       "<div>\n",
       "<style scoped>\n",
       "    .dataframe tbody tr th:only-of-type {\n",
       "        vertical-align: middle;\n",
       "    }\n",
       "\n",
       "    .dataframe tbody tr th {\n",
       "        vertical-align: top;\n",
       "    }\n",
       "\n",
       "    .dataframe thead th {\n",
       "        text-align: right;\n",
       "    }\n",
       "</style>\n",
       "<table border=\"1\" class=\"dataframe\">\n",
       "  <thead>\n",
       "    <tr style=\"text-align: right;\">\n",
       "      <th></th>\n",
       "      <th>j</th>\n",
       "      <th>Polarity</th>\n",
       "      <th>Coverage</th>\n",
       "      <th>Overlaps</th>\n",
       "      <th>Conflicts</th>\n",
       "      <th>Correct</th>\n",
       "      <th>Incorrect</th>\n",
       "      <th>Emp. Acc.</th>\n",
       "    </tr>\n",
       "  </thead>\n",
       "  <tbody>\n",
       "    <tr>\n",
       "      <th>keyword_my</th>\n",
       "      <td>0</td>\n",
       "      <td>[1]</td>\n",
       "      <td>0.22</td>\n",
       "      <td>0.22</td>\n",
       "      <td>0.14</td>\n",
       "      <td>19</td>\n",
       "      <td>3</td>\n",
       "      <td>0.863636</td>\n",
       "    </tr>\n",
       "    <tr>\n",
       "      <th>keyword_subscribe</th>\n",
       "      <td>1</td>\n",
       "      <td>[1]</td>\n",
       "      <td>0.14</td>\n",
       "      <td>0.12</td>\n",
       "      <td>0.06</td>\n",
       "      <td>14</td>\n",
       "      <td>0</td>\n",
       "      <td>1.000000</td>\n",
       "    </tr>\n",
       "    <tr>\n",
       "      <th>keyword_http</th>\n",
       "      <td>2</td>\n",
       "      <td>[1]</td>\n",
       "      <td>0.10</td>\n",
       "      <td>0.08</td>\n",
       "      <td>0.07</td>\n",
       "      <td>10</td>\n",
       "      <td>0</td>\n",
       "      <td>1.000000</td>\n",
       "    </tr>\n",
       "    <tr>\n",
       "      <th>keyword_please</th>\n",
       "      <td>3</td>\n",
       "      <td>[1]</td>\n",
       "      <td>0.10</td>\n",
       "      <td>0.10</td>\n",
       "      <td>0.06</td>\n",
       "      <td>10</td>\n",
       "      <td>0</td>\n",
       "      <td>1.000000</td>\n",
       "    </tr>\n",
       "    <tr>\n",
       "      <th>keyword_song</th>\n",
       "      <td>4</td>\n",
       "      <td>[0]</td>\n",
       "      <td>0.16</td>\n",
       "      <td>0.12</td>\n",
       "      <td>0.06</td>\n",
       "      <td>11</td>\n",
       "      <td>5</td>\n",
       "      <td>0.687500</td>\n",
       "    </tr>\n",
       "    <tr>\n",
       "      <th>regex_check_out</th>\n",
       "      <td>5</td>\n",
       "      <td>[1]</td>\n",
       "      <td>0.29</td>\n",
       "      <td>0.22</td>\n",
       "      <td>0.17</td>\n",
       "      <td>29</td>\n",
       "      <td>0</td>\n",
       "      <td>1.000000</td>\n",
       "    </tr>\n",
       "    <tr>\n",
       "      <th>short_comment</th>\n",
       "      <td>6</td>\n",
       "      <td>[0]</td>\n",
       "      <td>0.28</td>\n",
       "      <td>0.20</td>\n",
       "      <td>0.07</td>\n",
       "      <td>19</td>\n",
       "      <td>9</td>\n",
       "      <td>0.678571</td>\n",
       "    </tr>\n",
       "    <tr>\n",
       "      <th>has_person_nlp</th>\n",
       "      <td>7</td>\n",
       "      <td>[0]</td>\n",
       "      <td>0.15</td>\n",
       "      <td>0.13</td>\n",
       "      <td>0.04</td>\n",
       "      <td>10</td>\n",
       "      <td>5</td>\n",
       "      <td>0.666667</td>\n",
       "    </tr>\n",
       "    <tr>\n",
       "      <th>textblob_polarity</th>\n",
       "      <td>8</td>\n",
       "      <td>[0]</td>\n",
       "      <td>0.05</td>\n",
       "      <td>0.05</td>\n",
       "      <td>0.01</td>\n",
       "      <td>4</td>\n",
       "      <td>1</td>\n",
       "      <td>0.800000</td>\n",
       "    </tr>\n",
       "    <tr>\n",
       "      <th>textblob_subjectivity</th>\n",
       "      <td>9</td>\n",
       "      <td>[0]</td>\n",
       "      <td>0.41</td>\n",
       "      <td>0.34</td>\n",
       "      <td>0.20</td>\n",
       "      <td>24</td>\n",
       "      <td>17</td>\n",
       "      <td>0.585366</td>\n",
       "    </tr>\n",
       "  </tbody>\n",
       "</table>\n",
       "</div>"
      ],
      "text/plain": [
       "                       j Polarity  Coverage  Overlaps  Conflicts  Correct  \\\n",
       "keyword_my             0  [1]      0.22      0.22      0.14       19        \n",
       "keyword_subscribe      1  [1]      0.14      0.12      0.06       14        \n",
       "keyword_http           2  [1]      0.10      0.08      0.07       10        \n",
       "keyword_please         3  [1]      0.10      0.10      0.06       10        \n",
       "keyword_song           4  [0]      0.16      0.12      0.06       11        \n",
       "regex_check_out        5  [1]      0.29      0.22      0.17       29        \n",
       "short_comment          6  [0]      0.28      0.20      0.07       19        \n",
       "has_person_nlp         7  [0]      0.15      0.13      0.04       10        \n",
       "textblob_polarity      8  [0]      0.05      0.05      0.01       4         \n",
       "textblob_subjectivity  9  [0]      0.41      0.34      0.20       24        \n",
       "\n",
       "                       Incorrect  Emp. Acc.  \n",
       "keyword_my             3          0.863636   \n",
       "keyword_subscribe      0          1.000000   \n",
       "keyword_http           0          1.000000   \n",
       "keyword_please         0          1.000000   \n",
       "keyword_song           5          0.687500   \n",
       "regex_check_out        0          1.000000   \n",
       "short_comment          9          0.678571   \n",
       "has_person_nlp         5          0.666667   \n",
       "textblob_polarity      1          0.800000   \n",
       "textblob_subjectivity  17         0.585366   "
      ]
     },
     "execution_count": 36,
     "metadata": {},
     "output_type": "execute_result"
    }
   ],
   "source": [
    "applier = PandasLFApplier(lfs=lfs)\n",
    "L_train = applier.apply(df=df_train)\n",
    "L_dev = applier.apply(df=df_dev)\n",
    "L_valid = applier.apply(df=df_valid)\n",
    "\n",
    "LFAnalysis(L=L_dev, lfs=lfs).lf_summary(Y=Y_dev)"
   ]
  },
  {
   "cell_type": "markdown",
   "metadata": {},
   "source": [
    "We see that our labeling functions vary in coverage, accuracy, and how much they overlap/conflict with one another.\n",
    "We can view a histogram of how many LF labels the data points in our dev set have to get an idea of our total coverage."
   ]
  },
  {
   "cell_type": "code",
   "execution_count": 37,
   "metadata": {},
   "outputs": [
    {
     "data": {
      "image/png": "[encoded data removed]",
      "text/plain": [
       "<Figure size 432x288 with 1 Axes>"
      ]
     },
     "metadata": {
      "needs_background": "light"
     },
     "output_type": "display_data"
    }
   ],
   "source": [
    "def plot_label_frequency(L):\n",
    "    plt.hist((L != ABSTAIN).sum(axis=1), density=True, bins=range(L.shape[1]))\n",
    "    plt.xlabel(\"Number of labels\")\n",
    "    plt.ylabel(\"Fraction of dataset\")\n",
    "    plt.show()\n",
    "\n",
    "\n",
    "plot_label_frequency(L_train)"
   ]
  },
  {
   "cell_type": "markdown",
   "metadata": {},
   "source": [
    "We see that over half of our `train` dataset data points have 2 or fewer labels from LFs.\n",
    "Fortunately, the signal we do have can be used to train a classifier over the comment text directly, allowing it to generalize beyond what we've specified via our LFs."
   ]
  },
  {
   "cell_type": "markdown",
   "metadata": {},
   "source": [
    "## 3. Combining Labeling Function Outputs with the Label Model"
   ]
  },
  {
   "cell_type": "markdown",
   "metadata": {},
   "source": [
    "Our goal is now to convert the labels from our LFs into a single _noise-aware_ probabilistic (or confidence-weighted) label per data point.\n",
    "A simple baseline for doing this is to take the majority vote on a per-data point basis: if more LFs voted SPAM than HAM, label it SPAM (and vice versa)."
   ]
  },
  {
   "cell_type": "code",
   "execution_count": 38,
   "metadata": {},
   "outputs": [
    {
     "data": {
      "text/plain": [
       "array([1, 1, 0, ..., 1, 1, 1])"
      ]
     },
     "execution_count": 38,
     "metadata": {},
     "output_type": "execute_result"
    }
   ],
   "source": [
    "from snorkel.labeling.model import MajorityLabelVoter\n",
    "\n",
    "majority_model = MajorityLabelVoter()\n",
    "Y_pred_train = majority_model.predict(L=L_train)\n",
    "Y_pred_train"
   ]
  },
  {
   "cell_type": "markdown",
   "metadata": {},
   "source": [
    "However, as we can clearly see by looking the summary statistics of our LFs in the previous section, they are not all equally accurate, and should not be treated identically. In addition to having varied accuracies and coverages, LFs may be correlated, resulting in certain signals being overrepresented in a majority-vote-based model. To handle these issues appropriately, we will instead use a more sophisticated Snorkel `LabelModel` to combine the outputs of the LFs.\n",
    "\n",
    "This model will ultimately produce a single set of noise-aware training labels, which are probabilistic or confidence-weighted labels. We will then use these labels to train a classifier for our task. For more technical details of this overall approach, see our [NeurIPS 2016](https://arxiv.org/abs/1605.07723) and [AAAI 2019](https://arxiv.org/abs/1810.02840) papers. For more info on the API, see the [`LabelModel` documentation](https://snorkel.readthedocs.io/en/master/source/snorkel.labeling.model.html#snorkel.labeling.model.label_model.LabelModel).\n",
    "\n",
    "Note that no gold labels are used during the training process.\n",
    "The `LabelModel` is able to learn weights for the labeling functions using only the label matrix as input.\n",
    "We also specify the `cardinality`, or number of classes."
   ]
  },
  {
   "cell_type": "code",
   "execution_count": 39,
   "metadata": {},
   "outputs": [
    {
     "name": "stdout",
     "output_type": "stream",
     "text": [
      "Computing O...\n",
      "Estimating \\mu...\n",
      "[0 epochs]: TRAIN:[loss=0.164]\n",
      "[100 epochs]: TRAIN:[loss=0.025]\n",
      "[200 epochs]: TRAIN:[loss=0.018]\n",
      "[300 epochs]: TRAIN:[loss=0.017]\n"
     ]
    },
    {
     "name": "stdout",
     "output_type": "stream",
     "text": [
      "[400 epochs]: TRAIN:[loss=0.015]\n",
      "[500 epochs]: TRAIN:[loss=0.014]\n",
      "[600 epochs]: TRAIN:[loss=0.013]\n",
      "[700 epochs]: TRAIN:[loss=0.012]\n"
     ]
    },
    {
     "name": "stdout",
     "output_type": "stream",
     "text": [
      "[800 epochs]: TRAIN:[loss=0.012]\n",
      "[900 epochs]: TRAIN:[loss=0.011]\n",
      "Finished Training\n"
     ]
    }
   ],
   "source": [
    "from snorkel.labeling.model import LabelModel\n",
    "\n",
    "label_model = LabelModel(cardinality=2, verbose=True)\n",
    "label_model.fit(L_train=L_train, n_epochs=1000, lr=0.001, log_freq=100, seed=123)"
   ]
  },
  {
   "cell_type": "code",
   "execution_count": 40,
   "metadata": {},
   "outputs": [
    {
     "name": "stdout",
     "output_type": "stream",
     "text": [
      "Majority Vote Accuracy:   84.2%\n",
      "Label Model Accuracy:     86.7%\n"
     ]
    }
   ],
   "source": [
    "majority_acc = majority_model.score(L=L_valid, Y=Y_valid)[\"accuracy\"]\n",
    "print(f\"{'Majority Vote Accuracy:':<25} {majority_acc * 100:.1f}%\")\n",
    "\n",
    "label_model_acc = label_model.score(L=L_valid, Y=Y_valid)[\"accuracy\"]\n",
    "print(f\"{'Label Model Accuracy:':<25} {label_model_acc * 100:.1f}%\")"
   ]
  },
  {
   "cell_type": "markdown",
   "metadata": {},
   "source": [
    "So our `LabelModel` improves over the majority vote baseline!\n",
    "However, it is typically **not suitable as an inference-time model** to make predictions for unseen examples, due to (among other things) some data points having all abstain labels.\n",
    "In the next section, we will use the output of the label model as  training labels to train a\n",
    "discriminative classifier to see if we can improve performance further.\n",
    "This classifier will only need the text of the comment to make predictions, making it much more suitable\n",
    "for inference over unseen comments.\n",
    "For more information on the properties of the label model and when to use it, see the [Snorkel guides]()."
   ]
  },
  {
   "cell_type": "markdown",
   "metadata": {},
   "source": [
    "We can also run error analysis after the label model has been trained.\n",
    "For example, let's take a look at false positives from the `dev` set, which might inspire some more LFs that vote `SPAM`."
   ]
  },
  {
   "cell_type": "code",
   "execution_count": 41,
   "metadata": {},
   "outputs": [
    {
     "data": {
      "text/html": [
       "<div>\n",
       "<style scoped>\n",
       "    .dataframe tbody tr th:only-of-type {\n",
       "        vertical-align: middle;\n",
       "    }\n",
       "\n",
       "    .dataframe tbody tr th {\n",
       "        vertical-align: top;\n",
       "    }\n",
       "\n",
       "    .dataframe thead th {\n",
       "        text-align: right;\n",
       "    }\n",
       "</style>\n",
       "<table border=\"1\" class=\"dataframe\">\n",
       "  <thead>\n",
       "    <tr style=\"text-align: right;\">\n",
       "      <th></th>\n",
       "      <th>text</th>\n",
       "      <th>label</th>\n",
       "      <th>probability</th>\n",
       "    </tr>\n",
       "  </thead>\n",
       "  <tbody>\n",
       "    <tr>\n",
       "      <th>195</th>\n",
       "      <td>Check Out The New Hot Video By Dante B Called Riled Up</td>\n",
       "      <td>1</td>\n",
       "      <td>0.0</td>\n",
       "    </tr>\n",
       "    <tr>\n",
       "      <th>334</th>\n",
       "      <td>Check out Em&amp;#39;s dope new song monster here: /watch?v=w6gkM-XNY2M  MMLP2 FTW :)</td>\n",
       "      <td>1</td>\n",
       "      <td>0.0</td>\n",
       "    </tr>\n",
       "    <tr>\n",
       "      <th>431</th>\n",
       "      <td>CHECK OUT Eminem - Rap God LYRIC VIDEO</td>\n",
       "      <td>1</td>\n",
       "      <td>0.0</td>\n",
       "    </tr>\n",
       "    <tr>\n",
       "      <th>313</th>\n",
       "      <td>Aslamu Lykum... From Pakistan﻿</td>\n",
       "      <td>1</td>\n",
       "      <td>0.0</td>\n",
       "    </tr>\n",
       "    <tr>\n",
       "      <th>189</th>\n",
       "      <td>/watch?v=aImbWbfQbzg watch and subscrible</td>\n",
       "      <td>1</td>\n",
       "      <td>0.0</td>\n",
       "    </tr>\n",
       "  </tbody>\n",
       "</table>\n",
       "</div>"
      ],
      "text/plain": [
       "                                                                                  text  \\\n",
       "195  Check Out The New Hot Video By Dante B Called Riled Up                              \n",
       "334  Check out Em&#39;s dope new song monster here: /watch?v=w6gkM-XNY2M  MMLP2 FTW :)   \n",
       "431  CHECK OUT Eminem - Rap God LYRIC VIDEO                                              \n",
       "313  Aslamu Lykum... From Pakistan﻿                                                      \n",
       "189  /watch?v=aImbWbfQbzg watch and subscrible                                           \n",
       "\n",
       "     label  probability  \n",
       "195  1      0.0          \n",
       "334  1      0.0          \n",
       "431  1      0.0          \n",
       "313  1      0.0          \n",
       "189  1      0.0          "
      ]
     },
     "execution_count": 41,
     "metadata": {},
     "output_type": "execute_result"
    }
   ],
   "source": [
    "Y_dev_prob = majority_model.predict_proba(L=L_dev)\n",
    "Y_dev_pred = Y_dev_prob >= 0.5\n",
    "buckets = error_buckets(golds=Y_dev, preds=Y_dev_pred[:, 1])\n",
    "\n",
    "df_dev_fp = df_dev[[\"text\", \"label\"]].iloc[buckets[(HAM, SPAM)]]\n",
    "df_dev_fp[\"probability\"] = Y_dev_prob[buckets[(HAM, SPAM)], 1]\n",
    "\n",
    "df_dev_fp.sample(5, random_state=3)"
   ]
  },
  {
   "cell_type": "markdown",
   "metadata": {},
   "source": [
    "Let's briefly confirm that the labels the `LabelModel` produces are probabilistic in nature.\n",
    "The following histogram shows the confidences we have that each data point has the label SPAM.\n",
    "The points we are least certain about will have labels close to 0.5."
   ]
  },
  {
   "cell_type": "code",
   "execution_count": 42,
   "metadata": {},
   "outputs": [
    {
     "data": {
      "image/png": "[encoded data removed]",
      "text/plain": [
       "<Figure size 432x288 with 1 Axes>"
      ]
     },
     "metadata": {
      "needs_background": "light"
     },
     "output_type": "display_data"
    }
   ],
   "source": [
    "def plot_probabilities_histogram(Y):\n",
    "    plt.hist(Y, bins=10)\n",
    "    plt.xlabel(\"Probability of SPAM\")\n",
    "    plt.ylabel(\"Number of data points\")\n",
    "    plt.show()\n",
    "\n",
    "\n",
    "Y_probs_train = label_model.predict_proba(L=L_train)\n",
    "plot_probabilities_histogram(Y_probs_train[:, SPAM])"
   ]
  },
  {
   "cell_type": "markdown",
   "metadata": {},
   "source": [
    "### Filtering out unlabeled data points"
   ]
  },
  {
   "cell_type": "markdown",
   "metadata": {},
   "source": [
    "As we saw earlier, some of the data points in our `train` set received no labels from any of our LFs.\n",
    "These examples convey no supervision signal and tend to hurt performance, so we filter them out before training."
   ]
  },
  {
   "cell_type": "code",
   "execution_count": 43,
   "metadata": {},
   "outputs": [],
   "source": [
    "from snorkel.labeling.utils import filter_unlabeled_dataframe\n",
    "\n",
    "df_train_filtered, Y_probs_train_filtered = filter_unlabeled_dataframe(\n",
    "    X=df_train, y=Y_probs_train, L=L_train\n",
    ")"
   ]
  },
  {
   "cell_type": "markdown",
   "metadata": {},
   "source": [
    "## 4. Training a Classifier"
   ]
  },
  {
   "cell_type": "markdown",
   "metadata": {},
   "source": [
    "In this final section of the tutorial, we'll use the noisy training labels we generated in the last section to train a classifier for our task.\n",
    "\n",
    "Note that because the output of the Snorkel `LabelModel` is just a set of labels, Snorkel easily integrates with most popular libraries for performing supervised learning: TensorFlow, Keras, PyTorch, Scikit-Learn, Ludwig, XGBoost, etc.\n",
    "\n",
    "In this tutorial we demonstrate using classifiers from Keras and Scikit-Learn."
   ]
  },
  {
   "cell_type": "markdown",
   "metadata": {},
   "source": [
    "### Featurization"
   ]
  },
  {
   "cell_type": "markdown",
   "metadata": {},
   "source": [
    "For simplicity and speed, we use a simple \"bag of n-grams\" feature representation: each data point is represented by a one-hot vector marking which words or 2-word combinations are present in the comment text."
   ]
  },
  {
   "cell_type": "code",
   "execution_count": 44,
   "metadata": {},
   "outputs": [],
   "source": [
    "from sklearn.feature_extraction.text import CountVectorizer\n",
    "\n",
    "words_train = [row.text for i, row in df_train_filtered.iterrows()]\n",
    "words_dev = [row.text for i, row in df_dev.iterrows()]\n",
    "words_valid = [row.text for i, row in df_valid.iterrows()]\n",
    "words_test = [row.text for i, row in df_test.iterrows()]\n",
    "\n",
    "vectorizer = CountVectorizer(ngram_range=(1, 2))\n",
    "X_train = vectorizer.fit_transform(words_train)\n",
    "X_dev = vectorizer.transform(words_dev)\n",
    "X_valid = vectorizer.transform(words_valid)\n",
    "X_test = vectorizer.transform(words_test)"
   ]
  },
  {
   "cell_type": "markdown",
   "metadata": {},
   "source": [
    "### Keras Classifier with Probabilistic Labels"
   ]
  },
  {
   "cell_type": "markdown",
   "metadata": {},
   "source": [
    "We'll use Keras, a popular high-level API for building models in TensorFlow, to build a simple logistic regression classifier.\n",
    "We compile it with a `categorical_crossentropy` loss so that it can handle probabilistic labels instead of integer labels.\n",
    "Using a _noise-aware loss_ &mdash; one that uses probabilistic labels &mdash; for our discriminative model lets\n",
    "us take full advantage of the label model's learning procedure (see our [NeurIPS 2016 paper](https://arxiv.org/abs/1605.07723)).\n",
    "We use the common settings of an `Adam` optimizer and early stopping (evaluating the model on the validation set after each epoch and reloading the weights from when it achieved the best score).\n",
    "For more information on Keras, see the [Keras documentation](https://keras.io/)."
   ]
  },
  {
   "cell_type": "markdown",
   "metadata": {},
   "source": [
    "This next cell makes our Keras results reproducible. You can ignore it."
   ]
  },
  {
   "cell_type": "code",
   "execution_count": 45,
   "metadata": {},
   "outputs": [],
   "source": [
    "import numpy as np\n",
    "import random\n",
    "import tensorflow as tf\n",
    "\n",
    "seed = 1\n",
    "np.random.seed(seed)\n",
    "random.seed(seed)\n",
    "\n",
    "session_conf = tf.compat.v1.ConfigProto(\n",
    "    intra_op_parallelism_threads=1, inter_op_parallelism_threads=1\n",
    ")\n",
    "\n",
    "from tensorflow.keras import backend as K\n",
    "\n",
    "tf.set_random_seed(seed)\n",
    "sess = tf.compat.v1.Session(graph=tf.get_default_graph(), config=session_conf)\n",
    "K.set_session(sess)"
   ]
  },
  {
   "cell_type": "code",
   "execution_count": 46,
   "metadata": {},
   "outputs": [
    {
     "name": "stderr",
     "output_type": "stream",
     "text": [
      "WARNING: Logging before flag parsing goes to stderr.\n",
      "W0803 01:36:54.880029 139989386307392 deprecation.py:506] From /home/ubuntu/snorkel-tutorials/.tox/spam/lib/python3.6/site-packages/tensorflow/python/ops/init_ops.py:1251: calling VarianceScaling.__init__ (from tensorflow.python.ops.init_ops) with dtype is deprecated and will be removed in a future version.\n",
      "Instructions for updating:\n",
      "Call initializer instance with the dtype argument instead of passing it to the constructor\n"
     ]
    },
    {
     "name": "stdout",
     "output_type": "stream",
     "text": [
      "Restoring model weights from the end of the best epoch.\n",
      "Epoch 00012: early stopping\n",
      "Test Accuracy: 94.4%\n"
     ]
    }
   ],
   "source": [
    "from snorkel.analysis.utils import probs_to_preds, preds_to_probs\n",
    "from snorkel.analysis.metrics import metric_score\n",
    "\n",
    "# Our model is a simple linear layer mapping from feature\n",
    "# vectors to the number of labels in our problem (2).\n",
    "keras_model = tf.keras.Sequential()\n",
    "keras_model.add(\n",
    "    tf.keras.layers.Dense(\n",
    "        units=2,\n",
    "        input_dim=X_train.shape[1],\n",
    "        activation=tf.nn.softmax,\n",
    "        kernel_regularizer=tf.keras.regularizers.l2(0.001),\n",
    "    )\n",
    ")\n",
    "optimizer = tf.keras.optimizers.Adam(lr=0.01)\n",
    "keras_model.compile(\n",
    "    optimizer=optimizer, loss=\"categorical_crossentropy\", metrics=[\"accuracy\"]\n",
    ")\n",
    "\n",
    "early_stopping = tf.keras.callbacks.EarlyStopping(\n",
    "    monitor=\"val_acc\", patience=10, verbose=1, restore_best_weights=True\n",
    ")\n",
    "\n",
    "keras_model.fit(\n",
    "    x=X_train,\n",
    "    y=Y_probs_train_filtered,\n",
    "    validation_data=(X_valid, preds_to_probs(Y_valid, 2)),\n",
    "    callbacks=[early_stopping],\n",
    "    epochs=20,\n",
    "    verbose=0,\n",
    ")\n",
    "\n",
    "Y_probs_test = keras_model.predict(x=X_test)\n",
    "Y_preds_test = probs_to_preds(probs=Y_probs_test)\n",
    "test_acc = metric_score(golds=Y_test, preds=Y_preds_test, metric=\"accuracy\")\n",
    "print(f\"Test Accuracy: {test_acc * 100:.1f}%\")"
   ]
  },
  {
   "cell_type": "markdown",
   "metadata": {},
   "source": [
    "**We observe an additional boost in accuracy over the `LabelModel` by multiple points!\n",
    "By using the label model to transfer the domain knowledge encoded in our LFs to the discriminative model,\n",
    "we were able to generalize beyond the noisy labeling heuristics**."
   ]
  },
  {
   "cell_type": "markdown",
   "metadata": {},
   "source": [
    "We can compare this to the score we could have gotten if we had used our small labeled `dev` set directly as training data instead of using it to guide the creation of LFs."
   ]
  },
  {
   "cell_type": "code",
   "execution_count": 47,
   "metadata": {},
   "outputs": [
    {
     "name": "stderr",
     "output_type": "stream",
     "text": [
      "W0803 01:36:56.813885 139989386307392 deprecation.py:323] From /home/ubuntu/snorkel-tutorials/.tox/spam/lib/python3.6/site-packages/tensorflow/python/ops/nn_impl.py:180: add_dispatch_support.<locals>.wrapper (from tensorflow.python.ops.array_ops) is deprecated and will be removed in a future version.\n",
      "Instructions for updating:\n",
      "Use tf.where in 2.0, which has the same broadcast rule as np.where\n"
     ]
    },
    {
     "name": "stdout",
     "output_type": "stream",
     "text": [
      "Test Accuracy: 88.4%\n"
     ]
    }
   ],
   "source": [
    "keras_dev_model = tf.keras.Sequential()\n",
    "keras_dev_model.add(\n",
    "    tf.keras.layers.Dense(\n",
    "        units=1,\n",
    "        input_dim=X_train.shape[1],\n",
    "        activation=tf.nn.sigmoid,\n",
    "        kernel_regularizer=tf.keras.regularizers.l2(0.001),\n",
    "    )\n",
    ")\n",
    "optimizer = tf.keras.optimizers.Adam(lr=0.001)\n",
    "keras_dev_model.compile(\n",
    "    optimizer=optimizer, loss=\"binary_crossentropy\", metrics=[\"accuracy\"]\n",
    ")\n",
    "\n",
    "keras_dev_model.fit(\n",
    "    x=X_dev,\n",
    "    y=Y_dev,\n",
    "    validation_data=(X_valid, Y_valid),\n",
    "    callbacks=[early_stopping],\n",
    "    epochs=20,\n",
    "    verbose=0,\n",
    ")\n",
    "\n",
    "Y_probs_test = keras_dev_model.predict(x=X_test)\n",
    "Y_preds_test = np.round(Y_probs_test)\n",
    "test_acc = metric_score(golds=Y_test, preds=Y_preds_test, metric=\"accuracy\")\n",
    "print(f\"Test Accuracy: {test_acc * 100:.1f}%\")"
   ]
  },
  {
   "cell_type": "markdown",
   "metadata": {},
   "source": [
    "### Scikit-Learn with Rounded Labels"
   ]
  },
  {
   "cell_type": "markdown",
   "metadata": {},
   "source": [
    "If we want to use a library or model that doesn't accept probabilistic labels, we can replace each label distribution with the label of the class that has the maximum probability.\n",
    "This can easily be done using the helper method `probs_to_preds` (note, however, that this transformation is lossy, as we no longer have values for our confidence in each label)."
   ]
  },
  {
   "cell_type": "code",
   "execution_count": 48,
   "metadata": {},
   "outputs": [],
   "source": [
    "Y_preds_train_filtered = probs_to_preds(probs=Y_probs_train_filtered)"
   ]
  },
  {
   "cell_type": "markdown",
   "metadata": {},
   "source": [
    "For example, this allows us to use standard models from Scikit-Learn."
   ]
  },
  {
   "cell_type": "code",
   "execution_count": 49,
   "metadata": {},
   "outputs": [
    {
     "name": "stdout",
     "output_type": "stream",
     "text": [
      "Test Accuracy: 93.2%\n"
     ]
    }
   ],
   "source": [
    "from sklearn.linear_model import LogisticRegression\n",
    "\n",
    "sklearn_model = LogisticRegression(C=0.001, solver=\"liblinear\")\n",
    "sklearn_model.fit(X=X_train, y=Y_preds_train_filtered)\n",
    "\n",
    "print(f\"Test Accuracy: {sklearn_model.score(X=X_test, y=Y_test) * 100:.1f}%\")"
   ]
  },
  {
   "cell_type": "markdown",
   "metadata": {},
   "source": [
    "## Summary"
   ]
  },
  {
   "cell_type": "markdown",
   "metadata": {},
   "source": [
    "In this tutorial, we accomplished the following:\n",
    "* We introduced the concept of Labeling Functions (LFs) and demonstrated some of the forms they can take.\n",
    "* We used the Snorkel `LabelModel` to automatically learn how to combine the outputs of our LFs into strong probabilistic labels.\n",
    "* We showed that a classifier trained on a weakly supervised dataset can outperform an approach based on the LFs alone as it learns to generalize beyond the noisy heuristics we provide."
   ]
  },
  {
   "cell_type": "markdown",
   "metadata": {},
   "source": [
    "### Next Steps"
   ]
  },
  {
   "cell_type": "markdown",
   "metadata": {},
   "source": [
    "If you enjoyed this tutorial and you've already checked out the Snorkel 101 Guide, check out the [`snorkel-tutorials` table of contents](https://github.com/snorkel-team/snorkel-tutorials#snorkel-tutorials) for other tutorials that you may find interesting, including demonstrations of how to use Snorkel\n",
    "\n",
    "* As part of a [hybrid crowdsourcing pipeline](https://github.com/snorkel-team/snorkel-tutorials/tree/master/crowdsourcing)\n",
    "* For [scene-graph detection over images](https://github.com/snorkel-team/snorkel-tutorials/tree/master/scene_graph)\n",
    "* For [information extraction over text](https://github.com/snorkel-team/snorkel-tutorials/tree/master/spouse)\n",
    "* For [data augmentation](https://github.com/snorkel-team/snorkel-tutorials/tree/master/spam)\n",
    "\n",
    "and many more!\n",
    "You can also visit the [Snorkel homepage](http://snorkel.org) or [Snorkel API documentation](https://snorkel.readthedocs.io) for more info!"
   ]
  }
 ],
 "metadata": {
  "jupytext": {
   "cell_metadata_filter": "-all",
   "encoding": "# -*- coding: utf-8 -*-"
  },
  "kernelspec": {
   "display_name": "Python 3",
   "language": "python",
   "name": "python3"
  },
  "language_info": {
   "codemirror_mode": {
    "name": "ipython",
    "version": 3
   },
   "file_extension": ".py",
   "mimetype": "text/x-python",
   "name": "python",
   "nbconvert_exporter": "python",
   "pygments_lexer": "ipython3",
   "version": "3.6.8"
  }
 },
 "nbformat": 4,
 "nbformat_minor": 2
}
