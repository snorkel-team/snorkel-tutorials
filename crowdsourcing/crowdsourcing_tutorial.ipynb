{
 "cells": [
  {
   "cell_type": "markdown",
   "metadata": {},
   "source": [
    "# Crowdsourcing tutorial\n",
    "In this tutorial, we'll provide a simple walkthrough of how to use Snorkel to resolve conflicts\n",
    "in a noisy, hybrid dataset for a sentiment analysis task.\n",
    "We have crowdsourced labels for a portion of the training dataset, and combine these\n",
    "with heuristic labeling functions to increase the number of training labels we have.\n",
    "Like most Snorkel labeling pipelines, we'll use the denoised labels to train a deep learning\n",
    "model which can be applied to new, unseen data to automatically make predictions!\n",
    "\n",
    "In this tutorial, we're using the\n",
    "[Weather Sentiment](https://data.world/crowdflower/weather-sentiment)\n",
    "dataset from Figure Eight.\n",
    "Our goal is to label each tweet as either positive or negative so that\n",
    "we can train a language model over the tweets themselves that can be applied\n",
    "to new, unseen data points.\n",
    "Crowd workers were asked to grade the sentiment of a\n",
    "particular tweet relating to the weather.\n",
    "Crowd workers could choose among the following categories:\n",
    "\n",
    "* Positive\n",
    "* Negative\n",
    "* I can't tell\n",
    "* Neutral / author is just sharing information\n",
    "* Tweet not related to weather condition\n",
    "\n",
    "The catch is that 20 crowd workers graded each tweet, and in many cases\n",
    "crowd workers assigned conflicting sentiment labels to the same tweet.\n",
    "This is a common issue when dealing with crowdsourced labeling workloads.\n",
    "\n",
    "We've also altered the data set to reflect a realistic crowdsourcing pipeline\n",
    "where only a subset of our full training set have recieved crowd labels.\n",
    "We'll encode the crowd labels themselves as labeling functions in order\n",
    "to learn trust weights for each crowd worker, and write a few heuristic\n",
    "labeling functions to cover the data points without crowd labels.\n",
    "Snorkel's ability to build high-quality datasets from multiple noisy labeling\n",
    "signals makes it an ideal framework to approach this problem."
   ]
  },
  {
   "cell_type": "markdown",
   "metadata": {},
   "source": [
    "We start by loading our data which has 287 examples in total.\n",
    "We take 50 for our development set and 50 for our test set.\n",
    "The remaining 187 examples form our training set.\n",
    "This data set is very small, and we're primarily using it for demonstration purposes.\n",
    "In particular, we'd expect to have access to many more unlabeled tweets in order to\n",
    "train a high performance text model.\n",
    "\n",
    "The labels above have been mapped to integers, which we show here."
   ]
  },
  {
   "cell_type": "markdown",
   "metadata": {},
   "source": [
    "## Loading Crowdsourcing Dataset"
   ]
  },
  {
   "cell_type": "code",
   "execution_count": 1,
   "metadata": {},
   "outputs": [],
   "source": [
    "import os\n",
    "\n",
    "if os.path.basename(os.getcwd()) == \"snorkel-tutorials\":\n",
    "    os.chdir(\"crowdsourcing\")"
   ]
  },
  {
   "cell_type": "code",
   "execution_count": 2,
   "metadata": {},
   "outputs": [
    {
     "name": "stdout",
     "output_type": "stream",
     "text": [
      "Answer to int mapping:\n",
      "I can't tell                                      -1\n",
      "Negative                                          0\n",
      "Positive                                          1\n",
      "Neutral / author is just sharing information      2\n",
      "Tweet not related to weather condition            3\n"
     ]
    }
   ],
   "source": [
    "from data import load_data, answer_mapping\n",
    "\n",
    "crowd_answers, df_train, df_dev, df_test = load_data()\n",
    "Y_dev = df_dev.sentiment.values\n",
    "Y_test = df_test.sentiment.values\n",
    "\n",
    "print(\"Answer to int mapping:\")\n",
    "for k, v in sorted(answer_mapping.items(), key=lambda kv: kv[1]):\n",
    "    print(f\"{k:<50}{v}\")"
   ]
  },
  {
   "cell_type": "markdown",
   "metadata": {},
   "source": [
    "First, let's take a look at our development set to get a sense of\n",
    "what the tweets look like."
   ]
  },
  {
   "cell_type": "code",
   "execution_count": 3,
   "metadata": {},
   "outputs": [
    {
     "data": {
      "text/html": [
       "<div>\n",
       "<style scoped>\n",
       "    .dataframe tbody tr th:only-of-type {\n",
       "        vertical-align: middle;\n",
       "    }\n",
       "\n",
       "    .dataframe tbody tr th {\n",
       "        vertical-align: top;\n",
       "    }\n",
       "\n",
       "    .dataframe thead th {\n",
       "        text-align: right;\n",
       "    }\n",
       "</style>\n",
       "<table border=\"1\" class=\"dataframe\">\n",
       "  <thead>\n",
       "    <tr style=\"text-align: right;\">\n",
       "      <th></th>\n",
       "      <th>tweet_id</th>\n",
       "      <th>tweet_text</th>\n",
       "      <th>sentiment</th>\n",
       "    </tr>\n",
       "    <tr>\n",
       "      <th>tweet_id</th>\n",
       "      <th></th>\n",
       "      <th></th>\n",
       "      <th></th>\n",
       "    </tr>\n",
       "  </thead>\n",
       "  <tbody>\n",
       "    <tr>\n",
       "      <th>79197834</th>\n",
       "      <td>79197834</td>\n",
       "      <td>@mention not in sunny dover! haha</td>\n",
       "      <td>1</td>\n",
       "    </tr>\n",
       "    <tr>\n",
       "      <th>80059939</th>\n",
       "      <td>80059939</td>\n",
       "      <td>It is literally pissing it down in sideways ra...</td>\n",
       "      <td>0</td>\n",
       "    </tr>\n",
       "    <tr>\n",
       "      <th>79196441</th>\n",
       "      <td>79196441</td>\n",
       "      <td>Dear perfect weather, thanks for the vest lunc...</td>\n",
       "      <td>1</td>\n",
       "    </tr>\n",
       "    <tr>\n",
       "      <th>84047300</th>\n",
       "      <td>84047300</td>\n",
       "      <td>RT @mention: I can't wait for the storm tonigh...</td>\n",
       "      <td>1</td>\n",
       "    </tr>\n",
       "    <tr>\n",
       "      <th>83255121</th>\n",
       "      <td>83255121</td>\n",
       "      <td>60 degrees. And its almost the end of may. Wis...</td>\n",
       "      <td>0</td>\n",
       "    </tr>\n",
       "  </tbody>\n",
       "</table>\n",
       "</div>"
      ],
      "text/plain": [
       "          tweet_id                                         tweet_text  \\\n",
       "tweet_id                                                                \n",
       "79197834  79197834                  @mention not in sunny dover! haha   \n",
       "80059939  80059939  It is literally pissing it down in sideways ra...   \n",
       "79196441  79196441  Dear perfect weather, thanks for the vest lunc...   \n",
       "84047300  84047300  RT @mention: I can't wait for the storm tonigh...   \n",
       "83255121  83255121  60 degrees. And its almost the end of may. Wis...   \n",
       "\n",
       "          sentiment  \n",
       "tweet_id             \n",
       "79197834          1  \n",
       "80059939          0  \n",
       "79196441          1  \n",
       "84047300          1  \n",
       "83255121          0  "
      ]
     },
     "execution_count": 3,
     "metadata": {},
     "output_type": "execute_result"
    }
   ],
   "source": [
    "df_dev.head()"
   ]
  },
  {
   "cell_type": "markdown",
   "metadata": {},
   "source": [
    "Now let's take a look at the crowd labels.\n",
    "We'll convert these into labeling functions."
   ]
  },
  {
   "cell_type": "code",
   "execution_count": 4,
   "metadata": {},
   "outputs": [
    {
     "data": {
      "text/html": [
       "<div>\n",
       "<style scoped>\n",
       "    .dataframe tbody tr th:only-of-type {\n",
       "        vertical-align: middle;\n",
       "    }\n",
       "\n",
       "    .dataframe tbody tr th {\n",
       "        vertical-align: top;\n",
       "    }\n",
       "\n",
       "    .dataframe thead th {\n",
       "        text-align: right;\n",
       "    }\n",
       "</style>\n",
       "<table border=\"1\" class=\"dataframe\">\n",
       "  <thead>\n",
       "    <tr style=\"text-align: right;\">\n",
       "      <th></th>\n",
       "      <th>worker_id</th>\n",
       "      <th>answer</th>\n",
       "    </tr>\n",
       "    <tr>\n",
       "      <th>tweet_id</th>\n",
       "      <th></th>\n",
       "      <th></th>\n",
       "    </tr>\n",
       "  </thead>\n",
       "  <tbody>\n",
       "    <tr>\n",
       "      <th>82510997</th>\n",
       "      <td>18034918</td>\n",
       "      <td>1</td>\n",
       "    </tr>\n",
       "    <tr>\n",
       "      <th>82510997</th>\n",
       "      <td>7450342</td>\n",
       "      <td>1</td>\n",
       "    </tr>\n",
       "    <tr>\n",
       "      <th>82510997</th>\n",
       "      <td>18465660</td>\n",
       "      <td>1</td>\n",
       "    </tr>\n",
       "    <tr>\n",
       "      <th>82510997</th>\n",
       "      <td>17475684</td>\n",
       "      <td>0</td>\n",
       "    </tr>\n",
       "    <tr>\n",
       "      <th>82510997</th>\n",
       "      <td>14472526</td>\n",
       "      <td>1</td>\n",
       "    </tr>\n",
       "  </tbody>\n",
       "</table>\n",
       "</div>"
      ],
      "text/plain": [
       "          worker_id  answer\n",
       "tweet_id                   \n",
       "82510997   18034918       1\n",
       "82510997    7450342       1\n",
       "82510997   18465660       1\n",
       "82510997   17475684       0\n",
       "82510997   14472526       1"
      ]
     },
     "execution_count": 4,
     "metadata": {},
     "output_type": "execute_result"
    }
   ],
   "source": [
    "crowd_answers.head()"
   ]
  },
  {
   "cell_type": "markdown",
   "metadata": {},
   "source": [
    "## Writing Labeling Functions\n",
    "Each crowd worker can be thought of as a single labeling function,\n",
    "as each worker labels a subset of examples,\n",
    "and may have errors or conflicting answers with other workers / labeling functions.\n",
    "So we create one labeling function per worker.\n",
    "We'll simply return the label the worker submitted for a given tweet, and abstain\n",
    "if they didn't submit an answer for it."
   ]
  },
  {
   "cell_type": "markdown",
   "metadata": {},
   "source": [
    "### Crowd worker labeling functions"
   ]
  },
  {
   "cell_type": "code",
   "execution_count": 5,
   "metadata": {},
   "outputs": [
    {
     "name": "stdout",
     "output_type": "stream",
     "text": [
      "Number of workers: 68\n"
     ]
    }
   ],
   "source": [
    "labels_by_annotator = crowd_answers.groupby(\"worker_id\")\n",
    "worker_dicts = {}\n",
    "for worker_id in labels_by_annotator.groups:\n",
    "    worker_df = labels_by_annotator.get_group(worker_id)[[\"answer\"]]\n",
    "    if len(worker_df) > 10:\n",
    "        worker_dicts[worker_id] = dict(zip(worker_df.index, worker_df.answer))\n",
    "\n",
    "print(\"Number of workers:\", len(worker_dicts))"
   ]
  },
  {
   "cell_type": "code",
   "execution_count": 6,
   "metadata": {},
   "outputs": [],
   "source": [
    "from snorkel.labeling.lf import LabelingFunction\n",
    "\n",
    "\n",
    "def f_pos(x, worker_dict):\n",
    "    label = worker_dict.get(x.tweet_id)\n",
    "    return 1 if label == 1 else -1\n",
    "\n",
    "\n",
    "def f_neg(x, worker_dict):\n",
    "    label = worker_dict.get(x.tweet_id)\n",
    "    return 0 if label == 0 else -1\n",
    "\n",
    "\n",
    "def get_worker_labeling_function(worker_id, f):\n",
    "    worker_dict = worker_dicts[worker_id]\n",
    "    name = f\"worker_{worker_id}\"\n",
    "    return LabelingFunction(name, f=f, resources={\"worker_dict\": worker_dict})\n",
    "\n",
    "\n",
    "worker_lfs_pos = [\n",
    "    get_worker_labeling_function(worker_id, f_pos) for worker_id in worker_dicts\n",
    "]\n",
    "worker_lfs_neg = [\n",
    "    get_worker_labeling_function(worker_id, f_neg) for worker_id in worker_dicts\n",
    "]"
   ]
  },
  {
   "cell_type": "markdown",
   "metadata": {},
   "source": [
    "Let's take a quick look at how well they do on the development set."
   ]
  },
  {
   "cell_type": "code",
   "execution_count": 7,
   "metadata": {},
   "outputs": [
    {
     "name": "stderr",
     "output_type": "stream",
     "text": [
      "\r",
      "  0%|          | 0/187 [00:00<?, ?it/s]"
     ]
    },
    {
     "name": "stderr",
     "output_type": "stream",
     "text": [
      "\r",
      " 45%|████▍     | 84/187 [00:00<00:00, 833.28it/s]"
     ]
    },
    {
     "name": "stderr",
     "output_type": "stream",
     "text": [
      "\r",
      " 90%|████████▉ | 168/187 [00:00<00:00, 832.72it/s]"
     ]
    },
    {
     "name": "stderr",
     "output_type": "stream",
     "text": [
      "\r",
      "100%|██████████| 187/187 [00:00<00:00, 822.20it/s]"
     ]
    },
    {
     "name": "stderr",
     "output_type": "stream",
     "text": [
      "\n",
      "\r",
      "  0%|          | 0/50 [00:00<?, ?it/s]"
     ]
    },
    {
     "name": "stderr",
     "output_type": "stream",
     "text": [
      "\r",
      "100%|██████████| 50/50 [00:00<00:00, 822.64it/s]"
     ]
    },
    {
     "name": "stderr",
     "output_type": "stream",
     "text": [
      "\n"
     ]
    }
   ],
   "source": [
    "from snorkel.labeling.apply import PandasLFApplier\n",
    "\n",
    "lfs = worker_lfs_pos + worker_lfs_neg\n",
    "\n",
    "applier = PandasLFApplier(lfs)\n",
    "L_train = applier.apply(df_train)\n",
    "L_dev = applier.apply(df_dev)"
   ]
  },
  {
   "cell_type": "code",
   "execution_count": 8,
   "metadata": {},
   "outputs": [
    {
     "name": "stderr",
     "output_type": "stream",
     "text": [
      "/home/ubuntu/snorkel-tutorials/.tox/crowdsourcing/lib/python3.6/site-packages/snorkel/labeling/analysis.py:288: RuntimeWarning: invalid value encountered in true_divide\n",
      "  return np.nan_to_num(0.5 * (X.sum(axis=0) / (self.L != -1).sum(axis=0) + 1))\n"
     ]
    },
    {
     "data": {
      "text/html": [
       "<div>\n",
       "<style scoped>\n",
       "    .dataframe tbody tr th:only-of-type {\n",
       "        vertical-align: middle;\n",
       "    }\n",
       "\n",
       "    .dataframe tbody tr th {\n",
       "        vertical-align: top;\n",
       "    }\n",
       "\n",
       "    .dataframe thead th {\n",
       "        text-align: right;\n",
       "    }\n",
       "</style>\n",
       "<table border=\"1\" class=\"dataframe\">\n",
       "  <thead>\n",
       "    <tr style=\"text-align: right;\">\n",
       "      <th></th>\n",
       "      <th>j</th>\n",
       "      <th>Polarity</th>\n",
       "      <th>Coverage</th>\n",
       "      <th>Overlaps</th>\n",
       "      <th>Conflicts</th>\n",
       "      <th>Correct</th>\n",
       "      <th>Incorrect</th>\n",
       "      <th>Emp. Acc.</th>\n",
       "    </tr>\n",
       "  </thead>\n",
       "  <tbody>\n",
       "    <tr>\n",
       "      <th>worker_6340330</th>\n",
       "      <td>0</td>\n",
       "      <td>[1]</td>\n",
       "      <td>0.04</td>\n",
       "      <td>0.04</td>\n",
       "      <td>0.04</td>\n",
       "      <td>2</td>\n",
       "      <td>0</td>\n",
       "      <td>1.000000</td>\n",
       "    </tr>\n",
       "    <tr>\n",
       "      <th>worker_6344001</th>\n",
       "      <td>1</td>\n",
       "      <td>[1]</td>\n",
       "      <td>0.04</td>\n",
       "      <td>0.04</td>\n",
       "      <td>0.04</td>\n",
       "      <td>2</td>\n",
       "      <td>0</td>\n",
       "      <td>1.000000</td>\n",
       "    </tr>\n",
       "    <tr>\n",
       "      <th>worker_6346694</th>\n",
       "      <td>2</td>\n",
       "      <td>[1]</td>\n",
       "      <td>0.12</td>\n",
       "      <td>0.12</td>\n",
       "      <td>0.10</td>\n",
       "      <td>5</td>\n",
       "      <td>1</td>\n",
       "      <td>0.833333</td>\n",
       "    </tr>\n",
       "    <tr>\n",
       "      <th>worker_6363996</th>\n",
       "      <td>3</td>\n",
       "      <td>[1]</td>\n",
       "      <td>0.04</td>\n",
       "      <td>0.04</td>\n",
       "      <td>0.02</td>\n",
       "      <td>2</td>\n",
       "      <td>0</td>\n",
       "      <td>1.000000</td>\n",
       "    </tr>\n",
       "    <tr>\n",
       "      <th>worker_6371053</th>\n",
       "      <td>4</td>\n",
       "      <td>[1]</td>\n",
       "      <td>0.06</td>\n",
       "      <td>0.06</td>\n",
       "      <td>0.06</td>\n",
       "      <td>2</td>\n",
       "      <td>1</td>\n",
       "      <td>0.666667</td>\n",
       "    </tr>\n",
       "    <tr>\n",
       "      <th>worker_6453108</th>\n",
       "      <td>5</td>\n",
       "      <td>[1]</td>\n",
       "      <td>0.04</td>\n",
       "      <td>0.04</td>\n",
       "      <td>0.02</td>\n",
       "      <td>2</td>\n",
       "      <td>0</td>\n",
       "      <td>1.000000</td>\n",
       "    </tr>\n",
       "    <tr>\n",
       "      <th>worker_6737418</th>\n",
       "      <td>6</td>\n",
       "      <td>[1]</td>\n",
       "      <td>0.06</td>\n",
       "      <td>0.06</td>\n",
       "      <td>0.06</td>\n",
       "      <td>2</td>\n",
       "      <td>1</td>\n",
       "      <td>0.666667</td>\n",
       "    </tr>\n",
       "    <tr>\n",
       "      <th>worker_7325249</th>\n",
       "      <td>7</td>\n",
       "      <td>[1]</td>\n",
       "      <td>0.10</td>\n",
       "      <td>0.10</td>\n",
       "      <td>0.10</td>\n",
       "      <td>4</td>\n",
       "      <td>1</td>\n",
       "      <td>0.800000</td>\n",
       "    </tr>\n",
       "    <tr>\n",
       "      <th>worker_7450342</th>\n",
       "      <td>8</td>\n",
       "      <td>[]</td>\n",
       "      <td>0.00</td>\n",
       "      <td>0.00</td>\n",
       "      <td>0.00</td>\n",
       "      <td>0</td>\n",
       "      <td>0</td>\n",
       "      <td>0.000000</td>\n",
       "    </tr>\n",
       "    <tr>\n",
       "      <th>worker_7860247</th>\n",
       "      <td>9</td>\n",
       "      <td>[1]</td>\n",
       "      <td>0.16</td>\n",
       "      <td>0.16</td>\n",
       "      <td>0.14</td>\n",
       "      <td>8</td>\n",
       "      <td>0</td>\n",
       "      <td>1.000000</td>\n",
       "    </tr>\n",
       "  </tbody>\n",
       "</table>\n",
       "</div>"
      ],
      "text/plain": [
       "                j Polarity  Coverage  Overlaps  Conflicts  Correct  Incorrect  \\\n",
       "worker_6340330  0      [1]      0.04      0.04       0.04        2          0   \n",
       "worker_6344001  1      [1]      0.04      0.04       0.04        2          0   \n",
       "worker_6346694  2      [1]      0.12      0.12       0.10        5          1   \n",
       "worker_6363996  3      [1]      0.04      0.04       0.02        2          0   \n",
       "worker_6371053  4      [1]      0.06      0.06       0.06        2          1   \n",
       "worker_6453108  5      [1]      0.04      0.04       0.02        2          0   \n",
       "worker_6737418  6      [1]      0.06      0.06       0.06        2          1   \n",
       "worker_7325249  7      [1]      0.10      0.10       0.10        4          1   \n",
       "worker_7450342  8       []      0.00      0.00       0.00        0          0   \n",
       "worker_7860247  9      [1]      0.16      0.16       0.14        8          0   \n",
       "\n",
       "                Emp. Acc.  \n",
       "worker_6340330   1.000000  \n",
       "worker_6344001   1.000000  \n",
       "worker_6346694   0.833333  \n",
       "worker_6363996   1.000000  \n",
       "worker_6371053   0.666667  \n",
       "worker_6453108   1.000000  \n",
       "worker_6737418   0.666667  \n",
       "worker_7325249   0.800000  \n",
       "worker_7450342   0.000000  \n",
       "worker_7860247   1.000000  "
      ]
     },
     "execution_count": 8,
     "metadata": {},
     "output_type": "execute_result"
    }
   ],
   "source": [
    "from snorkel.labeling.analysis import LFAnalysis\n",
    "\n",
    "LFAnalysis(L_dev, lfs).lf_summary(Y_dev).head(10)"
   ]
  },
  {
   "cell_type": "markdown",
   "metadata": {},
   "source": [
    "So the crowd labels are quite good! But how much of our dev and training\n",
    "sets do they cover?"
   ]
  },
  {
   "cell_type": "code",
   "execution_count": 9,
   "metadata": {},
   "outputs": [
    {
     "name": "stdout",
     "output_type": "stream",
     "text": [
      "Training set coverge: 0.5026737967914439\n",
      "Dev set coverge: 0.5\n"
     ]
    }
   ],
   "source": [
    "print(\"Training set coverge:\", LFAnalysis(L_train).label_coverage())\n",
    "print(\"Dev set coverge:\", LFAnalysis(L_dev).label_coverage())"
   ]
  },
  {
   "cell_type": "markdown",
   "metadata": {},
   "source": [
    "### Additional labeling functions\n",
    "\n",
    "We can mix the crowd worker labeling functions with labeling\n",
    "functions of other types.\n",
    "We'll use a few varied approaches and use the label model learn\n",
    "how to combine their values."
   ]
  },
  {
   "cell_type": "code",
   "execution_count": 10,
   "metadata": {},
   "outputs": [],
   "source": [
    "from snorkel.labeling.lf import labeling_function\n",
    "from snorkel.labeling.preprocess import preprocessor\n",
    "from textblob import TextBlob\n",
    "\n",
    "\n",
    "@preprocessor()\n",
    "def textblob_polarity(x):\n",
    "    scores = TextBlob(x.tweet_text)\n",
    "    x.polarity = scores.polarity\n",
    "    return x\n",
    "\n",
    "\n",
    "textblob_polarity.memoize = True\n",
    "\n",
    "\n",
    "@labeling_function(preprocessors=[textblob_polarity])\n",
    "def polarity_positive(x):\n",
    "    return 1 if x.polarity > 0.3 else -1\n",
    "\n",
    "\n",
    "@labeling_function(preprocessors=[textblob_polarity])\n",
    "def polarity_negative(x):\n",
    "    return 0 if x.polarity < -0.25 else -1\n",
    "\n",
    "\n",
    "@labeling_function(preprocessors=[textblob_polarity])\n",
    "def polarity_negative_2(x):\n",
    "    return 0 if x.polarity <= 0.3 else -1"
   ]
  },
  {
   "cell_type": "markdown",
   "metadata": {},
   "source": [
    "### Applying labeling functions to the training set"
   ]
  },
  {
   "cell_type": "code",
   "execution_count": 11,
   "metadata": {},
   "outputs": [
    {
     "name": "stderr",
     "output_type": "stream",
     "text": [
      "\r",
      "  0%|          | 0/187 [00:00<?, ?it/s]"
     ]
    },
    {
     "name": "stderr",
     "output_type": "stream",
     "text": [
      "\r",
      " 17%|█▋        | 31/187 [00:00<00:00, 308.25it/s]"
     ]
    },
    {
     "name": "stderr",
     "output_type": "stream",
     "text": [
      "\r",
      " 42%|████▏     | 78/187 [00:00<00:00, 342.42it/s]"
     ]
    },
    {
     "name": "stderr",
     "output_type": "stream",
     "text": [
      "\r",
      " 67%|██████▋   | 125/187 [00:00<00:00, 371.26it/s]"
     ]
    },
    {
     "name": "stderr",
     "output_type": "stream",
     "text": [
      "\r",
      " 91%|█████████▏| 171/187 [00:00<00:00, 393.81it/s]"
     ]
    },
    {
     "name": "stderr",
     "output_type": "stream",
     "text": [
      "\r",
      "100%|██████████| 187/187 [00:00<00:00, 423.05it/s]"
     ]
    },
    {
     "name": "stderr",
     "output_type": "stream",
     "text": [
      "\n",
      "\r",
      "  0%|          | 0/50 [00:00<?, ?it/s]"
     ]
    },
    {
     "name": "stderr",
     "output_type": "stream",
     "text": [
      "\r",
      " 96%|█████████▌| 48/50 [00:00<00:00, 471.25it/s]"
     ]
    },
    {
     "name": "stderr",
     "output_type": "stream",
     "text": [
      "\r",
      "100%|██████████| 50/50 [00:00<00:00, 458.53it/s]"
     ]
    },
    {
     "name": "stderr",
     "output_type": "stream",
     "text": [
      "\n"
     ]
    }
   ],
   "source": [
    "from snorkel.labeling.apply import PandasLFApplier\n",
    "\n",
    "text_lfs = [polarity_positive, polarity_negative, polarity_negative_2]\n",
    "lfs = text_lfs + worker_lfs_pos + worker_lfs_neg\n",
    "\n",
    "applier = PandasLFApplier(lfs)\n",
    "L_train = applier.apply(df_train)\n",
    "L_dev = applier.apply(df_dev)"
   ]
  },
  {
   "cell_type": "code",
   "execution_count": 12,
   "metadata": {},
   "outputs": [
    {
     "name": "stderr",
     "output_type": "stream",
     "text": [
      "/home/ubuntu/snorkel-tutorials/.tox/crowdsourcing/lib/python3.6/site-packages/snorkel/labeling/analysis.py:288: RuntimeWarning: invalid value encountered in true_divide\n",
      "  return np.nan_to_num(0.5 * (X.sum(axis=0) / (self.L != -1).sum(axis=0) + 1))\n"
     ]
    },
    {
     "data": {
      "text/html": [
       "<div>\n",
       "<style scoped>\n",
       "    .dataframe tbody tr th:only-of-type {\n",
       "        vertical-align: middle;\n",
       "    }\n",
       "\n",
       "    .dataframe tbody tr th {\n",
       "        vertical-align: top;\n",
       "    }\n",
       "\n",
       "    .dataframe thead th {\n",
       "        text-align: right;\n",
       "    }\n",
       "</style>\n",
       "<table border=\"1\" class=\"dataframe\">\n",
       "  <thead>\n",
       "    <tr style=\"text-align: right;\">\n",
       "      <th></th>\n",
       "      <th>j</th>\n",
       "      <th>Polarity</th>\n",
       "      <th>Coverage</th>\n",
       "      <th>Overlaps</th>\n",
       "      <th>Conflicts</th>\n",
       "      <th>Correct</th>\n",
       "      <th>Incorrect</th>\n",
       "      <th>Emp. Acc.</th>\n",
       "    </tr>\n",
       "  </thead>\n",
       "  <tbody>\n",
       "    <tr>\n",
       "      <th>polarity_positive</th>\n",
       "      <td>0</td>\n",
       "      <td>[1]</td>\n",
       "      <td>0.30</td>\n",
       "      <td>0.16</td>\n",
       "      <td>0.12</td>\n",
       "      <td>15</td>\n",
       "      <td>0</td>\n",
       "      <td>1.000000</td>\n",
       "    </tr>\n",
       "    <tr>\n",
       "      <th>polarity_negative</th>\n",
       "      <td>1</td>\n",
       "      <td>[0]</td>\n",
       "      <td>0.10</td>\n",
       "      <td>0.10</td>\n",
       "      <td>0.04</td>\n",
       "      <td>5</td>\n",
       "      <td>0</td>\n",
       "      <td>1.000000</td>\n",
       "    </tr>\n",
       "    <tr>\n",
       "      <th>polarity_negative_2</th>\n",
       "      <td>2</td>\n",
       "      <td>[0]</td>\n",
       "      <td>0.70</td>\n",
       "      <td>0.40</td>\n",
       "      <td>0.32</td>\n",
       "      <td>26</td>\n",
       "      <td>9</td>\n",
       "      <td>0.742857</td>\n",
       "    </tr>\n",
       "    <tr>\n",
       "      <th>worker_6340330</th>\n",
       "      <td>3</td>\n",
       "      <td>[1]</td>\n",
       "      <td>0.04</td>\n",
       "      <td>0.04</td>\n",
       "      <td>0.04</td>\n",
       "      <td>2</td>\n",
       "      <td>0</td>\n",
       "      <td>1.000000</td>\n",
       "    </tr>\n",
       "    <tr>\n",
       "      <th>worker_6344001</th>\n",
       "      <td>4</td>\n",
       "      <td>[1]</td>\n",
       "      <td>0.04</td>\n",
       "      <td>0.04</td>\n",
       "      <td>0.04</td>\n",
       "      <td>2</td>\n",
       "      <td>0</td>\n",
       "      <td>1.000000</td>\n",
       "    </tr>\n",
       "    <tr>\n",
       "      <th>worker_6346694</th>\n",
       "      <td>5</td>\n",
       "      <td>[1]</td>\n",
       "      <td>0.12</td>\n",
       "      <td>0.12</td>\n",
       "      <td>0.10</td>\n",
       "      <td>5</td>\n",
       "      <td>1</td>\n",
       "      <td>0.833333</td>\n",
       "    </tr>\n",
       "    <tr>\n",
       "      <th>worker_6363996</th>\n",
       "      <td>6</td>\n",
       "      <td>[1]</td>\n",
       "      <td>0.04</td>\n",
       "      <td>0.04</td>\n",
       "      <td>0.02</td>\n",
       "      <td>2</td>\n",
       "      <td>0</td>\n",
       "      <td>1.000000</td>\n",
       "    </tr>\n",
       "    <tr>\n",
       "      <th>worker_6371053</th>\n",
       "      <td>7</td>\n",
       "      <td>[1]</td>\n",
       "      <td>0.06</td>\n",
       "      <td>0.06</td>\n",
       "      <td>0.06</td>\n",
       "      <td>2</td>\n",
       "      <td>1</td>\n",
       "      <td>0.666667</td>\n",
       "    </tr>\n",
       "    <tr>\n",
       "      <th>worker_6453108</th>\n",
       "      <td>8</td>\n",
       "      <td>[1]</td>\n",
       "      <td>0.04</td>\n",
       "      <td>0.04</td>\n",
       "      <td>0.02</td>\n",
       "      <td>2</td>\n",
       "      <td>0</td>\n",
       "      <td>1.000000</td>\n",
       "    </tr>\n",
       "    <tr>\n",
       "      <th>worker_6737418</th>\n",
       "      <td>9</td>\n",
       "      <td>[1]</td>\n",
       "      <td>0.06</td>\n",
       "      <td>0.06</td>\n",
       "      <td>0.06</td>\n",
       "      <td>2</td>\n",
       "      <td>1</td>\n",
       "      <td>0.666667</td>\n",
       "    </tr>\n",
       "  </tbody>\n",
       "</table>\n",
       "</div>"
      ],
      "text/plain": [
       "                     j Polarity  Coverage  Overlaps  Conflicts  Correct  \\\n",
       "polarity_positive    0      [1]      0.30      0.16       0.12       15   \n",
       "polarity_negative    1      [0]      0.10      0.10       0.04        5   \n",
       "polarity_negative_2  2      [0]      0.70      0.40       0.32       26   \n",
       "worker_6340330       3      [1]      0.04      0.04       0.04        2   \n",
       "worker_6344001       4      [1]      0.04      0.04       0.04        2   \n",
       "worker_6346694       5      [1]      0.12      0.12       0.10        5   \n",
       "worker_6363996       6      [1]      0.04      0.04       0.02        2   \n",
       "worker_6371053       7      [1]      0.06      0.06       0.06        2   \n",
       "worker_6453108       8      [1]      0.04      0.04       0.02        2   \n",
       "worker_6737418       9      [1]      0.06      0.06       0.06        2   \n",
       "\n",
       "                     Incorrect  Emp. Acc.  \n",
       "polarity_positive            0   1.000000  \n",
       "polarity_negative            0   1.000000  \n",
       "polarity_negative_2          9   0.742857  \n",
       "worker_6340330               0   1.000000  \n",
       "worker_6344001               0   1.000000  \n",
       "worker_6346694               1   0.833333  \n",
       "worker_6363996               0   1.000000  \n",
       "worker_6371053               1   0.666667  \n",
       "worker_6453108               0   1.000000  \n",
       "worker_6737418               1   0.666667  "
      ]
     },
     "execution_count": 12,
     "metadata": {},
     "output_type": "execute_result"
    }
   ],
   "source": [
    "LFAnalysis(L_dev, lfs).lf_summary(Y_dev).head(10)"
   ]
  },
  {
   "cell_type": "markdown",
   "metadata": {},
   "source": [
    "Using the text-based LFs, we've expanded coverage on both our training set\n",
    "and dev set to 100%.\n",
    "We'll now take these noisy and conflicting labels, and use the label model\n",
    "to denoise and combine them."
   ]
  },
  {
   "cell_type": "code",
   "execution_count": 13,
   "metadata": {},
   "outputs": [
    {
     "name": "stdout",
     "output_type": "stream",
     "text": [
      "Training set coverge: 1.0\n",
      "Dev set coverge: 1.0\n"
     ]
    }
   ],
   "source": [
    "print(\"Training set coverge:\", LFAnalysis(L_train).label_coverage())\n",
    "print(\"Dev set coverge:\", LFAnalysis(L_dev).label_coverage())"
   ]
  },
  {
   "cell_type": "markdown",
   "metadata": {},
   "source": [
    "## Train Label Model And Generate Soft Labels"
   ]
  },
  {
   "cell_type": "code",
   "execution_count": 14,
   "metadata": {},
   "outputs": [
    {
     "name": "stdout",
     "output_type": "stream",
     "text": [
      "Computing O...\n",
      "Estimating \\mu...\n",
      "[0 epochs]: TRAIN:[loss=2.371]\n",
      "[20 epochs]: TRAIN:[loss=0.568]\n"
     ]
    },
    {
     "name": "stdout",
     "output_type": "stream",
     "text": [
      "[40 epochs]: TRAIN:[loss=0.536]\n",
      "[60 epochs]: TRAIN:[loss=0.522]\n",
      "[80 epochs]: TRAIN:[loss=0.524]\n"
     ]
    },
    {
     "name": "stdout",
     "output_type": "stream",
     "text": [
      "Finished Training\n"
     ]
    }
   ],
   "source": [
    "from snorkel.labeling.model.label_model import LabelModel\n",
    "\n",
    "# Train label model.\n",
    "label_model = LabelModel(cardinality=2, verbose=True)\n",
    "label_model.fit(L_train, n_epochs=100, seed=123, log_freq=20, l2=0.1, lr=0.01)"
   ]
  },
  {
   "cell_type": "markdown",
   "metadata": {},
   "source": [
    "As a spot-check for the quality of our label model, we'll score it on the dev set."
   ]
  },
  {
   "cell_type": "code",
   "execution_count": 15,
   "metadata": {},
   "outputs": [
    {
     "name": "stdout",
     "output_type": "stream",
     "text": [
      "Label Model Accuracy: 0.920\n"
     ]
    }
   ],
   "source": [
    "from snorkel.analysis.metrics import metric_score\n",
    "from snorkel.analysis.utils import probs_to_preds\n",
    "\n",
    "Y_dev_prob = label_model.predict_proba(L_dev)\n",
    "Y_dev_pred = probs_to_preds(Y_dev_prob)\n",
    "\n",
    "acc = metric_score(Y_dev, Y_dev_pred, probs=None, metric=\"accuracy\")\n",
    "print(f\"Label Model Accuracy: {acc:.3f}\")"
   ]
  },
  {
   "cell_type": "markdown",
   "metadata": {},
   "source": [
    "Look at that, we get very high accuracy on the development set.\n",
    "This is due to the abundance of high quality crowd worker labels.\n",
    "**Since we don't have these high quality crowdsourcing labels for the\n",
    "test set or new incoming examples, we can't use the label model reliably\n",
    "at inference time.**\n",
    "In order to run inference on new incoming examples, we need to train a\n",
    "discriminative model over the tweets themselves.\n",
    "Let's generate a set of probabilistic labels for the training set."
   ]
  },
  {
   "cell_type": "code",
   "execution_count": 16,
   "metadata": {},
   "outputs": [],
   "source": [
    "Y_train_prob = label_model.predict_proba(L_train)"
   ]
  },
  {
   "cell_type": "markdown",
   "metadata": {},
   "source": [
    "## Use Soft Labels to Train End Model"
   ]
  },
  {
   "cell_type": "markdown",
   "metadata": {},
   "source": [
    "### Getting features from BERT\n",
    "Since we have very limited training data, we cannot train a complex model like an LSTM with a lot of parameters. Instead, we use a pre-trained model, [BERT](https://github.com/google-research/bert), to generate embeddings for each our tweets, and treat the embedding values as features."
   ]
  },
  {
   "cell_type": "code",
   "execution_count": 17,
   "metadata": {},
   "outputs": [
    {
     "name": "stderr",
     "output_type": "stream",
     "text": [
      "\r",
      "  0%|          | 0/313 [00:00<?, ?B/s]"
     ]
    },
    {
     "name": "stderr",
     "output_type": "stream",
     "text": [
      "\r",
      "100%|██████████| 313/313 [00:00<00:00, 258785.17B/s]"
     ]
    },
    {
     "name": "stderr",
     "output_type": "stream",
     "text": [
      "\n"
     ]
    },
    {
     "name": "stderr",
     "output_type": "stream",
     "text": [
      "\r",
      "  0%|          | 0/440473133 [00:00<?, ?B/s]"
     ]
    },
    {
     "name": "stderr",
     "output_type": "stream",
     "text": [
      "\r",
      "  0%|          | 34816/440473133 [00:00<31:20, 234265.81B/s]"
     ]
    },
    {
     "name": "stderr",
     "output_type": "stream",
     "text": [
      "\r",
      "  0%|          | 208896/440473133 [00:00<23:24, 313382.57B/s]"
     ]
    },
    {
     "name": "stderr",
     "output_type": "stream",
     "text": [
      "\r",
      "  0%|          | 487424/440473133 [00:00<17:13, 425692.64B/s]"
     ]
    },
    {
     "name": "stderr",
     "output_type": "stream",
     "text": [
      "\r",
      "  0%|          | 1893376/440473133 [00:00<12:12, 598977.44B/s]"
     ]
    },
    {
     "name": "stderr",
     "output_type": "stream",
     "text": [
      "\r",
      "  1%|          | 3597312/440473133 [00:00<08:38, 842101.83B/s]"
     ]
    },
    {
     "name": "stderr",
     "output_type": "stream",
     "text": [
      "\r",
      "  2%|▏         | 6628352/440473133 [00:00<06:05, 1186339.29B/s]"
     ]
    },
    {
     "name": "stderr",
     "output_type": "stream",
     "text": [
      "\r",
      "  2%|▏         | 8332288/440473133 [00:00<04:23, 1642364.19B/s]"
     ]
    },
    {
     "name": "stderr",
     "output_type": "stream",
     "text": [
      "\r",
      "  3%|▎         | 11363328/440473133 [00:00<03:07, 2283612.85B/s]"
     ]
    },
    {
     "name": "stderr",
     "output_type": "stream",
     "text": [
      "\r",
      "  3%|▎         | 13114368/440473133 [00:01<02:18, 3077053.54B/s]"
     ]
    },
    {
     "name": "stderr",
     "output_type": "stream",
     "text": [
      "\r",
      "  4%|▎         | 16081920/440473133 [00:01<01:41, 4177933.82B/s]"
     ]
    },
    {
     "name": "stderr",
     "output_type": "stream",
     "text": [
      "\r",
      "  4%|▍         | 18040832/440473133 [00:01<01:17, 5418777.39B/s]"
     ]
    },
    {
     "name": "stderr",
     "output_type": "stream",
     "text": [
      "\r",
      "  5%|▍         | 20816896/440473133 [00:01<00:59, 7067233.57B/s]"
     ]
    },
    {
     "name": "stderr",
     "output_type": "stream",
     "text": [
      "\r",
      "  5%|▌         | 22878208/440473133 [00:01<00:48, 8668269.12B/s]"
     ]
    },
    {
     "name": "stderr",
     "output_type": "stream",
     "text": [
      "\r",
      "  6%|▌         | 25551872/440473133 [00:01<00:38, 10704942.59B/s]"
     ]
    },
    {
     "name": "stderr",
     "output_type": "stream",
     "text": [
      "\r",
      "  6%|▋         | 27659264/440473133 [00:01<00:33, 12276099.63B/s]"
     ]
    },
    {
     "name": "stderr",
     "output_type": "stream",
     "text": [
      "\r",
      "  7%|▋         | 30286848/440473133 [00:01<00:28, 14320707.91B/s]"
     ]
    },
    {
     "name": "stderr",
     "output_type": "stream",
     "text": [
      "\r",
      "  7%|▋         | 32414720/440473133 [00:01<00:26, 15418054.92B/s]"
     ]
    },
    {
     "name": "stderr",
     "output_type": "stream",
     "text": [
      "\r",
      "  8%|▊         | 35021824/440473133 [00:02<00:23, 17170187.52B/s]"
     ]
    },
    {
     "name": "stderr",
     "output_type": "stream",
     "text": [
      "\r",
      "  8%|▊         | 37159936/440473133 [00:02<00:22, 17652428.89B/s]"
     ]
    },
    {
     "name": "stderr",
     "output_type": "stream",
     "text": [
      "\r",
      "  9%|▉         | 39756800/440473133 [00:02<00:21, 19025812.02B/s]"
     ]
    },
    {
     "name": "stderr",
     "output_type": "stream",
     "text": [
      "\r",
      " 10%|▉         | 41899008/440473133 [00:02<00:21, 18948413.72B/s]"
     ]
    },
    {
     "name": "stderr",
     "output_type": "stream",
     "text": [
      "\r",
      " 10%|█         | 44491776/440473133 [00:02<00:19, 20089175.53B/s]"
     ]
    },
    {
     "name": "stderr",
     "output_type": "stream",
     "text": [
      "\r",
      " 11%|█         | 46637056/440473133 [00:02<00:20, 19674454.20B/s]"
     ]
    },
    {
     "name": "stderr",
     "output_type": "stream",
     "text": [
      "\r",
      " 11%|█         | 49226752/440473133 [00:02<00:18, 20655272.03B/s]"
     ]
    },
    {
     "name": "stderr",
     "output_type": "stream",
     "text": [
      "\r",
      " 12%|█▏        | 51373056/440473133 [00:02<00:19, 20043876.00B/s]"
     ]
    },
    {
     "name": "stderr",
     "output_type": "stream",
     "text": [
      "\r",
      " 12%|█▏        | 53945344/440473133 [00:02<00:18, 20924058.55B/s]"
     ]
    },
    {
     "name": "stderr",
     "output_type": "stream",
     "text": [
      "\r",
      " 13%|█▎        | 56090624/440473133 [00:03<00:19, 20207618.60B/s]"
     ]
    },
    {
     "name": "stderr",
     "output_type": "stream",
     "text": [
      "\r",
      " 13%|█▎        | 58680320/440473133 [00:03<00:18, 21092995.32B/s]"
     ]
    },
    {
     "name": "stderr",
     "output_type": "stream",
     "text": [
      "\r",
      " 14%|█▍        | 60829696/440473133 [00:03<00:18, 20324183.04B/s]"
     ]
    },
    {
     "name": "stderr",
     "output_type": "stream",
     "text": [
      "\r",
      " 14%|█▍        | 63415296/440473133 [00:03<00:17, 21174882.76B/s]"
     ]
    },
    {
     "name": "stderr",
     "output_type": "stream",
     "text": [
      "\r",
      " 15%|█▍        | 65565696/440473133 [00:03<00:18, 20369165.69B/s]"
     ]
    },
    {
     "name": "stderr",
     "output_type": "stream",
     "text": [
      "\r",
      " 15%|█▌        | 68150272/440473133 [00:03<00:17, 21211904.49B/s]"
     ]
    },
    {
     "name": "stderr",
     "output_type": "stream",
     "text": [
      "\r",
      " 16%|█▌        | 70301696/440473133 [00:03<00:18, 20372298.08B/s]"
     ]
    },
    {
     "name": "stderr",
     "output_type": "stream",
     "text": [
      "\r",
      " 17%|█▋        | 72885248/440473133 [00:03<00:17, 21223557.03B/s]"
     ]
    },
    {
     "name": "stderr",
     "output_type": "stream",
     "text": [
      "\r",
      " 17%|█▋        | 75036672/440473133 [00:03<00:17, 20394965.57B/s]"
     ]
    },
    {
     "name": "stderr",
     "output_type": "stream",
     "text": [
      "\r",
      " 18%|█▊        | 77620224/440473133 [00:04<00:17, 21243033.86B/s]"
     ]
    },
    {
     "name": "stderr",
     "output_type": "stream",
     "text": [
      "\r",
      " 18%|█▊        | 79772672/440473133 [00:04<00:17, 20409306.38B/s]"
     ]
    },
    {
     "name": "stderr",
     "output_type": "stream",
     "text": [
      "\r",
      " 19%|█▊        | 82355200/440473133 [00:04<00:16, 21238488.05B/s]"
     ]
    },
    {
     "name": "stderr",
     "output_type": "stream",
     "text": [
      "\r",
      " 19%|█▉        | 84506624/440473133 [00:04<00:17, 20417662.19B/s]"
     ]
    },
    {
     "name": "stderr",
     "output_type": "stream",
     "text": [
      "\r",
      " 20%|█▉        | 87073792/440473133 [00:04<00:16, 21219150.96B/s]"
     ]
    },
    {
     "name": "stderr",
     "output_type": "stream",
     "text": [
      "\r",
      " 20%|██        | 89222144/440473133 [00:04<00:17, 20379300.77B/s]"
     ]
    },
    {
     "name": "stderr",
     "output_type": "stream",
     "text": [
      "\r",
      " 21%|██        | 91808768/440473133 [00:04<00:16, 21240932.97B/s]"
     ]
    },
    {
     "name": "stderr",
     "output_type": "stream",
     "text": [
      "\r",
      " 21%|██▏       | 93960192/440473133 [00:04<00:16, 20408575.96B/s]"
     ]
    },
    {
     "name": "stderr",
     "output_type": "stream",
     "text": [
      "\r",
      " 22%|██▏       | 96543744/440473133 [00:04<00:16, 21249004.56B/s]"
     ]
    },
    {
     "name": "stderr",
     "output_type": "stream",
     "text": [
      "\r",
      " 22%|██▏       | 98696192/440473133 [00:05<00:16, 20406035.28B/s]"
     ]
    },
    {
     "name": "stderr",
     "output_type": "stream",
     "text": [
      "\r",
      " 23%|██▎       | 101278720/440473133 [00:05<00:15, 21242380.14B/s]"
     ]
    },
    {
     "name": "stderr",
     "output_type": "stream",
     "text": [
      "\r",
      " 23%|██▎       | 103430144/440473133 [00:05<00:16, 20426822.48B/s]"
     ]
    },
    {
     "name": "stderr",
     "output_type": "stream",
     "text": [
      "\r",
      " 24%|██▍       | 106013696/440473133 [00:05<00:15, 21246500.74B/s]"
     ]
    },
    {
     "name": "stderr",
     "output_type": "stream",
     "text": [
      "\r",
      " 25%|██▍       | 108165120/440473133 [00:05<00:16, 20425605.08B/s]"
     ]
    },
    {
     "name": "stderr",
     "output_type": "stream",
     "text": [
      "\r",
      " 25%|██▌       | 110748672/440473133 [00:05<00:15, 21256043.34B/s]"
     ]
    },
    {
     "name": "stderr",
     "output_type": "stream",
     "text": [
      "\r",
      " 26%|██▌       | 112901120/440473133 [00:05<00:16, 20431808.73B/s]"
     ]
    },
    {
     "name": "stderr",
     "output_type": "stream",
     "text": [
      "\r",
      " 26%|██▌       | 115483648/440473133 [00:05<00:15, 21257980.80B/s]"
     ]
    },
    {
     "name": "stderr",
     "output_type": "stream",
     "text": [
      "\r",
      " 27%|██▋       | 117636096/440473133 [00:06<00:15, 20411607.68B/s]"
     ]
    },
    {
     "name": "stderr",
     "output_type": "stream",
     "text": [
      "\r",
      " 27%|██▋       | 120202240/440473133 [00:06<00:15, 21230153.79B/s]"
     ]
    },
    {
     "name": "stderr",
     "output_type": "stream",
     "text": [
      "\r",
      " 28%|██▊       | 122352640/440473133 [00:06<00:15, 20375978.33B/s]"
     ]
    },
    {
     "name": "stderr",
     "output_type": "stream",
     "text": [
      "\r",
      " 28%|██▊       | 124937216/440473133 [00:06<00:14, 21249653.03B/s]"
     ]
    },
    {
     "name": "stderr",
     "output_type": "stream",
     "text": [
      "\r",
      " 29%|██▉       | 127090688/440473133 [00:06<00:15, 20364093.74B/s]"
     ]
    },
    {
     "name": "stderr",
     "output_type": "stream",
     "text": [
      "\r",
      " 29%|██▉       | 129672192/440473133 [00:06<00:14, 21261666.48B/s]"
     ]
    },
    {
     "name": "stderr",
     "output_type": "stream",
     "text": [
      "\r",
      " 30%|██▉       | 131828736/440473133 [00:06<00:15, 20383442.82B/s]"
     ]
    },
    {
     "name": "stderr",
     "output_type": "stream",
     "text": [
      "\r",
      " 31%|███       | 134407168/440473133 [00:06<00:14, 21240051.67B/s]"
     ]
    },
    {
     "name": "stderr",
     "output_type": "stream",
     "text": [
      "\r",
      " 31%|███       | 136560640/440473133 [00:06<00:14, 20391397.74B/s]"
     ]
    },
    {
     "name": "stderr",
     "output_type": "stream",
     "text": [
      "\r",
      " 32%|███▏      | 139142144/440473133 [00:07<00:14, 21243885.70B/s]"
     ]
    },
    {
     "name": "stderr",
     "output_type": "stream",
     "text": [
      "\r",
      " 32%|███▏      | 141295616/440473133 [00:07<00:14, 20401153.84B/s]"
     ]
    },
    {
     "name": "stderr",
     "output_type": "stream",
     "text": [
      "\r",
      " 33%|███▎      | 143877120/440473133 [00:07<00:13, 21251622.30B/s]"
     ]
    },
    {
     "name": "stderr",
     "output_type": "stream",
     "text": [
      "\r",
      " 33%|███▎      | 146030592/440473133 [00:07<00:14, 20406714.80B/s]"
     ]
    },
    {
     "name": "stderr",
     "output_type": "stream",
     "text": [
      "\r",
      " 34%|███▎      | 148595712/440473133 [00:07<00:13, 21209910.46B/s]"
     ]
    },
    {
     "name": "stderr",
     "output_type": "stream",
     "text": [
      "\r",
      " 34%|███▍      | 150744064/440473133 [00:07<00:14, 20393626.30B/s]"
     ]
    },
    {
     "name": "stderr",
     "output_type": "stream",
     "text": [
      "\r",
      " 35%|███▍      | 153330688/440473133 [00:07<00:13, 21231861.34B/s]"
     ]
    },
    {
     "name": "stderr",
     "output_type": "stream",
     "text": [
      "\r",
      " 35%|███▌      | 155481088/440473133 [00:07<00:14, 20352883.56B/s]"
     ]
    },
    {
     "name": "stderr",
     "output_type": "stream",
     "text": [
      "\r",
      " 36%|███▌      | 158065664/440473133 [00:07<00:13, 21241038.89B/s]"
     ]
    },
    {
     "name": "stderr",
     "output_type": "stream",
     "text": [
      "\r",
      " 36%|███▋      | 160219136/440473133 [00:08<00:13, 20317436.01B/s]"
     ]
    },
    {
     "name": "stderr",
     "output_type": "stream",
     "text": [
      "\r",
      " 37%|███▋      | 162800640/440473133 [00:08<00:13, 21256882.39B/s]"
     ]
    },
    {
     "name": "stderr",
     "output_type": "stream",
     "text": [
      "\r",
      " 37%|███▋      | 164958208/440473133 [00:08<00:13, 20322559.38B/s]"
     ]
    },
    {
     "name": "stderr",
     "output_type": "stream",
     "text": [
      "\r",
      " 38%|███▊      | 167535616/440473133 [00:08<00:12, 21275896.38B/s]"
     ]
    },
    {
     "name": "stderr",
     "output_type": "stream",
     "text": [
      "\r",
      " 39%|███▊      | 169697280/440473133 [00:08<00:13, 19767450.16B/s]"
     ]
    },
    {
     "name": "stderr",
     "output_type": "stream",
     "text": [
      "\r",
      " 39%|███▉      | 172352512/440473133 [00:08<00:12, 21306229.14B/s]"
     ]
    },
    {
     "name": "stderr",
     "output_type": "stream",
     "text": [
      "\r",
      " 40%|███▉      | 174548992/440473133 [00:08<00:13, 19968091.27B/s]"
     ]
    },
    {
     "name": "stderr",
     "output_type": "stream",
     "text": [
      "\r",
      " 40%|████      | 177098752/440473133 [00:08<00:12, 21357220.12B/s]"
     ]
    },
    {
     "name": "stderr",
     "output_type": "stream",
     "text": [
      "\r",
      " 41%|████      | 179305472/440473133 [00:08<00:13, 20070911.51B/s]"
     ]
    },
    {
     "name": "stderr",
     "output_type": "stream",
     "text": [
      "\r",
      " 41%|████▏     | 181868544/440473133 [00:09<00:12, 21467745.05B/s]"
     ]
    },
    {
     "name": "stderr",
     "output_type": "stream",
     "text": [
      "\r",
      " 42%|████▏     | 184088576/440473133 [00:09<00:12, 20189827.46B/s]"
     ]
    },
    {
     "name": "stderr",
     "output_type": "stream",
     "text": [
      "\r",
      " 42%|████▏     | 186606592/440473133 [00:09<00:13, 19459417.85B/s]"
     ]
    },
    {
     "name": "stderr",
     "output_type": "stream",
     "text": [
      "\r",
      " 43%|████▎     | 189621248/440473133 [00:09<00:11, 21617374.08B/s]"
     ]
    },
    {
     "name": "stderr",
     "output_type": "stream",
     "text": [
      "\r",
      " 44%|████▎     | 191895552/440473133 [00:09<00:12, 20215385.74B/s]"
     ]
    },
    {
     "name": "stderr",
     "output_type": "stream",
     "text": [
      "\r",
      " 44%|████▍     | 194438144/440473133 [00:09<00:11, 21503299.13B/s]"
     ]
    },
    {
     "name": "stderr",
     "output_type": "stream",
     "text": [
      "\r",
      " 45%|████▍     | 196679680/440473133 [00:09<00:12, 20278827.68B/s]"
     ]
    },
    {
     "name": "stderr",
     "output_type": "stream",
     "text": [
      "\r",
      " 45%|████▌     | 199189504/440473133 [00:09<00:11, 21516958.26B/s]"
     ]
    },
    {
     "name": "stderr",
     "output_type": "stream",
     "text": [
      "\r",
      " 46%|████▌     | 201416704/440473133 [00:09<00:11, 20274330.09B/s]"
     ]
    },
    {
     "name": "stderr",
     "output_type": "stream",
     "text": [
      "\r",
      " 46%|████▋     | 203908096/440473133 [00:10<00:11, 21470248.85B/s]"
     ]
    },
    {
     "name": "stderr",
     "output_type": "stream",
     "text": [
      "\r",
      " 47%|████▋     | 206121984/440473133 [00:10<00:11, 20213719.41B/s]"
     ]
    },
    {
     "name": "stderr",
     "output_type": "stream",
     "text": [
      "\r",
      " 47%|████▋     | 208626688/440473133 [00:10<00:10, 21454112.76B/s]"
     ]
    },
    {
     "name": "stderr",
     "output_type": "stream",
     "text": [
      "\r",
      " 48%|████▊     | 210836480/440473133 [00:10<00:11, 20174351.13B/s]"
     ]
    },
    {
     "name": "stderr",
     "output_type": "stream",
     "text": [
      "\r",
      " 48%|████▊     | 213361664/440473133 [00:10<00:10, 21461713.63B/s]"
     ]
    },
    {
     "name": "stderr",
     "output_type": "stream",
     "text": [
      "\r",
      " 49%|████▉     | 215573504/440473133 [00:10<00:11, 20122488.62B/s]"
     ]
    },
    {
     "name": "stderr",
     "output_type": "stream",
     "text": [
      "\r",
      " 50%|████▉     | 218140672/440473133 [00:10<00:10, 21517872.65B/s]"
     ]
    },
    {
     "name": "stderr",
     "output_type": "stream",
     "text": [
      "\r",
      " 50%|█████     | 220363776/440473133 [00:10<00:10, 20155260.44B/s]"
     ]
    },
    {
     "name": "stderr",
     "output_type": "stream",
     "text": [
      "\r",
      " 51%|█████     | 222897152/440473133 [00:11<00:11, 19484896.86B/s]"
     ]
    },
    {
     "name": "stderr",
     "output_type": "stream",
     "text": [
      "\r",
      " 51%|█████▏    | 225911808/440473133 [00:11<00:09, 21653530.26B/s]"
     ]
    },
    {
     "name": "stderr",
     "output_type": "stream",
     "text": [
      "\r",
      " 52%|█████▏    | 228190208/440473133 [00:11<00:10, 20054071.96B/s]"
     ]
    },
    {
     "name": "stderr",
     "output_type": "stream",
     "text": [
      "\r",
      " 52%|█████▏    | 230777856/440473133 [00:11<00:10, 19668981.87B/s]"
     ]
    },
    {
     "name": "stderr",
     "output_type": "stream",
     "text": [
      "\r",
      " 53%|█████▎    | 233792512/440473133 [00:11<00:09, 21775846.11B/s]"
     ]
    },
    {
     "name": "stderr",
     "output_type": "stream",
     "text": [
      "\r",
      " 54%|█████▎    | 236092416/440473133 [00:11<00:10, 20155092.28B/s]"
     ]
    },
    {
     "name": "stderr",
     "output_type": "stream",
     "text": [
      "\r",
      " 54%|█████▍    | 238674944/440473133 [00:11<00:10, 19691832.36B/s]"
     ]
    },
    {
     "name": "stderr",
     "output_type": "stream",
     "text": [
      "\r",
      " 55%|█████▍    | 241689600/440473133 [00:11<00:09, 21823434.07B/s]"
     ]
    },
    {
     "name": "stderr",
     "output_type": "stream",
     "text": [
      "\r",
      " 55%|█████▌    | 243999744/440473133 [00:12<00:09, 20226482.55B/s]"
     ]
    },
    {
     "name": "stderr",
     "output_type": "stream",
     "text": [
      "\r",
      " 56%|█████▌    | 246572032/440473133 [00:12<00:09, 19701189.73B/s]"
     ]
    },
    {
     "name": "stderr",
     "output_type": "stream",
     "text": [
      "\r",
      " 57%|█████▋    | 249570304/440473133 [00:12<00:08, 21832381.66B/s]"
     ]
    },
    {
     "name": "stderr",
     "output_type": "stream",
     "text": [
      "\r",
      " 57%|█████▋    | 251883520/440473133 [00:12<00:09, 20201781.55B/s]"
     ]
    },
    {
     "name": "stderr",
     "output_type": "stream",
     "text": [
      "\r",
      " 58%|█████▊    | 254452736/440473133 [00:12<00:09, 19715423.93B/s]"
     ]
    },
    {
     "name": "stderr",
     "output_type": "stream",
     "text": [
      "\r",
      " 58%|█████▊    | 257451008/440473133 [00:12<00:08, 21835740.34B/s]"
     ]
    },
    {
     "name": "stderr",
     "output_type": "stream",
     "text": [
      "\r",
      " 59%|█████▉    | 259764224/440473133 [00:12<00:08, 20192630.59B/s]"
     ]
    },
    {
     "name": "stderr",
     "output_type": "stream",
     "text": [
      "\r",
      " 60%|█████▉    | 262349824/440473133 [00:12<00:09, 19757261.73B/s]"
     ]
    },
    {
     "name": "stderr",
     "output_type": "stream",
     "text": [
      "\r",
      " 60%|██████    | 265348096/440473133 [00:13<00:08, 21866890.02B/s]"
     ]
    },
    {
     "name": "stderr",
     "output_type": "stream",
     "text": [
      "\r",
      " 61%|██████    | 267663360/440473133 [00:13<00:08, 20205326.93B/s]"
     ]
    },
    {
     "name": "stderr",
     "output_type": "stream",
     "text": [
      "\r",
      " 61%|██████▏   | 270230528/440473133 [00:13<00:08, 19743252.90B/s]"
     ]
    },
    {
     "name": "stderr",
     "output_type": "stream",
     "text": [
      "\r",
      " 62%|██████▏   | 273228800/440473133 [00:13<00:07, 21854363.23B/s]"
     ]
    },
    {
     "name": "stderr",
     "output_type": "stream",
     "text": [
      "\r",
      " 63%|██████▎   | 275543040/440473133 [00:13<00:08, 20200420.49B/s]"
     ]
    },
    {
     "name": "stderr",
     "output_type": "stream",
     "text": [
      "\r",
      " 63%|██████▎   | 278111232/440473133 [00:13<00:08, 19742102.35B/s]"
     ]
    },
    {
     "name": "stderr",
     "output_type": "stream",
     "text": [
      "\r",
      " 64%|██████▍   | 281125888/440473133 [00:13<00:07, 21867230.23B/s]"
     ]
    },
    {
     "name": "stderr",
     "output_type": "stream",
     "text": [
      "\r",
      " 64%|██████▍   | 283442176/440473133 [00:13<00:07, 20205067.01B/s]"
     ]
    },
    {
     "name": "stderr",
     "output_type": "stream",
     "text": [
      "\r",
      " 65%|██████▍   | 286008320/440473133 [00:14<00:07, 19720060.80B/s]"
     ]
    },
    {
     "name": "stderr",
     "output_type": "stream",
     "text": [
      "\r",
      " 66%|██████▌   | 289006592/440473133 [00:14<00:06, 21858683.26B/s]"
     ]
    },
    {
     "name": "stderr",
     "output_type": "stream",
     "text": [
      "\r",
      " 66%|██████▌   | 291323904/440473133 [00:14<00:07, 20203866.82B/s]"
     ]
    },
    {
     "name": "stderr",
     "output_type": "stream",
     "text": [
      "\r",
      " 67%|██████▋   | 293889024/440473133 [00:14<00:07, 19708337.23B/s]"
     ]
    },
    {
     "name": "stderr",
     "output_type": "stream",
     "text": [
      "\r",
      " 67%|██████▋   | 296903680/440473133 [00:14<00:06, 21869007.59B/s]"
     ]
    },
    {
     "name": "stderr",
     "output_type": "stream",
     "text": [
      "\r",
      " 68%|██████▊   | 299224064/440473133 [00:14<00:06, 20228821.99B/s]"
     ]
    },
    {
     "name": "stderr",
     "output_type": "stream",
     "text": [
      "\r",
      " 69%|██████▊   | 301786112/440473133 [00:14<00:07, 19717133.38B/s]"
     ]
    },
    {
     "name": "stderr",
     "output_type": "stream",
     "text": [
      "\r",
      " 69%|██████▉   | 304800768/440473133 [00:14<00:06, 21874748.89B/s]"
     ]
    },
    {
     "name": "stderr",
     "output_type": "stream",
     "text": [
      "\r",
      " 70%|██████▉   | 307122176/440473133 [00:15<00:06, 20228054.67B/s]"
     ]
    },
    {
     "name": "stderr",
     "output_type": "stream",
     "text": [
      "\r",
      " 70%|███████   | 309666816/440473133 [00:15<00:06, 19691548.53B/s]"
     ]
    },
    {
     "name": "stderr",
     "output_type": "stream",
     "text": [
      "\r",
      " 71%|███████   | 312681472/440473133 [00:15<00:05, 21864114.43B/s]"
     ]
    },
    {
     "name": "stderr",
     "output_type": "stream",
     "text": [
      "\r",
      " 72%|███████▏  | 315003904/440473133 [00:15<00:06, 20195597.66B/s]"
     ]
    },
    {
     "name": "stderr",
     "output_type": "stream",
     "text": [
      "\r",
      " 72%|███████▏  | 317563904/440473133 [00:15<00:06, 19690168.42B/s]"
     ]
    },
    {
     "name": "stderr",
     "output_type": "stream",
     "text": [
      "\r",
      " 73%|███████▎  | 320578560/440473133 [00:15<00:05, 21874213.22B/s]"
     ]
    },
    {
     "name": "stderr",
     "output_type": "stream",
     "text": [
      "\r",
      " 73%|███████▎  | 322903040/440473133 [00:15<00:05, 20201038.80B/s]"
     ]
    },
    {
     "name": "stderr",
     "output_type": "stream",
     "text": [
      "\r",
      " 74%|███████▍  | 325444608/440473133 [00:15<00:05, 19654175.79B/s]"
     ]
    },
    {
     "name": "stderr",
     "output_type": "stream",
     "text": [
      "\r",
      " 75%|███████▍  | 328459264/440473133 [00:16<00:05, 21857367.89B/s]"
     ]
    },
    {
     "name": "stderr",
     "output_type": "stream",
     "text": [
      "\r",
      " 75%|███████▌  | 330784768/440473133 [00:16<00:05, 20197997.92B/s]"
     ]
    },
    {
     "name": "stderr",
     "output_type": "stream",
     "text": [
      "\r",
      " 76%|███████▌  | 333341696/440473133 [00:16<00:05, 19660514.93B/s]"
     ]
    },
    {
     "name": "stderr",
     "output_type": "stream",
     "text": [
      "\r",
      " 76%|███████▋  | 336339968/440473133 [00:16<00:04, 21862836.72B/s]"
     ]
    },
    {
     "name": "stderr",
     "output_type": "stream",
     "text": [
      "\r",
      " 77%|███████▋  | 338667520/440473133 [00:16<00:05, 20178563.82B/s]"
     ]
    },
    {
     "name": "stderr",
     "output_type": "stream",
     "text": [
      "\r",
      " 77%|███████▋  | 341222400/440473133 [00:16<00:05, 19669269.96B/s]"
     ]
    },
    {
     "name": "stderr",
     "output_type": "stream",
     "text": [
      "\r",
      " 78%|███████▊  | 344237056/440473133 [00:16<00:04, 21896941.32B/s]"
     ]
    },
    {
     "name": "stderr",
     "output_type": "stream",
     "text": [
      "\r",
      " 79%|███████▊  | 346569728/440473133 [00:16<00:04, 20203563.37B/s]"
     ]
    },
    {
     "name": "stderr",
     "output_type": "stream",
     "text": [
      "\r",
      " 79%|███████▉  | 349119488/440473133 [00:17<00:04, 19682509.54B/s]"
     ]
    },
    {
     "name": "stderr",
     "output_type": "stream",
     "text": [
      "\r",
      " 80%|███████▉  | 352117760/440473133 [00:17<00:04, 21882613.20B/s]"
     ]
    },
    {
     "name": "stderr",
     "output_type": "stream",
     "text": [
      "\r",
      " 80%|████████  | 354447360/440473133 [00:17<00:04, 20194924.90B/s]"
     ]
    },
    {
     "name": "stderr",
     "output_type": "stream",
     "text": [
      "\r",
      " 81%|████████  | 357000192/440473133 [00:17<00:04, 19681457.47B/s]"
     ]
    },
    {
     "name": "stderr",
     "output_type": "stream",
     "text": [
      "\r",
      " 82%|████████▏ | 360014848/440473133 [00:17<00:03, 21903790.08B/s]"
     ]
    },
    {
     "name": "stderr",
     "output_type": "stream",
     "text": [
      "\r",
      " 82%|████████▏ | 362348544/440473133 [00:17<00:03, 20185640.23B/s]"
     ]
    },
    {
     "name": "stderr",
     "output_type": "stream",
     "text": [
      "\r",
      " 83%|████████▎ | 364880896/440473133 [00:17<00:03, 19654002.72B/s]"
     ]
    },
    {
     "name": "stderr",
     "output_type": "stream",
     "text": [
      "\r",
      " 84%|████████▎ | 367895552/440473133 [00:17<00:03, 21876277.09B/s]"
     ]
    },
    {
     "name": "stderr",
     "output_type": "stream",
     "text": [
      "\r",
      " 84%|████████▍ | 370227200/440473133 [00:18<00:03, 20180096.40B/s]"
     ]
    },
    {
     "name": "stderr",
     "output_type": "stream",
     "text": [
      "\r",
      " 85%|████████▍ | 372777984/440473133 [00:18<00:03, 19681243.84B/s]"
     ]
    },
    {
     "name": "stderr",
     "output_type": "stream",
     "text": [
      "\r",
      " 85%|████████▌ | 375792640/440473133 [00:18<00:02, 21904845.68B/s]"
     ]
    },
    {
     "name": "stderr",
     "output_type": "stream",
     "text": [
      "\r",
      " 86%|████████▌ | 378127360/440473133 [00:18<00:03, 20195868.65B/s]"
     ]
    },
    {
     "name": "stderr",
     "output_type": "stream",
     "text": [
      "\r",
      " 86%|████████▋ | 380658688/440473133 [00:18<00:03, 19642533.72B/s]"
     ]
    },
    {
     "name": "stderr",
     "output_type": "stream",
     "text": [
      "\r",
      " 87%|████████▋ | 383673344/440473133 [00:18<00:02, 21869506.21B/s]"
     ]
    },
    {
     "name": "stderr",
     "output_type": "stream",
     "text": [
      "\r",
      " 88%|████████▊ | 386004992/440473133 [00:18<00:02, 20160877.11B/s]"
     ]
    },
    {
     "name": "stderr",
     "output_type": "stream",
     "text": [
      "\r",
      " 88%|████████▊ | 388555776/440473133 [00:18<00:02, 19675529.34B/s]"
     ]
    },
    {
     "name": "stderr",
     "output_type": "stream",
     "text": [
      "\r",
      " 89%|████████▉ | 391570432/440473133 [00:19<00:02, 21903361.43B/s]"
     ]
    },
    {
     "name": "stderr",
     "output_type": "stream",
     "text": [
      "\r",
      " 89%|████████▉ | 393905152/440473133 [00:19<00:02, 20186854.91B/s]"
     ]
    },
    {
     "name": "stderr",
     "output_type": "stream",
     "text": [
      "\r",
      " 90%|█████████ | 396436480/440473133 [00:19<00:02, 19642242.41B/s]"
     ]
    },
    {
     "name": "stderr",
     "output_type": "stream",
     "text": [
      "\r",
      " 91%|█████████ | 399451136/440473133 [00:19<00:01, 21891528.10B/s]"
     ]
    },
    {
     "name": "stderr",
     "output_type": "stream",
     "text": [
      "\r",
      " 91%|█████████ | 401787904/440473133 [00:19<00:01, 20175011.55B/s]"
     ]
    },
    {
     "name": "stderr",
     "output_type": "stream",
     "text": [
      "\r",
      " 92%|█████████▏| 404333568/440473133 [00:19<00:01, 19666375.00B/s]"
     ]
    },
    {
     "name": "stderr",
     "output_type": "stream",
     "text": [
      "\r",
      " 92%|█████████▏| 407348224/440473133 [00:19<00:01, 21918579.37B/s]"
     ]
    },
    {
     "name": "stderr",
     "output_type": "stream",
     "text": [
      "\r",
      " 93%|█████████▎| 409688064/440473133 [00:19<00:01, 20181427.51B/s]"
     ]
    },
    {
     "name": "stderr",
     "output_type": "stream",
     "text": [
      "\r",
      " 94%|█████████▎| 412230656/440473133 [00:20<00:01, 19680032.44B/s]"
     ]
    },
    {
     "name": "stderr",
     "output_type": "stream",
     "text": [
      "\r",
      " 94%|█████████▍| 415228928/440473133 [00:20<00:01, 21906014.13B/s]"
     ]
    },
    {
     "name": "stderr",
     "output_type": "stream",
     "text": [
      "\r",
      " 95%|█████████▍| 417565696/440473133 [00:20<00:01, 20165171.66B/s]"
     ]
    },
    {
     "name": "stderr",
     "output_type": "stream",
     "text": [
      "\r",
      " 95%|█████████▌| 420111360/440473133 [00:20<00:01, 19668455.42B/s]"
     ]
    },
    {
     "name": "stderr",
     "output_type": "stream",
     "text": [
      "\r",
      " 96%|█████████▌| 423126016/440473133 [00:20<00:00, 21918461.78B/s]"
     ]
    },
    {
     "name": "stderr",
     "output_type": "stream",
     "text": [
      "\r",
      " 97%|█████████▋| 425465856/440473133 [00:20<00:00, 20188531.58B/s]"
     ]
    },
    {
     "name": "stderr",
     "output_type": "stream",
     "text": [
      "\r",
      " 97%|█████████▋| 427992064/440473133 [00:20<00:00, 19647384.42B/s]"
     ]
    },
    {
     "name": "stderr",
     "output_type": "stream",
     "text": [
      "\r",
      " 98%|█████████▊| 431006720/440473133 [00:20<00:00, 21893132.67B/s]"
     ]
    },
    {
     "name": "stderr",
     "output_type": "stream",
     "text": [
      "\r",
      " 98%|█████████▊| 433344512/440473133 [00:21<00:00, 20162011.65B/s]"
     ]
    },
    {
     "name": "stderr",
     "output_type": "stream",
     "text": [
      "\r",
      " 99%|█████████▉| 435889152/440473133 [00:21<00:00, 19671636.70B/s]"
     ]
    },
    {
     "name": "stderr",
     "output_type": "stream",
     "text": [
      "\r",
      "100%|█████████▉| 438887424/440473133 [00:21<00:00, 21894053.77B/s]"
     ]
    },
    {
     "name": "stderr",
     "output_type": "stream",
     "text": [
      "\r",
      "100%|██████████| 440473133/440473133 [00:21<00:00, 20641369.99B/s]"
     ]
    },
    {
     "name": "stderr",
     "output_type": "stream",
     "text": [
      "\n"
     ]
    },
    {
     "name": "stderr",
     "output_type": "stream",
     "text": [
      "\r",
      "  0%|          | 0/231508 [00:00<?, ?B/s]"
     ]
    },
    {
     "name": "stderr",
     "output_type": "stream",
     "text": [
      "\r",
      " 15%|█▌        | 34816/231508 [00:00<00:00, 250451.73B/s]"
     ]
    },
    {
     "name": "stderr",
     "output_type": "stream",
     "text": [
      "\r",
      " 68%|██████▊   | 156672/231508 [00:00<00:00, 325735.08B/s]"
     ]
    },
    {
     "name": "stderr",
     "output_type": "stream",
     "text": [
      "\r",
      "100%|██████████| 231508/231508 [00:00<00:00, 911404.52B/s]"
     ]
    },
    {
     "name": "stderr",
     "output_type": "stream",
     "text": [
      "\n"
     ]
    }
   ],
   "source": [
    "import numpy as np\n",
    "import torch\n",
    "from pytorch_transformers import BertModel, BertTokenizer\n",
    "\n",
    "model = BertModel.from_pretrained(\"bert-base-uncased\")\n",
    "tokenizer = BertTokenizer.from_pretrained(\"bert-base-uncased\")\n",
    "\n",
    "\n",
    "def encode_text(text):\n",
    "    input_ids = torch.tensor([tokenizer.encode(text)])\n",
    "    return model(input_ids)[0].mean(1)[0].detach().numpy()\n",
    "\n",
    "\n",
    "train_vectors = np.array(list(df_train.tweet_text.apply(encode_text).values))\n",
    "test_vectors = np.array(list(df_test.tweet_text.apply(encode_text).values))"
   ]
  },
  {
   "cell_type": "markdown",
   "metadata": {},
   "source": [
    "### Model on soft labels\n",
    "Now, we train a simple logistic regression model on the BERT features, using labels\n",
    "obtained from our label model."
   ]
  },
  {
   "cell_type": "code",
   "execution_count": 18,
   "metadata": {},
   "outputs": [
    {
     "name": "stdout",
     "output_type": "stream",
     "text": [
      "Accuracy of trained model: 0.86\n"
     ]
    }
   ],
   "source": [
    "from sklearn.linear_model import LogisticRegression\n",
    "\n",
    "sklearn_model = LogisticRegression(solver=\"liblinear\")\n",
    "sklearn_model.fit(train_vectors, probs_to_preds(Y_train_prob))\n",
    "\n",
    "print(f\"Accuracy of trained model: {sklearn_model.score(test_vectors, Y_test)}\")"
   ]
  }
 ],
 "metadata": {
  "jupytext": {
   "cell_metadata_filter": "-all"
  },
  "kernelspec": {
   "display_name": "Python 3",
   "language": "python",
   "name": "python3"
  },
  "language_info": {
   "codemirror_mode": {
    "name": "ipython",
    "version": 3
   },
   "file_extension": ".py",
   "mimetype": "text/x-python",
   "name": "python",
   "nbconvert_exporter": "python",
   "pygments_lexer": "ipython3",
   "version": "3.6.8"
  }
 },
 "nbformat": 4,
 "nbformat_minor": 2
}
