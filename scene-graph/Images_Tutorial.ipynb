{
 "cells": [
  {
   "cell_type": "markdown",
   "metadata": {},
   "source": [
    "# Classifying Visual Relationships"
   ]
  },
  {
   "cell_type": "code",
   "execution_count": 1,
   "metadata": {},
   "outputs": [],
   "source": [
    "%load_ext autoreload\n",
    "%autoreload 2\n",
    "\n",
    "import numpy as np\n",
    "import pandas as pd\n",
    "import matplotlib.pyplot as plt\n",
    "%matplotlib inline"
   ]
  },
  {
   "cell_type": "code",
   "execution_count": 3,
   "metadata": {},
   "outputs": [
    {
     "name": "stdout",
     "output_type": "stream",
     "text": [
      "Train Images:  3000\n",
      "Dev Images:  1000\n",
      "Test Images:  1000\n"
     ]
    }
   ],
   "source": [
    "import json\n",
    "\n",
    "objects = json.load(open(\"./data/VRD/objects.json\"))\n",
    "predicates = json.load(open(\"./data/VRD/predicates.json\"))\n",
    "semantic_predicates = ['carry', 'cover', 'fly', 'look', 'lying on', 'park on', 'sit on', 'stand on', 'ride']\n",
    "\n",
    "\n",
    "relationships_train = json.load(open(\"./data/VRD/annotations_train.json\"))\n",
    "relationships_test = json.load(open(\"./data/VRD/annotations_test.json\"))\n",
    "\n",
    "np.random.seed(123)\n",
    "val_idx = list(np.random.choice(len(relationships_train), 1000, replace=False))\n",
    "relationships_val = {key: value for i, (key, value) in enumerate(relationships_train.items()) if i in val_idx}\n",
    "relationships_train = {key: value for i, (key, value) in enumerate(relationships_train.items()) if i not in val_idx}\n",
    "\n",
    "print(\"Train Images: \", len(relationships_train))\n",
    "print(\"Dev Images: \", len(relationships_val))\n",
    "print(\"Test Images: \", len(relationships_test))"
   ]
  },
  {
   "cell_type": "code",
   "execution_count": 4,
   "metadata": {},
   "outputs": [],
   "source": [
    "def flatten_vrd_relationship(img, relationship, objects, predicates):\n",
    "    new_relationship_dict = {}\n",
    "    new_relationship_dict['subject_category'] = objects[relationship['subject']['category']]\n",
    "    new_relationship_dict['object_category'] = objects[relationship['object']['category']]\n",
    "    new_relationship_dict['subject_bbox'] = relationship['subject']['bbox']\n",
    "    new_relationship_dict['object_bbox'] = relationship['object']['bbox']\n",
    "\n",
    "    new_relationship_dict['label'] = 1 if predicates[relationship['predicate']] == 'ride' else 2\n",
    "    new_relationship_dict['source_img'] = img\n",
    "    \n",
    "    return new_relationship_dict"
   ]
  },
  {
   "cell_type": "code",
   "execution_count": 5,
   "metadata": {},
   "outputs": [],
   "source": [
    "def vrd_to_pandas(relationships_set, objects, predicates, list_of_predicates=semantic_predicates):\n",
    "    relationships = []\n",
    "\n",
    "    for img in relationships_set:\n",
    "        img_relationships = relationships_set[img]\n",
    "        for relationship in img_relationships:\n",
    "            predicate_idx = relationship['predicate']\n",
    "            if predicates[predicate_idx] in list_of_predicates:\n",
    "                relationships.append(flatten_vrd_relationship(img, relationship, objects, predicates))\n",
    "\n",
    "    return pd.DataFrame.from_dict(relationships)"
   ]
  },
  {
   "cell_type": "code",
   "execution_count": 6,
   "metadata": {},
   "outputs": [
    {
     "name": "stdout",
     "output_type": "stream",
     "text": [
      "Train Relationships:  635\n",
      "Dev Relationships:  216\n",
      "Test Relationships:  194\n"
     ]
    },
    {
     "data": {
      "text/html": [
       "<div>\n",
       "<style scoped>\n",
       "    .dataframe tbody tr th:only-of-type {\n",
       "        vertical-align: middle;\n",
       "    }\n",
       "\n",
       "    .dataframe tbody tr th {\n",
       "        vertical-align: top;\n",
       "    }\n",
       "\n",
       "    .dataframe thead th {\n",
       "        text-align: right;\n",
       "    }\n",
       "</style>\n",
       "<table border=\"1\" class=\"dataframe\">\n",
       "  <thead>\n",
       "    <tr style=\"text-align: right;\">\n",
       "      <th></th>\n",
       "      <th>label</th>\n",
       "      <th>object_bbox</th>\n",
       "      <th>object_category</th>\n",
       "      <th>source_img</th>\n",
       "      <th>subject_bbox</th>\n",
       "      <th>subject_category</th>\n",
       "    </tr>\n",
       "  </thead>\n",
       "  <tbody>\n",
       "    <tr>\n",
       "      <th>0</th>\n",
       "      <td>2</td>\n",
       "      <td>[140, 969, 324, 617]</td>\n",
       "      <td>person</td>\n",
       "      <td>5772517433_38c7350190_b.jpg</td>\n",
       "      <td>[8, 194, 313, 663]</td>\n",
       "      <td>umbrella</td>\n",
       "    </tr>\n",
       "    <tr>\n",
       "      <th>1</th>\n",
       "      <td>1</td>\n",
       "      <td>[485, 767, 120, 490]</td>\n",
       "      <td>elephant</td>\n",
       "      <td>7636226412_06a101a4d6_b.jpg</td>\n",
       "      <td>[347, 603, 259, 428]</td>\n",
       "      <td>person</td>\n",
       "    </tr>\n",
       "    <tr>\n",
       "      <th>2</th>\n",
       "      <td>2</td>\n",
       "      <td>[485, 767, 120, 490]</td>\n",
       "      <td>elephant</td>\n",
       "      <td>7636226412_06a101a4d6_b.jpg</td>\n",
       "      <td>[347, 603, 259, 428]</td>\n",
       "      <td>person</td>\n",
       "    </tr>\n",
       "    <tr>\n",
       "      <th>3</th>\n",
       "      <td>2</td>\n",
       "      <td>[347, 603, 259, 428]</td>\n",
       "      <td>person</td>\n",
       "      <td>7636226412_06a101a4d6_b.jpg</td>\n",
       "      <td>[485, 767, 120, 490]</td>\n",
       "      <td>elephant</td>\n",
       "    </tr>\n",
       "    <tr>\n",
       "      <th>4</th>\n",
       "      <td>2</td>\n",
       "      <td>[90, 221, 100, 918]</td>\n",
       "      <td>kite</td>\n",
       "      <td>3475527366_e262322074_b.jpg</td>\n",
       "      <td>[651, 700, 938, 962]</td>\n",
       "      <td>person</td>\n",
       "    </tr>\n",
       "  </tbody>\n",
       "</table>\n",
       "</div>"
      ],
      "text/plain": [
       "   label           object_bbox object_category                   source_img  \\\n",
       "0      2  [140, 969, 324, 617]          person  5772517433_38c7350190_b.jpg   \n",
       "1      1  [485, 767, 120, 490]        elephant  7636226412_06a101a4d6_b.jpg   \n",
       "2      2  [485, 767, 120, 490]        elephant  7636226412_06a101a4d6_b.jpg   \n",
       "3      2  [347, 603, 259, 428]          person  7636226412_06a101a4d6_b.jpg   \n",
       "4      2   [90, 221, 100, 918]            kite  3475527366_e262322074_b.jpg   \n",
       "\n",
       "           subject_bbox subject_category  \n",
       "0    [8, 194, 313, 663]         umbrella  \n",
       "1  [347, 603, 259, 428]           person  \n",
       "2  [347, 603, 259, 428]           person  \n",
       "3  [485, 767, 120, 490]         elephant  \n",
       "4  [651, 700, 938, 962]           person  "
      ]
     },
     "execution_count": 6,
     "metadata": {},
     "output_type": "execute_result"
    }
   ],
   "source": [
    "train_df = vrd_to_pandas(relationships_train, objects, predicates)\n",
    "valid_df = vrd_to_pandas(relationships_val, objects, predicates)\n",
    "test_df = vrd_to_pandas(relationships_test, objects, predicates)\n",
    "\n",
    "print(\"Train Relationships: \", len(train_df))\n",
    "print(\"Dev Relationships: \", len(valid_df))\n",
    "print(\"Test Relationships: \", len(test_df))\n",
    "\n",
    "valid_df.head()"
   ]
  },
  {
   "cell_type": "code",
   "execution_count": 7,
   "metadata": {},
   "outputs": [],
   "source": [
    "# ride_keys = []\n",
    "# other_keys = []\n",
    "\n",
    "# for img in relationships_test:\n",
    "#     img_relationships = relationships_test[img]\n",
    "#     for relationship in img_relationships:\n",
    "#         predicate_idx = relationship['predicate']\n",
    "#         if predicates[predicate_idx] == 'ride':\n",
    "#             ride_keys.append(img)\n",
    "#         elif predicates[predicate_idx] in semantic_predicates:\n",
    "#             other_keys.append(img)\n",
    "            \n",
    "# print(\"Number of ride relationships: \", len(ride_keys))\n",
    "# print(\"Number of other relationships: \", len(other_keys))\n",
    "# print(\"Percentage of Riding Relationships: \", len(ride_keys)/(len(ride_keys) + len(other_keys)))"
   ]
  },
  {
   "cell_type": "code",
   "execution_count": 8,
   "metadata": {},
   "outputs": [],
   "source": [
    "from snorkel.labeling.apply import PandasLFApplier\n",
    "from snorkel.labeling.lf import labeling_function\n",
    "\n",
    "POS = 1\n",
    "NEG = 2 \n",
    "ABSTAIN = 0"
   ]
  },
  {
   "cell_type": "code",
   "execution_count": 9,
   "metadata": {},
   "outputs": [],
   "source": [
    "lfs = []\n",
    "\n",
    "#Category-based LFs\n",
    "ride_objects = ['bike', 'snowboard', 'motorcycle', 'horse']\n",
    "@labeling_function(resources=dict(ride_objects=ride_objects))\n",
    "def LF_ride_object(x, ride_objects):\n",
    "    if x.subject_category == 'person':\n",
    "        if x.object_category in ride_objects:\n",
    "            return POS\n",
    "    return ABSTAIN\n",
    "lfs.append(LF_ride_object)\n",
    "\n",
    "rare_ride_objects = ['bus', 'truck', 'elephant']\n",
    "@labeling_function(resources=dict(rare_ride_objects=rare_ride_objects))\n",
    "def LF_ride_rare_object(x, rare_ride_objects):\n",
    "    if x.subject_category == 'person':\n",
    "        if x.object_category in rare_ride_objects:\n",
    "            return POS\n",
    "    return ABSTAIN\n",
    "lfs.append(LF_ride_rare_object)\n",
    "\n",
    "@labeling_function()\n",
    "def LF_person(x):\n",
    "    if x.subject_category != 'person':\n",
    "        return NEG\n",
    "    return ABSTAIN\n",
    "lfs.append(LF_person)\n",
    "\n",
    "\n",
    "#Distance-based LFs\n",
    "#bbox in the form [ymin, ymax, xmin, xmax]\n",
    "@labeling_function()\n",
    "def LF_ydist(x):\n",
    "    if x.subject_bbox[3] < x.object_bbox[3]:\n",
    "        return NEG\n",
    "    return ABSTAIN\n",
    "lfs.append(LF_ydist)\n",
    "\n",
    "@labeling_function()\n",
    "def LF_dist(x):\n",
    "    if np.linalg.norm(np.array(x.subject_bbox)-np.array(x.object_bbox)) <= 1000:\n",
    "        return NEG\n",
    "    return ABSTAIN\n",
    "lfs.append(LF_dist)\n",
    "\n",
    "#Size-based LF\n",
    "@labeling_function()\n",
    "def LF_area(x):\n",
    "    subject_area = (x.subject_bbox[1] - x.subject_bbox[0])*(x.subject_bbox[3] - x.subject_bbox[2])\n",
    "    object_area = (x.object_bbox[1] - x.object_bbox[0])*(x.object_bbox[3] - x.object_bbox[2])\n",
    "    \n",
    "    if subject_area/object_area <= 0.5:\n",
    "        return NEG\n",
    "    return ABSTAIN\n",
    "lfs.append(LF_area)"
   ]
  },
  {
   "cell_type": "code",
   "execution_count": 10,
   "metadata": {},
   "outputs": [
    {
     "name": "stderr",
     "output_type": "stream",
     "text": [
      "100%|██████████| 635/635 [00:00<00:00, 3796.76it/s]\n",
      "100%|██████████| 216/216 [00:00<00:00, 3652.76it/s]\n"
     ]
    }
   ],
   "source": [
    "from snorkel.labeling.apply import PandasLFApplier\n",
    "\n",
    "applier = PandasLFApplier(lfs)\n",
    "L_train = applier.apply(train_df)\n",
    "L_valid = applier.apply(valid_df)"
   ]
  },
  {
   "cell_type": "code",
   "execution_count": 11,
   "metadata": {},
   "outputs": [
    {
     "data": {
      "text/html": [
       "<div>\n",
       "<style scoped>\n",
       "    .dataframe tbody tr th:only-of-type {\n",
       "        vertical-align: middle;\n",
       "    }\n",
       "\n",
       "    .dataframe tbody tr th {\n",
       "        vertical-align: top;\n",
       "    }\n",
       "\n",
       "    .dataframe thead th {\n",
       "        text-align: right;\n",
       "    }\n",
       "</style>\n",
       "<table border=\"1\" class=\"dataframe\">\n",
       "  <thead>\n",
       "    <tr style=\"text-align: right;\">\n",
       "      <th></th>\n",
       "      <th>j</th>\n",
       "      <th>Polarity</th>\n",
       "      <th>Coverage</th>\n",
       "      <th>Overlaps</th>\n",
       "      <th>Conflicts</th>\n",
       "      <th>Correct</th>\n",
       "      <th>Incorrect</th>\n",
       "      <th>Emp. Acc.</th>\n",
       "    </tr>\n",
       "  </thead>\n",
       "  <tbody>\n",
       "    <tr>\n",
       "      <th>LF_ride_object</th>\n",
       "      <td>0</td>\n",
       "      <td>[1]</td>\n",
       "      <td>0.152778</td>\n",
       "      <td>0.152778</td>\n",
       "      <td>0.152778</td>\n",
       "      <td>25</td>\n",
       "      <td>8</td>\n",
       "      <td>0.757576</td>\n",
       "    </tr>\n",
       "    <tr>\n",
       "      <th>LF_ride_rare_object</th>\n",
       "      <td>1</td>\n",
       "      <td>[1]</td>\n",
       "      <td>0.023148</td>\n",
       "      <td>0.023148</td>\n",
       "      <td>0.023148</td>\n",
       "      <td>4</td>\n",
       "      <td>1</td>\n",
       "      <td>0.800000</td>\n",
       "    </tr>\n",
       "    <tr>\n",
       "      <th>LF_person</th>\n",
       "      <td>2</td>\n",
       "      <td>[2]</td>\n",
       "      <td>0.212963</td>\n",
       "      <td>0.203704</td>\n",
       "      <td>0.000000</td>\n",
       "      <td>44</td>\n",
       "      <td>2</td>\n",
       "      <td>0.956522</td>\n",
       "    </tr>\n",
       "    <tr>\n",
       "      <th>LF_ydist</th>\n",
       "      <td>3</td>\n",
       "      <td>[2]</td>\n",
       "      <td>0.560185</td>\n",
       "      <td>0.550926</td>\n",
       "      <td>0.129630</td>\n",
       "      <td>92</td>\n",
       "      <td>29</td>\n",
       "      <td>0.760331</td>\n",
       "    </tr>\n",
       "    <tr>\n",
       "      <th>LF_dist</th>\n",
       "      <td>4</td>\n",
       "      <td>[2]</td>\n",
       "      <td>0.962963</td>\n",
       "      <td>0.703704</td>\n",
       "      <td>0.175926</td>\n",
       "      <td>159</td>\n",
       "      <td>49</td>\n",
       "      <td>0.764423</td>\n",
       "    </tr>\n",
       "    <tr>\n",
       "      <th>LF_area</th>\n",
       "      <td>5</td>\n",
       "      <td>[2]</td>\n",
       "      <td>0.296296</td>\n",
       "      <td>0.291667</td>\n",
       "      <td>0.069444</td>\n",
       "      <td>51</td>\n",
       "      <td>13</td>\n",
       "      <td>0.796875</td>\n",
       "    </tr>\n",
       "  </tbody>\n",
       "</table>\n",
       "</div>"
      ],
      "text/plain": [
       "                     j Polarity  Coverage  Overlaps  Conflicts  Correct  \\\n",
       "LF_ride_object       0      [1]  0.152778  0.152778   0.152778       25   \n",
       "LF_ride_rare_object  1      [1]  0.023148  0.023148   0.023148        4   \n",
       "LF_person            2      [2]  0.212963  0.203704   0.000000       44   \n",
       "LF_ydist             3      [2]  0.560185  0.550926   0.129630       92   \n",
       "LF_dist              4      [2]  0.962963  0.703704   0.175926      159   \n",
       "LF_area              5      [2]  0.296296  0.291667   0.069444       51   \n",
       "\n",
       "                     Incorrect  Emp. Acc.  \n",
       "LF_ride_object               8   0.757576  \n",
       "LF_ride_rare_object          1   0.800000  \n",
       "LF_person                    2   0.956522  \n",
       "LF_ydist                    29   0.760331  \n",
       "LF_dist                     49   0.764423  \n",
       "LF_area                     13   0.796875  "
      ]
     },
     "execution_count": 11,
     "metadata": {},
     "output_type": "execute_result"
    }
   ],
   "source": [
    "from snorkel.analysis.utils import convert_labels\n",
    "from snorkel.labeling.analysis import lf_summary\n",
    "\n",
    "Y_valid = valid_df.label.values\n",
    "lf_names= [lf.name for lf in lfs]\n",
    "lf_summary(L_valid, Y_valid, lf_names=lf_names)"
   ]
  },
  {
   "cell_type": "code",
   "execution_count": 12,
   "metadata": {},
   "outputs": [
    {
     "data": {
      "text/plain": [
       "0.26190476190476186"
      ]
     },
     "execution_count": 12,
     "metadata": {},
     "output_type": "execute_result"
    }
   ],
   "source": [
    "from snorkel.labeling.model import RandomVoter\n",
    "from snorkel.analysis.metrics import metric_score\n",
    "from snorkel.analysis.utils import probs_to_preds\n",
    "\n",
    "rv_model = RandomVoter()\n",
    "Y_probs_valid = rv_model.predict_proba(L_valid)\n",
    "Y_preds_valid = probs_to_preds(Y_probs_valid)\n",
    "metric_score(Y_valid, Y_preds_valid, probs=None, metric=\"f1\")"
   ]
  },
  {
   "cell_type": "code",
   "execution_count": 13,
   "metadata": {},
   "outputs": [
    {
     "data": {
      "text/plain": [
       "0.369811320754717"
      ]
     },
     "execution_count": 13,
     "metadata": {},
     "output_type": "execute_result"
    }
   ],
   "source": [
    "from snorkel.labeling.model import MajorityClassVoter\n",
    "\n",
    "mc_model = MajorityClassVoter()\n",
    "mc_model.train_model(balance=[0.8, 0.2])\n",
    "Y_probs_valid = mc_model.predict_proba(L_valid)\n",
    "Y_preds_valid = probs_to_preds(Y_probs_valid)\n",
    "metric_score(Y_valid, Y_preds_valid, probs=None, metric=\"f1\")"
   ]
  },
  {
   "cell_type": "code",
   "execution_count": 14,
   "metadata": {},
   "outputs": [
    {
     "data": {
      "text/plain": [
       "0.23728813559322035"
      ]
     },
     "execution_count": 14,
     "metadata": {},
     "output_type": "execute_result"
    }
   ],
   "source": [
    "from snorkel.labeling.model import MajorityLabelVoter\n",
    "\n",
    "mv_model = MajorityLabelVoter()\n",
    "Y_probs_valid = mv_model.predict_proba(L_valid)\n",
    "Y_preds_valid = probs_to_preds(Y_probs_valid)\n",
    "metric_score(Y_valid, Y_preds_valid, probs=None, metric=\"f1\")"
   ]
  },
  {
   "cell_type": "code",
   "execution_count": 17,
   "metadata": {},
   "outputs": [
    {
     "name": "stdout",
     "output_type": "stream",
     "text": [
      "Computing O...\n",
      "Estimating \\mu...\n",
      "[10 epochs]: TRAIN:[loss=1.214]\n",
      "[10 epochs]: TRAIN:[loss=0.078]\n",
      "[10 epochs]: TRAIN:[loss=0.143]\n",
      "[10 epochs]: TRAIN:[loss=0.027]\n",
      "[10 epochs]: TRAIN:[loss=0.033]\n",
      "[10 epochs]: TRAIN:[loss=0.019]\n",
      "[10 epochs]: TRAIN:[loss=0.018]\n",
      "[10 epochs]: TRAIN:[loss=0.017]\n",
      "[10 epochs]: TRAIN:[loss=0.016]\n",
      "[10 epochs]: TRAIN:[loss=0.016]\n",
      "Finished Training\n"
     ]
    }
   ],
   "source": [
    "from snorkel.labeling.model import LabelModel\n",
    "\n",
    "label_model = LabelModel(cardinality=2, verbose=True, seed=123)\n",
    "label_model.train_model(L_train, class_balance=[0.8, 0.2], seed=123, lr=0.005, log_train_every=10)"
   ]
  },
  {
   "cell_type": "code",
   "execution_count": 16,
   "metadata": {},
   "outputs": [
    {
     "data": {
      "text/plain": [
       "0.4114285714285714"
      ]
     },
     "execution_count": 16,
     "metadata": {},
     "output_type": "execute_result"
    }
   ],
   "source": [
    "Y_probs_valid = label_model.predict_proba(L_valid)\n",
    "Y_preds_valid = probs_to_preds(Y_probs_valid)\n",
    "metric_score(Y_valid, Y_preds_valid, probs=None, metric=\"f1\")"
   ]
  },
  {
   "cell_type": "markdown",
   "metadata": {},
   "source": [
    "## Now, train a discriminative model with your weak labels! \n",
    "You can then use these training labels to train any standard discriminative model, such as [a state-of-the-art ResNet](https://github.com/KaimingHe/deep-residual-networks), which should learn to generalize beyond the LF's we've developed!\n",
    "\n",
    "The only change needed from standard procedure is to deal with the fact that the training labels Snorkel generates are _probabilistic_ (i.e. for the binary case, in [0,1])— luckily, this is a one-liner in most modern ML frameworks! For example, in TensorFlow, you can use the [cross-entropy loss](https://www.tensorflow.org/versions/r1.1/api_docs/python/tf/nn/sigmoid_cross_entropy_with_logits)."
   ]
  },
  {
   "cell_type": "code",
   "execution_count": null,
   "metadata": {},
   "outputs": [],
   "source": []
  }
 ],
 "metadata": {
  "kernelspec": {
   "display_name": "Python 3",
   "language": "python",
   "name": "python3"
  },
  "language_info": {
   "codemirror_mode": {
    "name": "ipython",
    "version": 3
   },
   "file_extension": ".py",
   "mimetype": "text/x-python",
   "name": "python",
   "nbconvert_exporter": "python",
   "pygments_lexer": "ipython3",
   "version": "3.6.8"
  }
 },
 "nbformat": 4,
 "nbformat_minor": 2
}
