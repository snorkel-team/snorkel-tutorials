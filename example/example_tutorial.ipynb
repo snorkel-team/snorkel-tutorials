{
 "cells": [
  {
   "cell_type": "markdown",
   "metadata": {},
   "source": [
    "## Let's write some LFs!\n",
    "This should be fun!"
   ]
  },
  {
   "cell_type": "code",
   "execution_count": 1,
   "metadata": {},
   "outputs": [],
   "source": [
    "from snorkel.labeling.lf import labeling_function\n",
    "\n",
    "\n",
    "@labeling_function()\n",
    "def lf_1(x):\n",
    "    return 1 if x.n_failures > 10 else 0\n",
    "\n",
    "\n",
    "@labeling_function()\n",
    "def lf_2(x):\n",
    "    return 1 if x.n_successes < 2 else 0"
   ]
  },
  {
   "cell_type": "code",
   "execution_count": 2,
   "metadata": {},
   "outputs": [
    {
     "name": "stdout",
     "output_type": "stream",
     "text": [
      "LF 1 output: 0\n",
      "LF 2 output: 1\n"
     ]
    }
   ],
   "source": [
    "from types import SimpleNamespace\n",
    "\n",
    "x = SimpleNamespace(n_failures=8, n_successes=1)\n",
    "print(\"LF 1 output:\", lf_1(x))\n",
    "print(\"LF 2 output:\", lf_2(x))"
   ]
  }
 ],
 "metadata": {
  "jupytext": {
   "cell_metadata_filter": "-all"
  },
  "kernelspec": {
   "display_name": "Python 3",
   "language": "python",
   "name": "python3"
  },
  "language_info": {
   "codemirror_mode": {
    "name": "ipython",
    "version": 3
   },
   "file_extension": ".py",
   "mimetype": "text/x-python",
   "name": "python",
   "nbconvert_exporter": "python",
   "pygments_lexer": "ipython3",
   "version": "3.6.8"
  }
 },
 "nbformat": 4,
 "nbformat_minor": 2
}
