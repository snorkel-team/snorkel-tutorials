{
 "cells": [
  {
   "cell_type": "markdown",
   "metadata": {},
   "source": [
    "## Let's write some LFs!\n",
    "This should be fun"
   ]
  },
  {
   "cell_type": "code",
   "execution_count": null,
   "metadata": {},
   "outputs": [],
   "source": [
    "from snorkel.labeling.lf import labeling_function\n",
    "\n",
    "\n",
    "@labeling_function()\n",
    "def lf_1(x):\n",
    "    return 1 if x.n_failures > 10 else 0\n",
    "\n",
    "\n",
    "@labeling_function()\n",
    "def lf_2(x):\n",
    "    return 1 if x.n_successes < 2 else 0"
   ]
  },
  {
   "cell_type": "code",
   "execution_count": null,
   "metadata": {},
   "outputs": [],
   "source": [
    "from types import SimpleNamespace\n",
    "\n",
    "x = SimpleNamespace(n_failures=8, n_successes=1)\n",
    "assert lf_1(x) == 0\n",
    "assert lf_2(x) == 1"
   ]
  }
 ],
 "metadata": {
  "jupytext": {
   "cell_metadata_filter": "-all",
   "formats": "ipynb,py:percent",
   "main_language": "python"
  }
 },
 "nbformat": 4,
 "nbformat_minor": 2
}
